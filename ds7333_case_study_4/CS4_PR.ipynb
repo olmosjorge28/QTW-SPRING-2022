{
 "cells": [
  {
   "cell_type": "markdown",
   "id": "persistent-newspaper",
   "metadata": {},
   "source": [
    "# Case Study 4"
   ]
  },
  {
   "cell_type": "code",
   "execution_count": 1,
   "id": "reserved-proxy",
   "metadata": {},
   "outputs": [],
   "source": [
    "import pandas as pd\n",
    "import numpy as np\n",
    "import matplotlib.pyplot as plt\n",
    "%matplotlib inline\n",
    "import warnings\n",
    "warnings.filterwarnings('ignore')\n",
    "import seaborn as sns\n",
    "import missingno as msno\n",
    "from sklearn.preprocessing import scale \n",
    "from sklearn.model_selection import train_test_split\n",
    "from sklearn.metrics import mean_squared_error\n",
    "from sklearn.metrics import accuracy_score\n",
    "from sklearn.model_selection import StratifiedKFold\n",
    "from sklearn.ensemble import RandomForestClassifier\n",
    "from sklearn.ensemble import AdaBoostClassifier"
   ]
  },
  {
   "cell_type": "code",
   "execution_count": 2,
   "id": "leading-groove",
   "metadata": {},
   "outputs": [
    {
     "data": {
      "text/plain": [
       "\"import warnings\\nwarnings.filterwarnings('ignore')\\nfrom warnings import simplefilter \\nsimplefilter(action='ignore', category=FutureWarning)\""
      ]
     },
     "execution_count": 2,
     "metadata": {},
     "output_type": "execute_result"
    }
   ],
   "source": [
    "# standard libraries\n",
    "import pandas as pd\n",
    "import numpy as np\n",
    "#import re\n",
    "import os\n",
    "from IPython.display import Image\n",
    "#import sklearn\n",
    "#import time\n",
    "\n",
    "# visualization\n",
    "import seaborn as sns\n",
    "import matplotlib.pyplot as plt\n",
    "%matplotlib inline\n",
    "from tabulate import tabulate\n",
    "from IPython.display import clear_output\n",
    "\n",
    "# data pre-processing\n",
    "from scipy.io import arff\n",
    "#from sklearn.model_selection import train_test_split\n",
    "from sklearn.impute import SimpleImputer\n",
    "from sklearn.model_selection import StratifiedShuffleSplit\n",
    "\n",
    "# prediction models\n",
    "from sklearn.ensemble import RandomForestClassifier\n",
    "from sklearn.model_selection import cross_val_score\n",
    "from sklearn.metrics import f1_score\n",
    "from sklearn.metrics import confusion_matrix\n",
    "from sklearn.metrics import accuracy_score\n",
    "\n",
    "# import warnings filter\n",
    "'''import warnings\n",
    "warnings.filterwarnings('ignore')\n",
    "from warnings import simplefilter \n",
    "simplefilter(action='ignore', category=FutureWarning)'''"
   ]
  },
  {
   "cell_type": "code",
   "execution_count": 3,
   "id": "vanilla-letters",
   "metadata": {},
   "outputs": [
    {
     "data": {
      "text/plain": [
       "'C:\\\\Users\\\\parit\\\\Documents'"
      ]
     },
     "execution_count": 3,
     "metadata": {},
     "output_type": "execute_result"
    }
   ],
   "source": [
    "from scipy.io import arff\n",
    "import pandas as pd\n",
    "import numpy as np\n",
    "import os\n",
    "\n",
    "os.getcwd()"
   ]
  },
  {
   "cell_type": "code",
   "execution_count": 4,
   "id": "rotary-macintosh",
   "metadata": {},
   "outputs": [
    {
     "data": {
      "text/plain": [
       "'C:\\\\Paritosh\\\\SMU\\\\7333 Quantifying the World\\\\Proj\\\\CS4'"
      ]
     },
     "execution_count": 4,
     "metadata": {},
     "output_type": "execute_result"
    }
   ],
   "source": [
    "path = \"C:\\\\Paritosh\\\\SMU\\\\7333 Quantifying the World\\\\Proj\\\\CS4\\\\\"\n",
    "os.chdir(path)\n",
    "os.getcwd()"
   ]
  },
  {
   "cell_type": "code",
   "execution_count": 5,
   "id": "educated-ensemble",
   "metadata": {},
   "outputs": [
    {
     "data": {
      "text/plain": [
       "['1year.arff', '2year.arff', '3year.arff', '4year.arff', '5year.arff']"
      ]
     },
     "execution_count": 5,
     "metadata": {},
     "output_type": "execute_result"
    }
   ],
   "source": [
    "from os import listdir\n",
    "from os.path import isfile, join\n",
    "dir_files = [f for f in os.listdir(os.getcwd()+'/data') if os.path.isfile(join(os.getcwd()+'/data', f))]\n",
    "\n",
    "dir_files"
   ]
  },
  {
   "cell_type": "code",
   "execution_count": 6,
   "id": "unavailable-passion",
   "metadata": {},
   "outputs": [
    {
     "name": "stdout",
     "output_type": "stream",
     "text": [
      "(7027, 65)\n",
      "(10173, 65)\n",
      "(10503, 65)\n",
      "(9792, 65)\n",
      "(5910, 65)\n",
      "43405\n"
     ]
    }
   ],
   "source": [
    "data_dict = {}\n",
    "full_df = pd.DataFrame()\n",
    "\n",
    "records = 0\n",
    "\n",
    "for f in dir_files:\n",
    "    temp_data = arff.loadarff(os.getcwd()+'/data/'+f)\n",
    "    temp_df = pd.DataFrame(temp_data[0])\n",
    "    print(temp_df.shape)\n",
    "    data_dict.update({f:temp_df})\n",
    "    full_df = pd.concat([full_df, temp_df])\n",
    "    records += temp_df.shape[0]\n",
    "    \n",
    "print(records)"
   ]
  },
  {
   "cell_type": "code",
   "execution_count": 7,
   "id": "similar-bottom",
   "metadata": {},
   "outputs": [
    {
     "data": {
      "text/plain": [
       "(43405, 65)"
      ]
     },
     "execution_count": 7,
     "metadata": {},
     "output_type": "execute_result"
    }
   ],
   "source": [
    "full_df.shape"
   ]
  },
  {
   "cell_type": "code",
   "execution_count": 8,
   "id": "opened-kitchen",
   "metadata": {},
   "outputs": [],
   "source": [
    "full_df=full_df.reset_index(drop=True)"
   ]
  },
  {
   "cell_type": "code",
   "execution_count": 9,
   "id": "automotive-crime",
   "metadata": {},
   "outputs": [
    {
     "data": {
      "text/plain": [
       "RangeIndex(start=0, stop=43405, step=1)"
      ]
     },
     "execution_count": 9,
     "metadata": {},
     "output_type": "execute_result"
    }
   ],
   "source": [
    "full_df.index"
   ]
  },
  {
   "cell_type": "code",
   "execution_count": 10,
   "id": "taken-customs",
   "metadata": {},
   "outputs": [
    {
     "data": {
      "text/plain": [
       "Attr1     0.20055\n",
       "Attr2     0.37951\n",
       "Attr3     0.39641\n",
       "Attr4      2.0472\n",
       "Attr5      32.351\n",
       "           ...   \n",
       "Attr61     5.1372\n",
       "Attr62     82.658\n",
       "Attr63     4.4158\n",
       "Attr64     7.4277\n",
       "class        b'0'\n",
       "Name: 0, Length: 65, dtype: object"
      ]
     },
     "execution_count": 10,
     "metadata": {},
     "output_type": "execute_result"
    }
   ],
   "source": [
    "full_df.iloc[0]"
   ]
  },
  {
   "cell_type": "code",
   "execution_count": 11,
   "id": "afraid-rwanda",
   "metadata": {},
   "outputs": [
    {
     "name": "stdout",
     "output_type": "stream",
     "text": [
      "<class 'pandas.core.frame.DataFrame'>\n",
      "RangeIndex: 43405 entries, 0 to 43404\n",
      "Data columns (total 65 columns):\n",
      " #   Column  Non-Null Count  Dtype  \n",
      "---  ------  --------------  -----  \n",
      " 0   Attr1   43397 non-null  float64\n",
      " 1   Attr2   43397 non-null  float64\n",
      " 2   Attr3   43397 non-null  float64\n",
      " 3   Attr4   43271 non-null  float64\n",
      " 4   Attr5   43316 non-null  float64\n",
      " 5   Attr6   43397 non-null  float64\n",
      " 6   Attr7   43397 non-null  float64\n",
      " 7   Attr8   43311 non-null  float64\n",
      " 8   Attr9   43396 non-null  float64\n",
      " 9   Attr10  43397 non-null  float64\n",
      " 10  Attr11  43361 non-null  float64\n",
      " 11  Attr12  43271 non-null  float64\n",
      " 12  Attr13  43278 non-null  float64\n",
      " 13  Attr14  43397 non-null  float64\n",
      " 14  Attr15  43369 non-null  float64\n",
      " 15  Attr16  43310 non-null  float64\n",
      " 16  Attr17  43311 non-null  float64\n",
      " 17  Attr18  43397 non-null  float64\n",
      " 18  Attr19  43277 non-null  float64\n",
      " 19  Attr20  43278 non-null  float64\n",
      " 20  Attr21  37551 non-null  float64\n",
      " 21  Attr22  43397 non-null  float64\n",
      " 22  Attr23  43278 non-null  float64\n",
      " 23  Attr24  42483 non-null  float64\n",
      " 24  Attr25  43397 non-null  float64\n",
      " 25  Attr26  43310 non-null  float64\n",
      " 26  Attr27  40641 non-null  float64\n",
      " 27  Attr28  42593 non-null  float64\n",
      " 28  Attr29  43397 non-null  float64\n",
      " 29  Attr30  43278 non-null  float64\n",
      " 30  Attr31  43278 non-null  float64\n",
      " 31  Attr32  43037 non-null  float64\n",
      " 32  Attr33  43271 non-null  float64\n",
      " 33  Attr34  43311 non-null  float64\n",
      " 34  Attr35  43397 non-null  float64\n",
      " 35  Attr36  43397 non-null  float64\n",
      " 36  Attr37  24421 non-null  float64\n",
      " 37  Attr38  43397 non-null  float64\n",
      " 38  Attr39  43278 non-null  float64\n",
      " 39  Attr40  43271 non-null  float64\n",
      " 40  Attr41  42651 non-null  float64\n",
      " 41  Attr42  43278 non-null  float64\n",
      " 42  Attr43  43278 non-null  float64\n",
      " 43  Attr44  43278 non-null  float64\n",
      " 44  Attr45  41258 non-null  float64\n",
      " 45  Attr46  43270 non-null  float64\n",
      " 46  Attr47  43108 non-null  float64\n",
      " 47  Attr48  43396 non-null  float64\n",
      " 48  Attr49  43278 non-null  float64\n",
      " 49  Attr50  43311 non-null  float64\n",
      " 50  Attr51  43397 non-null  float64\n",
      " 51  Attr52  43104 non-null  float64\n",
      " 52  Attr53  42593 non-null  float64\n",
      " 53  Attr54  42593 non-null  float64\n",
      " 54  Attr55  43404 non-null  float64\n",
      " 55  Attr56  43278 non-null  float64\n",
      " 56  Attr57  43398 non-null  float64\n",
      " 57  Attr58  43321 non-null  float64\n",
      " 58  Attr59  43398 non-null  float64\n",
      " 59  Attr60  41253 non-null  float64\n",
      " 60  Attr61  43303 non-null  float64\n",
      " 61  Attr62  43278 non-null  float64\n",
      " 62  Attr63  43271 non-null  float64\n",
      " 63  Attr64  42593 non-null  float64\n",
      " 64  class   43405 non-null  object \n",
      "dtypes: float64(64), object(1)\n",
      "memory usage: 21.5+ MB\n"
     ]
    }
   ],
   "source": [
    "full_df.info(verbose=True, null_counts=True)"
   ]
  },
  {
   "cell_type": "code",
   "execution_count": 12,
   "id": "headed-salmon",
   "metadata": {
    "scrolled": true
   },
   "outputs": [
    {
     "data": {
      "text/html": [
       "<div>\n",
       "<style scoped>\n",
       "    .dataframe tbody tr th:only-of-type {\n",
       "        vertical-align: middle;\n",
       "    }\n",
       "\n",
       "    .dataframe tbody tr th {\n",
       "        vertical-align: top;\n",
       "    }\n",
       "\n",
       "    .dataframe thead th {\n",
       "        text-align: right;\n",
       "    }\n",
       "</style>\n",
       "<table border=\"1\" class=\"dataframe\">\n",
       "  <thead>\n",
       "    <tr style=\"text-align: right;\">\n",
       "      <th></th>\n",
       "      <th>Attr1</th>\n",
       "      <th>Attr2</th>\n",
       "      <th>Attr3</th>\n",
       "      <th>Attr4</th>\n",
       "      <th>Attr5</th>\n",
       "      <th>Attr6</th>\n",
       "      <th>Attr7</th>\n",
       "      <th>Attr8</th>\n",
       "      <th>Attr9</th>\n",
       "      <th>Attr10</th>\n",
       "      <th>...</th>\n",
       "      <th>Attr56</th>\n",
       "      <th>Attr57</th>\n",
       "      <th>Attr58</th>\n",
       "      <th>Attr59</th>\n",
       "      <th>Attr60</th>\n",
       "      <th>Attr61</th>\n",
       "      <th>Attr62</th>\n",
       "      <th>Attr63</th>\n",
       "      <th>Attr64</th>\n",
       "      <th>class</th>\n",
       "    </tr>\n",
       "  </thead>\n",
       "  <tbody>\n",
       "    <tr>\n",
       "      <th>0</th>\n",
       "      <td>0.200550</td>\n",
       "      <td>0.37951</td>\n",
       "      <td>0.39641</td>\n",
       "      <td>2.0472</td>\n",
       "      <td>32.3510</td>\n",
       "      <td>0.38825</td>\n",
       "      <td>0.249760</td>\n",
       "      <td>1.33050</td>\n",
       "      <td>1.1389</td>\n",
       "      <td>0.50494</td>\n",
       "      <td>...</td>\n",
       "      <td>0.121960</td>\n",
       "      <td>0.39718</td>\n",
       "      <td>0.87804</td>\n",
       "      <td>0.001924</td>\n",
       "      <td>8.4160</td>\n",
       "      <td>5.1372</td>\n",
       "      <td>82.658</td>\n",
       "      <td>4.4158</td>\n",
       "      <td>7.4277</td>\n",
       "      <td>b'0'</td>\n",
       "    </tr>\n",
       "    <tr>\n",
       "      <th>1</th>\n",
       "      <td>0.209120</td>\n",
       "      <td>0.49988</td>\n",
       "      <td>0.47225</td>\n",
       "      <td>1.9447</td>\n",
       "      <td>14.7860</td>\n",
       "      <td>0.00000</td>\n",
       "      <td>0.258340</td>\n",
       "      <td>0.99601</td>\n",
       "      <td>1.6996</td>\n",
       "      <td>0.49788</td>\n",
       "      <td>...</td>\n",
       "      <td>0.121300</td>\n",
       "      <td>0.42002</td>\n",
       "      <td>0.85300</td>\n",
       "      <td>0.000000</td>\n",
       "      <td>4.1486</td>\n",
       "      <td>3.2732</td>\n",
       "      <td>107.350</td>\n",
       "      <td>3.4000</td>\n",
       "      <td>60.9870</td>\n",
       "      <td>b'0'</td>\n",
       "    </tr>\n",
       "    <tr>\n",
       "      <th>2</th>\n",
       "      <td>0.248660</td>\n",
       "      <td>0.69592</td>\n",
       "      <td>0.26713</td>\n",
       "      <td>1.5548</td>\n",
       "      <td>-1.1523</td>\n",
       "      <td>0.00000</td>\n",
       "      <td>0.309060</td>\n",
       "      <td>0.43695</td>\n",
       "      <td>1.3090</td>\n",
       "      <td>0.30408</td>\n",
       "      <td>...</td>\n",
       "      <td>0.241140</td>\n",
       "      <td>0.81774</td>\n",
       "      <td>0.76599</td>\n",
       "      <td>0.694840</td>\n",
       "      <td>4.9909</td>\n",
       "      <td>3.9510</td>\n",
       "      <td>134.270</td>\n",
       "      <td>2.7185</td>\n",
       "      <td>5.2078</td>\n",
       "      <td>b'0'</td>\n",
       "    </tr>\n",
       "    <tr>\n",
       "      <th>3</th>\n",
       "      <td>0.081483</td>\n",
       "      <td>0.30734</td>\n",
       "      <td>0.45879</td>\n",
       "      <td>2.4928</td>\n",
       "      <td>51.9520</td>\n",
       "      <td>0.14988</td>\n",
       "      <td>0.092704</td>\n",
       "      <td>1.86610</td>\n",
       "      <td>1.0571</td>\n",
       "      <td>0.57353</td>\n",
       "      <td>...</td>\n",
       "      <td>0.054015</td>\n",
       "      <td>0.14207</td>\n",
       "      <td>0.94598</td>\n",
       "      <td>0.000000</td>\n",
       "      <td>4.5746</td>\n",
       "      <td>3.6147</td>\n",
       "      <td>86.435</td>\n",
       "      <td>4.2228</td>\n",
       "      <td>5.5497</td>\n",
       "      <td>b'0'</td>\n",
       "    </tr>\n",
       "    <tr>\n",
       "      <th>4</th>\n",
       "      <td>0.187320</td>\n",
       "      <td>0.61323</td>\n",
       "      <td>0.22960</td>\n",
       "      <td>1.4063</td>\n",
       "      <td>-7.3128</td>\n",
       "      <td>0.18732</td>\n",
       "      <td>0.187320</td>\n",
       "      <td>0.63070</td>\n",
       "      <td>1.1559</td>\n",
       "      <td>0.38677</td>\n",
       "      <td>...</td>\n",
       "      <td>0.134850</td>\n",
       "      <td>0.48431</td>\n",
       "      <td>0.86515</td>\n",
       "      <td>0.124440</td>\n",
       "      <td>6.3985</td>\n",
       "      <td>4.3158</td>\n",
       "      <td>127.210</td>\n",
       "      <td>2.8692</td>\n",
       "      <td>7.8980</td>\n",
       "      <td>b'0'</td>\n",
       "    </tr>\n",
       "  </tbody>\n",
       "</table>\n",
       "<p>5 rows × 65 columns</p>\n",
       "</div>"
      ],
      "text/plain": [
       "      Attr1    Attr2    Attr3   Attr4    Attr5    Attr6     Attr7    Attr8  \\\n",
       "0  0.200550  0.37951  0.39641  2.0472  32.3510  0.38825  0.249760  1.33050   \n",
       "1  0.209120  0.49988  0.47225  1.9447  14.7860  0.00000  0.258340  0.99601   \n",
       "2  0.248660  0.69592  0.26713  1.5548  -1.1523  0.00000  0.309060  0.43695   \n",
       "3  0.081483  0.30734  0.45879  2.4928  51.9520  0.14988  0.092704  1.86610   \n",
       "4  0.187320  0.61323  0.22960  1.4063  -7.3128  0.18732  0.187320  0.63070   \n",
       "\n",
       "    Attr9   Attr10  ...    Attr56   Attr57   Attr58    Attr59  Attr60  Attr61  \\\n",
       "0  1.1389  0.50494  ...  0.121960  0.39718  0.87804  0.001924  8.4160  5.1372   \n",
       "1  1.6996  0.49788  ...  0.121300  0.42002  0.85300  0.000000  4.1486  3.2732   \n",
       "2  1.3090  0.30408  ...  0.241140  0.81774  0.76599  0.694840  4.9909  3.9510   \n",
       "3  1.0571  0.57353  ...  0.054015  0.14207  0.94598  0.000000  4.5746  3.6147   \n",
       "4  1.1559  0.38677  ...  0.134850  0.48431  0.86515  0.124440  6.3985  4.3158   \n",
       "\n",
       "    Attr62  Attr63   Attr64  class  \n",
       "0   82.658  4.4158   7.4277   b'0'  \n",
       "1  107.350  3.4000  60.9870   b'0'  \n",
       "2  134.270  2.7185   5.2078   b'0'  \n",
       "3   86.435  4.2228   5.5497   b'0'  \n",
       "4  127.210  2.8692   7.8980   b'0'  \n",
       "\n",
       "[5 rows x 65 columns]"
      ]
     },
     "execution_count": 12,
     "metadata": {},
     "output_type": "execute_result"
    }
   ],
   "source": [
    "full_df.head()"
   ]
  },
  {
   "cell_type": "code",
   "execution_count": 13,
   "id": "prescription-bride",
   "metadata": {
    "scrolled": false
   },
   "outputs": [
    {
     "data": {
      "text/html": [
       "<div>\n",
       "<style scoped>\n",
       "    .dataframe tbody tr th:only-of-type {\n",
       "        vertical-align: middle;\n",
       "    }\n",
       "\n",
       "    .dataframe tbody tr th {\n",
       "        vertical-align: top;\n",
       "    }\n",
       "\n",
       "    .dataframe thead th {\n",
       "        text-align: right;\n",
       "    }\n",
       "</style>\n",
       "<table border=\"1\" class=\"dataframe\">\n",
       "  <thead>\n",
       "    <tr style=\"text-align: right;\">\n",
       "      <th></th>\n",
       "      <th>Attr1</th>\n",
       "      <th>Attr2</th>\n",
       "      <th>Attr3</th>\n",
       "      <th>Attr4</th>\n",
       "      <th>Attr5</th>\n",
       "      <th>Attr6</th>\n",
       "      <th>Attr7</th>\n",
       "      <th>Attr8</th>\n",
       "      <th>Attr9</th>\n",
       "      <th>Attr10</th>\n",
       "      <th>...</th>\n",
       "      <th>Attr56</th>\n",
       "      <th>Attr57</th>\n",
       "      <th>Attr58</th>\n",
       "      <th>Attr59</th>\n",
       "      <th>Attr60</th>\n",
       "      <th>Attr61</th>\n",
       "      <th>Attr62</th>\n",
       "      <th>Attr63</th>\n",
       "      <th>Attr64</th>\n",
       "      <th>class</th>\n",
       "    </tr>\n",
       "  </thead>\n",
       "  <tbody>\n",
       "    <tr>\n",
       "      <th>43400</th>\n",
       "      <td>0.012898</td>\n",
       "      <td>0.70621</td>\n",
       "      <td>0.038857</td>\n",
       "      <td>1.17220</td>\n",
       "      <td>-18.907</td>\n",
       "      <td>0.00000</td>\n",
       "      <td>0.013981</td>\n",
       "      <td>0.41600</td>\n",
       "      <td>1.67680</td>\n",
       "      <td>0.293790</td>\n",
       "      <td>...</td>\n",
       "      <td>0.020169</td>\n",
       "      <td>0.043904</td>\n",
       "      <td>1.01220</td>\n",
       "      <td>1.259400</td>\n",
       "      <td>13.4720</td>\n",
       "      <td>12.4320</td>\n",
       "      <td>49.117</td>\n",
       "      <td>7.4313</td>\n",
       "      <td>2.27990</td>\n",
       "      <td>b'1'</td>\n",
       "    </tr>\n",
       "    <tr>\n",
       "      <th>43401</th>\n",
       "      <td>-0.578050</td>\n",
       "      <td>0.96702</td>\n",
       "      <td>-0.800850</td>\n",
       "      <td>0.16576</td>\n",
       "      <td>-67.365</td>\n",
       "      <td>-0.57805</td>\n",
       "      <td>-0.578050</td>\n",
       "      <td>-0.40334</td>\n",
       "      <td>0.93979</td>\n",
       "      <td>-0.390040</td>\n",
       "      <td>...</td>\n",
       "      <td>-0.064073</td>\n",
       "      <td>1.482000</td>\n",
       "      <td>1.06410</td>\n",
       "      <td>-0.018084</td>\n",
       "      <td>110.7200</td>\n",
       "      <td>44.7590</td>\n",
       "      <td>81.220</td>\n",
       "      <td>4.4940</td>\n",
       "      <td>5.13050</td>\n",
       "      <td>b'1'</td>\n",
       "    </tr>\n",
       "    <tr>\n",
       "      <th>43402</th>\n",
       "      <td>-0.179050</td>\n",
       "      <td>1.25530</td>\n",
       "      <td>-0.275990</td>\n",
       "      <td>0.74554</td>\n",
       "      <td>-120.440</td>\n",
       "      <td>-0.17905</td>\n",
       "      <td>-0.154930</td>\n",
       "      <td>-0.26018</td>\n",
       "      <td>1.17490</td>\n",
       "      <td>-0.326590</td>\n",
       "      <td>...</td>\n",
       "      <td>0.148880</td>\n",
       "      <td>0.548240</td>\n",
       "      <td>0.85112</td>\n",
       "      <td>-0.522430</td>\n",
       "      <td>9.8526</td>\n",
       "      <td>3.4892</td>\n",
       "      <td>207.870</td>\n",
       "      <td>1.7559</td>\n",
       "      <td>9.95270</td>\n",
       "      <td>b'1'</td>\n",
       "    </tr>\n",
       "    <tr>\n",
       "      <th>43403</th>\n",
       "      <td>-0.108860</td>\n",
       "      <td>0.74394</td>\n",
       "      <td>0.015449</td>\n",
       "      <td>1.08780</td>\n",
       "      <td>-17.003</td>\n",
       "      <td>-0.10886</td>\n",
       "      <td>-0.109180</td>\n",
       "      <td>0.12531</td>\n",
       "      <td>0.84516</td>\n",
       "      <td>0.093224</td>\n",
       "      <td>...</td>\n",
       "      <td>-0.183200</td>\n",
       "      <td>-1.167700</td>\n",
       "      <td>1.18320</td>\n",
       "      <td>6.092400</td>\n",
       "      <td>13.8860</td>\n",
       "      <td>6.0769</td>\n",
       "      <td>83.122</td>\n",
       "      <td>4.3911</td>\n",
       "      <td>0.95575</td>\n",
       "      <td>b'1'</td>\n",
       "    </tr>\n",
       "    <tr>\n",
       "      <th>43404</th>\n",
       "      <td>-0.105370</td>\n",
       "      <td>0.53629</td>\n",
       "      <td>-0.045578</td>\n",
       "      <td>0.91478</td>\n",
       "      <td>-56.068</td>\n",
       "      <td>-0.10537</td>\n",
       "      <td>-0.109940</td>\n",
       "      <td>0.86460</td>\n",
       "      <td>0.95040</td>\n",
       "      <td>0.463670</td>\n",
       "      <td>...</td>\n",
       "      <td>-0.052186</td>\n",
       "      <td>-0.227250</td>\n",
       "      <td>1.05220</td>\n",
       "      <td>0.003196</td>\n",
       "      <td>7.7332</td>\n",
       "      <td>4.7174</td>\n",
       "      <td>136.850</td>\n",
       "      <td>2.6672</td>\n",
       "      <td>2.79270</td>\n",
       "      <td>b'1'</td>\n",
       "    </tr>\n",
       "  </tbody>\n",
       "</table>\n",
       "<p>5 rows × 65 columns</p>\n",
       "</div>"
      ],
      "text/plain": [
       "          Attr1    Attr2     Attr3    Attr4    Attr5    Attr6     Attr7  \\\n",
       "43400  0.012898  0.70621  0.038857  1.17220  -18.907  0.00000  0.013981   \n",
       "43401 -0.578050  0.96702 -0.800850  0.16576  -67.365 -0.57805 -0.578050   \n",
       "43402 -0.179050  1.25530 -0.275990  0.74554 -120.440 -0.17905 -0.154930   \n",
       "43403 -0.108860  0.74394  0.015449  1.08780  -17.003 -0.10886 -0.109180   \n",
       "43404 -0.105370  0.53629 -0.045578  0.91478  -56.068 -0.10537 -0.109940   \n",
       "\n",
       "         Attr8    Attr9    Attr10  ...    Attr56    Attr57   Attr58    Attr59  \\\n",
       "43400  0.41600  1.67680  0.293790  ...  0.020169  0.043904  1.01220  1.259400   \n",
       "43401 -0.40334  0.93979 -0.390040  ... -0.064073  1.482000  1.06410 -0.018084   \n",
       "43402 -0.26018  1.17490 -0.326590  ...  0.148880  0.548240  0.85112 -0.522430   \n",
       "43403  0.12531  0.84516  0.093224  ... -0.183200 -1.167700  1.18320  6.092400   \n",
       "43404  0.86460  0.95040  0.463670  ... -0.052186 -0.227250  1.05220  0.003196   \n",
       "\n",
       "         Attr60   Attr61   Attr62  Attr63   Attr64  class  \n",
       "43400   13.4720  12.4320   49.117  7.4313  2.27990   b'1'  \n",
       "43401  110.7200  44.7590   81.220  4.4940  5.13050   b'1'  \n",
       "43402    9.8526   3.4892  207.870  1.7559  9.95270   b'1'  \n",
       "43403   13.8860   6.0769   83.122  4.3911  0.95575   b'1'  \n",
       "43404    7.7332   4.7174  136.850  2.6672  2.79270   b'1'  \n",
       "\n",
       "[5 rows x 65 columns]"
      ]
     },
     "execution_count": 13,
     "metadata": {},
     "output_type": "execute_result"
    }
   ],
   "source": [
    "full_df.tail()"
   ]
  },
  {
   "cell_type": "code",
   "execution_count": 14,
   "id": "choice-distribution",
   "metadata": {},
   "outputs": [],
   "source": [
    "# review data in excel\n",
    "#full_df.to_excel('C:\\\\Paritosh\\\\SMU\\\\7333 Quantifying the World\\\\Proj\\\\CS4\\\\full_df.xlsx')"
   ]
  },
  {
   "cell_type": "code",
   "execution_count": 15,
   "id": "accurate-equipment",
   "metadata": {},
   "outputs": [
    {
     "data": {
      "text/plain": [
       "<AxesSubplot:>"
      ]
     },
     "execution_count": 15,
     "metadata": {},
     "output_type": "execute_result"
    },
    {
     "data": {
      "image/png": "[encoded data removed]",
      "text/plain": [
       "<Figure size 1800x720 with 2 Axes>"
      ]
     },
     "metadata": {
      "needs_background": "light"
     },
     "output_type": "display_data"
    }
   ],
   "source": [
    "#look at missing values (first 32 features)\n",
    "msno.matrix(full_df.iloc[:, 0:33])"
   ]
  },
  {
   "cell_type": "code",
   "execution_count": 16,
   "id": "plain-swiss",
   "metadata": {},
   "outputs": [
    {
     "data": {
      "text/plain": [
       "<AxesSubplot:>"
      ]
     },
     "execution_count": 16,
     "metadata": {},
     "output_type": "execute_result"
    },
    {
     "data": {
      "image/png": "[encoded data removed]",
      "text/plain": [
       "<Figure size 1800x720 with 2 Axes>"
      ]
     },
     "metadata": {
      "needs_background": "light"
     },
     "output_type": "display_data"
    }
   ],
   "source": [
    "#look at missing values (features X33 to X64 and class)\n",
    "msno.matrix(full_df.iloc[:, 33:66])"
   ]
  },
  {
   "cell_type": "code",
   "execution_count": 17,
   "id": "diagnostic-template",
   "metadata": {},
   "outputs": [
    {
     "data": {
      "text/plain": [
       "Text(0.5, 1.0, 'HeatMap-Correlation Matrix')"
      ]
     },
     "execution_count": 17,
     "metadata": {},
     "output_type": "execute_result"
    },
    {
     "data": {
      "image/png": "[encoded data removed]",
      "text/plain": [
       "<Figure size 1800x1440 with 2 Axes>"
      ]
     },
     "metadata": {
      "needs_background": "light"
     },
     "output_type": "display_data"
    }
   ],
   "source": [
    "#correlations between features - not necessarily an issue with RF and boosting, but could give insight into potential branches\n",
    "plt.figure(figsize=(25, 20))\n",
    "sns.heatmap(full_df.corr(), annot=False)\n",
    "plt.title('HeatMap-Correlation Matrix')"
   ]
  },
  {
   "cell_type": "markdown",
   "id": "remarkable-archives",
   "metadata": {},
   "source": [
    "Two values are maily missing Attr21 and Attr 37. BUt do not see any high coorelation wth any value so immputing from other feature may not be very use. Missing values will be replaced with medium \n",
    "\n"
   ]
  },
  {
   "cell_type": "code",
   "execution_count": 18,
   "id": "latin-slave",
   "metadata": {},
   "outputs": [
    {
     "name": "stdout",
     "output_type": "stream",
     "text": [
      "Size of target vector:  (43405,)\n",
      "==================================================\n",
      "Size of explanatory matrix:  (43405, 64)\n"
     ]
    }
   ],
   "source": [
    "## X for explanatory variables and y for the response variable\n",
    "y = full_df['class']\n",
    "X = full_df.drop('class', axis=1)\n",
    "print('Size of target vector: ', y.shape)\n",
    "print('='*50)\n",
    "print('Size of explanatory matrix: ',X.shape)"
   ]
  },
  {
   "cell_type": "code",
   "execution_count": 19,
   "id": "alpha-israel",
   "metadata": {},
   "outputs": [
    {
     "name": "stdout",
     "output_type": "stream",
     "text": [
      "split between 0 and 1 of binary classes:  \n",
      " -----------------\n",
      "b'0'    41314\n",
      "b'1'     2091\n",
      "Name: class, dtype: int64\n"
     ]
    },
    {
     "data": {
      "text/plain": [
       "'The data looks a bit unbalanced (89:11 split). So, we will use StratifiedKFold to create test and train data'"
      ]
     },
     "execution_count": 19,
     "metadata": {},
     "output_type": "execute_result"
    }
   ],
   "source": [
    "## counting unique values of targets \n",
    "print(\"split between 0 and 1 of binary classes:  \\n\", '-----------------')\n",
    "print(y.value_counts())\n",
    "'''The data looks a bit unbalanced (89:11 split). So, we will use StratifiedKFold to create test and train data'''"
   ]
  },
  {
   "cell_type": "code",
   "execution_count": 23,
   "id": "lightweight-reservation",
   "metadata": {},
   "outputs": [
    {
     "name": "stdout",
     "output_type": "stream",
     "text": [
      "split between 0 and 1 of binary classes:  \n",
      " -----------------\n",
      "b'0'    41314\n",
      "b'1'     2091\n",
      "Name: class, dtype: int64\n"
     ]
    },
    {
     "data": {
      "text/plain": [
       "<AxesSubplot:title={'center':'Bankruptcy Indicator Counts'}>"
      ]
     },
     "execution_count": 23,
     "metadata": {},
     "output_type": "execute_result"
    },
    {
     "data": {
      "image/png": "[encoded data removed]",
      "text/plain": [
       "<Figure size 432x288 with 1 Axes>"
      ]
     },
     "metadata": {
      "needs_background": "light"
     },
     "output_type": "display_data"
    }
   ],
   "source": [
    "## Check target counts\n",
    "print(\"split between 0 and 1 of binary classes:  \\n\", '-----------------')\n",
    "print(y.value_counts())\n",
    "\n",
    "y.value_counts().plot(kind='barh', title='Bankruptcy Indicator Counts')"
   ]
  },
  {
   "cell_type": "code",
   "execution_count": 20,
   "id": "conservative-quilt",
   "metadata": {},
   "outputs": [
    {
     "data": {
      "text/plain": [
       "RangeIndex(start=0, stop=43405, step=1)"
      ]
     },
     "execution_count": 20,
     "metadata": {},
     "output_type": "execute_result"
    }
   ],
   "source": [
    "X.index"
   ]
  },
  {
   "cell_type": "code",
   "execution_count": 21,
   "id": "collectible-packaging",
   "metadata": {},
   "outputs": [
    {
     "data": {
      "text/plain": [
       "'#import data\\nfull_df = pd.read_csv(\"C:\\\\Paritosh\\\\SMU\\\\7333 Quantifying the World\\\\Proj\\\\CS4\\\\full_df.csv\")\\nfull_df = full_df.apply(pd.to_numeric, errors=\\'coerce\\')'"
      ]
     },
     "execution_count": 21,
     "metadata": {},
     "output_type": "execute_result"
    }
   ],
   "source": [
    "'''#import data\n",
    "full_df = pd.read_csv(\"C:\\\\Paritosh\\\\SMU\\\\7333 Quantifying the World\\\\Proj\\\\CS4\\\\full_df.csv\")\n",
    "full_df = full_df.apply(pd.to_numeric, errors='coerce')'''"
   ]
  },
  {
   "cell_type": "code",
   "execution_count": 22,
   "id": "casual-oakland",
   "metadata": {},
   "outputs": [],
   "source": [
    "def strat_shuffle_split(X, y, test_size, random_state):\n",
    "    stratified_shuffle_split = StratifiedShuffleSplit(n_splits=1, test_size=test_size, random_state=random_state)\n",
    "    for train_index, test_index in stratified_shuffle_split.split(X, y):\n",
    "        X_train, X_test = X.iloc[train_index], X.iloc[test_index]\n",
    "        y_train, y_test = y[train_index], y[test_index]\n",
    "    return X_train, X_test, y_train, y_test"
   ]
  },
  {
   "cell_type": "code",
   "execution_count": 33,
   "id": "endless-being",
   "metadata": {},
   "outputs": [],
   "source": [
    "## Creating training and test data - 20% witholding for test set (stratified)\n",
    "from sklearn.model_selection import train_test_split\n",
    "X_train, X_test, y_train, y_test = train_test_split(X, y, stratify=y, test_size=0.3)"
   ]
  },
  {
   "cell_type": "code",
   "execution_count": null,
   "id": "excess-occasions",
   "metadata": {},
   "outputs": [],
   "source": [
    "'''from sklearn.preprocessing import MultiLabelBinarizer  \n",
    "X_train=MultiLabelBinarizer().fit_transform(X_train)\n",
    "X_test_imp=MultiLabelBinarizer().fit_transform(X_test)'''\n",
    "    \n"
   ]
  },
  {
   "cell_type": "code",
   "execution_count": null,
   "id": "nutritional-image",
   "metadata": {},
   "outputs": [],
   "source": []
  },
  {
   "cell_type": "code",
   "execution_count": 24,
   "id": "optical-closer",
   "metadata": {},
   "outputs": [],
   "source": [
    "# Use median imputation since many features are highly skewed\n",
    "\n",
    "imp_mean = SimpleImputer(missing_values=np.nan, strategy='median')\n",
    "imp_mean.fit(X_train)\n",
    "\n",
    "X_train_imp = pd.DataFrame( imp_mean.transform(X_train), columns = X.columns, index = X_train.index )\n",
    "X_test_imp = pd.DataFrame( imp_mean.transform(X_test), columns = X.columns, index = X_test.index )"
   ]
  },
  {
   "cell_type": "code",
   "execution_count": 25,
   "id": "logical-board",
   "metadata": {},
   "outputs": [
    {
     "data": {
      "text/html": [
       "<div>\n",
       "<style scoped>\n",
       "    .dataframe tbody tr th:only-of-type {\n",
       "        vertical-align: middle;\n",
       "    }\n",
       "\n",
       "    .dataframe tbody tr th {\n",
       "        vertical-align: top;\n",
       "    }\n",
       "\n",
       "    .dataframe thead th {\n",
       "        text-align: right;\n",
       "    }\n",
       "</style>\n",
       "<table border=\"1\" class=\"dataframe\">\n",
       "  <thead>\n",
       "    <tr style=\"text-align: right;\">\n",
       "      <th></th>\n",
       "      <th>Attr1</th>\n",
       "      <th>Attr2</th>\n",
       "      <th>Attr3</th>\n",
       "      <th>Attr4</th>\n",
       "      <th>Attr5</th>\n",
       "      <th>Attr6</th>\n",
       "      <th>Attr7</th>\n",
       "      <th>Attr8</th>\n",
       "      <th>Attr9</th>\n",
       "      <th>Attr10</th>\n",
       "      <th>...</th>\n",
       "      <th>Attr55</th>\n",
       "      <th>Attr56</th>\n",
       "      <th>Attr57</th>\n",
       "      <th>Attr58</th>\n",
       "      <th>Attr59</th>\n",
       "      <th>Attr60</th>\n",
       "      <th>Attr61</th>\n",
       "      <th>Attr62</th>\n",
       "      <th>Attr63</th>\n",
       "      <th>Attr64</th>\n",
       "    </tr>\n",
       "  </thead>\n",
       "  <tbody>\n",
       "    <tr>\n",
       "      <th>19844</th>\n",
       "      <td>0.126750</td>\n",
       "      <td>0.111670</td>\n",
       "      <td>0.594480</td>\n",
       "      <td>6.32340</td>\n",
       "      <td>91.9830</td>\n",
       "      <td>0.458410</td>\n",
       "      <td>0.157560</td>\n",
       "      <td>7.90080</td>\n",
       "      <td>1.07550</td>\n",
       "      <td>0.88231</td>\n",
       "      <td>...</td>\n",
       "      <td>26570.00</td>\n",
       "      <td>0.070158</td>\n",
       "      <td>0.143650</td>\n",
       "      <td>0.92984</td>\n",
       "      <td>0.000000</td>\n",
       "      <td>9.3266</td>\n",
       "      <td>5.8410</td>\n",
       "      <td>22.979</td>\n",
       "      <td>15.8840</td>\n",
       "      <td>6.0365</td>\n",
       "    </tr>\n",
       "    <tr>\n",
       "      <th>41074</th>\n",
       "      <td>-0.045747</td>\n",
       "      <td>0.547990</td>\n",
       "      <td>0.353430</td>\n",
       "      <td>1.97210</td>\n",
       "      <td>59.1210</td>\n",
       "      <td>0.000000</td>\n",
       "      <td>-0.045747</td>\n",
       "      <td>0.82485</td>\n",
       "      <td>1.80440</td>\n",
       "      <td>0.45201</td>\n",
       "      <td>...</td>\n",
       "      <td>1045.20</td>\n",
       "      <td>-0.070815</td>\n",
       "      <td>-0.101210</td>\n",
       "      <td>1.07360</td>\n",
       "      <td>0.000000</td>\n",
       "      <td>52.5580</td>\n",
       "      <td>3.5945</td>\n",
       "      <td>73.548</td>\n",
       "      <td>4.9627</td>\n",
       "      <td>6.3762</td>\n",
       "    </tr>\n",
       "    <tr>\n",
       "      <th>13866</th>\n",
       "      <td>0.013214</td>\n",
       "      <td>0.705070</td>\n",
       "      <td>0.081256</td>\n",
       "      <td>1.12620</td>\n",
       "      <td>935.0000</td>\n",
       "      <td>-0.053123</td>\n",
       "      <td>0.014501</td>\n",
       "      <td>0.41830</td>\n",
       "      <td>1.86370</td>\n",
       "      <td>0.29493</td>\n",
       "      <td>...</td>\n",
       "      <td>3472.20</td>\n",
       "      <td>0.014665</td>\n",
       "      <td>0.044805</td>\n",
       "      <td>0.99672</td>\n",
       "      <td>0.065512</td>\n",
       "      <td>11.4470</td>\n",
       "      <td>3.9907</td>\n",
       "      <td>126.060</td>\n",
       "      <td>2.8955</td>\n",
       "      <td>6.7750</td>\n",
       "    </tr>\n",
       "    <tr>\n",
       "      <th>36084</th>\n",
       "      <td>0.070254</td>\n",
       "      <td>0.585060</td>\n",
       "      <td>0.389470</td>\n",
       "      <td>1.66820</td>\n",
       "      <td>-64.5200</td>\n",
       "      <td>-0.010215</td>\n",
       "      <td>0.080989</td>\n",
       "      <td>0.70922</td>\n",
       "      <td>0.86096</td>\n",
       "      <td>0.41494</td>\n",
       "      <td>...</td>\n",
       "      <td>274.35</td>\n",
       "      <td>0.094290</td>\n",
       "      <td>0.169310</td>\n",
       "      <td>0.90607</td>\n",
       "      <td>0.000000</td>\n",
       "      <td>1.6284</td>\n",
       "      <td>2.3636</td>\n",
       "      <td>247.100</td>\n",
       "      <td>1.4772</td>\n",
       "      <td>31.1020</td>\n",
       "    </tr>\n",
       "    <tr>\n",
       "      <th>32658</th>\n",
       "      <td>-0.029575</td>\n",
       "      <td>0.546440</td>\n",
       "      <td>-0.098704</td>\n",
       "      <td>0.75235</td>\n",
       "      <td>-98.8580</td>\n",
       "      <td>0.000000</td>\n",
       "      <td>-0.029575</td>\n",
       "      <td>0.83004</td>\n",
       "      <td>1.27750</td>\n",
       "      <td>0.45356</td>\n",
       "      <td>...</td>\n",
       "      <td>-1132.30</td>\n",
       "      <td>-0.001995</td>\n",
       "      <td>-0.065205</td>\n",
       "      <td>1.02310</td>\n",
       "      <td>0.160830</td>\n",
       "      <td>6.8493</td>\n",
       "      <td>25.9670</td>\n",
       "      <td>113.870</td>\n",
       "      <td>3.2053</td>\n",
       "      <td>1.8246</td>\n",
       "    </tr>\n",
       "    <tr>\n",
       "      <th>...</th>\n",
       "      <td>...</td>\n",
       "      <td>...</td>\n",
       "      <td>...</td>\n",
       "      <td>...</td>\n",
       "      <td>...</td>\n",
       "      <td>...</td>\n",
       "      <td>...</td>\n",
       "      <td>...</td>\n",
       "      <td>...</td>\n",
       "      <td>...</td>\n",
       "      <td>...</td>\n",
       "      <td>...</td>\n",
       "      <td>...</td>\n",
       "      <td>...</td>\n",
       "      <td>...</td>\n",
       "      <td>...</td>\n",
       "      <td>...</td>\n",
       "      <td>...</td>\n",
       "      <td>...</td>\n",
       "      <td>...</td>\n",
       "      <td>...</td>\n",
       "    </tr>\n",
       "    <tr>\n",
       "      <th>38646</th>\n",
       "      <td>0.155400</td>\n",
       "      <td>0.223500</td>\n",
       "      <td>0.577250</td>\n",
       "      <td>3.80010</td>\n",
       "      <td>121.3600</td>\n",
       "      <td>0.000000</td>\n",
       "      <td>0.195310</td>\n",
       "      <td>3.47430</td>\n",
       "      <td>1.36550</td>\n",
       "      <td>0.77650</td>\n",
       "      <td>...</td>\n",
       "      <td>30514.00</td>\n",
       "      <td>0.132850</td>\n",
       "      <td>0.200130</td>\n",
       "      <td>0.86112</td>\n",
       "      <td>0.006109</td>\n",
       "      <td>7.3979</td>\n",
       "      <td>3.5258</td>\n",
       "      <td>55.104</td>\n",
       "      <td>6.6238</td>\n",
       "      <td>6.3044</td>\n",
       "    </tr>\n",
       "    <tr>\n",
       "      <th>35942</th>\n",
       "      <td>0.026766</td>\n",
       "      <td>0.081931</td>\n",
       "      <td>0.551440</td>\n",
       "      <td>7.73050</td>\n",
       "      <td>12.3670</td>\n",
       "      <td>-0.004005</td>\n",
       "      <td>0.034120</td>\n",
       "      <td>11.00400</td>\n",
       "      <td>1.02630</td>\n",
       "      <td>0.90155</td>\n",
       "      <td>...</td>\n",
       "      <td>59681.00</td>\n",
       "      <td>0.025651</td>\n",
       "      <td>0.029689</td>\n",
       "      <td>0.97435</td>\n",
       "      <td>0.000000</td>\n",
       "      <td>4.4133</td>\n",
       "      <td>9.6074</td>\n",
       "      <td>26.561</td>\n",
       "      <td>13.7420</td>\n",
       "      <td>3.0709</td>\n",
       "    </tr>\n",
       "    <tr>\n",
       "      <th>7376</th>\n",
       "      <td>0.486900</td>\n",
       "      <td>0.472310</td>\n",
       "      <td>0.527570</td>\n",
       "      <td>2.11700</td>\n",
       "      <td>268.2400</td>\n",
       "      <td>-0.035479</td>\n",
       "      <td>0.597120</td>\n",
       "      <td>1.11720</td>\n",
       "      <td>0.99641</td>\n",
       "      <td>0.52769</td>\n",
       "      <td>...</td>\n",
       "      <td>1383.40</td>\n",
       "      <td>0.602600</td>\n",
       "      <td>0.922700</td>\n",
       "      <td>0.40121</td>\n",
       "      <td>0.000000</td>\n",
       "      <td>4.3595</td>\n",
       "      <td>1.5121</td>\n",
       "      <td>173.020</td>\n",
       "      <td>2.1096</td>\n",
       "      <td>8242.5000</td>\n",
       "    </tr>\n",
       "    <tr>\n",
       "      <th>36002</th>\n",
       "      <td>-0.041583</td>\n",
       "      <td>0.526610</td>\n",
       "      <td>0.473390</td>\n",
       "      <td>1.89890</td>\n",
       "      <td>5.8601</td>\n",
       "      <td>0.000000</td>\n",
       "      <td>-0.041583</td>\n",
       "      <td>0.89893</td>\n",
       "      <td>2.55800</td>\n",
       "      <td>0.47339</td>\n",
       "      <td>...</td>\n",
       "      <td>2144.40</td>\n",
       "      <td>-0.012694</td>\n",
       "      <td>-0.087841</td>\n",
       "      <td>1.01620</td>\n",
       "      <td>0.000000</td>\n",
       "      <td>6.0306</td>\n",
       "      <td>4.5039</td>\n",
       "      <td>75.141</td>\n",
       "      <td>4.8575</td>\n",
       "      <td>4.3131</td>\n",
       "    </tr>\n",
       "    <tr>\n",
       "      <th>2008</th>\n",
       "      <td>0.289560</td>\n",
       "      <td>0.498400</td>\n",
       "      <td>0.433680</td>\n",
       "      <td>2.09600</td>\n",
       "      <td>89.2060</td>\n",
       "      <td>0.000000</td>\n",
       "      <td>0.289560</td>\n",
       "      <td>1.00640</td>\n",
       "      <td>1.86370</td>\n",
       "      <td>0.50160</td>\n",
       "      <td>...</td>\n",
       "      <td>3059.50</td>\n",
       "      <td>0.326030</td>\n",
       "      <td>0.577270</td>\n",
       "      <td>0.67459</td>\n",
       "      <td>0.142910</td>\n",
       "      <td>15.6310</td>\n",
       "      <td>3.7730</td>\n",
       "      <td>77.493</td>\n",
       "      <td>4.7101</td>\n",
       "      <td>10.9220</td>\n",
       "    </tr>\n",
       "  </tbody>\n",
       "</table>\n",
       "<p>30383 rows × 64 columns</p>\n",
       "</div>"
      ],
      "text/plain": [
       "          Attr1     Attr2     Attr3    Attr4     Attr5     Attr6     Attr7  \\\n",
       "19844  0.126750  0.111670  0.594480  6.32340   91.9830  0.458410  0.157560   \n",
       "41074 -0.045747  0.547990  0.353430  1.97210   59.1210  0.000000 -0.045747   \n",
       "13866  0.013214  0.705070  0.081256  1.12620  935.0000 -0.053123  0.014501   \n",
       "36084  0.070254  0.585060  0.389470  1.66820  -64.5200 -0.010215  0.080989   \n",
       "32658 -0.029575  0.546440 -0.098704  0.75235  -98.8580  0.000000 -0.029575   \n",
       "...         ...       ...       ...      ...       ...       ...       ...   \n",
       "38646  0.155400  0.223500  0.577250  3.80010  121.3600  0.000000  0.195310   \n",
       "35942  0.026766  0.081931  0.551440  7.73050   12.3670 -0.004005  0.034120   \n",
       "7376   0.486900  0.472310  0.527570  2.11700  268.2400 -0.035479  0.597120   \n",
       "36002 -0.041583  0.526610  0.473390  1.89890    5.8601  0.000000 -0.041583   \n",
       "2008   0.289560  0.498400  0.433680  2.09600   89.2060  0.000000  0.289560   \n",
       "\n",
       "          Attr8    Attr9   Attr10  ...    Attr55    Attr56    Attr57   Attr58  \\\n",
       "19844   7.90080  1.07550  0.88231  ...  26570.00  0.070158  0.143650  0.92984   \n",
       "41074   0.82485  1.80440  0.45201  ...   1045.20 -0.070815 -0.101210  1.07360   \n",
       "13866   0.41830  1.86370  0.29493  ...   3472.20  0.014665  0.044805  0.99672   \n",
       "36084   0.70922  0.86096  0.41494  ...    274.35  0.094290  0.169310  0.90607   \n",
       "32658   0.83004  1.27750  0.45356  ...  -1132.30 -0.001995 -0.065205  1.02310   \n",
       "...         ...      ...      ...  ...       ...       ...       ...      ...   \n",
       "38646   3.47430  1.36550  0.77650  ...  30514.00  0.132850  0.200130  0.86112   \n",
       "35942  11.00400  1.02630  0.90155  ...  59681.00  0.025651  0.029689  0.97435   \n",
       "7376    1.11720  0.99641  0.52769  ...   1383.40  0.602600  0.922700  0.40121   \n",
       "36002   0.89893  2.55800  0.47339  ...   2144.40 -0.012694 -0.087841  1.01620   \n",
       "2008    1.00640  1.86370  0.50160  ...   3059.50  0.326030  0.577270  0.67459   \n",
       "\n",
       "         Attr59   Attr60   Attr61   Attr62   Attr63     Attr64  \n",
       "19844  0.000000   9.3266   5.8410   22.979  15.8840     6.0365  \n",
       "41074  0.000000  52.5580   3.5945   73.548   4.9627     6.3762  \n",
       "13866  0.065512  11.4470   3.9907  126.060   2.8955     6.7750  \n",
       "36084  0.000000   1.6284   2.3636  247.100   1.4772    31.1020  \n",
       "32658  0.160830   6.8493  25.9670  113.870   3.2053     1.8246  \n",
       "...         ...      ...      ...      ...      ...        ...  \n",
       "38646  0.006109   7.3979   3.5258   55.104   6.6238     6.3044  \n",
       "35942  0.000000   4.4133   9.6074   26.561  13.7420     3.0709  \n",
       "7376   0.000000   4.3595   1.5121  173.020   2.1096  8242.5000  \n",
       "36002  0.000000   6.0306   4.5039   75.141   4.8575     4.3131  \n",
       "2008   0.142910  15.6310   3.7730   77.493   4.7101    10.9220  \n",
       "\n",
       "[30383 rows x 64 columns]"
      ]
     },
     "execution_count": 25,
     "metadata": {},
     "output_type": "execute_result"
    }
   ],
   "source": [
    "X_train_imp"
   ]
  },
  {
   "cell_type": "code",
   "execution_count": null,
   "id": "pediatric-bridal",
   "metadata": {},
   "outputs": [],
   "source": []
  },
  {
   "cell_type": "code",
   "execution_count": null,
   "id": "molecular-desperate",
   "metadata": {},
   "outputs": [],
   "source": []
  },
  {
   "cell_type": "code",
   "execution_count": 26,
   "id": "gentle-pharmaceutical",
   "metadata": {},
   "outputs": [
    {
     "data": {
      "text/plain": [
       "b'0'    0.951815\n",
       "b'1'    0.048185\n",
       "Name: class, dtype: float64"
      ]
     },
     "execution_count": 26,
     "metadata": {},
     "output_type": "execute_result"
    }
   ],
   "source": [
    "y_train.value_counts(normalize=True)"
   ]
  },
  {
   "cell_type": "code",
   "execution_count": 27,
   "id": "becoming-saturday",
   "metadata": {},
   "outputs": [
    {
     "data": {
      "text/plain": [
       "b'0'    0.951851\n",
       "b'1'    0.048149\n",
       "Name: class, dtype: float64"
      ]
     },
     "execution_count": 27,
     "metadata": {},
     "output_type": "execute_result"
    }
   ],
   "source": [
    "y_test.value_counts(normalize=True)"
   ]
  },
  {
   "cell_type": "code",
   "execution_count": 28,
   "id": "secure-copying",
   "metadata": {},
   "outputs": [
    {
     "data": {
      "text/html": [
       "<div>\n",
       "<style scoped>\n",
       "    .dataframe tbody tr th:only-of-type {\n",
       "        vertical-align: middle;\n",
       "    }\n",
       "\n",
       "    .dataframe tbody tr th {\n",
       "        vertical-align: top;\n",
       "    }\n",
       "\n",
       "    .dataframe thead th {\n",
       "        text-align: right;\n",
       "    }\n",
       "</style>\n",
       "<table border=\"1\" class=\"dataframe\">\n",
       "  <thead>\n",
       "    <tr style=\"text-align: right;\">\n",
       "      <th></th>\n",
       "      <th>Attr1</th>\n",
       "      <th>Attr2</th>\n",
       "      <th>Attr3</th>\n",
       "      <th>Attr4</th>\n",
       "      <th>Attr5</th>\n",
       "      <th>Attr6</th>\n",
       "      <th>Attr7</th>\n",
       "      <th>Attr8</th>\n",
       "      <th>Attr9</th>\n",
       "      <th>Attr10</th>\n",
       "      <th>...</th>\n",
       "      <th>Attr55</th>\n",
       "      <th>Attr56</th>\n",
       "      <th>Attr57</th>\n",
       "      <th>Attr58</th>\n",
       "      <th>Attr59</th>\n",
       "      <th>Attr60</th>\n",
       "      <th>Attr61</th>\n",
       "      <th>Attr62</th>\n",
       "      <th>Attr63</th>\n",
       "      <th>Attr64</th>\n",
       "    </tr>\n",
       "  </thead>\n",
       "  <tbody>\n",
       "    <tr>\n",
       "      <th>19844</th>\n",
       "      <td>0.126750</td>\n",
       "      <td>0.111670</td>\n",
       "      <td>0.594480</td>\n",
       "      <td>6.32340</td>\n",
       "      <td>91.9830</td>\n",
       "      <td>0.458410</td>\n",
       "      <td>0.157560</td>\n",
       "      <td>7.90080</td>\n",
       "      <td>1.07550</td>\n",
       "      <td>0.88231</td>\n",
       "      <td>...</td>\n",
       "      <td>26570.00</td>\n",
       "      <td>0.070158</td>\n",
       "      <td>0.143650</td>\n",
       "      <td>0.92984</td>\n",
       "      <td>0.000000</td>\n",
       "      <td>9.3266</td>\n",
       "      <td>5.8410</td>\n",
       "      <td>22.979</td>\n",
       "      <td>15.8840</td>\n",
       "      <td>6.0365</td>\n",
       "    </tr>\n",
       "    <tr>\n",
       "      <th>41074</th>\n",
       "      <td>-0.045747</td>\n",
       "      <td>0.547990</td>\n",
       "      <td>0.353430</td>\n",
       "      <td>1.97210</td>\n",
       "      <td>59.1210</td>\n",
       "      <td>0.000000</td>\n",
       "      <td>-0.045747</td>\n",
       "      <td>0.82485</td>\n",
       "      <td>1.80440</td>\n",
       "      <td>0.45201</td>\n",
       "      <td>...</td>\n",
       "      <td>1045.20</td>\n",
       "      <td>-0.070815</td>\n",
       "      <td>-0.101210</td>\n",
       "      <td>1.07360</td>\n",
       "      <td>0.000000</td>\n",
       "      <td>52.5580</td>\n",
       "      <td>3.5945</td>\n",
       "      <td>73.548</td>\n",
       "      <td>4.9627</td>\n",
       "      <td>6.3762</td>\n",
       "    </tr>\n",
       "    <tr>\n",
       "      <th>13866</th>\n",
       "      <td>0.013214</td>\n",
       "      <td>0.705070</td>\n",
       "      <td>0.081256</td>\n",
       "      <td>1.12620</td>\n",
       "      <td>935.0000</td>\n",
       "      <td>-0.053123</td>\n",
       "      <td>0.014501</td>\n",
       "      <td>0.41830</td>\n",
       "      <td>1.86370</td>\n",
       "      <td>0.29493</td>\n",
       "      <td>...</td>\n",
       "      <td>3472.20</td>\n",
       "      <td>0.014665</td>\n",
       "      <td>0.044805</td>\n",
       "      <td>0.99672</td>\n",
       "      <td>0.065512</td>\n",
       "      <td>11.4470</td>\n",
       "      <td>3.9907</td>\n",
       "      <td>126.060</td>\n",
       "      <td>2.8955</td>\n",
       "      <td>6.7750</td>\n",
       "    </tr>\n",
       "    <tr>\n",
       "      <th>36084</th>\n",
       "      <td>0.070254</td>\n",
       "      <td>0.585060</td>\n",
       "      <td>0.389470</td>\n",
       "      <td>1.66820</td>\n",
       "      <td>-64.5200</td>\n",
       "      <td>-0.010215</td>\n",
       "      <td>0.080989</td>\n",
       "      <td>0.70922</td>\n",
       "      <td>0.86096</td>\n",
       "      <td>0.41494</td>\n",
       "      <td>...</td>\n",
       "      <td>274.35</td>\n",
       "      <td>0.094290</td>\n",
       "      <td>0.169310</td>\n",
       "      <td>0.90607</td>\n",
       "      <td>0.000000</td>\n",
       "      <td>1.6284</td>\n",
       "      <td>2.3636</td>\n",
       "      <td>247.100</td>\n",
       "      <td>1.4772</td>\n",
       "      <td>31.1020</td>\n",
       "    </tr>\n",
       "    <tr>\n",
       "      <th>32658</th>\n",
       "      <td>-0.029575</td>\n",
       "      <td>0.546440</td>\n",
       "      <td>-0.098704</td>\n",
       "      <td>0.75235</td>\n",
       "      <td>-98.8580</td>\n",
       "      <td>0.000000</td>\n",
       "      <td>-0.029575</td>\n",
       "      <td>0.83004</td>\n",
       "      <td>1.27750</td>\n",
       "      <td>0.45356</td>\n",
       "      <td>...</td>\n",
       "      <td>-1132.30</td>\n",
       "      <td>-0.001995</td>\n",
       "      <td>-0.065205</td>\n",
       "      <td>1.02310</td>\n",
       "      <td>0.160830</td>\n",
       "      <td>6.8493</td>\n",
       "      <td>25.9670</td>\n",
       "      <td>113.870</td>\n",
       "      <td>3.2053</td>\n",
       "      <td>1.8246</td>\n",
       "    </tr>\n",
       "    <tr>\n",
       "      <th>...</th>\n",
       "      <td>...</td>\n",
       "      <td>...</td>\n",
       "      <td>...</td>\n",
       "      <td>...</td>\n",
       "      <td>...</td>\n",
       "      <td>...</td>\n",
       "      <td>...</td>\n",
       "      <td>...</td>\n",
       "      <td>...</td>\n",
       "      <td>...</td>\n",
       "      <td>...</td>\n",
       "      <td>...</td>\n",
       "      <td>...</td>\n",
       "      <td>...</td>\n",
       "      <td>...</td>\n",
       "      <td>...</td>\n",
       "      <td>...</td>\n",
       "      <td>...</td>\n",
       "      <td>...</td>\n",
       "      <td>...</td>\n",
       "      <td>...</td>\n",
       "    </tr>\n",
       "    <tr>\n",
       "      <th>38646</th>\n",
       "      <td>0.155400</td>\n",
       "      <td>0.223500</td>\n",
       "      <td>0.577250</td>\n",
       "      <td>3.80010</td>\n",
       "      <td>121.3600</td>\n",
       "      <td>0.000000</td>\n",
       "      <td>0.195310</td>\n",
       "      <td>3.47430</td>\n",
       "      <td>1.36550</td>\n",
       "      <td>0.77650</td>\n",
       "      <td>...</td>\n",
       "      <td>30514.00</td>\n",
       "      <td>0.132850</td>\n",
       "      <td>0.200130</td>\n",
       "      <td>0.86112</td>\n",
       "      <td>0.006109</td>\n",
       "      <td>7.3979</td>\n",
       "      <td>3.5258</td>\n",
       "      <td>55.104</td>\n",
       "      <td>6.6238</td>\n",
       "      <td>6.3044</td>\n",
       "    </tr>\n",
       "    <tr>\n",
       "      <th>35942</th>\n",
       "      <td>0.026766</td>\n",
       "      <td>0.081931</td>\n",
       "      <td>0.551440</td>\n",
       "      <td>7.73050</td>\n",
       "      <td>12.3670</td>\n",
       "      <td>-0.004005</td>\n",
       "      <td>0.034120</td>\n",
       "      <td>11.00400</td>\n",
       "      <td>1.02630</td>\n",
       "      <td>0.90155</td>\n",
       "      <td>...</td>\n",
       "      <td>59681.00</td>\n",
       "      <td>0.025651</td>\n",
       "      <td>0.029689</td>\n",
       "      <td>0.97435</td>\n",
       "      <td>0.000000</td>\n",
       "      <td>4.4133</td>\n",
       "      <td>9.6074</td>\n",
       "      <td>26.561</td>\n",
       "      <td>13.7420</td>\n",
       "      <td>3.0709</td>\n",
       "    </tr>\n",
       "    <tr>\n",
       "      <th>7376</th>\n",
       "      <td>0.486900</td>\n",
       "      <td>0.472310</td>\n",
       "      <td>0.527570</td>\n",
       "      <td>2.11700</td>\n",
       "      <td>268.2400</td>\n",
       "      <td>-0.035479</td>\n",
       "      <td>0.597120</td>\n",
       "      <td>1.11720</td>\n",
       "      <td>0.99641</td>\n",
       "      <td>0.52769</td>\n",
       "      <td>...</td>\n",
       "      <td>1383.40</td>\n",
       "      <td>0.602600</td>\n",
       "      <td>0.922700</td>\n",
       "      <td>0.40121</td>\n",
       "      <td>0.000000</td>\n",
       "      <td>4.3595</td>\n",
       "      <td>1.5121</td>\n",
       "      <td>173.020</td>\n",
       "      <td>2.1096</td>\n",
       "      <td>8242.5000</td>\n",
       "    </tr>\n",
       "    <tr>\n",
       "      <th>36002</th>\n",
       "      <td>-0.041583</td>\n",
       "      <td>0.526610</td>\n",
       "      <td>0.473390</td>\n",
       "      <td>1.89890</td>\n",
       "      <td>5.8601</td>\n",
       "      <td>0.000000</td>\n",
       "      <td>-0.041583</td>\n",
       "      <td>0.89893</td>\n",
       "      <td>2.55800</td>\n",
       "      <td>0.47339</td>\n",
       "      <td>...</td>\n",
       "      <td>2144.40</td>\n",
       "      <td>-0.012694</td>\n",
       "      <td>-0.087841</td>\n",
       "      <td>1.01620</td>\n",
       "      <td>0.000000</td>\n",
       "      <td>6.0306</td>\n",
       "      <td>4.5039</td>\n",
       "      <td>75.141</td>\n",
       "      <td>4.8575</td>\n",
       "      <td>4.3131</td>\n",
       "    </tr>\n",
       "    <tr>\n",
       "      <th>2008</th>\n",
       "      <td>0.289560</td>\n",
       "      <td>0.498400</td>\n",
       "      <td>0.433680</td>\n",
       "      <td>2.09600</td>\n",
       "      <td>89.2060</td>\n",
       "      <td>0.000000</td>\n",
       "      <td>0.289560</td>\n",
       "      <td>1.00640</td>\n",
       "      <td>1.86370</td>\n",
       "      <td>0.50160</td>\n",
       "      <td>...</td>\n",
       "      <td>3059.50</td>\n",
       "      <td>0.326030</td>\n",
       "      <td>0.577270</td>\n",
       "      <td>0.67459</td>\n",
       "      <td>0.142910</td>\n",
       "      <td>15.6310</td>\n",
       "      <td>3.7730</td>\n",
       "      <td>77.493</td>\n",
       "      <td>4.7101</td>\n",
       "      <td>10.9220</td>\n",
       "    </tr>\n",
       "  </tbody>\n",
       "</table>\n",
       "<p>30383 rows × 64 columns</p>\n",
       "</div>"
      ],
      "text/plain": [
       "          Attr1     Attr2     Attr3    Attr4     Attr5     Attr6     Attr7  \\\n",
       "19844  0.126750  0.111670  0.594480  6.32340   91.9830  0.458410  0.157560   \n",
       "41074 -0.045747  0.547990  0.353430  1.97210   59.1210  0.000000 -0.045747   \n",
       "13866  0.013214  0.705070  0.081256  1.12620  935.0000 -0.053123  0.014501   \n",
       "36084  0.070254  0.585060  0.389470  1.66820  -64.5200 -0.010215  0.080989   \n",
       "32658 -0.029575  0.546440 -0.098704  0.75235  -98.8580  0.000000 -0.029575   \n",
       "...         ...       ...       ...      ...       ...       ...       ...   \n",
       "38646  0.155400  0.223500  0.577250  3.80010  121.3600  0.000000  0.195310   \n",
       "35942  0.026766  0.081931  0.551440  7.73050   12.3670 -0.004005  0.034120   \n",
       "7376   0.486900  0.472310  0.527570  2.11700  268.2400 -0.035479  0.597120   \n",
       "36002 -0.041583  0.526610  0.473390  1.89890    5.8601  0.000000 -0.041583   \n",
       "2008   0.289560  0.498400  0.433680  2.09600   89.2060  0.000000  0.289560   \n",
       "\n",
       "          Attr8    Attr9   Attr10  ...    Attr55    Attr56    Attr57   Attr58  \\\n",
       "19844   7.90080  1.07550  0.88231  ...  26570.00  0.070158  0.143650  0.92984   \n",
       "41074   0.82485  1.80440  0.45201  ...   1045.20 -0.070815 -0.101210  1.07360   \n",
       "13866   0.41830  1.86370  0.29493  ...   3472.20  0.014665  0.044805  0.99672   \n",
       "36084   0.70922  0.86096  0.41494  ...    274.35  0.094290  0.169310  0.90607   \n",
       "32658   0.83004  1.27750  0.45356  ...  -1132.30 -0.001995 -0.065205  1.02310   \n",
       "...         ...      ...      ...  ...       ...       ...       ...      ...   \n",
       "38646   3.47430  1.36550  0.77650  ...  30514.00  0.132850  0.200130  0.86112   \n",
       "35942  11.00400  1.02630  0.90155  ...  59681.00  0.025651  0.029689  0.97435   \n",
       "7376    1.11720  0.99641  0.52769  ...   1383.40  0.602600  0.922700  0.40121   \n",
       "36002   0.89893  2.55800  0.47339  ...   2144.40 -0.012694 -0.087841  1.01620   \n",
       "2008    1.00640  1.86370  0.50160  ...   3059.50  0.326030  0.577270  0.67459   \n",
       "\n",
       "         Attr59   Attr60   Attr61   Attr62   Attr63     Attr64  \n",
       "19844  0.000000   9.3266   5.8410   22.979  15.8840     6.0365  \n",
       "41074  0.000000  52.5580   3.5945   73.548   4.9627     6.3762  \n",
       "13866  0.065512  11.4470   3.9907  126.060   2.8955     6.7750  \n",
       "36084  0.000000   1.6284   2.3636  247.100   1.4772    31.1020  \n",
       "32658  0.160830   6.8493  25.9670  113.870   3.2053     1.8246  \n",
       "...         ...      ...      ...      ...      ...        ...  \n",
       "38646  0.006109   7.3979   3.5258   55.104   6.6238     6.3044  \n",
       "35942  0.000000   4.4133   9.6074   26.561  13.7420     3.0709  \n",
       "7376   0.000000   4.3595   1.5121  173.020   2.1096  8242.5000  \n",
       "36002  0.000000   6.0306   4.5039   75.141   4.8575     4.3131  \n",
       "2008   0.142910  15.6310   3.7730   77.493   4.7101    10.9220  \n",
       "\n",
       "[30383 rows x 64 columns]"
      ]
     },
     "execution_count": 28,
     "metadata": {},
     "output_type": "execute_result"
    }
   ],
   "source": [
    "X_train_imp"
   ]
  },
  {
   "cell_type": "code",
   "execution_count": 29,
   "id": "sunset-insert",
   "metadata": {},
   "outputs": [
    {
     "data": {
      "text/plain": [
       "(30383, 64)"
      ]
     },
     "execution_count": 29,
     "metadata": {},
     "output_type": "execute_result"
    }
   ],
   "source": [
    "X_train_imp.shape"
   ]
  },
  {
   "cell_type": "code",
   "execution_count": 30,
   "id": "original-probe",
   "metadata": {},
   "outputs": [
    {
     "data": {
      "text/plain": [
       "(13022, 64)"
      ]
     },
     "execution_count": 30,
     "metadata": {},
     "output_type": "execute_result"
    }
   ],
   "source": [
    "X_test_imp.shape"
   ]
  },
  {
   "cell_type": "code",
   "execution_count": 31,
   "id": "cubic-blair",
   "metadata": {},
   "outputs": [],
   "source": [
    "#Grid Search for best Random Forest Parameters (gridsearch will use stratified cv by default if cv# is specified)\n",
    "#code taken from https://scikit-learn.org/stable/auto_examples/model_selection/plot_grid_search_digits.html\n",
    "from sklearn.model_selection import GridSearchCV\n",
    "from sklearn.metrics import classification_report\n",
    "\n",
    "def runGridSearchCV(clf_model, tuned_parameters, scores):\n",
    "    for score in scores:\n",
    "        print(\"# Tuning hyper-parameters for %s\" % score)\n",
    "        print()\n",
    "\n",
    "        clf = GridSearchCV(\n",
    "            #RandomForestClassifier(class_weight = 'balanced'), tuned_parameters, n_jobs=-1, scoring='%s' % score\n",
    "            clf_model, tuned_parameters, n_jobs=-1, scoring='%s' % score\n",
    "        )\n",
    "        clf.fit(X_train_imp, y_train)\n",
    "\n",
    "        print(\"Best parameters set found on training set:\")\n",
    "        print()\n",
    "        print(clf.best_params_)\n",
    "        print()\n",
    "        print(\"Grid scores on training set:\")\n",
    "        print()\n",
    "        means = clf.cv_results_['mean_test_score']\n",
    "        stds = clf.cv_results_['std_test_score']\n",
    "        for mean, std, params in zip(means, stds, clf.cv_results_['params']):\n",
    "            print(\"%0.3f (+/-%0.03f) for %r\"\n",
    "                  % (mean, std * 2, params))\n",
    "        print()\n",
    "\n",
    "        print(\"Detailed classification report:\")\n",
    "        print()\n",
    "        print(\"The model is trained on the full training set.\")\n",
    "        print(\"The scores are computed on the full test set.\")\n",
    "        print()\n",
    "        y_true, y_pred = y_test, clf.predict(X_test_imp)\n",
    "        print(classification_report(y_true, y_pred))\n",
    "        print()\n",
    "        return clf"
   ]
  },
  {
   "cell_type": "code",
   "execution_count": 32,
   "id": "threaded-sacrifice",
   "metadata": {},
   "outputs": [
    {
     "name": "stdout",
     "output_type": "stream",
     "text": [
      "# Tuning hyper-parameters for recall\n",
      "\n"
     ]
    },
    {
     "ename": "ValueError",
     "evalue": "You appear to be using a legacy multi-label data representation. Sequence of sequences are no longer supported; use a binary array or sparse matrix instead - the MultiLabelBinarizer transformer can convert to this format.",
     "output_type": "error",
     "traceback": [
      "\u001b[1;31m---------------------------------------------------------------------------\u001b[0m",
      "\u001b[1;31mValueError\u001b[0m                                Traceback (most recent call last)",
      "\u001b[1;32m<timed exec>\u001b[0m in \u001b[0;36m<module>\u001b[1;34m\u001b[0m\n",
      "\u001b[1;32m<ipython-input-31-413f1f01a848>\u001b[0m in \u001b[0;36mrunGridSearchCV\u001b[1;34m(clf_model, tuned_parameters, scores)\u001b[0m\n\u001b[0;32m     13\u001b[0m             \u001b[0mclf_model\u001b[0m\u001b[1;33m,\u001b[0m \u001b[0mtuned_parameters\u001b[0m\u001b[1;33m,\u001b[0m \u001b[0mn_jobs\u001b[0m\u001b[1;33m=\u001b[0m\u001b[1;33m-\u001b[0m\u001b[1;36m1\u001b[0m\u001b[1;33m,\u001b[0m \u001b[0mscoring\u001b[0m\u001b[1;33m=\u001b[0m\u001b[1;34m'%s'\u001b[0m \u001b[1;33m%\u001b[0m \u001b[0mscore\u001b[0m\u001b[1;33m\u001b[0m\u001b[1;33m\u001b[0m\u001b[0m\n\u001b[0;32m     14\u001b[0m         )\n\u001b[1;32m---> 15\u001b[1;33m         \u001b[0mclf\u001b[0m\u001b[1;33m.\u001b[0m\u001b[0mfit\u001b[0m\u001b[1;33m(\u001b[0m\u001b[0mX_train_imp\u001b[0m\u001b[1;33m,\u001b[0m \u001b[0my_train\u001b[0m\u001b[1;33m)\u001b[0m\u001b[1;33m\u001b[0m\u001b[1;33m\u001b[0m\u001b[0m\n\u001b[0m\u001b[0;32m     16\u001b[0m \u001b[1;33m\u001b[0m\u001b[0m\n\u001b[0;32m     17\u001b[0m         \u001b[0mprint\u001b[0m\u001b[1;33m(\u001b[0m\u001b[1;34m\"Best parameters set found on training set:\"\u001b[0m\u001b[1;33m)\u001b[0m\u001b[1;33m\u001b[0m\u001b[1;33m\u001b[0m\u001b[0m\n",
      "\u001b[1;32m~\\Anaconda\\lib\\site-packages\\sklearn\\model_selection\\_search.py\u001b[0m in \u001b[0;36mfit\u001b[1;34m(self, X, y, groups, **fit_params)\u001b[0m\n\u001b[0;32m    800\u001b[0m         \u001b[0mfit_params\u001b[0m \u001b[1;33m=\u001b[0m \u001b[0m_check_fit_params\u001b[0m\u001b[1;33m(\u001b[0m\u001b[0mX\u001b[0m\u001b[1;33m,\u001b[0m \u001b[0mfit_params\u001b[0m\u001b[1;33m)\u001b[0m\u001b[1;33m\u001b[0m\u001b[1;33m\u001b[0m\u001b[0m\n\u001b[0;32m    801\u001b[0m \u001b[1;33m\u001b[0m\u001b[0m\n\u001b[1;32m--> 802\u001b[1;33m         \u001b[0mcv_orig\u001b[0m \u001b[1;33m=\u001b[0m \u001b[0mcheck_cv\u001b[0m\u001b[1;33m(\u001b[0m\u001b[0mself\u001b[0m\u001b[1;33m.\u001b[0m\u001b[0mcv\u001b[0m\u001b[1;33m,\u001b[0m \u001b[0my\u001b[0m\u001b[1;33m,\u001b[0m \u001b[0mclassifier\u001b[0m\u001b[1;33m=\u001b[0m\u001b[0mis_classifier\u001b[0m\u001b[1;33m(\u001b[0m\u001b[0mestimator\u001b[0m\u001b[1;33m)\u001b[0m\u001b[1;33m)\u001b[0m\u001b[1;33m\u001b[0m\u001b[1;33m\u001b[0m\u001b[0m\n\u001b[0m\u001b[0;32m    803\u001b[0m         \u001b[0mn_splits\u001b[0m \u001b[1;33m=\u001b[0m \u001b[0mcv_orig\u001b[0m\u001b[1;33m.\u001b[0m\u001b[0mget_n_splits\u001b[0m\u001b[1;33m(\u001b[0m\u001b[0mX\u001b[0m\u001b[1;33m,\u001b[0m \u001b[0my\u001b[0m\u001b[1;33m,\u001b[0m \u001b[0mgroups\u001b[0m\u001b[1;33m)\u001b[0m\u001b[1;33m\u001b[0m\u001b[1;33m\u001b[0m\u001b[0m\n\u001b[0;32m    804\u001b[0m \u001b[1;33m\u001b[0m\u001b[0m\n",
      "\u001b[1;32m~\\Anaconda\\lib\\site-packages\\sklearn\\model_selection\\_split.py\u001b[0m in \u001b[0;36mcheck_cv\u001b[1;34m(cv, y, classifier)\u001b[0m\n\u001b[0;32m   2301\u001b[0m             \u001b[0mclassifier\u001b[0m\u001b[1;33m\u001b[0m\u001b[1;33m\u001b[0m\u001b[0m\n\u001b[0;32m   2302\u001b[0m             \u001b[1;32mand\u001b[0m \u001b[1;33m(\u001b[0m\u001b[0my\u001b[0m \u001b[1;32mis\u001b[0m \u001b[1;32mnot\u001b[0m \u001b[1;32mNone\u001b[0m\u001b[1;33m)\u001b[0m\u001b[1;33m\u001b[0m\u001b[1;33m\u001b[0m\u001b[0m\n\u001b[1;32m-> 2303\u001b[1;33m             \u001b[1;32mand\u001b[0m \u001b[1;33m(\u001b[0m\u001b[0mtype_of_target\u001b[0m\u001b[1;33m(\u001b[0m\u001b[0my\u001b[0m\u001b[1;33m)\u001b[0m \u001b[1;32min\u001b[0m \u001b[1;33m(\u001b[0m\u001b[1;34m\"binary\"\u001b[0m\u001b[1;33m,\u001b[0m \u001b[1;34m\"multiclass\"\u001b[0m\u001b[1;33m)\u001b[0m\u001b[1;33m)\u001b[0m\u001b[1;33m\u001b[0m\u001b[1;33m\u001b[0m\u001b[0m\n\u001b[0m\u001b[0;32m   2304\u001b[0m         ):\n\u001b[0;32m   2305\u001b[0m             \u001b[1;32mreturn\u001b[0m \u001b[0mStratifiedKFold\u001b[0m\u001b[1;33m(\u001b[0m\u001b[0mcv\u001b[0m\u001b[1;33m)\u001b[0m\u001b[1;33m\u001b[0m\u001b[1;33m\u001b[0m\u001b[0m\n",
      "\u001b[1;32m~\\Anaconda\\lib\\site-packages\\sklearn\\utils\\multiclass.py\u001b[0m in \u001b[0;36mtype_of_target\u001b[1;34m(y)\u001b[0m\n\u001b[0;32m    298\u001b[0m         ):\n\u001b[0;32m    299\u001b[0m             raise ValueError(\n\u001b[1;32m--> 300\u001b[1;33m                 \u001b[1;34m\"You appear to be using a legacy multi-label data\"\u001b[0m\u001b[1;33m\u001b[0m\u001b[1;33m\u001b[0m\u001b[0m\n\u001b[0m\u001b[0;32m    301\u001b[0m                 \u001b[1;34m\" representation. Sequence of sequences are no\"\u001b[0m\u001b[1;33m\u001b[0m\u001b[1;33m\u001b[0m\u001b[0m\n\u001b[0;32m    302\u001b[0m                 \u001b[1;34m\" longer supported; use a binary array or sparse\"\u001b[0m\u001b[1;33m\u001b[0m\u001b[1;33m\u001b[0m\u001b[0m\n",
      "\u001b[1;31mValueError\u001b[0m: You appear to be using a legacy multi-label data representation. Sequence of sequences are no longer supported; use a binary array or sparse matrix instead - the MultiLabelBinarizer transformer can convert to this format."
     ]
    }
   ],
   "source": [
    "%%time\n",
    "#run gridsearch for random forest\n",
    "tuned_parameters = [{\n",
    "    'bootstrap': [True, False],\n",
    "    'n_estimators': [200, 300, 400, 500],\n",
    "    'criterion': ['gini', 'entropy'],\n",
    "    'max_features': ['auto', 'sqrt'],\n",
    "    'min_samples_leaf': [1, 2, 4],\n",
    "    'min_samples_split': [2, 5, 10],\n",
    "    'max_depth': [5,6,7,8,9,10,11,12]\n",
    "}]\n",
    "\n",
    "scores = ['recall'] \n",
    "clf = RandomForestClassifier(class_weight = 'balanced')\n",
    "clf_rf = runGridSearchCV(clf, tuned_parameters, scores)"
   ]
  },
  {
   "cell_type": "code",
   "execution_count": null,
   "id": "divine-massachusetts",
   "metadata": {},
   "outputs": [],
   "source": []
  },
  {
   "cell_type": "code",
   "execution_count": null,
   "id": "diverse-corrections",
   "metadata": {},
   "outputs": [],
   "source": []
  },
  {
   "cell_type": "code",
   "execution_count": null,
   "id": "vertical-investing",
   "metadata": {},
   "outputs": [],
   "source": []
  },
  {
   "cell_type": "code",
   "execution_count": null,
   "id": "flying-slope",
   "metadata": {},
   "outputs": [],
   "source": []
  },
  {
   "cell_type": "markdown",
   "id": "pressing-deviation",
   "metadata": {},
   "source": [
    "## Random Forest Model"
   ]
  },
  {
   "cell_type": "code",
   "execution_count": null,
   "id": "brutal-field",
   "metadata": {},
   "outputs": [],
   "source": [
    "## split dataset into independent (X) and target (y) variables\n",
    "y = full_df1['class']\n",
    "X = full_df1.drop(['class'], axis=1) #dropped 'Company' as this is just observation row#\n",
    "print('Size of target vector: ', y.shape)\n",
    "print('='*50)\n",
    "print('Size of explanatory matrix: ',X.shape)"
   ]
  },
  {
   "cell_type": "code",
   "execution_count": null,
   "id": "terminal-tiger",
   "metadata": {},
   "outputs": [],
   "source": [
    "## Check target counts\n",
    "print(\"split between 0 and 1 of binary classes:  \\n\", '-----------------')\n",
    "print(y.value_counts())\n",
    "\n",
    "y.value_counts().plot(kind='barh', title='Bankruptcy Indicator Counts')"
   ]
  },
  {
   "cell_type": "code",
   "execution_count": null,
   "id": "athletic-christian",
   "metadata": {
    "scrolled": true
   },
   "outputs": [],
   "source": [
    "## Creating training and test data - 80-20 split (stratified)\n",
    "from sklearn.model_selection import train_test_split\n",
    "X_train, X_test, y_train, y_test = train_test_split(X, y, stratify=y, test_size=0.2)\n",
    "\n",
    "## Test and train set counts - check that stratification was applied\n",
    "print('explanatory Training set matrix : ',X_train.shape)\n",
    "print('explanatory Test set matrix: ',X_test.shape)\n",
    "\n",
    "print(\"Training set split between 0 and 1:  \\n\", '-----------------')\n",
    "print(y_train.value_counts())\n",
    "\n",
    "print(\"Test set split between 0 and 1:  \\n\", '-----------------')\n",
    "print(y_test.value_counts())"
   ]
  },
  {
   "cell_type": "code",
   "execution_count": null,
   "id": "monetary-summit",
   "metadata": {},
   "outputs": [],
   "source": []
  }
 ],
 "metadata": {
  "kernelspec": {
   "display_name": "Python 3",
   "language": "python",
   "name": "python3"
  },
  "language_info": {
   "codemirror_mode": {
    "name": "ipython",
    "version": 3
   },
   "file_extension": ".py",
   "mimetype": "text/x-python",
   "name": "python",
   "nbconvert_exporter": "python",
   "pygments_lexer": "ipython3",
   "version": "3.7.9"
  }
 },
 "nbformat": 4,
 "nbformat_minor": 5
}
