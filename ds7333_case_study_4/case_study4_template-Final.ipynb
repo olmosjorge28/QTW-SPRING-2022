{
 "cells": [
  {
   "cell_type": "markdown",
   "metadata": {
    "id": "GoCXzNvN8g-8"
   },
   "source": [
    "# Case Study 4 - Decision Trees"
   ]
  },
  {
   "cell_type": "markdown",
   "metadata": {
    "id": "YBy24RcB8g-9"
   },
   "source": [
    "__Team Members:__ Amber Clark, Andrew Leppla, Jorge Olmos, Paritosh Rai"
   ]
  },
  {
   "cell_type": "markdown",
   "metadata": {
    "id": "O4O0up-U8g-9"
   },
   "source": [
    "# Content\n",
    "* [Business Understanding](#business-understanding)\n",
    "    - [Objective](#objective)\n",
    "    - [Introduction](#introduction)\n",
    "    - [Methods](#methods)\n",
    "    - [Results](#results)\n",
    "* [Data Evaluation](#data-evaluation)\n",
    "    - [Loading Data](#loading-data) \n",
    "    - [Data Summary](#data-summary)\n",
    "    - [Missing Values](#missing-values)\n",
    "    - [Feature Removal](#feature-removal)\n",
    "    - [Exploratory Data Analysis (EDA)](#eda)\n",
    "    - [Assumptions](#assumptions)\n",
    "* [Model Preparations](#model-preparations)\n",
    "    - [Sampling & Scaling Data](#sampling-scaling-data)\n",
    "    - [Proposed Method](#proposed-metrics)\n",
    "    - [Evaluation Metrics](#evaluation-metrics)\n",
    "    - [Feature Selection](#feature-selection)\n",
    "* [Model Building & Evaluations](#model-building)\n",
    "    - [Sampling Methodology](#sampling-methodology)\n",
    "    - [Model](#model)\n",
    "    - [Performance Analysis](#performance-analysis)\n",
    "* [Model Interpretability & Explainability](#model-explanation)\n",
    "    - [Examining Feature Importance](#examining-feature-importance)\n",
    "* [Conclusion](#conclusion)\n",
    "    - [Final Model Proposal](#final-model-proposal)\n",
    "    - [Future Considerations and Model Enhancements](#model-enhancements)\n",
    "    - [Alternative Modeling Approaches](#alternative-modeling-approaches)"
   ]
  },
  {
   "cell_type": "markdown",
   "metadata": {
    "id": "TRedT-FB8g_A"
   },
   "source": [
    "# Business Understanding & Executive Summary <a id='business-understanding'/>"
   ]
  },
  {
   "cell_type": "markdown",
   "metadata": {
    "id": "_TBIHKRt8g--"
   },
   "source": [
    "### Objective <a id='objective'/>\n",
    "\n",
    "This case study aims to build a classification model that predicts whether a company will enter Bankruptcy based on a wide array of collected financial information about those companies. \n",
    "\n",
    "### Introduction <a id='introduction'/>\n",
    "\n",
    "Maximizing profits is the prime pursuit of every business. However, the business must have the ability to generate enough revenue and margins to pay debts. Companies' inability to pay off their liabilities in a timely manner can lead to Bankruptcy. \"Bankruptcy is a legal proceeding involving a person or business that is unable to repay their outstanding debts\" [1]. Bankruptcy is the culmination of multiple issues leading to the economic collapse of a company that certainly warrants detailed analysis to identify the early warning indicators to trigger mitigation sooner.\n",
    "\n",
    "### Methods <a id='methods'/>\n",
    "\n",
    "#### Data Acquisition and Cleanup (Data Wrangling)\n",
    "\n",
    "The data used in this case study is from the UCI Machine Learning database website [3]. The dataset in its original form was provided as five comma-separated \".arff\" files for each of the five years of the forecast period, 2007 to 2013. These files were first combined in a single data frame for this cumulative analysis. There are no names, keys, or indicators of any kind for the instances, and the data is purely based on economic indicators with no references to company sizes, types, industries, or vintages. \n",
    "\n",
    "All 64 predictors are continuous numeric variables (some are nonnegative). The 64 column names for the features use alphanumeric keys (from X1 to X64) instead of the full description of the features for simplicity and ease of use with coding. The full names of each feature are included in the table below. \n",
    "\n",
    "The target variable ‘class’ is set to b’1’ for companies that went bankrupt and b’0’ for companies that did not.  For modeling, this was re-coded as target ‘bankrupt’ set at 1 and 0, respectively.  The target variable was highly imbalanced with a 95%/5% split between not bankrupt and bankrupt, respectively (see EDA section below for visual).  The team dealt with this class imbalance using stratification when splitting the data into training and test sets.  \n",
    "\n",
    "<img src=\"https://raw.githubusercontent.com/olmosjorge28/QTW-SPRING-2022/main/ds7333_case_study_4/class_imbalance.png\" width=300 height=300 /> \n",
    "\n",
    "#### Modeling Approach\n",
    "\n",
    "Bankruptcy is a very complex subject, and the factors leading to Bankruptcy may vary from one business to another. It is critical that models capture this complexity, and nonlinear models are well suited for this task. The team used nonlinear tree-based classification models to predict the response. One method used to execute this methodology was Random Forest Classification. The Random Forest algorithm generates many independent tree models (also known as bagging). The outcomes of each tree model are pooled together to determine the end result (also known as an ensemble model). \n",
    "\n",
    "Another tree-based ensemble learning technique, XGBoost (Extreme Gradient Boosting), was leveraged to build a robust classifier. In contrast to Random Forest, XGBoost builds a sequential series of dependent tree models to enhance the model performance and generalization (also known as boosting).\n",
    "\n",
    "#### Metrics\n",
    "\n",
    "The metric used to evaluate model performance was the total cost of false negatives (FN) and false positives (FP).  These represent investor losses from selling distressed companies that are predicted to go bankrupt.         \n",
    "\n",
    "A False Negative (FN) is \"Incorrectly predicting Bankruptcy to be Solvency\".  The cost of a False Negative is assumed to be a 100% loss since the investor holds the asset that goes bankrupt rather than selling it.  The team assumes that investors don't have other protections or agreements in place to protect against bankruptcy.\n",
    "\n",
    "A False Positive (FP) is \"Incorrectly predicting Solvency to be Bankruptcy\".  The team assumes a False Positive occurs for a company that is already under significant financial duress, likely with investor losses of 50% or more on average.  An investor would likely act on this prediction by selling some or all of the asset to cut their losses at 50% rather than incurring a 100% loss by holding it.  The company in fact won’t go bankrupt, and the future outcome for investors is uncertain and could vary widely: it may suffer further losses, recover some or all of its losses, or return a gain longer term.  Again, the team assumes this loss is 50% on average.  \n",
    "\n",
    "The total losses to investors were calculated as follows:\n",
    "\n",
    "__Total  investor losses = (100%*FP + 50%*FN)__\n",
    "\n",
    "To directly compare training and test sets, the total investor losses were normalized as “% total investor loss” by dividing by the number of companies (instances) in the training and test sets, respectively.  In this way the metric captures the % loss of their overall portfolio.  This assumes the investor is well diversified and has a balanced portfolio between all of their assets. \n",
    "\n",
    "### Results <a id='results'/>\n",
    "\n",
    "The team recommends an XGBoost model (with balanced class weights) to reduce the risk of financial losses for investors.  The model can identify companies at risk for going bankrupt, and investors can decide if they want to sell some or all of those assets, monitor the assets more closely, or take other mitigation strategies.  XGBoost performed better than Random Forest.    \n",
    "\n",
    "#### Feature Importance\n",
    "\n",
    "For the final XGBoost model, the following 5 features were the most important per the table and plot below (see report body below for full feature importance plot). These metrics are related to expenses, debt (liabilities), sales, and liquidity. More expenses, higher debt, reduction in sales, and low liquidity are risk factors for bankruptcy indicating poor company health.\n",
    "\n",
    "Additionally, Attr27 had a disproportionate amount of missing data for bankrupt companies. This may be because they did not have any profit which was reported as a missing value rather than zero profit.\n",
    "\n",
    "| Attribute | Description                                                                                                            |\n",
    "|-----------|------------------------------------------------------------------------------------------------------------------------|\n",
    "| Attr 5    | 365*(cash + short-term securities + receivables - short-term liabilities)\n",
    "|           |&#247; (operating expenses - depreciation)  |\n",
    "| Attr46    | (current assets - inventory) / short-term liabilities                                                                  |\n",
    "| Attr27    | profit on operating activities / financial expenses                                                                    |\n",
    "| Attr21    | sales (n) / sales (n-1)                                                                                                |\n",
    "| Attr44    | (receivables * 365) / sales                                                                                            |\n",
    "                           \n",
    "\n",
    "<img src=\"https://raw.githubusercontent.com/olmosjorge28/QTW-SPRING-2022/main/ds7333_case_study_4/featureimportance.png\" width=300 height=300 />   \n",
    "\n",
    "Because the XGBoost model is based on a series of nonlinear tree-based models, the feature importances are more challenging to interpret and explain further.  Random Forest models also have this more limited interpretability.        \n",
    "\n",
    "#### Model Predictions\n",
    "\n",
    "The model can limit investors losses to 2.3% of their overall portfolio by selling companies that are predicted to be at risk for bankruptcy.  If no action was taken, investors would loose 100% of the companies that went bankrupt which is 4.8% of their overall portfolio.       \n",
    "\n",
    "While minimizing financial loss was the primary goal, the following is some additional context for investors:  Of the 13,000 companies in the test set, the model correctly predicts 410 companies to go bankrupt of the 627 actually bankrupt companies (65.4% correct).  It incorrectly predicts only 192 companies will go bankrupt of the 12,395 companies that remained solvent and did not go bankrupt (98.5% correct).  \n",
    "\n",
    "The model can be tuned to predict more bankrupt companies, but it will result in increased financial loss because investors will be selling more companies that are likely financially distressed but will not go bankrupt.  \n",
    "\n",
    "### Conclusion\n",
    "\n",
    "In this case study, the team built a predictive model for determining what factors could indicate whether a company will go bankrupt. The team reviewed the historical data and determined the prime indicators to help an investor determine when to divest from a company ahead of time.  "
   ]
  },
  {
   "cell_type": "markdown",
   "metadata": {
    "id": "PVtcYu5j8g_B"
   },
   "source": [
    "# Data Evaluation/Engineering <a id='data-evaluation'>\n",
    "    "
   ]
  },
  {
   "cell_type": "markdown",
   "metadata": {},
   "source": [
    "## Loading Data <a id='loading-data'>"
   ]
  },
  {
   "cell_type": "code",
   "execution_count": 1,
   "metadata": {},
   "outputs": [],
   "source": [
    "# standard libraries\n",
    "import pandas as pd\n",
    "import numpy as np\n",
    "#import re\n",
    "import os\n",
    "from IPython.display import Image\n",
    "#import sklearn\n",
    "#import time\n",
    "\n",
    "# visualization\n",
    "import seaborn as sns\n",
    "import matplotlib.pyplot as plt\n",
    "%matplotlib inline\n",
    "from tabulate import tabulate\n",
    "from IPython.display import clear_output\n",
    "import xgboost\n",
    "\n",
    "# data pre-processing\n",
    "from scipy.io import arff\n",
    "#from sklearn.model_selection import train_test_split\n",
    "from sklearn.experimental import enable_iterative_imputer\n",
    "from sklearn.impute import SimpleImputer, KNNImputer, IterativeImputer\n",
    "from sklearn.impute._base import _BaseImputer\n",
    "from sklearn.model_selection import StratifiedShuffleSplit\n",
    "from sklearn.model_selection._split import BaseShuffleSplit\n",
    "from sklearn.datasets import load_digits\n",
    "from sklearn.preprocessing import MinMaxScaler, StandardScaler\n",
    "\n",
    "# prediction models\n",
    "from sklearn.ensemble import RandomForestClassifier\n",
    "import xgboost as xgb\n",
    "from xgboost import XGBClassifier\n",
    "from sklearn.model_selection import cross_val_score\n",
    "from sklearn.metrics import f1_score\n",
    "from sklearn.metrics import confusion_matrix\n",
    "from sklearn.metrics import accuracy_score\n",
    "from sklearn.metrics import precision_score\n",
    "from sklearn.metrics import recall_score\n",
    "from sklearn.metrics import fbeta_score\n",
    "\n",
    "# import warnings filter\n",
    "import warnings\n",
    "warnings.filterwarnings('ignore')\n",
    "from warnings import simplefilter \n",
    "simplefilter(action='ignore', category=FutureWarning)"
   ]
  },
  {
   "cell_type": "code",
   "execution_count": 2,
   "metadata": {},
   "outputs": [],
   "source": [
    "from os import listdir\n",
    "from os.path import isfile, join\n",
    "\n",
    "class FilePathManager:\n",
    "    def __init__(self, local_dir: str):\n",
    "        self.local_dir = local_dir\n",
    "    \n",
    "    def retrieve_full_path(self):\n",
    "        return os.getcwd()+'/'+self.local_dir"
   ]
  },
  {
   "cell_type": "code",
   "execution_count": 3,
   "metadata": {},
   "outputs": [],
   "source": [
    "class ARFFLoader:\n",
    "    df = pd.DataFrame()\n",
    "    \n",
    "    def __init__(self, file_path_manager: FilePathManager):\n",
    "        self.file_path_manager = file_path_manager\n",
    "    \n",
    "    def load_data(self):\n",
    "        files = self.retrieve_files()\n",
    "        for file in files:\n",
    "            self.df = pd.concat([self.df, self.load_file(file)])\n",
    "        self.df=self.df.reset_index(drop=True)\n",
    "        \n",
    "    def load_file(self, file_name):\n",
    "        return pd.DataFrame(arff.loadarff(self.file_path_manager.retrieve_full_path()+'/'+file_name)[0])\n",
    " \n",
    "    def retrieve_files(self):\n",
    "        full_path = self.file_path_manager.retrieve_full_path()\n",
    "        return [f for f in os.listdir(full_path) if os.path.isfile(join(full_path, f))]\n",
    "    \n",
    "    def get_df(self):\n",
    "        return self.df;\n",
    "    \n",
    "    def size(self):\n",
    "        return len(self.df)"
   ]
  },
  {
   "cell_type": "code",
   "execution_count": 4,
   "metadata": {},
   "outputs": [],
   "source": [
    "def clean_df(df: pd.DataFrame):\n",
    "    df['bankrupt'] = ( df['class'] == df['class'][df.shape[0]-1] ).astype(int)\n",
    "    df = df.drop('class', axis=1)\n",
    "    return df;"
   ]
  },
  {
   "cell_type": "code",
   "execution_count": 5,
   "metadata": {},
   "outputs": [],
   "source": [
    "path_manager = FilePathManager('data')\n",
    "loader = ARFFLoader(path_manager)\n",
    "loader.load_data()"
   ]
  },
  {
   "cell_type": "code",
   "execution_count": 6,
   "metadata": {},
   "outputs": [],
   "source": [
    "df = clean_df(loader.get_df())"
   ]
  },
  {
   "cell_type": "markdown",
   "metadata": {},
   "source": [
    "#### Data Acquisition and Cleanup (Data Wrangling)\n",
    "\n",
    "The data used in this case study is from the UCI Machine Learning database website [3]. The dataset in its original form was provided as five comma-separated \".arff\" files for each of the five years of the forecast period; these were first combined in a single data frame for this cumulative analysis. There are no names, keys, or indicators of any kind for the instances, and the data is purely based on economic indicators with no references to company sizes, types, industries, or vintages. All 64 predictors are continuous numeric variables (some are nonnegative). The 64 column names for the features use alphanumeric keys (from X1 to X64) instead of the full description of the features for simplicity and ease of use with coding. The full names of each feature are included in the table below. The target variable ‘class’ is set to b’1’ for companies that went bankrupt and b’0’ for companies that did not.  For modeling, this was re-coded as target ‘bankrupt’ set at 1 and 0, respectively.   "
   ]
  },
  {
   "cell_type": "markdown",
   "metadata": {},
   "source": [
    "| Variable | Description                                                                                                         |\n",
    "|----------|---------------------------------------------------------------------------------------------------------------------|\n",
    "| X1       | net profit / total assets                                                                                           |\n",
    "| X2       | total liabilities / total assets                                                                                    |\n",
    "| X3       | working capital / total assets                                                                                      |\n",
    "| X4       | current assets / short-term liabilities                                                                             |\n",
    "| X5       | [(cash + short-term securities + receivables - short-term liabilities) / (operating expenses - depreciation)] * 365 |\n",
    "| X6       | retained earnings / total assets                                                                                    |\n",
    "| X7       | EBIT / total assets                                                                                                 |\n",
    "| X8       | book value of equity / total liabilities                                                                            |\n",
    "| X9       | sales / total assets                                                                                                |\n",
    "| X10      | equity / total assets                                                                                               |\n",
    "| X11      | (gross profit + extraordinary items + financial expenses) / total assets                                            |\n",
    "| X12      | gross profit / short-term liabilities                                                                               |\n",
    "| X13      | (gross profit + depreciation) / sales                                                                               |\n",
    "| X14      | (gross profit + interest) / total assets                                                                            |\n",
    "| X15      | (total liabilities * 365) / (gross profit + depreciation)                                                           |\n",
    "| X16      | (gross profit + depreciation) / total liabilities                                                                   |\n",
    "| X17      | total assets / total liabilities                                                                                    |\n",
    "| X18      | gross profit / total assets                                                                                         |\n",
    "| X19      | gross profit / sales                                                                                                |\n",
    "| X20      | (inventory * 365) / sales                                                                                           |\n",
    "| X21      | sales (n) / sales (n-1)                                                                                             |\n",
    "| X22      | profit on operating activities / total assets                                                                       |\n",
    "| X23      | net profit / sales                                                                                                  |\n",
    "| X24      | gross profit (in 3 years) / total assets                                                                            |\n",
    "| X25      | (equity - share capital) / total assets                                                                             |\n",
    "| X26      | (net profit + depreciation) / total liabilities                                                                     |\n",
    "| X27      | profit on operating activities / financial expenses                                                                 |\n",
    "| X28      | working capital / fixed assets                                                                                      |\n",
    "| X29      | logarithm of total assets                                                                                           |\n",
    "| X30      | (total liabilities - cash) / sales                                                                                  |\n",
    "| X31      | (gross profit + interest) / sales                                                                                   |\n",
    "| X32      | (current liabilities * 365) / cost of products sold                                                                 |\n",
    "| X33      | operating expenses / short-term liabilities                                                                         |\n",
    "| X34      | operating expenses / total liabilities                                                                              |\n",
    "| X35      | profit on sales / total assets                                                                                      |\n",
    "| X36      | total sales / total assets                                                                                          |\n",
    "| X37      | (current assets - inventories) / long-term liabilities                                                              |\n",
    "| X38      | constant capital / total assets                                                                                     |\n",
    "| X39      | profit on sales / sales                                                                                             |\n",
    "| X40      | (current assets - inventory - receivables) / short-term liabilities                                                 |\n",
    "| X41      | total liabilities / ((profit on operating activities + depreciation) * (12/365))                                    |\n",
    "| X42      | profit on operating activities / sales                                                                              |\n",
    "| X43      | rotation receivables + inventory turnover in days                                                                   |\n",
    "| X44      | (receivables * 365) / sales                                                                                         |\n",
    "| X45      | net profit / inventory                                                                                              |\n",
    "| X46      | (current assets - inventory) / short-term liabilities                                                               |\n",
    "| X47      | (inventory * 365) / cost of products sold                                                                           |\n",
    "| X48      | EBITDA (profit on operating activities - depreciation) / total assets                                               |\n",
    "| X49      | EBITDA (profit on operating activities - depreciation) / sales                                                      |\n",
    "| X50      | current assets / total liabilities                                                                                  |\n",
    "| X51      | short-term liabilities / total assets                                                                               |\n",
    "| X52      | (short-term liabilities * 365) / cost of products sold)                                                             |\n",
    "| X53      | equity / fixed assets                                                                                               |\n",
    "| X54      | constant capital / fixed assets                                                                                     |\n",
    "| X55      | working capital                                                                                                     |\n",
    "| X56      | (sales - cost of products sold) / sales                                                                             |\n",
    "| X57      | (current assets - inventory - short-term liabilities) / (sales - gross profit - depreciation)                       |\n",
    "| X58      | total costs /total sales                                                                                            |\n",
    "| X59      | long-term liabilities / equity                                                                                      |\n",
    "| X60      | sales / inventory                                                                                                   |\n",
    "| X61      | sales / receivables                                                                                                 |\n",
    "| X62      | (short-term liabilities *365) / sales                                                                               |\n",
    "| X63      | sales / short-term liabilities                                                                                      |\n",
    "| X64      | sales / fixed assets                                                                                                |"
   ]
  },
  {
   "cell_type": "markdown",
   "metadata": {
    "id": "ox-qLqjc8g_B"
   },
   "source": [
    "## Missing Values <a id='missing-values'>\n",
    "    \n",
    "Many features had missing values, but there were two features in particular with large amounts of missing data: Attr37 = (current assets - inventories) / (long-term liabilities) with 46% missing data, and Attr27 = (profit on operating activities) / (financial expenses) with 14% missing data.  Attr27 had significantly more missing values for bankrupt (orange, 1) vs. not bankrupt (blue, 0).  This could be exploited for predicting bankruptcy.    "
   ]
  },
  {
   "cell_type": "code",
   "execution_count": 8,
   "metadata": {
    "id": "4WcvKI3y8g_C"
   },
   "outputs": [],
   "source": [
    "missing_0 = df[df['bankrupt']==0].isnull().sum()\n",
    "pct_missing_0 = missing_0/missing_0.sum()\n",
    "missing_1 = df[df['bankrupt']==1].isnull().sum()\n",
    "pct_missing_1 = missing_1/missing_1.sum()\n",
    "pct_missing_by_bankruptcy = pd.concat([pct_missing_0, pct_missing_1], axis=1)\n",
    "pct_missing_by_bankruptcy.columns = ['0','1']"
   ]
  },
  {
   "cell_type": "code",
   "execution_count": 9,
   "metadata": {},
   "outputs": [
    {
     "data": {
      "image/png": "[encoded data removed]",
      "text/plain": [
       "<Figure size 1080x216 with 1 Axes>"
      ]
     },
     "metadata": {
      "needs_background": "light"
     },
     "output_type": "display_data"
    }
   ],
   "source": [
    "plt.figure(figsize=(15,3))\n",
    "sns.lineplot(data = pct_missing_by_bankruptcy)\n",
    "plt.xticks(rotation=90)\n",
    "plt.title('Percent Missing Values vs. Bankruptcy')\n",
    "plt.show()"
   ]
  },
  {
   "cell_type": "markdown",
   "metadata": {
    "id": "ZDhb7boF8g_D"
   },
   "source": [
    "SKLearn’s RandomForestClassifier cannot handle missing values automatically.  Therefore, all missing values were initially replaced simply with the median value for each feature from the training data.  The median (vs. the mean) was used because most features were highly skewed and had extreme outliers (refer to Box plots in the EDA).\n",
    "\n",
    "However, missing values in financial data are typically not Missing at Random; data reporting in finance is highly regulated with oversight from auditors.  Finance data tend to be missing because they are not able to be reported for specific reasons.  For example, most of the features are ratios, so if the denominator = 0 that would result in dividing by zero which is not reportable.  Therefore, this median imputation method for handling missing data may not be appropriate. \n",
    "\n",
    "The XGBoost algorithm was able to handle missing values automatically.  From the xgboost documentation,  \"XGBoost supports missing values by default. In tree algorithms, branch directions for missing values are learned during training.\"\n",
    "\n",
    "An Iterative Imputer was also used as a more sophisticated, albeit more computationally expensive way to replace missing values.  Per the sklearn documentation, it “models each feature with missing values as a function of other features” using regression.  It starts with imputing the feature with the least amount of missing values, and it builds up iteratively to the feature with the most missing values.  This method was used for both Random Forest and XGBoost in the final model selection.  \n",
    "\n",
    "Note: All imputation and normalization were carried out post-splitting of data into training and test data independent of each other to prevent data leakage between training and test data set. "
   ]
  },
  {
   "cell_type": "code",
   "execution_count": null,
   "metadata": {},
   "outputs": [],
   "source": []
  },
  {
   "cell_type": "markdown",
   "metadata": {
    "id": "Aws5HAx98g_E"
   },
   "source": [
    "\n",
    "\n"
   ]
  },
  {
   "cell_type": "code",
   "execution_count": null,
   "metadata": {},
   "outputs": [],
   "source": []
  },
  {
   "cell_type": "markdown",
   "metadata": {
    "id": "CbAmkozvN5Dz"
   },
   "source": [
    "## Exploratory Data Analysis (EDA) <a id='eda'>"
   ]
  },
  {
   "cell_type": "markdown",
   "metadata": {},
   "source": [
    "### Data Imbalance in Target Variable\n",
    "\n",
    "Looking at the distribution of the target outcome (i.e., whether a company went bankrupt or not), the data is heavily imbalanced. As expected, the proportion of companies that went bankrupt is significantly less compared to the ones that did not.\n"
   ]
  },
  {
   "cell_type": "code",
   "execution_count": 10,
   "metadata": {},
   "outputs": [
    {
     "data": {
      "image/png": "[encoded data removed]",
      "text/plain": [
       "<Figure size 432x288 with 1 Axes>"
      ]
     },
     "metadata": {
      "needs_background": "light"
     },
     "output_type": "display_data"
    }
   ],
   "source": [
    "df['bankrupt'].value_counts().plot(kind='barh', title='Bankruptcy Indicator Counts');"
   ]
  },
  {
   "cell_type": "code",
   "execution_count": 11,
   "metadata": {},
   "outputs": [
    {
     "data": {
      "text/plain": [
       "0    0.951826\n",
       "1    0.048174\n",
       "Name: bankrupt, dtype: float64"
      ]
     },
     "execution_count": 11,
     "metadata": {},
     "output_type": "execute_result"
    }
   ],
   "source": [
    "df['bankrupt'].value_counts(normalize=True)"
   ]
  },
  {
   "cell_type": "markdown",
   "metadata": {},
   "source": [
    "The team decided to use stratified splitting technique during the train-test split process to ensure the proportion of target variable remains same in both the train and test data sets."
   ]
  },
  {
   "cell_type": "markdown",
   "metadata": {},
   "source": [
    "### Features\n",
    "The features all had different scales ranging from -11,903,000 to 30,393,000 in the most extreme cases. The tree-based ensemble methods can handle this raw unscaled data effectively. However, the team decided to normalize the data in an abundance of caution."
   ]
  },
  {
   "cell_type": "code",
   "execution_count": 12,
   "metadata": {},
   "outputs": [
    {
     "name": "stdout",
     "output_type": "stream",
     "text": [
      "Features Global min= -11903000.0\n",
      "Features Global max= 30393000.0\n"
     ]
    }
   ],
   "source": [
    "# find the global min and max values for all of the training predictors\n",
    "train_global_min = df.drop('bankrupt', axis=1).min().min()\n",
    "print(\"Features Global min=\", train_global_min)\n",
    "train_global_max = df.drop('bankrupt', axis=1).max().max()\n",
    "print(\"Features Global max=\", train_global_max)"
   ]
  },
  {
   "cell_type": "code",
   "execution_count": 13,
   "metadata": {},
   "outputs": [
    {
     "data": {
      "image/png": "[encoded data removed]",
      "text/plain": [
       "<Figure size 1224x1224 with 64 Axes>"
      ]
     },
     "metadata": {
      "needs_background": "light"
     },
     "output_type": "display_data"
    }
   ],
   "source": [
    "features = df.drop('bankrupt', axis=1).columns\n",
    "fig, axes = plt.subplots(8, 8, figsize=(17, 17))\n",
    "fig.suptitle('Feature Boxplots')\n",
    "for i,j in zip(features, range(64)):\n",
    "    sns.boxplot(ax = axes[int(j/8), j%8], x = df.drop('bankrupt', axis=1)[i])\n",
    "\n",
    "fig.tight_layout()"
   ]
  },
  {
   "cell_type": "markdown",
   "metadata": {
    "id": "zmuI_mep8g_b"
   },
   "source": [
    "# Model Preparations <a id='model-preparations'/>"
   ]
  },
  {
   "cell_type": "markdown",
   "metadata": {
    "id": "cXqoLTm_8g_c"
   },
   "source": [
    "## Proposed Method <a id='proposed-metrics' />"
   ]
  },
  {
   "cell_type": "markdown",
   "metadata": {},
   "source": [
    "Bankruptcy is a very complex subject, and the factors leading to Bankruptcy may vary from one business to another. It is critical that models capture this complexity, and nonlinear models are well suited for this task. The team used nonlinear tree-based classification models to predict the response. One method used to execute this methodology was Random Forest Classification. The Random Forest algorithm generates many independent tree models (also known as bagging). The outcomes of each tree model are pooled together to determine the end result (also known as an ensemble model). \n",
    "\n",
    "Another ensemble learning technique, XGBoost (Extreme Gradient Boosting), was leveraged to build a robust classifier. In contrast to Random Forest, XGBoost builds a sequential series of dependent tree models to enhance the model performance and generalization (also known as boosting).\n",
    "\n",
    "This case study aims to build a classification model that predicts whether a company will enter Bankruptcy based on a wide array of collected financial information about those companies. Data came from companies operating in 2007 to 2013. "
   ]
  },
  {
   "cell_type": "markdown",
   "metadata": {},
   "source": [
    "#### Sampling & Scaling Data"
   ]
  },
  {
   "cell_type": "markdown",
   "metadata": {},
   "source": [
    "The dataset was first split into training and test sets with 30% of the data reserved for the test set. The target class is heavily imbalanced as discussed above, with only about 5% of the outcomes being bankruptcy. So, the test/train split was done using the stratified option to maintain the ratio of outcomes. "
   ]
  },
  {
   "cell_type": "markdown",
   "metadata": {
    "id": "HT4eeZsX8g_c"
   },
   "source": [
    "## Evaluation Metrics <a id='evaluation-metrics' />"
   ]
  },
  {
   "cell_type": "markdown",
   "metadata": {},
   "source": [
    "The metric used to evaluate model performance was the total cost of false negatives (FN) and false positives (FP).       \n",
    "\n",
    "A False Negative (FN) is \"Incorrectly predicting Bankruptcy to be Solvency\".  The cost of a False Negative is assumed to be a 100% loss (unless the investor has some protections or agreements in place).\n",
    "\n",
    "A False Positive (FP) is \"Incorrectly predicting Solvency to be Bankruptcy\".  The team assumes a False Positive occurs for a company that is already under significant financial duress, likely with investor losses of approximately 50% or more.  An investor would likely act on this prediction by selling some or all of the asset to cut their losses.  The company in fact won’t go bankrupt, and the future outcome for investors is uncertain and could vary widely: it may suffer further losses, recover some or all of its losses, or return a gain longer term.\n",
    "\n",
    "The total costs (losses) to investors were calculated as follows:\n",
    "\n",
    "__Total  investor costs (losses) = (100%*FP + 50%*FN)__\n",
    "\n",
    "To directly compare training and test sets, the total investor losses were normalized as “% total investor loss” by dividing by the number of companies (instances) in the training and test sets, respectively.           "
   ]
  },
  {
   "cell_type": "code",
   "execution_count": 43,
   "metadata": {},
   "outputs": [
    {
     "data": {
      "text/plain": [
       "array([[0. , 1. ],\n",
       "       [0.5, 0. ]])"
      ]
     },
     "execution_count": 43,
     "metadata": {},
     "output_type": "execute_result"
    }
   ],
   "source": [
    "cost_matrix = np.array([[0,1],[0.5,0]])\n",
    "cost_matrix"
   ]
  },
  {
   "cell_type": "markdown",
   "metadata": {
    "id": "w459qqI-N5D7"
   },
   "source": [
    " "
   ]
  },
  {
   "cell_type": "markdown",
   "metadata": {
    "id": "UuRjMsjg8g_d"
   },
   "source": [
    "# Model Building & Evaluations <a id='model-building'/>"
   ]
  },
  {
   "cell_type": "markdown",
   "metadata": {},
   "source": [
    "The team’s objective was to minimize the Total investor costs (losses) without overfitting the model.  Overfitting is defined as the training set outperforming the test set (lower losses for the training set).\n",
    "\n",
    "The team assumes investors are well-diversified and don’t have more than 1-5% of their portfolio in any single company. \n",
    "\n",
    "The purpose of this modeling exercise is to predict companies that may go bankrupt so that the business can make relevant divestiture decisions or trigger other mitigation strategies to minimize the losses. "
   ]
  },
  {
   "cell_type": "markdown",
   "metadata": {},
   "source": [
    "## Sampling Methodology"
   ]
  },
  {
   "cell_type": "markdown",
   "metadata": {},
   "source": [
    "The dataset was first split into training and test sets with 30% of the data reserved for the test set. The target class is heavily imbalanced as discussed above, with only about 5% of the outcomes being bankruptcy. So, the test/train split was done using the stratification to maintain the ratio of outcomes. "
   ]
  },
  {
   "cell_type": "markdown",
   "metadata": {},
   "source": [
    "## Modeling"
   ]
  },
  {
   "cell_type": "code",
   "execution_count": 27,
   "metadata": {},
   "outputs": [],
   "source": [
    "from abc import ABC, abstractmethod\n",
    "\n",
    "class BaseImputer:\n",
    "    @abstractmethod\n",
    "    def fit(self, X, y=None):\n",
    "        pass\n",
    "    \n",
    "    @abstractmethod\n",
    "    def transform(self, X):\n",
    "        pass\n",
    "\n",
    "class BaseModel:\n",
    "    @abstractmethod\n",
    "    def fit(self, X, y, sample_weight=None):\n",
    "        pass\n",
    "    \n",
    "    @abstractmethod\n",
    "    def predict(self, X):\n",
    "        pass"
   ]
  },
  {
   "cell_type": "code",
   "execution_count": 28,
   "metadata": {},
   "outputs": [],
   "source": [
    "class XGBModel:\n",
    "    _model = None\n",
    "    \n",
    "    def __init__(self, params, num_round: int = 100):\n",
    "        self._params = params\n",
    "        self._num_round = num_round\n",
    "        \n",
    "    def fit(self, X, y, sample_weight=None):\n",
    "        dtrain = xgb.DMatrix(X, label = y)\n",
    "        self._model = xgb.train(self._params, dtrain)\n",
    "        \n",
    "    def predict(self, X):\n",
    "        dtest = xgb.DMatrix(X)\n",
    "        return self._model.predict(dtest)\n",
    "        "
   ]
  },
  {
   "cell_type": "code",
   "execution_count": 30,
   "metadata": {},
   "outputs": [],
   "source": [
    "class Modeling:\n",
    "    _X_train_fitted = None\n",
    "    _X_test_fitted = None\n",
    "    _y_train = None\n",
    "    _y_test = None\n",
    "    _y_preds = None\n",
    "    \n",
    "    def __init__(self, data: pd.DataFrame, \n",
    "                 target_name: str, \n",
    "                 shuffle_splitter: BaseShuffleSplit, \n",
    "                 imputer: BaseImputer, \n",
    "                 model: BaseModel, scaler = None):\n",
    "        self._data = data\n",
    "        self._target_name = target_name\n",
    "        self._shuffle_splitter = shuffle_splitter\n",
    "        self._imputer = imputer\n",
    "        self._model = model\n",
    "        self._X, self._y = self._split_data()\n",
    "        self._scaler = scaler\n",
    "        \n",
    "    @property\n",
    "    def X(self):\n",
    "        return self._X\n",
    "    \n",
    "    @property\n",
    "    def y(self):\n",
    "        return self._y\n",
    "\n",
    "    @property\n",
    "    def model(self):\n",
    "        return self._model\n",
    "    \n",
    "    @model.setter\n",
    "    def model(self, model):\n",
    "        self._model = model\n",
    "     \n",
    "    @property\n",
    "    def X_train(self):\n",
    "        return self._X_train_fitted\n",
    "    \n",
    "    @property\n",
    "    def X_test(self):\n",
    "        return self._X_test_fitted\n",
    "    \n",
    "    @property\n",
    "    def y_train(self):\n",
    "        return self._y_train\n",
    "    \n",
    "    @property\n",
    "    def y_test(self):\n",
    "        return self._y_test\n",
    "    \n",
    "    @property\n",
    "    def y_preds(self):\n",
    "        return self._y_preds\n",
    "    \n",
    "    def _split_data(self):\n",
    "        X = self._data.copy()\n",
    "        return X.drop([self._target_name], axis=1) , X[self._target_name]\n",
    "    \n",
    "    def _shuffle_split(self):\n",
    "        X = self.X\n",
    "        y = self.y\n",
    "        for train_index, test_index in self._shuffle_splitter.split(X,y):\n",
    "            X_train, X_test = X.iloc[train_index], X.iloc[test_index]\n",
    "            y_train, y_test = y[train_index], y[test_index]\n",
    "        return X_train, X_test, y_train, y_test\n",
    "    \n",
    "    def _fit_imputer(self, train):\n",
    "        if self._imputer is not None:\n",
    "            self._imputer.fit(train)\n",
    "    \n",
    "    def _fit_scaler(self, train):\n",
    "        if self._scaler is not None:\n",
    "            self._scaler.fit(train)\n",
    "    \n",
    "    def _impute_data(self, X: pd.DataFrame):\n",
    "        if self._imputer is not None:\n",
    "            return pd.DataFrame(self._imputer.transform(X), columns = self.X.columns, index = X.index)\n",
    "        return X\n",
    "    \n",
    "    def _scale_data(self, X: pd.DataFrame):\n",
    "        if self._scaler is not None:\n",
    "            X = pd.DataFrame(self._scaler.transform(X), columns = self._X.columns)\n",
    "        return X\n",
    "    \n",
    "    def prepare(self):\n",
    "        X_train, X_test, y_train, y_test = self._shuffle_split()   \n",
    "        self._fit_imputer(X_train)\n",
    "        X_train = self._impute_data(X_train)\n",
    "        X_test = self._impute_data(X_test)\n",
    "        self._fit_scaler(X_train)\n",
    "        self._X_train_fitted = self._scale_data(X_train)\n",
    "        self._X_test_fitted = self._scale_data(X_test)\n",
    "        self._y_train = y_train\n",
    "        self._y_test = y_test\n",
    "        \n",
    "    def prepare_and_train(self):\n",
    "        self.prepare()\n",
    "        return self.train()\n",
    "        \n",
    "    def train(self):\n",
    "        self._model.fit(self.X_train, self.y_train)\n",
    "        self._y_preds = self._model.predict(self.X_train)\n",
    "        \n",
    "        return self.metrics(self.y_train, self.y_preds)\n",
    "        \n",
    "    def test(self):\n",
    "        return self.metrics(self.y_test, self._model.predict(self.X_test))\n",
    "       \n",
    "    @abstractmethod\n",
    "    def metrics(self, y_true = None, y_pred = None):\n",
    "        pass\n",
    "        "
   ]
  },
  {
   "cell_type": "code",
   "execution_count": 31,
   "metadata": {},
   "outputs": [],
   "source": [
    "class ClassificationModeling(Modeling):\n",
    "    def __init__(self, \n",
    "                 data: pd.DataFrame, \n",
    "                 target_name: str, \n",
    "                 shuffle_splitter: BaseShuffleSplit, \n",
    "                 imputer: BaseImputer, \n",
    "                 model: BaseModel, \n",
    "                 scaler = None, \n",
    "                 beta: int = 1, \n",
    "                 classification: str = 'binary'):\n",
    "        super().__init__(data, target_name, shuffle_splitter, imputer, model, scaler)\n",
    "        self.beta = beta\n",
    "        self.classification = classification\n",
    "    \n",
    "    def metrics(self, y_true = None, y_pred = None):\n",
    "        if y_true is None and y_pred is None:\n",
    "            y_true = self.y_train\n",
    "            y_pred = self.y_preds\n",
    "        if type(y_pred[0]) is np.int32: # RandomForest, xbg binary:hinge, xbg multi:softmax\n",
    "            return ({'matrix': confusion_matrix(y_true, y_pred), \n",
    "                'accuracy': accuracy_score(y_true, y_pred), \n",
    "                'precision': precision_score(y_true, y_pred, average=self.classification), \n",
    "                'recall': recall_score(y_true, y_pred, average=self.classification),\n",
    "                 'f1': f1_score(y_true, y_pred),\n",
    "                'f{}'.format(self.beta) : fbeta_score(y_true, y_pred, average=self.classification, beta=self.beta) } )\n",
    "        else: # to handle xbg binary:logistic with class_weights\n",
    "            y_pred = pd.Series( (y_pred>0.5).astype(int), index=y_true.index) \n",
    "            return ({'matrix': confusion_matrix(y_true, y_pred), \n",
    "                'accuracy': accuracy_score(y_true, y_pred), \n",
    "                'precision': precision_score(y_true, y_pred, average=self.classification), \n",
    "                'recall': recall_score(y_true, y_pred, average=self.classification),\n",
    "                 'f1': f1_score(y_true, y_pred),\n",
    "                'f{}'.format(self.beta) : fbeta_score(y_true, y_pred, average=self.classification, beta=self.beta) } )\n",
    "        "
   ]
  },
  {
   "cell_type": "code",
   "execution_count": 32,
   "metadata": {},
   "outputs": [],
   "source": [
    "classifier = ClassificationModeling(clean_df(loader.get_df()),'bankrupt',\n",
    "                           StratifiedShuffleSplit(n_splits=1, test_size=0.3, random_state=12343),\n",
    "                           IterativeImputer(missing_values=np.nan, random_state=1234),\n",
    "                           None,\n",
    "                           StandardScaler(), beta=2)\n",
    "classifier.prepare()"
   ]
  },
  {
   "cell_type": "markdown",
   "metadata": {
    "id": "hDVXhO8F8g_d",
    "scrolled": true
   },
   "source": [
    "### Random Forest Model"
   ]
  },
  {
   "cell_type": "markdown",
   "metadata": {},
   "source": [
    "#### Metrics vs. Max Tree Depth"
   ]
  },
  {
   "cell_type": "markdown",
   "metadata": {},
   "source": [
    "##### No Class Weights"
   ]
  },
  {
   "cell_type": "code",
   "execution_count": 33,
   "metadata": {},
   "outputs": [
    {
     "data": {
      "text/html": [
       "<div>\n",
       "<style scoped>\n",
       "    .dataframe tbody tr th:only-of-type {\n",
       "        vertical-align: middle;\n",
       "    }\n",
       "\n",
       "    .dataframe tbody tr th {\n",
       "        vertical-align: top;\n",
       "    }\n",
       "\n",
       "    .dataframe thead th {\n",
       "        text-align: right;\n",
       "    }\n",
       "</style>\n",
       "<table border=\"1\" class=\"dataframe\">\n",
       "  <thead>\n",
       "    <tr style=\"text-align: right;\">\n",
       "      <th></th>\n",
       "      <th>%_invest_loss_test</th>\n",
       "      <th>%_invest_loss_train</th>\n",
       "      <th>accuracy_test</th>\n",
       "      <th>accuracy_train</th>\n",
       "      <th>f1_test</th>\n",
       "      <th>f1_train</th>\n",
       "      <th>f2_test</th>\n",
       "      <th>f2_train</th>\n",
       "      <th>max_depth</th>\n",
       "    </tr>\n",
       "  </thead>\n",
       "  <tbody>\n",
       "    <tr>\n",
       "      <th>0</th>\n",
       "      <td>2.319152</td>\n",
       "      <td>2.318731</td>\n",
       "      <td>0.953617</td>\n",
       "      <td>0.953625</td>\n",
       "      <td>0.070769</td>\n",
       "      <td>0.072416</td>\n",
       "      <td>0.045437</td>\n",
       "      <td>0.046523</td>\n",
       "      <td>5.0</td>\n",
       "    </tr>\n",
       "    <tr>\n",
       "      <th>1</th>\n",
       "      <td>2.234680</td>\n",
       "      <td>2.190370</td>\n",
       "      <td>0.955306</td>\n",
       "      <td>0.956193</td>\n",
       "      <td>0.133929</td>\n",
       "      <td>0.166562</td>\n",
       "      <td>0.088132</td>\n",
       "      <td>0.111037</td>\n",
       "      <td>6.0</td>\n",
       "    </tr>\n",
       "    <tr>\n",
       "      <th>2</th>\n",
       "      <td>2.035018</td>\n",
       "      <td>1.876049</td>\n",
       "      <td>0.959300</td>\n",
       "      <td>0.962479</td>\n",
       "      <td>0.267956</td>\n",
       "      <td>0.362416</td>\n",
       "      <td>0.186180</td>\n",
       "      <td>0.262136</td>\n",
       "      <td>7.0</td>\n",
       "    </tr>\n",
       "    <tr>\n",
       "      <th>3</th>\n",
       "      <td>1.973583</td>\n",
       "      <td>1.752625</td>\n",
       "      <td>0.960528</td>\n",
       "      <td>0.964948</td>\n",
       "      <td>0.305405</td>\n",
       "      <td>0.428341</td>\n",
       "      <td>0.215567</td>\n",
       "      <td>0.318945</td>\n",
       "      <td>8.0</td>\n",
       "    </tr>\n",
       "    <tr>\n",
       "      <th>4</th>\n",
       "      <td>1.923668</td>\n",
       "      <td>1.550209</td>\n",
       "      <td>0.961680</td>\n",
       "      <td>0.968996</td>\n",
       "      <td>0.342556</td>\n",
       "      <td>0.525680</td>\n",
       "      <td>0.246212</td>\n",
       "      <td>0.409219</td>\n",
       "      <td>9.0</td>\n",
       "    </tr>\n",
       "    <tr>\n",
       "      <th>5</th>\n",
       "      <td>1.808478</td>\n",
       "      <td>1.392226</td>\n",
       "      <td>0.964061</td>\n",
       "      <td>0.972155</td>\n",
       "      <td>0.409091</td>\n",
       "      <td>0.593660</td>\n",
       "      <td>0.303030</td>\n",
       "      <td>0.477294</td>\n",
       "      <td>10.0</td>\n",
       "    </tr>\n",
       "    <tr>\n",
       "      <th>6</th>\n",
       "      <td>1.819997</td>\n",
       "      <td>1.277030</td>\n",
       "      <td>0.963907</td>\n",
       "      <td>0.974459</td>\n",
       "      <td>0.406566</td>\n",
       "      <td>0.639405</td>\n",
       "      <td>0.301160</td>\n",
       "      <td>0.525672</td>\n",
       "      <td>11.0</td>\n",
       "    </tr>\n",
       "    <tr>\n",
       "      <th>7</th>\n",
       "      <td>1.762402</td>\n",
       "      <td>1.147023</td>\n",
       "      <td>0.965290</td>\n",
       "      <td>0.977060</td>\n",
       "      <td>0.446078</td>\n",
       "      <td>0.687584</td>\n",
       "      <td>0.337412</td>\n",
       "      <td>0.579043</td>\n",
       "      <td>12.0</td>\n",
       "    </tr>\n",
       "    <tr>\n",
       "      <th>8</th>\n",
       "      <td>1.758562</td>\n",
       "      <td>0.997268</td>\n",
       "      <td>0.965673</td>\n",
       "      <td>0.980055</td>\n",
       "      <td>0.460796</td>\n",
       "      <td>0.739018</td>\n",
       "      <td>0.352399</td>\n",
       "      <td>0.638963</td>\n",
       "      <td>13.0</td>\n",
       "    </tr>\n",
       "    <tr>\n",
       "      <th>9</th>\n",
       "      <td>1.766242</td>\n",
       "      <td>0.850805</td>\n",
       "      <td>0.965673</td>\n",
       "      <td>0.982984</td>\n",
       "      <td>0.463385</td>\n",
       "      <td>0.785566</td>\n",
       "      <td>0.355564</td>\n",
       "      <td>0.696016</td>\n",
       "      <td>14.0</td>\n",
       "    </tr>\n",
       "    <tr>\n",
       "      <th>10</th>\n",
       "      <td>1.793119</td>\n",
       "      <td>0.733963</td>\n",
       "      <td>0.965366</td>\n",
       "      <td>0.985321</td>\n",
       "      <td>0.459880</td>\n",
       "      <td>0.820306</td>\n",
       "      <td>0.353461</td>\n",
       "      <td>0.740471</td>\n",
       "      <td>15.0</td>\n",
       "    </tr>\n",
       "    <tr>\n",
       "      <th>11</th>\n",
       "      <td>1.785440</td>\n",
       "      <td>0.613830</td>\n",
       "      <td>0.965827</td>\n",
       "      <td>0.987723</td>\n",
       "      <td>0.475854</td>\n",
       "      <td>0.854012</td>\n",
       "      <td>0.369963</td>\n",
       "      <td>0.785231</td>\n",
       "      <td>16.0</td>\n",
       "    </tr>\n",
       "    <tr>\n",
       "      <th>12</th>\n",
       "      <td>1.789280</td>\n",
       "      <td>0.498634</td>\n",
       "      <td>0.965750</td>\n",
       "      <td>0.990027</td>\n",
       "      <td>0.474057</td>\n",
       "      <td>0.884571</td>\n",
       "      <td>0.368267</td>\n",
       "      <td>0.827277</td>\n",
       "      <td>17.0</td>\n",
       "    </tr>\n",
       "    <tr>\n",
       "      <th>13</th>\n",
       "      <td>1.762402</td>\n",
       "      <td>0.381792</td>\n",
       "      <td>0.966365</td>\n",
       "      <td>0.992364</td>\n",
       "      <td>0.489510</td>\n",
       "      <td>0.913947</td>\n",
       "      <td>0.383352</td>\n",
       "      <td>0.869074</td>\n",
       "      <td>18.0</td>\n",
       "    </tr>\n",
       "    <tr>\n",
       "      <th>14</th>\n",
       "      <td>1.758562</td>\n",
       "      <td>0.289636</td>\n",
       "      <td>0.966441</td>\n",
       "      <td>0.994207</td>\n",
       "      <td>0.491269</td>\n",
       "      <td>0.936047</td>\n",
       "      <td>0.385036</td>\n",
       "      <td>0.901456</td>\n",
       "      <td>19.0</td>\n",
       "    </tr>\n",
       "    <tr>\n",
       "      <th>15</th>\n",
       "      <td>1.812318</td>\n",
       "      <td>0.223809</td>\n",
       "      <td>0.965904</td>\n",
       "      <td>0.995524</td>\n",
       "      <td>0.487298</td>\n",
       "      <td>0.951289</td>\n",
       "      <td>0.384055</td>\n",
       "      <td>0.924276</td>\n",
       "      <td>20.0</td>\n",
       "    </tr>\n",
       "  </tbody>\n",
       "</table>\n",
       "</div>"
      ],
      "text/plain": [
       "    %_invest_loss_test  %_invest_loss_train  accuracy_test  accuracy_train  \\\n",
       "0             2.319152             2.318731       0.953617        0.953625   \n",
       "1             2.234680             2.190370       0.955306        0.956193   \n",
       "2             2.035018             1.876049       0.959300        0.962479   \n",
       "3             1.973583             1.752625       0.960528        0.964948   \n",
       "4             1.923668             1.550209       0.961680        0.968996   \n",
       "5             1.808478             1.392226       0.964061        0.972155   \n",
       "6             1.819997             1.277030       0.963907        0.974459   \n",
       "7             1.762402             1.147023       0.965290        0.977060   \n",
       "8             1.758562             0.997268       0.965673        0.980055   \n",
       "9             1.766242             0.850805       0.965673        0.982984   \n",
       "10            1.793119             0.733963       0.965366        0.985321   \n",
       "11            1.785440             0.613830       0.965827        0.987723   \n",
       "12            1.789280             0.498634       0.965750        0.990027   \n",
       "13            1.762402             0.381792       0.966365        0.992364   \n",
       "14            1.758562             0.289636       0.966441        0.994207   \n",
       "15            1.812318             0.223809       0.965904        0.995524   \n",
       "\n",
       "     f1_test  f1_train   f2_test  f2_train  max_depth  \n",
       "0   0.070769  0.072416  0.045437  0.046523        5.0  \n",
       "1   0.133929  0.166562  0.088132  0.111037        6.0  \n",
       "2   0.267956  0.362416  0.186180  0.262136        7.0  \n",
       "3   0.305405  0.428341  0.215567  0.318945        8.0  \n",
       "4   0.342556  0.525680  0.246212  0.409219        9.0  \n",
       "5   0.409091  0.593660  0.303030  0.477294       10.0  \n",
       "6   0.406566  0.639405  0.301160  0.525672       11.0  \n",
       "7   0.446078  0.687584  0.337412  0.579043       12.0  \n",
       "8   0.460796  0.739018  0.352399  0.638963       13.0  \n",
       "9   0.463385  0.785566  0.355564  0.696016       14.0  \n",
       "10  0.459880  0.820306  0.353461  0.740471       15.0  \n",
       "11  0.475854  0.854012  0.369963  0.785231       16.0  \n",
       "12  0.474057  0.884571  0.368267  0.827277       17.0  \n",
       "13  0.489510  0.913947  0.383352  0.869074       18.0  \n",
       "14  0.491269  0.936047  0.385036  0.901456       19.0  \n",
       "15  0.487298  0.951289  0.384055  0.924276       20.0  "
      ]
     },
     "execution_count": 33,
     "metadata": {},
     "output_type": "execute_result"
    }
   ],
   "source": [
    "rf_no_class_wt = pd.DataFrame()\n",
    "for i in range(5,21):\n",
    "    classifier.model = RandomForestClassifier(random_state=0, class_weight=None, max_depth = i)\n",
    "    train_out = classifier.train()\n",
    "    test_out = classifier.test()\n",
    "    rf_no_class_wt = rf_no_class_wt.append({'max_depth': classifier.model.max_depth,\n",
    "                    'accuracy_train': train_out['accuracy'],\n",
    "                    'accuracy_test': test_out['accuracy'],\n",
    "                    'f1_train': train_out['f1'],          \n",
    "                    'f1_test': test_out['f1'],\n",
    "                    'f2_train': train_out['f2'],          \n",
    "                    'f2_test': test_out['f2'],           \n",
    "                    '%_invest_loss_train': 100*np.sum(cost_matrix*train_out['matrix'])/np.sum(train_out['matrix']),\n",
    "                    '%_invest_loss_test': 100*np.sum(cost_matrix*test_out['matrix'])/np.sum(test_out['matrix'])}, \n",
    "                    ignore_index = True)\n",
    "    print(\"max_depth =\",i,\"complete\")\n",
    "clear_output()\n",
    "rf_no_class_wt"
   ]
  },
  {
   "cell_type": "markdown",
   "metadata": {},
   "source": [
    "##### Rebalanced "
   ]
  },
  {
   "cell_type": "code",
   "execution_count": 34,
   "metadata": {},
   "outputs": [
    {
     "data": {
      "text/html": [
       "<div>\n",
       "<style scoped>\n",
       "    .dataframe tbody tr th:only-of-type {\n",
       "        vertical-align: middle;\n",
       "    }\n",
       "\n",
       "    .dataframe tbody tr th {\n",
       "        vertical-align: top;\n",
       "    }\n",
       "\n",
       "    .dataframe thead th {\n",
       "        text-align: right;\n",
       "    }\n",
       "</style>\n",
       "<table border=\"1\" class=\"dataframe\">\n",
       "  <thead>\n",
       "    <tr style=\"text-align: right;\">\n",
       "      <th></th>\n",
       "      <th>%_invest_loss_test</th>\n",
       "      <th>%_invest_loss_train</th>\n",
       "      <th>accuracy_test</th>\n",
       "      <th>accuracy_train</th>\n",
       "      <th>f1_test</th>\n",
       "      <th>f1_train</th>\n",
       "      <th>f2_test</th>\n",
       "      <th>f2_train</th>\n",
       "      <th>max_depth</th>\n",
       "    </tr>\n",
       "  </thead>\n",
       "  <tbody>\n",
       "    <tr>\n",
       "      <th>0</th>\n",
       "      <td>19.113807</td>\n",
       "      <td>17.903104</td>\n",
       "      <td>0.802795</td>\n",
       "      <td>0.816641</td>\n",
       "      <td>0.267541</td>\n",
       "      <td>0.301267</td>\n",
       "      <td>0.435307</td>\n",
       "      <td>0.485645</td>\n",
       "      <td>5.0</td>\n",
       "    </tr>\n",
       "    <tr>\n",
       "      <th>1</th>\n",
       "      <td>15.481493</td>\n",
       "      <td>14.294178</td>\n",
       "      <td>0.839426</td>\n",
       "      <td>0.853405</td>\n",
       "      <td>0.313300</td>\n",
       "      <td>0.358028</td>\n",
       "      <td>0.484166</td>\n",
       "      <td>0.548102</td>\n",
       "      <td>6.0</td>\n",
       "    </tr>\n",
       "    <tr>\n",
       "      <th>2</th>\n",
       "      <td>12.605591</td>\n",
       "      <td>11.453773</td>\n",
       "      <td>0.867685</td>\n",
       "      <td>0.882303</td>\n",
       "      <td>0.350057</td>\n",
       "      <td>0.415686</td>\n",
       "      <td>0.511915</td>\n",
       "      <td>0.605023</td>\n",
       "      <td>7.0</td>\n",
       "    </tr>\n",
       "    <tr>\n",
       "      <th>3</th>\n",
       "      <td>9.326524</td>\n",
       "      <td>8.007768</td>\n",
       "      <td>0.899017</td>\n",
       "      <td>0.917322</td>\n",
       "      <td>0.393170</td>\n",
       "      <td>0.509758</td>\n",
       "      <td>0.526186</td>\n",
       "      <td>0.686213</td>\n",
       "      <td>8.0</td>\n",
       "    </tr>\n",
       "    <tr>\n",
       "      <th>4</th>\n",
       "      <td>7.694671</td>\n",
       "      <td>6.186025</td>\n",
       "      <td>0.914299</td>\n",
       "      <td>0.936149</td>\n",
       "      <td>0.416928</td>\n",
       "      <td>0.580631</td>\n",
       "      <td>0.525692</td>\n",
       "      <td>0.744622</td>\n",
       "      <td>9.0</td>\n",
       "    </tr>\n",
       "    <tr>\n",
       "      <th>5</th>\n",
       "      <td>5.498387</td>\n",
       "      <td>4.023632</td>\n",
       "      <td>0.934956</td>\n",
       "      <td>0.958102</td>\n",
       "      <td>0.462904</td>\n",
       "      <td>0.681670</td>\n",
       "      <td>0.527762</td>\n",
       "      <td>0.812180</td>\n",
       "      <td>10.0</td>\n",
       "    </tr>\n",
       "    <tr>\n",
       "      <th>6</th>\n",
       "      <td>4.319613</td>\n",
       "      <td>2.738373</td>\n",
       "      <td>0.945554</td>\n",
       "      <td>0.971431</td>\n",
       "      <td>0.485113</td>\n",
       "      <td>0.762322</td>\n",
       "      <td>0.512584</td>\n",
       "      <td>0.865241</td>\n",
       "      <td>11.0</td>\n",
       "    </tr>\n",
       "    <tr>\n",
       "      <th>7</th>\n",
       "      <td>3.551682</td>\n",
       "      <td>2.029095</td>\n",
       "      <td>0.952542</td>\n",
       "      <td>0.978969</td>\n",
       "      <td>0.505600</td>\n",
       "      <td>0.816221</td>\n",
       "      <td>0.504631</td>\n",
       "      <td>0.901639</td>\n",
       "      <td>12.0</td>\n",
       "    </tr>\n",
       "    <tr>\n",
       "      <th>8</th>\n",
       "      <td>3.183075</td>\n",
       "      <td>1.551855</td>\n",
       "      <td>0.955537</td>\n",
       "      <td>0.984103</td>\n",
       "      <td>0.507234</td>\n",
       "      <td>0.856464</td>\n",
       "      <td>0.487565</td>\n",
       "      <td>0.928838</td>\n",
       "      <td>13.0</td>\n",
       "    </tr>\n",
       "    <tr>\n",
       "      <th>9</th>\n",
       "      <td>2.791430</td>\n",
       "      <td>1.117401</td>\n",
       "      <td>0.958685</td>\n",
       "      <td>0.988645</td>\n",
       "      <td>0.508227</td>\n",
       "      <td>0.893879</td>\n",
       "      <td>0.467227</td>\n",
       "      <td>0.950543</td>\n",
       "      <td>14.0</td>\n",
       "    </tr>\n",
       "    <tr>\n",
       "      <th>10</th>\n",
       "      <td>2.599447</td>\n",
       "      <td>0.895237</td>\n",
       "      <td>0.959991</td>\n",
       "      <td>0.990982</td>\n",
       "      <td>0.501435</td>\n",
       "      <td>0.914214</td>\n",
       "      <td>0.447710</td>\n",
       "      <td>0.962299</td>\n",
       "      <td>15.0</td>\n",
       "    </tr>\n",
       "    <tr>\n",
       "      <th>11</th>\n",
       "      <td>2.349869</td>\n",
       "      <td>0.633578</td>\n",
       "      <td>0.961680</td>\n",
       "      <td>0.993615</td>\n",
       "      <td>0.491335</td>\n",
       "      <td>0.937741</td>\n",
       "      <td>0.421034</td>\n",
       "      <td>0.972962</td>\n",
       "      <td>16.0</td>\n",
       "    </tr>\n",
       "    <tr>\n",
       "      <th>12</th>\n",
       "      <td>2.207802</td>\n",
       "      <td>0.449264</td>\n",
       "      <td>0.962909</td>\n",
       "      <td>0.995491</td>\n",
       "      <td>0.494241</td>\n",
       "      <td>0.955273</td>\n",
       "      <td>0.416079</td>\n",
       "      <td>0.981221</td>\n",
       "      <td>17.0</td>\n",
       "    </tr>\n",
       "    <tr>\n",
       "      <th>13</th>\n",
       "      <td>2.211642</td>\n",
       "      <td>0.348879</td>\n",
       "      <td>0.962448</td>\n",
       "      <td>0.996511</td>\n",
       "      <td>0.479233</td>\n",
       "      <td>0.965063</td>\n",
       "      <td>0.398936</td>\n",
       "      <td>0.985726</td>\n",
       "      <td>18.0</td>\n",
       "    </tr>\n",
       "    <tr>\n",
       "      <th>14</th>\n",
       "      <td>2.107971</td>\n",
       "      <td>0.250140</td>\n",
       "      <td>0.963293</td>\n",
       "      <td>0.997499</td>\n",
       "      <td>0.479303</td>\n",
       "      <td>0.974700</td>\n",
       "      <td>0.392997</td>\n",
       "      <td>0.989724</td>\n",
       "      <td>19.0</td>\n",
       "    </tr>\n",
       "    <tr>\n",
       "      <th>15</th>\n",
       "      <td>1.985102</td>\n",
       "      <td>0.169503</td>\n",
       "      <td>0.964445</td>\n",
       "      <td>0.998289</td>\n",
       "      <td>0.484983</td>\n",
       "      <td>0.982539</td>\n",
       "      <td>0.392086</td>\n",
       "      <td>0.992537</td>\n",
       "      <td>20.0</td>\n",
       "    </tr>\n",
       "  </tbody>\n",
       "</table>\n",
       "</div>"
      ],
      "text/plain": [
       "    %_invest_loss_test  %_invest_loss_train  accuracy_test  accuracy_train  \\\n",
       "0            19.113807            17.903104       0.802795        0.816641   \n",
       "1            15.481493            14.294178       0.839426        0.853405   \n",
       "2            12.605591            11.453773       0.867685        0.882303   \n",
       "3             9.326524             8.007768       0.899017        0.917322   \n",
       "4             7.694671             6.186025       0.914299        0.936149   \n",
       "5             5.498387             4.023632       0.934956        0.958102   \n",
       "6             4.319613             2.738373       0.945554        0.971431   \n",
       "7             3.551682             2.029095       0.952542        0.978969   \n",
       "8             3.183075             1.551855       0.955537        0.984103   \n",
       "9             2.791430             1.117401       0.958685        0.988645   \n",
       "10            2.599447             0.895237       0.959991        0.990982   \n",
       "11            2.349869             0.633578       0.961680        0.993615   \n",
       "12            2.207802             0.449264       0.962909        0.995491   \n",
       "13            2.211642             0.348879       0.962448        0.996511   \n",
       "14            2.107971             0.250140       0.963293        0.997499   \n",
       "15            1.985102             0.169503       0.964445        0.998289   \n",
       "\n",
       "     f1_test  f1_train   f2_test  f2_train  max_depth  \n",
       "0   0.267541  0.301267  0.435307  0.485645        5.0  \n",
       "1   0.313300  0.358028  0.484166  0.548102        6.0  \n",
       "2   0.350057  0.415686  0.511915  0.605023        7.0  \n",
       "3   0.393170  0.509758  0.526186  0.686213        8.0  \n",
       "4   0.416928  0.580631  0.525692  0.744622        9.0  \n",
       "5   0.462904  0.681670  0.527762  0.812180       10.0  \n",
       "6   0.485113  0.762322  0.512584  0.865241       11.0  \n",
       "7   0.505600  0.816221  0.504631  0.901639       12.0  \n",
       "8   0.507234  0.856464  0.487565  0.928838       13.0  \n",
       "9   0.508227  0.893879  0.467227  0.950543       14.0  \n",
       "10  0.501435  0.914214  0.447710  0.962299       15.0  \n",
       "11  0.491335  0.937741  0.421034  0.972962       16.0  \n",
       "12  0.494241  0.955273  0.416079  0.981221       17.0  \n",
       "13  0.479233  0.965063  0.398936  0.985726       18.0  \n",
       "14  0.479303  0.974700  0.392997  0.989724       19.0  \n",
       "15  0.484983  0.982539  0.392086  0.992537       20.0  "
      ]
     },
     "execution_count": 34,
     "metadata": {},
     "output_type": "execute_result"
    }
   ],
   "source": [
    "rf_rebalanced = pd.DataFrame()\n",
    "for i in range(5,21):\n",
    "    classifier.model = RandomForestClassifier(random_state=0, class_weight='balanced', max_depth = i)\n",
    "    train_out = classifier.train()\n",
    "    test_out = classifier.test()\n",
    "    rf_rebalanced = rf_rebalanced.append({'max_depth': classifier.model.max_depth,\n",
    "                    'accuracy_train': train_out['accuracy'],\n",
    "                    'accuracy_test': test_out['accuracy'],\n",
    "                    'f1_train': train_out['f1'],          \n",
    "                    'f1_test': test_out['f1'],\n",
    "                    'f2_train': train_out['f2'],          \n",
    "                    'f2_test': test_out['f2'],           \n",
    "                    '%_invest_loss_train': 100*np.sum(cost_matrix*train_out['matrix'])/np.sum(train_out['matrix']),\n",
    "                    '%_invest_loss_test': 100*np.sum(cost_matrix*test_out['matrix'])/np.sum(test_out['matrix'])}, \n",
    "                    ignore_index = True)\n",
    "    print(\"max_depth =\",i,\"complete\")\n",
    "clear_output()\n",
    "rf_rebalanced"
   ]
  },
  {
   "cell_type": "markdown",
   "metadata": {},
   "source": [
    "### Extreme Gradient Boosting"
   ]
  },
  {
   "cell_type": "markdown",
   "metadata": {},
   "source": [
    "#### Metrics vs. Max Tree Depth"
   ]
  },
  {
   "cell_type": "markdown",
   "metadata": {},
   "source": [
    "##### No Class Weights"
   ]
  },
  {
   "cell_type": "code",
   "execution_count": 45,
   "metadata": {},
   "outputs": [
    {
     "data": {
      "text/html": [
       "<div>\n",
       "<style scoped>\n",
       "    .dataframe tbody tr th:only-of-type {\n",
       "        vertical-align: middle;\n",
       "    }\n",
       "\n",
       "    .dataframe tbody tr th {\n",
       "        vertical-align: top;\n",
       "    }\n",
       "\n",
       "    .dataframe thead th {\n",
       "        text-align: right;\n",
       "    }\n",
       "</style>\n",
       "<table border=\"1\" class=\"dataframe\">\n",
       "  <thead>\n",
       "    <tr style=\"text-align: right;\">\n",
       "      <th></th>\n",
       "      <th>%_invest_loss_test</th>\n",
       "      <th>%_invest_loss_train</th>\n",
       "      <th>accuracy_test</th>\n",
       "      <th>accuracy_train</th>\n",
       "      <th>f1_test</th>\n",
       "      <th>f1_train</th>\n",
       "      <th>f2_test</th>\n",
       "      <th>f2_train</th>\n",
       "      <th>max_depth</th>\n",
       "    </tr>\n",
       "  </thead>\n",
       "  <tbody>\n",
       "    <tr>\n",
       "      <th>0</th>\n",
       "      <td>2.196283</td>\n",
       "      <td>2.236448</td>\n",
       "      <td>0.956919</td>\n",
       "      <td>0.956456</td>\n",
       "      <td>0.215385</td>\n",
       "      <td>0.211091</td>\n",
       "      <td>0.148305</td>\n",
       "      <td>0.145823</td>\n",
       "      <td>2.0</td>\n",
       "    </tr>\n",
       "    <tr>\n",
       "      <th>1</th>\n",
       "      <td>1.712487</td>\n",
       "      <td>1.647303</td>\n",
       "      <td>0.967056</td>\n",
       "      <td>0.967811</td>\n",
       "      <td>0.500582</td>\n",
       "      <td>0.510020</td>\n",
       "      <td>0.392336</td>\n",
       "      <td>0.398403</td>\n",
       "      <td>3.0</td>\n",
       "    </tr>\n",
       "    <tr>\n",
       "      <th>2</th>\n",
       "      <td>1.635693</td>\n",
       "      <td>1.515650</td>\n",
       "      <td>0.967824</td>\n",
       "      <td>0.969917</td>\n",
       "      <td>0.506478</td>\n",
       "      <td>0.549310</td>\n",
       "      <td>0.393773</td>\n",
       "      <td>0.433801</td>\n",
       "      <td>4.0</td>\n",
       "    </tr>\n",
       "    <tr>\n",
       "      <th>3</th>\n",
       "      <td>1.512824</td>\n",
       "      <td>1.344502</td>\n",
       "      <td>0.970358</td>\n",
       "      <td>0.973275</td>\n",
       "      <td>0.563348</td>\n",
       "      <td>0.618062</td>\n",
       "      <td>0.450271</td>\n",
       "      <td>0.503989</td>\n",
       "      <td>5.0</td>\n",
       "    </tr>\n",
       "    <tr>\n",
       "      <th>4</th>\n",
       "      <td>1.489787</td>\n",
       "      <td>1.224369</td>\n",
       "      <td>0.971049</td>\n",
       "      <td>0.975611</td>\n",
       "      <td>0.580645</td>\n",
       "      <td>0.662107</td>\n",
       "      <td>0.469424</td>\n",
       "      <td>0.551253</td>\n",
       "      <td>6.0</td>\n",
       "    </tr>\n",
       "    <tr>\n",
       "      <th>5</th>\n",
       "      <td>1.462909</td>\n",
       "      <td>1.028536</td>\n",
       "      <td>0.971971</td>\n",
       "      <td>0.979462</td>\n",
       "      <td>0.603692</td>\n",
       "      <td>0.729402</td>\n",
       "      <td>0.496074</td>\n",
       "      <td>0.627799</td>\n",
       "      <td>7.0</td>\n",
       "    </tr>\n",
       "    <tr>\n",
       "      <th>6</th>\n",
       "      <td>1.405314</td>\n",
       "      <td>0.822829</td>\n",
       "      <td>0.973046</td>\n",
       "      <td>0.983543</td>\n",
       "      <td>0.623794</td>\n",
       "      <td>0.794069</td>\n",
       "      <td>0.517058</td>\n",
       "      <td>0.706745</td>\n",
       "      <td>8.0</td>\n",
       "    </tr>\n",
       "    <tr>\n",
       "      <th>7</th>\n",
       "      <td>1.370757</td>\n",
       "      <td>0.661554</td>\n",
       "      <td>0.973583</td>\n",
       "      <td>0.986769</td>\n",
       "      <td>0.632479</td>\n",
       "      <td>0.840855</td>\n",
       "      <td>0.525382</td>\n",
       "      <td>0.767563</td>\n",
       "      <td>9.0</td>\n",
       "    </tr>\n",
       "    <tr>\n",
       "      <th>8</th>\n",
       "      <td>1.389955</td>\n",
       "      <td>0.496988</td>\n",
       "      <td>0.973814</td>\n",
       "      <td>0.990060</td>\n",
       "      <td>0.642932</td>\n",
       "      <td>0.884996</td>\n",
       "      <td>0.541255</td>\n",
       "      <td>0.827871</td>\n",
       "      <td>10.0</td>\n",
       "    </tr>\n",
       "    <tr>\n",
       "      <th>9</th>\n",
       "      <td>1.382276</td>\n",
       "      <td>0.350525</td>\n",
       "      <td>0.973890</td>\n",
       "      <td>0.992990</td>\n",
       "      <td>0.643606</td>\n",
       "      <td>0.921547</td>\n",
       "      <td>0.541446</td>\n",
       "      <td>0.880118</td>\n",
       "      <td>11.0</td>\n",
       "    </tr>\n",
       "    <tr>\n",
       "      <th>10</th>\n",
       "      <td>1.455230</td>\n",
       "      <td>0.228746</td>\n",
       "      <td>0.972815</td>\n",
       "      <td>0.995425</td>\n",
       "      <td>0.627368</td>\n",
       "      <td>0.950161</td>\n",
       "      <td>0.526316</td>\n",
       "      <td>0.922573</td>\n",
       "      <td>12.0</td>\n",
       "    </tr>\n",
       "    <tr>\n",
       "      <th>11</th>\n",
       "      <td>1.424512</td>\n",
       "      <td>0.149755</td>\n",
       "      <td>0.973737</td>\n",
       "      <td>0.997005</td>\n",
       "      <td>0.647423</td>\n",
       "      <td>0.967924</td>\n",
       "      <td>0.550684</td>\n",
       "      <td>0.949647</td>\n",
       "      <td>13.0</td>\n",
       "    </tr>\n",
       "    <tr>\n",
       "      <th>12</th>\n",
       "      <td>1.459069</td>\n",
       "      <td>0.130007</td>\n",
       "      <td>0.973199</td>\n",
       "      <td>0.997400</td>\n",
       "      <td>0.639090</td>\n",
       "      <td>0.972271</td>\n",
       "      <td>0.542486</td>\n",
       "      <td>0.956360</td>\n",
       "      <td>14.0</td>\n",
       "    </tr>\n",
       "    <tr>\n",
       "      <th>13</th>\n",
       "      <td>1.466749</td>\n",
       "      <td>0.115196</td>\n",
       "      <td>0.972815</td>\n",
       "      <td>0.997696</td>\n",
       "      <td>0.629707</td>\n",
       "      <td>0.975507</td>\n",
       "      <td>0.530490</td>\n",
       "      <td>0.961379</td>\n",
       "      <td>15.0</td>\n",
       "    </tr>\n",
       "    <tr>\n",
       "      <th>14</th>\n",
       "      <td>1.493626</td>\n",
       "      <td>0.092157</td>\n",
       "      <td>0.972431</td>\n",
       "      <td>0.998157</td>\n",
       "      <td>0.624084</td>\n",
       "      <td>0.980501</td>\n",
       "      <td>0.525388</td>\n",
       "      <td>0.969163</td>\n",
       "      <td>16.0</td>\n",
       "    </tr>\n",
       "    <tr>\n",
       "      <th>15</th>\n",
       "      <td>1.501305</td>\n",
       "      <td>0.069118</td>\n",
       "      <td>0.972969</td>\n",
       "      <td>0.998618</td>\n",
       "      <td>0.640816</td>\n",
       "      <td>0.985447</td>\n",
       "      <td>0.548759</td>\n",
       "      <td>0.976917</td>\n",
       "      <td>17.0</td>\n",
       "    </tr>\n",
       "    <tr>\n",
       "      <th>16</th>\n",
       "      <td>1.505145</td>\n",
       "      <td>0.067472</td>\n",
       "      <td>0.972508</td>\n",
       "      <td>0.998651</td>\n",
       "      <td>0.628631</td>\n",
       "      <td>0.985798</td>\n",
       "      <td>0.532513</td>\n",
       "      <td>0.977469</td>\n",
       "      <td>18.0</td>\n",
       "    </tr>\n",
       "    <tr>\n",
       "      <th>17</th>\n",
       "      <td>1.528183</td>\n",
       "      <td>0.070763</td>\n",
       "      <td>0.972431</td>\n",
       "      <td>0.998585</td>\n",
       "      <td>0.631038</td>\n",
       "      <td>0.985095</td>\n",
       "      <td>0.537842</td>\n",
       "      <td>0.976364</td>\n",
       "      <td>19.0</td>\n",
       "    </tr>\n",
       "    <tr>\n",
       "      <th>18</th>\n",
       "      <td>1.470588</td>\n",
       "      <td>0.057598</td>\n",
       "      <td>0.973199</td>\n",
       "      <td>0.998848</td>\n",
       "      <td>0.641316</td>\n",
       "      <td>0.987902</td>\n",
       "      <td>0.546601</td>\n",
       "      <td>0.980782</td>\n",
       "      <td>20.0</td>\n",
       "    </tr>\n",
       "  </tbody>\n",
       "</table>\n",
       "</div>"
      ],
      "text/plain": [
       "    %_invest_loss_test  %_invest_loss_train  accuracy_test  accuracy_train  \\\n",
       "0             2.196283             2.236448       0.956919        0.956456   \n",
       "1             1.712487             1.647303       0.967056        0.967811   \n",
       "2             1.635693             1.515650       0.967824        0.969917   \n",
       "3             1.512824             1.344502       0.970358        0.973275   \n",
       "4             1.489787             1.224369       0.971049        0.975611   \n",
       "5             1.462909             1.028536       0.971971        0.979462   \n",
       "6             1.405314             0.822829       0.973046        0.983543   \n",
       "7             1.370757             0.661554       0.973583        0.986769   \n",
       "8             1.389955             0.496988       0.973814        0.990060   \n",
       "9             1.382276             0.350525       0.973890        0.992990   \n",
       "10            1.455230             0.228746       0.972815        0.995425   \n",
       "11            1.424512             0.149755       0.973737        0.997005   \n",
       "12            1.459069             0.130007       0.973199        0.997400   \n",
       "13            1.466749             0.115196       0.972815        0.997696   \n",
       "14            1.493626             0.092157       0.972431        0.998157   \n",
       "15            1.501305             0.069118       0.972969        0.998618   \n",
       "16            1.505145             0.067472       0.972508        0.998651   \n",
       "17            1.528183             0.070763       0.972431        0.998585   \n",
       "18            1.470588             0.057598       0.973199        0.998848   \n",
       "\n",
       "     f1_test  f1_train   f2_test  f2_train  max_depth  \n",
       "0   0.215385  0.211091  0.148305  0.145823        2.0  \n",
       "1   0.500582  0.510020  0.392336  0.398403        3.0  \n",
       "2   0.506478  0.549310  0.393773  0.433801        4.0  \n",
       "3   0.563348  0.618062  0.450271  0.503989        5.0  \n",
       "4   0.580645  0.662107  0.469424  0.551253        6.0  \n",
       "5   0.603692  0.729402  0.496074  0.627799        7.0  \n",
       "6   0.623794  0.794069  0.517058  0.706745        8.0  \n",
       "7   0.632479  0.840855  0.525382  0.767563        9.0  \n",
       "8   0.642932  0.884996  0.541255  0.827871       10.0  \n",
       "9   0.643606  0.921547  0.541446  0.880118       11.0  \n",
       "10  0.627368  0.950161  0.526316  0.922573       12.0  \n",
       "11  0.647423  0.967924  0.550684  0.949647       13.0  \n",
       "12  0.639090  0.972271  0.542486  0.956360       14.0  \n",
       "13  0.629707  0.975507  0.530490  0.961379       15.0  \n",
       "14  0.624084  0.980501  0.525388  0.969163       16.0  \n",
       "15  0.640816  0.985447  0.548759  0.976917       17.0  \n",
       "16  0.628631  0.985798  0.532513  0.977469       18.0  \n",
       "17  0.631038  0.985095  0.537842  0.976364       19.0  \n",
       "18  0.641316  0.987902  0.546601  0.980782       20.0  "
      ]
     },
     "execution_count": 45,
     "metadata": {},
     "output_type": "execute_result"
    }
   ],
   "source": [
    "xgb_no_class_wt = pd.DataFrame()\n",
    "for i in range(2,21):\n",
    "    params = {\n",
    "    'max_depth': i,\n",
    "    'objective': 'multi:softmax',\n",
    "    'eval_metric': 'logloss',\n",
    "    'num_class': 2,\n",
    "    'eta': 0.3,\n",
    "    }\n",
    "    classifier.model = XGBModel(params) #num_round\n",
    "    train_out = classifier.train()\n",
    "    test_out = classifier.test()\n",
    "    xgb_no_class_wt = xgb_no_class_wt.append({'max_depth': i,\n",
    "                    'accuracy_train': train_out['accuracy'],\n",
    "                    'accuracy_test': test_out['accuracy'],\n",
    "                    'f1_train': train_out['f1'],          \n",
    "                    'f1_test': test_out['f1'],\n",
    "                    'f2_train': train_out['f2'],            \n",
    "                    'f2_test': test_out['f2'], \n",
    "                    '%_invest_loss_train': 100*np.sum(cost_matrix*train_out['matrix'])/np.sum(train_out['matrix']),\n",
    "                    '%_invest_loss_test': 100*np.sum(cost_matrix*test_out['matrix'])/np.sum(test_out['matrix'])}, \n",
    "                    ignore_index = True)\n",
    "    print(\"max_depth =\",i,\"complete\")\n",
    "clear_output()\n",
    "xgb_no_class_wt"
   ]
  },
  {
   "cell_type": "markdown",
   "metadata": {},
   "source": [
    "##### Rebalanced "
   ]
  },
  {
   "cell_type": "code",
   "execution_count": 44,
   "metadata": {
    "scrolled": true
   },
   "outputs": [
    {
     "data": {
      "text/html": [
       "<div>\n",
       "<style scoped>\n",
       "    .dataframe tbody tr th:only-of-type {\n",
       "        vertical-align: middle;\n",
       "    }\n",
       "\n",
       "    .dataframe tbody tr th {\n",
       "        vertical-align: top;\n",
       "    }\n",
       "\n",
       "    .dataframe thead th {\n",
       "        text-align: right;\n",
       "    }\n",
       "</style>\n",
       "<table border=\"1\" class=\"dataframe\">\n",
       "  <thead>\n",
       "    <tr style=\"text-align: right;\">\n",
       "      <th></th>\n",
       "      <th>%_invest_loss_test</th>\n",
       "      <th>%_invest_loss_train</th>\n",
       "      <th>accuracy_test</th>\n",
       "      <th>accuracy_train</th>\n",
       "      <th>f1_test</th>\n",
       "      <th>f1_train</th>\n",
       "      <th>f2_test</th>\n",
       "      <th>f2_train</th>\n",
       "      <th>max_depth</th>\n",
       "    </tr>\n",
       "  </thead>\n",
       "  <tbody>\n",
       "    <tr>\n",
       "      <th>0</th>\n",
       "      <td>19.493933</td>\n",
       "      <td>18.600862</td>\n",
       "      <td>0.799570</td>\n",
       "      <td>0.808906</td>\n",
       "      <td>0.270542</td>\n",
       "      <td>0.284623</td>\n",
       "      <td>0.443305</td>\n",
       "      <td>0.461705</td>\n",
       "      <td>2.0</td>\n",
       "    </tr>\n",
       "    <tr>\n",
       "      <th>1</th>\n",
       "      <td>15.681155</td>\n",
       "      <td>14.950795</td>\n",
       "      <td>0.838427</td>\n",
       "      <td>0.846296</td>\n",
       "      <td>0.323473</td>\n",
       "      <td>0.341140</td>\n",
       "      <td>0.503907</td>\n",
       "      <td>0.526568</td>\n",
       "      <td>3.0</td>\n",
       "    </tr>\n",
       "    <tr>\n",
       "      <th>2</th>\n",
       "      <td>13.404239</td>\n",
       "      <td>12.689662</td>\n",
       "      <td>0.861235</td>\n",
       "      <td>0.870191</td>\n",
       "      <td>0.358082</td>\n",
       "      <td>0.394906</td>\n",
       "      <td>0.536627</td>\n",
       "      <td>0.589826</td>\n",
       "      <td>4.0</td>\n",
       "    </tr>\n",
       "    <tr>\n",
       "      <th>3</th>\n",
       "      <td>11.975887</td>\n",
       "      <td>10.976533</td>\n",
       "      <td>0.875442</td>\n",
       "      <td>0.888029</td>\n",
       "      <td>0.382331</td>\n",
       "      <td>0.438799</td>\n",
       "      <td>0.556911</td>\n",
       "      <td>0.636120</td>\n",
       "      <td>5.0</td>\n",
       "    </tr>\n",
       "    <tr>\n",
       "      <th>4</th>\n",
       "      <td>9.418676</td>\n",
       "      <td>8.489945</td>\n",
       "      <td>0.900476</td>\n",
       "      <td>0.913702</td>\n",
       "      <td>0.429577</td>\n",
       "      <td>0.512639</td>\n",
       "      <td>0.587527</td>\n",
       "      <td>0.705587</td>\n",
       "      <td>6.0</td>\n",
       "    </tr>\n",
       "    <tr>\n",
       "      <th>5</th>\n",
       "      <td>8.163109</td>\n",
       "      <td>6.447685</td>\n",
       "      <td>0.913070</td>\n",
       "      <td>0.934667</td>\n",
       "      <td>0.463507</td>\n",
       "      <td>0.587232</td>\n",
       "      <td>0.612628</td>\n",
       "      <td>0.767308</td>\n",
       "      <td>7.0</td>\n",
       "    </tr>\n",
       "    <tr>\n",
       "      <th>6</th>\n",
       "      <td>6.838427</td>\n",
       "      <td>5.415858</td>\n",
       "      <td>0.925204</td>\n",
       "      <td>0.945265</td>\n",
       "      <td>0.485744</td>\n",
       "      <td>0.632161</td>\n",
       "      <td>0.609272</td>\n",
       "      <td>0.801638</td>\n",
       "      <td>8.0</td>\n",
       "    </tr>\n",
       "    <tr>\n",
       "      <th>7</th>\n",
       "      <td>5.425434</td>\n",
       "      <td>3.972616</td>\n",
       "      <td>0.939641</td>\n",
       "      <td>0.959978</td>\n",
       "      <td>0.543554</td>\n",
       "      <td>0.703992</td>\n",
       "      <td>0.649459</td>\n",
       "      <td>0.850588</td>\n",
       "      <td>9.0</td>\n",
       "    </tr>\n",
       "    <tr>\n",
       "      <th>8</th>\n",
       "      <td>4.434803</td>\n",
       "      <td>2.330250</td>\n",
       "      <td>0.948318</td>\n",
       "      <td>0.976632</td>\n",
       "      <td>0.564401</td>\n",
       "      <td>0.804408</td>\n",
       "      <td>0.636311</td>\n",
       "      <td>0.909998</td>\n",
       "      <td>10.0</td>\n",
       "    </tr>\n",
       "    <tr>\n",
       "      <th>9</th>\n",
       "      <td>3.613116</td>\n",
       "      <td>1.788829</td>\n",
       "      <td>0.956228</td>\n",
       "      <td>0.982095</td>\n",
       "      <td>0.600281</td>\n",
       "      <td>0.843228</td>\n",
       "      <td>0.647112</td>\n",
       "      <td>0.930425</td>\n",
       "      <td>11.0</td>\n",
       "    </tr>\n",
       "    <tr>\n",
       "      <th>10</th>\n",
       "      <td>2.657042</td>\n",
       "      <td>0.799789</td>\n",
       "      <td>0.965366</td>\n",
       "      <td>0.992002</td>\n",
       "      <td>0.649027</td>\n",
       "      <td>0.923368</td>\n",
       "      <td>0.658560</td>\n",
       "      <td>0.967870</td>\n",
       "      <td>12.0</td>\n",
       "    </tr>\n",
       "    <tr>\n",
       "      <th>11</th>\n",
       "      <td>2.269237</td>\n",
       "      <td>0.437745</td>\n",
       "      <td>0.968438</td>\n",
       "      <td>0.995623</td>\n",
       "      <td>0.658354</td>\n",
       "      <td>0.956550</td>\n",
       "      <td>0.642023</td>\n",
       "      <td>0.982155</td>\n",
       "      <td>13.0</td>\n",
       "    </tr>\n",
       "    <tr>\n",
       "      <th>12</th>\n",
       "      <td>2.238519</td>\n",
       "      <td>0.365336</td>\n",
       "      <td>0.968592</td>\n",
       "      <td>0.996347</td>\n",
       "      <td>0.657167</td>\n",
       "      <td>0.963475</td>\n",
       "      <td>0.637606</td>\n",
       "      <td>0.985063</td>\n",
       "      <td>14.0</td>\n",
       "    </tr>\n",
       "    <tr>\n",
       "      <th>13</th>\n",
       "      <td>2.096452</td>\n",
       "      <td>0.213935</td>\n",
       "      <td>0.970127</td>\n",
       "      <td>0.997861</td>\n",
       "      <td>0.670059</td>\n",
       "      <td>0.978283</td>\n",
       "      <td>0.645425</td>\n",
       "      <td>0.991198</td>\n",
       "      <td>15.0</td>\n",
       "    </tr>\n",
       "    <tr>\n",
       "      <th>14</th>\n",
       "      <td>2.200123</td>\n",
       "      <td>0.263305</td>\n",
       "      <td>0.968899</td>\n",
       "      <td>0.997367</td>\n",
       "      <td>0.658228</td>\n",
       "      <td>0.973404</td>\n",
       "      <td>0.636008</td>\n",
       "      <td>0.989189</td>\n",
       "      <td>16.0</td>\n",
       "    </tr>\n",
       "    <tr>\n",
       "      <th>15</th>\n",
       "      <td>1.996621</td>\n",
       "      <td>0.134944</td>\n",
       "      <td>0.970665</td>\n",
       "      <td>0.998651</td>\n",
       "      <td>0.667247</td>\n",
       "      <td>0.986191</td>\n",
       "      <td>0.632222</td>\n",
       "      <td>0.994430</td>\n",
       "      <td>17.0</td>\n",
       "    </tr>\n",
       "    <tr>\n",
       "      <th>16</th>\n",
       "      <td>1.992781</td>\n",
       "      <td>0.134944</td>\n",
       "      <td>0.970435</td>\n",
       "      <td>0.998651</td>\n",
       "      <td>0.661390</td>\n",
       "      <td>0.986191</td>\n",
       "      <td>0.622929</td>\n",
       "      <td>0.994430</td>\n",
       "      <td>18.0</td>\n",
       "    </tr>\n",
       "    <tr>\n",
       "      <th>17</th>\n",
       "      <td>1.988942</td>\n",
       "      <td>0.088865</td>\n",
       "      <td>0.970819</td>\n",
       "      <td>0.999111</td>\n",
       "      <td>0.669565</td>\n",
       "      <td>0.990863</td>\n",
       "      <td>0.635104</td>\n",
       "      <td>0.996325</td>\n",
       "      <td>19.0</td>\n",
       "    </tr>\n",
       "    <tr>\n",
       "      <th>18</th>\n",
       "      <td>1.992781</td>\n",
       "      <td>0.108613</td>\n",
       "      <td>0.970511</td>\n",
       "      <td>0.998914</td>\n",
       "      <td>0.663158</td>\n",
       "      <td>0.988855</td>\n",
       "      <td>0.625621</td>\n",
       "      <td>0.995512</td>\n",
       "      <td>20.0</td>\n",
       "    </tr>\n",
       "  </tbody>\n",
       "</table>\n",
       "</div>"
      ],
      "text/plain": [
       "    %_invest_loss_test  %_invest_loss_train  accuracy_test  accuracy_train  \\\n",
       "0            19.493933            18.600862       0.799570        0.808906   \n",
       "1            15.681155            14.950795       0.838427        0.846296   \n",
       "2            13.404239            12.689662       0.861235        0.870191   \n",
       "3            11.975887            10.976533       0.875442        0.888029   \n",
       "4             9.418676             8.489945       0.900476        0.913702   \n",
       "5             8.163109             6.447685       0.913070        0.934667   \n",
       "6             6.838427             5.415858       0.925204        0.945265   \n",
       "7             5.425434             3.972616       0.939641        0.959978   \n",
       "8             4.434803             2.330250       0.948318        0.976632   \n",
       "9             3.613116             1.788829       0.956228        0.982095   \n",
       "10            2.657042             0.799789       0.965366        0.992002   \n",
       "11            2.269237             0.437745       0.968438        0.995623   \n",
       "12            2.238519             0.365336       0.968592        0.996347   \n",
       "13            2.096452             0.213935       0.970127        0.997861   \n",
       "14            2.200123             0.263305       0.968899        0.997367   \n",
       "15            1.996621             0.134944       0.970665        0.998651   \n",
       "16            1.992781             0.134944       0.970435        0.998651   \n",
       "17            1.988942             0.088865       0.970819        0.999111   \n",
       "18            1.992781             0.108613       0.970511        0.998914   \n",
       "\n",
       "     f1_test  f1_train   f2_test  f2_train  max_depth  \n",
       "0   0.270542  0.284623  0.443305  0.461705        2.0  \n",
       "1   0.323473  0.341140  0.503907  0.526568        3.0  \n",
       "2   0.358082  0.394906  0.536627  0.589826        4.0  \n",
       "3   0.382331  0.438799  0.556911  0.636120        5.0  \n",
       "4   0.429577  0.512639  0.587527  0.705587        6.0  \n",
       "5   0.463507  0.587232  0.612628  0.767308        7.0  \n",
       "6   0.485744  0.632161  0.609272  0.801638        8.0  \n",
       "7   0.543554  0.703992  0.649459  0.850588        9.0  \n",
       "8   0.564401  0.804408  0.636311  0.909998       10.0  \n",
       "9   0.600281  0.843228  0.647112  0.930425       11.0  \n",
       "10  0.649027  0.923368  0.658560  0.967870       12.0  \n",
       "11  0.658354  0.956550  0.642023  0.982155       13.0  \n",
       "12  0.657167  0.963475  0.637606  0.985063       14.0  \n",
       "13  0.670059  0.978283  0.645425  0.991198       15.0  \n",
       "14  0.658228  0.973404  0.636008  0.989189       16.0  \n",
       "15  0.667247  0.986191  0.632222  0.994430       17.0  \n",
       "16  0.661390  0.986191  0.622929  0.994430       18.0  \n",
       "17  0.669565  0.990863  0.635104  0.996325       19.0  \n",
       "18  0.663158  0.988855  0.625621  0.995512       20.0  "
      ]
     },
     "execution_count": 44,
     "metadata": {},
     "output_type": "execute_result"
    }
   ],
   "source": [
    "xgb_rebalanced = pd.DataFrame()\n",
    "for i in range(2,21):\n",
    "    params = {\n",
    "    'max_depth': i,\n",
    "    'objective': 'binary:logistic',\n",
    "    'eval_metric': 'logloss',\n",
    "    'eta': 0.3,\n",
    "    'scale_pos_weight': 19.758 \n",
    "    }\n",
    "    classifier.model = XGBModel(params)\n",
    "    train_out = classifier.train()\n",
    "    test_out = classifier.test()\n",
    "    xgb_rebalanced = xgb_rebalanced.append({'max_depth': i,\n",
    "                    'accuracy_train': train_out['accuracy'],\n",
    "                    'accuracy_test': test_out['accuracy'],\n",
    "                    'f1_train': train_out['f1'],          \n",
    "                    'f1_test': test_out['f1'],                        \n",
    "                    'f2_train': train_out['f2'],            \n",
    "                    'f2_test': test_out['f2'], \n",
    "                    '%_invest_loss_train': 100*np.sum(cost_matrix*train_out['matrix'])/np.sum(train_out['matrix']),\n",
    "                    '%_invest_loss_test': 100*np.sum(cost_matrix*test_out['matrix'])/np.sum(test_out['matrix'])}, \n",
    "                    ignore_index = True)\n",
    "    print(\"max_depth =\",i,\"complete\")\n",
    "clear_output()\n",
    "xgb_rebalanced"
   ]
  },
  {
   "cell_type": "code",
   "execution_count": 46,
   "metadata": {},
   "outputs": [
    {
     "data": {
      "text/html": [
       "<div>\n",
       "<style scoped>\n",
       "    .dataframe tbody tr th:only-of-type {\n",
       "        vertical-align: middle;\n",
       "    }\n",
       "\n",
       "    .dataframe tbody tr th {\n",
       "        vertical-align: top;\n",
       "    }\n",
       "\n",
       "    .dataframe thead th {\n",
       "        text-align: right;\n",
       "    }\n",
       "</style>\n",
       "<table border=\"1\" class=\"dataframe\">\n",
       "  <thead>\n",
       "    <tr style=\"text-align: right;\">\n",
       "      <th></th>\n",
       "      <th>max_depth</th>\n",
       "      <th>%_invest_loss_train</th>\n",
       "      <th>%_invest_loss_train</th>\n",
       "      <th>%invest_diff</th>\n",
       "    </tr>\n",
       "  </thead>\n",
       "  <tbody>\n",
       "    <tr>\n",
       "      <th>0</th>\n",
       "      <td>2.0</td>\n",
       "      <td>18.600862</td>\n",
       "      <td>18.600862</td>\n",
       "      <td>0.893071</td>\n",
       "    </tr>\n",
       "    <tr>\n",
       "      <th>1</th>\n",
       "      <td>3.0</td>\n",
       "      <td>14.950795</td>\n",
       "      <td>14.950795</td>\n",
       "      <td>0.730360</td>\n",
       "    </tr>\n",
       "    <tr>\n",
       "      <th>2</th>\n",
       "      <td>4.0</td>\n",
       "      <td>12.689662</td>\n",
       "      <td>12.689662</td>\n",
       "      <td>0.714577</td>\n",
       "    </tr>\n",
       "    <tr>\n",
       "      <th>3</th>\n",
       "      <td>5.0</td>\n",
       "      <td>10.976533</td>\n",
       "      <td>10.976533</td>\n",
       "      <td>0.999354</td>\n",
       "    </tr>\n",
       "    <tr>\n",
       "      <th>4</th>\n",
       "      <td>6.0</td>\n",
       "      <td>8.489945</td>\n",
       "      <td>8.489945</td>\n",
       "      <td>0.928731</td>\n",
       "    </tr>\n",
       "    <tr>\n",
       "      <th>5</th>\n",
       "      <td>7.0</td>\n",
       "      <td>6.447685</td>\n",
       "      <td>6.447685</td>\n",
       "      <td>1.715424</td>\n",
       "    </tr>\n",
       "    <tr>\n",
       "      <th>6</th>\n",
       "      <td>8.0</td>\n",
       "      <td>5.415858</td>\n",
       "      <td>5.415858</td>\n",
       "      <td>1.422570</td>\n",
       "    </tr>\n",
       "    <tr>\n",
       "      <th>7</th>\n",
       "      <td>9.0</td>\n",
       "      <td>3.972616</td>\n",
       "      <td>3.972616</td>\n",
       "      <td>1.452818</td>\n",
       "    </tr>\n",
       "    <tr>\n",
       "      <th>8</th>\n",
       "      <td>10.0</td>\n",
       "      <td>2.330250</td>\n",
       "      <td>2.330250</td>\n",
       "      <td>2.104552</td>\n",
       "    </tr>\n",
       "    <tr>\n",
       "      <th>9</th>\n",
       "      <td>11.0</td>\n",
       "      <td>1.788829</td>\n",
       "      <td>1.788829</td>\n",
       "      <td>1.824287</td>\n",
       "    </tr>\n",
       "    <tr>\n",
       "      <th>10</th>\n",
       "      <td>12.0</td>\n",
       "      <td>0.799789</td>\n",
       "      <td>0.799789</td>\n",
       "      <td>1.857253</td>\n",
       "    </tr>\n",
       "    <tr>\n",
       "      <th>11</th>\n",
       "      <td>13.0</td>\n",
       "      <td>0.437745</td>\n",
       "      <td>0.437745</td>\n",
       "      <td>1.831492</td>\n",
       "    </tr>\n",
       "    <tr>\n",
       "      <th>12</th>\n",
       "      <td>14.0</td>\n",
       "      <td>0.365336</td>\n",
       "      <td>0.365336</td>\n",
       "      <td>1.873184</td>\n",
       "    </tr>\n",
       "    <tr>\n",
       "      <th>13</th>\n",
       "      <td>15.0</td>\n",
       "      <td>0.213935</td>\n",
       "      <td>0.213935</td>\n",
       "      <td>1.882517</td>\n",
       "    </tr>\n",
       "    <tr>\n",
       "      <th>14</th>\n",
       "      <td>16.0</td>\n",
       "      <td>0.263305</td>\n",
       "      <td>0.263305</td>\n",
       "      <td>1.936818</td>\n",
       "    </tr>\n",
       "    <tr>\n",
       "      <th>15</th>\n",
       "      <td>17.0</td>\n",
       "      <td>0.134944</td>\n",
       "      <td>0.134944</td>\n",
       "      <td>1.861677</td>\n",
       "    </tr>\n",
       "    <tr>\n",
       "      <th>16</th>\n",
       "      <td>18.0</td>\n",
       "      <td>0.134944</td>\n",
       "      <td>0.134944</td>\n",
       "      <td>1.857838</td>\n",
       "    </tr>\n",
       "    <tr>\n",
       "      <th>17</th>\n",
       "      <td>19.0</td>\n",
       "      <td>0.088865</td>\n",
       "      <td>0.088865</td>\n",
       "      <td>1.900076</td>\n",
       "    </tr>\n",
       "    <tr>\n",
       "      <th>18</th>\n",
       "      <td>20.0</td>\n",
       "      <td>0.108613</td>\n",
       "      <td>0.108613</td>\n",
       "      <td>1.884168</td>\n",
       "    </tr>\n",
       "  </tbody>\n",
       "</table>\n",
       "</div>"
      ],
      "text/plain": [
       "    max_depth  %_invest_loss_train  %_invest_loss_train  %invest_diff\n",
       "0         2.0            18.600862            18.600862      0.893071\n",
       "1         3.0            14.950795            14.950795      0.730360\n",
       "2         4.0            12.689662            12.689662      0.714577\n",
       "3         5.0            10.976533            10.976533      0.999354\n",
       "4         6.0             8.489945             8.489945      0.928731\n",
       "5         7.0             6.447685             6.447685      1.715424\n",
       "6         8.0             5.415858             5.415858      1.422570\n",
       "7         9.0             3.972616             3.972616      1.452818\n",
       "8        10.0             2.330250             2.330250      2.104552\n",
       "9        11.0             1.788829             1.788829      1.824287\n",
       "10       12.0             0.799789             0.799789      1.857253\n",
       "11       13.0             0.437745             0.437745      1.831492\n",
       "12       14.0             0.365336             0.365336      1.873184\n",
       "13       15.0             0.213935             0.213935      1.882517\n",
       "14       16.0             0.263305             0.263305      1.936818\n",
       "15       17.0             0.134944             0.134944      1.861677\n",
       "16       18.0             0.134944             0.134944      1.857838\n",
       "17       19.0             0.088865             0.088865      1.900076\n",
       "18       20.0             0.108613             0.108613      1.884168"
      ]
     },
     "execution_count": 46,
     "metadata": {},
     "output_type": "execute_result"
    }
   ],
   "source": [
    "xgb_rebalanced['%invest_diff'] = xgb_rebalanced['%_invest_loss_test'] - xgb_rebalanced['%_invest_loss_train']\n",
    "xgb_rebalanced[['max_depth','%_invest_loss_train', '%_invest_loss_train', '%invest_diff']]"
   ]
  },
  {
   "cell_type": "markdown",
   "metadata": {
    "id": "p-C7Tc5W8g_e"
   },
   "source": [
    "## Model's Performance Analysis <a id='performance-analysis'/>"
   ]
  },
  {
   "cell_type": "code",
   "execution_count": 93,
   "metadata": {},
   "outputs": [
    {
     "data": {
      "image/png": "[encoded data removed]",
      "text/plain": [
       "<Figure size 720x504 with 4 Axes>"
      ]
     },
     "metadata": {
      "needs_background": "light"
     },
     "output_type": "display_data"
    }
   ],
   "source": [
    "from matplotlib.ticker import MaxNLocator\n",
    "\n",
    "fig, axes = plt.subplots(2, 2, figsize=(10, 7))\n",
    "#fig.suptitle('Tuning max_depth')\n",
    "\n",
    "sns.lineplot(ax=axes[0,0], data=rf_no_class_wt, x='max_depth', y='%_invest_loss_train', color='blue')\n",
    "sns.lineplot(ax=axes[0,0], data=rf_no_class_wt, x='max_depth', y='%_invest_loss_test', color='red')\n",
    "axes[0,0].xaxis.set_major_locator(MaxNLocator(integer=True))\n",
    "axes[0,0].set_xlim(left=1, right=21)\n",
    "axes[0,0].set_ylim(bottom=0, top=13)\n",
    "axes[0,0].set_ylabel('% Invesment Loss')\n",
    "axes[0,0].set_title('Random Forest - No Class Weights')\n",
    "axes[0,0].axvline(7,color='black',ls='--') \n",
    "\n",
    "sns.lineplot(ax=axes[0,1], data=rf_rebalanced, x='max_depth', y='%_invest_loss_train', color='blue')\n",
    "sns.lineplot(ax=axes[0,1], data=rf_rebalanced, x='max_depth', y='%_invest_loss_test', color='red')\n",
    "axes[0,1].xaxis.set_major_locator(MaxNLocator(integer=True))\n",
    "axes[0,1].set_xlim(left=1, right=21)\n",
    "axes[0,1].set_ylim(bottom=0, top=13)\n",
    "axes[0,1].set_ylabel('% Invesment Loss')\n",
    "axes[0,1].set_title('Random Forest - Balanced Class Weights')\n",
    "axes[0,1].axvline(12,color='black',ls='--') \n",
    "\n",
    "sns.lineplot(ax=axes[1,0], data=xgb_no_class_wt, x='max_depth', y='%_invest_loss_train', color='blue')\n",
    "sns.lineplot(ax=axes[1,0], data=xgb_no_class_wt, x='max_depth', y='%_invest_loss_test', color='red')\n",
    "axes[1,0].xaxis.set_major_locator(MaxNLocator(integer=True))\n",
    "axes[1,0].set_xlim(left=1, right=21)\n",
    "axes[1,0].set_ylim(bottom=0, top=13)\n",
    "axes[1,0].set_ylabel('% Invesment Loss')\n",
    "axes[1,0].set_title('XGBoost - No Class Weights')\n",
    "axes[1,0].axvline(4,color='black',ls='--') \n",
    "\n",
    "sns.lineplot(ax=axes[1,1], data=xgb_rebalanced, x='max_depth', y='%_invest_loss_train', color='blue')\n",
    "sns.lineplot(ax=axes[1,1], data=xgb_rebalanced, x='max_depth', y='%_invest_loss_test', color='red')\n",
    "axes[1,1].xaxis.set_major_locator(MaxNLocator(integer=True))\n",
    "axes[1,1].set_xlim(left=1, right=21)\n",
    "axes[1,1].set_ylim(bottom=0, top=13)\n",
    "axes[1,1].set_ylabel('% Invesment Loss')\n",
    "axes[1,1].set_title('XGBoost - Balanced Class Weights')\n",
    "axes[1,1].axvline(12,color='black',ls='--') \n",
    "\n",
    "fig.legend(['Train','Test'], loc='center')\n",
    "fig.tight_layout() \n",
    "plt.show()"
   ]
  },
  {
   "cell_type": "markdown",
   "metadata": {},
   "source": [
    "### Model results\n",
    "\n",
    "The team reviewed random forest and XGBoost models with no class weights and balanced class weights.  To choose the best model, the team looked at the improvement (decrease) in % Investor Loss while ensuring the model was not overfitted.  The value for the minimum loss without overfitting was at the \"elbow\" where the model improvements slowed significantly.  Based on the curves above, XGBoost - Balanced Class Weight with a maximum depth of 12, had the least investment loss.  \n",
    "\n",
    "The models utilizing No Class Weights were rejected because they were not improving the loss (flat surves) and were overfitting to the training data.  In contrast, the Balanced Class Weight models had steeper loss curves and were more generalizable between the training and test sets. XGBoost with Balanced class weights showed the best (lowest) loss of the four models."
   ]
  },
  {
   "cell_type": "markdown",
   "metadata": {},
   "source": [
    "### Eta vs. Metrics"
   ]
  },
  {
   "cell_type": "code",
   "execution_count": 80,
   "metadata": {},
   "outputs": [
    {
     "data": {
      "text/html": [
       "<div>\n",
       "<style scoped>\n",
       "    .dataframe tbody tr th:only-of-type {\n",
       "        vertical-align: middle;\n",
       "    }\n",
       "\n",
       "    .dataframe tbody tr th {\n",
       "        vertical-align: top;\n",
       "    }\n",
       "\n",
       "    .dataframe thead th {\n",
       "        text-align: right;\n",
       "    }\n",
       "</style>\n",
       "<table border=\"1\" class=\"dataframe\">\n",
       "  <thead>\n",
       "    <tr style=\"text-align: right;\">\n",
       "      <th></th>\n",
       "      <th>%_invest_loss_test</th>\n",
       "      <th>%_invest_loss_train</th>\n",
       "      <th>accuracy_test</th>\n",
       "      <th>accuracy_train</th>\n",
       "      <th>eta</th>\n",
       "      <th>f1_test</th>\n",
       "      <th>f1_train</th>\n",
       "      <th>f2_test</th>\n",
       "      <th>f2_train</th>\n",
       "    </tr>\n",
       "  </thead>\n",
       "  <tbody>\n",
       "    <tr>\n",
       "      <th>0</th>\n",
       "      <td>7.905852</td>\n",
       "      <td>6.014877</td>\n",
       "      <td>0.912917</td>\n",
       "      <td>0.939111</td>\n",
       "      <td>0.01</td>\n",
       "      <td>0.424365</td>\n",
       "      <td>0.605375</td>\n",
       "      <td>0.542716</td>\n",
       "      <td>0.781388</td>\n",
       "    </tr>\n",
       "    <tr>\n",
       "      <th>1</th>\n",
       "      <td>4.135309</td>\n",
       "      <td>2.057071</td>\n",
       "      <td>0.950699</td>\n",
       "      <td>0.979363</td>\n",
       "      <td>0.11</td>\n",
       "      <td>0.566802</td>\n",
       "      <td>0.823231</td>\n",
       "      <td>0.624442</td>\n",
       "      <td>0.919511</td>\n",
       "    </tr>\n",
       "    <tr>\n",
       "      <th>2</th>\n",
       "      <td>3.083244</td>\n",
       "      <td>1.122338</td>\n",
       "      <td>0.960682</td>\n",
       "      <td>0.988777</td>\n",
       "      <td>0.21</td>\n",
       "      <td>0.613293</td>\n",
       "      <td>0.895687</td>\n",
       "      <td>0.633385</td>\n",
       "      <td>0.955489</td>\n",
       "    </tr>\n",
       "    <tr>\n",
       "      <th>3</th>\n",
       "      <td>2.649363</td>\n",
       "      <td>0.724089</td>\n",
       "      <td>0.965366</td>\n",
       "      <td>0.992759</td>\n",
       "      <td>0.31</td>\n",
       "      <td>0.647931</td>\n",
       "      <td>0.930114</td>\n",
       "      <td>0.656230</td>\n",
       "      <td>0.970822</td>\n",
       "    </tr>\n",
       "    <tr>\n",
       "      <th>4</th>\n",
       "      <td>2.956535</td>\n",
       "      <td>0.845868</td>\n",
       "      <td>0.962295</td>\n",
       "      <td>0.991541</td>\n",
       "      <td>0.41</td>\n",
       "      <td>0.628312</td>\n",
       "      <td>0.919309</td>\n",
       "      <td>0.648032</td>\n",
       "      <td>0.966082</td>\n",
       "    </tr>\n",
       "    <tr>\n",
       "      <th>5</th>\n",
       "      <td>2.203963</td>\n",
       "      <td>0.358753</td>\n",
       "      <td>0.969513</td>\n",
       "      <td>0.996412</td>\n",
       "      <td>0.51</td>\n",
       "      <td>0.672172</td>\n",
       "      <td>0.964109</td>\n",
       "      <td>0.658150</td>\n",
       "      <td>0.985328</td>\n",
       "    </tr>\n",
       "    <tr>\n",
       "      <th>6</th>\n",
       "      <td>2.219321</td>\n",
       "      <td>0.236975</td>\n",
       "      <td>0.968899</td>\n",
       "      <td>0.997630</td>\n",
       "      <td>0.61</td>\n",
       "      <td>0.661088</td>\n",
       "      <td>0.976000</td>\n",
       "      <td>0.642068</td>\n",
       "      <td>0.990260</td>\n",
       "    </tr>\n",
       "    <tr>\n",
       "      <th>7</th>\n",
       "      <td>2.276916</td>\n",
       "      <td>0.118487</td>\n",
       "      <td>0.968284</td>\n",
       "      <td>0.998815</td>\n",
       "      <td>0.71</td>\n",
       "      <td>0.656120</td>\n",
       "      <td>0.987854</td>\n",
       "      <td>0.639195</td>\n",
       "      <td>0.995106</td>\n",
       "    </tr>\n",
       "    <tr>\n",
       "      <th>8</th>\n",
       "      <td>2.134849</td>\n",
       "      <td>0.095448</td>\n",
       "      <td>0.969667</td>\n",
       "      <td>0.999046</td>\n",
       "      <td>0.81</td>\n",
       "      <td>0.665538</td>\n",
       "      <td>0.990193</td>\n",
       "      <td>0.641737</td>\n",
       "      <td>0.996054</td>\n",
       "    </tr>\n",
       "    <tr>\n",
       "      <th>9</th>\n",
       "      <td>2.031178</td>\n",
       "      <td>0.059244</td>\n",
       "      <td>0.970742</td>\n",
       "      <td>0.999408</td>\n",
       "      <td>0.91</td>\n",
       "      <td>0.674080</td>\n",
       "      <td>0.993890</td>\n",
       "      <td>0.645902</td>\n",
       "      <td>0.997547</td>\n",
       "    </tr>\n",
       "  </tbody>\n",
       "</table>\n",
       "</div>"
      ],
      "text/plain": [
       "   %_invest_loss_test  %_invest_loss_train  accuracy_test  accuracy_train  \\\n",
       "0            7.905852             6.014877       0.912917        0.939111   \n",
       "1            4.135309             2.057071       0.950699        0.979363   \n",
       "2            3.083244             1.122338       0.960682        0.988777   \n",
       "3            2.649363             0.724089       0.965366        0.992759   \n",
       "4            2.956535             0.845868       0.962295        0.991541   \n",
       "5            2.203963             0.358753       0.969513        0.996412   \n",
       "6            2.219321             0.236975       0.968899        0.997630   \n",
       "7            2.276916             0.118487       0.968284        0.998815   \n",
       "8            2.134849             0.095448       0.969667        0.999046   \n",
       "9            2.031178             0.059244       0.970742        0.999408   \n",
       "\n",
       "    eta   f1_test  f1_train   f2_test  f2_train  \n",
       "0  0.01  0.424365  0.605375  0.542716  0.781388  \n",
       "1  0.11  0.566802  0.823231  0.624442  0.919511  \n",
       "2  0.21  0.613293  0.895687  0.633385  0.955489  \n",
       "3  0.31  0.647931  0.930114  0.656230  0.970822  \n",
       "4  0.41  0.628312  0.919309  0.648032  0.966082  \n",
       "5  0.51  0.672172  0.964109  0.658150  0.985328  \n",
       "6  0.61  0.661088  0.976000  0.642068  0.990260  \n",
       "7  0.71  0.656120  0.987854  0.639195  0.995106  \n",
       "8  0.81  0.665538  0.990193  0.641737  0.996054  \n",
       "9  0.91  0.674080  0.993890  0.645902  0.997547  "
      ]
     },
     "execution_count": 80,
     "metadata": {},
     "output_type": "execute_result"
    }
   ],
   "source": [
    "xgb_no_class_wt_eta = pd.DataFrame()\n",
    "eta = 0.01\n",
    "for i in range(0,10):\n",
    "    params = {\n",
    "    'max_depth': 12,\n",
    "    'objective': 'binary:logistic',\n",
    "    'eval_metric': 'logloss',\n",
    "    'eta': eta,\n",
    "    'scale_pos_weight': 19.758 \n",
    "    }\n",
    "    classifier.model = XGBModel(params) #num_round\n",
    "    train_out = classifier.train()\n",
    "    test_out = classifier.test()\n",
    "    xgb_no_class_wt_eta = xgb_no_class_wt_eta.append({'eta': round(eta,2),\n",
    "                    'accuracy_train': train_out['accuracy'],\n",
    "                    'accuracy_test': test_out['accuracy'],\n",
    "                    'f1_train': train_out['f1'],          \n",
    "                    'f1_test': test_out['f1'],                                  \n",
    "                    'f2_train': train_out['f2'],            \n",
    "                    'f2_test': test_out['f2'], \n",
    "                    '%_invest_loss_train': 100*np.sum(cost_matrix*train_out['matrix'])/np.sum(train_out['matrix']),\n",
    "                    '%_invest_loss_test': 100*np.sum(cost_matrix*test_out['matrix'])/np.sum(test_out['matrix'])}, \n",
    "                    ignore_index = True)\n",
    "    print(\"eta =\",round(eta,2),\"complete\")\n",
    "    eta = eta+0.1\n",
    "clear_output()\n",
    "xgb_no_class_wt_eta"
   ]
  },
  {
   "cell_type": "code",
   "execution_count": 95,
   "metadata": {},
   "outputs": [
    {
     "data": {
      "image/png": "[encoded data removed]",
      "text/plain": [
       "<Figure size 432x288 with 1 Axes>"
      ]
     },
     "metadata": {
      "needs_background": "light"
     },
     "output_type": "display_data"
    }
   ],
   "source": [
    "fig, axes = plt.subplots(1, 1, figsize=(6, 4))\n",
    "\n",
    "sns.lineplot(data=xgb_no_class_wt_eta, x='eta', y='%_invest_loss_train', color='blue')\n",
    "sns.lineplot(data=xgb_no_class_wt_eta, x='eta', y='%_invest_loss_test', color='red')\n",
    "#plt.xaxis.set_major_locator(MaxNLocator(integer=True))\n",
    "#axes[0].set_ylim(bottom=0, top=0.13)\n",
    "plt.ylabel('% Invesment Loss')\n",
    "plt.title('XGBoost - No Class Weights')\n",
    "plt.axvline(0.5,color='black',ls='--') \n",
    "\n",
    "fig.legend(['Train','Test'], loc='right')\n",
    "plt.show()"
   ]
  },
  {
   "cell_type": "markdown",
   "metadata": {},
   "source": [
    "#### Final Model \"XGBoost - Balanced Class Weights\"\n",
    "The best model run with was \"XGBoost - Balanced Class Weights\" with max_depth = 12 and eta = 0.5.  This had the lowest % Investment Losses without overfitting the training set vs. the test set.  "
   ]
  },
  {
   "cell_type": "code",
   "execution_count": 82,
   "metadata": {},
   "outputs": [],
   "source": [
    "params = {\n",
    "'max_depth': 12,\n",
    "'objective': 'binary:logistic',\n",
    "'eval_metric': 'logloss',\n",
    "'eta': 0.5,\n",
    "'scale_pos_weight': 19.758,\n",
    "}\n",
    "classifier.model = XGBModel(params)\n",
    "train_out = classifier.train()\n",
    "test_out = classifier.test()"
   ]
  },
  {
   "cell_type": "code",
   "execution_count": 92,
   "metadata": {},
   "outputs": [
    {
     "data": {
      "text/plain": [
       "{'matrix': array([[12203,   192],\n",
       "        [  217,   410]]),\n",
       " 'accuracy': 0.9685916141913684,\n",
       " 'precision': 0.6810631229235881,\n",
       " 'recall': 0.6539074960127592,\n",
       " 'f1': 0.6672091131000815,\n",
       " 'f2': 0.6591639871382637}"
      ]
     },
     "execution_count": 92,
     "metadata": {},
     "output_type": "execute_result"
    }
   ],
   "source": [
    "test_out"
   ]
  },
  {
   "cell_type": "markdown",
   "metadata": {
    "id": "HISQa9FO8g_e"
   },
   "source": [
    "# Model Interpretability & Explainability <a id='model-explanation'>"
   ]
  },
  {
   "cell_type": "markdown",
   "metadata": {
    "id": "PSBc4ETe8g_e"
   },
   "source": [
    "## Examining Feature Importance <a id='examining-feature-importance'/>"
   ]
  },
  {
   "cell_type": "markdown",
   "metadata": {},
   "source": [
    "The following 5 features were the most important per the Feature Importance plot below.  These metrics are related to expenses, debt (liabilities), sales, and liquidity.  More expenses, higher debt, reduction in sales, and low liquidity are risk factors for bankruptcy indicating poor company health.  \n",
    "\n",
    "Additionally, Attr27 had a disproportionate amount of missing data for bankrupt companies.  This may be because they did not have any profit which was reported as a missing value rather than zero profit.     \n",
    "\n",
    "| Attribute | Description                                                                                                            |\n",
    "|-----------|------------------------------------------------------------------------------------------------------------------------|\n",
    "| Attr 5    | X5 [(cash + short-term securities + receivables - short-term liabilities) / (operating expenses - depreciation)] * 365 |\n",
    "| Attr46    | (current assets - inventory) / short-term liabilities                                                                  |\n",
    "| Attr27    | profit on operating activities / financial expenses                                                                    |\n",
    "| Attr21    | sales (n) / sales (n-1)                                                                                                |\n",
    "| Attr44    | (receivables * 365) / sales                                                                                            |\n",
    "                             \n",
    "\n",
    "Because the XGBoost model is based on a series of nonlinear tree-based models, the feature importances are more challenging to interpret and explain further.      "
   ]
  },
  {
   "cell_type": "code",
   "execution_count": 83,
   "metadata": {},
   "outputs": [
    {
     "data": {
      "image/png": "[encoded data removed]",
      "text/plain": [
       "<Figure size 720x720 with 1 Axes>"
      ]
     },
     "metadata": {
      "needs_background": "light"
     },
     "output_type": "display_data"
    }
   ],
   "source": [
    "# Plot features\n",
    "plt.rcParams[\"figure.figsize\"] = (10,10)\n",
    "xgboost.plot_importance(classifier.model._model)\n",
    "# Show the plot\n",
    "plt.show()"
   ]
  },
  {
   "cell_type": "code",
   "execution_count": 96,
   "metadata": {},
   "outputs": [
    {
     "data": {
      "image/png": "[encoded data removed]",
      "text/plain": [
       "<Figure size 360x288 with 1 Axes>"
      ]
     },
     "metadata": {
      "needs_background": "light"
     },
     "output_type": "display_data"
    }
   ],
   "source": [
    "plt.rcParams[\"figure.figsize\"] = (5,4)\n",
    "xgboost.plot_importance(classifier.model._model, max_num_features=5)\n",
    "# Show the plot\n",
    "plt.show()"
   ]
  },
  {
   "cell_type": "markdown",
   "metadata": {
    "id": "JbAhMB1x8g_e"
   },
   "source": [
    "# Conclusion <a id='conclusion'>"
   ]
  },
  {
   "cell_type": "markdown",
   "metadata": {
    "id": "xnsadV7M8g_e"
   },
   "source": [
    "### Final Model Proposal <a id='final-model-proposal'/>"
   ]
  },
  {
   "cell_type": "markdown",
   "metadata": {},
   "source": [
    "The team is recommending to use an XGBoost model (with balanced class weights) to reduce the risk of financial losses for investors.  The model can identify companies at risk for going bankrupt, and investors can decide if they want to sell some or all of those assets, monitor the assets more closely, or take other mitigation strategies.  \n",
    "\n",
    "The model can limit investors losses to 2.3% of their overall portfolio by selling companies that are predicted to be at risk for bankruptcy.  If no action was taken, investors would lose 100% of the companies that went bankrupt which is 4.8% of their overall portfolio.       \n",
    "\n",
    "While minimizing financial loss was the primary goal, the following is some additional context for investors:  Of the 13,000 companies in the test set, the model correctly predicts 410 companies to go bankrupt of the 627 actually bankrupt companies (65.4% correct).  It incorrectly predicts only 192 companies will go bankrupt of the 12,395 companies that did not go bankrupt (98.5% correct).\n",
    "\n",
    "The model can be tuned to predict more bankrupt companies, but it will result in increased financial loss because investors will be selling more companies that are likely financially distressed but will not go bankrupt.  "
   ]
  },
  {
   "cell_type": "code",
   "execution_count": 86,
   "metadata": {
    "id": "BpGIwvaMQD8M"
   },
   "outputs": [
    {
     "name": "stdout",
     "output_type": "stream",
     "text": [
      "Training Set - Confusion Matrix:\n",
      "[[28806   113]\n",
      " [    0  1464]]\n"
     ]
    }
   ],
   "source": [
    "print('Training Set - Confusion Matrix:')\n",
    "print(train_out['matrix'])"
   ]
  },
  {
   "cell_type": "code",
   "execution_count": 87,
   "metadata": {},
   "outputs": [
    {
     "name": "stdout",
     "output_type": "stream",
     "text": [
      "Training Set - Cost Matrix:\n",
      "[[  0. 113.]\n",
      " [  0.   0.]]\n"
     ]
    }
   ],
   "source": [
    "print('Training Set - Cost Matrix:')\n",
    "print(train_out['matrix']*cost_matrix)"
   ]
  },
  {
   "cell_type": "code",
   "execution_count": 88,
   "metadata": {},
   "outputs": [
    {
     "name": "stdout",
     "output_type": "stream",
     "text": [
      "Test %Investor Loss = 0.4\n"
     ]
    }
   ],
   "source": [
    "train_loss = np.sum(train_out['matrix']*cost_matrix)/np.sum(train_out['matrix'])*100\n",
    "print(\"Test %Investor Loss =\", round(train_loss,1))"
   ]
  },
  {
   "cell_type": "code",
   "execution_count": 89,
   "metadata": {
    "id": "LLbI9bVy8g_e"
   },
   "outputs": [
    {
     "name": "stdout",
     "output_type": "stream",
     "text": [
      "Test Set - Confusion Matrix:\n",
      "[[12203   192]\n",
      " [  217   410]]\n"
     ]
    }
   ],
   "source": [
    "print('Test Set - Confusion Matrix:')\n",
    "print(test_out['matrix'])"
   ]
  },
  {
   "cell_type": "code",
   "execution_count": 90,
   "metadata": {},
   "outputs": [
    {
     "name": "stdout",
     "output_type": "stream",
     "text": [
      "Test Set - Cost Matrix:\n",
      "[[  0.  192. ]\n",
      " [108.5   0. ]]\n"
     ]
    }
   ],
   "source": [
    "print('Test Set - Cost Matrix:')\n",
    "print(test_out['matrix']*cost_matrix)"
   ]
  },
  {
   "cell_type": "code",
   "execution_count": 91,
   "metadata": {},
   "outputs": [
    {
     "name": "stdout",
     "output_type": "stream",
     "text": [
      "Test %Investor Loss = 2.3\n"
     ]
    }
   ],
   "source": [
    "test_loss = np.sum(test_out['matrix']*cost_matrix)/np.sum(test_out['matrix'])*100\n",
    "print(\"Test %Investor Loss =\", round(test_loss,1))"
   ]
  },
  {
   "cell_type": "markdown",
   "metadata": {
    "id": "oX8fXYczN5D-"
   },
   "source": [
    "### Future Considerations and Model Enhancements <a id='model-enhancements'/>"
   ]
  },
  {
   "cell_type": "markdown",
   "metadata": {
    "id": "xzeTkIEWN5D-"
   },
   "source": [
    "A more comprehensive GridSearch could be done for hyperparameter tuning to find a more optimal model with XGBoost.  This could include parameters such as gamma, min_child_depth, etc.    \n",
    "\n",
    "The authors of the original paper this dataset is based on built an Extreme Gradient Boosting Model (ExGBM) using \"synthetic features\" they created from the accumulated data, which they described as \"a combination of the econometric measures using arithmetic operations (addition, subtraction, multiplication, division)\" [2]. For example, a synthetic feature could be something like (Att27)/(Attr5 + Attr38).  These synthetic features were used as the predictors in their model, and this case study could deploy similar methods using the same synthetic features they derived. The authors also analyzed each year in a five-year forecasting period, but this case study only collectively models the cumulative data from all five years."
   ]
  },
  {
   "cell_type": "markdown",
   "metadata": {
    "id": "Thch7JfCN5D_"
   },
   "source": [
    "### Alternative Modeling Approaches <a id='alternative-modeling-approaches'>"
   ]
  },
  {
   "cell_type": "markdown",
   "metadata": {
    "id": "IUpUUjATN5D_"
   },
   "source": [
    "While outside the scope of this study, Support Vector Machines (SVM) or neural network (could affect interpretability of model) could be also used to classify bankrupt companies."
   ]
  },
  {
   "cell_type": "markdown",
   "metadata": {},
   "source": [
    "# References"
   ]
  },
  {
   "cell_type": "markdown",
   "metadata": {},
   "source": [
    "Reference : \n",
    "\n",
    "[1] Bankruptcy Definition (investopedia.com)\n",
    "\n",
    "[2] Ensemble boosted trees with synthetic features generation in application to bankruptcy prediction - ScienceDirect\n",
    "\n",
    "[3] UCI Machine Learning Repository: Polish companies bankruptcy data Data Set\n",
    "\n",
    "\n"
   ]
  },
  {
   "cell_type": "markdown",
   "metadata": {},
   "source": [
    "## Appendix"
   ]
  },
  {
   "cell_type": "markdown",
   "metadata": {},
   "source": [
    "### Imputation of Missing Values\n",
    "\n",
    "SKLearn’s RandomForestClassifier cannot handle missing values automatically.  Therefore, all missing values were initially replaced simply with the median value for each feature from the training data.  The median (vs. the mean) was used because most features were highly skewed and had extreme outliers (refer to Box plots in the EDA).\n",
    "\n",
    "However, missing values in financial data are typically not Missing at Random; data reporting in finance is highly regulated with oversight from auditors.  Finance data tend to be missing because they are not able to be reported for specific reasons.  For example, most of the features are ratios, so if the denominator = 0 that would result in dividing by zero which is not reportable.  Therefore, this median imputation method for handling missing data may not be appropriate. \n",
    "\n",
    "The XGBoost algorithm was able to handle missing values automatically.  From the xgboost documentation,  \"XGBoost supports missing values by default. In tree algorithms, branch directions for missing values are learned during training.\"\n",
    "\n",
    "An Iterative Imputer was also used as a more sophisticated, albeit more computationally expensive way to replace missing values.  Per the sklearn documentation, it “models each feature with missing values as a function of other features” using regression.  It starts with imputing the feature with the least amount of missing values, and it builds up iteratively to the feature with the most missing values.  This method gave the best overall model results for both Random Forest and XGBoost.  \n",
    "\n",
    "Note: All imputation and normalization were carried out post-splitting of data into training and test data independent of each other to prevent data leakage between training and test data set. "
   ]
  },
  {
   "cell_type": "markdown",
   "metadata": {},
   "source": [
    "### Simple Imputer - Median"
   ]
  },
  {
   "cell_type": "markdown",
   "metadata": {},
   "source": [
    "#### Random Forest"
   ]
  },
  {
   "cell_type": "code",
   "execution_count": null,
   "metadata": {},
   "outputs": [],
   "source": [
    "simple_impute_model = ClassificationModeling(clean_df(loader.get_df()),'bankrupt',\n",
    "                               StratifiedShuffleSplit(n_splits=1, test_size=0.3, random_state=12343),\n",
    "                               SimpleImputer(missing_values=np.nan, strategy='median'),\n",
    "                               None,\n",
    "                               StandardScaler(), beta=2)"
   ]
  },
  {
   "cell_type": "code",
   "execution_count": null,
   "metadata": {},
   "outputs": [],
   "source": [
    "simple_impute_model.model = RandomForestClassifier(random_state=0, max_depth=7)\n",
    "simple_impute_model.prepare()\n",
    "train_out = simple_impute_model.train()\n",
    "print(train_out)\n",
    "print('\\ntrain % investor loss =', 100*np.sum(cost_matrix*train_out['matrix'])/np.sum(train_out['matrix']))"
   ]
  },
  {
   "cell_type": "code",
   "execution_count": null,
   "metadata": {},
   "outputs": [],
   "source": [
    "test_out = simple_impute_model.test()\n",
    "print(test_out)\n",
    "print('\\ntest % investor loss =', 100*np.sum(cost_matrix*test_out['matrix'])/np.sum(test_out['matrix']))"
   ]
  },
  {
   "cell_type": "markdown",
   "metadata": {},
   "source": [
    "#### XG Boost\n",
    "Improves test % investor loss by 1.1% vs. Random Forest"
   ]
  },
  {
   "cell_type": "code",
   "execution_count": null,
   "metadata": {},
   "outputs": [],
   "source": [
    "params = {\n",
    "'max_depth': 4,\n",
    "'objective': 'binary:logistic',\n",
    "'eval_metric': 'logloss',\n",
    "'eta': 0.4,\n",
    "#'scale_pos_weight': 19.758,\n",
    "'seed': 0    \n",
    "}\n",
    "simple_impute_model.model = XGBModel(params)\n",
    "train_out = simple_impute_model.train()\n",
    "print(train_out)\n",
    "print('\\ntrain % investor loss =', 100*np.sum(cost_matrix*train_out['matrix'])/np.sum(train_out['matrix']))"
   ]
  },
  {
   "cell_type": "code",
   "execution_count": null,
   "metadata": {},
   "outputs": [],
   "source": [
    "test_out = simple_impute_model.test()\n",
    "print(test_out)\n",
    "print('\\ntest % investor loss =', 100*np.sum(cost_matrix*test_out['matrix'])/np.sum(test_out['matrix']))"
   ]
  },
  {
   "cell_type": "code",
   "execution_count": null,
   "metadata": {},
   "outputs": [],
   "source": [
    "simple_impute_model.model = XGBModel(params)\n",
    "train_out = simple_impute_model.train()\n",
    "print(train_out)\n",
    "print('\\ntrain % investor loss =', 100*np.sum(cost_matrix*train_out['matrix'])/np.sum(train_out['matrix']))"
   ]
  },
  {
   "cell_type": "markdown",
   "metadata": {},
   "source": [
    "### XGBoost Imputer (Automatic)\n",
    "Improves test % investor loss by 0.2% vs. XGBoost Simple Imputer"
   ]
  },
  {
   "cell_type": "code",
   "execution_count": null,
   "metadata": {},
   "outputs": [],
   "source": [
    "xgb_impute_model = ClassificationModeling(clean_df(loader.get_df()),'bankrupt',\n",
    "                               StratifiedShuffleSplit(n_splits=1, test_size=0.3, random_state=12343),\n",
    "                               None,\n",
    "                               XGBModel(params),\n",
    "                               StandardScaler(), beta=2)"
   ]
  },
  {
   "cell_type": "code",
   "execution_count": null,
   "metadata": {},
   "outputs": [],
   "source": [
    "params = {\n",
    "'max_depth': 4,\n",
    "'objective': 'binary:logistic',\n",
    "'eval_metric': 'logloss',\n",
    "'eta': 0.4,\n",
    "#'scale_pos_weight': 19.758,\n",
    "'seed': 0    \n",
    "}\n",
    "xgb_impute_model.prepare()\n",
    "train_out = xgb_impute_model.train()\n",
    "print(train_out)\n",
    "print('\\ntrain % investor loss =', 100*np.sum(cost_matrix*train_out['matrix'])/np.sum(train_out['matrix']))"
   ]
  },
  {
   "cell_type": "code",
   "execution_count": null,
   "metadata": {},
   "outputs": [],
   "source": [
    "test_out = xgb_impute_model.test()\n",
    "print(test_out)\n",
    "print('\\ntrain % investor loss =', 100*np.sum(cost_matrix*test_out['matrix'])/np.sum(test_out['matrix']))"
   ]
  },
  {
   "cell_type": "markdown",
   "metadata": {},
   "source": [
    "### Iterative Imputer"
   ]
  },
  {
   "cell_type": "code",
   "execution_count": null,
   "metadata": {},
   "outputs": [],
   "source": [
    "params = {\n",
    "'max_depth': 4,\n",
    "'objective': 'binary:logistic',\n",
    "'eval_metric': 'logloss',\n",
    "'eta': 0.4,\n",
    "#'scale_pos_weight': 19.758,\n",
    "'seed': 0    \n",
    "}\n",
    "classifier.model = XGBModel(params)\n",
    "train_out = classifier.train()\n",
    "print(train_out)\n",
    "print('\\ntrain % investor loss =', 100*np.sum(cost_matrix*train_out['matrix'])/np.sum(train_out['matrix']))"
   ]
  },
  {
   "cell_type": "code",
   "execution_count": null,
   "metadata": {},
   "outputs": [],
   "source": [
    "test_out = classifier.test()\n",
    "print(test_out)\n",
    "print('\\ntest % investor loss =', 100*np.sum(cost_matrix*test_out['matrix'])/np.sum(test_out['matrix']))"
   ]
  }
 ],
 "metadata": {
  "colab": {
   "name": "Case_Study_1.ipynb",
   "provenance": []
  },
  "kernelspec": {
   "display_name": "Python 3",
   "language": "python",
   "name": "python3"
  },
  "language_info": {
   "codemirror_mode": {
    "name": "ipython",
    "version": 3
   },
   "file_extension": ".py",
   "mimetype": "text/x-python",
   "name": "python",
   "nbconvert_exporter": "python",
   "pygments_lexer": "ipython3",
   "version": "3.7.10"
  }
 },
 "nbformat": 4,
 "nbformat_minor": 1
}
