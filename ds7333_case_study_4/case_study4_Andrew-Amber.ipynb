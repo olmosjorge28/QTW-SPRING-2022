{
 "cells": [
  {
   "cell_type": "code",
   "execution_count": 2,
   "metadata": {
    "scrolled": true
   },
   "outputs": [
    {
     "data": {
      "text/plain": [
       "\"import warnings\\nwarnings.filterwarnings('ignore')\\nfrom warnings import simplefilter \\nsimplefilter(action='ignore', category=FutureWarning)\""
      ]
     },
     "execution_count": 2,
     "metadata": {},
     "output_type": "execute_result"
    }
   ],
   "source": [
    "# standard libraries\n",
    "import pandas as pd\n",
    "import numpy as np\n",
    "#import re\n",
    "import os\n",
    "from IPython.display import Image\n",
    "#import sklearn\n",
    "#import time\n",
    "\n",
    "# visualization\n",
    "import seaborn as sns\n",
    "import matplotlib.pyplot as plt\n",
    "%matplotlib inline\n",
    "from tabulate import tabulate\n",
    "from IPython.display import clear_output\n",
    "\n",
    "# data pre-processing\n",
    "from scipy.io import arff\n",
    "#from sklearn.model_selection import train_test_split\n",
    "from sklearn.impute import SimpleImputer\n",
    "from sklearn.model_selection import StratifiedShuffleSplit\n",
    "\n",
    "# prediction models\n",
    "from sklearn.ensemble import RandomForestClassifier\n",
    "from sklearn.model_selection import cross_val_score\n",
    "from sklearn.metrics import f1_score\n",
    "from sklearn.metrics import confusion_matrix\n",
    "from sklearn.metrics import accuracy_score\n",
    "\n",
    "# import warnings filter\n",
    "'''import warnings\n",
    "warnings.filterwarnings('ignore')\n",
    "from warnings import simplefilter \n",
    "simplefilter(action='ignore', category=FutureWarning)'''"
   ]
  },
  {
   "cell_type": "code",
   "execution_count": 3,
   "metadata": {},
   "outputs": [
    {
     "data": {
      "text/plain": [
       "'C:\\\\Users\\\\parit\\\\Documents\\\\GitHub\\\\QTW-SPRING-2022\\\\ds7333_case_study_4'"
      ]
     },
     "execution_count": 3,
     "metadata": {},
     "output_type": "execute_result"
    }
   ],
   "source": [
    "os.getcwd()"
   ]
  },
  {
   "cell_type": "code",
   "execution_count": 4,
   "metadata": {},
   "outputs": [
    {
     "data": {
      "text/plain": [
       "['1year.arff', '2year.arff', '3year.arff', '4year.arff', '5year.arff']"
      ]
     },
     "execution_count": 4,
     "metadata": {},
     "output_type": "execute_result"
    }
   ],
   "source": [
    "from os import listdir\n",
    "from os.path import isfile, join\n",
    "dir_files = [f for f in os.listdir(os.getcwd()+'/data') if os.path.isfile(join(os.getcwd()+'/data', f))]\n",
    "\n",
    "dir_files"
   ]
  },
  {
   "cell_type": "code",
   "execution_count": 5,
   "metadata": {},
   "outputs": [
    {
     "name": "stdout",
     "output_type": "stream",
     "text": [
      "(7027, 65)\n",
      "(10173, 65)\n",
      "(10503, 65)\n",
      "(9792, 65)\n",
      "(5910, 65)\n",
      "43405\n"
     ]
    }
   ],
   "source": [
    "data_dict = {}\n",
    "full_df = pd.DataFrame()\n",
    "\n",
    "records = 0\n",
    "\n",
    "for f in dir_files:\n",
    "    temp_data = arff.loadarff(os.getcwd()+'/data/'+f)\n",
    "    temp_df = pd.DataFrame(temp_data[0])\n",
    "    print(temp_df.shape)\n",
    "    data_dict.update({f:temp_df})\n",
    "    full_df = pd.concat([full_df, temp_df])\n",
    "    records += temp_df.shape[0]\n",
    "    \n",
    "print(records)"
   ]
  },
  {
   "cell_type": "code",
   "execution_count": 6,
   "metadata": {},
   "outputs": [
    {
     "data": {
      "text/plain": [
       "Int64Index([   0,    1,    2,    3,    4,    5,    6,    7,    8,    9,\n",
       "            ...\n",
       "            5900, 5901, 5902, 5903, 5904, 5905, 5906, 5907, 5908, 5909],\n",
       "           dtype='int64', length=43405)"
      ]
     },
     "execution_count": 6,
     "metadata": {},
     "output_type": "execute_result"
    }
   ],
   "source": [
    "full_df.index"
   ]
  },
  {
   "cell_type": "code",
   "execution_count": 7,
   "metadata": {},
   "outputs": [
    {
     "data": {
      "text/plain": [
       "RangeIndex(start=0, stop=43405, step=1)"
      ]
     },
     "execution_count": 7,
     "metadata": {},
     "output_type": "execute_result"
    }
   ],
   "source": [
    "full_df = full_df.reset_index(drop=True)\n",
    "full_df.index"
   ]
  },
  {
   "cell_type": "code",
   "execution_count": 8,
   "metadata": {},
   "outputs": [
    {
     "data": {
      "text/html": [
       "<div>\n",
       "<style scoped>\n",
       "    .dataframe tbody tr th:only-of-type {\n",
       "        vertical-align: middle;\n",
       "    }\n",
       "\n",
       "    .dataframe tbody tr th {\n",
       "        vertical-align: top;\n",
       "    }\n",
       "\n",
       "    .dataframe thead th {\n",
       "        text-align: right;\n",
       "    }\n",
       "</style>\n",
       "<table border=\"1\" class=\"dataframe\">\n",
       "  <thead>\n",
       "    <tr style=\"text-align: right;\">\n",
       "      <th></th>\n",
       "      <th>Attr1</th>\n",
       "      <th>Attr2</th>\n",
       "      <th>Attr3</th>\n",
       "      <th>Attr4</th>\n",
       "      <th>Attr5</th>\n",
       "      <th>Attr6</th>\n",
       "      <th>Attr7</th>\n",
       "      <th>Attr8</th>\n",
       "      <th>Attr9</th>\n",
       "      <th>Attr10</th>\n",
       "      <th>...</th>\n",
       "      <th>Attr56</th>\n",
       "      <th>Attr57</th>\n",
       "      <th>Attr58</th>\n",
       "      <th>Attr59</th>\n",
       "      <th>Attr60</th>\n",
       "      <th>Attr61</th>\n",
       "      <th>Attr62</th>\n",
       "      <th>Attr63</th>\n",
       "      <th>Attr64</th>\n",
       "      <th>class</th>\n",
       "    </tr>\n",
       "  </thead>\n",
       "  <tbody>\n",
       "    <tr>\n",
       "      <th>43400</th>\n",
       "      <td>0.012898</td>\n",
       "      <td>0.70621</td>\n",
       "      <td>0.038857</td>\n",
       "      <td>1.17220</td>\n",
       "      <td>-18.907</td>\n",
       "      <td>0.00000</td>\n",
       "      <td>0.013981</td>\n",
       "      <td>0.41600</td>\n",
       "      <td>1.67680</td>\n",
       "      <td>0.293790</td>\n",
       "      <td>...</td>\n",
       "      <td>0.020169</td>\n",
       "      <td>0.043904</td>\n",
       "      <td>1.01220</td>\n",
       "      <td>1.259400</td>\n",
       "      <td>13.4720</td>\n",
       "      <td>12.4320</td>\n",
       "      <td>49.117</td>\n",
       "      <td>7.4313</td>\n",
       "      <td>2.27990</td>\n",
       "      <td>b'1'</td>\n",
       "    </tr>\n",
       "    <tr>\n",
       "      <th>43401</th>\n",
       "      <td>-0.578050</td>\n",
       "      <td>0.96702</td>\n",
       "      <td>-0.800850</td>\n",
       "      <td>0.16576</td>\n",
       "      <td>-67.365</td>\n",
       "      <td>-0.57805</td>\n",
       "      <td>-0.578050</td>\n",
       "      <td>-0.40334</td>\n",
       "      <td>0.93979</td>\n",
       "      <td>-0.390040</td>\n",
       "      <td>...</td>\n",
       "      <td>-0.064073</td>\n",
       "      <td>1.482000</td>\n",
       "      <td>1.06410</td>\n",
       "      <td>-0.018084</td>\n",
       "      <td>110.7200</td>\n",
       "      <td>44.7590</td>\n",
       "      <td>81.220</td>\n",
       "      <td>4.4940</td>\n",
       "      <td>5.13050</td>\n",
       "      <td>b'1'</td>\n",
       "    </tr>\n",
       "    <tr>\n",
       "      <th>43402</th>\n",
       "      <td>-0.179050</td>\n",
       "      <td>1.25530</td>\n",
       "      <td>-0.275990</td>\n",
       "      <td>0.74554</td>\n",
       "      <td>-120.440</td>\n",
       "      <td>-0.17905</td>\n",
       "      <td>-0.154930</td>\n",
       "      <td>-0.26018</td>\n",
       "      <td>1.17490</td>\n",
       "      <td>-0.326590</td>\n",
       "      <td>...</td>\n",
       "      <td>0.148880</td>\n",
       "      <td>0.548240</td>\n",
       "      <td>0.85112</td>\n",
       "      <td>-0.522430</td>\n",
       "      <td>9.8526</td>\n",
       "      <td>3.4892</td>\n",
       "      <td>207.870</td>\n",
       "      <td>1.7559</td>\n",
       "      <td>9.95270</td>\n",
       "      <td>b'1'</td>\n",
       "    </tr>\n",
       "    <tr>\n",
       "      <th>43403</th>\n",
       "      <td>-0.108860</td>\n",
       "      <td>0.74394</td>\n",
       "      <td>0.015449</td>\n",
       "      <td>1.08780</td>\n",
       "      <td>-17.003</td>\n",
       "      <td>-0.10886</td>\n",
       "      <td>-0.109180</td>\n",
       "      <td>0.12531</td>\n",
       "      <td>0.84516</td>\n",
       "      <td>0.093224</td>\n",
       "      <td>...</td>\n",
       "      <td>-0.183200</td>\n",
       "      <td>-1.167700</td>\n",
       "      <td>1.18320</td>\n",
       "      <td>6.092400</td>\n",
       "      <td>13.8860</td>\n",
       "      <td>6.0769</td>\n",
       "      <td>83.122</td>\n",
       "      <td>4.3911</td>\n",
       "      <td>0.95575</td>\n",
       "      <td>b'1'</td>\n",
       "    </tr>\n",
       "    <tr>\n",
       "      <th>43404</th>\n",
       "      <td>-0.105370</td>\n",
       "      <td>0.53629</td>\n",
       "      <td>-0.045578</td>\n",
       "      <td>0.91478</td>\n",
       "      <td>-56.068</td>\n",
       "      <td>-0.10537</td>\n",
       "      <td>-0.109940</td>\n",
       "      <td>0.86460</td>\n",
       "      <td>0.95040</td>\n",
       "      <td>0.463670</td>\n",
       "      <td>...</td>\n",
       "      <td>-0.052186</td>\n",
       "      <td>-0.227250</td>\n",
       "      <td>1.05220</td>\n",
       "      <td>0.003196</td>\n",
       "      <td>7.7332</td>\n",
       "      <td>4.7174</td>\n",
       "      <td>136.850</td>\n",
       "      <td>2.6672</td>\n",
       "      <td>2.79270</td>\n",
       "      <td>b'1'</td>\n",
       "    </tr>\n",
       "  </tbody>\n",
       "</table>\n",
       "<p>5 rows × 65 columns</p>\n",
       "</div>"
      ],
      "text/plain": [
       "          Attr1    Attr2     Attr3    Attr4    Attr5    Attr6     Attr7  \\\n",
       "43400  0.012898  0.70621  0.038857  1.17220  -18.907  0.00000  0.013981   \n",
       "43401 -0.578050  0.96702 -0.800850  0.16576  -67.365 -0.57805 -0.578050   \n",
       "43402 -0.179050  1.25530 -0.275990  0.74554 -120.440 -0.17905 -0.154930   \n",
       "43403 -0.108860  0.74394  0.015449  1.08780  -17.003 -0.10886 -0.109180   \n",
       "43404 -0.105370  0.53629 -0.045578  0.91478  -56.068 -0.10537 -0.109940   \n",
       "\n",
       "         Attr8    Attr9    Attr10  ...    Attr56    Attr57   Attr58    Attr59  \\\n",
       "43400  0.41600  1.67680  0.293790  ...  0.020169  0.043904  1.01220  1.259400   \n",
       "43401 -0.40334  0.93979 -0.390040  ... -0.064073  1.482000  1.06410 -0.018084   \n",
       "43402 -0.26018  1.17490 -0.326590  ...  0.148880  0.548240  0.85112 -0.522430   \n",
       "43403  0.12531  0.84516  0.093224  ... -0.183200 -1.167700  1.18320  6.092400   \n",
       "43404  0.86460  0.95040  0.463670  ... -0.052186 -0.227250  1.05220  0.003196   \n",
       "\n",
       "         Attr60   Attr61   Attr62  Attr63   Attr64  class  \n",
       "43400   13.4720  12.4320   49.117  7.4313  2.27990   b'1'  \n",
       "43401  110.7200  44.7590   81.220  4.4940  5.13050   b'1'  \n",
       "43402    9.8526   3.4892  207.870  1.7559  9.95270   b'1'  \n",
       "43403   13.8860   6.0769   83.122  4.3911  0.95575   b'1'  \n",
       "43404    7.7332   4.7174  136.850  2.6672  2.79270   b'1'  \n",
       "\n",
       "[5 rows x 65 columns]"
      ]
     },
     "execution_count": 8,
     "metadata": {},
     "output_type": "execute_result"
    }
   ],
   "source": [
    "full_df.tail()"
   ]
  },
  {
   "cell_type": "code",
   "execution_count": 9,
   "metadata": {},
   "outputs": [
    {
     "data": {
      "text/plain": [
       "b'0'    41314\n",
       "b'1'     2091\n",
       "Name: class, dtype: int64"
      ]
     },
     "execution_count": 9,
     "metadata": {},
     "output_type": "execute_result"
    }
   ],
   "source": [
    "full_df['class'].value_counts()"
   ]
  },
  {
   "cell_type": "code",
   "execution_count": 10,
   "metadata": {
    "scrolled": true
   },
   "outputs": [
    {
     "data": {
      "text/plain": [
       "b'0'    0.951826\n",
       "b'1'    0.048174\n",
       "Name: class, dtype: float64"
      ]
     },
     "execution_count": 10,
     "metadata": {},
     "output_type": "execute_result"
    }
   ],
   "source": [
    "full_df['class'].value_counts(normalize=True)"
   ]
  },
  {
   "cell_type": "code",
   "execution_count": 11,
   "metadata": {},
   "outputs": [
    {
     "data": {
      "text/plain": [
       "0    41314\n",
       "1     2091\n",
       "Name: bankrupt, dtype: int64"
      ]
     },
     "execution_count": 11,
     "metadata": {},
     "output_type": "execute_result"
    }
   ],
   "source": [
    "full_df['bankrupt'] = ( full_df['class'] == full_df['class'][full_df.shape[0]-1] ).astype(int)\n",
    "full_df['bankrupt'].value_counts()"
   ]
  },
  {
   "cell_type": "code",
   "execution_count": 12,
   "metadata": {},
   "outputs": [],
   "source": [
    "full_df = full_df.drop('class', axis=1)"
   ]
  },
  {
   "cell_type": "markdown",
   "metadata": {},
   "source": [
    "### Drop Attr37 with 46% missing data?"
   ]
  },
  {
   "cell_type": "code",
   "execution_count": 13,
   "metadata": {},
   "outputs": [
    {
     "data": {
      "text/plain": [
       "Attr37    45.941629\n",
       "Attr21    14.166788\n",
       "Attr27     6.688931\n",
       "Attr60     5.207880\n",
       "Attr45     5.195779\n",
       "Attr24     2.231257\n",
       "Attr64     1.965055\n",
       "Attr53     1.965055\n",
       "Attr28     1.965055\n",
       "Attr54     1.965055\n",
       "Attr41     1.824694\n",
       "Attr32     0.890567\n",
       "Attr52     0.728426\n",
       "Attr47     0.718745\n",
       "Attr46     0.326702\n",
       "dtype: float64"
      ]
     },
     "execution_count": 13,
     "metadata": {},
     "output_type": "execute_result"
    }
   ],
   "source": [
    "missing = full_df.isnull().sum()\n",
    "pct_missing = missing/missing.sum()*100\n",
    "pct_missing.sort_values(ascending=False).head(15)"
   ]
  },
  {
   "cell_type": "code",
   "execution_count": 14,
   "metadata": {},
   "outputs": [],
   "source": [
    "missing_0 = full_df[full_df['bankrupt']==0].isnull().sum()\n",
    "pct_missing_0 = missing_0/missing_0.sum()\n",
    "missing_1 = full_df[full_df['bankrupt']==1].isnull().sum()\n",
    "pct_missing_1 = missing_1/missing_1.sum()\n",
    "pct_missing_by_bankruptcy = pd.concat([pct_missing_0, pct_missing_1], axis=1)\n",
    "pct_missing_by_bankruptcy.columns = ['0','1']"
   ]
  },
  {
   "cell_type": "markdown",
   "metadata": {},
   "source": [
    "### Attr27 has a lot more missing values for bankrupt=1 vs. bankrupt=0.  Impute as a different value for modeling?"
   ]
  },
  {
   "cell_type": "code",
   "execution_count": 15,
   "metadata": {
    "scrolled": true
   },
   "outputs": [
    {
     "data": {
      "image/png": "[encoded data removed]",
      "text/plain": [
       "<Figure size 1080x216 with 1 Axes>"
      ]
     },
     "metadata": {
      "needs_background": "light"
     },
     "output_type": "display_data"
    }
   ],
   "source": [
    "plt.figure(figsize=(15,3))\n",
    "sns.lineplot(data = pct_missing_by_bankruptcy)\n",
    "plt.xticks(rotation=90)\n",
    "plt.title('Percent Missing Values vs. Bankruptcy')\n",
    "plt.show()"
   ]
  },
  {
   "cell_type": "code",
   "execution_count": 16,
   "metadata": {},
   "outputs": [],
   "source": [
    "def split_dependant_and_independant_variables(df: pd.DataFrame, y_var: str):\n",
    "    X = df.copy()\n",
    "    y = X[y_var]\n",
    "    X = X.drop([y_var], axis=1)\n",
    "    return X, y"
   ]
  },
  {
   "cell_type": "code",
   "execution_count": 17,
   "metadata": {},
   "outputs": [],
   "source": [
    "X, y = split_dependant_and_independant_variables(full_df, 'bankrupt')"
   ]
  },
  {
   "cell_type": "markdown",
   "metadata": {},
   "source": [
    "### Heatmap shows some strong positive and negative correlations between features"
   ]
  },
  {
   "cell_type": "code",
   "execution_count": 18,
   "metadata": {
    "scrolled": true
   },
   "outputs": [
    {
     "data": {
      "text/plain": [
       "<AxesSubplot:>"
      ]
     },
     "execution_count": 18,
     "metadata": {},
     "output_type": "execute_result"
    },
    {
     "data": {
      "image/png": "[encoded data removed]",
      "text/plain": [
       "<Figure size 1224x1080 with 2 Axes>"
      ]
     },
     "metadata": {
      "needs_background": "light"
     },
     "output_type": "display_data"
    }
   ],
   "source": [
    "plt.figure(figsize=(17,15))\n",
    "sns.heatmap(data=X.corr())"
   ]
  },
  {
   "cell_type": "markdown",
   "metadata": {},
   "source": [
    "### Boxplots show features that are all highly zero-inflated, and many have extreme outliers"
   ]
  },
  {
   "cell_type": "code",
   "execution_count": 19,
   "metadata": {
    "scrolled": true
   },
   "outputs": [
    {
     "data": {
      "image/png": "[encoded data removed]",
      "text/plain": [
       "<Figure size 1224x1224 with 64 Axes>"
      ]
     },
     "metadata": {
      "needs_background": "light"
     },
     "output_type": "display_data"
    }
   ],
   "source": [
    "features = X.columns\n",
    "fig, axes = plt.subplots(8, 8, figsize=(17, 17))\n",
    "fig.suptitle('Feature Boxplots')\n",
    "for i,j in zip(features, range(64)):\n",
    "    sns.boxplot(ax = axes[int(j/8), j%8], x = full_df[i])\n",
    "\n",
    "fig.tight_layout()"
   ]
  },
  {
   "cell_type": "markdown",
   "metadata": {},
   "source": [
    "### Boxplots with biggest outliers removed"
   ]
  },
  {
   "cell_type": "code",
   "execution_count": 20,
   "metadata": {
    "scrolled": true
   },
   "outputs": [
    {
     "data": {
      "image/png": "[encoded data removed]",
      "text/plain": [
       "<Figure size 1224x1224 with 64 Axes>"
      ]
     },
     "metadata": {
      "needs_background": "light"
     },
     "output_type": "display_data"
    }
   ],
   "source": [
    "features = X.columns\n",
    "\n",
    "fig, axes = plt.subplots(8, 8, figsize=(17, 17))\n",
    "fig.suptitle('Feature Boxplots')\n",
    "for i,j in zip(features, range(64)):\n",
    "    sns.boxplot(ax = axes[int(j/8), j%8], \n",
    "                x = full_df[i][ abs(full_df[i]) < max( abs(full_df[i].min()), abs(full_df[i].max()) ) ] #remove outliers\n",
    "                )\n",
    "\n",
    "fig.tight_layout()"
   ]
  },
  {
   "cell_type": "code",
   "execution_count": 21,
   "metadata": {},
   "outputs": [],
   "source": [
    "def strat_shuffle_split(X, y, test_size, random_state):\n",
    "    stratified_shuffle_split = StratifiedShuffleSplit(n_splits=1, test_size=test_size, random_state=random_state)\n",
    "    for train_index, test_index in stratified_shuffle_split.split(X, y):\n",
    "        X_train, X_test = X.iloc[train_index], X.iloc[test_index]\n",
    "        y_train, y_test = y[train_index], y[test_index]\n",
    "    return X_train, X_test, y_train, y_test"
   ]
  },
  {
   "cell_type": "code",
   "execution_count": 22,
   "metadata": {},
   "outputs": [],
   "source": [
    "X_train, X_test, y_train, y_test = strat_shuffle_split(X, y, test_size=0.3, random_state=12343)"
   ]
  },
  {
   "cell_type": "code",
   "execution_count": 24,
   "metadata": {},
   "outputs": [
    {
     "data": {
      "text/html": [
       "<div>\n",
       "<style scoped>\n",
       "    .dataframe tbody tr th:only-of-type {\n",
       "        vertical-align: middle;\n",
       "    }\n",
       "\n",
       "    .dataframe tbody tr th {\n",
       "        vertical-align: top;\n",
       "    }\n",
       "\n",
       "    .dataframe thead th {\n",
       "        text-align: right;\n",
       "    }\n",
       "</style>\n",
       "<table border=\"1\" class=\"dataframe\">\n",
       "  <thead>\n",
       "    <tr style=\"text-align: right;\">\n",
       "      <th></th>\n",
       "      <th>Attr1</th>\n",
       "      <th>Attr2</th>\n",
       "      <th>Attr3</th>\n",
       "      <th>Attr4</th>\n",
       "      <th>Attr5</th>\n",
       "      <th>Attr6</th>\n",
       "      <th>Attr7</th>\n",
       "      <th>Attr8</th>\n",
       "      <th>Attr9</th>\n",
       "      <th>Attr10</th>\n",
       "      <th>...</th>\n",
       "      <th>Attr55</th>\n",
       "      <th>Attr56</th>\n",
       "      <th>Attr57</th>\n",
       "      <th>Attr58</th>\n",
       "      <th>Attr59</th>\n",
       "      <th>Attr60</th>\n",
       "      <th>Attr61</th>\n",
       "      <th>Attr62</th>\n",
       "      <th>Attr63</th>\n",
       "      <th>Attr64</th>\n",
       "    </tr>\n",
       "  </thead>\n",
       "  <tbody>\n",
       "    <tr>\n",
       "      <th>19844</th>\n",
       "      <td>0.126750</td>\n",
       "      <td>0.111670</td>\n",
       "      <td>0.594480</td>\n",
       "      <td>6.32340</td>\n",
       "      <td>91.9830</td>\n",
       "      <td>0.458410</td>\n",
       "      <td>0.157560</td>\n",
       "      <td>7.90080</td>\n",
       "      <td>1.07550</td>\n",
       "      <td>0.88231</td>\n",
       "      <td>...</td>\n",
       "      <td>26570.00</td>\n",
       "      <td>0.070158</td>\n",
       "      <td>0.143650</td>\n",
       "      <td>0.92984</td>\n",
       "      <td>0.000000</td>\n",
       "      <td>9.3266</td>\n",
       "      <td>5.8410</td>\n",
       "      <td>22.979</td>\n",
       "      <td>15.8840</td>\n",
       "      <td>6.0365</td>\n",
       "    </tr>\n",
       "    <tr>\n",
       "      <th>41074</th>\n",
       "      <td>-0.045747</td>\n",
       "      <td>0.547990</td>\n",
       "      <td>0.353430</td>\n",
       "      <td>1.97210</td>\n",
       "      <td>59.1210</td>\n",
       "      <td>0.000000</td>\n",
       "      <td>-0.045747</td>\n",
       "      <td>0.82485</td>\n",
       "      <td>1.80440</td>\n",
       "      <td>0.45201</td>\n",
       "      <td>...</td>\n",
       "      <td>1045.20</td>\n",
       "      <td>-0.070815</td>\n",
       "      <td>-0.101210</td>\n",
       "      <td>1.07360</td>\n",
       "      <td>0.000000</td>\n",
       "      <td>52.5580</td>\n",
       "      <td>3.5945</td>\n",
       "      <td>73.548</td>\n",
       "      <td>4.9627</td>\n",
       "      <td>6.3762</td>\n",
       "    </tr>\n",
       "    <tr>\n",
       "      <th>13866</th>\n",
       "      <td>0.013214</td>\n",
       "      <td>0.705070</td>\n",
       "      <td>0.081256</td>\n",
       "      <td>1.12620</td>\n",
       "      <td>935.0000</td>\n",
       "      <td>-0.053123</td>\n",
       "      <td>0.014501</td>\n",
       "      <td>0.41830</td>\n",
       "      <td>1.86370</td>\n",
       "      <td>0.29493</td>\n",
       "      <td>...</td>\n",
       "      <td>3472.20</td>\n",
       "      <td>0.014665</td>\n",
       "      <td>0.044805</td>\n",
       "      <td>0.99672</td>\n",
       "      <td>0.065512</td>\n",
       "      <td>11.4470</td>\n",
       "      <td>3.9907</td>\n",
       "      <td>126.060</td>\n",
       "      <td>2.8955</td>\n",
       "      <td>6.7750</td>\n",
       "    </tr>\n",
       "    <tr>\n",
       "      <th>36084</th>\n",
       "      <td>0.070254</td>\n",
       "      <td>0.585060</td>\n",
       "      <td>0.389470</td>\n",
       "      <td>1.66820</td>\n",
       "      <td>-64.5200</td>\n",
       "      <td>-0.010215</td>\n",
       "      <td>0.080989</td>\n",
       "      <td>0.70922</td>\n",
       "      <td>0.86096</td>\n",
       "      <td>0.41494</td>\n",
       "      <td>...</td>\n",
       "      <td>274.35</td>\n",
       "      <td>0.094290</td>\n",
       "      <td>0.169310</td>\n",
       "      <td>0.90607</td>\n",
       "      <td>0.000000</td>\n",
       "      <td>1.6284</td>\n",
       "      <td>2.3636</td>\n",
       "      <td>247.100</td>\n",
       "      <td>1.4772</td>\n",
       "      <td>31.1020</td>\n",
       "    </tr>\n",
       "    <tr>\n",
       "      <th>32658</th>\n",
       "      <td>-0.029575</td>\n",
       "      <td>0.546440</td>\n",
       "      <td>-0.098704</td>\n",
       "      <td>0.75235</td>\n",
       "      <td>-98.8580</td>\n",
       "      <td>0.000000</td>\n",
       "      <td>-0.029575</td>\n",
       "      <td>0.83004</td>\n",
       "      <td>1.27750</td>\n",
       "      <td>0.45356</td>\n",
       "      <td>...</td>\n",
       "      <td>-1132.30</td>\n",
       "      <td>-0.001995</td>\n",
       "      <td>-0.065205</td>\n",
       "      <td>1.02310</td>\n",
       "      <td>0.160830</td>\n",
       "      <td>6.8493</td>\n",
       "      <td>25.9670</td>\n",
       "      <td>113.870</td>\n",
       "      <td>3.2053</td>\n",
       "      <td>1.8246</td>\n",
       "    </tr>\n",
       "    <tr>\n",
       "      <th>...</th>\n",
       "      <td>...</td>\n",
       "      <td>...</td>\n",
       "      <td>...</td>\n",
       "      <td>...</td>\n",
       "      <td>...</td>\n",
       "      <td>...</td>\n",
       "      <td>...</td>\n",
       "      <td>...</td>\n",
       "      <td>...</td>\n",
       "      <td>...</td>\n",
       "      <td>...</td>\n",
       "      <td>...</td>\n",
       "      <td>...</td>\n",
       "      <td>...</td>\n",
       "      <td>...</td>\n",
       "      <td>...</td>\n",
       "      <td>...</td>\n",
       "      <td>...</td>\n",
       "      <td>...</td>\n",
       "      <td>...</td>\n",
       "      <td>...</td>\n",
       "    </tr>\n",
       "    <tr>\n",
       "      <th>38646</th>\n",
       "      <td>0.155400</td>\n",
       "      <td>0.223500</td>\n",
       "      <td>0.577250</td>\n",
       "      <td>3.80010</td>\n",
       "      <td>121.3600</td>\n",
       "      <td>0.000000</td>\n",
       "      <td>0.195310</td>\n",
       "      <td>3.47430</td>\n",
       "      <td>1.36550</td>\n",
       "      <td>0.77650</td>\n",
       "      <td>...</td>\n",
       "      <td>30514.00</td>\n",
       "      <td>0.132850</td>\n",
       "      <td>0.200130</td>\n",
       "      <td>0.86112</td>\n",
       "      <td>0.006109</td>\n",
       "      <td>7.3979</td>\n",
       "      <td>3.5258</td>\n",
       "      <td>55.104</td>\n",
       "      <td>6.6238</td>\n",
       "      <td>6.3044</td>\n",
       "    </tr>\n",
       "    <tr>\n",
       "      <th>35942</th>\n",
       "      <td>0.026766</td>\n",
       "      <td>0.081931</td>\n",
       "      <td>0.551440</td>\n",
       "      <td>7.73050</td>\n",
       "      <td>12.3670</td>\n",
       "      <td>-0.004005</td>\n",
       "      <td>0.034120</td>\n",
       "      <td>11.00400</td>\n",
       "      <td>1.02630</td>\n",
       "      <td>0.90155</td>\n",
       "      <td>...</td>\n",
       "      <td>59681.00</td>\n",
       "      <td>0.025651</td>\n",
       "      <td>0.029689</td>\n",
       "      <td>0.97435</td>\n",
       "      <td>0.000000</td>\n",
       "      <td>4.4133</td>\n",
       "      <td>9.6074</td>\n",
       "      <td>26.561</td>\n",
       "      <td>13.7420</td>\n",
       "      <td>3.0709</td>\n",
       "    </tr>\n",
       "    <tr>\n",
       "      <th>7376</th>\n",
       "      <td>0.486900</td>\n",
       "      <td>0.472310</td>\n",
       "      <td>0.527570</td>\n",
       "      <td>2.11700</td>\n",
       "      <td>268.2400</td>\n",
       "      <td>-0.035479</td>\n",
       "      <td>0.597120</td>\n",
       "      <td>1.11720</td>\n",
       "      <td>0.99641</td>\n",
       "      <td>0.52769</td>\n",
       "      <td>...</td>\n",
       "      <td>1383.40</td>\n",
       "      <td>0.602600</td>\n",
       "      <td>0.922700</td>\n",
       "      <td>0.40121</td>\n",
       "      <td>0.000000</td>\n",
       "      <td>4.3595</td>\n",
       "      <td>1.5121</td>\n",
       "      <td>173.020</td>\n",
       "      <td>2.1096</td>\n",
       "      <td>8242.5000</td>\n",
       "    </tr>\n",
       "    <tr>\n",
       "      <th>36002</th>\n",
       "      <td>-0.041583</td>\n",
       "      <td>0.526610</td>\n",
       "      <td>0.473390</td>\n",
       "      <td>1.89890</td>\n",
       "      <td>5.8601</td>\n",
       "      <td>0.000000</td>\n",
       "      <td>-0.041583</td>\n",
       "      <td>0.89893</td>\n",
       "      <td>2.55800</td>\n",
       "      <td>0.47339</td>\n",
       "      <td>...</td>\n",
       "      <td>2144.40</td>\n",
       "      <td>-0.012694</td>\n",
       "      <td>-0.087841</td>\n",
       "      <td>1.01620</td>\n",
       "      <td>0.000000</td>\n",
       "      <td>6.0306</td>\n",
       "      <td>4.5039</td>\n",
       "      <td>75.141</td>\n",
       "      <td>4.8575</td>\n",
       "      <td>NaN</td>\n",
       "    </tr>\n",
       "    <tr>\n",
       "      <th>2008</th>\n",
       "      <td>0.289560</td>\n",
       "      <td>0.498400</td>\n",
       "      <td>0.433680</td>\n",
       "      <td>2.09600</td>\n",
       "      <td>89.2060</td>\n",
       "      <td>0.000000</td>\n",
       "      <td>0.289560</td>\n",
       "      <td>1.00640</td>\n",
       "      <td>1.86370</td>\n",
       "      <td>0.50160</td>\n",
       "      <td>...</td>\n",
       "      <td>3059.50</td>\n",
       "      <td>0.326030</td>\n",
       "      <td>0.577270</td>\n",
       "      <td>0.67459</td>\n",
       "      <td>0.142910</td>\n",
       "      <td>15.6310</td>\n",
       "      <td>3.7730</td>\n",
       "      <td>77.493</td>\n",
       "      <td>4.7101</td>\n",
       "      <td>10.9220</td>\n",
       "    </tr>\n",
       "  </tbody>\n",
       "</table>\n",
       "<p>30383 rows × 64 columns</p>\n",
       "</div>"
      ],
      "text/plain": [
       "          Attr1     Attr2     Attr3    Attr4     Attr5     Attr6     Attr7  \\\n",
       "19844  0.126750  0.111670  0.594480  6.32340   91.9830  0.458410  0.157560   \n",
       "41074 -0.045747  0.547990  0.353430  1.97210   59.1210  0.000000 -0.045747   \n",
       "13866  0.013214  0.705070  0.081256  1.12620  935.0000 -0.053123  0.014501   \n",
       "36084  0.070254  0.585060  0.389470  1.66820  -64.5200 -0.010215  0.080989   \n",
       "32658 -0.029575  0.546440 -0.098704  0.75235  -98.8580  0.000000 -0.029575   \n",
       "...         ...       ...       ...      ...       ...       ...       ...   \n",
       "38646  0.155400  0.223500  0.577250  3.80010  121.3600  0.000000  0.195310   \n",
       "35942  0.026766  0.081931  0.551440  7.73050   12.3670 -0.004005  0.034120   \n",
       "7376   0.486900  0.472310  0.527570  2.11700  268.2400 -0.035479  0.597120   \n",
       "36002 -0.041583  0.526610  0.473390  1.89890    5.8601  0.000000 -0.041583   \n",
       "2008   0.289560  0.498400  0.433680  2.09600   89.2060  0.000000  0.289560   \n",
       "\n",
       "          Attr8    Attr9   Attr10  ...    Attr55    Attr56    Attr57   Attr58  \\\n",
       "19844   7.90080  1.07550  0.88231  ...  26570.00  0.070158  0.143650  0.92984   \n",
       "41074   0.82485  1.80440  0.45201  ...   1045.20 -0.070815 -0.101210  1.07360   \n",
       "13866   0.41830  1.86370  0.29493  ...   3472.20  0.014665  0.044805  0.99672   \n",
       "36084   0.70922  0.86096  0.41494  ...    274.35  0.094290  0.169310  0.90607   \n",
       "32658   0.83004  1.27750  0.45356  ...  -1132.30 -0.001995 -0.065205  1.02310   \n",
       "...         ...      ...      ...  ...       ...       ...       ...      ...   \n",
       "38646   3.47430  1.36550  0.77650  ...  30514.00  0.132850  0.200130  0.86112   \n",
       "35942  11.00400  1.02630  0.90155  ...  59681.00  0.025651  0.029689  0.97435   \n",
       "7376    1.11720  0.99641  0.52769  ...   1383.40  0.602600  0.922700  0.40121   \n",
       "36002   0.89893  2.55800  0.47339  ...   2144.40 -0.012694 -0.087841  1.01620   \n",
       "2008    1.00640  1.86370  0.50160  ...   3059.50  0.326030  0.577270  0.67459   \n",
       "\n",
       "         Attr59   Attr60   Attr61   Attr62   Attr63     Attr64  \n",
       "19844  0.000000   9.3266   5.8410   22.979  15.8840     6.0365  \n",
       "41074  0.000000  52.5580   3.5945   73.548   4.9627     6.3762  \n",
       "13866  0.065512  11.4470   3.9907  126.060   2.8955     6.7750  \n",
       "36084  0.000000   1.6284   2.3636  247.100   1.4772    31.1020  \n",
       "32658  0.160830   6.8493  25.9670  113.870   3.2053     1.8246  \n",
       "...         ...      ...      ...      ...      ...        ...  \n",
       "38646  0.006109   7.3979   3.5258   55.104   6.6238     6.3044  \n",
       "35942  0.000000   4.4133   9.6074   26.561  13.7420     3.0709  \n",
       "7376   0.000000   4.3595   1.5121  173.020   2.1096  8242.5000  \n",
       "36002  0.000000   6.0306   4.5039   75.141   4.8575        NaN  \n",
       "2008   0.142910  15.6310   3.7730   77.493   4.7101    10.9220  \n",
       "\n",
       "[30383 rows x 64 columns]"
      ]
     },
     "execution_count": 24,
     "metadata": {},
     "output_type": "execute_result"
    }
   ],
   "source": [
    "X_train"
   ]
  },
  {
   "cell_type": "code",
   "execution_count": 23,
   "metadata": {},
   "outputs": [],
   "source": [
    "# Use median imputation since many features are highly skewed\n",
    "\n",
    "imp_mean = SimpleImputer(missing_values=np.nan, strategy='median')\n",
    "imp_mean.fit(X_train)\n",
    "\n",
    "X_train_imp = pd.DataFrame( imp_mean.transform(X_train), columns = X.columns, index = X_train.index )\n",
    "X_test_imp = pd.DataFrame( imp_mean.transform(X_test), columns = X.columns, index = X_test.index )"
   ]
  },
  {
   "cell_type": "markdown",
   "metadata": {},
   "source": [
    "### Baseline accuracy = 95.2%"
   ]
  },
  {
   "cell_type": "code",
   "execution_count": 23,
   "metadata": {},
   "outputs": [
    {
     "data": {
      "text/plain": [
       "0    0.951815\n",
       "1    0.048185\n",
       "Name: bankrupt, dtype: float64"
      ]
     },
     "execution_count": 23,
     "metadata": {},
     "output_type": "execute_result"
    }
   ],
   "source": [
    "y_train.value_counts(normalize=True)"
   ]
  },
  {
   "cell_type": "code",
   "execution_count": 24,
   "metadata": {},
   "outputs": [
    {
     "data": {
      "text/plain": [
       "0    0.951851\n",
       "1    0.048149\n",
       "Name: bankrupt, dtype: float64"
      ]
     },
     "execution_count": 24,
     "metadata": {},
     "output_type": "execute_result"
    }
   ],
   "source": [
    "y_test.value_counts(normalize=True)"
   ]
  },
  {
   "cell_type": "code",
   "execution_count": 25,
   "metadata": {},
   "outputs": [],
   "source": [
    "def train_test_scores(model, X_train, X_test, y_train, y_test):\n",
    "    model.fit(X_train, y_train) # fixed this\n",
    "    \n",
    "    y_hat_rf_train = model.predict(X_train) # fixed this\n",
    "    y_hat_rf_test = model.predict(X_test) # fixed this\n",
    "    \n",
    "    train_acc = accuracy_score(y_train, y_hat_rf_train)\n",
    "    test_acc = accuracy_score(y_test, y_hat_rf_test)\n",
    "    \n",
    "    train_f1 = f1_score(y_train, y_hat_rf_train)\n",
    "    test_f1 = f1_score(y_test, y_hat_rf_test)\n",
    "    \n",
    "    scores = train_acc, test_acc, train_f1, test_f1\n",
    "    new_row = {'max_depth': model.max_depth, 'train_acc': train_acc, 'test_acc': test_acc, 'train_f1': train_f1, 'test_f1': test_f1}\n",
    "    return new_row\n",
    "\n",
    "def get_results_df(model, X_train, X_test, y_train, y_test, df):\n",
    "    new_row = train_test_scores(model, X_train, X_test, y_train, y_test) # fixed this\n",
    "    df = df.append(new_row, ignore_index=True) \n",
    "    return df"
   ]
  },
  {
   "cell_type": "markdown",
   "metadata": {},
   "source": [
    "### Not specifying max_depth causes overfitting and poor generalization "
   ]
  },
  {
   "cell_type": "code",
   "execution_count": 26,
   "metadata": {},
   "outputs": [
    {
     "data": {
      "text/html": [
       "<div>\n",
       "<style scoped>\n",
       "    .dataframe tbody tr th:only-of-type {\n",
       "        vertical-align: middle;\n",
       "    }\n",
       "\n",
       "    .dataframe tbody tr th {\n",
       "        vertical-align: top;\n",
       "    }\n",
       "\n",
       "    .dataframe thead th {\n",
       "        text-align: right;\n",
       "    }\n",
       "</style>\n",
       "<table border=\"1\" class=\"dataframe\">\n",
       "  <thead>\n",
       "    <tr style=\"text-align: right;\">\n",
       "      <th></th>\n",
       "      <th>max_depth</th>\n",
       "      <th>train_acc</th>\n",
       "      <th>test_acc</th>\n",
       "      <th>train_f1</th>\n",
       "      <th>test_f1</th>\n",
       "    </tr>\n",
       "  </thead>\n",
       "  <tbody>\n",
       "    <tr>\n",
       "      <th>0</th>\n",
       "      <td>NaN</td>\n",
       "      <td>1.0</td>\n",
       "      <td>0.960528</td>\n",
       "      <td>1.0</td>\n",
       "      <td>0.342711</td>\n",
       "    </tr>\n",
       "  </tbody>\n",
       "</table>\n",
       "</div>"
      ],
      "text/plain": [
       "   max_depth  train_acc  test_acc  train_f1   test_f1\n",
       "0        NaN        1.0  0.960528       1.0  0.342711"
      ]
     },
     "execution_count": 26,
     "metadata": {},
     "output_type": "execute_result"
    }
   ],
   "source": [
    "rf_clf = RandomForestClassifier(random_state=0, class_weight='balanced')\n",
    "results = pd.DataFrame({'max_depth' : [], 'train_acc' : [], 'test_acc' : [], 'train_f1': [], 'test_f1' : []})\n",
    "\n",
    "get_results_df(rf_clf, X_train_imp, X_test_imp, y_train, y_test, results)"
   ]
  },
  {
   "cell_type": "markdown",
   "metadata": {},
   "source": [
    "### Decreasing max_depth reduces overfitting\n",
    "Tried n_estimators as well, lower n_estimators decreased overall performance, larger n_estimators didn't really improve overall performance"
   ]
  },
  {
   "cell_type": "code",
   "execution_count": 27,
   "metadata": {},
   "outputs": [
    {
     "data": {
      "text/html": [
       "<div>\n",
       "<style scoped>\n",
       "    .dataframe tbody tr th:only-of-type {\n",
       "        vertical-align: middle;\n",
       "    }\n",
       "\n",
       "    .dataframe tbody tr th {\n",
       "        vertical-align: top;\n",
       "    }\n",
       "\n",
       "    .dataframe thead th {\n",
       "        text-align: right;\n",
       "    }\n",
       "</style>\n",
       "<table border=\"1\" class=\"dataframe\">\n",
       "  <thead>\n",
       "    <tr style=\"text-align: right;\">\n",
       "      <th></th>\n",
       "      <th>max_depth</th>\n",
       "      <th>train_acc</th>\n",
       "      <th>test_acc</th>\n",
       "      <th>train_f1</th>\n",
       "      <th>test_f1</th>\n",
       "    </tr>\n",
       "  </thead>\n",
       "  <tbody>\n",
       "    <tr>\n",
       "      <th>0</th>\n",
       "      <td>4.0</td>\n",
       "      <td>0.755916</td>\n",
       "      <td>0.746352</td>\n",
       "      <td>0.230865</td>\n",
       "      <td>0.211883</td>\n",
       "    </tr>\n",
       "    <tr>\n",
       "      <th>1</th>\n",
       "      <td>5.0</td>\n",
       "      <td>0.796531</td>\n",
       "      <td>0.783597</td>\n",
       "      <td>0.271506</td>\n",
       "      <td>0.243693</td>\n",
       "    </tr>\n",
       "    <tr>\n",
       "      <th>2</th>\n",
       "      <td>6.0</td>\n",
       "      <td>0.836586</td>\n",
       "      <td>0.823069</td>\n",
       "      <td>0.323846</td>\n",
       "      <td>0.282243</td>\n",
       "    </tr>\n",
       "    <tr>\n",
       "      <th>3</th>\n",
       "      <td>7.0</td>\n",
       "      <td>0.875358</td>\n",
       "      <td>0.859238</td>\n",
       "      <td>0.396494</td>\n",
       "      <td>0.322867</td>\n",
       "    </tr>\n",
       "    <tr>\n",
       "      <th>4</th>\n",
       "      <td>8.0</td>\n",
       "      <td>0.912319</td>\n",
       "      <td>0.889955</td>\n",
       "      <td>0.494497</td>\n",
       "      <td>0.364523</td>\n",
       "    </tr>\n",
       "    <tr>\n",
       "      <th>5</th>\n",
       "      <td>9.0</td>\n",
       "      <td>0.938354</td>\n",
       "      <td>0.912917</td>\n",
       "      <td>0.587354</td>\n",
       "      <td>0.389009</td>\n",
       "    </tr>\n",
       "    <tr>\n",
       "      <th>6</th>\n",
       "      <td>10.0</td>\n",
       "      <td>0.957015</td>\n",
       "      <td>0.932192</td>\n",
       "      <td>0.675124</td>\n",
       "      <td>0.429218</td>\n",
       "    </tr>\n",
       "    <tr>\n",
       "      <th>7</th>\n",
       "      <td>11.0</td>\n",
       "      <td>0.970115</td>\n",
       "      <td>0.942175</td>\n",
       "      <td>0.753930</td>\n",
       "      <td>0.453952</td>\n",
       "    </tr>\n",
       "    <tr>\n",
       "      <th>8</th>\n",
       "      <td>12.0</td>\n",
       "      <td>0.978113</td>\n",
       "      <td>0.949547</td>\n",
       "      <td>0.809946</td>\n",
       "      <td>0.465419</td>\n",
       "    </tr>\n",
       "    <tr>\n",
       "      <th>9</th>\n",
       "      <td>13.0</td>\n",
       "      <td>0.983412</td>\n",
       "      <td>0.951313</td>\n",
       "      <td>0.850267</td>\n",
       "      <td>0.453448</td>\n",
       "    </tr>\n",
       "    <tr>\n",
       "      <th>10</th>\n",
       "      <td>14.0</td>\n",
       "      <td>0.988316</td>\n",
       "      <td>0.955998</td>\n",
       "      <td>0.890937</td>\n",
       "      <td>0.462980</td>\n",
       "    </tr>\n",
       "    <tr>\n",
       "      <th>11</th>\n",
       "      <td>15.0</td>\n",
       "      <td>0.990159</td>\n",
       "      <td>0.956458</td>\n",
       "      <td>0.907172</td>\n",
       "      <td>0.452174</td>\n",
       "    </tr>\n",
       "    <tr>\n",
       "      <th>12</th>\n",
       "      <td>16.0</td>\n",
       "      <td>0.992660</td>\n",
       "      <td>0.957380</td>\n",
       "      <td>0.929049</td>\n",
       "      <td>0.434251</td>\n",
       "    </tr>\n",
       "    <tr>\n",
       "      <th>13</th>\n",
       "      <td>17.0</td>\n",
       "      <td>0.994536</td>\n",
       "      <td>0.958378</td>\n",
       "      <td>0.946313</td>\n",
       "      <td>0.423404</td>\n",
       "    </tr>\n",
       "    <tr>\n",
       "      <th>14</th>\n",
       "      <td>18.0</td>\n",
       "      <td>0.995754</td>\n",
       "      <td>0.959069</td>\n",
       "      <td>0.957802</td>\n",
       "      <td>0.414929</td>\n",
       "    </tr>\n",
       "    <tr>\n",
       "      <th>15</th>\n",
       "      <td>19.0</td>\n",
       "      <td>0.997466</td>\n",
       "      <td>0.960452</td>\n",
       "      <td>0.974376</td>\n",
       "      <td>0.415437</td>\n",
       "    </tr>\n",
       "    <tr>\n",
       "      <th>16</th>\n",
       "      <td>20.0</td>\n",
       "      <td>0.998025</td>\n",
       "      <td>0.960221</td>\n",
       "      <td>0.979920</td>\n",
       "      <td>0.400463</td>\n",
       "    </tr>\n",
       "  </tbody>\n",
       "</table>\n",
       "</div>"
      ],
      "text/plain": [
       "    max_depth  train_acc  test_acc  train_f1   test_f1\n",
       "0         4.0   0.755916  0.746352  0.230865  0.211883\n",
       "1         5.0   0.796531  0.783597  0.271506  0.243693\n",
       "2         6.0   0.836586  0.823069  0.323846  0.282243\n",
       "3         7.0   0.875358  0.859238  0.396494  0.322867\n",
       "4         8.0   0.912319  0.889955  0.494497  0.364523\n",
       "5         9.0   0.938354  0.912917  0.587354  0.389009\n",
       "6        10.0   0.957015  0.932192  0.675124  0.429218\n",
       "7        11.0   0.970115  0.942175  0.753930  0.453952\n",
       "8        12.0   0.978113  0.949547  0.809946  0.465419\n",
       "9        13.0   0.983412  0.951313  0.850267  0.453448\n",
       "10       14.0   0.988316  0.955998  0.890937  0.462980\n",
       "11       15.0   0.990159  0.956458  0.907172  0.452174\n",
       "12       16.0   0.992660  0.957380  0.929049  0.434251\n",
       "13       17.0   0.994536  0.958378  0.946313  0.423404\n",
       "14       18.0   0.995754  0.959069  0.957802  0.414929\n",
       "15       19.0   0.997466  0.960452  0.974376  0.415437\n",
       "16       20.0   0.998025  0.960221  0.979920  0.400463"
      ]
     },
     "execution_count": 27,
     "metadata": {},
     "output_type": "execute_result"
    }
   ],
   "source": [
    "results = pd.DataFrame({'max_depth' : [], 'train_acc' : [], 'test_acc' : [], 'train_f1': [], 'test_f1' : []})\n",
    "\n",
    "for i in range(4,21):\n",
    "    rf_clf_2 = RandomForestClassifier(random_state=0, class_weight='balanced', max_depth = i)\n",
    "    results = get_results_df(rf_clf_2, X_train_imp, X_test_imp, y_train, y_test, results)\n",
    "    print(\"max_depth =\", i, \"complete\")\n",
    "\n",
    "clear_output()\n",
    "results"
   ]
  },
  {
   "cell_type": "markdown",
   "metadata": {},
   "source": [
    "### max_depth>12 is where overfitting is egregious.  \n",
    "### max_depth > 8 is where f1 starts to really diverge between train and test.  "
   ]
  },
  {
   "cell_type": "code",
   "execution_count": 28,
   "metadata": {
    "scrolled": false
   },
   "outputs": [
    {
     "data": {
      "text/plain": [
       "<AxesSubplot:xlabel='max_depth'>"
      ]
     },
     "execution_count": 28,
     "metadata": {},
     "output_type": "execute_result"
    },
    {
     "data": {
      "image/png": "[encoded data removed]",
      "text/plain": [
       "<Figure size 432x288 with 1 Axes>"
      ]
     },
     "metadata": {
      "needs_background": "light"
     },
     "output_type": "display_data"
    }
   ],
   "source": [
    "results_plot_df = results.copy()\n",
    "results_plot_df.index = results_plot_df['max_depth'].astype(int)\n",
    "results_plot_df = results_plot_df.drop('max_depth', axis=1)\n",
    "\n",
    "sns.lineplot(data=results_plot_df)"
   ]
  },
  {
   "cell_type": "markdown",
   "metadata": {},
   "source": [
    "### Nicer looking visual"
   ]
  },
  {
   "cell_type": "code",
   "execution_count": 29,
   "metadata": {},
   "outputs": [
    {
     "data": {
      "image/png": "[encoded data removed]",
      "text/plain": [
       "<Figure size 720x288 with 2 Axes>"
      ]
     },
     "metadata": {
      "needs_background": "light"
     },
     "output_type": "display_data"
    }
   ],
   "source": [
    "fig, axes = plt.subplots(1, 2, figsize=(10, 4))\n",
    "fig.suptitle('Tuning')\n",
    "sns.lineplot(ax=axes[0], data=results, x='max_depth', y='train_acc', color='blue')\n",
    "sns.lineplot(ax=axes[0], data=results, x='max_depth', y='test_acc', color='red')\n",
    "\n",
    "sns.lineplot(ax=axes[1], data=results, x='max_depth', y='train_f1', color='blue')\n",
    "sns.lineplot(ax=axes[1], data=results, x='max_depth', y='test_f1', color='red')\n",
    "\n",
    "fig.legend(['Train','Test'], loc='right')\n",
    "plt.show()"
   ]
  },
  {
   "cell_type": "markdown",
   "metadata": {},
   "source": [
    "### Assign a unique extreme value to missing values for non-linear random forest modeling\n",
    "In this way, missing values get binned way out by themselves rather than binned with the median values.\n",
    "\n",
    "Find the global min and max values for the training set (no data leakage) and set the missing value out 1000 times farther."
   ]
  },
  {
   "cell_type": "code",
   "execution_count": 30,
   "metadata": {},
   "outputs": [
    {
     "name": "stdout",
     "output_type": "stream",
     "text": [
      "Train global min= -9632400.0\n",
      "Train global max= 30393000.0\n"
     ]
    }
   ],
   "source": [
    "# find the global min and max values for all of the training predictors\n",
    "train_global_min = X_train.min().min()\n",
    "print(\"Train global min=\", train_global_min)\n",
    "train_global_max = X_train.max().max()\n",
    "print(\"Train global max=\", train_global_max)"
   ]
  },
  {
   "cell_type": "code",
   "execution_count": 31,
   "metadata": {},
   "outputs": [],
   "source": [
    "imp_value_min = SimpleImputer(missing_values=np.nan, strategy='constant', fill_value=train_global_min*1000)\n",
    "imp_value_min.fit(X_train)\n",
    "\n",
    "X_train_imp_min = pd.DataFrame( imp_value_min.transform(X_train), columns = X.columns, index = X_train.index )\n",
    "X_test_imp_min = pd.DataFrame( imp_value_min.transform(X_test), columns = X.columns, index = X_test.index )"
   ]
  },
  {
   "cell_type": "markdown",
   "metadata": {},
   "source": [
    "### Improves Accuracy and F1 by 3-4%"
   ]
  },
  {
   "cell_type": "code",
   "execution_count": 32,
   "metadata": {},
   "outputs": [
    {
     "data": {
      "text/html": [
       "<div>\n",
       "<style scoped>\n",
       "    .dataframe tbody tr th:only-of-type {\n",
       "        vertical-align: middle;\n",
       "    }\n",
       "\n",
       "    .dataframe tbody tr th {\n",
       "        vertical-align: top;\n",
       "    }\n",
       "\n",
       "    .dataframe thead th {\n",
       "        text-align: right;\n",
       "    }\n",
       "</style>\n",
       "<table border=\"1\" class=\"dataframe\">\n",
       "  <thead>\n",
       "    <tr style=\"text-align: right;\">\n",
       "      <th></th>\n",
       "      <th>max_depth</th>\n",
       "      <th>train_acc</th>\n",
       "      <th>test_acc</th>\n",
       "      <th>train_f1</th>\n",
       "      <th>test_f1</th>\n",
       "    </tr>\n",
       "  </thead>\n",
       "  <tbody>\n",
       "    <tr>\n",
       "      <th>0</th>\n",
       "      <td>4.0</td>\n",
       "      <td>0.784123</td>\n",
       "      <td>0.775611</td>\n",
       "      <td>0.263778</td>\n",
       "      <td>0.250385</td>\n",
       "    </tr>\n",
       "    <tr>\n",
       "      <th>1</th>\n",
       "      <td>5.0</td>\n",
       "      <td>0.819142</td>\n",
       "      <td>0.807940</td>\n",
       "      <td>0.305046</td>\n",
       "      <td>0.277376</td>\n",
       "    </tr>\n",
       "    <tr>\n",
       "      <th>2</th>\n",
       "      <td>6.0</td>\n",
       "      <td>0.863838</td>\n",
       "      <td>0.848026</td>\n",
       "      <td>0.375170</td>\n",
       "      <td>0.322956</td>\n",
       "    </tr>\n",
       "    <tr>\n",
       "      <th>3</th>\n",
       "      <td>7.0</td>\n",
       "      <td>0.891716</td>\n",
       "      <td>0.874674</td>\n",
       "      <td>0.437607</td>\n",
       "      <td>0.357986</td>\n",
       "    </tr>\n",
       "    <tr>\n",
       "      <th>4</th>\n",
       "      <td>8.0</td>\n",
       "      <td>0.923609</td>\n",
       "      <td>0.904853</td>\n",
       "      <td>0.532528</td>\n",
       "      <td>0.409719</td>\n",
       "    </tr>\n",
       "  </tbody>\n",
       "</table>\n",
       "</div>"
      ],
      "text/plain": [
       "   max_depth  train_acc  test_acc  train_f1   test_f1\n",
       "0        4.0   0.784123  0.775611  0.263778  0.250385\n",
       "1        5.0   0.819142  0.807940  0.305046  0.277376\n",
       "2        6.0   0.863838  0.848026  0.375170  0.322956\n",
       "3        7.0   0.891716  0.874674  0.437607  0.357986\n",
       "4        8.0   0.923609  0.904853  0.532528  0.409719"
      ]
     },
     "execution_count": 32,
     "metadata": {},
     "output_type": "execute_result"
    }
   ],
   "source": [
    "results2 = pd.DataFrame({'max_depth' : [], 'train_acc' : [], 'test_acc' : [], 'train_f1': [], 'test_f1' : []})\n",
    "\n",
    "for i in range(4,9):\n",
    "    rf_clf_2 = RandomForestClassifier(random_state=0, class_weight='balanced', max_depth = i)\n",
    "    results2 = get_results_df(rf_clf_2, X_train_imp_min, X_test_imp_min, y_train, y_test, results2)\n",
    "    print(\"max_depth =\", i, \"complete\")\n",
    "\n",
    "clear_output()\n",
    "results2"
   ]
  },
  {
   "cell_type": "markdown",
   "metadata": {},
   "source": [
    "### Slight improvement using extreme max value vs. extreme min value\n",
    "Could add complexity by using both min & max depending on the feature skewing + or - "
   ]
  },
  {
   "cell_type": "code",
   "execution_count": 33,
   "metadata": {},
   "outputs": [],
   "source": [
    "imp_value_max = SimpleImputer(missing_values=np.nan, strategy='constant', fill_value=train_global_max*1000)\n",
    "imp_value_max.fit(X_train)\n",
    "\n",
    "X_train_imp_max = pd.DataFrame( imp_value_max.transform(X_train), columns = X.columns, index = X_train.index )\n",
    "X_test_imp_max = pd.DataFrame( imp_value_max.transform(X_test), columns = X.columns, index = X_test.index )"
   ]
  },
  {
   "cell_type": "code",
   "execution_count": 34,
   "metadata": {},
   "outputs": [
    {
     "data": {
      "text/html": [
       "<div>\n",
       "<style scoped>\n",
       "    .dataframe tbody tr th:only-of-type {\n",
       "        vertical-align: middle;\n",
       "    }\n",
       "\n",
       "    .dataframe tbody tr th {\n",
       "        vertical-align: top;\n",
       "    }\n",
       "\n",
       "    .dataframe thead th {\n",
       "        text-align: right;\n",
       "    }\n",
       "</style>\n",
       "<table border=\"1\" class=\"dataframe\">\n",
       "  <thead>\n",
       "    <tr style=\"text-align: right;\">\n",
       "      <th></th>\n",
       "      <th>max_depth</th>\n",
       "      <th>train_acc</th>\n",
       "      <th>test_acc</th>\n",
       "      <th>train_f1</th>\n",
       "      <th>test_f1</th>\n",
       "    </tr>\n",
       "  </thead>\n",
       "  <tbody>\n",
       "    <tr>\n",
       "      <th>0</th>\n",
       "      <td>4.0</td>\n",
       "      <td>0.779778</td>\n",
       "      <td>0.770389</td>\n",
       "      <td>0.262700</td>\n",
       "      <td>0.244949</td>\n",
       "    </tr>\n",
       "    <tr>\n",
       "      <th>1</th>\n",
       "      <td>5.0</td>\n",
       "      <td>0.821512</td>\n",
       "      <td>0.809323</td>\n",
       "      <td>0.308379</td>\n",
       "      <td>0.277988</td>\n",
       "    </tr>\n",
       "    <tr>\n",
       "      <th>2</th>\n",
       "      <td>6.0</td>\n",
       "      <td>0.858638</td>\n",
       "      <td>0.843342</td>\n",
       "      <td>0.367918</td>\n",
       "      <td>0.320453</td>\n",
       "    </tr>\n",
       "    <tr>\n",
       "      <th>3</th>\n",
       "      <td>7.0</td>\n",
       "      <td>0.888359</td>\n",
       "      <td>0.875442</td>\n",
       "      <td>0.428764</td>\n",
       "      <td>0.360410</td>\n",
       "    </tr>\n",
       "    <tr>\n",
       "      <th>4</th>\n",
       "      <td>8.0</td>\n",
       "      <td>0.922555</td>\n",
       "      <td>0.904546</td>\n",
       "      <td>0.526845</td>\n",
       "      <td>0.411180</td>\n",
       "    </tr>\n",
       "  </tbody>\n",
       "</table>\n",
       "</div>"
      ],
      "text/plain": [
       "   max_depth  train_acc  test_acc  train_f1   test_f1\n",
       "0        4.0   0.779778  0.770389  0.262700  0.244949\n",
       "1        5.0   0.821512  0.809323  0.308379  0.277988\n",
       "2        6.0   0.858638  0.843342  0.367918  0.320453\n",
       "3        7.0   0.888359  0.875442  0.428764  0.360410\n",
       "4        8.0   0.922555  0.904546  0.526845  0.411180"
      ]
     },
     "execution_count": 34,
     "metadata": {},
     "output_type": "execute_result"
    }
   ],
   "source": [
    "results3 = pd.DataFrame({'max_depth' : [], 'train_acc' : [], 'test_acc' : [], 'train_f1': [], 'test_f1' : []})\n",
    "\n",
    "for i in range(4,9):\n",
    "    rf_clf_2 = RandomForestClassifier(random_state=0, class_weight='balanced', max_depth = i)\n",
    "    results3 = get_results_df(rf_clf_2, X_train_imp_max, X_test_imp_max, y_train, y_test, results3)\n",
    "    print(\"max_depth =\", i, \"complete\")\n",
    "\n",
    "clear_output()\n",
    "results3"
   ]
  },
  {
   "cell_type": "markdown",
   "metadata": {},
   "source": [
    "## XGBoost"
   ]
  },
  {
   "cell_type": "code",
   "execution_count": 35,
   "metadata": {},
   "outputs": [],
   "source": [
    "import xgboost as xgb\n",
    "from sklearn.model_selection import train_test_split\n",
    "from sklearn.metrics import mean_squared_error"
   ]
  },
  {
   "cell_type": "code",
   "execution_count": 36,
   "metadata": {},
   "outputs": [
    {
     "data": {
      "text/plain": [
       "<bound method NDFrame.head of           Attr1    Attr2     Attr3    Attr4     Attr5     Attr6     Attr7  \\\n",
       "0      0.202350  0.46500  0.240380  1.51710  -14.5470  0.510690  0.253660   \n",
       "1      0.030073  0.59563  0.186680  1.33820  -37.8590 -0.000319  0.041670   \n",
       "2      0.257860  0.29949  0.665190  3.22110   71.7990  0.000000  0.318770   \n",
       "3      0.227160  0.67850  0.042784  1.08280  -88.2120  0.000000  0.285050   \n",
       "4      0.085443  0.38039  0.359230  1.94440   21.7310  0.187900  0.108230   \n",
       "...         ...      ...       ...      ...       ...       ...       ...   \n",
       "43400  0.018371  0.47410 -0.136190  0.60839  -18.4490  0.018371  0.018371   \n",
       "43401 -0.013359  0.58354 -0.022650  0.92896  -42.2320 -0.013359 -0.015036   \n",
       "43402  0.006338  0.50276  0.439230  1.87360    9.7417  0.006338  0.012022   \n",
       "43403 -0.041643  0.84810 -0.128520  0.57485 -121.9200  0.000000 -0.036795   \n",
       "43404  0.014946  0.94648  0.032110  1.03630  -20.5810  0.000000  0.015260   \n",
       "\n",
       "          Attr8    Attr9    Attr10  ...    Attr55    Attr56    Attr57  \\\n",
       "0      0.918160  1.15190  0.426950  ...  242500.0  0.131840  0.473950   \n",
       "1      0.678900  0.32356  0.404370  ...    2179.5  0.121460  0.074369   \n",
       "2      2.332000  1.67620  0.698410  ...    3668.6  0.164990  0.369210   \n",
       "3      0.473840  1.32410  0.321500  ...    1273.8  0.293580  0.706570   \n",
       "4      1.371400  1.11260  0.521670  ...   18209.0  0.101240  0.163790   \n",
       "...         ...      ...       ...  ...       ...       ...       ...   \n",
       "43400  0.972030  1.01210  0.460840  ...   -2732.8  0.011909  0.039866   \n",
       "43401  0.562890  0.98904  0.328470  ...   -2557.1 -0.011082 -0.040671   \n",
       "43402  0.983560  1.00830  0.494490  ...    4826.9  0.008258  0.012817   \n",
       "43403  0.179010  0.42138  0.151820  ...   -1633.0 -0.232720 -0.274290   \n",
       "43404  0.056357  2.96940  0.053341  ...      42.0  0.015705  0.280210   \n",
       "\n",
       "        Attr58   Attr59   Attr60    Attr61   Attr62    Attr63    Attr64  \n",
       "0      0.86816  0.00024   8.5487   5.16550  107.740   3.38790   5.34400  \n",
       "1      0.87235  0.00000   1.5264   0.63305  622.660   0.58619   1.23810  \n",
       "2      0.81614  0.00000   4.3325   3.19850   65.215   5.59690  47.46600  \n",
       "3      0.78617  0.48456   5.2309   5.06750  142.460   2.56210   3.00660  \n",
       "4      0.89876  0.00000   5.7035   4.00200   89.058   4.09840   5.98740  \n",
       "...        ...      ...      ...       ...      ...       ...       ...  \n",
       "43400  0.98809  0.27414  73.5050  79.23700   31.268  11.67300   5.14890  \n",
       "43401  1.01110  0.80592  10.5990   7.17400   94.092   3.87920   1.75720  \n",
       "43402  0.99174  0.00000  10.4700   6.07590   51.019   7.15420  62.00100  \n",
       "43403  0.98788  3.59310  39.7030   3.14200  261.850   1.39390   0.51005  \n",
       "43404  0.97443  1.17920  15.0360   4.17410  108.640   3.35990  35.11800  \n",
       "\n",
       "[43405 rows x 64 columns]>"
      ]
     },
     "execution_count": 36,
     "metadata": {},
     "output_type": "execute_result"
    }
   ],
   "source": [
    "X.head"
   ]
  },
  {
   "cell_type": "code",
   "execution_count": 37,
   "metadata": {},
   "outputs": [],
   "source": [
    "regressor = xgb.XGBRegressor(\n",
    "    n_estimators=100,\n",
    "    reg_lambda=1,\n",
    "    gamma=0,\n",
    "    max_depth=3\n",
    ")"
   ]
  },
  {
   "cell_type": "code",
   "execution_count": 38,
   "metadata": {},
   "outputs": [
    {
     "data": {
      "text/plain": [
       "XGBRegressor(base_score=0.5, booster='gbtree', colsample_bylevel=1,\n",
       "             colsample_bynode=1, colsample_bytree=1, enable_categorical=False,\n",
       "             gamma=0, gpu_id=-1, importance_type=None,\n",
       "             interaction_constraints='', learning_rate=0.300000012,\n",
       "             max_delta_step=0, max_depth=3, min_child_weight=1, missing=nan,\n",
       "             monotone_constraints='()', n_estimators=100, n_jobs=8,\n",
       "             num_parallel_tree=1, predictor='auto', random_state=0, reg_alpha=0,\n",
       "             reg_lambda=1, scale_pos_weight=1, subsample=1, tree_method='exact',\n",
       "             validate_parameters=1, verbosity=None)"
      ]
     },
     "execution_count": 38,
     "metadata": {},
     "output_type": "execute_result"
    }
   ],
   "source": [
    "regressor.fit(X_train, y_train)"
   ]
  },
  {
   "cell_type": "code",
   "execution_count": 39,
   "metadata": {},
   "outputs": [
    {
     "data": {
      "text/html": [
       "<div>\n",
       "<style scoped>\n",
       "    .dataframe tbody tr th:only-of-type {\n",
       "        vertical-align: middle;\n",
       "    }\n",
       "\n",
       "    .dataframe tbody tr th {\n",
       "        vertical-align: top;\n",
       "    }\n",
       "\n",
       "    .dataframe thead th {\n",
       "        text-align: right;\n",
       "    }\n",
       "</style>\n",
       "<table border=\"1\" class=\"dataframe\">\n",
       "  <thead>\n",
       "    <tr style=\"text-align: right;\">\n",
       "      <th></th>\n",
       "      <th>Attr1</th>\n",
       "      <th>Attr2</th>\n",
       "      <th>Attr3</th>\n",
       "      <th>Attr4</th>\n",
       "      <th>Attr5</th>\n",
       "      <th>Attr6</th>\n",
       "      <th>Attr7</th>\n",
       "      <th>Attr8</th>\n",
       "      <th>Attr9</th>\n",
       "      <th>Attr10</th>\n",
       "      <th>...</th>\n",
       "      <th>Attr55</th>\n",
       "      <th>Attr56</th>\n",
       "      <th>Attr57</th>\n",
       "      <th>Attr58</th>\n",
       "      <th>Attr59</th>\n",
       "      <th>Attr60</th>\n",
       "      <th>Attr61</th>\n",
       "      <th>Attr62</th>\n",
       "      <th>Attr63</th>\n",
       "      <th>Attr64</th>\n",
       "    </tr>\n",
       "  </thead>\n",
       "  <tbody>\n",
       "    <tr>\n",
       "      <th>0</th>\n",
       "      <td>0.004403</td>\n",
       "      <td>0.004473</td>\n",
       "      <td>0.005216</td>\n",
       "      <td>0.020606</td>\n",
       "      <td>0.016275</td>\n",
       "      <td>0.027581</td>\n",
       "      <td>0.004511</td>\n",
       "      <td>0.003207</td>\n",
       "      <td>0.006413</td>\n",
       "      <td>0.006608</td>\n",
       "      <td>...</td>\n",
       "      <td>0.008484</td>\n",
       "      <td>0.04098</td>\n",
       "      <td>0.008345</td>\n",
       "      <td>0.010882</td>\n",
       "      <td>0.009212</td>\n",
       "      <td>0.011381</td>\n",
       "      <td>0.005161</td>\n",
       "      <td>0.002722</td>\n",
       "      <td>0.006031</td>\n",
       "      <td>0.003063</td>\n",
       "    </tr>\n",
       "  </tbody>\n",
       "</table>\n",
       "<p>1 rows × 64 columns</p>\n",
       "</div>"
      ],
      "text/plain": [
       "      Attr1     Attr2     Attr3     Attr4     Attr5     Attr6     Attr7  \\\n",
       "0  0.004403  0.004473  0.005216  0.020606  0.016275  0.027581  0.004511   \n",
       "\n",
       "      Attr8     Attr9    Attr10  ...    Attr55   Attr56    Attr57    Attr58  \\\n",
       "0  0.003207  0.006413  0.006608  ...  0.008484  0.04098  0.008345  0.010882   \n",
       "\n",
       "     Attr59    Attr60    Attr61    Attr62    Attr63    Attr64  \n",
       "0  0.009212  0.011381  0.005161  0.002722  0.006031  0.003063  \n",
       "\n",
       "[1 rows x 64 columns]"
      ]
     },
     "execution_count": 39,
     "metadata": {},
     "output_type": "execute_result"
    }
   ],
   "source": [
    "pd.DataFrame(regressor.feature_importances_.reshape(1, -1), columns=X.columns)"
   ]
  },
  {
   "cell_type": "code",
   "execution_count": 40,
   "metadata": {},
   "outputs": [],
   "source": [
    "y_pred = regressor.predict(X_test)"
   ]
  },
  {
   "cell_type": "code",
   "execution_count": 41,
   "metadata": {},
   "outputs": [
    {
     "data": {
      "text/plain": [
       "0.02496966062260604"
      ]
     },
     "execution_count": 41,
     "metadata": {},
     "output_type": "execute_result"
    }
   ],
   "source": [
    "mean_squared_error(y_test, y_pred)"
   ]
  },
  {
   "cell_type": "markdown",
   "metadata": {},
   "source": [
    "experiment"
   ]
  },
  {
   "cell_type": "code",
   "execution_count": 42,
   "metadata": {},
   "outputs": [],
   "source": [
    "# XGBoost Classifier\n",
    "from xgboost import XGBClassifier\n",
    "# Classification report and confusion matrix\n",
    "from sklearn.metrics import classification_report\n",
    "from sklearn.metrics import confusion_matrix\n",
    "# Cross validation\n",
    "from sklearn.model_selection import KFold\n",
    "from sklearn.model_selection import cross_val_score\n",
    "# Pandas datareader to get the data\n",
    "from pandas_datareader import data\n",
    "# To plot the graphs\n",
    "import matplotlib.pyplot as plt\n",
    "import seaborn as sn\n",
    "# For data manipulation\n",
    "import pandas as pd\n",
    "import numpy as np"
   ]
  },
  {
   "cell_type": "code",
   "execution_count": 43,
   "metadata": {},
   "outputs": [
    {
     "data": {
      "text/plain": [
       "XGBClassifier(base_score=None, booster=None, colsample_bylevel=None,\n",
       "              colsample_bynode=None, colsample_bytree=None,\n",
       "              enable_categorical=False, eval_metric='mlogloss', gamma=None,\n",
       "              gpu_id=None, importance_type=None, interaction_constraints=None,\n",
       "              learning_rate=None, max_delta_step=None, max_depth=2,\n",
       "              min_child_weight=None, missing=nan, monotone_constraints=None,\n",
       "              n_estimators=30, n_jobs=None, num_parallel_tree=None,\n",
       "              predictor=None, random_state=None, reg_alpha=None,\n",
       "              reg_lambda=None, scale_pos_weight=None, subsample=None,\n",
       "              tree_method=None, validate_parameters=None, verbosity=None)"
      ]
     },
     "execution_count": 43,
     "metadata": {},
     "output_type": "execute_result"
    }
   ],
   "source": [
    "# Initialize the model and set the hyperparameter values\n",
    "model = XGBClassifier(max_depth=2, n_estimators=30, eval_metric='mlogloss')\n",
    "model"
   ]
  },
  {
   "cell_type": "code",
   "execution_count": 44,
   "metadata": {},
   "outputs": [
    {
     "name": "stderr",
     "output_type": "stream",
     "text": [
      "/Users/Amber/opt/anaconda3/lib/python3.8/site-packages/xgboost/sklearn.py:1224: UserWarning: The use of label encoder in XGBClassifier is deprecated and will be removed in a future release. To remove this warning, do the following: 1) Pass option use_label_encoder=False when constructing XGBClassifier object; and 2) Encode your labels (y) as integers starting with 0, i.e. 0, 1, 2, ..., [num_class - 1].\n",
      "  warnings.warn(label_encoder_deprecation_msg, UserWarning)\n",
      "/Users/Amber/opt/anaconda3/lib/python3.8/site-packages/xgboost/sklearn.py:1224: UserWarning: The use of label encoder in XGBClassifier is deprecated and will be removed in a future release. To remove this warning, do the following: 1) Pass option use_label_encoder=False when constructing XGBClassifier object; and 2) Encode your labels (y) as integers starting with 0, i.e. 0, 1, 2, ..., [num_class - 1].\n",
      "  warnings.warn(label_encoder_deprecation_msg, UserWarning)\n",
      "/Users/Amber/opt/anaconda3/lib/python3.8/site-packages/xgboost/sklearn.py:1224: UserWarning: The use of label encoder in XGBClassifier is deprecated and will be removed in a future release. To remove this warning, do the following: 1) Pass option use_label_encoder=False when constructing XGBClassifier object; and 2) Encode your labels (y) as integers starting with 0, i.e. 0, 1, 2, ..., [num_class - 1].\n",
      "  warnings.warn(label_encoder_deprecation_msg, UserWarning)\n",
      "/Users/Amber/opt/anaconda3/lib/python3.8/site-packages/xgboost/sklearn.py:1224: UserWarning: The use of label encoder in XGBClassifier is deprecated and will be removed in a future release. To remove this warning, do the following: 1) Pass option use_label_encoder=False when constructing XGBClassifier object; and 2) Encode your labels (y) as integers starting with 0, i.e. 0, 1, 2, ..., [num_class - 1].\n",
      "  warnings.warn(label_encoder_deprecation_msg, UserWarning)\n",
      "/Users/Amber/opt/anaconda3/lib/python3.8/site-packages/xgboost/sklearn.py:1224: UserWarning: The use of label encoder in XGBClassifier is deprecated and will be removed in a future release. To remove this warning, do the following: 1) Pass option use_label_encoder=False when constructing XGBClassifier object; and 2) Encode your labels (y) as integers starting with 0, i.e. 0, 1, 2, ..., [num_class - 1].\n",
      "  warnings.warn(label_encoder_deprecation_msg, UserWarning)\n"
     ]
    },
    {
     "name": "stdout",
     "output_type": "stream",
     "text": [
      "Accuracy: 96.34% (0.14%)\n"
     ]
    }
   ],
   "source": [
    "# Initialize the KFold parameters\n",
    "kfold = KFold(n_splits=5)\n",
    "# Perform K-Fold Cross Validation\n",
    "results = cross_val_score(model, X_train, y_train, cv=kfold)\n",
    "# Print the average results\n",
    "print(\"Accuracy: %.2f%% (%.2f%%)\" % (results.mean()*100, results.std()*100))"
   ]
  },
  {
   "cell_type": "code",
   "execution_count": 45,
   "metadata": {},
   "outputs": [
    {
     "name": "stderr",
     "output_type": "stream",
     "text": [
      "/Users/Amber/opt/anaconda3/lib/python3.8/site-packages/xgboost/sklearn.py:1224: UserWarning: The use of label encoder in XGBClassifier is deprecated and will be removed in a future release. To remove this warning, do the following: 1) Pass option use_label_encoder=False when constructing XGBClassifier object; and 2) Encode your labels (y) as integers starting with 0, i.e. 0, 1, 2, ..., [num_class - 1].\n",
      "  warnings.warn(label_encoder_deprecation_msg, UserWarning)\n"
     ]
    },
    {
     "data": {
      "text/plain": [
       "XGBClassifier(base_score=0.5, booster='gbtree', colsample_bylevel=1,\n",
       "              colsample_bynode=1, colsample_bytree=1, enable_categorical=False,\n",
       "              eval_metric='mlogloss', gamma=0, gpu_id=-1, importance_type=None,\n",
       "              interaction_constraints='', learning_rate=0.300000012,\n",
       "              max_delta_step=0, max_depth=2, min_child_weight=1, missing=nan,\n",
       "              monotone_constraints='()', n_estimators=30, n_jobs=8,\n",
       "              num_parallel_tree=1, predictor='auto', random_state=0,\n",
       "              reg_alpha=0, reg_lambda=1, scale_pos_weight=1, subsample=1,\n",
       "              tree_method='exact', validate_parameters=1, verbosity=None)"
      ]
     },
     "execution_count": 45,
     "metadata": {},
     "output_type": "execute_result"
    }
   ],
   "source": [
    "model.fit(X_train, y_train)"
   ]
  },
  {
   "cell_type": "code",
   "execution_count": 48,
   "metadata": {},
   "outputs": [
    {
     "data": {
      "image/png": "[encoded data removed]",
      "text/plain": [
       "<Figure size 432x288 with 1 Axes>"
      ]
     },
     "metadata": {
      "needs_background": "light"
     },
     "output_type": "display_data"
    }
   ],
   "source": [
    "import xgboost\n",
    "# Plot the top 7 features\n",
    "xgboost.plot_importance(model, max_num_features=7)\n",
    "# Show the plot\n",
    "plt.show()"
   ]
  },
  {
   "cell_type": "code",
   "execution_count": 49,
   "metadata": {},
   "outputs": [
    {
     "name": "stdout",
     "output_type": "stream",
     "text": [
      "              precision    recall  f1-score   support\n",
      "\n",
      "           0       0.97      1.00      0.98     12395\n",
      "           1       0.92      0.30      0.45       627\n",
      "\n",
      "    accuracy                           0.96     13022\n",
      "   macro avg       0.94      0.65      0.72     13022\n",
      "weighted avg       0.96      0.96      0.96     13022\n",
      "\n"
     ]
    }
   ],
   "source": [
    "# Predict the trading signal on test dataset\n",
    "y_pred = model.predict(X_test)\n",
    "# Get the classification report\n",
    "print(classification_report(y_test, y_pred))"
   ]
  },
  {
   "cell_type": "code",
   "execution_count": 50,
   "metadata": {},
   "outputs": [
    {
     "data": {
      "image/png": "[encoded data removed]",
      "text/plain": [
       "<Figure size 360x288 with 2 Axes>"
      ]
     },
     "metadata": {
      "needs_background": "light"
     },
     "output_type": "display_data"
    }
   ],
   "source": [
    "array = confusion_matrix(y_test, y_pred)\n",
    "df = pd.DataFrame(array, index=['Short', 'Long'], columns=[\n",
    "'Short', 'Long'])\n",
    "plt.figure(figsize=(5, 4))\n",
    "sn.heatmap(df, annot=True, cmap='Greens', fmt='g')\n",
    "plt.xlabel('Predicted')\n",
    "plt.ylabel('Actual')\n",
    "plt.show()"
   ]
  },
  {
   "cell_type": "code",
   "execution_count": null,
   "metadata": {},
   "outputs": [],
   "source": []
  }
 ],
 "metadata": {
  "kernelspec": {
   "display_name": "Python 3",
   "language": "python",
   "name": "python3"
  },
  "language_info": {
   "codemirror_mode": {
    "name": "ipython",
    "version": 3
   },
   "file_extension": ".py",
   "mimetype": "text/x-python",
   "name": "python",
   "nbconvert_exporter": "python",
   "pygments_lexer": "ipython3",
   "version": "3.7.9"
  }
 },
 "nbformat": 4,
 "nbformat_minor": 4
}
