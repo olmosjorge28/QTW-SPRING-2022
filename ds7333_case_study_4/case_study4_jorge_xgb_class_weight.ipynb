{
 "cells": [
  {
   "cell_type": "code",
   "execution_count": 1,
   "metadata": {},
   "outputs": [
    {
     "data": {
      "text/plain": [
       "\"import warnings\\nwarnings.filterwarnings('ignore')\\nfrom warnings import simplefilter \\nsimplefilter(action='ignore', category=FutureWarning)\""
      ]
     },
     "execution_count": 1,
     "metadata": {},
     "output_type": "execute_result"
    }
   ],
   "source": [
    "# standard libraries\n",
    "import pandas as pd\n",
    "import numpy as np\n",
    "#import re\n",
    "import os\n",
    "from IPython.display import Image\n",
    "#import sklearn\n",
    "#import time\n",
    "\n",
    "# visualization\n",
    "import seaborn as sns\n",
    "import matplotlib.pyplot as plt\n",
    "%matplotlib inline\n",
    "from tabulate import tabulate\n",
    "from IPython.display import clear_output\n",
    "\n",
    "# data pre-processing\n",
    "from scipy.io import arff\n",
    "#from sklearn.model_selection import train_test_split\n",
    "from sklearn.experimental import enable_iterative_imputer\n",
    "from sklearn.impute import SimpleImputer, KNNImputer, IterativeImputer\n",
    "from sklearn.impute._base import _BaseImputer\n",
    "from sklearn.model_selection import StratifiedShuffleSplit\n",
    "from sklearn.model_selection._split import BaseShuffleSplit\n",
    "from sklearn.datasets import load_digits\n",
    "from sklearn.preprocessing import MinMaxScaler, StandardScaler\n",
    "\n",
    "# prediction models\n",
    "from sklearn.ensemble import RandomForestClassifier\n",
    "import xgboost as xgb\n",
    "from xgboost import XGBClassifier\n",
    "from sklearn.model_selection import cross_val_score\n",
    "from sklearn.metrics import f1_score\n",
    "from sklearn.metrics import confusion_matrix\n",
    "from sklearn.metrics import accuracy_score\n",
    "from sklearn.metrics import precision_score\n",
    "from sklearn.metrics import recall_score\n",
    "from sklearn.metrics import fbeta_score\n",
    "\n",
    "# import warnings filter\n",
    "'''import warnings\n",
    "warnings.filterwarnings('ignore')\n",
    "from warnings import simplefilter \n",
    "simplefilter(action='ignore', category=FutureWarning)'''"
   ]
  },
  {
   "cell_type": "code",
   "execution_count": 2,
   "metadata": {},
   "outputs": [],
   "source": [
    "from os import listdir\n",
    "from os.path import isfile, join\n",
    "\n",
    "class FilePathManager:\n",
    "    def __init__(self, local_dir: str):\n",
    "        self.local_dir = local_dir\n",
    "    \n",
    "    def retrieve_full_path(self):\n",
    "        return os.getcwd()+'/'+self.local_dir"
   ]
  },
  {
   "cell_type": "code",
   "execution_count": 3,
   "metadata": {},
   "outputs": [],
   "source": [
    "class ARFFLoader:\n",
    "    df = pd.DataFrame()\n",
    "    \n",
    "    def __init__(self, file_path_manager: FilePathManager):\n",
    "        self.file_path_manager = file_path_manager\n",
    "    \n",
    "    def load_data(self):\n",
    "        files = self.retrieve_files()\n",
    "        for file in files:\n",
    "            self.df = pd.concat([self.df, self.load_file(file)])\n",
    "        self.df=self.df.reset_index(drop=True)\n",
    "        \n",
    "    def load_file(self, file_name):\n",
    "        return pd.DataFrame(arff.loadarff(self.file_path_manager.retrieve_full_path()+'/'+file_name)[0])\n",
    " \n",
    "    def retrieve_files(self):\n",
    "        full_path = self.file_path_manager.retrieve_full_path()\n",
    "        return [f for f in os.listdir(full_path) if os.path.isfile(join(full_path, f))]\n",
    "    \n",
    "    def get_df(self):\n",
    "        return self.df;\n",
    "    \n",
    "    def size(self):\n",
    "        return len(self.df)"
   ]
  },
  {
   "cell_type": "code",
   "execution_count": 4,
   "metadata": {},
   "outputs": [],
   "source": [
    "def clean_df(df: pd.DataFrame):\n",
    "    df['bankrupt'] = ( df['class'] == df['class'][df.shape[0]-1] ).astype(int)\n",
    "    df = df.drop('class', axis=1)\n",
    "    return df;"
   ]
  },
  {
   "cell_type": "code",
   "execution_count": 5,
   "metadata": {},
   "outputs": [],
   "source": [
    "path_manager = FilePathManager('data')\n",
    "loader = ARFFLoader(path_manager)\n",
    "loader.load_data()"
   ]
  },
  {
   "cell_type": "code",
   "execution_count": 6,
   "metadata": {},
   "outputs": [
    {
     "data": {
      "text/html": [
       "<div>\n",
       "<style scoped>\n",
       "    .dataframe tbody tr th:only-of-type {\n",
       "        vertical-align: middle;\n",
       "    }\n",
       "\n",
       "    .dataframe tbody tr th {\n",
       "        vertical-align: top;\n",
       "    }\n",
       "\n",
       "    .dataframe thead th {\n",
       "        text-align: right;\n",
       "    }\n",
       "</style>\n",
       "<table border=\"1\" class=\"dataframe\">\n",
       "  <thead>\n",
       "    <tr style=\"text-align: right;\">\n",
       "      <th></th>\n",
       "      <th>Attr1</th>\n",
       "      <th>Attr2</th>\n",
       "      <th>Attr3</th>\n",
       "      <th>Attr4</th>\n",
       "      <th>Attr5</th>\n",
       "      <th>Attr6</th>\n",
       "      <th>Attr7</th>\n",
       "      <th>Attr8</th>\n",
       "      <th>Attr9</th>\n",
       "      <th>Attr10</th>\n",
       "      <th>...</th>\n",
       "      <th>Attr56</th>\n",
       "      <th>Attr57</th>\n",
       "      <th>Attr58</th>\n",
       "      <th>Attr59</th>\n",
       "      <th>Attr60</th>\n",
       "      <th>Attr61</th>\n",
       "      <th>Attr62</th>\n",
       "      <th>Attr63</th>\n",
       "      <th>Attr64</th>\n",
       "      <th>class</th>\n",
       "    </tr>\n",
       "  </thead>\n",
       "  <tbody>\n",
       "    <tr>\n",
       "      <th>0</th>\n",
       "      <td>0.200550</td>\n",
       "      <td>0.37951</td>\n",
       "      <td>0.396410</td>\n",
       "      <td>2.04720</td>\n",
       "      <td>32.3510</td>\n",
       "      <td>0.38825</td>\n",
       "      <td>0.249760</td>\n",
       "      <td>1.33050</td>\n",
       "      <td>1.13890</td>\n",
       "      <td>0.504940</td>\n",
       "      <td>...</td>\n",
       "      <td>0.121960</td>\n",
       "      <td>0.397180</td>\n",
       "      <td>0.87804</td>\n",
       "      <td>0.001924</td>\n",
       "      <td>8.4160</td>\n",
       "      <td>5.1372</td>\n",
       "      <td>82.658</td>\n",
       "      <td>4.4158</td>\n",
       "      <td>7.42770</td>\n",
       "      <td>b'0'</td>\n",
       "    </tr>\n",
       "    <tr>\n",
       "      <th>1</th>\n",
       "      <td>0.209120</td>\n",
       "      <td>0.49988</td>\n",
       "      <td>0.472250</td>\n",
       "      <td>1.94470</td>\n",
       "      <td>14.7860</td>\n",
       "      <td>0.00000</td>\n",
       "      <td>0.258340</td>\n",
       "      <td>0.99601</td>\n",
       "      <td>1.69960</td>\n",
       "      <td>0.497880</td>\n",
       "      <td>...</td>\n",
       "      <td>0.121300</td>\n",
       "      <td>0.420020</td>\n",
       "      <td>0.85300</td>\n",
       "      <td>0.000000</td>\n",
       "      <td>4.1486</td>\n",
       "      <td>3.2732</td>\n",
       "      <td>107.350</td>\n",
       "      <td>3.4000</td>\n",
       "      <td>60.98700</td>\n",
       "      <td>b'0'</td>\n",
       "    </tr>\n",
       "    <tr>\n",
       "      <th>2</th>\n",
       "      <td>0.248660</td>\n",
       "      <td>0.69592</td>\n",
       "      <td>0.267130</td>\n",
       "      <td>1.55480</td>\n",
       "      <td>-1.1523</td>\n",
       "      <td>0.00000</td>\n",
       "      <td>0.309060</td>\n",
       "      <td>0.43695</td>\n",
       "      <td>1.30900</td>\n",
       "      <td>0.304080</td>\n",
       "      <td>...</td>\n",
       "      <td>0.241140</td>\n",
       "      <td>0.817740</td>\n",
       "      <td>0.76599</td>\n",
       "      <td>0.694840</td>\n",
       "      <td>4.9909</td>\n",
       "      <td>3.9510</td>\n",
       "      <td>134.270</td>\n",
       "      <td>2.7185</td>\n",
       "      <td>5.20780</td>\n",
       "      <td>b'0'</td>\n",
       "    </tr>\n",
       "    <tr>\n",
       "      <th>3</th>\n",
       "      <td>0.081483</td>\n",
       "      <td>0.30734</td>\n",
       "      <td>0.458790</td>\n",
       "      <td>2.49280</td>\n",
       "      <td>51.9520</td>\n",
       "      <td>0.14988</td>\n",
       "      <td>0.092704</td>\n",
       "      <td>1.86610</td>\n",
       "      <td>1.05710</td>\n",
       "      <td>0.573530</td>\n",
       "      <td>...</td>\n",
       "      <td>0.054015</td>\n",
       "      <td>0.142070</td>\n",
       "      <td>0.94598</td>\n",
       "      <td>0.000000</td>\n",
       "      <td>4.5746</td>\n",
       "      <td>3.6147</td>\n",
       "      <td>86.435</td>\n",
       "      <td>4.2228</td>\n",
       "      <td>5.54970</td>\n",
       "      <td>b'0'</td>\n",
       "    </tr>\n",
       "    <tr>\n",
       "      <th>4</th>\n",
       "      <td>0.187320</td>\n",
       "      <td>0.61323</td>\n",
       "      <td>0.229600</td>\n",
       "      <td>1.40630</td>\n",
       "      <td>-7.3128</td>\n",
       "      <td>0.18732</td>\n",
       "      <td>0.187320</td>\n",
       "      <td>0.63070</td>\n",
       "      <td>1.15590</td>\n",
       "      <td>0.386770</td>\n",
       "      <td>...</td>\n",
       "      <td>0.134850</td>\n",
       "      <td>0.484310</td>\n",
       "      <td>0.86515</td>\n",
       "      <td>0.124440</td>\n",
       "      <td>6.3985</td>\n",
       "      <td>4.3158</td>\n",
       "      <td>127.210</td>\n",
       "      <td>2.8692</td>\n",
       "      <td>7.89800</td>\n",
       "      <td>b'0'</td>\n",
       "    </tr>\n",
       "    <tr>\n",
       "      <th>...</th>\n",
       "      <td>...</td>\n",
       "      <td>...</td>\n",
       "      <td>...</td>\n",
       "      <td>...</td>\n",
       "      <td>...</td>\n",
       "      <td>...</td>\n",
       "      <td>...</td>\n",
       "      <td>...</td>\n",
       "      <td>...</td>\n",
       "      <td>...</td>\n",
       "      <td>...</td>\n",
       "      <td>...</td>\n",
       "      <td>...</td>\n",
       "      <td>...</td>\n",
       "      <td>...</td>\n",
       "      <td>...</td>\n",
       "      <td>...</td>\n",
       "      <td>...</td>\n",
       "      <td>...</td>\n",
       "      <td>...</td>\n",
       "      <td>...</td>\n",
       "    </tr>\n",
       "    <tr>\n",
       "      <th>43400</th>\n",
       "      <td>0.012898</td>\n",
       "      <td>0.70621</td>\n",
       "      <td>0.038857</td>\n",
       "      <td>1.17220</td>\n",
       "      <td>-18.9070</td>\n",
       "      <td>0.00000</td>\n",
       "      <td>0.013981</td>\n",
       "      <td>0.41600</td>\n",
       "      <td>1.67680</td>\n",
       "      <td>0.293790</td>\n",
       "      <td>...</td>\n",
       "      <td>0.020169</td>\n",
       "      <td>0.043904</td>\n",
       "      <td>1.01220</td>\n",
       "      <td>1.259400</td>\n",
       "      <td>13.4720</td>\n",
       "      <td>12.4320</td>\n",
       "      <td>49.117</td>\n",
       "      <td>7.4313</td>\n",
       "      <td>2.27990</td>\n",
       "      <td>b'1'</td>\n",
       "    </tr>\n",
       "    <tr>\n",
       "      <th>43401</th>\n",
       "      <td>-0.578050</td>\n",
       "      <td>0.96702</td>\n",
       "      <td>-0.800850</td>\n",
       "      <td>0.16576</td>\n",
       "      <td>-67.3650</td>\n",
       "      <td>-0.57805</td>\n",
       "      <td>-0.578050</td>\n",
       "      <td>-0.40334</td>\n",
       "      <td>0.93979</td>\n",
       "      <td>-0.390040</td>\n",
       "      <td>...</td>\n",
       "      <td>-0.064073</td>\n",
       "      <td>1.482000</td>\n",
       "      <td>1.06410</td>\n",
       "      <td>-0.018084</td>\n",
       "      <td>110.7200</td>\n",
       "      <td>44.7590</td>\n",
       "      <td>81.220</td>\n",
       "      <td>4.4940</td>\n",
       "      <td>5.13050</td>\n",
       "      <td>b'1'</td>\n",
       "    </tr>\n",
       "    <tr>\n",
       "      <th>43402</th>\n",
       "      <td>-0.179050</td>\n",
       "      <td>1.25530</td>\n",
       "      <td>-0.275990</td>\n",
       "      <td>0.74554</td>\n",
       "      <td>-120.4400</td>\n",
       "      <td>-0.17905</td>\n",
       "      <td>-0.154930</td>\n",
       "      <td>-0.26018</td>\n",
       "      <td>1.17490</td>\n",
       "      <td>-0.326590</td>\n",
       "      <td>...</td>\n",
       "      <td>0.148880</td>\n",
       "      <td>0.548240</td>\n",
       "      <td>0.85112</td>\n",
       "      <td>-0.522430</td>\n",
       "      <td>9.8526</td>\n",
       "      <td>3.4892</td>\n",
       "      <td>207.870</td>\n",
       "      <td>1.7559</td>\n",
       "      <td>9.95270</td>\n",
       "      <td>b'1'</td>\n",
       "    </tr>\n",
       "    <tr>\n",
       "      <th>43403</th>\n",
       "      <td>-0.108860</td>\n",
       "      <td>0.74394</td>\n",
       "      <td>0.015449</td>\n",
       "      <td>1.08780</td>\n",
       "      <td>-17.0030</td>\n",
       "      <td>-0.10886</td>\n",
       "      <td>-0.109180</td>\n",
       "      <td>0.12531</td>\n",
       "      <td>0.84516</td>\n",
       "      <td>0.093224</td>\n",
       "      <td>...</td>\n",
       "      <td>-0.183200</td>\n",
       "      <td>-1.167700</td>\n",
       "      <td>1.18320</td>\n",
       "      <td>6.092400</td>\n",
       "      <td>13.8860</td>\n",
       "      <td>6.0769</td>\n",
       "      <td>83.122</td>\n",
       "      <td>4.3911</td>\n",
       "      <td>0.95575</td>\n",
       "      <td>b'1'</td>\n",
       "    </tr>\n",
       "    <tr>\n",
       "      <th>43404</th>\n",
       "      <td>-0.105370</td>\n",
       "      <td>0.53629</td>\n",
       "      <td>-0.045578</td>\n",
       "      <td>0.91478</td>\n",
       "      <td>-56.0680</td>\n",
       "      <td>-0.10537</td>\n",
       "      <td>-0.109940</td>\n",
       "      <td>0.86460</td>\n",
       "      <td>0.95040</td>\n",
       "      <td>0.463670</td>\n",
       "      <td>...</td>\n",
       "      <td>-0.052186</td>\n",
       "      <td>-0.227250</td>\n",
       "      <td>1.05220</td>\n",
       "      <td>0.003196</td>\n",
       "      <td>7.7332</td>\n",
       "      <td>4.7174</td>\n",
       "      <td>136.850</td>\n",
       "      <td>2.6672</td>\n",
       "      <td>2.79270</td>\n",
       "      <td>b'1'</td>\n",
       "    </tr>\n",
       "  </tbody>\n",
       "</table>\n",
       "<p>43405 rows × 65 columns</p>\n",
       "</div>"
      ],
      "text/plain": [
       "          Attr1    Attr2     Attr3    Attr4     Attr5    Attr6     Attr7  \\\n",
       "0      0.200550  0.37951  0.396410  2.04720   32.3510  0.38825  0.249760   \n",
       "1      0.209120  0.49988  0.472250  1.94470   14.7860  0.00000  0.258340   \n",
       "2      0.248660  0.69592  0.267130  1.55480   -1.1523  0.00000  0.309060   \n",
       "3      0.081483  0.30734  0.458790  2.49280   51.9520  0.14988  0.092704   \n",
       "4      0.187320  0.61323  0.229600  1.40630   -7.3128  0.18732  0.187320   \n",
       "...         ...      ...       ...      ...       ...      ...       ...   \n",
       "43400  0.012898  0.70621  0.038857  1.17220  -18.9070  0.00000  0.013981   \n",
       "43401 -0.578050  0.96702 -0.800850  0.16576  -67.3650 -0.57805 -0.578050   \n",
       "43402 -0.179050  1.25530 -0.275990  0.74554 -120.4400 -0.17905 -0.154930   \n",
       "43403 -0.108860  0.74394  0.015449  1.08780  -17.0030 -0.10886 -0.109180   \n",
       "43404 -0.105370  0.53629 -0.045578  0.91478  -56.0680 -0.10537 -0.109940   \n",
       "\n",
       "         Attr8    Attr9    Attr10  ...    Attr56    Attr57   Attr58    Attr59  \\\n",
       "0      1.33050  1.13890  0.504940  ...  0.121960  0.397180  0.87804  0.001924   \n",
       "1      0.99601  1.69960  0.497880  ...  0.121300  0.420020  0.85300  0.000000   \n",
       "2      0.43695  1.30900  0.304080  ...  0.241140  0.817740  0.76599  0.694840   \n",
       "3      1.86610  1.05710  0.573530  ...  0.054015  0.142070  0.94598  0.000000   \n",
       "4      0.63070  1.15590  0.386770  ...  0.134850  0.484310  0.86515  0.124440   \n",
       "...        ...      ...       ...  ...       ...       ...      ...       ...   \n",
       "43400  0.41600  1.67680  0.293790  ...  0.020169  0.043904  1.01220  1.259400   \n",
       "43401 -0.40334  0.93979 -0.390040  ... -0.064073  1.482000  1.06410 -0.018084   \n",
       "43402 -0.26018  1.17490 -0.326590  ...  0.148880  0.548240  0.85112 -0.522430   \n",
       "43403  0.12531  0.84516  0.093224  ... -0.183200 -1.167700  1.18320  6.092400   \n",
       "43404  0.86460  0.95040  0.463670  ... -0.052186 -0.227250  1.05220  0.003196   \n",
       "\n",
       "         Attr60   Attr61   Attr62  Attr63    Attr64  class  \n",
       "0        8.4160   5.1372   82.658  4.4158   7.42770   b'0'  \n",
       "1        4.1486   3.2732  107.350  3.4000  60.98700   b'0'  \n",
       "2        4.9909   3.9510  134.270  2.7185   5.20780   b'0'  \n",
       "3        4.5746   3.6147   86.435  4.2228   5.54970   b'0'  \n",
       "4        6.3985   4.3158  127.210  2.8692   7.89800   b'0'  \n",
       "...         ...      ...      ...     ...       ...    ...  \n",
       "43400   13.4720  12.4320   49.117  7.4313   2.27990   b'1'  \n",
       "43401  110.7200  44.7590   81.220  4.4940   5.13050   b'1'  \n",
       "43402    9.8526   3.4892  207.870  1.7559   9.95270   b'1'  \n",
       "43403   13.8860   6.0769   83.122  4.3911   0.95575   b'1'  \n",
       "43404    7.7332   4.7174  136.850  2.6672   2.79270   b'1'  \n",
       "\n",
       "[43405 rows x 65 columns]"
      ]
     },
     "execution_count": 6,
     "metadata": {},
     "output_type": "execute_result"
    }
   ],
   "source": [
    "loader.get_df()"
   ]
  },
  {
   "cell_type": "markdown",
   "metadata": {},
   "source": [
    "### Percentage of missing data"
   ]
  },
  {
   "cell_type": "code",
   "execution_count": 7,
   "metadata": {},
   "outputs": [
    {
     "data": {
      "text/plain": [
       "b'0'    41314\n",
       "b'1'     2091\n",
       "Name: class, dtype: int64"
      ]
     },
     "execution_count": 7,
     "metadata": {},
     "output_type": "execute_result"
    }
   ],
   "source": [
    "loader.get_df()['class'].value_counts()"
   ]
  },
  {
   "cell_type": "code",
   "execution_count": 8,
   "metadata": {},
   "outputs": [
    {
     "data": {
      "text/plain": [
       "0.04817417348231771"
      ]
     },
     "execution_count": 8,
     "metadata": {},
     "output_type": "execute_result"
    }
   ],
   "source": [
    "2091/(41314+2091)"
   ]
  },
  {
   "cell_type": "code",
   "execution_count": 9,
   "metadata": {},
   "outputs": [
    {
     "data": {
      "text/plain": [
       "1.0"
      ]
     },
     "execution_count": 9,
     "metadata": {},
     "output_type": "execute_result"
    }
   ],
   "source": [
    "2091/(2091+0)"
   ]
  },
  {
   "cell_type": "code",
   "execution_count": 10,
   "metadata": {},
   "outputs": [
    {
     "data": {
      "text/plain": [
       "0.09192016880604888"
      ]
     },
     "execution_count": 10,
     "metadata": {},
     "output_type": "execute_result"
    }
   ],
   "source": [
    "(2*(1*(.04817417348231771*1.0)))/(.04817417348231771+1)"
   ]
  },
  {
   "cell_type": "code",
   "execution_count": 11,
   "metadata": {},
   "outputs": [
    {
     "data": {
      "text/plain": [
       "Attr37    43.736897\n",
       "Attr21    13.486925\n",
       "Attr27     6.367930\n",
       "Attr60     4.957954\n",
       "Attr45     4.946435\n",
       "Attr24     2.124179\n",
       "Attr64     1.870752\n",
       "Attr53     1.870752\n",
       "Attr28     1.870752\n",
       "Attr54     1.870752\n",
       "Attr41     1.737127\n",
       "Attr32     0.847829\n",
       "Attr52     0.693468\n",
       "Attr47     0.684253\n",
       "Attr46     0.311024\n",
       "dtype: float64"
      ]
     },
     "execution_count": 11,
     "metadata": {},
     "output_type": "execute_result"
    }
   ],
   "source": [
    "missing = loader.get_df().isnull().sum()\n",
    "pct_missing = missing/loader.size()*100\n",
    "pct_missing.sort_values(ascending=False).head(15)"
   ]
  },
  {
   "cell_type": "markdown",
   "metadata": {},
   "source": [
    "## Modeling"
   ]
  },
  {
   "cell_type": "code",
   "execution_count": 12,
   "metadata": {},
   "outputs": [],
   "source": [
    "from abc import ABC, abstractmethod\n",
    "\n",
    "class BaseImputer:\n",
    "    @abstractmethod\n",
    "    def fit(self, X, y=None):\n",
    "        pass\n",
    "    \n",
    "    @abstractmethod\n",
    "    def transform(self, X):\n",
    "        pass\n",
    "\n",
    "class BaseModel:\n",
    "    @abstractmethod\n",
    "    def fit(self, X, y, sample_weight=None):\n",
    "        pass\n",
    "    \n",
    "    @abstractmethod\n",
    "    def predict(self, X):\n",
    "        pass"
   ]
  },
  {
   "cell_type": "code",
   "execution_count": 13,
   "metadata": {},
   "outputs": [],
   "source": [
    "class XGBModel:\n",
    "    _model = None\n",
    "    \n",
    "    def __init__(self, params, num_round: int = 100):\n",
    "        self._params = params\n",
    "        self._num_round = num_round\n",
    "        \n",
    "    def fit(self, X, y, sample_weight=None):\n",
    "        dtrain = xgb.DMatrix(X, label = y)\n",
    "        self._model = xgb.train(self._params, dtrain)\n",
    "        \n",
    "    def predict(self, X):\n",
    "        dtest = xgb.DMatrix(X)\n",
    "        return self._model.predict(dtest)\n",
    "        "
   ]
  },
  {
   "cell_type": "code",
   "execution_count": 14,
   "metadata": {},
   "outputs": [],
   "source": [
    "from sklearn.metrics import confusion_matrix\n",
    "from sklearn.metrics import accuracy_score\n",
    "from sklearn.metrics import precision_score\n",
    "from sklearn.metrics import recall_score\n",
    "from sklearn.metrics import fbeta_score"
   ]
  },
  {
   "cell_type": "code",
   "execution_count": 15,
   "metadata": {},
   "outputs": [],
   "source": [
    "class Modeling:\n",
    "    _X_train_fitted = None\n",
    "    _X_test_fitted = None\n",
    "    _y_train = None\n",
    "    _y_test = None\n",
    "    _y_preds = None\n",
    "    \n",
    "    def __init__(self, data: pd.DataFrame, \n",
    "                 target_name: str, \n",
    "                 shuffle_splitter: BaseShuffleSplit, \n",
    "                 imputer: BaseImputer, \n",
    "                 model: BaseModel, scaler = None):\n",
    "        self._data = data\n",
    "        self._target_name = target_name\n",
    "        self._shuffle_splitter = shuffle_splitter\n",
    "        self._imputer = imputer\n",
    "        self._model = model\n",
    "        self._X, self._y = self._split_data()\n",
    "        self._scaler = scaler\n",
    "        \n",
    "    @property\n",
    "    def X(self):\n",
    "        return self._X\n",
    "    \n",
    "    @property\n",
    "    def y(self):\n",
    "        return self._y\n",
    "\n",
    "    @property\n",
    "    def model(self):\n",
    "        return self._model\n",
    "    \n",
    "    @model.setter\n",
    "    def model(self, model):\n",
    "        self._model = model\n",
    "     \n",
    "    @property\n",
    "    def X_train(self):\n",
    "        return self._X_train_fitted\n",
    "    \n",
    "    @property\n",
    "    def X_test(self):\n",
    "        return self._X_test_fitted\n",
    "    \n",
    "    @property\n",
    "    def y_train(self):\n",
    "        return self._y_train\n",
    "    \n",
    "    @property\n",
    "    def y_test(self):\n",
    "        return self._y_test\n",
    "    \n",
    "    @property\n",
    "    def y_preds(self):\n",
    "        return self._y_preds\n",
    "    \n",
    "    def _split_data(self):\n",
    "        X = self._data.copy()\n",
    "        return X.drop([self._target_name], axis=1) , X[self._target_name]\n",
    "    \n",
    "    def _shuffle_split(self):\n",
    "        X = self.X\n",
    "        y = self.y\n",
    "        for train_index, test_index in self._shuffle_splitter.split(X,y):\n",
    "            X_train, X_test = X.iloc[train_index], X.iloc[test_index]\n",
    "            y_train, y_test = y[train_index], y[test_index]\n",
    "        return X_train, X_test, y_train, y_test\n",
    "    \n",
    "    def _fit_imputer(self, train):\n",
    "        if self._imputer is not None:\n",
    "            self._imputer.fit(train)\n",
    "    \n",
    "    def _fit_scaler(self, train):\n",
    "        if self._scaler is not None:\n",
    "            self._scaler.fit(train)\n",
    "    \n",
    "    def _impute_data(self, X: pd.DataFrame):\n",
    "        if self._imputer is not None:\n",
    "            return pd.DataFrame(self._imputer.transform(X), columns = self.X.columns, index = X.index)\n",
    "        return X\n",
    "    \n",
    "    def _scale_data(self, X: pd.DataFrame):\n",
    "        if self._scaler is not None:\n",
    "            X = pd.DataFrame(self._scaler.transform(X), columns = self._X.columns)\n",
    "        return X\n",
    "    \n",
    "    def prepare(self):\n",
    "        X_train, X_test, y_train, y_test = self._shuffle_split()   \n",
    "        self._fit_imputer(X_train)\n",
    "        X_train = self._impute_data(X_train)\n",
    "        X_test = self._impute_data(X_test)\n",
    "        self._fit_scaler(X_train)\n",
    "        self._X_train_fitted = self._scale_data(X_train)\n",
    "        self._X_test_fitted = self._scale_data(X_test)\n",
    "        self._y_train = y_train\n",
    "        self._y_test = y_test\n",
    "        \n",
    "    def prepare_and_train(self):\n",
    "        self.prepare()\n",
    "        return self.train()\n",
    "        \n",
    "    def train(self):\n",
    "        self._model.fit(self.X_train, self.y_train)\n",
    "        self._y_preds = self._model.predict(self.X_train)\n",
    "        \n",
    "        return self.metrics(self.y_train, self.y_preds)\n",
    "        \n",
    "    def test(self):\n",
    "        return self.metrics(self.y_test, self._model.predict(self.X_test))\n",
    "       \n",
    "    @abstractmethod\n",
    "    def metrics(self, y_true = None, y_pred = None):\n",
    "        pass\n",
    "        "
   ]
  },
  {
   "cell_type": "code",
   "execution_count": 16,
   "metadata": {},
   "outputs": [],
   "source": [
    "class ClassificationModeling(Modeling):\n",
    "    def __init__(self, \n",
    "                 data: pd.DataFrame, \n",
    "                 target_name: str, \n",
    "                 shuffle_splitter: BaseShuffleSplit, \n",
    "                 imputer: BaseImputer, \n",
    "                 model: BaseModel, \n",
    "                 scaler = None, \n",
    "                 beta: int = 1, \n",
    "                 classification: str = 'binary'):\n",
    "        super().__init__(data, target_name, shuffle_splitter, imputer, model, scaler)\n",
    "        self.beta = beta\n",
    "        self.classification = classification\n",
    "    \n",
    "    def metrics(self, y_true = None, y_pred = None):\n",
    "        if y_true is None and y_pred is None:\n",
    "            y_true = self.y_train\n",
    "            y_pred = self.y_preds\n",
    "        if type(y_pred[0]) is np.int32: # RandomForest, xbg binary:hinge, xbg multi:softmax\n",
    "            return ({'matrix': confusion_matrix(y_true, y_pred), \n",
    "                'accuracy': accuracy_score(y_true, y_pred), \n",
    "                'precision': precision_score(y_true, y_pred, average=self.classification), \n",
    "                'recall': recall_score(y_true, y_pred, average=self.classification),\n",
    "                 'f1': f1_score(y_true, y_pred),\n",
    "                'f{}'.format(self.beta) : fbeta_score(y_true, y_pred, average=self.classification, beta=self.beta) } )\n",
    "        else: # to handle xbg binary:logistic with class_weights\n",
    "            y_pred = pd.Series( (y_pred>0.5).astype(int), index=y_true.index) \n",
    "            return ({'matrix': confusion_matrix(y_true, y_pred), \n",
    "                'accuracy': accuracy_score(y_true, y_pred), \n",
    "                'precision': precision_score(y_true, y_pred, average=self.classification), \n",
    "                'recall': recall_score(y_true, y_pred, average=self.classification),\n",
    "                 'f1': f1_score(y_true, y_pred),\n",
    "                'f{}'.format(self.beta) : fbeta_score(y_true, y_pred, average=self.classification, beta=self.beta) } )\n",
    "        "
   ]
  },
  {
   "cell_type": "markdown",
   "metadata": {},
   "source": [
    "### RandomForest"
   ]
  },
  {
   "cell_type": "code",
   "execution_count": 21,
   "metadata": {},
   "outputs": [],
   "source": [
    "simple_impute_model = ClassificationModeling(clean_df(loader.get_df()),'bankrupt',\n",
    "                               StratifiedShuffleSplit(n_splits=1, test_size=0.3, random_state=1),\n",
    "                               SimpleImputer(missing_values=np.nan, strategy='median'),\n",
    "                               RandomForestClassifier(random_state=0, class_weight='balanced', max_depth=13),\n",
    "                               StandardScaler(), beta=2)"
   ]
  },
  {
   "cell_type": "code",
   "execution_count": 22,
   "metadata": {},
   "outputs": [
    {
     "data": {
      "text/plain": [
       "{'matrix': array([[28506,   413],\n",
       "        [   36,  1428]], dtype=int64),\n",
       " 'accuracy': 0.9852219991442583,\n",
       " 'precision': 0.7756653992395437,\n",
       " 'recall': 0.9754098360655737,\n",
       " 'f1': 0.8641452344931921,\n",
       " 'f2': 0.9276341431726646}"
      ]
     },
     "execution_count": 22,
     "metadata": {},
     "output_type": "execute_result"
    }
   ],
   "source": [
    "simple_impute_model.prepare_and_train()"
   ]
  },
  {
   "cell_type": "code",
   "execution_count": 23,
   "metadata": {},
   "outputs": [
    {
     "data": {
      "text/plain": [
       "{'matrix': array([[12169,   226],\n",
       "        [  386,   241]], dtype=int64),\n",
       " 'accuracy': 0.9530026109660574,\n",
       " 'precision': 0.5160599571734475,\n",
       " 'recall': 0.3843700159489633,\n",
       " 'f1': 0.4405850091407678,\n",
       " 'f2': 0.4050420168067227}"
      ]
     },
     "execution_count": 23,
     "metadata": {},
     "output_type": "execute_result"
    }
   ],
   "source": [
    "simple_impute_model.test()"
   ]
  },
  {
   "cell_type": "markdown",
   "metadata": {},
   "source": [
    "### Iterative Model"
   ]
  },
  {
   "cell_type": "code",
   "execution_count": 24,
   "metadata": {},
   "outputs": [],
   "source": [
    "iterative_impute_model = ClassificationModeling(clean_df(loader.get_df()),'bankrupt',\n",
    "                               StratifiedShuffleSplit(n_splits=1, test_size=0.3, random_state=12343),\n",
    "                               IterativeImputer(missing_values=np.nan, random_state=1234),\n",
    "                               RandomForestClassifier(random_state=0, class_weight={0: .02, 1: .98}, max_depth=13),\n",
    "                               StandardScaler(), beta=2)"
   ]
  },
  {
   "cell_type": "code",
   "execution_count": 25,
   "metadata": {},
   "outputs": [
    {
     "name": "stderr",
     "output_type": "stream",
     "text": [
      "C:\\Users\\parit\\Anaconda\\lib\\site-packages\\sklearn\\impute\\_iterative.py:701: ConvergenceWarning: [IterativeImputer] Early stopping criterion not reached.\n",
      "  ConvergenceWarning,\n"
     ]
    },
    {
     "data": {
      "text/plain": [
       "{'matrix': array([[27147,  1772],\n",
       "        [    2,  1462]], dtype=int64),\n",
       " 'accuracy': 0.9416120857058223,\n",
       " 'precision': 0.4520717377860235,\n",
       " 'recall': 0.9986338797814208,\n",
       " 'f1': 0.6223925074499786,\n",
       " 'f2': 0.8041804180418042}"
      ]
     },
     "execution_count": 25,
     "metadata": {},
     "output_type": "execute_result"
    }
   ],
   "source": [
    "iterative_impute_model.prepare_and_train()"
   ]
  },
  {
   "cell_type": "code",
   "execution_count": 26,
   "metadata": {
    "scrolled": true
   },
   "outputs": [
    {
     "data": {
      "text/plain": [
       "{'matrix': array([[11507,   888],\n",
       "        [  257,   370]], dtype=int64),\n",
       " 'accuracy': 0.9120718783596989,\n",
       " 'precision': 0.29411764705882354,\n",
       " 'recall': 0.5901116427432217,\n",
       " 'f1': 0.3925729442970822,\n",
       " 'f2': 0.49123738714816784}"
      ]
     },
     "execution_count": 26,
     "metadata": {},
     "output_type": "execute_result"
    }
   ],
   "source": [
    "iterative_impute_model.test()"
   ]
  },
  {
   "cell_type": "markdown",
   "metadata": {},
   "source": [
    "### Knn Imputation"
   ]
  },
  {
   "cell_type": "code",
   "execution_count": null,
   "metadata": {},
   "outputs": [],
   "source": [
    "knn_impute_model = ClassificationModeling(clean_df(loader.get_df()),'bankrupt',\n",
    "                            StratifiedShuffleSplit(n_splits=1, test_size=0.3, random_state=1234),\n",
    "                            KNNImputer(n_neighbors=5, weights='uniform', metric='nan_euclidean'),\n",
    "                            RandomForestClassifier(random_state=0, class_weight='balanced'),\n",
    "                            StandardScaler(), beta=2)"
   ]
  },
  {
   "cell_type": "code",
   "execution_count": null,
   "metadata": {},
   "outputs": [],
   "source": [
    "knn_impute_model.train()"
   ]
  },
  {
   "cell_type": "code",
   "execution_count": null,
   "metadata": {},
   "outputs": [],
   "source": [
    "knn_impute_model._accuracy"
   ]
  },
  {
   "cell_type": "code",
   "execution_count": null,
   "metadata": {},
   "outputs": [],
   "source": [
    "knn_impute_model._f1"
   ]
  },
  {
   "cell_type": "code",
   "execution_count": null,
   "metadata": {},
   "outputs": [],
   "source": [
    "knn_impute_model.test()"
   ]
  },
  {
   "cell_type": "markdown",
   "metadata": {},
   "source": [
    "### XGB todo: figure out how to run class_weight with xgb\n",
    "todo: Should we just remove class = 'balanced' for Random Forest?"
   ]
  },
  {
   "cell_type": "markdown",
   "metadata": {},
   "source": [
    "### XGB Simple Imputer"
   ]
  },
  {
   "cell_type": "code",
   "execution_count": 27,
   "metadata": {},
   "outputs": [],
   "source": [
    "num_round = 1000\n",
    "params = {\n",
    "    'max_depth': 15,\n",
    "    'objective': 'multi:softmax',\n",
    "    'num_class': 2,\n",
    "    'eta': 0.3\n",
    "}"
   ]
  },
  {
   "cell_type": "code",
   "execution_count": 30,
   "metadata": {},
   "outputs": [],
   "source": [
    "xgb_simple_imputer = ClassificationModeling(clean_df(loader.get_df()),'bankrupt',\n",
    "                                            StratifiedShuffleSplit(n_splits=1, test_size=0.3, random_state=1),\n",
    "                                            SimpleImputer(missing_values=np.nan, strategy='median'),\n",
    "                                            XGBModel(params, num_round),\n",
    "                                            StandardScaler(),\n",
    "                                            beta=2)"
   ]
  },
  {
   "cell_type": "code",
   "execution_count": 31,
   "metadata": {},
   "outputs": [],
   "source": [
    "xgb_simple_imputer.prepare_and_train();"
   ]
  },
  {
   "cell_type": "code",
   "execution_count": 32,
   "metadata": {},
   "outputs": [
    {
     "data": {
      "text/plain": [
       "{'matrix': array([[28919,     0],\n",
       "        [   65,  1399]], dtype=int64),\n",
       " 'accuracy': 0.9978606457558503,\n",
       " 'precision': 1.0,\n",
       " 'recall': 0.9556010928961749,\n",
       " 'f1': 0.9772965420887182,\n",
       " 'f2': 0.9641626464507237}"
      ]
     },
     "execution_count": 32,
     "metadata": {},
     "output_type": "execute_result"
    }
   ],
   "source": [
    "xgb_simple_imputer.metrics()"
   ]
  },
  {
   "cell_type": "code",
   "execution_count": 33,
   "metadata": {},
   "outputs": [
    {
     "data": {
      "text/plain": [
       "{'matrix': array([[12366,    29],\n",
       "        [  332,   295]], dtype=int64),\n",
       " 'accuracy': 0.9722776839195209,\n",
       " 'precision': 0.9104938271604939,\n",
       " 'recall': 0.4704944178628389,\n",
       " 'f1': 0.6203995793901156,\n",
       " 'f2': 0.5208333333333334}"
      ]
     },
     "execution_count": 33,
     "metadata": {},
     "output_type": "execute_result"
    }
   ],
   "source": [
    "xgb_simple_imputer.test()"
   ]
  },
  {
   "cell_type": "markdown",
   "metadata": {},
   "source": [
    "### XGB Iterative"
   ]
  },
  {
   "cell_type": "code",
   "execution_count": 34,
   "metadata": {},
   "outputs": [],
   "source": [
    "params2 = {\n",
    "    'max_depth': 15,\n",
    "    'objective': 'multi:softmax',\n",
    "    'num_class': 2,\n",
    "    'eta': 0.3\n",
    "}"
   ]
  },
  {
   "cell_type": "code",
   "execution_count": 35,
   "metadata": {},
   "outputs": [],
   "source": [
    "xgb_iterative_imputer = ClassificationModeling(clean_df(loader.get_df()),'bankrupt',\n",
    "                                 StratifiedShuffleSplit(n_splits=1, test_size=0.3, random_state=1),\n",
    "                                 IterativeImputer(missing_values=np.nan, random_state=1234),\n",
    "                                 XGBModel(params2, num_round),\n",
    "                                 StandardScaler(), \n",
    "                                 beta=2)"
   ]
  },
  {
   "cell_type": "code",
   "execution_count": 36,
   "metadata": {},
   "outputs": [
    {
     "name": "stderr",
     "output_type": "stream",
     "text": [
      "C:\\Users\\parit\\Anaconda\\lib\\site-packages\\sklearn\\impute\\_iterative.py:701: ConvergenceWarning: [IterativeImputer] Early stopping criterion not reached.\n",
      "  ConvergenceWarning,\n"
     ]
    },
    {
     "data": {
      "text/plain": [
       "{'matrix': array([[28919,     0],\n",
       "        [   60,  1404]], dtype=int64),\n",
       " 'accuracy': 0.9980252114669388,\n",
       " 'precision': 1.0,\n",
       " 'recall': 0.9590163934426229,\n",
       " 'f1': 0.9790794979079497,\n",
       " 'f2': 0.9669421487603306}"
      ]
     },
     "execution_count": 36,
     "metadata": {},
     "output_type": "execute_result"
    }
   ],
   "source": [
    "xgb_iterative_imputer.prepare_and_train()"
   ]
  },
  {
   "cell_type": "code",
   "execution_count": 38,
   "metadata": {},
   "outputs": [
    {
     "data": {
      "text/plain": [
       "{'matrix': array([[12356,    39],\n",
       "        [  325,   302]], dtype=int64),\n",
       " 'accuracy': 0.9720473045615113,\n",
       " 'precision': 0.8856304985337243,\n",
       " 'recall': 0.48165869218500795,\n",
       " 'f1': 0.6239669421487603,\n",
       " 'f2': 0.5300105300105299}"
      ]
     },
     "execution_count": 38,
     "metadata": {},
     "output_type": "execute_result"
    }
   ],
   "source": [
    "xgb_iterative_imputer.test()"
   ]
  },
  {
   "cell_type": "markdown",
   "metadata": {},
   "source": [
    "### No Imputer"
   ]
  },
  {
   "cell_type": "code",
   "execution_count": 39,
   "metadata": {},
   "outputs": [],
   "source": [
    "xgb_no_imputer = ClassificationModeling(clean_df(loader.get_df()),'bankrupt',\n",
    "                                        StratifiedShuffleSplit(n_splits=1, test_size=0.3, random_state=12343),\n",
    "                                        None,\n",
    "                                        XGBModel(params2, num_round),\n",
    "                                        StandardScaler(), beta=2)"
   ]
  },
  {
   "cell_type": "code",
   "execution_count": 40,
   "metadata": {},
   "outputs": [
    {
     "data": {
      "text/plain": [
       "{'matrix': array([[28919,     0],\n",
       "        [   69,  1395]], dtype=int64),\n",
       " 'accuracy': 0.9977289931869796,\n",
       " 'precision': 1.0,\n",
       " 'recall': 0.9528688524590164,\n",
       " 'f1': 0.975865687303253,\n",
       " 'f2': 0.9619362846503929}"
      ]
     },
     "execution_count": 40,
     "metadata": {},
     "output_type": "execute_result"
    }
   ],
   "source": [
    "xgb_no_imputer.prepare_and_train()"
   ]
  },
  {
   "cell_type": "code",
   "execution_count": 41,
   "metadata": {},
   "outputs": [
    {
     "ename": "AttributeError",
     "evalue": "'ClassificationModeling' object has no attribute '_accuracy'",
     "output_type": "error",
     "traceback": [
      "\u001b[1;31m---------------------------------------------------------------------------\u001b[0m",
      "\u001b[1;31mAttributeError\u001b[0m                            Traceback (most recent call last)",
      "\u001b[1;32m<ipython-input-41-7fa529310f36>\u001b[0m in \u001b[0;36m<module>\u001b[1;34m\u001b[0m\n\u001b[1;32m----> 1\u001b[1;33m \u001b[0mxgb_no_imputer\u001b[0m\u001b[1;33m.\u001b[0m\u001b[0m_accuracy\u001b[0m\u001b[1;33m\u001b[0m\u001b[1;33m\u001b[0m\u001b[0m\n\u001b[0m",
      "\u001b[1;31mAttributeError\u001b[0m: 'ClassificationModeling' object has no attribute '_accuracy'"
     ]
    }
   ],
   "source": [
    "xgb_no_imputer._accuracy"
   ]
  },
  {
   "cell_type": "code",
   "execution_count": null,
   "metadata": {},
   "outputs": [],
   "source": [
    "xgb_no_imputer._f1"
   ]
  },
  {
   "cell_type": "code",
   "execution_count": null,
   "metadata": {},
   "outputs": [],
   "source": [
    "xgb_no_imputer.test()"
   ]
  },
  {
   "cell_type": "markdown",
   "metadata": {},
   "source": [
    "### Cost Matrix\n",
    "False Negative = \"Incorrectly predicting Bankruptcy to be Solvency\" which is related to Recall.  The cost of a False Negative is assumed to be a 100% loss = 1\n",
    "\n",
    "False Positive = \"Incorrectly predicting Solvency to be Bankruptcy\" which is related to Precision.  The team assumes a False Positive occurs for a company that is already under significant financial duress, likely with investor losses of approximately 50% = 0.5  "
   ]
  },
  {
   "cell_type": "code",
   "execution_count": 42,
   "metadata": {},
   "outputs": [
    {
     "data": {
      "text/plain": [
       "array([[0. , 0.5],\n",
       "       [1. , 0. ]])"
      ]
     },
     "execution_count": 42,
     "metadata": {},
     "output_type": "execute_result"
    }
   ],
   "source": [
    "cost_matrix = np.array([[0,0.5],[1,0]])\n",
    "cost_matrix"
   ]
  },
  {
   "cell_type": "markdown",
   "metadata": {},
   "source": [
    "### Examining Depth vs Metrics"
   ]
  },
  {
   "cell_type": "code",
   "execution_count": 45,
   "metadata": {},
   "outputs": [
    {
     "name": "stderr",
     "output_type": "stream",
     "text": [
      "C:\\Users\\parit\\Anaconda\\lib\\site-packages\\sklearn\\impute\\_iterative.py:701: ConvergenceWarning: [IterativeImputer] Early stopping criterion not reached.\n",
      "  ConvergenceWarning,\n"
     ]
    }
   ],
   "source": [
    "forest_modeling = ClassificationModeling(clean_df(loader.get_df()),'bankrupt',\n",
    "                           StratifiedShuffleSplit(n_splits=1, test_size=0.3, random_state=1),\n",
    "                           IterativeImputer(missing_values=np.nan, random_state=1),\n",
    "                           None,\n",
    "                           StandardScaler(), beta=2)\n",
    "forest_modeling.prepare()"
   ]
  },
  {
   "cell_type": "markdown",
   "metadata": {},
   "source": [
    "#### Random Forest with no class weights"
   ]
  },
  {
   "cell_type": "code",
   "execution_count": 48,
   "metadata": {},
   "outputs": [
    {
     "data": {
      "text/html": [
       "<div>\n",
       "<style scoped>\n",
       "    .dataframe tbody tr th:only-of-type {\n",
       "        vertical-align: middle;\n",
       "    }\n",
       "\n",
       "    .dataframe tbody tr th {\n",
       "        vertical-align: top;\n",
       "    }\n",
       "\n",
       "    .dataframe thead th {\n",
       "        text-align: right;\n",
       "    }\n",
       "</style>\n",
       "<table border=\"1\" class=\"dataframe\">\n",
       "  <thead>\n",
       "    <tr style=\"text-align: right;\">\n",
       "      <th></th>\n",
       "      <th>max_depth</th>\n",
       "      <th>accuracy_train</th>\n",
       "      <th>accuracy_test</th>\n",
       "      <th>f1_train</th>\n",
       "      <th>f1_test</th>\n",
       "      <th>f2_train</th>\n",
       "      <th>f2_test</th>\n",
       "      <th>%_invest_loss_train</th>\n",
       "      <th>%_invest_loss_test</th>\n",
       "    </tr>\n",
       "  </thead>\n",
       "  <tbody>\n",
       "    <tr>\n",
       "      <th>0</th>\n",
       "      <td>4.0</td>\n",
       "      <td>0.952671</td>\n",
       "      <td>0.952619</td>\n",
       "      <td>0.034899</td>\n",
       "      <td>0.031397</td>\n",
       "      <td>0.022101</td>\n",
       "      <td>0.019857</td>\n",
       "      <td>0.047329</td>\n",
       "      <td>0.047381</td>\n",
       "    </tr>\n",
       "    <tr>\n",
       "      <th>1</th>\n",
       "      <td>5.0</td>\n",
       "      <td>0.953691</td>\n",
       "      <td>0.953156</td>\n",
       "      <td>0.074951</td>\n",
       "      <td>0.052795</td>\n",
       "      <td>0.048199</td>\n",
       "      <td>0.033663</td>\n",
       "      <td>0.046309</td>\n",
       "      <td>0.046844</td>\n",
       "    </tr>\n",
       "    <tr>\n",
       "      <th>2</th>\n",
       "      <td>6.0</td>\n",
       "      <td>0.958694</td>\n",
       "      <td>0.956919</td>\n",
       "      <td>0.249851</td>\n",
       "      <td>0.192806</td>\n",
       "      <td>0.172300</td>\n",
       "      <td>0.130047</td>\n",
       "      <td>0.041306</td>\n",
       "      <td>0.043043</td>\n",
       "    </tr>\n",
       "    <tr>\n",
       "      <th>3</th>\n",
       "      <td>7.0</td>\n",
       "      <td>0.962709</td>\n",
       "      <td>0.959146</td>\n",
       "      <td>0.368802</td>\n",
       "      <td>0.267218</td>\n",
       "      <td>0.267496</td>\n",
       "      <td>0.186038</td>\n",
       "      <td>0.037291</td>\n",
       "      <td>0.040777</td>\n",
       "    </tr>\n",
       "    <tr>\n",
       "      <th>4</th>\n",
       "      <td>8.0</td>\n",
       "      <td>0.967317</td>\n",
       "      <td>0.961834</td>\n",
       "      <td>0.486822</td>\n",
       "      <td>0.346912</td>\n",
       "      <td>0.372214</td>\n",
       "      <td>0.249811</td>\n",
       "      <td>0.032683</td>\n",
       "      <td>0.038089</td>\n",
       "    </tr>\n",
       "    <tr>\n",
       "      <th>5</th>\n",
       "      <td>9.0</td>\n",
       "      <td>0.970181</td>\n",
       "      <td>0.963139</td>\n",
       "      <td>0.551929</td>\n",
       "      <td>0.384615</td>\n",
       "      <td>0.434986</td>\n",
       "      <td>0.281849</td>\n",
       "      <td>0.029819</td>\n",
       "      <td>0.036746</td>\n",
       "    </tr>\n",
       "    <tr>\n",
       "      <th>6</th>\n",
       "      <td>10.0</td>\n",
       "      <td>0.972715</td>\n",
       "      <td>0.963600</td>\n",
       "      <td>0.605050</td>\n",
       "      <td>0.396947</td>\n",
       "      <td>0.489139</td>\n",
       "      <td>0.292463</td>\n",
       "      <td>0.027285</td>\n",
       "      <td>0.036285</td>\n",
       "    </tr>\n",
       "    <tr>\n",
       "      <th>7</th>\n",
       "      <td>11.0</td>\n",
       "      <td>0.975414</td>\n",
       "      <td>0.964829</td>\n",
       "      <td>0.657497</td>\n",
       "      <td>0.430348</td>\n",
       "      <td>0.545413</td>\n",
       "      <td>0.322160</td>\n",
       "      <td>0.024586</td>\n",
       "      <td>0.035018</td>\n",
       "    </tr>\n",
       "    <tr>\n",
       "      <th>8</th>\n",
       "      <td>12.0</td>\n",
       "      <td>0.978244</td>\n",
       "      <td>0.964829</td>\n",
       "      <td>0.708425</td>\n",
       "      <td>0.433168</td>\n",
       "      <td>0.602943</td>\n",
       "      <td>0.325400</td>\n",
       "      <td>0.021756</td>\n",
       "      <td>0.034941</td>\n",
       "    </tr>\n",
       "    <tr>\n",
       "      <th>9</th>\n",
       "      <td>13.0</td>\n",
       "      <td>0.981108</td>\n",
       "      <td>0.965213</td>\n",
       "      <td>0.756160</td>\n",
       "      <td>0.449575</td>\n",
       "      <td>0.659650</td>\n",
       "      <td>0.342086</td>\n",
       "      <td>0.018892</td>\n",
       "      <td>0.034365</td>\n",
       "    </tr>\n",
       "    <tr>\n",
       "      <th>10</th>\n",
       "      <td>14.0</td>\n",
       "      <td>0.984004</td>\n",
       "      <td>0.965597</td>\n",
       "      <td>0.800983</td>\n",
       "      <td>0.458937</td>\n",
       "      <td>0.715540</td>\n",
       "      <td>0.350683</td>\n",
       "      <td>0.015996</td>\n",
       "      <td>0.033981</td>\n",
       "    </tr>\n",
       "    <tr>\n",
       "      <th>11</th>\n",
       "      <td>15.0</td>\n",
       "      <td>0.986308</td>\n",
       "      <td>0.965059</td>\n",
       "      <td>0.834395</td>\n",
       "      <td>0.453782</td>\n",
       "      <td>0.758980</td>\n",
       "      <td>0.348195</td>\n",
       "      <td>0.013692</td>\n",
       "      <td>0.034288</td>\n",
       "    </tr>\n",
       "    <tr>\n",
       "      <th>12</th>\n",
       "      <td>16.0</td>\n",
       "      <td>0.988546</td>\n",
       "      <td>0.965136</td>\n",
       "      <td>0.865116</td>\n",
       "      <td>0.458234</td>\n",
       "      <td>0.800344</td>\n",
       "      <td>0.353071</td>\n",
       "      <td>0.011454</td>\n",
       "      <td>0.034135</td>\n",
       "    </tr>\n",
       "    <tr>\n",
       "      <th>13</th>\n",
       "      <td>17.0</td>\n",
       "      <td>0.991179</td>\n",
       "      <td>0.966211</td>\n",
       "      <td>0.899248</td>\n",
       "      <td>0.483568</td>\n",
       "      <td>0.847986</td>\n",
       "      <td>0.376875</td>\n",
       "      <td>0.008821</td>\n",
       "      <td>0.033059</td>\n",
       "    </tr>\n",
       "    <tr>\n",
       "      <th>14</th>\n",
       "      <td>18.0</td>\n",
       "      <td>0.993384</td>\n",
       "      <td>0.965750</td>\n",
       "      <td>0.926293</td>\n",
       "      <td>0.477752</td>\n",
       "      <td>0.887063</td>\n",
       "      <td>0.372943</td>\n",
       "      <td>0.006616</td>\n",
       "      <td>0.033367</td>\n",
       "    </tr>\n",
       "    <tr>\n",
       "      <th>15</th>\n",
       "      <td>19.0</td>\n",
       "      <td>0.994569</td>\n",
       "      <td>0.965904</td>\n",
       "      <td>0.940282</td>\n",
       "      <td>0.482517</td>\n",
       "      <td>0.907757</td>\n",
       "      <td>0.377875</td>\n",
       "      <td>0.005431</td>\n",
       "      <td>0.033175</td>\n",
       "    </tr>\n",
       "    <tr>\n",
       "      <th>16</th>\n",
       "      <td>20.0</td>\n",
       "      <td>0.996412</td>\n",
       "      <td>0.965520</td>\n",
       "      <td>0.961334</td>\n",
       "      <td>0.477299</td>\n",
       "      <td>0.939537</td>\n",
       "      <td>0.374088</td>\n",
       "      <td>0.003588</td>\n",
       "      <td>0.033443</td>\n",
       "    </tr>\n",
       "  </tbody>\n",
       "</table>\n",
       "</div>"
      ],
      "text/plain": [
       "    max_depth  accuracy_train  accuracy_test  f1_train   f1_test  f2_train  \\\n",
       "0         4.0        0.952671       0.952619  0.034899  0.031397  0.022101   \n",
       "1         5.0        0.953691       0.953156  0.074951  0.052795  0.048199   \n",
       "2         6.0        0.958694       0.956919  0.249851  0.192806  0.172300   \n",
       "3         7.0        0.962709       0.959146  0.368802  0.267218  0.267496   \n",
       "4         8.0        0.967317       0.961834  0.486822  0.346912  0.372214   \n",
       "5         9.0        0.970181       0.963139  0.551929  0.384615  0.434986   \n",
       "6        10.0        0.972715       0.963600  0.605050  0.396947  0.489139   \n",
       "7        11.0        0.975414       0.964829  0.657497  0.430348  0.545413   \n",
       "8        12.0        0.978244       0.964829  0.708425  0.433168  0.602943   \n",
       "9        13.0        0.981108       0.965213  0.756160  0.449575  0.659650   \n",
       "10       14.0        0.984004       0.965597  0.800983  0.458937  0.715540   \n",
       "11       15.0        0.986308       0.965059  0.834395  0.453782  0.758980   \n",
       "12       16.0        0.988546       0.965136  0.865116  0.458234  0.800344   \n",
       "13       17.0        0.991179       0.966211  0.899248  0.483568  0.847986   \n",
       "14       18.0        0.993384       0.965750  0.926293  0.477752  0.887063   \n",
       "15       19.0        0.994569       0.965904  0.940282  0.482517  0.907757   \n",
       "16       20.0        0.996412       0.965520  0.961334  0.477299  0.939537   \n",
       "\n",
       "     f2_test  %_invest_loss_train  %_invest_loss_test  \n",
       "0   0.019857             0.047329            0.047381  \n",
       "1   0.033663             0.046309            0.046844  \n",
       "2   0.130047             0.041306            0.043043  \n",
       "3   0.186038             0.037291            0.040777  \n",
       "4   0.249811             0.032683            0.038089  \n",
       "5   0.281849             0.029819            0.036746  \n",
       "6   0.292463             0.027285            0.036285  \n",
       "7   0.322160             0.024586            0.035018  \n",
       "8   0.325400             0.021756            0.034941  \n",
       "9   0.342086             0.018892            0.034365  \n",
       "10  0.350683             0.015996            0.033981  \n",
       "11  0.348195             0.013692            0.034288  \n",
       "12  0.353071             0.011454            0.034135  \n",
       "13  0.376875             0.008821            0.033059  \n",
       "14  0.372943             0.006616            0.033367  \n",
       "15  0.377875             0.005431            0.033175  \n",
       "16  0.374088             0.003588            0.033443  "
      ]
     },
     "execution_count": 48,
     "metadata": {},
     "output_type": "execute_result"
    }
   ],
   "source": [
    "results0 = pd.DataFrame()\n",
    "for i in range(4,21):\n",
    "    forest_modeling.model = RandomForestClassifier(random_state=0, class_weight=None, max_depth = i)\n",
    "    train_out = forest_modeling.train()\n",
    "    test_out = forest_modeling.test()\n",
    "    results0 = results0.append({'max_depth': forest_modeling.model.max_depth,\n",
    "                    'accuracy_train': train_out['accuracy'],\n",
    "                    'accuracy_test': test_out['accuracy'],\n",
    "                    'f1_train': train_out['f1'],          \n",
    "                    'f1_test': test_out['f1'],\n",
    "                    'f2_train': train_out['f2'],          \n",
    "                    'f2_test': test_out['f2'],           \n",
    "                    '%_invest_loss_train': np.sum(cost_matrix*train_out['matrix'])/np.sum(train_out['matrix']),\n",
    "                    '%_invest_loss_test': np.sum(cost_matrix*test_out['matrix'])/np.sum(test_out['matrix'])}, \n",
    "                    ignore_index = True)\n",
    "    print(\"max_depth =\",i,\"complete\")\n",
    "clear_output()\n",
    "results0"
   ]
  },
  {
   "cell_type": "code",
   "execution_count": 50,
   "metadata": {},
   "outputs": [
    {
     "data": {
      "image/png": "[encoded data removed]",
      "text/plain": [
       "<Figure size 360x360 with 1 Axes>"
      ]
     },
     "metadata": {
      "needs_background": "light"
     },
     "output_type": "display_data"
    }
   ],
   "source": [
    "fig, axes = plt.subplots(1, 1, figsize=(5, 5))\n",
    "fig.suptitle('Random Forest (No class_weights) - Tuning max_depth')\n",
    "\n",
    "sns.lineplot(data=results0, x='max_depth', y='%_invest_loss_train', color='blue')\n",
    "sns.lineplot(data=results0, x='max_depth', y='%_invest_loss_test', color='red')\n",
    "\n",
    "fig.legend(['Train','Test'], loc='right')\n",
    "plt.show()"
   ]
  },
  {
   "cell_type": "markdown",
   "metadata": {},
   "source": [
    "#### XGBoost with no rebalanced class_weight"
   ]
  },
  {
   "cell_type": "code",
   "execution_count": 53,
   "metadata": {},
   "outputs": [
    {
     "data": {
      "text/html": [
       "<div>\n",
       "<style scoped>\n",
       "    .dataframe tbody tr th:only-of-type {\n",
       "        vertical-align: middle;\n",
       "    }\n",
       "\n",
       "    .dataframe tbody tr th {\n",
       "        vertical-align: top;\n",
       "    }\n",
       "\n",
       "    .dataframe thead th {\n",
       "        text-align: right;\n",
       "    }\n",
       "</style>\n",
       "<table border=\"1\" class=\"dataframe\">\n",
       "  <thead>\n",
       "    <tr style=\"text-align: right;\">\n",
       "      <th></th>\n",
       "      <th>max_depth</th>\n",
       "      <th>accuracy_train</th>\n",
       "      <th>accuracy_test</th>\n",
       "      <th>f2_train</th>\n",
       "      <th>f2_test</th>\n",
       "      <th>%_invest_loss_train</th>\n",
       "      <th>%_invest_loss_test</th>\n",
       "    </tr>\n",
       "  </thead>\n",
       "  <tbody>\n",
       "    <tr>\n",
       "      <th>0</th>\n",
       "      <td>4.0</td>\n",
       "      <td>0.971563</td>\n",
       "      <td>0.969820</td>\n",
       "      <td>0.473473</td>\n",
       "      <td>0.437228</td>\n",
       "      <td>0.028207</td>\n",
       "      <td>0.029911</td>\n",
       "    </tr>\n",
       "    <tr>\n",
       "      <th>1</th>\n",
       "      <td>5.0</td>\n",
       "      <td>0.973505</td>\n",
       "      <td>0.970435</td>\n",
       "      <td>0.508202</td>\n",
       "      <td>0.445975</td>\n",
       "      <td>0.026429</td>\n",
       "      <td>0.029412</td>\n",
       "    </tr>\n",
       "    <tr>\n",
       "      <th>2</th>\n",
       "      <td>6.0</td>\n",
       "      <td>0.975809</td>\n",
       "      <td>0.970127</td>\n",
       "      <td>0.555893</td>\n",
       "      <td>0.446816</td>\n",
       "      <td>0.024125</td>\n",
       "      <td>0.029527</td>\n",
       "    </tr>\n",
       "    <tr>\n",
       "      <th>3</th>\n",
       "      <td>7.0</td>\n",
       "      <td>0.979199</td>\n",
       "      <td>0.971971</td>\n",
       "      <td>0.623693</td>\n",
       "      <td>0.493209</td>\n",
       "      <td>0.020752</td>\n",
       "      <td>0.027492</td>\n",
       "    </tr>\n",
       "    <tr>\n",
       "      <th>4</th>\n",
       "      <td>8.0</td>\n",
       "      <td>0.983181</td>\n",
       "      <td>0.971510</td>\n",
       "      <td>0.701922</td>\n",
       "      <td>0.487848</td>\n",
       "      <td>0.016753</td>\n",
       "      <td>0.027838</td>\n",
       "    </tr>\n",
       "    <tr>\n",
       "      <th>5</th>\n",
       "      <td>9.0</td>\n",
       "      <td>0.987131</td>\n",
       "      <td>0.971587</td>\n",
       "      <td>0.774282</td>\n",
       "      <td>0.500888</td>\n",
       "      <td>0.012869</td>\n",
       "      <td>0.027454</td>\n",
       "    </tr>\n",
       "    <tr>\n",
       "      <th>6</th>\n",
       "      <td>10.0</td>\n",
       "      <td>0.991048</td>\n",
       "      <td>0.971433</td>\n",
       "      <td>0.845630</td>\n",
       "      <td>0.507605</td>\n",
       "      <td>0.008952</td>\n",
       "      <td>0.027338</td>\n",
       "    </tr>\n",
       "    <tr>\n",
       "      <th>7</th>\n",
       "      <td>11.0</td>\n",
       "      <td>0.993352</td>\n",
       "      <td>0.972585</td>\n",
       "      <td>0.886485</td>\n",
       "      <td>0.529930</td>\n",
       "      <td>0.006648</td>\n",
       "      <td>0.026225</td>\n",
       "    </tr>\n",
       "    <tr>\n",
       "      <th>8</th>\n",
       "      <td>12.0</td>\n",
       "      <td>0.995326</td>\n",
       "      <td>0.971894</td>\n",
       "      <td>0.920869</td>\n",
       "      <td>0.515719</td>\n",
       "      <td>0.004674</td>\n",
       "      <td>0.026916</td>\n",
       "    </tr>\n",
       "    <tr>\n",
       "      <th>9</th>\n",
       "      <td>13.0</td>\n",
       "      <td>0.996544</td>\n",
       "      <td>0.971971</td>\n",
       "      <td>0.941788</td>\n",
       "      <td>0.522887</td>\n",
       "      <td>0.003456</td>\n",
       "      <td>0.026686</td>\n",
       "    </tr>\n",
       "    <tr>\n",
       "      <th>10</th>\n",
       "      <td>14.0</td>\n",
       "      <td>0.997367</td>\n",
       "      <td>0.972969</td>\n",
       "      <td>0.955801</td>\n",
       "      <td>0.536405</td>\n",
       "      <td>0.002633</td>\n",
       "      <td>0.025879</td>\n",
       "    </tr>\n",
       "    <tr>\n",
       "      <th>11</th>\n",
       "      <td>15.0</td>\n",
       "      <td>0.998025</td>\n",
       "      <td>0.972047</td>\n",
       "      <td>0.966942</td>\n",
       "      <td>0.530011</td>\n",
       "      <td>0.001975</td>\n",
       "      <td>0.026455</td>\n",
       "    </tr>\n",
       "    <tr>\n",
       "      <th>12</th>\n",
       "      <td>16.0</td>\n",
       "      <td>0.997828</td>\n",
       "      <td>0.972969</td>\n",
       "      <td>0.963606</td>\n",
       "      <td>0.537786</td>\n",
       "      <td>0.002172</td>\n",
       "      <td>0.025841</td>\n",
       "    </tr>\n",
       "    <tr>\n",
       "      <th>13</th>\n",
       "      <td>17.0</td>\n",
       "      <td>0.998585</td>\n",
       "      <td>0.972662</td>\n",
       "      <td>0.976364</td>\n",
       "      <td>0.537031</td>\n",
       "      <td>0.001415</td>\n",
       "      <td>0.025994</td>\n",
       "    </tr>\n",
       "    <tr>\n",
       "      <th>14</th>\n",
       "      <td>18.0</td>\n",
       "      <td>0.998354</td>\n",
       "      <td>0.972431</td>\n",
       "      <td>0.972490</td>\n",
       "      <td>0.528169</td>\n",
       "      <td>0.001646</td>\n",
       "      <td>0.026340</td>\n",
       "    </tr>\n",
       "    <tr>\n",
       "      <th>15</th>\n",
       "      <td>19.0</td>\n",
       "      <td>0.998683</td>\n",
       "      <td>0.972201</td>\n",
       "      <td>0.978022</td>\n",
       "      <td>0.523440</td>\n",
       "      <td>0.001317</td>\n",
       "      <td>0.026570</td>\n",
       "    </tr>\n",
       "    <tr>\n",
       "      <th>16</th>\n",
       "      <td>20.0</td>\n",
       "      <td>0.998585</td>\n",
       "      <td>0.971894</td>\n",
       "      <td>0.976364</td>\n",
       "      <td>0.532399</td>\n",
       "      <td>0.001415</td>\n",
       "      <td>0.026455</td>\n",
       "    </tr>\n",
       "  </tbody>\n",
       "</table>\n",
       "</div>"
      ],
      "text/plain": [
       "    max_depth  accuracy_train  accuracy_test  f2_train   f2_test  \\\n",
       "0         4.0        0.971563       0.969820  0.473473  0.437228   \n",
       "1         5.0        0.973505       0.970435  0.508202  0.445975   \n",
       "2         6.0        0.975809       0.970127  0.555893  0.446816   \n",
       "3         7.0        0.979199       0.971971  0.623693  0.493209   \n",
       "4         8.0        0.983181       0.971510  0.701922  0.487848   \n",
       "5         9.0        0.987131       0.971587  0.774282  0.500888   \n",
       "6        10.0        0.991048       0.971433  0.845630  0.507605   \n",
       "7        11.0        0.993352       0.972585  0.886485  0.529930   \n",
       "8        12.0        0.995326       0.971894  0.920869  0.515719   \n",
       "9        13.0        0.996544       0.971971  0.941788  0.522887   \n",
       "10       14.0        0.997367       0.972969  0.955801  0.536405   \n",
       "11       15.0        0.998025       0.972047  0.966942  0.530011   \n",
       "12       16.0        0.997828       0.972969  0.963606  0.537786   \n",
       "13       17.0        0.998585       0.972662  0.976364  0.537031   \n",
       "14       18.0        0.998354       0.972431  0.972490  0.528169   \n",
       "15       19.0        0.998683       0.972201  0.978022  0.523440   \n",
       "16       20.0        0.998585       0.971894  0.976364  0.532399   \n",
       "\n",
       "    %_invest_loss_train  %_invest_loss_test  \n",
       "0              0.028207            0.029911  \n",
       "1              0.026429            0.029412  \n",
       "2              0.024125            0.029527  \n",
       "3              0.020752            0.027492  \n",
       "4              0.016753            0.027838  \n",
       "5              0.012869            0.027454  \n",
       "6              0.008952            0.027338  \n",
       "7              0.006648            0.026225  \n",
       "8              0.004674            0.026916  \n",
       "9              0.003456            0.026686  \n",
       "10             0.002633            0.025879  \n",
       "11             0.001975            0.026455  \n",
       "12             0.002172            0.025841  \n",
       "13             0.001415            0.025994  \n",
       "14             0.001646            0.026340  \n",
       "15             0.001317            0.026570  \n",
       "16             0.001415            0.026455  "
      ]
     },
     "execution_count": 53,
     "metadata": {},
     "output_type": "execute_result"
    }
   ],
   "source": [
    "results00 = pd.DataFrame()\n",
    "for i in range(4,21):\n",
    "    params = {\n",
    "    'max_depth': i,\n",
    "    'objective': 'multi:softmax',\n",
    "    'eval_metric': 'logloss',\n",
    "    'num_class': 2,\n",
    "    'eta': 0.3,\n",
    "    }\n",
    "    forest_modeling.model = XGBModel(params) #num_round\n",
    "    train_out = forest_modeling.train()\n",
    "    test_out = forest_modeling.test()\n",
    "    results00 = results00.append({'max_depth': i,\n",
    "                    'accuracy_train': train_out['accuracy'],\n",
    "                    'accuracy_test': test_out['accuracy'],\n",
    "                    'f2_train': train_out['f2'],            \n",
    "                    'f2_test': test_out['f2'], \n",
    "                    '%_invest_loss_train': np.sum(cost_matrix*train_out['matrix'])/np.sum(train_out['matrix']),\n",
    "                    '%_invest_loss_test': np.sum(cost_matrix*test_out['matrix'])/np.sum(test_out['matrix'])}, \n",
    "                    ignore_index = True)\n",
    "    print(\"max_depth =\",i,\"complete\")\n",
    "clear_output()\n",
    "results00"
   ]
  },
  {
   "cell_type": "markdown",
   "metadata": {},
   "source": [
    "#### Overfits faster than Random Forest"
   ]
  },
  {
   "cell_type": "code",
   "execution_count": 54,
   "metadata": {},
   "outputs": [
    {
     "data": {
      "image/png": "[encoded data removed]",
      "text/plain": [
       "<Figure size 360x360 with 1 Axes>"
      ]
     },
     "metadata": {
      "needs_background": "light"
     },
     "output_type": "display_data"
    }
   ],
   "source": [
    "fig, axes = plt.subplots(1, 1, figsize=(5, 5))\n",
    "fig.suptitle('XGBoost (No class_weights) - Tuning max_depth')\n",
    "\n",
    "sns.lineplot(data=results00, x='max_depth', y='%_invest_loss_train', color='blue')\n",
    "sns.lineplot(data=results00, x='max_depth', y='%_invest_loss_test', color='red')\n",
    "\n",
    "fig.legend(['Train','Test'], loc='right')\n",
    "plt.show()"
   ]
  },
  {
   "cell_type": "markdown",
   "metadata": {},
   "source": [
    "#### Random Forest with rebalanced classes"
   ]
  },
  {
   "cell_type": "code",
   "execution_count": 55,
   "metadata": {},
   "outputs": [
    {
     "data": {
      "text/html": [
       "<div>\n",
       "<style scoped>\n",
       "    .dataframe tbody tr th:only-of-type {\n",
       "        vertical-align: middle;\n",
       "    }\n",
       "\n",
       "    .dataframe tbody tr th {\n",
       "        vertical-align: top;\n",
       "    }\n",
       "\n",
       "    .dataframe thead th {\n",
       "        text-align: right;\n",
       "    }\n",
       "</style>\n",
       "<table border=\"1\" class=\"dataframe\">\n",
       "  <thead>\n",
       "    <tr style=\"text-align: right;\">\n",
       "      <th></th>\n",
       "      <th>max_depth</th>\n",
       "      <th>accuracy_train</th>\n",
       "      <th>accuracy_test</th>\n",
       "      <th>f1_train</th>\n",
       "      <th>f1_test</th>\n",
       "      <th>f2_train</th>\n",
       "      <th>f2_test</th>\n",
       "      <th>%_invest_loss_train</th>\n",
       "      <th>%_invest_loss_test</th>\n",
       "    </tr>\n",
       "  </thead>\n",
       "  <tbody>\n",
       "    <tr>\n",
       "      <th>0</th>\n",
       "      <td>4.0</td>\n",
       "      <td>0.777639</td>\n",
       "      <td>0.776302</td>\n",
       "      <td>0.257419</td>\n",
       "      <td>0.241209</td>\n",
       "      <td>0.434025</td>\n",
       "      <td>0.404720</td>\n",
       "      <td>0.116002</td>\n",
       "      <td>0.118146</td>\n",
       "    </tr>\n",
       "    <tr>\n",
       "      <th>1</th>\n",
       "      <td>5.0</td>\n",
       "      <td>0.814995</td>\n",
       "      <td>0.813009</td>\n",
       "      <td>0.297111</td>\n",
       "      <td>0.274650</td>\n",
       "      <td>0.479458</td>\n",
       "      <td>0.440053</td>\n",
       "      <td>0.097044</td>\n",
       "      <td>0.099869</td>\n",
       "    </tr>\n",
       "    <tr>\n",
       "      <th>2</th>\n",
       "      <td>6.0</td>\n",
       "      <td>0.849719</td>\n",
       "      <td>0.847796</td>\n",
       "      <td>0.351605</td>\n",
       "      <td>0.315135</td>\n",
       "      <td>0.541368</td>\n",
       "      <td>0.477487</td>\n",
       "      <td>0.078860</td>\n",
       "      <td>0.082668</td>\n",
       "    </tr>\n",
       "    <tr>\n",
       "      <th>3</th>\n",
       "      <td>7.0</td>\n",
       "      <td>0.883224</td>\n",
       "      <td>0.877208</td>\n",
       "      <td>0.418932</td>\n",
       "      <td>0.358089</td>\n",
       "      <td>0.609164</td>\n",
       "      <td>0.510064</td>\n",
       "      <td>0.061432</td>\n",
       "      <td>0.068346</td>\n",
       "    </tr>\n",
       "    <tr>\n",
       "      <th>4</th>\n",
       "      <td>8.0</td>\n",
       "      <td>0.913373</td>\n",
       "      <td>0.900706</td>\n",
       "      <td>0.498284</td>\n",
       "      <td>0.389807</td>\n",
       "      <td>0.678045</td>\n",
       "      <td>0.516250</td>\n",
       "      <td>0.045897</td>\n",
       "      <td>0.057864</td>\n",
       "    </tr>\n",
       "    <tr>\n",
       "      <th>5</th>\n",
       "      <td>9.0</td>\n",
       "      <td>0.941777</td>\n",
       "      <td>0.923130</td>\n",
       "      <td>0.601487</td>\n",
       "      <td>0.433503</td>\n",
       "      <td>0.755860</td>\n",
       "      <td>0.524945</td>\n",
       "      <td>0.031235</td>\n",
       "      <td>0.047804</td>\n",
       "    </tr>\n",
       "    <tr>\n",
       "      <th>6</th>\n",
       "      <td>10.0</td>\n",
       "      <td>0.958595</td>\n",
       "      <td>0.938873</td>\n",
       "      <td>0.684078</td>\n",
       "      <td>0.463612</td>\n",
       "      <td>0.813231</td>\n",
       "      <td>0.511144</td>\n",
       "      <td>0.022381</td>\n",
       "      <td>0.041430</td>\n",
       "    </tr>\n",
       "    <tr>\n",
       "      <th>7</th>\n",
       "      <td>11.0</td>\n",
       "      <td>0.972550</td>\n",
       "      <td>0.948702</td>\n",
       "      <td>0.770121</td>\n",
       "      <td>0.490854</td>\n",
       "      <td>0.870948</td>\n",
       "      <td>0.504228</td>\n",
       "      <td>0.014827</td>\n",
       "      <td>0.037360</td>\n",
       "    </tr>\n",
       "    <tr>\n",
       "      <th>8</th>\n",
       "      <td>12.0</td>\n",
       "      <td>0.979923</td>\n",
       "      <td>0.951620</td>\n",
       "      <td>0.823495</td>\n",
       "      <td>0.486971</td>\n",
       "      <td>0.906600</td>\n",
       "      <td>0.480862</td>\n",
       "      <td>0.010713</td>\n",
       "      <td>0.036784</td>\n",
       "    </tr>\n",
       "    <tr>\n",
       "      <th>9</th>\n",
       "      <td>13.0</td>\n",
       "      <td>0.985946</td>\n",
       "      <td>0.955537</td>\n",
       "      <td>0.870724</td>\n",
       "      <td>0.487157</td>\n",
       "      <td>0.934373</td>\n",
       "      <td>0.456811</td>\n",
       "      <td>0.007455</td>\n",
       "      <td>0.035747</td>\n",
       "    </tr>\n",
       "    <tr>\n",
       "      <th>10</th>\n",
       "      <td>14.0</td>\n",
       "      <td>0.989896</td>\n",
       "      <td>0.957764</td>\n",
       "      <td>0.904033</td>\n",
       "      <td>0.482109</td>\n",
       "      <td>0.952444</td>\n",
       "      <td>0.434930</td>\n",
       "      <td>0.005348</td>\n",
       "      <td>0.035363</td>\n",
       "    </tr>\n",
       "    <tr>\n",
       "      <th>11</th>\n",
       "      <td>15.0</td>\n",
       "      <td>0.992298</td>\n",
       "      <td>0.959530</td>\n",
       "      <td>0.925478</td>\n",
       "      <td>0.483839</td>\n",
       "      <td>0.964551</td>\n",
       "      <td>0.425569</td>\n",
       "      <td>0.004032</td>\n",
       "      <td>0.034826</td>\n",
       "    </tr>\n",
       "    <tr>\n",
       "      <th>12</th>\n",
       "      <td>16.0</td>\n",
       "      <td>0.994207</td>\n",
       "      <td>0.960912</td>\n",
       "      <td>0.943042</td>\n",
       "      <td>0.476876</td>\n",
       "      <td>0.973670</td>\n",
       "      <td>0.406447</td>\n",
       "      <td>0.003012</td>\n",
       "      <td>0.034710</td>\n",
       "    </tr>\n",
       "    <tr>\n",
       "      <th>13</th>\n",
       "      <td>17.0</td>\n",
       "      <td>0.995985</td>\n",
       "      <td>0.962295</td>\n",
       "      <td>0.959947</td>\n",
       "      <td>0.483701</td>\n",
       "      <td>0.982791</td>\n",
       "      <td>0.406073</td>\n",
       "      <td>0.002041</td>\n",
       "      <td>0.034096</td>\n",
       "    </tr>\n",
       "    <tr>\n",
       "      <th>14</th>\n",
       "      <td>18.0</td>\n",
       "      <td>0.996840</td>\n",
       "      <td>0.962218</td>\n",
       "      <td>0.968254</td>\n",
       "      <td>0.472103</td>\n",
       "      <td>0.987055</td>\n",
       "      <td>0.391042</td>\n",
       "      <td>0.001580</td>\n",
       "      <td>0.034519</td>\n",
       "    </tr>\n",
       "    <tr>\n",
       "      <th>15</th>\n",
       "      <td>19.0</td>\n",
       "      <td>0.997268</td>\n",
       "      <td>0.961911</td>\n",
       "      <td>0.972434</td>\n",
       "      <td>0.465517</td>\n",
       "      <td>0.988788</td>\n",
       "      <td>0.384478</td>\n",
       "      <td>0.001366</td>\n",
       "      <td>0.034826</td>\n",
       "    </tr>\n",
       "    <tr>\n",
       "      <th>16</th>\n",
       "      <td>20.0</td>\n",
       "      <td>0.997992</td>\n",
       "      <td>0.962755</td>\n",
       "      <td>0.979578</td>\n",
       "      <td>0.471101</td>\n",
       "      <td>0.991327</td>\n",
       "      <td>0.385990</td>\n",
       "      <td>0.001020</td>\n",
       "      <td>0.034403</td>\n",
       "    </tr>\n",
       "  </tbody>\n",
       "</table>\n",
       "</div>"
      ],
      "text/plain": [
       "    max_depth  accuracy_train  accuracy_test  f1_train   f1_test  f2_train  \\\n",
       "0         4.0        0.777639       0.776302  0.257419  0.241209  0.434025   \n",
       "1         5.0        0.814995       0.813009  0.297111  0.274650  0.479458   \n",
       "2         6.0        0.849719       0.847796  0.351605  0.315135  0.541368   \n",
       "3         7.0        0.883224       0.877208  0.418932  0.358089  0.609164   \n",
       "4         8.0        0.913373       0.900706  0.498284  0.389807  0.678045   \n",
       "5         9.0        0.941777       0.923130  0.601487  0.433503  0.755860   \n",
       "6        10.0        0.958595       0.938873  0.684078  0.463612  0.813231   \n",
       "7        11.0        0.972550       0.948702  0.770121  0.490854  0.870948   \n",
       "8        12.0        0.979923       0.951620  0.823495  0.486971  0.906600   \n",
       "9        13.0        0.985946       0.955537  0.870724  0.487157  0.934373   \n",
       "10       14.0        0.989896       0.957764  0.904033  0.482109  0.952444   \n",
       "11       15.0        0.992298       0.959530  0.925478  0.483839  0.964551   \n",
       "12       16.0        0.994207       0.960912  0.943042  0.476876  0.973670   \n",
       "13       17.0        0.995985       0.962295  0.959947  0.483701  0.982791   \n",
       "14       18.0        0.996840       0.962218  0.968254  0.472103  0.987055   \n",
       "15       19.0        0.997268       0.961911  0.972434  0.465517  0.988788   \n",
       "16       20.0        0.997992       0.962755  0.979578  0.471101  0.991327   \n",
       "\n",
       "     f2_test  %_invest_loss_train  %_invest_loss_test  \n",
       "0   0.404720             0.116002            0.118146  \n",
       "1   0.440053             0.097044            0.099869  \n",
       "2   0.477487             0.078860            0.082668  \n",
       "3   0.510064             0.061432            0.068346  \n",
       "4   0.516250             0.045897            0.057864  \n",
       "5   0.524945             0.031235            0.047804  \n",
       "6   0.511144             0.022381            0.041430  \n",
       "7   0.504228             0.014827            0.037360  \n",
       "8   0.480862             0.010713            0.036784  \n",
       "9   0.456811             0.007455            0.035747  \n",
       "10  0.434930             0.005348            0.035363  \n",
       "11  0.425569             0.004032            0.034826  \n",
       "12  0.406447             0.003012            0.034710  \n",
       "13  0.406073             0.002041            0.034096  \n",
       "14  0.391042             0.001580            0.034519  \n",
       "15  0.384478             0.001366            0.034826  \n",
       "16  0.385990             0.001020            0.034403  "
      ]
     },
     "execution_count": 55,
     "metadata": {},
     "output_type": "execute_result"
    }
   ],
   "source": [
    "results = pd.DataFrame()\n",
    "for i in range(4,21):\n",
    "    forest_modeling.model = RandomForestClassifier(random_state=0, class_weight='balanced', max_depth = i)\n",
    "    train_out = forest_modeling.train()\n",
    "    test_out = forest_modeling.test()\n",
    "    results = results.append({'max_depth': forest_modeling.model.max_depth,\n",
    "                    'accuracy_train': train_out['accuracy'],\n",
    "                    'accuracy_test': test_out['accuracy'],\n",
    "                    'f1_train': train_out['f1'],          \n",
    "                    'f1_test': test_out['f1'],\n",
    "                    'f2_train': train_out['f2'],          \n",
    "                    'f2_test': test_out['f2'],           \n",
    "                    '%_invest_loss_train': np.sum(cost_matrix*train_out['matrix'])/np.sum(train_out['matrix']),\n",
    "                    '%_invest_loss_test': np.sum(cost_matrix*test_out['matrix'])/np.sum(test_out['matrix'])}, \n",
    "                    ignore_index = True)\n",
    "    print(\"max_depth =\",i,\"complete\")\n",
    "clear_output()\n",
    "results"
   ]
  },
  {
   "cell_type": "markdown",
   "metadata": {},
   "source": [
    "#### Minimum investing loss of ~2% without overfitting Random Forest is at max_depth = 12"
   ]
  },
  {
   "cell_type": "code",
   "execution_count": 56,
   "metadata": {},
   "outputs": [
    {
     "data": {
      "image/png": "[encoded data removed]",
      "text/plain": [
       "<Figure size 360x360 with 1 Axes>"
      ]
     },
     "metadata": {
      "needs_background": "light"
     },
     "output_type": "display_data"
    }
   ],
   "source": [
    "fig, axes = plt.subplots(1, 1, figsize=(5, 5))\n",
    "fig.suptitle('Rebalanced Random Forest - Tuning max_depth')\n",
    "\n",
    "sns.lineplot(data=results, x='max_depth', y='%_invest_loss_train', color='blue')\n",
    "sns.lineplot(data=results, x='max_depth', y='%_invest_loss_test', color='red')\n",
    "\n",
    "fig.legend(['Train','Test'], loc='right')\n",
    "plt.show()"
   ]
  },
  {
   "cell_type": "markdown",
   "metadata": {},
   "source": [
    "#### XG Boost with rebalanced classes"
   ]
  },
  {
   "cell_type": "code",
   "execution_count": 57,
   "metadata": {},
   "outputs": [],
   "source": [
    "df = loader.get_df()"
   ]
  },
  {
   "cell_type": "code",
   "execution_count": 58,
   "metadata": {},
   "outputs": [
    {
     "data": {
      "text/plain": [
       "19.758010521281683"
      ]
     },
     "execution_count": 58,
     "metadata": {},
     "output_type": "execute_result"
    }
   ],
   "source": [
    "# scale_pos_weight\n",
    "np.bincount(df['bankrupt'])[0]/np.bincount(df['bankrupt'])[1]"
   ]
  },
  {
   "cell_type": "code",
   "execution_count": 59,
   "metadata": {},
   "outputs": [
    {
     "data": {
      "text/html": [
       "<div>\n",
       "<style scoped>\n",
       "    .dataframe tbody tr th:only-of-type {\n",
       "        vertical-align: middle;\n",
       "    }\n",
       "\n",
       "    .dataframe tbody tr th {\n",
       "        vertical-align: top;\n",
       "    }\n",
       "\n",
       "    .dataframe thead th {\n",
       "        text-align: right;\n",
       "    }\n",
       "</style>\n",
       "<table border=\"1\" class=\"dataframe\">\n",
       "  <thead>\n",
       "    <tr style=\"text-align: right;\">\n",
       "      <th></th>\n",
       "      <th>max_depth</th>\n",
       "      <th>accuracy_train</th>\n",
       "      <th>accuracy_test</th>\n",
       "      <th>f2_train</th>\n",
       "      <th>f2_test</th>\n",
       "      <th>%_invest_loss_train</th>\n",
       "      <th>%_invest_loss_test</th>\n",
       "    </tr>\n",
       "  </thead>\n",
       "  <tbody>\n",
       "    <tr>\n",
       "      <th>0</th>\n",
       "      <td>2.0</td>\n",
       "      <td>0.784913</td>\n",
       "      <td>0.780909</td>\n",
       "      <td>0.445280</td>\n",
       "      <td>0.416373</td>\n",
       "      <td>0.112152</td>\n",
       "      <td>0.115458</td>\n",
       "    </tr>\n",
       "    <tr>\n",
       "      <th>1</th>\n",
       "      <td>3.0</td>\n",
       "      <td>0.844288</td>\n",
       "      <td>0.845876</td>\n",
       "      <td>0.522757</td>\n",
       "      <td>0.495876</td>\n",
       "      <td>0.082102</td>\n",
       "      <td>0.082668</td>\n",
       "    </tr>\n",
       "    <tr>\n",
       "      <th>2</th>\n",
       "      <td>4.0</td>\n",
       "      <td>0.872527</td>\n",
       "      <td>0.868684</td>\n",
       "      <td>0.593338</td>\n",
       "      <td>0.542838</td>\n",
       "      <td>0.066666</td>\n",
       "      <td>0.070611</td>\n",
       "    </tr>\n",
       "    <tr>\n",
       "      <th>3</th>\n",
       "      <td>5.0</td>\n",
       "      <td>0.894678</td>\n",
       "      <td>0.888573</td>\n",
       "      <td>0.646484</td>\n",
       "      <td>0.569972</td>\n",
       "      <td>0.054965</td>\n",
       "      <td>0.060897</td>\n",
       "    </tr>\n",
       "    <tr>\n",
       "      <th>4</th>\n",
       "      <td>6.0</td>\n",
       "      <td>0.920679</td>\n",
       "      <td>0.907234</td>\n",
       "      <td>0.721234</td>\n",
       "      <td>0.591796</td>\n",
       "      <td>0.041059</td>\n",
       "      <td>0.052066</td>\n",
       "    </tr>\n",
       "    <tr>\n",
       "      <th>5</th>\n",
       "      <td>7.0</td>\n",
       "      <td>0.937037</td>\n",
       "      <td>0.922055</td>\n",
       "      <td>0.773360</td>\n",
       "      <td>0.603719</td>\n",
       "      <td>0.032337</td>\n",
       "      <td>0.045346</td>\n",
       "    </tr>\n",
       "    <tr>\n",
       "      <th>6</th>\n",
       "      <td>8.0</td>\n",
       "      <td>0.954317</td>\n",
       "      <td>0.931117</td>\n",
       "      <td>0.828707</td>\n",
       "      <td>0.606598</td>\n",
       "      <td>0.023352</td>\n",
       "      <td>0.041430</td>\n",
       "    </tr>\n",
       "    <tr>\n",
       "      <th>7</th>\n",
       "      <td>9.0</td>\n",
       "      <td>0.967120</td>\n",
       "      <td>0.944479</td>\n",
       "      <td>0.874050</td>\n",
       "      <td>0.622837</td>\n",
       "      <td>0.016687</td>\n",
       "      <td>0.035248</td>\n",
       "    </tr>\n",
       "    <tr>\n",
       "      <th>8</th>\n",
       "      <td>10.0</td>\n",
       "      <td>0.979199</td>\n",
       "      <td>0.953694</td>\n",
       "      <td>0.918933</td>\n",
       "      <td>0.622733</td>\n",
       "      <td>0.010466</td>\n",
       "      <td>0.031408</td>\n",
       "    </tr>\n",
       "    <tr>\n",
       "      <th>9</th>\n",
       "      <td>11.0</td>\n",
       "      <td>0.987592</td>\n",
       "      <td>0.959760</td>\n",
       "      <td>0.949811</td>\n",
       "      <td>0.633344</td>\n",
       "      <td>0.006253</td>\n",
       "      <td>0.028529</td>\n",
       "    </tr>\n",
       "    <tr>\n",
       "      <th>10</th>\n",
       "      <td>12.0</td>\n",
       "      <td>0.990488</td>\n",
       "      <td>0.964906</td>\n",
       "      <td>0.962019</td>\n",
       "      <td>0.644444</td>\n",
       "      <td>0.004756</td>\n",
       "      <td>0.026033</td>\n",
       "    </tr>\n",
       "    <tr>\n",
       "      <th>11</th>\n",
       "      <td>13.0</td>\n",
       "      <td>0.995688</td>\n",
       "      <td>0.965827</td>\n",
       "      <td>0.982418</td>\n",
       "      <td>0.613238</td>\n",
       "      <td>0.002156</td>\n",
       "      <td>0.026647</td>\n",
       "    </tr>\n",
       "    <tr>\n",
       "      <th>12</th>\n",
       "      <td>14.0</td>\n",
       "      <td>0.996676</td>\n",
       "      <td>0.966672</td>\n",
       "      <td>0.986390</td>\n",
       "      <td>0.622770</td>\n",
       "      <td>0.001662</td>\n",
       "      <td>0.025994</td>\n",
       "    </tr>\n",
       "    <tr>\n",
       "      <th>13</th>\n",
       "      <td>15.0</td>\n",
       "      <td>0.996643</td>\n",
       "      <td>0.967977</td>\n",
       "      <td>0.986257</td>\n",
       "      <td>0.625000</td>\n",
       "      <td>0.001679</td>\n",
       "      <td>0.025380</td>\n",
       "    </tr>\n",
       "    <tr>\n",
       "      <th>14</th>\n",
       "      <td>16.0</td>\n",
       "      <td>0.998387</td>\n",
       "      <td>0.967286</td>\n",
       "      <td>0.993351</td>\n",
       "      <td>0.598417</td>\n",
       "      <td>0.000806</td>\n",
       "      <td>0.026494</td>\n",
       "    </tr>\n",
       "    <tr>\n",
       "      <th>15</th>\n",
       "      <td>17.0</td>\n",
       "      <td>0.998519</td>\n",
       "      <td>0.967286</td>\n",
       "      <td>0.993890</td>\n",
       "      <td>0.593388</td>\n",
       "      <td>0.000741</td>\n",
       "      <td>0.026647</td>\n",
       "    </tr>\n",
       "    <tr>\n",
       "      <th>16</th>\n",
       "      <td>18.0</td>\n",
       "      <td>0.998651</td>\n",
       "      <td>0.968131</td>\n",
       "      <td>0.994430</td>\n",
       "      <td>0.596817</td>\n",
       "      <td>0.000675</td>\n",
       "      <td>0.026186</td>\n",
       "    </tr>\n",
       "    <tr>\n",
       "      <th>17</th>\n",
       "      <td>19.0</td>\n",
       "      <td>0.998980</td>\n",
       "      <td>0.969052</td>\n",
       "      <td>0.995783</td>\n",
       "      <td>0.596667</td>\n",
       "      <td>0.000510</td>\n",
       "      <td>0.025802</td>\n",
       "    </tr>\n",
       "  </tbody>\n",
       "</table>\n",
       "</div>"
      ],
      "text/plain": [
       "    max_depth  accuracy_train  accuracy_test  f2_train   f2_test  \\\n",
       "0         2.0        0.784913       0.780909  0.445280  0.416373   \n",
       "1         3.0        0.844288       0.845876  0.522757  0.495876   \n",
       "2         4.0        0.872527       0.868684  0.593338  0.542838   \n",
       "3         5.0        0.894678       0.888573  0.646484  0.569972   \n",
       "4         6.0        0.920679       0.907234  0.721234  0.591796   \n",
       "5         7.0        0.937037       0.922055  0.773360  0.603719   \n",
       "6         8.0        0.954317       0.931117  0.828707  0.606598   \n",
       "7         9.0        0.967120       0.944479  0.874050  0.622837   \n",
       "8        10.0        0.979199       0.953694  0.918933  0.622733   \n",
       "9        11.0        0.987592       0.959760  0.949811  0.633344   \n",
       "10       12.0        0.990488       0.964906  0.962019  0.644444   \n",
       "11       13.0        0.995688       0.965827  0.982418  0.613238   \n",
       "12       14.0        0.996676       0.966672  0.986390  0.622770   \n",
       "13       15.0        0.996643       0.967977  0.986257  0.625000   \n",
       "14       16.0        0.998387       0.967286  0.993351  0.598417   \n",
       "15       17.0        0.998519       0.967286  0.993890  0.593388   \n",
       "16       18.0        0.998651       0.968131  0.994430  0.596817   \n",
       "17       19.0        0.998980       0.969052  0.995783  0.596667   \n",
       "\n",
       "    %_invest_loss_train  %_invest_loss_test  \n",
       "0              0.112152            0.115458  \n",
       "1              0.082102            0.082668  \n",
       "2              0.066666            0.070611  \n",
       "3              0.054965            0.060897  \n",
       "4              0.041059            0.052066  \n",
       "5              0.032337            0.045346  \n",
       "6              0.023352            0.041430  \n",
       "7              0.016687            0.035248  \n",
       "8              0.010466            0.031408  \n",
       "9              0.006253            0.028529  \n",
       "10             0.004756            0.026033  \n",
       "11             0.002156            0.026647  \n",
       "12             0.001662            0.025994  \n",
       "13             0.001679            0.025380  \n",
       "14             0.000806            0.026494  \n",
       "15             0.000741            0.026647  \n",
       "16             0.000675            0.026186  \n",
       "17             0.000510            0.025802  "
      ]
     },
     "execution_count": 59,
     "metadata": {},
     "output_type": "execute_result"
    }
   ],
   "source": [
    "results2 = pd.DataFrame()\n",
    "for i in range(2,20):\n",
    "    params = {\n",
    "    'max_depth': i,\n",
    "    'objective': 'binary:logistic',\n",
    "    'eval_metric': 'logloss',\n",
    "    #'num_class': 2,\n",
    "    'eta': 0.3,\n",
    "    'scale_pos_weight': 19.758 \n",
    "    }\n",
    "    forest_modeling.model = XGBModel(params) #num_round\n",
    "    train_out = forest_modeling.train()\n",
    "    test_out = forest_modeling.test()\n",
    "    results2 = results2.append({'max_depth': i,\n",
    "                    'accuracy_train': train_out['accuracy'],\n",
    "                    'accuracy_test': test_out['accuracy'],\n",
    "                    'f2_train': train_out['f2'],            \n",
    "                    'f2_test': test_out['f2'], \n",
    "                    '%_invest_loss_train': np.sum(cost_matrix*train_out['matrix'])/np.sum(train_out['matrix']),\n",
    "                    '%_invest_loss_test': np.sum(cost_matrix*test_out['matrix'])/np.sum(test_out['matrix'])}, \n",
    "                    ignore_index = True)\n",
    "    print(\"max_depth =\",i,\"complete\")\n",
    "clear_output()\n",
    "results2"
   ]
  },
  {
   "cell_type": "markdown",
   "metadata": {},
   "source": [
    "#### Minimum investing loss of ~2% without overfitting rebalanced XGBoost is at max_depth = 10\n",
    "Very similar to rebalanced Random Forest above"
   ]
  },
  {
   "cell_type": "code",
   "execution_count": 60,
   "metadata": {},
   "outputs": [
    {
     "data": {
      "image/png": "[encoded data removed]",
      "text/plain": [
       "<Figure size 360x360 with 1 Axes>"
      ]
     },
     "metadata": {
      "needs_background": "light"
     },
     "output_type": "display_data"
    }
   ],
   "source": [
    "fig, axes = plt.subplots(1, 1, figsize=(5, 5))\n",
    "fig.suptitle('XGBoost Rebalanced - Tuning max_depth')\n",
    "\n",
    "sns.lineplot(data=results2, x='max_depth', y='%_invest_loss_train', color='blue')\n",
    "sns.lineplot(data=results2, x='max_depth', y='%_invest_loss_test', color='red')\n",
    "\n",
    "fig.legend(['Train','Test'], loc='right')\n",
    "plt.show()"
   ]
  },
  {
   "cell_type": "code",
   "execution_count": 63,
   "metadata": {},
   "outputs": [
    {
     "data": {
      "text/html": [
       "<div>\n",
       "<style scoped>\n",
       "    .dataframe tbody tr th:only-of-type {\n",
       "        vertical-align: middle;\n",
       "    }\n",
       "\n",
       "    .dataframe tbody tr th {\n",
       "        vertical-align: top;\n",
       "    }\n",
       "\n",
       "    .dataframe thead th {\n",
       "        text-align: right;\n",
       "    }\n",
       "</style>\n",
       "<table border=\"1\" class=\"dataframe\">\n",
       "  <thead>\n",
       "    <tr style=\"text-align: right;\">\n",
       "      <th></th>\n",
       "      <th>eta</th>\n",
       "      <th>accuracy_train</th>\n",
       "      <th>accuracy_test</th>\n",
       "      <th>f2_train</th>\n",
       "      <th>f2_test</th>\n",
       "      <th>%_invest_loss_train</th>\n",
       "      <th>%_invest_loss_test</th>\n",
       "    </tr>\n",
       "  </thead>\n",
       "  <tbody>\n",
       "    <tr>\n",
       "      <th>0</th>\n",
       "      <td>0.1</td>\n",
       "      <td>0.963039</td>\n",
       "      <td>0.938258</td>\n",
       "      <td>0.856870</td>\n",
       "      <td>0.594664</td>\n",
       "      <td>0.018909</td>\n",
       "      <td>0.038857</td>\n",
       "    </tr>\n",
       "    <tr>\n",
       "      <th>1</th>\n",
       "      <td>0.2</td>\n",
       "      <td>0.968436</td>\n",
       "      <td>0.947320</td>\n",
       "      <td>0.878288</td>\n",
       "      <td>0.629554</td>\n",
       "      <td>0.016029</td>\n",
       "      <td>0.033827</td>\n",
       "    </tr>\n",
       "    <tr>\n",
       "      <th>2</th>\n",
       "      <td>0.3</td>\n",
       "      <td>0.979199</td>\n",
       "      <td>0.953694</td>\n",
       "      <td>0.918933</td>\n",
       "      <td>0.622733</td>\n",
       "      <td>0.010466</td>\n",
       "      <td>0.031408</td>\n",
       "    </tr>\n",
       "    <tr>\n",
       "      <th>3</th>\n",
       "      <td>0.4</td>\n",
       "      <td>0.981931</td>\n",
       "      <td>0.954769</td>\n",
       "      <td>0.929833</td>\n",
       "      <td>0.621959</td>\n",
       "      <td>0.009051</td>\n",
       "      <td>0.030986</td>\n",
       "    </tr>\n",
       "    <tr>\n",
       "      <th>4</th>\n",
       "      <td>0.5</td>\n",
       "      <td>0.986703</td>\n",
       "      <td>0.957917</td>\n",
       "      <td>0.947293</td>\n",
       "      <td>0.630963</td>\n",
       "      <td>0.006665</td>\n",
       "      <td>0.029373</td>\n",
       "    </tr>\n",
       "    <tr>\n",
       "      <th>5</th>\n",
       "      <td>0.6</td>\n",
       "      <td>0.992397</td>\n",
       "      <td>0.962448</td>\n",
       "      <td>0.969408</td>\n",
       "      <td>0.634446</td>\n",
       "      <td>0.003801</td>\n",
       "      <td>0.027377</td>\n",
       "    </tr>\n",
       "    <tr>\n",
       "      <th>6</th>\n",
       "      <td>0.7</td>\n",
       "      <td>0.994701</td>\n",
       "      <td>0.964752</td>\n",
       "      <td>0.978479</td>\n",
       "      <td>0.632184</td>\n",
       "      <td>0.002650</td>\n",
       "      <td>0.026494</td>\n",
       "    </tr>\n",
       "    <tr>\n",
       "      <th>7</th>\n",
       "      <td>0.8</td>\n",
       "      <td>0.997104</td>\n",
       "      <td>0.965290</td>\n",
       "      <td>0.988121</td>\n",
       "      <td>0.630010</td>\n",
       "      <td>0.001448</td>\n",
       "      <td>0.026340</td>\n",
       "    </tr>\n",
       "    <tr>\n",
       "      <th>8</th>\n",
       "      <td>0.9</td>\n",
       "      <td>0.999177</td>\n",
       "      <td>0.967056</td>\n",
       "      <td>0.996596</td>\n",
       "      <td>0.609037</td>\n",
       "      <td>0.000411</td>\n",
       "      <td>0.026263</td>\n",
       "    </tr>\n",
       "    <tr>\n",
       "      <th>9</th>\n",
       "      <td>1.0</td>\n",
       "      <td>0.999177</td>\n",
       "      <td>0.965520</td>\n",
       "      <td>0.996596</td>\n",
       "      <td>0.605075</td>\n",
       "      <td>0.000411</td>\n",
       "      <td>0.027031</td>\n",
       "    </tr>\n",
       "  </tbody>\n",
       "</table>\n",
       "</div>"
      ],
      "text/plain": [
       "   eta  accuracy_train  accuracy_test  f2_train   f2_test  \\\n",
       "0  0.1        0.963039       0.938258  0.856870  0.594664   \n",
       "1  0.2        0.968436       0.947320  0.878288  0.629554   \n",
       "2  0.3        0.979199       0.953694  0.918933  0.622733   \n",
       "3  0.4        0.981931       0.954769  0.929833  0.621959   \n",
       "4  0.5        0.986703       0.957917  0.947293  0.630963   \n",
       "5  0.6        0.992397       0.962448  0.969408  0.634446   \n",
       "6  0.7        0.994701       0.964752  0.978479  0.632184   \n",
       "7  0.8        0.997104       0.965290  0.988121  0.630010   \n",
       "8  0.9        0.999177       0.967056  0.996596  0.609037   \n",
       "9  1.0        0.999177       0.965520  0.996596  0.605075   \n",
       "\n",
       "   %_invest_loss_train  %_invest_loss_test  \n",
       "0             0.018909            0.038857  \n",
       "1             0.016029            0.033827  \n",
       "2             0.010466            0.031408  \n",
       "3             0.009051            0.030986  \n",
       "4             0.006665            0.029373  \n",
       "5             0.003801            0.027377  \n",
       "6             0.002650            0.026494  \n",
       "7             0.001448            0.026340  \n",
       "8             0.000411            0.026263  \n",
       "9             0.000411            0.027031  "
      ]
     },
     "execution_count": 63,
     "metadata": {},
     "output_type": "execute_result"
    }
   ],
   "source": [
    "results3 = pd.DataFrame()\n",
    "for i in range(0,10):\n",
    "    eta = 0.1 + i*0.1\n",
    "    params = {\n",
    "    'max_depth': 10,\n",
    "    'objective': 'binary:logistic',\n",
    "    'eval_metric': 'logloss',\n",
    "    #'num_class': 2,\n",
    "    'scale_pos_weight': 19.758, \n",
    "    'eta': eta\n",
    "    }\n",
    "    forest_modeling.model = XGBModel(params) #num_round\n",
    "    train_out = forest_modeling.train()\n",
    "    test_out = forest_modeling.test()\n",
    "    results3 = results3.append({'eta': eta,\n",
    "                    'accuracy_train': train_out['accuracy'],\n",
    "                    'accuracy_test': test_out['accuracy'],\n",
    "                    'f2_train': train_out['f2'],            \n",
    "                    'f2_test': test_out['f2'], \n",
    "                    '%_invest_loss_train': np.sum(cost_matrix*train_out['matrix'])/np.sum(train_out['matrix']),\n",
    "                    '%_invest_loss_test': np.sum(cost_matrix*test_out['matrix'])/np.sum(test_out['matrix'])}, \n",
    "                    ignore_index = True)\n",
    "    print(\"eta =\",eta,\"complete\")\n",
    "clear_output()\n",
    "results3"
   ]
  },
  {
   "cell_type": "markdown",
   "metadata": {},
   "source": [
    "### Minimum investing loss without overfitting balanced XGBoost is at eta = 0.4"
   ]
  },
  {
   "cell_type": "code",
   "execution_count": 64,
   "metadata": {},
   "outputs": [
    {
     "data": {
      "image/png": "[encoded data removed]",
      "text/plain": [
       "<Figure size 360x360 with 1 Axes>"
      ]
     },
     "metadata": {
      "needs_background": "light"
     },
     "output_type": "display_data"
    }
   ],
   "source": [
    "fig, axes = plt.subplots(1, 1, figsize=(5, 5))\n",
    "fig.suptitle('XGBoost - Tuning eta')\n",
    "\n",
    "sns.lineplot(data=results3, x='eta', y='%_invest_loss_train', color='blue')\n",
    "sns.lineplot(data=results3, x='eta', y='%_invest_loss_test', color='red')\n",
    "\n",
    "fig.legend(['Train','Test'], loc='right')\n",
    "plt.show()"
   ]
  },
  {
   "cell_type": "code",
   "execution_count": 65,
   "metadata": {},
   "outputs": [
    {
     "name": "stderr",
     "output_type": "stream",
     "text": [
      "C:\\Users\\parit\\Anaconda\\lib\\site-packages\\sklearn\\impute\\_iterative.py:701: ConvergenceWarning: [IterativeImputer] Early stopping criterion not reached.\n",
      "  ConvergenceWarning,\n"
     ]
    }
   ],
   "source": [
    "XGB_Classifier_Model = ClassificationModeling(clean_df(loader.get_df()),'bankrupt',\n",
    "                           StratifiedShuffleSplit(n_splits=1, test_size=0.3, random_state=12343),\n",
    "                           IterativeImputer(missing_values=np.nan, random_state=1234),\n",
    "                           None,\n",
    "                           StandardScaler(), beta=2)\n",
    "XGB_Classifier_Model.prepare()"
   ]
  },
  {
   "cell_type": "markdown",
   "metadata": {},
   "source": [
    "### ?? XGBClassifier is completely overfitting the model using the same parameters tuned with xgb ??"
   ]
  },
  {
   "cell_type": "code",
   "execution_count": 66,
   "metadata": {},
   "outputs": [
    {
     "data": {
      "text/plain": [
       "{'matrix': array([[28919,     0],\n",
       "        [    0,  1464]], dtype=int64),\n",
       " 'accuracy': 1.0,\n",
       " 'precision': 1.0,\n",
       " 'recall': 1.0,\n",
       " 'f1': 1.0,\n",
       " 'f2': 1.0}"
      ]
     },
     "execution_count": 66,
     "metadata": {},
     "output_type": "execute_result"
    }
   ],
   "source": [
    "XGB_Classifier_Model.model = XGBClassifier(max_depth=10, eval_metric='mlogloss', eta=0.4, scale_pos_weight= 19.758)\n",
    "xgb_train1 = XGB_Classifier_Model.train()\n",
    "xgb_train1"
   ]
  },
  {
   "cell_type": "code",
   "execution_count": 67,
   "metadata": {},
   "outputs": [
    {
     "data": {
      "text/plain": [
       "0.0"
      ]
     },
     "execution_count": 67,
     "metadata": {},
     "output_type": "execute_result"
    }
   ],
   "source": [
    "invest_loss_train1 = np.sum(cost_matrix*xgb_train1['matrix'])/np.sum(xgb_train1['matrix'])\n",
    "invest_loss_train1"
   ]
  },
  {
   "cell_type": "code",
   "execution_count": 68,
   "metadata": {},
   "outputs": [
    {
     "data": {
      "text/plain": [
       "{'matrix': array([[12337,    58],\n",
       "        [  242,   385]], dtype=int64),\n",
       " 'accuracy': 0.9769620641990477,\n",
       " 'precision': 0.8690744920993227,\n",
       " 'recall': 0.6140350877192983,\n",
       " 'f1': 0.7196261682242991,\n",
       " 'f2': 0.6523212470349035}"
      ]
     },
     "execution_count": 68,
     "metadata": {},
     "output_type": "execute_result"
    }
   ],
   "source": [
    "xgb_test1 = XGB_Classifier_Model.test()\n",
    "xgb_test1"
   ]
  },
  {
   "cell_type": "code",
   "execution_count": 69,
   "metadata": {},
   "outputs": [
    {
     "data": {
      "text/plain": [
       "0.02081093534019352"
      ]
     },
     "execution_count": 69,
     "metadata": {},
     "output_type": "execute_result"
    }
   ],
   "source": [
    "invest_loss_test1 = np.sum(cost_matrix*xgb_test1['matrix'])/np.sum(xgb_test1['matrix'])\n",
    "invest_loss_test1"
   ]
  },
  {
   "cell_type": "markdown",
   "metadata": {},
   "source": [
    "### Best XGB "
   ]
  },
  {
   "cell_type": "code",
   "execution_count": 71,
   "metadata": {},
   "outputs": [
    {
     "data": {
      "text/plain": [
       "\"params2 = {\\n    'max_depth': 11,\\n    'objective': 'binary:hinge', #'multi:softmax',\\n    #'num_class': 2,\\n    'eta': 0.3\\n}\\n\\nplease_work = ClassificationModeling(clean_df(loader.get_df()),'bankrupt',\\n                                 StratifiedShuffleSplit(n_splits=1, test_size=0.3, random_state=1),\\n                                 IterativeImputer(missing_values=np.nan, random_state=1),\\n                                 XGBModel(params2),\\n                                 StandardScaler(), \\n                                 beta=2)\""
      ]
     },
     "execution_count": 71,
     "metadata": {},
     "output_type": "execute_result"
    }
   ],
   "source": [
    "'''params2 = {\n",
    "    'max_depth': 11,\n",
    "    'objective': 'binary:hinge', #'multi:softmax',\n",
    "    #'num_class': 2,\n",
    "    'eta': 0.3\n",
    "}\n",
    "\n",
    "please_work = ClassificationModeling(clean_df(loader.get_df()),'bankrupt',\n",
    "                                 StratifiedShuffleSplit(n_splits=1, test_size=0.3, random_state=1),\n",
    "                                 IterativeImputer(missing_values=np.nan, random_state=1),\n",
    "                                 XGBModel(params2),\n",
    "                                 StandardScaler(), \n",
    "                                 beta=2)'''"
   ]
  },
  {
   "cell_type": "code",
   "execution_count": null,
   "metadata": {},
   "outputs": [],
   "source": [
    "#please_work.prepare_and_train() # eta=0.6"
   ]
  },
  {
   "cell_type": "code",
   "execution_count": null,
   "metadata": {},
   "outputs": [],
   "source": [
    "#please_work.test() # eta=0.6"
   ]
  },
  {
   "cell_type": "code",
   "execution_count": null,
   "metadata": {},
   "outputs": [],
   "source": [
    "#please_work.prepare_and_train() # eta=0.3"
   ]
  },
  {
   "cell_type": "code",
   "execution_count": null,
   "metadata": {},
   "outputs": [],
   "source": [
    "#please_work.test() # eta=0.3"
   ]
  }
 ],
 "metadata": {
  "kernelspec": {
   "display_name": "Python 3",
   "language": "python",
   "name": "python3"
  },
  "language_info": {
   "codemirror_mode": {
    "name": "ipython",
    "version": 3
   },
   "file_extension": ".py",
   "mimetype": "text/x-python",
   "name": "python",
   "nbconvert_exporter": "python",
   "pygments_lexer": "ipython3",
   "version": "3.7.9"
  }
 },
 "nbformat": 4,
 "nbformat_minor": 4
}
