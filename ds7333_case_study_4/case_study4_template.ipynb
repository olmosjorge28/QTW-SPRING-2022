{
 "cells": [
  {
   "cell_type": "markdown",
   "metadata": {
    "id": "GoCXzNvN8g-8"
   },
   "source": [
    "# Case Study 4 - Decision Trees"
   ]
  },
  {
   "cell_type": "markdown",
   "metadata": {
    "id": "YBy24RcB8g-9"
   },
   "source": [
    "__Team Members:__ Amber Clark, Andrew Leppla, Jorge Olmos, Paritosh Rai"
   ]
  },
  {
   "cell_type": "markdown",
   "metadata": {
    "id": "O4O0up-U8g-9"
   },
   "source": [
    "# Content\n",
    "* [Business Understanding](#business-understanding)\n",
    "    - [Objective](#objective)\n",
    "    - [Introduction](#introduction)\n",
    "    - [Methods](#methods)\n",
    "    - [Results](#results)\n",
    "* [Data Evaluation](#data-evaluation)\n",
    "    - [Loading Data](#loading-data) \n",
    "    - [Data Summary](#data-summary)\n",
    "    - [Missing Values](#missing-values)\n",
    "    - [Feature Removal](#feature-removal)\n",
    "    - [Exploratory Data Analysis (EDA)](#eda)\n",
    "    - [Assumptions](#assumptions)\n",
    "* [Model Preparations](#model-preparations)\n",
    "    - [Sampling & Scaling Data](#sampling-scaling-data)\n",
    "    - [Proposed Method](#proposed-metrics)\n",
    "    - [Evaluation Metrics](#evaluation-metrics)\n",
    "    - [Feature Selection](#feature-selection)\n",
    "* [Model Building & Evaluations](#model-building)\n",
    "    - [Sampling Methodology](#sampling-methodology)\n",
    "    - [Model](#model)\n",
    "    - [Performance Analysis](#performance-analysis)\n",
    "* [Model Interpretability & Explainability](#model-explanation)\n",
    "    - [Examining Feature Importance](#examining-feature-importance)\n",
    "* [Conclusion](#conclusion)\n",
    "    - [Final Model Proposal](#final-model-proposal)\n",
    "    - [Future Considerations and Model Enhancements](#model-enhancements)\n",
    "    - [Alternative Modeling Approaches](#alternative-modeling-approaches)"
   ]
  },
  {
   "cell_type": "markdown",
   "metadata": {
    "id": "TRedT-FB8g_A"
   },
   "source": [
    "# Business Understanding & Executive Summary <a id='business-understanding'/>"
   ]
  },
  {
   "cell_type": "markdown",
   "metadata": {
    "id": "F-4BiuuQOEh4"
   },
   "source": [
    "What are we trying to solve for and why is it important?\n"
   ]
  },
  {
   "cell_type": "markdown",
   "metadata": {
    "id": "_TBIHKRt8g--"
   },
   "source": [
    "### Objective <a id='objective'/>\n",
    "\n",
    "In this case study, the team built a predictive model for determining what factors could indicate whether a company will go bankrupt. The team reviewed the historical data and determined the prime indicators to help an investor determine when to divest from a company ahead of time. \n",
    "\n",
    "\n",
    "### Introduction <a id='introduction'/>\n",
    "\n",
    "Maximizing profits is the prime pursuit of every business. However, the business must have the ability to generate enough revenue and margins to pay debts. Companies' inability to pay off their liabilities in a timely manner can lead to Bankruptcy. \"Bankruptcy is a legal proceeding involving a person or business that is unable to repay their outstanding debts\" [1]. Bankruptcy is the culmination of multiple issues leading to the economic collapse of a company that certainly warrants detailed analysis to identify the early warning indicators to trigger mitigation sooner.\n",
    "Bankruptcy is a very complex subject, and the factors leading to Bankruptcy may vary from one business to another. It is critical that models capture this complexity, and nonlinear models are well suited for this task. The team used nonlinear tree-based classification models to predict the response. One method used to execute this methodology was Random Forest Classification. The Random Forest algorithm generates many independent tree models (also known as bagging). The outcomes of each tree model are pooled together to determine the end result (also known as an ensemble model). \n",
    "Another ensemble learning technique, XGBoost (Extreme Gradient Boosting), was leveraged to build a robust classifier. In contrast to Random Forest, XGBoost builds a sequential series of dependent tree models to enhance the model performance and generalization (also known as boosting).\n",
    "This case study aims to build a classification model that predicts whether a company will enter Bankruptcy based on a wide array of collected financial information about those companies. Data came from companies operating in 2007 to 2013. \n",
    "\n",
    "\n",
    "### Methods <a id='methods'/>\n",
    "\n",
    "\n",
    "#### Data Acquisition and Cleanup (Data Wrangling)\n",
    "\n",
    "The data used in this case study is from the UCI Machine Learning database website [3]. The dataset in its original form was provided as five comma-separated \".arff\" files for each of the five years of the forecast period; these were first combined in a single data frame for this cumulative analysis. There are no names, keys, or indicators of any kind for the instances, and the data is purely based on economic indicators with no references to company sizes, types, industries, or vintages. All 64 predictors are continuous numeric variables (some are nonnegative). The 64 column names for the features use alphanumeric keys (from X1 to X64) instead of the full description of the features for simplicity and ease of use with coding. The full names of each feature are included in the Appendix below. The target variable ‘class’ is set to b’1’ for companies that went bankrupt and b’0’ for companies that did not.  For modeling, this was re-coded as target ‘bankrupt’ set at 1 and 0, respectively.   \n",
    "\n",
    "# TODO: Comeback\n",
    "\n",
    "The predictors all had different scales ranging in the most extreme from XXXXXX to XXXXXX. The tree-based ensemble methods can handle this raw unscaled data effectively. However, the team decided to normalize the data.\n",
    " \n",
    " \n",
    "### Results <a id='results'/>\n",
    " "
   ]
  },
  {
   "cell_type": "markdown",
   "metadata": {
    "id": "PVtcYu5j8g_B"
   },
   "source": [
    "# Data Evaluation/Engineering <a id='data-evaluation'>\n",
    "    "
   ]
  },
  {
   "cell_type": "markdown",
   "metadata": {},
   "source": [
    "## Loading Data <a id='loading-data'>"
   ]
  },
  {
   "cell_type": "code",
   "execution_count": 1,
   "metadata": {},
   "outputs": [
    {
     "data": {
      "text/plain": [
       "\"import warnings\\nwarnings.filterwarnings('ignore')\\nfrom warnings import simplefilter \\nsimplefilter(action='ignore', category=FutureWarning)\""
      ]
     },
     "execution_count": 1,
     "metadata": {},
     "output_type": "execute_result"
    }
   ],
   "source": [
    "# standard libraries\n",
    "import pandas as pd\n",
    "import numpy as np\n",
    "#import re\n",
    "import os\n",
    "from IPython.display import Image\n",
    "#import sklearn\n",
    "#import time\n",
    "\n",
    "# visualization\n",
    "import seaborn as sns\n",
    "import matplotlib.pyplot as plt\n",
    "%matplotlib inline\n",
    "from tabulate import tabulate\n",
    "from IPython.display import clear_output\n",
    "import xgboost\n",
    "\n",
    "# data pre-processing\n",
    "from scipy.io import arff\n",
    "#from sklearn.model_selection import train_test_split\n",
    "from sklearn.experimental import enable_iterative_imputer\n",
    "from sklearn.impute import SimpleImputer, KNNImputer, IterativeImputer\n",
    "from sklearn.impute._base import _BaseImputer\n",
    "from sklearn.model_selection import StratifiedShuffleSplit\n",
    "from sklearn.model_selection._split import BaseShuffleSplit\n",
    "from sklearn.datasets import load_digits\n",
    "from sklearn.preprocessing import MinMaxScaler, StandardScaler\n",
    "\n",
    "# prediction models\n",
    "from sklearn.ensemble import RandomForestClassifier\n",
    "import xgboost as xgb\n",
    "from xgboost import XGBClassifier\n",
    "from sklearn.model_selection import cross_val_score\n",
    "from sklearn.metrics import f1_score\n",
    "from sklearn.metrics import confusion_matrix\n",
    "from sklearn.metrics import accuracy_score\n",
    "from sklearn.metrics import precision_score\n",
    "from sklearn.metrics import recall_score\n",
    "from sklearn.metrics import fbeta_score\n",
    "\n",
    "# import warnings filter\n",
    "'''import warnings\n",
    "warnings.filterwarnings('ignore')\n",
    "from warnings import simplefilter \n",
    "simplefilter(action='ignore', category=FutureWarning)'''"
   ]
  },
  {
   "cell_type": "code",
   "execution_count": 2,
   "metadata": {},
   "outputs": [],
   "source": [
    "from os import listdir\n",
    "from os.path import isfile, join\n",
    "\n",
    "class FilePathManager:\n",
    "    def __init__(self, local_dir: str):\n",
    "        self.local_dir = local_dir\n",
    "    \n",
    "    def retrieve_full_path(self):\n",
    "        return os.getcwd()+'/'+self.local_dir"
   ]
  },
  {
   "cell_type": "code",
   "execution_count": 3,
   "metadata": {},
   "outputs": [],
   "source": [
    "class ARFFLoader:\n",
    "    df = pd.DataFrame()\n",
    "    \n",
    "    def __init__(self, file_path_manager: FilePathManager):\n",
    "        self.file_path_manager = file_path_manager\n",
    "    \n",
    "    def load_data(self):\n",
    "        files = self.retrieve_files()\n",
    "        for file in files:\n",
    "            self.df = pd.concat([self.df, self.load_file(file)])\n",
    "        self.df=self.df.reset_index(drop=True)\n",
    "        \n",
    "    def load_file(self, file_name):\n",
    "        return pd.DataFrame(arff.loadarff(self.file_path_manager.retrieve_full_path()+'/'+file_name)[0])\n",
    " \n",
    "    def retrieve_files(self):\n",
    "        full_path = self.file_path_manager.retrieve_full_path()\n",
    "        return [f for f in os.listdir(full_path) if os.path.isfile(join(full_path, f))]\n",
    "    \n",
    "    def get_df(self):\n",
    "        return self.df;\n",
    "    \n",
    "    def size(self):\n",
    "        return len(self.df)"
   ]
  },
  {
   "cell_type": "code",
   "execution_count": 4,
   "metadata": {},
   "outputs": [],
   "source": [
    "def clean_df(df: pd.DataFrame):\n",
    "    df['bankrupt'] = ( df['class'] == df['class'][df.shape[0]-1] ).astype(int)\n",
    "    df = df.drop('class', axis=1)\n",
    "    return df;"
   ]
  },
  {
   "cell_type": "code",
   "execution_count": 5,
   "metadata": {},
   "outputs": [],
   "source": [
    "path_manager = FilePathManager('data')\n",
    "loader = ARFFLoader(path_manager)\n",
    "loader.load_data()"
   ]
  },
  {
   "cell_type": "code",
   "execution_count": 6,
   "metadata": {},
   "outputs": [],
   "source": [
    "df = clean_df(loader.get_df())"
   ]
  },
  {
   "cell_type": "markdown",
   "metadata": {
    "id": "ZsIJIUSjOLcl"
   },
   "source": [
    "Summarize data being used?\n",
    "\n",
    "Are there missing values?\n",
    "\n",
    "Which variables are needed and which are not?\n",
    "\n",
    "What assumptions or conclusions are you drawing about your data?"
   ]
  },
  {
   "cell_type": "markdown",
   "metadata": {},
   "source": [
    "\n",
    "#### Data Acquisition and Cleanup (Data Wrangling)\n",
    "\n",
    "The data used in this case study is from the UCI Machine Learning database website [3]. The dataset in its original form was provided as five comma-separated \".arff\" files for each of the five years of the forecast period; these were first combined in a single data frame for this cumulative analysis. There are no names, keys, or indicators of any kind for the instances, and the data is purely based on economic indicators with no references to company sizes, types, industries, or vintages. All 64 predictors are continuous numeric variables (some are nonnegative). The 64 column names for the features use alphanumeric keys (from X1 to X64) instead of the full description of the features for simplicity and ease of use with coding. The full names of each feature are included in the Appendix below. The target variable ‘class’ is set to b’1’ for companies that went bankrupt and b’0’ for companies that did not.  For modeling, this was re-coded as target ‘bankrupt’ set at 1 and 0, respectively.   \n",
    "\n",
    "# TODO: Comeback\n",
    "\n",
    "The predictors all had different scales ranging in the most extreme from XXXXXX to XXXXXX. The tree-based ensemble methods can handle this raw unscaled data effectively. However, the team decided to normalize the data."
   ]
  },
  {
   "cell_type": "markdown",
   "metadata": {},
   "source": [
    "| Variable | Description                                                                                                         |\n",
    "|----------|---------------------------------------------------------------------------------------------------------------------|\n",
    "| X1       | net profit / total assets                                                                                           |\n",
    "| X2       | total liabilities / total assets                                                                                    |\n",
    "| X3       | working capital / total assets                                                                                      |\n",
    "| X4       | current assets / short-term liabilities                                                                             |\n",
    "| X5       | [(cash + short-term securities + receivables - short-term liabilities) / (operating expenses - depreciation)] * 365 |\n",
    "| X6       | retained earnings / total assets                                                                                    |\n",
    "| X7       | EBIT / total assets                                                                                                 |\n",
    "| X8       | book value of equity / total liabilities                                                                            |\n",
    "| X9       | sales / total assets                                                                                                |\n",
    "| X10      | equity / total assets                                                                                               |\n",
    "| X11      | (gross profit + extraordinary items + financial expenses) / total assets                                            |\n",
    "| X12      | gross profit / short-term liabilities                                                                               |\n",
    "| X13      | (gross profit + depreciation) / sales                                                                               |\n",
    "| X14      | (gross profit + interest) / total assets                                                                            |\n",
    "| X15      | (total liabilities * 365) / (gross profit + depreciation)                                                           |\n",
    "| X16      | (gross profit + depreciation) / total liabilities                                                                   |\n",
    "| X17      | total assets / total liabilities                                                                                    |\n",
    "| X18      | gross profit / total assets                                                                                         |\n",
    "| X19      | gross profit / sales                                                                                                |\n",
    "| X20      | (inventory * 365) / sales                                                                                           |\n",
    "| X21      | sales (n) / sales (n-1)                                                                                             |\n",
    "| X22      | profit on operating activities / total assets                                                                       |\n",
    "| X23      | net profit / sales                                                                                                  |\n",
    "| X24      | gross profit (in 3 years) / total assets                                                                            |\n",
    "| X25      | (equity - share capital) / total assets                                                                             |\n",
    "| X26      | (net profit + depreciation) / total liabilities                                                                     |\n",
    "| X27      | profit on operating activities / financial expenses                                                                 |\n",
    "| X28      | working capital / fixed assets                                                                                      |\n",
    "| X29      | logarithm of total assets                                                                                           |\n",
    "| X30      | (total liabilities - cash) / sales                                                                                  |\n",
    "| X31      | (gross profit + interest) / sales                                                                                   |\n",
    "| X32      | (current liabilities * 365) / cost of products sold                                                                 |\n",
    "| X33      | operating expenses / short-term liabilities                                                                         |\n",
    "| X34      | operating expenses / total liabilities                                                                              |\n",
    "| X35      | profit on sales / total assets                                                                                      |\n",
    "| X36      | total sales / total assets                                                                                          |\n",
    "| X37      | (current assets - inventories) / long-term liabilities                                                              |\n",
    "| X38      | constant capital / total assets                                                                                     |\n",
    "| X39      | profit on sales / sales                                                                                             |\n",
    "| X40      | (current assets - inventory - receivables) / short-term liabilities                                                 |\n",
    "| X41      | total liabilities / ((profit on operating activities + depreciation) * (12/365))                                    |\n",
    "| X42      | profit on operating activities / sales                                                                              |\n",
    "| X43      | rotation receivables + inventory turnover in days                                                                   |\n",
    "| X44      | (receivables * 365) / sales                                                                                         |\n",
    "| X45      | net profit / inventory                                                                                              |\n",
    "| X46      | (current assets - inventory) / short-term liabilities                                                               |\n",
    "| X47      | (inventory * 365) / cost of products sold                                                                           |\n",
    "| X48      | EBITDA (profit on operating activities - depreciation) / total assets                                               |\n",
    "| X49      | EBITDA (profit on operating activities - depreciation) / sales                                                      |\n",
    "| X50      | current assets / total liabilities                                                                                  |\n",
    "| X51      | short-term liabilities / total assets                                                                               |\n",
    "| X52      | (short-term liabilities * 365) / cost of products sold)                                                             |\n",
    "| X53      | equity / fixed assets                                                                                               |\n",
    "| X54      | constant capital / fixed assets                                                                                     |\n",
    "| X55      | working capital                                                                                                     |\n",
    "| X56      | (sales - cost of products sold) / sales                                                                             |\n",
    "| X57      | (current assets - inventory - short-term liabilities) / (sales - gross profit - depreciation)                       |\n",
    "| X58      | total costs /total sales                                                                                            |\n",
    "| X59      | long-term liabilities / equity                                                                                      |\n",
    "| X60      | sales / inventory                                                                                                   |\n",
    "| X61      | sales / receivables                                                                                                 |\n",
    "| X62      | (short-term liabilities *365) / sales                                                                               |\n",
    "| X63      | sales / short-term liabilities                                                                                      |\n",
    "| X64      | sales / fixed assets                                                                                                |"
   ]
  },
  {
   "cell_type": "markdown",
   "metadata": {
    "id": "ox-qLqjc8g_B"
   },
   "source": [
    "## Missing Values <a id='missing-values'>\n",
    "    \n",
    "Many features had missing values, but there were two features in particular with large amounts of missing data: Attr37 = (current assets - inventories) / (long-term liabilities) with 46% missing data, and Attr27 = (profit on operating activities) / (financial expenses) with 14% missing data.  Attr27 had significantly more missing values for bankrupt (orange, 1) vs. not bankrupt (blue, 0).  This could be exploited for predicting bankruptcy.    "
   ]
  },
  {
   "cell_type": "code",
   "execution_count": 7,
   "metadata": {
    "id": "4WcvKI3y8g_C"
   },
   "outputs": [],
   "source": [
    "missing_0 = df[df['bankrupt']==0].isnull().sum()\n",
    "pct_missing_0 = missing_0/missing_0.sum()\n",
    "missing_1 = df[df['bankrupt']==1].isnull().sum()\n",
    "pct_missing_1 = missing_1/missing_1.sum()\n",
    "pct_missing_by_bankruptcy = pd.concat([pct_missing_0, pct_missing_1], axis=1)\n",
    "pct_missing_by_bankruptcy.columns = ['0','1']"
   ]
  },
  {
   "cell_type": "code",
   "execution_count": 8,
   "metadata": {},
   "outputs": [
    {
     "data": {
      "image/png": "[encoded data removed]",
      "text/plain": [
       "<Figure size 1080x216 with 1 Axes>"
      ]
     },
     "metadata": {
      "needs_background": "light"
     },
     "output_type": "display_data"
    }
   ],
   "source": [
    "plt.figure(figsize=(15,3))\n",
    "sns.lineplot(data = pct_missing_by_bankruptcy)\n",
    "plt.xticks(rotation=90)\n",
    "plt.title('Percent Missing Values vs. Bankruptcy')\n",
    "plt.show()"
   ]
  },
  {
   "cell_type": "markdown",
   "metadata": {
    "id": "ZDhb7boF8g_D"
   },
   "source": [
    "SKLearn’s RandomForestClassifier cannot handle missing values automatically.  Therefore, all missing values were initially replaced simply with the median value for each feature from the training data.  The median (vs. the mean) was used because most features were highly skewed and had extreme outliers (refer to Box plots in the Appendix).\n",
    "\n",
    "However, missing values in financial data are typically not Missing at Random; data reporting in finance is highly regulated with oversight from auditors.  Finance data tend to be missing because they are not able to be reported for specific reasons.  For example, most of the features are ratios, so if the denominator = 0 that would result in dividing by zero which is not reportable.  Therefore, this median imputation method for handling missing data may not be appropriate. \n",
    "\n",
    "The XGBoost algorithm was able to handle missing values automatically.  From the xgboost documentation,  \"XGBoost supports missing values by default. In tree algorithms, branch directions for missing values are learned during training.\"\n",
    "\n",
    "An Iterative Imputer was also used as a more sophisticated, albeit more computationally expensive way to replace missing values.  Per the sklearn documentation, it “models each feature with missing values as a function of other features” using regression.  It starts with imputing the feature with the least amount of missing values, and it builds up iteratively to the feature with the most missing values.  This method gave the best overall model results for both Random Forest and XGBoost.  \n",
    "\n",
    "Note: All imputation and normalization were carried out post-splitting of data into training and test data independent of each other to prevent data leakage between training and test data set. \n"
   ]
  },
  {
   "cell_type": "code",
   "execution_count": null,
   "metadata": {},
   "outputs": [],
   "source": []
  },
  {
   "cell_type": "markdown",
   "metadata": {
    "id": "Aws5HAx98g_E"
   },
   "source": [
    "\n",
    "\n"
   ]
  },
  {
   "cell_type": "code",
   "execution_count": null,
   "metadata": {},
   "outputs": [],
   "source": []
  },
  {
   "cell_type": "markdown",
   "metadata": {
    "id": "21Kdalsl8g_I"
   },
   "source": [
    "## TODO: Feature Removal <a id='feature-removal'>"
   ]
  },
  {
   "cell_type": "markdown",
   "metadata": {
    "id": "786e5_En8g_J"
   },
   "source": []
  },
  {
   "cell_type": "code",
   "execution_count": null,
   "metadata": {
    "id": "nbvlZHwG8g_J"
   },
   "outputs": [],
   "source": []
  },
  {
   "cell_type": "markdown",
   "metadata": {
    "id": "CbAmkozvN5Dz"
   },
   "source": [
    "## Exploratory Data Analysis (EDA) <a id='eda'>"
   ]
  },
  {
   "cell_type": "markdown",
   "metadata": {},
   "source": [
    "### Data Imbalance\n",
    "\n",
    "Looking at the distribution of the target outcome (i.e., whether a company went bankrupt or not), the data is heavily imbalanced. As expected, the proportion of companies that went bankrupt is significantly less compared to the ones that did not.\n"
   ]
  },
  {
   "cell_type": "code",
   "execution_count": 9,
   "metadata": {},
   "outputs": [
    {
     "data": {
      "image/png": "[encoded data removed]",
      "text/plain": [
       "<Figure size 432x288 with 1 Axes>"
      ]
     },
     "metadata": {
      "needs_background": "light"
     },
     "output_type": "display_data"
    }
   ],
   "source": [
    "df['bankrupt'].value_counts().plot(kind='barh', title='Bankruptcy Indicator Counts');"
   ]
  },
  {
   "cell_type": "markdown",
   "metadata": {},
   "source": [
    "The team decided to use stratified splitting technique during the train-test split process to ensure the proportion of target variable remains same in both the train and test data sets."
   ]
  },
  {
   "cell_type": "code",
   "execution_count": 10,
   "metadata": {},
   "outputs": [
    {
     "data": {
      "image/png": "[encoded data removed]",
      "text/plain": [
       "<Figure size 1224x1224 with 64 Axes>"
      ]
     },
     "metadata": {
      "needs_background": "light"
     },
     "output_type": "display_data"
    }
   ],
   "source": [
    "features = df.drop('bankrupt', axis=1).columns\n",
    "fig, axes = plt.subplots(8, 8, figsize=(17, 17))\n",
    "fig.suptitle('Feature Boxplots')\n",
    "for i,j in zip(features, range(64)):\n",
    "    sns.boxplot(ax = axes[int(j/8), j%8], x = df.drop('bankrupt', axis=1)[i])\n",
    "\n",
    "fig.tight_layout()"
   ]
  },
  {
   "cell_type": "markdown",
   "metadata": {
    "id": "zmuI_mep8g_b"
   },
   "source": [
    "# Model Preparations <a id='model-preparations'/>"
   ]
  },
  {
   "cell_type": "markdown",
   "metadata": {
    "id": "wxBwihRyOfZY"
   },
   "source": []
  },
  {
   "cell_type": "markdown",
   "metadata": {
    "id": "cXqoLTm_8g_c"
   },
   "source": [
    "## Proposed Method <a id='proposed-metrics' />"
   ]
  },
  {
   "cell_type": "markdown",
   "metadata": {
    "id": "0lLPX93kN5D6"
   },
   "source": [
    "Which methods are you proposing to utilize to solve the problem?"
   ]
  },
  {
   "cell_type": "markdown",
   "metadata": {},
   "source": [
    "Why is this method appropriate given the business objective? "
   ]
  },
  {
   "cell_type": "markdown",
   "metadata": {},
   "source": [
    "TODO: __How will you determine if your approach is useful (or how will you differentiate which approach is more useful than another)?__"
   ]
  },
  {
   "cell_type": "markdown",
   "metadata": {},
   "source": [
    "Bankruptcy is a very complex subject, and the factors leading to Bankruptcy may vary from one business to another. It is critical that models capture this complexity, and nonlinear models are well suited for this task. The team used nonlinear tree-based classification models to predict the response. One method used to execute this methodology was Random Forest Classification. The Random Forest algorithm generates many independent tree models (also known as bagging). The outcomes of each tree model are pooled together to determine the end result (also known as an ensemble model). \n",
    "\n",
    "Another ensemble learning technique, XGBoost (Extreme Gradient Boosting), was leveraged to build a robust classifier. In contrast to Random Forest, XGBoost builds a sequential series of dependent tree models to enhance the model performance and generalization (also known as boosting).\n",
    "\n",
    "\n",
    "This case study aims to build a classification model that predicts whether a company will enter Bankruptcy based on a wide array of collected financial information about those companies. Data came from companies operating in 2007 to 2013. \n"
   ]
  },
  {
   "cell_type": "markdown",
   "metadata": {},
   "source": [
    "## TODO: Sampling & Scaling Data"
   ]
  },
  {
   "cell_type": "markdown",
   "metadata": {},
   "source": [
    "The dataset was first split into training and test sets with 30% of the data reserved for the test set. The target class is heavily imbalanced as discussed above, with only about 5% of the outcomes being bankruptcy. So, the test/train split was done using the stratified option to maintain the ratio of outcomes. "
   ]
  },
  {
   "cell_type": "markdown",
   "metadata": {
    "id": "HT4eeZsX8g_c"
   },
   "source": [
    "## Evaluation Metrics <a id='evaluation-metrics' />"
   ]
  },
  {
   "cell_type": "markdown",
   "metadata": {
    "id": "hGvfqpC4N5D6"
   },
   "source": [
    "More specifically, what evaluation metrics are most useful given that the problem is a binary-classification one (ex., Accuracy, F1-score, Precision, Recall, AUC, etc.)?"
   ]
  },
  {
   "cell_type": "markdown",
   "metadata": {},
   "source": [
    "The metric used to evaluate model performance were the total costs of false negatives (FN) and false positives (FP).       \n",
    "\n",
    "A False Negative (FN) is \"Incorrectly predicting Bankruptcy to be Solvency\" which is related to Recall.  The cost of a False Negative is assumed to be a 100% loss (unless the investor has some protections or agreements in place).\n",
    "\n",
    "A False Positive (FP) is \"Incorrectly predicting Solvency to be Bankruptcy\" which is related to Precision.  The team assumes a False Positive occurs for a company that is already under significant financial duress, likely with investor losses of approximately 50% or more.  An investor would likely act on this prediction by selling some or all of the asset to cut their losses.  The company in fact won’t go bankrupt, and the future outcome for investors is uncertain and could vary widely: it may suffer further losses, recover some or all of its losses, or return a gain longer term.\n",
    "\n",
    "The total costs (losses) to investors were calculated as follows:\n",
    "\n",
    "__Total  investor costs (losses) = (100%*FP + 50%*FN)__\n",
    "\n",
    "To directly compare training and test sets, the total investor losses were normalized as “% total investor loss” by dividing by the number of companies (instances) in the training and test sets, respectively.           "
   ]
  },
  {
   "cell_type": "code",
   "execution_count": 11,
   "metadata": {},
   "outputs": [
    {
     "data": {
      "text/plain": [
       "array([[0. , 0.5],\n",
       "       [1. , 0. ]])"
      ]
     },
     "execution_count": 11,
     "metadata": {},
     "output_type": "execute_result"
    }
   ],
   "source": [
    "cost_matrix = np.array([[0,0.5],[1,0]])\n",
    "cost_matrix"
   ]
  },
  {
   "cell_type": "markdown",
   "metadata": {
    "id": "w459qqI-N5D7"
   },
   "source": [
    " "
   ]
  },
  {
   "cell_type": "markdown",
   "metadata": {
    "id": "UuRjMsjg8g_d"
   },
   "source": [
    "# Model Building & Evaluations <a id='model-building'/>"
   ]
  },
  {
   "cell_type": "markdown",
   "metadata": {
    "id": "JIef6T0FPIVM"
   },
   "source": [
    "In this case, your primary task is to build both a Random Forest and XGBoost model to accurately predict bankruptcy and will involve the following steps:\n",
    "\n",
    "- Specify your sampling methodology\n",
    "- Setup your models - highlighting any important parameters\n",
    "- Analyze each model's performance - referencing your chosen evaluation metric (including supplemental visuals and analysis where appropriate)"
   ]
  },
  {
   "cell_type": "markdown",
   "metadata": {},
   "source": [
    "The team’s objective was to minimize the Total investor costs (losses) without overfitting the model.  Overfitting is defined as the training set outperforming the test set (lower losses for the training set)\n",
    "The team assumes investors are well-diversified and don’t have more than 1-5% of their portfolio in any single company. \n",
    "\n",
    "The purpose of this modeling exercise is to predict companies that may go bankrupt so that the business can make relevant divestiture decisions or trigger other mitigation strategies to minimize the losses. \n"
   ]
  },
  {
   "cell_type": "markdown",
   "metadata": {},
   "source": [
    "## Sampling Methodology"
   ]
  },
  {
   "cell_type": "markdown",
   "metadata": {},
   "source": [
    "The dataset was first split into training and test sets with 30% of the data reserved for the test set. The target class is heavily imbalanced as discussed above, with only about 5% of the outcomes being bankruptcy. So, the test/train split was done using the stratified option to maintain the ratio of outcomes. "
   ]
  },
  {
   "cell_type": "markdown",
   "metadata": {},
   "source": [
    "## Modeling"
   ]
  },
  {
   "cell_type": "code",
   "execution_count": 12,
   "metadata": {},
   "outputs": [],
   "source": [
    "from abc import ABC, abstractmethod\n",
    "\n",
    "class BaseImputer:\n",
    "    @abstractmethod\n",
    "    def fit(self, X, y=None):\n",
    "        pass\n",
    "    \n",
    "    @abstractmethod\n",
    "    def transform(self, X):\n",
    "        pass\n",
    "\n",
    "class BaseModel:\n",
    "    @abstractmethod\n",
    "    def fit(self, X, y, sample_weight=None):\n",
    "        pass\n",
    "    \n",
    "    @abstractmethod\n",
    "    def predict(self, X):\n",
    "        pass"
   ]
  },
  {
   "cell_type": "code",
   "execution_count": 13,
   "metadata": {},
   "outputs": [],
   "source": [
    "class XGBModel:\n",
    "    _model = None\n",
    "    \n",
    "    def __init__(self, params, num_round: int = 100):\n",
    "        self._params = params\n",
    "        self._num_round = num_round\n",
    "        \n",
    "    def fit(self, X, y, sample_weight=None):\n",
    "        dtrain = xgb.DMatrix(X, label = y)\n",
    "        self._model = xgb.train(self._params, dtrain)\n",
    "        \n",
    "    def predict(self, X):\n",
    "        dtest = xgb.DMatrix(X)\n",
    "        return self._model.predict(dtest)\n",
    "        "
   ]
  },
  {
   "cell_type": "code",
   "execution_count": 14,
   "metadata": {},
   "outputs": [],
   "source": [
    "class Modeling:\n",
    "    _X_train_fitted = None\n",
    "    _X_test_fitted = None\n",
    "    _y_train = None\n",
    "    _y_test = None\n",
    "    _y_preds = None\n",
    "    \n",
    "    def __init__(self, data: pd.DataFrame, \n",
    "                 target_name: str, \n",
    "                 shuffle_splitter: BaseShuffleSplit, \n",
    "                 imputer: BaseImputer, \n",
    "                 model: BaseModel, scaler = None):\n",
    "        self._data = data\n",
    "        self._target_name = target_name\n",
    "        self._shuffle_splitter = shuffle_splitter\n",
    "        self._imputer = imputer\n",
    "        self._model = model\n",
    "        self._X, self._y = self._split_data()\n",
    "        self._scaler = scaler\n",
    "        \n",
    "    @property\n",
    "    def X(self):\n",
    "        return self._X\n",
    "    \n",
    "    @property\n",
    "    def y(self):\n",
    "        return self._y\n",
    "\n",
    "    @property\n",
    "    def model(self):\n",
    "        return self._model\n",
    "    \n",
    "    @model.setter\n",
    "    def model(self, model):\n",
    "        self._model = model\n",
    "     \n",
    "    @property\n",
    "    def X_train(self):\n",
    "        return self._X_train_fitted\n",
    "    \n",
    "    @property\n",
    "    def X_test(self):\n",
    "        return self._X_test_fitted\n",
    "    \n",
    "    @property\n",
    "    def y_train(self):\n",
    "        return self._y_train\n",
    "    \n",
    "    @property\n",
    "    def y_test(self):\n",
    "        return self._y_test\n",
    "    \n",
    "    @property\n",
    "    def y_preds(self):\n",
    "        return self._y_preds\n",
    "    \n",
    "    def _split_data(self):\n",
    "        X = self._data.copy()\n",
    "        return X.drop([self._target_name], axis=1) , X[self._target_name]\n",
    "    \n",
    "    def _shuffle_split(self):\n",
    "        X = self.X\n",
    "        y = self.y\n",
    "        for train_index, test_index in self._shuffle_splitter.split(X,y):\n",
    "            X_train, X_test = X.iloc[train_index], X.iloc[test_index]\n",
    "            y_train, y_test = y[train_index], y[test_index]\n",
    "        return X_train, X_test, y_train, y_test\n",
    "    \n",
    "    def _fit_imputer(self, train):\n",
    "        if self._imputer is not None:\n",
    "            self._imputer.fit(train)\n",
    "    \n",
    "    def _fit_scaler(self, train):\n",
    "        if self._scaler is not None:\n",
    "            self._scaler.fit(train)\n",
    "    \n",
    "    def _impute_data(self, X: pd.DataFrame):\n",
    "        if self._imputer is not None:\n",
    "            return pd.DataFrame(self._imputer.transform(X), columns = self.X.columns, index = X.index)\n",
    "        return X\n",
    "    \n",
    "    def _scale_data(self, X: pd.DataFrame):\n",
    "        if self._scaler is not None:\n",
    "            X = pd.DataFrame(self._scaler.transform(X), columns = self._X.columns)\n",
    "        return X\n",
    "    \n",
    "    def prepare(self):\n",
    "        X_train, X_test, y_train, y_test = self._shuffle_split()   \n",
    "        self._fit_imputer(X_train)\n",
    "        X_train = self._impute_data(X_train)\n",
    "        X_test = self._impute_data(X_test)\n",
    "        self._fit_scaler(X_train)\n",
    "        self._X_train_fitted = self._scale_data(X_train)\n",
    "        self._X_test_fitted = self._scale_data(X_test)\n",
    "        self._y_train = y_train\n",
    "        self._y_test = y_test\n",
    "        \n",
    "    def prepare_and_train(self):\n",
    "        self.prepare()\n",
    "        return self.train()\n",
    "        \n",
    "    def train(self):\n",
    "        self._model.fit(self.X_train, self.y_train)\n",
    "        self._y_preds = self._model.predict(self.X_train)\n",
    "        \n",
    "        return self.metrics(self.y_train, self.y_preds)\n",
    "        \n",
    "    def test(self):\n",
    "        return self.metrics(self.y_test, self._model.predict(self.X_test))\n",
    "       \n",
    "    @abstractmethod\n",
    "    def metrics(self, y_true = None, y_pred = None):\n",
    "        pass\n",
    "        "
   ]
  },
  {
   "cell_type": "code",
   "execution_count": 15,
   "metadata": {},
   "outputs": [],
   "source": [
    "class ClassificationModeling(Modeling):\n",
    "    def __init__(self, \n",
    "                 data: pd.DataFrame, \n",
    "                 target_name: str, \n",
    "                 shuffle_splitter: BaseShuffleSplit, \n",
    "                 imputer: BaseImputer, \n",
    "                 model: BaseModel, \n",
    "                 scaler = None, \n",
    "                 beta: int = 1, \n",
    "                 classification: str = 'binary'):\n",
    "        super().__init__(data, target_name, shuffle_splitter, imputer, model, scaler)\n",
    "        self.beta = beta\n",
    "        self.classification = classification\n",
    "    \n",
    "    def metrics(self, y_true = None, y_pred = None):\n",
    "        if y_true is None and y_pred is None:\n",
    "            y_true = self.y_train\n",
    "            y_pred = self.y_preds\n",
    "        if type(y_pred[0]) is np.int32: # RandomForest, xbg binary:hinge, xbg multi:softmax\n",
    "            return ({'matrix': confusion_matrix(y_true, y_pred), \n",
    "                'accuracy': accuracy_score(y_true, y_pred), \n",
    "                'precision': precision_score(y_true, y_pred, average=self.classification), \n",
    "                'recall': recall_score(y_true, y_pred, average=self.classification),\n",
    "                 'f1': f1_score(y_true, y_pred),\n",
    "                'f{}'.format(self.beta) : fbeta_score(y_true, y_pred, average=self.classification, beta=self.beta) } )\n",
    "        else: # to handle xbg binary:logistic with class_weights\n",
    "            y_pred = pd.Series( (y_pred>0.5).astype(int), index=y_true.index) \n",
    "            return ({'matrix': confusion_matrix(y_true, y_pred), \n",
    "                'accuracy': accuracy_score(y_true, y_pred), \n",
    "                'precision': precision_score(y_true, y_pred, average=self.classification), \n",
    "                'recall': recall_score(y_true, y_pred, average=self.classification),\n",
    "                 'f1': f1_score(y_true, y_pred),\n",
    "                'f{}'.format(self.beta) : fbeta_score(y_true, y_pred, average=self.classification, beta=self.beta) } )\n",
    "        "
   ]
  },
  {
   "cell_type": "code",
   "execution_count": 16,
   "metadata": {},
   "outputs": [
    {
     "name": "stderr",
     "output_type": "stream",
     "text": [
      "C:\\Users\\allep\\anaconda3\\envs\\MyEnv3_7\\lib\\site-packages\\sklearn\\impute\\_iterative.py:686: ConvergenceWarning: [IterativeImputer] Early stopping criterion not reached.\n",
      "  \" reached.\", ConvergenceWarning)\n"
     ]
    }
   ],
   "source": [
    "classifier = ClassificationModeling(clean_df(loader.get_df()),'bankrupt',\n",
    "                           StratifiedShuffleSplit(n_splits=1, test_size=0.3, random_state=12343),\n",
    "                           IterativeImputer(missing_values=np.nan, random_state=1234),\n",
    "                           None,\n",
    "                           StandardScaler(), beta=2)\n",
    "classifier.prepare()"
   ]
  },
  {
   "cell_type": "markdown",
   "metadata": {
    "id": "hDVXhO8F8g_d",
    "scrolled": true
   },
   "source": [
    "### Random Forest Model"
   ]
  },
  {
   "cell_type": "markdown",
   "metadata": {},
   "source": [
    "#### Metrics vs. Max Tree Depth"
   ]
  },
  {
   "cell_type": "markdown",
   "metadata": {},
   "source": [
    "##### No Class Weights"
   ]
  },
  {
   "cell_type": "code",
   "execution_count": 18,
   "metadata": {},
   "outputs": [
    {
     "data": {
      "text/html": [
       "<div>\n",
       "<style scoped>\n",
       "    .dataframe tbody tr th:only-of-type {\n",
       "        vertical-align: middle;\n",
       "    }\n",
       "\n",
       "    .dataframe tbody tr th {\n",
       "        vertical-align: top;\n",
       "    }\n",
       "\n",
       "    .dataframe thead th {\n",
       "        text-align: right;\n",
       "    }\n",
       "</style>\n",
       "<table border=\"1\" class=\"dataframe\">\n",
       "  <thead>\n",
       "    <tr style=\"text-align: right;\">\n",
       "      <th></th>\n",
       "      <th>%_invest_loss_test</th>\n",
       "      <th>%_invest_loss_train</th>\n",
       "      <th>accuracy_test</th>\n",
       "      <th>accuracy_train</th>\n",
       "      <th>f1_test</th>\n",
       "      <th>f1_train</th>\n",
       "      <th>f2_test</th>\n",
       "      <th>f2_train</th>\n",
       "      <th>max_depth</th>\n",
       "    </tr>\n",
       "  </thead>\n",
       "  <tbody>\n",
       "    <tr>\n",
       "      <th>0</th>\n",
       "      <td>4.753494</td>\n",
       "      <td>4.769114</td>\n",
       "      <td>0.952465</td>\n",
       "      <td>0.952309</td>\n",
       "      <td>0.025197</td>\n",
       "      <td>0.020284</td>\n",
       "      <td>0.015898</td>\n",
       "      <td>0.012775</td>\n",
       "      <td>4.0</td>\n",
       "    </tr>\n",
       "    <tr>\n",
       "      <th>1</th>\n",
       "      <td>4.630625</td>\n",
       "      <td>4.637462</td>\n",
       "      <td>0.953694</td>\n",
       "      <td>0.953625</td>\n",
       "      <td>0.073733</td>\n",
       "      <td>0.072416</td>\n",
       "      <td>0.047393</td>\n",
       "      <td>0.046523</td>\n",
       "      <td>5.0</td>\n",
       "    </tr>\n",
       "    <tr>\n",
       "      <th>2</th>\n",
       "      <td>4.523115</td>\n",
       "      <td>4.443274</td>\n",
       "      <td>0.954769</td>\n",
       "      <td>0.955567</td>\n",
       "      <td>0.114286</td>\n",
       "      <td>0.144487</td>\n",
       "      <td>0.074627</td>\n",
       "      <td>0.095477</td>\n",
       "      <td>6.0</td>\n",
       "    </tr>\n",
       "    <tr>\n",
       "      <th>3</th>\n",
       "      <td>4.039318</td>\n",
       "      <td>3.692855</td>\n",
       "      <td>0.959607</td>\n",
       "      <td>0.963071</td>\n",
       "      <td>0.277473</td>\n",
       "      <td>0.378738</td>\n",
       "      <td>0.193561</td>\n",
       "      <td>0.275895</td>\n",
       "      <td>7.0</td>\n",
       "    </tr>\n",
       "    <tr>\n",
       "      <th>4</th>\n",
       "      <td>3.962525</td>\n",
       "      <td>3.488793</td>\n",
       "      <td>0.960375</td>\n",
       "      <td>0.965112</td>\n",
       "      <td>0.300813</td>\n",
       "      <td>0.432548</td>\n",
       "      <td>0.211913</td>\n",
       "      <td>0.322684</td>\n",
       "      <td>8.0</td>\n",
       "    </tr>\n",
       "    <tr>\n",
       "      <th>5</th>\n",
       "      <td>3.801259</td>\n",
       "      <td>3.107001</td>\n",
       "      <td>0.961987</td>\n",
       "      <td>0.968930</td>\n",
       "      <td>0.347826</td>\n",
       "      <td>0.524194</td>\n",
       "      <td>0.250000</td>\n",
       "      <td>0.407779</td>\n",
       "      <td>9.0</td>\n",
       "    </tr>\n",
       "    <tr>\n",
       "      <th>6</th>\n",
       "      <td>3.586239</td>\n",
       "      <td>2.800908</td>\n",
       "      <td>0.964061</td>\n",
       "      <td>0.971991</td>\n",
       "      <td>0.407595</td>\n",
       "      <td>0.590274</td>\n",
       "      <td>0.301385</td>\n",
       "      <td>0.473798</td>\n",
       "      <td>10.0</td>\n",
       "    </tr>\n",
       "    <tr>\n",
       "      <th>7</th>\n",
       "      <td>3.567040</td>\n",
       "      <td>2.537603</td>\n",
       "      <td>0.964214</td>\n",
       "      <td>0.974624</td>\n",
       "      <td>0.413098</td>\n",
       "      <td>0.642559</td>\n",
       "      <td>0.306542</td>\n",
       "      <td>0.529088</td>\n",
       "      <td>11.0</td>\n",
       "    </tr>\n",
       "    <tr>\n",
       "      <th>8</th>\n",
       "      <td>3.432652</td>\n",
       "      <td>2.323668</td>\n",
       "      <td>0.965443</td>\n",
       "      <td>0.976763</td>\n",
       "      <td>0.448529</td>\n",
       "      <td>0.682268</td>\n",
       "      <td>0.339266</td>\n",
       "      <td>0.573027</td>\n",
       "      <td>12.0</td>\n",
       "    </tr>\n",
       "    <tr>\n",
       "      <th>9</th>\n",
       "      <td>3.375058</td>\n",
       "      <td>1.978080</td>\n",
       "      <td>0.965904</td>\n",
       "      <td>0.980219</td>\n",
       "      <td>0.463768</td>\n",
       "      <td>0.741728</td>\n",
       "      <td>0.354374</td>\n",
       "      <td>0.642209</td>\n",
       "      <td>13.0</td>\n",
       "    </tr>\n",
       "    <tr>\n",
       "      <th>10</th>\n",
       "      <td>3.317463</td>\n",
       "      <td>1.698318</td>\n",
       "      <td>0.966288</td>\n",
       "      <td>0.983017</td>\n",
       "      <td>0.479241</td>\n",
       "      <td>0.786070</td>\n",
       "      <td>0.370778</td>\n",
       "      <td>0.696649</td>\n",
       "      <td>14.0</td>\n",
       "    </tr>\n",
       "    <tr>\n",
       "      <th>11</th>\n",
       "      <td>3.394256</td>\n",
       "      <td>1.458052</td>\n",
       "      <td>0.965366</td>\n",
       "      <td>0.985419</td>\n",
       "      <td>0.462455</td>\n",
       "      <td>0.821730</td>\n",
       "      <td>0.356618</td>\n",
       "      <td>0.742330</td>\n",
       "      <td>15.0</td>\n",
       "    </tr>\n",
       "    <tr>\n",
       "      <th>12</th>\n",
       "      <td>3.355859</td>\n",
       "      <td>1.227660</td>\n",
       "      <td>0.965750</td>\n",
       "      <td>0.987723</td>\n",
       "      <td>0.471564</td>\n",
       "      <td>0.854012</td>\n",
       "      <td>0.365138</td>\n",
       "      <td>0.785231</td>\n",
       "      <td>16.0</td>\n",
       "    </tr>\n",
       "    <tr>\n",
       "      <th>13</th>\n",
       "      <td>3.328982</td>\n",
       "      <td>0.954481</td>\n",
       "      <td>0.966057</td>\n",
       "      <td>0.990455</td>\n",
       "      <td>0.477541</td>\n",
       "      <td>0.890068</td>\n",
       "      <td>0.370370</td>\n",
       "      <td>0.834993</td>\n",
       "      <td>17.0</td>\n",
       "    </tr>\n",
       "    <tr>\n",
       "      <th>14</th>\n",
       "      <td>3.305944</td>\n",
       "      <td>0.780041</td>\n",
       "      <td>0.966211</td>\n",
       "      <td>0.992200</td>\n",
       "      <td>0.483568</td>\n",
       "      <td>0.911929</td>\n",
       "      <td>0.376875</td>\n",
       "      <td>0.866158</td>\n",
       "      <td>18.0</td>\n",
       "    </tr>\n",
       "    <tr>\n",
       "      <th>15</th>\n",
       "      <td>3.290585</td>\n",
       "      <td>0.559523</td>\n",
       "      <td>0.966288</td>\n",
       "      <td>0.994405</td>\n",
       "      <td>0.487748</td>\n",
       "      <td>0.938361</td>\n",
       "      <td>0.381665</td>\n",
       "      <td>0.904895</td>\n",
       "      <td>19.0</td>\n",
       "    </tr>\n",
       "    <tr>\n",
       "      <th>16</th>\n",
       "      <td>3.294425</td>\n",
       "      <td>0.421288</td>\n",
       "      <td>0.965981</td>\n",
       "      <td>0.995787</td>\n",
       "      <td>0.489043</td>\n",
       "      <td>0.954286</td>\n",
       "      <td>0.385735</td>\n",
       "      <td>0.928810</td>\n",
       "      <td>20.0</td>\n",
       "    </tr>\n",
       "  </tbody>\n",
       "</table>\n",
       "</div>"
      ],
      "text/plain": [
       "    %_invest_loss_test  %_invest_loss_train  accuracy_test  accuracy_train  \\\n",
       "0             4.753494             4.769114       0.952465        0.952309   \n",
       "1             4.630625             4.637462       0.953694        0.953625   \n",
       "2             4.523115             4.443274       0.954769        0.955567   \n",
       "3             4.039318             3.692855       0.959607        0.963071   \n",
       "4             3.962525             3.488793       0.960375        0.965112   \n",
       "5             3.801259             3.107001       0.961987        0.968930   \n",
       "6             3.586239             2.800908       0.964061        0.971991   \n",
       "7             3.567040             2.537603       0.964214        0.974624   \n",
       "8             3.432652             2.323668       0.965443        0.976763   \n",
       "9             3.375058             1.978080       0.965904        0.980219   \n",
       "10            3.317463             1.698318       0.966288        0.983017   \n",
       "11            3.394256             1.458052       0.965366        0.985419   \n",
       "12            3.355859             1.227660       0.965750        0.987723   \n",
       "13            3.328982             0.954481       0.966057        0.990455   \n",
       "14            3.305944             0.780041       0.966211        0.992200   \n",
       "15            3.290585             0.559523       0.966288        0.994405   \n",
       "16            3.294425             0.421288       0.965981        0.995787   \n",
       "\n",
       "     f1_test  f1_train   f2_test  f2_train  max_depth  \n",
       "0   0.025197  0.020284  0.015898  0.012775        4.0  \n",
       "1   0.073733  0.072416  0.047393  0.046523        5.0  \n",
       "2   0.114286  0.144487  0.074627  0.095477        6.0  \n",
       "3   0.277473  0.378738  0.193561  0.275895        7.0  \n",
       "4   0.300813  0.432548  0.211913  0.322684        8.0  \n",
       "5   0.347826  0.524194  0.250000  0.407779        9.0  \n",
       "6   0.407595  0.590274  0.301385  0.473798       10.0  \n",
       "7   0.413098  0.642559  0.306542  0.529088       11.0  \n",
       "8   0.448529  0.682268  0.339266  0.573027       12.0  \n",
       "9   0.463768  0.741728  0.354374  0.642209       13.0  \n",
       "10  0.479241  0.786070  0.370778  0.696649       14.0  \n",
       "11  0.462455  0.821730  0.356618  0.742330       15.0  \n",
       "12  0.471564  0.854012  0.365138  0.785231       16.0  \n",
       "13  0.477541  0.890068  0.370370  0.834993       17.0  \n",
       "14  0.483568  0.911929  0.376875  0.866158       18.0  \n",
       "15  0.487748  0.938361  0.381665  0.904895       19.0  \n",
       "16  0.489043  0.954286  0.385735  0.928810       20.0  "
      ]
     },
     "execution_count": 18,
     "metadata": {},
     "output_type": "execute_result"
    }
   ],
   "source": [
    "'''rf_no_class_wt = pd.DataFrame()\n",
    "for i in range(4,21):\n",
    "    classifier.model = RandomForestClassifier(random_state=0, class_weight=None, max_depth = i)\n",
    "    train_out = classifier.train()\n",
    "    test_out = classifier.test()\n",
    "    rf_no_class_wt = rf_no_class_wt.append({'max_depth': classifier.model.max_depth,\n",
    "                    'accuracy_train': train_out['accuracy'],\n",
    "                    'accuracy_test': test_out['accuracy'],\n",
    "                    'f1_train': train_out['f1'],          \n",
    "                    'f1_test': test_out['f1'],\n",
    "                    'f2_train': train_out['f2'],          \n",
    "                    'f2_test': test_out['f2'],           \n",
    "                    '%_invest_loss_train': 100*np.sum(cost_matrix*train_out['matrix'])/np.sum(train_out['matrix']),\n",
    "                    '%_invest_loss_test': 100*np.sum(cost_matrix*test_out['matrix'])/np.sum(test_out['matrix'])}, \n",
    "                    ignore_index = True)\n",
    "    print(\"max_depth =\",i,\"complete\")\n",
    "clear_output()\n",
    "rf_no_class_wt'''"
   ]
  },
  {
   "cell_type": "markdown",
   "metadata": {},
   "source": [
    "##### Rebalanced "
   ]
  },
  {
   "cell_type": "code",
   "execution_count": 31,
   "metadata": {},
   "outputs": [
    {
     "data": {
      "text/html": [
       "<div>\n",
       "<style scoped>\n",
       "    .dataframe tbody tr th:only-of-type {\n",
       "        vertical-align: middle;\n",
       "    }\n",
       "\n",
       "    .dataframe tbody tr th {\n",
       "        vertical-align: top;\n",
       "    }\n",
       "\n",
       "    .dataframe thead th {\n",
       "        text-align: right;\n",
       "    }\n",
       "</style>\n",
       "<table border=\"1\" class=\"dataframe\">\n",
       "  <thead>\n",
       "    <tr style=\"text-align: right;\">\n",
       "      <th></th>\n",
       "      <th>max_depth</th>\n",
       "      <th>accuracy_train</th>\n",
       "      <th>accuracy_test</th>\n",
       "      <th>f1_train</th>\n",
       "      <th>f1_test</th>\n",
       "      <th>f2_train</th>\n",
       "      <th>f2_test</th>\n",
       "      <th>%_invest_loss_train</th>\n",
       "      <th>%_invest_loss_test</th>\n",
       "    </tr>\n",
       "  </thead>\n",
       "  <tbody>\n",
       "    <tr>\n",
       "      <th>0</th>\n",
       "      <td>5.0</td>\n",
       "      <td>0.793536</td>\n",
       "      <td>0.783443</td>\n",
       "      <td>0.264682</td>\n",
       "      <td>0.244373</td>\n",
       "      <td>0.436818</td>\n",
       "      <td>0.406200</td>\n",
       "      <td>10.874502</td>\n",
       "      <td>11.484411</td>\n",
       "    </tr>\n",
       "    <tr>\n",
       "      <th>1</th>\n",
       "      <td>6.0</td>\n",
       "      <td>0.828128</td>\n",
       "      <td>0.816080</td>\n",
       "      <td>0.308894</td>\n",
       "      <td>0.273582</td>\n",
       "      <td>0.488366</td>\n",
       "      <td>0.435496</td>\n",
       "      <td>9.082382</td>\n",
       "      <td>9.871755</td>\n",
       "    </tr>\n",
       "    <tr>\n",
       "      <th>2</th>\n",
       "      <td>7.0</td>\n",
       "      <td>0.869335</td>\n",
       "      <td>0.850637</td>\n",
       "      <td>0.376962</td>\n",
       "      <td>0.303117</td>\n",
       "      <td>0.557878</td>\n",
       "      <td>0.452697</td>\n",
       "      <td>6.966067</td>\n",
       "      <td>8.251421</td>\n",
       "    </tr>\n",
       "    <tr>\n",
       "      <th>3</th>\n",
       "      <td>8.0</td>\n",
       "      <td>0.896521</td>\n",
       "      <td>0.874597</td>\n",
       "      <td>0.437164</td>\n",
       "      <td>0.325485</td>\n",
       "      <td>0.611846</td>\n",
       "      <td>0.457927</td>\n",
       "      <td>5.573841</td>\n",
       "      <td>7.164798</td>\n",
       "    </tr>\n",
       "    <tr>\n",
       "      <th>4</th>\n",
       "      <td>9.0</td>\n",
       "      <td>0.918968</td>\n",
       "      <td>0.896099</td>\n",
       "      <td>0.504428</td>\n",
       "      <td>0.349832</td>\n",
       "      <td>0.669338</td>\n",
       "      <td>0.459364</td>\n",
       "      <td>4.398841</td>\n",
       "      <td>6.204884</td>\n",
       "    </tr>\n",
       "    <tr>\n",
       "      <th>5</th>\n",
       "      <td>10.0</td>\n",
       "      <td>0.941875</td>\n",
       "      <td>0.917371</td>\n",
       "      <td>0.594023</td>\n",
       "      <td>0.392777</td>\n",
       "      <td>0.738961</td>\n",
       "      <td>0.476321</td>\n",
       "      <td>3.189283</td>\n",
       "      <td>5.202734</td>\n",
       "    </tr>\n",
       "    <tr>\n",
       "      <th>6</th>\n",
       "      <td>11.0</td>\n",
       "      <td>0.958497</td>\n",
       "      <td>0.931347</td>\n",
       "      <td>0.676915</td>\n",
       "      <td>0.411842</td>\n",
       "      <td>0.796263</td>\n",
       "      <td>0.460159</td>\n",
       "      <td>2.310503</td>\n",
       "      <td>4.638304</td>\n",
       "    </tr>\n",
       "    <tr>\n",
       "      <th>7</th>\n",
       "      <td>12.0</td>\n",
       "      <td>0.967844</td>\n",
       "      <td>0.939794</td>\n",
       "      <td>0.734005</td>\n",
       "      <td>0.422680</td>\n",
       "      <td>0.835710</td>\n",
       "      <td>0.443038</td>\n",
       "      <td>1.798703</td>\n",
       "      <td>4.315773</td>\n",
       "    </tr>\n",
       "    <tr>\n",
       "      <th>8</th>\n",
       "      <td>13.0</td>\n",
       "      <td>0.976566</td>\n",
       "      <td>0.945938</td>\n",
       "      <td>0.795167</td>\n",
       "      <td>0.434084</td>\n",
       "      <td>0.878241</td>\n",
       "      <td>0.432000</td>\n",
       "      <td>1.306652</td>\n",
       "      <td>4.073875</td>\n",
       "    </tr>\n",
       "    <tr>\n",
       "      <th>9</th>\n",
       "      <td>14.0</td>\n",
       "      <td>0.982786</td>\n",
       "      <td>0.950392</td>\n",
       "      <td>0.842517</td>\n",
       "      <td>0.435315</td>\n",
       "      <td>0.906910</td>\n",
       "      <td>0.411570</td>\n",
       "      <td>0.967646</td>\n",
       "      <td>3.931808</td>\n",
       "    </tr>\n",
       "    <tr>\n",
       "      <th>10</th>\n",
       "      <td>15.0</td>\n",
       "      <td>0.987625</td>\n",
       "      <td>0.953156</td>\n",
       "      <td>0.883447</td>\n",
       "      <td>0.437269</td>\n",
       "      <td>0.935285</td>\n",
       "      <td>0.399663</td>\n",
       "      <td>0.682948</td>\n",
       "      <td>3.839656</td>\n",
       "    </tr>\n",
       "    <tr>\n",
       "      <th>11</th>\n",
       "      <td>16.0</td>\n",
       "      <td>0.990718</td>\n",
       "      <td>0.954692</td>\n",
       "      <td>0.911265</td>\n",
       "      <td>0.429400</td>\n",
       "      <td>0.956407</td>\n",
       "      <td>0.380789</td>\n",
       "      <td>0.490406</td>\n",
       "      <td>3.820458</td>\n",
       "    </tr>\n",
       "    <tr>\n",
       "      <th>12</th>\n",
       "      <td>17.0</td>\n",
       "      <td>0.994141</td>\n",
       "      <td>0.955383</td>\n",
       "      <td>0.942432</td>\n",
       "      <td>0.411348</td>\n",
       "      <td>0.973410</td>\n",
       "      <td>0.353905</td>\n",
       "      <td>0.304447</td>\n",
       "      <td>3.858854</td>\n",
       "    </tr>\n",
       "    <tr>\n",
       "      <th>13</th>\n",
       "      <td>18.0</td>\n",
       "      <td>0.996050</td>\n",
       "      <td>0.955614</td>\n",
       "      <td>0.960474</td>\n",
       "      <td>0.396660</td>\n",
       "      <td>0.981422</td>\n",
       "      <td>0.334625</td>\n",
       "      <td>0.207353</td>\n",
       "      <td>3.897251</td>\n",
       "    </tr>\n",
       "    <tr>\n",
       "      <th>14</th>\n",
       "      <td>19.0</td>\n",
       "      <td>0.997301</td>\n",
       "      <td>0.958148</td>\n",
       "      <td>0.972703</td>\n",
       "      <td>0.406964</td>\n",
       "      <td>0.987696</td>\n",
       "      <td>0.333929</td>\n",
       "      <td>0.139881</td>\n",
       "      <td>3.782061</td>\n",
       "    </tr>\n",
       "    <tr>\n",
       "      <th>15</th>\n",
       "      <td>20.0</td>\n",
       "      <td>0.997729</td>\n",
       "      <td>0.957457</td>\n",
       "      <td>0.976962</td>\n",
       "      <td>0.399132</td>\n",
       "      <td>0.990253</td>\n",
       "      <td>0.328220</td>\n",
       "      <td>0.115196</td>\n",
       "      <td>3.828137</td>\n",
       "    </tr>\n",
       "  </tbody>\n",
       "</table>\n",
       "</div>"
      ],
      "text/plain": [
       "    max_depth  accuracy_train  accuracy_test  f1_train   f1_test  f2_train  \\\n",
       "0         5.0        0.793536       0.783443  0.264682  0.244373  0.436818   \n",
       "1         6.0        0.828128       0.816080  0.308894  0.273582  0.488366   \n",
       "2         7.0        0.869335       0.850637  0.376962  0.303117  0.557878   \n",
       "3         8.0        0.896521       0.874597  0.437164  0.325485  0.611846   \n",
       "4         9.0        0.918968       0.896099  0.504428  0.349832  0.669338   \n",
       "5        10.0        0.941875       0.917371  0.594023  0.392777  0.738961   \n",
       "6        11.0        0.958497       0.931347  0.676915  0.411842  0.796263   \n",
       "7        12.0        0.967844       0.939794  0.734005  0.422680  0.835710   \n",
       "8        13.0        0.976566       0.945938  0.795167  0.434084  0.878241   \n",
       "9        14.0        0.982786       0.950392  0.842517  0.435315  0.906910   \n",
       "10       15.0        0.987625       0.953156  0.883447  0.437269  0.935285   \n",
       "11       16.0        0.990718       0.954692  0.911265  0.429400  0.956407   \n",
       "12       17.0        0.994141       0.955383  0.942432  0.411348  0.973410   \n",
       "13       18.0        0.996050       0.955614  0.960474  0.396660  0.981422   \n",
       "14       19.0        0.997301       0.958148  0.972703  0.406964  0.987696   \n",
       "15       20.0        0.997729       0.957457  0.976962  0.399132  0.990253   \n",
       "\n",
       "     f2_test  %_invest_loss_train  %_invest_loss_test  \n",
       "0   0.406200            10.874502           11.484411  \n",
       "1   0.435496             9.082382            9.871755  \n",
       "2   0.452697             6.966067            8.251421  \n",
       "3   0.457927             5.573841            7.164798  \n",
       "4   0.459364             4.398841            6.204884  \n",
       "5   0.476321             3.189283            5.202734  \n",
       "6   0.460159             2.310503            4.638304  \n",
       "7   0.443038             1.798703            4.315773  \n",
       "8   0.432000             1.306652            4.073875  \n",
       "9   0.411570             0.967646            3.931808  \n",
       "10  0.399663             0.682948            3.839656  \n",
       "11  0.380789             0.490406            3.820458  \n",
       "12  0.353905             0.304447            3.858854  \n",
       "13  0.334625             0.207353            3.897251  \n",
       "14  0.333929             0.139881            3.782061  \n",
       "15  0.328220             0.115196            3.828137  "
      ]
     },
     "execution_count": 31,
     "metadata": {},
     "output_type": "execute_result"
    }
   ],
   "source": [
    "rf_rebalanced = pd.DataFrame()\n",
    "for i in range(5,21):\n",
    "    classifier.model = RandomForestClassifier(random_state=0, class_weight='balanced', max_depth = i)\n",
    "    train_out = classifier.train()\n",
    "    test_out = classifier.test()\n",
    "    rf_rebalanced = rf_rebalanced.append({'max_depth': classifier.model.max_depth,\n",
    "                    'accuracy_train': train_out['accuracy'],\n",
    "                    'accuracy_test': test_out['accuracy'],\n",
    "                    'f1_train': train_out['f1'],          \n",
    "                    'f1_test': test_out['f1'],\n",
    "                    'f2_train': train_out['f2'],          \n",
    "                    'f2_test': test_out['f2'],           \n",
    "                    '%_invest_loss_train': 100*np.sum(cost_matrix*train_out['matrix'])/np.sum(train_out['matrix']),\n",
    "                    '%_invest_loss_test': 100*np.sum(cost_matrix*test_out['matrix'])/np.sum(test_out['matrix'])}, \n",
    "                    ignore_index = True)\n",
    "    print(\"max_depth =\",i,\"complete\")\n",
    "clear_output()\n",
    "rf_rebalanced"
   ]
  },
  {
   "cell_type": "markdown",
   "metadata": {},
   "source": [
    "### Extreme Gradient Boosting"
   ]
  },
  {
   "cell_type": "markdown",
   "metadata": {},
   "source": [
    "#### Metrics vs. Max Tree Depth"
   ]
  },
  {
   "cell_type": "markdown",
   "metadata": {},
   "source": [
    "##### No Class Weights"
   ]
  },
  {
   "cell_type": "code",
   "execution_count": null,
   "metadata": {},
   "outputs": [],
   "source": [
    "'''xgb_no_class_wt = pd.DataFrame()\n",
    "for i in range(2,21):\n",
    "    params = {\n",
    "    'max_depth': i,\n",
    "    'objective': 'multi:softmax',\n",
    "    'eval_metric': 'logloss',\n",
    "    'num_class': 2,\n",
    "    'eta': 0.3,\n",
    "    }\n",
    "    classifier.model = XGBModel(params) #num_round\n",
    "    train_out = classifier.train()\n",
    "    test_out = classifier.test()\n",
    "    xgb_no_class_wt = xgb_no_class_wt.append({'max_depth': i,\n",
    "                    'accuracy_train': train_out['accuracy'],\n",
    "                    'accuracy_test': test_out['accuracy'],\n",
    "                    'f1_train': train_out['f1'],          \n",
    "                    'f1_test': test_out['f1'],\n",
    "                    'f2_train': train_out['f2'],            \n",
    "                    'f2_test': test_out['f2'], \n",
    "                    '%_invest_loss_train': 100*np.sum(cost_matrix*train_out['matrix'])/np.sum(train_out['matrix']),\n",
    "                    '%_invest_loss_test': 100*np.sum(cost_matrix*test_out['matrix'])/np.sum(test_out['matrix'])}, \n",
    "                    ignore_index = True)\n",
    "    print(\"max_depth =\",i,\"complete\")\n",
    "clear_output()\n",
    "xgb_no_class_wt'''"
   ]
  },
  {
   "cell_type": "markdown",
   "metadata": {},
   "source": [
    "##### Rebalanced "
   ]
  },
  {
   "cell_type": "code",
   "execution_count": 23,
   "metadata": {},
   "outputs": [
    {
     "data": {
      "text/html": [
       "<div>\n",
       "<style scoped>\n",
       "    .dataframe tbody tr th:only-of-type {\n",
       "        vertical-align: middle;\n",
       "    }\n",
       "\n",
       "    .dataframe tbody tr th {\n",
       "        vertical-align: top;\n",
       "    }\n",
       "\n",
       "    .dataframe thead th {\n",
       "        text-align: right;\n",
       "    }\n",
       "</style>\n",
       "<table border=\"1\" class=\"dataframe\">\n",
       "  <thead>\n",
       "    <tr style=\"text-align: right;\">\n",
       "      <th></th>\n",
       "      <th>max_depth</th>\n",
       "      <th>accuracy_train</th>\n",
       "      <th>accuracy_test</th>\n",
       "      <th>f1_train</th>\n",
       "      <th>f1_test</th>\n",
       "      <th>f2_train</th>\n",
       "      <th>f2_test</th>\n",
       "      <th>%_invest_loss_train</th>\n",
       "      <th>%_invest_loss_test</th>\n",
       "    </tr>\n",
       "  </thead>\n",
       "  <tbody>\n",
       "    <tr>\n",
       "      <th>0</th>\n",
       "      <td>2.0</td>\n",
       "      <td>0.795741</td>\n",
       "      <td>0.787590</td>\n",
       "      <td>0.265388</td>\n",
       "      <td>0.251623</td>\n",
       "      <td>0.436526</td>\n",
       "      <td>0.416891</td>\n",
       "      <td>10.777408</td>\n",
       "      <td>11.242513</td>\n",
       "    </tr>\n",
       "    <tr>\n",
       "      <th>1</th>\n",
       "      <td>3.0</td>\n",
       "      <td>0.810651</td>\n",
       "      <td>0.801106</td>\n",
       "      <td>0.293504</td>\n",
       "      <td>0.275322</td>\n",
       "      <td>0.476665</td>\n",
       "      <td>0.450962</td>\n",
       "      <td>9.910147</td>\n",
       "      <td>10.463063</td>\n",
       "    </tr>\n",
       "    <tr>\n",
       "      <th>2</th>\n",
       "      <td>4.0</td>\n",
       "      <td>0.828457</td>\n",
       "      <td>0.819920</td>\n",
       "      <td>0.326093</td>\n",
       "      <td>0.298534</td>\n",
       "      <td>0.519957</td>\n",
       "      <td>0.477603</td>\n",
       "      <td>8.911233</td>\n",
       "      <td>9.495469</td>\n",
       "    </tr>\n",
       "    <tr>\n",
       "      <th>3</th>\n",
       "      <td>5.0</td>\n",
       "      <td>0.847941</td>\n",
       "      <td>0.832821</td>\n",
       "      <td>0.361349</td>\n",
       "      <td>0.309546</td>\n",
       "      <td>0.562102</td>\n",
       "      <td>0.484704</td>\n",
       "      <td>7.861304</td>\n",
       "      <td>8.892643</td>\n",
       "    </tr>\n",
       "    <tr>\n",
       "      <th>4</th>\n",
       "      <td>6.0</td>\n",
       "      <td>0.885594</td>\n",
       "      <td>0.867148</td>\n",
       "      <td>0.435531</td>\n",
       "      <td>0.351088</td>\n",
       "      <td>0.635545</td>\n",
       "      <td>0.514625</td>\n",
       "      <td>5.922720</td>\n",
       "      <td>7.253110</td>\n",
       "    </tr>\n",
       "    <tr>\n",
       "      <th>5</th>\n",
       "      <td>7.0</td>\n",
       "      <td>0.904815</td>\n",
       "      <td>0.884810</td>\n",
       "      <td>0.489407</td>\n",
       "      <td>0.379139</td>\n",
       "      <td>0.689141</td>\n",
       "      <td>0.532930</td>\n",
       "      <td>4.887602</td>\n",
       "      <td>6.408386</td>\n",
       "    </tr>\n",
       "    <tr>\n",
       "      <th>6</th>\n",
       "      <td>8.0</td>\n",
       "      <td>0.915775</td>\n",
       "      <td>0.892720</td>\n",
       "      <td>0.524615</td>\n",
       "      <td>0.388621</td>\n",
       "      <td>0.722251</td>\n",
       "      <td>0.532885</td>\n",
       "      <td>4.296811</td>\n",
       "      <td>6.066656</td>\n",
       "    </tr>\n",
       "    <tr>\n",
       "      <th>7</th>\n",
       "      <td>9.0</td>\n",
       "      <td>0.939966</td>\n",
       "      <td>0.912533</td>\n",
       "      <td>0.612739</td>\n",
       "      <td>0.425618</td>\n",
       "      <td>0.792683</td>\n",
       "      <td>0.546066</td>\n",
       "      <td>3.036237</td>\n",
       "      <td>5.160498</td>\n",
       "    </tr>\n",
       "    <tr>\n",
       "      <th>8</th>\n",
       "      <td>10.0</td>\n",
       "      <td>0.955633</td>\n",
       "      <td>0.922977</td>\n",
       "      <td>0.683122</td>\n",
       "      <td>0.446773</td>\n",
       "      <td>0.840273</td>\n",
       "      <td>0.548186</td>\n",
       "      <td>2.236448</td>\n",
       "      <td>4.703579</td>\n",
       "    </tr>\n",
       "    <tr>\n",
       "      <th>9</th>\n",
       "      <td>11.0</td>\n",
       "      <td>0.968765</td>\n",
       "      <td>0.935724</td>\n",
       "      <td>0.753826</td>\n",
       "      <td>0.477854</td>\n",
       "      <td>0.880926</td>\n",
       "      <td>0.549656</td>\n",
       "      <td>1.579831</td>\n",
       "      <td>4.150668</td>\n",
       "    </tr>\n",
       "    <tr>\n",
       "      <th>10</th>\n",
       "      <td>12.0</td>\n",
       "      <td>0.974295</td>\n",
       "      <td>0.940255</td>\n",
       "      <td>0.789204</td>\n",
       "      <td>0.498711</td>\n",
       "      <td>0.902804</td>\n",
       "      <td>0.563647</td>\n",
       "      <td>1.288550</td>\n",
       "      <td>3.908770</td>\n",
       "    </tr>\n",
       "    <tr>\n",
       "      <th>11</th>\n",
       "      <td>13.0</td>\n",
       "      <td>0.983214</td>\n",
       "      <td>0.946706</td>\n",
       "      <td>0.851658</td>\n",
       "      <td>0.513324</td>\n",
       "      <td>0.934866</td>\n",
       "      <td>0.553372</td>\n",
       "      <td>0.839285</td>\n",
       "      <td>3.666871</td>\n",
       "    </tr>\n",
       "    <tr>\n",
       "      <th>12</th>\n",
       "      <td>14.0</td>\n",
       "      <td>0.988020</td>\n",
       "      <td>0.950852</td>\n",
       "      <td>0.889429</td>\n",
       "      <td>0.528719</td>\n",
       "      <td>0.952629</td>\n",
       "      <td>0.554183</td>\n",
       "      <td>0.599019</td>\n",
       "      <td>3.486408</td>\n",
       "    </tr>\n",
       "    <tr>\n",
       "      <th>13</th>\n",
       "      <td>15.0</td>\n",
       "      <td>0.992101</td>\n",
       "      <td>0.954692</td>\n",
       "      <td>0.924242</td>\n",
       "      <td>0.527244</td>\n",
       "      <td>0.968254</td>\n",
       "      <td>0.525727</td>\n",
       "      <td>0.394958</td>\n",
       "      <td>3.409614</td>\n",
       "    </tr>\n",
       "    <tr>\n",
       "      <th>14</th>\n",
       "      <td>16.0</td>\n",
       "      <td>0.994767</td>\n",
       "      <td>0.956765</td>\n",
       "      <td>0.948494</td>\n",
       "      <td>0.532003</td>\n",
       "      <td>0.978740</td>\n",
       "      <td>0.518807</td>\n",
       "      <td>0.261659</td>\n",
       "      <td>3.340501</td>\n",
       "    </tr>\n",
       "    <tr>\n",
       "      <th>15</th>\n",
       "      <td>17.0</td>\n",
       "      <td>0.995425</td>\n",
       "      <td>0.957073</td>\n",
       "      <td>0.954679</td>\n",
       "      <td>0.529857</td>\n",
       "      <td>0.981365</td>\n",
       "      <td>0.513029</td>\n",
       "      <td>0.228746</td>\n",
       "      <td>3.344340</td>\n",
       "    </tr>\n",
       "    <tr>\n",
       "      <th>16</th>\n",
       "      <td>18.0</td>\n",
       "      <td>0.997564</td>\n",
       "      <td>0.959837</td>\n",
       "      <td>0.975350</td>\n",
       "      <td>0.541630</td>\n",
       "      <td>0.989992</td>\n",
       "      <td>0.511251</td>\n",
       "      <td>0.121779</td>\n",
       "      <td>3.229151</td>\n",
       "    </tr>\n",
       "    <tr>\n",
       "      <th>17</th>\n",
       "      <td>19.0</td>\n",
       "      <td>0.997959</td>\n",
       "      <td>0.960682</td>\n",
       "      <td>0.979264</td>\n",
       "      <td>0.548501</td>\n",
       "      <td>0.991601</td>\n",
       "      <td>0.515755</td>\n",
       "      <td>0.102031</td>\n",
       "      <td>3.179235</td>\n",
       "    </tr>\n",
       "    <tr>\n",
       "      <th>18</th>\n",
       "      <td>20.0</td>\n",
       "      <td>0.998091</td>\n",
       "      <td>0.961066</td>\n",
       "      <td>0.980576</td>\n",
       "      <td>0.547725</td>\n",
       "      <td>0.992139</td>\n",
       "      <td>0.511326</td>\n",
       "      <td>0.095448</td>\n",
       "      <td>3.175395</td>\n",
       "    </tr>\n",
       "  </tbody>\n",
       "</table>\n",
       "</div>"
      ],
      "text/plain": [
       "    max_depth  accuracy_train  accuracy_test  f1_train   f1_test  f2_train  \\\n",
       "0         2.0        0.795741       0.787590  0.265388  0.251623  0.436526   \n",
       "1         3.0        0.810651       0.801106  0.293504  0.275322  0.476665   \n",
       "2         4.0        0.828457       0.819920  0.326093  0.298534  0.519957   \n",
       "3         5.0        0.847941       0.832821  0.361349  0.309546  0.562102   \n",
       "4         6.0        0.885594       0.867148  0.435531  0.351088  0.635545   \n",
       "5         7.0        0.904815       0.884810  0.489407  0.379139  0.689141   \n",
       "6         8.0        0.915775       0.892720  0.524615  0.388621  0.722251   \n",
       "7         9.0        0.939966       0.912533  0.612739  0.425618  0.792683   \n",
       "8        10.0        0.955633       0.922977  0.683122  0.446773  0.840273   \n",
       "9        11.0        0.968765       0.935724  0.753826  0.477854  0.880926   \n",
       "10       12.0        0.974295       0.940255  0.789204  0.498711  0.902804   \n",
       "11       13.0        0.983214       0.946706  0.851658  0.513324  0.934866   \n",
       "12       14.0        0.988020       0.950852  0.889429  0.528719  0.952629   \n",
       "13       15.0        0.992101       0.954692  0.924242  0.527244  0.968254   \n",
       "14       16.0        0.994767       0.956765  0.948494  0.532003  0.978740   \n",
       "15       17.0        0.995425       0.957073  0.954679  0.529857  0.981365   \n",
       "16       18.0        0.997564       0.959837  0.975350  0.541630  0.989992   \n",
       "17       19.0        0.997959       0.960682  0.979264  0.548501  0.991601   \n",
       "18       20.0        0.998091       0.961066  0.980576  0.547725  0.992139   \n",
       "\n",
       "     f2_test  %_invest_loss_train  %_invest_loss_test  \n",
       "0   0.416891            10.777408           11.242513  \n",
       "1   0.450962             9.910147           10.463063  \n",
       "2   0.477603             8.911233            9.495469  \n",
       "3   0.484704             7.861304            8.892643  \n",
       "4   0.514625             5.922720            7.253110  \n",
       "5   0.532930             4.887602            6.408386  \n",
       "6   0.532885             4.296811            6.066656  \n",
       "7   0.546066             3.036237            5.160498  \n",
       "8   0.548186             2.236448            4.703579  \n",
       "9   0.549656             1.579831            4.150668  \n",
       "10  0.563647             1.288550            3.908770  \n",
       "11  0.553372             0.839285            3.666871  \n",
       "12  0.554183             0.599019            3.486408  \n",
       "13  0.525727             0.394958            3.409614  \n",
       "14  0.518807             0.261659            3.340501  \n",
       "15  0.513029             0.228746            3.344340  \n",
       "16  0.511251             0.121779            3.229151  \n",
       "17  0.515755             0.102031            3.179235  \n",
       "18  0.511326             0.095448            3.175395  "
      ]
     },
     "execution_count": 23,
     "metadata": {},
     "output_type": "execute_result"
    }
   ],
   "source": [
    "xgb_rebalanced = pd.DataFrame()\n",
    "for i in range(2,21):\n",
    "    params = {\n",
    "    'max_depth': i,\n",
    "    'objective': 'binary:logistic',\n",
    "    'eval_metric': 'logloss',\n",
    "    #'num_class': 2,\n",
    "    'eta': 0.3,\n",
    "    'scale_pos_weight': 19.758 \n",
    "    }\n",
    "    classifier.model = XGBModel(params)\n",
    "    train_out = classifier.train()\n",
    "    test_out = classifier.test()\n",
    "    xgb_rebalanced = xgb_rebalanced.append({'max_depth': i,\n",
    "                    'accuracy_train': train_out['accuracy'],\n",
    "                    'accuracy_test': test_out['accuracy'],\n",
    "                    'f1_train': train_out['f1'],          \n",
    "                    'f1_test': test_out['f1'],                        \n",
    "                    'f2_train': train_out['f2'],            \n",
    "                    'f2_test': test_out['f2'], \n",
    "                    '%_invest_loss_train': 100*np.sum(cost_matrix*train_out['matrix'])/np.sum(train_out['matrix']),\n",
    "                    '%_invest_loss_test': 100*np.sum(cost_matrix*test_out['matrix'])/np.sum(test_out['matrix'])}, \n",
    "                    ignore_index = True)\n",
    "    print(\"max_depth =\",i,\"complete\")\n",
    "clear_output()\n",
    "xgb_rebalanced"
   ]
  },
  {
   "cell_type": "markdown",
   "metadata": {
    "id": "p-C7Tc5W8g_e"
   },
   "source": [
    "## Model's Performance Analysis <a id='performance-analysis'/>"
   ]
  },
  {
   "cell_type": "code",
   "execution_count": 37,
   "metadata": {},
   "outputs": [
    {
     "data": {
      "image/png": "[encoded data removed]",
      "text/plain": [
       "<Figure size 720x360 with 2 Axes>"
      ]
     },
     "metadata": {
      "needs_background": "light"
     },
     "output_type": "display_data"
    }
   ],
   "source": [
    "from matplotlib.ticker import MaxNLocator\n",
    "\n",
    "fig, axes = plt.subplots(1, 2, figsize=(10, 5))\n",
    "#fig.suptitle('Tuning max_depth')\n",
    "\n",
    "sns.lineplot(ax=axes[0], data=rf_rebalanced, x='max_depth', y='%_invest_loss_train', color='blue')\n",
    "sns.lineplot(ax=axes[0], data=rf_rebalanced, x='max_depth', y='%_invest_loss_test', color='red')\n",
    "axes[0].xaxis.set_major_locator(MaxNLocator(integer=True))\n",
    "axes[0].set_xlim(left=1, right=21)\n",
    "axes[0].set_ylim(bottom=0, top=13)\n",
    "axes[0].set_ylabel('% Invesment Loss')\n",
    "axes[0].set_title('Random Forest - Balanced Class Weights')\n",
    "axes[0].axvline(7,color='black',ls='--') \n",
    "\n",
    "sns.lineplot(ax=axes[1], data=xgb_rebalanced, x='max_depth', y='%_invest_loss_train', color='blue')\n",
    "sns.lineplot(ax=axes[1], data=xgb_rebalanced, x='max_depth', y='%_invest_loss_test', color='red')\n",
    "axes[1].xaxis.set_major_locator(MaxNLocator(integer=True))\n",
    "axes[1].set_xlim(left=1, right=21)\n",
    "axes[1].set_ylim(bottom=0, top=13)\n",
    "axes[1].set_ylabel('% Invesment Loss')\n",
    "axes[1].set_title('XGBoost - Balanced Class Weights')\n",
    "axes[1].axvline(4,color='black',ls='--') \n",
    "\n",
    "fig.legend(['Train','Test'], loc='center')\n",
    "fig.tight_layout() \n",
    "plt.show()"
   ]
  },
  {
   "cell_type": "code",
   "execution_count": null,
   "metadata": {},
   "outputs": [],
   "source": [
    "'''from matplotlib.ticker import MaxNLocator\n",
    "\n",
    "fig, axes = plt.subplots(2, 2, figsize=(10, 7))\n",
    "#fig.suptitle('Tuning max_depth')\n",
    "\n",
    "sns.lineplot(ax=axes[0,0], data=rf_no_class_wt, x='max_depth', y='%_invest_loss_train', color='blue')\n",
    "sns.lineplot(ax=axes[0,0], data=rf_no_class_wt, x='max_depth', y='%_invest_loss_test', color='red')\n",
    "axes[0,0].xaxis.set_major_locator(MaxNLocator(integer=True))\n",
    "axes[0,0].set_xlim(left=1, right=21)\n",
    "axes[0,0].set_ylim(bottom=0, top=13)\n",
    "axes[0,0].set_ylabel('% Invesment Loss')\n",
    "axes[0,0].set_title('Random Forest - No Class Weights')\n",
    "axes[0,0].axvline(7,color='black',ls='--') \n",
    "\n",
    "sns.lineplot(ax=axes[0,1], data=rf_rebalanced, x='max_depth', y='%_invest_loss_train', color='blue')\n",
    "sns.lineplot(ax=axes[0,1], data=rf_rebalanced, x='max_depth', y='%_invest_loss_test', color='red')\n",
    "axes[0,1].xaxis.set_major_locator(MaxNLocator(integer=True))\n",
    "axes[0,1].set_xlim(left=1, right=21)\n",
    "axes[0,1].set_ylim(bottom=0, top=13)\n",
    "axes[0,1].set_ylabel('% Invesment Loss')\n",
    "axes[0,1].set_title('Random Forest - Balanced Class Weights')\n",
    "axes[0,1].axvline(7,color='black',ls='--') \n",
    "\n",
    "sns.lineplot(ax=axes[1,0], data=xgb_no_class_wt, x='max_depth', y='%_invest_loss_train', color='blue')\n",
    "sns.lineplot(ax=axes[1,0], data=xgb_no_class_wt, x='max_depth', y='%_invest_loss_test', color='red')\n",
    "axes[1,0].xaxis.set_major_locator(MaxNLocator(integer=True))\n",
    "axes[1,0].set_xlim(left=1, right=21)\n",
    "axes[1,0].set_ylim(bottom=0, top=13)\n",
    "axes[1,0].set_ylabel('% Invesment Loss')\n",
    "axes[1,0].set_title('XGBoost - No Class Weights')\n",
    "axes[1,0].axvline(4,color='black',ls='--') \n",
    "\n",
    "sns.lineplot(ax=axes[1,1], data=xgb_rebalanced, x='max_depth', y='%_invest_loss_train', color='blue')\n",
    "sns.lineplot(ax=axes[1,1], data=xgb_rebalanced, x='max_depth', y='%_invest_loss_test', color='red')\n",
    "axes[1,1].xaxis.set_major_locator(MaxNLocator(integer=True))\n",
    "axes[1,1].set_xlim(left=1, right=21)\n",
    "axes[1,1].set_ylim(bottom=0, top=13)\n",
    "axes[1,1].set_ylabel('% Invesment Loss')\n",
    "axes[1,1].set_title('XGBoost - Balanced Class Weights')\n",
    "axes[1,1].axvline(4,color='black',ls='--') \n",
    "\n",
    "fig.legend(['Train','Test'], loc='center')\n",
    "fig.tight_layout() \n",
    "plt.show()'''"
   ]
  },
  {
   "cell_type": "markdown",
   "metadata": {},
   "source": [
    "### Model results\n",
    "Per the graphs above, rebalancing the classes decreases the overall performance of the models for both Random Forest and XGBoost.  \"XGBoost - No Class Weights\" whht max_depth = 4 gives the best (minimum) % Investor Loss without significantly overfitting the training set.   "
   ]
  },
  {
   "cell_type": "markdown",
   "metadata": {},
   "source": [
    "### Eta vs. Metrics"
   ]
  },
  {
   "cell_type": "code",
   "execution_count": 38,
   "metadata": {},
   "outputs": [
    {
     "data": {
      "text/html": [
       "<div>\n",
       "<style scoped>\n",
       "    .dataframe tbody tr th:only-of-type {\n",
       "        vertical-align: middle;\n",
       "    }\n",
       "\n",
       "    .dataframe tbody tr th {\n",
       "        vertical-align: top;\n",
       "    }\n",
       "\n",
       "    .dataframe thead th {\n",
       "        text-align: right;\n",
       "    }\n",
       "</style>\n",
       "<table border=\"1\" class=\"dataframe\">\n",
       "  <thead>\n",
       "    <tr style=\"text-align: right;\">\n",
       "      <th></th>\n",
       "      <th>eta</th>\n",
       "      <th>accuracy_train</th>\n",
       "      <th>accuracy_test</th>\n",
       "      <th>f1_train</th>\n",
       "      <th>f1_test</th>\n",
       "      <th>f2_train</th>\n",
       "      <th>f2_test</th>\n",
       "      <th>%_invest_loss_train</th>\n",
       "      <th>%_invest_loss_test</th>\n",
       "    </tr>\n",
       "  </thead>\n",
       "  <tbody>\n",
       "    <tr>\n",
       "      <th>0</th>\n",
       "      <td>0.01</td>\n",
       "      <td>0.760853</td>\n",
       "      <td>0.756259</td>\n",
       "      <td>0.250310</td>\n",
       "      <td>0.240306</td>\n",
       "      <td>0.430631</td>\n",
       "      <td>0.414260</td>\n",
       "      <td>12.370405</td>\n",
       "      <td>12.667025</td>\n",
       "    </tr>\n",
       "    <tr>\n",
       "      <th>1</th>\n",
       "      <td>0.11</td>\n",
       "      <td>0.797551</td>\n",
       "      <td>0.789817</td>\n",
       "      <td>0.281341</td>\n",
       "      <td>0.264445</td>\n",
       "      <td>0.464829</td>\n",
       "      <td>0.439129</td>\n",
       "      <td>10.550308</td>\n",
       "      <td>11.027492</td>\n",
       "    </tr>\n",
       "    <tr>\n",
       "      <th>2</th>\n",
       "      <td>0.21</td>\n",
       "      <td>0.818550</td>\n",
       "      <td>0.808478</td>\n",
       "      <td>0.310789</td>\n",
       "      <td>0.284977</td>\n",
       "      <td>0.501574</td>\n",
       "      <td>0.462842</td>\n",
       "      <td>9.436198</td>\n",
       "      <td>10.075257</td>\n",
       "    </tr>\n",
       "    <tr>\n",
       "      <th>3</th>\n",
       "      <td>0.31</td>\n",
       "      <td>0.825659</td>\n",
       "      <td>0.814237</td>\n",
       "      <td>0.324793</td>\n",
       "      <td>0.292483</td>\n",
       "      <td>0.520552</td>\n",
       "      <td>0.471698</td>\n",
       "      <td>9.029721</td>\n",
       "      <td>9.775764</td>\n",
       "    </tr>\n",
       "    <tr>\n",
       "      <th>4</th>\n",
       "      <td>0.41</td>\n",
       "      <td>0.843432</td>\n",
       "      <td>0.832591</td>\n",
       "      <td>0.349515</td>\n",
       "      <td>0.315327</td>\n",
       "      <td>0.545921</td>\n",
       "      <td>0.495558</td>\n",
       "      <td>8.134483</td>\n",
       "      <td>8.850407</td>\n",
       "    </tr>\n",
       "    <tr>\n",
       "      <th>5</th>\n",
       "      <td>0.51</td>\n",
       "      <td>0.853174</td>\n",
       "      <td>0.838197</td>\n",
       "      <td>0.368577</td>\n",
       "      <td>0.318344</td>\n",
       "      <td>0.568212</td>\n",
       "      <td>0.494771</td>\n",
       "      <td>7.607873</td>\n",
       "      <td>8.608509</td>\n",
       "    </tr>\n",
       "    <tr>\n",
       "      <th>6</th>\n",
       "      <td>0.61</td>\n",
       "      <td>0.859165</td>\n",
       "      <td>0.843880</td>\n",
       "      <td>0.380663</td>\n",
       "      <td>0.323461</td>\n",
       "      <td>0.581807</td>\n",
       "      <td>0.497339</td>\n",
       "      <td>7.286970</td>\n",
       "      <td>8.347412</td>\n",
       "    </tr>\n",
       "    <tr>\n",
       "      <th>7</th>\n",
       "      <td>0.71</td>\n",
       "      <td>0.860020</td>\n",
       "      <td>0.847182</td>\n",
       "      <td>0.383176</td>\n",
       "      <td>0.324049</td>\n",
       "      <td>0.585186</td>\n",
       "      <td>0.494301</td>\n",
       "      <td>7.234309</td>\n",
       "      <td>8.216864</td>\n",
       "    </tr>\n",
       "    <tr>\n",
       "      <th>8</th>\n",
       "      <td>0.81</td>\n",
       "      <td>0.863410</td>\n",
       "      <td>0.849946</td>\n",
       "      <td>0.390781</td>\n",
       "      <td>0.328984</td>\n",
       "      <td>0.593984</td>\n",
       "      <td>0.499687</td>\n",
       "      <td>7.048349</td>\n",
       "      <td>8.070957</td>\n",
       "    </tr>\n",
       "    <tr>\n",
       "      <th>9</th>\n",
       "      <td>0.91</td>\n",
       "      <td>0.861271</td>\n",
       "      <td>0.842267</td>\n",
       "      <td>0.384222</td>\n",
       "      <td>0.312584</td>\n",
       "      <td>0.585121</td>\n",
       "      <td>0.479565</td>\n",
       "      <td>7.181648</td>\n",
       "      <td>8.500998</td>\n",
       "    </tr>\n",
       "  </tbody>\n",
       "</table>\n",
       "</div>"
      ],
      "text/plain": [
       "    eta  accuracy_train  accuracy_test  f1_train   f1_test  f2_train  \\\n",
       "0  0.01        0.760853       0.756259  0.250310  0.240306  0.430631   \n",
       "1  0.11        0.797551       0.789817  0.281341  0.264445  0.464829   \n",
       "2  0.21        0.818550       0.808478  0.310789  0.284977  0.501574   \n",
       "3  0.31        0.825659       0.814237  0.324793  0.292483  0.520552   \n",
       "4  0.41        0.843432       0.832591  0.349515  0.315327  0.545921   \n",
       "5  0.51        0.853174       0.838197  0.368577  0.318344  0.568212   \n",
       "6  0.61        0.859165       0.843880  0.380663  0.323461  0.581807   \n",
       "7  0.71        0.860020       0.847182  0.383176  0.324049  0.585186   \n",
       "8  0.81        0.863410       0.849946  0.390781  0.328984  0.593984   \n",
       "9  0.91        0.861271       0.842267  0.384222  0.312584  0.585121   \n",
       "\n",
       "    f2_test  %_invest_loss_train  %_invest_loss_test  \n",
       "0  0.414260            12.370405           12.667025  \n",
       "1  0.439129            10.550308           11.027492  \n",
       "2  0.462842             9.436198           10.075257  \n",
       "3  0.471698             9.029721            9.775764  \n",
       "4  0.495558             8.134483            8.850407  \n",
       "5  0.494771             7.607873            8.608509  \n",
       "6  0.497339             7.286970            8.347412  \n",
       "7  0.494301             7.234309            8.216864  \n",
       "8  0.499687             7.048349            8.070957  \n",
       "9  0.479565             7.181648            8.500998  "
      ]
     },
     "execution_count": 38,
     "metadata": {},
     "output_type": "execute_result"
    }
   ],
   "source": [
    "xgb_rebalanced_eta = pd.DataFrame()\n",
    "eta = 0.01\n",
    "for i in range(0,10):\n",
    "    params = {\n",
    "    'max_depth': 4,\n",
    "    'objective': 'binary:logistic',\n",
    "    'eval_metric': 'logloss',\n",
    "    'eta': eta,\n",
    "    'scale_pos_weight': 19.758 \n",
    "    }\n",
    "    classifier.model = XGBModel(params) #num_round\n",
    "    train_out = classifier.train()\n",
    "    test_out = classifier.test()\n",
    "    xgb_rebalanced_eta = xgb_rebalanced_eta.append({'eta': round(eta,2),\n",
    "                    'accuracy_train': train_out['accuracy'],\n",
    "                    'accuracy_test': test_out['accuracy'],\n",
    "                    'f1_train': train_out['f1'],          \n",
    "                    'f1_test': test_out['f1'],                                  \n",
    "                    'f2_train': train_out['f2'],            \n",
    "                    'f2_test': test_out['f2'], \n",
    "                    '%_invest_loss_train': 100*np.sum(cost_matrix*train_out['matrix'])/np.sum(train_out['matrix']),\n",
    "                    '%_invest_loss_test': 100*np.sum(cost_matrix*test_out['matrix'])/np.sum(test_out['matrix'])}, \n",
    "                    ignore_index = True)\n",
    "    print(\"eta =\",round(eta,2),\"complete\")\n",
    "    eta = eta+0.1\n",
    "clear_output()\n",
    "xgb_rebalanced_eta"
   ]
  },
  {
   "cell_type": "code",
   "execution_count": 46,
   "metadata": {},
   "outputs": [
    {
     "data": {
      "image/png": "[encoded data removed]",
      "text/plain": [
       "<Figure size 432x288 with 1 Axes>"
      ]
     },
     "metadata": {
      "needs_background": "light"
     },
     "output_type": "display_data"
    }
   ],
   "source": [
    "fig, axes = plt.subplots(1, 1, figsize=(6, 4))\n",
    "\n",
    "sns.lineplot(data=xgb_rebalanced_eta, x='eta', y='%_invest_loss_train', color='blue')\n",
    "sns.lineplot(data=xgb_rebalanced_eta, x='eta', y='%_invest_loss_test', color='red')\n",
    "#plt.xaxis.set_major_locator(MaxNLocator(integer=True))\n",
    "#axes[0].set_ylim(bottom=0, top=0.13)\n",
    "plt.ylabel('% Invesment Loss')\n",
    "plt.title('XGBoost - No Class Weights')\n",
    "plt.axvline(0.41,color='black',ls='--') \n",
    "\n",
    "fig.legend(['Train','Test'], loc='right')\n",
    "plt.show()"
   ]
  },
  {
   "cell_type": "markdown",
   "metadata": {},
   "source": [
    "#### Final Model \"XGBoost - No Class Weights\"\n",
    "The best model run with was \"XGBoost - No Class Weights\" with max_depth = 4 and eta = 0.3.  This had the lowest % Investment Losses without overfitting the training set vs. the test set.  "
   ]
  },
  {
   "cell_type": "code",
   "execution_count": 47,
   "metadata": {},
   "outputs": [],
   "source": [
    "params = {\n",
    "'max_depth': 4,\n",
    "'objective': 'binary:logistic',\n",
    "'eval_metric': 'logloss',\n",
    "'eta': 0.4,\n",
    "'scale_pos_weight': 19.758 \n",
    "}\n",
    "classifier.model = XGBModel(params)\n",
    "train_out = classifier.train()\n",
    "test_out = classifier.test()"
   ]
  },
  {
   "cell_type": "code",
   "execution_count": 48,
   "metadata": {},
   "outputs": [
    {
     "data": {
      "image/png": "[encoded data removed]",
      "text/plain": [
       "<Figure size 720x720 with 1 Axes>"
      ]
     },
     "metadata": {
      "needs_background": "light"
     },
     "output_type": "display_data"
    }
   ],
   "source": [
    "# Plot features\n",
    "plt.rcParams[\"figure.figsize\"] = (10,10)\n",
    "xgboost.plot_importance(classifier.model._model)\n",
    "# Show the plot\n",
    "plt.show()"
   ]
  },
  {
   "cell_type": "markdown",
   "metadata": {
    "id": "HISQa9FO8g_e"
   },
   "source": [
    "# Model Interpretability & Explainability <a id='model-explanation'>"
   ]
  },
  {
   "cell_type": "markdown",
   "metadata": {
    "id": "5rlSakuzPhjw"
   },
   "source": [
    "Which variables were more important and why?\n",
    "\n",
    "How did you come to the conclusion these variables were important how how should the audience interpret this?"
   ]
  },
  {
   "cell_type": "markdown",
   "metadata": {
    "id": "PSBc4ETe8g_e"
   },
   "source": [
    "## Examining Feature Importance <a id='examining-feature-importance'/>"
   ]
  },
  {
   "cell_type": "code",
   "execution_count": null,
   "metadata": {
    "id": "BpGIwvaMQD8M"
   },
   "outputs": [],
   "source": []
  },
  {
   "cell_type": "markdown",
   "metadata": {
    "id": "yb4q1PtqN5D9"
   },
   "source": []
  },
  {
   "cell_type": "code",
   "execution_count": null,
   "metadata": {
    "id": "LLbI9bVy8g_e"
   },
   "outputs": [],
   "source": []
  },
  {
   "cell_type": "markdown",
   "metadata": {
    "id": "JbAhMB1x8g_e"
   },
   "source": [
    "# Conclusion <a id='conclusion'>"
   ]
  },
  {
   "cell_type": "markdown",
   "metadata": {
    "id": "fetUVJsePwN7"
   },
   "source": [
    "What are you proposing to the audience with your models and why?\n",
    "\n",
    "How should your audience interpret your conclusion and whwere should they go moving forward on the topic?\n",
    "\n",
    "What other approaches do you recommend exploring?\n",
    "\n",
    "Bring it all home!"
   ]
  },
  {
   "cell_type": "markdown",
   "metadata": {
    "id": "xnsadV7M8g_e"
   },
   "source": [
    "### Final Model Proposal <a id='final-model-proposal'/>"
   ]
  },
  {
   "cell_type": "markdown",
   "metadata": {
    "id": "4XXMCBozN5D-"
   },
   "source": []
  },
  {
   "cell_type": "markdown",
   "metadata": {
    "id": "oX8fXYczN5D-"
   },
   "source": [
    "### Future Considerations and Model Enhancements <a id='model-enhancements'/>"
   ]
  },
  {
   "cell_type": "markdown",
   "metadata": {
    "id": "xzeTkIEWN5D-"
   },
   "source": []
  },
  {
   "cell_type": "markdown",
   "metadata": {
    "id": "Thch7JfCN5D_"
   },
   "source": [
    "### Alternative Modeling Approaches <a id='alternative-modeling-approaches'>"
   ]
  },
  {
   "cell_type": "markdown",
   "metadata": {
    "id": "IUpUUjATN5D_"
   },
   "source": []
  },
  {
   "cell_type": "markdown",
   "metadata": {},
   "source": [
    "# References"
   ]
  },
  {
   "cell_type": "markdown",
   "metadata": {},
   "source": [
    "Reference : \n",
    "\n",
    "[1] Bankruptcy Definition (investopedia.com)\n",
    "\n",
    "[2] Ensemble boosted trees with synthetic features generation in application to bankruptcy prediction - ScienceDirect\n",
    "\n",
    "[3] UCI Machine Learning Repository: Polish companies bankruptcy data Data Set\n",
    "\n",
    "\n"
   ]
  }
 ],
 "metadata": {
  "colab": {
   "name": "Case_Study_1.ipynb",
   "provenance": []
  },
  "kernelspec": {
   "display_name": "Python 3",
   "language": "python",
   "name": "python3"
  },
  "language_info": {
   "codemirror_mode": {
    "name": "ipython",
    "version": 3
   },
   "file_extension": ".py",
   "mimetype": "text/x-python",
   "name": "python",
   "nbconvert_exporter": "python",
   "pygments_lexer": "ipython3",
   "version": "3.7.10"
  }
 },
 "nbformat": 4,
 "nbformat_minor": 1
}
