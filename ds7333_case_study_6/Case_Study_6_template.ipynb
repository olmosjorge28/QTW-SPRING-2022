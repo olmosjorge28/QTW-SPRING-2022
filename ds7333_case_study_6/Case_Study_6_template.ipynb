{
 "cells": [
  {
   "cell_type": "markdown",
   "metadata": {
    "id": "GoCXzNvN8g-8"
   },
   "source": [
    "# Case Study 6 - Neural Networks"
   ]
  },
  {
   "cell_type": "markdown",
   "metadata": {
    "id": "YBy24RcB8g-9"
   },
   "source": [
    "__Team Members:__ Amber Clark, Andrew Leppla, Jorge Olmos, Paritosh Rai"
   ]
  },
  {
   "cell_type": "markdown",
   "metadata": {
    "id": "O4O0up-U8g-9"
   },
   "source": [
    "# Content\n",
    "* [Business Understanding](#business-understanding)\n",
    "    - [Scope](#scope)\n",
    "    - [Introduction](#introduction)\n",
    "    - [Methods](#methods)\n",
    "    - [Results](#results)\n",
    "* [Data Evaluation](#data-evaluation)\n",
    "    - [Loading Data](#loading-data) \n",
    "    - [Data Summary](#data-summary)\n",
    "    - [Missing Values](#missing-values)\n",
    "    - [Feature Removal](#feature-removal)\n",
    "    - [Exploratory Data Analysis (EDA)](#eda)\n",
    "* [Model Preparations](#model-preparations)\n",
    "    - [Sampling & Scaling Data](#sampling-scaling-data)\n",
    "    - [Proposed Method](#proposed-metrics)\n",
    "    - [Evaluation Metrics](#evaluation-metrics)\n",
    "    - [Feature Selection](#feature-selection)\n",
    "* [Model Building & Evaluations](#model-building)\n",
    "    - [Sampling Methodology](#sampling-methodology)\n",
    "    - [Model](#model)\n",
    "    - [Performance Analysis](#performance-analysis)\n",
    "* [Model Interpretability & Explainability](#model-explanation)\n",
    "    - [Examining Feature Importance](#examining-feature-importance)\n",
    "* [Conclusion](#conclusion)\n",
    "    - [Final Model Proposal](#final-model-proposal)\n",
    "    - [Future Considerations, Model Enhancements and Alternative Modeling Approaches](#model-enhancements)"
   ]
  },
  {
   "cell_type": "markdown",
   "metadata": {
    "id": "TRedT-FB8g_A"
   },
   "source": [
    "# Business Understanding & Executive Summary <a id='business-understanding'/>"
   ]
  },
  {
   "cell_type": "markdown",
   "metadata": {
    "id": "F-4BiuuQOEh4"
   },
   "source": [
    "## Objective:\n",
    "\n",
    "The objective of this case study is to predict the detection of a new subatomic particle with high accuracy from a dataset with 7 million records.  \n",
    "\n",
    "## Introduction:\n",
    "No information regarding the data in the case study was provided; the only stipulation given was to classify a binary variable representing \"the existence of a particle\" using a neural network. In terms of data detection of the binary classifier, 1 represents detection, and 0 represents non-detection. The client has advised that this is a massive amount of data best modeled with Neural Networks, and a high level of accuracy is critical.\n",
    "\n",
    "### Artificial Neural Networks\n",
    "\n",
    "Neural networks are based on brain biology and stimulate the brain's function. Based on neuroscience, neurons are connected by axons to other neurons. This concept is applied in an Artificial Neural Network (ANN). An ANN comprises groups of \"neurons\" called layers. These layers are connected in a network to take inputs from the dataset, fit model weights to the inputs, and eventually produce outputs that can be used to classify a target variable. The layers between the inputs and the target outputs in a neural network are called hidden layers.   \n",
    "\n",
    "<img src=\"https://raw.githubusercontent.com/olmosjorge28/QTW-SPRING-2022/main/ds7333_case_study_6/Neural_Network_fig.png\" width=400 height=400 />\n",
    "\n",
    "Physiologically, neurons work by firing signals only when a certain signal \"threshold\" is reached. This behavior is mimicked by ANNs. Any signal input below the threshold will not result in an output from the neuron, while any signal at or above the threshold will result in a constant output. Various activation functions are used to mathematically approximate how a neuron works. Activation functions are equations that determine the output of a neural network model. \n",
    "\n",
    "Some of the common activation functions are discussed below:\n",
    "\n",
    "\n",
    "<img src=\"https://raw.githubusercontent.com/olmosjorge28/QTW-SPRING-2022/main/ds7333_case_study_6/Activation%20Function.png\" width=900 height=900 />\n",
    "\n",
    "\n",
    "Each neuron represents a regression in the neural network and calculates an output. A neural network is an ensemble of many regressors that will take the outputs of previous regressors as inputs. This results in a large ensemble of regression models.\n",
    "\n",
    "\n",
    "## Modeling:\n",
    "\n",
    "### Training and Test Split\n",
    "The data were split into 70% training and 30% test sets.  Cross validation was not considered due to the size of the dataset and the complexity of the model; the compute time would have been excessive without adding much value.  \n",
    "\n",
    "### Key Metrics\n",
    "The key metric used to evaluate the models was accuracy.  Accuracy was appropriate because the target variable was balanced with a 50/50 split between Detection and Non-Detection classes.  Accuracy is a straightforward metric that is intuitive and easy to explain, and the customer also requested that the team focus on accuracy.        \n",
    "\n",
    "### Results\n",
    "\n",
    "A baseline model was built using logistic regression as a simpler and more interpretable option.  This model had an __83.6%__ accuracy between the training and test sets and had several highly important features including 'mass' and 'f6' per the plot below:  \n",
    "\n",
    "Logistic Test Set - Confusion Matrix:\n",
    "\n",
    "|                   | Predicted Not Detected | Predicted Detected |\n",
    "|-------------------|---------------|----------------|\n",
    "| Actual Not Detected  | 879,402         | 170,334              |\n",
    "| Actual Detected | 172,538           | 877,726         |\n",
    "\n",
    "<img src=\"https://raw.githubusercontent.com/olmosjorge28/QTW-SPRING-2022/main/ds7333_case_study_6/LogReg_Feature_Importance.png\" width=400 height=400 />\n",
    "\n",
    "\n",
    "A neural network (NN) model was built to try to beat this simpler baseline model.  The final neural network model had an accuracy of __88.0%__ between the training and test sets.  This is a significant improvement, especially given how expensive it is to run experiments on a large particle accelerator.  The model took a few minutes longer to train than the simpler logistic regression model, as expected.  This additional training was not excessive and significantly improved the accuracy of the predictions.           \n",
    "\n",
    "__TODO:__ Final NN Test Set - Confusion Matrix:\n",
    "\n",
    "|                   | Predicted Not Detected | Predicted Detected |\n",
    "|-------------------|---------------|----------------|\n",
    "| Actual Not Detected  | 903,103         | 146,633              |\n",
    "| Actual Detected | 104,938           | 945,326        |\n",
    "\n",
    "Comparing this confusion matrix to the one above for the baseline model, predictions were improved for both the Detected and Not Detected classes with the Neural Network model.  The __4.4% improvement in accuracy__ is equivalent to __91,301 more correct predictions__.        \n",
    "\n",
    "\n",
    "## Conclusion\n",
    "The team built a model with relatively high accuracy using a neural network.  The final neural network model should be used to make predictions on whether a new particle is detected or not based on the input data.  There was a high level of agreement between the training and test sets, and care was taken to prevent overfitting and create a generalizable model, so results should be reliable if similar experiments are conducted in the future.  \n",
    "\n",
    "\n",
    "## Future Considerations\n",
    "The team recommends that Shapley values be explored for local feature importance for the neural network model.  In addition, input from domain experts may help with feature engineering, model building, and interpretation.  Additional computation power or parallelization may also be useful to speed up model training.    "
   ]
  },
  {
   "cell_type": "markdown",
   "metadata": {
    "id": "PVtcYu5j8g_B"
   },
   "source": [
    "# Data Evaluation <a id='data-evaluation'>\n",
    "    "
   ]
  },
  {
   "cell_type": "markdown",
   "metadata": {
    "id": "Owfb6XnGfPKI"
   },
   "source": [
    "Summarize the data being used in the case using appropriate mediums (charts, graphs, tables); address questions such as: Are there missing values? Which variables are needed (which ones are not)? What assumptions or conclusions are you drawing that need to be relayed to your audience?"
   ]
  },
  {
   "cell_type": "markdown",
   "metadata": {
    "id": "4WcvKI3y8g_C"
   },
   "source": [
    "## Loading Data <a id='loading-data'>"
   ]
  },
  {
   "cell_type": "code",
   "execution_count": 2,
   "metadata": {},
   "outputs": [
    {
     "data": {
      "text/plain": [
       "\"import warnings\\nwarnings.filterwarnings('ignore')\\nfrom warnings import simplefilter \\nsimplefilter(action='ignore', category=FutureWarning)\""
      ]
     },
     "execution_count": 2,
     "metadata": {},
     "output_type": "execute_result"
    }
   ],
   "source": [
    "# standard libraries\n",
    "import pandas as pd\n",
    "import numpy as np\n",
    "import os\n",
    "from IPython.display import Image\n",
    "#from IPython.display import clear_output\n",
    "#import sklearn\n",
    "import time\n",
    "#import re\n",
    "\n",
    "# visualization\n",
    "import seaborn as sns\n",
    "import matplotlib.pyplot as plt\n",
    "%matplotlib inline\n",
    "from tabulate import tabulate\n",
    "\n",
    "# data pre-processing\n",
    "from sklearn.impute._base import _BaseImputer\n",
    "from sklearn.model_selection import StratifiedShuffleSplit\n",
    "from sklearn.model_selection._split import BaseShuffleSplit\n",
    "from sklearn.preprocessing import MinMaxScaler, StandardScaler\n",
    "\n",
    "# prediction models\n",
    "from sklearn.linear_model import LogisticRegression\n",
    "import tensorflow as tf\n",
    "from tensorflow.keras.callbacks import TensorBoard\n",
    "from sklearn.metrics import confusion_matrix\n",
    "from sklearn.metrics import accuracy_score\n",
    "from sklearn.metrics import precision_score\n",
    "from sklearn.metrics import recall_score\n",
    "from sklearn.metrics import f1_score\n",
    "from sklearn.metrics import fbeta_score\n",
    "\n",
    "# import warnings filter\n",
    "'''import warnings\n",
    "warnings.filterwarnings('ignore')\n",
    "from warnings import simplefilter \n",
    "simplefilter(action='ignore', category=FutureWarning)'''"
   ]
  },
  {
   "cell_type": "code",
   "execution_count": 3,
   "metadata": {},
   "outputs": [],
   "source": [
    "from os import listdir\n",
    "from os.path import isfile, join\n",
    "\n",
    "class FilePathManager:\n",
    "    def __init__(self, local_dir: str):\n",
    "        self.local_dir = local_dir\n",
    "    \n",
    "    def retrieve_full_path(self):\n",
    "        return os.getcwd()+'/'+self.local_dir"
   ]
  },
  {
   "cell_type": "code",
   "execution_count": 4,
   "metadata": {},
   "outputs": [],
   "source": [
    "class Loader:\n",
    "    df = pd.DataFrame()\n",
    "    \n",
    "    #@abstractmethod\n",
    "    def load_data(self, file_name):\n",
    "        pass\n",
    "    \n",
    "    #@abstractmethod\n",
    "    def get_df(self):\n",
    "        pass\n",
    "    \n",
    "    def size(self):\n",
    "        return len(self.df)"
   ]
  },
  {
   "cell_type": "code",
   "execution_count": 5,
   "metadata": {},
   "outputs": [],
   "source": [
    "from typing import Callable\n",
    " \n",
    "class CSVLoader(Loader):\n",
    "    def __init__(self, file_path_manager: FilePathManager):\n",
    "        self.file_path_manager = file_path_manager\n",
    "        \n",
    "    def load_data(self, _prepare_data: Callable[[pd.DataFrame], pd.DataFrame] = None):\n",
    "        self.df = pd.read_csv(self.file_path_manager.retrieve_full_path())\n",
    "        if _prepare_data:\n",
    "            self.df = _prepare_data(self.df)\n",
    "    \n",
    "    def get_df(self):\n",
    "        return self.df;\n",
    "    \n",
    "    def size(self):\n",
    "        return len(self.df)  "
   ]
  },
  {
   "cell_type": "code",
   "execution_count": 7,
   "metadata": {},
   "outputs": [],
   "source": [
    "def clean_data(df):\n",
    "    df['# label'] = df['# label'].astype(int)\n",
    "    return df"
   ]
  },
  {
   "cell_type": "code",
   "execution_count": 8,
   "metadata": {},
   "outputs": [],
   "source": [
    "loader = CSVLoader(FilePathManager('data/all_train.csv'))\n",
    "loader.load_data(clean_data)\n",
    "df = loader.get_df()"
   ]
  },
  {
   "cell_type": "markdown",
   "metadata": {
    "id": "ul_6nw48N5Dy"
   },
   "source": [
    "## Data Summary <a id='data-summary'>\n",
    "    \n",
    "### Data Exploration and Manipulation:\n",
    "    \n",
    "The provided data, although not described in detail, is a large dataset consisting of 28 features and a binary class. The column mass is the only named feature; all others are arbitrarily numbered, and all features are numeric. There are seven million observations. There are no known missing values in the data with the caveat that it is unknown whether zeros could constitute missing data.\n",
    "The only manipulation required for preparing this data for use in a neural network model is to change the target class object type to Boolean to save a small amount of space and to normalize the range of the features, which was performed after the data was split into test/train data set. In addition, the target classes are very well balanced in the dataset.\n"
   ]
  },
  {
   "cell_type": "markdown",
   "metadata": {
    "id": "Aws5HAx98g_E"
   },
   "source": [
    "## Missing Values <a id='missing-values'>\n",
    "There are no missing Values -- elaborate on this point later \n"
   ]
  },
  {
   "cell_type": "markdown",
   "metadata": {
    "id": "CbAmkozvN5Dz"
   },
   "source": [
    "## Exploratory Data Analysis (EDA) <a id='eda'>\n",
    "\n"
   ]
  },
  {
   "cell_type": "code",
   "execution_count": 9,
   "metadata": {},
   "outputs": [
    {
     "data": {
      "text/html": [
       "<div>\n",
       "<style scoped>\n",
       "    .dataframe tbody tr th:only-of-type {\n",
       "        vertical-align: middle;\n",
       "    }\n",
       "\n",
       "    .dataframe tbody tr th {\n",
       "        vertical-align: top;\n",
       "    }\n",
       "\n",
       "    .dataframe thead th {\n",
       "        text-align: right;\n",
       "    }\n",
       "</style>\n",
       "<table border=\"1\" class=\"dataframe\">\n",
       "  <thead>\n",
       "    <tr style=\"text-align: right;\">\n",
       "      <th></th>\n",
       "      <th># label</th>\n",
       "      <th>f0</th>\n",
       "      <th>f1</th>\n",
       "      <th>f2</th>\n",
       "      <th>f3</th>\n",
       "      <th>f4</th>\n",
       "      <th>f5</th>\n",
       "      <th>f6</th>\n",
       "      <th>f7</th>\n",
       "      <th>f8</th>\n",
       "      <th>...</th>\n",
       "      <th>f18</th>\n",
       "      <th>f19</th>\n",
       "      <th>f20</th>\n",
       "      <th>f21</th>\n",
       "      <th>f22</th>\n",
       "      <th>f23</th>\n",
       "      <th>f24</th>\n",
       "      <th>f25</th>\n",
       "      <th>f26</th>\n",
       "      <th>mass</th>\n",
       "    </tr>\n",
       "  </thead>\n",
       "  <tbody>\n",
       "    <tr>\n",
       "      <th>0</th>\n",
       "      <td>1</td>\n",
       "      <td>-0.346368</td>\n",
       "      <td>0.416306</td>\n",
       "      <td>0.999236</td>\n",
       "      <td>0.475342</td>\n",
       "      <td>0.427493</td>\n",
       "      <td>-0.005984</td>\n",
       "      <td>1.989833</td>\n",
       "      <td>0.344530</td>\n",
       "      <td>1.566297</td>\n",
       "      <td>...</td>\n",
       "      <td>4.105282</td>\n",
       "      <td>0.267826</td>\n",
       "      <td>0.378718</td>\n",
       "      <td>1.743123</td>\n",
       "      <td>3.406367</td>\n",
       "      <td>4.350537</td>\n",
       "      <td>-0.352571</td>\n",
       "      <td>1.130032</td>\n",
       "      <td>2.227706</td>\n",
       "      <td>1000.0</td>\n",
       "    </tr>\n",
       "    <tr>\n",
       "      <th>1</th>\n",
       "      <td>1</td>\n",
       "      <td>1.708236</td>\n",
       "      <td>-0.319394</td>\n",
       "      <td>-1.241873</td>\n",
       "      <td>-0.887231</td>\n",
       "      <td>-0.871906</td>\n",
       "      <td>-0.005984</td>\n",
       "      <td>-0.001047</td>\n",
       "      <td>-1.038225</td>\n",
       "      <td>0.655748</td>\n",
       "      <td>...</td>\n",
       "      <td>-1.178141</td>\n",
       "      <td>-0.877361</td>\n",
       "      <td>-1.483769</td>\n",
       "      <td>-0.573682</td>\n",
       "      <td>-1.693781</td>\n",
       "      <td>-0.545062</td>\n",
       "      <td>-0.299118</td>\n",
       "      <td>-0.662942</td>\n",
       "      <td>-0.193019</td>\n",
       "      <td>750.0</td>\n",
       "    </tr>\n",
       "    <tr>\n",
       "      <th>2</th>\n",
       "      <td>0</td>\n",
       "      <td>-0.360693</td>\n",
       "      <td>1.794174</td>\n",
       "      <td>0.264738</td>\n",
       "      <td>-0.472273</td>\n",
       "      <td>-0.292344</td>\n",
       "      <td>-1.054221</td>\n",
       "      <td>-1.150495</td>\n",
       "      <td>1.423404</td>\n",
       "      <td>1.270098</td>\n",
       "      <td>...</td>\n",
       "      <td>-1.199511</td>\n",
       "      <td>0.539020</td>\n",
       "      <td>-1.590629</td>\n",
       "      <td>-0.573682</td>\n",
       "      <td>-0.543636</td>\n",
       "      <td>-0.937456</td>\n",
       "      <td>-0.300344</td>\n",
       "      <td>-0.523262</td>\n",
       "      <td>-1.506304</td>\n",
       "      <td>750.0</td>\n",
       "    </tr>\n",
       "    <tr>\n",
       "      <th>3</th>\n",
       "      <td>1</td>\n",
       "      <td>-0.377914</td>\n",
       "      <td>-0.103932</td>\n",
       "      <td>-0.649434</td>\n",
       "      <td>-2.125015</td>\n",
       "      <td>-1.643797</td>\n",
       "      <td>-0.005984</td>\n",
       "      <td>1.011112</td>\n",
       "      <td>-1.040340</td>\n",
       "      <td>-0.541991</td>\n",
       "      <td>...</td>\n",
       "      <td>0.463763</td>\n",
       "      <td>-0.006583</td>\n",
       "      <td>1.089122</td>\n",
       "      <td>-0.573682</td>\n",
       "      <td>-0.276348</td>\n",
       "      <td>-0.409272</td>\n",
       "      <td>-0.349926</td>\n",
       "      <td>-0.307123</td>\n",
       "      <td>0.529698</td>\n",
       "      <td>1250.0</td>\n",
       "    </tr>\n",
       "    <tr>\n",
       "      <th>4</th>\n",
       "      <td>0</td>\n",
       "      <td>-0.067436</td>\n",
       "      <td>-0.636762</td>\n",
       "      <td>-0.620166</td>\n",
       "      <td>-0.062551</td>\n",
       "      <td>1.588715</td>\n",
       "      <td>-0.005984</td>\n",
       "      <td>-0.595304</td>\n",
       "      <td>-1.238987</td>\n",
       "      <td>0.336844</td>\n",
       "      <td>...</td>\n",
       "      <td>-0.552837</td>\n",
       "      <td>-1.418494</td>\n",
       "      <td>-0.562982</td>\n",
       "      <td>1.743123</td>\n",
       "      <td>0.881802</td>\n",
       "      <td>0.002516</td>\n",
       "      <td>1.560950</td>\n",
       "      <td>-0.150760</td>\n",
       "      <td>-1.023889</td>\n",
       "      <td>750.0</td>\n",
       "    </tr>\n",
       "  </tbody>\n",
       "</table>\n",
       "<p>5 rows × 29 columns</p>\n",
       "</div>"
      ],
      "text/plain": [
       "   # label        f0        f1        f2        f3        f4        f5  \\\n",
       "0        1 -0.346368  0.416306  0.999236  0.475342  0.427493 -0.005984   \n",
       "1        1  1.708236 -0.319394 -1.241873 -0.887231 -0.871906 -0.005984   \n",
       "2        0 -0.360693  1.794174  0.264738 -0.472273 -0.292344 -1.054221   \n",
       "3        1 -0.377914 -0.103932 -0.649434 -2.125015 -1.643797 -0.005984   \n",
       "4        0 -0.067436 -0.636762 -0.620166 -0.062551  1.588715 -0.005984   \n",
       "\n",
       "         f6        f7        f8  ...       f18       f19       f20       f21  \\\n",
       "0  1.989833  0.344530  1.566297  ...  4.105282  0.267826  0.378718  1.743123   \n",
       "1 -0.001047 -1.038225  0.655748  ... -1.178141 -0.877361 -1.483769 -0.573682   \n",
       "2 -1.150495  1.423404  1.270098  ... -1.199511  0.539020 -1.590629 -0.573682   \n",
       "3  1.011112 -1.040340 -0.541991  ...  0.463763 -0.006583  1.089122 -0.573682   \n",
       "4 -0.595304 -1.238987  0.336844  ... -0.552837 -1.418494 -0.562982  1.743123   \n",
       "\n",
       "        f22       f23       f24       f25       f26    mass  \n",
       "0  3.406367  4.350537 -0.352571  1.130032  2.227706  1000.0  \n",
       "1 -1.693781 -0.545062 -0.299118 -0.662942 -0.193019   750.0  \n",
       "2 -0.543636 -0.937456 -0.300344 -0.523262 -1.506304   750.0  \n",
       "3 -0.276348 -0.409272 -0.349926 -0.307123  0.529698  1250.0  \n",
       "4  0.881802  0.002516  1.560950 -0.150760 -1.023889   750.0  \n",
       "\n",
       "[5 rows x 29 columns]"
      ]
     },
     "execution_count": 9,
     "metadata": {},
     "output_type": "execute_result"
    }
   ],
   "source": [
    "df.head()"
   ]
  },
  {
   "cell_type": "markdown",
   "metadata": {},
   "source": [
    "### Scaling and Skew"
   ]
  },
  {
   "cell_type": "code",
   "execution_count": 10,
   "metadata": {},
   "outputs": [
    {
     "data": {
      "text/html": [
       "<div>\n",
       "<style scoped>\n",
       "    .dataframe tbody tr th:only-of-type {\n",
       "        vertical-align: middle;\n",
       "    }\n",
       "\n",
       "    .dataframe tbody tr th {\n",
       "        vertical-align: top;\n",
       "    }\n",
       "\n",
       "    .dataframe thead th {\n",
       "        text-align: right;\n",
       "    }\n",
       "</style>\n",
       "<table border=\"1\" class=\"dataframe\">\n",
       "  <thead>\n",
       "    <tr style=\"text-align: right;\">\n",
       "      <th></th>\n",
       "      <th>count</th>\n",
       "      <th>mean</th>\n",
       "      <th>std</th>\n",
       "      <th>min</th>\n",
       "      <th>25%</th>\n",
       "      <th>50%</th>\n",
       "      <th>75%</th>\n",
       "      <th>max</th>\n",
       "    </tr>\n",
       "  </thead>\n",
       "  <tbody>\n",
       "    <tr>\n",
       "      <th>f0</th>\n",
       "      <td>7000000.0</td>\n",
       "      <td>0.016125</td>\n",
       "      <td>1.004417</td>\n",
       "      <td>-1.960549</td>\n",
       "      <td>-0.728821</td>\n",
       "      <td>-0.039303</td>\n",
       "      <td>0.690080</td>\n",
       "      <td>4.378282</td>\n",
       "    </tr>\n",
       "    <tr>\n",
       "      <th>f1</th>\n",
       "      <td>7000000.0</td>\n",
       "      <td>0.000477</td>\n",
       "      <td>0.997486</td>\n",
       "      <td>-2.365355</td>\n",
       "      <td>-0.733255</td>\n",
       "      <td>0.000852</td>\n",
       "      <td>0.734783</td>\n",
       "      <td>2.365287</td>\n",
       "    </tr>\n",
       "    <tr>\n",
       "      <th>f2</th>\n",
       "      <td>7000000.0</td>\n",
       "      <td>0.000027</td>\n",
       "      <td>1.000080</td>\n",
       "      <td>-1.732165</td>\n",
       "      <td>-0.865670</td>\n",
       "      <td>0.000320</td>\n",
       "      <td>0.865946</td>\n",
       "      <td>1.732370</td>\n",
       "    </tr>\n",
       "    <tr>\n",
       "      <th>f3</th>\n",
       "      <td>7000000.0</td>\n",
       "      <td>0.010561</td>\n",
       "      <td>0.995600</td>\n",
       "      <td>-9.980274</td>\n",
       "      <td>-0.609229</td>\n",
       "      <td>0.019633</td>\n",
       "      <td>0.679882</td>\n",
       "      <td>4.148023</td>\n",
       "    </tr>\n",
       "    <tr>\n",
       "      <th>f4</th>\n",
       "      <td>7000000.0</td>\n",
       "      <td>-0.000105</td>\n",
       "      <td>0.999867</td>\n",
       "      <td>-1.732137</td>\n",
       "      <td>-0.865802</td>\n",
       "      <td>-0.000507</td>\n",
       "      <td>0.865765</td>\n",
       "      <td>1.731978</td>\n",
       "    </tr>\n",
       "    <tr>\n",
       "      <th>f5</th>\n",
       "      <td>7000000.0</td>\n",
       "      <td>0.002766</td>\n",
       "      <td>1.000957</td>\n",
       "      <td>-1.054221</td>\n",
       "      <td>-1.054221</td>\n",
       "      <td>-0.005984</td>\n",
       "      <td>0.850488</td>\n",
       "      <td>4.482618</td>\n",
       "    </tr>\n",
       "    <tr>\n",
       "      <th>f6</th>\n",
       "      <td>7000000.0</td>\n",
       "      <td>0.018160</td>\n",
       "      <td>0.986775</td>\n",
       "      <td>-3.034787</td>\n",
       "      <td>-0.756609</td>\n",
       "      <td>-0.149953</td>\n",
       "      <td>0.768669</td>\n",
       "      <td>3.720345</td>\n",
       "    </tr>\n",
       "    <tr>\n",
       "      <th>f7</th>\n",
       "      <td>7000000.0</td>\n",
       "      <td>0.000025</td>\n",
       "      <td>0.996587</td>\n",
       "      <td>-2.757853</td>\n",
       "      <td>-0.701415</td>\n",
       "      <td>-0.000107</td>\n",
       "      <td>0.701319</td>\n",
       "      <td>2.758590</td>\n",
       "    </tr>\n",
       "    <tr>\n",
       "      <th>f8</th>\n",
       "      <td>7000000.0</td>\n",
       "      <td>0.000435</td>\n",
       "      <td>1.000007</td>\n",
       "      <td>-1.732359</td>\n",
       "      <td>-0.865654</td>\n",
       "      <td>0.001385</td>\n",
       "      <td>0.866598</td>\n",
       "      <td>1.731450</td>\n",
       "    </tr>\n",
       "    <tr>\n",
       "      <th>f9</th>\n",
       "      <td>7000000.0</td>\n",
       "      <td>-0.006870</td>\n",
       "      <td>1.001938</td>\n",
       "      <td>-1.325801</td>\n",
       "      <td>-1.325801</td>\n",
       "      <td>0.754261</td>\n",
       "      <td>0.754261</td>\n",
       "      <td>0.754261</td>\n",
       "    </tr>\n",
       "    <tr>\n",
       "      <th>f10</th>\n",
       "      <td>7000000.0</td>\n",
       "      <td>0.017543</td>\n",
       "      <td>0.994151</td>\n",
       "      <td>-2.835563</td>\n",
       "      <td>-0.723727</td>\n",
       "      <td>-0.128573</td>\n",
       "      <td>0.647864</td>\n",
       "      <td>4.639335</td>\n",
       "    </tr>\n",
       "    <tr>\n",
       "      <th>f11</th>\n",
       "      <td>7000000.0</td>\n",
       "      <td>-0.000161</td>\n",
       "      <td>0.998450</td>\n",
       "      <td>-2.602091</td>\n",
       "      <td>-0.703293</td>\n",
       "      <td>-0.000576</td>\n",
       "      <td>0.704100</td>\n",
       "      <td>2.602294</td>\n",
       "    </tr>\n",
       "    <tr>\n",
       "      <th>f12</th>\n",
       "      <td>7000000.0</td>\n",
       "      <td>-0.000329</td>\n",
       "      <td>1.000078</td>\n",
       "      <td>-1.732216</td>\n",
       "      <td>-0.866599</td>\n",
       "      <td>-0.001282</td>\n",
       "      <td>0.865832</td>\n",
       "      <td>1.732007</td>\n",
       "    </tr>\n",
       "    <tr>\n",
       "      <th>f13</th>\n",
       "      <td>7000000.0</td>\n",
       "      <td>0.001739</td>\n",
       "      <td>0.999737</td>\n",
       "      <td>-1.161915</td>\n",
       "      <td>-1.161915</td>\n",
       "      <td>0.860649</td>\n",
       "      <td>0.860649</td>\n",
       "      <td>0.860649</td>\n",
       "    </tr>\n",
       "    <tr>\n",
       "      <th>f14</th>\n",
       "      <td>7000000.0</td>\n",
       "      <td>0.017246</td>\n",
       "      <td>0.999465</td>\n",
       "      <td>-2.454879</td>\n",
       "      <td>-0.699618</td>\n",
       "      <td>-0.097493</td>\n",
       "      <td>0.634705</td>\n",
       "      <td>5.535799</td>\n",
       "    </tr>\n",
       "    <tr>\n",
       "      <th>f15</th>\n",
       "      <td>7000000.0</td>\n",
       "      <td>0.000483</td>\n",
       "      <td>0.998429</td>\n",
       "      <td>-2.437812</td>\n",
       "      <td>-0.707026</td>\n",
       "      <td>0.000298</td>\n",
       "      <td>0.708371</td>\n",
       "      <td>2.438369</td>\n",
       "    </tr>\n",
       "    <tr>\n",
       "      <th>f16</th>\n",
       "      <td>7000000.0</td>\n",
       "      <td>-0.000554</td>\n",
       "      <td>0.999861</td>\n",
       "      <td>-1.732145</td>\n",
       "      <td>-0.866247</td>\n",
       "      <td>-0.001377</td>\n",
       "      <td>0.864942</td>\n",
       "      <td>1.732738</td>\n",
       "    </tr>\n",
       "    <tr>\n",
       "      <th>f17</th>\n",
       "      <td>7000000.0</td>\n",
       "      <td>0.004960</td>\n",
       "      <td>1.001006</td>\n",
       "      <td>-0.815440</td>\n",
       "      <td>-0.815440</td>\n",
       "      <td>-0.815440</td>\n",
       "      <td>1.226331</td>\n",
       "      <td>1.226331</td>\n",
       "    </tr>\n",
       "    <tr>\n",
       "      <th>f18</th>\n",
       "      <td>7000000.0</td>\n",
       "      <td>0.011648</td>\n",
       "      <td>1.002725</td>\n",
       "      <td>-1.728284</td>\n",
       "      <td>-0.742363</td>\n",
       "      <td>-0.089925</td>\n",
       "      <td>0.642319</td>\n",
       "      <td>5.866367</td>\n",
       "    </tr>\n",
       "    <tr>\n",
       "      <th>f19</th>\n",
       "      <td>7000000.0</td>\n",
       "      <td>-0.000113</td>\n",
       "      <td>1.000038</td>\n",
       "      <td>-2.281867</td>\n",
       "      <td>-0.720685</td>\n",
       "      <td>-0.000067</td>\n",
       "      <td>0.720492</td>\n",
       "      <td>2.282217</td>\n",
       "    </tr>\n",
       "    <tr>\n",
       "      <th>f20</th>\n",
       "      <td>7000000.0</td>\n",
       "      <td>0.000077</td>\n",
       "      <td>1.000033</td>\n",
       "      <td>-1.731758</td>\n",
       "      <td>-0.865685</td>\n",
       "      <td>-0.000442</td>\n",
       "      <td>0.865957</td>\n",
       "      <td>1.732740</td>\n",
       "    </tr>\n",
       "    <tr>\n",
       "      <th>f21</th>\n",
       "      <td>7000000.0</td>\n",
       "      <td>0.000291</td>\n",
       "      <td>1.000170</td>\n",
       "      <td>-0.573682</td>\n",
       "      <td>-0.573682</td>\n",
       "      <td>-0.573682</td>\n",
       "      <td>-0.573682</td>\n",
       "      <td>1.743123</td>\n",
       "    </tr>\n",
       "    <tr>\n",
       "      <th>f22</th>\n",
       "      <td>7000000.0</td>\n",
       "      <td>0.012288</td>\n",
       "      <td>1.010477</td>\n",
       "      <td>-3.631608</td>\n",
       "      <td>-0.541794</td>\n",
       "      <td>-0.160276</td>\n",
       "      <td>0.481219</td>\n",
       "      <td>7.293420</td>\n",
       "    </tr>\n",
       "    <tr>\n",
       "      <th>f23</th>\n",
       "      <td>7000000.0</td>\n",
       "      <td>0.009778</td>\n",
       "      <td>1.005418</td>\n",
       "      <td>-4.729473</td>\n",
       "      <td>-0.511552</td>\n",
       "      <td>-0.314403</td>\n",
       "      <td>0.163489</td>\n",
       "      <td>9.333287</td>\n",
       "    </tr>\n",
       "    <tr>\n",
       "      <th>f24</th>\n",
       "      <td>7000000.0</td>\n",
       "      <td>0.005270</td>\n",
       "      <td>1.009990</td>\n",
       "      <td>-20.622229</td>\n",
       "      <td>-0.354387</td>\n",
       "      <td>-0.326523</td>\n",
       "      <td>-0.233767</td>\n",
       "      <td>14.990636</td>\n",
       "    </tr>\n",
       "    <tr>\n",
       "      <th>f25</th>\n",
       "      <td>7000000.0</td>\n",
       "      <td>-0.001761</td>\n",
       "      <td>0.984451</td>\n",
       "      <td>-3.452634</td>\n",
       "      <td>-0.692510</td>\n",
       "      <td>-0.357030</td>\n",
       "      <td>0.475313</td>\n",
       "      <td>5.277313</td>\n",
       "    </tr>\n",
       "    <tr>\n",
       "      <th>f26</th>\n",
       "      <td>7000000.0</td>\n",
       "      <td>0.015331</td>\n",
       "      <td>0.982280</td>\n",
       "      <td>-2.632761</td>\n",
       "      <td>-0.794380</td>\n",
       "      <td>-0.088286</td>\n",
       "      <td>0.761085</td>\n",
       "      <td>4.444690</td>\n",
       "    </tr>\n",
       "    <tr>\n",
       "      <th>mass</th>\n",
       "      <td>7000000.0</td>\n",
       "      <td>1000.107387</td>\n",
       "      <td>353.425487</td>\n",
       "      <td>499.999969</td>\n",
       "      <td>750.000000</td>\n",
       "      <td>1000.000000</td>\n",
       "      <td>1250.000000</td>\n",
       "      <td>1500.000000</td>\n",
       "    </tr>\n",
       "  </tbody>\n",
       "</table>\n",
       "</div>"
      ],
      "text/plain": [
       "          count         mean         std         min         25%          50%  \\\n",
       "f0    7000000.0     0.016125    1.004417   -1.960549   -0.728821    -0.039303   \n",
       "f1    7000000.0     0.000477    0.997486   -2.365355   -0.733255     0.000852   \n",
       "f2    7000000.0     0.000027    1.000080   -1.732165   -0.865670     0.000320   \n",
       "f3    7000000.0     0.010561    0.995600   -9.980274   -0.609229     0.019633   \n",
       "f4    7000000.0    -0.000105    0.999867   -1.732137   -0.865802    -0.000507   \n",
       "f5    7000000.0     0.002766    1.000957   -1.054221   -1.054221    -0.005984   \n",
       "f6    7000000.0     0.018160    0.986775   -3.034787   -0.756609    -0.149953   \n",
       "f7    7000000.0     0.000025    0.996587   -2.757853   -0.701415    -0.000107   \n",
       "f8    7000000.0     0.000435    1.000007   -1.732359   -0.865654     0.001385   \n",
       "f9    7000000.0    -0.006870    1.001938   -1.325801   -1.325801     0.754261   \n",
       "f10   7000000.0     0.017543    0.994151   -2.835563   -0.723727    -0.128573   \n",
       "f11   7000000.0    -0.000161    0.998450   -2.602091   -0.703293    -0.000576   \n",
       "f12   7000000.0    -0.000329    1.000078   -1.732216   -0.866599    -0.001282   \n",
       "f13   7000000.0     0.001739    0.999737   -1.161915   -1.161915     0.860649   \n",
       "f14   7000000.0     0.017246    0.999465   -2.454879   -0.699618    -0.097493   \n",
       "f15   7000000.0     0.000483    0.998429   -2.437812   -0.707026     0.000298   \n",
       "f16   7000000.0    -0.000554    0.999861   -1.732145   -0.866247    -0.001377   \n",
       "f17   7000000.0     0.004960    1.001006   -0.815440   -0.815440    -0.815440   \n",
       "f18   7000000.0     0.011648    1.002725   -1.728284   -0.742363    -0.089925   \n",
       "f19   7000000.0    -0.000113    1.000038   -2.281867   -0.720685    -0.000067   \n",
       "f20   7000000.0     0.000077    1.000033   -1.731758   -0.865685    -0.000442   \n",
       "f21   7000000.0     0.000291    1.000170   -0.573682   -0.573682    -0.573682   \n",
       "f22   7000000.0     0.012288    1.010477   -3.631608   -0.541794    -0.160276   \n",
       "f23   7000000.0     0.009778    1.005418   -4.729473   -0.511552    -0.314403   \n",
       "f24   7000000.0     0.005270    1.009990  -20.622229   -0.354387    -0.326523   \n",
       "f25   7000000.0    -0.001761    0.984451   -3.452634   -0.692510    -0.357030   \n",
       "f26   7000000.0     0.015331    0.982280   -2.632761   -0.794380    -0.088286   \n",
       "mass  7000000.0  1000.107387  353.425487  499.999969  750.000000  1000.000000   \n",
       "\n",
       "              75%          max  \n",
       "f0       0.690080     4.378282  \n",
       "f1       0.734783     2.365287  \n",
       "f2       0.865946     1.732370  \n",
       "f3       0.679882     4.148023  \n",
       "f4       0.865765     1.731978  \n",
       "f5       0.850488     4.482618  \n",
       "f6       0.768669     3.720345  \n",
       "f7       0.701319     2.758590  \n",
       "f8       0.866598     1.731450  \n",
       "f9       0.754261     0.754261  \n",
       "f10      0.647864     4.639335  \n",
       "f11      0.704100     2.602294  \n",
       "f12      0.865832     1.732007  \n",
       "f13      0.860649     0.860649  \n",
       "f14      0.634705     5.535799  \n",
       "f15      0.708371     2.438369  \n",
       "f16      0.864942     1.732738  \n",
       "f17      1.226331     1.226331  \n",
       "f18      0.642319     5.866367  \n",
       "f19      0.720492     2.282217  \n",
       "f20      0.865957     1.732740  \n",
       "f21     -0.573682     1.743123  \n",
       "f22      0.481219     7.293420  \n",
       "f23      0.163489     9.333287  \n",
       "f24     -0.233767    14.990636  \n",
       "f25      0.475313     5.277313  \n",
       "f26      0.761085     4.444690  \n",
       "mass  1250.000000  1500.000000  "
      ]
     },
     "execution_count": 10,
     "metadata": {},
     "output_type": "execute_result"
    }
   ],
   "source": [
    "feature_summary = df.iloc[:, 1:29].describe().T\n",
    "feature_summary"
   ]
  },
  {
   "cell_type": "markdown",
   "metadata": {},
   "source": [
    "### Highly Skewed Features"
   ]
  },
  {
   "cell_type": "code",
   "execution_count": 11,
   "metadata": {},
   "outputs": [
    {
     "data": {
      "text/html": [
       "<div>\n",
       "<style scoped>\n",
       "    .dataframe tbody tr th:only-of-type {\n",
       "        vertical-align: middle;\n",
       "    }\n",
       "\n",
       "    .dataframe tbody tr th {\n",
       "        vertical-align: top;\n",
       "    }\n",
       "\n",
       "    .dataframe thead th {\n",
       "        text-align: right;\n",
       "    }\n",
       "</style>\n",
       "<table border=\"1\" class=\"dataframe\">\n",
       "  <thead>\n",
       "    <tr style=\"text-align: right;\">\n",
       "      <th></th>\n",
       "      <th>f0</th>\n",
       "      <th>f3</th>\n",
       "      <th>f5</th>\n",
       "      <th>f10</th>\n",
       "      <th>f14</th>\n",
       "      <th>f18</th>\n",
       "      <th>f22</th>\n",
       "      <th>f23</th>\n",
       "      <th>f24</th>\n",
       "      <th>f25</th>\n",
       "      <th>f26</th>\n",
       "    </tr>\n",
       "  </thead>\n",
       "  <tbody>\n",
       "    <tr>\n",
       "      <th>count</th>\n",
       "      <td>7.000000e+06</td>\n",
       "      <td>7.000000e+06</td>\n",
       "      <td>7.000000e+06</td>\n",
       "      <td>7.000000e+06</td>\n",
       "      <td>7.000000e+06</td>\n",
       "      <td>7.000000e+06</td>\n",
       "      <td>7.000000e+06</td>\n",
       "      <td>7.000000e+06</td>\n",
       "      <td>7.000000e+06</td>\n",
       "      <td>7.000000e+06</td>\n",
       "      <td>7.000000e+06</td>\n",
       "    </tr>\n",
       "    <tr>\n",
       "      <th>mean</th>\n",
       "      <td>1.612528e-02</td>\n",
       "      <td>1.056081e-02</td>\n",
       "      <td>2.765919e-03</td>\n",
       "      <td>1.754267e-02</td>\n",
       "      <td>1.724634e-02</td>\n",
       "      <td>1.164789e-02</td>\n",
       "      <td>1.228774e-02</td>\n",
       "      <td>9.778378e-03</td>\n",
       "      <td>5.269844e-03</td>\n",
       "      <td>-1.760961e-03</td>\n",
       "      <td>1.533136e-02</td>\n",
       "    </tr>\n",
       "    <tr>\n",
       "      <th>std</th>\n",
       "      <td>1.004417e+00</td>\n",
       "      <td>9.956003e-01</td>\n",
       "      <td>1.000957e+00</td>\n",
       "      <td>9.941511e-01</td>\n",
       "      <td>9.994654e-01</td>\n",
       "      <td>1.002725e+00</td>\n",
       "      <td>1.010477e+00</td>\n",
       "      <td>1.005418e+00</td>\n",
       "      <td>1.009990e+00</td>\n",
       "      <td>9.844511e-01</td>\n",
       "      <td>9.822799e-01</td>\n",
       "    </tr>\n",
       "    <tr>\n",
       "      <th>min</th>\n",
       "      <td>-1.960549e+00</td>\n",
       "      <td>-9.980274e+00</td>\n",
       "      <td>-1.054221e+00</td>\n",
       "      <td>-2.835563e+00</td>\n",
       "      <td>-2.454879e+00</td>\n",
       "      <td>-1.728284e+00</td>\n",
       "      <td>-3.631608e+00</td>\n",
       "      <td>-4.729473e+00</td>\n",
       "      <td>-2.062223e+01</td>\n",
       "      <td>-3.452634e+00</td>\n",
       "      <td>-2.632761e+00</td>\n",
       "    </tr>\n",
       "    <tr>\n",
       "      <th>25%</th>\n",
       "      <td>-7.288206e-01</td>\n",
       "      <td>-6.092291e-01</td>\n",
       "      <td>-1.054221e+00</td>\n",
       "      <td>-7.237266e-01</td>\n",
       "      <td>-6.996179e-01</td>\n",
       "      <td>-7.423630e-01</td>\n",
       "      <td>-5.417942e-01</td>\n",
       "      <td>-5.115522e-01</td>\n",
       "      <td>-3.543870e-01</td>\n",
       "      <td>-6.925097e-01</td>\n",
       "      <td>-7.943804e-01</td>\n",
       "    </tr>\n",
       "    <tr>\n",
       "      <th>50%</th>\n",
       "      <td>-3.930319e-02</td>\n",
       "      <td>1.963316e-02</td>\n",
       "      <td>-5.983562e-03</td>\n",
       "      <td>-1.285732e-01</td>\n",
       "      <td>-9.749269e-02</td>\n",
       "      <td>-8.992496e-02</td>\n",
       "      <td>-1.602760e-01</td>\n",
       "      <td>-3.144032e-01</td>\n",
       "      <td>-3.265228e-01</td>\n",
       "      <td>-3.570301e-01</td>\n",
       "      <td>-8.828640e-02</td>\n",
       "    </tr>\n",
       "    <tr>\n",
       "      <th>75%</th>\n",
       "      <td>6.900799e-01</td>\n",
       "      <td>6.798818e-01</td>\n",
       "      <td>8.504885e-01</td>\n",
       "      <td>6.478635e-01</td>\n",
       "      <td>6.347052e-01</td>\n",
       "      <td>6.423185e-01</td>\n",
       "      <td>4.812194e-01</td>\n",
       "      <td>1.634892e-01</td>\n",
       "      <td>-2.337671e-01</td>\n",
       "      <td>4.753128e-01</td>\n",
       "      <td>7.610846e-01</td>\n",
       "    </tr>\n",
       "    <tr>\n",
       "      <th>max</th>\n",
       "      <td>4.378282e+00</td>\n",
       "      <td>4.148023e+00</td>\n",
       "      <td>4.482618e+00</td>\n",
       "      <td>4.639335e+00</td>\n",
       "      <td>5.535799e+00</td>\n",
       "      <td>5.866367e+00</td>\n",
       "      <td>7.293420e+00</td>\n",
       "      <td>9.333287e+00</td>\n",
       "      <td>1.499064e+01</td>\n",
       "      <td>5.277313e+00</td>\n",
       "      <td>4.444690e+00</td>\n",
       "    </tr>\n",
       "  </tbody>\n",
       "</table>\n",
       "</div>"
      ],
      "text/plain": [
       "                 f0            f3            f5           f10           f14  \\\n",
       "count  7.000000e+06  7.000000e+06  7.000000e+06  7.000000e+06  7.000000e+06   \n",
       "mean   1.612528e-02  1.056081e-02  2.765919e-03  1.754267e-02  1.724634e-02   \n",
       "std    1.004417e+00  9.956003e-01  1.000957e+00  9.941511e-01  9.994654e-01   \n",
       "min   -1.960549e+00 -9.980274e+00 -1.054221e+00 -2.835563e+00 -2.454879e+00   \n",
       "25%   -7.288206e-01 -6.092291e-01 -1.054221e+00 -7.237266e-01 -6.996179e-01   \n",
       "50%   -3.930319e-02  1.963316e-02 -5.983562e-03 -1.285732e-01 -9.749269e-02   \n",
       "75%    6.900799e-01  6.798818e-01  8.504885e-01  6.478635e-01  6.347052e-01   \n",
       "max    4.378282e+00  4.148023e+00  4.482618e+00  4.639335e+00  5.535799e+00   \n",
       "\n",
       "                f18           f22           f23           f24           f25  \\\n",
       "count  7.000000e+06  7.000000e+06  7.000000e+06  7.000000e+06  7.000000e+06   \n",
       "mean   1.164789e-02  1.228774e-02  9.778378e-03  5.269844e-03 -1.760961e-03   \n",
       "std    1.002725e+00  1.010477e+00  1.005418e+00  1.009990e+00  9.844511e-01   \n",
       "min   -1.728284e+00 -3.631608e+00 -4.729473e+00 -2.062223e+01 -3.452634e+00   \n",
       "25%   -7.423630e-01 -5.417942e-01 -5.115522e-01 -3.543870e-01 -6.925097e-01   \n",
       "50%   -8.992496e-02 -1.602760e-01 -3.144032e-01 -3.265228e-01 -3.570301e-01   \n",
       "75%    6.423185e-01  4.812194e-01  1.634892e-01 -2.337671e-01  4.753128e-01   \n",
       "max    5.866367e+00  7.293420e+00  9.333287e+00  1.499064e+01  5.277313e+00   \n",
       "\n",
       "                f26  \n",
       "count  7.000000e+06  \n",
       "mean   1.533136e-02  \n",
       "std    9.822799e-01  \n",
       "min   -2.632761e+00  \n",
       "25%   -7.943804e-01  \n",
       "50%   -8.828640e-02  \n",
       "75%    7.610846e-01  \n",
       "max    4.444690e+00  "
      ]
     },
     "execution_count": 11,
     "metadata": {},
     "output_type": "execute_result"
    }
   ],
   "source": [
    "right_skew = feature_summary.loc[feature_summary['max'] > feature_summary['mean'] + feature_summary['std']*4]\n",
    "left_skew = feature_summary.loc[feature_summary['min'] < feature_summary['mean'] - feature_summary['std']*4]\n",
    "skew = pd.concat([right_skew.T, left_skew.T], axis=0, join='outer')\n",
    "skew.head(8)"
   ]
  },
  {
   "cell_type": "markdown",
   "metadata": {},
   "source": [
    "#### Skewed, no major outliers"
   ]
  },
  {
   "cell_type": "code",
   "execution_count": 12,
   "metadata": {},
   "outputs": [
    {
     "data": {
      "image/png": "[encoded data removed]",
      "text/plain": [
       "<Figure size 1008x360 with 12 Axes>"
      ]
     },
     "metadata": {
      "needs_background": "light"
     },
     "output_type": "display_data"
    }
   ],
   "source": [
    "fig, axes = plt.subplots(2, 6, figsize=(14, 5))\n",
    "fig.suptitle('Skewed Features - Boxplots')\n",
    "for i,j in zip(skew.columns, range(11)):\n",
    "    sns.boxplot(ax = axes[int(j/6), j%6], x = df[i])\n",
    "\n",
    "fig.tight_layout()"
   ]
  },
  {
   "cell_type": "markdown",
   "metadata": {},
   "source": [
    "    \n",
    "### Target Variable Class Distribution\n",
    "\n",
    "    \n",
    "<img src=\"https://raw.githubusercontent.com/olmosjorge28/QTW-SPRING-2022/main/ds7333_case_study_6/Target_Variable_Class_Distribution.png\" width=400 height=400 />\n",
    "\n",
    "    \n",
    "Also, correlations between features f6, f10, f14, f18, and f26 were observed and also with the target variable. However, all the variables will be included in the model fitting exercise as there is no domain knowledge of the features to assess if some of them can be excluded from the analysis instead of the others.\n",
    "\n",
    "    \n",
    "        \n",
    "<img src=\"https://raw.githubusercontent.com/olmosjorge28/QTW-SPRING-2022/main/ds7333_case_study_6/Correlation_heat_map.png\" width=600 height=600 />\n",
    "   "
   ]
  },
  {
   "cell_type": "markdown",
   "metadata": {
    "id": "zmuI_mep8g_b"
   },
   "source": [
    "# Model Preparations <a id='model-preparations'/>"
   ]
  },
  {
   "cell_type": "markdown",
   "metadata": {
    "id": "9iDJqPa8fUNp"
   },
   "source": [
    "Which methods are you proposing to utilize to solve the problem?  Why is this method appropriate given the business objective? How will you determine if your approach is useful (or how will you differentiate which approach is more useful than another)?  More specifically, what evaluation metrics are most useful given that the problem is a classification one (ex., Accuracy, F1-score, Precision, Recall, AUC, etc.)?"
   ]
  },
  {
   "cell_type": "markdown",
   "metadata": {
    "id": "BnCsXV_c8g_V"
   },
   "source": [
    "## Sampling & Scaling Data <a id='sampling-scaling-data' />\n",
    "\n",
    "\n",
    "Training and test sets were created from the data using the stratified method to maintain the ratio of the binary outcome.  This was done in an abundance of caution, because the classes are almost perfectly balanced. 30% of the data was withheld for the test set, and the defining features were normalized.\n"
   ]
  },
  {
   "cell_type": "markdown",
   "metadata": {
    "id": "cXqoLTm_8g_c"
   },
   "source": [
    "## Proposed Method <a id='proposed-metrics' />\n",
    "\n",
    "The stakeholders wanted our team to focus on creating a model that would predict the existence of a new particle with high accuracy above all, and the model interpretability was not a priority. With this mind the team decided on using an Artificial Neural Network to achieve a high accuracy model. The model had an input layer of 28 neurons (one for each of the features), and it had 2 hidden layers with 200 neurons and 50 neurons, respectively.  The hidden layers used a ReLu activation functoin, which was chosen for its characteristics that helps estimating non-linear functions. The model had a single neuron output layer with a sigmoid activation function and a BinaryCrossentropy loss function since our target variable is binary. \n",
    "\n",
    "In experimentations our best results were achieved with a batch size of 1000. This gave a large enough sample size to limit unnecessary fluctations, and this gave the model the right balance between variance and bias. Additionally, the batch sizes were small enough to compute in memory, but not so small that it would increase processing time dramatically.  Batch sizes of 10,000 and 100,000 ran faster but resulted in slower learning with lower accuracy.  The team ran 40 epochs with a batch size of 1000 since no further improvement was observed beyond that without risking overfitting.     "
   ]
  },
  {
   "cell_type": "markdown",
   "metadata": {},
   "source": [
    "### Code"
   ]
  },
  {
   "cell_type": "code",
   "execution_count": 13,
   "metadata": {},
   "outputs": [],
   "source": [
    "class BaseImputer:\n",
    "    #@abstractmethod\n",
    "    def fit(self, X, y=None):\n",
    "        pass\n",
    "    \n",
    "    #@abstractmethod\n",
    "    def transform(self, X):\n",
    "        pass\n",
    "\n",
    "class BaseModel:\n",
    "    #@abstractmethod\n",
    "    def fit(self, X, y, sample_weight=None):\n",
    "        pass\n",
    "    \n",
    "    #@abstractmethod\n",
    "    def predict(self, X):\n",
    "        passb"
   ]
  },
  {
   "cell_type": "code",
   "execution_count": 14,
   "metadata": {},
   "outputs": [],
   "source": [
    "class Modeling:\n",
    "    _X_train_fitted = None\n",
    "    _X_test_fitted = None\n",
    "    _y_train = None\n",
    "    _y_test = None\n",
    "    _y_preds = None\n",
    "    \n",
    "    def __init__(self, data: pd.DataFrame, \n",
    "                 target_name: str, \n",
    "                 shuffle_splitter: BaseShuffleSplit, \n",
    "                 imputer: BaseImputer, \n",
    "                 model: BaseModel, \n",
    "                 scaler = None):\n",
    "        self._data = data\n",
    "        self._target_name = target_name\n",
    "        self._shuffle_splitter = shuffle_splitter\n",
    "        self._imputer = imputer\n",
    "        self._model = model\n",
    "        self._X, self._y = self._split_data()\n",
    "        self._scaler = scaler\n",
    "        \n",
    "    @property\n",
    "    def X(self):\n",
    "        return self._X\n",
    "    \n",
    "    @property\n",
    "    def y(self):\n",
    "        return self._y\n",
    "\n",
    "    @property\n",
    "    def model(self):\n",
    "        return self._model\n",
    "    \n",
    "    @model.setter\n",
    "    def model(self, model):\n",
    "        self._model = model\n",
    "     \n",
    "    @property\n",
    "    def X_train(self):\n",
    "        return self._X_train_fitted\n",
    "    \n",
    "    @property\n",
    "    def X_test(self):\n",
    "        return self._X_test_fitted\n",
    "    \n",
    "    @property\n",
    "    def y_train(self):\n",
    "        return self._y_train\n",
    "    \n",
    "    @property\n",
    "    def y_test(self):\n",
    "        return self._y_test\n",
    "    \n",
    "    @property\n",
    "    def y_preds(self):\n",
    "        return self._y_preds\n",
    "    \n",
    "    def _split_data(self):\n",
    "        X = self._data.copy()\n",
    "        return X.drop([self._target_name], axis=1) , X[self._target_name]\n",
    "    \n",
    "    def _shuffle_split(self):\n",
    "        X = self.X\n",
    "        y = self.y\n",
    "        for train_index, test_index in self._shuffle_splitter.split(X,y):\n",
    "            X_train, X_test = X.iloc[train_index], X.iloc[test_index]\n",
    "            y_train, y_test = y[train_index], y[test_index]\n",
    "        return X_train, X_test, y_train, y_test\n",
    "    \n",
    "    def _fit_imputer(self, train):\n",
    "        if self._imputer is not None:\n",
    "            self._imputer.fit(train)\n",
    "    \n",
    "    def _fit_scaler(self, train):\n",
    "        if self._scaler is not None:\n",
    "            self._scaler.fit(train)\n",
    "    \n",
    "    def _impute_data(self, X: pd.DataFrame):\n",
    "        if self._imputer is not None:\n",
    "            return pd.DataFrame(self._imputer.transform(X), columns = self.X.columns, index = X.index)\n",
    "        return X\n",
    "    \n",
    "    def _scale_data(self, X: pd.DataFrame):\n",
    "        if self._scaler is not None:\n",
    "            X = pd.DataFrame(self._scaler.transform(X), columns = self._X.columns)\n",
    "        return X\n",
    "    \n",
    "    def prepare(self):\n",
    "        X_train, X_test, y_train, y_test = self._shuffle_split()   \n",
    "        self._fit_imputer(X_train)\n",
    "        X_train = self._impute_data(X_train)\n",
    "        X_test = self._impute_data(X_test)\n",
    "        self._fit_scaler(X_train)\n",
    "        self._X_train_fitted = self._scale_data(X_train)\n",
    "        self._X_test_fitted = self._scale_data(X_test)\n",
    "        self._y_train = y_train\n",
    "        self._y_test = y_test\n",
    "        \n",
    "    def prepare_and_train(self):\n",
    "        self.prepare()\n",
    "        return self.train()\n",
    "        \n",
    "    def train(self): \n",
    "        self._model.fit(self.X_train, self.y_train) \n",
    "        self._y_preds = self._model.predict(self.X_train)\n",
    "        \n",
    "        return self.metrics(self.y_train, self.y_preds)\n",
    "        \n",
    "    def test(self):\n",
    "        return self.metrics(self.y_test, self._model.predict(self.X_test))\n",
    "       \n",
    "        \n",
    "    def metrics(self, y_true = None, y_pred = None):\n",
    "        pass"
   ]
  },
  {
   "cell_type": "code",
   "execution_count": 15,
   "metadata": {},
   "outputs": [],
   "source": [
    "class ClassificationModeling(Modeling):\n",
    "    def __init__(self, \n",
    "                 data: pd.DataFrame, \n",
    "                 target_name: str, \n",
    "                 shuffle_splitter: BaseShuffleSplit, \n",
    "                 imputer: BaseImputer, \n",
    "                 model: BaseModel, \n",
    "                 scaler = None,\n",
    "                 beta: int = 1,\n",
    "                 classification: str = 'binary'):\n",
    "        super().__init__(data, target_name, shuffle_splitter, imputer, model, scaler)\n",
    "        self.beta = beta\n",
    "        self.classification = classification\n",
    "    \n",
    "    def metrics(self, y_true = None, y_pred = None):\n",
    "        if y_true is None and y_pred is None:\n",
    "            y_true = self.y_train\n",
    "            y_pred = self.y_preds\n",
    "        return ({'matrix': confusion_matrix(y_true, y_pred), \n",
    "            'accuracy': accuracy_score(y_true, y_pred), \n",
    "            'precision': precision_score(y_true, y_pred, average=self.classification), \n",
    "            'recall': recall_score(y_true, y_pred, average=self.classification),\n",
    "             'f1': f1_score(y_true, y_pred),\n",
    "            'f{}'.format(self.beta) : fbeta_score(y_true, y_pred, average=self.classification, beta=self.beta) } )"
   ]
  },
  {
   "cell_type": "code",
   "execution_count": 16,
   "metadata": {},
   "outputs": [],
   "source": [
    "class NNClassificationModeling(ClassificationModeling):\n",
    "    def __init__(self, \n",
    "             data: pd.DataFrame, \n",
    "             target_name: str, \n",
    "             shuffle_splitter: BaseShuffleSplit, \n",
    "             imputer: BaseImputer, \n",
    "             model: BaseModel, \n",
    "             scaler = None,\n",
    "             beta: int = 1,\n",
    "             classification: str = 'binary', tb_callback = TensorBoard(log_dir=\"logs/\", histogram_freq=1)):\n",
    "        super().__init__(data, target_name, shuffle_splitter, imputer, model, scaler, beta, classification)\n",
    "        self.tb_callback=tb_callback\n",
    "        \n",
    "        \n",
    "    def train(self, epoch, batch):\n",
    "        logDir = \"logs/{epoch}-{batchsize}-{time}\".format(epoch=epoch, batchsize=batch, time=time.time())\n",
    "        self.tb_callback.log_dir = logDir\n",
    "        self._model.fit(self.X_train, self.y_train, batch_size=batch, epochs=epoch, validation_data=(self.X_test, self.y_test), callbacks=[self.tb_callback])\n",
    "        self._y_preds = self._model.predict(self.X_train)\n",
    "        return self.metrics(self.y_train, self.y_preds)\n",
    "    \n",
    "    def metrics(self, y_true = None, y_pred = None):\n",
    "        if y_true is None and y_pred is None:\n",
    "            y_true = self.y_train\n",
    "            y_pred = self.y_preds\n",
    "            \n",
    "        y_pred = pd.Series(y_pred.reshape((y_pred.shape[1], y_pred.shape[0]))[0], index=y_true.index)\n",
    "        y_pred = pd.Series( (y_pred>0.5).astype(int), index=y_true.index)\n",
    "        return super().metrics(y_true,y_pred)\n",
    "    "
   ]
  },
  {
   "cell_type": "markdown",
   "metadata": {
    "id": "HT4eeZsX8g_c"
   },
   "source": [
    "## Evaluation Metrics <a id='evaluation-metrics' />\n",
    "The key metric used to evaluate the models was accuracy.  Accuracy was appropriate because the target variable was balanced with a 50/50 split between Detection and Non-Detection classes.  It is a straightforward metric that is intuitive and easy to explain, and the customer also requested that the team focus on accuracy.        "
   ]
  },
  {
   "cell_type": "markdown",
   "metadata": {
    "id": "DeWgSmQW8g_Z"
   },
   "source": [
    "### Baseline Model\n",
    "\n",
    "For our baseline model the team decided to run a logistic regression model. The model used a 70/30 stratified split, with L1 penalty and saga solver. The logistic model was chosen as this a simple, quick, and interprateable model. This gave the team a benchmark for accuracy to compare the proposed artificial neural network accuracy. "
   ]
  },
  {
   "cell_type": "code",
   "execution_count": 17,
   "metadata": {},
   "outputs": [],
   "source": [
    "baseline = ClassificationModeling(df,'# label',\n",
    "                           StratifiedShuffleSplit(n_splits=1, test_size=0.3, random_state=12343),\n",
    "                           None,\n",
    "                           LogisticRegression(penalty='l1', solver='saga', random_state=12343),\n",
    "                           StandardScaler(), beta=2)\n",
    "\n",
    "baseline.prepare()"
   ]
  },
  {
   "cell_type": "code",
   "execution_count": 18,
   "metadata": {},
   "outputs": [],
   "source": [
    "baseline_results = pd.DataFrame()\n",
    "\n",
    "for i in [0.0001, 0.0005, 0.001, .005, 1, 100]:\n",
    "    baseline.model.C = i\n",
    "    baseline_results = baseline_results.append({\"C\": i,\n",
    "                                               \"Train Accuracy\": round( baseline.train()['accuracy'], 4),\n",
    "                                               \"Test Accuracy\": round( baseline.test()['accuracy'], 4)},\n",
    "                                              ignore_index=True)"
   ]
  },
  {
   "cell_type": "code",
   "execution_count": 19,
   "metadata": {},
   "outputs": [
    {
     "data": {
      "image/png": "[encoded data removed]",
      "text/plain": [
       "<Figure size 432x288 with 1 Axes>"
      ]
     },
     "metadata": {
      "needs_background": "light"
     },
     "output_type": "display_data"
    }
   ],
   "source": [
    "sns.lineplot(data=baseline_results, x='C', y='Train Accuracy', color='blue')\n",
    "sns.lineplot(data=baseline_results, x='C', y='Test Accuracy', color='red')\n",
    "plt.title('Tuning C for Logistic Regression with L1')\n",
    "plt.legend(['Train', 'Test'])\n",
    "plt.xscale('log')\n",
    "plt.axvline(0.001, color='black', ls='--')\n",
    "plt.show()"
   ]
  },
  {
   "cell_type": "markdown",
   "metadata": {},
   "source": [
    "#### Best Baseline Logistic Model"
   ]
  },
  {
   "cell_type": "code",
   "execution_count": 20,
   "metadata": {},
   "outputs": [
    {
     "data": {
      "text/plain": [
       "{'matrix': array([[2052192,  397193],\n",
       "        [ 402982, 2047633]]),\n",
       " 'accuracy': 0.8366989795918367,\n",
       " 'precision': 0.8375373134938846,\n",
       " 'recall': 0.8355588291102437,\n",
       " 'f1': 0.8365469014946764,\n",
       " 'f2': 0.8359537778410662}"
      ]
     },
     "execution_count": 20,
     "metadata": {},
     "output_type": "execute_result"
    }
   ],
   "source": [
    "baseline.model.C = 0.001\n",
    "baseline.train() "
   ]
  },
  {
   "cell_type": "code",
   "execution_count": 21,
   "metadata": {},
   "outputs": [
    {
     "data": {
      "text/plain": [
       "{'matrix': array([[879402, 170334],\n",
       "        [172538, 877726]]),\n",
       " 'accuracy': 0.836727619047619,\n",
       " 'precision': 0.8374768620117169,\n",
       " 'recall': 0.8357194000746478,\n",
       " 'f1': 0.8365972080574782,\n",
       " 'f2': 0.8360703021232528}"
      ]
     },
     "execution_count": 21,
     "metadata": {},
     "output_type": "execute_result"
    }
   ],
   "source": [
    "baseline.test()"
   ]
  },
  {
   "cell_type": "markdown",
   "metadata": {
    "id": "rADZ1qTz8g_c"
   },
   "source": [
    "## Feature Selection <a id='feature-selection' />\n",
    "\n",
    "All the features were used in the proposed neural network model. The team chose not use regularization since the training and test set evalution metric results aligned, which indicates that the neural network model was not overfitting. \n"
   ]
  },
  {
   "cell_type": "markdown",
   "metadata": {
    "id": "UuRjMsjg8g_d"
   },
   "source": [
    "# Model Building & Evaluations <a id='model-building'/>"
   ]
  },
  {
   "cell_type": "markdown",
   "metadata": {
    "id": "JhUWTUQleFn-"
   },
   "source": [
    "### Final Model\n"
   ]
  },
  {
   "cell_type": "markdown",
   "metadata": {
    "id": "mrxXXO1jeFn6"
   },
   "source": [
    "The team initially fit a Logistic Regression model to the data set to get a baseline accuracy rate for the prediction. Then, a neural network model was fit to assess the improvement in the accuracy rate.\n",
    "\n",
    "The final model had an input layer of 28 neurons (one for each of the features), and it had 2 hidden layers with 200 neurons and 50 neurons, respectively.  The hidden layers used a ReLu activation functoin, which was chosen for its characteristics that helps estimating non-linear functions. The model had a single neuron output layer with a sigmoid activation function and a BinaryCrossentropy loss function since our target variable is binary. \n",
    "\n",
    "In experimentations our best results were achieved with a batch size of 1000. This gave a large enough sample size to limit unnecessary fluctations, and this gave the model the right balance between variance and bias. Additionally, the batch sizes were small enough to compute in memory, but not so small that it would increase processing time dramatically.  Batch sizes of 10,000 and 100,000 ran faster but resulted in slower learning with lower accuracy.  The team ran 40 epochs with a batch size of 1000 since no further improvement was observed beyond that without risking overfitting. "
   ]
  },
  {
   "cell_type": "code",
   "execution_count": 22,
   "metadata": {},
   "outputs": [],
   "source": [
    "NN = NNClassificationModeling(df,'# label',\n",
    "                           StratifiedShuffleSplit(n_splits=1, test_size=0.3, random_state=12343),\n",
    "                           None,\n",
    "                           None,\n",
    "                           StandardScaler(), beta=2)\n",
    "\n",
    "NN.prepare()"
   ]
  },
  {
   "cell_type": "code",
   "execution_count": 23,
   "metadata": {},
   "outputs": [
    {
     "name": "stdout",
     "output_type": "stream",
     "text": [
      "Epoch 1/40\n",
      "49/49 [==============================] - 14s 244ms/step - loss: 0.4290 - accuracy: 0.7961 - val_loss: 0.3508 - val_accuracy: 0.8403\n",
      "Epoch 2/40\n",
      "49/49 [==============================] - 10s 205ms/step - loss: 0.3368 - accuracy: 0.8452 - val_loss: 0.3260 - val_accuracy: 0.8497\n",
      "Epoch 3/40\n",
      "49/49 [==============================] - 9s 179ms/step - loss: 0.3196 - accuracy: 0.8527 - val_loss: 0.3126 - val_accuracy: 0.8557\n",
      "Epoch 4/40\n",
      "49/49 [==============================] - 10s 197ms/step - loss: 0.3072 - accuracy: 0.8577 - val_loss: 0.3013 - val_accuracy: 0.8602\n",
      "Epoch 5/40\n",
      "49/49 [==============================] - 9s 183ms/step - loss: 0.2983 - accuracy: 0.8612 - val_loss: 0.2947 - val_accuracy: 0.8628\n",
      "Epoch 6/40\n",
      "49/49 [==============================] - 10s 195ms/step - loss: 0.2932 - accuracy: 0.8634 - val_loss: 0.2907 - val_accuracy: 0.8647\n",
      "Epoch 7/40\n",
      "49/49 [==============================] - 9s 182ms/step - loss: 0.2896 - accuracy: 0.8652 - val_loss: 0.2875 - val_accuracy: 0.8667\n",
      "Epoch 8/40\n",
      "49/49 [==============================] - 9s 180ms/step - loss: 0.2867 - accuracy: 0.8668 - val_loss: 0.2850 - val_accuracy: 0.8683\n",
      "Epoch 9/40\n",
      "49/49 [==============================] - 9s 181ms/step - loss: 0.2844 - accuracy: 0.8682 - val_loss: 0.2830 - val_accuracy: 0.8694\n",
      "Epoch 10/40\n",
      "49/49 [==============================] - 9s 184ms/step - loss: 0.2826 - accuracy: 0.8695 - val_loss: 0.2814 - val_accuracy: 0.8706\n",
      "Epoch 11/40\n",
      "49/49 [==============================] - 9s 185ms/step - loss: 0.2811 - accuracy: 0.8705 - val_loss: 0.2800 - val_accuracy: 0.8715\n",
      "Epoch 12/40\n",
      "49/49 [==============================] - 9s 180ms/step - loss: 0.2797 - accuracy: 0.8714 - val_loss: 0.2787 - val_accuracy: 0.8723\n",
      "Epoch 13/40\n",
      "49/49 [==============================] - 9s 180ms/step - loss: 0.2785 - accuracy: 0.8723 - val_loss: 0.2776 - val_accuracy: 0.8729\n",
      "Epoch 14/40\n",
      "49/49 [==============================] - 9s 177ms/step - loss: 0.2774 - accuracy: 0.8729 - val_loss: 0.2766 - val_accuracy: 0.8737\n",
      "Epoch 15/40\n",
      "49/49 [==============================] - 9s 179ms/step - loss: 0.2764 - accuracy: 0.8737 - val_loss: 0.2756 - val_accuracy: 0.8745\n",
      "Epoch 16/40\n",
      "49/49 [==============================] - 9s 180ms/step - loss: 0.2754 - accuracy: 0.8743 - val_loss: 0.2748 - val_accuracy: 0.8750\n",
      "Epoch 17/40\n",
      "49/49 [==============================] - 9s 193ms/step - loss: 0.2745 - accuracy: 0.8749 - val_loss: 0.2740 - val_accuracy: 0.8754\n",
      "Epoch 18/40\n",
      "49/49 [==============================] - 9s 181ms/step - loss: 0.2737 - accuracy: 0.8754 - val_loss: 0.2732 - val_accuracy: 0.8760\n",
      "Epoch 19/40\n",
      "49/49 [==============================] - 9s 187ms/step - loss: 0.2730 - accuracy: 0.8758 - val_loss: 0.2725 - val_accuracy: 0.8763\n",
      "Epoch 20/40\n",
      "49/49 [==============================] - 9s 180ms/step - loss: 0.2723 - accuracy: 0.8763 - val_loss: 0.2720 - val_accuracy: 0.8766\n",
      "Epoch 21/40\n",
      "49/49 [==============================] - 9s 184ms/step - loss: 0.2717 - accuracy: 0.8767 - val_loss: 0.2714 - val_accuracy: 0.8770\n",
      "Epoch 22/40\n",
      "49/49 [==============================] - 9s 186ms/step - loss: 0.2711 - accuracy: 0.8770 - val_loss: 0.2711 - val_accuracy: 0.8774\n",
      "Epoch 23/40\n",
      "49/49 [==============================] - 10s 201ms/step - loss: 0.2706 - accuracy: 0.8773 - val_loss: 0.2704 - val_accuracy: 0.8777\n",
      "Epoch 24/40\n",
      "49/49 [==============================] - 10s 202ms/step - loss: 0.2700 - accuracy: 0.8776 - val_loss: 0.2700 - val_accuracy: 0.8780\n",
      "Epoch 25/40\n",
      "49/49 [==============================] - 10s 204ms/step - loss: 0.2696 - accuracy: 0.8779 - val_loss: 0.2696 - val_accuracy: 0.8782\n",
      "Epoch 26/40\n",
      "49/49 [==============================] - 10s 199ms/step - loss: 0.2691 - accuracy: 0.8782 - val_loss: 0.2692 - val_accuracy: 0.8785\n",
      "Epoch 27/40\n",
      "49/49 [==============================] - 9s 188ms/step - loss: 0.2688 - accuracy: 0.8784 - val_loss: 0.2689 - val_accuracy: 0.8785\n",
      "Epoch 28/40\n",
      "49/49 [==============================] - 9s 186ms/step - loss: 0.2684 - accuracy: 0.8785 - val_loss: 0.2685 - val_accuracy: 0.8787\n",
      "Epoch 29/40\n",
      "49/49 [==============================] - 9s 187ms/step - loss: 0.2680 - accuracy: 0.8788 - val_loss: 0.2682 - val_accuracy: 0.8789\n",
      "Epoch 30/40\n",
      "49/49 [==============================] - 9s 189ms/step - loss: 0.2677 - accuracy: 0.8790 - val_loss: 0.2678 - val_accuracy: 0.8792\n",
      "Epoch 31/40\n",
      "49/49 [==============================] - 9s 186ms/step - loss: 0.2674 - accuracy: 0.8792 - val_loss: 0.2677 - val_accuracy: 0.8792\n",
      "Epoch 32/40\n",
      "49/49 [==============================] - 9s 184ms/step - loss: 0.2671 - accuracy: 0.8794 - val_loss: 0.2673 - val_accuracy: 0.8795\n",
      "Epoch 33/40\n",
      "49/49 [==============================] - 9s 182ms/step - loss: 0.2668 - accuracy: 0.8796 - val_loss: 0.2671 - val_accuracy: 0.8796\n",
      "Epoch 34/40\n",
      "49/49 [==============================] - 9s 183ms/step - loss: 0.2666 - accuracy: 0.8797 - val_loss: 0.2669 - val_accuracy: 0.8797\n",
      "Epoch 35/40\n",
      "49/49 [==============================] - 9s 186ms/step - loss: 0.2663 - accuracy: 0.8799 - val_loss: 0.2668 - val_accuracy: 0.8797\n",
      "Epoch 36/40\n",
      "49/49 [==============================] - 9s 181ms/step - loss: 0.2661 - accuracy: 0.8799 - val_loss: 0.2664 - val_accuracy: 0.8800\n",
      "Epoch 37/40\n",
      "49/49 [==============================] - 9s 188ms/step - loss: 0.2658 - accuracy: 0.8801 - val_loss: 0.2664 - val_accuracy: 0.8799\n",
      "Epoch 38/40\n",
      "49/49 [==============================] - 9s 191ms/step - loss: 0.2657 - accuracy: 0.8801 - val_loss: 0.2661 - val_accuracy: 0.8801\n",
      "Epoch 39/40\n",
      "49/49 [==============================] - 9s 180ms/step - loss: 0.2654 - accuracy: 0.8803 - val_loss: 0.2659 - val_accuracy: 0.8802\n",
      "Epoch 40/40\n",
      "49/49 [==============================] - 9s 180ms/step - loss: 0.2653 - accuracy: 0.8804 - val_loss: 0.2657 - val_accuracy: 0.8802\n"
     ]
    },
    {
     "data": {
      "text/plain": [
       "{'matrix': array([[2109145,  340240],\n",
       "        [ 244760, 2205855]]),\n",
       " 'accuracy': 0.8806122448979592,\n",
       " 'precision': 0.8663679085030213,\n",
       " 'recall': 0.9001230303413633,\n",
       " 'f1': 0.8829229633098579,\n",
       " 'f2': 0.8931632081648418}"
      ]
     },
     "execution_count": 23,
     "metadata": {},
     "output_type": "execute_result"
    }
   ],
   "source": [
    "NN.model = tf.keras.Sequential() # model object\n",
    "\n",
    "NN.model.add( tf.keras.layers.Input( shape=(NN.X_train.shape[1],) ) )\n",
    "# specify data shape for first input layer\n",
    "# columns (features) only, # rows specified by batch size later in fit() \n",
    "\n",
    "NN.model.add( tf.keras.layers.Dense(200, activation = 'relu') )\n",
    "# add these layers sequentially with decreasing # neurons\n",
    "NN.model.add( tf.keras.layers.Dense(50, activation = 'relu') )\n",
    "\n",
    "NN.model.add( tf.keras.layers.Dense(1, activation = 'sigmoid') )\n",
    "# Final layer, Regression Output\n",
    "# For Classification, use activation = 'sigmoid' or 'softmax' for Final layer\n",
    "\n",
    "NN.model.compile(optimizer='adam', loss='BinaryCrossentropy', metrics=['accuracy'])\n",
    "# Have to compile model after specifying layers\n",
    "\n",
    "NN.train(batch = 100000, epoch=40)"
   ]
  },
  {
   "cell_type": "code",
   "execution_count": 24,
   "metadata": {},
   "outputs": [
    {
     "data": {
      "text/plain": [
       "{'matrix': array([[903103, 146633],\n",
       "        [104938, 945326]]),\n",
       " 'accuracy': 0.8802042857142857,\n",
       " 'precision': 0.8657156541591763,\n",
       " 'recall': 0.9000841693136202,\n",
       " 'f1': 0.8825654472013418,\n",
       " 'f2': 0.8929938796697157}"
      ]
     },
     "execution_count": 24,
     "metadata": {},
     "output_type": "execute_result"
    }
   ],
   "source": [
    "NN.test()"
   ]
  },
  {
   "cell_type": "markdown",
   "metadata": {
    "id": "p-C7Tc5W8g_e"
   },
   "source": [
    "## Model's Performance Analysis <a id='performance-analysis'/>\n",
    "\n",
    "A baseline model was built using logistic regression as a simpler and more interpretable option.  This model had an __83.6%__ accuracy between the training and test sets.  Because of the agreement in accuracy between training and test sets, the confusion matrix below is only for the test set (training set confusion matrices are in the appendix for reference). \n",
    "\n",
    "Logistic Test Set - Confusion Matrix:\n",
    "\n",
    "|                   | Predicted Not Detected | Predicted Detected |\n",
    "|-------------------|---------------|----------------|\n",
    "| Actual Not Detected  | 879,402         | 170,334              |\n",
    "| Actual Detected | 172,538           | 877,726         |\n",
    "\n",
    "\n",
    "A neural network (NN) model was built to try to beat this simpler baseline model.  The final neural network model had an accuracy of __88.0%__ between the training and test sets.  This is a significant improvement, especially given how expensive it is to run experiments on a large particle accelerator.  The model took approximately __6 minutes__ to train which was longer than the simpler logistic regression model, as expected.  This additional training was not excessive and significantly improved the accuracy of the predictions.           \n",
    "\n",
    "__TODO:__ Final NN Test Set - Confusion Matrix:\n",
    "\n",
    "|                   | Predicted Not Detected | Predicted Detected |\n",
    "|-------------------|---------------|----------------|\n",
    "| Actual Not Detected  | 903,103         | 146,633              |\n",
    "| Actual Detected | 104,938           | 945,326        |\n",
    "\n",
    "Comparing this confusion matrix to the one above for the baseline model, predictions were improved for both the Detected and Not Detected classes with the Neural Network model.  The __4.4% improvement in accuracy__ is equivalent to __91,301 more correct predictions__.      "
   ]
  },
  {
   "cell_type": "markdown",
   "metadata": {
    "id": "HISQa9FO8g_e"
   },
   "source": [
    "## Model Interpretability & Explainability <a id='model-explanation'>"
   ]
  },
  {
   "cell_type": "markdown",
   "metadata": {
    "id": "PSBc4ETe8g_e"
   },
   "source": [
    "### Examining Feature Importance <a id='examining-feature-importance'/>\n",
    "\n",
    "\n",
    "#### Feature Importance for Baseline Model\n",
    "\n",
    "The logistic regression baseline model had several highly important features including 'mass' and 'f6' per the plot below.  Domain experts are needed to intrepret these results further.    \n",
    "\n",
    "The neural network model is less interpretable and does not have global feature importance to directly compare to the logistic regression model.  There are opportunities to explore local feature importance which is discussed in the Future Considerations section below."
   ]
  },
  {
   "cell_type": "code",
   "execution_count": 27,
   "metadata": {},
   "outputs": [
    {
     "data": {
      "image/png": "[encoded data removed]",
      "text/plain": [
       "<Figure size 432x288 with 1 Axes>"
      ]
     },
     "metadata": {
      "needs_background": "light"
     },
     "output_type": "display_data"
    }
   ],
   "source": [
    "feat_coef = []\n",
    "feat = zip(baseline.X_train.columns, baseline.model.coef_[0])\n",
    "[feat_coef.append([i,j]) for i,j in feat]\n",
    "feat_coef = pd.DataFrame(feat_coef, columns = ['feature','coef'])\n",
    "top_feat_baseline = feat_coef.loc[abs(feat_coef['coef'])>0].sort_values(by='coef')\n",
    "\n",
    "feat_plot = sns.barplot(data=top_feat_baseline, x='feature', y='coef', palette = \"ch:s=.25,rot=-.25\")\n",
    "plt.xticks(rotation=90)\n",
    "plt.title('LR Feature Importance with L1')\n",
    "plt.show()"
   ]
  },
  {
   "cell_type": "markdown",
   "metadata": {
    "id": "JbAhMB1x8g_e"
   },
   "source": [
    "# Conclusion <a id='conclusion'>"
   ]
  },
  {
   "cell_type": "markdown",
   "metadata": {
    "id": "xnsadV7M8g_e"
   },
   "source": [
    "### Final Model Proposal <a id='final-model-proposal'/>\n",
    "The final neural network model should be used to make predictions on whether a new particle is detected or not based on the input data.  There was a high level of agreement between the training and test sets, and care was taken to prevent overfitting and create a generalizable model, so results should be reliable if similar experiments are conducted in the future.  "
   ]
  },
  {
   "cell_type": "markdown",
   "metadata": {
    "id": "oX8fXYczN5D-"
   },
   "source": [
    "### Future Considerations, Model Enhancements and Alternative Modeling Approaches <a id='model-enhancements'/>\n",
    "\n",
    "The team recommends that Shapley values be explored for local feature importance for the neural network model.  In addition, input from domain experts may help with feature engineering, model building, and interpretation.  Additional computation power or parallelization may also be useful to speed up model training.    "
   ]
  },
  {
   "cell_type": "markdown",
   "metadata": {
    "id": "E0yVc5DKeFn_"
   },
   "source": [
    "## References\n",
    "https://www.tibco.com/reference-center/what-is-a-neural-network"
   ]
  },
  {
   "cell_type": "markdown",
   "metadata": {},
   "source": [
    "## Appendix\n",
    "\n",
    "Logistic Train - Confusion Matrix:\n",
    "\n",
    "|                   | Predicted Not Detected | Predicted Detected |\n",
    "|-------------------|---------------|----------------|\n",
    "| Actual Not Detected  | 2,052,192       | 397,193             |\n",
    "| Actual Detected | 402,982            | 2,047,633        |\n",
    "\n",
    "\n",
    "Final NN Train - Confusion Matrix:\n",
    "\n",
    "|                   | Predicted Not Detected | Predicted Detected |\n",
    "|-------------------|---------------|----------------|\n",
    "| Actual Not Detected  | 2,109,145       | 340,240             |\n",
    "| Actual Detected | 244,760            | 2,205,855       |\n"
   ]
  }
 ],
 "metadata": {
  "colab": {
   "name": "Case_Study_6_template.ipynb",
   "provenance": []
  },
  "kernelspec": {
   "display_name": "Python 3",
   "language": "python",
   "name": "python3"
  },
  "language_info": {
   "codemirror_mode": {
    "name": "ipython",
    "version": 3
   },
   "file_extension": ".py",
   "mimetype": "text/x-python",
   "name": "python",
   "nbconvert_exporter": "python",
   "pygments_lexer": "ipython3",
   "version": "3.7.10"
  }
 },
 "nbformat": 4,
 "nbformat_minor": 1
}
