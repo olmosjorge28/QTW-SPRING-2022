{
  "cells": [
    {
      "cell_type": "markdown",
      "metadata": {
        "id": "GoCXzNvN8g-8"
      },
      "source": [
        "# Case Study 6 - Neural Networks"
      ]
    },
    {
      "cell_type": "markdown",
      "metadata": {
        "id": "YBy24RcB8g-9"
      },
      "source": [
        "__Team Members:__ Amber Clark, Andrew Leppla, Jorge Olmos, Paritosh Rai"
      ]
    },
    {
      "cell_type": "markdown",
      "metadata": {
        "id": "O4O0up-U8g-9"
      },
      "source": [
        "# Content\n",
        "* [Business Understanding](#business-understanding)\n",
        "    - [Scope](#scope)\n",
        "    - [Introduction](#introduction)\n",
        "    - [Methods](#methods)\n",
        "    - [Results](#results)\n",
        "* [Data Evaluation](#data-evaluation)\n",
        "    - [Loading Data](#loading-data) \n",
        "    - [Data Summary](#data-summary)\n",
        "    - [Missing Values](#missing-values)\n",
        "    - [Feature Removal](#feature-removal)\n",
        "    - [Exploratory Data Analysis (EDA)](#eda)\n",
        "* [Model Preparations](#model-preparations)\n",
        "    - [Sampling & Scaling Data](#sampling-scaling-data)\n",
        "    - [Proposed Method](#proposed-metrics)\n",
        "    - [Evaluation Metrics](#evaluation-metrics)\n",
        "    - [Feature Selection](#feature-selection)\n",
        "* [Model Building & Evaluations](#model-building)\n",
        "    - [Sampling Methodology](#sampling-methodology)\n",
        "    - [Model](#model)\n",
        "    - [Performance Analysis](#performance-analysis)\n",
        "* [Model Interpretability & Explainability](#model-explanation)\n",
        "    - [Examining Feature Importance](#examining-feature-importance)\n",
        "* [Conclusion](#conclusion)\n",
        "    - [Final Model Proposal](#final-model-proposal)\n",
        "    - [Future Considerations, Model Enhancements and Alternative Modeling Approaches](#model-enhancements)"
      ]
    },
    {
      "cell_type": "markdown",
      "metadata": {
        "id": "TRedT-FB8g_A"
      },
      "source": [
        "# Business Understanding & Executive Summary <a id='business-understanding'/>"
      ]
    },
    {
      "cell_type": "markdown",
      "metadata": {
        "id": "F-4BiuuQOEh4"
      },
      "source": [
        "## Objective:\n",
        "\n",
        "\n",
        "## Introduction:\n",
        "\n",
        "\n",
        "## Modeling:\n",
        "\n",
        "### Training and Test Split\n",
        "\n",
        "\n",
        "\n",
        "### Key Metrics\n",
        "\n",
        "\n",
        "\n",
        "### Results\n",
        "\n",
        "\n",
        "\n",
        "### Feature Importance\n",
        "\n",
        "\n",
        "\n",
        "## Conclusion\n",
        "\n",
        "\n",
        "\n",
        "## Future Considerations\n",
        "\n"
      ]
    },
    {
      "cell_type": "markdown",
      "metadata": {
        "id": "PVtcYu5j8g_B"
      },
      "source": [
        "# Data Evaluation <a id='data-evaluation'>\n",
        "    "
      ]
    },
    {
      "cell_type": "markdown",
      "source": [
        "Summarize the data being used in the case using appropriate mediums (charts, graphs, tables); address questions such as: Are there missing values? Which variables are needed (which ones are not)? What assumptions or conclusions are you drawing that need to be relayed to your audience?"
      ],
      "metadata": {
        "id": "Owfb6XnGfPKI"
      }
    },
    {
      "cell_type": "markdown",
      "metadata": {
        "id": "4WcvKI3y8g_C"
      },
      "source": [
        "## Loading Data <a id='loading-data'>"
      ]
    },
    {
      "cell_type": "markdown",
      "metadata": {
        "id": "ul_6nw48N5Dy"
      },
      "source": [
        "## Data Summary <a id='data-summary'>"
      ]
    },
    {
      "cell_type": "markdown",
      "metadata": {
        "id": "Aws5HAx98g_E"
      },
      "source": [
        "## Missing Values <a id='missing-values'>\n",
        "\n"
      ]
    },
    {
      "cell_type": "markdown",
      "metadata": {
        "id": "CbAmkozvN5Dz"
      },
      "source": [
        "## Exploratory Data Analysis (EDA) <a id='eda'>\n"
      ]
    },
    {
      "cell_type": "markdown",
      "metadata": {
        "id": "zmuI_mep8g_b"
      },
      "source": [
        "# Model Preparations <a id='model-preparations'/>"
      ]
    },
    {
      "cell_type": "markdown",
      "source": [
        "Which methods are you proposing to utilize to solve the problem?  Why is this method appropriate given the business objective? How will you determine if your approach is useful (or how will you differentiate which approach is more useful than another)?  More specifically, what evaluation metrics are most useful given that the problem is a classification one (ex., Accuracy, F1-score, Precision, Recall, AUC, etc.)?"
      ],
      "metadata": {
        "id": "9iDJqPa8fUNp"
      }
    },
    {
      "cell_type": "markdown",
      "metadata": {
        "id": "BnCsXV_c8g_V"
      },
      "source": [
        "## Sampling & Scaling Data <a id='sampling-scaling-data' />\n"
      ]
    },
    {
      "cell_type": "markdown",
      "metadata": {
        "id": "cXqoLTm_8g_c"
      },
      "source": [
        "## Proposed Method <a id='proposed-metrics' />"
      ]
    },
    {
      "cell_type": "markdown",
      "metadata": {
        "id": "HT4eeZsX8g_c"
      },
      "source": [
        "## Evaluation Metrics <a id='evaluation-metrics' />"
      ]
    },
    {
      "cell_type": "markdown",
      "metadata": {
        "id": "DeWgSmQW8g_Z"
      },
      "source": [
        "### Baseline Model"
      ]
    },
    {
      "cell_type": "markdown",
      "metadata": {
        "id": "rADZ1qTz8g_c"
      },
      "source": [
        "## Feature Selection <a id='feature-selection' />\n"
      ]
    },
    {
      "cell_type": "markdown",
      "metadata": {
        "id": "UuRjMsjg8g_d"
      },
      "source": [
        "# Model Building & Evaluations <a id='model-building'/>"
      ]
    },
    {
      "cell_type": "markdown",
      "source": [
        "In this case, your primary task is to construct a neural network to detect the existence of new particles and will involve the following steps:\n",
        "\n",
        "- Construct your neural network's architecture\n",
        "- Fit your neural network to your training data\n",
        "- Analyze your model's performance - referencing your chosen evaluation metric (including supplemental visuals and analysis where appropriate)"
      ],
      "metadata": {
        "id": "QSLQokJ1fZA6"
      }
    },
    {
      "cell_type": "markdown",
      "metadata": {
        "id": "UU9VF8AM8g_d"
      },
      "source": [
        "## Sampling Methodology <a id='sampling-methodology'/>"
      ]
    },
    {
      "cell_type": "markdown",
      "metadata": {
        "id": "mrxXXO1jeFn6"
      },
      "source": [
        "## Modeling"
      ]
    },
    {
      "cell_type": "markdown",
      "metadata": {
        "id": "JhUWTUQleFn-"
      },
      "source": [
        "### Final Model\n"
      ]
    },
    {
      "cell_type": "markdown",
      "metadata": {
        "id": "p-C7Tc5W8g_e"
      },
      "source": [
        "## Model's Performance Analysis <a id='performance-analysis'/>"
      ]
    },
    {
      "cell_type": "markdown",
      "metadata": {
        "id": "HISQa9FO8g_e"
      },
      "source": [
        "## Model Interpretability & Explainability <a id='model-explanation'>"
      ]
    },
    {
      "cell_type": "markdown",
      "metadata": {
        "id": "xnsadV7M8g_e"
      },
      "source": [
        "### Final Model Proposal <a id='final-model-proposal'/>"
      ]
    },
    {
      "cell_type": "markdown",
      "metadata": {
        "id": "PSBc4ETe8g_e"
      },
      "source": [
        "### Examining Feature Importance <a id='examining-feature-importance'/>\n"
      ]
    },
    {
      "cell_type": "markdown",
      "metadata": {
        "id": "JbAhMB1x8g_e"
      },
      "source": [
        "# Conclusion <a id='conclusion'>"
      ]
    },
    {
      "cell_type": "markdown",
      "source": [
        "After all of your technical analysis and modeling; what are you proposing to your audience and why?  How should they view your results and what should they consider when moving forward?  Are there other approaches you'd recommend exploring?  This is where you \"bring it all home\" in language they understand."
      ],
      "metadata": {
        "id": "1uA5o0o7fgOZ"
      }
    },
    {
      "cell_type": "markdown",
      "metadata": {
        "id": "oX8fXYczN5D-"
      },
      "source": [
        "### Future Considerations, Model Enhancements and Alternative Modeling Approaches <a id='model-enhancements'/>"
      ]
    },
    {
      "cell_type": "markdown",
      "metadata": {
        "id": "E0yVc5DKeFn_"
      },
      "source": [
        "## References"
      ]
    }
  ],
  "metadata": {
    "colab": {
      "name": "Case_Study_6_template.ipynb",
      "provenance": []
    },
    "kernelspec": {
      "display_name": "Python 3",
      "language": "python",
      "name": "python3"
    },
    "language_info": {
      "codemirror_mode": {
        "name": "ipython",
        "version": 3
      },
      "file_extension": ".py",
      "mimetype": "text/x-python",
      "name": "python",
      "nbconvert_exporter": "python",
      "pygments_lexer": "ipython3",
      "version": "3.7.10"
    }
  },
  "nbformat": 4,
  "nbformat_minor": 0
}