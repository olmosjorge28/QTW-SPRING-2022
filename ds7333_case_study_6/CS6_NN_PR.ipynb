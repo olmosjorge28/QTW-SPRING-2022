{
 "cells": [
  {
   "cell_type": "code",
   "execution_count": 1,
   "id": "understood-offense",
   "metadata": {},
   "outputs": [],
   "source": [
    "import pandas as pd\n",
    "import numpy as np\n",
    "import matplotlib.pyplot as plt\n",
    "%matplotlib inline\n",
    "import warnings\n",
    "warnings.filterwarnings('ignore')\n",
    "import seaborn as sns\n",
    "from sklearn.preprocessing import scale\n",
    "from sklearn.metrics import accuracy_score\n",
    "from sklearn.model_selection import StratifiedKFold\n",
    "from sklearn.metrics import classification_report\n",
    "import time"
   ]
  },
  {
   "cell_type": "code",
   "execution_count": 2,
   "id": "inappropriate-injury",
   "metadata": {},
   "outputs": [],
   "source": [
    "df = pd.read_csv(\"C:\\\\Paritosh\\\\SMU\\\\7333 Quantifying the World\\\\Proj\\\\CS6\\\\all_train.csv\")"
   ]
  },
  {
   "cell_type": "code",
   "execution_count": 3,
   "id": "cleared-niagara",
   "metadata": {
    "scrolled": true
   },
   "outputs": [
    {
     "data": {
      "text/html": [
       "<div>\n",
       "<style scoped>\n",
       "    .dataframe tbody tr th:only-of-type {\n",
       "        vertical-align: middle;\n",
       "    }\n",
       "\n",
       "    .dataframe tbody tr th {\n",
       "        vertical-align: top;\n",
       "    }\n",
       "\n",
       "    .dataframe thead th {\n",
       "        text-align: right;\n",
       "    }\n",
       "</style>\n",
       "<table border=\"1\" class=\"dataframe\">\n",
       "  <thead>\n",
       "    <tr style=\"text-align: right;\">\n",
       "      <th></th>\n",
       "      <th># label</th>\n",
       "      <th>f0</th>\n",
       "      <th>f1</th>\n",
       "      <th>f2</th>\n",
       "      <th>f3</th>\n",
       "      <th>f4</th>\n",
       "      <th>f5</th>\n",
       "      <th>f6</th>\n",
       "      <th>f7</th>\n",
       "      <th>f8</th>\n",
       "      <th>...</th>\n",
       "      <th>f18</th>\n",
       "      <th>f19</th>\n",
       "      <th>f20</th>\n",
       "      <th>f21</th>\n",
       "      <th>f22</th>\n",
       "      <th>f23</th>\n",
       "      <th>f24</th>\n",
       "      <th>f25</th>\n",
       "      <th>f26</th>\n",
       "      <th>mass</th>\n",
       "    </tr>\n",
       "  </thead>\n",
       "  <tbody>\n",
       "    <tr>\n",
       "      <th>0</th>\n",
       "      <td>1.0</td>\n",
       "      <td>-0.346368</td>\n",
       "      <td>0.416306</td>\n",
       "      <td>0.999236</td>\n",
       "      <td>0.475342</td>\n",
       "      <td>0.427493</td>\n",
       "      <td>-0.005984</td>\n",
       "      <td>1.989833</td>\n",
       "      <td>0.344530</td>\n",
       "      <td>1.566297</td>\n",
       "      <td>...</td>\n",
       "      <td>4.105282</td>\n",
       "      <td>0.267826</td>\n",
       "      <td>0.378718</td>\n",
       "      <td>1.743123</td>\n",
       "      <td>3.406367</td>\n",
       "      <td>4.350537</td>\n",
       "      <td>-0.352571</td>\n",
       "      <td>1.130032</td>\n",
       "      <td>2.227706</td>\n",
       "      <td>1000.0</td>\n",
       "    </tr>\n",
       "    <tr>\n",
       "      <th>1</th>\n",
       "      <td>1.0</td>\n",
       "      <td>1.708236</td>\n",
       "      <td>-0.319394</td>\n",
       "      <td>-1.241873</td>\n",
       "      <td>-0.887231</td>\n",
       "      <td>-0.871906</td>\n",
       "      <td>-0.005984</td>\n",
       "      <td>-0.001047</td>\n",
       "      <td>-1.038225</td>\n",
       "      <td>0.655748</td>\n",
       "      <td>...</td>\n",
       "      <td>-1.178141</td>\n",
       "      <td>-0.877361</td>\n",
       "      <td>-1.483769</td>\n",
       "      <td>-0.573682</td>\n",
       "      <td>-1.693781</td>\n",
       "      <td>-0.545062</td>\n",
       "      <td>-0.299118</td>\n",
       "      <td>-0.662942</td>\n",
       "      <td>-0.193019</td>\n",
       "      <td>750.0</td>\n",
       "    </tr>\n",
       "    <tr>\n",
       "      <th>2</th>\n",
       "      <td>0.0</td>\n",
       "      <td>-0.360693</td>\n",
       "      <td>1.794174</td>\n",
       "      <td>0.264738</td>\n",
       "      <td>-0.472273</td>\n",
       "      <td>-0.292344</td>\n",
       "      <td>-1.054221</td>\n",
       "      <td>-1.150495</td>\n",
       "      <td>1.423404</td>\n",
       "      <td>1.270098</td>\n",
       "      <td>...</td>\n",
       "      <td>-1.199511</td>\n",
       "      <td>0.539020</td>\n",
       "      <td>-1.590629</td>\n",
       "      <td>-0.573682</td>\n",
       "      <td>-0.543636</td>\n",
       "      <td>-0.937456</td>\n",
       "      <td>-0.300344</td>\n",
       "      <td>-0.523262</td>\n",
       "      <td>-1.506304</td>\n",
       "      <td>750.0</td>\n",
       "    </tr>\n",
       "    <tr>\n",
       "      <th>3</th>\n",
       "      <td>1.0</td>\n",
       "      <td>-0.377914</td>\n",
       "      <td>-0.103932</td>\n",
       "      <td>-0.649434</td>\n",
       "      <td>-2.125015</td>\n",
       "      <td>-1.643797</td>\n",
       "      <td>-0.005984</td>\n",
       "      <td>1.011112</td>\n",
       "      <td>-1.040340</td>\n",
       "      <td>-0.541991</td>\n",
       "      <td>...</td>\n",
       "      <td>0.463763</td>\n",
       "      <td>-0.006583</td>\n",
       "      <td>1.089122</td>\n",
       "      <td>-0.573682</td>\n",
       "      <td>-0.276348</td>\n",
       "      <td>-0.409272</td>\n",
       "      <td>-0.349926</td>\n",
       "      <td>-0.307123</td>\n",
       "      <td>0.529698</td>\n",
       "      <td>1250.0</td>\n",
       "    </tr>\n",
       "    <tr>\n",
       "      <th>4</th>\n",
       "      <td>0.0</td>\n",
       "      <td>-0.067436</td>\n",
       "      <td>-0.636762</td>\n",
       "      <td>-0.620166</td>\n",
       "      <td>-0.062551</td>\n",
       "      <td>1.588715</td>\n",
       "      <td>-0.005984</td>\n",
       "      <td>-0.595304</td>\n",
       "      <td>-1.238987</td>\n",
       "      <td>0.336844</td>\n",
       "      <td>...</td>\n",
       "      <td>-0.552837</td>\n",
       "      <td>-1.418494</td>\n",
       "      <td>-0.562982</td>\n",
       "      <td>1.743123</td>\n",
       "      <td>0.881802</td>\n",
       "      <td>0.002516</td>\n",
       "      <td>1.560950</td>\n",
       "      <td>-0.150760</td>\n",
       "      <td>-1.023889</td>\n",
       "      <td>750.0</td>\n",
       "    </tr>\n",
       "  </tbody>\n",
       "</table>\n",
       "<p>5 rows × 29 columns</p>\n",
       "</div>"
      ],
      "text/plain": [
       "   # label        f0        f1        f2        f3        f4        f5  \\\n",
       "0      1.0 -0.346368  0.416306  0.999236  0.475342  0.427493 -0.005984   \n",
       "1      1.0  1.708236 -0.319394 -1.241873 -0.887231 -0.871906 -0.005984   \n",
       "2      0.0 -0.360693  1.794174  0.264738 -0.472273 -0.292344 -1.054221   \n",
       "3      1.0 -0.377914 -0.103932 -0.649434 -2.125015 -1.643797 -0.005984   \n",
       "4      0.0 -0.067436 -0.636762 -0.620166 -0.062551  1.588715 -0.005984   \n",
       "\n",
       "         f6        f7        f8  ...       f18       f19       f20       f21  \\\n",
       "0  1.989833  0.344530  1.566297  ...  4.105282  0.267826  0.378718  1.743123   \n",
       "1 -0.001047 -1.038225  0.655748  ... -1.178141 -0.877361 -1.483769 -0.573682   \n",
       "2 -1.150495  1.423404  1.270098  ... -1.199511  0.539020 -1.590629 -0.573682   \n",
       "3  1.011112 -1.040340 -0.541991  ...  0.463763 -0.006583  1.089122 -0.573682   \n",
       "4 -0.595304 -1.238987  0.336844  ... -0.552837 -1.418494 -0.562982  1.743123   \n",
       "\n",
       "        f22       f23       f24       f25       f26    mass  \n",
       "0  3.406367  4.350537 -0.352571  1.130032  2.227706  1000.0  \n",
       "1 -1.693781 -0.545062 -0.299118 -0.662942 -0.193019   750.0  \n",
       "2 -0.543636 -0.937456 -0.300344 -0.523262 -1.506304   750.0  \n",
       "3 -0.276348 -0.409272 -0.349926 -0.307123  0.529698  1250.0  \n",
       "4  0.881802  0.002516  1.560950 -0.150760 -1.023889   750.0  \n",
       "\n",
       "[5 rows x 29 columns]"
      ]
     },
     "execution_count": 3,
     "metadata": {},
     "output_type": "execute_result"
    }
   ],
   "source": [
    "df.head()"
   ]
  },
  {
   "cell_type": "code",
   "execution_count": 4,
   "id": "applicable-present",
   "metadata": {},
   "outputs": [
    {
     "data": {
      "text/plain": [
       "(7000000, 29)"
      ]
     },
     "execution_count": 4,
     "metadata": {},
     "output_type": "execute_result"
    }
   ],
   "source": [
    "df.shape"
   ]
  },
  {
   "cell_type": "code",
   "execution_count": 5,
   "id": "integral-springer",
   "metadata": {
    "scrolled": true
   },
   "outputs": [
    {
     "name": "stdout",
     "output_type": "stream",
     "text": [
      "<class 'pandas.core.frame.DataFrame'>\n",
      "RangeIndex: 7000000 entries, 0 to 6999999\n",
      "Data columns (total 29 columns):\n",
      " #   Column   Non-Null Count    Dtype  \n",
      "---  ------   --------------    -----  \n",
      " 0   # label  7000000 non-null  float64\n",
      " 1   f0       7000000 non-null  float64\n",
      " 2   f1       7000000 non-null  float64\n",
      " 3   f2       7000000 non-null  float64\n",
      " 4   f3       7000000 non-null  float64\n",
      " 5   f4       7000000 non-null  float64\n",
      " 6   f5       7000000 non-null  float64\n",
      " 7   f6       7000000 non-null  float64\n",
      " 8   f7       7000000 non-null  float64\n",
      " 9   f8       7000000 non-null  float64\n",
      " 10  f9       7000000 non-null  float64\n",
      " 11  f10      7000000 non-null  float64\n",
      " 12  f11      7000000 non-null  float64\n",
      " 13  f12      7000000 non-null  float64\n",
      " 14  f13      7000000 non-null  float64\n",
      " 15  f14      7000000 non-null  float64\n",
      " 16  f15      7000000 non-null  float64\n",
      " 17  f16      7000000 non-null  float64\n",
      " 18  f17      7000000 non-null  float64\n",
      " 19  f18      7000000 non-null  float64\n",
      " 20  f19      7000000 non-null  float64\n",
      " 21  f20      7000000 non-null  float64\n",
      " 22  f21      7000000 non-null  float64\n",
      " 23  f22      7000000 non-null  float64\n",
      " 24  f23      7000000 non-null  float64\n",
      " 25  f24      7000000 non-null  float64\n",
      " 26  f25      7000000 non-null  float64\n",
      " 27  f26      7000000 non-null  float64\n",
      " 28  mass     7000000 non-null  float64\n",
      "dtypes: float64(29)\n",
      "memory usage: 1.5 GB\n"
     ]
    }
   ],
   "source": [
    "df.info(verbose=True, null_counts=True)\n",
    "# no missing number"
   ]
  },
  {
   "cell_type": "code",
   "execution_count": 6,
   "id": "coated-movie",
   "metadata": {},
   "outputs": [
    {
     "data": {
      "text/html": [
       "<div>\n",
       "<style scoped>\n",
       "    .dataframe tbody tr th:only-of-type {\n",
       "        vertical-align: middle;\n",
       "    }\n",
       "\n",
       "    .dataframe tbody tr th {\n",
       "        vertical-align: top;\n",
       "    }\n",
       "\n",
       "    .dataframe thead th {\n",
       "        text-align: right;\n",
       "    }\n",
       "</style>\n",
       "<table border=\"1\" class=\"dataframe\">\n",
       "  <thead>\n",
       "    <tr style=\"text-align: right;\">\n",
       "      <th></th>\n",
       "      <th># label</th>\n",
       "      <th>f0</th>\n",
       "      <th>f1</th>\n",
       "      <th>f2</th>\n",
       "      <th>f3</th>\n",
       "      <th>f4</th>\n",
       "      <th>f5</th>\n",
       "      <th>f6</th>\n",
       "      <th>f7</th>\n",
       "      <th>f8</th>\n",
       "      <th>...</th>\n",
       "      <th>f18</th>\n",
       "      <th>f19</th>\n",
       "      <th>f20</th>\n",
       "      <th>f21</th>\n",
       "      <th>f22</th>\n",
       "      <th>f23</th>\n",
       "      <th>f24</th>\n",
       "      <th>f25</th>\n",
       "      <th>f26</th>\n",
       "      <th>mass</th>\n",
       "    </tr>\n",
       "  </thead>\n",
       "  <tbody>\n",
       "    <tr>\n",
       "      <th>count</th>\n",
       "      <td>7.000000e+06</td>\n",
       "      <td>7.000000e+06</td>\n",
       "      <td>7.000000e+06</td>\n",
       "      <td>7.000000e+06</td>\n",
       "      <td>7.000000e+06</td>\n",
       "      <td>7.000000e+06</td>\n",
       "      <td>7.000000e+06</td>\n",
       "      <td>7.000000e+06</td>\n",
       "      <td>7.000000e+06</td>\n",
       "      <td>7.000000e+06</td>\n",
       "      <td>...</td>\n",
       "      <td>7.000000e+06</td>\n",
       "      <td>7.000000e+06</td>\n",
       "      <td>7.000000e+06</td>\n",
       "      <td>7.000000e+06</td>\n",
       "      <td>7.000000e+06</td>\n",
       "      <td>7.000000e+06</td>\n",
       "      <td>7.000000e+06</td>\n",
       "      <td>7.000000e+06</td>\n",
       "      <td>7.000000e+06</td>\n",
       "      <td>7.000000e+06</td>\n",
       "    </tr>\n",
       "    <tr>\n",
       "      <th>mean</th>\n",
       "      <td>5.001256e-01</td>\n",
       "      <td>1.612528e-02</td>\n",
       "      <td>4.770022e-04</td>\n",
       "      <td>2.686578e-05</td>\n",
       "      <td>1.056081e-02</td>\n",
       "      <td>-1.050026e-04</td>\n",
       "      <td>2.765919e-03</td>\n",
       "      <td>1.815953e-02</td>\n",
       "      <td>2.510948e-05</td>\n",
       "      <td>4.345870e-04</td>\n",
       "      <td>...</td>\n",
       "      <td>1.164789e-02</td>\n",
       "      <td>-1.127097e-04</td>\n",
       "      <td>7.686731e-05</td>\n",
       "      <td>2.909202e-04</td>\n",
       "      <td>1.228774e-02</td>\n",
       "      <td>9.778378e-03</td>\n",
       "      <td>5.269844e-03</td>\n",
       "      <td>-1.760961e-03</td>\n",
       "      <td>1.533136e-02</td>\n",
       "      <td>1.000107e+03</td>\n",
       "    </tr>\n",
       "    <tr>\n",
       "      <th>std</th>\n",
       "      <td>5.000000e-01</td>\n",
       "      <td>1.004417e+00</td>\n",
       "      <td>9.974864e-01</td>\n",
       "      <td>1.000080e+00</td>\n",
       "      <td>9.956003e-01</td>\n",
       "      <td>9.998670e-01</td>\n",
       "      <td>1.000957e+00</td>\n",
       "      <td>9.867746e-01</td>\n",
       "      <td>9.965867e-01</td>\n",
       "      <td>1.000007e+00</td>\n",
       "      <td>...</td>\n",
       "      <td>1.002725e+00</td>\n",
       "      <td>1.000038e+00</td>\n",
       "      <td>1.000033e+00</td>\n",
       "      <td>1.000170e+00</td>\n",
       "      <td>1.010477e+00</td>\n",
       "      <td>1.005418e+00</td>\n",
       "      <td>1.009990e+00</td>\n",
       "      <td>9.844511e-01</td>\n",
       "      <td>9.822799e-01</td>\n",
       "      <td>3.534255e+02</td>\n",
       "    </tr>\n",
       "    <tr>\n",
       "      <th>min</th>\n",
       "      <td>0.000000e+00</td>\n",
       "      <td>-1.960549e+00</td>\n",
       "      <td>-2.365355e+00</td>\n",
       "      <td>-1.732165e+00</td>\n",
       "      <td>-9.980274e+00</td>\n",
       "      <td>-1.732137e+00</td>\n",
       "      <td>-1.054221e+00</td>\n",
       "      <td>-3.034787e+00</td>\n",
       "      <td>-2.757853e+00</td>\n",
       "      <td>-1.732359e+00</td>\n",
       "      <td>...</td>\n",
       "      <td>-1.728284e+00</td>\n",
       "      <td>-2.281867e+00</td>\n",
       "      <td>-1.731758e+00</td>\n",
       "      <td>-5.736825e-01</td>\n",
       "      <td>-3.631608e+00</td>\n",
       "      <td>-4.729473e+00</td>\n",
       "      <td>-2.062223e+01</td>\n",
       "      <td>-3.452634e+00</td>\n",
       "      <td>-2.632761e+00</td>\n",
       "      <td>5.000000e+02</td>\n",
       "    </tr>\n",
       "    <tr>\n",
       "      <th>25%</th>\n",
       "      <td>0.000000e+00</td>\n",
       "      <td>-7.288206e-01</td>\n",
       "      <td>-7.332548e-01</td>\n",
       "      <td>-8.656704e-01</td>\n",
       "      <td>-6.092291e-01</td>\n",
       "      <td>-8.658025e-01</td>\n",
       "      <td>-1.054221e+00</td>\n",
       "      <td>-7.566092e-01</td>\n",
       "      <td>-7.014146e-01</td>\n",
       "      <td>-8.656543e-01</td>\n",
       "      <td>...</td>\n",
       "      <td>-7.423630e-01</td>\n",
       "      <td>-7.206846e-01</td>\n",
       "      <td>-8.656855e-01</td>\n",
       "      <td>-5.736825e-01</td>\n",
       "      <td>-5.417942e-01</td>\n",
       "      <td>-5.115522e-01</td>\n",
       "      <td>-3.543870e-01</td>\n",
       "      <td>-6.925097e-01</td>\n",
       "      <td>-7.943804e-01</td>\n",
       "      <td>7.500000e+02</td>\n",
       "    </tr>\n",
       "    <tr>\n",
       "      <th>50%</th>\n",
       "      <td>1.000000e+00</td>\n",
       "      <td>-3.930319e-02</td>\n",
       "      <td>8.523957e-04</td>\n",
       "      <td>3.199154e-04</td>\n",
       "      <td>1.963316e-02</td>\n",
       "      <td>-5.070131e-04</td>\n",
       "      <td>-5.983562e-03</td>\n",
       "      <td>-1.499527e-01</td>\n",
       "      <td>-1.067553e-04</td>\n",
       "      <td>1.384781e-03</td>\n",
       "      <td>...</td>\n",
       "      <td>-8.992496e-02</td>\n",
       "      <td>-6.735953e-05</td>\n",
       "      <td>-4.424527e-04</td>\n",
       "      <td>-5.736825e-01</td>\n",
       "      <td>-1.602760e-01</td>\n",
       "      <td>-3.144032e-01</td>\n",
       "      <td>-3.265228e-01</td>\n",
       "      <td>-3.570301e-01</td>\n",
       "      <td>-8.828640e-02</td>\n",
       "      <td>1.000000e+03</td>\n",
       "    </tr>\n",
       "    <tr>\n",
       "      <th>75%</th>\n",
       "      <td>1.000000e+00</td>\n",
       "      <td>6.900799e-01</td>\n",
       "      <td>7.347832e-01</td>\n",
       "      <td>8.659464e-01</td>\n",
       "      <td>6.798818e-01</td>\n",
       "      <td>8.657646e-01</td>\n",
       "      <td>8.504885e-01</td>\n",
       "      <td>7.686690e-01</td>\n",
       "      <td>7.013194e-01</td>\n",
       "      <td>8.665976e-01</td>\n",
       "      <td>...</td>\n",
       "      <td>6.423185e-01</td>\n",
       "      <td>7.204921e-01</td>\n",
       "      <td>8.659566e-01</td>\n",
       "      <td>-5.736825e-01</td>\n",
       "      <td>4.812194e-01</td>\n",
       "      <td>1.634892e-01</td>\n",
       "      <td>-2.337671e-01</td>\n",
       "      <td>4.753128e-01</td>\n",
       "      <td>7.610846e-01</td>\n",
       "      <td>1.250000e+03</td>\n",
       "    </tr>\n",
       "    <tr>\n",
       "      <th>max</th>\n",
       "      <td>1.000000e+00</td>\n",
       "      <td>4.378282e+00</td>\n",
       "      <td>2.365287e+00</td>\n",
       "      <td>1.732370e+00</td>\n",
       "      <td>4.148023e+00</td>\n",
       "      <td>1.731978e+00</td>\n",
       "      <td>4.482618e+00</td>\n",
       "      <td>3.720345e+00</td>\n",
       "      <td>2.758590e+00</td>\n",
       "      <td>1.731450e+00</td>\n",
       "      <td>...</td>\n",
       "      <td>5.866367e+00</td>\n",
       "      <td>2.282217e+00</td>\n",
       "      <td>1.732740e+00</td>\n",
       "      <td>1.743123e+00</td>\n",
       "      <td>7.293420e+00</td>\n",
       "      <td>9.333287e+00</td>\n",
       "      <td>1.499064e+01</td>\n",
       "      <td>5.277313e+00</td>\n",
       "      <td>4.444690e+00</td>\n",
       "      <td>1.500000e+03</td>\n",
       "    </tr>\n",
       "  </tbody>\n",
       "</table>\n",
       "<p>8 rows × 29 columns</p>\n",
       "</div>"
      ],
      "text/plain": [
       "            # label            f0            f1            f2            f3  \\\n",
       "count  7.000000e+06  7.000000e+06  7.000000e+06  7.000000e+06  7.000000e+06   \n",
       "mean   5.001256e-01  1.612528e-02  4.770022e-04  2.686578e-05  1.056081e-02   \n",
       "std    5.000000e-01  1.004417e+00  9.974864e-01  1.000080e+00  9.956003e-01   \n",
       "min    0.000000e+00 -1.960549e+00 -2.365355e+00 -1.732165e+00 -9.980274e+00   \n",
       "25%    0.000000e+00 -7.288206e-01 -7.332548e-01 -8.656704e-01 -6.092291e-01   \n",
       "50%    1.000000e+00 -3.930319e-02  8.523957e-04  3.199154e-04  1.963316e-02   \n",
       "75%    1.000000e+00  6.900799e-01  7.347832e-01  8.659464e-01  6.798818e-01   \n",
       "max    1.000000e+00  4.378282e+00  2.365287e+00  1.732370e+00  4.148023e+00   \n",
       "\n",
       "                 f4            f5            f6            f7            f8  \\\n",
       "count  7.000000e+06  7.000000e+06  7.000000e+06  7.000000e+06  7.000000e+06   \n",
       "mean  -1.050026e-04  2.765919e-03  1.815953e-02  2.510948e-05  4.345870e-04   \n",
       "std    9.998670e-01  1.000957e+00  9.867746e-01  9.965867e-01  1.000007e+00   \n",
       "min   -1.732137e+00 -1.054221e+00 -3.034787e+00 -2.757853e+00 -1.732359e+00   \n",
       "25%   -8.658025e-01 -1.054221e+00 -7.566092e-01 -7.014146e-01 -8.656543e-01   \n",
       "50%   -5.070131e-04 -5.983562e-03 -1.499527e-01 -1.067553e-04  1.384781e-03   \n",
       "75%    8.657646e-01  8.504885e-01  7.686690e-01  7.013194e-01  8.665976e-01   \n",
       "max    1.731978e+00  4.482618e+00  3.720345e+00  2.758590e+00  1.731450e+00   \n",
       "\n",
       "       ...           f18           f19           f20           f21  \\\n",
       "count  ...  7.000000e+06  7.000000e+06  7.000000e+06  7.000000e+06   \n",
       "mean   ...  1.164789e-02 -1.127097e-04  7.686731e-05  2.909202e-04   \n",
       "std    ...  1.002725e+00  1.000038e+00  1.000033e+00  1.000170e+00   \n",
       "min    ... -1.728284e+00 -2.281867e+00 -1.731758e+00 -5.736825e-01   \n",
       "25%    ... -7.423630e-01 -7.206846e-01 -8.656855e-01 -5.736825e-01   \n",
       "50%    ... -8.992496e-02 -6.735953e-05 -4.424527e-04 -5.736825e-01   \n",
       "75%    ...  6.423185e-01  7.204921e-01  8.659566e-01 -5.736825e-01   \n",
       "max    ...  5.866367e+00  2.282217e+00  1.732740e+00  1.743123e+00   \n",
       "\n",
       "                f22           f23           f24           f25           f26  \\\n",
       "count  7.000000e+06  7.000000e+06  7.000000e+06  7.000000e+06  7.000000e+06   \n",
       "mean   1.228774e-02  9.778378e-03  5.269844e-03 -1.760961e-03  1.533136e-02   \n",
       "std    1.010477e+00  1.005418e+00  1.009990e+00  9.844511e-01  9.822799e-01   \n",
       "min   -3.631608e+00 -4.729473e+00 -2.062223e+01 -3.452634e+00 -2.632761e+00   \n",
       "25%   -5.417942e-01 -5.115522e-01 -3.543870e-01 -6.925097e-01 -7.943804e-01   \n",
       "50%   -1.602760e-01 -3.144032e-01 -3.265228e-01 -3.570301e-01 -8.828640e-02   \n",
       "75%    4.812194e-01  1.634892e-01 -2.337671e-01  4.753128e-01  7.610846e-01   \n",
       "max    7.293420e+00  9.333287e+00  1.499064e+01  5.277313e+00  4.444690e+00   \n",
       "\n",
       "               mass  \n",
       "count  7.000000e+06  \n",
       "mean   1.000107e+03  \n",
       "std    3.534255e+02  \n",
       "min    5.000000e+02  \n",
       "25%    7.500000e+02  \n",
       "50%    1.000000e+03  \n",
       "75%    1.250000e+03  \n",
       "max    1.500000e+03  \n",
       "\n",
       "[8 rows x 29 columns]"
      ]
     },
     "execution_count": 6,
     "metadata": {},
     "output_type": "execute_result"
    }
   ],
   "source": [
    "#summary stats\n",
    "df.describe()"
   ]
  },
  {
   "cell_type": "code",
   "execution_count": 7,
   "id": "dependent-words",
   "metadata": {},
   "outputs": [
    {
     "data": {
      "text/plain": [
       "array([1., 0.])"
      ]
     },
     "execution_count": 7,
     "metadata": {},
     "output_type": "execute_result"
    }
   ],
   "source": [
    "#remove \"#\" from label name\n",
    "df.rename(columns={'# label':'label'}, inplace=True)\n",
    "#check to make sure target is only 0 and 1\n",
    "df.label.unique()"
   ]
  },
  {
   "cell_type": "code",
   "execution_count": 8,
   "id": "checked-mumbai",
   "metadata": {},
   "outputs": [
    {
     "data": {
      "text/plain": [
       "0     True\n",
       "1     True\n",
       "2    False\n",
       "3     True\n",
       "4    False\n",
       "Name: label, dtype: bool"
      ]
     },
     "execution_count": 8,
     "metadata": {},
     "output_type": "execute_result"
    }
   ],
   "source": [
    "#change label to boolean to save a bit of space\n",
    "df.label = df.label.astype('bool')\n",
    "df['label'].head()"
   ]
  },
  {
   "cell_type": "code",
   "execution_count": 9,
   "id": "streaming-roller",
   "metadata": {},
   "outputs": [
    {
     "data": {
      "text/plain": [
       "<AxesSubplot:title={'center':'Target Variable Class Distribution'}>"
      ]
     },
     "execution_count": 9,
     "metadata": {},
     "output_type": "execute_result"
    },
    {
     "data": {
      "image/png": "[encoded data removed]",
      "text/plain": [
       "<Figure size 432x288 with 1 Axes>"
      ]
     },
     "metadata": {
      "needs_background": "light"
     },
     "output_type": "display_data"
    }
   ],
   "source": [
    "df['label'].value_counts().plot(kind='barh', title='Target Variable Class Distribution')"
   ]
  },
  {
   "cell_type": "code",
   "execution_count": 10,
   "id": "alone-carbon",
   "metadata": {},
   "outputs": [
    {
     "data": {
      "text/plain": [
       "<AxesSubplot:>"
      ]
     },
     "execution_count": 10,
     "metadata": {},
     "output_type": "execute_result"
    },
    {
     "data": {
      "image/png": "[encoded data removed]",
      "text/plain": [
       "<Figure size 1080x360 with 1 Axes>"
      ]
     },
     "metadata": {
      "needs_background": "light"
     },
     "output_type": "display_data"
    }
   ],
   "source": [
    "#Boxplots\n",
    "df.boxplot(vert = True, grid = False, figsize = (15,5))"
   ]
  },
  {
   "cell_type": "code",
   "execution_count": 31,
   "id": "fossil-tackle",
   "metadata": {},
   "outputs": [
    {
     "data": {
      "text/plain": [
       "Text(0.5, 1.0, 'HeatMap-Correlation Matrix')"
      ]
     },
     "execution_count": 31,
     "metadata": {},
     "output_type": "execute_result"
    },
    {
     "data": {
      "image/png": "[encoded data removed]",
      "text/plain": [
       "<Figure size 1800x1080 with 2 Axes>"
      ]
     },
     "metadata": {
      "needs_background": "light"
     },
     "output_type": "display_data"
    }
   ],
   "source": [
    "plt.figure(figsize=(25, 15))\n",
    "#sns.heatmap(df.corr(), annot=True, fmt='.1g')\n",
    "sns.set(font_scale=1.4)\n",
    "sns.heatmap(df.corr(), cmap='viridis')\n",
    "plt.title('HeatMap-Correlation Matrix')"
   ]
  },
  {
   "cell_type": "markdown",
   "id": "valid-michael",
   "metadata": {},
   "source": [
    "# Training/Test Sets and Data Normalization"
   ]
  },
  {
   "cell_type": "code",
   "execution_count": 11,
   "id": "stylish-bronze",
   "metadata": {},
   "outputs": [
    {
     "name": "stdout",
     "output_type": "stream",
     "text": [
      "Size of target vector:  (7000000,)\n",
      "--------------------------------------------------\n",
      "Size of explanatory matrix:  (7000000, 28)\n"
     ]
    }
   ],
   "source": [
    "## split dataset into independent (X) and target (y) variables\n",
    "y = df['label']\n",
    "X = df.drop(['label'], axis=1)\n",
    "print('Size of target vector: ', y.shape)\n",
    "print('-'*50)\n",
    "print('Size of explanatory matrix: ',X.shape)"
   ]
  },
  {
   "cell_type": "code",
   "execution_count": 12,
   "id": "identified-session",
   "metadata": {},
   "outputs": [
    {
     "name": "stdout",
     "output_type": "stream",
     "text": [
      "split between classes:  \n",
      " -----------------\n",
      "True     3500879\n",
      "False    3499121\n",
      "Name: label, dtype: int64\n"
     ]
    }
   ],
   "source": [
    "## Check target counts\n",
    "print(\"split between classes:  \\n\", '-----------------')\n",
    "print(y.value_counts())"
   ]
  },
  {
   "cell_type": "code",
   "execution_count": 13,
   "id": "configured-specialist",
   "metadata": {},
   "outputs": [
    {
     "name": "stdout",
     "output_type": "stream",
     "text": [
      "Size of explanatory matrix for Training set:  (4900000, 28)\n",
      "Size of explanatory matrix for Test set:  (2100000, 28)\n",
      "Training set split between classes:  \n",
      " -----------------\n",
      "True     2450615\n",
      "False    2449385\n",
      "Name: label, dtype: int64\n",
      "Test set split between classes:  \n",
      " -----------------\n",
      "True     1050264\n",
      "False    1049736\n",
      "Name: label, dtype: int64\n"
     ]
    }
   ],
   "source": [
    "## Creating training and test data - 10% witholding for test set (stratified)\n",
    "from sklearn.model_selection import train_test_split\n",
    "X_train, X_test, y_train, y_test = train_test_split(X, y, stratify=y, test_size=0.3)\n",
    "\n",
    "## Test and train set counts - check that stratification was applied\n",
    "print('Size of explanatory matrix for Training set: ',X_train.shape)\n",
    "print('Size of explanatory matrix for Test set: ',X_test.shape)\n",
    "\n",
    "print(\"Training set split between classes:  \\n\", '-----------------')\n",
    "print(y_train.value_counts())\n",
    "\n",
    "print(\"Test set split between classes:  \\n\", '-----------------')\n",
    "print(y_test.value_counts())"
   ]
  },
  {
   "cell_type": "code",
   "execution_count": 14,
   "id": "canadian-publication",
   "metadata": {},
   "outputs": [],
   "source": [
    "#Normalize all of the explanatory features with StandardScaler in train and test sets\n",
    "from sklearn.preprocessing import StandardScaler\n",
    "X_train = StandardScaler().fit_transform(X_train)\n",
    "X_test = StandardScaler().fit_transform(X_test)"
   ]
  },
  {
   "cell_type": "markdown",
   "id": "compatible-cabinet",
   "metadata": {},
   "source": [
    "# Models"
   ]
  },
  {
   "cell_type": "markdown",
   "id": "dated-macedonia",
   "metadata": {},
   "source": [
    "## Logistic Regression for Accuracy Baseline\n",
    "\n",
    "First, we will fit a Logistic Regression model as the basline to assess the accuracy."
   ]
  },
  {
   "cell_type": "code",
   "execution_count": 15,
   "id": "capital-illinois",
   "metadata": {},
   "outputs": [],
   "source": [
    "from sklearn.linear_model import LogisticRegression\n",
    "from sklearn import metrics as mt"
   ]
  },
  {
   "cell_type": "code",
   "execution_count": 16,
   "id": "inappropriate-monitor",
   "metadata": {},
   "outputs": [
    {
     "name": "stdout",
     "output_type": "stream",
     "text": [
      "accuracy:  0.8368385714285714\n"
     ]
    }
   ],
   "source": [
    "#Logistic Regression Model\n",
    "lr_model = LogisticRegression(penalty='l1', C=0.01, solver='liblinear', random_state = 1) \n",
    "lr_model.fit(X_train,y_train)\n",
    "preds = lr_model.predict(X_test)\n",
    "acc = mt.accuracy_score(y_test,preds)\n",
    "print(\"accuracy: \", acc)"
   ]
  },
  {
   "cell_type": "markdown",
   "id": "nutritional-publisher",
   "metadata": {},
   "source": [
    "# Neural Network Model\n",
    "\n",
    "We will now fit an initial Neural Network model with two dense layers and default parameter settings."
   ]
  },
  {
   "cell_type": "code",
   "execution_count": 17,
   "id": "explicit-mining",
   "metadata": {},
   "outputs": [],
   "source": [
    "#Tensorflow Packages\n",
    "import tensorflow as tf\n",
    "from tensorflow.keras import layers \n",
    "from tensorflow.keras.regularizers import l2\n",
    "from tensorflow.keras.layers import InputLayer"
   ]
  },
  {
   "cell_type": "code",
   "execution_count": 48,
   "id": "dressed-lying",
   "metadata": {},
   "outputs": [],
   "source": [
    "#sequential NN model for classification\n",
    "model = tf.keras.Sequential()\n",
    "model.add(InputLayer(input_shape=(28,)))\n",
    "model.add(layers.Dense(200,activation='relu')) \n",
    "#model.add(layers.Dense(100, activation='relu'))\n",
    "model.add(layers.Dense(50, activation='relu'))\n",
    "model.add(layers.Dense(1, activation='sigmoid'))"
   ]
  },
  {
   "cell_type": "code",
   "execution_count": 49,
   "id": "lovely-cattle",
   "metadata": {},
   "outputs": [],
   "source": [
    "#compile model - use accuracy for binary classification\n",
    "model.compile(optimizer='adam',\n",
    "              loss='binary_crossentropy',\n",
    "              metrics=['accuracy'])"
   ]
  },
  {
   "cell_type": "code",
   "execution_count": 50,
   "id": "metric-photography",
   "metadata": {},
   "outputs": [
    {
     "name": "stdout",
     "output_type": "stream",
     "text": [
      "Model: \"sequential_2\"\n",
      "_________________________________________________________________\n",
      "Layer (type)                 Output Shape              Param #   \n",
      "=================================================================\n",
      "dense_7 (Dense)              (None, 200)               5800      \n",
      "_________________________________________________________________\n",
      "dense_8 (Dense)              (None, 50)                10050     \n",
      "_________________________________________________________________\n",
      "dense_9 (Dense)              (None, 1)                 51        \n",
      "=================================================================\n",
      "Total params: 15,901\n",
      "Trainable params: 15,901\n",
      "Non-trainable params: 0\n",
      "_________________________________________________________________\n"
     ]
    }
   ],
   "source": [
    "model.summary()"
   ]
  },
  {
   "cell_type": "markdown",
   "id": "infrared-discretion",
   "metadata": {},
   "source": [
    "We will now fit the model and assess test accuracy."
   ]
  },
  {
   "cell_type": "code",
   "execution_count": 51,
   "id": "painted-poster",
   "metadata": {},
   "outputs": [
    {
     "name": "stdout",
     "output_type": "stream",
     "text": [
      "Epoch 1/40\n",
      "490/490 [==============================] - 5s 11ms/step - loss: 0.3183 - accuracy: 0.8523 - val_loss: 0.2871 - val_accuracy: 0.8669\n",
      "Epoch 2/40\n",
      "490/490 [==============================] - 5s 11ms/step - loss: 0.2820 - accuracy: 0.8702 - val_loss: 0.2782 - val_accuracy: 0.8727\n",
      "Epoch 3/40\n",
      "490/490 [==============================] - 6s 12ms/step - loss: 0.2758 - accuracy: 0.8743 - val_loss: 0.2738 - val_accuracy: 0.8755\n",
      "Epoch 4/40\n",
      "490/490 [==============================] - 6s 12ms/step - loss: 0.2723 - accuracy: 0.8763 - val_loss: 0.2713 - val_accuracy: 0.8770\n",
      "Epoch 5/40\n",
      "490/490 [==============================] - 5s 11ms/step - loss: 0.2699 - accuracy: 0.8778 - val_loss: 0.2694 - val_accuracy: 0.8782\n",
      "Epoch 6/40\n",
      "490/490 [==============================] - 5s 11ms/step - loss: 0.2682 - accuracy: 0.8787 - val_loss: 0.2678 - val_accuracy: 0.8788\n",
      "Epoch 7/40\n",
      "490/490 [==============================] - 6s 11ms/step - loss: 0.2669 - accuracy: 0.8796 - val_loss: 0.2668 - val_accuracy: 0.8796\n",
      "Epoch 8/40\n",
      "490/490 [==============================] - 6s 13ms/step - loss: 0.2660 - accuracy: 0.8800 - val_loss: 0.2663 - val_accuracy: 0.8798\n",
      "Epoch 9/40\n",
      "490/490 [==============================] - 7s 14ms/step - loss: 0.2652 - accuracy: 0.8804 - val_loss: 0.2658 - val_accuracy: 0.8801\n",
      "Epoch 10/40\n",
      "490/490 [==============================] - 7s 15ms/step - loss: 0.2646 - accuracy: 0.8808 - val_loss: 0.2653 - val_accuracy: 0.8804\n",
      "Epoch 11/40\n",
      "490/490 [==============================] - 7s 14ms/step - loss: 0.2641 - accuracy: 0.8810 - val_loss: 0.2647 - val_accuracy: 0.8806\n",
      "Epoch 12/40\n",
      "490/490 [==============================] - 7s 14ms/step - loss: 0.2637 - accuracy: 0.8812 - val_loss: 0.2647 - val_accuracy: 0.8808\n",
      "Epoch 13/40\n",
      "490/490 [==============================] - 8s 17ms/step - loss: 0.2633 - accuracy: 0.8816 - val_loss: 0.2642 - val_accuracy: 0.8810\n",
      "Epoch 14/40\n",
      "490/490 [==============================] - 8s 17ms/step - loss: 0.2630 - accuracy: 0.8816 - val_loss: 0.2639 - val_accuracy: 0.8813\n",
      "Epoch 15/40\n",
      "490/490 [==============================] - 7s 15ms/step - loss: 0.2627 - accuracy: 0.8817 - val_loss: 0.2635 - val_accuracy: 0.8814\n",
      "Epoch 16/40\n",
      "490/490 [==============================] - 7s 14ms/step - loss: 0.2625 - accuracy: 0.8819 - val_loss: 0.2638 - val_accuracy: 0.8812\n",
      "Epoch 17/40\n",
      "490/490 [==============================] - 7s 13ms/step - loss: 0.2622 - accuracy: 0.8820 - val_loss: 0.2635 - val_accuracy: 0.8813\n",
      "Epoch 18/40\n",
      "490/490 [==============================] - 7s 14ms/step - loss: 0.2619 - accuracy: 0.8822 - val_loss: 0.2634 - val_accuracy: 0.8814\n",
      "Epoch 19/40\n",
      "490/490 [==============================] - 8s 16ms/step - loss: 0.2617 - accuracy: 0.8823 - val_loss: 0.2630 - val_accuracy: 0.8817\n",
      "Epoch 20/40\n",
      "490/490 [==============================] - 7s 13ms/step - loss: 0.2615 - accuracy: 0.8824 - val_loss: 0.2631 - val_accuracy: 0.8816\n",
      "Epoch 21/40\n",
      "490/490 [==============================] - 6s 13ms/step - loss: 0.2613 - accuracy: 0.8826 - val_loss: 0.2626 - val_accuracy: 0.8819\n",
      "Epoch 22/40\n",
      "490/490 [==============================] - 6s 13ms/step - loss: 0.2611 - accuracy: 0.8827 - val_loss: 0.2628 - val_accuracy: 0.8818\n",
      "Epoch 23/40\n",
      "490/490 [==============================] - 6s 13ms/step - loss: 0.2609 - accuracy: 0.8827 - val_loss: 0.2639 - val_accuracy: 0.8811\n",
      "Epoch 24/40\n",
      "490/490 [==============================] - 6s 13ms/step - loss: 0.2608 - accuracy: 0.8827 - val_loss: 0.2627 - val_accuracy: 0.8818\n",
      "Epoch 25/40\n",
      "490/490 [==============================] - 6s 13ms/step - loss: 0.2607 - accuracy: 0.8829 - val_loss: 0.2622 - val_accuracy: 0.8821\n",
      "Epoch 26/40\n",
      "490/490 [==============================] - 6s 13ms/step - loss: 0.2605 - accuracy: 0.8830 - val_loss: 0.2617 - val_accuracy: 0.8824\n",
      "Epoch 27/40\n",
      "490/490 [==============================] - 6s 13ms/step - loss: 0.2603 - accuracy: 0.8831 - val_loss: 0.2621 - val_accuracy: 0.8823\n",
      "Epoch 28/40\n",
      "490/490 [==============================] - 6s 13ms/step - loss: 0.2601 - accuracy: 0.8831 - val_loss: 0.2618 - val_accuracy: 0.8823\n",
      "Epoch 29/40\n",
      "490/490 [==============================] - 6s 13ms/step - loss: 0.2600 - accuracy: 0.8832 - val_loss: 0.2616 - val_accuracy: 0.8824\n",
      "Epoch 30/40\n",
      "490/490 [==============================] - 6s 13ms/step - loss: 0.2599 - accuracy: 0.8833 - val_loss: 0.2615 - val_accuracy: 0.8824\n",
      "Epoch 31/40\n",
      "490/490 [==============================] - 6s 13ms/step - loss: 0.2598 - accuracy: 0.8833 - val_loss: 0.2612 - val_accuracy: 0.8827\n",
      "Epoch 32/40\n",
      "490/490 [==============================] - 6s 13ms/step - loss: 0.2597 - accuracy: 0.8833 - val_loss: 0.2613 - val_accuracy: 0.8826\n",
      "Epoch 33/40\n",
      "490/490 [==============================] - 6s 13ms/step - loss: 0.2595 - accuracy: 0.8835 - val_loss: 0.2613 - val_accuracy: 0.8826\n",
      "Epoch 34/40\n",
      "490/490 [==============================] - 6s 13ms/step - loss: 0.2594 - accuracy: 0.8835 - val_loss: 0.2611 - val_accuracy: 0.8828\n",
      "Epoch 35/40\n",
      "490/490 [==============================] - 6s 13ms/step - loss: 0.2593 - accuracy: 0.8835 - val_loss: 0.2609 - val_accuracy: 0.8829\n",
      "Epoch 36/40\n",
      "490/490 [==============================] - 6s 13ms/step - loss: 0.2592 - accuracy: 0.8836 - val_loss: 0.2611 - val_accuracy: 0.8827\n",
      "Epoch 37/40\n",
      "490/490 [==============================] - 6s 13ms/step - loss: 0.2591 - accuracy: 0.8837 - val_loss: 0.2609 - val_accuracy: 0.8828\n",
      "Epoch 38/40\n",
      "490/490 [==============================] - 6s 13ms/step - loss: 0.2590 - accuracy: 0.8838 - val_loss: 0.2609 - val_accuracy: 0.8828\n",
      "Epoch 39/40\n",
      "490/490 [==============================] - 6s 13ms/step - loss: 0.2590 - accuracy: 0.8838 - val_loss: 0.2610 - val_accuracy: 0.8827\n",
      "Epoch 40/40\n",
      "490/490 [==============================] - 6s 13ms/step - loss: 0.2589 - accuracy: 0.8838 - val_loss: 0.2615 - val_accuracy: 0.8826\n"
     ]
    },
    {
     "data": {
      "text/plain": [
       "<tensorflow.python.keras.callbacks.History at 0x1eee9e39460>"
      ]
     },
     "execution_count": 51,
     "metadata": {},
     "output_type": "execute_result"
    }
   ],
   "source": [
    "#fit the model\n",
    "model.fit(X_train, y_train, epochs=40,validation_data=(X_test,y_test), batch_size=10000)"
   ]
  },
  {
   "cell_type": "markdown",
   "id": "composite-prince",
   "metadata": {},
   "source": [
    "The test accuracy we have reached after 30 epochs is 0.8828. Let us now look at the trend in the test loss."
   ]
  },
  {
   "cell_type": "code",
   "execution_count": 52,
   "id": "foreign-disco",
   "metadata": {
    "scrolled": false
   },
   "outputs": [
    {
     "data": {
      "image/png": "[encoded data removed]",
      "text/plain": [
       "<Figure size 432x288 with 1 Axes>"
      ]
     },
     "metadata": {},
     "output_type": "display_data"
    }
   ],
   "source": [
    "#need labels\n",
    "train_loss = model.history.history['loss']\n",
    "val_loss = model.history.history['val_loss']\n",
    "plt.title('Neural Network Loss Minimization')\n",
    "plt.plot(train_loss, label='Training Set Loss')\n",
    "plt.plot(val_loss, label='Test Set Loss')\n",
    "plt.xlabel('Epoch')\n",
    "plt.ylabel('Loss')\n",
    "plt.legend()\n",
    "plt.show()"
   ]
  },
  {
   "cell_type": "code",
   "execution_count": 53,
   "id": "twenty-scratch",
   "metadata": {},
   "outputs": [
    {
     "data": {
      "image/png": "[encoded data removed]",
      "text/plain": [
       "<Figure size 432x288 with 1 Axes>"
      ]
     },
     "metadata": {},
     "output_type": "display_data"
    }
   ],
   "source": [
    "#need labels\n",
    "train_acc = model.history.history['accuracy']\n",
    "val_acc= model.history.history['val_accuracy']\n",
    "plt.title('Neural Network accuracy')\n",
    "plt.plot(train_acc, label='Training Set Accuracy')\n",
    "plt.plot(val_acc, label='Test set Accuracy')\n",
    "plt.xlabel('Epoch')\n",
    "plt.ylabel('Accuracy')\n",
    "plt.legend()\n",
    "plt.show()"
   ]
  },
  {
   "cell_type": "code",
   "execution_count": 54,
   "id": "vanilla-advance",
   "metadata": {},
   "outputs": [
    {
     "name": "stdout",
     "output_type": "stream",
     "text": [
      "153125/153125 [==============================] - 116s 760us/step - loss: 0.2589 - accuracy: 0.8840 59s - loss: 0.2586 - ETA: 58s - loss: 0.2587 - - ETA: 58s - loss: 0.2587 -  - - ETA: 54s - loss: 0.2587 - accuracy: 0 - ETA: 54s - loss: 0.2587 - accuracy - ETA: 54s - l - ETA: 52s - l - ET - ETA: 49s - loss: 0.2585 - accur - ETA: 37s - loss: 0.2587 - accuracy: 0. - ETA:  - ETA: 34s - loss: 0 - ETA: 33s - loss: 0.2586 - accuracy: 0.88 - ETA: 33s - loss:  - ETA: 27s - - ETA: 26s - loss: 0.2587 - accurac - ETA: 25s - loss: 0.2587 - accuracy:  - ETA: 25s - l - ETA: 4s - - ETA - ETA: 0s - loss: 0.2589 - accu\n"
     ]
    },
    {
     "data": {
      "text/plain": [
       "[0.25888684391975403, 0.8839624524116516]"
      ]
     },
     "execution_count": 54,
     "metadata": {},
     "output_type": "execute_result"
    }
   ],
   "source": [
    "model.evaluate(X_train, y_train)"
   ]
  },
  {
   "cell_type": "code",
   "execution_count": 55,
   "id": "growing-thomson",
   "metadata": {},
   "outputs": [
    {
     "name": "stdout",
     "output_type": "stream",
     "text": [
      "65625/65625 [==============================] - 49s 751us/step - loss: 0.2615 - accuracy: 0.8826 48s - loss: 0.2 - ETA: 48s - loss: 0.2645 - accurac - ETA: 47s - loss: 0.2631 - accurac - ETA: 47 - ETA: 45s - loss: 0.2608 - accuracy: 0.8 - ETA: 45s - loss: 0.2606 - accuracy: 0.88 - ETA: 45s - loss: 0.2608 - accuracy: 0. - ETA: 44s - loss: 0 - ETA: 43s - loss: 0.2607 - a - ETA: 42s - loss: 0.2604 - ac - ETA: 42s - loss: 0.2600 - accuracy: - ETA: 41s - loss: 0. - ETA: 40s - loss: 0.2600 - accuracy: 0. - ETA: 40s - loss: 0.2600 - accuracy - ETA: 39s - loss: 0.2602  - ETA: 39s - loss: 0.2603 - - ETA: 38s - loss: 0 - ETA: 37s - loss: 0.2609 - accuracy: - ETA: 36s - loss:  - ETA: 35s - loss: 0.2 - ETA: 32s - l - ETA: 30s - loss: 0.2618 - ETA: 29s - loss: 0. - ETA: 28s  - ETA: 26s - loss: 0.2617 - accurac - ETA: 23s - loss: 0.2619 - accura - ETA: 23s - l - ETA: 21s - loss: 0.2618 - acc - ETA: 21s - loss: 0.2618 - accuracy: 0. - ETA: 18s - loss: 0.2619 -  - ETA: 17s - loss: 0.2 - ETA: 14s - loss: 0.2617 -  - ETA: 13s - loss: 0.2617 - accuracy: 0.8 - ETA: 13s - loss: 0.2617 - accuracy: 0.882 - ETA: - ETA: 11s - loss: 0.2617 - accuracy: 0. - ETA: 11s - loss: 0.2617 - accuracy: 0.882 - ETA: 11s - los - ETA: 10 - ETA: 9s - loss: 0.2617 - accura - ETA: 8s - - ETA: 5s - l - ETA: 5s - los - E - ETA: 3s - loss: 0 - ETA: 0s - loss: 0.2615  - ETA: 0s - loss: 0.2615 - accuracy: 0.\n"
     ]
    },
    {
     "data": {
      "text/plain": [
       "[0.26149359345436096, 0.8826223611831665]"
      ]
     },
     "execution_count": 55,
     "metadata": {},
     "output_type": "execute_result"
    }
   ],
   "source": [
    "model.evaluate(X_test, y_test)"
   ]
  },
  {
   "cell_type": "code",
   "execution_count": null,
   "id": "nutritional-capability",
   "metadata": {},
   "outputs": [],
   "source": []
  }
 ],
 "metadata": {
  "kernelspec": {
   "display_name": "Python 3",
   "language": "python",
   "name": "python3"
  },
  "language_info": {
   "codemirror_mode": {
    "name": "ipython",
    "version": 3
   },
   "file_extension": ".py",
   "mimetype": "text/x-python",
   "name": "python",
   "nbconvert_exporter": "python",
   "pygments_lexer": "ipython3",
   "version": "3.8.8"
  }
 },
 "nbformat": 4,
 "nbformat_minor": 5
}
