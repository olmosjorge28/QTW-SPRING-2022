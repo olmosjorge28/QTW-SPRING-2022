{
 "cells": [
  {
   "cell_type": "code",
   "execution_count": 1,
   "id": "external-attention",
   "metadata": {},
   "outputs": [
    {
     "data": {
      "text/plain": [
       "\"import warnings\\nwarnings.filterwarnings('ignore')\\nfrom warnings import simplefilter \\nsimplefilter(action='ignore', category=FutureWarning)\""
      ]
     },
     "execution_count": 1,
     "metadata": {},
     "output_type": "execute_result"
    }
   ],
   "source": [
    "# standard libraries\n",
    "import pandas as pd\n",
    "import numpy as np\n",
    "\n",
    "import os\n",
    "from os import listdir\n",
    "from os.path import isfile, join\n",
    "\n",
    "from IPython.display import Image\n",
    "#from IPython.display import clear_output\n",
    "#import sklearn\n",
    "#import time\n",
    "#import re\n",
    "\n",
    "# visualization\n",
    "import seaborn as sns\n",
    "import matplotlib.pyplot as plt\n",
    "%matplotlib inline\n",
    "#from tabulate import tabulate\n",
    "\n",
    "# data pre-processing\n",
    "'''from sklearn.impute._base import _BaseImputer\n",
    "from sklearn.model_selection import StratifiedShuffleSplit\n",
    "from sklearn.model_selection._split import BaseShuffleSplit\n",
    "from sklearn.preprocessing import MinMaxScaler, StandardScaler\n",
    "'''\n",
    "# prediction models\n",
    "from sklearn.linear_model import LogisticRegression\n",
    "#import tensorflow as tf\n",
    "#from tensorflow.keras.callbacks import TensorBoard\n",
    "from sklearn.metrics import confusion_matrix\n",
    "from sklearn.metrics import accuracy_score\n",
    "from sklearn.metrics import precision_score\n",
    "from sklearn.metrics import recall_score\n",
    "from sklearn.metrics import f1_score\n",
    "from sklearn.metrics import fbeta_score\n",
    "\n",
    "# import warnings filter\n",
    "'''import warnings\n",
    "warnings.filterwarnings('ignore')\n",
    "from warnings import simplefilter \n",
    "simplefilter(action='ignore', category=FutureWarning)'''"
   ]
  },
  {
   "cell_type": "code",
   "execution_count": 2,
   "id": "infinite-discipline",
   "metadata": {},
   "outputs": [],
   "source": [
    "class FilePathManager:\n",
    "    def __init__(self, local_dir: str):\n",
    "        self.local_dir = local_dir\n",
    "    \n",
    "    def retrieve_full_path(self):\n",
    "        return os.getcwd()+'/'+self.local_dir"
   ]
  },
  {
   "cell_type": "code",
   "execution_count": 3,
   "id": "appreciated-liver",
   "metadata": {},
   "outputs": [],
   "source": [
    "class Loader:\n",
    "    df = pd.DataFrame()\n",
    "    \n",
    "    def load_data(self, file_name):\n",
    "        pass\n",
    "    \n",
    "    def get_df(self):\n",
    "        pass\n",
    "    \n",
    "    def size(self):\n",
    "        return len(self.df)"
   ]
  },
  {
   "cell_type": "code",
   "execution_count": 4,
   "id": "entertaining-regular",
   "metadata": {},
   "outputs": [],
   "source": [
    "from typing import Callable\n",
    " \n",
    "class CSVLoader(Loader):\n",
    "    def __init__(self, file_path_manager: FilePathManager):\n",
    "        self.file_path_manager = file_path_manager\n",
    "        \n",
    "    def load_data(self, _prepare_data: Callable[[pd.DataFrame], pd.DataFrame] = None):\n",
    "        self.df = pd.read_csv(self.file_path_manager.retrieve_full_path())\n",
    "        if _prepare_data:\n",
    "            self.df = _prepare_data(self.df)\n",
    "    \n",
    "    def get_df(self):\n",
    "        return self.df;\n",
    "    \n",
    "    def size(self):\n",
    "        return len(self.df)  "
   ]
  },
  {
   "cell_type": "code",
   "execution_count": 5,
   "id": "apparent-praise",
   "metadata": {},
   "outputs": [],
   "source": [
    "def clean_data(df):\n",
    "    df['y'] = df['y'].astype(int)\n",
    "    #df['x32'] = df['x32'].str.replace('%','').astype(float)\n",
    "    #df['x37'] = df['x37'].str.replace('$','').astype(float)\n",
    "    return df"
   ]
  },
  {
   "cell_type": "code",
   "execution_count": 6,
   "id": "empty-valentine",
   "metadata": {},
   "outputs": [],
   "source": [
    "loader = CSVLoader(FilePathManager('final_project(5).csv'))\n",
    "loader.load_data(clean_data)\n",
    "df = loader.get_df()"
   ]
  },
  {
   "cell_type": "markdown",
   "id": "running-stream",
   "metadata": {},
   "source": [
    "## EDA"
   ]
  },
  {
   "cell_type": "code",
   "execution_count": 7,
   "id": "increased-trauma",
   "metadata": {},
   "outputs": [
    {
     "data": {
      "text/plain": [
       "(160000, 51)"
      ]
     },
     "execution_count": 7,
     "metadata": {},
     "output_type": "execute_result"
    }
   ],
   "source": [
    "df.shape"
   ]
  },
  {
   "cell_type": "code",
   "execution_count": 8,
   "id": "immune-florist",
   "metadata": {},
   "outputs": [
    {
     "data": {
      "text/html": [
       "<div>\n",
       "<style scoped>\n",
       "    .dataframe tbody tr th:only-of-type {\n",
       "        vertical-align: middle;\n",
       "    }\n",
       "\n",
       "    .dataframe tbody tr th {\n",
       "        vertical-align: top;\n",
       "    }\n",
       "\n",
       "    .dataframe thead th {\n",
       "        text-align: right;\n",
       "    }\n",
       "</style>\n",
       "<table border=\"1\" class=\"dataframe\">\n",
       "  <thead>\n",
       "    <tr style=\"text-align: right;\">\n",
       "      <th></th>\n",
       "      <th>x0</th>\n",
       "      <th>x1</th>\n",
       "      <th>x2</th>\n",
       "      <th>x3</th>\n",
       "      <th>x4</th>\n",
       "      <th>x5</th>\n",
       "      <th>x6</th>\n",
       "      <th>x7</th>\n",
       "      <th>x8</th>\n",
       "      <th>x9</th>\n",
       "      <th>...</th>\n",
       "      <th>x41</th>\n",
       "      <th>x42</th>\n",
       "      <th>x43</th>\n",
       "      <th>x44</th>\n",
       "      <th>x45</th>\n",
       "      <th>x46</th>\n",
       "      <th>x47</th>\n",
       "      <th>x48</th>\n",
       "      <th>x49</th>\n",
       "      <th>y</th>\n",
       "    </tr>\n",
       "  </thead>\n",
       "  <tbody>\n",
       "    <tr>\n",
       "      <th>0</th>\n",
       "      <td>-0.166563</td>\n",
       "      <td>-3.961588</td>\n",
       "      <td>4.621113</td>\n",
       "      <td>2.481908</td>\n",
       "      <td>-1.800135</td>\n",
       "      <td>0.804684</td>\n",
       "      <td>6.718751</td>\n",
       "      <td>-14.789997</td>\n",
       "      <td>-1.040673</td>\n",
       "      <td>-4.204950</td>\n",
       "      <td>...</td>\n",
       "      <td>-1.497117</td>\n",
       "      <td>5.414063</td>\n",
       "      <td>-2.325655</td>\n",
       "      <td>1.674827</td>\n",
       "      <td>-0.264332</td>\n",
       "      <td>60.781427</td>\n",
       "      <td>-7.689696</td>\n",
       "      <td>0.151589</td>\n",
       "      <td>-8.040166</td>\n",
       "      <td>0</td>\n",
       "    </tr>\n",
       "    <tr>\n",
       "      <th>1</th>\n",
       "      <td>-0.149894</td>\n",
       "      <td>-0.585676</td>\n",
       "      <td>27.839856</td>\n",
       "      <td>4.152333</td>\n",
       "      <td>6.426802</td>\n",
       "      <td>-2.426943</td>\n",
       "      <td>40.477058</td>\n",
       "      <td>-6.725709</td>\n",
       "      <td>0.896421</td>\n",
       "      <td>0.330165</td>\n",
       "      <td>...</td>\n",
       "      <td>36.292790</td>\n",
       "      <td>4.490915</td>\n",
       "      <td>0.762561</td>\n",
       "      <td>6.526662</td>\n",
       "      <td>1.007927</td>\n",
       "      <td>15.805696</td>\n",
       "      <td>-4.896678</td>\n",
       "      <td>-0.320283</td>\n",
       "      <td>16.719974</td>\n",
       "      <td>0</td>\n",
       "    </tr>\n",
       "    <tr>\n",
       "      <th>2</th>\n",
       "      <td>-0.321707</td>\n",
       "      <td>-1.429819</td>\n",
       "      <td>12.251561</td>\n",
       "      <td>6.586874</td>\n",
       "      <td>-5.304647</td>\n",
       "      <td>-11.311090</td>\n",
       "      <td>17.812850</td>\n",
       "      <td>11.060572</td>\n",
       "      <td>5.325880</td>\n",
       "      <td>-2.632984</td>\n",
       "      <td>...</td>\n",
       "      <td>-0.368491</td>\n",
       "      <td>9.088864</td>\n",
       "      <td>-0.689886</td>\n",
       "      <td>-2.731118</td>\n",
       "      <td>0.754200</td>\n",
       "      <td>30.856417</td>\n",
       "      <td>-7.428573</td>\n",
       "      <td>-2.090804</td>\n",
       "      <td>-7.869421</td>\n",
       "      <td>0</td>\n",
       "    </tr>\n",
       "    <tr>\n",
       "      <th>3</th>\n",
       "      <td>-0.245594</td>\n",
       "      <td>5.076677</td>\n",
       "      <td>-24.149632</td>\n",
       "      <td>3.637307</td>\n",
       "      <td>6.505811</td>\n",
       "      <td>2.290224</td>\n",
       "      <td>-35.111751</td>\n",
       "      <td>-18.913592</td>\n",
       "      <td>-0.337041</td>\n",
       "      <td>-5.568076</td>\n",
       "      <td>...</td>\n",
       "      <td>15.691546</td>\n",
       "      <td>-7.467775</td>\n",
       "      <td>2.940789</td>\n",
       "      <td>-6.424112</td>\n",
       "      <td>0.419776</td>\n",
       "      <td>-72.424569</td>\n",
       "      <td>5.361375</td>\n",
       "      <td>1.806070</td>\n",
       "      <td>-7.670847</td>\n",
       "      <td>0</td>\n",
       "    </tr>\n",
       "    <tr>\n",
       "      <th>4</th>\n",
       "      <td>-0.273366</td>\n",
       "      <td>0.306326</td>\n",
       "      <td>-11.352593</td>\n",
       "      <td>1.676758</td>\n",
       "      <td>2.928441</td>\n",
       "      <td>-0.616824</td>\n",
       "      <td>-16.505817</td>\n",
       "      <td>27.532281</td>\n",
       "      <td>1.199715</td>\n",
       "      <td>-4.309105</td>\n",
       "      <td>...</td>\n",
       "      <td>-13.911297</td>\n",
       "      <td>-5.229937</td>\n",
       "      <td>1.783928</td>\n",
       "      <td>3.957801</td>\n",
       "      <td>-0.096988</td>\n",
       "      <td>-14.085435</td>\n",
       "      <td>-0.208351</td>\n",
       "      <td>-0.894942</td>\n",
       "      <td>15.724742</td>\n",
       "      <td>1</td>\n",
       "    </tr>\n",
       "  </tbody>\n",
       "</table>\n",
       "<p>5 rows × 51 columns</p>\n",
       "</div>"
      ],
      "text/plain": [
       "         x0        x1         x2        x3        x4         x5         x6  \\\n",
       "0 -0.166563 -3.961588   4.621113  2.481908 -1.800135   0.804684   6.718751   \n",
       "1 -0.149894 -0.585676  27.839856  4.152333  6.426802  -2.426943  40.477058   \n",
       "2 -0.321707 -1.429819  12.251561  6.586874 -5.304647 -11.311090  17.812850   \n",
       "3 -0.245594  5.076677 -24.149632  3.637307  6.505811   2.290224 -35.111751   \n",
       "4 -0.273366  0.306326 -11.352593  1.676758  2.928441  -0.616824 -16.505817   \n",
       "\n",
       "          x7        x8        x9  ...        x41       x42       x43  \\\n",
       "0 -14.789997 -1.040673 -4.204950  ...  -1.497117  5.414063 -2.325655   \n",
       "1  -6.725709  0.896421  0.330165  ...  36.292790  4.490915  0.762561   \n",
       "2  11.060572  5.325880 -2.632984  ...  -0.368491  9.088864 -0.689886   \n",
       "3 -18.913592 -0.337041 -5.568076  ...  15.691546 -7.467775  2.940789   \n",
       "4  27.532281  1.199715 -4.309105  ... -13.911297 -5.229937  1.783928   \n",
       "\n",
       "        x44       x45        x46       x47       x48        x49  y  \n",
       "0  1.674827 -0.264332  60.781427 -7.689696  0.151589  -8.040166  0  \n",
       "1  6.526662  1.007927  15.805696 -4.896678 -0.320283  16.719974  0  \n",
       "2 -2.731118  0.754200  30.856417 -7.428573 -2.090804  -7.869421  0  \n",
       "3 -6.424112  0.419776 -72.424569  5.361375  1.806070  -7.670847  0  \n",
       "4  3.957801 -0.096988 -14.085435 -0.208351 -0.894942  15.724742  1  \n",
       "\n",
       "[5 rows x 51 columns]"
      ]
     },
     "execution_count": 8,
     "metadata": {},
     "output_type": "execute_result"
    }
   ],
   "source": [
    "df.head()"
   ]
  },
  {
   "cell_type": "code",
   "execution_count": 9,
   "id": "tracked-moderator",
   "metadata": {},
   "outputs": [],
   "source": [
    "def target_EDA(target):\n",
    "    y_barchart = sns.countplot(x = target)\n",
    "    y_counts = target.value_counts()\n",
    "    y_pcts = target.value_counts(normalize=True)   \n",
    "    \n",
    "    return plt.show(), print(\"Counts:\\n\", y_counts), print(\"\\nPercents:\\n\", y_pcts) "
   ]
  },
  {
   "cell_type": "code",
   "execution_count": 10,
   "id": "adapted-sociology",
   "metadata": {},
   "outputs": [
    {
     "data": {
      "image/png": "[encoded data removed]",
      "text/plain": [
       "<Figure size 432x288 with 1 Axes>"
      ]
     },
     "metadata": {
      "needs_background": "light"
     },
     "output_type": "display_data"
    },
    {
     "name": "stdout",
     "output_type": "stream",
     "text": [
      "Counts:\n",
      " 0    95803\n",
      "1    64197\n",
      "Name: y, dtype: int64\n",
      "\n",
      "Percents:\n",
      " 0    0.598769\n",
      "1    0.401231\n",
      "Name: y, dtype: float64\n"
     ]
    },
    {
     "data": {
      "text/plain": [
       "(None, None, None)"
      ]
     },
     "execution_count": 10,
     "metadata": {},
     "output_type": "execute_result"
    }
   ],
   "source": [
    "target_EDA(df['y'])"
   ]
  },
  {
   "cell_type": "markdown",
   "id": "portuguese-fabric",
   "metadata": {},
   "source": [
    "### Missing Values & Data Types\n",
    "- Minimal missing values, <= 0.03% of feature data.  No missing values for target response.\n",
    "- Five features were read in as object (string) data types, the rest are float64 (continuous)"
   ]
  },
  {
   "cell_type": "code",
   "execution_count": 11,
   "id": "honey-onion",
   "metadata": {
    "scrolled": true
   },
   "outputs": [
    {
     "name": "stdout",
     "output_type": "stream",
     "text": [
      "<class 'pandas.core.frame.DataFrame'>\n",
      "RangeIndex: 160000 entries, 0 to 159999\n",
      "Data columns (total 51 columns):\n",
      " #   Column  Non-Null Count   Dtype  \n",
      "---  ------  --------------   -----  \n",
      " 0   x0      159974 non-null  float64\n",
      " 1   x1      159975 non-null  float64\n",
      " 2   x2      159962 non-null  float64\n",
      " 3   x3      159963 non-null  float64\n",
      " 4   x4      159974 non-null  float64\n",
      " 5   x5      159963 non-null  float64\n",
      " 6   x6      159974 non-null  float64\n",
      " 7   x7      159973 non-null  float64\n",
      " 8   x8      159979 non-null  float64\n",
      " 9   x9      159970 non-null  float64\n",
      " 10  x10     159957 non-null  float64\n",
      " 11  x11     159970 non-null  float64\n",
      " 12  x12     159964 non-null  float64\n",
      " 13  x13     159969 non-null  float64\n",
      " 14  x14     159966 non-null  float64\n",
      " 15  x15     159965 non-null  float64\n",
      " 16  x16     159974 non-null  float64\n",
      " 17  x17     159973 non-null  float64\n",
      " 18  x18     159960 non-null  float64\n",
      " 19  x19     159965 non-null  float64\n",
      " 20  x20     159962 non-null  float64\n",
      " 21  x21     159971 non-null  float64\n",
      " 22  x22     159973 non-null  float64\n",
      " 23  x23     159953 non-null  float64\n",
      " 24  x24     159972 non-null  object \n",
      " 25  x25     159978 non-null  float64\n",
      " 26  x26     159964 non-null  float64\n",
      " 27  x27     159970 non-null  float64\n",
      " 28  x28     159965 non-null  float64\n",
      " 29  x29     159970 non-null  object \n",
      " 30  x30     159970 non-null  object \n",
      " 31  x31     159961 non-null  float64\n",
      " 32  x32     159969 non-null  object \n",
      " 33  x33     159959 non-null  float64\n",
      " 34  x34     159959 non-null  float64\n",
      " 35  x35     159970 non-null  float64\n",
      " 36  x36     159973 non-null  float64\n",
      " 37  x37     159977 non-null  object \n",
      " 38  x38     159969 non-null  float64\n",
      " 39  x39     159977 non-null  float64\n",
      " 40  x40     159964 non-null  float64\n",
      " 41  x41     159960 non-null  float64\n",
      " 42  x42     159974 non-null  float64\n",
      " 43  x43     159963 non-null  float64\n",
      " 44  x44     159960 non-null  float64\n",
      " 45  x45     159971 non-null  float64\n",
      " 46  x46     159969 non-null  float64\n",
      " 47  x47     159963 non-null  float64\n",
      " 48  x48     159968 non-null  float64\n",
      " 49  x49     159968 non-null  float64\n",
      " 50  y       160000 non-null  int32  \n",
      "dtypes: float64(45), int32(1), object(5)\n",
      "memory usage: 61.6+ MB\n"
     ]
    }
   ],
   "source": [
    "df.info()"
   ]
  },
  {
   "cell_type": "code",
   "execution_count": 12,
   "id": "outer-columbus",
   "metadata": {},
   "outputs": [
    {
     "data": {
      "image/png": "[encoded data removed]",
      "text/plain": [
       "<Figure size 1152x288 with 1 Axes>"
      ]
     },
     "metadata": {
      "needs_background": "light"
     },
     "output_type": "display_data"
    }
   ],
   "source": [
    "pct_missing = ( df.shape[0] - df.describe().T['count'] )/df.shape[0]*100\n",
    "pct_missing = pct_missing.sort_values(ascending=False).reset_index()\n",
    "pct_missing.columns = ['feature', 'count']\n",
    "\n",
    "plt.figure(figsize=(16, 4))\n",
    "sns.barplot(data=pct_missing, x='feature', y='count', color='blue')\n",
    "plt.ylabel('percent')\n",
    "plt.title(\"% Missing Values by Feature\")\n",
    "plt.tight_layout() \n",
    "plt.show()"
   ]
  },
  {
   "cell_type": "markdown",
   "id": "written-dispute",
   "metadata": {},
   "source": [
    "#### Continuous features need to be centered and scaled"
   ]
  },
  {
   "cell_type": "code",
   "execution_count": 13,
   "id": "double-screw",
   "metadata": {
    "scrolled": false
   },
   "outputs": [
    {
     "data": {
      "text/html": [
       "<div>\n",
       "<style scoped>\n",
       "    .dataframe tbody tr th:only-of-type {\n",
       "        vertical-align: middle;\n",
       "    }\n",
       "\n",
       "    .dataframe tbody tr th {\n",
       "        vertical-align: top;\n",
       "    }\n",
       "\n",
       "    .dataframe thead th {\n",
       "        text-align: right;\n",
       "    }\n",
       "</style>\n",
       "<table border=\"1\" class=\"dataframe\">\n",
       "  <thead>\n",
       "    <tr style=\"text-align: right;\">\n",
       "      <th></th>\n",
       "      <th>x0</th>\n",
       "      <th>x1</th>\n",
       "      <th>x2</th>\n",
       "      <th>x3</th>\n",
       "      <th>x4</th>\n",
       "      <th>x5</th>\n",
       "      <th>x6</th>\n",
       "      <th>x7</th>\n",
       "      <th>x8</th>\n",
       "      <th>x9</th>\n",
       "      <th>...</th>\n",
       "      <th>x41</th>\n",
       "      <th>x42</th>\n",
       "      <th>x43</th>\n",
       "      <th>x44</th>\n",
       "      <th>x45</th>\n",
       "      <th>x46</th>\n",
       "      <th>x47</th>\n",
       "      <th>x48</th>\n",
       "      <th>x49</th>\n",
       "      <th>y</th>\n",
       "    </tr>\n",
       "  </thead>\n",
       "  <tbody>\n",
       "    <tr>\n",
       "      <th>count</th>\n",
       "      <td>159974.000000</td>\n",
       "      <td>159975.000000</td>\n",
       "      <td>159962.000000</td>\n",
       "      <td>159963.000000</td>\n",
       "      <td>159974.000000</td>\n",
       "      <td>159963.000000</td>\n",
       "      <td>159974.000000</td>\n",
       "      <td>159973.000000</td>\n",
       "      <td>159979.000000</td>\n",
       "      <td>159970.000000</td>\n",
       "      <td>...</td>\n",
       "      <td>159960.000000</td>\n",
       "      <td>159974.000000</td>\n",
       "      <td>159963.000000</td>\n",
       "      <td>159960.000000</td>\n",
       "      <td>159971.000000</td>\n",
       "      <td>159969.000000</td>\n",
       "      <td>159963.000000</td>\n",
       "      <td>159968.000000</td>\n",
       "      <td>159968.000000</td>\n",
       "      <td>160000.000000</td>\n",
       "    </tr>\n",
       "    <tr>\n",
       "      <th>mean</th>\n",
       "      <td>-0.001028</td>\n",
       "      <td>0.001358</td>\n",
       "      <td>-1.150145</td>\n",
       "      <td>-0.024637</td>\n",
       "      <td>-0.000549</td>\n",
       "      <td>0.013582</td>\n",
       "      <td>-1.670670</td>\n",
       "      <td>-7.692795</td>\n",
       "      <td>-0.030540</td>\n",
       "      <td>0.005462</td>\n",
       "      <td>...</td>\n",
       "      <td>6.701076</td>\n",
       "      <td>-1.833820</td>\n",
       "      <td>-0.002091</td>\n",
       "      <td>-0.006250</td>\n",
       "      <td>0.000885</td>\n",
       "      <td>-12.755395</td>\n",
       "      <td>0.028622</td>\n",
       "      <td>-0.000224</td>\n",
       "      <td>-0.674224</td>\n",
       "      <td>0.401231</td>\n",
       "    </tr>\n",
       "    <tr>\n",
       "      <th>std</th>\n",
       "      <td>0.371137</td>\n",
       "      <td>6.340632</td>\n",
       "      <td>13.273480</td>\n",
       "      <td>8.065032</td>\n",
       "      <td>6.382293</td>\n",
       "      <td>7.670076</td>\n",
       "      <td>19.298665</td>\n",
       "      <td>30.542264</td>\n",
       "      <td>8.901185</td>\n",
       "      <td>6.355040</td>\n",
       "      <td>...</td>\n",
       "      <td>18.680196</td>\n",
       "      <td>5.110705</td>\n",
       "      <td>1.534952</td>\n",
       "      <td>4.164595</td>\n",
       "      <td>0.396621</td>\n",
       "      <td>36.608641</td>\n",
       "      <td>4.788157</td>\n",
       "      <td>1.935501</td>\n",
       "      <td>15.036738</td>\n",
       "      <td>0.490149</td>\n",
       "    </tr>\n",
       "    <tr>\n",
       "      <th>min</th>\n",
       "      <td>-1.592635</td>\n",
       "      <td>-26.278302</td>\n",
       "      <td>-59.394048</td>\n",
       "      <td>-35.476594</td>\n",
       "      <td>-28.467536</td>\n",
       "      <td>-33.822988</td>\n",
       "      <td>-86.354483</td>\n",
       "      <td>-181.506976</td>\n",
       "      <td>-37.691045</td>\n",
       "      <td>-27.980659</td>\n",
       "      <td>...</td>\n",
       "      <td>-82.167224</td>\n",
       "      <td>-27.933750</td>\n",
       "      <td>-6.876234</td>\n",
       "      <td>-17.983487</td>\n",
       "      <td>-1.753221</td>\n",
       "      <td>-201.826828</td>\n",
       "      <td>-21.086333</td>\n",
       "      <td>-8.490155</td>\n",
       "      <td>-65.791191</td>\n",
       "      <td>0.000000</td>\n",
       "    </tr>\n",
       "    <tr>\n",
       "      <th>25%</th>\n",
       "      <td>-0.251641</td>\n",
       "      <td>-4.260973</td>\n",
       "      <td>-10.166536</td>\n",
       "      <td>-5.454438</td>\n",
       "      <td>-4.313118</td>\n",
       "      <td>-5.148130</td>\n",
       "      <td>-14.780146</td>\n",
       "      <td>-27.324771</td>\n",
       "      <td>-6.031058</td>\n",
       "      <td>-4.260619</td>\n",
       "      <td>...</td>\n",
       "      <td>-5.804080</td>\n",
       "      <td>-5.162869</td>\n",
       "      <td>-1.039677</td>\n",
       "      <td>-2.812055</td>\n",
       "      <td>-0.266518</td>\n",
       "      <td>-36.428329</td>\n",
       "      <td>-3.216016</td>\n",
       "      <td>-1.320800</td>\n",
       "      <td>-10.931753</td>\n",
       "      <td>0.000000</td>\n",
       "    </tr>\n",
       "    <tr>\n",
       "      <th>50%</th>\n",
       "      <td>-0.002047</td>\n",
       "      <td>0.004813</td>\n",
       "      <td>-1.340932</td>\n",
       "      <td>-0.031408</td>\n",
       "      <td>0.000857</td>\n",
       "      <td>0.014118</td>\n",
       "      <td>-1.948594</td>\n",
       "      <td>-6.956789</td>\n",
       "      <td>-0.016840</td>\n",
       "      <td>0.006045</td>\n",
       "      <td>...</td>\n",
       "      <td>6.840110</td>\n",
       "      <td>-1.923754</td>\n",
       "      <td>-0.004385</td>\n",
       "      <td>-0.010484</td>\n",
       "      <td>0.001645</td>\n",
       "      <td>-12.982497</td>\n",
       "      <td>0.035865</td>\n",
       "      <td>-0.011993</td>\n",
       "      <td>-0.574410</td>\n",
       "      <td>0.000000</td>\n",
       "    </tr>\n",
       "    <tr>\n",
       "      <th>75%</th>\n",
       "      <td>0.248532</td>\n",
       "      <td>4.284220</td>\n",
       "      <td>7.871676</td>\n",
       "      <td>5.445179</td>\n",
       "      <td>4.306660</td>\n",
       "      <td>5.190749</td>\n",
       "      <td>11.446931</td>\n",
       "      <td>12.217071</td>\n",
       "      <td>5.972349</td>\n",
       "      <td>4.305734</td>\n",
       "      <td>...</td>\n",
       "      <td>19.266367</td>\n",
       "      <td>1.453507</td>\n",
       "      <td>1.033275</td>\n",
       "      <td>2.783274</td>\n",
       "      <td>0.269049</td>\n",
       "      <td>11.445443</td>\n",
       "      <td>3.268028</td>\n",
       "      <td>1.317703</td>\n",
       "      <td>9.651072</td>\n",
       "      <td>1.000000</td>\n",
       "    </tr>\n",
       "    <tr>\n",
       "      <th>max</th>\n",
       "      <td>1.600849</td>\n",
       "      <td>27.988178</td>\n",
       "      <td>63.545653</td>\n",
       "      <td>38.906025</td>\n",
       "      <td>26.247812</td>\n",
       "      <td>35.550110</td>\n",
       "      <td>92.390605</td>\n",
       "      <td>149.150634</td>\n",
       "      <td>39.049831</td>\n",
       "      <td>27.377842</td>\n",
       "      <td>...</td>\n",
       "      <td>100.050432</td>\n",
       "      <td>22.668041</td>\n",
       "      <td>6.680922</td>\n",
       "      <td>19.069759</td>\n",
       "      <td>1.669205</td>\n",
       "      <td>150.859415</td>\n",
       "      <td>20.836854</td>\n",
       "      <td>8.226552</td>\n",
       "      <td>66.877604</td>\n",
       "      <td>1.000000</td>\n",
       "    </tr>\n",
       "  </tbody>\n",
       "</table>\n",
       "<p>8 rows × 46 columns</p>\n",
       "</div>"
      ],
      "text/plain": [
       "                  x0             x1             x2             x3  \\\n",
       "count  159974.000000  159975.000000  159962.000000  159963.000000   \n",
       "mean       -0.001028       0.001358      -1.150145      -0.024637   \n",
       "std         0.371137       6.340632      13.273480       8.065032   \n",
       "min        -1.592635     -26.278302     -59.394048     -35.476594   \n",
       "25%        -0.251641      -4.260973     -10.166536      -5.454438   \n",
       "50%        -0.002047       0.004813      -1.340932      -0.031408   \n",
       "75%         0.248532       4.284220       7.871676       5.445179   \n",
       "max         1.600849      27.988178      63.545653      38.906025   \n",
       "\n",
       "                  x4             x5             x6             x7  \\\n",
       "count  159974.000000  159963.000000  159974.000000  159973.000000   \n",
       "mean       -0.000549       0.013582      -1.670670      -7.692795   \n",
       "std         6.382293       7.670076      19.298665      30.542264   \n",
       "min       -28.467536     -33.822988     -86.354483    -181.506976   \n",
       "25%        -4.313118      -5.148130     -14.780146     -27.324771   \n",
       "50%         0.000857       0.014118      -1.948594      -6.956789   \n",
       "75%         4.306660       5.190749      11.446931      12.217071   \n",
       "max        26.247812      35.550110      92.390605     149.150634   \n",
       "\n",
       "                  x8             x9  ...            x41            x42  \\\n",
       "count  159979.000000  159970.000000  ...  159960.000000  159974.000000   \n",
       "mean       -0.030540       0.005462  ...       6.701076      -1.833820   \n",
       "std         8.901185       6.355040  ...      18.680196       5.110705   \n",
       "min       -37.691045     -27.980659  ...     -82.167224     -27.933750   \n",
       "25%        -6.031058      -4.260619  ...      -5.804080      -5.162869   \n",
       "50%        -0.016840       0.006045  ...       6.840110      -1.923754   \n",
       "75%         5.972349       4.305734  ...      19.266367       1.453507   \n",
       "max        39.049831      27.377842  ...     100.050432      22.668041   \n",
       "\n",
       "                 x43            x44            x45            x46  \\\n",
       "count  159963.000000  159960.000000  159971.000000  159969.000000   \n",
       "mean       -0.002091      -0.006250       0.000885     -12.755395   \n",
       "std         1.534952       4.164595       0.396621      36.608641   \n",
       "min        -6.876234     -17.983487      -1.753221    -201.826828   \n",
       "25%        -1.039677      -2.812055      -0.266518     -36.428329   \n",
       "50%        -0.004385      -0.010484       0.001645     -12.982497   \n",
       "75%         1.033275       2.783274       0.269049      11.445443   \n",
       "max         6.680922      19.069759       1.669205     150.859415   \n",
       "\n",
       "                 x47            x48            x49              y  \n",
       "count  159963.000000  159968.000000  159968.000000  160000.000000  \n",
       "mean        0.028622      -0.000224      -0.674224       0.401231  \n",
       "std         4.788157       1.935501      15.036738       0.490149  \n",
       "min       -21.086333      -8.490155     -65.791191       0.000000  \n",
       "25%        -3.216016      -1.320800     -10.931753       0.000000  \n",
       "50%         0.035865      -0.011993      -0.574410       0.000000  \n",
       "75%         3.268028       1.317703       9.651072       1.000000  \n",
       "max        20.836854       8.226552      66.877604       1.000000  \n",
       "\n",
       "[8 rows x 46 columns]"
      ]
     },
     "execution_count": 13,
     "metadata": {},
     "output_type": "execute_result"
    }
   ],
   "source": [
    "df.describe()"
   ]
  },
  {
   "cell_type": "markdown",
   "id": "baking-scroll",
   "metadata": {},
   "source": [
    "#### Only three features are truly object (string) data types: x24, x29, x30.  "
   ]
  },
  {
   "cell_type": "code",
   "execution_count": 14,
   "id": "square-tribune",
   "metadata": {},
   "outputs": [
    {
     "data": {
      "text/html": [
       "<div>\n",
       "<style scoped>\n",
       "    .dataframe tbody tr th:only-of-type {\n",
       "        vertical-align: middle;\n",
       "    }\n",
       "\n",
       "    .dataframe tbody tr th {\n",
       "        vertical-align: top;\n",
       "    }\n",
       "\n",
       "    .dataframe thead th {\n",
       "        text-align: right;\n",
       "    }\n",
       "</style>\n",
       "<table border=\"1\" class=\"dataframe\">\n",
       "  <thead>\n",
       "    <tr style=\"text-align: right;\">\n",
       "      <th></th>\n",
       "      <th>x29</th>\n",
       "      <th>x37</th>\n",
       "      <th>x24</th>\n",
       "      <th>x32</th>\n",
       "      <th>x30</th>\n",
       "    </tr>\n",
       "  </thead>\n",
       "  <tbody>\n",
       "    <tr>\n",
       "      <th>count</th>\n",
       "      <td>159970</td>\n",
       "      <td>159977</td>\n",
       "      <td>159972</td>\n",
       "      <td>159969</td>\n",
       "      <td>159970</td>\n",
       "    </tr>\n",
       "    <tr>\n",
       "      <th>unique</th>\n",
       "      <td>12</td>\n",
       "      <td>129198</td>\n",
       "      <td>3</td>\n",
       "      <td>12</td>\n",
       "      <td>5</td>\n",
       "    </tr>\n",
       "    <tr>\n",
       "      <th>top</th>\n",
       "      <td>July</td>\n",
       "      <td>$-311.26</td>\n",
       "      <td>asia</td>\n",
       "      <td>0.01%</td>\n",
       "      <td>wednesday</td>\n",
       "    </tr>\n",
       "    <tr>\n",
       "      <th>freq</th>\n",
       "      <td>45569</td>\n",
       "      <td>6</td>\n",
       "      <td>138965</td>\n",
       "      <td>40767</td>\n",
       "      <td>101535</td>\n",
       "    </tr>\n",
       "  </tbody>\n",
       "</table>\n",
       "</div>"
      ],
      "text/plain": [
       "           x29       x37     x24     x32        x30\n",
       "count   159970    159977  159972  159969     159970\n",
       "unique      12    129198       3      12          5\n",
       "top       July  $-311.26    asia   0.01%  wednesday\n",
       "freq     45569         6  138965   40767     101535"
      ]
     },
     "execution_count": 14,
     "metadata": {},
     "output_type": "execute_result"
    }
   ],
   "source": [
    "cont_vars = df.describe().columns\n",
    "cat_vars = set(df.columns) - set(cont_vars)\n",
    "df[cat_vars].describe()"
   ]
  },
  {
   "cell_type": "code",
   "execution_count": 15,
   "id": "prospective-trading",
   "metadata": {},
   "outputs": [
    {
     "data": {
      "image/png": "[encoded data removed]",
      "text/plain": [
       "<Figure size 1080x288 with 3 Axes>"
      ]
     },
     "metadata": {
      "needs_background": "light"
     },
     "output_type": "display_data"
    }
   ],
   "source": [
    "fig, axis = plt.subplots(1, 3, figsize=(15, 4))\n",
    "sns.countplot(ax=axis[0], x = df['x24'], color='blue')\n",
    "sns.countplot(ax=axis[1], x = df['x29'], color='blue',\n",
    "              order=['january', 'Feb', 'Mar','Apr','May','Jun','July','Aug','sept.', 'Oct','Nov','Dev'])\n",
    "sns.countplot(ax=axis[2], x = df['x30'], order=['monday','tuesday','wednesday','thurday','friday'], color='blue')\n",
    "fig.tight_layout() "
   ]
  },
  {
   "cell_type": "markdown",
   "id": "tamil-director",
   "metadata": {},
   "source": [
    "#### No big shifts in target response between categorical features\n",
    "Likely not strong predictors"
   ]
  },
  {
   "cell_type": "code",
   "execution_count": 16,
   "id": "romantic-denial",
   "metadata": {},
   "outputs": [
    {
     "data": {
      "image/png": "[encoded data removed]",
      "text/plain": [
       "<Figure size 1080x288 with 3 Axes>"
      ]
     },
     "metadata": {
      "needs_background": "light"
     },
     "output_type": "display_data"
    }
   ],
   "source": [
    "fig, axis = plt.subplots(1, 3, figsize=(15, 4))\n",
    "sns.countplot(ax=axis[0], data = df, x = 'x24', hue='y')\n",
    "sns.countplot(ax=axis[1], data = df, x = 'x29', hue='y',\n",
    "              order=['january', 'Feb', 'Mar','Apr','May','Jun','July','Aug','sept.', 'Oct','Nov','Dev'])\n",
    "sns.countplot(ax=axis[2], data = df, x = 'x30', hue='y', order=['monday','tuesday','wednesday','thurday','friday'])\n",
    "fig.tight_layout()"
   ]
  },
  {
   "cell_type": "markdown",
   "id": "dietary-colonial",
   "metadata": {},
   "source": [
    "#### Features x32 and x37 need to be recoded as float"
   ]
  },
  {
   "cell_type": "code",
   "execution_count": 17,
   "id": "meaningful-share",
   "metadata": {},
   "outputs": [
    {
     "name": "stderr",
     "output_type": "stream",
     "text": [
      "C:\\Users\\allep\\anaconda3\\envs\\MyEnv3_7\\lib\\site-packages\\ipykernel_launcher.py:2: FutureWarning: The default value of regex will change from True to False in a future version. In addition, single character regular expressions will *not* be treated as literal strings when regex=True.\n",
      "  \n"
     ]
    }
   ],
   "source": [
    "df['x32'] = df['x32'].str.replace('%','').astype(float)\n",
    "df['x37'] = df['x37'].str.replace('$','').astype(float)"
   ]
  },
  {
   "cell_type": "code",
   "execution_count": 18,
   "id": "verified-heavy",
   "metadata": {},
   "outputs": [
    {
     "data": {
      "text/html": [
       "<div>\n",
       "<style scoped>\n",
       "    .dataframe tbody tr th:only-of-type {\n",
       "        vertical-align: middle;\n",
       "    }\n",
       "\n",
       "    .dataframe tbody tr th {\n",
       "        vertical-align: top;\n",
       "    }\n",
       "\n",
       "    .dataframe thead th {\n",
       "        text-align: right;\n",
       "    }\n",
       "</style>\n",
       "<table border=\"1\" class=\"dataframe\">\n",
       "  <thead>\n",
       "    <tr style=\"text-align: right;\">\n",
       "      <th></th>\n",
       "      <th>x32</th>\n",
       "      <th>x37</th>\n",
       "    </tr>\n",
       "  </thead>\n",
       "  <tbody>\n",
       "    <tr>\n",
       "      <th>count</th>\n",
       "      <td>159969.000000</td>\n",
       "      <td>159977.000000</td>\n",
       "    </tr>\n",
       "    <tr>\n",
       "      <th>mean</th>\n",
       "      <td>-0.000011</td>\n",
       "      <td>0.377628</td>\n",
       "    </tr>\n",
       "    <tr>\n",
       "      <th>std</th>\n",
       "      <td>0.010400</td>\n",
       "      <td>999.945334</td>\n",
       "    </tr>\n",
       "    <tr>\n",
       "      <th>min</th>\n",
       "      <td>-0.050000</td>\n",
       "      <td>-4734.540000</td>\n",
       "    </tr>\n",
       "    <tr>\n",
       "      <th>25%</th>\n",
       "      <td>-0.010000</td>\n",
       "      <td>-691.370000</td>\n",
       "    </tr>\n",
       "    <tr>\n",
       "      <th>50%</th>\n",
       "      <td>0.000000</td>\n",
       "      <td>-13.760000</td>\n",
       "    </tr>\n",
       "    <tr>\n",
       "      <th>75%</th>\n",
       "      <td>0.010000</td>\n",
       "      <td>664.210000</td>\n",
       "    </tr>\n",
       "    <tr>\n",
       "      <th>max</th>\n",
       "      <td>0.050000</td>\n",
       "      <td>5546.990000</td>\n",
       "    </tr>\n",
       "  </tbody>\n",
       "</table>\n",
       "</div>"
      ],
      "text/plain": [
       "                 x32            x37\n",
       "count  159969.000000  159977.000000\n",
       "mean       -0.000011       0.377628\n",
       "std         0.010400     999.945334\n",
       "min        -0.050000   -4734.540000\n",
       "25%        -0.010000    -691.370000\n",
       "50%         0.000000     -13.760000\n",
       "75%         0.010000     664.210000\n",
       "max         0.050000    5546.990000"
      ]
     },
     "execution_count": 18,
     "metadata": {},
     "output_type": "execute_result"
    }
   ],
   "source": [
    "df.loc[:,['x32','x37']].describe()"
   ]
  },
  {
   "cell_type": "code",
   "execution_count": 19,
   "id": "incomplete-video",
   "metadata": {},
   "outputs": [
    {
     "data": {
      "text/plain": [
       "array(['x0', 'x1', 'x2', 'x3', 'x4', 'x5', 'x6', 'x7', 'x8', 'x9', 'x10',\n",
       "       'x11', 'x12', 'x13', 'x14', 'x15', 'x16', 'x17', 'x18', 'x19',\n",
       "       'x20', 'x21', 'x22', 'x23', 'x25', 'x26', 'x27', 'x28', 'x31',\n",
       "       'x33', 'x34', 'x35', 'x36', 'x38', 'x39', 'x40', 'x41', 'x42',\n",
       "       'x43', 'x44', 'x45', 'x46', 'x47', 'x48', 'x49', 'x32', 'x37'],\n",
       "      dtype='<U3')"
      ]
     },
     "execution_count": 19,
     "metadata": {},
     "output_type": "execute_result"
    }
   ],
   "source": [
    "cont_vars = list(cont_vars)\n",
    "cont_vars.pop() # remove 'y'\n",
    "cont_vars.append('x32')\n",
    "cont_vars.append('x37')\n",
    "np.array(cont_vars)"
   ]
  },
  {
   "cell_type": "code",
   "execution_count": 20,
   "id": "lovely-aging",
   "metadata": {},
   "outputs": [
    {
     "data": {
      "text/plain": [
       "47"
      ]
     },
     "execution_count": 20,
     "metadata": {},
     "output_type": "execute_result"
    }
   ],
   "source": [
    "len(cont_vars)"
   ]
  },
  {
   "cell_type": "markdown",
   "id": "german-registrar",
   "metadata": {},
   "source": [
    "### Skewness & Outliers\n",
    "Features are not skewed and no major outliers are present.  Scale the data and proceed."
   ]
  },
  {
   "cell_type": "code",
   "execution_count": 21,
   "id": "athletic-conversation",
   "metadata": {},
   "outputs": [
    {
     "data": {
      "image/png": "[encoded data removed]",
      "text/plain": [
       "<Figure size 1080x864 with 48 Axes>"
      ]
     },
     "metadata": {
      "needs_background": "light"
     },
     "output_type": "display_data"
    }
   ],
   "source": [
    "rows = 8\n",
    "cols = 6\n",
    "fig, axes = plt.subplots(rows, cols, figsize=(15, 12))\n",
    "fig.suptitle('Continuous Features - Boxplots')\n",
    "for i,j in zip(cont_vars, range(47)):\n",
    "    sns.boxplot(ax = axes[int(j/cols), j%cols], x = df[i])\n",
    "\n",
    "fig.tight_layout()"
   ]
  },
  {
   "cell_type": "markdown",
   "id": "recognized-pencil",
   "metadata": {},
   "source": [
    "### Mean differences in features vs. target response\n",
    "Several features show promise for classifying the target response: x2, x6, x7, x12, x20, x23, x37, x38, x40, x41, x42, x46, x49"
   ]
  },
  {
   "cell_type": "code",
   "execution_count": null,
   "id": "radio-anthony",
   "metadata": {
    "scrolled": true
   },
   "outputs": [],
   "source": [
    "rows = 8\n",
    "cols = 6\n",
    "fig, axes = plt.subplots(rows, cols, figsize=(14, 14))\n",
    "fig.suptitle('Continuous Features - Mean 95% CIs vs. Target')\n",
    "for i,j in zip(cont_vars, range(47)):\n",
    "    sns.pointplot(ax = axes[int(j/cols), j%cols], data = df, y = i, x='y')\n",
    "\n",
    "fig.tight_layout()"
   ]
  },
  {
   "cell_type": "code",
   "execution_count": null,
   "id": "final-episode",
   "metadata": {},
   "outputs": [],
   "source": [
    "df.corr()"
   ]
  },
  {
   "cell_type": "code",
   "execution_count": null,
   "id": "computational-italic",
   "metadata": {},
   "outputs": [],
   "source": [
    "df.hist(figsize=(15,15)) \n",
    "#set a large figsize if you have > 9 variables\n",
    "plt.tight_layout()\n",
    "plt.show()"
   ]
  },
  {
   "cell_type": "code",
   "execution_count": null,
   "id": "unavailable-trailer",
   "metadata": {},
   "outputs": [],
   "source": [
    "print(df['x24'].value_counts())"
   ]
  },
  {
   "cell_type": "code",
   "execution_count": 23,
   "id": "owned-radar",
   "metadata": {},
   "outputs": [],
   "source": [
    "#fix Europe\n",
    "df[\"x24\"]= df[\"x24\"].astype(str)\n",
    "df[\"x24\"]= df[\"x24\"].str.replace('euorpe','europe')"
   ]
  },
  {
   "cell_type": "code",
   "execution_count": null,
   "id": "enhanced-kitchen",
   "metadata": {},
   "outputs": [],
   "source": [
    "print(df['x24'].value_counts())"
   ]
  },
  {
   "cell_type": "code",
   "execution_count": null,
   "id": "romance-casting",
   "metadata": {
    "scrolled": true
   },
   "outputs": [],
   "source": [
    "print(df['x29'].value_counts())"
   ]
  },
  {
   "cell_type": "code",
   "execution_count": 24,
   "id": "surface-israeli",
   "metadata": {},
   "outputs": [
    {
     "name": "stderr",
     "output_type": "stream",
     "text": [
      "C:\\Users\\allep\\anaconda3\\envs\\MyEnv3_7\\lib\\site-packages\\ipykernel_launcher.py:3: FutureWarning: The default value of regex will change from True to False in a future version.\n",
      "  This is separate from the ipykernel package so we can avoid doing imports until\n"
     ]
    }
   ],
   "source": [
    "#Fix months for consistency\n",
    "df[\"x29\"]= df[\"x29\"].astype(str)\n",
    "df[\"x29\"]= df[\"x29\"].str.replace('sept.','Sep')\n",
    "df[\"x29\"]= df[\"x29\"].str.replace('January','Jan')\n",
    "df[\"x29\"]= df[\"x29\"].str.replace('Dev','Dec')\n",
    "df[\"x29\"]= df[\"x29\"].str.replace('July','Jul')"
   ]
  },
  {
   "cell_type": "code",
   "execution_count": null,
   "id": "eligible-nigeria",
   "metadata": {
    "scrolled": true
   },
   "outputs": [],
   "source": [
    "print(df['x29'].value_counts())"
   ]
  },
  {
   "cell_type": "code",
   "execution_count": null,
   "id": "dynamic-budget",
   "metadata": {},
   "outputs": [],
   "source": [
    "print(df['x30'].value_counts())"
   ]
  },
  {
   "cell_type": "code",
   "execution_count": 25,
   "id": "sophisticated-symphony",
   "metadata": {},
   "outputs": [],
   "source": [
    "#fix days of week\n",
    "df[\"x30\"]= df[\"x30\"].astype(str)\n",
    "df[\"x30\"]= df[\"x30\"].str.replace('thurday','thursday')"
   ]
  },
  {
   "cell_type": "code",
   "execution_count": null,
   "id": "guided-spectrum",
   "metadata": {
    "scrolled": false
   },
   "outputs": [],
   "source": [
    "print(df['x30'].value_counts())"
   ]
  },
  {
   "cell_type": "code",
   "execution_count": 26,
   "id": "varying-temple",
   "metadata": {
    "scrolled": true
   },
   "outputs": [
    {
     "name": "stdout",
     "output_type": "stream",
     "text": [
      " 0.00    64415\n",
      " 0.01    40767\n",
      "-0.01    34094\n",
      "-0.02     9924\n",
      " 0.02     7987\n",
      "-0.03     1727\n",
      " 0.03      855\n",
      "-0.04      138\n",
      " 0.04       55\n",
      "-0.05        6\n",
      " 0.05        1\n",
      "Name: x32, dtype: int64\n"
     ]
    }
   ],
   "source": [
    "print(df['x32'].value_counts())"
   ]
  },
  {
   "cell_type": "code",
   "execution_count": 27,
   "id": "composed-addition",
   "metadata": {
    "scrolled": true
   },
   "outputs": [
    {
     "name": "stdout",
     "output_type": "stream",
     "text": [
      "-311.26     6\n",
      "-336.77     6\n",
      " 237.40     6\n",
      " 72.42      6\n",
      " 341.26     6\n",
      "           ..\n",
      "-505.21     1\n",
      " 770.07     1\n",
      " 74.62      1\n",
      "-1082.96    1\n",
      "-1229.34    1\n",
      "Name: x37, Length: 129198, dtype: int64\n"
     ]
    }
   ],
   "source": [
    "print(df['x37'].value_counts())"
   ]
  },
  {
   "cell_type": "markdown",
   "id": "comparable-wireless",
   "metadata": {},
   "source": [
    "x24,x29 and x30 object type columns appear to be continents, months, and days of the weekrespectively. x32 andx37 have special characters in the data; a \"%\" in x32 and a \"$\" in x37. for x32 and x37 special characters can be removed and columns can be changed to numeric."
   ]
  },
  {
   "cell_type": "code",
   "execution_count": null,
   "id": "e298e006",
   "metadata": {},
   "outputs": [],
   "source": []
  },
  {
   "cell_type": "markdown",
   "id": "powered-contemporary",
   "metadata": {},
   "source": [
    "# Missing Values"
   ]
  },
  {
   "cell_type": "code",
   "execution_count": null,
   "id": "annual-turning",
   "metadata": {},
   "outputs": [],
   "source": [
    "import missingno as msno\n",
    "msno.matrix(df)"
   ]
  },
  {
   "cell_type": "code",
   "execution_count": null,
   "id": "fuzzy-corps",
   "metadata": {},
   "outputs": [],
   "source": [
    "#plot missing values\n",
    "df.isna().sum().reset_index(name=\"n\").plot.bar(x='index', y='n', rot=90, figsize = (15,8)).set_title('Missing Value Counts')"
   ]
  },
  {
   "cell_type": "markdown",
   "id": "stainless-craps",
   "metadata": {},
   "source": [
    "Numerical missing variable will be replaced with mean aand categorical will be replaced with mode(the most common value)"
   ]
  },
  {
   "cell_type": "code",
   "execution_count": null,
   "id": "athletic-newcastle",
   "metadata": {},
   "outputs": [],
   "source": [
    "#categorical missing values\n",
    "print(\"Missing Values in Continent: \",df.x24.value_counts().nan)\n",
    "print(\"Missing Values in Month: \",df.x29.value_counts().nan)\n",
    "print(\"Missing Values in Day: \",df.x30.value_counts().nan)"
   ]
  },
  {
   "cell_type": "markdown",
   "id": "ad2ff830",
   "metadata": {},
   "source": [
    "## TODO: Move imputation down after training/test split.  Use SimpleImputer()."
   ]
  },
  {
   "cell_type": "code",
   "execution_count": 28,
   "id": "southern-raise",
   "metadata": {},
   "outputs": [],
   "source": [
    "#replace Categorical Missing values with the mode (the most common are listed above in the value counts)\n",
    "df['x24'] = df['x24'].str.replace('nan','asia')\n",
    "df['x29'] = df['x29'].str.replace('nan','Jul')\n",
    "df['x30'] = df['x30'].str.replace('nan','wednesday')"
   ]
  },
  {
   "cell_type": "code",
   "execution_count": 29,
   "id": "stunning-helping",
   "metadata": {},
   "outputs": [],
   "source": [
    "#replace numeric Missing Values with the mean\n",
    "for col in df.columns.difference(['x24','x29','x30', 'y']): \n",
    "    df[col].fillna(value=df[col].mean(), inplace=True)\n"
   ]
  },
  {
   "cell_type": "code",
   "execution_count": 30,
   "id": "reverse-greek",
   "metadata": {},
   "outputs": [
    {
     "name": "stdout",
     "output_type": "stream",
     "text": [
      "<class 'pandas.core.frame.DataFrame'>\n",
      "RangeIndex: 160000 entries, 0 to 159999\n",
      "Data columns (total 51 columns):\n",
      " #   Column  Non-Null Count   Dtype  \n",
      "---  ------  --------------   -----  \n",
      " 0   x0      160000 non-null  float64\n",
      " 1   x1      160000 non-null  float64\n",
      " 2   x2      160000 non-null  float64\n",
      " 3   x3      160000 non-null  float64\n",
      " 4   x4      160000 non-null  float64\n",
      " 5   x5      160000 non-null  float64\n",
      " 6   x6      160000 non-null  float64\n",
      " 7   x7      160000 non-null  float64\n",
      " 8   x8      160000 non-null  float64\n",
      " 9   x9      160000 non-null  float64\n",
      " 10  x10     160000 non-null  float64\n",
      " 11  x11     160000 non-null  float64\n",
      " 12  x12     160000 non-null  float64\n",
      " 13  x13     160000 non-null  float64\n",
      " 14  x14     160000 non-null  float64\n",
      " 15  x15     160000 non-null  float64\n",
      " 16  x16     160000 non-null  float64\n",
      " 17  x17     160000 non-null  float64\n",
      " 18  x18     160000 non-null  float64\n",
      " 19  x19     160000 non-null  float64\n",
      " 20  x20     160000 non-null  float64\n",
      " 21  x21     160000 non-null  float64\n",
      " 22  x22     160000 non-null  float64\n",
      " 23  x23     160000 non-null  float64\n",
      " 24  x24     160000 non-null  object \n",
      " 25  x25     160000 non-null  float64\n",
      " 26  x26     160000 non-null  float64\n",
      " 27  x27     160000 non-null  float64\n",
      " 28  x28     160000 non-null  float64\n",
      " 29  x29     160000 non-null  object \n",
      " 30  x30     160000 non-null  object \n",
      " 31  x31     160000 non-null  float64\n",
      " 32  x32     160000 non-null  float64\n",
      " 33  x33     160000 non-null  float64\n",
      " 34  x34     160000 non-null  float64\n",
      " 35  x35     160000 non-null  float64\n",
      " 36  x36     160000 non-null  float64\n",
      " 37  x37     160000 non-null  float64\n",
      " 38  x38     160000 non-null  float64\n",
      " 39  x39     160000 non-null  float64\n",
      " 40  x40     160000 non-null  float64\n",
      " 41  x41     160000 non-null  float64\n",
      " 42  x42     160000 non-null  float64\n",
      " 43  x43     160000 non-null  float64\n",
      " 44  x44     160000 non-null  float64\n",
      " 45  x45     160000 non-null  float64\n",
      " 46  x46     160000 non-null  float64\n",
      " 47  x47     160000 non-null  float64\n",
      " 48  x48     160000 non-null  float64\n",
      " 49  x49     160000 non-null  float64\n",
      " 50  y       160000 non-null  int32  \n",
      "dtypes: float64(47), int32(1), object(3)\n",
      "memory usage: 61.6+ MB\n"
     ]
    }
   ],
   "source": [
    "#check for missing values\n",
    "df.info()"
   ]
  },
  {
   "cell_type": "markdown",
   "id": "elementary-cardiff",
   "metadata": {},
   "source": [
    "# Numeric Variable Exploration"
   ]
  },
  {
   "cell_type": "code",
   "execution_count": null,
   "id": "limiting-middle",
   "metadata": {},
   "outputs": [],
   "source": [
    "#Boxplots\n",
    "df.boxplot(vert = True, grid = False, figsize = (20,5))"
   ]
  },
  {
   "cell_type": "markdown",
   "id": "attached-husband",
   "metadata": {},
   "source": [
    "Boxplots make it obvious that x37 is on a much larger scale than the other variables."
   ]
  },
  {
   "cell_type": "code",
   "execution_count": null,
   "id": "civil-permit",
   "metadata": {},
   "outputs": [],
   "source": [
    "#Boxplots - x37 only\n",
    "df.boxplot(vert = True, grid = False, figsize = (5,5), column = ['x37'])"
   ]
  },
  {
   "cell_type": "code",
   "execution_count": null,
   "id": "extraordinary-sword",
   "metadata": {},
   "outputs": [],
   "source": [
    "#boxplots excluding x37\n",
    "df_ex_x37 = df.drop('x37', axis = 1)\n",
    "df_ex_x37.boxplot(vert = True, grid = False, figsize = (20,5))"
   ]
  },
  {
   "cell_type": "code",
   "execution_count": null,
   "id": "hawaiian-hanging",
   "metadata": {},
   "outputs": [],
   "source": [
    "df_cat = df[['x24','x29','x30']]\n",
    "df_cat['x24'].value_counts().plot(kind='bar')"
   ]
  },
  {
   "cell_type": "code",
   "execution_count": null,
   "id": "stunning-shock",
   "metadata": {},
   "outputs": [],
   "source": [
    "df_cat['x29'].value_counts().plot(kind='bar')"
   ]
  },
  {
   "cell_type": "code",
   "execution_count": null,
   "id": "international-inflation",
   "metadata": {},
   "outputs": [],
   "source": [
    "df_cat['x30'].value_counts().plot(kind='bar')"
   ]
  },
  {
   "cell_type": "markdown",
   "id": "armed-beijing",
   "metadata": {},
   "source": [
    "## TO DO: Move below train/test split and use OneHotEncoding() \n",
    "##### One_Hot encoded\n",
    "The categorical variables will need to be one-hot encoded to create binary features for use in classification models. Luckily, the three categorical variables only contain a handful of unique values, so this should not create a massive amount of sparsity in the dataset."
   ]
  },
  {
   "cell_type": "code",
   "execution_count": 31,
   "id": "ordered-keyboard",
   "metadata": {},
   "outputs": [
    {
     "data": {
      "text/html": [
       "<div>\n",
       "<style scoped>\n",
       "    .dataframe tbody tr th:only-of-type {\n",
       "        vertical-align: middle;\n",
       "    }\n",
       "\n",
       "    .dataframe tbody tr th {\n",
       "        vertical-align: top;\n",
       "    }\n",
       "\n",
       "    .dataframe thead th {\n",
       "        text-align: right;\n",
       "    }\n",
       "</style>\n",
       "<table border=\"1\" class=\"dataframe\">\n",
       "  <thead>\n",
       "    <tr style=\"text-align: right;\">\n",
       "      <th></th>\n",
       "      <th>x0</th>\n",
       "      <th>x1</th>\n",
       "      <th>x2</th>\n",
       "      <th>x3</th>\n",
       "      <th>x4</th>\n",
       "      <th>x5</th>\n",
       "      <th>x6</th>\n",
       "      <th>x7</th>\n",
       "      <th>x8</th>\n",
       "      <th>x9</th>\n",
       "      <th>...</th>\n",
       "      <th>x29_Mar</th>\n",
       "      <th>x29_May</th>\n",
       "      <th>x29_Nov</th>\n",
       "      <th>x29_Oct</th>\n",
       "      <th>x29_Sep</th>\n",
       "      <th>x30_friday</th>\n",
       "      <th>x30_monday</th>\n",
       "      <th>x30_thursday</th>\n",
       "      <th>x30_tuesday</th>\n",
       "      <th>x30_wednesday</th>\n",
       "    </tr>\n",
       "  </thead>\n",
       "  <tbody>\n",
       "    <tr>\n",
       "      <th>0</th>\n",
       "      <td>-0.166563</td>\n",
       "      <td>-3.961588</td>\n",
       "      <td>4.621113</td>\n",
       "      <td>2.481908</td>\n",
       "      <td>-1.800135</td>\n",
       "      <td>0.804684</td>\n",
       "      <td>6.718751</td>\n",
       "      <td>-14.789997</td>\n",
       "      <td>-1.040673</td>\n",
       "      <td>-4.204950</td>\n",
       "      <td>...</td>\n",
       "      <td>0</td>\n",
       "      <td>0</td>\n",
       "      <td>0</td>\n",
       "      <td>0</td>\n",
       "      <td>0</td>\n",
       "      <td>0</td>\n",
       "      <td>0</td>\n",
       "      <td>0</td>\n",
       "      <td>1</td>\n",
       "      <td>0</td>\n",
       "    </tr>\n",
       "    <tr>\n",
       "      <th>1</th>\n",
       "      <td>-0.149894</td>\n",
       "      <td>-0.585676</td>\n",
       "      <td>27.839856</td>\n",
       "      <td>4.152333</td>\n",
       "      <td>6.426802</td>\n",
       "      <td>-2.426943</td>\n",
       "      <td>40.477058</td>\n",
       "      <td>-6.725709</td>\n",
       "      <td>0.896421</td>\n",
       "      <td>0.330165</td>\n",
       "      <td>...</td>\n",
       "      <td>0</td>\n",
       "      <td>0</td>\n",
       "      <td>0</td>\n",
       "      <td>0</td>\n",
       "      <td>0</td>\n",
       "      <td>0</td>\n",
       "      <td>0</td>\n",
       "      <td>0</td>\n",
       "      <td>0</td>\n",
       "      <td>1</td>\n",
       "    </tr>\n",
       "    <tr>\n",
       "      <th>2</th>\n",
       "      <td>-0.321707</td>\n",
       "      <td>-1.429819</td>\n",
       "      <td>12.251561</td>\n",
       "      <td>6.586874</td>\n",
       "      <td>-5.304647</td>\n",
       "      <td>-11.311090</td>\n",
       "      <td>17.812850</td>\n",
       "      <td>11.060572</td>\n",
       "      <td>5.325880</td>\n",
       "      <td>-2.632984</td>\n",
       "      <td>...</td>\n",
       "      <td>0</td>\n",
       "      <td>0</td>\n",
       "      <td>0</td>\n",
       "      <td>0</td>\n",
       "      <td>0</td>\n",
       "      <td>0</td>\n",
       "      <td>0</td>\n",
       "      <td>0</td>\n",
       "      <td>0</td>\n",
       "      <td>1</td>\n",
       "    </tr>\n",
       "    <tr>\n",
       "      <th>3</th>\n",
       "      <td>-0.245594</td>\n",
       "      <td>5.076677</td>\n",
       "      <td>-24.149632</td>\n",
       "      <td>3.637307</td>\n",
       "      <td>6.505811</td>\n",
       "      <td>2.290224</td>\n",
       "      <td>-35.111751</td>\n",
       "      <td>-18.913592</td>\n",
       "      <td>-0.337041</td>\n",
       "      <td>-5.568076</td>\n",
       "      <td>...</td>\n",
       "      <td>0</td>\n",
       "      <td>0</td>\n",
       "      <td>0</td>\n",
       "      <td>0</td>\n",
       "      <td>0</td>\n",
       "      <td>0</td>\n",
       "      <td>0</td>\n",
       "      <td>0</td>\n",
       "      <td>0</td>\n",
       "      <td>1</td>\n",
       "    </tr>\n",
       "    <tr>\n",
       "      <th>4</th>\n",
       "      <td>-0.273366</td>\n",
       "      <td>0.306326</td>\n",
       "      <td>-11.352593</td>\n",
       "      <td>1.676758</td>\n",
       "      <td>2.928441</td>\n",
       "      <td>-0.616824</td>\n",
       "      <td>-16.505817</td>\n",
       "      <td>27.532281</td>\n",
       "      <td>1.199715</td>\n",
       "      <td>-4.309105</td>\n",
       "      <td>...</td>\n",
       "      <td>0</td>\n",
       "      <td>0</td>\n",
       "      <td>0</td>\n",
       "      <td>0</td>\n",
       "      <td>0</td>\n",
       "      <td>0</td>\n",
       "      <td>0</td>\n",
       "      <td>0</td>\n",
       "      <td>1</td>\n",
       "      <td>0</td>\n",
       "    </tr>\n",
       "  </tbody>\n",
       "</table>\n",
       "<p>5 rows × 68 columns</p>\n",
       "</div>"
      ],
      "text/plain": [
       "         x0        x1         x2        x3        x4         x5         x6  \\\n",
       "0 -0.166563 -3.961588   4.621113  2.481908 -1.800135   0.804684   6.718751   \n",
       "1 -0.149894 -0.585676  27.839856  4.152333  6.426802  -2.426943  40.477058   \n",
       "2 -0.321707 -1.429819  12.251561  6.586874 -5.304647 -11.311090  17.812850   \n",
       "3 -0.245594  5.076677 -24.149632  3.637307  6.505811   2.290224 -35.111751   \n",
       "4 -0.273366  0.306326 -11.352593  1.676758  2.928441  -0.616824 -16.505817   \n",
       "\n",
       "          x7        x8        x9  ...  x29_Mar  x29_May  x29_Nov  x29_Oct  \\\n",
       "0 -14.789997 -1.040673 -4.204950  ...        0        0        0        0   \n",
       "1  -6.725709  0.896421  0.330165  ...        0        0        0        0   \n",
       "2  11.060572  5.325880 -2.632984  ...        0        0        0        0   \n",
       "3 -18.913592 -0.337041 -5.568076  ...        0        0        0        0   \n",
       "4  27.532281  1.199715 -4.309105  ...        0        0        0        0   \n",
       "\n",
       "   x29_Sep  x30_friday  x30_monday  x30_thursday  x30_tuesday  x30_wednesday  \n",
       "0        0           0           0             0            1              0  \n",
       "1        0           0           0             0            0              1  \n",
       "2        0           0           0             0            0              1  \n",
       "3        0           0           0             0            0              1  \n",
       "4        0           0           0             0            1              0  \n",
       "\n",
       "[5 rows x 68 columns]"
      ]
     },
     "execution_count": 31,
     "metadata": {},
     "output_type": "execute_result"
    }
   ],
   "source": [
    "# Create new one-hot encoded features using pandas.get_dummies\n",
    "# from https://datagy.io/pandas-get-dummies/\n",
    "categorical_columns = ['x24', 'x29', 'x30']\n",
    "\n",
    "for column in categorical_columns:\n",
    "    tempdf = pd.get_dummies(df[column], prefix=column)\n",
    "    df = pd.merge(\n",
    "        left=df,\n",
    "        right=tempdf,\n",
    "        left_index=True,\n",
    "        right_index=True,\n",
    "    )\n",
    "    df = df.drop(columns=column)\n",
    "df.head()"
   ]
  },
  {
   "cell_type": "code",
   "execution_count": null,
   "id": "exposed-present",
   "metadata": {},
   "outputs": [],
   "source": [
    "#New dataframe\n",
    "df.info()"
   ]
  },
  {
   "cell_type": "markdown",
   "id": "abstract-tradition",
   "metadata": {},
   "source": [
    "# Training and Test Data Split"
   ]
  },
  {
   "cell_type": "code",
   "execution_count": 32,
   "id": "complicated-keyboard",
   "metadata": {},
   "outputs": [
    {
     "name": "stdout",
     "output_type": "stream",
     "text": [
      "Size of target vector:  (160000,)\n",
      "--------------------------------------------------\n",
      "Size of explanatory matrix:  (160000, 67)\n"
     ]
    }
   ],
   "source": [
    "## split dataset into independent (X) and target (y) variables\n",
    "y = df['y']\n",
    "X = df.drop(['y'], axis=1)\n",
    "print('Size of target vector: ', y.shape)\n",
    "print('-'*50)\n",
    "print('Size of explanatory matrix: ',X.shape)"
   ]
  },
  {
   "cell_type": "code",
   "execution_count": 33,
   "id": "collect-original",
   "metadata": {},
   "outputs": [
    {
     "name": "stdout",
     "output_type": "stream",
     "text": [
      "split between classes:  \n",
      " -----------------\n",
      "0    0.598769\n",
      "1    0.401231\n",
      "Name: y, dtype: float64\n"
     ]
    }
   ],
   "source": [
    "## Check target counts\n",
    "print(\"split between classes:  \\n\", '-----------------')\n",
    "print(y.value_counts(normalize=True))"
   ]
  },
  {
   "cell_type": "code",
   "execution_count": 34,
   "id": "happy-possibility",
   "metadata": {},
   "outputs": [
    {
     "name": "stdout",
     "output_type": "stream",
     "text": [
      "Size of explanatory matrix for Training set:  (112000, 67)\n",
      "Size of explanatory matrix for Test set:  (48000, 67)\n",
      "Training set split between classes:  \n",
      " -----------------\n",
      "0    0.598768\n",
      "1    0.401232\n",
      "Name: y, dtype: float64\n",
      "Test set split between classes:  \n",
      " -----------------\n",
      "0    0.598771\n",
      "1    0.401229\n",
      "Name: y, dtype: float64\n"
     ]
    }
   ],
   "source": [
    "## Creating training and test data - 10% witholding for test set (stratified)\n",
    "from sklearn.model_selection import train_test_split\n",
    "X_train, X_test, y_train, y_test = train_test_split(X, y, stratify=y, test_size=0.3)\n",
    "\n",
    "## Test and train set counts - check that stratification was applied\n",
    "print('Size of explanatory matrix for Training set: ',X_train.shape)\n",
    "print('Size of explanatory matrix for Test set: ',X_test.shape)\n",
    "\n",
    "print(\"Training set split between classes:  \\n\", '-----------------')\n",
    "print(y_train.value_counts(normalize=True))\n",
    "\n",
    "print(\"Test set split between classes:  \\n\", '-----------------')\n",
    "print(y_test.value_counts(normalize=True))"
   ]
  },
  {
   "cell_type": "code",
   "execution_count": 35,
   "id": "fleet-waters",
   "metadata": {},
   "outputs": [],
   "source": [
    "# Normalize all of the explanatory features with StandardScaler in train and test sets\n",
    "from sklearn.preprocessing import StandardScaler\n",
    "sc = StandardScaler()\n",
    "sc.fit(X_train)\n",
    "X_train_sc = pd.DataFrame( sc.transform(X_train), columns = X_train.columns, index = X_train.index)\n",
    "X_test_sc = pd.DataFrame( sc.transform(X_test), columns = X_test.columns, index = X_test.index)"
   ]
  },
  {
   "cell_type": "markdown",
   "id": "shared-halifax",
   "metadata": {},
   "source": [
    "# Logistic Regression"
   ]
  },
  {
   "cell_type": "code",
   "execution_count": 36,
   "id": "demanding-encoding",
   "metadata": {},
   "outputs": [],
   "source": [
    "from sklearn.linear_model import LogisticRegression\n",
    "#from sklearn import metrics as mt\n",
    "from sklearn.metrics import accuracy_score as acc"
   ]
  },
  {
   "cell_type": "code",
   "execution_count": 37,
   "id": "cheap-domain",
   "metadata": {},
   "outputs": [
    {
     "name": "stdout",
     "output_type": "stream",
     "text": [
      "C= 0.001 complete\n",
      "C= 0.01 complete\n",
      "C= 1 complete\n",
      "C= 10 complete\n"
     ]
    },
    {
     "data": {
      "text/html": [
       "<div>\n",
       "<style scoped>\n",
       "    .dataframe tbody tr th:only-of-type {\n",
       "        vertical-align: middle;\n",
       "    }\n",
       "\n",
       "    .dataframe tbody tr th {\n",
       "        vertical-align: top;\n",
       "    }\n",
       "\n",
       "    .dataframe thead th {\n",
       "        text-align: right;\n",
       "    }\n",
       "</style>\n",
       "<table border=\"1\" class=\"dataframe\">\n",
       "  <thead>\n",
       "    <tr style=\"text-align: right;\">\n",
       "      <th></th>\n",
       "      <th>C</th>\n",
       "      <th>Train Accuracy</th>\n",
       "      <th>Test Accuracy</th>\n",
       "    </tr>\n",
       "  </thead>\n",
       "  <tbody>\n",
       "    <tr>\n",
       "      <th>0</th>\n",
       "      <td>0.001</td>\n",
       "      <td>0.701795</td>\n",
       "      <td>0.699042</td>\n",
       "    </tr>\n",
       "    <tr>\n",
       "      <th>1</th>\n",
       "      <td>0.010</td>\n",
       "      <td>0.703688</td>\n",
       "      <td>0.701313</td>\n",
       "    </tr>\n",
       "    <tr>\n",
       "      <th>2</th>\n",
       "      <td>1.000</td>\n",
       "      <td>0.703946</td>\n",
       "      <td>0.701313</td>\n",
       "    </tr>\n",
       "    <tr>\n",
       "      <th>3</th>\n",
       "      <td>10.000</td>\n",
       "      <td>0.703946</td>\n",
       "      <td>0.701271</td>\n",
       "    </tr>\n",
       "  </tbody>\n",
       "</table>\n",
       "</div>"
      ],
      "text/plain": [
       "        C  Train Accuracy  Test Accuracy\n",
       "0   0.001        0.701795       0.699042\n",
       "1   0.010        0.703688       0.701313\n",
       "2   1.000        0.703946       0.701313\n",
       "3  10.000        0.703946       0.701271"
      ]
     },
     "execution_count": 37,
     "metadata": {},
     "output_type": "execute_result"
    }
   ],
   "source": [
    "lr_model = LogisticRegression(penalty='l1', solver='liblinear', random_state = 1) \n",
    "lr_results = pd.DataFrame()\n",
    "\n",
    "for i in [0.001, 0.01, 1, 10]:\n",
    "    lr_model.C = i\n",
    "    lr_model.fit(X_train_sc,y_train)\n",
    "    lr_results = lr_results.append({\"C\": i,\n",
    "                                    \"Train Accuracy\": acc(y_train, lr_model.predict(X_train_sc)),\n",
    "                                    \"Test Accuracy\":  acc(y_test, lr_model.predict(X_test_sc))},\n",
    "                                    ignore_index=True)\n",
    "    print(\"C=\",i,\"complete\")\n",
    "\n",
    "lr_results"
   ]
  },
  {
   "cell_type": "code",
   "execution_count": 38,
   "id": "3dd39742",
   "metadata": {},
   "outputs": [
    {
     "data": {
      "image/png": "[encoded data removed]",
      "text/plain": [
       "<Figure size 432x288 with 1 Axes>"
      ]
     },
     "metadata": {
      "needs_background": "light"
     },
     "output_type": "display_data"
    }
   ],
   "source": [
    "sns.lineplot(data=lr_results, x='C', y='Train Accuracy', color='blue')\n",
    "sns.lineplot(data=lr_results, x='C', y='Test Accuracy', color='red')\n",
    "plt.title('Tuning C for Logistic Regression with L1')\n",
    "plt.legend(['Train', 'Test'])\n",
    "plt.xscale('log')\n",
    "plt.axvline(0.01, color='black', ls='--')\n",
    "plt.show()"
   ]
  },
  {
   "cell_type": "code",
   "execution_count": 39,
   "id": "2526561d",
   "metadata": {},
   "outputs": [
    {
     "data": {
      "image/png": "[encoded data removed]",
      "text/plain": [
       "<Figure size 432x288 with 1 Axes>"
      ]
     },
     "metadata": {
      "needs_background": "light"
     },
     "output_type": "display_data"
    }
   ],
   "source": [
    "lr_tuned = LogisticRegression(penalty='l1', C=0.01, solver='liblinear', random_state = 1) \n",
    "lr_tuned.fit(X_train_sc,y_train)\n",
    "\n",
    "feat_coef = []\n",
    "feat = zip(X_train_sc.columns, lr_tuned.coef_[0])\n",
    "[feat_coef.append([i,j]) for i,j in feat]\n",
    "feat_coef = pd.DataFrame(feat_coef, columns = ['feature','coef'])\n",
    "top_feat_lr = feat_coef.loc[abs(feat_coef['coef'])>0].sort_values(by='coef')\n",
    "\n",
    "feat_plot = sns.barplot(data=top_feat_lr, x='feature', y='coef', palette = \"ch:s=.25,rot=-.25\")\n",
    "plt.xticks(rotation=90)\n",
    "plt.title('LR Feature Importance with L1')\n",
    "plt.show()"
   ]
  },
  {
   "cell_type": "markdown",
   "id": "ebbd25ad",
   "metadata": {},
   "source": [
    "## Cost Matrix\n",
    "What is the expected monetary cost (or loss) associated with your model and how might you best translate this to your customer?  \n",
    "Remember, predicting class 1 incorrectly costs the customer 100 dollas while incorrectly predicting class 0 costs the customer 25 dollars; or said another way, False Positives = 100 and False Negatives = 25"
   ]
  },
  {
   "cell_type": "code",
   "execution_count": 55,
   "id": "4c9189bb",
   "metadata": {},
   "outputs": [],
   "source": [
    "def cost_calc(conf_matrix):\n",
    "    cost_matrix = np.array([[0,-100],[-25,0]])\n",
    "    cost = np.sum(cost_matrix*conf_matrix)/np.sum(conf_matrix)\n",
    "    return cost"
   ]
  },
  {
   "cell_type": "code",
   "execution_count": 59,
   "id": "93c02983",
   "metadata": {},
   "outputs": [
    {
     "name": "stdout",
     "output_type": "stream",
     "text": [
      "Train: Confusion Matrix\n",
      " [[55507 11555]\n",
      " [21632 23306]]\n",
      "\n",
      "Train: Cost per Prediction = -15.145535714285714\n"
     ]
    }
   ],
   "source": [
    "yhat_train = lr_tuned.predict(X_train_sc)\n",
    "conf_train = confusion_matrix(y_train, yhat_train)\n",
    "print(\"Train: Confusion Matrix\\n\", conf_train)\n",
    "cost_train = cost_calc(conf_train)\n",
    "print(\"\\nTrain: Cost per Prediction =\", cost_train)"
   ]
  },
  {
   "cell_type": "code",
   "execution_count": 60,
   "id": "c056b5b1",
   "metadata": {},
   "outputs": [
    {
     "name": "stdout",
     "output_type": "stream",
     "text": [
      "Train: Confusion Matrix\n",
      " [[23699  5042]\n",
      " [ 9295  9964]]\n",
      "\n",
      "Train: Cost per Prediction = -15.3453125\n"
     ]
    }
   ],
   "source": [
    "yhat_test = lr_tuned.predict(X_test_sc)\n",
    "conf_test = confusion_matrix(y_test, yhat_test)\n",
    "print(\"Train: Confusion Matrix\\n\", conf_test)\n",
    "cost_test = cost_calc(conf_test)\n",
    "print(\"\\nTrain: Cost per Prediction =\", cost_test)"
   ]
  },
  {
   "cell_type": "markdown",
   "id": "2326f3a2",
   "metadata": {},
   "source": [
    "### Tune threshold to reduce cost (minimize losses)"
   ]
  },
  {
   "cell_type": "code",
   "execution_count": 86,
   "id": "dda8df45",
   "metadata": {},
   "outputs": [
    {
     "data": {
      "text/html": [
       "<div>\n",
       "<style scoped>\n",
       "    .dataframe tbody tr th:only-of-type {\n",
       "        vertical-align: middle;\n",
       "    }\n",
       "\n",
       "    .dataframe tbody tr th {\n",
       "        vertical-align: top;\n",
       "    }\n",
       "\n",
       "    .dataframe thead th {\n",
       "        text-align: right;\n",
       "    }\n",
       "</style>\n",
       "<table border=\"1\" class=\"dataframe\">\n",
       "  <thead>\n",
       "    <tr style=\"text-align: right;\">\n",
       "      <th></th>\n",
       "      <th>Threshold</th>\n",
       "      <th>Train Cost</th>\n",
       "      <th>Test Cost</th>\n",
       "    </tr>\n",
       "  </thead>\n",
       "  <tbody>\n",
       "    <tr>\n",
       "      <th>0</th>\n",
       "      <td>0.00</td>\n",
       "      <td>10.030804</td>\n",
       "      <td>10.030729</td>\n",
       "    </tr>\n",
       "    <tr>\n",
       "      <th>1</th>\n",
       "      <td>0.05</td>\n",
       "      <td>9.953125</td>\n",
       "      <td>9.957812</td>\n",
       "    </tr>\n",
       "    <tr>\n",
       "      <th>2</th>\n",
       "      <td>0.10</td>\n",
       "      <td>9.808482</td>\n",
       "      <td>9.822917</td>\n",
       "    </tr>\n",
       "    <tr>\n",
       "      <th>3</th>\n",
       "      <td>0.15</td>\n",
       "      <td>9.767188</td>\n",
       "      <td>9.747917</td>\n",
       "    </tr>\n",
       "    <tr>\n",
       "      <th>4</th>\n",
       "      <td>0.20</td>\n",
       "      <td>9.854241</td>\n",
       "      <td>9.837500</td>\n",
       "    </tr>\n",
       "    <tr>\n",
       "      <th>5</th>\n",
       "      <td>0.25</td>\n",
       "      <td>10.217857</td>\n",
       "      <td>10.259375</td>\n",
       "    </tr>\n",
       "    <tr>\n",
       "      <th>6</th>\n",
       "      <td>0.30</td>\n",
       "      <td>10.730804</td>\n",
       "      <td>10.809896</td>\n",
       "    </tr>\n",
       "    <tr>\n",
       "      <th>7</th>\n",
       "      <td>0.35</td>\n",
       "      <td>11.503571</td>\n",
       "      <td>11.625000</td>\n",
       "    </tr>\n",
       "    <tr>\n",
       "      <th>8</th>\n",
       "      <td>0.40</td>\n",
       "      <td>12.379464</td>\n",
       "      <td>12.608333</td>\n",
       "    </tr>\n",
       "    <tr>\n",
       "      <th>9</th>\n",
       "      <td>0.45</td>\n",
       "      <td>13.617857</td>\n",
       "      <td>13.761458</td>\n",
       "    </tr>\n",
       "    <tr>\n",
       "      <th>10</th>\n",
       "      <td>0.50</td>\n",
       "      <td>15.145536</td>\n",
       "      <td>15.345313</td>\n",
       "    </tr>\n",
       "  </tbody>\n",
       "</table>\n",
       "</div>"
      ],
      "text/plain": [
       "    Threshold  Train Cost  Test Cost\n",
       "0        0.00   10.030804  10.030729\n",
       "1        0.05    9.953125   9.957812\n",
       "2        0.10    9.808482   9.822917\n",
       "3        0.15    9.767188   9.747917\n",
       "4        0.20    9.854241   9.837500\n",
       "5        0.25   10.217857  10.259375\n",
       "6        0.30   10.730804  10.809896\n",
       "7        0.35   11.503571  11.625000\n",
       "8        0.40   12.379464  12.608333\n",
       "9        0.45   13.617857  13.761458\n",
       "10       0.50   15.145536  15.345313"
      ]
     },
     "execution_count": 86,
     "metadata": {},
     "output_type": "execute_result"
    }
   ],
   "source": [
    "train_proba = lr_tuned.predict_proba(X_train_sc)\n",
    "test_proba = lr_tuned.predict_proba(X_test_sc)\n",
    "cost_results = pd.DataFrame()\n",
    "thresh = 0\n",
    "\n",
    "for i in range(11):\n",
    "    yhat_train = pd.Series(train_proba[:,0] < thresh).astype(int)\n",
    "    yhat_test = pd.Series(test_proba[:,0] < thresh).astype(int)\n",
    "    conf_train = confusion_matrix(y_train, yhat_train)\n",
    "    conf_test = confusion_matrix(y_test, yhat_test)\n",
    "    cost_results = cost_results.append({\"Threshold\": thresh,\n",
    "                                    \"Train Cost\": -cost_calc(conf_train),\n",
    "                                    \"Test Cost\":  -cost_calc(conf_test)},\n",
    "                                    ignore_index=True)\n",
    "    thresh = thresh + 0.05\n",
    "    \n",
    "cost_results"
   ]
  },
  {
   "cell_type": "code",
   "execution_count": 87,
   "id": "666230bc",
   "metadata": {},
   "outputs": [
    {
     "data": {
      "image/png": "[encoded data removed]",
      "text/plain": [
       "<Figure size 432x288 with 1 Axes>"
      ]
     },
     "metadata": {
      "needs_background": "light"
     },
     "output_type": "display_data"
    }
   ],
   "source": [
    "sns.lineplot(data=cost_results, x='Threshold', y='Train Cost', color='blue')\n",
    "sns.lineplot(data=cost_results, x='Threshold', y='Test Cost', color='red')\n",
    "plt.title('Tuning Threshold for Logistic Regression with L1')\n",
    "plt.legend(['Train', 'Test'])\n",
    "#plt.xscale('log')\n",
    "plt.axvline(0.15, color='black', ls='--')\n",
    "plt.show()"
   ]
  }
 ],
 "metadata": {
  "kernelspec": {
   "display_name": "Python 3",
   "language": "python",
   "name": "python3"
  },
  "language_info": {
   "codemirror_mode": {
    "name": "ipython",
    "version": 3
   },
   "file_extension": ".py",
   "mimetype": "text/x-python",
   "name": "python",
   "nbconvert_exporter": "python",
   "pygments_lexer": "ipython3",
   "version": "3.7.10"
  }
 },
 "nbformat": 4,
 "nbformat_minor": 5
}
