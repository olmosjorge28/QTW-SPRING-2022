{
 "cells": [
  {
   "cell_type": "markdown",
   "metadata": {
    "id": "GoCXzNvN8g-8"
   },
   "source": [
    "# Case Study 7"
   ]
  },
  {
   "cell_type": "markdown",
   "metadata": {
    "id": "YBy24RcB8g-9"
   },
   "source": [
    "__Team Members:__ Amber Clark, Andrew Leppla, Jorge Olmos, Paritosh Rai"
   ]
  },
  {
   "cell_type": "markdown",
   "metadata": {
    "id": "O4O0up-U8g-9"
   },
   "source": [
    "# Content\n",
    "* [Business Understanding](#business-understanding)\n",
    "    - [Introduction](#introduction)\n",
    "    - [Methods](#methods)\n",
    "    - [Results](#results)\n",
    "* [Data Evaluation](#data-evaluation)\n",
    "    - [Loading Data](#loading-data) \n",
    "    - [Data Summary](#data-summary)\n",
    "    - [Missing Values](#missing-values)\n",
    "    - [Exploratory Data Analysis (EDA)](#eda)\n",
    "* [Model Preparations](#model-preparations)\n",
    "    - [Sampling & Scaling Data](#sampling-scaling-data)\n",
    "    - [Proposed Method](#proposed-metrics)\n",
    "    - [Evaluation Metrics](#evaluation-metrics)\n",
    "    - [Feature Selection](#feature-selection)\n",
    "* [Model Building & Evaluations](#model-building)\n",
    "    - [Performance Analysis](#performance-analysis)\n",
    "* [Model Interpretability & Explainability](#model-explanation)\n",
    "    - [Examining Feature Importance](#examining-feature-importance)\n",
    "* [Conclusion](#conclusion)\n",
    "    - [Final Model Proposal](#final-model-proposal)\n",
    "    - [Future Considerations, Model Enhancements and Alternative Modeling Approaches](#model-enhancements)"
   ]
  },
  {
   "cell_type": "markdown",
   "metadata": {
    "id": "TRedT-FB8g_A"
   },
   "source": [
    "# Business Understanding & Executive Summary <a id='business-understanding'/>"
   ]
  },
  {
   "cell_type": "markdown",
   "metadata": {
    "id": "F-4BiuuQOEh4"
   },
   "source": [
    "## Objective:\n",
    "\n",
    "The objective of this case study is to classify a binary target in an anonymous dataset with the goal of reducing monetary losses as much as possible for the customer.\n",
    "\n",
    "\n",
    "## Introduction:\n",
    "\n",
    "\n",
    "\n",
    "\n",
    "\n",
    "## Modeling:\n",
    "\n",
    "### Training and Test Split\n",
    "\n",
    "\n",
    "### Key Metrics\n",
    "       \n",
    "\n",
    "### Model Building\n",
    "\n",
    "\n",
    "### Results\n",
    "\n",
    "   \n",
    "\n",
    "\n",
    "## Conclusion\n",
    "\n",
    "\n",
    "\n",
    "## Future Considerations\n"
   ]
  },
  {
   "cell_type": "markdown",
   "metadata": {
    "id": "PVtcYu5j8g_B"
   },
   "source": [
    "# Data Evaluation <a id='data-evaluation'>\n",
    "    "
   ]
  },
  {
   "cell_type": "markdown",
   "metadata": {
    "id": "Owfb6XnGfPKI"
   },
   "source": [
    "Summarize the data being used in the case using appropriate mediums (charts, graphs, tables); address questions such as: Are there missing values? Which variables are needed (which ones are not)? What assumptions or conclusions are you drawing that need to be relayed to your audience?"
   ]
  },
  {
   "cell_type": "markdown",
   "metadata": {
    "id": "4WcvKI3y8g_C"
   },
   "source": [
    "## Loading Data <a id='loading-data'>"
   ]
  },
  {
   "cell_type": "code",
   "execution_count": 90,
   "metadata": {},
   "outputs": [],
   "source": [
    "# standard libraries\n",
    "import os\n",
    "import pandas as pd\n",
    "import numpy as np\n",
    "#import re\n",
    "import os\n",
    "from IPython.display import Image\n",
    "from abc import ABC, abstractmethod\n",
    "import time\n",
    "#import sklearn\n",
    "#import time\n",
    "\n",
    "# visualization\n",
    "import seaborn as sns\n",
    "import matplotlib.pyplot as plt\n",
    "%matplotlib inline\n",
    "from tabulate import tabulate\n",
    "from IPython.display import clear_output\n",
    "import xgboost\n",
    "\n",
    "# data pre-processing\n",
    "from scipy.io import arff\n",
    "#from sklearn.model_selection import train_test_split\n",
    "from sklearn.experimental import enable_iterative_imputer\n",
    "from sklearn.impute import SimpleImputer, KNNImputer, IterativeImputer\n",
    "from sklearn.impute._base import _BaseImputer\n",
    "from sklearn.model_selection import StratifiedShuffleSplit\n",
    "from sklearn.model_selection._split import BaseShuffleSplit\n",
    "from sklearn.datasets import load_digits\n",
    "from sklearn.preprocessing import MinMaxScaler, StandardScaler\n",
    "from sklearn.preprocessing import LabelEncoder\n",
    "from xgboost import XGBClassifier\n",
    "\n",
    "# prediction models\n",
    "import tensorflow as tf\n",
    "from sklearn.svm import SVC\n",
    "from sklearn.linear_model import SGDClassifier\n",
    "from sklearn.svm._base import BaseSVC \n",
    "from sklearn.model_selection import cross_val_score\n",
    "from sklearn.metrics import f1_score\n",
    "from sklearn.metrics import confusion_matrix\n",
    "from sklearn.metrics import accuracy_score\n",
    "from sklearn.metrics import precision_score\n",
    "from sklearn.metrics import recall_score\n",
    "from sklearn.metrics import fbeta_score\n",
    "from sklearn.metrics import roc_auc_score\n",
    "from sklearn.linear_model import LogisticRegression\n",
    "from tensorflow.keras.metrics import AUC\n",
    "# import warnings filter\n",
    "import warnings\n",
    "warnings.filterwarnings('ignore')\n",
    "from warnings import simplefilter \n",
    "simplefilter(action='ignore', category=FutureWarning)"
   ]
  },
  {
   "cell_type": "code",
   "execution_count": 2,
   "metadata": {},
   "outputs": [],
   "source": [
    "class FilePathManager:\n",
    "    def __init__(self, local_dir: str):\n",
    "        self.local_dir = local_dir\n",
    "    \n",
    "    def retrieve_full_path(self):\n",
    "        return os.getcwd()+'/'+self.local_dir"
   ]
  },
  {
   "cell_type": "code",
   "execution_count": 3,
   "metadata": {},
   "outputs": [],
   "source": [
    "class Loader:\n",
    "    df = pd.DataFrame()\n",
    "    \n",
    "    def load_data(self, file_name):\n",
    "        pass\n",
    "    \n",
    "    def get_df(self):\n",
    "        pass\n",
    "    \n",
    "    def size(self):\n",
    "        return len(self.df)"
   ]
  },
  {
   "cell_type": "code",
   "execution_count": 4,
   "metadata": {},
   "outputs": [],
   "source": [
    "from typing import Callable\n",
    " \n",
    "class CSVLoader(Loader):\n",
    "    def __init__(self, file_path_manager: FilePathManager):\n",
    "        self.file_path_manager = file_path_manager\n",
    "        \n",
    "    def load_data(self, _prepare_data: Callable[[pd.DataFrame], pd.DataFrame] = None):\n",
    "        self.df = pd.read_csv(self.file_path_manager.retrieve_full_path())\n",
    "        if _prepare_data:\n",
    "            self.df = _prepare_data(self.df)\n",
    "    \n",
    "    def get_df(self):\n",
    "        return self.df;\n",
    "    \n",
    "    def size(self):\n",
    "        return len(self.df)  "
   ]
  },
  {
   "cell_type": "code",
   "execution_count": 5,
   "metadata": {},
   "outputs": [],
   "source": [
    "def clean_data(df):\n",
    "    df['y'] = df['y'].astype(int)\n",
    "    df['x32'] = df['x32'].str.replace('%','').astype(float)\n",
    "    df['x37'] = df['x37'].str.replace('$','').astype(float)\n",
    "    return df"
   ]
  },
  {
   "cell_type": "code",
   "execution_count": 6,
   "metadata": {},
   "outputs": [],
   "source": [
    "loader = CSVLoader(FilePathManager('final_project(5).csv'))\n",
    "loader.load_data(clean_data)"
   ]
  },
  {
   "cell_type": "markdown",
   "metadata": {
    "id": "ul_6nw48N5Dy"
   },
   "source": [
    "## Data Summary <a id='data-summary'>\n",
    "    \n",
    "The dataset consists of fifty (50) features and a binary target class. There is no metadata or other descriptive information for the dataset, and the fifty feature labels are numbered from \"x0\" to \"x49\". There are 160,000 observations in the dataset; less than 0.03% of the features were missing data, and the imputation of these missing values is described below in the Missing Data section. Most of the features provided are numeric, but five were initially imported as text features.\n",
    "    \n",
    "Three of the five text features were identified as continents, months of the year, and days of the week. The values were cleaned up for spelling correction and consistency. The other two text object columns were numeric columns with a special character introduced in the data; column x32 had a trailing \"%\" and column x37 had a leading \"$\". These characters were removed so that these columns would be treated as numeric.\n",
    "    \n",
    "\n"
   ]
  },
  {
   "cell_type": "markdown",
   "metadata": {
    "id": "Aws5HAx98g_E"
   },
   "source": [
    "## Missing Values <a id='missing-values'>\n",
    "\n"
   ]
  },
  {
   "cell_type": "markdown",
   "metadata": {},
   "source": [
    "All of the variables, except the target class, had missing values. The chart below depicts the number of observations missing values for each feature. Note: Even though the plot doesn't show missing values for categorical features, they do have missing values which are represented as nan's and so are missing from the plot."
   ]
  },
  {
   "cell_type": "markdown",
   "metadata": {},
   "source": [
    "<img src='https://raw.githubusercontent.com/olmosjorge28/QTW-SPRING-2022/main/ds7333_case_study_7/visuals/missing_values.png'></img>"
   ]
  },
  {
   "cell_type": "markdown",
   "metadata": {},
   "source": [
    "The number of missing values was consistently around 20-40 missing observations for each column (less than 0.03% of 160,000 observations). For the logistic regression and neural network models, the mean of each column was used to impute the missing values for the numeric data, and the mode of each column was used for the missing categorical features.  For the XGBoost model, the algorithm can automatically handle missing values and find their optimal split for modeling, so no imputation was done prior to modeling. "
   ]
  },
  {
   "cell_type": "markdown",
   "metadata": {
    "id": "CbAmkozvN5Dz"
   },
   "source": [
    "## Exploratory Data Analysis (EDA) <a id='eda'>\n",
    "\n"
   ]
  },
  {
   "cell_type": "markdown",
   "metadata": {},
   "source": [
    "The numeric data was examined to view the scales of the variables, and the data needs normalization to be effectively used in most types of models without issues. \n",
    "\n",
    "For two model types, logistic regression and neural network, the categorical data for the three text columns were one-hot encoded to produce binary features for each of the values within those variables. In this data, there were three continents, twelve months, and five days of the week, so the one-hot encoding process did not contribute to creating an excess of sparsity in the dataframe that would be used for modeling. After one-hot encoding, the total number of explanatory features has increased to 67.\n",
    "For the third model type, XGBoost, the categorical data were not one-hot encoded but rather label-encoded so the tree-based algorithm could split the data effectively.\n"
   ]
  },
  {
   "cell_type": "markdown",
   "metadata": {},
   "source": [
    "### Balance of Target"
   ]
  },
  {
   "cell_type": "markdown",
   "metadata": {},
   "source": [
    "The target classes are considered balanced in the dataset, with roughly 40:60 split between the positive and negative classes, as depicted below."
   ]
  },
  {
   "cell_type": "markdown",
   "metadata": {},
   "source": [
    "<img src='https://raw.githubusercontent.com/olmosjorge28/QTW-SPRING-2022/main/ds7333_case_study_7/visuals/y_dist.png'></img>"
   ]
  },
  {
   "cell_type": "markdown",
   "metadata": {
    "id": "zmuI_mep8g_b"
   },
   "source": [
    "# Model Preparations <a id='model-preparations'/>"
   ]
  },
  {
   "cell_type": "code",
   "execution_count": 8,
   "metadata": {},
   "outputs": [],
   "source": [
    "class BaseImputer:\n",
    "    def fit(self, X, y=None):\n",
    "        pass\n",
    "    \n",
    "    def transform(self, X):\n",
    "        pass\n",
    "\n",
    "class BaseModel:\n",
    "\n",
    "    def fit(self, X, y, sample_weight=None):\n",
    "        pass\n",
    "    \n",
    "    def predict(self, X):\n",
    "        pass"
   ]
  },
  {
   "cell_type": "code",
   "execution_count": 9,
   "metadata": {},
   "outputs": [],
   "source": [
    "class Modeling:\n",
    "    _X_train_fitted = None\n",
    "    _X_test_fitted = None\n",
    "    _y_train = None\n",
    "    _y_test = None\n",
    "    _y_preds = None\n",
    "    _y_preds_proba = None\n",
    "    \n",
    "    def __init__(self, data: pd.DataFrame, \n",
    "                 target_name: str, \n",
    "                 shuffle_splitter: BaseShuffleSplit, \n",
    "                 imputer: BaseImputer, \n",
    "                 model: BaseModel, scaler = None, encoder = None):\n",
    "        self._data = data\n",
    "        self._target_name = target_name\n",
    "        self._shuffle_splitter = shuffle_splitter\n",
    "        self._imputer = imputer\n",
    "        self._model = model\n",
    "        self._encoder = encoder\n",
    "        self._X, self._y = self._split_data()\n",
    "        self._scaler = scaler\n",
    "        \n",
    "    @property\n",
    "    def X(self):\n",
    "        return self._X\n",
    "    \n",
    "    @property\n",
    "    def y(self):\n",
    "        return self._y\n",
    "\n",
    "    @property\n",
    "    def model(self):\n",
    "        return self._model\n",
    "    \n",
    "    @model.setter\n",
    "    def model(self, model):\n",
    "        self._model = model\n",
    "     \n",
    "    @property\n",
    "    def X_train(self):\n",
    "        return self._X_train_fitted\n",
    "    \n",
    "    @property\n",
    "    def X_test(self):\n",
    "        return self._X_test_fitted\n",
    "    \n",
    "    @property\n",
    "    def y_train(self):\n",
    "        return self._y_train\n",
    "    \n",
    "    @property\n",
    "    def y_test(self):\n",
    "        return self._y_test\n",
    "    \n",
    "    @property\n",
    "    def y_preds(self):\n",
    "        return self._y_preds\n",
    "    \n",
    "    def _split_data(self):\n",
    "        X = self._data.copy()\n",
    "        return X.drop([self._target_name], axis=1) , X[self._target_name]\n",
    "    \n",
    "    def _shuffle_split(self):\n",
    "        X = self.X\n",
    "        y = self.y\n",
    "        for train_index, test_index in self._shuffle_splitter.split(X,y):\n",
    "            X_train, X_test = X.iloc[train_index], X.iloc[test_index]\n",
    "            y_train, y_test = y[train_index], y[test_index]\n",
    "        return X_train, X_test, y_train, y_test\n",
    "    \n",
    "    def _fit_imputer(self, train):\n",
    "        if self._imputer is not None:\n",
    "            self._imputer.fit(train)\n",
    "    \n",
    "    def _fit_scaler(self, train, cont_vars = None):\n",
    "        transform_cols = None\n",
    "        if cont_vars is None:\n",
    "            transform_cols = self.X.columns\n",
    "        else:\n",
    "            transform_cols = cont_vars\n",
    "            \n",
    "        if self._scaler is not None:\n",
    "            self._scaler.fit(train[transform_cols])\n",
    "    \n",
    "    def _impute_data(self, X: pd.DataFrame):\n",
    "        if self._imputer is not None:\n",
    "            return pd.DataFrame(self._imputer.transform(X), columns = self.X.columns, index = X.index)\n",
    "        return X\n",
    "    \n",
    "    def _scale_data(self, X: pd.DataFrame, cont_vars = None):\n",
    "        transform_cols = None\n",
    "        if cont_vars is None:\n",
    "            transform_cols = X.columns\n",
    "        else:\n",
    "            transform_cols = cont_vars\n",
    "        scaled_data = X[transform_cols]\n",
    "        if self._scaler is not None:\n",
    "            scaled_data = pd.DataFrame(self._scaler.transform(X[transform_cols]), columns = transform_cols)\n",
    "        X[transform_cols] = scaled_data\n",
    "        return X\n",
    "    \n",
    "    def _encode_data(self):\n",
    "        df = self.X.copy()\n",
    "        cont_vars = df.describe().columns\n",
    "        cat_vars = set(df.columns) - set(cont_vars)\n",
    "        for column in [*cat_vars]:\n",
    "            df[column] = self._encoder.fit_transform(df[column].astype(str))\n",
    "        self._X = df\n",
    "        return cont_vars, cat_vars\n",
    "        \n",
    "    \n",
    "    def prepare(self):\n",
    "        cont_vars = None\n",
    "        if self._encoder is not None: \n",
    "            cont_vars, _ = self._encode_data()\n",
    "        X_train, X_test, y_train, y_test = self._shuffle_split()   \n",
    "        self._fit_imputer(X_train)\n",
    "        X_train = self._impute_data(X_train)\n",
    "        X_test = self._impute_data(X_test)\n",
    "        self._fit_scaler(X_train, cont_vars)\n",
    "        self._X_train_fitted = self._scale_data(X_train, cont_vars)\n",
    "        self._X_test_fitted = self._scale_data(X_test, cont_vars)\n",
    "        self._y_train = y_train\n",
    "        self._y_test = y_test\n",
    "        \n",
    "    def prepare_and_train(self):\n",
    "        self.prepare()\n",
    "        return self.train()\n",
    "        \n",
    "    def train(self):\n",
    "        self._model.fit(self.X_train, self.y_train)\n",
    "        self._y_preds = self._model.predict(self.X_train)\n",
    "        self._y_preds_proba = self._model.predict_proba(self.X_train)\n",
    "        \n",
    "        return self.metrics(self.y_train, self.y_preds, self._y_preds_proba)\n",
    "        \n",
    "    def test(self):\n",
    "        return self.metrics(self.y_test, self._model.predict(self.X_test), self._model.predict_proba(self.X_test))\n",
    "       \n",
    "    @abstractmethod\n",
    "    def metrics(self, y_true = None, y_pred = None, y_preds_proba = None):\n",
    "        pass"
   ]
  },
  {
   "cell_type": "code",
   "execution_count": 10,
   "metadata": {},
   "outputs": [],
   "source": [
    "class ClassificationModeling(Modeling):\n",
    "    def __init__(self, \n",
    "                 data: pd.DataFrame, \n",
    "                 target_name: str, \n",
    "                 shuffle_splitter: BaseShuffleSplit, \n",
    "                 imputer: BaseImputer, \n",
    "                 model: BaseModel, \n",
    "                 scaler = None,\n",
    "                 encoder = None,\n",
    "                 beta: int = 1, \n",
    "                 classification: str = 'binary'):\n",
    "        super().__init__(data, target_name, shuffle_splitter, imputer, model, scaler, encoder)\n",
    "        self.beta = beta\n",
    "        self.classification = classification\n",
    "        \n",
    "    @abstractmethod\n",
    "    def metrics(self, y_true = None, y_pred = None, y_preds_proba=None):\n",
    "        pass"
   ]
  },
  {
   "cell_type": "code",
   "execution_count": 11,
   "metadata": {},
   "outputs": [],
   "source": [
    "from typing import Type, TypeVar\n",
    "\n",
    "class TuningClassificationModeling(ClassificationModeling):\n",
    "    TClass = None\n",
    "    all_models = [];\n",
    "    \n",
    "    def __init__(self, \n",
    "             data: pd.DataFrame, \n",
    "             target_name: str, \n",
    "             shuffle_splitter: BaseShuffleSplit, \n",
    "             imputer: BaseImputer, \n",
    "             model: BaseModel, \n",
    "             scaler = None,\n",
    "             encoder = None,\n",
    "             beta: int = 1, \n",
    "             classification: str = 'binary',\n",
    "                 classification_type: str = 'logistic'):\n",
    "        super().__init__(data, target_name, shuffle_splitter, imputer, model, scaler, encoder, beta, classification)\n",
    "        if classification_type == 'logistic':\n",
    "            TClass = TypeVar(\"TClass\", bound=LogisticRegression)\n",
    "        elif classification_type == 'xgb':\n",
    "            TClass = TypeVar(\"TClass\", bound=XGBClassifier)\n",
    "        elif classification_type == 'neural':\n",
    "            TClass = TypeVar(\"TClass\", bound=NNModel)\n",
    "            \n",
    "\n",
    "    def parameter_tuning(self, params, class_to_instantiate: Type[TClass]):\n",
    "        list_of_models = []\n",
    "        combination = []\n",
    "        params_base = {}\n",
    "        output = []\n",
    "        for key, value in params.items():\n",
    "            if isinstance(value, list):\n",
    "                combination.append((key,value))\n",
    "            else:\n",
    "                params_base[key]=value\n",
    "        result = {}\n",
    "        if len(combination) > 0:       \n",
    "            result = TuningClassificationModeling.get_combinations(combination)\n",
    "        print(params_base)\n",
    "        for r in result:\n",
    "            list_of_models.append(class_to_instantiate(**{**params_base, **r}))\n",
    "            \n",
    "        for a_model in list_of_models:\n",
    "            self.model = a_model\n",
    "            startTrain = time.time()\n",
    "            train_metrics = self.train()\n",
    "            endTrain = time.time()\n",
    "            test_metrics = self.test()\n",
    "            endTest = time.time()\n",
    "            train_time = endTrain - startTrain\n",
    "            test_time = endTest - endTrain\n",
    "            output.append({'model': a_model, 'train_metrics': {**train_metrics,**{'elapsed_time':train_time}}, 'test_metrics': {**test_metrics,**{'elapsed_time':test_time}}})\n",
    "        self.all_models = output\n",
    "        return output\n",
    "        \n",
    "    def find_best_model(self, metric):\n",
    "        max_accuracy = self.all_models[0]['test_metrics'][metric]\n",
    "        location = 0\n",
    "        for indx, output_metrics in enumerate(self.all_models):\n",
    "            if max_accuracy < output_metrics['test_metrics'][metric]:\n",
    "                max_accuracy = output_metrics['test_metrics'][metric]\n",
    "                location = indx\n",
    "            elif max_accuracy == output_metrics['test_metrics'][metric]:\n",
    "                if output_metrics['test_metrics']['elapsed_time'] < self.all_models[location]['test_metrics']['elapsed_time']:\n",
    "                    location = indx\n",
    "                \n",
    "        return self.all_models[location]\n",
    "    \n",
    "    @staticmethod\n",
    "    def get_combinations(tuples):\n",
    "        length = len(tuples)\n",
    "        if length > 1:\n",
    "            total_params = []\n",
    "            tuple_copy = tuples.copy()\n",
    "            a_tuple = tuple_copy.pop(0)\n",
    "            params_list = TuningClassificationModeling.get_combinations(tuple_copy)\n",
    "            for value in a_tuple[1]:\n",
    "                for a_params in params_list:\n",
    "                    temp = { a_tuple[0]: value}\n",
    "                    total_params.append({**temp, **a_params})\n",
    "            return total_params\n",
    "        else:\n",
    "            params_list = []\n",
    "            a_tuple =  tuples[0]\n",
    "            for value in a_tuple[1]:\n",
    "                temp = {}\n",
    "                temp[a_tuple[0]] = value\n",
    "                params_list.append(temp)\n",
    "            return params_list\n",
    "            \n",
    "    \n",
    "    def metrics(self, y_true = None, y_pred = None, y_pred_proba=None):\n",
    "        if y_true is None and y_pred is None:\n",
    "            y_true = self.y_train\n",
    "            y_pred = self.y_preds\n",
    "        conf_matrix = confusion_matrix(y_true, y_pred)\n",
    "        return  {\n",
    "                'matrix': conf_matrix, \n",
    "                'auc': roc_auc_score(y_true, y_pred),\n",
    "                'accuracy': round(accuracy_score(y_true, y_pred), 5), \n",
    "                'precision': precision_score(y_true, y_pred, average=self.classification), \n",
    "                'recall': recall_score(y_true, y_pred, average=self.classification),\n",
    "                'f1': f1_score(y_true, y_pred),\n",
    "                'cost': TuningClassificationModeling.cost_calc(conf_matrix),\n",
    "                'y_pred': y_pred,\n",
    "                'y_pred_proba': y_pred_proba\n",
    "               }\n",
    "    \n",
    "    @staticmethod\n",
    "    def cost_calc(conf_matrix):\n",
    "        cost_matrix = np.array([[0,-100],[-25,0]])\n",
    "        cost = np.sum(cost_matrix*conf_matrix)/np.sum(conf_matrix)\n",
    "        return cost"
   ]
  },
  {
   "cell_type": "code",
   "execution_count": 12,
   "metadata": {},
   "outputs": [],
   "source": [
    "class NNModel:\n",
    "    model = None\n",
    "    epoch = 50\n",
    "    batch_size = 32\n",
    "    loss = 'BinaryCrossentropy',\n",
    "    metric = 'accuracy'\n",
    "    optimizer = 'adam'\n",
    "    \n",
    "    def __init__(self,**inputs):\n",
    "        self.model = tf.keras.Sequential()\n",
    "        for arg, content in inputs.items():\n",
    "            if arg.startswith('input'):\n",
    "                self.model.add( tf.keras.layers.Input( shape=(content,) ) )\n",
    "            if arg.startswith('layer'):\n",
    "                self.model.add( tf.keras.layers.Dense(content['s'], activation = content['activation']) )\n",
    "            if arg == 'epoch':\n",
    "                self.epoch = content\n",
    "            if arg == 'bs':\n",
    "                self.batch_size = content\n",
    "            if arg == 'optimizer':\n",
    "                self.optimizer = content\n",
    "            if arg == 'loss':\n",
    "                self.loss = content\n",
    "            if arg == 'metric':\n",
    "                self.metric = content\n",
    "        self.model.compile(optimizer=self.optimizer, loss=self.loss, metrics=[self.metric])\n",
    "        print(self.model)\n",
    "    \n",
    "    def fit(self, X, y):\n",
    "        self.model.fit(X, y, batch_size=self.batch_size, epochs=self.epoch)\n",
    "    \n",
    "    def predict(self, X):\n",
    "        y_pred_proba = self.predict_proba(X)\n",
    "        return pd.Series( (y_pred_proba>0.5).astype(int))\n",
    "        \n",
    "    \n",
    "    def predict_proba(self, X):\n",
    "        y_pred_proba = self.model.predict(X)\n",
    "        return pd.Series(y_pred_proba.reshape((y_pred_proba.shape[1], y_pred_proba.shape[0]))[0])"
   ]
  },
  {
   "cell_type": "code",
   "execution_count": 69,
   "metadata": {},
   "outputs": [],
   "source": [
    "def tune_cost_proba(train_proba, test_proba, y_train, y_test, conf_train, conf_test):\n",
    "    cost_results = pd.DataFrame()\n",
    "    thresh = 0\n",
    "    for i in range(11):\n",
    "        yhat_train = pd.Series(train_proba < thresh).astype(int)\n",
    "        yhat_test = pd.Series(test_proba < thresh).astype(int)\n",
    "        conf_train = confusion_matrix(y_train, yhat_train)\n",
    "        conf_test = confusion_matrix(y_test, yhat_test)\n",
    "        cost_results = cost_results.append({\"Threshold\": thresh,\n",
    "                                        \"Train Cost\": -TuningClassificationModeling.cost_calc(conf_train),\n",
    "                                        \"Test Cost\":  -TuningClassificationModeling.cost_calc(conf_test),\n",
    "                                        \"conf_train\": conf_train,\n",
    "                                        \"conf_test\": conf_test\n",
    "                                        },\n",
    "                                        ignore_index=True)\n",
    "        thresh = thresh + 0.05\n",
    "    return cost_results"
   ]
  },
  {
   "cell_type": "markdown",
   "metadata": {
    "id": "9iDJqPa8fUNp"
   },
   "source": [
    "Which methods are you proposing to utilize to solve the problem?  Why is this method appropriate given the business objective? How will you determine if your approach is useful (or how will you differentiate which approach is more useful than another)?  More specifically, what evaluation metrics are most useful given that the problem is a binary-classification one (ex., Accuracy, F1-score, Precision, Recall, AUC, etc.)?"
   ]
  },
  {
   "cell_type": "markdown",
   "metadata": {},
   "source": [
    "## Model Metrics"
   ]
  },
  {
   "cell_type": "markdown",
   "metadata": {},
   "source": [
    "The final metric used for model evaluation was Cost per Prediction.  This was calculated as follows:\n",
    "\n",
    "Cost per Prediction = (- \\\\$100×FP - \\\\$ 25×FN)/(Total # Predictions)  \n",
    "where FP = false positive, FN = false negative.\n",
    "\n",
    "The cost of a false positive (predicting 1 when it is actually 0) is \\\\$100, and the cost of a false negative (predicting 0 when it is actually 1) is \\\\$25.  These costs are normalized by the total number of predictions so the costs can be compared between training and test sets and fairly assessed for any number of future predictions. \n",
    "\n",
    "\n",
    "Before evaluating the model(s) for Cost per Prediction, the models were tuned to maximize ROC Area Under the Curve (AUC).  The ROC (Receiver Operator Characteristic) curve plots the True Positive (TP) rate vs. the False Positive (FP) rate.  The Area Under this Curve typically has a range of 0.5 to 1.0.  A 50:50 random guess for classification would give an AUC = 0.5 with a diagonal line going from the lower left to upper right.  A perfect (ideal) classifier would have an AUC = 1.0 with a line that goes straight up and then straight across. \n"
   ]
  },
  {
   "cell_type": "markdown",
   "metadata": {},
   "source": [
    "<img src='https://raw.githubusercontent.com/olmosjorge28/QTW-SPRING-2022/main/ds7333_case_study_7/visuals/ROC_AUC_curve.png' height=400 width=400></img>"
   ]
  },
  {
   "cell_type": "markdown",
   "metadata": {},
   "source": [
    "AUC was chosen as a standard metric that was quickly and easily implemented during initial model building and assessment.  AUC was an appropriate metric given that the target classes are fairly balanced (40:60), and AUC is also independent of the prediction threshold which is discussed in the following paragraph.\n",
    "\n",
    "Once the models were assessed for AUC, they were further tuned to minimize Cost per Prediction.  This was done by adjusting the probability threshold for predicting a positive (1) vs. negative (0) class.  The default threshold is 0.5 such that a probability < 0.5 is predicted as a negative class and ≥ 0.5 is predicted as a positive class.  This threshold can be adjusted away from 0.5 such that more positive or negative classes are predicted.  In this way, the number of FPs vs. FNs can be adjusted to minimize the Cost per Prediction.       "
   ]
  },
  {
   "cell_type": "markdown",
   "metadata": {
    "id": "UuRjMsjg8g_d"
   },
   "source": [
    "# Model Building & Evaluations <a id='model-building'/>"
   ]
  },
  {
   "cell_type": "markdown",
   "metadata": {},
   "source": [
    "Training and test sets were created from the data using the stratified splitting method to maintain the ratio of the binary outcome, although the class is relatively balanced between the two outcomes. 30% of the data was withheld for the test set, and the explanatory features were normalized using StandardScaler while avoiding data leakage into the test set.\n"
   ]
  },
  {
   "cell_type": "markdown",
   "metadata": {},
   "source": [
    "## Logistic Model"
   ]
  },
  {
   "cell_type": "markdown",
   "metadata": {},
   "source": [
    "Initially, logistic regression was run as a baseline model with fast implementation and high interpretability.  This model did not necessarily satisfy the customer requirements of minimizing cost, but it served as a starting point to increase model complexity and improve the model performance.  L1 (Lasso) regularization was used for feature selection with the logistic regression model.         "
   ]
  },
  {
   "cell_type": "markdown",
   "metadata": {},
   "source": [
    "### Logistic Regression"
   ]
  },
  {
   "cell_type": "code",
   "execution_count": 117,
   "metadata": {},
   "outputs": [],
   "source": [
    "logistic_modeling = TuningClassificationModeling(loader.get_df(),'y',\n",
    "                                           StratifiedShuffleSplit(n_splits=1, test_size=0.3, random_state=12343),\n",
    "                                           SimpleImputer(missing_values=np.nan, strategy='mean'), LogisticRegression, None, LabelEncoder(), beta=1)"
   ]
  },
  {
   "cell_type": "code",
   "execution_count": 118,
   "metadata": {},
   "outputs": [],
   "source": [
    "logistic_modeling.prepare()"
   ]
  },
  {
   "cell_type": "code",
   "execution_count": 119,
   "metadata": {},
   "outputs": [
    {
     "name": "stdout",
     "output_type": "stream",
     "text": [
      "{'penalty': 'l1', 'random_state': 1, 'solver': 'liblinear'}\n"
     ]
    }
   ],
   "source": [
    "logistic_result = logistic_modeling.parameter_tuning( { \n",
    "    'penalty':'l1',\n",
    "    'random_state':1,\n",
    "    'solver': 'liblinear',\n",
    "    'C':  [0.001, 0.01, 1, 10],\n",
    " }, LogisticRegression)"
   ]
  },
  {
   "cell_type": "markdown",
   "metadata": {},
   "source": [
    "#### Selecting Best Logistic Regression Model"
   ]
  },
  {
   "cell_type": "code",
   "execution_count": 121,
   "metadata": {},
   "outputs": [
    {
     "data": {
      "text/plain": [
       "LogisticRegression(C=0.001, penalty='l1', random_state=1, solver='liblinear')"
      ]
     },
     "execution_count": 121,
     "metadata": {},
     "output_type": "execute_result"
    }
   ],
   "source": [
    "best_logistic_model = logistic_modeling.find_best_model('auc')\n",
    "best_logistic_model['model']"
   ]
  },
  {
   "cell_type": "code",
   "execution_count": 122,
   "metadata": {},
   "outputs": [
    {
     "data": {
      "text/plain": [
       "{'auc': 0.6743131085040095,\n",
       " 'cost': -15.369196428571428,\n",
       " 'matrix': array([[55175, 11887],\n",
       "        [21306, 23632]])}"
      ]
     },
     "execution_count": 122,
     "metadata": {},
     "output_type": "execute_result"
    }
   ],
   "source": [
    "{ metric: best_logistic_model['train_metrics'][metric] for metric in ['auc', 'cost', 'matrix'] }"
   ]
  },
  {
   "cell_type": "code",
   "execution_count": 123,
   "metadata": {},
   "outputs": [
    {
     "data": {
      "text/plain": [
       "{'auc': 0.6717950589503955,\n",
       " 'cost': -15.60625,\n",
       " 'matrix': array([[23539,  5202],\n",
       "        [ 9156, 10103]])}"
      ]
     },
     "execution_count": 123,
     "metadata": {},
     "output_type": "execute_result"
    }
   ],
   "source": [
    "{ metric: best_logistic_model['test_metrics'][metric] for metric in ['auc', 'cost', 'matrix'] }"
   ]
  },
  {
   "cell_type": "markdown",
   "metadata": {},
   "source": [
    "### Feature Importance \n",
    "\n",
    "###### todo add some writing"
   ]
  },
  {
   "cell_type": "code",
   "execution_count": 35,
   "metadata": {},
   "outputs": [
    {
     "data": {
      "image/png": "[encoded data removed]",
      "text/plain": [
       "<Figure size 432x288 with 1 Axes>"
      ]
     },
     "metadata": {
      "needs_background": "light"
     },
     "output_type": "display_data"
    }
   ],
   "source": [
    "lr_tuned = linear_modeling.find_best_model('auc')\n",
    "feat_coef = []\n",
    "feat = zip(linear_modeling.X_train.columns, lr_tuned['model'].coef_[0])\n",
    "[feat_coef.append([i,j]) for i,j in feat]\n",
    "feat_coef = pd.DataFrame(feat_coef, columns = ['feature','coef'])\n",
    "top_feat_lr = feat_coef.loc[abs(feat_coef['coef'])>0].sort_values(by='coef')\n",
    "\n",
    "feat_plot = sns.barplot(data=top_feat_lr, x='feature', y='coef', palette = \"ch:s=.25,rot=-.25\")\n",
    "plt.xticks(rotation=90)\n",
    "plt.title('LR Feature Importance with L1')\n",
    "plt.show()"
   ]
  },
  {
   "cell_type": "markdown",
   "metadata": {},
   "source": [
    "#### Tunning Treshold to for Lowest Cost"
   ]
  },
  {
   "cell_type": "code",
   "execution_count": 52,
   "metadata": {},
   "outputs": [],
   "source": [
    "def extract_best_model_metrics(model):\n",
    "    return (model.find_best_model('auc')['train_metrics']['y_pred_proba'], \n",
    "            model.find_best_model('auc')['test_metrics']['y_pred_proba'], \n",
    "            model.y_train,\n",
    "            model.y_test,\n",
    "            model.find_best_model('auc')['train_metrics']['matrix'], \n",
    "            model.find_best_model('auc')['test_metrics']['matrix'])"
   ]
  },
  {
   "cell_type": "code",
   "execution_count": 77,
   "metadata": {},
   "outputs": [
    {
     "data": {
      "text/html": [
       "<div>\n",
       "<style scoped>\n",
       "    .dataframe tbody tr th:only-of-type {\n",
       "        vertical-align: middle;\n",
       "    }\n",
       "\n",
       "    .dataframe tbody tr th {\n",
       "        vertical-align: top;\n",
       "    }\n",
       "\n",
       "    .dataframe thead th {\n",
       "        text-align: right;\n",
       "    }\n",
       "</style>\n",
       "<table border=\"1\" class=\"dataframe\">\n",
       "  <thead>\n",
       "    <tr style=\"text-align: right;\">\n",
       "      <th></th>\n",
       "      <th>Threshold</th>\n",
       "      <th>Train Cost</th>\n",
       "      <th>Test Cost</th>\n",
       "    </tr>\n",
       "  </thead>\n",
       "  <tbody>\n",
       "    <tr>\n",
       "      <th>0</th>\n",
       "      <td>0.00</td>\n",
       "      <td>10.030804</td>\n",
       "      <td>10.030729</td>\n",
       "    </tr>\n",
       "    <tr>\n",
       "      <th>1</th>\n",
       "      <td>0.05</td>\n",
       "      <td>9.952902</td>\n",
       "      <td>9.942708</td>\n",
       "    </tr>\n",
       "    <tr>\n",
       "      <th>2</th>\n",
       "      <td>0.10</td>\n",
       "      <td>9.811161</td>\n",
       "      <td>9.811458</td>\n",
       "    </tr>\n",
       "    <tr>\n",
       "      <th>3</th>\n",
       "      <td>0.15</td>\n",
       "      <td>9.767411</td>\n",
       "      <td>9.736979</td>\n",
       "    </tr>\n",
       "    <tr>\n",
       "      <th>4</th>\n",
       "      <td>0.20</td>\n",
       "      <td>9.866741</td>\n",
       "      <td>9.868750</td>\n",
       "    </tr>\n",
       "    <tr>\n",
       "      <th>5</th>\n",
       "      <td>0.25</td>\n",
       "      <td>10.257143</td>\n",
       "      <td>10.231250</td>\n",
       "    </tr>\n",
       "    <tr>\n",
       "      <th>6</th>\n",
       "      <td>0.30</td>\n",
       "      <td>10.836384</td>\n",
       "      <td>10.835417</td>\n",
       "    </tr>\n",
       "    <tr>\n",
       "      <th>7</th>\n",
       "      <td>0.35</td>\n",
       "      <td>11.559375</td>\n",
       "      <td>11.723437</td>\n",
       "    </tr>\n",
       "    <tr>\n",
       "      <th>8</th>\n",
       "      <td>0.40</td>\n",
       "      <td>12.572098</td>\n",
       "      <td>12.766146</td>\n",
       "    </tr>\n",
       "    <tr>\n",
       "      <th>9</th>\n",
       "      <td>0.45</td>\n",
       "      <td>13.752455</td>\n",
       "      <td>14.007812</td>\n",
       "    </tr>\n",
       "    <tr>\n",
       "      <th>10</th>\n",
       "      <td>0.50</td>\n",
       "      <td>15.369196</td>\n",
       "      <td>15.606250</td>\n",
       "    </tr>\n",
       "  </tbody>\n",
       "</table>\n",
       "</div>"
      ],
      "text/plain": [
       "    Threshold  Train Cost  Test Cost\n",
       "0        0.00   10.030804  10.030729\n",
       "1        0.05    9.952902   9.942708\n",
       "2        0.10    9.811161   9.811458\n",
       "3        0.15    9.767411   9.736979\n",
       "4        0.20    9.866741   9.868750\n",
       "5        0.25   10.257143  10.231250\n",
       "6        0.30   10.836384  10.835417\n",
       "7        0.35   11.559375  11.723437\n",
       "8        0.40   12.572098  12.766146\n",
       "9        0.45   13.752455  14.007812\n",
       "10       0.50   15.369196  15.606250"
      ]
     },
     "execution_count": 77,
     "metadata": {},
     "output_type": "execute_result"
    }
   ],
   "source": [
    "train_proba, test_proba, y_train, y_test, conf_train, conf_test = extract_best_model_metrics(logistic_modeling)\n",
    "logistic_cost_results = tune_cost_proba(train_proba[:,0], test_proba[:,0], y_train, y_test, conf_train, conf_test)\n",
    "logistic_cost_results[['Threshold', 'Train Cost','Test Cost' ]]"
   ]
  },
  {
   "cell_type": "code",
   "execution_count": 63,
   "metadata": {},
   "outputs": [],
   "source": [
    "def plot_cost_tunning(cost_results, threshold):\n",
    "    sns.lineplot(data=cost_results, x='Threshold', y='Train Cost', color='blue')\n",
    "    sns.lineplot(data=cost_results, x='Threshold', y='Test Cost', color='red')\n",
    "    plt.title('Tuning Threshold for Logistic Regression with L1')\n",
    "    plt.legend(['Train', 'Test'])\n",
    "    plt.axvline(threshold, color='black', ls='--')\n",
    "    plt.show()"
   ]
  },
  {
   "cell_type": "code",
   "execution_count": 78,
   "metadata": {},
   "outputs": [
    {
     "data": {
      "image/png": "[encoded data removed]",
      "text/plain": [
       "<Figure size 432x288 with 1 Axes>"
      ]
     },
     "metadata": {
      "needs_background": "light"
     },
     "output_type": "display_data"
    }
   ],
   "source": [
    "plot_cost_tunning(logistic_cost_results, 0.15)"
   ]
  },
  {
   "cell_type": "markdown",
   "metadata": {},
   "source": [
    "## XGB Model"
   ]
  },
  {
   "cell_type": "markdown",
   "metadata": {},
   "source": [
    "Next, XGBoost (eXtreme Gradient Boosting) was used as a more complex nonlinear tree-based model.  This model significantly improved performance while maintaining some interpretability with feature importances.  The XGBoost model overfit the training set such that it achieved a perfect AUC=1.0, and this resulted in a maximum test AUC=0.9434.    "
   ]
  },
  {
   "cell_type": "markdown",
   "metadata": {},
   "source": [
    "### Extreme Gradient Boosting "
   ]
  },
  {
   "cell_type": "code",
   "execution_count": 19,
   "metadata": {},
   "outputs": [],
   "source": [
    "xgb_classifier = TuningClassificationModeling(loader.get_df(),'y',\n",
    "                                           StratifiedShuffleSplit(n_splits=1, test_size=0.3, random_state=12343),\n",
    "                                           None, XGBClassifier, None, LabelEncoder(), beta=1,classification_type = 'xgb' )"
   ]
  },
  {
   "cell_type": "code",
   "execution_count": 20,
   "metadata": {},
   "outputs": [],
   "source": [
    "xgb_classifier.prepare()"
   ]
  },
  {
   "cell_type": "code",
   "execution_count": 21,
   "metadata": {
    "scrolled": false
   },
   "outputs": [
    {
     "name": "stdout",
     "output_type": "stream",
     "text": [
      "{}\n",
      "[19:31:04] WARNING: /Users/runner/work/xgboost/xgboost/src/learner.cc:1115: Starting in XGBoost 1.3.0, the default evaluation metric used with the objective 'binary:logistic' was changed from 'error' to 'logloss'. Explicitly set eval_metric if you'd like to restore the old behavior.\n",
      "[19:31:16] WARNING: /Users/runner/work/xgboost/xgboost/src/learner.cc:1115: Starting in XGBoost 1.3.0, the default evaluation metric used with the objective 'binary:logistic' was changed from 'error' to 'logloss'. Explicitly set eval_metric if you'd like to restore the old behavior.\n",
      "[19:31:44] WARNING: /Users/runner/work/xgboost/xgboost/src/learner.cc:1115: Starting in XGBoost 1.3.0, the default evaluation metric used with the objective 'binary:logistic' was changed from 'error' to 'logloss'. Explicitly set eval_metric if you'd like to restore the old behavior.\n",
      "[19:32:47] WARNING: /Users/runner/work/xgboost/xgboost/src/learner.cc:1115: Starting in XGBoost 1.3.0, the default evaluation metric used with the objective 'binary:logistic' was changed from 'error' to 'logloss'. Explicitly set eval_metric if you'd like to restore the old behavior.\n",
      "[19:35:10] WARNING: /Users/runner/work/xgboost/xgboost/src/learner.cc:1115: Starting in XGBoost 1.3.0, the default evaluation metric used with the objective 'binary:logistic' was changed from 'error' to 'logloss'. Explicitly set eval_metric if you'd like to restore the old behavior.\n",
      "[19:37:38] WARNING: /Users/runner/work/xgboost/xgboost/src/learner.cc:1115: Starting in XGBoost 1.3.0, the default evaluation metric used with the objective 'binary:logistic' was changed from 'error' to 'logloss'. Explicitly set eval_metric if you'd like to restore the old behavior.\n",
      "[19:42:54] WARNING: /Users/runner/work/xgboost/xgboost/src/learner.cc:1115: Starting in XGBoost 1.3.0, the default evaluation metric used with the objective 'binary:logistic' was changed from 'error' to 'logloss'. Explicitly set eval_metric if you'd like to restore the old behavior.\n",
      "[19:43:10] WARNING: /Users/runner/work/xgboost/xgboost/src/learner.cc:1115: Starting in XGBoost 1.3.0, the default evaluation metric used with the objective 'binary:logistic' was changed from 'error' to 'logloss'. Explicitly set eval_metric if you'd like to restore the old behavior.\n",
      "[19:43:40] WARNING: /Users/runner/work/xgboost/xgboost/src/learner.cc:1115: Starting in XGBoost 1.3.0, the default evaluation metric used with the objective 'binary:logistic' was changed from 'error' to 'logloss'. Explicitly set eval_metric if you'd like to restore the old behavior.\n",
      "[19:44:54] WARNING: /Users/runner/work/xgboost/xgboost/src/learner.cc:1115: Starting in XGBoost 1.3.0, the default evaluation metric used with the objective 'binary:logistic' was changed from 'error' to 'logloss'. Explicitly set eval_metric if you'd like to restore the old behavior.\n",
      "[19:47:42] WARNING: /Users/runner/work/xgboost/xgboost/src/learner.cc:1115: Starting in XGBoost 1.3.0, the default evaluation metric used with the objective 'binary:logistic' was changed from 'error' to 'logloss'. Explicitly set eval_metric if you'd like to restore the old behavior.\n",
      "[19:50:09] WARNING: /Users/runner/work/xgboost/xgboost/src/learner.cc:1115: Starting in XGBoost 1.3.0, the default evaluation metric used with the objective 'binary:logistic' was changed from 'error' to 'logloss'. Explicitly set eval_metric if you'd like to restore the old behavior.\n",
      "[19:55:09] WARNING: /Users/runner/work/xgboost/xgboost/src/learner.cc:1115: Starting in XGBoost 1.3.0, the default evaluation metric used with the objective 'binary:logistic' was changed from 'error' to 'logloss'. Explicitly set eval_metric if you'd like to restore the old behavior.\n",
      "[19:55:39] WARNING: /Users/runner/work/xgboost/xgboost/src/learner.cc:1115: Starting in XGBoost 1.3.0, the default evaluation metric used with the objective 'binary:logistic' was changed from 'error' to 'logloss'. Explicitly set eval_metric if you'd like to restore the old behavior.\n",
      "[19:56:44] WARNING: /Users/runner/work/xgboost/xgboost/src/learner.cc:1115: Starting in XGBoost 1.3.0, the default evaluation metric used with the objective 'binary:logistic' was changed from 'error' to 'logloss'. Explicitly set eval_metric if you'd like to restore the old behavior.\n",
      "[19:59:14] WARNING: /Users/runner/work/xgboost/xgboost/src/learner.cc:1115: Starting in XGBoost 1.3.0, the default evaluation metric used with the objective 'binary:logistic' was changed from 'error' to 'logloss'. Explicitly set eval_metric if you'd like to restore the old behavior.\n",
      "[20:04:21] WARNING: /Users/runner/work/xgboost/xgboost/src/learner.cc:1115: Starting in XGBoost 1.3.0, the default evaluation metric used with the objective 'binary:logistic' was changed from 'error' to 'logloss'. Explicitly set eval_metric if you'd like to restore the old behavior.\n",
      "[20:09:08] WARNING: /Users/runner/work/xgboost/xgboost/src/learner.cc:1115: Starting in XGBoost 1.3.0, the default evaluation metric used with the objective 'binary:logistic' was changed from 'error' to 'logloss'. Explicitly set eval_metric if you'd like to restore the old behavior.\n",
      "[20:20:07] WARNING: /Users/runner/work/xgboost/xgboost/src/learner.cc:1115: Starting in XGBoost 1.3.0, the default evaluation metric used with the objective 'binary:logistic' was changed from 'error' to 'logloss'. Explicitly set eval_metric if you'd like to restore the old behavior.\n",
      "[20:20:41] WARNING: /Users/runner/work/xgboost/xgboost/src/learner.cc:1115: Starting in XGBoost 1.3.0, the default evaluation metric used with the objective 'binary:logistic' was changed from 'error' to 'logloss'. Explicitly set eval_metric if you'd like to restore the old behavior.\n",
      "[20:21:46] WARNING: /Users/runner/work/xgboost/xgboost/src/learner.cc:1115: Starting in XGBoost 1.3.0, the default evaluation metric used with the objective 'binary:logistic' was changed from 'error' to 'logloss'. Explicitly set eval_metric if you'd like to restore the old behavior.\n",
      "[20:24:23] WARNING: /Users/runner/work/xgboost/xgboost/src/learner.cc:1115: Starting in XGBoost 1.3.0, the default evaluation metric used with the objective 'binary:logistic' was changed from 'error' to 'logloss'. Explicitly set eval_metric if you'd like to restore the old behavior.\n",
      "[20:30:04] WARNING: /Users/runner/work/xgboost/xgboost/src/learner.cc:1115: Starting in XGBoost 1.3.0, the default evaluation metric used with the objective 'binary:logistic' was changed from 'error' to 'logloss'. Explicitly set eval_metric if you'd like to restore the old behavior.\n",
      "[20:35:14] WARNING: /Users/runner/work/xgboost/xgboost/src/learner.cc:1115: Starting in XGBoost 1.3.0, the default evaluation metric used with the objective 'binary:logistic' was changed from 'error' to 'logloss'. Explicitly set eval_metric if you'd like to restore the old behavior.\n",
      "[20:46:20] WARNING: /Users/runner/work/xgboost/xgboost/src/learner.cc:1115: Starting in XGBoost 1.3.0, the default evaluation metric used with the objective 'binary:logistic' was changed from 'error' to 'logloss'. Explicitly set eval_metric if you'd like to restore the old behavior.\n",
      "[20:47:12] WARNING: /Users/runner/work/xgboost/xgboost/src/learner.cc:1115: Starting in XGBoost 1.3.0, the default evaluation metric used with the objective 'binary:logistic' was changed from 'error' to 'logloss'. Explicitly set eval_metric if you'd like to restore the old behavior.\n",
      "[20:49:02] WARNING: /Users/runner/work/xgboost/xgboost/src/learner.cc:1115: Starting in XGBoost 1.3.0, the default evaluation metric used with the objective 'binary:logistic' was changed from 'error' to 'logloss'. Explicitly set eval_metric if you'd like to restore the old behavior.\n",
      "[20:53:17] WARNING: /Users/runner/work/xgboost/xgboost/src/learner.cc:1115: Starting in XGBoost 1.3.0, the default evaluation metric used with the objective 'binary:logistic' was changed from 'error' to 'logloss'. Explicitly set eval_metric if you'd like to restore the old behavior.\n",
      "[21:02:10] WARNING: /Users/runner/work/xgboost/xgboost/src/learner.cc:1115: Starting in XGBoost 1.3.0, the default evaluation metric used with the objective 'binary:logistic' was changed from 'error' to 'logloss'. Explicitly set eval_metric if you'd like to restore the old behavior.\n"
     ]
    },
    {
     "name": "stdout",
     "output_type": "stream",
     "text": [
      "[21:11:08] WARNING: /Users/runner/work/xgboost/xgboost/src/learner.cc:1115: Starting in XGBoost 1.3.0, the default evaluation metric used with the objective 'binary:logistic' was changed from 'error' to 'logloss'. Explicitly set eval_metric if you'd like to restore the old behavior.\n",
      "[21:26:46] WARNING: /Users/runner/work/xgboost/xgboost/src/learner.cc:1115: Starting in XGBoost 1.3.0, the default evaluation metric used with the objective 'binary:logistic' was changed from 'error' to 'logloss'. Explicitly set eval_metric if you'd like to restore the old behavior.\n",
      "[21:27:34] WARNING: /Users/runner/work/xgboost/xgboost/src/learner.cc:1115: Starting in XGBoost 1.3.0, the default evaluation metric used with the objective 'binary:logistic' was changed from 'error' to 'logloss'. Explicitly set eval_metric if you'd like to restore the old behavior.\n",
      "[21:29:00] WARNING: /Users/runner/work/xgboost/xgboost/src/learner.cc:1115: Starting in XGBoost 1.3.0, the default evaluation metric used with the objective 'binary:logistic' was changed from 'error' to 'logloss'. Explicitly set eval_metric if you'd like to restore the old behavior.\n",
      "[21:32:14] WARNING: /Users/runner/work/xgboost/xgboost/src/learner.cc:1115: Starting in XGBoost 1.3.0, the default evaluation metric used with the objective 'binary:logistic' was changed from 'error' to 'logloss'. Explicitly set eval_metric if you'd like to restore the old behavior.\n",
      "[21:39:02] WARNING: /Users/runner/work/xgboost/xgboost/src/learner.cc:1115: Starting in XGBoost 1.3.0, the default evaluation metric used with the objective 'binary:logistic' was changed from 'error' to 'logloss'. Explicitly set eval_metric if you'd like to restore the old behavior.\n",
      "[21:45:18] WARNING: /Users/runner/work/xgboost/xgboost/src/learner.cc:1115: Starting in XGBoost 1.3.0, the default evaluation metric used with the objective 'binary:logistic' was changed from 'error' to 'logloss'. Explicitly set eval_metric if you'd like to restore the old behavior.\n"
     ]
    }
   ],
   "source": [
    "xgb_results = xgb_classifier.parameter_tuning( { \n",
    "    'max_depth': [3,6,10],\n",
    "    'learning_rate': [0.05, 0.1],\n",
    "    'n_estimators': [100, 500, 1000],\n",
    "    'colsample_bytree': [0.3, 0.7],\n",
    " }, XGBClassifier);"
   ]
  },
  {
   "cell_type": "markdown",
   "metadata": {},
   "source": [
    "#### Selecting Best XGB Model"
   ]
  },
  {
   "cell_type": "code",
   "execution_count": 112,
   "metadata": {},
   "outputs": [
    {
     "data": {
      "text/plain": [
       "XGBClassifier(base_score=0.5, booster='gbtree', colsample_bylevel=1,\n",
       "              colsample_bynode=1, colsample_bytree=0.7,\n",
       "              enable_categorical=False, gamma=0, gpu_id=-1,\n",
       "              importance_type=None, interaction_constraints='',\n",
       "              learning_rate=0.1, max_delta_step=0, max_depth=10,\n",
       "              min_child_weight=1, missing=nan, monotone_constraints='()',\n",
       "              n_estimators=1000, n_jobs=8, num_parallel_tree=1,\n",
       "              predictor='auto', random_state=0, reg_alpha=0, reg_lambda=1,\n",
       "              scale_pos_weight=1, subsample=1, tree_method='exact',\n",
       "              validate_parameters=1, verbosity=None)"
      ]
     },
     "execution_count": 112,
     "metadata": {},
     "output_type": "execute_result"
    }
   ],
   "source": [
    "best_xgb_model= xgb_classifier.find_best_model('auc')\n",
    "best_xgb_model['model']"
   ]
  },
  {
   "cell_type": "code",
   "execution_count": 113,
   "metadata": {},
   "outputs": [
    {
     "data": {
      "text/plain": [
       "{'auc': 1.0,\n",
       " 'cost': 0.0,\n",
       " 'matrix': array([[67062,     0],\n",
       "        [    0, 44938]])}"
      ]
     },
     "execution_count": 113,
     "metadata": {},
     "output_type": "execute_result"
    }
   ],
   "source": [
    "{ metric: best_xgb_model['train_metrics'][metric] for metric in ['auc', 'cost', 'matrix'] }"
   ]
  },
  {
   "cell_type": "code",
   "execution_count": 114,
   "metadata": {},
   "outputs": [
    {
     "data": {
      "text/plain": [
       "{'auc': 0.9434452613876319,\n",
       " 'cost': -3.0145833333333334,\n",
       " 'matrix': array([[27657,  1084],\n",
       "        [ 1452, 17807]])}"
      ]
     },
     "execution_count": 114,
     "metadata": {},
     "output_type": "execute_result"
    }
   ],
   "source": [
    "{ metric: best_xgb_model['test_metrics'][metric] for metric in ['auc', 'cost', 'matrix'] }"
   ]
  },
  {
   "cell_type": "markdown",
   "metadata": {},
   "source": [
    "### Feature Importance\n",
    "\n",
    "###### todo: add some writing"
   ]
  },
  {
   "cell_type": "code",
   "execution_count": null,
   "metadata": {},
   "outputs": [],
   "source": [
    "best_xgb_model = xgb_classifier.find_best_model('auc')['model']\n",
    "xgboost.plot_importance(model, max_num_features=15)\n",
    "plt.show()"
   ]
  },
  {
   "cell_type": "markdown",
   "metadata": {},
   "source": [
    "#### Tunning Treshold to for Lowest Cost"
   ]
  },
  {
   "cell_type": "code",
   "execution_count": 79,
   "metadata": {},
   "outputs": [
    {
     "data": {
      "text/html": [
       "<div>\n",
       "<style scoped>\n",
       "    .dataframe tbody tr th:only-of-type {\n",
       "        vertical-align: middle;\n",
       "    }\n",
       "\n",
       "    .dataframe tbody tr th {\n",
       "        vertical-align: top;\n",
       "    }\n",
       "\n",
       "    .dataframe thead th {\n",
       "        text-align: right;\n",
       "    }\n",
       "</style>\n",
       "<table border=\"1\" class=\"dataframe\">\n",
       "  <thead>\n",
       "    <tr style=\"text-align: right;\">\n",
       "      <th></th>\n",
       "      <th>Threshold</th>\n",
       "      <th>Train Cost</th>\n",
       "      <th>Test Cost</th>\n",
       "    </tr>\n",
       "  </thead>\n",
       "  <tbody>\n",
       "    <tr>\n",
       "      <th>0</th>\n",
       "      <td>0.00</td>\n",
       "      <td>10.030804</td>\n",
       "      <td>10.030729</td>\n",
       "    </tr>\n",
       "    <tr>\n",
       "      <th>1</th>\n",
       "      <td>0.05</td>\n",
       "      <td>0.033705</td>\n",
       "      <td>2.707813</td>\n",
       "    </tr>\n",
       "    <tr>\n",
       "      <th>2</th>\n",
       "      <td>0.10</td>\n",
       "      <td>0.000223</td>\n",
       "      <td>2.445833</td>\n",
       "    </tr>\n",
       "    <tr>\n",
       "      <th>3</th>\n",
       "      <td>0.15</td>\n",
       "      <td>-0.000000</td>\n",
       "      <td>2.398438</td>\n",
       "    </tr>\n",
       "    <tr>\n",
       "      <th>4</th>\n",
       "      <td>0.20</td>\n",
       "      <td>-0.000000</td>\n",
       "      <td>2.398438</td>\n",
       "    </tr>\n",
       "    <tr>\n",
       "      <th>5</th>\n",
       "      <td>0.25</td>\n",
       "      <td>-0.000000</td>\n",
       "      <td>2.470312</td>\n",
       "    </tr>\n",
       "    <tr>\n",
       "      <th>6</th>\n",
       "      <td>0.30</td>\n",
       "      <td>-0.000000</td>\n",
       "      <td>2.526562</td>\n",
       "    </tr>\n",
       "    <tr>\n",
       "      <th>7</th>\n",
       "      <td>0.35</td>\n",
       "      <td>-0.000000</td>\n",
       "      <td>2.616146</td>\n",
       "    </tr>\n",
       "    <tr>\n",
       "      <th>8</th>\n",
       "      <td>0.40</td>\n",
       "      <td>-0.000000</td>\n",
       "      <td>2.752083</td>\n",
       "    </tr>\n",
       "    <tr>\n",
       "      <th>9</th>\n",
       "      <td>0.45</td>\n",
       "      <td>-0.000000</td>\n",
       "      <td>2.850521</td>\n",
       "    </tr>\n",
       "    <tr>\n",
       "      <th>10</th>\n",
       "      <td>0.50</td>\n",
       "      <td>-0.000000</td>\n",
       "      <td>3.014583</td>\n",
       "    </tr>\n",
       "  </tbody>\n",
       "</table>\n",
       "</div>"
      ],
      "text/plain": [
       "    Threshold  Train Cost  Test Cost\n",
       "0        0.00   10.030804  10.030729\n",
       "1        0.05    0.033705   2.707813\n",
       "2        0.10    0.000223   2.445833\n",
       "3        0.15   -0.000000   2.398438\n",
       "4        0.20   -0.000000   2.398438\n",
       "5        0.25   -0.000000   2.470312\n",
       "6        0.30   -0.000000   2.526562\n",
       "7        0.35   -0.000000   2.616146\n",
       "8        0.40   -0.000000   2.752083\n",
       "9        0.45   -0.000000   2.850521\n",
       "10       0.50   -0.000000   3.014583"
      ]
     },
     "execution_count": 79,
     "metadata": {},
     "output_type": "execute_result"
    }
   ],
   "source": [
    "train_proba, test_proba, y_train, y_test, conf_train, conf_test = extract_best_model_metrics(xgb_classifier)\n",
    "xgb_cost_results = tune_cost_proba(train_proba[:,0], test_proba[:,0], y_train, y_test, conf_train, conf_test)\n",
    "xgb_cost_results[['Threshold', 'Train Cost','Test Cost' ]]"
   ]
  },
  {
   "cell_type": "code",
   "execution_count": 80,
   "metadata": {},
   "outputs": [
    {
     "data": {
      "image/png": "[encoded data removed]",
      "text/plain": [
       "<Figure size 432x288 with 1 Axes>"
      ]
     },
     "metadata": {
      "needs_background": "light"
     },
     "output_type": "display_data"
    }
   ],
   "source": [
    "plot_cost_tunning(xgb_cost_results, 0.15)"
   ]
  },
  {
   "cell_type": "markdown",
   "metadata": {},
   "source": [
    "## Neural Network Model"
   ]
  },
  {
   "cell_type": "markdown",
   "metadata": {},
   "source": [
    "Finally, a Neural Network model was fit on the dataset, and its performance was compared against the rest of the models.  This was the most complex model with the least interpretability."
   ]
  },
  {
   "cell_type": "markdown",
   "metadata": {},
   "source": [
    "### Neural Network"
   ]
  },
  {
   "cell_type": "code",
   "execution_count": 24,
   "metadata": {},
   "outputs": [],
   "source": [
    "nn_modeling = TuningClassificationModeling(loader.get_df(),'y',\n",
    "                                           StratifiedShuffleSplit(n_splits=1, test_size=0.3, random_state=12343),\n",
    "                                           SimpleImputer(missing_values=np.nan, strategy='mean'), NNModel, None, LabelEncoder(), beta=1,classification_type='neural' )"
   ]
  },
  {
   "cell_type": "code",
   "execution_count": 25,
   "metadata": {},
   "outputs": [],
   "source": [
    "nn_modeling.prepare()"
   ]
  },
  {
   "cell_type": "code",
   "execution_count": 91,
   "metadata": {},
   "outputs": [
    {
     "name": "stdout",
     "output_type": "stream",
     "text": [
      "{'input': 50, 'layer1': {'s': 300, 'activation': 'relu'}, 'layer2': {'s': 200, 'activation': 'relu'}, 'layer3': {'s': 100, 'activation': 'relu'}, 'layer4': {'s': 1, 'activation': 'sigmoid'}, 'loss': 'BinaryCrossentropy', 'metric': <keras.metrics.AUC object at 0x7f9f8fae16a0>, 'optimizer': 'adam'}\n",
      "<keras.engine.sequential.Sequential object at 0x7fa027eeed90>\n",
      "<keras.engine.sequential.Sequential object at 0x7f9f91099f10>\n",
      "<keras.engine.sequential.Sequential object at 0x7f9f910ab160>\n",
      "<keras.engine.sequential.Sequential object at 0x7f9f90d05b20>\n",
      "<keras.engine.sequential.Sequential object at 0x7f9f90ced2e0>\n",
      "<keras.engine.sequential.Sequential object at 0x7f9f90597970>\n",
      "<keras.engine.sequential.Sequential object at 0x7f9f905a1250>\n",
      "<keras.engine.sequential.Sequential object at 0x7f9f905a9790>\n",
      "<keras.engine.sequential.Sequential object at 0x7f9f905af310>\n",
      "<keras.engine.sequential.Sequential object at 0x7f9f907e85e0>\n",
      "<keras.engine.sequential.Sequential object at 0x7f9f905c53d0>\n",
      "<keras.engine.sequential.Sequential object at 0x7f9f90811400>\n",
      "Epoch 1/10\n",
      "11200/11200 [==============================] - 18s 2ms/step - loss: 0.4741 - auc: 0.8851\n",
      "Epoch 2/10\n",
      "11200/11200 [==============================] - 20s 2ms/step - loss: 0.2344 - auc: 0.9651\n",
      "Epoch 3/10\n",
      "11200/11200 [==============================] - 19s 2ms/step - loss: 0.1943 - auc: 0.9758\n",
      "Epoch 4/10\n",
      "11200/11200 [==============================] - 18s 2ms/step - loss: 0.1728 - auc: 0.9805\n",
      "Epoch 5/10\n",
      "11200/11200 [==============================] - 18s 2ms/step - loss: 0.1602 - auc: 0.9829\n",
      "Epoch 6/10\n",
      "11200/11200 [==============================] - 17s 2ms/step - loss: 0.1493 - auc: 0.9848\n",
      "Epoch 7/10\n",
      "11200/11200 [==============================] - 18s 2ms/step - loss: 0.1434 - auc: 0.9858\n",
      "Epoch 8/10\n",
      "11200/11200 [==============================] - 16s 1ms/step - loss: 0.1378 - auc: 0.9867\n",
      "Epoch 9/10\n",
      "11200/11200 [==============================] - 17s 1ms/step - loss: 0.1334 - auc: 0.9874\n",
      "Epoch 10/10\n",
      "11200/11200 [==============================] - 17s 1ms/step - loss: 0.1278 - auc: 0.9882\n",
      "Epoch 1/10\n",
      "1120/1120 [==============================] - 3s 2ms/step - loss: 0.6611 - auc: 0.9350\n",
      "Epoch 2/10\n",
      "1120/1120 [==============================] - 3s 2ms/step - loss: 0.3043 - auc: 0.9422\n",
      "Epoch 3/10\n",
      "1120/1120 [==============================] - 3s 2ms/step - loss: 0.2642 - auc: 0.9562\n",
      "Epoch 4/10\n",
      "1120/1120 [==============================] - 3s 2ms/step - loss: 0.2271 - auc: 0.9672\n",
      "Epoch 5/10\n",
      "1120/1120 [==============================] - 3s 2ms/step - loss: 0.1991 - auc: 0.9745\n",
      "Epoch 6/10\n",
      "1120/1120 [==============================] - 3s 2ms/step - loss: 0.1768 - auc: 0.9797\n",
      "Epoch 7/10\n",
      "1120/1120 [==============================] - 3s 2ms/step - loss: 0.1621 - auc: 0.9825\n",
      "Epoch 8/10\n",
      "1120/1120 [==============================] - 3s 2ms/step - loss: 0.1501 - auc: 0.9847\n",
      "Epoch 9/10\n",
      "1120/1120 [==============================] - 2s 2ms/step - loss: 0.1350 - auc: 0.9873\n",
      "Epoch 10/10\n",
      "1120/1120 [==============================] - 3s 2ms/step - loss: 0.1281 - auc: 0.9882\n",
      "Epoch 1/10\n",
      "112/112 [==============================] - 1s 7ms/step - loss: 1.5138 - auc: 0.8838\n",
      "Epoch 2/10\n",
      "112/112 [==============================] - 1s 8ms/step - loss: 0.4857 - auc: 0.8598\n",
      "Epoch 3/10\n",
      "112/112 [==============================] - 1s 8ms/step - loss: 0.4170 - auc: 0.8948\n",
      "Epoch 4/10\n",
      "112/112 [==============================] - 1s 8ms/step - loss: 0.3370 - auc: 0.9283\n",
      "Epoch 5/10\n",
      "112/112 [==============================] - 1s 8ms/step - loss: 0.3161 - auc: 0.9373\n",
      "Epoch 6/10\n",
      "112/112 [==============================] - 1s 8ms/step - loss: 0.3141 - auc: 0.9392\n",
      "Epoch 7/10\n",
      "112/112 [==============================] - 1s 8ms/step - loss: 0.2790 - auc: 0.9510\n",
      "Epoch 8/10\n",
      "112/112 [==============================] - 1s 9ms/step - loss: 0.2475 - auc: 0.9611\n",
      "Epoch 9/10\n",
      "112/112 [==============================] - 1s 8ms/step - loss: 0.2490 - auc: 0.9608\n",
      "Epoch 10/10\n",
      "112/112 [==============================] - 1s 8ms/step - loss: 0.2394 - auc: 0.9637\n",
      "Epoch 1/10\n",
      "12/12 [==============================] - 1s 48ms/step - loss: 8.7963 - auc: 0.7071\n",
      "Epoch 2/10\n",
      "12/12 [==============================] - 1s 54ms/step - loss: 2.6101 - auc: 0.5906\n",
      "Epoch 3/10\n",
      "12/12 [==============================] - 1s 53ms/step - loss: 0.9265 - auc: 0.7096\n",
      "Epoch 4/10\n",
      "12/12 [==============================] - 1s 56ms/step - loss: 0.6769 - auc: 0.7607\n",
      "Epoch 5/10\n",
      "12/12 [==============================] - 1s 55ms/step - loss: 0.5707 - auc: 0.7948\n",
      "Epoch 6/10\n",
      "12/12 [==============================] - 1s 55ms/step - loss: 0.5549 - auc: 0.8030\n",
      "Epoch 7/10\n",
      "12/12 [==============================] - 1s 56ms/step - loss: 0.5509 - auc: 0.8131\n",
      "Epoch 8/10\n",
      "12/12 [==============================] - 1s 63ms/step - loss: 0.5123 - auc: 0.8322\n",
      "Epoch 9/10\n",
      "12/12 [==============================] - 1s 85ms/step - loss: 0.4549 - auc: 0.8632\n",
      "Epoch 10/10\n",
      "12/12 [==============================] - 1s 59ms/step - loss: 0.4199 - auc: 0.8839\n",
      "Epoch 1/30\n",
      "11200/11200 [==============================] - 19s 2ms/step - loss: 0.4801 - auc: 0.8852\n",
      "Epoch 2/30\n",
      "11200/11200 [==============================] - 18s 2ms/step - loss: 0.2328 - auc: 0.9658\n",
      "Epoch 3/30\n",
      "11200/11200 [==============================] - 18s 2ms/step - loss: 0.1925 - auc: 0.9763\n",
      "Epoch 4/30\n",
      "11200/11200 [==============================] - 18s 2ms/step - loss: 0.1731 - auc: 0.9804\n",
      "Epoch 5/30\n",
      "11200/11200 [==============================] - 18s 2ms/step - loss: 0.1620 - auc: 0.9825\n",
      "Epoch 6/30\n",
      "11200/11200 [==============================] - 19s 2ms/step - loss: 0.1526 - auc: 0.9843\n",
      "Epoch 7/30\n",
      "11200/11200 [==============================] - 17s 2ms/step - loss: 0.1468 - auc: 0.9853\n",
      "Epoch 8/30\n",
      "11200/11200 [==============================] - 21s 2ms/step - loss: 0.1408 - auc: 0.9864\n",
      "Epoch 9/30\n",
      "11200/11200 [==============================] - 18s 2ms/step - loss: 0.1368 - auc: 0.9870\n",
      "Epoch 10/30\n",
      "11200/11200 [==============================] - 17s 2ms/step - loss: 0.1317 - auc: 0.9877\n",
      "Epoch 11/30\n",
      "11200/11200 [==============================] - 18s 2ms/step - loss: 0.1291 - auc: 0.9880\n",
      "Epoch 12/30\n",
      "11200/11200 [==============================] - 18s 2ms/step - loss: 0.1252 - auc: 0.9886\n",
      "Epoch 13/30\n",
      "11200/11200 [==============================] - 18s 2ms/step - loss: 0.1222 - auc: 0.9891\n",
      "Epoch 14/30\n",
      "11200/11200 [==============================] - 18s 2ms/step - loss: 0.1203 - auc: 0.9892\n",
      "Epoch 15/30\n",
      "11200/11200 [==============================] - 18s 2ms/step - loss: 0.1178 - auc: 0.9897\n",
      "Epoch 16/30\n",
      "11200/11200 [==============================] - 18s 2ms/step - loss: 0.1157 - auc: 0.9899\n",
      "Epoch 17/30\n",
      "11200/11200 [==============================] - 18s 2ms/step - loss: 0.1134 - auc: 0.9903\n",
      "Epoch 18/30\n",
      "11200/11200 [==============================] - 17s 2ms/step - loss: 0.1114 - auc: 0.9903\n",
      "Epoch 19/30\n",
      "11200/11200 [==============================] - 17s 2ms/step - loss: 0.1120 - auc: 0.9905\n",
      "Epoch 20/30\n",
      "11200/11200 [==============================] - 18s 2ms/step - loss: 0.1104 - auc: 0.9909\n",
      "Epoch 21/30\n",
      "11200/11200 [==============================] - 17s 2ms/step - loss: 0.1067 - auc: 0.9912\n",
      "Epoch 22/30\n",
      "11200/11200 [==============================] - 17s 1ms/step - loss: 0.1054 - auc: 0.9914\n",
      "Epoch 23/30\n",
      "11200/11200 [==============================] - 17s 1ms/step - loss: 0.1036 - auc: 0.9915\n",
      "Epoch 24/30\n",
      "11200/11200 [==============================] - 17s 2ms/step - loss: 0.1024 - auc: 0.9918\n",
      "Epoch 25/30\n",
      "11200/11200 [==============================] - 19s 2ms/step - loss: 0.1042 - auc: 0.9917\n",
      "Epoch 26/30\n",
      "11200/11200 [==============================] - 18s 2ms/step - loss: 0.1006 - auc: 0.9920\n",
      "Epoch 27/30\n",
      "11200/11200 [==============================] - 18s 2ms/step - loss: 0.0982 - auc: 0.9923\n",
      "Epoch 28/30\n",
      "11200/11200 [==============================] - 18s 2ms/step - loss: 0.0977 - auc: 0.9923\n",
      "Epoch 29/30\n",
      "11200/11200 [==============================] - 18s 2ms/step - loss: 0.0979 - auc: 0.9924\n",
      "Epoch 30/30\n",
      "11200/11200 [==============================] - 18s 2ms/step - loss: 0.0961 - auc: 0.9925\n",
      "Epoch 1/30\n",
      "1120/1120 [==============================] - 3s 2ms/step - loss: 0.6463 - auc: 0.9416\n",
      "Epoch 2/30\n",
      "1120/1120 [==============================] - 3s 2ms/step - loss: 0.3127 - auc: 0.9391\n",
      "Epoch 3/30\n"
     ]
    },
    {
     "name": "stdout",
     "output_type": "stream",
     "text": [
      "1120/1120 [==============================] - 3s 2ms/step - loss: 0.2615 - auc: 0.9570\n",
      "Epoch 4/30\n",
      "1120/1120 [==============================] - 3s 2ms/step - loss: 0.2283 - auc: 0.9670\n",
      "Epoch 5/30\n",
      "1120/1120 [==============================] - 3s 2ms/step - loss: 0.2047 - auc: 0.9732\n",
      "Epoch 6/30\n",
      "1120/1120 [==============================] - 3s 2ms/step - loss: 0.1824 - auc: 0.9785\n",
      "Epoch 7/30\n",
      "1120/1120 [==============================] - 3s 2ms/step - loss: 0.1631 - auc: 0.9823\n",
      "Epoch 8/30\n",
      "1120/1120 [==============================] - 3s 2ms/step - loss: 0.1483 - auc: 0.9850\n",
      "Epoch 9/30\n",
      "1120/1120 [==============================] - 2s 2ms/step - loss: 0.1374 - auc: 0.9869\n",
      "Epoch 10/30\n",
      "1120/1120 [==============================] - 2s 2ms/step - loss: 0.1263 - auc: 0.9886\n",
      "Epoch 11/30\n",
      "1120/1120 [==============================] - 2s 2ms/step - loss: 0.1205 - auc: 0.9894\n",
      "Epoch 12/30\n",
      "1120/1120 [==============================] - 2s 2ms/step - loss: 0.1142 - auc: 0.9903\n",
      "Epoch 13/30\n",
      "1120/1120 [==============================] - 3s 2ms/step - loss: 0.1098 - auc: 0.9908\n",
      "Epoch 14/30\n",
      "1120/1120 [==============================] - 3s 2ms/step - loss: 0.1033 - auc: 0.9916\n",
      "Epoch 15/30\n",
      "1120/1120 [==============================] - 3s 2ms/step - loss: 0.1009 - auc: 0.9920\n",
      "Epoch 16/30\n",
      "1120/1120 [==============================] - 3s 2ms/step - loss: 0.0964 - auc: 0.9925\n",
      "Epoch 17/30\n",
      "1120/1120 [==============================] - 3s 2ms/step - loss: 0.0935 - auc: 0.9930\n",
      "Epoch 18/30\n",
      "1120/1120 [==============================] - 2s 2ms/step - loss: 0.0893 - auc: 0.9934\n",
      "Epoch 19/30\n",
      "1120/1120 [==============================] - 2s 2ms/step - loss: 0.0851 - auc: 0.9939\n",
      "Epoch 20/30\n",
      "1120/1120 [==============================] - 3s 2ms/step - loss: 0.0823 - auc: 0.9942\n",
      "Epoch 21/30\n",
      "1120/1120 [==============================] - 3s 2ms/step - loss: 0.0802 - auc: 0.9946\n",
      "Epoch 22/30\n",
      "1120/1120 [==============================] - 3s 3ms/step - loss: 0.0767 - auc: 0.9950\n",
      "Epoch 23/30\n",
      "1120/1120 [==============================] - 3s 2ms/step - loss: 0.0744 - auc: 0.9953\n",
      "Epoch 24/30\n",
      "1120/1120 [==============================] - 3s 2ms/step - loss: 0.0706 - auc: 0.9956\n",
      "Epoch 25/30\n",
      "1120/1120 [==============================] - 3s 2ms/step - loss: 0.0672 - auc: 0.9960\n",
      "Epoch 26/30\n",
      "1120/1120 [==============================] - 3s 3ms/step - loss: 0.0671 - auc: 0.9959\n",
      "Epoch 27/30\n",
      "1120/1120 [==============================] - 4s 3ms/step - loss: 0.0636 - auc: 0.9965\n",
      "Epoch 28/30\n",
      "1120/1120 [==============================] - 3s 3ms/step - loss: 0.0623 - auc: 0.9965\n",
      "Epoch 29/30\n",
      "1120/1120 [==============================] - 3s 3ms/step - loss: 0.0596 - auc: 0.9966\n",
      "Epoch 30/30\n",
      "1120/1120 [==============================] - 3s 3ms/step - loss: 0.0596 - auc: 0.9967\n",
      "Epoch 1/30\n",
      "112/112 [==============================] - 2s 9ms/step - loss: 1.5044 - auc: 0.9024\n",
      "Epoch 2/30\n",
      "112/112 [==============================] - 1s 9ms/step - loss: 0.4695 - auc: 0.8624\n",
      "Epoch 3/30\n",
      "112/112 [==============================] - 1s 9ms/step - loss: 0.4124 - auc: 0.8967\n",
      "Epoch 4/30\n",
      "112/112 [==============================] - 1s 8ms/step - loss: 0.3409 - auc: 0.9268\n",
      "Epoch 5/30\n",
      "112/112 [==============================] - 1s 8ms/step - loss: 0.3003 - auc: 0.9428\n",
      "Epoch 6/30\n",
      "112/112 [==============================] - 1s 9ms/step - loss: 0.3033 - auc: 0.9433\n",
      "Epoch 7/30\n",
      "112/112 [==============================] - 1s 9ms/step - loss: 0.2584 - auc: 0.9577\n",
      "Epoch 8/30\n",
      "112/112 [==============================] - 1s 10ms/step - loss: 0.2611 - auc: 0.9570\n",
      "Epoch 9/30\n",
      "112/112 [==============================] - 1s 12ms/step - loss: 0.2334 - auc: 0.9653\n",
      "Epoch 10/30\n",
      "112/112 [==============================] - 1s 11ms/step - loss: 0.2292 - auc: 0.9666\n",
      "Epoch 11/30\n",
      "112/112 [==============================] - 1s 13ms/step - loss: 0.2227 - auc: 0.9685\n",
      "Epoch 12/30\n",
      "112/112 [==============================] - 1s 12ms/step - loss: 0.2150 - auc: 0.9706\n",
      "Epoch 13/30\n",
      "112/112 [==============================] - 1s 10ms/step - loss: 0.2029 - auc: 0.9736\n",
      "Epoch 14/30\n",
      "112/112 [==============================] - 2s 14ms/step - loss: 0.2019 - auc: 0.9738\n",
      "Epoch 15/30\n",
      "112/112 [==============================] - 1s 12ms/step - loss: 0.1919 - auc: 0.9763\n",
      "Epoch 16/30\n",
      "112/112 [==============================] - 2s 14ms/step - loss: 0.2083 - auc: 0.9723\n",
      "Epoch 17/30\n",
      "112/112 [==============================] - 2s 17ms/step - loss: 0.1810 - auc: 0.9787\n",
      "Epoch 18/30\n",
      "112/112 [==============================] - 2s 16ms/step - loss: 0.1781 - auc: 0.9794\n",
      "Epoch 19/30\n",
      "112/112 [==============================] - 2s 18ms/step - loss: 0.1705 - auc: 0.9809\n",
      "Epoch 20/30\n",
      "112/112 [==============================] - 2s 16ms/step - loss: 0.1623 - auc: 0.9826\n",
      "Epoch 21/30\n",
      "112/112 [==============================] - 2s 14ms/step - loss: 0.1594 - auc: 0.9831\n",
      "Epoch 22/30\n",
      "112/112 [==============================] - 1s 13ms/step - loss: 0.1563 - auc: 0.9838\n",
      "Epoch 23/30\n",
      "112/112 [==============================] - 2s 15ms/step - loss: 0.1580 - auc: 0.9835\n",
      "Epoch 24/30\n",
      "112/112 [==============================] - 2s 16ms/step - loss: 0.1496 - auc: 0.9851\n",
      "Epoch 25/30\n",
      "112/112 [==============================] - 1s 13ms/step - loss: 0.1436 - auc: 0.9862\n",
      "Epoch 26/30\n",
      "112/112 [==============================] - 1s 9ms/step - loss: 0.1483 - auc: 0.9852\n",
      "Epoch 27/30\n",
      "112/112 [==============================] - 1s 9ms/step - loss: 0.1350 - auc: 0.9877\n",
      "Epoch 28/30\n",
      "112/112 [==============================] - 1s 9ms/step - loss: 0.1358 - auc: 0.9875\n",
      "Epoch 29/30\n",
      "112/112 [==============================] - 1s 9ms/step - loss: 0.1334 - auc: 0.9879\n",
      "Epoch 30/30\n",
      "112/112 [==============================] - 1s 8ms/step - loss: 0.1368 - auc: 0.9874\n",
      "Epoch 1/30\n",
      "12/12 [==============================] - 1s 56ms/step - loss: 14.1849 - auc: 0.7165\n",
      "Epoch 2/30\n",
      "12/12 [==============================] - 1s 53ms/step - loss: 7.4369 - auc: 0.5278\n",
      "Epoch 3/30\n",
      "12/12 [==============================] - 1s 53ms/step - loss: 2.4700 - auc: 0.6027\n",
      "Epoch 4/30\n",
      "12/12 [==============================] - 1s 54ms/step - loss: 1.0718 - auc: 0.7188\n",
      "Epoch 5/30\n",
      "12/12 [==============================] - 1s 53ms/step - loss: 0.6699 - auc: 0.7889\n",
      "Epoch 6/30\n",
      "12/12 [==============================] - 1s 54ms/step - loss: 0.5494 - auc: 0.8171\n",
      "Epoch 7/30\n",
      "12/12 [==============================] - 1s 64ms/step - loss: 0.6595 - auc: 0.7733\n",
      "Epoch 8/30\n",
      "12/12 [==============================] - 1s 57ms/step - loss: 0.5662 - auc: 0.8058\n",
      "Epoch 9/30\n",
      "12/12 [==============================] - 1s 54ms/step - loss: 0.4786 - auc: 0.8474\n",
      "Epoch 10/30\n",
      "12/12 [==============================] - 1s 69ms/step - loss: 0.4453 - auc: 0.8679\n",
      "Epoch 11/30\n",
      "12/12 [==============================] - 1s 65ms/step - loss: 0.4214 - auc: 0.8841\n",
      "Epoch 12/30\n",
      "12/12 [==============================] - 1s 65ms/step - loss: 0.4340 - auc: 0.8775\n",
      "Epoch 13/30\n",
      "12/12 [==============================] - 1s 62ms/step - loss: 0.4767 - auc: 0.8575\n",
      "Epoch 14/30\n",
      "12/12 [==============================] - 1s 60ms/step - loss: 0.5272 - auc: 0.8420\n",
      "Epoch 15/30\n",
      "12/12 [==============================] - 1s 61ms/step - loss: 0.4118 - auc: 0.8897\n",
      "Epoch 16/30\n",
      "12/12 [==============================] - 1s 57ms/step - loss: 0.3830 - auc: 0.9050\n",
      "Epoch 17/30\n",
      "12/12 [==============================] - 1s 55ms/step - loss: 0.3910 - auc: 0.9007\n",
      "Epoch 18/30\n",
      "12/12 [==============================] - 1s 62ms/step - loss: 0.3961 - auc: 0.8989\n",
      "Epoch 19/30\n",
      "12/12 [==============================] - 1s 58ms/step - loss: 0.3707 - auc: 0.9115\n",
      "Epoch 20/30\n",
      "12/12 [==============================] - 1s 58ms/step - loss: 0.3574 - auc: 0.9180\n",
      "Epoch 21/30\n",
      "12/12 [==============================] - 1s 59ms/step - loss: 0.3495 - auc: 0.9217\n",
      "Epoch 22/30\n",
      "12/12 [==============================] - 1s 63ms/step - loss: 0.3371 - auc: 0.9277\n",
      "Epoch 23/30\n",
      "12/12 [==============================] - 1s 55ms/step - loss: 0.3340 - auc: 0.9287\n",
      "Epoch 24/30\n",
      "12/12 [==============================] - 1s 56ms/step - loss: 0.3326 - auc: 0.9296\n",
      "Epoch 25/30\n",
      "12/12 [==============================] - 1s 56ms/step - loss: 0.4017 - auc: 0.9014\n",
      "Epoch 26/30\n",
      "12/12 [==============================] - 1s 58ms/step - loss: 0.3726 - auc: 0.9125\n",
      "Epoch 27/30\n",
      "12/12 [==============================] - 1s 58ms/step - loss: 0.3402 - auc: 0.9263\n",
      "Epoch 28/30\n"
     ]
    },
    {
     "name": "stdout",
     "output_type": "stream",
     "text": [
      "12/12 [==============================] - 1s 60ms/step - loss: 0.3196 - auc: 0.9349\n",
      "Epoch 29/30\n",
      "12/12 [==============================] - 1s 57ms/step - loss: 0.3040 - auc: 0.9415\n",
      "Epoch 30/30\n",
      "12/12 [==============================] - 1s 55ms/step - loss: 0.3063 - auc: 0.9405\n",
      "Epoch 1/100\n",
      "11200/11200 [==============================] - 17s 2ms/step - loss: 0.4838 - auc: 0.9164\n",
      "Epoch 2/100\n",
      "11200/11200 [==============================] - 18s 2ms/step - loss: 0.2280 - auc: 0.9670\n",
      "Epoch 3/100\n",
      "11200/11200 [==============================] - 17s 2ms/step - loss: 0.1914 - auc: 0.9764\n",
      "Epoch 4/100\n",
      "11200/11200 [==============================] - 17s 2ms/step - loss: 0.1721 - auc: 0.9806\n",
      "Epoch 5/100\n",
      "11200/11200 [==============================] - 17s 2ms/step - loss: 0.1604 - auc: 0.9827\n",
      "Epoch 6/100\n",
      "11200/11200 [==============================] - 17s 2ms/step - loss: 0.1492 - auc: 0.9848\n",
      "Epoch 7/100\n",
      "11200/11200 [==============================] - 16s 1ms/step - loss: 0.1420 - auc: 0.9861\n",
      "Epoch 8/100\n",
      "11200/11200 [==============================] - 16s 1ms/step - loss: 0.1380 - auc: 0.9867\n",
      "Epoch 9/100\n",
      "11200/11200 [==============================] - 17s 2ms/step - loss: 0.1315 - auc: 0.9877\n",
      "Epoch 10/100\n",
      "11200/11200 [==============================] - 17s 1ms/step - loss: 0.1282 - auc: 0.9882\n",
      "Epoch 11/100\n",
      "11200/11200 [==============================] - 17s 2ms/step - loss: 0.1252 - auc: 0.9887: 0s - loss: 0.1\n",
      "Epoch 12/100\n",
      "11200/11200 [==============================] - 17s 2ms/step - loss: 0.1220 - auc: 0.9891\n",
      "Epoch 13/100\n",
      "11200/11200 [==============================] - 17s 1ms/step - loss: 0.1187 - auc: 0.9895\n",
      "Epoch 14/100\n",
      "11200/11200 [==============================] - 17s 1ms/step - loss: 0.1169 - auc: 0.9898\n",
      "Epoch 15/100\n",
      "11200/11200 [==============================] - 17s 2ms/step - loss: 0.1146 - auc: 0.9901\n",
      "Epoch 16/100\n",
      "11200/11200 [==============================] - 17s 2ms/step - loss: 0.1106 - auc: 0.9906\n",
      "Epoch 17/100\n",
      "11200/11200 [==============================] - 17s 1ms/step - loss: 0.1106 - auc: 0.9907\n",
      "Epoch 18/100\n",
      "11200/11200 [==============================] - 16s 1ms/step - loss: 0.1067 - auc: 0.9911\n",
      "Epoch 19/100\n",
      "11200/11200 [==============================] - 16s 1ms/step - loss: 0.1069 - auc: 0.9913\n",
      "Epoch 20/100\n",
      "11200/11200 [==============================] - 18s 2ms/step - loss: 0.1032 - auc: 0.9915\n",
      "Epoch 21/100\n",
      "11200/11200 [==============================] - 18s 2ms/step - loss: 0.1032 - auc: 0.9917\n",
      "Epoch 22/100\n",
      "11200/11200 [==============================] - 18s 2ms/step - loss: 0.1004 - auc: 0.9921\n",
      "Epoch 23/100\n",
      "11200/11200 [==============================] - 20s 2ms/step - loss: 0.0991 - auc: 0.9921\n",
      "Epoch 24/100\n",
      "11200/11200 [==============================] - 18s 2ms/step - loss: 0.0981 - auc: 0.9922\n",
      "Epoch 25/100\n",
      "11200/11200 [==============================] - 18s 2ms/step - loss: 0.0973 - auc: 0.9923\n",
      "Epoch 26/100\n",
      "11200/11200 [==============================] - 19s 2ms/step - loss: 0.1012 - auc: 0.9922\n",
      "Epoch 27/100\n",
      "11200/11200 [==============================] - 18s 2ms/step - loss: 0.1107 - auc: 0.9926\n",
      "Epoch 28/100\n",
      "11200/11200 [==============================] - 17s 2ms/step - loss: 0.0923 - auc: 0.9930\n",
      "Epoch 29/100\n",
      "11200/11200 [==============================] - 17s 2ms/step - loss: 0.0916 - auc: 0.9929\n",
      "Epoch 30/100\n",
      "11200/11200 [==============================] - 18s 2ms/step - loss: 0.0929 - auc: 0.9929\n",
      "Epoch 31/100\n",
      "11200/11200 [==============================] - 18s 2ms/step - loss: 0.0885 - auc: 0.9935\n",
      "Epoch 32/100\n",
      "11200/11200 [==============================] - 17s 2ms/step - loss: 0.0885 - auc: 0.9933\n",
      "Epoch 33/100\n",
      "11200/11200 [==============================] - 18s 2ms/step - loss: 0.0886 - auc: 0.9936\n",
      "Epoch 34/100\n",
      "11200/11200 [==============================] - 17s 2ms/step - loss: 0.0874 - auc: 0.9936\n",
      "Epoch 35/100\n",
      "11200/11200 [==============================] - 17s 2ms/step - loss: 0.0871 - auc: 0.9937\n",
      "Epoch 36/100\n",
      "11200/11200 [==============================] - 17s 2ms/step - loss: 0.0868 - auc: 0.9938\n",
      "Epoch 37/100\n",
      "11200/11200 [==============================] - 19s 2ms/step - loss: 0.0837 - auc: 0.9941\n",
      "Epoch 38/100\n",
      "11200/11200 [==============================] - 18s 2ms/step - loss: 0.0854 - auc: 0.9940\n",
      "Epoch 39/100\n",
      "11200/11200 [==============================] - 18s 2ms/step - loss: 0.0828 - auc: 0.9941\n",
      "Epoch 40/100\n",
      "11200/11200 [==============================] - 17s 2ms/step - loss: 0.0959 - auc: 0.9940\n",
      "Epoch 41/100\n",
      "11200/11200 [==============================] - 19s 2ms/step - loss: 0.0791 - auc: 0.9946\n",
      "Epoch 42/100\n",
      "11200/11200 [==============================] - 18s 2ms/step - loss: 0.0820 - auc: 0.9942\n",
      "Epoch 43/100\n",
      "11200/11200 [==============================] - 18s 2ms/step - loss: 0.0788 - auc: 0.9948\n",
      "Epoch 44/100\n",
      "11200/11200 [==============================] - 18s 2ms/step - loss: 0.0818 - auc: 0.9945\n",
      "Epoch 45/100\n",
      "11200/11200 [==============================] - 19s 2ms/step - loss: 0.0801 - auc: 0.9947\n",
      "Epoch 46/100\n",
      "11200/11200 [==============================] - 19s 2ms/step - loss: 0.0776 - auc: 0.9948\n",
      "Epoch 47/100\n",
      "11200/11200 [==============================] - 18s 2ms/step - loss: 0.0771 - auc: 0.9949\n",
      "Epoch 48/100\n",
      "11200/11200 [==============================] - 17s 2ms/step - loss: 0.0795 - auc: 0.9947\n",
      "Epoch 49/100\n",
      "11200/11200 [==============================] - 18s 2ms/step - loss: 0.0826 - auc: 0.9947\n",
      "Epoch 50/100\n",
      "11200/11200 [==============================] - 17s 2ms/step - loss: 0.0768 - auc: 0.9951\n",
      "Epoch 51/100\n",
      "11200/11200 [==============================] - 17s 2ms/step - loss: 0.0764 - auc: 0.9951\n",
      "Epoch 52/100\n",
      "11200/11200 [==============================] - 18s 2ms/step - loss: 0.0873 - auc: 0.9948\n",
      "Epoch 53/100\n",
      "11200/11200 [==============================] - 18s 2ms/step - loss: 0.0817 - auc: 0.9951\n",
      "Epoch 54/100\n",
      "11200/11200 [==============================] - 20s 2ms/step - loss: 0.0744 - auc: 0.9951\n",
      "Epoch 55/100\n",
      "11200/11200 [==============================] - 20s 2ms/step - loss: 0.0723 - auc: 0.9954\n",
      "Epoch 56/100\n",
      "11200/11200 [==============================] - 20s 2ms/step - loss: 0.0726 - auc: 0.9955\n",
      "Epoch 57/100\n",
      "11200/11200 [==============================] - 19s 2ms/step - loss: 0.0720 - auc: 0.9954\n",
      "Epoch 58/100\n",
      "11200/11200 [==============================] - 18s 2ms/step - loss: 0.0744 - auc: 0.9955\n",
      "Epoch 59/100\n",
      "11200/11200 [==============================] - 18s 2ms/step - loss: 0.0797 - auc: 0.9950\n",
      "Epoch 60/100\n",
      "11200/11200 [==============================] - 18s 2ms/step - loss: 0.0699 - auc: 0.9958\n",
      "Epoch 61/100\n",
      "11200/11200 [==============================] - 18s 2ms/step - loss: 0.0710 - auc: 0.9956\n",
      "Epoch 62/100\n",
      "11200/11200 [==============================] - 18s 2ms/step - loss: 0.0685 - auc: 0.9959\n",
      "Epoch 63/100\n",
      "11200/11200 [==============================] - 20s 2ms/step - loss: 0.0754 - auc: 0.9956\n",
      "Epoch 64/100\n",
      "11200/11200 [==============================] - 19s 2ms/step - loss: 0.0692 - auc: 0.9959\n",
      "Epoch 65/100\n",
      "11200/11200 [==============================] - 19s 2ms/step - loss: 0.0667 - auc: 0.9960\n",
      "Epoch 66/100\n",
      "11200/11200 [==============================] - 19s 2ms/step - loss: 0.0691 - auc: 0.9959\n",
      "Epoch 67/100\n",
      "11200/11200 [==============================] - 18s 2ms/step - loss: 0.0754 - auc: 0.9956\n",
      "Epoch 68/100\n",
      "11200/11200 [==============================] - 19s 2ms/step - loss: 0.0712 - auc: 0.9960\n",
      "Epoch 69/100\n",
      "11200/11200 [==============================] - 18s 2ms/step - loss: 0.0696 - auc: 0.9959\n",
      "Epoch 70/100\n",
      "11200/11200 [==============================] - 18s 2ms/step - loss: 0.0777 - auc: 0.9959\n",
      "Epoch 71/100\n",
      "11200/11200 [==============================] - 17s 2ms/step - loss: 0.0741 - auc: 0.9956\n",
      "Epoch 72/100\n",
      "11200/11200 [==============================] - 18s 2ms/step - loss: 0.0703 - auc: 0.9960\n",
      "Epoch 73/100\n",
      "11200/11200 [==============================] - 18s 2ms/step - loss: 0.0679 - auc: 0.9960\n",
      "Epoch 74/100\n",
      "11200/11200 [==============================] - 18s 2ms/step - loss: 0.0699 - auc: 0.9959\n",
      "Epoch 75/100\n",
      "11200/11200 [==============================] - 17s 2ms/step - loss: 0.0707 - auc: 0.9960\n",
      "Epoch 76/100\n",
      "11200/11200 [==============================] - 18s 2ms/step - loss: 0.0663 - auc: 0.9960\n",
      "Epoch 77/100\n",
      "11200/11200 [==============================] - 18s 2ms/step - loss: 0.0656 - auc: 0.9961\n",
      "Epoch 78/100\n"
     ]
    },
    {
     "name": "stdout",
     "output_type": "stream",
     "text": [
      "11200/11200 [==============================] - 18s 2ms/step - loss: 0.0689 - auc: 0.9960\n",
      "Epoch 79/100\n",
      "11200/11200 [==============================] - 17s 2ms/step - loss: 0.0666 - auc: 0.9957\n",
      "Epoch 80/100\n",
      "11200/11200 [==============================] - 18s 2ms/step - loss: 0.0694 - auc: 0.9952\n",
      "Epoch 81/100\n",
      "11200/11200 [==============================] - 18s 2ms/step - loss: 0.0703 - auc: 0.9954\n",
      "Epoch 82/100\n",
      "11200/11200 [==============================] - 19s 2ms/step - loss: 0.0748 - auc: 0.9945\n",
      "Epoch 83/100\n",
      "11200/11200 [==============================] - 18s 2ms/step - loss: 0.0662 - auc: 0.9952\n",
      "Epoch 84/100\n",
      "11200/11200 [==============================] - 18s 2ms/step - loss: 0.0700 - auc: 0.9950\n",
      "Epoch 85/100\n",
      "11200/11200 [==============================] - 17s 1ms/step - loss: 0.0636 - auc: 0.9953\n",
      "Epoch 86/100\n",
      "11200/11200 [==============================] - 17s 2ms/step - loss: 0.0706 - auc: 0.9947\n",
      "Epoch 87/100\n",
      "11200/11200 [==============================] - 18s 2ms/step - loss: 0.0639 - auc: 0.9951\n",
      "Epoch 88/100\n",
      "11200/11200 [==============================] - 17s 2ms/step - loss: 0.0694 - auc: 0.9946\n",
      "Epoch 89/100\n",
      "11200/11200 [==============================] - 18s 2ms/step - loss: 0.0643 - auc: 0.9951\n",
      "Epoch 90/100\n",
      "11200/11200 [==============================] - 18s 2ms/step - loss: 0.0629 - auc: 0.9950\n",
      "Epoch 91/100\n",
      "11200/11200 [==============================] - 18s 2ms/step - loss: 0.0660 - auc: 0.9949\n",
      "Epoch 92/100\n",
      "11200/11200 [==============================] - 19s 2ms/step - loss: 0.0635 - auc: 0.9952\n",
      "Epoch 93/100\n",
      "11200/11200 [==============================] - 18s 2ms/step - loss: 0.0649 - auc: 0.9951\n",
      "Epoch 94/100\n",
      "11200/11200 [==============================] - 18s 2ms/step - loss: 0.0585 - auc: 0.9953\n",
      "Epoch 95/100\n",
      "11200/11200 [==============================] - 19s 2ms/step - loss: 0.0698 - auc: 0.9948\n",
      "Epoch 96/100\n",
      "11200/11200 [==============================] - 18s 2ms/step - loss: 0.0631 - auc: 0.9950\n",
      "Epoch 97/100\n",
      "11200/11200 [==============================] - 18s 2ms/step - loss: 0.0634 - auc: 0.9953\n",
      "Epoch 98/100\n",
      "11200/11200 [==============================] - 17s 2ms/step - loss: 0.0623 - auc: 0.9953\n",
      "Epoch 99/100\n",
      "11200/11200 [==============================] - 18s 2ms/step - loss: 0.0608 - auc: 0.9952\n",
      "Epoch 100/100\n",
      "11200/11200 [==============================] - 17s 2ms/step - loss: 0.0622 - auc: 0.9953\n",
      "Epoch 1/100\n",
      "1120/1120 [==============================] - 3s 2ms/step - loss: 0.6594 - auc: 0.9476\n",
      "Epoch 2/100\n",
      "1120/1120 [==============================] - 3s 3ms/step - loss: 0.2992 - auc: 0.9436\n",
      "Epoch 3/100\n",
      "1120/1120 [==============================] - 3s 3ms/step - loss: 0.2566 - auc: 0.9584\n",
      "Epoch 4/100\n",
      "1120/1120 [==============================] - 3s 3ms/step - loss: 0.2228 - auc: 0.9683\n",
      "Epoch 5/100\n",
      "1120/1120 [==============================] - 3s 3ms/step - loss: 0.1997 - auc: 0.9743\n",
      "Epoch 6/100\n",
      "1120/1120 [==============================] - 3s 3ms/step - loss: 0.1785 - auc: 0.9791\n",
      "Epoch 7/100\n",
      "1120/1120 [==============================] - 3s 2ms/step - loss: 0.1610 - auc: 0.9826\n",
      "Epoch 8/100\n",
      "1120/1120 [==============================] - 3s 3ms/step - loss: 0.1460 - auc: 0.9854\n",
      "Epoch 9/100\n",
      "1120/1120 [==============================] - 3s 3ms/step - loss: 0.1365 - auc: 0.9869\n",
      "Epoch 10/100\n",
      "1120/1120 [==============================] - 3s 2ms/step - loss: 0.1273 - auc: 0.9884\n",
      "Epoch 11/100\n",
      "1120/1120 [==============================] - 3s 3ms/step - loss: 0.1201 - auc: 0.9895\n",
      "Epoch 12/100\n",
      "1120/1120 [==============================] - 3s 3ms/step - loss: 0.1160 - auc: 0.9900\n",
      "Epoch 13/100\n",
      "1120/1120 [==============================] - 3s 3ms/step - loss: 0.1092 - auc: 0.9909\n",
      "Epoch 14/100\n",
      "1120/1120 [==============================] - 3s 2ms/step - loss: 0.1028 - auc: 0.9917\n",
      "Epoch 15/100\n",
      "1120/1120 [==============================] - 3s 2ms/step - loss: 0.0992 - auc: 0.9923\n",
      "Epoch 16/100\n",
      "1120/1120 [==============================] - 3s 3ms/step - loss: 0.0956 - auc: 0.9926\n",
      "Epoch 17/100\n",
      "1120/1120 [==============================] - 3s 2ms/step - loss: 0.0898 - auc: 0.9934\n",
      "Epoch 18/100\n",
      "1120/1120 [==============================] - 3s 2ms/step - loss: 0.0884 - auc: 0.9936\n",
      "Epoch 19/100\n",
      "1120/1120 [==============================] - 3s 2ms/step - loss: 0.0842 - auc: 0.9939\n",
      "Epoch 20/100\n",
      "1120/1120 [==============================] - 3s 2ms/step - loss: 0.0819 - auc: 0.9944\n",
      "Epoch 21/100\n",
      "1120/1120 [==============================] - 3s 2ms/step - loss: 0.0781 - auc: 0.9948\n",
      "Epoch 22/100\n",
      "1120/1120 [==============================] - 3s 2ms/step - loss: 0.0745 - auc: 0.9952\n",
      "Epoch 23/100\n",
      "1120/1120 [==============================] - 2s 2ms/step - loss: 0.0721 - auc: 0.9954\n",
      "Epoch 24/100\n",
      "1120/1120 [==============================] - 3s 2ms/step - loss: 0.0701 - auc: 0.9957\n",
      "Epoch 25/100\n",
      "1120/1120 [==============================] - 3s 2ms/step - loss: 0.0682 - auc: 0.9958\n",
      "Epoch 26/100\n",
      "1120/1120 [==============================] - 3s 2ms/step - loss: 0.0640 - auc: 0.9963\n",
      "Epoch 27/100\n",
      "1120/1120 [==============================] - 3s 2ms/step - loss: 0.0625 - auc: 0.9964\n",
      "Epoch 28/100\n",
      "1120/1120 [==============================] - 3s 2ms/step - loss: 0.0620 - auc: 0.9965\n",
      "Epoch 29/100\n",
      "1120/1120 [==============================] - 3s 2ms/step - loss: 0.0582 - auc: 0.9968\n",
      "Epoch 30/100\n",
      "1120/1120 [==============================] - 3s 2ms/step - loss: 0.0574 - auc: 0.9970\n",
      "Epoch 31/100\n",
      "1120/1120 [==============================] - 3s 2ms/step - loss: 0.0563 - auc: 0.9970\n",
      "Epoch 32/100\n",
      "1120/1120 [==============================] - 3s 2ms/step - loss: 0.0534 - auc: 0.9973\n",
      "Epoch 33/100\n",
      "1120/1120 [==============================] - 3s 2ms/step - loss: 0.0515 - auc: 0.9973\n",
      "Epoch 34/100\n",
      "1120/1120 [==============================] - 3s 3ms/step - loss: 0.0502 - auc: 0.9974\n",
      "Epoch 35/100\n",
      "1120/1120 [==============================] - 3s 3ms/step - loss: 0.0502 - auc: 0.9975\n",
      "Epoch 36/100\n",
      "1120/1120 [==============================] - 3s 2ms/step - loss: 0.0504 - auc: 0.9975\n",
      "Epoch 37/100\n",
      "1120/1120 [==============================] - 3s 2ms/step - loss: 0.0463 - auc: 0.9979\n",
      "Epoch 38/100\n",
      "1120/1120 [==============================] - 3s 2ms/step - loss: 0.0460 - auc: 0.9978\n",
      "Epoch 39/100\n",
      "1120/1120 [==============================] - 3s 2ms/step - loss: 0.0440 - auc: 0.9981\n",
      "Epoch 40/100\n",
      "1120/1120 [==============================] - 3s 2ms/step - loss: 0.0439 - auc: 0.9981\n",
      "Epoch 41/100\n",
      "1120/1120 [==============================] - 3s 2ms/step - loss: 0.0437 - auc: 0.9980\n",
      "Epoch 42/100\n",
      "1120/1120 [==============================] - 3s 2ms/step - loss: 0.0422 - auc: 0.9981\n",
      "Epoch 43/100\n",
      "1120/1120 [==============================] - 3s 2ms/step - loss: 0.0413 - auc: 0.9982\n",
      "Epoch 44/100\n",
      "1120/1120 [==============================] - 3s 2ms/step - loss: 0.0400 - auc: 0.9982\n",
      "Epoch 45/100\n",
      "1120/1120 [==============================] - 3s 2ms/step - loss: 0.0414 - auc: 0.9981\n",
      "Epoch 46/100\n",
      "1120/1120 [==============================] - 3s 2ms/step - loss: 0.0386 - auc: 0.9984\n",
      "Epoch 47/100\n",
      "1120/1120 [==============================] - 3s 3ms/step - loss: 0.0385 - auc: 0.9984\n",
      "Epoch 48/100\n",
      "1120/1120 [==============================] - 3s 2ms/step - loss: 0.0374 - auc: 0.9985\n",
      "Epoch 49/100\n",
      "1120/1120 [==============================] - 3s 2ms/step - loss: 0.0371 - auc: 0.9985\n",
      "Epoch 50/100\n",
      "1120/1120 [==============================] - 3s 2ms/step - loss: 0.0376 - auc: 0.9984\n",
      "Epoch 51/100\n",
      "1120/1120 [==============================] - 3s 2ms/step - loss: 0.0360 - auc: 0.9986\n",
      "Epoch 52/100\n",
      "1120/1120 [==============================] - 3s 2ms/step - loss: 0.0350 - auc: 0.9986\n",
      "Epoch 53/100\n",
      "1120/1120 [==============================] - 3s 2ms/step - loss: 0.0335 - auc: 0.9987\n",
      "Epoch 54/100\n",
      "1120/1120 [==============================] - 3s 2ms/step - loss: 0.0359 - auc: 0.9986\n",
      "Epoch 55/100\n",
      "1120/1120 [==============================] - 3s 2ms/step - loss: 0.0341 - auc: 0.9986\n",
      "Epoch 56/100\n",
      "1120/1120 [==============================] - 3s 2ms/step - loss: 0.0333 - auc: 0.9986\n",
      "Epoch 57/100\n",
      "1120/1120 [==============================] - 3s 2ms/step - loss: 0.0295 - auc: 0.9989\n",
      "Epoch 58/100\n",
      "1120/1120 [==============================] - 3s 2ms/step - loss: 0.0334 - auc: 0.9986\n",
      "Epoch 59/100\n",
      "1120/1120 [==============================] - 3s 2ms/step - loss: 0.0314 - auc: 0.9989\n",
      "Epoch 60/100\n"
     ]
    },
    {
     "name": "stdout",
     "output_type": "stream",
     "text": [
      "1120/1120 [==============================] - 2s 2ms/step - loss: 0.0310 - auc: 0.9988\n",
      "Epoch 61/100\n",
      "1120/1120 [==============================] - 3s 2ms/step - loss: 0.0314 - auc: 0.9988\n",
      "Epoch 62/100\n",
      "1120/1120 [==============================] - 3s 2ms/step - loss: 0.0297 - auc: 0.9990\n",
      "Epoch 63/100\n",
      "1120/1120 [==============================] - 3s 2ms/step - loss: 0.0310 - auc: 0.9988\n",
      "Epoch 64/100\n",
      "1120/1120 [==============================] - 3s 3ms/step - loss: 0.0292 - auc: 0.9989\n",
      "Epoch 65/100\n",
      "1120/1120 [==============================] - 3s 3ms/step - loss: 0.0296 - auc: 0.9988\n",
      "Epoch 66/100\n",
      "1120/1120 [==============================] - 3s 3ms/step - loss: 0.0274 - auc: 0.9989\n",
      "Epoch 67/100\n",
      "1120/1120 [==============================] - 3s 2ms/step - loss: 0.0307 - auc: 0.9988\n",
      "Epoch 68/100\n",
      "1120/1120 [==============================] - 3s 3ms/step - loss: 0.0258 - auc: 0.9991\n",
      "Epoch 69/100\n",
      "1120/1120 [==============================] - 3s 3ms/step - loss: 0.0307 - auc: 0.9987\n",
      "Epoch 70/100\n",
      "1120/1120 [==============================] - 3s 2ms/step - loss: 0.0277 - auc: 0.9989\n",
      "Epoch 71/100\n",
      "1120/1120 [==============================] - 3s 2ms/step - loss: 0.0273 - auc: 0.9989\n",
      "Epoch 72/100\n",
      "1120/1120 [==============================] - 3s 3ms/step - loss: 0.0259 - auc: 0.9991\n",
      "Epoch 73/100\n",
      "1120/1120 [==============================] - 3s 2ms/step - loss: 0.0259 - auc: 0.9991\n",
      "Epoch 74/100\n",
      "1120/1120 [==============================] - 3s 2ms/step - loss: 0.0256 - auc: 0.9991\n",
      "Epoch 75/100\n",
      "1120/1120 [==============================] - 3s 2ms/step - loss: 0.0269 - auc: 0.9990\n",
      "Epoch 76/100\n",
      "1120/1120 [==============================] - 3s 2ms/step - loss: 0.0253 - auc: 0.9990\n",
      "Epoch 77/100\n",
      "1120/1120 [==============================] - 2s 2ms/step - loss: 0.0262 - auc: 0.9991\n",
      "Epoch 78/100\n",
      "1120/1120 [==============================] - 2s 2ms/step - loss: 0.0267 - auc: 0.9990\n",
      "Epoch 79/100\n",
      "1120/1120 [==============================] - 3s 2ms/step - loss: 0.0245 - auc: 0.9990\n",
      "Epoch 80/100\n",
      "1120/1120 [==============================] - 3s 2ms/step - loss: 0.0264 - auc: 0.9989\n",
      "Epoch 81/100\n",
      "1120/1120 [==============================] - 3s 2ms/step - loss: 0.0251 - auc: 0.9990\n",
      "Epoch 82/100\n",
      "1120/1120 [==============================] - 3s 2ms/step - loss: 0.0235 - auc: 0.9992\n",
      "Epoch 83/100\n",
      "1120/1120 [==============================] - 2s 2ms/step - loss: 0.0253 - auc: 0.9991\n",
      "Epoch 84/100\n",
      "1120/1120 [==============================] - 3s 2ms/step - loss: 0.0257 - auc: 0.9990\n",
      "Epoch 85/100\n",
      "1120/1120 [==============================] - 3s 2ms/step - loss: 0.0234 - auc: 0.9991\n",
      "Epoch 86/100\n",
      "1120/1120 [==============================] - 3s 2ms/step - loss: 0.0246 - auc: 0.9991\n",
      "Epoch 87/100\n",
      "1120/1120 [==============================] - 2s 2ms/step - loss: 0.0225 - auc: 0.9991\n",
      "Epoch 88/100\n",
      "1120/1120 [==============================] - 3s 2ms/step - loss: 0.0226 - auc: 0.9991\n",
      "Epoch 89/100\n",
      "1120/1120 [==============================] - 2s 2ms/step - loss: 0.0237 - auc: 0.9991\n",
      "Epoch 90/100\n",
      "1120/1120 [==============================] - 2s 2ms/step - loss: 0.0232 - auc: 0.9992\n",
      "Epoch 91/100\n",
      "1120/1120 [==============================] - 3s 2ms/step - loss: 0.0223 - auc: 0.9992\n",
      "Epoch 92/100\n",
      "1120/1120 [==============================] - 3s 3ms/step - loss: 0.0287 - auc: 0.9987\n",
      "Epoch 93/100\n",
      "1120/1120 [==============================] - 3s 2ms/step - loss: 0.0205 - auc: 0.9993\n",
      "Epoch 94/100\n",
      "1120/1120 [==============================] - 3s 2ms/step - loss: 0.0251 - auc: 0.9990\n",
      "Epoch 95/100\n",
      "1120/1120 [==============================] - 3s 2ms/step - loss: 0.0233 - auc: 0.9991\n",
      "Epoch 96/100\n",
      "1120/1120 [==============================] - 3s 2ms/step - loss: 0.0199 - auc: 0.9994\n",
      "Epoch 97/100\n",
      "1120/1120 [==============================] - 3s 2ms/step - loss: 0.0237 - auc: 0.9991\n",
      "Epoch 98/100\n",
      "1120/1120 [==============================] - 3s 2ms/step - loss: 0.0224 - auc: 0.9992\n",
      "Epoch 99/100\n",
      "1120/1120 [==============================] - 3s 3ms/step - loss: 0.0228 - auc: 0.9991\n",
      "Epoch 100/100\n",
      "1120/1120 [==============================] - 3s 2ms/step - loss: 0.0198 - auc: 0.9992\n",
      "Epoch 1/100\n",
      "112/112 [==============================] - 1s 7ms/step - loss: 2.4551 - auc: 0.8917\n",
      "Epoch 2/100\n",
      "112/112 [==============================] - 1s 7ms/step - loss: 0.4963 - auc: 0.8502\n",
      "Epoch 3/100\n",
      "112/112 [==============================] - 1s 8ms/step - loss: 0.4939 - auc: 0.8678\n",
      "Epoch 4/100\n",
      "112/112 [==============================] - 1s 8ms/step - loss: 0.3576 - auc: 0.9195\n",
      "Epoch 5/100\n",
      "112/112 [==============================] - 1s 8ms/step - loss: 0.3203 - auc: 0.9351\n",
      "Epoch 6/100\n",
      "112/112 [==============================] - 1s 8ms/step - loss: 0.3562 - auc: 0.9264\n",
      "Epoch 7/100\n",
      "112/112 [==============================] - 1s 8ms/step - loss: 0.2790 - auc: 0.9509\n",
      "Epoch 8/100\n",
      "112/112 [==============================] - 1s 8ms/step - loss: 0.2682 - auc: 0.9547\n",
      "Epoch 9/100\n",
      "112/112 [==============================] - 1s 8ms/step - loss: 0.2409 - auc: 0.9632\n",
      "Epoch 10/100\n",
      "112/112 [==============================] - 1s 8ms/step - loss: 0.2658 - auc: 0.9562\n",
      "Epoch 11/100\n",
      "112/112 [==============================] - 1s 8ms/step - loss: 0.2378 - auc: 0.9644\n",
      "Epoch 12/100\n",
      "112/112 [==============================] - 1s 8ms/step - loss: 0.2287 - auc: 0.9670\n",
      "Epoch 13/100\n",
      "112/112 [==============================] - 1s 8ms/step - loss: 0.2141 - auc: 0.9707\n",
      "Epoch 14/100\n",
      "112/112 [==============================] - 1s 9ms/step - loss: 0.2069 - auc: 0.9726\n",
      "Epoch 15/100\n",
      "112/112 [==============================] - 1s 8ms/step - loss: 0.2054 - auc: 0.9731\n",
      "Epoch 16/100\n",
      "112/112 [==============================] - 1s 8ms/step - loss: 0.1995 - auc: 0.9746\n",
      "Epoch 17/100\n",
      "112/112 [==============================] - 1s 8ms/step - loss: 0.1906 - auc: 0.9767\n",
      "Epoch 18/100\n",
      "112/112 [==============================] - 1s 8ms/step - loss: 0.1832 - auc: 0.9783\n",
      "Epoch 19/100\n",
      "112/112 [==============================] - 1s 9ms/step - loss: 0.1842 - auc: 0.9781\n",
      "Epoch 20/100\n",
      "112/112 [==============================] - 1s 9ms/step - loss: 0.1807 - auc: 0.9789\n",
      "Epoch 21/100\n",
      "112/112 [==============================] - 1s 9ms/step - loss: 0.1726 - auc: 0.9806\n",
      "Epoch 22/100\n",
      "112/112 [==============================] - 1s 8ms/step - loss: 0.1609 - auc: 0.9829\n",
      "Epoch 23/100\n",
      "112/112 [==============================] - 1s 8ms/step - loss: 0.1592 - auc: 0.9833\n",
      "Epoch 24/100\n",
      "112/112 [==============================] - 1s 8ms/step - loss: 0.1707 - auc: 0.9809\n",
      "Epoch 25/100\n",
      "112/112 [==============================] - 1s 8ms/step - loss: 0.1575 - auc: 0.9837\n",
      "Epoch 26/100\n",
      "112/112 [==============================] - 1s 8ms/step - loss: 0.1555 - auc: 0.9840\n",
      "Epoch 27/100\n",
      "112/112 [==============================] - 1s 9ms/step - loss: 0.1486 - auc: 0.9852\n",
      "Epoch 28/100\n",
      "112/112 [==============================] - 1s 8ms/step - loss: 0.1449 - auc: 0.9859\n",
      "Epoch 29/100\n",
      "112/112 [==============================] - 1s 8ms/step - loss: 0.1410 - auc: 0.9866\n",
      "Epoch 30/100\n",
      "112/112 [==============================] - 1s 8ms/step - loss: 0.1337 - auc: 0.9879\n",
      "Epoch 31/100\n",
      "112/112 [==============================] - 1s 8ms/step - loss: 0.1384 - auc: 0.9871\n",
      "Epoch 32/100\n",
      "112/112 [==============================] - 1s 9ms/step - loss: 0.1315 - auc: 0.9882\n",
      "Epoch 33/100\n",
      "112/112 [==============================] - 1s 8ms/step - loss: 0.1300 - auc: 0.9884\n",
      "Epoch 34/100\n",
      "112/112 [==============================] - 1s 8ms/step - loss: 0.1347 - auc: 0.9876\n",
      "Epoch 35/100\n",
      "112/112 [==============================] - 1s 8ms/step - loss: 0.1259 - auc: 0.9890\n",
      "Epoch 36/100\n",
      "112/112 [==============================] - 1s 8ms/step - loss: 0.1172 - auc: 0.9905\n",
      "Epoch 37/100\n",
      "112/112 [==============================] - 1s 8ms/step - loss: 0.1205 - auc: 0.9899\n",
      "Epoch 38/100\n",
      "112/112 [==============================] - 1s 8ms/step - loss: 0.1165 - auc: 0.9905\n",
      "Epoch 39/100\n",
      "112/112 [==============================] - 1s 8ms/step - loss: 0.1182 - auc: 0.9902\n",
      "Epoch 40/100\n",
      "112/112 [==============================] - 1s 8ms/step - loss: 0.1178 - auc: 0.9903\n",
      "Epoch 41/100\n",
      "112/112 [==============================] - 1s 8ms/step - loss: 0.1179 - auc: 0.9903\n",
      "Epoch 42/100\n",
      "112/112 [==============================] - 1s 8ms/step - loss: 0.1087 - auc: 0.9916\n",
      "Epoch 43/100\n"
     ]
    },
    {
     "name": "stdout",
     "output_type": "stream",
     "text": [
      "112/112 [==============================] - 1s 8ms/step - loss: 0.1116 - auc: 0.9911\n",
      "Epoch 44/100\n",
      "112/112 [==============================] - 1s 8ms/step - loss: 0.1090 - auc: 0.9916\n",
      "Epoch 45/100\n",
      "112/112 [==============================] - 1s 8ms/step - loss: 0.1039 - auc: 0.9923\n",
      "Epoch 46/100\n",
      "112/112 [==============================] - 1s 8ms/step - loss: 0.1120 - auc: 0.9912\n",
      "Epoch 47/100\n",
      "112/112 [==============================] - 1s 8ms/step - loss: 0.1009 - auc: 0.9926\n",
      "Epoch 48/100\n",
      "112/112 [==============================] - 1s 8ms/step - loss: 0.0998 - auc: 0.9928\n",
      "Epoch 49/100\n",
      "112/112 [==============================] - 1s 8ms/step - loss: 0.0989 - auc: 0.9929\n",
      "Epoch 50/100\n",
      "112/112 [==============================] - 1s 8ms/step - loss: 0.1022 - auc: 0.9925\n",
      "Epoch 51/100\n",
      "112/112 [==============================] - 1s 8ms/step - loss: 0.0987 - auc: 0.9929\n",
      "Epoch 52/100\n",
      "112/112 [==============================] - 1s 8ms/step - loss: 0.0950 - auc: 0.9933\n",
      "Epoch 53/100\n",
      "112/112 [==============================] - 1s 8ms/step - loss: 0.0896 - auc: 0.9941\n",
      "Epoch 54/100\n",
      "112/112 [==============================] - 1s 8ms/step - loss: 0.0896 - auc: 0.9939\n",
      "Epoch 55/100\n",
      "112/112 [==============================] - 1s 8ms/step - loss: 0.0906 - auc: 0.9939\n",
      "Epoch 56/100\n",
      "112/112 [==============================] - 1s 8ms/step - loss: 0.0867 - auc: 0.9943\n",
      "Epoch 57/100\n",
      "112/112 [==============================] - 1s 8ms/step - loss: 0.0873 - auc: 0.9941\n",
      "Epoch 58/100\n",
      "112/112 [==============================] - 1s 8ms/step - loss: 0.0886 - auc: 0.9941\n",
      "Epoch 59/100\n",
      "112/112 [==============================] - 1s 8ms/step - loss: 0.0862 - auc: 0.9943\n",
      "Epoch 60/100\n",
      "112/112 [==============================] - 1s 8ms/step - loss: 0.0805 - auc: 0.9949\n",
      "Epoch 61/100\n",
      "112/112 [==============================] - 1s 8ms/step - loss: 0.0800 - auc: 0.9950\n",
      "Epoch 62/100\n",
      "112/112 [==============================] - 1s 8ms/step - loss: 0.0823 - auc: 0.9948\n",
      "Epoch 63/100\n",
      "112/112 [==============================] - 1s 10ms/step - loss: 0.0798 - auc: 0.9950\n",
      "Epoch 64/100\n",
      "112/112 [==============================] - 1s 10ms/step - loss: 0.0785 - auc: 0.9952\n",
      "Epoch 65/100\n",
      "112/112 [==============================] - 1s 9ms/step - loss: 0.0768 - auc: 0.9954\n",
      "Epoch 66/100\n",
      "112/112 [==============================] - 1s 9ms/step - loss: 0.0757 - auc: 0.9955\n",
      "Epoch 67/100\n",
      "112/112 [==============================] - 1s 8ms/step - loss: 0.0759 - auc: 0.9954\n",
      "Epoch 68/100\n",
      "112/112 [==============================] - 1s 8ms/step - loss: 0.0723 - auc: 0.9958\n",
      "Epoch 69/100\n",
      "112/112 [==============================] - 1s 9ms/step - loss: 0.0700 - auc: 0.9959\n",
      "Epoch 70/100\n",
      "112/112 [==============================] - 1s 9ms/step - loss: 0.0694 - auc: 0.9961\n",
      "Epoch 71/100\n",
      "112/112 [==============================] - 1s 8ms/step - loss: 0.0675 - auc: 0.9962\n",
      "Epoch 72/100\n",
      "112/112 [==============================] - 1s 9ms/step - loss: 0.0695 - auc: 0.9961\n",
      "Epoch 73/100\n",
      "112/112 [==============================] - 1s 9ms/step - loss: 0.0670 - auc: 0.9961\n",
      "Epoch 74/100\n",
      "112/112 [==============================] - 1s 9ms/step - loss: 0.0665 - auc: 0.9962\n",
      "Epoch 75/100\n",
      "112/112 [==============================] - 1s 8ms/step - loss: 0.0664 - auc: 0.9963\n",
      "Epoch 76/100\n",
      "112/112 [==============================] - 1s 9ms/step - loss: 0.0682 - auc: 0.9961\n",
      "Epoch 77/100\n",
      "112/112 [==============================] - 1s 9ms/step - loss: 0.0647 - auc: 0.9965\n",
      "Epoch 78/100\n",
      "112/112 [==============================] - 1s 9ms/step - loss: 0.0601 - auc: 0.9969\n",
      "Epoch 79/100\n",
      "112/112 [==============================] - 1s 9ms/step - loss: 0.0601 - auc: 0.9968\n",
      "Epoch 80/100\n",
      "112/112 [==============================] - 1s 8ms/step - loss: 0.0589 - auc: 0.9970\n",
      "Epoch 81/100\n",
      "112/112 [==============================] - 1s 8ms/step - loss: 0.0571 - auc: 0.9971\n",
      "Epoch 82/100\n",
      "112/112 [==============================] - 1s 8ms/step - loss: 0.0565 - auc: 0.9972\n",
      "Epoch 83/100\n",
      "112/112 [==============================] - 1s 9ms/step - loss: 0.0559 - auc: 0.9973\n",
      "Epoch 84/100\n",
      "112/112 [==============================] - 1s 10ms/step - loss: 0.0570 - auc: 0.9972\n",
      "Epoch 85/100\n",
      "112/112 [==============================] - 1s 11ms/step - loss: 0.0571 - auc: 0.9971\n",
      "Epoch 86/100\n",
      "112/112 [==============================] - 1s 10ms/step - loss: 0.0543 - auc: 0.9974\n",
      "Epoch 87/100\n",
      "112/112 [==============================] - 1s 10ms/step - loss: 0.0530 - auc: 0.9976\n",
      "Epoch 88/100\n",
      "112/112 [==============================] - 1s 10ms/step - loss: 0.0566 - auc: 0.9971\n",
      "Epoch 89/100\n",
      "112/112 [==============================] - 1s 10ms/step - loss: 0.0501 - auc: 0.9976\n",
      "Epoch 90/100\n",
      "112/112 [==============================] - 1s 10ms/step - loss: 0.0522 - auc: 0.9975\n",
      "Epoch 91/100\n",
      "112/112 [==============================] - 1s 9ms/step - loss: 0.0476 - auc: 0.9978\n",
      "Epoch 92/100\n",
      "112/112 [==============================] - 1s 10ms/step - loss: 0.0468 - auc: 0.9979\n",
      "Epoch 93/100\n",
      "112/112 [==============================] - 1s 9ms/step - loss: 0.0497 - auc: 0.9976\n",
      "Epoch 94/100\n",
      "112/112 [==============================] - 1s 10ms/step - loss: 0.0481 - auc: 0.9978\n",
      "Epoch 95/100\n",
      "112/112 [==============================] - 1s 9ms/step - loss: 0.0469 - auc: 0.9978\n",
      "Epoch 96/100\n",
      "112/112 [==============================] - 1s 9ms/step - loss: 0.0439 - auc: 0.9982\n",
      "Epoch 97/100\n",
      "112/112 [==============================] - 1s 9ms/step - loss: 0.0440 - auc: 0.9981\n",
      "Epoch 98/100\n",
      "112/112 [==============================] - 1s 10ms/step - loss: 0.0447 - auc: 0.9980\n",
      "Epoch 99/100\n",
      "112/112 [==============================] - 1s 10ms/step - loss: 0.0418 - auc: 0.9983\n",
      "Epoch 100/100\n",
      "112/112 [==============================] - 1s 11ms/step - loss: 0.0448 - auc: 0.9979\n",
      "Epoch 1/100\n",
      "12/12 [==============================] - 1s 52ms/step - loss: 9.0508 - auc: 0.7728\n",
      "Epoch 2/100\n",
      "12/12 [==============================] - 1s 58ms/step - loss: 3.5931 - auc: 0.5636\n",
      "Epoch 3/100\n",
      "12/12 [==============================] - 1s 53ms/step - loss: 1.3883 - auc: 0.6583\n",
      "Epoch 4/100\n",
      "12/12 [==============================] - 1s 55ms/step - loss: 0.7582 - auc: 0.7564\n",
      "Epoch 5/100\n",
      "12/12 [==============================] - 1s 55ms/step - loss: 0.5638 - auc: 0.8083\n",
      "Epoch 6/100\n",
      "12/12 [==============================] - 1s 55ms/step - loss: 0.4914 - auc: 0.8383\n",
      "Epoch 7/100\n",
      "12/12 [==============================] - 1s 55ms/step - loss: 0.4689 - auc: 0.8519\n",
      "Epoch 8/100\n",
      "12/12 [==============================] - 1s 55ms/step - loss: 0.4849 - auc: 0.8435\n",
      "Epoch 9/100\n",
      "12/12 [==============================] - 1s 55ms/step - loss: 0.4825 - auc: 0.8469\n",
      "Epoch 10/100\n",
      "12/12 [==============================] - 1s 58ms/step - loss: 0.4759 - auc: 0.8529\n",
      "Epoch 11/100\n",
      "12/12 [==============================] - 1s 56ms/step - loss: 0.4686 - auc: 0.8584\n",
      "Epoch 12/100\n",
      "12/12 [==============================] - 1s 60ms/step - loss: 0.3990 - auc: 0.8967\n",
      "Epoch 13/100\n",
      "12/12 [==============================] - 1s 61ms/step - loss: 0.3967 - auc: 0.8975\n",
      "Epoch 14/100\n",
      "12/12 [==============================] - 1s 62ms/step - loss: 0.4151 - auc: 0.8885\n",
      "Epoch 15/100\n",
      "12/12 [==============================] - 1s 59ms/step - loss: 0.4005 - auc: 0.8967\n",
      "Epoch 16/100\n",
      "12/12 [==============================] - 1s 63ms/step - loss: 0.3839 - auc: 0.9049\n",
      "Epoch 17/100\n",
      "12/12 [==============================] - 1s 61ms/step - loss: 0.3596 - auc: 0.9175\n",
      "Epoch 18/100\n",
      "12/12 [==============================] - 1s 58ms/step - loss: 0.3480 - auc: 0.9231\n",
      "Epoch 19/100\n",
      "12/12 [==============================] - 1s 61ms/step - loss: 0.3389 - auc: 0.9272\n",
      "Epoch 20/100\n",
      "12/12 [==============================] - 1s 61ms/step - loss: 0.3683 - auc: 0.9146\n",
      "Epoch 21/100\n",
      "12/12 [==============================] - 1s 57ms/step - loss: 0.3598 - auc: 0.9172\n",
      "Epoch 22/100\n",
      "12/12 [==============================] - 1s 61ms/step - loss: 0.3282 - auc: 0.9317\n",
      "Epoch 23/100\n",
      "12/12 [==============================] - 1s 61ms/step - loss: 0.3177 - auc: 0.9364\n",
      "Epoch 24/100\n",
      "12/12 [==============================] - 1s 61ms/step - loss: 0.5118 - auc: 0.8721\n",
      "Epoch 25/100\n",
      "12/12 [==============================] - 1s 59ms/step - loss: 0.4339 - auc: 0.8927\n",
      "Epoch 26/100\n",
      "12/12 [==============================] - 1s 58ms/step - loss: 0.3457 - auc: 0.9240\n",
      "Epoch 27/100\n"
     ]
    },
    {
     "name": "stdout",
     "output_type": "stream",
     "text": [
      "12/12 [==============================] - 1s 56ms/step - loss: 0.3116 - auc: 0.9390\n",
      "Epoch 28/100\n",
      "12/12 [==============================] - 1s 56ms/step - loss: 0.3210 - auc: 0.9345\n",
      "Epoch 29/100\n",
      "12/12 [==============================] - 1s 57ms/step - loss: 0.3001 - auc: 0.9434\n",
      "Epoch 30/100\n",
      "12/12 [==============================] - 1s 58ms/step - loss: 0.2982 - auc: 0.9440\n",
      "Epoch 31/100\n",
      "12/12 [==============================] - 1s 59ms/step - loss: 0.3461 - auc: 0.9253\n",
      "Epoch 32/100\n",
      "12/12 [==============================] - 1s 61ms/step - loss: 0.3193 - auc: 0.9352\n",
      "Epoch 33/100\n",
      "12/12 [==============================] - 1s 55ms/step - loss: 0.2950 - auc: 0.9451\n",
      "Epoch 34/100\n",
      "12/12 [==============================] - 1s 63ms/step - loss: 0.2948 - auc: 0.9450\n",
      "Epoch 35/100\n",
      "12/12 [==============================] - 1s 56ms/step - loss: 0.2933 - auc: 0.9454\n",
      "Epoch 36/100\n",
      "12/12 [==============================] - 1s 56ms/step - loss: 0.2720 - auc: 0.9537\n",
      "Epoch 37/100\n",
      "12/12 [==============================] - 1s 58ms/step - loss: 0.2652 - auc: 0.9560\n",
      "Epoch 38/100\n",
      "12/12 [==============================] - 1s 58ms/step - loss: 0.2567 - auc: 0.9590\n",
      "Epoch 39/100\n",
      "12/12 [==============================] - 1s 56ms/step - loss: 0.2615 - auc: 0.9569\n",
      "Epoch 40/100\n",
      "12/12 [==============================] - 1s 57ms/step - loss: 0.2752 - auc: 0.9520\n",
      "Epoch 41/100\n",
      "12/12 [==============================] - 1s 59ms/step - loss: 0.2501 - auc: 0.9610\n",
      "Epoch 42/100\n",
      "12/12 [==============================] - 1s 54ms/step - loss: 0.2434 - auc: 0.9632\n",
      "Epoch 43/100\n",
      "12/12 [==============================] - 1s 54ms/step - loss: 0.3032 - auc: 0.9423\n",
      "Epoch 44/100\n",
      "12/12 [==============================] - 1s 60ms/step - loss: 0.3427 - auc: 0.9303\n",
      "Epoch 45/100\n",
      "12/12 [==============================] - 1s 60ms/step - loss: 0.3215 - auc: 0.9362\n",
      "Epoch 46/100\n",
      "12/12 [==============================] - 1s 59ms/step - loss: 0.2652 - auc: 0.9554\n",
      "Epoch 47/100\n",
      "12/12 [==============================] - 1s 60ms/step - loss: 0.2558 - auc: 0.9586\n",
      "Epoch 48/100\n",
      "12/12 [==============================] - 1s 66ms/step - loss: 0.2451 - auc: 0.9621\n",
      "Epoch 49/100\n",
      "12/12 [==============================] - 1s 54ms/step - loss: 0.2333 - auc: 0.9659\n",
      "Epoch 50/100\n",
      "12/12 [==============================] - 1s 57ms/step - loss: 0.2303 - auc: 0.9666\n",
      "Epoch 51/100\n",
      "12/12 [==============================] - 1s 57ms/step - loss: 0.2250 - auc: 0.9683\n",
      "Epoch 52/100\n",
      "12/12 [==============================] - 1s 69ms/step - loss: 0.2227 - auc: 0.9689\n",
      "Epoch 53/100\n",
      "12/12 [==============================] - 1s 70ms/step - loss: 0.2233 - auc: 0.9686\n",
      "Epoch 54/100\n",
      "12/12 [==============================] - 1s 73ms/step - loss: 0.2160 - auc: 0.9708\n",
      "Epoch 55/100\n",
      "12/12 [==============================] - 1s 65ms/step - loss: 0.2136 - auc: 0.9713\n",
      "Epoch 56/100\n",
      "12/12 [==============================] - 1s 69ms/step - loss: 0.2173 - auc: 0.9702\n",
      "Epoch 57/100\n",
      "12/12 [==============================] - 1s 66ms/step - loss: 0.2147 - auc: 0.9709\n",
      "Epoch 58/100\n",
      "12/12 [==============================] - 1s 62ms/step - loss: 0.2210 - auc: 0.9691\n",
      "Epoch 59/100\n",
      "12/12 [==============================] - 1s 63ms/step - loss: 0.2147 - auc: 0.9707\n",
      "Epoch 60/100\n",
      "12/12 [==============================] - 1s 68ms/step - loss: 0.2024 - auc: 0.9742\n",
      "Epoch 61/100\n",
      "12/12 [==============================] - 1s 62ms/step - loss: 0.2027 - auc: 0.9740\n",
      "Epoch 62/100\n",
      "12/12 [==============================] - 1s 67ms/step - loss: 0.2049 - auc: 0.9734\n",
      "Epoch 63/100\n",
      "12/12 [==============================] - 1s 73ms/step - loss: 0.2069 - auc: 0.9727\n",
      "Epoch 64/100\n",
      "12/12 [==============================] - 1s 66ms/step - loss: 0.2145 - auc: 0.9707\n",
      "Epoch 65/100\n",
      "12/12 [==============================] - 1s 69ms/step - loss: 0.2332 - auc: 0.9654\n",
      "Epoch 66/100\n",
      "12/12 [==============================] - 1s 69ms/step - loss: 0.2229 - auc: 0.9683\n",
      "Epoch 67/100\n",
      "12/12 [==============================] - 1s 66ms/step - loss: 0.2999 - auc: 0.9480\n",
      "Epoch 68/100\n",
      "12/12 [==============================] - 1s 64ms/step - loss: 0.2411 - auc: 0.9637\n",
      "Epoch 69/100\n",
      "12/12 [==============================] - 1s 66ms/step - loss: 0.2072 - auc: 0.9726\n",
      "Epoch 70/100\n",
      "12/12 [==============================] - 1s 69ms/step - loss: 0.2183 - auc: 0.9697\n",
      "Epoch 71/100\n",
      "12/12 [==============================] - 1s 63ms/step - loss: 0.1972 - auc: 0.9752\n",
      "Epoch 72/100\n",
      "12/12 [==============================] - 1s 72ms/step - loss: 0.1931 - auc: 0.9761\n",
      "Epoch 73/100\n",
      "12/12 [==============================] - 1s 72ms/step - loss: 0.2059 - auc: 0.9730\n",
      "Epoch 74/100\n",
      "12/12 [==============================] - 1s 70ms/step - loss: 0.2020 - auc: 0.9739\n",
      "Epoch 75/100\n",
      "12/12 [==============================] - 1s 68ms/step - loss: 0.1942 - auc: 0.9758\n",
      "Epoch 76/100\n",
      "12/12 [==============================] - 1s 62ms/step - loss: 0.1852 - auc: 0.9780\n",
      "Epoch 77/100\n",
      "12/12 [==============================] - 1s 61ms/step - loss: 0.1834 - auc: 0.9785\n",
      "Epoch 78/100\n",
      "12/12 [==============================] - 1s 60ms/step - loss: 0.1853 - auc: 0.9780\n",
      "Epoch 79/100\n",
      "12/12 [==============================] - 1s 67ms/step - loss: 0.1886 - auc: 0.9772\n",
      "Epoch 80/100\n",
      "12/12 [==============================] - 1s 63ms/step - loss: 0.1761 - auc: 0.9801\n",
      "Epoch 81/100\n",
      "12/12 [==============================] - 1s 59ms/step - loss: 0.1723 - auc: 0.9808\n",
      "Epoch 82/100\n",
      "12/12 [==============================] - 1s 61ms/step - loss: 0.1725 - auc: 0.9808\n",
      "Epoch 83/100\n",
      "12/12 [==============================] - 1s 61ms/step - loss: 0.1715 - auc: 0.9810\n",
      "Epoch 84/100\n",
      "12/12 [==============================] - 1s 60ms/step - loss: 0.1797 - auc: 0.9791\n",
      "Epoch 85/100\n",
      "12/12 [==============================] - 1s 61ms/step - loss: 0.1843 - auc: 0.9780\n",
      "Epoch 86/100\n",
      "12/12 [==============================] - 1s 62ms/step - loss: 0.1767 - auc: 0.9797\n",
      "Epoch 87/100\n",
      "12/12 [==============================] - 1s 65ms/step - loss: 0.1738 - auc: 0.9804\n",
      "Epoch 88/100\n",
      "12/12 [==============================] - 1s 59ms/step - loss: 0.1903 - auc: 0.9766\n",
      "Epoch 89/100\n",
      "12/12 [==============================] - 1s 61ms/step - loss: 0.1767 - auc: 0.9799\n",
      "Epoch 90/100\n",
      "12/12 [==============================] - 1s 60ms/step - loss: 0.2000 - auc: 0.9744\n",
      "Epoch 91/100\n",
      "12/12 [==============================] - 1s 61ms/step - loss: 0.1784 - auc: 0.9795\n",
      "Epoch 92/100\n",
      "12/12 [==============================] - 1s 66ms/step - loss: 0.1701 - auc: 0.9813\n",
      "Epoch 93/100\n",
      "12/12 [==============================] - 1s 68ms/step - loss: 0.1659 - auc: 0.9821\n",
      "Epoch 94/100\n",
      "12/12 [==============================] - 1s 63ms/step - loss: 0.1608 - auc: 0.9831\n",
      "Epoch 95/100\n",
      "12/12 [==============================] - 1s 61ms/step - loss: 0.1627 - auc: 0.9827\n",
      "Epoch 96/100\n",
      "12/12 [==============================] - 1s 60ms/step - loss: 0.1653 - auc: 0.9822\n",
      "Epoch 97/100\n",
      "12/12 [==============================] - 1s 77ms/step - loss: 0.1662 - auc: 0.9819\n",
      "Epoch 98/100\n",
      "12/12 [==============================] - 1s 62ms/step - loss: 0.1617 - auc: 0.9828\n",
      "Epoch 99/100\n",
      "12/12 [==============================] - 1s 68ms/step - loss: 0.1573 - auc: 0.9838\n",
      "Epoch 100/100\n",
      "12/12 [==============================] - 1s 69ms/step - loss: 0.1559 - auc: 0.9840\n"
     ]
    }
   ],
   "source": [
    "nn_model_tunning = nn_modeling.parameter_tuning( { \n",
    "        'input':50,\n",
    "        'layer1':{'s':300, 'activation': 'relu'}, \n",
    "        'layer2':{'s':200, 'activation': 'relu'}, \n",
    "        'layer3':{'s':100, 'activation': 'relu'},\n",
    "        'layer4':{'s':1, 'activation':'sigmoid'},\n",
    "        'loss':'BinaryCrossentropy',\n",
    "        'metric': tf.keras.metrics.AUC(),\n",
    "        'epoch':[10,30,100],\n",
    "        'bs':[10,100,1000,10000], \n",
    "        'optimizer':'adam'\n",
    "        }, NNModel)        "
   ]
  },
  {
   "cell_type": "markdown",
   "metadata": {},
   "source": [
    "#### Selecting Best Neural Network Model"
   ]
  },
  {
   "cell_type": "code",
   "execution_count": 98,
   "metadata": {},
   "outputs": [
    {
     "data": {
      "text/plain": [
       "{'batch_size': 100,\n",
       " 'epoch': 100,\n",
       " 'loss': 'BinaryCrossentropy',\n",
       " 'metric': <keras.metrics.AUC at 0x7f9f8fae16a0>,\n",
       " 'optimizer': 'adam'}"
      ]
     },
     "execution_count": 98,
     "metadata": {},
     "output_type": "execute_result"
    }
   ],
   "source": [
    "best_nn_model = nn_modeling.find_best_model('auc')\n",
    "{\n",
    "    'batch_size': best_nn_model['model'].batch_size, \n",
    "    'epoch': best_nn_model['model'].epoch,\n",
    "    'loss': best_nn_model['model'].loss,\n",
    "    'metric': best_nn_model['model'].metric,\n",
    "    'optimizer': best_nn_model['model'].optimizer,   \n",
    "}"
   ]
  },
  {
   "cell_type": "code",
   "execution_count": 96,
   "metadata": {},
   "outputs": [
    {
     "name": "stdout",
     "output_type": "stream",
     "text": [
      "Model: \"sequential_21\"\n",
      "_________________________________________________________________\n",
      "Layer (type)                 Output Shape              Param #   \n",
      "=================================================================\n",
      "dense_84 (Dense)             (None, 300)               15300     \n",
      "_________________________________________________________________\n",
      "dense_85 (Dense)             (None, 200)               60200     \n",
      "_________________________________________________________________\n",
      "dense_86 (Dense)             (None, 100)               20100     \n",
      "_________________________________________________________________\n",
      "dense_87 (Dense)             (None, 1)                 101       \n",
      "=================================================================\n",
      "Total params: 95,701\n",
      "Trainable params: 95,701\n",
      "Non-trainable params: 0\n",
      "_________________________________________________________________\n"
     ]
    }
   ],
   "source": [
    "best_nn_model['model'].model.summary()"
   ]
  },
  {
   "cell_type": "code",
   "execution_count": 109,
   "metadata": {},
   "outputs": [
    {
     "data": {
      "text/plain": [
       "{'auc': 0.9932595957474247,\n",
       " 'cost': -0.5254464285714285,\n",
       " 'matrix': array([[66537,   525],\n",
       "        [  254, 44684]])}"
      ]
     },
     "execution_count": 109,
     "metadata": {},
     "output_type": "execute_result"
    }
   ],
   "source": [
    "{ metric: best_nn_model['train_metrics'][metric] for metric in ['auc', 'cost', 'matrix'] }"
   ]
  },
  {
   "cell_type": "code",
   "execution_count": 110,
   "metadata": {},
   "outputs": [
    {
     "data": {
      "text/plain": [
       "{'auc': 0.9602827258901632,\n",
       " 'cost': -2.5692708333333334,\n",
       " 'matrix': array([[27719,  1022],\n",
       "        [  845, 18414]])}"
      ]
     },
     "execution_count": 110,
     "metadata": {},
     "output_type": "execute_result"
    }
   ],
   "source": [
    "{ metric: best_nn_model['test_metrics'][metric] for metric in ['auc', 'cost', 'matrix'] }"
   ]
  },
  {
   "cell_type": "markdown",
   "metadata": {},
   "source": [
    "#### Tunning Treshold to for Lowest Cost"
   ]
  },
  {
   "cell_type": "code",
   "execution_count": 125,
   "metadata": {},
   "outputs": [
    {
     "data": {
      "text/html": [
       "<div>\n",
       "<style scoped>\n",
       "    .dataframe tbody tr th:only-of-type {\n",
       "        vertical-align: middle;\n",
       "    }\n",
       "\n",
       "    .dataframe tbody tr th {\n",
       "        vertical-align: top;\n",
       "    }\n",
       "\n",
       "    .dataframe thead th {\n",
       "        text-align: right;\n",
       "    }\n",
       "</style>\n",
       "<table border=\"1\" class=\"dataframe\">\n",
       "  <thead>\n",
       "    <tr style=\"text-align: right;\">\n",
       "      <th></th>\n",
       "      <th>Threshold</th>\n",
       "      <th>Train Cost</th>\n",
       "      <th>Test Cost</th>\n",
       "    </tr>\n",
       "  </thead>\n",
       "  <tbody>\n",
       "    <tr>\n",
       "      <th>0</th>\n",
       "      <td>0.00</td>\n",
       "      <td>10.030804</td>\n",
       "      <td>10.030729</td>\n",
       "    </tr>\n",
       "    <tr>\n",
       "      <th>1</th>\n",
       "      <td>0.05</td>\n",
       "      <td>0.366295</td>\n",
       "      <td>1.963542</td>\n",
       "    </tr>\n",
       "    <tr>\n",
       "      <th>2</th>\n",
       "      <td>0.10</td>\n",
       "      <td>0.343527</td>\n",
       "      <td>2.026042</td>\n",
       "    </tr>\n",
       "    <tr>\n",
       "      <th>3</th>\n",
       "      <td>0.15</td>\n",
       "      <td>0.346429</td>\n",
       "      <td>2.107292</td>\n",
       "    </tr>\n",
       "    <tr>\n",
       "      <th>4</th>\n",
       "      <td>0.20</td>\n",
       "      <td>0.369643</td>\n",
       "      <td>2.179688</td>\n",
       "    </tr>\n",
       "    <tr>\n",
       "      <th>5</th>\n",
       "      <td>0.25</td>\n",
       "      <td>0.380357</td>\n",
       "      <td>2.230208</td>\n",
       "    </tr>\n",
       "    <tr>\n",
       "      <th>6</th>\n",
       "      <td>0.30</td>\n",
       "      <td>0.400893</td>\n",
       "      <td>2.302083</td>\n",
       "    </tr>\n",
       "    <tr>\n",
       "      <th>7</th>\n",
       "      <td>0.35</td>\n",
       "      <td>0.429241</td>\n",
       "      <td>2.360417</td>\n",
       "    </tr>\n",
       "    <tr>\n",
       "      <th>8</th>\n",
       "      <td>0.40</td>\n",
       "      <td>0.450893</td>\n",
       "      <td>2.428125</td>\n",
       "    </tr>\n",
       "    <tr>\n",
       "      <th>9</th>\n",
       "      <td>0.45</td>\n",
       "      <td>0.491295</td>\n",
       "      <td>2.491146</td>\n",
       "    </tr>\n",
       "    <tr>\n",
       "      <th>10</th>\n",
       "      <td>0.50</td>\n",
       "      <td>0.525446</td>\n",
       "      <td>2.569271</td>\n",
       "    </tr>\n",
       "  </tbody>\n",
       "</table>\n",
       "</div>"
      ],
      "text/plain": [
       "    Threshold  Train Cost  Test Cost\n",
       "0        0.00   10.030804  10.030729\n",
       "1        0.05    0.366295   1.963542\n",
       "2        0.10    0.343527   2.026042\n",
       "3        0.15    0.346429   2.107292\n",
       "4        0.20    0.369643   2.179688\n",
       "5        0.25    0.380357   2.230208\n",
       "6        0.30    0.400893   2.302083\n",
       "7        0.35    0.429241   2.360417\n",
       "8        0.40    0.450893   2.428125\n",
       "9        0.45    0.491295   2.491146\n",
       "10       0.50    0.525446   2.569271"
      ]
     },
     "execution_count": 125,
     "metadata": {},
     "output_type": "execute_result"
    }
   ],
   "source": [
    "train_proba, test_proba, y_train, y_test, conf_train, conf_test = extract_best_model_metrics(nn_modeling)\n",
    "nn_cost_results = tune_cost_proba(1-train_proba, 1-test_proba, y_train, y_test, conf_train, conf_test)\n",
    "nn_cost_results[['Threshold', 'Train Cost','Test Cost' ]]"
   ]
  },
  {
   "cell_type": "code",
   "execution_count": 126,
   "metadata": {},
   "outputs": [
    {
     "data": {
      "image/png": "[encoded data removed]",
      "text/plain": [
       "<Figure size 432x288 with 1 Axes>"
      ]
     },
     "metadata": {
      "needs_background": "light"
     },
     "output_type": "display_data"
    }
   ],
   "source": [
    "plot_cost_tunning(nn_cost_results, 0.05)"
   ]
  },
  {
   "cell_type": "markdown",
   "metadata": {},
   "source": [
    "In this case, your primary task is to train a model (or models) capable of generalizing on a binary-target that will minimize the monetary loss for your customer and will involve the following steps:\n",
    "\n",
    "- Specify your sampling methodology\n",
    "- Setup your model(s) - highlighting any important parameters\n",
    "- Analyze the performance of your model(s) - referencing your chosen evaluation metric (including supplemental visuals and analysis where appropriate)"
   ]
  },
  {
   "cell_type": "markdown",
   "metadata": {},
   "source": [
    "### Results"
   ]
  },
  {
   "cell_type": "markdown",
   "metadata": {},
   "source": [
    "Below are the results from the three models tried for this dataset and their comparison against predictions using the test dataset.\n",
    "\n",
    "__Logistic Regression:__ This model was the quickest to train and had a result AUC of __0.6718__ and Cost per Prediction of __\\\\$9.73__ for the test dataset.\n",
    " \n",
    "__XGBoost:__ This model was the longest to train and provided a significant improvement compared to the logistic regression. This model had a tendency to overfit showing difference in the train and test results. This model had a result AUC of __0.9434__ and Cost per Prediction of __\\\\$2.40__  for the test dataset.\n",
    "\n",
    " \n",
    "__Neural Network:__ This model took significantly longer than the logistic, but much faster than XGB. It provided a slight improvement over the XGBModel and did not overfit to the training data. This model had a result AUC of __0.9572__ and Cost per Prediction of  __\\\\$2.22__ for the test dataset.\n"
   ]
  },
  {
   "cell_type": "markdown",
   "metadata": {},
   "source": [
    "#### Comparisions"
   ]
  },
  {
   "cell_type": "code",
   "execution_count": 127,
   "metadata": {},
   "outputs": [
    {
     "data": {
      "text/html": [
       "<div>\n",
       "<style scoped>\n",
       "    .dataframe tbody tr th:only-of-type {\n",
       "        vertical-align: middle;\n",
       "    }\n",
       "\n",
       "    .dataframe tbody tr th {\n",
       "        vertical-align: top;\n",
       "    }\n",
       "\n",
       "    .dataframe thead th {\n",
       "        text-align: right;\n",
       "    }\n",
       "</style>\n",
       "<table border=\"1\" class=\"dataframe\">\n",
       "  <thead>\n",
       "    <tr style=\"text-align: right;\">\n",
       "      <th></th>\n",
       "      <th>Test Cost</th>\n",
       "      <th>Threshold</th>\n",
       "      <th>Train Cost</th>\n",
       "      <th>conf_test</th>\n",
       "      <th>conf_train</th>\n",
       "    </tr>\n",
       "  </thead>\n",
       "  <tbody>\n",
       "    <tr>\n",
       "      <th>0</th>\n",
       "      <td>10.030729</td>\n",
       "      <td>0.00</td>\n",
       "      <td>10.030804</td>\n",
       "      <td>[[28741, 0], [19259, 0]]</td>\n",
       "      <td>[[67062, 0], [44938, 0]]</td>\n",
       "    </tr>\n",
       "    <tr>\n",
       "      <th>1</th>\n",
       "      <td>1.963542</td>\n",
       "      <td>0.05</td>\n",
       "      <td>0.366295</td>\n",
       "      <td>[[28154, 587], [1422, 17837]]</td>\n",
       "      <td>[[66934, 128], [1129, 43809]]</td>\n",
       "    </tr>\n",
       "    <tr>\n",
       "      <th>2</th>\n",
       "      <td>2.026042</td>\n",
       "      <td>0.10</td>\n",
       "      <td>0.343527</td>\n",
       "      <td>[[28079, 662], [1242, 18017]]</td>\n",
       "      <td>[[66877, 185], [799, 44139]]</td>\n",
       "    </tr>\n",
       "    <tr>\n",
       "      <th>3</th>\n",
       "      <td>2.107292</td>\n",
       "      <td>0.15</td>\n",
       "      <td>0.346429</td>\n",
       "      <td>[[28013, 728], [1134, 18125]]</td>\n",
       "      <td>[[66835, 227], [644, 44294]]</td>\n",
       "    </tr>\n",
       "    <tr>\n",
       "      <th>4</th>\n",
       "      <td>2.179688</td>\n",
       "      <td>0.20</td>\n",
       "      <td>0.369643</td>\n",
       "      <td>[[27962, 779], [1069, 18190]]</td>\n",
       "      <td>[[66788, 274], [560, 44378]]</td>\n",
       "    </tr>\n",
       "    <tr>\n",
       "      <th>5</th>\n",
       "      <td>2.230208</td>\n",
       "      <td>0.25</td>\n",
       "      <td>0.380357</td>\n",
       "      <td>[[27926, 815], [1022, 18237]]</td>\n",
       "      <td>[[66756, 306], [480, 44458]]</td>\n",
       "    </tr>\n",
       "    <tr>\n",
       "      <th>6</th>\n",
       "      <td>2.302083</td>\n",
       "      <td>0.30</td>\n",
       "      <td>0.400893</td>\n",
       "      <td>[[27882, 859], [984, 18275]]</td>\n",
       "      <td>[[66721, 341], [432, 44506]]</td>\n",
       "    </tr>\n",
       "    <tr>\n",
       "      <th>7</th>\n",
       "      <td>2.360417</td>\n",
       "      <td>0.35</td>\n",
       "      <td>0.429241</td>\n",
       "      <td>[[27844, 897], [944, 18315]]</td>\n",
       "      <td>[[66677, 385], [383, 44555]]</td>\n",
       "    </tr>\n",
       "    <tr>\n",
       "      <th>8</th>\n",
       "      <td>2.428125</td>\n",
       "      <td>0.40</td>\n",
       "      <td>0.450893</td>\n",
       "      <td>[[27802, 939], [906, 18353]]</td>\n",
       "      <td>[[66642, 420], [340, 44598]]</td>\n",
       "    </tr>\n",
       "    <tr>\n",
       "      <th>9</th>\n",
       "      <td>2.491146</td>\n",
       "      <td>0.45</td>\n",
       "      <td>0.491295</td>\n",
       "      <td>[[27764, 977], [875, 18384]]</td>\n",
       "      <td>[[66587, 475], [301, 44637]]</td>\n",
       "    </tr>\n",
       "    <tr>\n",
       "      <th>10</th>\n",
       "      <td>2.569271</td>\n",
       "      <td>0.50</td>\n",
       "      <td>0.525446</td>\n",
       "      <td>[[27719, 1022], [845, 18414]]</td>\n",
       "      <td>[[66537, 525], [254, 44684]]</td>\n",
       "    </tr>\n",
       "  </tbody>\n",
       "</table>\n",
       "</div>"
      ],
      "text/plain": [
       "    Test Cost  Threshold  Train Cost                      conf_test  \\\n",
       "0   10.030729       0.00   10.030804       [[28741, 0], [19259, 0]]   \n",
       "1    1.963542       0.05    0.366295  [[28154, 587], [1422, 17837]]   \n",
       "2    2.026042       0.10    0.343527  [[28079, 662], [1242, 18017]]   \n",
       "3    2.107292       0.15    0.346429  [[28013, 728], [1134, 18125]]   \n",
       "4    2.179688       0.20    0.369643  [[27962, 779], [1069, 18190]]   \n",
       "5    2.230208       0.25    0.380357  [[27926, 815], [1022, 18237]]   \n",
       "6    2.302083       0.30    0.400893   [[27882, 859], [984, 18275]]   \n",
       "7    2.360417       0.35    0.429241   [[27844, 897], [944, 18315]]   \n",
       "8    2.428125       0.40    0.450893   [[27802, 939], [906, 18353]]   \n",
       "9    2.491146       0.45    0.491295   [[27764, 977], [875, 18384]]   \n",
       "10   2.569271       0.50    0.525446  [[27719, 1022], [845, 18414]]   \n",
       "\n",
       "                       conf_train  \n",
       "0        [[67062, 0], [44938, 0]]  \n",
       "1   [[66934, 128], [1129, 43809]]  \n",
       "2    [[66877, 185], [799, 44139]]  \n",
       "3    [[66835, 227], [644, 44294]]  \n",
       "4    [[66788, 274], [560, 44378]]  \n",
       "5    [[66756, 306], [480, 44458]]  \n",
       "6    [[66721, 341], [432, 44506]]  \n",
       "7    [[66677, 385], [383, 44555]]  \n",
       "8    [[66642, 420], [340, 44598]]  \n",
       "9    [[66587, 475], [301, 44637]]  \n",
       "10   [[66537, 525], [254, 44684]]  "
      ]
     },
     "execution_count": 127,
     "metadata": {},
     "output_type": "execute_result"
    }
   ],
   "source": [
    "nn_cost_results"
   ]
  },
  {
   "cell_type": "markdown",
   "metadata": {},
   "source": [
    "The table below compares the key metrics between the models for the test dataset:"
   ]
  },
  {
   "cell_type": "markdown",
   "metadata": {},
   "source": [
    "| Model |Cost Per Prediction | AUC | # False Positives | # False Negatives | \n",
    "|-------|-----|-----|-------------------|-------------------|\n",
    "|Logistic Regression | \\\\$9.73 |  0.6718 | 163 | 18043 |\n",
    "|XGBoost | \\\\$2.40 | 0.9434 | 452 | 2797 |\n",
    "|Neural Network | \\\\$1.96  | 0.9603 | 587 | 1422 |\n",
    " \n",
    "\n"
   ]
  },
  {
   "cell_type": "code",
   "execution_count": 129,
   "metadata": {},
   "outputs": [
    {
     "data": {
      "image/png": "[encoded data removed]",
      "text/plain": [
       "<Figure size 432x288 with 1 Axes>"
      ]
     },
     "metadata": {
      "needs_background": "light"
     },
     "output_type": "display_data"
    }
   ],
   "source": [
    "fig = plt.figure()\n",
    "ax = fig.add_axes([0,0,1,1])\n",
    "models = ['Logistic Regression', 'XGBoost', 'Neural Network']\n",
    "costs = [9.73, 2.40, 1.96]\n",
    "ax.bar(models, costs)\n",
    "plt.show()"
   ]
  },
  {
   "cell_type": "markdown",
   "metadata": {},
   "source": [
    "# Conclusion <a id='conclusion'>"
   ]
  },
  {
   "cell_type": "markdown",
   "metadata": {
    "id": "JhUWTUQleFn-"
   },
   "source": [
    "## Final Model\n"
   ]
  },
  {
   "cell_type": "markdown",
   "metadata": {},
   "source": [
    "The team recommends using the Neural Network model. The model selected has an input layer and 3 hidden layers, with 300, 200, and 100 neurons respectively that use 'Relu' for the activation function and 1 output layer that uses sigmoid for its activation function. This model provided the best fit (auc), which was then tuned to for lowest cost."
   ]
  },
  {
   "cell_type": "markdown",
   "metadata": {},
   "source": [
    "## Monetary Outcome"
   ]
  },
  {
   "cell_type": "markdown",
   "metadata": {},
   "source": [
    "What is the expected monetary cost (or loss) associated with your model and how might you best translate this to your customer?  Remember, predicting class 1 incorrectly costs the customer \\\\$100  while incorrectly predicting class 0 costs the customer \\\\$25; or said another way, False Positives = -\\\\$100 and False Negatives = -\\\\$25"
   ]
  },
  {
   "cell_type": "markdown",
   "metadata": {},
   "source": [
    "Even though the stakeholder is not interested in the key features for prediction, the below plot depicts the top 15 feature for predictions using the XGBoost model.\n"
   ]
  },
  {
   "cell_type": "markdown",
   "metadata": {},
   "source": [
    "### Feature Importance"
   ]
  },
  {
   "cell_type": "code",
   "execution_count": 33,
   "metadata": {},
   "outputs": [
    {
     "data": {
      "image/png": "[encoded data removed]",
      "text/plain": [
       "<Figure size 432x288 with 1 Axes>"
      ]
     },
     "metadata": {
      "needs_background": "light"
     },
     "output_type": "display_data"
    }
   ],
   "source": [
    "lr_tuned = linear_modeling.find_best_model('auc')\n",
    "\n",
    "feat_coef = []\n",
    "feat = zip(linear_modeling.X_train.columns, lr_tuned['model'].coef_[0])\n",
    "[feat_coef.append([i,j]) for i,j in feat]\n",
    "feat_coef = pd.DataFrame(feat_coef, columns = ['feature','coef'])\n",
    "top_feat_lr = feat_coef.loc[abs(feat_coef['coef'])>0].sort_values(by='coef')\n",
    "\n",
    "feat_plot = sns.barplot(data=top_feat_lr, x='feature', y='coef', palette = \"ch:s=.25,rot=-.25\")\n",
    "plt.xticks(rotation=90)\n",
    "plt.title('LR Feature Importance with L1')\n",
    "plt.show()"
   ]
  },
  {
   "cell_type": "markdown",
   "metadata": {
    "id": "JbAhMB1x8g_e"
   },
   "source": [
    "## todo add xgboost model feature importance"
   ]
  },
  {
   "cell_type": "markdown",
   "metadata": {},
   "source": [
    "After all of your technical analysis and modeling; what are you proposing to your audience and why?  How should they view your results and what should they consider when moving forward?  Are there other approaches you'd recommend exploring?  This is where you \"bring it all home\" in language they understand."
   ]
  },
  {
   "cell_type": "markdown",
   "metadata": {
    "id": "oX8fXYczN5D-"
   },
   "source": [
    "### Future Considerations, Model Enhancements and Alternative Modeling Approaches <a id='model-enhancements'/>\n",
    "\n",
    "  "
   ]
  },
  {
   "cell_type": "markdown",
   "metadata": {
    "id": "E0yVc5DKeFn_"
   },
   "source": [
    "## References\n"
   ]
  },
  {
   "cell_type": "markdown",
   "metadata": {},
   "source": [
    "## Appendix\n",
    "\n"
   ]
  },
  {
   "cell_type": "code",
   "execution_count": null,
   "metadata": {},
   "outputs": [],
   "source": []
  }
 ],
 "metadata": {
  "colab": {
   "name": "Case_Study_6_template.ipynb",
   "provenance": []
  },
  "kernelspec": {
   "display_name": "Python 3",
   "language": "python",
   "name": "python3"
  },
  "language_info": {
   "codemirror_mode": {
    "name": "ipython",
    "version": 3
   },
   "file_extension": ".py",
   "mimetype": "text/x-python",
   "name": "python",
   "nbconvert_exporter": "python",
   "pygments_lexer": "ipython3",
   "version": "3.8.5"
  }
 },
 "nbformat": 4,
 "nbformat_minor": 1
}
