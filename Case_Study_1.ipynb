{
  "cells": [
    {
      "cell_type": "markdown",
      "metadata": {
        "id": "GoCXzNvN8g-8"
      },
      "source": [
        "# Case Study 1 - Predicting Superconductors "
      ]
    },
    {
      "cell_type": "markdown",
      "metadata": {
        "id": "YBy24RcB8g-9"
      },
      "source": [
        "__Team Members__\n",
        "\n",
        "- Name 1: Amber Clark\n",
        "- Name 2: Andrew Leppla\n",
        "- Name 3: Jorge Olmos\n",
        "- Name 4: Paritosh Rai"
      ]
    },
    {
      "cell_type": "markdown",
      "metadata": {
        "id": "O4O0up-U8g-9"
      },
      "source": [
        "# Content\n",
        "* [Business Understanding](#business-understanding)\n",
        "* [Data Evaluation](#data-evaluation)\n",
        "    - [Data Understanding](#data-understanding)\n",
        "    - [Missing Values](#missing-values)\n",
        "    - [Which Values are needed](#values-needed)\n",
        "    - [Assumptions](#assumptions)\n",
        "* [Model Preparations](#model-preparations)\n",
        "    - [Method](#method)\n",
        "    - [Evaluation Metrics](#evaluation-metrics)\n",
        "* [Model Building & Evaluations](#model-building)\n",
        "    - [Sampling Methodology](#sampling-methodology)\n",
        "    - [L1 Model](#L1-model)\n",
        "    - [L2 Model](#L2-model)\n",
        "    - [Analysis](#analysis)\n",
        "* [Model Interpretability & Explainability](#model-explanation)\n",
        "* [Conclusion](#conclusion)"
      ]
    },
    {
      "cell_type": "markdown",
      "metadata": {
        "id": "_TBIHKRt8g--"
      },
      "source": [
        "## Executive Summary\n",
        "\n",
        "### Abstract\n",
        "The objective of the case study is to identify what elements, characteristics, and exploratory variables correlate to superconductors by identifying relationships with high critical temperatures. This is done by regressing the critical temperature of many superconductors of varying elemental composition based on a range of quantitative material characteristics.\n",
        "\n",
        "### Introduction\n",
        "A superconductor is a material that will exhibit extremely low to no electrical resistance at a sufficiently low enough temperature, resulting in infinite conductivity. This still little-understood phenomenon at which a material reaches the physical state of superconductivity occurs suddenly at a temperature known as the critical temperature. In 1911 the Dutch physicist Heike Kamerlingh Onnes discovered Mercury (Hg) as the first superconductor at a critical temperature of 4 degrees Kelvin (or -424 degrees Fahrenheit). Since then, researchers have discovered and developed many superconducting compounds, including metal alloys and ceramics, intending to find materials with higher critical temperatures (or ideally, those as close to room temperature as possible), as the requirement of extreme cooling is both expensive and challenging to achieve.\n",
        "The dataset contains 21,263 observations of materials. The information for these observations includes the ratios of 77 different elements and 81 quantitative material characteristics of the compounds. The goal is to predict the Critical Temperature and find which combination of these variables can positively or negatively correlate most with increased critical temperature to identify valuable new superconductors' traits.\n",
        "\n",
        "### Methods\n",
        "Dataset provided two files containing measurements of material characteristics and another with the elemental compositions. The two files were combined for use in this analysis along with the target response variable, critical temperature. There were no missing values in the data provided for this analysis. The team also identified a few outliers' (82 rows) in the clean-up process. The team worked on a model that will help determine which individual features contribute most to increases in critical temperature. Therefore, linear regression is best for this case as the response variable is continuous. The team split the data as a training set to build the model and a test set to validate the model's outcome. \n",
        "After combining the two data files, the data set contained 158 features to start. This dataset was very complex to interpret and drive any kind of correlation and may result in over-fitting the model. After initial exploration of the dataset, the team built a linear model with all 158 features as a baseline. Followed by the linear model using a LASSO algorithm to select the most pertinent variables, and then Ridge regression to fit the model using the smaller set of variables chosen to reduce the chances of overfitting without further reducing the number of variables . The primary objective was to reduce the number of explanatory variables, to build a meaningful model and ensure the accuracy and explain ability of a dependable variable by the independent variable is not compromised.\n",
        " The prime criteria to evaluate the model was to minimize the error (mean square error) and increase the explanation of the relationship between independent and dependent variables (r – square). The team also made a few manual adjustments to optimize (trade-off) the model's accuracy and enhance the model interpretation. The team investigated the correlations, checked the multi-collinearity, and kept the most relevant features. \n",
        " \n",
        "### Results\n",
        "The coefficients representing the feature importance in the final linear model and the summary table with vital statistics are shown in the figures below.\n",
        "\n",
        "\n",
        "\n",
        "The team started building the model with the notion of predicting the critical temperature based on   material composition and properties given. Entropy, Thermal Conductivity and Atomic Radius has the high influence on critical temperature (show positive correlation) of superconductors to achieve superconductivity. Also, the presence of Barium (Ba), Calcium (Ca) and Bismuth (Bi) helps increase the critical temperature. \n",
        "We observed an interesting result that only around nine (9) features and thirteen (13) materials, out of 158, dominate the outcome. This model could potentially provide the scientific community with some insight to narrow their research to a few key factors and elements.\n"
      ]
    },
    {
      "cell_type": "markdown",
      "metadata": {
        "id": "TRedT-FB8g_A"
      },
      "source": [
        "# Business Understanding <a id='business-understanding'/>"
      ]
    },
    {
      "cell_type": "markdown",
      "metadata": {
        "id": "G-yPSzYg8g_A"
      },
      "source": [
        "\n",
        "\n",
        "The primary purpose is to research is for the prediction of new superconductors and at the temperature at which they would occur based on the experimental data provided.\n",
        "\n",
        "We have been provided with two files, once which lists the critical temperature at which the superconductor occurs and the properties associated to the superconductor. A second file maps the materials and breaks down the elements for each of the superconductors. \n",
        "\n",
        "Both files contains 21,263 records, with the training file and material files containing 88 variables, and 82 variables respectively. There are no duplicate records, however both the training and materials files contain a duplicate critical_temp column.\n",
        "\n",
        "Our goal is to create models that predict the __critical temperature__, our target variable, for which a superconductor might occur. To do so we will be creating regression models (Ridge and Lasso), and utilizing different dimensionality reduction techniques to improve training time, avoid overfitting, and take care of multicollinearity. We will be using k-fold cross validation that will help our model have low bias, and evaluating our models using RMSE and an adjusted R^2.\n",
        "\n",
        "\n"
      ]
    },
    {
      "cell_type": "markdown",
      "metadata": {
        "id": "PVtcYu5j8g_B"
      },
      "source": [
        "# Data Evaluation <a id='data-evaluation'>\n",
        "    "
      ]
    },
    {
      "cell_type": "markdown",
      "metadata": {
        "id": "ox-qLqjc8g_B"
      },
      "source": [
        "The data comes from a Japanese database, Materials Data Repository.  It is a database repository or materials research and publications.  The data we are working with has been used in a variety of analysis and publications available online conducting similar analysis to what we have done in our assignment."
      ]
    },
    {
      "cell_type": "code",
      "execution_count": null,
      "metadata": {
        "id": "qcBcP8Jy8g_C"
      },
      "outputs": [],
      "source": [
        "# standard libraries\n",
        "import pandas as pd\n",
        "import numpy as np\n",
        "import time\n",
        "import re #regex\n",
        "from IPython.display import Image\n",
        "\n",
        "# visualization\n",
        "import seaborn as sns\n",
        "import matplotlib.pyplot as plt\n",
        "%matplotlib inline\n",
        "\n",
        "# data pre-processing\n",
        "from sklearn.preprocessing import StandardScaler\n",
        "#from sklearn import preprocessing\n",
        "\n",
        "# prediction models\n",
        "from sklearn.model_selection import train_test_split\n",
        "#from sklearn.model_selection import ShuffleSplit\n",
        "from sklearn.model_selection import cross_validate\n",
        "from sklearn.model_selection import cross_val_predict\n",
        "#from sklearn.linear_model import LinearRegression\n",
        "from sklearn.linear_model import Ridge\n",
        "from sklearn.linear_model import Lasso\n",
        "from sklearn.linear_model import LassoLarsIC\n",
        "from sklearn import metrics as mt\n",
        "from sklearn.metrics import r2_score\n",
        "from sklearn.metrics import mean_squared_error as mse\n",
        "from sklearn.metrics import make_scorer\n",
        "from kneed import KneeLocator\n",
        "from scipy import stats\n",
        "\n",
        "# import warnings filter\n",
        "import warnings\n",
        "warnings.filterwarnings('ignore')\n",
        "from warnings import simplefilter\n",
        "# ignore all future warnings\n",
        "simplefilter(action='ignore', category=FutureWarning)\n",
        "\n",
        "from tabulate import tabulate"
      ]
    },
    {
      "cell_type": "markdown",
      "metadata": {
        "id": "4WcvKI3y8g_C"
      },
      "source": [
        "## Loading Data"
      ]
    },
    {
      "cell_type": "markdown",
      "metadata": {
        "id": "ZDhb7boF8g_D"
      },
      "source": [
        "#### After loading data we noticed that all but three of the characteristics (number of elements, range of atomic mass of radius, range of valence) are floats."
      ]
    },
    {
      "cell_type": "code",
      "execution_count": null,
      "metadata": {
        "id": "3dYvb9W38g_D"
      },
      "outputs": [],
      "source": [
        "materials = pd.read_csv('superconduct/unique_m.csv') \n",
        "characteristics = pd.read_csv('superconduct/train.csv')"
      ]
    },
    {
      "cell_type": "code",
      "execution_count": null,
      "metadata": {
        "id": "FjHxbt_H8g_E",
        "outputId": "97b5781a-8ad5-4eeb-d204-3a8ca11e78aa"
      },
      "outputs": [
        {
          "name": "stdout",
          "output_type": "stream",
          "text": [
            "╒════╤═════════════════════════════════╤══════════════════════════════════════════════════════╤═════════╕\n",
            "│    │ Variable                        │ Description                                          │ Type    │\n",
            "╞════╪═════════════════════════════════╪══════════════════════════════════════════════════════╪═════════╡\n",
            "│  0 │ number_of_elements              │ number of elements                                   │ Integer │\n",
            "├────┼─────────────────────────────────┼──────────────────────────────────────────────────────┼─────────┤\n",
            "│  1 │ mean_atomic_mass                │ mean of atomic mass                                  │ Float   │\n",
            "├────┼─────────────────────────────────┼──────────────────────────────────────────────────────┼─────────┤\n",
            "│  2 │ wtd_mean_atomic_mass            │ weighted mean of atomic mass                         │ Float   │\n",
            "├────┼─────────────────────────────────┼──────────────────────────────────────────────────────┼─────────┤\n",
            "│  3 │ gmean_atomic_mass               │ geometric mean of atomic mass                        │ Float   │\n",
            "├────┼─────────────────────────────────┼──────────────────────────────────────────────────────┼─────────┤\n",
            "│  4 │ wtd_gmean_atomic_mass           │ weighted geometic mean of atomic mass                │ Float   │\n",
            "├────┼─────────────────────────────────┼──────────────────────────────────────────────────────┼─────────┤\n",
            "│  5 │ entropy_atomic_mass             │ entropy of atomic mass                               │ Float   │\n",
            "├────┼─────────────────────────────────┼──────────────────────────────────────────────────────┼─────────┤\n",
            "│  6 │ wtd_entropy_atomic_mass         │ weighted entropy of atomic mass                      │ Float   │\n",
            "├────┼─────────────────────────────────┼──────────────────────────────────────────────────────┼─────────┤\n",
            "│  7 │ range_atomic_mass               │ range of atomic mass                                 │ Float   │\n",
            "├────┼─────────────────────────────────┼──────────────────────────────────────────────────────┼─────────┤\n",
            "│  8 │ wtd_range_atomic_mass           │ weighted range of atomic mass                        │ Float   │\n",
            "├────┼─────────────────────────────────┼──────────────────────────────────────────────────────┼─────────┤\n",
            "│  9 │ std_atomic_mass                 │ standard deviation of atomic mass                    │ Float   │\n",
            "├────┼─────────────────────────────────┼──────────────────────────────────────────────────────┼─────────┤\n",
            "│ 10 │ wtd_std_atomic_mass             │ weighted standard deviation of atomic mass           │ Float   │\n",
            "├────┼─────────────────────────────────┼──────────────────────────────────────────────────────┼─────────┤\n",
            "│ 11 │ mean_fie                        │ mean phi                                             │ Float   │\n",
            "├────┼─────────────────────────────────┼──────────────────────────────────────────────────────┼─────────┤\n",
            "│ 12 │ wtd_mean_fie                    │ weighted mean phi                                    │ Float   │\n",
            "├────┼─────────────────────────────────┼──────────────────────────────────────────────────────┼─────────┤\n",
            "│ 13 │ gmean_fie                       │ geometric mean phi                                   │ Float   │\n",
            "├────┼─────────────────────────────────┼──────────────────────────────────────────────────────┼─────────┤\n",
            "│ 14 │ wtd_gmean_fie                   │ weighted geometric mean phi                          │ Float   │\n",
            "├────┼─────────────────────────────────┼──────────────────────────────────────────────────────┼─────────┤\n",
            "│ 15 │ entropy_fie                     │ entropy phi                                          │ Float   │\n",
            "├────┼─────────────────────────────────┼──────────────────────────────────────────────────────┼─────────┤\n",
            "│ 16 │ wtd_entropy_fie                 │ wegithed entropy phi                                 │ Float   │\n",
            "├────┼─────────────────────────────────┼──────────────────────────────────────────────────────┼─────────┤\n",
            "│ 17 │ range_fie                       │ range of phi                                         │ Float   │\n",
            "├────┼─────────────────────────────────┼──────────────────────────────────────────────────────┼─────────┤\n",
            "│ 18 │ wtd_range_fie                   │ weighted range of phi                                │ Float   │\n",
            "├────┼─────────────────────────────────┼──────────────────────────────────────────────────────┼─────────┤\n",
            "│ 19 │ std_fie                         │ standard deviation of phi                            │ Float   │\n",
            "├────┼─────────────────────────────────┼──────────────────────────────────────────────────────┼─────────┤\n",
            "│ 20 │ wtd_std_fie                     │ weighted standard deviation of phi                   │ Float   │\n",
            "├────┼─────────────────────────────────┼──────────────────────────────────────────────────────┼─────────┤\n",
            "│ 21 │ mean_atomic_radius              │ atomic mean of radius                                │ Float   │\n",
            "├────┼─────────────────────────────────┼──────────────────────────────────────────────────────┼─────────┤\n",
            "│ 22 │ wtd_mean_atomic_radius          │ weighted atomic mean of radius                       │ Float   │\n",
            "├────┼─────────────────────────────────┼──────────────────────────────────────────────────────┼─────────┤\n",
            "│ 23 │ gmean_atomic_radius             │ geometric atomic of radius                           │ Float   │\n",
            "├────┼─────────────────────────────────┼──────────────────────────────────────────────────────┼─────────┤\n",
            "│ 24 │ wtd_gmean_atomic_radius         │ weighted geometric mean of radius                    │ Float   │\n",
            "├────┼─────────────────────────────────┼──────────────────────────────────────────────────────┼─────────┤\n",
            "│ 25 │ entropy_atomic_radius           │ entrophy of atomic of radius                         │ Float   │\n",
            "├────┼─────────────────────────────────┼──────────────────────────────────────────────────────┼─────────┤\n",
            "│ 26 │ wtd_entropy_atomic_radius       │ weighted entrophy of atomic of Radius                │ Float   │\n",
            "├────┼─────────────────────────────────┼──────────────────────────────────────────────────────┼─────────┤\n",
            "│ 27 │ range_atomic_radius             │ range of atomic mass of radius                       │ Integer │\n",
            "├────┼─────────────────────────────────┼──────────────────────────────────────────────────────┼─────────┤\n",
            "│ 28 │ wtd_range_atomic_radius         │ weighted range of atomic mass of radius              │ Float   │\n",
            "├────┼─────────────────────────────────┼──────────────────────────────────────────────────────┼─────────┤\n",
            "│ 29 │ std_atomic_radius               │ standard deviation of atomic mass of radius          │ Float   │\n",
            "├────┼─────────────────────────────────┼──────────────────────────────────────────────────────┼─────────┤\n",
            "│ 30 │ wtd_std_atomic_radius           │ weighted standard deviation of atomic mass of radius │ Float   │\n",
            "├────┼─────────────────────────────────┼──────────────────────────────────────────────────────┼─────────┤\n",
            "│ 31 │ mean_Density                    │ mean of density                                      │ Float   │\n",
            "├────┼─────────────────────────────────┼──────────────────────────────────────────────────────┼─────────┤\n",
            "│ 32 │ wtd_mean_Density                │ weighted mean of density                             │ Float   │\n",
            "├────┼─────────────────────────────────┼──────────────────────────────────────────────────────┼─────────┤\n",
            "│ 33 │ gmean_Density                   │ geometic mean of density                             │ Float   │\n",
            "├────┼─────────────────────────────────┼──────────────────────────────────────────────────────┼─────────┤\n",
            "│ 34 │ wtd_gmean_Density               │ weighted geometic mean of density                    │ Float   │\n",
            "├────┼─────────────────────────────────┼──────────────────────────────────────────────────────┼─────────┤\n",
            "│ 35 │ entropy_Density                 │ entropy of density                                   │ Float   │\n",
            "├────┼─────────────────────────────────┼──────────────────────────────────────────────────────┼─────────┤\n",
            "│ 36 │ wtd_entropy_Density             │ weighted entropy of denisty                          │ Float   │\n",
            "├────┼─────────────────────────────────┼──────────────────────────────────────────────────────┼─────────┤\n",
            "│ 37 │ range_Density                   │ range of density                                     │ Float   │\n",
            "├────┼─────────────────────────────────┼──────────────────────────────────────────────────────┼─────────┤\n",
            "│ 38 │ wtd_range_Density               │ weighted range of density                            │ Float   │\n",
            "├────┼─────────────────────────────────┼──────────────────────────────────────────────────────┼─────────┤\n",
            "│ 39 │ std_Density                     │ standard deviation of density                        │ Float   │\n",
            "├────┼─────────────────────────────────┼──────────────────────────────────────────────────────┼─────────┤\n",
            "│ 40 │ wtd_std_Density                 │ weighted standard deviation of density               │ Float   │\n",
            "├────┼─────────────────────────────────┼──────────────────────────────────────────────────────┼─────────┤\n",
            "│ 41 │ mean_ElectronAffinity           │ mean of electron affinity                            │ Float   │\n",
            "├────┼─────────────────────────────────┼──────────────────────────────────────────────────────┼─────────┤\n",
            "│ 42 │ wtd_mean_ElectronAffinity       │ weighted mean of electronic effinity                 │ Float   │\n",
            "├────┼─────────────────────────────────┼──────────────────────────────────────────────────────┼─────────┤\n",
            "│ 43 │ gmean_ElectronAffinity          │ geometic mean of electron affinity                   │ Float   │\n",
            "├────┼─────────────────────────────────┼──────────────────────────────────────────────────────┼─────────┤\n",
            "│ 44 │ wtd_gmean_ElectronAffinity      │ weighted geometic mean of electrong affinity         │ Float   │\n",
            "├────┼─────────────────────────────────┼──────────────────────────────────────────────────────┼─────────┤\n",
            "│ 45 │ entropy_ElectronAffinity        │ entropy of electrong affinity                        │ Float   │\n",
            "├────┼─────────────────────────────────┼──────────────────────────────────────────────────────┼─────────┤\n",
            "│ 46 │ wtd_entropy_ElectronAffinity    │ weighted entropy of electrong affinity               │ Float   │\n",
            "├────┼─────────────────────────────────┼──────────────────────────────────────────────────────┼─────────┤\n",
            "│ 47 │ range_ElectronAffinity          │ range of electrong affinity                          │ Float   │\n",
            "├────┼─────────────────────────────────┼──────────────────────────────────────────────────────┼─────────┤\n",
            "│ 48 │ wtd_range_ElectronAffinity      │ weighted range of electrong affinity                 │ Float   │\n",
            "├────┼─────────────────────────────────┼──────────────────────────────────────────────────────┼─────────┤\n",
            "│ 49 │ std_ElectronAffinity            │ standard deviation of electrong affinity             │ Float   │\n",
            "├────┼─────────────────────────────────┼──────────────────────────────────────────────────────┼─────────┤\n",
            "│ 50 │ wtd_std_ElectronAffinity        │ weighted standard deviation of electrong affinity    │ Float   │\n",
            "├────┼─────────────────────────────────┼──────────────────────────────────────────────────────┼─────────┤\n",
            "│ 51 │ mean_FusionHeat                 │ mean of fusion heat                                  │ Float   │\n",
            "├────┼─────────────────────────────────┼──────────────────────────────────────────────────────┼─────────┤\n",
            "│ 52 │ wtd_mean_FusionHeat             │ weighted mean of fusion heat                         │ Float   │\n",
            "├────┼─────────────────────────────────┼──────────────────────────────────────────────────────┼─────────┤\n",
            "│ 53 │ gmean_FusionHeat                │ geometic mean of fusion heat                         │ Float   │\n",
            "├────┼─────────────────────────────────┼──────────────────────────────────────────────────────┼─────────┤\n",
            "│ 54 │ wtd_gmean_FusionHeat            │ weighted geometric mean of fusion heat               │ Float   │\n",
            "├────┼─────────────────────────────────┼──────────────────────────────────────────────────────┼─────────┤\n",
            "│ 55 │ entropy_FusionHeat              │ entropy of fusion heat                               │ Float   │\n",
            "├────┼─────────────────────────────────┼──────────────────────────────────────────────────────┼─────────┤\n",
            "│ 56 │ wtd_entropy_FusionHeat          │ weighted entropy of fusion heat                      │ Float   │\n",
            "├────┼─────────────────────────────────┼──────────────────────────────────────────────────────┼─────────┤\n",
            "│ 57 │ range_FusionHeat                │ Range of fusion heat                                 │ Float   │\n",
            "├────┼─────────────────────────────────┼──────────────────────────────────────────────────────┼─────────┤\n",
            "│ 58 │ wtd_range_FusionHeat            │ weighted range fusion heat                           │ Float   │\n",
            "├────┼─────────────────────────────────┼──────────────────────────────────────────────────────┼─────────┤\n",
            "│ 59 │ std_FusionHeat                  │ standard deviation of fusion heat                    │ Float   │\n",
            "├────┼─────────────────────────────────┼──────────────────────────────────────────────────────┼─────────┤\n",
            "│ 60 │ wtd_std_FusionHeat              │ weighted standard deviation of fusion heat           │ Float   │\n",
            "├────┼─────────────────────────────────┼──────────────────────────────────────────────────────┼─────────┤\n",
            "│ 61 │ mean_ThermalConductivity        │ mean of thermal conductivity                         │ Float   │\n",
            "├────┼─────────────────────────────────┼──────────────────────────────────────────────────────┼─────────┤\n",
            "│ 62 │ wtd_mean_ThermalConductivity    │ weighted mean of thermal conductivity                │ Float   │\n",
            "├────┼─────────────────────────────────┼──────────────────────────────────────────────────────┼─────────┤\n",
            "│ 63 │ gmean_ThermalConductivity       │ geometric mean of thermal conductivity               │ Float   │\n",
            "├────┼─────────────────────────────────┼──────────────────────────────────────────────────────┼─────────┤\n",
            "│ 64 │ wtd_gmean_ThermalConductivity   │ weighted geometric mean of thermal conductivity      │ Float   │\n",
            "├────┼─────────────────────────────────┼──────────────────────────────────────────────────────┼─────────┤\n",
            "│ 65 │ entropy_ThermalConductivity     │ entrophy of thermal conductivity                     │ Float   │\n",
            "├────┼─────────────────────────────────┼──────────────────────────────────────────────────────┼─────────┤\n",
            "│ 66 │ wtd_entropy_ThermalConductivity │ weighted entropy of thermal conductivity             │ Float   │\n",
            "├────┼─────────────────────────────────┼──────────────────────────────────────────────────────┼─────────┤\n",
            "│ 67 │ range_ThermalConductivity       │ range of thermal conductivity                        │ Float   │\n",
            "├────┼─────────────────────────────────┼──────────────────────────────────────────────────────┼─────────┤\n",
            "│ 68 │ wtd_range_ThermalConductivity   │ weighted range of thermal conductivity               │ Float   │\n",
            "├────┼─────────────────────────────────┼──────────────────────────────────────────────────────┼─────────┤\n",
            "│ 69 │ std_ThermalConductivity         │ standard deviation of thermal conductivity           │ Float   │\n",
            "├────┼─────────────────────────────────┼──────────────────────────────────────────────────────┼─────────┤\n",
            "│ 70 │ wtd_std_ThermalConductivity     │ weighted standard deviation of thermal conductivity  │ Float   │\n",
            "├────┼─────────────────────────────────┼──────────────────────────────────────────────────────┼─────────┤\n",
            "│ 71 │ mean_Valence                    │ mean of valence                                      │ Float   │\n",
            "├────┼─────────────────────────────────┼──────────────────────────────────────────────────────┼─────────┤\n",
            "│ 72 │ wtd_mean_Valence                │ weighted mean of valence                             │ Float   │\n",
            "├────┼─────────────────────────────────┼──────────────────────────────────────────────────────┼─────────┤\n",
            "│ 73 │ gmean_Valence                   │ geometric mean of valence                            │ Float   │\n",
            "├────┼─────────────────────────────────┼──────────────────────────────────────────────────────┼─────────┤\n",
            "│ 74 │ wtd_gmean_Valence               │ weighted geometric mean of valence                   │ Float   │\n",
            "├────┼─────────────────────────────────┼──────────────────────────────────────────────────────┼─────────┤\n",
            "│ 75 │ entropy_Valence                 │ entropy of valence                                   │ Float   │\n",
            "├────┼─────────────────────────────────┼──────────────────────────────────────────────────────┼─────────┤\n",
            "│ 76 │ wtd_entropy_Valence             │ weighted entrophy of valence                         │ Float   │\n",
            "├────┼─────────────────────────────────┼──────────────────────────────────────────────────────┼─────────┤\n",
            "│ 77 │ range_Valence                   │ range of valence                                     │ Integer │\n",
            "├────┼─────────────────────────────────┼──────────────────────────────────────────────────────┼─────────┤\n",
            "│ 78 │ wtd_range_Valence               │ weighted range of valence                            │ Float   │\n",
            "├────┼─────────────────────────────────┼──────────────────────────────────────────────────────┼─────────┤\n",
            "│ 79 │ std_Valence                     │ standard deviation of valence                        │ Float   │\n",
            "├────┼─────────────────────────────────┼──────────────────────────────────────────────────────┼─────────┤\n",
            "│ 80 │ wtd_std_Valence                 │ weighted standard deviation of valence               │ Float   │\n",
            "├────┼─────────────────────────────────┼──────────────────────────────────────────────────────┼─────────┤\n",
            "│ 81 │ critical_temp                   │ critical temperature                                 │ Float   │\n",
            "╘════╧═════════════════════════════════╧══════════════════════════════════════════════════════╧═════════╛\n"
          ]
        }
      ],
      "source": [
        "datadictionary = pd.read_csv('datadictionary.csv') \n",
        "col_names = [\"Variable\", \"Description\", \"Type\"]\n",
        "print(tabulate(datadictionary, headers=col_names, tablefmt='fancy_grid'))"
      ]
    },
    {
      "cell_type": "markdown",
      "metadata": {
        "id": "Aws5HAx98g_E"
      },
      "source": [
        "## Missing Data\n",
        "\n",
        "We looked at both the materials datasets and the train dataset and there appears to be no any missing values."
      ]
    },
    {
      "cell_type": "code",
      "execution_count": null,
      "metadata": {
        "id": "2BgB13po8g_F",
        "outputId": "aba28207-2ccb-4d38-b36a-adcd6d28dd45"
      },
      "outputs": [
        {
          "data": {
            "text/plain": [
              "False"
            ]
          },
          "execution_count": 137,
          "metadata": {},
          "output_type": "execute_result"
        }
      ],
      "source": [
        "materials.isnull().values.any()"
      ]
    },
    {
      "cell_type": "code",
      "execution_count": null,
      "metadata": {
        "id": "dZodlkIj8g_G",
        "outputId": "e4228e6c-6724-4073-c19a-9d665e6b233a"
      },
      "outputs": [
        {
          "data": {
            "text/plain": [
              "False"
            ]
          },
          "execution_count": 138,
          "metadata": {},
          "output_type": "execute_result"
        }
      ],
      "source": [
        "characteristics.isnull().values.any()"
      ]
    },
    {
      "cell_type": "markdown",
      "metadata": {
        "id": "Nx6EZu4p8g_G"
      },
      "source": [
        "## Exploring Correlations of Features \n",
        "\n",
        "We examined the correlations the pair correlations of features, and decided to remove the following three as they made it the final model, yet did not improve the overall perfomance. "
      ]
    },
    {
      "cell_type": "code",
      "execution_count": null,
      "metadata": {
        "id": "t_msk-6Z8g_H",
        "outputId": "d17150a6-3d4a-486e-9c8f-a1122eeb78d1"
      },
      "outputs": [
        {
          "data": {
            "image/png": "[encoded data removed]",
            "text/plain": [
              "<Figure size 432x288 with 1 Axes>"
            ]
          },
          "metadata": {
            "needs_background": "light"
          },
          "output_type": "display_data"
        }
      ],
      "source": [
        "sns.regplot(y='wtd_mean_ThermalConductivity', x='wtd_gmean_ThermalConductivity', data=characteristics);\n"
      ]
    },
    {
      "cell_type": "code",
      "execution_count": null,
      "metadata": {
        "id": "LTQ1K7HW8g_I",
        "outputId": "c4661fcd-b6c7-432a-f678-d5e5b9f6799f"
      },
      "outputs": [
        {
          "data": {
            "image/png": "[encoded data removed]",
            "text/plain": [
              "<Figure size 432x288 with 1 Axes>"
            ]
          },
          "metadata": {
            "needs_background": "light"
          },
          "output_type": "display_data"
        }
      ],
      "source": [
        "sns.regplot(y='wtd_mean_ThermalConductivity', x='wtd_std_ThermalConductivity', data=characteristics);"
      ]
    },
    {
      "cell_type": "code",
      "execution_count": null,
      "metadata": {
        "id": "o2ySju148g_I",
        "outputId": "68a3bddd-dc25-4339-c1df-72cf2baf8ddf"
      },
      "outputs": [
        {
          "data": {
            "image/png": "[encoded data removed]",
            "text/plain": [
              "<Figure size 432x288 with 1 Axes>"
            ]
          },
          "metadata": {
            "needs_background": "light"
          },
          "output_type": "display_data"
        }
      ],
      "source": [
        "sns.regplot(x='range_atomic_radius', y='range_fie', data=characteristics);"
      ]
    },
    {
      "cell_type": "markdown",
      "metadata": {
        "id": "21Kdalsl8g_I"
      },
      "source": [
        "### Which variables are needed (which ones are not)? "
      ]
    },
    {
      "cell_type": "markdown",
      "metadata": {
        "id": "786e5_En8g_J"
      },
      "source": [
        "We removed 9 elements (He', 'Ne', 'Ar', 'Kr', 'Xe', 'Pm', 'Po', 'At', 'Rn') that were not present in any of the materials we examined, therefore they will not contribute to the model. We speculate that the reason for these elements not showing up in any of the materials is that they're noble gases and don't have the propensity to react with any other elements. We additionally removed three characterics ('wtd_gmean_ThermalConductivity', 'wtd_std_ThermalConductivity','range_fie') from our features that were indentified from the multicollinearity analysis and instead kept the features that had higher correlations with the critical temperature."
      ]
    },
    {
      "cell_type": "code",
      "execution_count": null,
      "metadata": {
        "id": "nbvlZHwG8g_J",
        "outputId": "7d4129ab-bef6-4cdc-f7c5-ead4f1586f5f"
      },
      "outputs": [
        {
          "name": "stdout",
          "output_type": "stream",
          "text": [
            "Material Drops ['He', 'Ne', 'Ar', 'Kr', 'Xe', 'Pm', 'Po', 'At', 'Rn']\n",
            "Characteristics  ['wtd_gmean_ThermalConductivity', 'wtd_std_ThermalConductivity', 'range_fie']\n"
          ]
        }
      ],
      "source": [
        "describe =  materials.describe()\n",
        "cols = describe.columns\n",
        "material_drops = [c for c in cols if describe[c]['max'] == 0.0]\n",
        "#characteristic_drops = ['wtd_gmean_ThermalConductivity', 'wtd_std_ThermalConductivity','range_fie']\n",
        "print(\"Material Drops\", material_drops)\n",
        "print(\"Characteristics \", characteristic_drops)"
      ]
    },
    {
      "cell_type": "code",
      "execution_count": null,
      "metadata": {
        "id": "yVir1QZ68g_J"
      },
      "outputs": [],
      "source": [
        "materials = materials.drop(material_drops, axis = 1)\n",
        "#characteristics = train.drop(characteristic_drops, axis = 1)"
      ]
    },
    {
      "cell_type": "markdown",
      "metadata": {
        "id": "2XbhroCB8g_K"
      },
      "source": [
        "##### cleaning up files before combining, critical temp (duplicated in characteristics) and material (unneeded) from materials"
      ]
    },
    {
      "cell_type": "code",
      "execution_count": null,
      "metadata": {
        "id": "jVlerbCn8g_K"
      },
      "outputs": [],
      "source": [
        "materials = materials.drop(['critical_temp', 'material'], axis = 1)"
      ]
    },
    {
      "cell_type": "markdown",
      "metadata": {
        "id": "nuD-TksI8g_K"
      },
      "source": [
        "#### Combining Datasets"
      ]
    },
    {
      "cell_type": "code",
      "execution_count": null,
      "metadata": {
        "id": "UhFGRpPs8g_L"
      },
      "outputs": [],
      "source": [
        "df = pd.concat([materials, characteristics ], axis=1)"
      ]
    },
    {
      "cell_type": "markdown",
      "metadata": {
        "id": "_xkn1C4D8g_L"
      },
      "source": [
        "## Determining Outliers and Removing Outliers\n",
        "\n",
        "Outliers of explanatory variables were identified based on visual inspection of boxplots. Outliers were at least twice as far from the next highest point."
      ]
    },
    {
      "cell_type": "code",
      "execution_count": null,
      "metadata": {
        "scrolled": true,
        "id": "LPfrx_yf8g_M",
        "outputId": "e2e5c48f-9e61-48e8-b034-8feb5ff4a455"
      },
      "outputs": [
        {
          "data": {
            "image/png": "[encoded data removed]",
            "text/plain": [
              "<Figure size 1224x360 with 5 Axes>"
            ]
          },
          "metadata": {
            "needs_background": "light"
          },
          "output_type": "display_data"
        }
      ],
      "source": [
        "fig, axes = plt.subplots(1, 5, figsize=(17, 5))\n",
        "fig.suptitle('Elements with Outliers')\n",
        "outlier_elem = ['B', 'Pr', 'Cd', 'Fe', 'Tc']\n",
        "for i,j in zip(outlier_elem, range(5)):\n",
        "    sns.boxplot(ax = axes[j], x = materials[i]); "
      ]
    },
    {
      "cell_type": "code",
      "execution_count": null,
      "metadata": {
        "id": "AIh1BXe78g_M",
        "outputId": "0abf2917-143f-4dd7-9827-934b076992a3"
      },
      "outputs": [
        {
          "name": "stdout",
          "output_type": "stream",
          "text": [
            "(21257, 159)\n"
          ]
        }
      ],
      "source": [
        "\n",
        "df = df[ df['B'] < df['B'].max() ]\n",
        "df = df[ df['Pr'] < df['Pr'].max() ]\n",
        "df = df[ df['Cd'] < df['Cd'].max() ]\n",
        "df = df[ df['Fe'] < df['Fe'].max() ]\n",
        "df = df[ df['Tc'] < df['Tc'].max() ]\n",
        "df = df[ df.index != 5918] # outlier in log transform models\n",
        "print(df.shape)"
      ]
    },
    {
      "cell_type": "markdown",
      "metadata": {
        "id": "ChoPhHdx8g_M"
      },
      "source": [
        "## Examining Distribution of Target Variable: Critical Temperature\n",
        "\n",
        "###### Even though it is skewed, our sample size is large enough for the Central Limit Theorm to apply.  We noticed the data is bimodal, which could indicate that there are different relationships for high temperature superconductors and regular superconductors (does not represent 1 population), making data interpretation more dificult.\n",
        "\n",
        "(check the residuals for normality)"
      ]
    },
    {
      "cell_type": "markdown",
      "metadata": {
        "id": "oIUJ1iGx8g_N"
      },
      "source": [
        "### Distribution of critical temperature "
      ]
    },
    {
      "cell_type": "code",
      "execution_count": null,
      "metadata": {
        "id": "dffNQE0U8g_O",
        "outputId": "2b60bd40-fbf2-41e0-81d2-af28792a5846"
      },
      "outputs": [
        {
          "data": {
            "image/png": "[encoded data removed]",
            "text/plain": [
              "<Figure size 432x288 with 1 Axes>"
            ]
          },
          "metadata": {
            "needs_background": "light"
          },
          "output_type": "display_data"
        }
      ],
      "source": [
        "sns.distplot(df['critical_temp']);"
      ]
    },
    {
      "cell_type": "markdown",
      "metadata": {
        "id": "ydLiJQw38g_R"
      },
      "source": [
        "### Distribution of log of critical temperature"
      ]
    },
    {
      "cell_type": "code",
      "execution_count": null,
      "metadata": {
        "id": "HW8CvJoa8g_R",
        "outputId": "d0d80af9-6442-444b-b467-e8abec7227d7"
      },
      "outputs": [
        {
          "data": {
            "image/png": "[encoded data removed]",
            "text/plain": [
              "<Figure size 432x288 with 1 Axes>"
            ]
          },
          "metadata": {
            "needs_background": "light"
          },
          "output_type": "display_data"
        }
      ],
      "source": [
        "sns.distplot(np.log(df['critical_temp']));"
      ]
    },
    {
      "cell_type": "code",
      "execution_count": null,
      "metadata": {
        "id": "ATM7DPxx8g_T",
        "outputId": "dc158a0f-b286-473b-ba0b-29f8e7019809"
      },
      "outputs": [
        {
          "data": {
            "image/png": "[encoded data removed]",
            "text/plain": [
              "<IPython.core.display.Image object>"
            ]
          },
          "execution_count": 150,
          "metadata": {},
          "output_type": "execute_result"
        }
      ],
      "source": [
        "\n",
        "Image(filename='resid_hist.png') "
      ]
    },
    {
      "cell_type": "markdown",
      "metadata": {
        "id": "2Jugqcsr8g_U"
      },
      "source": [
        "# Skew Of Data"
      ]
    },
    {
      "cell_type": "code",
      "execution_count": null,
      "metadata": {
        "id": "EByi2xhi8g_V",
        "outputId": "9b9b2606-630d-4c79-e314-b6d95a96097b"
      },
      "outputs": [
        {
          "name": "stdout",
          "output_type": "stream",
          "text": [
            "1.5039066527525764 wtd_mean_atomic_mass\n",
            "1.474815716460679 gmean_atomic_mass\n",
            "1.6982799470264731 wtd_gmean_atomic_mass\n",
            "2.4638078639298486 wtd_range_atomic_mass\n",
            "1.009764280457501 mean_fie\n",
            "1.1919286264562294 gmean_fie\n",
            "1.643162460903729 wtd_range_atomic_radius\n",
            "2.103343841114579 mean_Density\n",
            "2.1377633652220895 wtd_mean_Density\n",
            "1.6591282559918128 gmean_Density\n",
            "1.6509298548729716 wtd_gmean_Density\n",
            "3.322725556824231 wtd_range_Density\n",
            "1.098437437881419 mean_ElectronAffinity\n",
            "1.3497357705423987 gmean_ElectronAffinity\n",
            "2.5227818804703905 mean_FusionHeat\n",
            "2.7638258028710343 wtd_mean_FusionHeat\n",
            "2.665477197882816 gmean_FusionHeat\n",
            "2.4875423104652383 wtd_gmean_FusionHeat\n",
            "2.7485818063583047 range_FusionHeat\n",
            "4.233613879127433 wtd_range_FusionHeat\n",
            "2.822554806107452 std_FusionHeat\n",
            "2.850133800691453 wtd_std_FusionHeat\n",
            "1.379703282816514 wtd_mean_ThermalConductivity\n",
            "2.3399514687914174 gmean_ThermalConductivity\n",
            "2.588304794394417 wtd_gmean_ThermalConductivity\n",
            "1.4159181865406276 wtd_range_ThermalConductivity\n",
            "1.0036311156826092 mean_Valence\n",
            "1.1684528392700264 gmean_Valence\n",
            "1.0168000426678279 wtd_gmean_Valence\n",
            "1.547605067282474 wtd_range_Valence\n"
          ]
        },
        {
          "name": "stderr",
          "output_type": "stream",
          "text": [
            "/opt/anaconda3/lib/python3.8/site-packages/pandas/core/series.py:726: RuntimeWarning: divide by zero encountered in log\n",
            "  result = getattr(ufunc, method)(*inputs, **kwargs)\n"
          ]
        }
      ],
      "source": [
        "df_skew = train.skew()\n",
        "df_skew.shape\n",
        "df_skew.head()\n",
        "df_skew.loc['wtd_mean_atomic_mass']\n",
        "transformed_data = train\n",
        "\n",
        "for col in train.columns:\n",
        "    if abs(df_skew.loc[col]) > 1:\n",
        "        print(abs(df_skew.loc[col]),col)\n",
        "        transformed_data[col]= np.log(train[col])\n"
      ]
    },
    {
      "cell_type": "markdown",
      "metadata": {
        "id": "BnCsXV_c8g_V"
      },
      "source": [
        "## Scaling Data"
      ]
    },
    {
      "cell_type": "code",
      "execution_count": null,
      "metadata": {
        "id": "w3NyRyIo8g_V"
      },
      "outputs": [],
      "source": [
        "# Define y and X\n",
        "y = np.array( df['critical_temp'] )\n",
        "df = df.drop(['critical_temp'], axis =1)\n",
        "X = df"
      ]
    },
    {
      "cell_type": "markdown",
      "metadata": {
        "id": "o08EZqlr8g_V"
      },
      "source": [
        "### Using Standard Scaler to scale train data."
      ]
    },
    {
      "cell_type": "code",
      "execution_count": null,
      "metadata": {
        "id": "frqtIwFq8g_W"
      },
      "outputs": [],
      "source": [
        "# Split the data\n",
        "X_train, X_test, y_train, y_test = train_test_split(X, y, test_size = 0.3, random_state = 1234321) \n",
        "\n",
        "# Center and Scale X\n",
        "scl = StandardScaler()\n",
        "scl.fit(X_train)\n",
        "X_train_scaled = scl.transform(X_train) # apply to training\n",
        "X_test_scaled = scl.transform(X_test) # apply to the test set (without snooping)"
      ]
    },
    {
      "cell_type": "code",
      "execution_count": null,
      "metadata": {
        "id": "0NTf3CSM8g_X"
      },
      "outputs": [],
      "source": [
        "X_train_scaled = pd.DataFrame(X_train_scaled, columns = X.columns, index = X_train.index)\n",
        "X_test_scaled = pd.DataFrame(X_test_scaled, columns = X.columns, index = X_test.index)"
      ]
    },
    {
      "cell_type": "markdown",
      "metadata": {
        "id": "-Wqapoc_8g_Y"
      },
      "source": [
        "## Assumptions"
      ]
    },
    {
      "cell_type": "markdown",
      "metadata": {
        "id": "xtFTs6kn8g_Y"
      },
      "source": [
        "### Target Variable interpretation\n",
        "\n",
        "According to our research, the Kelvin temperature scale is used for temperature instead of Fahrenheit or Celsius in semiconductor research and manufacturing.  Scientists and engineers use the Kelvin scale because it is a temperature scale where the value zero reflects the complete absence of thermal energy.  The Kelvin scale does not have negative temperatures since 0 degrees kelvin is the lowest temperature.  Because negative temperatures do not exist on the Kelvin scale, in our modeling, we replaced negative predicted values with 0."
      ]
    },
    {
      "cell_type": "markdown",
      "metadata": {
        "id": "VQTytVRC8g_Z"
      },
      "source": [
        "## Move up to EDA\n",
        "## Variable Correlations with Critical Temp & Outliers"
      ]
    },
    {
      "cell_type": "code",
      "execution_count": null,
      "metadata": {
        "id": "8cZ5lJFE8g_Z",
        "outputId": "ef4bbc96-3972-44b6-8327-f13cc8ac93a2"
      },
      "outputs": [
        {
          "name": "stdout",
          "output_type": "stream",
          "text": [
            "wtd_mean_Valence              -0.632401\n",
            "wtd_gmean_Valence             -0.615653\n",
            "mean_Valence                  -0.600085\n",
            "gmean_Valence                 -0.573068\n",
            "gmean_Density                 -0.541684\n",
            "                                 ...   \n",
            "wtd_entropy_atomic_mass        0.626930\n",
            "std_ThermalConductivity        0.653632\n",
            "range_atomic_radius            0.653759\n",
            "range_ThermalConductivity      0.687654\n",
            "wtd_std_ThermalConductivity    0.721271\n",
            "Name: critical_temp, Length: 80, dtype: float64\n"
          ]
        }
      ],
      "source": [
        "print(train[train.columns[1:]].corr()['critical_temp'][:-1].sort_values())"
      ]
    },
    {
      "cell_type": "code",
      "execution_count": null,
      "metadata": {
        "id": "r4Sp5SYe8g_Z",
        "outputId": "49f70195-8f8c-4278-bf62-d1fc733bf8da"
      },
      "outputs": [
        {
          "data": {
            "text/html": [
              "<div>\n",
              "<style scoped>\n",
              "    .dataframe tbody tr th:only-of-type {\n",
              "        vertical-align: middle;\n",
              "    }\n",
              "\n",
              "    .dataframe tbody tr th {\n",
              "        vertical-align: top;\n",
              "    }\n",
              "\n",
              "    .dataframe thead th {\n",
              "        text-align: right;\n",
              "    }\n",
              "</style>\n",
              "<table border=\"1\" class=\"dataframe\">\n",
              "  <thead>\n",
              "    <tr style=\"text-align: right;\">\n",
              "      <th></th>\n",
              "      <th>number_of_elements_zscore</th>\n",
              "      <th>mean_atomic_mass_zscore</th>\n",
              "      <th>wtd_mean_atomic_mass_zscore</th>\n",
              "      <th>gmean_atomic_mass_zscore</th>\n",
              "      <th>wtd_gmean_atomic_mass_zscore</th>\n",
              "      <th>entropy_atomic_mass_zscore</th>\n",
              "      <th>wtd_entropy_atomic_mass_zscore</th>\n",
              "      <th>range_atomic_mass_zscore</th>\n",
              "      <th>wtd_range_atomic_mass_zscore</th>\n",
              "      <th>std_atomic_mass_zscore</th>\n",
              "      <th>...</th>\n",
              "      <th>wtd_mean_Valence_zscore</th>\n",
              "      <th>gmean_Valence_zscore</th>\n",
              "      <th>wtd_gmean_Valence_zscore</th>\n",
              "      <th>entropy_Valence_zscore</th>\n",
              "      <th>wtd_entropy_Valence_zscore</th>\n",
              "      <th>range_Valence_zscore</th>\n",
              "      <th>wtd_range_Valence_zscore</th>\n",
              "      <th>std_Valence_zscore</th>\n",
              "      <th>wtd_std_Valence_zscore</th>\n",
              "      <th>critical_temp_zscore</th>\n",
              "    </tr>\n",
              "  </thead>\n",
              "  <tbody>\n",
              "    <tr>\n",
              "      <th>0</th>\n",
              "      <td>-0.080058</td>\n",
              "      <td>0.046733</td>\n",
              "      <td>-0.451651</td>\n",
              "      <td>-0.158850</td>\n",
              "      <td>-0.611819</td>\n",
              "      <td>0.044358</td>\n",
              "      <td>-0.003707</td>\n",
              "      <td>0.133725</td>\n",
              "      <td>-0.053039</td>\n",
              "      <td>0.378186</td>\n",
              "      <td>...</td>\n",
              "      <td>-0.752156</td>\n",
              "      <td>-0.805912</td>\n",
              "      <td>-0.711705</td>\n",
              "      <td>0.186292</td>\n",
              "      <td>0.035183</td>\n",
              "      <td>-0.837959</td>\n",
              "      <td>-0.406166</td>\n",
              "      <td>-0.838372</td>\n",
              "      <td>-0.520070</td>\n",
              "      <td>-0.158267</td>\n",
              "    </tr>\n",
              "    <tr>\n",
              "      <th>1</th>\n",
              "      <td>0.614744</td>\n",
              "      <td>0.174269</td>\n",
              "      <td>-0.432071</td>\n",
              "      <td>0.059368</td>\n",
              "      <td>-0.604180</td>\n",
              "      <td>0.777430</td>\n",
              "      <td>-0.015267</td>\n",
              "      <td>0.133725</td>\n",
              "      <td>0.108900</td>\n",
              "      <td>0.134901</td>\n",
              "      <td>...</td>\n",
              "      <td>-0.752156</td>\n",
              "      <td>-1.116731</td>\n",
              "      <td>-0.719454</td>\n",
              "      <td>0.664971</td>\n",
              "      <td>-0.014779</td>\n",
              "      <td>-0.033011</td>\n",
              "      <td>-0.362352</td>\n",
              "      <td>-0.426866</td>\n",
              "      <td>-0.450821</td>\n",
              "      <td>-0.245849</td>\n",
              "    </tr>\n",
              "    <tr>\n",
              "      <th>2</th>\n",
              "      <td>-0.080058</td>\n",
              "      <td>0.046733</td>\n",
              "      <td>-0.450978</td>\n",
              "      <td>-0.158850</td>\n",
              "      <td>-0.611658</td>\n",
              "      <td>0.044358</td>\n",
              "      <td>-0.218984</td>\n",
              "      <td>0.133725</td>\n",
              "      <td>0.093294</td>\n",
              "      <td>0.378186</td>\n",
              "      <td>...</td>\n",
              "      <td>-0.740164</td>\n",
              "      <td>-0.805912</td>\n",
              "      <td>-0.700728</td>\n",
              "      <td>0.186292</td>\n",
              "      <td>-0.062235</td>\n",
              "      <td>-0.837959</td>\n",
              "      <td>-0.376957</td>\n",
              "      <td>-0.838372</td>\n",
              "      <td>-0.503304</td>\n",
              "      <td>-0.450208</td>\n",
              "    </tr>\n",
              "    <tr>\n",
              "      <th>3</th>\n",
              "      <td>-0.080058</td>\n",
              "      <td>0.046733</td>\n",
              "      <td>-0.451314</td>\n",
              "      <td>-0.158850</td>\n",
              "      <td>-0.611739</td>\n",
              "      <td>0.044358</td>\n",
              "      <td>-0.103615</td>\n",
              "      <td>0.133725</td>\n",
              "      <td>0.020128</td>\n",
              "      <td>0.378186</td>\n",
              "      <td>...</td>\n",
              "      <td>-0.746160</td>\n",
              "      <td>-0.805912</td>\n",
              "      <td>-0.706224</td>\n",
              "      <td>0.186292</td>\n",
              "      <td>-0.010538</td>\n",
              "      <td>-0.837959</td>\n",
              "      <td>-0.391562</td>\n",
              "      <td>-0.838372</td>\n",
              "      <td>-0.511524</td>\n",
              "      <td>-0.362626</td>\n",
              "    </tr>\n",
              "    <tr>\n",
              "      <th>4</th>\n",
              "      <td>-0.080058</td>\n",
              "      <td>0.046733</td>\n",
              "      <td>-0.452324</td>\n",
              "      <td>-0.158850</td>\n",
              "      <td>-0.611980</td>\n",
              "      <td>0.044358</td>\n",
              "      <td>0.162775</td>\n",
              "      <td>0.133725</td>\n",
              "      <td>-0.199372</td>\n",
              "      <td>0.378186</td>\n",
              "      <td>...</td>\n",
              "      <td>-0.764149</td>\n",
              "      <td>-0.805912</td>\n",
              "      <td>-0.722618</td>\n",
              "      <td>0.186292</td>\n",
              "      <td>0.113627</td>\n",
              "      <td>-0.837959</td>\n",
              "      <td>-0.435376</td>\n",
              "      <td>-0.838372</td>\n",
              "      <td>-0.538178</td>\n",
              "      <td>-0.333432</td>\n",
              "    </tr>\n",
              "  </tbody>\n",
              "</table>\n",
              "<p>5 rows × 82 columns</p>\n",
              "</div>"
            ],
            "text/plain": [
              "   number_of_elements_zscore  mean_atomic_mass_zscore  \\\n",
              "0                  -0.080058                 0.046733   \n",
              "1                   0.614744                 0.174269   \n",
              "2                  -0.080058                 0.046733   \n",
              "3                  -0.080058                 0.046733   \n",
              "4                  -0.080058                 0.046733   \n",
              "\n",
              "   wtd_mean_atomic_mass_zscore  gmean_atomic_mass_zscore  \\\n",
              "0                    -0.451651                 -0.158850   \n",
              "1                    -0.432071                  0.059368   \n",
              "2                    -0.450978                 -0.158850   \n",
              "3                    -0.451314                 -0.158850   \n",
              "4                    -0.452324                 -0.158850   \n",
              "\n",
              "   wtd_gmean_atomic_mass_zscore  entropy_atomic_mass_zscore  \\\n",
              "0                     -0.611819                    0.044358   \n",
              "1                     -0.604180                    0.777430   \n",
              "2                     -0.611658                    0.044358   \n",
              "3                     -0.611739                    0.044358   \n",
              "4                     -0.611980                    0.044358   \n",
              "\n",
              "   wtd_entropy_atomic_mass_zscore  range_atomic_mass_zscore  \\\n",
              "0                       -0.003707                  0.133725   \n",
              "1                       -0.015267                  0.133725   \n",
              "2                       -0.218984                  0.133725   \n",
              "3                       -0.103615                  0.133725   \n",
              "4                        0.162775                  0.133725   \n",
              "\n",
              "   wtd_range_atomic_mass_zscore  std_atomic_mass_zscore  ...  \\\n",
              "0                     -0.053039                0.378186  ...   \n",
              "1                      0.108900                0.134901  ...   \n",
              "2                      0.093294                0.378186  ...   \n",
              "3                      0.020128                0.378186  ...   \n",
              "4                     -0.199372                0.378186  ...   \n",
              "\n",
              "   wtd_mean_Valence_zscore  gmean_Valence_zscore  wtd_gmean_Valence_zscore  \\\n",
              "0                -0.752156             -0.805912                 -0.711705   \n",
              "1                -0.752156             -1.116731                 -0.719454   \n",
              "2                -0.740164             -0.805912                 -0.700728   \n",
              "3                -0.746160             -0.805912                 -0.706224   \n",
              "4                -0.764149             -0.805912                 -0.722618   \n",
              "\n",
              "   entropy_Valence_zscore  wtd_entropy_Valence_zscore  range_Valence_zscore  \\\n",
              "0                0.186292                    0.035183             -0.837959   \n",
              "1                0.664971                   -0.014779             -0.033011   \n",
              "2                0.186292                   -0.062235             -0.837959   \n",
              "3                0.186292                   -0.010538             -0.837959   \n",
              "4                0.186292                    0.113627             -0.837959   \n",
              "\n",
              "   wtd_range_Valence_zscore  std_Valence_zscore  wtd_std_Valence_zscore  \\\n",
              "0                 -0.406166           -0.838372               -0.520070   \n",
              "1                 -0.362352           -0.426866               -0.450821   \n",
              "2                 -0.376957           -0.838372               -0.503304   \n",
              "3                 -0.391562           -0.838372               -0.511524   \n",
              "4                 -0.435376           -0.838372               -0.538178   \n",
              "\n",
              "   critical_temp_zscore  \n",
              "0             -0.158267  \n",
              "1             -0.245849  \n",
              "2             -0.450208  \n",
              "3             -0.362626  \n",
              "4             -0.333432  \n",
              "\n",
              "[5 rows x 82 columns]"
            ]
          },
          "execution_count": 70,
          "metadata": {},
          "output_type": "execute_result"
        }
      ],
      "source": [
        "outliers = pd.DataFrame()\n",
        "for col in train.columns:\n",
        "    col_zscore = col + \"_zscore\"\n",
        "    outliers[col_zscore] = (train[col] - train[col].mean())/train[col].std(ddof=0)\n",
        "outliers.head()"
      ]
    },
    {
      "cell_type": "markdown",
      "metadata": {
        "id": "DeWgSmQW8g_Z"
      },
      "source": [
        "## Add \"Naive\" Linear Model with all terms as our baseline model"
      ]
    },
    {
      "cell_type": "markdown",
      "metadata": {
        "id": "dI-RZaHZ8g_Z"
      },
      "source": [
        "## Feature Selection\n",
        "### Add description"
      ]
    },
    {
      "cell_type": "code",
      "execution_count": null,
      "metadata": {
        "scrolled": true,
        "id": "pfaxDg4b8g_a"
      },
      "outputs": [],
      "source": [
        "Lasso_df = []\n",
        "L1 = Lasso()\n",
        "\n",
        "for i in np.linspace(0, 5, 101):\n",
        "    L1.alpha = i\n",
        "  \n",
        "    # Cross validation on training set\n",
        "    L1_CV = cross_validate(L1, X_train_scaled, y_train, cv = 5, scoring=['neg_root_mean_squared_error','r2'])\n",
        "    L1_CV_RMSE = round(np.mean(-L1_CV['test_neg_root_mean_squared_error']), 3)\n",
        "    L1_CV_Rsq = round(np.mean(L1_CV['test_r2']), 4)\n",
        "    \n",
        "    L1.fit(X_train_scaled, y_train)\n",
        "    num_terms = len(L1.coef_[L1.coef_!=0])\n",
        "    \n",
        "    Lasso_df.append([ L1.alpha, num_terms, L1_CV_RMSE, L1_CV_Rsq ])\n",
        "    \n",
        "Lasso_df = pd.DataFrame(Lasso_df, columns = ['Lasso alpha', '# Terms', 'CV RMSE', 'CV R-squared'])"
      ]
    },
    {
      "cell_type": "markdown",
      "metadata": {
        "id": "GLOI_BZX8g_a"
      },
      "source": [
        "#### Finding the point of diminishing returns by identifying Knee Points "
      ]
    },
    {
      "cell_type": "markdown",
      "metadata": {
        "id": "Z9ffnlOI8g_a"
      },
      "source": [
        "##### Knee point of CV RMSE and # of terms"
      ]
    },
    {
      "cell_type": "code",
      "execution_count": null,
      "metadata": {
        "id": "nr8Lcayg8g_a",
        "outputId": "c4bc73be-88c8-4d26-8e2d-d1ae636bc1b2"
      },
      "outputs": [
        {
          "name": "stdout",
          "output_type": "stream",
          "text": [
            "CV RMSE 18.214\n"
          ]
        }
      ],
      "source": [
        "kn1 = KneeLocator(Lasso_df['CV RMSE'], Lasso_df['# Terms'], curve='convex', direction='decreasing')\n",
        "print('CV RMSE', kn1.knee)"
      ]
    },
    {
      "cell_type": "code",
      "execution_count": null,
      "metadata": {
        "id": "G4UPhNaR8g_a",
        "outputId": "00ba2e87-4066-49b1-8717-f5873f053923"
      },
      "outputs": [
        {
          "data": {
            "text/plain": [
              "<matplotlib.collections.LineCollection at 0x133fd8640>"
            ]
          },
          "execution_count": 157,
          "metadata": {},
          "output_type": "execute_result"
        },
        {
          "data": {
            "image/png": "[encoded data removed]",
            "text/plain": [
              "<Figure size 432x288 with 1 Axes>"
            ]
          },
          "metadata": {
            "needs_background": "light"
          },
          "output_type": "display_data"
        }
      ],
      "source": [
        "# Plot number of parameters vs. RMSE\n",
        "\n",
        "plt.xlabel('RMSE')\n",
        "plt.ylabel('# of parameters')\n",
        "plt.plot(Lasso_df['CV RMSE'], Lasso_df['# Terms'], 'bx-')\n",
        "plt.vlines(kn1.knee, plt.ylim()[0], plt.ylim()[1], linestyles='dashed')"
      ]
    },
    {
      "cell_type": "markdown",
      "metadata": {
        "id": "E5yLubbJ8g_b"
      },
      "source": [
        "##### Knee point  of R-squared and # of terms"
      ]
    },
    {
      "cell_type": "code",
      "execution_count": null,
      "metadata": {
        "id": "lNonlyvk8g_b",
        "outputId": "efc4d023-99fd-4cf3-f21f-c3f206305b0a"
      },
      "outputs": [
        {
          "name": "stdout",
          "output_type": "stream",
          "text": [
            "CV R-squared 0.6942\n"
          ]
        }
      ],
      "source": [
        "kn2 = KneeLocator(Lasso_df['CV R-squared'],  Lasso_df['# Terms'], curve='convex', direction='increasing')\n",
        "print('CV R-squared', kn2.knee)"
      ]
    },
    {
      "cell_type": "code",
      "execution_count": null,
      "metadata": {
        "id": "WTBwQM_Y8g_b",
        "outputId": "5b450556-061a-4d61-c20f-2359302f3369"
      },
      "outputs": [
        {
          "data": {
            "text/plain": [
              "<matplotlib.collections.LineCollection at 0x12f6bf880>"
            ]
          },
          "execution_count": 159,
          "metadata": {},
          "output_type": "execute_result"
        },
        {
          "data": {
            "image/png": "[encoded data removed]",
            "text/plain": [
              "<Figure size 432x288 with 1 Axes>"
            ]
          },
          "metadata": {
            "needs_background": "light"
          },
          "output_type": "display_data"
        }
      ],
      "source": [
        "import matplotlib.pyplot as plt\n",
        "plt.xlabel('r-squared')\n",
        "plt.ylabel('# of parameters')\n",
        "plt.plot(Lasso_df['CV R-squared'], Lasso_df['# Terms'], 'bx-')\n",
        "plt.vlines(kn2.knee, plt.ylim()[0], plt.ylim()[1], linestyles='dashed')"
      ]
    },
    {
      "cell_type": "markdown",
      "metadata": {
        "id": "vSQ6L0ze8g_b"
      },
      "source": [
        "##### Knee point of Alpha and RMSE"
      ]
    },
    {
      "cell_type": "code",
      "execution_count": null,
      "metadata": {
        "scrolled": true,
        "id": "dez90ViC8g_b",
        "outputId": "40b8276c-69ed-44d3-8013-29cf7152c1f8"
      },
      "outputs": [
        {
          "name": "stdout",
          "output_type": "stream",
          "text": [
            "Lasso alpha 0.9\n"
          ]
        }
      ],
      "source": [
        "kn3 = KneeLocator(Lasso_df['Lasso alpha'],Lasso_df['CV RMSE'], curve='concave', direction='increasing', S=0)\n",
        "print('Lasso alpha', kn3.knee)"
      ]
    },
    {
      "cell_type": "code",
      "execution_count": null,
      "metadata": {
        "id": "g4ulSyS68g_b",
        "outputId": "8b64cdc9-7166-431e-f783-ff77d8bd1b8d"
      },
      "outputs": [
        {
          "data": {
            "text/plain": [
              "<matplotlib.collections.LineCollection at 0x12773edc0>"
            ]
          },
          "execution_count": 161,
          "metadata": {},
          "output_type": "execute_result"
        },
        {
          "data": {
            "image/png": "[encoded data removed]",
            "text/plain": [
              "<Figure size 432x288 with 1 Axes>"
            ]
          },
          "metadata": {
            "needs_background": "light"
          },
          "output_type": "display_data"
        }
      ],
      "source": [
        "import matplotlib.pyplot as plt\n",
        "plt.xlabel('alpha')\n",
        "plt.ylabel('RMSE')\n",
        "plt.plot(Lasso_df['Lasso alpha'],Lasso_df['CV RMSE'], 'bx-')\n",
        "plt.vlines(kn3.knee, plt.ylim()[0], plt.ylim()[1], linestyles='dashed')"
      ]
    },
    {
      "cell_type": "markdown",
      "metadata": {
        "id": "amDZwO8h8g_b"
      },
      "source": [
        "##### Knee point of Alpha and R-squared"
      ]
    },
    {
      "cell_type": "code",
      "execution_count": null,
      "metadata": {
        "id": "amgev8hq8g_b",
        "outputId": "f0d432f4-8bd2-4116-86d2-0f1792d226f5"
      },
      "outputs": [
        {
          "name": "stdout",
          "output_type": "stream",
          "text": [
            "Lasso alpha 0.8500000000000001\n"
          ]
        }
      ],
      "source": [
        "kn4 = KneeLocator(Lasso_df['Lasso alpha'],Lasso_df['CV R-squared'], curve='convex', direction='decreasing')\n",
        "print('Lasso alpha', kn4.knee)"
      ]
    },
    {
      "cell_type": "code",
      "execution_count": null,
      "metadata": {
        "id": "G37-XjKn8g_b",
        "outputId": "b66b4126-dd75-42cc-f080-8f92d8e13f01"
      },
      "outputs": [
        {
          "data": {
            "text/plain": [
              "<matplotlib.collections.LineCollection at 0x127801f40>"
            ]
          },
          "execution_count": 163,
          "metadata": {},
          "output_type": "execute_result"
        },
        {
          "data": {
            "image/png": "[encoded data removed]",
            "text/plain": [
              "<Figure size 432x288 with 1 Axes>"
            ]
          },
          "metadata": {
            "needs_background": "light"
          },
          "output_type": "display_data"
        }
      ],
      "source": [
        "import matplotlib.pyplot as plt\n",
        "plt.xlabel('alpha')\n",
        "plt.ylabel('RMSE')\n",
        "plt.plot(Lasso_df['Lasso alpha'],Lasso_df['CV R-squared'], 'bx-')\n",
        "plt.vlines(kn4.knee, plt.ylim()[0], plt.ylim()[1], linestyles='dashed')"
      ]
    },
    {
      "cell_type": "markdown",
      "metadata": {
        "id": "zmuI_mep8g_b"
      },
      "source": [
        "# Model Preparations <a id='model-preparations'>"
      ]
    },
    {
      "cell_type": "markdown",
      "metadata": {
        "id": "cXqoLTm_8g_c"
      },
      "source": [
        "### Which methods are you proposing to utilize to solve the problem?  \n",
        "\n",
        "After combining the two data files, the data set contained 158 features to start. This dataset was very complex to interpret and drive any kind of correlation, which may result in over-fitting the model. After initial exploration of the dataset, the team built a linear model with all 158 features as a baseline. Followed by the linear model using a LASSO algorithm to select the most pertinent variables, and then Ridge regression to fit the model using the smaller set of variables chosen to reduce the chances of overfitting without further reducing the number of variables. \n",
        "\n",
        "The primary objective was to reduce the number of explanatory variables, to build a meaningful model and ensure the accuracy and explain ability of a dependable variable by the independent variable is not compromised."
      ]
    },
    {
      "cell_type": "markdown",
      "metadata": {
        "id": "F4JVVNG08g_c"
      },
      "source": [
        "### Why is this method appropriate given the business objective?\n",
        "\n",
        "quick, fast to compute and iterpretable "
      ]
    },
    {
      "cell_type": "markdown",
      "metadata": {
        "id": "HT4eeZsX8g_c"
      },
      "source": [
        "### How will you determine if your approach is useful (or how will you differentiate which approach is more useful than another)?  More specifically, what evaluation metrics are most useful given that the problem is a regression one (ex., RMSE, logloss, MAE, etc.)?\n",
        "\n",
        " The prime criteria to evaluate the model was to minimize the error (mean square error) and increase the explanation of the relationship between independent and dependent variables (r – square). The team also made a few manual adjustments to optimize (trade-off) the model's accuracy and enhance the model interpretation. The team investigated the correlations, checked the multicollinearity, and kept the most relevant features. "
      ]
    },
    {
      "cell_type": "markdown",
      "metadata": {
        "id": "rADZ1qTz8g_c"
      },
      "source": [
        "## Select model terms with Lasso\n",
        "\n",
        "In order reduce the number of parameters we wanted to find the point at which rmse and r^2 begins to flatten after  each additional paramater is added. This is the point of dimishing returns. Depending on what measurement is maximized we can return diffent values for penalizing the model (alpha). Based on our modeling we believe the point of dimishing returns to maximize the r^2 is alpha=0.9. The point of diminishing returns for RMSE is an alpha of 0.85."
      ]
    },
    {
      "cell_type": "code",
      "execution_count": null,
      "metadata": {
        "id": "lQriWSyO8g_c",
        "outputId": "92ea5060-c3ab-4db0-ab1a-002170ba9ca7"
      },
      "outputs": [
        {
          "name": "stdout",
          "output_type": "stream",
          "text": [
            "Lasso Training RMSE = 18.87\n",
            "Lasso Training R-Sq = 0.698\n",
            "\n",
            "Lasso Test RMSE = 18.44\n",
            "Lasso Test R-Sq = 0.706\n",
            "\n",
            "Kept Factors( 25 of 158 ):\n"
          ]
        },
        {
          "data": {
            "text/html": [
              "<div>\n",
              "<style scoped>\n",
              "    .dataframe tbody tr th:only-of-type {\n",
              "        vertical-align: middle;\n",
              "    }\n",
              "\n",
              "    .dataframe tbody tr th {\n",
              "        vertical-align: top;\n",
              "    }\n",
              "\n",
              "    .dataframe thead th {\n",
              "        text-align: right;\n",
              "    }\n",
              "</style>\n",
              "<table border=\"1\" class=\"dataframe\">\n",
              "  <thead>\n",
              "    <tr style=\"text-align: right;\">\n",
              "      <th></th>\n",
              "      <th>Factor</th>\n",
              "      <th>Coef</th>\n",
              "    </tr>\n",
              "  </thead>\n",
              "  <tbody>\n",
              "    <tr>\n",
              "      <th>157</th>\n",
              "      <td>wtd_std_Valence</td>\n",
              "      <td>-3.551243</td>\n",
              "    </tr>\n",
              "    <tr>\n",
              "      <th>121</th>\n",
              "      <td>wtd_gmean_ElectronAffinity</td>\n",
              "      <td>-3.256133</td>\n",
              "    </tr>\n",
              "    <tr>\n",
              "      <th>11</th>\n",
              "      <td>Si</td>\n",
              "      <td>-2.542338</td>\n",
              "    </tr>\n",
              "    <tr>\n",
              "      <th>110</th>\n",
              "      <td>gmean_Density</td>\n",
              "      <td>-1.791377</td>\n",
              "    </tr>\n",
              "    <tr>\n",
              "      <th>53</th>\n",
              "      <td>Pr</td>\n",
              "      <td>-1.664248</td>\n",
              "    </tr>\n",
              "    <tr>\n",
              "      <th>141</th>\n",
              "      <td>wtd_gmean_ThermalConductivity</td>\n",
              "      <td>-1.336341</td>\n",
              "    </tr>\n",
              "    <tr>\n",
              "      <th>29</th>\n",
              "      <td>As</td>\n",
              "      <td>-0.801547</td>\n",
              "    </tr>\n",
              "    <tr>\n",
              "      <th>137</th>\n",
              "      <td>wtd_std_FusionHeat</td>\n",
              "      <td>-0.710089</td>\n",
              "    </tr>\n",
              "    <tr>\n",
              "      <th>52</th>\n",
              "      <td>Ce</td>\n",
              "      <td>-0.656177</td>\n",
              "    </tr>\n",
              "    <tr>\n",
              "      <th>54</th>\n",
              "      <td>Nd</td>\n",
              "      <td>-0.464878</td>\n",
              "    </tr>\n",
              "    <tr>\n",
              "      <th>42</th>\n",
              "      <td>Ag</td>\n",
              "      <td>-0.196928</td>\n",
              "    </tr>\n",
              "    <tr>\n",
              "      <th>28</th>\n",
              "      <td>Ge</td>\n",
              "      <td>-0.056967</td>\n",
              "    </tr>\n",
              "    <tr>\n",
              "      <th>88</th>\n",
              "      <td>mean_fie</td>\n",
              "      <td>0.117643</td>\n",
              "    </tr>\n",
              "    <tr>\n",
              "      <th>84</th>\n",
              "      <td>range_atomic_mass</td>\n",
              "      <td>0.938046</td>\n",
              "    </tr>\n",
              "    <tr>\n",
              "      <th>33</th>\n",
              "      <td>Sr</td>\n",
              "      <td>0.981232</td>\n",
              "    </tr>\n",
              "    <tr>\n",
              "      <th>74</th>\n",
              "      <td>Tl</td>\n",
              "      <td>1.076945</td>\n",
              "    </tr>\n",
              "    <tr>\n",
              "      <th>94</th>\n",
              "      <td>range_fie</td>\n",
              "      <td>1.159787</td>\n",
              "    </tr>\n",
              "    <tr>\n",
              "      <th>73</th>\n",
              "      <td>Hg</td>\n",
              "      <td>1.404259</td>\n",
              "    </tr>\n",
              "    <tr>\n",
              "      <th>104</th>\n",
              "      <td>range_atomic_radius</td>\n",
              "      <td>2.450541</td>\n",
              "    </tr>\n",
              "    <tr>\n",
              "      <th>139</th>\n",
              "      <td>wtd_mean_ThermalConductivity</td>\n",
              "      <td>2.902493</td>\n",
              "    </tr>\n",
              "    <tr>\n",
              "      <th>76</th>\n",
              "      <td>Bi</td>\n",
              "      <td>2.955065</td>\n",
              "    </tr>\n",
              "    <tr>\n",
              "      <th>16</th>\n",
              "      <td>Ca</td>\n",
              "      <td>3.541879</td>\n",
              "    </tr>\n",
              "    <tr>\n",
              "      <th>83</th>\n",
              "      <td>wtd_entropy_atomic_mass</td>\n",
              "      <td>4.181680</td>\n",
              "    </tr>\n",
              "    <tr>\n",
              "      <th>147</th>\n",
              "      <td>wtd_std_ThermalConductivity</td>\n",
              "      <td>7.852303</td>\n",
              "    </tr>\n",
              "    <tr>\n",
              "      <th>50</th>\n",
              "      <td>Ba</td>\n",
              "      <td>8.390068</td>\n",
              "    </tr>\n",
              "  </tbody>\n",
              "</table>\n",
              "</div>"
            ],
            "text/plain": [
              "                            Factor      Coef\n",
              "157                wtd_std_Valence -3.551243\n",
              "121     wtd_gmean_ElectronAffinity -3.256133\n",
              "11                              Si -2.542338\n",
              "110                  gmean_Density -1.791377\n",
              "53                              Pr -1.664248\n",
              "141  wtd_gmean_ThermalConductivity -1.336341\n",
              "29                              As -0.801547\n",
              "137             wtd_std_FusionHeat -0.710089\n",
              "52                              Ce -0.656177\n",
              "54                              Nd -0.464878\n",
              "42                              Ag -0.196928\n",
              "28                              Ge -0.056967\n",
              "88                        mean_fie  0.117643\n",
              "84               range_atomic_mass  0.938046\n",
              "33                              Sr  0.981232\n",
              "74                              Tl  1.076945\n",
              "94                       range_fie  1.159787\n",
              "73                              Hg  1.404259\n",
              "104            range_atomic_radius  2.450541\n",
              "139   wtd_mean_ThermalConductivity  2.902493\n",
              "76                              Bi  2.955065\n",
              "16                              Ca  3.541879\n",
              "83         wtd_entropy_atomic_mass  4.181680\n",
              "147    wtd_std_ThermalConductivity  7.852303\n",
              "50                              Ba  8.390068"
            ]
          },
          "execution_count": 165,
          "metadata": {},
          "output_type": "execute_result"
        }
      ],
      "source": [
        "L1 = Lasso(alpha = .9)\n",
        "L1.fit(X_train_scaled, y_train)\n",
        "\n",
        "y_hat_train = L1.predict(X_train_scaled)\n",
        "RMSE = round(mse(y_train, y_hat_train, squared=False), 2)\n",
        "print( \"Lasso Training RMSE =\", round(RMSE,2) )\n",
        "Rsq = r2_score(y_train, y_hat_train)\n",
        "print( \"Lasso Training R-Sq =\", round(Rsq,3) )\n",
        "\n",
        "y_hat_test = L1.predict(X_test_scaled)\n",
        "RMSE = round(mse(y_test, y_hat_test, squared=False), 2)\n",
        "print( \"\\nLasso Test RMSE =\", round(RMSE,2) )\n",
        "Rsq = r2_score(y_test, y_hat_test)\n",
        "print( \"Lasso Test R-Sq =\", round(Rsq,3) )\n",
        "\n",
        "model_coef = pd.DataFrame(zip(X.columns, L1.coef_), columns=['Factor','Coef'])\n",
        "model_factors = model_coef[model_coef['Coef']!=0]\n",
        "\n",
        "print(\"\\nKept Factors(\", model_factors.shape[0], \"of\", X.shape[1],\"):\")\n",
        "model_coef[model_coef['Coef']!=0].sort_values(by='Coef')"
      ]
    },
    {
      "cell_type": "code",
      "execution_count": null,
      "metadata": {
        "id": "u6Fi9XQ_8g_c",
        "outputId": "da792d98-3cc3-4ff3-9836-0045b8116613"
      },
      "outputs": [
        {
          "name": "stdout",
          "output_type": "stream",
          "text": [
            "\n",
            "LinReg Training RMSE = 18.77\n",
            "LinReg Training R-Sq = 0.702\n",
            "\n",
            "LinReg Test RMSE = 18.36\n",
            "LinReg Test R-Sq = 0.709\n"
          ]
        }
      ],
      "source": [
        "# Set any negative predictions to 0 and reassess performance.  \n",
        "# Cannot have negative degrees Kelvin as mentioned previously in the Assumptions section. \n",
        "\n",
        "y_hat_train[y_hat_train<0]=0\n",
        "RMSE = round(mse(y_train, y_hat_train, squared=False), 2)\n",
        "print( \"\\nLinReg Training RMSE =\", round(RMSE,2) )\n",
        "Rsq = r2_score(y_train, y_hat_train)\n",
        "print( \"LinReg Training R-Sq =\", round(Rsq,3) )\n",
        "\n",
        "y_hat_test[y_hat_test<0]=0\n",
        "RMSE = round(mse(y_test, y_hat_test, squared=False), 2)\n",
        "print( \"\\nLinReg Test RMSE =\", round(RMSE,2) )\n",
        "Rsq = r2_score(y_test, y_hat_test)\n",
        "print( \"LinReg Test R-Sq =\", round(Rsq,3) )"
      ]
    },
    {
      "cell_type": "markdown",
      "metadata": {
        "id": "q4TdncF18g_d"
      },
      "source": [
        "##### Removing attributes that have collinearity"
      ]
    },
    {
      "cell_type": "code",
      "execution_count": null,
      "metadata": {
        "id": "YoRARr9A8g_d"
      },
      "outputs": [],
      "source": [
        "model_factors= model_factors[model_factors['Factor'] != 'wtd_gmean_ThermalConductivity']\n",
        "model_factors= model_factors[model_factors['Factor'] != 'wtd_std_ThermalConductivity']\n",
        "model_factors= model_factors[model_factors['Factor'] != 'range_fie']"
      ]
    },
    {
      "cell_type": "markdown",
      "metadata": {
        "id": "UuRjMsjg8g_d"
      },
      "source": [
        "# Model Building & Evaluations <a id='#model-building'>"
      ]
    },
    {
      "cell_type": "markdown",
      "metadata": {
        "id": "UU9VF8AM8g_d"
      },
      "source": [
        "### Specify your sampling methodology"
      ]
    },
    {
      "cell_type": "markdown",
      "metadata": {
        "id": "BZ_WF5zG8g_d"
      },
      "source": [
        "### Setup your model(s) \n",
        "## Final Ridge Model Built from Lasso Model Selection -- Setup your model(s) \n",
        "\n",
        "Describe model\n",
        "specifying the regularization type chosen and including the parameters utilized by the model\n"
      ]
    },
    {
      "cell_type": "code",
      "execution_count": null,
      "metadata": {
        "scrolled": true,
        "id": "hDVXhO8F8g_d",
        "outputId": "0a8a6688-a723-4359-d64e-1d5c75322881"
      },
      "outputs": [
        {
          "name": "stdout",
          "output_type": "stream",
          "text": [
            "Ridge Training RMSE = 18.55\n",
            "Ridge Training R-Sq = 0.709\n",
            "\n",
            "Ridge Test RMSE = 18.09\n",
            "Ridge Test R-Sq = 0.717\n",
            "\n",
            "Kept Factors( 25 of 158 ):\n"
          ]
        },
        {
          "data": {
            "text/html": [
              "<div>\n",
              "<style scoped>\n",
              "    .dataframe tbody tr th:only-of-type {\n",
              "        vertical-align: middle;\n",
              "    }\n",
              "\n",
              "    .dataframe tbody tr th {\n",
              "        vertical-align: top;\n",
              "    }\n",
              "\n",
              "    .dataframe thead th {\n",
              "        text-align: right;\n",
              "    }\n",
              "</style>\n",
              "<table border=\"1\" class=\"dataframe\">\n",
              "  <thead>\n",
              "    <tr style=\"text-align: right;\">\n",
              "      <th></th>\n",
              "      <th>Factor</th>\n",
              "      <th>Coef</th>\n",
              "    </tr>\n",
              "  </thead>\n",
              "  <tbody>\n",
              "    <tr>\n",
              "      <th>21</th>\n",
              "      <td>wtd_std_Valence</td>\n",
              "      <td>-5.503262</td>\n",
              "    </tr>\n",
              "    <tr>\n",
              "      <th>0</th>\n",
              "      <td>Si</td>\n",
              "      <td>-4.148167</td>\n",
              "    </tr>\n",
              "    <tr>\n",
              "      <th>17</th>\n",
              "      <td>gmean_Density</td>\n",
              "      <td>-3.782411</td>\n",
              "    </tr>\n",
              "    <tr>\n",
              "      <th>18</th>\n",
              "      <td>wtd_gmean_ElectronAffinity</td>\n",
              "      <td>-3.090151</td>\n",
              "    </tr>\n",
              "    <tr>\n",
              "      <th>19</th>\n",
              "      <td>wtd_std_FusionHeat</td>\n",
              "      <td>-3.012947</td>\n",
              "    </tr>\n",
              "    <tr>\n",
              "      <th>3</th>\n",
              "      <td>As</td>\n",
              "      <td>-2.541149</td>\n",
              "    </tr>\n",
              "    <tr>\n",
              "      <th>8</th>\n",
              "      <td>Pr</td>\n",
              "      <td>-2.285263</td>\n",
              "    </tr>\n",
              "    <tr>\n",
              "      <th>7</th>\n",
              "      <td>Ce</td>\n",
              "      <td>-1.265167</td>\n",
              "    </tr>\n",
              "    <tr>\n",
              "      <th>2</th>\n",
              "      <td>Ge</td>\n",
              "      <td>-1.206696</td>\n",
              "    </tr>\n",
              "    <tr>\n",
              "      <th>9</th>\n",
              "      <td>Nd</td>\n",
              "      <td>-1.143237</td>\n",
              "    </tr>\n",
              "    <tr>\n",
              "      <th>5</th>\n",
              "      <td>Ag</td>\n",
              "      <td>-0.888208</td>\n",
              "    </tr>\n",
              "    <tr>\n",
              "      <th>14</th>\n",
              "      <td>range_atomic_mass</td>\n",
              "      <td>1.148657</td>\n",
              "    </tr>\n",
              "    <tr>\n",
              "      <th>11</th>\n",
              "      <td>Tl</td>\n",
              "      <td>1.354964</td>\n",
              "    </tr>\n",
              "    <tr>\n",
              "      <th>10</th>\n",
              "      <td>Hg</td>\n",
              "      <td>1.385003</td>\n",
              "    </tr>\n",
              "    <tr>\n",
              "      <th>15</th>\n",
              "      <td>mean_fie</td>\n",
              "      <td>1.487692</td>\n",
              "    </tr>\n",
              "    <tr>\n",
              "      <th>4</th>\n",
              "      <td>Sr</td>\n",
              "      <td>1.985897</td>\n",
              "    </tr>\n",
              "    <tr>\n",
              "      <th>12</th>\n",
              "      <td>Bi</td>\n",
              "      <td>3.758398</td>\n",
              "    </tr>\n",
              "    <tr>\n",
              "      <th>1</th>\n",
              "      <td>Ca</td>\n",
              "      <td>4.371822</td>\n",
              "    </tr>\n",
              "    <tr>\n",
              "      <th>16</th>\n",
              "      <td>range_atomic_radius</td>\n",
              "      <td>4.672135</td>\n",
              "    </tr>\n",
              "    <tr>\n",
              "      <th>20</th>\n",
              "      <td>wtd_mean_ThermalConductivity</td>\n",
              "      <td>5.230839</td>\n",
              "    </tr>\n",
              "    <tr>\n",
              "      <th>13</th>\n",
              "      <td>wtd_entropy_atomic_mass</td>\n",
              "      <td>6.835941</td>\n",
              "    </tr>\n",
              "    <tr>\n",
              "      <th>6</th>\n",
              "      <td>Ba</td>\n",
              "      <td>10.076936</td>\n",
              "    </tr>\n",
              "  </tbody>\n",
              "</table>\n",
              "</div>"
            ],
            "text/plain": [
              "                          Factor       Coef\n",
              "21               wtd_std_Valence  -5.503262\n",
              "0                             Si  -4.148167\n",
              "17                 gmean_Density  -3.782411\n",
              "18    wtd_gmean_ElectronAffinity  -3.090151\n",
              "19            wtd_std_FusionHeat  -3.012947\n",
              "3                             As  -2.541149\n",
              "8                             Pr  -2.285263\n",
              "7                             Ce  -1.265167\n",
              "2                             Ge  -1.206696\n",
              "9                             Nd  -1.143237\n",
              "5                             Ag  -0.888208\n",
              "14             range_atomic_mass   1.148657\n",
              "11                            Tl   1.354964\n",
              "10                            Hg   1.385003\n",
              "15                      mean_fie   1.487692\n",
              "4                             Sr   1.985897\n",
              "12                            Bi   3.758398\n",
              "1                             Ca   4.371822\n",
              "16           range_atomic_radius   4.672135\n",
              "20  wtd_mean_ThermalConductivity   5.230839\n",
              "13       wtd_entropy_atomic_mass   6.835941\n",
              "6                             Ba  10.076936"
            ]
          },
          "execution_count": 169,
          "metadata": {},
          "output_type": "execute_result"
        }
      ],
      "source": [
        "L2 = Ridge(alpha = .9)\n",
        "model_terms = list(model_factors['Factor'])\n",
        "L2.fit(X_train_scaled[model_terms], y_train)\n",
        "\n",
        "y_hat_train = L2.predict(X_train_scaled[model_terms])\n",
        "y_hat_train[y_hat_train<0]=0\n",
        "RMSE = round(mse(y_train, y_hat_train, squared=False), 2)\n",
        "print( \"Ridge Training RMSE =\", round(RMSE,2) )\n",
        "Rsq = r2_score(y_train, y_hat_train)\n",
        "print( \"Ridge Training R-Sq =\", round(Rsq,3) )\n",
        "\n",
        "y_hat_test = L2.predict(X_test_scaled[model_terms])\n",
        "y_hat_test[y_hat_test<0]=0\n",
        "RMSE = round(mse(y_test, y_hat_test, squared=False), 2)\n",
        "print( \"\\nRidge Test RMSE =\", round(RMSE,2) )\n",
        "Rsq = r2_score(y_test, y_hat_test)\n",
        "print( \"Ridge Test R-Sq =\", round(Rsq,3) )\n",
        "\n",
        "model_coef1 = pd.DataFrame(zip(X[model_terms].columns, L2.coef_), columns=['Factor','Coef'])\n",
        "model_factors1 = model_coef[model_coef['Coef']!=0]\n",
        "\n",
        "print(\"\\nKept Factors(\", model_factors1.shape[0], \"of\", X.shape[1],\"):\")\n",
        "model_coef1[model_coef1['Coef']!=0].sort_values(by=['Coef'])"
      ]
    },
    {
      "cell_type": "code",
      "execution_count": null,
      "metadata": {
        "id": "nGFRw4eH8g_e",
        "outputId": "9c7ce6a3-a855-4998-a4ca-1814b7d4991a"
      },
      "outputs": [
        {
          "data": {
            "text/html": [
              "<div>\n",
              "<style scoped>\n",
              "    .dataframe tbody tr th:only-of-type {\n",
              "        vertical-align: middle;\n",
              "    }\n",
              "\n",
              "    .dataframe tbody tr th {\n",
              "        vertical-align: top;\n",
              "    }\n",
              "\n",
              "    .dataframe thead th {\n",
              "        text-align: right;\n",
              "    }\n",
              "</style>\n",
              "<table border=\"1\" class=\"dataframe\">\n",
              "  <thead>\n",
              "    <tr style=\"text-align: right;\">\n",
              "      <th></th>\n",
              "      <th>Factor</th>\n",
              "      <th>Coef</th>\n",
              "      <th>abs_Coef</th>\n",
              "    </tr>\n",
              "  </thead>\n",
              "  <tbody>\n",
              "    <tr>\n",
              "      <th>5</th>\n",
              "      <td>Ag</td>\n",
              "      <td>-0.888208</td>\n",
              "      <td>0.888208</td>\n",
              "    </tr>\n",
              "    <tr>\n",
              "      <th>9</th>\n",
              "      <td>Nd</td>\n",
              "      <td>-1.143237</td>\n",
              "      <td>1.143237</td>\n",
              "    </tr>\n",
              "    <tr>\n",
              "      <th>14</th>\n",
              "      <td>range_atomic_mass</td>\n",
              "      <td>1.148657</td>\n",
              "      <td>1.148657</td>\n",
              "    </tr>\n",
              "    <tr>\n",
              "      <th>2</th>\n",
              "      <td>Ge</td>\n",
              "      <td>-1.206696</td>\n",
              "      <td>1.206696</td>\n",
              "    </tr>\n",
              "    <tr>\n",
              "      <th>7</th>\n",
              "      <td>Ce</td>\n",
              "      <td>-1.265167</td>\n",
              "      <td>1.265167</td>\n",
              "    </tr>\n",
              "    <tr>\n",
              "      <th>11</th>\n",
              "      <td>Tl</td>\n",
              "      <td>1.354964</td>\n",
              "      <td>1.354964</td>\n",
              "    </tr>\n",
              "    <tr>\n",
              "      <th>10</th>\n",
              "      <td>Hg</td>\n",
              "      <td>1.385003</td>\n",
              "      <td>1.385003</td>\n",
              "    </tr>\n",
              "    <tr>\n",
              "      <th>15</th>\n",
              "      <td>mean_fie</td>\n",
              "      <td>1.487692</td>\n",
              "      <td>1.487692</td>\n",
              "    </tr>\n",
              "    <tr>\n",
              "      <th>4</th>\n",
              "      <td>Sr</td>\n",
              "      <td>1.985897</td>\n",
              "      <td>1.985897</td>\n",
              "    </tr>\n",
              "    <tr>\n",
              "      <th>8</th>\n",
              "      <td>Pr</td>\n",
              "      <td>-2.285263</td>\n",
              "      <td>2.285263</td>\n",
              "    </tr>\n",
              "    <tr>\n",
              "      <th>3</th>\n",
              "      <td>As</td>\n",
              "      <td>-2.541149</td>\n",
              "      <td>2.541149</td>\n",
              "    </tr>\n",
              "    <tr>\n",
              "      <th>19</th>\n",
              "      <td>wtd_std_FusionHeat</td>\n",
              "      <td>-3.012947</td>\n",
              "      <td>3.012947</td>\n",
              "    </tr>\n",
              "    <tr>\n",
              "      <th>18</th>\n",
              "      <td>wtd_gmean_ElectronAffinity</td>\n",
              "      <td>-3.090151</td>\n",
              "      <td>3.090151</td>\n",
              "    </tr>\n",
              "    <tr>\n",
              "      <th>12</th>\n",
              "      <td>Bi</td>\n",
              "      <td>3.758398</td>\n",
              "      <td>3.758398</td>\n",
              "    </tr>\n",
              "    <tr>\n",
              "      <th>17</th>\n",
              "      <td>gmean_Density</td>\n",
              "      <td>-3.782411</td>\n",
              "      <td>3.782411</td>\n",
              "    </tr>\n",
              "    <tr>\n",
              "      <th>0</th>\n",
              "      <td>Si</td>\n",
              "      <td>-4.148167</td>\n",
              "      <td>4.148167</td>\n",
              "    </tr>\n",
              "    <tr>\n",
              "      <th>1</th>\n",
              "      <td>Ca</td>\n",
              "      <td>4.371822</td>\n",
              "      <td>4.371822</td>\n",
              "    </tr>\n",
              "    <tr>\n",
              "      <th>16</th>\n",
              "      <td>range_atomic_radius</td>\n",
              "      <td>4.672135</td>\n",
              "      <td>4.672135</td>\n",
              "    </tr>\n",
              "    <tr>\n",
              "      <th>20</th>\n",
              "      <td>wtd_mean_ThermalConductivity</td>\n",
              "      <td>5.230839</td>\n",
              "      <td>5.230839</td>\n",
              "    </tr>\n",
              "    <tr>\n",
              "      <th>21</th>\n",
              "      <td>wtd_std_Valence</td>\n",
              "      <td>-5.503262</td>\n",
              "      <td>5.503262</td>\n",
              "    </tr>\n",
              "    <tr>\n",
              "      <th>13</th>\n",
              "      <td>wtd_entropy_atomic_mass</td>\n",
              "      <td>6.835941</td>\n",
              "      <td>6.835941</td>\n",
              "    </tr>\n",
              "    <tr>\n",
              "      <th>6</th>\n",
              "      <td>Ba</td>\n",
              "      <td>10.076936</td>\n",
              "      <td>10.076936</td>\n",
              "    </tr>\n",
              "  </tbody>\n",
              "</table>\n",
              "</div>"
            ],
            "text/plain": [
              "                          Factor       Coef   abs_Coef\n",
              "5                             Ag  -0.888208   0.888208\n",
              "9                             Nd  -1.143237   1.143237\n",
              "14             range_atomic_mass   1.148657   1.148657\n",
              "2                             Ge  -1.206696   1.206696\n",
              "7                             Ce  -1.265167   1.265167\n",
              "11                            Tl   1.354964   1.354964\n",
              "10                            Hg   1.385003   1.385003\n",
              "15                      mean_fie   1.487692   1.487692\n",
              "4                             Sr   1.985897   1.985897\n",
              "8                             Pr  -2.285263   2.285263\n",
              "3                             As  -2.541149   2.541149\n",
              "19            wtd_std_FusionHeat  -3.012947   3.012947\n",
              "18    wtd_gmean_ElectronAffinity  -3.090151   3.090151\n",
              "12                            Bi   3.758398   3.758398\n",
              "17                 gmean_Density  -3.782411   3.782411\n",
              "0                             Si  -4.148167   4.148167\n",
              "1                             Ca   4.371822   4.371822\n",
              "16           range_atomic_radius   4.672135   4.672135\n",
              "20  wtd_mean_ThermalConductivity   5.230839   5.230839\n",
              "21               wtd_std_Valence  -5.503262   5.503262\n",
              "13       wtd_entropy_atomic_mass   6.835941   6.835941\n",
              "6                             Ba  10.076936  10.076936"
            ]
          },
          "execution_count": 170,
          "metadata": {},
          "output_type": "execute_result"
        }
      ],
      "source": [
        "model_coef1['abs_Coef'] = abs(model_coef1['Coef'])\n",
        "model_coef1.sort_values(by=['abs_Coef'])"
      ]
    },
    {
      "cell_type": "markdown",
      "metadata": {
        "id": "p-C7Tc5W8g_e"
      },
      "source": [
        "### Analyze your model's performance - referencing your chosen evaluation metric (including supplemental visuals and analysis where appropriate)\n",
        "\n",
        "\n",
        "71 percent of the variation can be explained by our features. Our model error (rmse) was 18 degrees K. "
      ]
    },
    {
      "cell_type": "markdown",
      "metadata": {
        "id": "HISQa9FO8g_e"
      },
      "source": [
        "# Model Interpretability & Explainability <a id='model-explanation'>"
      ]
    },
    {
      "cell_type": "markdown",
      "metadata": {
        "id": "PSBc4ETe8g_e"
      },
      "source": [
        "## Which variable(s) was (were) \"most important\" and why?\n",
        "\n",
        "\n",
        "Given that our inputs were scaled, we derived the importance of each variable based on the magnitude of the feature coefficients in the model. Features with positive coefficients drive the critical temperature upwards, while features with negative coefficients drive the critical temperature downwards.\n",
        "\n",
        "Variables related to Atomic Mass, Thermal Conductivity and Atomic Radius have a high positive influence on critical temperature (show positive correlation) of superconductors to achieve superconductivity. Also, the presence of Barium (Ba), Calcium (Ca) and Bismuth (Bi) helps increase the critical temperature. All these variables have the highest scaled coefficients in our model. \n",
        "\n",
        "Variables related to Valence, Density, Electron Affinity, and Fusion Heat have a high negative influence on critical temperatures. Additionally the presence of Silicon (Si), Arsenic (As), Praseodymium (Pr) decrease the critical temperature.\n",
        "\n"
      ]
    },
    {
      "cell_type": "code",
      "execution_count": null,
      "metadata": {
        "id": "LLbI9bVy8g_e",
        "outputId": "765d4a45-d002-4e5d-db2c-a036833c27cb"
      },
      "outputs": [
        {
          "data": {
            "text/html": [
              "<div>\n",
              "<style scoped>\n",
              "    .dataframe tbody tr th:only-of-type {\n",
              "        vertical-align: middle;\n",
              "    }\n",
              "\n",
              "    .dataframe tbody tr th {\n",
              "        vertical-align: top;\n",
              "    }\n",
              "\n",
              "    .dataframe thead th {\n",
              "        text-align: right;\n",
              "    }\n",
              "</style>\n",
              "<table border=\"1\" class=\"dataframe\">\n",
              "  <thead>\n",
              "    <tr style=\"text-align: right;\">\n",
              "      <th></th>\n",
              "      <th>Factor</th>\n",
              "      <th>Coef</th>\n",
              "      <th>abs_Coef</th>\n",
              "    </tr>\n",
              "  </thead>\n",
              "  <tbody>\n",
              "    <tr>\n",
              "      <th>21</th>\n",
              "      <td>wtd_std_Valence</td>\n",
              "      <td>-5.503262</td>\n",
              "      <td>5.503262</td>\n",
              "    </tr>\n",
              "    <tr>\n",
              "      <th>0</th>\n",
              "      <td>Si</td>\n",
              "      <td>-4.148167</td>\n",
              "      <td>4.148167</td>\n",
              "    </tr>\n",
              "    <tr>\n",
              "      <th>17</th>\n",
              "      <td>gmean_Density</td>\n",
              "      <td>-3.782411</td>\n",
              "      <td>3.782411</td>\n",
              "    </tr>\n",
              "    <tr>\n",
              "      <th>18</th>\n",
              "      <td>wtd_gmean_ElectronAffinity</td>\n",
              "      <td>-3.090151</td>\n",
              "      <td>3.090151</td>\n",
              "    </tr>\n",
              "    <tr>\n",
              "      <th>19</th>\n",
              "      <td>wtd_std_FusionHeat</td>\n",
              "      <td>-3.012947</td>\n",
              "      <td>3.012947</td>\n",
              "    </tr>\n",
              "    <tr>\n",
              "      <th>3</th>\n",
              "      <td>As</td>\n",
              "      <td>-2.541149</td>\n",
              "      <td>2.541149</td>\n",
              "    </tr>\n",
              "    <tr>\n",
              "      <th>8</th>\n",
              "      <td>Pr</td>\n",
              "      <td>-2.285263</td>\n",
              "      <td>2.285263</td>\n",
              "    </tr>\n",
              "    <tr>\n",
              "      <th>7</th>\n",
              "      <td>Ce</td>\n",
              "      <td>-1.265167</td>\n",
              "      <td>1.265167</td>\n",
              "    </tr>\n",
              "    <tr>\n",
              "      <th>2</th>\n",
              "      <td>Ge</td>\n",
              "      <td>-1.206696</td>\n",
              "      <td>1.206696</td>\n",
              "    </tr>\n",
              "    <tr>\n",
              "      <th>9</th>\n",
              "      <td>Nd</td>\n",
              "      <td>-1.143237</td>\n",
              "      <td>1.143237</td>\n",
              "    </tr>\n",
              "    <tr>\n",
              "      <th>5</th>\n",
              "      <td>Ag</td>\n",
              "      <td>-0.888208</td>\n",
              "      <td>0.888208</td>\n",
              "    </tr>\n",
              "    <tr>\n",
              "      <th>14</th>\n",
              "      <td>range_atomic_mass</td>\n",
              "      <td>1.148657</td>\n",
              "      <td>1.148657</td>\n",
              "    </tr>\n",
              "    <tr>\n",
              "      <th>11</th>\n",
              "      <td>Tl</td>\n",
              "      <td>1.354964</td>\n",
              "      <td>1.354964</td>\n",
              "    </tr>\n",
              "    <tr>\n",
              "      <th>10</th>\n",
              "      <td>Hg</td>\n",
              "      <td>1.385003</td>\n",
              "      <td>1.385003</td>\n",
              "    </tr>\n",
              "    <tr>\n",
              "      <th>15</th>\n",
              "      <td>mean_fie</td>\n",
              "      <td>1.487692</td>\n",
              "      <td>1.487692</td>\n",
              "    </tr>\n",
              "    <tr>\n",
              "      <th>4</th>\n",
              "      <td>Sr</td>\n",
              "      <td>1.985897</td>\n",
              "      <td>1.985897</td>\n",
              "    </tr>\n",
              "    <tr>\n",
              "      <th>12</th>\n",
              "      <td>Bi</td>\n",
              "      <td>3.758398</td>\n",
              "      <td>3.758398</td>\n",
              "    </tr>\n",
              "    <tr>\n",
              "      <th>1</th>\n",
              "      <td>Ca</td>\n",
              "      <td>4.371822</td>\n",
              "      <td>4.371822</td>\n",
              "    </tr>\n",
              "    <tr>\n",
              "      <th>16</th>\n",
              "      <td>range_atomic_radius</td>\n",
              "      <td>4.672135</td>\n",
              "      <td>4.672135</td>\n",
              "    </tr>\n",
              "    <tr>\n",
              "      <th>20</th>\n",
              "      <td>wtd_mean_ThermalConductivity</td>\n",
              "      <td>5.230839</td>\n",
              "      <td>5.230839</td>\n",
              "    </tr>\n",
              "    <tr>\n",
              "      <th>13</th>\n",
              "      <td>wtd_entropy_atomic_mass</td>\n",
              "      <td>6.835941</td>\n",
              "      <td>6.835941</td>\n",
              "    </tr>\n",
              "    <tr>\n",
              "      <th>6</th>\n",
              "      <td>Ba</td>\n",
              "      <td>10.076936</td>\n",
              "      <td>10.076936</td>\n",
              "    </tr>\n",
              "  </tbody>\n",
              "</table>\n",
              "</div>"
            ],
            "text/plain": [
              "                          Factor       Coef   abs_Coef\n",
              "21               wtd_std_Valence  -5.503262   5.503262\n",
              "0                             Si  -4.148167   4.148167\n",
              "17                 gmean_Density  -3.782411   3.782411\n",
              "18    wtd_gmean_ElectronAffinity  -3.090151   3.090151\n",
              "19            wtd_std_FusionHeat  -3.012947   3.012947\n",
              "3                             As  -2.541149   2.541149\n",
              "8                             Pr  -2.285263   2.285263\n",
              "7                             Ce  -1.265167   1.265167\n",
              "2                             Ge  -1.206696   1.206696\n",
              "9                             Nd  -1.143237   1.143237\n",
              "5                             Ag  -0.888208   0.888208\n",
              "14             range_atomic_mass   1.148657   1.148657\n",
              "11                            Tl   1.354964   1.354964\n",
              "10                            Hg   1.385003   1.385003\n",
              "15                      mean_fie   1.487692   1.487692\n",
              "4                             Sr   1.985897   1.985897\n",
              "12                            Bi   3.758398   3.758398\n",
              "1                             Ca   4.371822   4.371822\n",
              "16           range_atomic_radius   4.672135   4.672135\n",
              "20  wtd_mean_ThermalConductivity   5.230839   5.230839\n",
              "13       wtd_entropy_atomic_mass   6.835941   6.835941\n",
              "6                             Ba  10.076936  10.076936"
            ]
          },
          "execution_count": 173,
          "metadata": {},
          "output_type": "execute_result"
        }
      ],
      "source": [
        "model_coef1.sort_values(by=['Coef'])"
      ]
    },
    {
      "cell_type": "markdown",
      "metadata": {
        "id": "B5xjBvJ88g_e"
      },
      "source": [
        "## How did you come to the conclusion and how should your audience interpret this?"
      ]
    },
    {
      "cell_type": "markdown",
      "metadata": {
        "id": "JbAhMB1x8g_e"
      },
      "source": [
        "# Conclusion <a id='conclusion'>\n",
        "    \n"
      ]
    },
    {
      "cell_type": "markdown",
      "metadata": {
        "id": "BQg7zN_h8g_e"
      },
      "source": [
        "The goal of our analysis was to predict the critical temperature for superconductors.  Determining the critical temperature is important because if superconductors don't cool down below a certain temperature, they lose their conductivity.  The team built a linear model after using LASSO select features. "
      ]
    },
    {
      "cell_type": "markdown",
      "metadata": {
        "id": "xnsadV7M8g_e"
      },
      "source": [
        "### After all of your technical analysis and modeling; what are you proposing to your audience and why? \n",
        "\n",
        "We're proposing a linear regression model with L1 and L2 regularization, to reduce the number of features and prevent overfitting, that predicts the critical temperatures using 9 material characteristics and 13 elements out of the 158 total features (81 materical characteristics and 77 elements) provided. Our model achieved and r-squared of 0.72 and an RMSE of 18 degrees K. One of our primary goals was to achieve high model interpretability and reduce the model complexity while at the same time minimizing impact on model performance.  \n",
        "\n",
        "\n",
        "### How should they view your results and what should they consider when moving forward? \n",
        "\n",
        "Attempt to build two separate models for low and high temperature superconductors. We noticed that our observations might come from two separate populations since distribution appears to be bimodal. This in turn would reduce the rmse of each model.\n",
        "\n",
        "\n",
        "### Are there other approaches you'd recommend exploring?  This is where you \"bring it all home\" in language they understand.\n",
        "\n",
        "\n",
        "The team also recommends exploring nonlinear modeling (e.g. boosted trees, random forest) to better handle skewness and outliers in the data\n"
      ]
    }
  ],
  "metadata": {
    "kernelspec": {
      "display_name": "Python 3",
      "language": "python",
      "name": "python3"
    },
    "language_info": {
      "codemirror_mode": {
        "name": "ipython",
        "version": 3
      },
      "file_extension": ".py",
      "mimetype": "text/x-python",
      "name": "python",
      "nbconvert_exporter": "python",
      "pygments_lexer": "ipython3",
      "version": "3.8.5"
    },
    "colab": {
      "name": "Case_Study_1.ipynb",
      "provenance": []
    }
  },
  "nbformat": 4,
  "nbformat_minor": 0
}