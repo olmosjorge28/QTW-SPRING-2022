{
 "cells": [
  {
   "cell_type": "markdown",
   "metadata": {},
   "source": [
    "# Case Study 1 - Predicting Superconductors "
   ]
  },
  {
   "cell_type": "markdown",
   "metadata": {},
   "source": [
    "__Team Members__\n",
    "\n",
    "- Name 1: Amber Clark\n",
    "- Name 2: Andrew Leppla\n",
    "- Name 3: Jorge Olmos\n",
    "- Name 4: Paritosh Rai"
   ]
  },
  {
   "cell_type": "markdown",
   "metadata": {},
   "source": [
    "# Content\n",
    "* [Business Understanding](#business-understanding)\n",
    "* [Data Evaluation](#data-evaluation)\n",
    "    - [Data Understanding](#data-understanding)\n",
    "    - [Missing Values](#missing-values)\n",
    "    - [Which Values are needed](#values-needed)\n",
    "    - [Assumptions](#assumptions)\n",
    "* [Model Preparations](#model-preparations)\n",
    "    - [Method](#method)\n",
    "    - [Evaluation Metrics](#evaluation-metrics)\n",
    "* [Model Building & Evaluations](#model-building)\n",
    "    - [Sampling Methodology](#sampling-methodology)\n",
    "    - [L1 Model](#L1-model)\n",
    "    - [L2 Model](#L2-model)\n",
    "    - [Analysis](#analysis)\n",
    "* [Model Interpretability & Explainability](#model-explanation)\n",
    "* [Conclusion](#conclusion)"
   ]
  },
  {
   "cell_type": "markdown",
   "metadata": {},
   "source": [
    "## Executive Summary"
   ]
  },
  {
   "cell_type": "markdown",
   "metadata": {},
   "source": [
    "# Business Understanding <a id='business-understanding'/>"
   ]
  },
  {
   "cell_type": "markdown",
   "metadata": {},
   "source": [
    "\n",
    "\n",
    "The primary purpose is to research is for the prediction of new superconductors and at the temperature at which they would occur based on the experimental data provided.\n",
    "\n",
    "We have been provided with two files, once which lists the critical temperature at which the superconductor occurs and the properties associated to the superconductor. A second file maps the materials and breaks down the elements for each of the superconductors. \n",
    "\n",
    "Both files contains 21,263 records, with the training file and material files containing 88 variables, and 82 variables respectively. There are no duplicate records, however both the training and materials files contain a duplicate critical_temp column.\n",
    "\n",
    "Our goal is to create models that predict the __critical temperature__, our target variable, for which a superconductor might occur. To do so we will be creating regression models (Ridge and Lasso), and utilizing different dimensionality reduction techniques to improve training time, avoid overfitting, and take care of multicollinearity. We will be using k-fold cross validation that will help our model have low bias, and evaluating our models using RMSE and an adjusted R^2.\n",
    "\n",
    "\n"
   ]
  },
  {
   "cell_type": "markdown",
   "metadata": {},
   "source": [
    "# Data Evaluation <a id='data-evaluation'>\n",
    "    "
   ]
  },
  {
   "cell_type": "markdown",
   "metadata": {},
   "source": [
    "The data comes from a Japanese database, Materials Data Repository.  It is a database repository or materials research and publications.  The data we are working with has been used in a variety of analysis and publications available online conducting similar analysis to what we have done in our assignment"
   ]
  },
  {
   "cell_type": "code",
   "execution_count": 40,
   "metadata": {},
   "outputs": [],
   "source": [
    "# standard libraries\n",
    "import pandas as pd\n",
    "import numpy as np\n",
    "import time\n",
    "import re #regex\n",
    "\n",
    "# visualization\n",
    "import seaborn as sns\n",
    "import matplotlib.pyplot as plt\n",
    "%matplotlib inline\n",
    "\n",
    "# data pre-processing\n",
    "from sklearn.preprocessing import StandardScaler\n",
    "#from sklearn import preprocessing\n",
    "\n",
    "# prediction models\n",
    "from sklearn.model_selection import train_test_split\n",
    "#from sklearn.model_selection import ShuffleSplit\n",
    "from sklearn.model_selection import cross_validate\n",
    "from sklearn.model_selection import cross_val_predict\n",
    "#from sklearn.linear_model import LinearRegression\n",
    "from sklearn.linear_model import Ridge\n",
    "from sklearn.linear_model import Lasso\n",
    "from sklearn.linear_model import LassoLarsIC\n",
    "from sklearn import metrics as mt\n",
    "from sklearn.metrics import r2_score\n",
    "from sklearn.metrics import mean_squared_error as mse\n",
    "from sklearn.metrics import make_scorer\n",
    "from kneed import KneeLocator\n",
    "from scipy import stats\n",
    "\n",
    "# import warnings filter\n",
    "import warnings\n",
    "warnings.filterwarnings('ignore')\n",
    "from warnings import simplefilter\n",
    "# ignore all future warnings\n",
    "simplefilter(action='ignore', category=FutureWarning)\n",
    "\n",
    "from tabulate import tabulate"
   ]
  },
  {
   "cell_type": "markdown",
   "metadata": {},
   "source": [
    "## Loading Data"
   ]
  },
  {
   "cell_type": "markdown",
   "metadata": {},
   "source": [
    "#### After loading data we noticed that all but three of the characteristics (number of elements, range of atomic mass of radius, range of valence) are floats"
   ]
  },
  {
   "cell_type": "code",
   "execution_count": 41,
   "metadata": {},
   "outputs": [],
   "source": [
    "materials = pd.read_csv('superconduct/unique_m.csv') \n",
    "characteristics = pd.read_csv('superconduct/train.csv')"
   ]
  },
  {
   "cell_type": "code",
   "execution_count": 44,
   "metadata": {},
   "outputs": [
    {
     "name": "stdout",
     "output_type": "stream",
     "text": [
      "╒════╤═════════════════════════════════╤══════════════════════════════════════════════════════╤═════════╕\n",
      "│    │ Variable                        │ Description                                          │ Type    │\n",
      "╞════╪═════════════════════════════════╪══════════════════════════════════════════════════════╪═════════╡\n",
      "│  0 │ number_of_elements              │ number of elements                                   │ Integer │\n",
      "├────┼─────────────────────────────────┼──────────────────────────────────────────────────────┼─────────┤\n",
      "│  1 │ mean_atomic_mass                │ mean of atomic mass                                  │ Float   │\n",
      "├────┼─────────────────────────────────┼──────────────────────────────────────────────────────┼─────────┤\n",
      "│  2 │ wtd_mean_atomic_mass            │ weighted mean of atomic mass                         │ Float   │\n",
      "├────┼─────────────────────────────────┼──────────────────────────────────────────────────────┼─────────┤\n",
      "│  3 │ gmean_atomic_mass               │ geometric mean of atomic mass                        │ Float   │\n",
      "├────┼─────────────────────────────────┼──────────────────────────────────────────────────────┼─────────┤\n",
      "│  4 │ wtd_gmean_atomic_mass           │ weighted geometic mean of atomic mass                │ Float   │\n",
      "├────┼─────────────────────────────────┼──────────────────────────────────────────────────────┼─────────┤\n",
      "│  5 │ entropy_atomic_mass             │ entropy of atomic mass                               │ Float   │\n",
      "├────┼─────────────────────────────────┼──────────────────────────────────────────────────────┼─────────┤\n",
      "│  6 │ wtd_entropy_atomic_mass         │ weighted entropy of atomic mass                      │ Float   │\n",
      "├────┼─────────────────────────────────┼──────────────────────────────────────────────────────┼─────────┤\n",
      "│  7 │ range_atomic_mass               │ range of atomic mass                                 │ Float   │\n",
      "├────┼─────────────────────────────────┼──────────────────────────────────────────────────────┼─────────┤\n",
      "│  8 │ wtd_range_atomic_mass           │ weighted range of atomic mass                        │ Float   │\n",
      "├────┼─────────────────────────────────┼──────────────────────────────────────────────────────┼─────────┤\n",
      "│  9 │ std_atomic_mass                 │ standard deviation of atomic mass                    │ Float   │\n",
      "├────┼─────────────────────────────────┼──────────────────────────────────────────────────────┼─────────┤\n",
      "│ 10 │ wtd_std_atomic_mass             │ weighted standard deviation of atomic mass           │ Float   │\n",
      "├────┼─────────────────────────────────┼──────────────────────────────────────────────────────┼─────────┤\n",
      "│ 11 │ mean_fie                        │ mean phi                                             │ Float   │\n",
      "├────┼─────────────────────────────────┼──────────────────────────────────────────────────────┼─────────┤\n",
      "│ 12 │ wtd_mean_fie                    │ weighted mean phi                                    │ Float   │\n",
      "├────┼─────────────────────────────────┼──────────────────────────────────────────────────────┼─────────┤\n",
      "│ 13 │ gmean_fie                       │ geometric mean phi                                   │ Float   │\n",
      "├────┼─────────────────────────────────┼──────────────────────────────────────────────────────┼─────────┤\n",
      "│ 14 │ wtd_gmean_fie                   │ weighted geometric mean phi                          │ Float   │\n",
      "├────┼─────────────────────────────────┼──────────────────────────────────────────────────────┼─────────┤\n",
      "│ 15 │ entropy_fie                     │ entropy phi                                          │ Float   │\n",
      "├────┼─────────────────────────────────┼──────────────────────────────────────────────────────┼─────────┤\n",
      "│ 16 │ wtd_entropy_fie                 │ wegithed entropy phi                                 │ Float   │\n",
      "├────┼─────────────────────────────────┼──────────────────────────────────────────────────────┼─────────┤\n",
      "│ 17 │ range_fie                       │ range of phi                                         │ Float   │\n",
      "├────┼─────────────────────────────────┼──────────────────────────────────────────────────────┼─────────┤\n",
      "│ 18 │ wtd_range_fie                   │ weighted range of phi                                │ Float   │\n",
      "├────┼─────────────────────────────────┼──────────────────────────────────────────────────────┼─────────┤\n",
      "│ 19 │ std_fie                         │ standard deviation of phi                            │ Float   │\n",
      "├────┼─────────────────────────────────┼──────────────────────────────────────────────────────┼─────────┤\n",
      "│ 20 │ wtd_std_fie                     │ weighted standard deviation of phi                   │ Float   │\n",
      "├────┼─────────────────────────────────┼──────────────────────────────────────────────────────┼─────────┤\n",
      "│ 21 │ mean_atomic_radius              │ atomic mean of radius                                │ Float   │\n",
      "├────┼─────────────────────────────────┼──────────────────────────────────────────────────────┼─────────┤\n",
      "│ 22 │ wtd_mean_atomic_radius          │ weighted atomic mean of radius                       │ Float   │\n",
      "├────┼─────────────────────────────────┼──────────────────────────────────────────────────────┼─────────┤\n",
      "│ 23 │ gmean_atomic_radius             │ geometric atomic of radius                           │ Float   │\n",
      "├────┼─────────────────────────────────┼──────────────────────────────────────────────────────┼─────────┤\n",
      "│ 24 │ wtd_gmean_atomic_radius         │ weighted geometric mean of radius                    │ Float   │\n",
      "├────┼─────────────────────────────────┼──────────────────────────────────────────────────────┼─────────┤\n",
      "│ 25 │ entropy_atomic_radius           │ entrophy of atomic of radius                         │ Float   │\n",
      "├────┼─────────────────────────────────┼──────────────────────────────────────────────────────┼─────────┤\n",
      "│ 26 │ wtd_entropy_atomic_radius       │ weighted entrophy of atomic of Radius                │ Float   │\n",
      "├────┼─────────────────────────────────┼──────────────────────────────────────────────────────┼─────────┤\n",
      "│ 27 │ range_atomic_radius             │ range of atomic mass of radius                       │ Integer │\n",
      "├────┼─────────────────────────────────┼──────────────────────────────────────────────────────┼─────────┤\n",
      "│ 28 │ wtd_range_atomic_radius         │ weighted range of atomic mass of radius              │ Float   │\n",
      "├────┼─────────────────────────────────┼──────────────────────────────────────────────────────┼─────────┤\n",
      "│ 29 │ std_atomic_radius               │ standard deviation of atomic mass of radius          │ Float   │\n",
      "├────┼─────────────────────────────────┼──────────────────────────────────────────────────────┼─────────┤\n",
      "│ 30 │ wtd_std_atomic_radius           │ weighted standard deviation of atomic mass of radius │ Float   │\n",
      "├────┼─────────────────────────────────┼──────────────────────────────────────────────────────┼─────────┤\n",
      "│ 31 │ mean_Density                    │ mean of density                                      │ Float   │\n",
      "├────┼─────────────────────────────────┼──────────────────────────────────────────────────────┼─────────┤\n",
      "│ 32 │ wtd_mean_Density                │ weighted mean of density                             │ Float   │\n",
      "├────┼─────────────────────────────────┼──────────────────────────────────────────────────────┼─────────┤\n",
      "│ 33 │ gmean_Density                   │ geometic mean of density                             │ Float   │\n",
      "├────┼─────────────────────────────────┼──────────────────────────────────────────────────────┼─────────┤\n",
      "│ 34 │ wtd_gmean_Density               │ weighted geometic mean of density                    │ Float   │\n",
      "├────┼─────────────────────────────────┼──────────────────────────────────────────────────────┼─────────┤\n",
      "│ 35 │ entropy_Density                 │ entropy of density                                   │ Float   │\n",
      "├────┼─────────────────────────────────┼──────────────────────────────────────────────────────┼─────────┤\n",
      "│ 36 │ wtd_entropy_Density             │ weighted entropy of denisty                          │ Float   │\n",
      "├────┼─────────────────────────────────┼──────────────────────────────────────────────────────┼─────────┤\n",
      "│ 37 │ range_Density                   │ range of density                                     │ Float   │\n",
      "├────┼─────────────────────────────────┼──────────────────────────────────────────────────────┼─────────┤\n",
      "│ 38 │ wtd_range_Density               │ weighted range of density                            │ Float   │\n",
      "├────┼─────────────────────────────────┼──────────────────────────────────────────────────────┼─────────┤\n",
      "│ 39 │ std_Density                     │ standard deviation of density                        │ Float   │\n",
      "├────┼─────────────────────────────────┼──────────────────────────────────────────────────────┼─────────┤\n",
      "│ 40 │ wtd_std_Density                 │ weighted standard deviation of density               │ Float   │\n",
      "├────┼─────────────────────────────────┼──────────────────────────────────────────────────────┼─────────┤\n",
      "│ 41 │ mean_ElectronAffinity           │ mean of electron affinity                            │ Float   │\n",
      "├────┼─────────────────────────────────┼──────────────────────────────────────────────────────┼─────────┤\n",
      "│ 42 │ wtd_mean_ElectronAffinity       │ weighted mean of electronic effinity                 │ Float   │\n",
      "├────┼─────────────────────────────────┼──────────────────────────────────────────────────────┼─────────┤\n",
      "│ 43 │ gmean_ElectronAffinity          │ geometic mean of electron affinity                   │ Float   │\n",
      "├────┼─────────────────────────────────┼──────────────────────────────────────────────────────┼─────────┤\n",
      "│ 44 │ wtd_gmean_ElectronAffinity      │ weighted geometic mean of electrong affinity         │ Float   │\n",
      "├────┼─────────────────────────────────┼──────────────────────────────────────────────────────┼─────────┤\n",
      "│ 45 │ entropy_ElectronAffinity        │ entropy of electrong affinity                        │ Float   │\n",
      "├────┼─────────────────────────────────┼──────────────────────────────────────────────────────┼─────────┤\n",
      "│ 46 │ wtd_entropy_ElectronAffinity    │ weighted entropy of electrong affinity               │ Float   │\n",
      "├────┼─────────────────────────────────┼──────────────────────────────────────────────────────┼─────────┤\n",
      "│ 47 │ range_ElectronAffinity          │ range of electrong affinity                          │ Float   │\n",
      "├────┼─────────────────────────────────┼──────────────────────────────────────────────────────┼─────────┤\n",
      "│ 48 │ wtd_range_ElectronAffinity      │ weighted range of electrong affinity                 │ Float   │\n",
      "├────┼─────────────────────────────────┼──────────────────────────────────────────────────────┼─────────┤\n",
      "│ 49 │ std_ElectronAffinity            │ standard deviation of electrong affinity             │ Float   │\n",
      "├────┼─────────────────────────────────┼──────────────────────────────────────────────────────┼─────────┤\n",
      "│ 50 │ wtd_std_ElectronAffinity        │ weighted standard deviation of electrong affinity    │ Float   │\n",
      "├────┼─────────────────────────────────┼──────────────────────────────────────────────────────┼─────────┤\n",
      "│ 51 │ mean_FusionHeat                 │ mean of fusion heat                                  │ Float   │\n",
      "├────┼─────────────────────────────────┼──────────────────────────────────────────────────────┼─────────┤\n",
      "│ 52 │ wtd_mean_FusionHeat             │ weighted mean of fusion heat                         │ Float   │\n",
      "├────┼─────────────────────────────────┼──────────────────────────────────────────────────────┼─────────┤\n",
      "│ 53 │ gmean_FusionHeat                │ geometic mean of fusion heat                         │ Float   │\n",
      "├────┼─────────────────────────────────┼──────────────────────────────────────────────────────┼─────────┤\n",
      "│ 54 │ wtd_gmean_FusionHeat            │ weighted geometric mean of fusion heat               │ Float   │\n",
      "├────┼─────────────────────────────────┼──────────────────────────────────────────────────────┼─────────┤\n",
      "│ 55 │ entropy_FusionHeat              │ entropy of fusion heat                               │ Float   │\n",
      "├────┼─────────────────────────────────┼──────────────────────────────────────────────────────┼─────────┤\n",
      "│ 56 │ wtd_entropy_FusionHeat          │ weighted entropy of fusion heat                      │ Float   │\n",
      "├────┼─────────────────────────────────┼──────────────────────────────────────────────────────┼─────────┤\n",
      "│ 57 │ range_FusionHeat                │ Range of fusion heat                                 │ Float   │\n",
      "├────┼─────────────────────────────────┼──────────────────────────────────────────────────────┼─────────┤\n",
      "│ 58 │ wtd_range_FusionHeat            │ weighted range fusion heat                           │ Float   │\n",
      "├────┼─────────────────────────────────┼──────────────────────────────────────────────────────┼─────────┤\n",
      "│ 59 │ std_FusionHeat                  │ standard deviation of fusion heat                    │ Float   │\n",
      "├────┼─────────────────────────────────┼──────────────────────────────────────────────────────┼─────────┤\n",
      "│ 60 │ wtd_std_FusionHeat              │ weighted standard deviation of fusion heat           │ Float   │\n",
      "├────┼─────────────────────────────────┼──────────────────────────────────────────────────────┼─────────┤\n",
      "│ 61 │ mean_ThermalConductivity        │ mean of thermal conductivity                         │ Float   │\n",
      "├────┼─────────────────────────────────┼──────────────────────────────────────────────────────┼─────────┤\n",
      "│ 62 │ wtd_mean_ThermalConductivity    │ weighted mean of thermal conductivity                │ Float   │\n",
      "├────┼─────────────────────────────────┼──────────────────────────────────────────────────────┼─────────┤\n",
      "│ 63 │ gmean_ThermalConductivity       │ geometric mean of thermal conductivity               │ Float   │\n",
      "├────┼─────────────────────────────────┼──────────────────────────────────────────────────────┼─────────┤\n",
      "│ 64 │ wtd_gmean_ThermalConductivity   │ weighted geometric mean of thermal conductivity      │ Float   │\n",
      "├────┼─────────────────────────────────┼──────────────────────────────────────────────────────┼─────────┤\n",
      "│ 65 │ entropy_ThermalConductivity     │ entrophy of thermal conductivity                     │ Float   │\n",
      "├────┼─────────────────────────────────┼──────────────────────────────────────────────────────┼─────────┤\n",
      "│ 66 │ wtd_entropy_ThermalConductivity │ weighted entropy of thermal conductivity             │ Float   │\n",
      "├────┼─────────────────────────────────┼──────────────────────────────────────────────────────┼─────────┤\n",
      "│ 67 │ range_ThermalConductivity       │ range of thermal conductivity                        │ Float   │\n",
      "├────┼─────────────────────────────────┼──────────────────────────────────────────────────────┼─────────┤\n",
      "│ 68 │ wtd_range_ThermalConductivity   │ weighted range of thermal conductivity               │ Float   │\n",
      "├────┼─────────────────────────────────┼──────────────────────────────────────────────────────┼─────────┤\n",
      "│ 69 │ std_ThermalConductivity         │ standard deviation of thermal conductivity           │ Float   │\n",
      "├────┼─────────────────────────────────┼──────────────────────────────────────────────────────┼─────────┤\n",
      "│ 70 │ wtd_std_ThermalConductivity     │ weighted standard deviation of thermal conductivity  │ Float   │\n",
      "├────┼─────────────────────────────────┼──────────────────────────────────────────────────────┼─────────┤\n",
      "│ 71 │ mean_Valence                    │ mean of valence                                      │ Float   │\n",
      "├────┼─────────────────────────────────┼──────────────────────────────────────────────────────┼─────────┤\n",
      "│ 72 │ wtd_mean_Valence                │ weighted mean of valence                             │ Float   │\n",
      "├────┼─────────────────────────────────┼──────────────────────────────────────────────────────┼─────────┤\n",
      "│ 73 │ gmean_Valence                   │ geometric mean of valence                            │ Float   │\n",
      "├────┼─────────────────────────────────┼──────────────────────────────────────────────────────┼─────────┤\n",
      "│ 74 │ wtd_gmean_Valence               │ weighted geometric mean of valence                   │ Float   │\n",
      "├────┼─────────────────────────────────┼──────────────────────────────────────────────────────┼─────────┤\n",
      "│ 75 │ entropy_Valence                 │ entropy of valence                                   │ Float   │\n",
      "├────┼─────────────────────────────────┼──────────────────────────────────────────────────────┼─────────┤\n",
      "│ 76 │ wtd_entropy_Valence             │ weighted entrophy of valence                         │ Float   │\n",
      "├────┼─────────────────────────────────┼──────────────────────────────────────────────────────┼─────────┤\n",
      "│ 77 │ range_Valence                   │ range of valence                                     │ Integer │\n",
      "├────┼─────────────────────────────────┼──────────────────────────────────────────────────────┼─────────┤\n",
      "│ 78 │ wtd_range_Valence               │ weighted range of valence                            │ Float   │\n",
      "├────┼─────────────────────────────────┼──────────────────────────────────────────────────────┼─────────┤\n",
      "│ 79 │ std_Valence                     │ standard deviation of valence                        │ Float   │\n",
      "├────┼─────────────────────────────────┼──────────────────────────────────────────────────────┼─────────┤\n",
      "│ 80 │ wtd_std_Valence                 │ weighted standard deviation of valence               │ Float   │\n",
      "├────┼─────────────────────────────────┼──────────────────────────────────────────────────────┼─────────┤\n",
      "│ 81 │ critical_temp                   │ critical temperature                                 │ Float   │\n",
      "╘════╧═════════════════════════════════╧══════════════════════════════════════════════════════╧═════════╛\n"
     ]
    }
   ],
   "source": [
    "datadictionary = pd.read_csv('datadictionary.csv') \n",
    "col_names = [\"Variable\", \"Description\", \"Type\"]\n",
    "print(tabulate(datadictionary, headers=col_names, tablefmt='fancy_grid'))"
   ]
  },
  {
   "cell_type": "markdown",
   "metadata": {},
   "source": [
    "## Missing Data\n",
    "\n",
    "We looked at both the materials datasets and the train dataset and there appears to not be any missing values"
   ]
  },
  {
   "cell_type": "code",
   "execution_count": 20,
   "metadata": {},
   "outputs": [
    {
     "data": {
      "text/plain": [
       "False"
      ]
     },
     "execution_count": 20,
     "metadata": {},
     "output_type": "execute_result"
    }
   ],
   "source": [
    "materials.isnull().values.any()"
   ]
  },
  {
   "cell_type": "code",
   "execution_count": 22,
   "metadata": {},
   "outputs": [
    {
     "data": {
      "text/plain": [
       "False"
      ]
     },
     "execution_count": 22,
     "metadata": {},
     "output_type": "execute_result"
    }
   ],
   "source": [
    "characteristics.isnull().values.any()"
   ]
  },
  {
   "cell_type": "markdown",
   "metadata": {},
   "source": [
    "## Exploring Correlations of Features \n",
    "\n",
    "We examined the correlations the pair correlations of features, and decided to remove the following three as they made it the final model, yet did not improve the overall perfomance. "
   ]
  },
  {
   "cell_type": "code",
   "execution_count": 23,
   "metadata": {},
   "outputs": [
    {
     "data": {
      "image/png": "[encoded data removed]",
      "text/plain": [
       "<Figure size 432x288 with 1 Axes>"
      ]
     },
     "metadata": {
      "needs_background": "light"
     },
     "output_type": "display_data"
    }
   ],
   "source": [
    "sns.regplot(y='wtd_mean_ThermalConductivity', x='wtd_gmean_ThermalConductivity', data=characteristics);\n"
   ]
  },
  {
   "cell_type": "code",
   "execution_count": 24,
   "metadata": {},
   "outputs": [
    {
     "data": {
      "image/png": "[encoded data removed]",
      "text/plain": [
       "<Figure size 432x288 with 1 Axes>"
      ]
     },
     "metadata": {
      "needs_background": "light"
     },
     "output_type": "display_data"
    }
   ],
   "source": [
    "sns.regplot(y='wtd_mean_ThermalConductivity', x='wtd_std_ThermalConductivity', data=characteristics);"
   ]
  },
  {
   "cell_type": "code",
   "execution_count": 25,
   "metadata": {},
   "outputs": [
    {
     "data": {
      "image/png": "[encoded data removed]",
      "text/plain": [
       "<Figure size 432x288 with 1 Axes>"
      ]
     },
     "metadata": {
      "needs_background": "light"
     },
     "output_type": "display_data"
    }
   ],
   "source": [
    "sns.regplot(x='range_atomic_radius', y='range_fie', data=characteristics);"
   ]
  },
  {
   "cell_type": "markdown",
   "metadata": {},
   "source": [
    "### Which variables are needed (which ones are not)? "
   ]
  },
  {
   "cell_type": "markdown",
   "metadata": {},
   "source": [
    "We removed 9 elements (He', 'Ne', 'Ar', 'Kr', 'Xe', 'Pm', 'Po', 'At', 'Rn') that were not present in any of the materials we examined, therefore they will not contribute to the model. We speculate that the reason for these elements not showing up in any of the materials is that they're noble gases and don't have the propensity to react with any other elements. We additionally removed three characterics ('wtd_gmean_ThermalConductivity', 'wtd_std_ThermalConductivity','range_fie') from our features that were indentified from the multicollinearity analysis and instead kept the features that had higher correlations with the critical temperature."
   ]
  },
  {
   "cell_type": "code",
   "execution_count": 26,
   "metadata": {},
   "outputs": [
    {
     "name": "stdout",
     "output_type": "stream",
     "text": [
      "Material Drops ['He', 'Ne', 'Ar', 'Kr', 'Xe', 'Pm', 'Po', 'At', 'Rn']\n",
      "Characteristics  ['wtd_gmean_ThermalConductivity', 'wtd_std_ThermalConductivity', 'range_fie']\n"
     ]
    }
   ],
   "source": [
    "describe =  materials.describe()\n",
    "cols = describe.columns\n",
    "material_drops = [c for c in cols if describe[c]['max'] == 0.0]\n",
    "characteristic_drops = ['wtd_gmean_ThermalConductivity', 'wtd_std_ThermalConductivity','range_fie']\n",
    "print(\"Material Drops\", material_drops)\n",
    "print(\"Characteristics \", characteristic_drops)"
   ]
  },
  {
   "cell_type": "code",
   "execution_count": 27,
   "metadata": {},
   "outputs": [],
   "source": [
    "materials = materials.drop(material_drops, axis = 1)\n",
    "characteristics = train.drop(characteristic_drops, axis = 1)"
   ]
  },
  {
   "cell_type": "markdown",
   "metadata": {},
   "source": [
    "##### cleaning up files before combining, critical temp (duplicated in characteristics) and material (unneeded) from materials"
   ]
  },
  {
   "cell_type": "code",
   "execution_count": 29,
   "metadata": {},
   "outputs": [],
   "source": [
    "materials = materials.drop(['critical_temp', 'material'], axis = 1)"
   ]
  },
  {
   "cell_type": "markdown",
   "metadata": {},
   "source": [
    "#### Combining Datasets"
   ]
  },
  {
   "cell_type": "code",
   "execution_count": 32,
   "metadata": {},
   "outputs": [],
   "source": [
    "df = pd.concat([materials, characteristics ], axis=1)"
   ]
  },
  {
   "cell_type": "markdown",
   "metadata": {},
   "source": [
    "## Determining Outliers and Removing Outliers\n",
    "\n",
    "###### add an explanation"
   ]
  },
  {
   "cell_type": "code",
   "execution_count": 34,
   "metadata": {
    "scrolled": true
   },
   "outputs": [
    {
     "data": {
      "image/png": "[encoded data removed]",
      "text/plain": [
       "<Figure size 1224x360 with 5 Axes>"
      ]
     },
     "metadata": {
      "needs_background": "light"
     },
     "output_type": "display_data"
    }
   ],
   "source": [
    "fig, axes = plt.subplots(1, 5, figsize=(17, 5))\n",
    "fig.suptitle('Elements with Outliers')\n",
    "outlier_elem = ['B', 'Pr', 'Cd', 'Fe', 'Tc']\n",
    "for i,j in zip(outlier_elem, range(5)):\n",
    "    sns.boxplot(ax = axes[j], x = materials[i]); "
   ]
  },
  {
   "cell_type": "code",
   "execution_count": 249,
   "metadata": {},
   "outputs": [
    {
     "name": "stdout",
     "output_type": "stream",
     "text": [
      "(21257, 159)\n"
     ]
    }
   ],
   "source": [
    "\n",
    "df = df[ df['B'] < df['B'].max() ]\n",
    "df = df[ df['Pr'] < df['Pr'].max() ]\n",
    "df = df[ df['Cd'] < df['Cd'].max() ]\n",
    "df = df[ df['Fe'] < df['Fe'].max() ]\n",
    "df = df[ df['Tc'] < df['Tc'].max() ]\n",
    "df = df[ df.index != 5918] # outlier in log transform models\n",
    "print(df.shape)"
   ]
  },
  {
   "cell_type": "markdown",
   "metadata": {},
   "source": [
    "## Examining Distribution of Target Variable: Critical Temperature\n",
    "\n",
    "###### Even though is skewed our sample size is large enough (CLT),  We notice the data is bimodal which could indicate that there are different relationships for high temperature superconductors and regular superconductors (does not represent 1 population) , make data interprattion more dificult\n",
    "\n",
    "(check the residuals for normality)"
   ]
  },
  {
   "cell_type": "markdown",
   "metadata": {},
   "source": [
    "### Distribution of critical temperature "
   ]
  },
  {
   "cell_type": "code",
   "execution_count": 190,
   "metadata": {},
   "outputs": [
    {
     "data": {
      "image/png": "[encoded data removed]",
      "text/plain": [
       "<Figure size 432x288 with 1 Axes>"
      ]
     },
     "metadata": {
      "needs_background": "light"
     },
     "output_type": "display_data"
    }
   ],
   "source": [
    "sns.distplot(df['critical_temp']);"
   ]
  },
  {
   "cell_type": "markdown",
   "metadata": {},
   "source": [
    "### Distribution of log of critical temperature"
   ]
  },
  {
   "cell_type": "code",
   "execution_count": 68,
   "metadata": {},
   "outputs": [
    {
     "data": {
      "image/png": "[encoded data removed]",
      "text/plain": [
       "<Figure size 432x288 with 1 Axes>"
      ]
     },
     "metadata": {
      "needs_background": "light"
     },
     "output_type": "display_data"
    }
   ],
   "source": [
    "sns.distplot(np.log(df['critical_temp']));"
   ]
  },
  {
   "cell_type": "markdown",
   "metadata": {},
   "source": [
    "# Skew Of Data"
   ]
  },
  {
   "cell_type": "code",
   "execution_count": 250,
   "metadata": {},
   "outputs": [
    {
     "name": "stdout",
     "output_type": "stream",
     "text": [
      "1.5039066527525764 wtd_mean_atomic_mass\n",
      "1.474815716460679 gmean_atomic_mass\n",
      "1.6982799470264731 wtd_gmean_atomic_mass\n",
      "2.4638078639298486 wtd_range_atomic_mass\n",
      "1.009764280457501 mean_fie\n",
      "1.1919286264562294 gmean_fie\n",
      "1.643162460903729 wtd_range_atomic_radius\n",
      "2.103343841114579 mean_Density\n",
      "2.1377633652220895 wtd_mean_Density\n",
      "1.6591282559918128 gmean_Density\n",
      "1.6509298548729716 wtd_gmean_Density\n",
      "3.322725556824231 wtd_range_Density\n",
      "1.098437437881419 mean_ElectronAffinity\n",
      "1.3497357705423987 gmean_ElectronAffinity\n",
      "2.5227818804703905 mean_FusionHeat\n",
      "2.7638258028710343 wtd_mean_FusionHeat\n",
      "2.665477197882816 gmean_FusionHeat\n",
      "2.4875423104652383 wtd_gmean_FusionHeat\n",
      "2.7485818063583047 range_FusionHeat\n",
      "4.233613879127433 wtd_range_FusionHeat\n",
      "2.822554806107452 std_FusionHeat\n",
      "2.850133800691453 wtd_std_FusionHeat\n",
      "1.379703282816514 wtd_mean_ThermalConductivity\n",
      "2.3399514687914174 gmean_ThermalConductivity\n",
      "2.588304794394417 wtd_gmean_ThermalConductivity\n",
      "1.4159181865406276 wtd_range_ThermalConductivity\n",
      "1.0036311156826092 mean_Valence\n",
      "1.1684528392700264 gmean_Valence\n",
      "1.0168000426678279 wtd_gmean_Valence\n",
      "1.547605067282474 wtd_range_Valence\n"
     ]
    },
    {
     "name": "stderr",
     "output_type": "stream",
     "text": [
      "/opt/anaconda3/lib/python3.8/site-packages/pandas/core/series.py:726: RuntimeWarning: divide by zero encountered in log\n",
      "  result = getattr(ufunc, method)(*inputs, **kwargs)\n"
     ]
    }
   ],
   "source": [
    "#for i in train.skew(axis=0):\n",
    "#    print(i)\n",
    "    #if i > 1:\n",
    "    #    print(i) \n",
    "    \n",
    "df_skew = train.skew()\n",
    "df_skew.shape\n",
    "df_skew.head()\n",
    "df_skew.loc['wtd_mean_atomic_mass']\n",
    "transformed_data = train\n",
    "\n",
    "for col in train.columns:\n",
    "    if abs(df_skew.loc[col]) > 1:\n",
    "        print(abs(df_skew.loc[col]),col)\n",
    "        transformed_data[col]= np.log(train[col])\n",
    "\n",
    "#df_skew_2 = transformed_data.skew()        \n",
    "# for col in train.columns:\n",
    "#     if abs(df.loc[col]) > 1:\n",
    "#         print(abs(df.loc[col]), print(col))"
   ]
  },
  {
   "cell_type": "markdown",
   "metadata": {},
   "source": [
    "## Scaling Data"
   ]
  },
  {
   "cell_type": "code",
   "execution_count": 251,
   "metadata": {},
   "outputs": [],
   "source": [
    "# Define y and X\n",
    "y = np.array( df['critical_temp'] )\n",
    "df = df.drop(['critical_temp'], axis =1)\n",
    "X = df"
   ]
  },
  {
   "cell_type": "code",
   "execution_count": 252,
   "metadata": {},
   "outputs": [
    {
     "data": {
      "text/html": [
       "<div>\n",
       "<style scoped>\n",
       "    .dataframe tbody tr th:only-of-type {\n",
       "        vertical-align: middle;\n",
       "    }\n",
       "\n",
       "    .dataframe tbody tr th {\n",
       "        vertical-align: top;\n",
       "    }\n",
       "\n",
       "    .dataframe thead th {\n",
       "        text-align: right;\n",
       "    }\n",
       "</style>\n",
       "<table border=\"1\" class=\"dataframe\">\n",
       "  <thead>\n",
       "    <tr style=\"text-align: right;\">\n",
       "      <th></th>\n",
       "      <th>H</th>\n",
       "      <th>Li</th>\n",
       "      <th>Be</th>\n",
       "      <th>B</th>\n",
       "      <th>C</th>\n",
       "      <th>N</th>\n",
       "      <th>O</th>\n",
       "      <th>F</th>\n",
       "      <th>Na</th>\n",
       "      <th>Mg</th>\n",
       "      <th>...</th>\n",
       "      <th>mean_Valence</th>\n",
       "      <th>wtd_mean_Valence</th>\n",
       "      <th>gmean_Valence</th>\n",
       "      <th>wtd_gmean_Valence</th>\n",
       "      <th>entropy_Valence</th>\n",
       "      <th>wtd_entropy_Valence</th>\n",
       "      <th>range_Valence</th>\n",
       "      <th>wtd_range_Valence</th>\n",
       "      <th>std_Valence</th>\n",
       "      <th>wtd_std_Valence</th>\n",
       "    </tr>\n",
       "  </thead>\n",
       "  <tbody>\n",
       "    <tr>\n",
       "      <th>0</th>\n",
       "      <td>0.0</td>\n",
       "      <td>0.0</td>\n",
       "      <td>0.0</td>\n",
       "      <td>0.0</td>\n",
       "      <td>0.0</td>\n",
       "      <td>0.0</td>\n",
       "      <td>4.0</td>\n",
       "      <td>0.0</td>\n",
       "      <td>0.0</td>\n",
       "      <td>0.0</td>\n",
       "      <td>...</td>\n",
       "      <td>2.25</td>\n",
       "      <td>2.257143</td>\n",
       "      <td>2.213364</td>\n",
       "      <td>2.219783</td>\n",
       "      <td>1.368922</td>\n",
       "      <td>1.066221</td>\n",
       "      <td>1</td>\n",
       "      <td>1.085714</td>\n",
       "      <td>0.433013</td>\n",
       "      <td>0.437059</td>\n",
       "    </tr>\n",
       "    <tr>\n",
       "      <th>1</th>\n",
       "      <td>0.0</td>\n",
       "      <td>0.0</td>\n",
       "      <td>0.0</td>\n",
       "      <td>0.0</td>\n",
       "      <td>0.0</td>\n",
       "      <td>0.0</td>\n",
       "      <td>4.0</td>\n",
       "      <td>0.0</td>\n",
       "      <td>0.0</td>\n",
       "      <td>0.0</td>\n",
       "      <td>...</td>\n",
       "      <td>2.00</td>\n",
       "      <td>2.257143</td>\n",
       "      <td>1.888175</td>\n",
       "      <td>2.210679</td>\n",
       "      <td>1.557113</td>\n",
       "      <td>1.047221</td>\n",
       "      <td>2</td>\n",
       "      <td>1.128571</td>\n",
       "      <td>0.632456</td>\n",
       "      <td>0.468606</td>\n",
       "    </tr>\n",
       "    <tr>\n",
       "      <th>2</th>\n",
       "      <td>0.0</td>\n",
       "      <td>0.0</td>\n",
       "      <td>0.0</td>\n",
       "      <td>0.0</td>\n",
       "      <td>0.0</td>\n",
       "      <td>0.0</td>\n",
       "      <td>4.0</td>\n",
       "      <td>0.0</td>\n",
       "      <td>0.0</td>\n",
       "      <td>0.0</td>\n",
       "      <td>...</td>\n",
       "      <td>2.25</td>\n",
       "      <td>2.271429</td>\n",
       "      <td>2.213364</td>\n",
       "      <td>2.232679</td>\n",
       "      <td>1.368922</td>\n",
       "      <td>1.029175</td>\n",
       "      <td>1</td>\n",
       "      <td>1.114286</td>\n",
       "      <td>0.433013</td>\n",
       "      <td>0.444697</td>\n",
       "    </tr>\n",
       "    <tr>\n",
       "      <th>3</th>\n",
       "      <td>0.0</td>\n",
       "      <td>0.0</td>\n",
       "      <td>0.0</td>\n",
       "      <td>0.0</td>\n",
       "      <td>0.0</td>\n",
       "      <td>0.0</td>\n",
       "      <td>4.0</td>\n",
       "      <td>0.0</td>\n",
       "      <td>0.0</td>\n",
       "      <td>0.0</td>\n",
       "      <td>...</td>\n",
       "      <td>2.25</td>\n",
       "      <td>2.264286</td>\n",
       "      <td>2.213364</td>\n",
       "      <td>2.226222</td>\n",
       "      <td>1.368922</td>\n",
       "      <td>1.048834</td>\n",
       "      <td>1</td>\n",
       "      <td>1.100000</td>\n",
       "      <td>0.433013</td>\n",
       "      <td>0.440952</td>\n",
       "    </tr>\n",
       "    <tr>\n",
       "      <th>4</th>\n",
       "      <td>0.0</td>\n",
       "      <td>0.0</td>\n",
       "      <td>0.0</td>\n",
       "      <td>0.0</td>\n",
       "      <td>0.0</td>\n",
       "      <td>0.0</td>\n",
       "      <td>4.0</td>\n",
       "      <td>0.0</td>\n",
       "      <td>0.0</td>\n",
       "      <td>0.0</td>\n",
       "      <td>...</td>\n",
       "      <td>2.25</td>\n",
       "      <td>2.242857</td>\n",
       "      <td>2.213364</td>\n",
       "      <td>2.206963</td>\n",
       "      <td>1.368922</td>\n",
       "      <td>1.096052</td>\n",
       "      <td>1</td>\n",
       "      <td>1.057143</td>\n",
       "      <td>0.433013</td>\n",
       "      <td>0.428809</td>\n",
       "    </tr>\n",
       "    <tr>\n",
       "      <th>...</th>\n",
       "      <td>...</td>\n",
       "      <td>...</td>\n",
       "      <td>...</td>\n",
       "      <td>...</td>\n",
       "      <td>...</td>\n",
       "      <td>...</td>\n",
       "      <td>...</td>\n",
       "      <td>...</td>\n",
       "      <td>...</td>\n",
       "      <td>...</td>\n",
       "      <td>...</td>\n",
       "      <td>...</td>\n",
       "      <td>...</td>\n",
       "      <td>...</td>\n",
       "      <td>...</td>\n",
       "      <td>...</td>\n",
       "      <td>...</td>\n",
       "      <td>...</td>\n",
       "      <td>...</td>\n",
       "      <td>...</td>\n",
       "      <td>...</td>\n",
       "    </tr>\n",
       "    <tr>\n",
       "      <th>21258</th>\n",
       "      <td>0.0</td>\n",
       "      <td>0.0</td>\n",
       "      <td>0.0</td>\n",
       "      <td>0.0</td>\n",
       "      <td>0.0</td>\n",
       "      <td>0.0</td>\n",
       "      <td>0.0</td>\n",
       "      <td>0.0</td>\n",
       "      <td>0.0</td>\n",
       "      <td>0.0</td>\n",
       "      <td>...</td>\n",
       "      <td>3.25</td>\n",
       "      <td>3.555556</td>\n",
       "      <td>3.223710</td>\n",
       "      <td>3.519911</td>\n",
       "      <td>1.377820</td>\n",
       "      <td>0.913658</td>\n",
       "      <td>1</td>\n",
       "      <td>2.168889</td>\n",
       "      <td>0.433013</td>\n",
       "      <td>0.496904</td>\n",
       "    </tr>\n",
       "    <tr>\n",
       "      <th>21259</th>\n",
       "      <td>0.0</td>\n",
       "      <td>0.0</td>\n",
       "      <td>0.0</td>\n",
       "      <td>0.0</td>\n",
       "      <td>0.0</td>\n",
       "      <td>0.0</td>\n",
       "      <td>11.0</td>\n",
       "      <td>0.0</td>\n",
       "      <td>0.0</td>\n",
       "      <td>0.0</td>\n",
       "      <td>...</td>\n",
       "      <td>2.20</td>\n",
       "      <td>2.047619</td>\n",
       "      <td>2.168944</td>\n",
       "      <td>2.038991</td>\n",
       "      <td>1.594167</td>\n",
       "      <td>1.337246</td>\n",
       "      <td>1</td>\n",
       "      <td>0.904762</td>\n",
       "      <td>0.400000</td>\n",
       "      <td>0.212959</td>\n",
       "    </tr>\n",
       "    <tr>\n",
       "      <th>21260</th>\n",
       "      <td>0.0</td>\n",
       "      <td>0.0</td>\n",
       "      <td>0.0</td>\n",
       "      <td>0.0</td>\n",
       "      <td>0.0</td>\n",
       "      <td>0.0</td>\n",
       "      <td>0.0</td>\n",
       "      <td>0.0</td>\n",
       "      <td>0.0</td>\n",
       "      <td>0.0</td>\n",
       "      <td>...</td>\n",
       "      <td>4.50</td>\n",
       "      <td>4.800000</td>\n",
       "      <td>4.472136</td>\n",
       "      <td>4.781762</td>\n",
       "      <td>0.686962</td>\n",
       "      <td>0.450561</td>\n",
       "      <td>1</td>\n",
       "      <td>3.200000</td>\n",
       "      <td>0.500000</td>\n",
       "      <td>0.400000</td>\n",
       "    </tr>\n",
       "    <tr>\n",
       "      <th>21261</th>\n",
       "      <td>0.0</td>\n",
       "      <td>0.0</td>\n",
       "      <td>0.0</td>\n",
       "      <td>0.0</td>\n",
       "      <td>0.0</td>\n",
       "      <td>0.0</td>\n",
       "      <td>0.0</td>\n",
       "      <td>0.0</td>\n",
       "      <td>0.0</td>\n",
       "      <td>0.0</td>\n",
       "      <td>...</td>\n",
       "      <td>4.50</td>\n",
       "      <td>4.690000</td>\n",
       "      <td>4.472136</td>\n",
       "      <td>4.665819</td>\n",
       "      <td>0.686962</td>\n",
       "      <td>0.577601</td>\n",
       "      <td>1</td>\n",
       "      <td>2.210000</td>\n",
       "      <td>0.500000</td>\n",
       "      <td>0.462493</td>\n",
       "    </tr>\n",
       "    <tr>\n",
       "      <th>21262</th>\n",
       "      <td>0.0</td>\n",
       "      <td>0.0</td>\n",
       "      <td>0.0</td>\n",
       "      <td>0.0</td>\n",
       "      <td>0.0</td>\n",
       "      <td>0.0</td>\n",
       "      <td>0.0</td>\n",
       "      <td>0.0</td>\n",
       "      <td>0.0</td>\n",
       "      <td>0.0</td>\n",
       "      <td>...</td>\n",
       "      <td>5.00</td>\n",
       "      <td>4.500000</td>\n",
       "      <td>4.762203</td>\n",
       "      <td>4.242641</td>\n",
       "      <td>1.054920</td>\n",
       "      <td>0.970116</td>\n",
       "      <td>3</td>\n",
       "      <td>1.800000</td>\n",
       "      <td>1.414214</td>\n",
       "      <td>1.500000</td>\n",
       "    </tr>\n",
       "  </tbody>\n",
       "</table>\n",
       "<p>21257 rows × 158 columns</p>\n",
       "</div>"
      ],
      "text/plain": [
       "         H   Li   Be    B    C    N     O    F   Na   Mg  ...  mean_Valence  \\\n",
       "0      0.0  0.0  0.0  0.0  0.0  0.0   4.0  0.0  0.0  0.0  ...          2.25   \n",
       "1      0.0  0.0  0.0  0.0  0.0  0.0   4.0  0.0  0.0  0.0  ...          2.00   \n",
       "2      0.0  0.0  0.0  0.0  0.0  0.0   4.0  0.0  0.0  0.0  ...          2.25   \n",
       "3      0.0  0.0  0.0  0.0  0.0  0.0   4.0  0.0  0.0  0.0  ...          2.25   \n",
       "4      0.0  0.0  0.0  0.0  0.0  0.0   4.0  0.0  0.0  0.0  ...          2.25   \n",
       "...    ...  ...  ...  ...  ...  ...   ...  ...  ...  ...  ...           ...   \n",
       "21258  0.0  0.0  0.0  0.0  0.0  0.0   0.0  0.0  0.0  0.0  ...          3.25   \n",
       "21259  0.0  0.0  0.0  0.0  0.0  0.0  11.0  0.0  0.0  0.0  ...          2.20   \n",
       "21260  0.0  0.0  0.0  0.0  0.0  0.0   0.0  0.0  0.0  0.0  ...          4.50   \n",
       "21261  0.0  0.0  0.0  0.0  0.0  0.0   0.0  0.0  0.0  0.0  ...          4.50   \n",
       "21262  0.0  0.0  0.0  0.0  0.0  0.0   0.0  0.0  0.0  0.0  ...          5.00   \n",
       "\n",
       "       wtd_mean_Valence  gmean_Valence  wtd_gmean_Valence  entropy_Valence  \\\n",
       "0              2.257143       2.213364           2.219783         1.368922   \n",
       "1              2.257143       1.888175           2.210679         1.557113   \n",
       "2              2.271429       2.213364           2.232679         1.368922   \n",
       "3              2.264286       2.213364           2.226222         1.368922   \n",
       "4              2.242857       2.213364           2.206963         1.368922   \n",
       "...                 ...            ...                ...              ...   \n",
       "21258          3.555556       3.223710           3.519911         1.377820   \n",
       "21259          2.047619       2.168944           2.038991         1.594167   \n",
       "21260          4.800000       4.472136           4.781762         0.686962   \n",
       "21261          4.690000       4.472136           4.665819         0.686962   \n",
       "21262          4.500000       4.762203           4.242641         1.054920   \n",
       "\n",
       "       wtd_entropy_Valence  range_Valence  wtd_range_Valence  std_Valence  \\\n",
       "0                 1.066221              1           1.085714     0.433013   \n",
       "1                 1.047221              2           1.128571     0.632456   \n",
       "2                 1.029175              1           1.114286     0.433013   \n",
       "3                 1.048834              1           1.100000     0.433013   \n",
       "4                 1.096052              1           1.057143     0.433013   \n",
       "...                    ...            ...                ...          ...   \n",
       "21258             0.913658              1           2.168889     0.433013   \n",
       "21259             1.337246              1           0.904762     0.400000   \n",
       "21260             0.450561              1           3.200000     0.500000   \n",
       "21261             0.577601              1           2.210000     0.500000   \n",
       "21262             0.970116              3           1.800000     1.414214   \n",
       "\n",
       "       wtd_std_Valence  \n",
       "0             0.437059  \n",
       "1             0.468606  \n",
       "2             0.444697  \n",
       "3             0.440952  \n",
       "4             0.428809  \n",
       "...                ...  \n",
       "21258         0.496904  \n",
       "21259         0.212959  \n",
       "21260         0.400000  \n",
       "21261         0.462493  \n",
       "21262         1.500000  \n",
       "\n",
       "[21257 rows x 158 columns]"
      ]
     },
     "execution_count": 252,
     "metadata": {},
     "output_type": "execute_result"
    }
   ],
   "source": [
    "X"
   ]
  },
  {
   "cell_type": "markdown",
   "metadata": {},
   "source": [
    "### Using Standard Scaler to scale train data."
   ]
  },
  {
   "cell_type": "code",
   "execution_count": 450,
   "metadata": {},
   "outputs": [],
   "source": [
    "# Split the data\n",
    "X_train, X_test, y_train, y_test = train_test_split(X, y, test_size = 0.3, random_state = 1234321) \n",
    "\n",
    "# Center and Scale X\n",
    "scl = StandardScaler()\n",
    "scl.fit(X_train)\n",
    "X_train_scaled = scl.transform(X_train) # apply to training\n",
    "X_test_scaled = scl.transform(X_test) # apply to the test set (without snooping)"
   ]
  },
  {
   "cell_type": "code",
   "execution_count": 451,
   "metadata": {},
   "outputs": [],
   "source": [
    "X_train_scaled = pd.DataFrame(X_train_scaled, columns = X.columns, index = X_train.index)\n",
    "X_test_scaled = pd.DataFrame(X_test_scaled, columns = X.columns, index = X_test.index)"
   ]
  },
  {
   "cell_type": "code",
   "execution_count": 255,
   "metadata": {},
   "outputs": [
    {
     "name": "stdout",
     "output_type": "stream",
     "text": [
      "31.689734812561447 H\n",
      "12.605882163926495 Li\n",
      "26.808560830664664 Be\n",
      "10.264164541356006 B\n",
      "13.82927222629775 C\n",
      "39.54810634601638 N\n",
      "2.3135159331331274 O\n",
      "15.292262094888134 F\n",
      "16.991197931169054 Na\n",
      "27.38704786813435 Mg\n",
      "49.970256138580375 Al\n",
      "20.690704847817397 Si\n",
      "29.77833400566718 P\n",
      "9.273881656879954 S\n",
      "15.189734071091683 Cl\n",
      "14.024581891080787 K\n",
      "7.744332363966371 Ca\n",
      "24.415415372385457 Sc\n",
      "24.110146812184436 Ti\n",
      "19.288937640187253 V\n",
      "34.69494907649359 Cr\n",
      "87.02742766434173 Mn\n",
      "9.548531864066828 Fe\n",
      "43.98806437282861 Co\n",
      "30.831996308669435 Ni\n",
      "13.728567111339535 Cu\n",
      "50.08019040265648 Zn\n",
      "20.813657019620933 Ga\n",
      "21.71062279266816 Ge\n",
      "13.89881156236352 As\n",
      "15.64707545122162 Se\n",
      "28.35119277760651 Br\n",
      "20.784662283815354 Rb\n",
      "3.3488642633840255 Sr\n",
      "4.44879370724173 Y\n",
      "15.27260859262466 Zr\n",
      "15.32536658931788 Nb\n",
      "36.3827789945037 Mo\n",
      "29.699146171093243 Tc\n",
      "39.597678562247346 Ru\n",
      "37.07117586367794 Rh\n",
      "29.553316228030315 Pd\n",
      "32.862276402415894 Ag\n",
      "18.612053140464585 Cd\n",
      "16.45766899530737 In\n",
      "38.69979368947147 Sn\n",
      "27.99971288730479 Sb\n",
      "81.20334066152517 Te\n",
      "27.01743739130635 I\n",
      "30.19770429327189 Cs\n",
      "3.927450702980799 Ba\n",
      "35.85624824441466 La\n",
      "8.480546185827155 Ce\n",
      "8.503390289638554 Pr\n",
      "7.275121938369898 Nd\n",
      "23.305088927441318 Sm\n",
      "11.966855963911668 Eu\n",
      "8.126821509977264 Gd\n",
      "44.51239752254003 Tb\n",
      "16.89513863450076 Dy\n",
      "14.899506517942767 Ho\n",
      "15.186307965576681 Er\n",
      "25.19781418889884 Tm\n",
      "57.43148126190969 Yb\n",
      "15.004405952062102 Lu\n",
      "83.40419752116317 Hf\n",
      "50.52363401746039 Ta\n",
      "47.99768388832354 W\n",
      "63.54373461745405 Re\n",
      "15.037251530766634 Os\n",
      "39.39751035179876 Ir\n",
      "10.173371116770348 Pt\n",
      "81.37162064627044 Au\n",
      "9.869448816486912 Hg\n",
      "7.395355376215474 Tl\n",
      "28.36630537761876 Pb\n",
      "5.041892651244942 Bi\n",
      "1.5173351178540764 wtd_mean_atomic_mass\n",
      "1.4974345928672663 gmean_atomic_mass\n",
      "1.7134817828565556 wtd_gmean_atomic_mass\n",
      "2.4631912343473656 wtd_range_atomic_mass\n",
      "1.006100547101713 mean_fie\n",
      "1.201458486727353 gmean_fie\n",
      "1.638700623700445 wtd_range_atomic_radius\n",
      "2.113324966832539 mean_Density\n",
      "2.1318220383708515 wtd_mean_Density\n",
      "1.667834124447554 gmean_Density\n",
      "1.649360466021399 wtd_gmean_Density\n",
      "3.2678439647474162 wtd_range_Density\n",
      "1.097776929821341 mean_ElectronAffinity\n",
      "1.3609928090732033 gmean_ElectronAffinity\n",
      "2.530923203025389 mean_FusionHeat\n",
      "2.751765149551211 wtd_mean_FusionHeat\n",
      "2.693380324083509 gmean_FusionHeat\n",
      "2.4806553293087905 wtd_gmean_FusionHeat\n",
      "2.7358683379252637 range_FusionHeat\n",
      "4.223815520266575 wtd_range_FusionHeat\n",
      "2.8034151763116486 std_FusionHeat\n",
      "2.818636223906369 wtd_std_FusionHeat\n",
      "1.3428278143059682 wtd_mean_ThermalConductivity\n",
      "2.2636202595846875 gmean_ThermalConductivity\n",
      "2.477955128133886 wtd_gmean_ThermalConductivity\n",
      "1.3944320514318058 wtd_range_ThermalConductivity\n",
      "1.0122149230981896 mean_Valence\n",
      "1.1778835295817247 gmean_Valence\n",
      "1.0255418192430796 wtd_gmean_Valence\n",
      "1.537709961872852 wtd_range_Valence\n"
     ]
    }
   ],
   "source": [
    "df_skew = X_train.skew()\n",
    "for col in df.columns:\n",
    "    if abs(df_skew.loc[col]) > 1:\n",
    "        print(abs(df_skew.loc[col]),col)"
   ]
  },
  {
   "cell_type": "markdown",
   "metadata": {},
   "source": [
    "## Assumptions"
   ]
  },
  {
   "cell_type": "markdown",
   "metadata": {},
   "source": [
    "### Target Variable interpretation\n",
    "\n",
    "According to our research, the Kelvin temperature scale is used for temperature instead of Fahrenheit or Celsius in semiconductor research and manufacturing.  Scientists and engineers use the Kelvin scale because it is a temperature scale where the value zero reflects the complete absence of thermal energy.  The Kelvin scale does not have negative temperatures since 0 degrees kelvin is the lowest temperature.  Because negative temperatures do not exist on the Kelvin scale, in our modeling, we replaced negative predicted values with 0."
   ]
  },
  {
   "cell_type": "markdown",
   "metadata": {},
   "source": [
    "## Move up to EDA\n",
    "## Variable Correlations with Critical Temp & Outliers"
   ]
  },
  {
   "cell_type": "code",
   "execution_count": 88,
   "metadata": {},
   "outputs": [
    {
     "name": "stdout",
     "output_type": "stream",
     "text": [
      "wtd_mean_Valence              -0.632401\n",
      "wtd_gmean_Valence             -0.615653\n",
      "mean_Valence                  -0.600085\n",
      "gmean_Valence                 -0.573068\n",
      "gmean_Density                 -0.541684\n",
      "                                 ...   \n",
      "wtd_entropy_atomic_mass        0.626930\n",
      "std_ThermalConductivity        0.653632\n",
      "range_atomic_radius            0.653759\n",
      "range_ThermalConductivity      0.687654\n",
      "wtd_std_ThermalConductivity    0.721271\n",
      "Name: critical_temp, Length: 80, dtype: float64\n"
     ]
    }
   ],
   "source": [
    "print(train[train.columns[1:]].corr()['critical_temp'][:-1].sort_values())"
   ]
  },
  {
   "cell_type": "code",
   "execution_count": 112,
   "metadata": {},
   "outputs": [
    {
     "data": {
      "text/html": [
       "<div>\n",
       "<style scoped>\n",
       "    .dataframe tbody tr th:only-of-type {\n",
       "        vertical-align: middle;\n",
       "    }\n",
       "\n",
       "    .dataframe tbody tr th {\n",
       "        vertical-align: top;\n",
       "    }\n",
       "\n",
       "    .dataframe thead th {\n",
       "        text-align: right;\n",
       "    }\n",
       "</style>\n",
       "<table border=\"1\" class=\"dataframe\">\n",
       "  <thead>\n",
       "    <tr style=\"text-align: right;\">\n",
       "      <th></th>\n",
       "      <th>number_of_elements_zscore</th>\n",
       "      <th>mean_atomic_mass_zscore</th>\n",
       "      <th>wtd_mean_atomic_mass_zscore</th>\n",
       "      <th>gmean_atomic_mass_zscore</th>\n",
       "      <th>wtd_gmean_atomic_mass_zscore</th>\n",
       "      <th>entropy_atomic_mass_zscore</th>\n",
       "      <th>wtd_entropy_atomic_mass_zscore</th>\n",
       "      <th>range_atomic_mass_zscore</th>\n",
       "      <th>wtd_range_atomic_mass_zscore</th>\n",
       "      <th>std_atomic_mass_zscore</th>\n",
       "      <th>...</th>\n",
       "      <th>wtd_mean_Valence_zscore</th>\n",
       "      <th>gmean_Valence_zscore</th>\n",
       "      <th>wtd_gmean_Valence_zscore</th>\n",
       "      <th>entropy_Valence_zscore</th>\n",
       "      <th>wtd_entropy_Valence_zscore</th>\n",
       "      <th>range_Valence_zscore</th>\n",
       "      <th>wtd_range_Valence_zscore</th>\n",
       "      <th>std_Valence_zscore</th>\n",
       "      <th>wtd_std_Valence_zscore</th>\n",
       "      <th>critical_temp_zscore</th>\n",
       "    </tr>\n",
       "  </thead>\n",
       "  <tbody>\n",
       "    <tr>\n",
       "      <th>0</th>\n",
       "      <td>-0.080058</td>\n",
       "      <td>0.046733</td>\n",
       "      <td>-0.451651</td>\n",
       "      <td>-0.158850</td>\n",
       "      <td>-0.611819</td>\n",
       "      <td>0.044358</td>\n",
       "      <td>-0.003707</td>\n",
       "      <td>0.133725</td>\n",
       "      <td>-0.053039</td>\n",
       "      <td>0.378186</td>\n",
       "      <td>...</td>\n",
       "      <td>-0.752156</td>\n",
       "      <td>-0.805912</td>\n",
       "      <td>-0.711705</td>\n",
       "      <td>0.186292</td>\n",
       "      <td>0.035183</td>\n",
       "      <td>-0.837959</td>\n",
       "      <td>-0.406166</td>\n",
       "      <td>-0.838372</td>\n",
       "      <td>-0.520070</td>\n",
       "      <td>-0.158267</td>\n",
       "    </tr>\n",
       "    <tr>\n",
       "      <th>1</th>\n",
       "      <td>0.614744</td>\n",
       "      <td>0.174269</td>\n",
       "      <td>-0.432071</td>\n",
       "      <td>0.059368</td>\n",
       "      <td>-0.604180</td>\n",
       "      <td>0.777430</td>\n",
       "      <td>-0.015267</td>\n",
       "      <td>0.133725</td>\n",
       "      <td>0.108900</td>\n",
       "      <td>0.134901</td>\n",
       "      <td>...</td>\n",
       "      <td>-0.752156</td>\n",
       "      <td>-1.116731</td>\n",
       "      <td>-0.719454</td>\n",
       "      <td>0.664971</td>\n",
       "      <td>-0.014779</td>\n",
       "      <td>-0.033011</td>\n",
       "      <td>-0.362352</td>\n",
       "      <td>-0.426866</td>\n",
       "      <td>-0.450821</td>\n",
       "      <td>-0.245849</td>\n",
       "    </tr>\n",
       "    <tr>\n",
       "      <th>2</th>\n",
       "      <td>-0.080058</td>\n",
       "      <td>0.046733</td>\n",
       "      <td>-0.450978</td>\n",
       "      <td>-0.158850</td>\n",
       "      <td>-0.611658</td>\n",
       "      <td>0.044358</td>\n",
       "      <td>-0.218984</td>\n",
       "      <td>0.133725</td>\n",
       "      <td>0.093294</td>\n",
       "      <td>0.378186</td>\n",
       "      <td>...</td>\n",
       "      <td>-0.740164</td>\n",
       "      <td>-0.805912</td>\n",
       "      <td>-0.700728</td>\n",
       "      <td>0.186292</td>\n",
       "      <td>-0.062235</td>\n",
       "      <td>-0.837959</td>\n",
       "      <td>-0.376957</td>\n",
       "      <td>-0.838372</td>\n",
       "      <td>-0.503304</td>\n",
       "      <td>-0.450208</td>\n",
       "    </tr>\n",
       "    <tr>\n",
       "      <th>3</th>\n",
       "      <td>-0.080058</td>\n",
       "      <td>0.046733</td>\n",
       "      <td>-0.451314</td>\n",
       "      <td>-0.158850</td>\n",
       "      <td>-0.611739</td>\n",
       "      <td>0.044358</td>\n",
       "      <td>-0.103615</td>\n",
       "      <td>0.133725</td>\n",
       "      <td>0.020128</td>\n",
       "      <td>0.378186</td>\n",
       "      <td>...</td>\n",
       "      <td>-0.746160</td>\n",
       "      <td>-0.805912</td>\n",
       "      <td>-0.706224</td>\n",
       "      <td>0.186292</td>\n",
       "      <td>-0.010538</td>\n",
       "      <td>-0.837959</td>\n",
       "      <td>-0.391562</td>\n",
       "      <td>-0.838372</td>\n",
       "      <td>-0.511524</td>\n",
       "      <td>-0.362626</td>\n",
       "    </tr>\n",
       "    <tr>\n",
       "      <th>4</th>\n",
       "      <td>-0.080058</td>\n",
       "      <td>0.046733</td>\n",
       "      <td>-0.452324</td>\n",
       "      <td>-0.158850</td>\n",
       "      <td>-0.611980</td>\n",
       "      <td>0.044358</td>\n",
       "      <td>0.162775</td>\n",
       "      <td>0.133725</td>\n",
       "      <td>-0.199372</td>\n",
       "      <td>0.378186</td>\n",
       "      <td>...</td>\n",
       "      <td>-0.764149</td>\n",
       "      <td>-0.805912</td>\n",
       "      <td>-0.722618</td>\n",
       "      <td>0.186292</td>\n",
       "      <td>0.113627</td>\n",
       "      <td>-0.837959</td>\n",
       "      <td>-0.435376</td>\n",
       "      <td>-0.838372</td>\n",
       "      <td>-0.538178</td>\n",
       "      <td>-0.333432</td>\n",
       "    </tr>\n",
       "  </tbody>\n",
       "</table>\n",
       "<p>5 rows × 82 columns</p>\n",
       "</div>"
      ],
      "text/plain": [
       "   number_of_elements_zscore  mean_atomic_mass_zscore  \\\n",
       "0                  -0.080058                 0.046733   \n",
       "1                   0.614744                 0.174269   \n",
       "2                  -0.080058                 0.046733   \n",
       "3                  -0.080058                 0.046733   \n",
       "4                  -0.080058                 0.046733   \n",
       "\n",
       "   wtd_mean_atomic_mass_zscore  gmean_atomic_mass_zscore  \\\n",
       "0                    -0.451651                 -0.158850   \n",
       "1                    -0.432071                  0.059368   \n",
       "2                    -0.450978                 -0.158850   \n",
       "3                    -0.451314                 -0.158850   \n",
       "4                    -0.452324                 -0.158850   \n",
       "\n",
       "   wtd_gmean_atomic_mass_zscore  entropy_atomic_mass_zscore  \\\n",
       "0                     -0.611819                    0.044358   \n",
       "1                     -0.604180                    0.777430   \n",
       "2                     -0.611658                    0.044358   \n",
       "3                     -0.611739                    0.044358   \n",
       "4                     -0.611980                    0.044358   \n",
       "\n",
       "   wtd_entropy_atomic_mass_zscore  range_atomic_mass_zscore  \\\n",
       "0                       -0.003707                  0.133725   \n",
       "1                       -0.015267                  0.133725   \n",
       "2                       -0.218984                  0.133725   \n",
       "3                       -0.103615                  0.133725   \n",
       "4                        0.162775                  0.133725   \n",
       "\n",
       "   wtd_range_atomic_mass_zscore  std_atomic_mass_zscore  ...  \\\n",
       "0                     -0.053039                0.378186  ...   \n",
       "1                      0.108900                0.134901  ...   \n",
       "2                      0.093294                0.378186  ...   \n",
       "3                      0.020128                0.378186  ...   \n",
       "4                     -0.199372                0.378186  ...   \n",
       "\n",
       "   wtd_mean_Valence_zscore  gmean_Valence_zscore  wtd_gmean_Valence_zscore  \\\n",
       "0                -0.752156             -0.805912                 -0.711705   \n",
       "1                -0.752156             -1.116731                 -0.719454   \n",
       "2                -0.740164             -0.805912                 -0.700728   \n",
       "3                -0.746160             -0.805912                 -0.706224   \n",
       "4                -0.764149             -0.805912                 -0.722618   \n",
       "\n",
       "   entropy_Valence_zscore  wtd_entropy_Valence_zscore  range_Valence_zscore  \\\n",
       "0                0.186292                    0.035183             -0.837959   \n",
       "1                0.664971                   -0.014779             -0.033011   \n",
       "2                0.186292                   -0.062235             -0.837959   \n",
       "3                0.186292                   -0.010538             -0.837959   \n",
       "4                0.186292                    0.113627             -0.837959   \n",
       "\n",
       "   wtd_range_Valence_zscore  std_Valence_zscore  wtd_std_Valence_zscore  \\\n",
       "0                 -0.406166           -0.838372               -0.520070   \n",
       "1                 -0.362352           -0.426866               -0.450821   \n",
       "2                 -0.376957           -0.838372               -0.503304   \n",
       "3                 -0.391562           -0.838372               -0.511524   \n",
       "4                 -0.435376           -0.838372               -0.538178   \n",
       "\n",
       "   critical_temp_zscore  \n",
       "0             -0.158267  \n",
       "1             -0.245849  \n",
       "2             -0.450208  \n",
       "3             -0.362626  \n",
       "4             -0.333432  \n",
       "\n",
       "[5 rows x 82 columns]"
      ]
     },
     "execution_count": 112,
     "metadata": {},
     "output_type": "execute_result"
    }
   ],
   "source": [
    "outliers = pd.DataFrame()\n",
    "for col in train.columns:\n",
    "    col_zscore = col + \"_zscore\"\n",
    "    outliers[col_zscore] = (train[col] - train[col].mean())/train[col].std(ddof=0)\n",
    "outliers.head()"
   ]
  },
  {
   "cell_type": "markdown",
   "metadata": {},
   "source": [
    "## Add \"Naive\" Linear Model with all terms as our baseline model"
   ]
  },
  {
   "cell_type": "markdown",
   "metadata": {},
   "source": [
    "## Feature Selection\n",
    "### Add description"
   ]
  },
  {
   "cell_type": "code",
   "execution_count": 636,
   "metadata": {
    "scrolled": true
   },
   "outputs": [
    {
     "name": "stderr",
     "output_type": "stream",
     "text": [
      "/opt/anaconda3/lib/python3.8/site-packages/sklearn/model_selection/_validation.py:531: UserWarning: With alpha=0, this algorithm does not converge well. You are advised to use the LinearRegression estimator\n",
      "  estimator.fit(X_train, y_train, **fit_params)\n",
      "/opt/anaconda3/lib/python3.8/site-packages/sklearn/linear_model/_coordinate_descent.py:529: UserWarning: Coordinate descent with no regularization may lead to unexpected results and is discouraged.\n",
      "  model = cd_fast.enet_coordinate_descent(\n",
      "/opt/anaconda3/lib/python3.8/site-packages/sklearn/linear_model/_coordinate_descent.py:529: ConvergenceWarning: Objective did not converge. You might want to increase the number of iterations. Duality gap: 1648040.457315056, tolerance: 1404.3101521253202\n",
      "  model = cd_fast.enet_coordinate_descent(\n",
      "/opt/anaconda3/lib/python3.8/site-packages/sklearn/model_selection/_validation.py:531: UserWarning: With alpha=0, this algorithm does not converge well. You are advised to use the LinearRegression estimator\n",
      "  estimator.fit(X_train, y_train, **fit_params)\n",
      "/opt/anaconda3/lib/python3.8/site-packages/sklearn/linear_model/_coordinate_descent.py:529: UserWarning: Coordinate descent with no regularization may lead to unexpected results and is discouraged.\n",
      "  model = cd_fast.enet_coordinate_descent(\n",
      "/opt/anaconda3/lib/python3.8/site-packages/sklearn/linear_model/_coordinate_descent.py:529: ConvergenceWarning: Objective did not converge. You might want to increase the number of iterations. Duality gap: 1644635.8018536554, tolerance: 1408.211648028446\n",
      "  model = cd_fast.enet_coordinate_descent(\n",
      "/opt/anaconda3/lib/python3.8/site-packages/sklearn/model_selection/_validation.py:531: UserWarning: With alpha=0, this algorithm does not converge well. You are advised to use the LinearRegression estimator\n",
      "  estimator.fit(X_train, y_train, **fit_params)\n",
      "/opt/anaconda3/lib/python3.8/site-packages/sklearn/linear_model/_coordinate_descent.py:529: UserWarning: Coordinate descent with no regularization may lead to unexpected results and is discouraged.\n",
      "  model = cd_fast.enet_coordinate_descent(\n",
      "/opt/anaconda3/lib/python3.8/site-packages/sklearn/linear_model/_coordinate_descent.py:529: ConvergenceWarning: Objective did not converge. You might want to increase the number of iterations. Duality gap: 1630599.312281529, tolerance: 1414.360774679096\n",
      "  model = cd_fast.enet_coordinate_descent(\n",
      "/opt/anaconda3/lib/python3.8/site-packages/sklearn/model_selection/_validation.py:531: UserWarning: With alpha=0, this algorithm does not converge well. You are advised to use the LinearRegression estimator\n",
      "  estimator.fit(X_train, y_train, **fit_params)\n",
      "/opt/anaconda3/lib/python3.8/site-packages/sklearn/linear_model/_coordinate_descent.py:529: UserWarning: Coordinate descent with no regularization may lead to unexpected results and is discouraged.\n",
      "  model = cd_fast.enet_coordinate_descent(\n",
      "/opt/anaconda3/lib/python3.8/site-packages/sklearn/linear_model/_coordinate_descent.py:529: ConvergenceWarning: Objective did not converge. You might want to increase the number of iterations. Duality gap: 1634160.657581749, tolerance: 1399.9562213382687\n",
      "  model = cd_fast.enet_coordinate_descent(\n",
      "/opt/anaconda3/lib/python3.8/site-packages/sklearn/model_selection/_validation.py:531: UserWarning: With alpha=0, this algorithm does not converge well. You are advised to use the LinearRegression estimator\n",
      "  estimator.fit(X_train, y_train, **fit_params)\n",
      "/opt/anaconda3/lib/python3.8/site-packages/sklearn/linear_model/_coordinate_descent.py:529: UserWarning: Coordinate descent with no regularization may lead to unexpected results and is discouraged.\n",
      "  model = cd_fast.enet_coordinate_descent(\n",
      "/opt/anaconda3/lib/python3.8/site-packages/sklearn/linear_model/_coordinate_descent.py:529: ConvergenceWarning: Objective did not converge. You might want to increase the number of iterations. Duality gap: 1658248.9187368567, tolerance: 1398.4913821467908\n",
      "  model = cd_fast.enet_coordinate_descent(\n",
      "<ipython-input-636-bd871ade5028>:11: UserWarning: With alpha=0, this algorithm does not converge well. You are advised to use the LinearRegression estimator\n",
      "  L1.fit(X_train_scaled, y_train)\n",
      "/opt/anaconda3/lib/python3.8/site-packages/sklearn/linear_model/_coordinate_descent.py:529: UserWarning: Coordinate descent with no regularization may lead to unexpected results and is discouraged.\n",
      "  model = cd_fast.enet_coordinate_descent(\n",
      "/opt/anaconda3/lib/python3.8/site-packages/sklearn/linear_model/_coordinate_descent.py:529: ConvergenceWarning: Objective did not converge. You might want to increase the number of iterations. Duality gap: 2060123.5116478875, tolerance: 1756.377820335468\n",
      "  model = cd_fast.enet_coordinate_descent(\n"
     ]
    },
    {
     "data": {
      "text/html": [
       "<div>\n",
       "<style scoped>\n",
       "    .dataframe tbody tr th:only-of-type {\n",
       "        vertical-align: middle;\n",
       "    }\n",
       "\n",
       "    .dataframe tbody tr th {\n",
       "        vertical-align: top;\n",
       "    }\n",
       "\n",
       "    .dataframe thead th {\n",
       "        text-align: right;\n",
       "    }\n",
       "</style>\n",
       "<table border=\"1\" class=\"dataframe\">\n",
       "  <thead>\n",
       "    <tr style=\"text-align: right;\">\n",
       "      <th></th>\n",
       "      <th>Lasso alpha</th>\n",
       "      <th># Terms</th>\n",
       "      <th>CV RMSE</th>\n",
       "      <th>CV R-squared</th>\n",
       "    </tr>\n",
       "  </thead>\n",
       "  <tbody>\n",
       "    <tr>\n",
       "      <th>0</th>\n",
       "      <td>0.00</td>\n",
       "      <td>158</td>\n",
       "      <td>16.890</td>\n",
       "      <td>0.7581</td>\n",
       "    </tr>\n",
       "    <tr>\n",
       "      <th>1</th>\n",
       "      <td>0.05</td>\n",
       "      <td>115</td>\n",
       "      <td>17.249</td>\n",
       "      <td>0.7476</td>\n",
       "    </tr>\n",
       "    <tr>\n",
       "      <th>2</th>\n",
       "      <td>0.10</td>\n",
       "      <td>95</td>\n",
       "      <td>17.556</td>\n",
       "      <td>0.7385</td>\n",
       "    </tr>\n",
       "    <tr>\n",
       "      <th>3</th>\n",
       "      <td>0.15</td>\n",
       "      <td>82</td>\n",
       "      <td>17.684</td>\n",
       "      <td>0.7347</td>\n",
       "    </tr>\n",
       "    <tr>\n",
       "      <th>4</th>\n",
       "      <td>0.20</td>\n",
       "      <td>74</td>\n",
       "      <td>17.805</td>\n",
       "      <td>0.7310</td>\n",
       "    </tr>\n",
       "    <tr>\n",
       "      <th>...</th>\n",
       "      <td>...</td>\n",
       "      <td>...</td>\n",
       "      <td>...</td>\n",
       "      <td>...</td>\n",
       "    </tr>\n",
       "    <tr>\n",
       "      <th>96</th>\n",
       "      <td>4.80</td>\n",
       "      <td>9</td>\n",
       "      <td>21.997</td>\n",
       "      <td>0.5898</td>\n",
       "    </tr>\n",
       "    <tr>\n",
       "      <th>97</th>\n",
       "      <td>4.85</td>\n",
       "      <td>9</td>\n",
       "      <td>22.024</td>\n",
       "      <td>0.5888</td>\n",
       "    </tr>\n",
       "    <tr>\n",
       "      <th>98</th>\n",
       "      <td>4.90</td>\n",
       "      <td>9</td>\n",
       "      <td>22.052</td>\n",
       "      <td>0.5878</td>\n",
       "    </tr>\n",
       "    <tr>\n",
       "      <th>99</th>\n",
       "      <td>4.95</td>\n",
       "      <td>9</td>\n",
       "      <td>22.080</td>\n",
       "      <td>0.5867</td>\n",
       "    </tr>\n",
       "    <tr>\n",
       "      <th>100</th>\n",
       "      <td>5.00</td>\n",
       "      <td>9</td>\n",
       "      <td>22.108</td>\n",
       "      <td>0.5857</td>\n",
       "    </tr>\n",
       "  </tbody>\n",
       "</table>\n",
       "<p>101 rows × 4 columns</p>\n",
       "</div>"
      ],
      "text/plain": [
       "     Lasso alpha  # Terms  CV RMSE  CV R-squared\n",
       "0           0.00      158   16.890        0.7581\n",
       "1           0.05      115   17.249        0.7476\n",
       "2           0.10       95   17.556        0.7385\n",
       "3           0.15       82   17.684        0.7347\n",
       "4           0.20       74   17.805        0.7310\n",
       "..           ...      ...      ...           ...\n",
       "96          4.80        9   21.997        0.5898\n",
       "97          4.85        9   22.024        0.5888\n",
       "98          4.90        9   22.052        0.5878\n",
       "99          4.95        9   22.080        0.5867\n",
       "100         5.00        9   22.108        0.5857\n",
       "\n",
       "[101 rows x 4 columns]"
      ]
     },
     "execution_count": 636,
     "metadata": {},
     "output_type": "execute_result"
    }
   ],
   "source": [
    "Lasso_df = []\n",
    "L1 = Lasso()\n",
    "\n",
    "for i in np.linspace(0.2, 5, 101):\n",
    "    L1.alpha = i\n",
    "  \n",
    "    # Cross validation on training set\n",
    "    L1_CV = cross_validate(L1, X_train_scaled, y_train, cv = 5, scoring=['neg_root_mean_squared_error','r2'])\n",
    "    L1_CV_RMSE = round(np.mean(-L1_CV['test_neg_root_mean_squared_error']), 3)\n",
    "    L1_CV_Rsq = round(np.mean(L1_CV['test_r2']), 4)\n",
    "    \n",
    "    L1.fit(X_train_scaled, y_train)\n",
    "    num_terms = len(L1.coef_[L1.coef_!=0])\n",
    "    \n",
    "    Lasso_df.append([ L1.alpha, num_terms, L1_CV_RMSE, L1_CV_Rsq ])\n",
    "    \n",
    "Lasso_df = pd.DataFrame(Lasso_df, columns = ['Lasso alpha', '# Terms', 'CV RMSE', 'CV R-squared'])\n",
    "Lasso_df"
   ]
  },
  {
   "cell_type": "markdown",
   "metadata": {},
   "source": [
    "## Add explanation of Knee and why we chose the inflection point for model selection"
   ]
  },
  {
   "cell_type": "code",
   "execution_count": 637,
   "metadata": {},
   "outputs": [
    {
     "name": "stdout",
     "output_type": "stream",
     "text": [
      "18.214\n"
     ]
    }
   ],
   "source": [
    "kn1 = KneeLocator(Lasso_df['CV RMSE'], Lasso_df['# Terms'], curve='convex', direction='decreasing')\n",
    "print('CV RMSE', kn.knee)"
   ]
  },
  {
   "cell_type": "code",
   "execution_count": 638,
   "metadata": {},
   "outputs": [
    {
     "name": "stdout",
     "output_type": "stream",
     "text": [
      "0.6942\n"
     ]
    }
   ],
   "source": [
    "kn2 = KneeLocator(Lasso_df['CV R-squared'],  Lasso_df['# Terms'], curve='convex', direction='increasing')\n",
    "print('CV R-squared', kn2.knee)"
   ]
  },
  {
   "cell_type": "code",
   "execution_count": 639,
   "metadata": {
    "scrolled": true
   },
   "outputs": [
    {
     "name": "stdout",
     "output_type": "stream",
     "text": [
      "0.9\n"
     ]
    }
   ],
   "source": [
    "kn3 = KneeLocator(Lasso_df['Lasso alpha'],Lasso_df['CV RMSE'], curve='concave', direction='increasing')\n",
    "print('Lasso alpha', kn3.knee)"
   ]
  },
  {
   "cell_type": "code",
   "execution_count": 640,
   "metadata": {},
   "outputs": [
    {
     "name": "stdout",
     "output_type": "stream",
     "text": [
      "0.8500000000000001\n"
     ]
    }
   ],
   "source": [
    "kn4 = KneeLocator(Lasso_df['Lasso alpha'],Lasso_df['CV R-squared'], curve='convex', direction='decreasing')\n",
    "print('Lasso alpha', kn4.knee)"
   ]
  },
  {
   "cell_type": "code",
   "execution_count": 641,
   "metadata": {},
   "outputs": [
    {
     "data": {
      "text/plain": [
       "<matplotlib.collections.LineCollection at 0x1341259a0>"
      ]
     },
     "execution_count": 641,
     "metadata": {},
     "output_type": "execute_result"
    },
    {
     "data": {
      "image/png": "[encoded data removed]",
      "text/plain": [
       "<Figure size 432x288 with 1 Axes>"
      ]
     },
     "metadata": {
      "needs_background": "light"
     },
     "output_type": "display_data"
    }
   ],
   "source": [
    "# Plot number of parameters vs. RMSE\n",
    "\n",
    "plt.xlabel('RMSE')\n",
    "plt.ylabel('# of parameters')\n",
    "plt.plot(Lasso_df['CV RMSE'], Lasso_df['# Terms'], 'bx-')\n",
    "plt.vlines(kn1.knee, plt.ylim()[0], plt.ylim()[1], linestyles='dashed')"
   ]
  },
  {
   "cell_type": "code",
   "execution_count": 642,
   "metadata": {},
   "outputs": [
    {
     "data": {
      "text/plain": [
       "<matplotlib.collections.LineCollection at 0x1342bc610>"
      ]
     },
     "execution_count": 642,
     "metadata": {},
     "output_type": "execute_result"
    },
    {
     "data": {
      "image/png": "[encoded data removed]",
      "text/plain": [
       "<Figure size 432x288 with 1 Axes>"
      ]
     },
     "metadata": {
      "needs_background": "light"
     },
     "output_type": "display_data"
    }
   ],
   "source": [
    "import matplotlib.pyplot as plt\n",
    "plt.xlabel('r-squared')\n",
    "plt.ylabel('# of parameters')\n",
    "plt.plot(Lasso_df['CV R-squared'], Lasso_df['# Terms'], 'bx-')\n",
    "plt.vlines(kn2.knee, plt.ylim()[0], plt.ylim()[1], linestyles='dashed')"
   ]
  },
  {
   "cell_type": "code",
   "execution_count": 643,
   "metadata": {},
   "outputs": [
    {
     "data": {
      "text/plain": [
       "<matplotlib.collections.LineCollection at 0x147d62d00>"
      ]
     },
     "execution_count": 643,
     "metadata": {},
     "output_type": "execute_result"
    },
    {
     "data": {
      "image/png": "[encoded data removed]",
      "text/plain": [
       "<Figure size 432x288 with 1 Axes>"
      ]
     },
     "metadata": {
      "needs_background": "light"
     },
     "output_type": "display_data"
    }
   ],
   "source": [
    "import matplotlib.pyplot as plt\n",
    "plt.xlabel('alpha')\n",
    "plt.ylabel('RMSE')\n",
    "plt.plot(Lasso_df['Lasso alpha'],Lasso_df['CV RMSE'], 'bx-')\n",
    "plt.vlines(kn3.knee, plt.ylim()[0], plt.ylim()[1], linestyles='dashed')"
   ]
  },
  {
   "cell_type": "code",
   "execution_count": 644,
   "metadata": {},
   "outputs": [
    {
     "data": {
      "text/plain": [
       "<matplotlib.collections.LineCollection at 0x14b06ce50>"
      ]
     },
     "execution_count": 644,
     "metadata": {},
     "output_type": "execute_result"
    },
    {
     "data": {
      "image/png": "[encoded data removed]",
      "text/plain": [
       "<Figure size 432x288 with 1 Axes>"
      ]
     },
     "metadata": {
      "needs_background": "light"
     },
     "output_type": "display_data"
    }
   ],
   "source": [
    "import matplotlib.pyplot as plt\n",
    "plt.xlabel('alpha')\n",
    "plt.ylabel('RMSE')\n",
    "plt.plot(Lasso_df['Lasso alpha'],Lasso_df['CV R-squared'], 'bx-')\n",
    "plt.vlines(kn4.knee, plt.ylim()[0], plt.ylim()[1], linestyles='dashed')"
   ]
  },
  {
   "cell_type": "code",
   "execution_count": 598,
   "metadata": {},
   "outputs": [
    {
     "data": {
      "text/plain": [
       "0      0.7310\n",
       "1      0.7304\n",
       "2      0.7298\n",
       "3      0.7292\n",
       "4      0.7285\n",
       "        ...  \n",
       "196    0.6642\n",
       "197    0.6639\n",
       "198    0.6637\n",
       "199    0.6634\n",
       "200    0.6631\n",
       "Name: CV R-squared, Length: 201, dtype: float64"
      ]
     },
     "execution_count": 598,
     "metadata": {},
     "output_type": "execute_result"
    }
   ],
   "source": [
    "Lasso_df['CV R-squared']"
   ]
  },
  {
   "cell_type": "markdown",
   "metadata": {},
   "source": [
    "# Model Preparations <a id='model-preparations'>"
   ]
  },
  {
   "cell_type": "markdown",
   "metadata": {},
   "source": [
    "### Which methods are you proposing to utilize to solve the problem?  "
   ]
  },
  {
   "cell_type": "markdown",
   "metadata": {},
   "source": [
    "### Why is this method appropriate given the business objective?"
   ]
  },
  {
   "cell_type": "markdown",
   "metadata": {},
   "source": [
    "### How will you determine if your approach is useful (or how will you differentiate which approach is more useful than another)?  More specifically, what evaluation metrics are most useful given that the problem is a regression one (ex., RMSE, logloss, MAE, etc.)?\n",
    "\n",
    "Talk baout r-squared, rmse and multicollinearity"
   ]
  },
  {
   "cell_type": "markdown",
   "metadata": {},
   "source": [
    "## Select model terms with Lasso\n",
    "\n",
    "In order reduce the number of parameters we wanted to find the point at which rmse and r^2 begins to flatten after  each additional paramater is added. This is the point of dimishing returns. Depending on what measurement is maximized we can return diffent values for penalizing the model (alpha). Based on our modeling we believe the point of dimishing returns to maximize the r^2 is alpha=0.9. The point of diminishing returns for RMSE is an alpha of 0.85."
   ]
  },
  {
   "cell_type": "code",
   "execution_count": 742,
   "metadata": {},
   "outputs": [
    {
     "name": "stdout",
     "output_type": "stream",
     "text": [
      "Lasso Training RMSE = 18.87\n",
      "Lasso Training R-Sq = 0.698\n",
      "\n",
      "Lasso Test RMSE = 18.44\n",
      "Lasso Test R-Sq = 0.706\n",
      "\n",
      "Kept Factors( 25 of 158 ):\n"
     ]
    },
    {
     "data": {
      "text/html": [
       "<div>\n",
       "<style scoped>\n",
       "    .dataframe tbody tr th:only-of-type {\n",
       "        vertical-align: middle;\n",
       "    }\n",
       "\n",
       "    .dataframe tbody tr th {\n",
       "        vertical-align: top;\n",
       "    }\n",
       "\n",
       "    .dataframe thead th {\n",
       "        text-align: right;\n",
       "    }\n",
       "</style>\n",
       "<table border=\"1\" class=\"dataframe\">\n",
       "  <thead>\n",
       "    <tr style=\"text-align: right;\">\n",
       "      <th></th>\n",
       "      <th>Factor</th>\n",
       "      <th>Coef</th>\n",
       "    </tr>\n",
       "  </thead>\n",
       "  <tbody>\n",
       "    <tr>\n",
       "      <th>157</th>\n",
       "      <td>wtd_std_Valence</td>\n",
       "      <td>-3.551243</td>\n",
       "    </tr>\n",
       "    <tr>\n",
       "      <th>121</th>\n",
       "      <td>wtd_gmean_ElectronAffinity</td>\n",
       "      <td>-3.256133</td>\n",
       "    </tr>\n",
       "    <tr>\n",
       "      <th>11</th>\n",
       "      <td>Si</td>\n",
       "      <td>-2.542338</td>\n",
       "    </tr>\n",
       "    <tr>\n",
       "      <th>110</th>\n",
       "      <td>gmean_Density</td>\n",
       "      <td>-1.791377</td>\n",
       "    </tr>\n",
       "    <tr>\n",
       "      <th>53</th>\n",
       "      <td>Pr</td>\n",
       "      <td>-1.664248</td>\n",
       "    </tr>\n",
       "    <tr>\n",
       "      <th>141</th>\n",
       "      <td>wtd_gmean_ThermalConductivity</td>\n",
       "      <td>-1.336341</td>\n",
       "    </tr>\n",
       "    <tr>\n",
       "      <th>29</th>\n",
       "      <td>As</td>\n",
       "      <td>-0.801547</td>\n",
       "    </tr>\n",
       "    <tr>\n",
       "      <th>137</th>\n",
       "      <td>wtd_std_FusionHeat</td>\n",
       "      <td>-0.710089</td>\n",
       "    </tr>\n",
       "    <tr>\n",
       "      <th>52</th>\n",
       "      <td>Ce</td>\n",
       "      <td>-0.656177</td>\n",
       "    </tr>\n",
       "    <tr>\n",
       "      <th>54</th>\n",
       "      <td>Nd</td>\n",
       "      <td>-0.464878</td>\n",
       "    </tr>\n",
       "    <tr>\n",
       "      <th>42</th>\n",
       "      <td>Ag</td>\n",
       "      <td>-0.196928</td>\n",
       "    </tr>\n",
       "    <tr>\n",
       "      <th>28</th>\n",
       "      <td>Ge</td>\n",
       "      <td>-0.056967</td>\n",
       "    </tr>\n",
       "    <tr>\n",
       "      <th>88</th>\n",
       "      <td>mean_fie</td>\n",
       "      <td>0.117643</td>\n",
       "    </tr>\n",
       "    <tr>\n",
       "      <th>84</th>\n",
       "      <td>range_atomic_mass</td>\n",
       "      <td>0.938046</td>\n",
       "    </tr>\n",
       "    <tr>\n",
       "      <th>33</th>\n",
       "      <td>Sr</td>\n",
       "      <td>0.981232</td>\n",
       "    </tr>\n",
       "    <tr>\n",
       "      <th>74</th>\n",
       "      <td>Tl</td>\n",
       "      <td>1.076945</td>\n",
       "    </tr>\n",
       "    <tr>\n",
       "      <th>94</th>\n",
       "      <td>range_fie</td>\n",
       "      <td>1.159787</td>\n",
       "    </tr>\n",
       "    <tr>\n",
       "      <th>73</th>\n",
       "      <td>Hg</td>\n",
       "      <td>1.404259</td>\n",
       "    </tr>\n",
       "    <tr>\n",
       "      <th>104</th>\n",
       "      <td>range_atomic_radius</td>\n",
       "      <td>2.450541</td>\n",
       "    </tr>\n",
       "    <tr>\n",
       "      <th>139</th>\n",
       "      <td>wtd_mean_ThermalConductivity</td>\n",
       "      <td>2.902493</td>\n",
       "    </tr>\n",
       "    <tr>\n",
       "      <th>76</th>\n",
       "      <td>Bi</td>\n",
       "      <td>2.955065</td>\n",
       "    </tr>\n",
       "    <tr>\n",
       "      <th>16</th>\n",
       "      <td>Ca</td>\n",
       "      <td>3.541879</td>\n",
       "    </tr>\n",
       "    <tr>\n",
       "      <th>83</th>\n",
       "      <td>wtd_entropy_atomic_mass</td>\n",
       "      <td>4.181680</td>\n",
       "    </tr>\n",
       "    <tr>\n",
       "      <th>147</th>\n",
       "      <td>wtd_std_ThermalConductivity</td>\n",
       "      <td>7.852303</td>\n",
       "    </tr>\n",
       "    <tr>\n",
       "      <th>50</th>\n",
       "      <td>Ba</td>\n",
       "      <td>8.390068</td>\n",
       "    </tr>\n",
       "  </tbody>\n",
       "</table>\n",
       "</div>"
      ],
      "text/plain": [
       "                            Factor      Coef\n",
       "157                wtd_std_Valence -3.551243\n",
       "121     wtd_gmean_ElectronAffinity -3.256133\n",
       "11                              Si -2.542338\n",
       "110                  gmean_Density -1.791377\n",
       "53                              Pr -1.664248\n",
       "141  wtd_gmean_ThermalConductivity -1.336341\n",
       "29                              As -0.801547\n",
       "137             wtd_std_FusionHeat -0.710089\n",
       "52                              Ce -0.656177\n",
       "54                              Nd -0.464878\n",
       "42                              Ag -0.196928\n",
       "28                              Ge -0.056967\n",
       "88                        mean_fie  0.117643\n",
       "84               range_atomic_mass  0.938046\n",
       "33                              Sr  0.981232\n",
       "74                              Tl  1.076945\n",
       "94                       range_fie  1.159787\n",
       "73                              Hg  1.404259\n",
       "104            range_atomic_radius  2.450541\n",
       "139   wtd_mean_ThermalConductivity  2.902493\n",
       "76                              Bi  2.955065\n",
       "16                              Ca  3.541879\n",
       "83         wtd_entropy_atomic_mass  4.181680\n",
       "147    wtd_std_ThermalConductivity  7.852303\n",
       "50                              Ba  8.390068"
      ]
     },
     "execution_count": 742,
     "metadata": {},
     "output_type": "execute_result"
    }
   ],
   "source": [
    "L1 = Lasso(alpha = .9)\n",
    "L1.fit(X_train_scaled, y_train)\n",
    "\n",
    "y_hat_train = L1.predict(X_train_scaled)\n",
    "RMSE = round(mse(y_train, y_hat_train, squared=False), 2)\n",
    "print( \"Lasso Training RMSE =\", round(RMSE,2) )\n",
    "Rsq = r2_score(y_train, y_hat_train)\n",
    "print( \"Lasso Training R-Sq =\", round(Rsq,3) )\n",
    "\n",
    "y_hat_test = L1.predict(X_test_scaled)\n",
    "RMSE = round(mse(y_test, y_hat_test, squared=False), 2)\n",
    "print( \"\\nLasso Test RMSE =\", round(RMSE,2) )\n",
    "Rsq = r2_score(y_test, y_hat_test)\n",
    "print( \"Lasso Test R-Sq =\", round(Rsq,3) )\n",
    "\n",
    "model_coef = pd.DataFrame(zip(X.columns, L1.coef_), columns=['Factor','Coef'])\n",
    "model_factors = model_coef[model_coef['Coef']!=0]\n",
    "\n",
    "print(\"\\nKept Factors(\", model_factors.shape[0], \"of\", X.shape[1],\"):\")\n",
    "model_coef[model_coef['Coef']!=0].sort_values(by='Coef')"
   ]
  },
  {
   "cell_type": "code",
   "execution_count": 745,
   "metadata": {},
   "outputs": [
    {
     "name": "stdout",
     "output_type": "stream",
     "text": [
      "\n",
      "LinReg Training RMSE = 18.77\n",
      "LinReg Training R-Sq = 0.702\n",
      "\n",
      "LinReg Test RMSE = 18.36\n",
      "LinReg Test R-Sq = 0.709\n"
     ]
    }
   ],
   "source": [
    "# Set any negative predictions to 0 and reassess performance.  \n",
    "# Cannot have negative degrees Kelvin as mentioned previously in the Assumptions section. \n",
    "\n",
    "y_hat_train[y_hat_train<0]=0\n",
    "RMSE = round(mse(y_train, y_hat_train, squared=False), 2)\n",
    "print( \"\\nLinReg Training RMSE =\", round(RMSE,2) )\n",
    "Rsq = r2_score(y_train, y_hat_train)\n",
    "print( \"LinReg Training R-Sq =\", round(Rsq,3) )\n",
    "\n",
    "y_hat_test[y_hat_test<0]=0\n",
    "RMSE = round(mse(y_test, y_hat_test, squared=False), 2)\n",
    "print( \"\\nLinReg Test RMSE =\", round(RMSE,2) )\n",
    "Rsq = r2_score(y_test, y_hat_test)\n",
    "print( \"LinReg Test R-Sq =\", round(Rsq,3) )"
   ]
  },
  {
   "cell_type": "markdown",
   "metadata": {},
   "source": [
    "# Model Building & Evaluations <a id='#model-building'>"
   ]
  },
  {
   "cell_type": "markdown",
   "metadata": {},
   "source": [
    "### Specify your sampling methodology"
   ]
  },
  {
   "cell_type": "markdown",
   "metadata": {},
   "source": [
    "### Setup your model(s) \n",
    "## Final Ridge Model Built from Lasso Model Selection -- Setup your model(s) \n",
    "\n",
    "Describe model\n",
    "specifying the regularization type chosen and including the parameters utilized by the model\n"
   ]
  },
  {
   "cell_type": "code",
   "execution_count": 749,
   "metadata": {
    "scrolled": true
   },
   "outputs": [
    {
     "name": "stdout",
     "output_type": "stream",
     "text": [
      "Ridge Training RMSE = 18.55\n",
      "Ridge Training R-Sq = 0.708\n",
      "\n",
      "Ridge Test RMSE = 18.09\n",
      "Ridge Test R-Sq = 0.717\n",
      "\n",
      "Kept Factors( 25 of 158 ):\n"
     ]
    },
    {
     "data": {
      "text/html": [
       "<div>\n",
       "<style scoped>\n",
       "    .dataframe tbody tr th:only-of-type {\n",
       "        vertical-align: middle;\n",
       "    }\n",
       "\n",
       "    .dataframe tbody tr th {\n",
       "        vertical-align: top;\n",
       "    }\n",
       "\n",
       "    .dataframe thead th {\n",
       "        text-align: right;\n",
       "    }\n",
       "</style>\n",
       "<table border=\"1\" class=\"dataframe\">\n",
       "  <thead>\n",
       "    <tr style=\"text-align: right;\">\n",
       "      <th></th>\n",
       "      <th>Factor</th>\n",
       "      <th>Coef</th>\n",
       "    </tr>\n",
       "  </thead>\n",
       "  <tbody>\n",
       "    <tr>\n",
       "      <th>21</th>\n",
       "      <td>wtd_std_Valence</td>\n",
       "      <td>-5.490780</td>\n",
       "    </tr>\n",
       "    <tr>\n",
       "      <th>0</th>\n",
       "      <td>Si</td>\n",
       "      <td>-4.098103</td>\n",
       "    </tr>\n",
       "    <tr>\n",
       "      <th>17</th>\n",
       "      <td>gmean_Density</td>\n",
       "      <td>-3.781179</td>\n",
       "    </tr>\n",
       "    <tr>\n",
       "      <th>18</th>\n",
       "      <td>wtd_gmean_ElectronAffinity</td>\n",
       "      <td>-3.073510</td>\n",
       "    </tr>\n",
       "    <tr>\n",
       "      <th>19</th>\n",
       "      <td>wtd_std_FusionHeat</td>\n",
       "      <td>-3.021639</td>\n",
       "    </tr>\n",
       "    <tr>\n",
       "      <th>3</th>\n",
       "      <td>As</td>\n",
       "      <td>-2.511130</td>\n",
       "    </tr>\n",
       "    <tr>\n",
       "      <th>8</th>\n",
       "      <td>Pr</td>\n",
       "      <td>-2.277496</td>\n",
       "    </tr>\n",
       "    <tr>\n",
       "      <th>7</th>\n",
       "      <td>Ce</td>\n",
       "      <td>-1.264847</td>\n",
       "    </tr>\n",
       "    <tr>\n",
       "      <th>2</th>\n",
       "      <td>Ge</td>\n",
       "      <td>-1.197090</td>\n",
       "    </tr>\n",
       "    <tr>\n",
       "      <th>9</th>\n",
       "      <td>Nd</td>\n",
       "      <td>-1.140194</td>\n",
       "    </tr>\n",
       "    <tr>\n",
       "      <th>5</th>\n",
       "      <td>Ag</td>\n",
       "      <td>-0.881523</td>\n",
       "    </tr>\n",
       "    <tr>\n",
       "      <th>14</th>\n",
       "      <td>range_atomic_mass</td>\n",
       "      <td>1.189502</td>\n",
       "    </tr>\n",
       "    <tr>\n",
       "      <th>11</th>\n",
       "      <td>Tl</td>\n",
       "      <td>1.355399</td>\n",
       "    </tr>\n",
       "    <tr>\n",
       "      <th>10</th>\n",
       "      <td>Hg</td>\n",
       "      <td>1.395065</td>\n",
       "    </tr>\n",
       "    <tr>\n",
       "      <th>15</th>\n",
       "      <td>mean_fie</td>\n",
       "      <td>1.462297</td>\n",
       "    </tr>\n",
       "    <tr>\n",
       "      <th>4</th>\n",
       "      <td>Sr</td>\n",
       "      <td>1.982514</td>\n",
       "    </tr>\n",
       "    <tr>\n",
       "      <th>12</th>\n",
       "      <td>Bi</td>\n",
       "      <td>3.713831</td>\n",
       "    </tr>\n",
       "    <tr>\n",
       "      <th>1</th>\n",
       "      <td>Ca</td>\n",
       "      <td>4.344605</td>\n",
       "    </tr>\n",
       "    <tr>\n",
       "      <th>16</th>\n",
       "      <td>range_atomic_radius</td>\n",
       "      <td>4.730693</td>\n",
       "    </tr>\n",
       "    <tr>\n",
       "      <th>20</th>\n",
       "      <td>wtd_mean_ThermalConductivity</td>\n",
       "      <td>5.221231</td>\n",
       "    </tr>\n",
       "    <tr>\n",
       "      <th>13</th>\n",
       "      <td>wtd_entropy_atomic_mass</td>\n",
       "      <td>6.777848</td>\n",
       "    </tr>\n",
       "    <tr>\n",
       "      <th>6</th>\n",
       "      <td>Ba</td>\n",
       "      <td>9.976856</td>\n",
       "    </tr>\n",
       "  </tbody>\n",
       "</table>\n",
       "</div>"
      ],
      "text/plain": [
       "                          Factor      Coef\n",
       "21               wtd_std_Valence -5.490780\n",
       "0                             Si -4.098103\n",
       "17                 gmean_Density -3.781179\n",
       "18    wtd_gmean_ElectronAffinity -3.073510\n",
       "19            wtd_std_FusionHeat -3.021639\n",
       "3                             As -2.511130\n",
       "8                             Pr -2.277496\n",
       "7                             Ce -1.264847\n",
       "2                             Ge -1.197090\n",
       "9                             Nd -1.140194\n",
       "5                             Ag -0.881523\n",
       "14             range_atomic_mass  1.189502\n",
       "11                            Tl  1.355399\n",
       "10                            Hg  1.395065\n",
       "15                      mean_fie  1.462297\n",
       "4                             Sr  1.982514\n",
       "12                            Bi  3.713831\n",
       "1                             Ca  4.344605\n",
       "16           range_atomic_radius  4.730693\n",
       "20  wtd_mean_ThermalConductivity  5.221231\n",
       "13       wtd_entropy_atomic_mass  6.777848\n",
       "6                             Ba  9.976856"
      ]
     },
     "execution_count": 749,
     "metadata": {},
     "output_type": "execute_result"
    }
   ],
   "source": [
    "L2 = Ridge(alpha = 100)\n",
    "model_terms = list(model_factors['Factor'])\n",
    "L2.fit(X_train_scaled[model_terms], y_train)\n",
    "\n",
    "y_hat_train = L2.predict(X_train_scaled[model_terms])\n",
    "y_hat_train[y_hat_train<0]=0\n",
    "RMSE = round(mse(y_train, y_hat_train, squared=False), 2)\n",
    "print( \"Ridge Training RMSE =\", round(RMSE,2) )\n",
    "Rsq = r2_score(y_train, y_hat_train)\n",
    "print( \"Ridge Training R-Sq =\", round(Rsq,3) )\n",
    "\n",
    "y_hat_test = L2.predict(X_test_scaled[model_terms])\n",
    "y_hat_test[y_hat_test<0]=0\n",
    "RMSE = round(mse(y_test, y_hat_test, squared=False), 2)\n",
    "print( \"\\nRidge Test RMSE =\", round(RMSE,2) )\n",
    "Rsq = r2_score(y_test, y_hat_test)\n",
    "print( \"Ridge Test R-Sq =\", round(Rsq,3) )\n",
    "\n",
    "model_coef1 = pd.DataFrame(zip(X[model_terms].columns, L2.coef_), columns=['Factor','Coef'])\n",
    "model_factors1 = model_coef[model_coef['Coef']!=0]\n",
    "\n",
    "print(\"\\nKept Factors(\", model_factors1.shape[0], \"of\", X.shape[1],\"):\")\n",
    "model_coef1[model_coef1['Coef']!=0].sort_values(by=['Coef'])"
   ]
  },
  {
   "cell_type": "code",
   "execution_count": 750,
   "metadata": {},
   "outputs": [],
   "source": [
    "model_coef1['abs_Coef'] = abs(model_coef1['Coef'])\n",
    "model_coef1.sort_values(by=['abs_Coef'])"
   ]
  },
  {
   "cell_type": "markdown",
   "metadata": {},
   "source": [
    "#### Add comment about removing gmean thermalconductivity"
   ]
  },
  {
   "cell_type": "markdown",
   "metadata": {},
   "source": [
    "### Analyze your model's performance - referencing your chosen evaluation metric (including supplemental visuals and analysis where appropriate)"
   ]
  },
  {
   "cell_type": "markdown",
   "metadata": {},
   "source": [
    "# Model Interpretability & Explainability <a id='model-explanation'>"
   ]
  },
  {
   "cell_type": "markdown",
   "metadata": {},
   "source": [
    "## Which variable(s) was (were) \"most important\" and why?"
   ]
  },
  {
   "cell_type": "markdown",
   "metadata": {},
   "source": [
    "## How did you come to the conclusion and how should your audience interpret this?"
   ]
  },
  {
   "cell_type": "markdown",
   "metadata": {},
   "source": [
    "# Conclusion <a id='conclusion'>\n",
    "    \n"
   ]
  },
  {
   "cell_type": "markdown",
   "metadata": {},
   "source": [
    "The goal of our analysis was to predict the critical temperature for superconductors.  Determining the critical temperature is important because if superconductors don't cool down below a certain temperature, they lose their conductivity.  The team built a linear model after using LASSO select features. "
   ]
  },
  {
   "cell_type": "markdown",
   "metadata": {},
   "source": [
    "### After all of your technical analysis and modeling; what are you proposing to your audience and why? \n",
    "\n",
    "We're proposing a linear regression model with L1 and L2 regularization, to reduce the number of features and prevent overfitting, that predicts the critical temperatures using 9 material characteristics and 13 elements out of the 158 total features (81 materical characteristics and 77 elements) provided. Our model achieved and r-squared of 0.72 and an RMSE of 18 degrees K. One of our primary goals was to achieve high model interpretability and reduce the model complexity while at the same time minimizing impact on model performance.  \n",
    "\n",
    "\n",
    "### How should they view your results and what should they consider when moving forward? \n",
    "\n",
    "Attempt to build two separate models for low and high temperature superconductors. We noticed that our observations might come from two separate populations since distribution appears to be bimodal. This in turn would reduce the rmse of each model.\n",
    "\n",
    "\n",
    "### Are there other approaches you'd recommend exploring?  This is where you \"bring it all home\" in language they understand.\n"
   ]
  }
 ],
 "metadata": {
  "kernelspec": {
   "display_name": "Python 3",
   "language": "python",
   "name": "python3"
  },
  "language_info": {
   "codemirror_mode": {
    "name": "ipython",
    "version": 3
   },
   "file_extension": ".py",
   "mimetype": "text/x-python",
   "name": "python",
   "nbconvert_exporter": "python",
   "pygments_lexer": "ipython3",
   "version": "3.8.5"
  }
 },
 "nbformat": 4,
 "nbformat_minor": 4
}
