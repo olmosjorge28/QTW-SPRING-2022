{
 "cells": [
  {
   "cell_type": "markdown",
   "metadata": {},
   "source": [
    "# Data Evaluation <a id='data-evaluation'>"
   ]
  },
  {
   "cell_type": "code",
   "execution_count": 1,
   "metadata": {
    "scrolled": true
   },
   "outputs": [
    {
     "data": {
      "text/plain": [
       "\"import warnings\\nwarnings.filterwarnings('ignore')\\nfrom warnings import simplefilter \\nsimplefilter(action='ignore', category=FutureWarning)\""
      ]
     },
     "execution_count": 1,
     "metadata": {},
     "output_type": "execute_result"
    }
   ],
   "source": [
    "# standard libraries\n",
    "import pandas as pd\n",
    "import numpy as np\n",
    "import os\n",
    "from IPython.display import Image\n",
    "\n",
    "# visualization\n",
    "import seaborn as sns\n",
    "import matplotlib.pyplot as plt\n",
    "%matplotlib inline\n",
    "from tabulate import tabulate\n",
    "\n",
    "# data pre-processing\n",
    "from sklearn.preprocessing import StandardScaler\n",
    "from sklearn.model_selection import train_test_split\n",
    "\n",
    "# prediction models\n",
    "from sklearn.model_selection import cross_validate\n",
    "from sklearn.linear_model import LogisticRegression\n",
    "from sklearn.linear_model import LogisticRegressionCV\n",
    "\n",
    "#from kneed import KneeLocator\n",
    "from scipy import stats\n",
    "\n",
    "# import warnings filter\n",
    "'''import warnings\n",
    "warnings.filterwarnings('ignore')\n",
    "from warnings import simplefilter \n",
    "simplefilter(action='ignore', category=FutureWarning)'''"
   ]
  },
  {
   "cell_type": "markdown",
   "metadata": {},
   "source": [
    "# Loading Data <a id='loading-data'>"
   ]
  },
  {
   "cell_type": "code",
   "execution_count": 48,
   "metadata": {},
   "outputs": [
    {
     "data": {
      "text/html": [
       "<div>\n",
       "<style scoped>\n",
       "    .dataframe tbody tr th:only-of-type {\n",
       "        vertical-align: middle;\n",
       "    }\n",
       "\n",
       "    .dataframe tbody tr th {\n",
       "        vertical-align: top;\n",
       "    }\n",
       "\n",
       "    .dataframe thead th {\n",
       "        text-align: right;\n",
       "    }\n",
       "</style>\n",
       "<table border=\"1\" class=\"dataframe\">\n",
       "  <thead>\n",
       "    <tr style=\"text-align: right;\">\n",
       "      <th></th>\n",
       "      <th>description</th>\n",
       "    </tr>\n",
       "    <tr>\n",
       "      <th>admission_type_id</th>\n",
       "      <th></th>\n",
       "    </tr>\n",
       "  </thead>\n",
       "  <tbody>\n",
       "    <tr>\n",
       "      <th>1</th>\n",
       "      <td>Emergency</td>\n",
       "    </tr>\n",
       "    <tr>\n",
       "      <th>2</th>\n",
       "      <td>Urgent</td>\n",
       "    </tr>\n",
       "    <tr>\n",
       "      <th>3</th>\n",
       "      <td>Elective</td>\n",
       "    </tr>\n",
       "    <tr>\n",
       "      <th>4</th>\n",
       "      <td>Newborn</td>\n",
       "    </tr>\n",
       "    <tr>\n",
       "      <th>5</th>\n",
       "      <td>Not Available</td>\n",
       "    </tr>\n",
       "    <tr>\n",
       "      <th>6</th>\n",
       "      <td>NaN</td>\n",
       "    </tr>\n",
       "    <tr>\n",
       "      <th>7</th>\n",
       "      <td>Trauma Center</td>\n",
       "    </tr>\n",
       "    <tr>\n",
       "      <th>8</th>\n",
       "      <td>Not Mapped</td>\n",
       "    </tr>\n",
       "  </tbody>\n",
       "</table>\n",
       "</div>"
      ],
      "text/plain": [
       "                     description\n",
       "admission_type_id               \n",
       "1                      Emergency\n",
       "2                         Urgent\n",
       "3                       Elective\n",
       "4                        Newborn\n",
       "5                  Not Available\n",
       "6                            NaN\n",
       "7                  Trauma Center\n",
       "8                     Not Mapped"
      ]
     },
     "execution_count": 48,
     "metadata": {},
     "output_type": "execute_result"
    }
   ],
   "source": [
    "url = 'https://raw.githubusercontent.com/olmosjorge28/QTW-SPRING-2022/main/dataset_diabetes/IDs_mapping.csv'\n",
    "admission_type_mapping = pd.read_csv(url, nrows=8, index_col=0)\n",
    "admission_type_mapping"
   ]
  },
  {
   "cell_type": "markdown",
   "metadata": {},
   "source": [
    "Can Potentially Deduce values from medical specialty"
   ]
  },
  {
   "cell_type": "code",
   "execution_count": 54,
   "metadata": {},
   "outputs": [
    {
     "data": {
      "text/html": [
       "<div>\n",
       "<style scoped>\n",
       "    .dataframe tbody tr th:only-of-type {\n",
       "        vertical-align: middle;\n",
       "    }\n",
       "\n",
       "    .dataframe tbody tr th {\n",
       "        vertical-align: top;\n",
       "    }\n",
       "\n",
       "    .dataframe thead th {\n",
       "        text-align: right;\n",
       "    }\n",
       "</style>\n",
       "<table border=\"1\" class=\"dataframe\">\n",
       "  <thead>\n",
       "    <tr style=\"text-align: right;\">\n",
       "      <th></th>\n",
       "      <th>description</th>\n",
       "    </tr>\n",
       "    <tr>\n",
       "      <th>discharge_disposition_id</th>\n",
       "      <th></th>\n",
       "    </tr>\n",
       "  </thead>\n",
       "  <tbody>\n",
       "    <tr>\n",
       "      <th>1</th>\n",
       "      <td>Discharged to home</td>\n",
       "    </tr>\n",
       "    <tr>\n",
       "      <th>2</th>\n",
       "      <td>Discharged/transferred to another short term h...</td>\n",
       "    </tr>\n",
       "    <tr>\n",
       "      <th>3</th>\n",
       "      <td>Discharged/transferred to SNF</td>\n",
       "    </tr>\n",
       "    <tr>\n",
       "      <th>4</th>\n",
       "      <td>Discharged/transferred to ICF</td>\n",
       "    </tr>\n",
       "    <tr>\n",
       "      <th>5</th>\n",
       "      <td>Discharged/transferred to another type of inpa...</td>\n",
       "    </tr>\n",
       "    <tr>\n",
       "      <th>6</th>\n",
       "      <td>Discharged/transferred to home with home healt...</td>\n",
       "    </tr>\n",
       "    <tr>\n",
       "      <th>7</th>\n",
       "      <td>Left AMA</td>\n",
       "    </tr>\n",
       "    <tr>\n",
       "      <th>8</th>\n",
       "      <td>Discharged/transferred to home under care of H...</td>\n",
       "    </tr>\n",
       "    <tr>\n",
       "      <th>9</th>\n",
       "      <td>Admitted as an inpatient to this hospital</td>\n",
       "    </tr>\n",
       "    <tr>\n",
       "      <th>10</th>\n",
       "      <td>Neonate discharged to another hospital for neo...</td>\n",
       "    </tr>\n",
       "    <tr>\n",
       "      <th>11</th>\n",
       "      <td>Expired</td>\n",
       "    </tr>\n",
       "    <tr>\n",
       "      <th>12</th>\n",
       "      <td>Still patient or expected to return for outpat...</td>\n",
       "    </tr>\n",
       "    <tr>\n",
       "      <th>13</th>\n",
       "      <td>Hospice / home</td>\n",
       "    </tr>\n",
       "    <tr>\n",
       "      <th>14</th>\n",
       "      <td>Hospice / medical facility</td>\n",
       "    </tr>\n",
       "    <tr>\n",
       "      <th>15</th>\n",
       "      <td>Discharged/transferred within this institution...</td>\n",
       "    </tr>\n",
       "    <tr>\n",
       "      <th>16</th>\n",
       "      <td>Discharged/transferred/referred another instit...</td>\n",
       "    </tr>\n",
       "    <tr>\n",
       "      <th>17</th>\n",
       "      <td>Discharged/transferred/referred to this instit...</td>\n",
       "    </tr>\n",
       "    <tr>\n",
       "      <th>18</th>\n",
       "      <td>NaN</td>\n",
       "    </tr>\n",
       "    <tr>\n",
       "      <th>19</th>\n",
       "      <td>Expired at home. Medicaid only, hospice.</td>\n",
       "    </tr>\n",
       "    <tr>\n",
       "      <th>20</th>\n",
       "      <td>Expired in a medical facility. Medicaid only, ...</td>\n",
       "    </tr>\n",
       "    <tr>\n",
       "      <th>21</th>\n",
       "      <td>Expired, place unknown. Medicaid only, hospice.</td>\n",
       "    </tr>\n",
       "    <tr>\n",
       "      <th>22</th>\n",
       "      <td>Discharged/transferred to another rehab fac in...</td>\n",
       "    </tr>\n",
       "    <tr>\n",
       "      <th>23</th>\n",
       "      <td>Discharged/transferred to a long term care hos...</td>\n",
       "    </tr>\n",
       "    <tr>\n",
       "      <th>24</th>\n",
       "      <td>Discharged/transferred to a nursing facility c...</td>\n",
       "    </tr>\n",
       "    <tr>\n",
       "      <th>25</th>\n",
       "      <td>Not Mapped</td>\n",
       "    </tr>\n",
       "    <tr>\n",
       "      <th>26</th>\n",
       "      <td>Unknown/Invalid</td>\n",
       "    </tr>\n",
       "    <tr>\n",
       "      <th>30</th>\n",
       "      <td>Discharged/transferred to another Type of Heal...</td>\n",
       "    </tr>\n",
       "    <tr>\n",
       "      <th>27</th>\n",
       "      <td>Discharged/transferred to a federal health car...</td>\n",
       "    </tr>\n",
       "    <tr>\n",
       "      <th>28</th>\n",
       "      <td>Discharged/transferred/referred to a psychiatr...</td>\n",
       "    </tr>\n",
       "    <tr>\n",
       "      <th>29</th>\n",
       "      <td>Discharged/transferred to a Critical Access Ho...</td>\n",
       "    </tr>\n",
       "  </tbody>\n",
       "</table>\n",
       "</div>"
      ],
      "text/plain": [
       "                                                                description\n",
       "discharge_disposition_id                                                   \n",
       "1                                                        Discharged to home\n",
       "2                         Discharged/transferred to another short term h...\n",
       "3                                             Discharged/transferred to SNF\n",
       "4                                             Discharged/transferred to ICF\n",
       "5                         Discharged/transferred to another type of inpa...\n",
       "6                         Discharged/transferred to home with home healt...\n",
       "7                                                                  Left AMA\n",
       "8                         Discharged/transferred to home under care of H...\n",
       "9                                 Admitted as an inpatient to this hospital\n",
       "10                        Neonate discharged to another hospital for neo...\n",
       "11                                                                  Expired\n",
       "12                        Still patient or expected to return for outpat...\n",
       "13                                                           Hospice / home\n",
       "14                                               Hospice / medical facility\n",
       "15                        Discharged/transferred within this institution...\n",
       "16                        Discharged/transferred/referred another instit...\n",
       "17                        Discharged/transferred/referred to this instit...\n",
       "18                                                                      NaN\n",
       "19                                 Expired at home. Medicaid only, hospice.\n",
       "20                        Expired in a medical facility. Medicaid only, ...\n",
       "21                          Expired, place unknown. Medicaid only, hospice.\n",
       "22                        Discharged/transferred to another rehab fac in...\n",
       "23                        Discharged/transferred to a long term care hos...\n",
       "24                        Discharged/transferred to a nursing facility c...\n",
       "25                                                               Not Mapped\n",
       "26                                                          Unknown/Invalid\n",
       "30                        Discharged/transferred to another Type of Heal...\n",
       "27                        Discharged/transferred to a federal health car...\n",
       "28                        Discharged/transferred/referred to a psychiatr...\n",
       "29                        Discharged/transferred to a Critical Access Ho..."
      ]
     },
     "execution_count": 54,
     "metadata": {},
     "output_type": "execute_result"
    }
   ],
   "source": [
    "discharge_disposition_mapping = pd.read_csv(url, nrows=30,skiprows=10, index_col=0 )\n",
    "discharge_disposition_mapping "
   ]
  },
  {
   "cell_type": "code",
   "execution_count": 98,
   "metadata": {},
   "outputs": [
    {
     "data": {
      "text/html": [
       "<div>\n",
       "<style scoped>\n",
       "    .dataframe tbody tr th:only-of-type {\n",
       "        vertical-align: middle;\n",
       "    }\n",
       "\n",
       "    .dataframe tbody tr th {\n",
       "        vertical-align: top;\n",
       "    }\n",
       "\n",
       "    .dataframe thead th {\n",
       "        text-align: right;\n",
       "    }\n",
       "</style>\n",
       "<table border=\"1\" class=\"dataframe\">\n",
       "  <thead>\n",
       "    <tr style=\"text-align: right;\">\n",
       "      <th></th>\n",
       "      <th>description</th>\n",
       "    </tr>\n",
       "    <tr>\n",
       "      <th>admission_source_id</th>\n",
       "      <th></th>\n",
       "    </tr>\n",
       "  </thead>\n",
       "  <tbody>\n",
       "    <tr>\n",
       "      <th>1</th>\n",
       "      <td>Physician Referral</td>\n",
       "    </tr>\n",
       "    <tr>\n",
       "      <th>2</th>\n",
       "      <td>Clinic Referral</td>\n",
       "    </tr>\n",
       "    <tr>\n",
       "      <th>3</th>\n",
       "      <td>HMO Referral</td>\n",
       "    </tr>\n",
       "    <tr>\n",
       "      <th>4</th>\n",
       "      <td>Transfer from a hospital</td>\n",
       "    </tr>\n",
       "    <tr>\n",
       "      <th>5</th>\n",
       "      <td>Transfer from a Skilled Nursing Facility (SNF)</td>\n",
       "    </tr>\n",
       "    <tr>\n",
       "      <th>6</th>\n",
       "      <td>Transfer from another health care facility</td>\n",
       "    </tr>\n",
       "    <tr>\n",
       "      <th>7</th>\n",
       "      <td>Emergency Room</td>\n",
       "    </tr>\n",
       "    <tr>\n",
       "      <th>8</th>\n",
       "      <td>Court/Law Enforcement</td>\n",
       "    </tr>\n",
       "    <tr>\n",
       "      <th>9</th>\n",
       "      <td>Not Available</td>\n",
       "    </tr>\n",
       "    <tr>\n",
       "      <th>10</th>\n",
       "      <td>Transfer from critial access hospital</td>\n",
       "    </tr>\n",
       "    <tr>\n",
       "      <th>11</th>\n",
       "      <td>Normal Delivery</td>\n",
       "    </tr>\n",
       "    <tr>\n",
       "      <th>12</th>\n",
       "      <td>Premature Delivery</td>\n",
       "    </tr>\n",
       "    <tr>\n",
       "      <th>13</th>\n",
       "      <td>Sick Baby</td>\n",
       "    </tr>\n",
       "    <tr>\n",
       "      <th>14</th>\n",
       "      <td>Extramural Birth</td>\n",
       "    </tr>\n",
       "    <tr>\n",
       "      <th>15</th>\n",
       "      <td>Not Available</td>\n",
       "    </tr>\n",
       "    <tr>\n",
       "      <th>17</th>\n",
       "      <td>NaN</td>\n",
       "    </tr>\n",
       "    <tr>\n",
       "      <th>18</th>\n",
       "      <td>Transfer From Another Home Health Agency</td>\n",
       "    </tr>\n",
       "    <tr>\n",
       "      <th>19</th>\n",
       "      <td>Readmission to Same Home Health Agency</td>\n",
       "    </tr>\n",
       "    <tr>\n",
       "      <th>20</th>\n",
       "      <td>Not Mapped</td>\n",
       "    </tr>\n",
       "    <tr>\n",
       "      <th>21</th>\n",
       "      <td>Unknown/Invalid</td>\n",
       "    </tr>\n",
       "    <tr>\n",
       "      <th>22</th>\n",
       "      <td>Transfer from hospital inpt/same fac reslt in...</td>\n",
       "    </tr>\n",
       "    <tr>\n",
       "      <th>23</th>\n",
       "      <td>Born inside this hospital</td>\n",
       "    </tr>\n",
       "    <tr>\n",
       "      <th>24</th>\n",
       "      <td>Born outside this hospital</td>\n",
       "    </tr>\n",
       "    <tr>\n",
       "      <th>25</th>\n",
       "      <td>Transfer from Ambulatory Surgery Center</td>\n",
       "    </tr>\n",
       "    <tr>\n",
       "      <th>26</th>\n",
       "      <td>Transfer from Hospice</td>\n",
       "    </tr>\n",
       "  </tbody>\n",
       "</table>\n",
       "</div>"
      ],
      "text/plain": [
       "                                                           description\n",
       "admission_source_id                                                   \n",
       "1                                                   Physician Referral\n",
       "2                                                      Clinic Referral\n",
       "3                                                         HMO Referral\n",
       "4                                             Transfer from a hospital\n",
       "5                       Transfer from a Skilled Nursing Facility (SNF)\n",
       "6                           Transfer from another health care facility\n",
       "7                                                       Emergency Room\n",
       "8                                                Court/Law Enforcement\n",
       "9                                                        Not Available\n",
       "10                               Transfer from critial access hospital\n",
       "11                                                     Normal Delivery\n",
       "12                                                  Premature Delivery\n",
       "13                                                           Sick Baby\n",
       "14                                                    Extramural Birth\n",
       "15                                                       Not Available\n",
       "17                                                                 NaN\n",
       "18                            Transfer From Another Home Health Agency\n",
       "19                              Readmission to Same Home Health Agency\n",
       "20                                                          Not Mapped\n",
       "21                                                     Unknown/Invalid\n",
       "22                    Transfer from hospital inpt/same fac reslt in...\n",
       "23                                           Born inside this hospital\n",
       "24                                          Born outside this hospital\n",
       "25                             Transfer from Ambulatory Surgery Center\n",
       "26                                               Transfer from Hospice"
      ]
     },
     "execution_count": 98,
     "metadata": {},
     "output_type": "execute_result"
    }
   ],
   "source": [
    "admission_source_mapping = pd.read_csv(url,skiprows=42, index_col=0 )\n",
    "admission_source_mapping"
   ]
  },
  {
   "cell_type": "markdown",
   "metadata": {},
   "source": [
    "# Referral,Transfer,Emergency, Normal Delivery, Other Delivery, Other/NA"
   ]
  },
  {
   "cell_type": "code",
   "execution_count": 404,
   "metadata": {},
   "outputs": [
    {
     "name": "stderr",
     "output_type": "stream",
     "text": [
      "/opt/anaconda3/lib/python3.8/site-packages/IPython/core/interactiveshell.py:3146: DtypeWarning: Columns (10) have mixed types.Specify dtype option on import or set low_memory=False.\n",
      "  has_raised = await self.run_ast_nodes(code_ast.body, cell_name,\n"
     ]
    }
   ],
   "source": [
    "url = 'https://raw.githubusercontent.com/olmosjorge28/QTW-SPRING-2022/main/dataset_diabetes/diabetic_data.csv'\n",
    "df = pd.read_csv(url,na_values='?')"
   ]
  },
  {
   "cell_type": "code",
   "execution_count": 405,
   "metadata": {},
   "outputs": [
    {
     "data": {
      "text/plain": [
       "['encounter_id',\n",
       " 'patient_nbr',\n",
       " 'race',\n",
       " 'gender',\n",
       " 'age',\n",
       " 'weight',\n",
       " 'admission_type_id',\n",
       " 'discharge_disposition_id',\n",
       " 'admission_source_id',\n",
       " 'time_in_hospital',\n",
       " 'payer_code',\n",
       " 'medical_specialty',\n",
       " 'num_lab_procedures',\n",
       " 'num_procedures',\n",
       " 'num_medications',\n",
       " 'number_outpatient',\n",
       " 'number_emergency',\n",
       " 'number_inpatient',\n",
       " 'diag_1',\n",
       " 'diag_2',\n",
       " 'diag_3',\n",
       " 'number_diagnoses',\n",
       " 'max_glu_serum',\n",
       " 'A1Cresult',\n",
       " 'metformin',\n",
       " 'repaglinide',\n",
       " 'nateglinide',\n",
       " 'chlorpropamide',\n",
       " 'glimepiride',\n",
       " 'acetohexamide',\n",
       " 'glipizide',\n",
       " 'glyburide',\n",
       " 'tolbutamide',\n",
       " 'pioglitazone',\n",
       " 'rosiglitazone',\n",
       " 'acarbose',\n",
       " 'miglitol',\n",
       " 'troglitazone',\n",
       " 'tolazamide',\n",
       " 'examide',\n",
       " 'citoglipton',\n",
       " 'insulin',\n",
       " 'glyburide-metformin',\n",
       " 'glipizide-metformin',\n",
       " 'glimepiride-pioglitazone',\n",
       " 'metformin-rosiglitazone',\n",
       " 'metformin-pioglitazone',\n",
       " 'change',\n",
       " 'diabetesMed',\n",
       " 'readmitted']"
      ]
     },
     "execution_count": 405,
     "metadata": {},
     "output_type": "execute_result"
    }
   ],
   "source": [
    "df.columns.values.tolist()"
   ]
  },
  {
   "cell_type": "markdown",
   "metadata": {},
   "source": [
    "## Types of Data"
   ]
  },
  {
   "cell_type": "markdown",
   "metadata": {},
   "source": [
    "### Qualitative"
   ]
  },
  {
   "cell_type": "markdown",
   "metadata": {},
   "source": [
    "#### Nominal:"
   ]
  },
  {
   "cell_type": "markdown",
   "metadata": {},
   "source": [
    "#### Ordinal:"
   ]
  },
  {
   "cell_type": "markdown",
   "metadata": {},
   "source": [
    "### Quantitative"
   ]
  },
  {
   "cell_type": "markdown",
   "metadata": {},
   "source": [
    "#### Discrete"
   ]
  },
  {
   "cell_type": "markdown",
   "metadata": {},
   "source": [
    "#### Continous"
   ]
  },
  {
   "cell_type": "code",
   "execution_count": 78,
   "metadata": {},
   "outputs": [],
   "source": [
    "medical_specialty_groupby =df.groupby(['medical_specialty','admission_type_id']).size( )"
   ]
  },
  {
   "cell_type": "code",
   "execution_count": 82,
   "metadata": {},
   "outputs": [],
   "source": [
    "admission_type_groupby = df.groupby(['admission_type_id','medical_specialty']).size( )"
   ]
  },
  {
   "cell_type": "code",
   "execution_count": 80,
   "metadata": {},
   "outputs": [],
   "source": [
    "medical_specialty_groupby.to_csv('medical_specialty_groupby.csv')"
   ]
  },
  {
   "cell_type": "code",
   "execution_count": 83,
   "metadata": {},
   "outputs": [],
   "source": [
    "admission_type_groupby.to_csv('admission_type_groupby.csv')"
   ]
  },
  {
   "cell_type": "markdown",
   "metadata": {},
   "source": [
    "## Remap Id Mappings"
   ]
  },
  {
   "cell_type": "code",
   "execution_count": 383,
   "metadata": {},
   "outputs": [],
   "source": [
    "def remapIds(*new_mappings: tuple) -> dict:\n",
    "    mapping_dict = dict()\n",
    "    for mapping in new_mappings:\n",
    "        mapping_dict[mapping[1]] =  mapping[0].map(mapping[2])\n",
    "    return mapping_dict\n",
    "        "
   ]
  },
  {
   "cell_type": "code",
   "execution_count": 394,
   "metadata": {
    "scrolled": true
   },
   "outputs": [],
   "source": [
    "def refactorMappingIds(inputDf: pd.DataFrame) -> pd.DataFrame:\n",
    "    disharge_disposition_new_mapping = {\n",
    "        1: \"discharged\",\n",
    "        2: \"transfer\",\n",
    "        3: \"transfer\",\n",
    "        4: \"transfer\",\n",
    "        5: \"transfer\",\n",
    "        6: \"transfer\",\n",
    "        7: \"ama\",\n",
    "        8: \"tansfer\",\n",
    "        9: \"admitted\",\n",
    "        10: \"transfer\",\n",
    "        11: \"expired\",\n",
    "        12: \"admitted\",\n",
    "        13: \"hospice\",\n",
    "        14: \"hospice\",\n",
    "        15: \"transfer\",\n",
    "        16: \"transfer\",\n",
    "        17: \"transfer\",\n",
    "        18: float(\"NaN\"),\n",
    "        19: \"expired\",\n",
    "        20: \"expired\",\n",
    "        21: \"expired\",\n",
    "        22: \"transfer\",\n",
    "        23: \"transfer\",\n",
    "        24: \"transfer\",\n",
    "        25: float(\"NaN\"),\n",
    "        26: float(\"NaN\"),\n",
    "        27: \"transfer\",\n",
    "        28: \"transfer\",\n",
    "        29: \"transfer\",\n",
    "    }\n",
    "\n",
    "\n",
    "    admission_sourcing_new_mapping = {\n",
    "        1: \"referral\",\n",
    "        2: \"referral\",\n",
    "        3: \"referral\",\n",
    "        4: \"transfer\",\n",
    "        5: \"transfer\",\n",
    "        6: \"transfer\",\n",
    "        7: \"emergency\",\n",
    "        8: \"law-enforcement\",\n",
    "        9: float(\"NaN\"),\n",
    "        10: \"transfer\",\n",
    "        11: \"normal-delivery\",\n",
    "        12: \"other-delivery\",\n",
    "        13: \"other-delivery\",\n",
    "        14: \"other-delivery\",\n",
    "        15: float(\"NaN\"),\n",
    "        17: float(\"NaN\"),\n",
    "        18: \"transfer\",\n",
    "        19: \"transfer\",\n",
    "        20: float(\"NaN\"),\n",
    "        21: float(\"NaN\"),\n",
    "        22: \"transfer\",\n",
    "        23: \"normal-delivery\",\n",
    "        24: \"normal-delivery\",\n",
    "        25: \"transfer\",\n",
    "        26: \"transfer\"\n",
    "    }\n",
    "    df = inputDf.copy()\n",
    "    mapping_tuples = [\n",
    "        (df['discharge_disposition_id'],'disharge_disposition_new_mapping', disharge_disposition_new_mapping),\n",
    "        (df['admission_source_id'],'admission_source_new_mapping', admission_sourcing_new_mapping)\n",
    "    ]\n",
    "    for newMappingKey in remapIds(*mapping_tuples):\n",
    "        df[newMappingKey] = remappings[newMappingKey]\n",
    "    return df"
   ]
  },
  {
   "cell_type": "code",
   "execution_count": 395,
   "metadata": {},
   "outputs": [],
   "source": [
    "df = refactorMappingIds(df)"
   ]
  },
  {
   "cell_type": "markdown",
   "metadata": {},
   "source": [
    "## Recategorizing Diag_1, Diag_2, Diag_3"
   ]
  },
  {
   "cell_type": "code",
   "execution_count": 306,
   "metadata": {},
   "outputs": [],
   "source": [
    "def getDiagCategory(input: float) -> str:\n",
    "    val: str\n",
    "    if input < 1:\n",
    "        val = float(\"NaN\")\n",
    "    elif input < 140:\n",
    "        val = 'A'\n",
    "    elif input < 240:\n",
    "        val = 'B'\n",
    "    elif input < 280:\n",
    "        val = 'C'\n",
    "    elif input < 290:\n",
    "        val = 'D'\n",
    "    elif input < 320:\n",
    "        val = 'E'\n",
    "    elif input < 390:\n",
    "        val = 'F'\n",
    "    elif input < 460:\n",
    "        val = 'G'\n",
    "    elif input < 520:\n",
    "        val = 'H'\n",
    "    elif input < 580:\n",
    "        val = 'I'\n",
    "    elif input < 630:\n",
    "        val = 'J'\n",
    "    elif input < 680:\n",
    "        val = 'K'\n",
    "    elif input < 710:\n",
    "        val = 'L'\n",
    "    elif input < 740:\n",
    "        val = 'M'\n",
    "    elif input < 760:\n",
    "        val = 'N'\n",
    "    elif input < 780:\n",
    "        val = 'O'\n",
    "    elif input < 800:\n",
    "        val = 'P'\n",
    "    elif input < 1000:\n",
    "        val = 'Q'\n",
    "    elif input < 2000:\n",
    "        val = 'R'\n",
    "    elif input < 3000:\n",
    "        val = 'S'\n",
    "    else:\n",
    "        val = 'Z'\n",
    "    return val\n",
    "    \n",
    "\n",
    "def categorizeDiag(diag: pd.Series) -> pd.Series:\n",
    "    df = diag.copy()\n",
    "    df.fillna(0,inplace=True)\n",
    "    df.mask(df.str.startswith('V', na=False),1000, inplace=True)\n",
    "    df.mask(df.str.startswith('E', na=False),2000, inplace=True)\n",
    "    df = pd.to_numeric(df)\n",
    "    df = df.map(getDiagCategory)\n",
    "    return df\n",
    "    "
   ]
  },
  {
   "cell_type": "code",
   "execution_count": 399,
   "metadata": {},
   "outputs": [],
   "source": [
    "def recategorizeDiags(inputDf: pd.DataFrame) -> pd.DataFrame:\n",
    "    df = inputDf.copy()\n",
    "    df['diag_1_categorized'] = categorizeDiag(df['diag_1'])\n",
    "    df['diag_2_categorized'] = categorizeDiag(df['diag_2'])\n",
    "    df['diag_3_categorized'] = categorizeDiag(df['diag_3'])\n",
    "    return df\n",
    "    "
   ]
  },
  {
   "cell_type": "code",
   "execution_count": 400,
   "metadata": {},
   "outputs": [],
   "source": [
    "df = recategorizeDiags(df)"
   ]
  },
  {
   "cell_type": "markdown",
   "metadata": {},
   "source": [
    "### Inserting New Variables Addition variables"
   ]
  },
  {
   "cell_type": "code",
   "execution_count": 402,
   "metadata": {},
   "outputs": [],
   "source": [
    "def addDiag(*diags):\n",
    "    df = None\n",
    "    for diag in diags:\n",
    "        if (df is None):\n",
    "            df = diag.notna().astype(int)\n",
    "        else:\n",
    "            df = df + diag.notna().astype(int)\n",
    "    return df"
   ]
  },
  {
   "cell_type": "code",
   "execution_count": 403,
   "metadata": {},
   "outputs": [],
   "source": [
    "def recategorizeData(inputDf: pd.DataFrame) -> pd.DataFrame:\n",
    "    df = inputDf.copy()\n",
    "    df = refactorMappingIds(df)\n",
    "    df = recategorizeDiags(df)\n",
    "    df['total_diag'] = addDiag(df['diag_1'],df['diag_2'],df['diag_3'])\n",
    "    return df\n",
    "    "
   ]
  },
  {
   "cell_type": "code",
   "execution_count": 406,
   "metadata": {},
   "outputs": [],
   "source": [
    "df2 = recategorizeData(df)"
   ]
  },
  {
   "cell_type": "code",
   "execution_count": 407,
   "metadata": {},
   "outputs": [
    {
     "data": {
      "text/plain": [
       "['encounter_id',\n",
       " 'patient_nbr',\n",
       " 'race',\n",
       " 'gender',\n",
       " 'age',\n",
       " 'weight',\n",
       " 'admission_type_id',\n",
       " 'discharge_disposition_id',\n",
       " 'admission_source_id',\n",
       " 'time_in_hospital',\n",
       " 'payer_code',\n",
       " 'medical_specialty',\n",
       " 'num_lab_procedures',\n",
       " 'num_procedures',\n",
       " 'num_medications',\n",
       " 'number_outpatient',\n",
       " 'number_emergency',\n",
       " 'number_inpatient',\n",
       " 'diag_1',\n",
       " 'diag_2',\n",
       " 'diag_3',\n",
       " 'number_diagnoses',\n",
       " 'max_glu_serum',\n",
       " 'A1Cresult',\n",
       " 'metformin',\n",
       " 'repaglinide',\n",
       " 'nateglinide',\n",
       " 'chlorpropamide',\n",
       " 'glimepiride',\n",
       " 'acetohexamide',\n",
       " 'glipizide',\n",
       " 'glyburide',\n",
       " 'tolbutamide',\n",
       " 'pioglitazone',\n",
       " 'rosiglitazone',\n",
       " 'acarbose',\n",
       " 'miglitol',\n",
       " 'troglitazone',\n",
       " 'tolazamide',\n",
       " 'examide',\n",
       " 'citoglipton',\n",
       " 'insulin',\n",
       " 'glyburide-metformin',\n",
       " 'glipizide-metformin',\n",
       " 'glimepiride-pioglitazone',\n",
       " 'metformin-rosiglitazone',\n",
       " 'metformin-pioglitazone',\n",
       " 'change',\n",
       " 'diabetesMed',\n",
       " 'readmitted',\n",
       " 'disharge_disposition_new_mapping',\n",
       " 'admission_source_new_mapping',\n",
       " 'diag_1_categorized',\n",
       " 'diag_2_categorized',\n",
       " 'diag_3_categorized',\n",
       " 'total_diag']"
      ]
     },
     "execution_count": 407,
     "metadata": {},
     "output_type": "execute_result"
    }
   ],
   "source": [
    "df2.columns.values.tolist()"
   ]
  },
  {
   "cell_type": "markdown",
   "metadata": {},
   "source": [
    "## Missing Data"
   ]
  },
  {
   "cell_type": "code",
   "execution_count": 312,
   "metadata": {},
   "outputs": [
    {
     "data": {
      "text/plain": [
       "encounter_id                            0\n",
       "patient_nbr                             0\n",
       "race                                 2273\n",
       "gender                                  0\n",
       "age                                     0\n",
       "weight                              98569\n",
       "admission_type_id                       0\n",
       "discharge_disposition_id                0\n",
       "admission_source_id                     0\n",
       "time_in_hospital                        0\n",
       "payer_code                          40256\n",
       "medical_specialty                   49949\n",
       "num_lab_procedures                      0\n",
       "num_procedures                          0\n",
       "num_medications                         0\n",
       "number_outpatient                       0\n",
       "number_emergency                        0\n",
       "number_inpatient                        0\n",
       "diag_1                                 21\n",
       "diag_2                                358\n",
       "diag_3                               1423\n",
       "number_diagnoses                        0\n",
       "max_glu_serum                           0\n",
       "A1Cresult                               0\n",
       "metformin                               0\n",
       "repaglinide                             0\n",
       "nateglinide                             0\n",
       "chlorpropamide                          0\n",
       "glimepiride                             0\n",
       "acetohexamide                           0\n",
       "glipizide                               0\n",
       "glyburide                               0\n",
       "tolbutamide                             0\n",
       "pioglitazone                            0\n",
       "rosiglitazone                           0\n",
       "acarbose                                0\n",
       "miglitol                                0\n",
       "troglitazone                            0\n",
       "tolazamide                              0\n",
       "examide                                 0\n",
       "citoglipton                             0\n",
       "insulin                                 0\n",
       "glyburide-metformin                     0\n",
       "glipizide-metformin                     0\n",
       "glimepiride-pioglitazone                0\n",
       "metformin-rosiglitazone                 0\n",
       "metformin-pioglitazone                  0\n",
       "change                                  0\n",
       "diabetesMed                             0\n",
       "readmitted                              0\n",
       "disharge_disposition_new_mapping     4680\n",
       "admission_sourcing_new_mapping       7067\n",
       "diag_1_categorized                     21\n",
       "diag_2_categorized                      0\n",
       "diag_3_categorized                      0\n",
       "total_diag                              0\n",
       "dtype: int64"
      ]
     },
     "execution_count": 312,
     "metadata": {},
     "output_type": "execute_result"
    }
   ],
   "source": [
    "df.isna().sum()"
   ]
  },
  {
   "cell_type": "code",
   "execution_count": 408,
   "metadata": {},
   "outputs": [
    {
     "data": {
      "text/plain": [
       "encounter_id                            0\n",
       "patient_nbr                             0\n",
       "race                                 2273\n",
       "gender                                  0\n",
       "age                                     0\n",
       "weight                              98569\n",
       "admission_type_id                       0\n",
       "discharge_disposition_id                0\n",
       "admission_source_id                     0\n",
       "time_in_hospital                        0\n",
       "payer_code                          40256\n",
       "medical_specialty                   49949\n",
       "num_lab_procedures                      0\n",
       "num_procedures                          0\n",
       "num_medications                         0\n",
       "number_outpatient                       0\n",
       "number_emergency                        0\n",
       "number_inpatient                        0\n",
       "diag_1                                 21\n",
       "diag_2                                358\n",
       "diag_3                               1423\n",
       "number_diagnoses                        0\n",
       "max_glu_serum                           0\n",
       "A1Cresult                               0\n",
       "metformin                               0\n",
       "repaglinide                             0\n",
       "nateglinide                             0\n",
       "chlorpropamide                          0\n",
       "glimepiride                             0\n",
       "acetohexamide                           0\n",
       "glipizide                               0\n",
       "glyburide                               0\n",
       "tolbutamide                             0\n",
       "pioglitazone                            0\n",
       "rosiglitazone                           0\n",
       "acarbose                                0\n",
       "miglitol                                0\n",
       "troglitazone                            0\n",
       "tolazamide                              0\n",
       "examide                                 0\n",
       "citoglipton                             0\n",
       "insulin                                 0\n",
       "glyburide-metformin                     0\n",
       "glipizide-metformin                     0\n",
       "glimepiride-pioglitazone                0\n",
       "metformin-rosiglitazone                 0\n",
       "metformin-pioglitazone                  0\n",
       "change                                  0\n",
       "diabetesMed                             0\n",
       "readmitted                              0\n",
       "disharge_disposition_new_mapping     4680\n",
       "admission_source_new_mapping         7067\n",
       "diag_1_categorized                     21\n",
       "diag_2_categorized                    358\n",
       "diag_3_categorized                   1423\n",
       "total_diag                              0\n",
       "dtype: int64"
      ]
     },
     "execution_count": 408,
     "metadata": {},
     "output_type": "execute_result"
    }
   ],
   "source": [
    "df2.isna().sum()"
   ]
  },
  {
   "cell_type": "code",
   "execution_count": 409,
   "metadata": {},
   "outputs": [
    {
     "data": {
      "text/plain": [
       "encounter_id                         int64\n",
       "patient_nbr                          int64\n",
       "race                                object\n",
       "gender                              object\n",
       "age                                 object\n",
       "weight                              object\n",
       "admission_type_id                    int64\n",
       "discharge_disposition_id             int64\n",
       "admission_source_id                  int64\n",
       "time_in_hospital                     int64\n",
       "payer_code                          object\n",
       "medical_specialty                   object\n",
       "num_lab_procedures                   int64\n",
       "num_procedures                       int64\n",
       "num_medications                      int64\n",
       "number_outpatient                    int64\n",
       "number_emergency                     int64\n",
       "number_inpatient                     int64\n",
       "diag_1                              object\n",
       "diag_2                              object\n",
       "diag_3                              object\n",
       "number_diagnoses                     int64\n",
       "max_glu_serum                       object\n",
       "A1Cresult                           object\n",
       "metformin                           object\n",
       "repaglinide                         object\n",
       "nateglinide                         object\n",
       "chlorpropamide                      object\n",
       "glimepiride                         object\n",
       "acetohexamide                       object\n",
       "glipizide                           object\n",
       "glyburide                           object\n",
       "tolbutamide                         object\n",
       "pioglitazone                        object\n",
       "rosiglitazone                       object\n",
       "acarbose                            object\n",
       "miglitol                            object\n",
       "troglitazone                        object\n",
       "tolazamide                          object\n",
       "examide                             object\n",
       "citoglipton                         object\n",
       "insulin                             object\n",
       "glyburide-metformin                 object\n",
       "glipizide-metformin                 object\n",
       "glimepiride-pioglitazone            object\n",
       "metformin-rosiglitazone             object\n",
       "metformin-pioglitazone              object\n",
       "change                              object\n",
       "diabetesMed                         object\n",
       "readmitted                          object\n",
       "disharge_disposition_new_mapping    object\n",
       "admission_source_new_mapping        object\n",
       "diag_1_categorized                  object\n",
       "diag_2_categorized                  object\n",
       "diag_3_categorized                  object\n",
       "total_diag                           int64\n",
       "dtype: object"
      ]
     },
     "execution_count": 409,
     "metadata": {},
     "output_type": "execute_result"
    }
   ],
   "source": [
    "df2.dtypes"
   ]
  },
  {
   "cell_type": "markdown",
   "metadata": {},
   "source": [
    "## Variables Not Needed"
   ]
  },
  {
   "cell_type": "markdown",
   "metadata": {},
   "source": [
    "patient_nbr <br>\n",
    "encounter_id <br>\n",
    "examide <br>\n",
    "citoglipton <br>\n",
    "weight <br>"
   ]
  },
  {
   "cell_type": "code",
   "execution_count": 410,
   "metadata": {},
   "outputs": [],
   "source": [
    "df2 = df2.drop(['patient_nbr','encounter_id', 'examide', 'weight'], 1)"
   ]
  },
  {
   "cell_type": "markdown",
   "metadata": {},
   "source": [
    "## Variables Removed Because of Recategorization"
   ]
  },
  {
   "cell_type": "code",
   "execution_count": null,
   "metadata": {},
   "outputs": [],
   "source": [
    "discharge_disposition_id\n",
    "admission_source_id\n",
    "diag_1\n",
    "diag_2\n",
    "diag_3"
   ]
  },
  {
   "cell_type": "code",
   "execution_count": 411,
   "metadata": {},
   "outputs": [],
   "source": [
    "df2 = df2.drop(['discharge_disposition_id','admission_source_id','diag_1',\n",
    "                'diag_2','diag_3'], 1)"
   ]
  },
  {
   "cell_type": "code",
   "execution_count": 412,
   "metadata": {
    "scrolled": false
   },
   "outputs": [
    {
     "data": {
      "text/plain": [
       "['race',\n",
       " 'gender',\n",
       " 'age',\n",
       " 'admission_type_id',\n",
       " 'time_in_hospital',\n",
       " 'payer_code',\n",
       " 'medical_specialty',\n",
       " 'num_lab_procedures',\n",
       " 'num_procedures',\n",
       " 'num_medications',\n",
       " 'number_outpatient',\n",
       " 'number_emergency',\n",
       " 'number_inpatient',\n",
       " 'number_diagnoses',\n",
       " 'max_glu_serum',\n",
       " 'A1Cresult',\n",
       " 'metformin',\n",
       " 'repaglinide',\n",
       " 'nateglinide',\n",
       " 'chlorpropamide',\n",
       " 'glimepiride',\n",
       " 'acetohexamide',\n",
       " 'glipizide',\n",
       " 'glyburide',\n",
       " 'tolbutamide',\n",
       " 'pioglitazone',\n",
       " 'rosiglitazone',\n",
       " 'acarbose',\n",
       " 'miglitol',\n",
       " 'troglitazone',\n",
       " 'tolazamide',\n",
       " 'citoglipton',\n",
       " 'insulin',\n",
       " 'glyburide-metformin',\n",
       " 'glipizide-metformin',\n",
       " 'glimepiride-pioglitazone',\n",
       " 'metformin-rosiglitazone',\n",
       " 'metformin-pioglitazone',\n",
       " 'change',\n",
       " 'diabetesMed',\n",
       " 'readmitted',\n",
       " 'disharge_disposition_new_mapping',\n",
       " 'admission_source_new_mapping',\n",
       " 'diag_1_categorized',\n",
       " 'diag_2_categorized',\n",
       " 'diag_3_categorized',\n",
       " 'total_diag']"
      ]
     },
     "execution_count": 412,
     "metadata": {},
     "output_type": "execute_result"
    }
   ],
   "source": [
    "df2.columns.values.tolist()"
   ]
  },
  {
   "cell_type": "code",
   "execution_count": 413,
   "metadata": {},
   "outputs": [],
   "source": [
    "df2.to_csv('diabetic_data_recategorized.csv')"
   ]
  },
  {
   "cell_type": "markdown",
   "metadata": {},
   "source": [
    "KNN, Total Elimnation, Mode/Mean/Median"
   ]
  },
  {
   "cell_type": "markdown",
   "metadata": {},
   "source": [
    "https://www.verywellhealth.com/finding-icd-codes-2615311"
   ]
  },
  {
   "cell_type": "markdown",
   "metadata": {},
   "source": [
    "https://www.aapc.com/codes/icd9-codes-range/"
   ]
  }
 ],
 "metadata": {
  "kernelspec": {
   "display_name": "Python 3",
   "language": "python",
   "name": "python3"
  },
  "language_info": {
   "codemirror_mode": {
    "name": "ipython",
    "version": 3
   },
   "file_extension": ".py",
   "mimetype": "text/x-python",
   "name": "python",
   "nbconvert_exporter": "python",
   "pygments_lexer": "ipython3",
   "version": "3.8.5"
  }
 },
 "nbformat": 4,
 "nbformat_minor": 4
}
