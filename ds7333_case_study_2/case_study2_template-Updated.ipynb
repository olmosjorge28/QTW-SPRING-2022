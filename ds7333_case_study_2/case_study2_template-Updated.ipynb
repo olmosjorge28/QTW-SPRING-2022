{
 "cells": [
  {
   "cell_type": "markdown",
   "metadata": {
    "id": "GoCXzNvN8g-8"
   },
   "source": [
    "# Case Study 2 - Predicting Hospital Readmittance"
   ]
  },
  {
   "cell_type": "markdown",
   "metadata": {
    "id": "YBy24RcB8g-9"
   },
   "source": [
    "__Team Members:__ Amber Clark, Andrew Leppla, Jorge Olmos, Paritosh Rai"
   ]
  },
  {
   "cell_type": "markdown",
   "metadata": {
    "id": "O4O0up-U8g-9"
   },
   "source": [
    "# Content\n",
    "* [Business Understanding](#business-understanding)\n",
    "    - [Abstract](#abstract)\n",
    "    - [Introduction](#introduction)\n",
    "    - [Methods](#methods)\n",
    "    - [Results](#results)\n",
    "* [Data Evaluation](#data-evaluation)\n",
    "    - [Loading Data](#loading-data) \n",
    "    - [Data Summary](#data-summary)\n",
    "    - [Missing Values](#missing-values)\n",
    "    - [Feature Removal](#feature-removal)\n",
    "    - [Exploratory Data Analysis (EDA)](#eda)\n",
    "    - [Assumptions](#assumptions)\n",
    "* [Model Preparations](#model-preparations)\n",
    "    - [Sampling & Scaling Data](#sampling-scaling-data)\n",
    "    - [Proposed Method](#proposed-metrics)\n",
    "    - [Evaluation Metrics](#evaluation-metrics)\n",
    "    - [Feature Selection](#feature-selection)\n",
    "* [Model Building & Evaluations](#model-building)\n",
    "    - [Sampling Methodology](#sampling-methodology)\n",
    "    - [Model](#model)\n",
    "    - [Performance Analysis](#performance-analysis)\n",
    "* [Model Interpretability & Explainability](#model-explanation)\n",
    "* [Conclusion](#conclusion)\n",
    "    - [Final Model Proposal](#final-model-proposal)\n",
    "    - [Future Considerations and Model Enhancements](#model-enhancements)\n",
    "    - [Alternative Modeling Approaches](#alternative-modeling-approaches)"
   ]
  },
  {
   "cell_type": "markdown",
   "metadata": {
    "id": "TRedT-FB8g_A"
   },
   "source": [
    "# Business Understanding & Executive Summary <a id='business-understanding'/>"
   ]
  },
  {
   "cell_type": "markdown",
   "metadata": {
    "id": "_TBIHKRt8g--"
   },
   "source": [
    "### Objective<a id='scope'/>\n",
    "This case study involves analyzing a ten-year study tracking diabetic patient readmission into hospitals. The goal of the analysis is to predict when diabetic patients are likely to be readmitted to a hospital based on the available data and determine if any of the provided factors are particularly indicative of a high chance of readmission.\n",
    "\n",
    "### Introduction <a id='introduction'/>\n",
    "Diabetes is a common disease that affects the body's ability to regulate blood sugar levels naturally. According to the American Heart Association [1], there are two main types of diabetes which involve issues with insulin. This hormone regulates how cells absorb glucose from the bloodstream. Type 1 diabetes describes the chronic form that is usually identified at a young age in which the body is unable to produce sufficient insulin. Type 2 diabetes, the most common condition, can arise later in life and occurs when the body develops an \"insulin resistance\" or its insulin production begins to diminish.\n",
    "Complications involving the effects of diabetes on the heart and circulatory system can lead to dire conditions that require hospitalization. Often patients are released from the hospital but may have to be readmitted soon after with recurring issues, causing additional strain on both the patients' livelihoods and the efficiency of the hospital. \n",
    "\n",
    "The data provided for this case study is requisitioned from a ten-year study on hospital readmissions of diabetic patients. This analysis aims to predict when diabetic patients are likely to be readmitted to the hospital after a visit given the provided information and if that readmission will occur in less than 30 days. Based on a predictive model, the most influential indicators of probable readmissions can be identified so that medical professionals can make better judgments on whether a diabetic patient is ready to be released. Since diabetes is estimated to affect 463 million people worldwide [2], any improvement in this regard would have far-reaching significant benefits.\n",
    "\n",
    "### EDA <a id='eda'/>\n",
    "Two data CSV files are used for the analysis, \"diabetic_data.csv\" and \"IDs_maping.csv\". The “diabetic_data” dataset is based on the multi-year study of diabetes patients, and each row represents an individual's hospital visit. The patients' information is systematically collected from the point of entry to that of discharge. It can be broadly classified into a few categories:\n",
    "Personal information\n",
    "- The admission situations and conditions\n",
    "- The laboratory tests conducted\n",
    "- The physician's diagnosis\n",
    "- The treatments and medications\n",
    "- The discharge conditions\n",
    "\n",
    "This dataset contains 50 features and 101,766 rows, including the response variable readmission information. In the diabetic_data file, the team identified trends and missing data. Following are a few observations:\n",
    "- <b>The response variable is unbalanced with a 89:11 split between \"not readmitted within 30 days\" vs. \"readmitted within 30 days\".</b>  This imbalance will be addressed throughout this case study.  \n",
    "- The imbalance was observed to be very similar in the male and female samples.\n",
    "- Pair plots of continuous variables did not show any obvious correlations or outliers among continuous variables, but they were right-skewed, zero-inflated, and/or discrete.  See the full EDA section below.  Team decided to proceed without transformation or recoding.  \n",
    "\n",
    "The race variable was identified as a potential ethical concern and a sensitive discussion topic. Hospitals are typically required by state law to collect demographic information like race and ethnicity. and the 1964 Civil Rights Act allows hospitals to collect this data to ensure no discrimination in care. However, including race could result in a model that reinforces negative racial biases in healthcare.   \n",
    "- Data showed more samples for the Caucasian race vs. other races. However, the ratio of the patient taking diabetic medication vs. total patients within the race is very similar (range from 74% to 80%). \n",
    "\n",
    "The team looked at data in the \"ID_mapping.csv\" file. This file contains the IDs for multiple categorical variables and a brief description of each.  This is explored further in Missing Values.   \n",
    "\n",
    "### Methods <a id='methods'/>\n",
    "The objective of our analysis is to classify diabetes patients who have the highest risk of being re-admitted to the hospital within 30 days using logistic regression modeling. L2 (Ridge) regularization was used to prevent overfitting without reducing model performance.  The team observed that L2 is faster and more efficient to run than L1 with this dataset which had a large number of dummy-coded variables.\n",
    "\n",
    "The metrics used to evaluate model performance were precision and recall.  Precision and recall are useful metrics when the classes are imbalanced like in this dataset.  These metrics are defined as follows:    \n",
    "- Recall = TP/(TP+FN)\n",
    "- Precision = TP/(TP+FP)\n",
    "\n",
    "Where:\n",
    "- True Positive (TP) is \"patients correctly predicted to be readmitted within 30 days\".  These predictions would help keep a patient in the hospital longer for observation rather than discharging them, because they would be at risk to be readmitted within 30 days.   \n",
    "- False Negative (FN) is \"patients <b>in</b>correctly predicted to <b>not</b> be readmitted within 30 days\".  These predictions would likely discharge a patient too soon, resulting in readmittance within 30 days.  \n",
    "- False Positive (FP) is \"patients <b>in</b>correctly predicted to be readmitted within 30 days\".  These predictions would likely keep people in the hospital that don't need to be there and are at low risk for readmittance within 30 days.  \n",
    "\n",
    "Both Recall and Precision focus the modeling on True Positives, but Recall is penalized by False Negatives whereas Precision is penalized by False Positives.  A scatterplot of Precision vs. Recall (a PR Curve) can be used to tune the False Negatives vs. False Positive for any given model. \n",
    "\n",
    "In the best interest of the patient, the model would maximize Recall such that hospital readmission is prevented at all costs. However, the resulting lower precision (higher false positive rate) would be costly.  It could lead to a shortage of beds or staff in the hospital, keeping more patients that are fine and that wouldn't be readmitted if dishcarged.  To balance both precision and recall, the team used the F1 score.  The F1 score combines precision and recall into a single metric by taking their harmonic mean:\n",
    "\n",
    "F1 = 2 * Recall * Precision / (Recall + Precision)   \n",
    "\n",
    "By maximizing the F1 score, the model balances both recall and precision for the positive class.   \n",
    "\n",
    "### Train and Test Data Split <a id='Train and Test Data Split'/>\n",
    "The response variable is unbalanced with 11% of patients readmitted within 30 days and 89% not readmitted within 30 days. Stratified data splitting was used to ensure that these two clases are evenly split between the training and test sets.  A 70/30 split was used between the training and test sets.  Stratified data splitting  Dataset was split in training and test set before imputation. The continuous variables were scaled to ensure high magnitude variables were not influencing the outcome more than low magnitude variables.  \n",
    "\n",
    "## Missing Values <a id='missing-values'>\n",
    "No missing values were observed in any continuous features or the response variable. Missing values, entered as \"??\", were observed in several categorial features (see table below).  Missing values were also observed in the ID_Mapping level descriptions entered as NULL, Not Available, unknown/Invalid, and Not Mapped. NaN replaced all of these missing values in both the diabetic_data and ID_Mapping datasets, and then they were merged for analysis.        \n",
    "    \n",
    "The team investigated whether these missing values had any internal correlation or dependency. ***A heatmap did not show any obvious overlap or correlation with the missing values.***\n",
    "    \n",
    "The diagnosis codes in columns diag_1, diag_2, and diag_3 reference Internation Classification of Diseases (ICD) codes. The data hierarchy of these codes was used to reduce the number of category levels from 700-800 each to just 19 each.  This significantly reduced the number of dummy variables and made imputation much simpler.  See the Remapping Data code below for more details.    \n",
    "https://www.aapc.com/codes/icd9-codes-range/\n",
    "    \n",
    "Following are the variables with missing values and the methodology the team used to mitigate the missing values:\n",
    "\n",
    "| Missing Variable                 | # of missing values | Mitigation Methodology                                     |\n",
    "|----------------------------------|---------------------|------------------------------------------------------------|\n",
    "| weight                           | 98,569              | ~97% of data was missing so variable was dropped.          |\n",
    "| race                             | 2,273               | Impute by Mode                                             |\n",
    "| payer_code                       | 40,256              | Impute by Mode                                             |\n",
    "| medical Specialty                | 49,949              | Group by admission_type_id_new_mapping then Impute by Mode |\n",
    "| disharge_disposition_new_mapping | 4,680               | Impute by Mode                                             |\n",
    "| admission_source_new_mapping     | 7,067               | Impute by Mode                                             |\n",
    "| diag_1                           | 21                  | Recategorize and Impute by Mode                            |\n",
    "| diag_2                           | 358                 | Recategorize and Impute by Mode                            |\n",
    "| diag_3                           | 2,423               | Recategorize and Impute by Mode                            |\n",
    "\n",
    "The team decided to fill the missing values of race by the mode, Caucasian. The occurrence of missing information for race is relatively low, so there shouldn't be much concern for inadvertently creating any artificial trends in the model.  Refer to the EDA section above for more information on this.  \n",
    "\n",
    "KNN Imputation Methodology:  Team also looked at KNN imputation to address missing values as there was no perfect correlation observed among missing variables. The team found that KNNImputer in sklearn only had Euclidian distance available which is not appropriate for the number of categorical variables in the dataset. The team decided to drop the KNN imputation and follow the imputation approach listed above.\n",
    " \n",
    "### Other Data Cleanup <a id='Other Data Cleanup'/>\n",
    "The team reviewed the data in detail after addressing the missing values. Features that are not meaningful such as encounter_id, patient_nbr, examide, and citoglipton are removed from the analysis. encounter_id and patient_nbr are row id codes and will not add value to the model. examide and citoglipton variables have all zeros. \n",
    " \n",
    "Additionally, we removed rows with a discharge_disposition_id = \"expired\", which indicated the patient has diseased, thus they cannot be readmitted.  The team assumes the end users don't need a model to correctly predict this outcome. \n",
    "\n",
    "|disharge_disposition|readmit|count\n",
    "|----|----|----|\n",
    "|expired|False|1652|\n",
    "|expired|True|0|\n",
    "\n",
    "\n",
    "### Logistic Regression Modeling <a id='Logistic Regression Modeling'/>\n",
    "Logistic regression is a classification algorithm. It is used to predict a binary outcome based on the set of independent variables. Logistic regression is used for the analysis when working with the binary target variable, i.e., dichotomous, or categorical in nature; in other words, if it fits into one of two categories (such as “yes” or “no”, “pass” or “fail”, 0 or 1). The response variable used for this analysis also has dichotomous data, so the team decided to use Logistic Regression to analyze the diabatic data.\n",
    "    \n",
    "Logistic Regression models were built using L2 (Ridge) regularization and weighting the log loss function by the target class (class_weight = \"balanced\").  The team used this weighting option to deal with the imbalance of the target class variable. This option balanced how the model predicted probabilities for the negative and positive classes such that the default threshold of 0.5 would predict more of the positive class.  Using this approach, the F1 score was maximized by tuning the regularization penalty (C) and the threshold.   \n",
    "\n",
    "Baseline Model:\n",
    "There were no missing values in the 8 continuous variables, so the team built the baseline model using continuous variables only with Logistic Regression.  The team utilized this base model to see how the data looked without dummy coding or imputation, as well as assessing the value of adding multi-level categorical variables with more complex models.\n",
    "\n",
    "Final Model:\n",
    "The final Logistic Regression model was made using all of the variables. This dataset was built after recoding the categorical values and imputing any missing data.  \n",
    "    \n",
    "### Results <a id='results'/>\n",
    "\n",
    "The baseline model had the following metrics:\n",
    "\n",
    "| Group    | Precision | Recall | f1-score | accuracy |\n",
    "|----------|-----------|--------|----------|----------|\n",
    "| Training | 0.19      | 0.39   | 0.26     | 0.74     |\n",
    "| Test     | 0.19      | 0.38   | 0.25     | 0.74     |\n",
    "\n",
    "The baseline model performance was consistent between the training and test sets.  \n",
    "\n",
    "The baseline model had a <b>recall of 38-39%</b> and precision of 18% (f1-score = 25-26%).      \n",
    "\n",
    "<br>  \n",
    "\n",
    "The final model had the following metrics:\n",
    "\n",
    "| Group    | Precision | Recall | f1-score | accuracy |\n",
    "|----------|-----------|--------|----------|----------|\n",
    "| Test     | 0.18      | 0.48   |  0.27    | 0.71     |\n",
    "| Training | 0.18      | 0.47   |  0.26    | 0.70     |\n",
    "\n",
    "The final model performance was consistent between the training and test sets.  \n",
    "\n",
    "The final model had a <b>recall of 47-48%</b> and precision of 18% (f1-score = 26-27%).  This was a 10% incremental improvement in the recall (and a 3-4% drop in accuracy).  The final model accurately predicts approximately 1 in 2 patients that will be readmitted within 30 days.  \n",
    "    \n",
    "### Model Interpretation \n",
    "    \n",
    "The three most important factors in the final model were all negatively correlated with readmittance within 30 days:\n",
    "- Otolaryngology (a.k.a. Ears, Nose, and Throat)\n",
    "- Gynecology\n",
    "- Diagnoses for \"Complications in Child Birth\" (K)   \n",
    "\n",
    "The three most important factors in the final model that were positively correlated with readmittance within 30 days:\n",
    "- Allergy and Immunology\n",
    "- Hematology\n",
    "- Discharge Disposition = \"Admitted\"   \n",
    "\n",
    "Race was not in the top 15 most important factors and could likely be removed from the model if needed.    \n",
    "    \n",
    "Input from domain knowledge experts is needed to asses why these variables were the most important and negatively correlated with the response.  \n",
    "\n",
    "Variables were assessed for importance after centering and scaling continuous variables and one-hot-encoding categorical variables such that they all range from 0 to 1.  Using this approach, all of the variables are on equivalent scales and their importance can be directly assessed by their model coefficients.  The 15 most important features are presented in the bar plot below.       \n",
    "\n",
    "<img src=\"plots/final_model_factor_barplot.png\" width=400 height=400 />    \n",
    "\n",
    "## Conclusion\n",
    "    \n",
    "We are proposing a classification model that predicts readmittance to the hospital within 30 days with a 25% F1 score (47% Recall and 18% Precision).  This model maximizes the F1 score which maximizes both Recall and Precision in a balanced way such that both patients and hospitals can manage their risk effectively.    \n",
    "\n",
    "The model helps identify patients at high risk of readmission within 30 days and patients with a low risk of readmission that can be discharged.  Our model identifies top risk factors for readmittance within 30 days which the hospital staff can use as focus areas when deciding to keep or discharge a patient.  This model is not perfect and should be used as a guide rather than gospel.  Additional feature engineering and domain knowledge experts are needed to guide model improvements.        \n",
    "\n",
    "### Future Considerations\n",
    "    \n",
    "The data were aggregated from multiple hospitals and may not be generalizable across health care systems, geography, etc. Hospitals may want to develop models with their own data or regional data to guide their staff on discharge decisions.  \n",
    "\n",
    "Need a conversation with stakeholders and domain experts regarding:\n",
    "- Balance of precision vs. recall.  What is the cost of a false positive vs. a false negative?  \n",
    "- Level of detail with diagnoses columns (diag 1-3).  We generalized these diagnoses such that there were fewer levels to model.  We recommend reviewing the top factor recoded diagnoses categories to see if any warrant a deeper dive\n",
    "    \n",
    "### Other Models\n",
    "\n",
    "Other classification modeling techniques - Naive Bayes, Random Forest, Boosted Decision Trees\n",
    "    \n",
    "### References <a id='References'/>\n",
    "[1] American Heart Association. What is Diabetes? https://www.heart.org/en/health-topics/diabetes/about-diabetes\n",
    "[2] \"IDF DIABETES ATLAS Ninth Edition 2019\" (PDF). www.diabetesatlas.org. Retrieved 18 May 2020.\n",
    "[3] What is Logistic Regression? A Beginner's Guide [2022] (careerfoundry.com)"
   ]
  },
  {
   "cell_type": "markdown",
   "metadata": {
    "id": "PVtcYu5j8g_B"
   },
   "source": [
    "# Data Evaluation <a id='data-evaluation'>\n",
    "    "
   ]
  },
  {
   "cell_type": "markdown",
   "metadata": {
    "id": "ox-qLqjc8g_B"
   },
   "source": []
  },
  {
   "cell_type": "code",
   "execution_count": 1,
   "metadata": {
    "colab": {
     "base_uri": "https://localhost:8080/",
     "height": 54
    },
    "id": "qcBcP8Jy8g_C",
    "outputId": "7ad0463a-4509-4001-c026-6deeb94cedfa"
   },
   "outputs": [],
   "source": [
    "# standard libraries\n",
    "import pandas as pd\n",
    "import numpy as np\n",
    "import os\n",
    "from IPython.display import Image\n",
    "\n",
    "# visualization\n",
    "import seaborn as sns\n",
    "import matplotlib.pyplot as plt\n",
    "from matplotlib import pyplot\n",
    "%matplotlib inline\n",
    "from tabulate import tabulate\n",
    "\n",
    "# data pre-processing\n",
    "from sklearn.preprocessing import StandardScaler\n",
    "from sklearn.preprocessing import OneHotEncoder\n",
    "from sklearn.model_selection import train_test_split\n",
    "from sklearn.model_selection import StratifiedShuffleSplit\n",
    "from sklearn.model_selection import StratifiedKFold\n",
    "#from sklearn.model_selection import StratifiedGroupKFold\n",
    "from sklearn.impute import SimpleImputer\n",
    "\n",
    "# prediction models\n",
    "from sklearn.model_selection import cross_validate\n",
    "from sklearn.linear_model import LogisticRegression\n",
    "from sklearn.linear_model import LogisticRegressionCV\n",
    "#from kneed import KneeLocator\n",
    "from scipy import stats\n",
    "\n",
    "# metrics\n",
    "from sklearn.metrics import confusion_matrix\n",
    "from sklearn.metrics import accuracy_score\n",
    "from sklearn.metrics import classification_report\n",
    "from sklearn.metrics import roc_curve\n",
    "from sklearn.metrics import roc_auc_score\n",
    "from sklearn.metrics import plot_roc_curve\n",
    "from sklearn.metrics import precision_recall_curve as pr_curve\n",
    "from sklearn.metrics import plot_precision_recall_curve as plot_pr_curve\n",
    "from sklearn.metrics import auc\n",
    "\n",
    "# import warnings filter\n",
    "import warnings\n",
    "warnings.filterwarnings('ignore')\n",
    "from warnings import simplefilter \n",
    "simplefilter(action='ignore', category=FutureWarning)"
   ]
  },
  {
   "cell_type": "markdown",
   "metadata": {
    "id": "4WcvKI3y8g_C"
   },
   "source": [
    "## Loading Data <a id='loading-data'>"
   ]
  },
  {
   "cell_type": "markdown",
   "metadata": {},
   "source": [
    "### Id Mappings"
   ]
  },
  {
   "cell_type": "markdown",
   "metadata": {},
   "source": [
    "#### Admission Type"
   ]
  },
  {
   "cell_type": "code",
   "execution_count": 2,
   "metadata": {
    "colab": {
     "base_uri": "https://localhost:8080/"
    },
    "id": "8uba25F1mky1",
    "outputId": "552edead-7975-4715-eebf-99871c112498"
   },
   "outputs": [
    {
     "data": {
      "text/html": [
       "<div>\n",
       "<style scoped>\n",
       "    .dataframe tbody tr th:only-of-type {\n",
       "        vertical-align: middle;\n",
       "    }\n",
       "\n",
       "    .dataframe tbody tr th {\n",
       "        vertical-align: top;\n",
       "    }\n",
       "\n",
       "    .dataframe thead th {\n",
       "        text-align: right;\n",
       "    }\n",
       "</style>\n",
       "<table border=\"1\" class=\"dataframe\">\n",
       "  <thead>\n",
       "    <tr style=\"text-align: right;\">\n",
       "      <th></th>\n",
       "      <th>description</th>\n",
       "    </tr>\n",
       "    <tr>\n",
       "      <th>admission_type_id</th>\n",
       "      <th></th>\n",
       "    </tr>\n",
       "  </thead>\n",
       "  <tbody>\n",
       "    <tr>\n",
       "      <th>1</th>\n",
       "      <td>Emergency</td>\n",
       "    </tr>\n",
       "    <tr>\n",
       "      <th>2</th>\n",
       "      <td>Urgent</td>\n",
       "    </tr>\n",
       "    <tr>\n",
       "      <th>3</th>\n",
       "      <td>Elective</td>\n",
       "    </tr>\n",
       "    <tr>\n",
       "      <th>4</th>\n",
       "      <td>Newborn</td>\n",
       "    </tr>\n",
       "    <tr>\n",
       "      <th>5</th>\n",
       "      <td>Not Available</td>\n",
       "    </tr>\n",
       "    <tr>\n",
       "      <th>6</th>\n",
       "      <td>NaN</td>\n",
       "    </tr>\n",
       "    <tr>\n",
       "      <th>7</th>\n",
       "      <td>Trauma Center</td>\n",
       "    </tr>\n",
       "    <tr>\n",
       "      <th>8</th>\n",
       "      <td>Not Mapped</td>\n",
       "    </tr>\n",
       "  </tbody>\n",
       "</table>\n",
       "</div>"
      ],
      "text/plain": [
       "                     description\n",
       "admission_type_id               \n",
       "1                      Emergency\n",
       "2                         Urgent\n",
       "3                       Elective\n",
       "4                        Newborn\n",
       "5                  Not Available\n",
       "6                            NaN\n",
       "7                  Trauma Center\n",
       "8                     Not Mapped"
      ]
     },
     "execution_count": 2,
     "metadata": {},
     "output_type": "execute_result"
    }
   ],
   "source": [
    "url = 'https://raw.githubusercontent.com/olmosjorge28/QTW-SPRING-2022/main/dataset_diabetes/IDs_mapping.csv'\n",
    "admission_type_mapping = pd.read_csv(url, nrows=8, index_col=0)\n",
    "admission_type_mapping"
   ]
  },
  {
   "cell_type": "markdown",
   "metadata": {},
   "source": [
    "#### Discharge Disposition"
   ]
  },
  {
   "cell_type": "code",
   "execution_count": 3,
   "metadata": {
    "colab": {
     "base_uri": "https://localhost:8080/"
    },
    "id": "9CwenGuumtPt",
    "outputId": "3bc84c05-ac6e-4b0a-8550-680256288936"
   },
   "outputs": [
    {
     "data": {
      "text/html": [
       "<div>\n",
       "<style scoped>\n",
       "    .dataframe tbody tr th:only-of-type {\n",
       "        vertical-align: middle;\n",
       "    }\n",
       "\n",
       "    .dataframe tbody tr th {\n",
       "        vertical-align: top;\n",
       "    }\n",
       "\n",
       "    .dataframe thead th {\n",
       "        text-align: right;\n",
       "    }\n",
       "</style>\n",
       "<table border=\"1\" class=\"dataframe\">\n",
       "  <thead>\n",
       "    <tr style=\"text-align: right;\">\n",
       "      <th></th>\n",
       "      <th>description</th>\n",
       "    </tr>\n",
       "    <tr>\n",
       "      <th>discharge_disposition_id</th>\n",
       "      <th></th>\n",
       "    </tr>\n",
       "  </thead>\n",
       "  <tbody>\n",
       "    <tr>\n",
       "      <th>1</th>\n",
       "      <td>Discharged to home</td>\n",
       "    </tr>\n",
       "    <tr>\n",
       "      <th>2</th>\n",
       "      <td>Discharged/transferred to another short term h...</td>\n",
       "    </tr>\n",
       "    <tr>\n",
       "      <th>3</th>\n",
       "      <td>Discharged/transferred to SNF</td>\n",
       "    </tr>\n",
       "    <tr>\n",
       "      <th>4</th>\n",
       "      <td>Discharged/transferred to ICF</td>\n",
       "    </tr>\n",
       "    <tr>\n",
       "      <th>5</th>\n",
       "      <td>Discharged/transferred to another type of inpa...</td>\n",
       "    </tr>\n",
       "    <tr>\n",
       "      <th>6</th>\n",
       "      <td>Discharged/transferred to home with home healt...</td>\n",
       "    </tr>\n",
       "    <tr>\n",
       "      <th>7</th>\n",
       "      <td>Left AMA</td>\n",
       "    </tr>\n",
       "    <tr>\n",
       "      <th>8</th>\n",
       "      <td>Discharged/transferred to home under care of H...</td>\n",
       "    </tr>\n",
       "    <tr>\n",
       "      <th>9</th>\n",
       "      <td>Admitted as an inpatient to this hospital</td>\n",
       "    </tr>\n",
       "    <tr>\n",
       "      <th>10</th>\n",
       "      <td>Neonate discharged to another hospital for neo...</td>\n",
       "    </tr>\n",
       "    <tr>\n",
       "      <th>11</th>\n",
       "      <td>Expired</td>\n",
       "    </tr>\n",
       "    <tr>\n",
       "      <th>12</th>\n",
       "      <td>Still patient or expected to return for outpat...</td>\n",
       "    </tr>\n",
       "    <tr>\n",
       "      <th>13</th>\n",
       "      <td>Hospice / home</td>\n",
       "    </tr>\n",
       "    <tr>\n",
       "      <th>14</th>\n",
       "      <td>Hospice / medical facility</td>\n",
       "    </tr>\n",
       "    <tr>\n",
       "      <th>15</th>\n",
       "      <td>Discharged/transferred within this institution...</td>\n",
       "    </tr>\n",
       "    <tr>\n",
       "      <th>16</th>\n",
       "      <td>Discharged/transferred/referred another instit...</td>\n",
       "    </tr>\n",
       "    <tr>\n",
       "      <th>17</th>\n",
       "      <td>Discharged/transferred/referred to this instit...</td>\n",
       "    </tr>\n",
       "    <tr>\n",
       "      <th>18</th>\n",
       "      <td>NaN</td>\n",
       "    </tr>\n",
       "    <tr>\n",
       "      <th>19</th>\n",
       "      <td>Expired at home. Medicaid only, hospice.</td>\n",
       "    </tr>\n",
       "    <tr>\n",
       "      <th>20</th>\n",
       "      <td>Expired in a medical facility. Medicaid only, ...</td>\n",
       "    </tr>\n",
       "    <tr>\n",
       "      <th>21</th>\n",
       "      <td>Expired, place unknown. Medicaid only, hospice.</td>\n",
       "    </tr>\n",
       "    <tr>\n",
       "      <th>22</th>\n",
       "      <td>Discharged/transferred to another rehab fac in...</td>\n",
       "    </tr>\n",
       "    <tr>\n",
       "      <th>23</th>\n",
       "      <td>Discharged/transferred to a long term care hos...</td>\n",
       "    </tr>\n",
       "    <tr>\n",
       "      <th>24</th>\n",
       "      <td>Discharged/transferred to a nursing facility c...</td>\n",
       "    </tr>\n",
       "    <tr>\n",
       "      <th>25</th>\n",
       "      <td>Not Mapped</td>\n",
       "    </tr>\n",
       "    <tr>\n",
       "      <th>26</th>\n",
       "      <td>Unknown/Invalid</td>\n",
       "    </tr>\n",
       "    <tr>\n",
       "      <th>30</th>\n",
       "      <td>Discharged/transferred to another Type of Heal...</td>\n",
       "    </tr>\n",
       "    <tr>\n",
       "      <th>27</th>\n",
       "      <td>Discharged/transferred to a federal health car...</td>\n",
       "    </tr>\n",
       "    <tr>\n",
       "      <th>28</th>\n",
       "      <td>Discharged/transferred/referred to a psychiatr...</td>\n",
       "    </tr>\n",
       "    <tr>\n",
       "      <th>29</th>\n",
       "      <td>Discharged/transferred to a Critical Access Ho...</td>\n",
       "    </tr>\n",
       "  </tbody>\n",
       "</table>\n",
       "</div>"
      ],
      "text/plain": [
       "                                                                description\n",
       "discharge_disposition_id                                                   \n",
       "1                                                        Discharged to home\n",
       "2                         Discharged/transferred to another short term h...\n",
       "3                                             Discharged/transferred to SNF\n",
       "4                                             Discharged/transferred to ICF\n",
       "5                         Discharged/transferred to another type of inpa...\n",
       "6                         Discharged/transferred to home with home healt...\n",
       "7                                                                  Left AMA\n",
       "8                         Discharged/transferred to home under care of H...\n",
       "9                                 Admitted as an inpatient to this hospital\n",
       "10                        Neonate discharged to another hospital for neo...\n",
       "11                                                                  Expired\n",
       "12                        Still patient or expected to return for outpat...\n",
       "13                                                           Hospice / home\n",
       "14                                               Hospice / medical facility\n",
       "15                        Discharged/transferred within this institution...\n",
       "16                        Discharged/transferred/referred another instit...\n",
       "17                        Discharged/transferred/referred to this instit...\n",
       "18                                                                      NaN\n",
       "19                                 Expired at home. Medicaid only, hospice.\n",
       "20                        Expired in a medical facility. Medicaid only, ...\n",
       "21                          Expired, place unknown. Medicaid only, hospice.\n",
       "22                        Discharged/transferred to another rehab fac in...\n",
       "23                        Discharged/transferred to a long term care hos...\n",
       "24                        Discharged/transferred to a nursing facility c...\n",
       "25                                                               Not Mapped\n",
       "26                                                          Unknown/Invalid\n",
       "30                        Discharged/transferred to another Type of Heal...\n",
       "27                        Discharged/transferred to a federal health car...\n",
       "28                        Discharged/transferred/referred to a psychiatr...\n",
       "29                        Discharged/transferred to a Critical Access Ho..."
      ]
     },
     "execution_count": 3,
     "metadata": {},
     "output_type": "execute_result"
    }
   ],
   "source": [
    "discharge_disposition_mapping = pd.read_csv(url, nrows=30,skiprows=10, index_col=0 )\n",
    "discharge_disposition_mapping "
   ]
  },
  {
   "cell_type": "markdown",
   "metadata": {},
   "source": [
    "#### Admission Source Mapping"
   ]
  },
  {
   "cell_type": "code",
   "execution_count": 4,
   "metadata": {},
   "outputs": [
    {
     "data": {
      "text/html": [
       "<div>\n",
       "<style scoped>\n",
       "    .dataframe tbody tr th:only-of-type {\n",
       "        vertical-align: middle;\n",
       "    }\n",
       "\n",
       "    .dataframe tbody tr th {\n",
       "        vertical-align: top;\n",
       "    }\n",
       "\n",
       "    .dataframe thead th {\n",
       "        text-align: right;\n",
       "    }\n",
       "</style>\n",
       "<table border=\"1\" class=\"dataframe\">\n",
       "  <thead>\n",
       "    <tr style=\"text-align: right;\">\n",
       "      <th></th>\n",
       "      <th>description</th>\n",
       "    </tr>\n",
       "    <tr>\n",
       "      <th>admission_source_id</th>\n",
       "      <th></th>\n",
       "    </tr>\n",
       "  </thead>\n",
       "  <tbody>\n",
       "    <tr>\n",
       "      <th>1</th>\n",
       "      <td>Physician Referral</td>\n",
       "    </tr>\n",
       "    <tr>\n",
       "      <th>2</th>\n",
       "      <td>Clinic Referral</td>\n",
       "    </tr>\n",
       "    <tr>\n",
       "      <th>3</th>\n",
       "      <td>HMO Referral</td>\n",
       "    </tr>\n",
       "    <tr>\n",
       "      <th>4</th>\n",
       "      <td>Transfer from a hospital</td>\n",
       "    </tr>\n",
       "    <tr>\n",
       "      <th>5</th>\n",
       "      <td>Transfer from a Skilled Nursing Facility (SNF)</td>\n",
       "    </tr>\n",
       "    <tr>\n",
       "      <th>6</th>\n",
       "      <td>Transfer from another health care facility</td>\n",
       "    </tr>\n",
       "    <tr>\n",
       "      <th>7</th>\n",
       "      <td>Emergency Room</td>\n",
       "    </tr>\n",
       "    <tr>\n",
       "      <th>8</th>\n",
       "      <td>Court/Law Enforcement</td>\n",
       "    </tr>\n",
       "    <tr>\n",
       "      <th>9</th>\n",
       "      <td>Not Available</td>\n",
       "    </tr>\n",
       "    <tr>\n",
       "      <th>10</th>\n",
       "      <td>Transfer from critial access hospital</td>\n",
       "    </tr>\n",
       "    <tr>\n",
       "      <th>11</th>\n",
       "      <td>Normal Delivery</td>\n",
       "    </tr>\n",
       "    <tr>\n",
       "      <th>12</th>\n",
       "      <td>Premature Delivery</td>\n",
       "    </tr>\n",
       "    <tr>\n",
       "      <th>13</th>\n",
       "      <td>Sick Baby</td>\n",
       "    </tr>\n",
       "    <tr>\n",
       "      <th>14</th>\n",
       "      <td>Extramural Birth</td>\n",
       "    </tr>\n",
       "    <tr>\n",
       "      <th>15</th>\n",
       "      <td>Not Available</td>\n",
       "    </tr>\n",
       "    <tr>\n",
       "      <th>17</th>\n",
       "      <td>NaN</td>\n",
       "    </tr>\n",
       "    <tr>\n",
       "      <th>18</th>\n",
       "      <td>Transfer From Another Home Health Agency</td>\n",
       "    </tr>\n",
       "    <tr>\n",
       "      <th>19</th>\n",
       "      <td>Readmission to Same Home Health Agency</td>\n",
       "    </tr>\n",
       "    <tr>\n",
       "      <th>20</th>\n",
       "      <td>Not Mapped</td>\n",
       "    </tr>\n",
       "    <tr>\n",
       "      <th>21</th>\n",
       "      <td>Unknown/Invalid</td>\n",
       "    </tr>\n",
       "    <tr>\n",
       "      <th>22</th>\n",
       "      <td>Transfer from hospital inpt/same fac reslt in...</td>\n",
       "    </tr>\n",
       "    <tr>\n",
       "      <th>23</th>\n",
       "      <td>Born inside this hospital</td>\n",
       "    </tr>\n",
       "    <tr>\n",
       "      <th>24</th>\n",
       "      <td>Born outside this hospital</td>\n",
       "    </tr>\n",
       "    <tr>\n",
       "      <th>25</th>\n",
       "      <td>Transfer from Ambulatory Surgery Center</td>\n",
       "    </tr>\n",
       "    <tr>\n",
       "      <th>26</th>\n",
       "      <td>Transfer from Hospice</td>\n",
       "    </tr>\n",
       "  </tbody>\n",
       "</table>\n",
       "</div>"
      ],
      "text/plain": [
       "                                                           description\n",
       "admission_source_id                                                   \n",
       "1                                                   Physician Referral\n",
       "2                                                      Clinic Referral\n",
       "3                                                         HMO Referral\n",
       "4                                             Transfer from a hospital\n",
       "5                       Transfer from a Skilled Nursing Facility (SNF)\n",
       "6                           Transfer from another health care facility\n",
       "7                                                       Emergency Room\n",
       "8                                                Court/Law Enforcement\n",
       "9                                                        Not Available\n",
       "10                               Transfer from critial access hospital\n",
       "11                                                     Normal Delivery\n",
       "12                                                  Premature Delivery\n",
       "13                                                           Sick Baby\n",
       "14                                                    Extramural Birth\n",
       "15                                                       Not Available\n",
       "17                                                                 NaN\n",
       "18                            Transfer From Another Home Health Agency\n",
       "19                              Readmission to Same Home Health Agency\n",
       "20                                                          Not Mapped\n",
       "21                                                     Unknown/Invalid\n",
       "22                    Transfer from hospital inpt/same fac reslt in...\n",
       "23                                           Born inside this hospital\n",
       "24                                          Born outside this hospital\n",
       "25                             Transfer from Ambulatory Surgery Center\n",
       "26                                               Transfer from Hospice"
      ]
     },
     "execution_count": 4,
     "metadata": {},
     "output_type": "execute_result"
    }
   ],
   "source": [
    "admission_source_mapping = pd.read_csv(url,skiprows=42, index_col=0 )\n",
    "admission_source_mapping"
   ]
  },
  {
   "cell_type": "markdown",
   "metadata": {
    "colab": {
     "base_uri": "https://localhost:8080/",
     "height": 511
    },
    "id": "3dYvb9W38g_D",
    "outputId": "15312ef9-bc72-43a4-863b-1c055d6ee5e8"
   },
   "source": [
    "## Diabetes Dataset"
   ]
  },
  {
   "cell_type": "code",
   "execution_count": 5,
   "metadata": {
    "id": "FjHxbt_H8g_E"
   },
   "outputs": [],
   "source": [
    "url = 'https://raw.githubusercontent.com/olmosjorge28/QTW-SPRING-2022/main/dataset_diabetes/diabetic_data.csv'\n",
    "df = pd.read_csv(url,na_values='?');"
   ]
  },
  {
   "cell_type": "markdown",
   "metadata": {
    "id": "ul_6nw48N5Dy"
   },
   "source": [
    "## Data Summary <a id='data-summary'>"
   ]
  },
  {
   "cell_type": "markdown",
   "metadata": {
    "id": "SEnrAF7tlScB"
   },
   "source": [
    "| Feature name                | Type    | Description and values                                                                                                                                                                                                                                                                                                                                                                                                                                                                                                                                                                                                                                     |\n",
    "|-----------------------------|---------|------------------------------------------------------------------------------------------------------------------------------------------------------------------------------------------------------------------------------------------------------------------------------------------------------------------------------------------------------------------------------------------------------------------------------------------------------------------------------------------------------------------------------------------------------------------------------------------------------------------------------------------------------------|\n",
    "| Encounter ID                | Numeric | Unique identifier of an encounter                                                                                                                                                                                                                                                                                                                                                                                                                                                                                                                                                                                                                          |\n",
    "| Patient number              | Numeric | Unique identifier of a patient                                                                                                                                                                                                                                                                                                                                                                                                                                                                                                                                                                                                                             |\n",
    "| Race                        | Nominal | Values: Caucasian, Asian, African American, Hispanic, and other                                                                                                                                                                                                                                                                                                                                                                                                                                                                                                                                                                                            |\n",
    "| Gender                      | Nominal | Values: male, female, and unknown/invalid                                                                                                                                                                                                                                                                                                                                                                                                                                                                                                                                                                                                                  |\n",
    "| Age                         | Nominal | Grouped in 10-year intervals: 0, 10), 10, 20), …, 90, 100)                                                                                                                                                                                                                                                                                                                                                                                                                                                                                                                                                                                                 |\n",
    "| Weight                      | Numeric | Weight in pounds.                                                                                                                                                                                                                                                                                                                                                                                                                                                                                                                                                                                                                                          |\n",
    "| Admission type              | Nominal | Integer identifier corresponding to 9 distinct values, for example, emergency, urgent, elective, newborn, and not available                                                                                                                                                                                                                                                                                                                                                                                                                                                                                                                                |\n",
    "| Discharge disposition       | Nominal | Integer identifier corresponding to 29 distinct values, for example, discharged to home, expired, and not available                                                                                                                                                                                                                                                                                                                                                                                                                                                                                                                                        |\n",
    "| Admission source            | Nominal | Integer identifier corresponding to 21 distinct values, for example, physician referral, emergency room, and transfer from a hospital                                                                                                                                                                                                                                                                                                                                                                                                                                                                                                                      |\n",
    "| Time in hospital            | Numeric | Integer number of days between admission and discharge                                                                                                                                                                                                                                                                                                                                                                                                                                                                                                                                                                                                     |\n",
    "| Payer code                  | Nominal | Integer identifier corresponding to 23 distinct values, for example, Blue Cross/Blue Shield, Medicare, and self-pay                                                                                                                                                                                                                                                                                                                                                                                                                                                                                                                                        |\n",
    "| Medical specialty           | Nominal | Integer identifier of a specialty of the admitting physician, corresponding to 84 distinct values, for example, cardiology, internal medicine, family/general practice, and surgeon                                                                                                                                                                                                                                                                                                                                                                                                                                                                        |\n",
    "| Number of lab procedures    | Numeric | Number of lab tests performed during the encounter                                                                                                                                                                                                                                                                                                                                                                                                                                                                                                                                                                                                         |\n",
    "| Number of procedures        | Numeric | Number of procedures (other than lab tests) performed during the encounter                                                                                                                                                                                                                                                                                                                                                                                                                                                                                                                                                                                 |\n",
    "| Number of medications       | Numeric | Number of distinct generic names administered during the encounter                                                                                                                                                                                                                                                                                                                                                                                                                                                                                                                                                                                         |\n",
    "| Number of outpatient visits | Numeric | Number of outpatient visits of the patient in the year preceding the encounter                                                                                                                                                                                                                                                                                                                                                                                                                                                                                                                                                                             |\n",
    "| Number of emergency visits  | Numeric | Number of emergency visits of the patient in the year preceding the encounter                                                                                                                                                                                                                                                                                                                                                                                                                                                                                                                                                                              |\n",
    "| Number of inpatient visits  | Numeric | Number of inpatient visits of the patient in the year preceding the encounter                                                                                                                                                                                                                                                                                                                                                                                                                                                                                                                                                                              |\n",
    "| Diagnosis 1                 | Nominal | The primary diagnosis (coded as first three digits of ICD9); 848 distinct values                                                                                                                                                                                                                                                                                                                                                                                                                                                                                                                                                                           |\n",
    "| Diagnosis 2                 | Nominal | Secondary diagnosis (coded as first three digits of ICD9); 923 distinct values                                                                                                                                                                                                                                                                                                                                                                                                                                                                                                                                                                             |\n",
    "| Diagnosis 3                 | Nominal | Additional secondary diagnosis (coded as first three digits of ICD9); 954 distinct values                                                                                                                                                                                                                                                                                                                                                                                                                                                                                                                                                                  |\n",
    "| Number of diagnoses         | Numeric | Number of diagnoses entered to the system                                                                                                                                                                                                                                                                                                                                                                                                                                                                                                                                                                                                                  |\n",
    "| Glucose serum test result   | Nominal | Indicates the range of the result or if the test was not taken. Values: >200, >300, normal, and none if not measured                                                                                                                                                                                                                                                                                                                                                                                                                                                                                                                                       |\n",
    "| A1c test result             | Nominal | Indicates the range of the result or if the test was not taken. Values: “>8” if the result was greater than 8%, “>7” if the result was greater than 7% but less than 8%, “normal” if the result was less than 7%, and “none” if not measured.                                                                                                                                                                                                                                                                                                                                                                                                              |\n",
    "|                             |         |                                                                                                                                                                                                                                                                                                                                                                                                                                                                                                                                                                                                                                                            |\n",
    "| Change of medications       | Nominal | Indicates if there was a change in diabetic medications (either dosage or generic name). Values: “change” and “no change”                                                                                                                                                                                                                                                                                                                                                                                                                                                                                                                                  |\n",
    "| Diabetes medications        | Nominal | Indicates if there was any diabetic medication prescribed. Values: “yes” and “no”                                                                                                                                                                                                                                                                                                                                                                                                                                                                                                                                                                          |\n",
    "| 24 features for medications | Nominal | For the generic names: metformin, repaglinide, nateglinide, chlorpropamide, glimepiride, acetohexamide, glipizide, glyburide, tolbutamide, pioglitazone, rosiglitazone, acarbose, miglitol, troglitazone, tolazamide, examide, sitagliptin, insulin, glyburide-metformin, glipizide-metformin, glimepiride-pioglitazone, metformin-rosiglitazone, and metformin-pioglitazone, the feature indicates whether the drug was prescribed or there was a change in the dosage. Values: “up” if the dosage was increased during the encounter, “down” if the dosage was decreased, “steady” if the dosage did not change, and “no” if the drug was not prescribed |\n",
    "| Readmitted                  | Nominal | Days to inpatient readmission. Values: “<30” if the patient was readmitted in less than 30 days, “>30” if the patient was readmitted in more than 30 days, and “No” for no record of readmission.                                                                                                                                                                                                                                                                                                                                                                                                                                                          |"
   ]
  },
  {
   "cell_type": "markdown",
   "metadata": {},
   "source": [
    "## Remapping Data"
   ]
  },
  {
   "cell_type": "markdown",
   "metadata": {},
   "source": [
    "### Re-mapping data based on ID mappings"
   ]
  },
  {
   "cell_type": "code",
   "execution_count": 6,
   "metadata": {},
   "outputs": [],
   "source": [
    "def remapIds(*new_mappings: tuple) -> dict:\n",
    "    mapping_dict = dict()\n",
    "    for mapping in new_mappings:\n",
    "        mapping_dict[mapping[1]] =  mapping[0].map(mapping[2])\n",
    "    return mapping_dict\n",
    "\n",
    "def refactorMappingIds(inputDf: pd.DataFrame) -> pd.DataFrame:\n",
    "    admission_type_id_new_mapping = {\n",
    "        1: \"emergency\",\n",
    "        2: \"urgent\",\n",
    "        3: \"elective\",\n",
    "        4: \"newborn\",\n",
    "        5: float(\"NaN\"),\n",
    "        6: float(\"NaN\"),\n",
    "        7: \"trauma-center\",\n",
    "        8: float(\"NaN\")\n",
    "    }\n",
    "    \n",
    "    disharge_disposition_new_mapping = {\n",
    "        1: \"discharged\",\n",
    "        2: \"transfer\",\n",
    "        3: \"transfer\",\n",
    "        4: \"transfer\",\n",
    "        5: \"transfer\",\n",
    "        6: \"transfer\",\n",
    "        7: \"ama\",\n",
    "        8: \"transfer\",\n",
    "        9: \"admitted\",\n",
    "        10: \"transfer\",\n",
    "        11: \"expired\",\n",
    "        12: \"admitted\",\n",
    "        13: \"hospice\",\n",
    "        14: \"hospice\",\n",
    "        15: \"transfer\",\n",
    "        16: \"transfer\",\n",
    "        17: \"transfer\",\n",
    "        18: float(\"NaN\"),\n",
    "        19: \"expired\",\n",
    "        20: \"expired\",\n",
    "        21: \"expired\",\n",
    "        22: \"transfer\",\n",
    "        23: \"transfer\",\n",
    "        24: \"transfer\",\n",
    "        25: float(\"NaN\"),\n",
    "        26: float(\"NaN\"),\n",
    "        27: \"transfer\",\n",
    "        28: \"transfer\",\n",
    "        29: \"transfer\",\n",
    "    }\n",
    "\n",
    "\n",
    "    admission_sourcing_new_mapping = {\n",
    "        1: \"referral\",\n",
    "        2: \"referral\",\n",
    "        3: \"referral\",\n",
    "        4: \"transfer\",\n",
    "        5: \"transfer\",\n",
    "        6: \"transfer\",\n",
    "        7: \"emergency\",\n",
    "        8: \"law-enforcement\",\n",
    "        9: float(\"NaN\"),\n",
    "        10: \"transfer\",\n",
    "        11: \"normal-delivery\",\n",
    "        12: \"other-delivery\",\n",
    "        13: \"other-delivery\",\n",
    "        14: \"other-delivery\",\n",
    "        15: float(\"NaN\"),\n",
    "        17: float(\"NaN\"),\n",
    "        18: \"transfer\",\n",
    "        19: \"transfer\",\n",
    "        20: float(\"NaN\"),\n",
    "        21: float(\"NaN\"),\n",
    "        22: \"transfer\",\n",
    "        23: \"normal-delivery\",\n",
    "        24: \"normal-delivery\",\n",
    "        25: \"transfer\",\n",
    "        26: \"transfer\"\n",
    "    }\n",
    "    df = inputDf.copy()\n",
    "    mapping_tuples = [\n",
    "        (df['discharge_disposition_id'],'disharge_disposition_new_mapping', disharge_disposition_new_mapping),\n",
    "        (df['admission_source_id'],'admission_source_new_mapping', admission_sourcing_new_mapping),\n",
    "        (df['admission_type_id'], 'admission_type_id_new_mapping', admission_type_id_new_mapping)\n",
    "    ]\n",
    "    remappings = remapIds(*mapping_tuples)\n",
    "    for newMappingKey in remappings:\n",
    "        df[newMappingKey] = remappings[newMappingKey]\n",
    "    return df"
   ]
  },
  {
   "cell_type": "markdown",
   "metadata": {},
   "source": [
    "### Remapping Diag(nosis) Codes based on International Classification of Diseases (ICD) codes\n",
    "\n",
    "Below you'll find a link to the ICD ranges we used to remap features __diag_1__, __diag_2__, and __diag_3__: <br>\n",
    "https://www.aapc.com/codes/icd9-codes-range/"
   ]
  },
  {
   "cell_type": "code",
   "execution_count": 7,
   "metadata": {},
   "outputs": [],
   "source": [
    "def getDiagCategory(input: float) -> str:\n",
    "    val: str\n",
    "    if input < 1:\n",
    "        val = float(\"NaN\")\n",
    "    elif input < 140:\n",
    "        val = 'A'\n",
    "    elif input < 240:\n",
    "        val = 'B'\n",
    "    elif input < 280:\n",
    "        val = 'C'\n",
    "    elif input < 290:\n",
    "        val = 'D'\n",
    "    elif input < 320:\n",
    "        val = 'E'\n",
    "    elif input < 390:\n",
    "        val = 'F'\n",
    "    elif input < 460:\n",
    "        val = 'G'\n",
    "    elif input < 520:\n",
    "        val = 'H'\n",
    "    elif input < 580:\n",
    "        val = 'I'\n",
    "    elif input < 630:\n",
    "        val = 'J'\n",
    "    elif input < 680:\n",
    "        val = 'K'\n",
    "    elif input < 710:\n",
    "        val = 'L'\n",
    "    elif input < 740:\n",
    "        val = 'M'\n",
    "    elif input < 760:\n",
    "        val = 'N'\n",
    "    elif input < 780:\n",
    "        val = 'O'\n",
    "    elif input < 800:\n",
    "        val = 'P'\n",
    "    elif input < 1000:\n",
    "        val = 'Q'\n",
    "    elif input < 2000:\n",
    "        val = 'R'\n",
    "    elif input < 3000:\n",
    "        val = 'S'\n",
    "    else:\n",
    "        val = 'Z'\n",
    "    return val\n",
    "    \n",
    "\n",
    "def categorizeDiag(diag: pd.Series) -> pd.Series:\n",
    "    df = diag.copy()\n",
    "    df.fillna(0,inplace=True)\n",
    "    df.mask(df.str.startswith('V', na=False),1000, inplace=True)\n",
    "    df.mask(df.str.startswith('E', na=False),2000, inplace=True)\n",
    "    df = pd.to_numeric(df)\n",
    "    df = df.map(getDiagCategory)\n",
    "    return df\n",
    "\n",
    "\n",
    "def recategorizeDiags(inputDf: pd.DataFrame) -> pd.DataFrame:\n",
    "    df = inputDf.copy()\n",
    "    df['diag_1_categorized'] = categorizeDiag(df['diag_1'])\n",
    "    df['diag_2_categorized'] = categorizeDiag(df['diag_2'])\n",
    "    df['diag_3_categorized'] = categorizeDiag(df['diag_3'])\n",
    "    return df\n",
    "\n",
    "\n",
    "def addDiag(*diags):\n",
    "    df = None\n",
    "    for diag in diags:\n",
    "        if (df is None):\n",
    "            df = diag.notna().astype(int)\n",
    "        else:\n",
    "            df = df + diag.notna().astype(int)\n",
    "    return df"
   ]
  },
  {
   "cell_type": "code",
   "execution_count": 8,
   "metadata": {},
   "outputs": [],
   "source": [
    "def recategorizeData(inputDf: pd.DataFrame) -> pd.DataFrame:\n",
    "    df = inputDf.copy()\n",
    "    df = refactorMappingIds(df)\n",
    "    df = recategorizeDiags(df)\n",
    "    df['total_diag'] = addDiag(df['diag_1'],df['diag_2'],df['diag_3'])\n",
    "    return df"
   ]
  },
  {
   "cell_type": "code",
   "execution_count": 9,
   "metadata": {},
   "outputs": [],
   "source": [
    "df_recategorized = recategorizeData(df)"
   ]
  },
  {
   "cell_type": "markdown",
   "metadata": {},
   "source": [
    "### Recoding Dependant Variable"
   ]
  },
  {
   "cell_type": "code",
   "execution_count": 10,
   "metadata": {},
   "outputs": [],
   "source": [
    "def recode_variable(series: pd.Series, condition):\n",
    "    s_copy = series.copy()\n",
    "    s_copy = s_copy==condition\n",
    "    s_copy = s_copy.astype(int)\n",
    "    return s_copy"
   ]
  },
  {
   "cell_type": "code",
   "execution_count": 11,
   "metadata": {},
   "outputs": [],
   "source": [
    "df_recategorized['readmitted'] = recode_variable(df_recategorized['readmitted'], '<30')"
   ]
  },
  {
   "cell_type": "markdown",
   "metadata": {},
   "source": [
    "## Missing Values\n",
    "\n",
    "&emsp; No missing values were observed in any continuous variables. All the missing values were observed in just 9 of the 42 categorial features (see table below).  There were also missing values observed in Id_mapping files as mentioned in the EDA section above.  \n",
    "    \n",
    "&emsp; The team investigated whether these missing values have any internal correlation or dependency. ***A heatmap did not show any obvious overlap or correlation with the missing values.***\n",
    "\n",
    "&emsp; The diagnosis codes in columns diag_1, diag_2, and diag_3 reference Internation Classification of Diseases (ICD) codes. The data hierarchy of these codes was leveraged to reduce the number of category levels from 700-800 each to just 19 each.  This significantly reduced the number of dummy variables and made imputation much simpler.  See the code below for more details.    \n",
    "https://www.aapc.com/codes/icd9-codes-range/\n",
    "\n",
    "Following are the variables with the missing values:\n",
    "\n",
    "| Missing Variable                 | # of missing values | \n",
    "|----------------------------------|---------------------|\n",
    "| weight                           | 98,569              | \n",
    "| race                             | 2,273               | \n",
    "| payer_code                       | 40,256              | \n",
    "| medical Specialty                | 49,949              | \n",
    "| disharge_disposition_new_mapping | 4,680               | \n",
    "| admission_source_new_mapping     | 7,067               | \n",
    "| diag_1                           | 21                  | \n",
    "| diag_2                           | 358                 | \n",
    "| diag_3                           | 2,423               | \n",
    "\n",
    "&emsp; The race variable is identified as a potential ethical concern and a sensitive discussion topic, and the team decided to fill the missing values of race by the mode, Caucasian. The occurrence of missing information for race is relatively low, so there shouldn't be much concern for inadvertently creating any artificial trends in the model."
   ]
  },
  {
   "cell_type": "code",
   "execution_count": 12,
   "metadata": {},
   "outputs": [
    {
     "data": {
      "text/plain": [
       "encounter_id                            0\n",
       "patient_nbr                             0\n",
       "race                                 2273\n",
       "gender                                  0\n",
       "age                                     0\n",
       "weight                              98569\n",
       "admission_type_id                       0\n",
       "discharge_disposition_id                0\n",
       "admission_source_id                     0\n",
       "time_in_hospital                        0\n",
       "payer_code                          40256\n",
       "medical_specialty                   49949\n",
       "num_lab_procedures                      0\n",
       "num_procedures                          0\n",
       "num_medications                         0\n",
       "number_outpatient                       0\n",
       "number_emergency                        0\n",
       "number_inpatient                        0\n",
       "diag_1                                 21\n",
       "diag_2                                358\n",
       "diag_3                               1423\n",
       "number_diagnoses                        0\n",
       "max_glu_serum                           0\n",
       "A1Cresult                               0\n",
       "metformin                               0\n",
       "repaglinide                             0\n",
       "nateglinide                             0\n",
       "chlorpropamide                          0\n",
       "glimepiride                             0\n",
       "acetohexamide                           0\n",
       "glipizide                               0\n",
       "glyburide                               0\n",
       "tolbutamide                             0\n",
       "pioglitazone                            0\n",
       "rosiglitazone                           0\n",
       "acarbose                                0\n",
       "miglitol                                0\n",
       "troglitazone                            0\n",
       "tolazamide                              0\n",
       "examide                                 0\n",
       "citoglipton                             0\n",
       "insulin                                 0\n",
       "glyburide-metformin                     0\n",
       "glipizide-metformin                     0\n",
       "glimepiride-pioglitazone                0\n",
       "metformin-rosiglitazone                 0\n",
       "metformin-pioglitazone                  0\n",
       "change                                  0\n",
       "diabetesMed                             0\n",
       "readmitted                              0\n",
       "disharge_disposition_new_mapping     4680\n",
       "admission_source_new_mapping         7067\n",
       "admission_type_id_new_mapping       10396\n",
       "diag_1_categorized                     21\n",
       "diag_2_categorized                    358\n",
       "diag_3_categorized                   1423\n",
       "total_diag                              0\n",
       "dtype: int64"
      ]
     },
     "execution_count": 12,
     "metadata": {},
     "output_type": "execute_result"
    }
   ],
   "source": [
    "df_recategorized.isna().sum()"
   ]
  },
  {
   "cell_type": "markdown",
   "metadata": {
    "id": "21Kdalsl8g_I"
   },
   "source": [
    "## Feature Removal <a id='feature-removal'>"
   ]
  },
  {
   "cell_type": "markdown",
   "metadata": {
    "id": "786e5_En8g_J"
   },
   "source": [
    "&emsp; The team reviewed the data in detail after addressing the missing values. Features that are not meaningful such as __encounter_id__, __patient_nbr__, __examide__, and __citoglipton__ are removed from the analysis. encounter_id and patient_nbr are id codes and will not add value to the model. examide, and citoglipton variables have all zeros. \n",
    " \n",
    "&emsp; Additionally, we remove rows with a __disharge_disposition__ ids that were labeled as __expired__, which indicated the patient has diseased, thus they will not be readmitted. \n"
   ]
  },
  {
   "cell_type": "code",
   "execution_count": 13,
   "metadata": {
    "id": "nbvlZHwG8g_J",
    "scrolled": true
   },
   "outputs": [],
   "source": [
    "df_recategorized = df_recategorized.drop(['patient_nbr','encounter_id', 'examide', 'weight','citoglipton'], 1);"
   ]
  },
  {
   "cell_type": "markdown",
   "metadata": {},
   "source": [
    "&emsp; Also, the following feature recoded and remapped into new variables to a smaller subset of levels, thus the original features are no longer needed."
   ]
  },
  {
   "cell_type": "markdown",
   "metadata": {},
   "source": [
    "discharge_disposition_id\n",
    "admission_source_id\n",
    "admission_type_id\n",
    "diag_1\n",
    "diag_2\n",
    "diag_3"
   ]
  },
  {
   "cell_type": "markdown",
   "metadata": {},
   "source": [
    "df_recategorized = df_recategorized.drop(['discharge_disposition_id','admission_source_id','admission_type_id','diag_1',\n",
    "                'diag_2','diag_3'], 1);"
   ]
  },
  {
   "cell_type": "code",
   "execution_count": 15,
   "metadata": {},
   "outputs": [],
   "source": [
    "df_recategorized = df_recategorized[df_recategorized['disharge_disposition_new_mapping']!='expired']\n",
    "df_recategorized.reset_index(drop=True, inplace=True)"
   ]
  },
  {
   "cell_type": "markdown",
   "metadata": {
    "id": "CbAmkozvN5Dz"
   },
   "source": [
    "## Exploratory Data Analysis (EDA) <a id='eda'>"
   ]
  },
  {
   "cell_type": "markdown",
   "metadata": {},
   "source": [
    "### Response - Readmitted\n",
    "\n",
    "<img src=\"plots/readmitted.png\" width=300 height=300 />   "
   ]
  },
  {
   "cell_type": "markdown",
   "metadata": {
    "id": "VgZRFeORN5D3"
   },
   "source": [
    "### Feature Collinearity & Outliers <a id='feature-collinearity'>\n",
    "No collinearity or outliers were identified based on the pairs plot of the continuous variables below.  Several \"continuous\" variables are right-skewed, discrete, and/or zero-inflated based on the kernel density plots on the main diagonal.  There are not obvious shifts or separation in the response variable (blue and orange) vs. the continuous variables.  \n",
    "\n",
    "\"outpatient\" and \"emergency\" distributions were more closely examined used a log scale for count in the second figure below.\n",
    "    \n",
    "<img src=\"plots/cont_feature_vs_readmit_pairplot.png\" width=1100 height=1100 />\n",
    "   \n",
    "<img src=\"plots/outpatient_emergency_histplot.png\" width=600 height=600 />    "
   ]
  },
  {
   "cell_type": "markdown",
   "metadata": {
    "id": "z6qUPkzRN5D4"
   },
   "source": [
    "## Assumptions <a id='assumptions'>"
   ]
  },
  {
   "cell_type": "markdown",
   "metadata": {
    "id": "SaEb4apWN5D4"
   },
   "source": [
    "* We assume the ICD codes are groupable\n",
    "* Expired means patient has diseased\n",
    "* For discharge_dispostion_id and admission_sourcing_id we combined Ids that had similar descriptions such as referral, transfer, and expired. During our EDA they appear to behave similarly. \n",
    "*  After cleanup and imputation data has sufficient information to predict or estimate readmissions. "
   ]
  },
  {
   "cell_type": "markdown",
   "metadata": {
    "id": "zmuI_mep8g_b"
   },
   "source": [
    "# Model Preparations <a id='model-preparations'/>"
   ]
  },
  {
   "cell_type": "markdown",
   "metadata": {},
   "source": [
    "## Modeling Method Proposed\n",
    "\n",
    "&emsp; The objective of our analysis is to classify diabetes patients who have the highest risk of being re-admitted to the hospital within 30 days using logistic regression modeling. L2 regularization was used to prevent overfitting and maintain model performance.  The team observed that L2 is faster and more efficient to run than L1 with this dataset that had a large number of dummy-coded variables.\n",
    "\n",
    "&emsp; The metrics used to evaluate model performance were precision and recall.  Precision and recall are useful metrics when the classes are imbalanced.  These metrics are defined as follows:    \n",
    "- Recall = TP/(TP+FN)\n",
    "- Precision = TP/(TP+ FP)\n",
    "\n",
    "where TP = True Positives, FN = False Negatives, and FP = False Positives\n",
    "\n"
   ]
  },
  {
   "cell_type": "markdown",
   "metadata": {},
   "source": [
    "## Model Appropriateness\n",
    "\n",
    "&emsp; Logistic regression is a classification algorithm. It is used to predict a binary outcome based on the set of independent variables. Logistic regression is used for the analysis when working with the binary target variable, i.e., dichotomous, or categorical in nature; in other words, if it fits into one of two categories (such as “yes” or “no”, “pass” or “fail”, 0 or 1). The response variable used for this analysis also has dichotomous data, so the team decided to use Logistic Regression to analyze the diabatic data. "
   ]
  },
  {
   "cell_type": "markdown",
   "metadata": {},
   "source": [
    "## Evaluation Metrics\n",
    "&emsp; The metrics used to evaluate model performance were precision and recall.  Precision and recall are useful metrics when the classes are imbalanced like in this dataset.  These metrics are defined as follows:    \n",
    "- Recall = TP/(TP+FN)\n",
    "- Precision = TP/(TP+FP)\n",
    "\n",
    "Where:\n",
    "- True Positive (TP) is \"patients correctly predicted to be readmitted within 30 days\".  These predictions would help keep a patient in the hospital longer for observation rather than discharging them, because they would be at risk to be readmitted within 30 days.   \n",
    "- False Negative (FN) is \"patients <b>in</b>correctly predicted to <b>not</b> be readmitted within 30 days\".  These predictions would likely discharge a patient too soon, resulting in readmittance within 30 days.  \n",
    "- False Positive (FP) is \"patients <b>in</b>correctly predicted to be readmitted within 30 days\".  These predictions would likely keep people in the hospital that don't need to be there and are at low risk for readmittance within 30 days.  \n",
    "\n",
    "Both Recall and Precision focus the modeling on True Positives, but Recall is penalized by False Negatives whereas Precision is penalized by False Positives.  A scatterplot of Precision vs. Recall (a PR Curve) can be used to tune the False Negatives vs. False Positive for any given model. \n",
    "\n",
    "To balance both precision and recall, the team used the F1 score.  The F1 score combines precision and recall into a single metric by taking their harmonic mean:\n",
    "\n",
    "F1 = 2 * Recall * Precision / (Recall + Precision)   \n",
    "\n",
    "By maximizing the F1 score, the model balances both recall and precision for the positive class.  Additionally, we used the Precision-Recall (PR) curve to generate all F1 scores and find the maximum F1 score and its associated threshold."
   ]
  },
  {
   "cell_type": "markdown",
   "metadata": {},
   "source": [
    "## Model Usefulness\n",
    "&emsp; In the best interest of the patient, the model would maximize Recall such that hospital readmission is prevented at all costs. However, the resulting lower precision (higher false positive rate) would be costly.  It could lead to a shortage of beds or staff in the hospital, keeping more patients that are fine and that wouldn't be readmitted if dishcarged.  For the model to be useful, it needs to balance the trade-off between recall and precision.  A more useful model would have a higher F1 score with higher recall and/or precision.  "
   ]
  },
  {
   "cell_type": "markdown",
   "metadata": {},
   "source": [
    "## Split dependant and Independant Variables"
   ]
  },
  {
   "cell_type": "code",
   "execution_count": 16,
   "metadata": {},
   "outputs": [],
   "source": [
    "def split_dependant_and_independant_variales(df: pd.DataFrame, y_var: str):\n",
    "    X = df.copy()\n",
    "    y = X[y_var]\n",
    "    X = X.drop([y_var], axis=1)\n",
    "    return X, y"
   ]
  },
  {
   "cell_type": "code",
   "execution_count": 17,
   "metadata": {},
   "outputs": [],
   "source": [
    "X, y = split_dependant_and_independant_variales(df_recategorized, 'readmitted')"
   ]
  },
  {
   "cell_type": "markdown",
   "metadata": {},
   "source": [
    "## Data Imputation"
   ]
  },
  {
   "cell_type": "code",
   "execution_count": 18,
   "metadata": {},
   "outputs": [],
   "source": [
    "def fitImputers(x_train: pd.DataFrame): \n",
    "    df = x_train.copy()\n",
    "    imputer = SimpleImputer(missing_values = np.nan,\n",
    "                        strategy ='most_frequent')\n",
    "    columns_of_interest = ['disharge_disposition_new_mapping', 'admission_source_new_mapping', 'admission_type_id_new_mapping', 'diag_1_categorized', 'diag_2_categorized', 'diag_3_categorized', 'race', 'payer_code']\n",
    "    imputer.fit(df[columns_of_interest])\n",
    "    \n",
    "    grouped_modes = df.groupby(['admission_type_id_new_mapping'])['medical_specialty'].agg(pd.Series.mode)\n",
    "    grouped_modes['trauma-center'] = grouped_modes['urgent']\n",
    "    \n",
    "    def customApply(input):\n",
    "        if(pd.isnull(input[1])):\n",
    "            input[1] = grouped_modes[input[0]]\n",
    "        return input\n",
    "    return imputer, customApply"
   ]
  },
  {
   "cell_type": "code",
   "execution_count": 19,
   "metadata": {},
   "outputs": [],
   "source": [
    "def imputeData(x_train: pd.DataFrame, x_test: pd.DataFrame):\n",
    "    imputed_train = x_train.copy()\n",
    "    imputed_test = x_test.copy()\n",
    "\n",
    "    imputer, customApply = fitImputers(x_train)\n",
    "    columns_of_interest = ['disharge_disposition_new_mapping', 'admission_source_new_mapping', 'admission_type_id_new_mapping', 'diag_1_categorized', 'diag_2_categorized', 'diag_3_categorized', 'race', 'payer_code']\n",
    "    imputed_train[columns_of_interest] = imputer.transform(imputed_train[columns_of_interest])\n",
    "    imputed_test[columns_of_interest] = imputer.transform(imputed_test[columns_of_interest])\n",
    "    \n",
    "    twoColumnsTrain = imputed_train[['admission_type_id_new_mapping','medical_specialty']]\n",
    "    twoColumnsTest = imputed_test[['admission_type_id_new_mapping','medical_specialty']]\n",
    "    \n",
    "    twoColumnsTrain.apply(customApply, axis=1);\n",
    "    twoColumnsTest.apply(customApply, axis=1);\n",
    "    \n",
    "    \n",
    "    imputed_train['medical_specialty'] = twoColumnsTrain['medical_specialty']\n",
    "    imputed_test['medical_specialty'] = twoColumnsTest['medical_specialty']\n",
    "    \n",
    "    imputed_train.to_csv('diabetic_data_train_imputed.csv')\n",
    "    imputed_train = pd.read_csv('diabetic_data_train_imputed.csv')\n",
    "    \n",
    "    \n",
    "    imputed_test.to_csv('diabetic_data_test_imputed.csv')\n",
    "    imputed_test = pd.read_csv('diabetic_data_test_imputed.csv')\n",
    "    \n",
    "    imputed_train = imputed_train.drop(['Unnamed: 0'], 1)\n",
    "    imputed_test = imputed_test.drop(['Unnamed: 0'], 1)\n",
    "    \n",
    "    return imputed_train, imputed_test"
   ]
  },
  {
   "cell_type": "markdown",
   "metadata": {
    "id": "BnCsXV_c8g_V"
   },
   "source": [
    "## Sampling & Scaling Data <a id='sampling-scaling-data' />"
   ]
  },
  {
   "cell_type": "code",
   "execution_count": 20,
   "metadata": {},
   "outputs": [],
   "source": [
    "def shuffle_split(X, y, test_size, random_state):\n",
    "    stratified_shuffle_split = StratifiedShuffleSplit(n_splits=1, test_size=test_size, random_state=random_state)\n",
    "    for train_index, test_index in stratified_shuffle_split.split(X, y):\n",
    "        X_train, X_test = X.iloc[train_index,:], X.iloc[test_index]\n",
    "        y_train, y_test = y[train_index], y[test_index]\n",
    "    return X_train, X_test, y_train, y_test\n",
    "\n",
    "def scale_data(X_train, X_test):\n",
    "    scl = StandardScaler()\n",
    "    scl.fit(X_train)\n",
    "    X_train_scaled = pd.DataFrame(scl.transform(X_train), columns = X_train.columns.values, index = X_train.index)\n",
    "    X_test_scaled = pd.DataFrame(scl.transform(X_test), columns = X_train.columns.values, index = X_test.index )\n",
    "    return X_train_scaled, X_test_scaled\n",
    "\n",
    "\n",
    "def encode_data(X_train, X_test):\n",
    "    enc = OneHotEncoder(handle_unknown = 'ignore')\n",
    "    enc.fit(X_train)\n",
    "    X_train_encoded = pd.DataFrame( enc.transform(X_train).toarray(), \n",
    "                                   columns = enc.get_feature_names(X_train.columns), index = X_train.index)\n",
    "    X_test_encoded = pd.DataFrame(enc.transform(X_test).toarray(), \n",
    "                                  columns = enc.get_feature_names(X_test.columns), index = X_test.index)\n",
    "    return X_train_encoded, X_test_encoded\n",
    "\n",
    "def scale_and_encode_data(x_train, x_test):\n",
    "    cont_vars = x_train._get_numeric_data().columns\n",
    "    X_cont_train_scaled, X_cont_test_scaled = scale_data(x_train[cont_vars], x_test[cont_vars])\n",
    "    X_train_encoded, X_test_encoded = encode_data(x_train.drop(cont_vars, 1), x_test.drop(cont_vars, 1))\n",
    "    return pd.concat([X_cont_train_scaled, X_train_encoded], axis=1), pd.concat([X_cont_test_scaled, X_test_encoded], axis=1)"
   ]
  },
  {
   "cell_type": "markdown",
   "metadata": {},
   "source": [
    "## Prepare for Modeling"
   ]
  },
  {
   "cell_type": "code",
   "execution_count": 21,
   "metadata": {},
   "outputs": [],
   "source": [
    "def model_preparation(X, y, test_split, random):\n",
    "    X_train, X_test, y_train, y_test = shuffle_split(X, y, test_size = test_split, random_state= random)\n",
    "    X_train, X_test = scale_and_encode_data(*imputeData(X_train, X_test))\n",
    "    return X_train, X_test, y_train, y_test"
   ]
  },
  {
   "cell_type": "code",
   "execution_count": 22,
   "metadata": {},
   "outputs": [],
   "source": [
    "X_train, X_test, y_train, y_test = model_preparation(X,y,0.3,1234)"
   ]
  },
  {
   "cell_type": "markdown",
   "metadata": {
    "id": "UuRjMsjg8g_d"
   },
   "source": [
    "# Model Building & Evaluations <a id='model-building'/>"
   ]
  },
  {
   "cell_type": "markdown",
   "metadata": {
    "id": "JIef6T0FPIVM"
   },
   "source": [
    "Analysis of your models performance"
   ]
  },
  {
   "cell_type": "markdown",
   "metadata": {},
   "source": [
    "## Handling missing values\n",
    "    \n",
    "Following are the variables with the missing values and the methodology team used to mitigate the missing values:\n",
    "\n",
    "| Missing Variable                 | # of missing values | Mitigation Methodology                                     |\n",
    "|----------------------------------|---------------------|------------------------------------------------------------|\n",
    "| weight                           | 98,569              | ~97% of data was missing so variable was dropped.          |\n",
    "| race                             | 2,273               | Impute by Mode                                             |\n",
    "| payer_code                       | 40,256              | Impute by Mode                                             |\n",
    "| medical Specialty                | 49,949              | Group by admission_type_id_new_mapping then Impute by Mode |\n",
    "| disharge_disposition_new_mapping | 4,680               | Impute by Mode                                             |\n",
    "| admission_source_new_mapping     | 7,067               | Impute by Mode                                             |\n",
    "| diag_1                           | 21                  | Recategorize and Impute by Mode                            |\n",
    "| diag_2                           | 358                 | Recategorize and Impute by Mode                            |\n",
    "| diag_3                           | 2,423               | Recategorize and Impute by Mode                            |"
   ]
  },
  {
   "cell_type": "markdown",
   "metadata": {},
   "source": [
    "## Sampling Methodology\n",
    "\n",
    "&emsp; The response variable is a somewhat unbalanced with 11% readmitted within 30 days and 89% not readmitted within 30 days. Stratified data splitting was used to ensure that these two clases are evenly split between the training and test sets.  A 70/30 split was used between the training and test sets.  Stratified data splitting  Dataset was split in training and test set before imputation. The continuous variables were scaled to ensure high magnitude variables were not influencing the outcome more than low magnitude variables.  "
   ]
  },
  {
   "cell_type": "markdown",
   "metadata": {},
   "source": [
    "## Model Setup\n",
    "\n",
    "&emsp; For penalty we used L2 regularization to prevent overfitting and maintain model performance. The team observed that L2 is faster and more efficient to run than L1 with this dataset that had a large number of dummy-coded variables. Given the dependent variable imbalance we decided to apply weights to the coefficiens by providing 'balanced' as parameter to the model. Lastly we iterated over a range of Cs which is the inverse of regularization strength to optimized the model for f1-score. The team decided to used the liblinear solver as it was one of the supported solvers when using l2 regularization and from our modeling this solver converged (not all converged) and it converged relatively quickly compared to the others solvers. \n",
    " "
   ]
  },
  {
   "cell_type": "code",
   "execution_count": 23,
   "metadata": {},
   "outputs": [],
   "source": [
    "def run_lgr(penalty, c, x_train, x_test, y_train, y_test):\n",
    "    lgr = LogisticRegression(penalty=penalty, C=c, solver='liblinear', class_weight='balanced')\n",
    "    lgr.fit(x_train,y_train)\n",
    "    y_hat_train = lgr.predict(x_train)\n",
    "    score = f1_score(y_train, y_hat_train)\n",
    "    return lgr, score\n",
    "\n",
    "def run_lgr_key(e):\n",
    "    return e[1]"
   ]
  },
  {
   "cell_type": "code",
   "execution_count": 24,
   "metadata": {},
   "outputs": [],
   "source": [
    "def run_lgr_key(e):\n",
    "    return e[1]"
   ]
  },
  {
   "cell_type": "code",
   "execution_count": 25,
   "metadata": {},
   "outputs": [],
   "source": [
    "X_train, X_test, y_train, y_test = model_preparation(X,y,0.3,1234)"
   ]
  },
  {
   "cell_type": "code",
   "execution_count": 26,
   "metadata": {},
   "outputs": [
    {
     "data": {
      "text/plain": [
       "array([0.2, 0.4, 0.6, 0.8, 1. , 1.2, 1.4, 1.6, 1.8, 2. ])"
      ]
     },
     "execution_count": 26,
     "metadata": {},
     "output_type": "execute_result"
    }
   ],
   "source": [
    "C_s = np.linspace(0.2, 2, 10)\n",
    "C_s"
   ]
  },
  {
   "cell_type": "code",
   "execution_count": 27,
   "metadata": {},
   "outputs": [],
   "source": [
    "def find_best_model(model_key, C_s, x_train, x_test, y_train, y_test):\n",
    "    lgrs = []\n",
    "    for count, c in enumerate(C_s): \n",
    "        lgr, score = model_key[0]('l2', c, x_train, x_test, y_train, y_test)\n",
    "        print(count+1 , 'out of ', len(C_s), 'jobs | C: ', round(c,1), ' | Score: ', score)\n",
    "        lgrs.append((lgr,score))\n",
    "    \n",
    "    best_lgr = max(lgrs, key=model_key[1])\n",
    "    return lgrs, best_lgr"
   ]
  },
  {
   "cell_type": "code",
   "execution_count": 28,
   "metadata": {},
   "outputs": [],
   "source": [
    "def run_lgr_proba(penalty, c, x_train, x_test, y_train, y_test):\n",
    "    lgr = LogisticRegression(penalty=penalty, C=c, solver='liblinear', class_weight='balanced')\n",
    "    lgr.fit(x_train,y_train)\n",
    "    \n",
    "    y_train_proba = lgr.predict_proba(x_train)\n",
    "    precision, recall, thresholds = pr_curve(y_train, y_train_proba[:,1])\n",
    "\n",
    "    precision = precision[precision!=0]\n",
    "    recall = recall[np.where(precision!=0)]\n",
    "    f1 = 2*precision*recall/(precision+recall)\n",
    "    train_threshold = thresholds[ np.where(f1 == np.max(f1)) ][0]\n",
    "    \n",
    "   \n",
    "    max_f1 = np.max(f1)\n",
    "    max_recall = recall[ np.where(f1 == np.max(f1)) ][0]\n",
    "    max_precision = precision[ np.where(f1 == np.max(f1)) ][0]\n",
    "    \n",
    "    return lgr, { 'f1':  round(max_f1 ,6), 'recall': round(max_recall ,4), 'precision': round(max_precision ,4),  'threshold': round(train_threshold,4) }\n",
    "\n",
    "def run_lgr_proba_key(e):\n",
    "    return e[1]['f1']"
   ]
  },
  {
   "cell_type": "code",
   "execution_count": 29,
   "metadata": {},
   "outputs": [],
   "source": [
    "def analyse_model(lgr, threshold, x_test ,y_test):\n",
    "    y_hat_proba = lgr.predict_proba(x_test)\n",
    "    y_hat_test = ( y_hat_proba[:,1] > threshold ).astype(int)\n",
    "    report = classification_report(y_test, y_hat_test)\n",
    "    return report "
   ]
  },
  {
   "cell_type": "code",
   "execution_count": 30,
   "metadata": {},
   "outputs": [],
   "source": [
    "def print_report(report):\n",
    "    print(\"\\n\", report[0:43])\n",
    "    print(report[109:152])\n",
    "    print(report[163:210])"
   ]
  },
  {
   "cell_type": "markdown",
   "metadata": {},
   "source": [
    "## Baseline Model"
   ]
  },
  {
   "cell_type": "markdown",
   "metadata": {},
   "source": [
    "### Training Set"
   ]
  },
  {
   "cell_type": "code",
   "execution_count": 31,
   "metadata": {},
   "outputs": [
    {
     "data": {
      "text/plain": [
       "Index(['time_in_hospital', 'num_lab_procedures', 'num_procedures',\n",
       "       'num_medications', 'number_outpatient', 'number_emergency',\n",
       "       'number_inpatient', 'number_diagnoses', 'total_diag'],\n",
       "      dtype='object')"
      ]
     },
     "execution_count": 31,
     "metadata": {},
     "output_type": "execute_result"
    }
   ],
   "source": [
    "cont_vars = X._get_numeric_data().columns\n",
    "cont_vars"
   ]
  },
  {
   "cell_type": "code",
   "execution_count": 32,
   "metadata": {},
   "outputs": [
    {
     "name": "stdout",
     "output_type": "stream",
     "text": [
      "1 out of  10 jobs | C:  0.2  | Score:  {'f1': 0.256189, 'recall': 0.3918, 'precision': 0.1903, 'threshold': 0.5257}\n",
      "2 out of  10 jobs | C:  0.4  | Score:  {'f1': 0.256189, 'recall': 0.3918, 'precision': 0.1903, 'threshold': 0.5258}\n",
      "3 out of  10 jobs | C:  0.6  | Score:  {'f1': 0.256189, 'recall': 0.3918, 'precision': 0.1903, 'threshold': 0.5258}\n",
      "4 out of  10 jobs | C:  0.8  | Score:  {'f1': 0.256189, 'recall': 0.3918, 'precision': 0.1903, 'threshold': 0.5258}\n",
      "5 out of  10 jobs | C:  1.0  | Score:  {'f1': 0.256189, 'recall': 0.3918, 'precision': 0.1903, 'threshold': 0.5258}\n",
      "6 out of  10 jobs | C:  1.2  | Score:  {'f1': 0.256189, 'recall': 0.3918, 'precision': 0.1903, 'threshold': 0.5258}\n",
      "7 out of  10 jobs | C:  1.4  | Score:  {'f1': 0.256189, 'recall': 0.3918, 'precision': 0.1903, 'threshold': 0.5258}\n",
      "8 out of  10 jobs | C:  1.6  | Score:  {'f1': 0.256189, 'recall': 0.3918, 'precision': 0.1903, 'threshold': 0.5258}\n",
      "9 out of  10 jobs | C:  1.8  | Score:  {'f1': 0.256189, 'recall': 0.3918, 'precision': 0.1903, 'threshold': 0.5258}\n",
      "10 out of  10 jobs | C:  2.0  | Score:  {'f1': 0.256189, 'recall': 0.3918, 'precision': 0.1903, 'threshold': 0.5258}\n"
     ]
    }
   ],
   "source": [
    "cont_vars = X._get_numeric_data().columns\n",
    "lgrs_proba, best_baseline = find_best_model((run_lgr_proba,run_lgr_proba_key), \n",
    "                                             C_s, X_train[cont_vars], X_test[cont_vars], y_train, y_test)"
   ]
  },
  {
   "cell_type": "code",
   "execution_count": 33,
   "metadata": {},
   "outputs": [
    {
     "data": {
      "text/plain": [
       "(LogisticRegression(C=0.2, class_weight='balanced', solver='liblinear'),\n",
       " {'f1': 0.256189, 'recall': 0.3918, 'precision': 0.1903, 'threshold': 0.5257})"
      ]
     },
     "execution_count": 33,
     "metadata": {},
     "output_type": "execute_result"
    }
   ],
   "source": [
    "best_baseline"
   ]
  },
  {
   "cell_type": "code",
   "execution_count": 34,
   "metadata": {},
   "outputs": [
    {
     "name": "stdout",
     "output_type": "stream",
     "text": [
      "\n",
      "               precision    recall  f1-score\n",
      "           1       0.19      0.39      0.26\n",
      "\n",
      "    accuracy                           0.74   \n"
     ]
    }
   ],
   "source": [
    "print_report(analyse_model( best_baseline[0],  best_baseline[1]['threshold'], X_train[cont_vars], y_train))"
   ]
  },
  {
   "cell_type": "code",
   "execution_count": 37,
   "metadata": {},
   "outputs": [
    {
     "data": {
      "text/plain": [
       "<sklearn.metrics._plot.precision_recall_curve.PrecisionRecallDisplay at 0x1a5a19f0b48>"
      ]
     },
     "execution_count": 37,
     "metadata": {},
     "output_type": "execute_result"
    },
    {
     "data": {
      "image/png": "[encoded data removed]",
      "text/plain": [
       "<Figure size 432x288 with 1 Axes>"
      ]
     },
     "metadata": {
      "needs_background": "light"
     },
     "output_type": "display_data"
    }
   ],
   "source": [
    "plot_pr_curve(best_baseline[0], X_train[cont_vars], y_train)"
   ]
  },
  {
   "cell_type": "markdown",
   "metadata": {},
   "source": [
    "### Test Set"
   ]
  },
  {
   "cell_type": "code",
   "execution_count": 38,
   "metadata": {},
   "outputs": [
    {
     "name": "stdout",
     "output_type": "stream",
     "text": [
      "\n",
      "               precision    recall  f1-score\n",
      "           1       0.19      0.38      0.25\n",
      "\n",
      "    accuracy                           0.74   \n"
     ]
    }
   ],
   "source": [
    "print_report(analyse_model( best_baseline[0],  best_baseline[1]['threshold'], X_test[cont_vars], y_test))"
   ]
  },
  {
   "cell_type": "code",
   "execution_count": 39,
   "metadata": {},
   "outputs": [
    {
     "data": {
      "text/plain": [
       "<sklearn.metrics._plot.precision_recall_curve.PrecisionRecallDisplay at 0x1a5bdb8ca48>"
      ]
     },
     "execution_count": 39,
     "metadata": {},
     "output_type": "execute_result"
    },
    {
     "data": {
      "image/png": "[encoded data removed]",
      "text/plain": [
       "<Figure size 432x288 with 1 Axes>"
      ]
     },
     "metadata": {
      "needs_background": "light"
     },
     "output_type": "display_data"
    }
   ],
   "source": [
    "plot_pr_curve(best_baseline[0], X_test[cont_vars], y_test)"
   ]
  },
  {
   "cell_type": "markdown",
   "metadata": {},
   "source": [
    "### Analysis of Baseline Model Performance\n",
    "The baseline model had the following metrics:\n",
    "\n",
    "| Group    | Precision | Recall | f1-score | accuracy |\n",
    "|----------|-----------|--------|----------|----------|\n",
    "| Training | 0.19      | 0.39   | 0.26     | 0.74     |\n",
    "| Test     | 0.19      | 0.38   | 0.25     | 0.74     |\n",
    "\n",
    "The baseline model performance was consistent between the training and test sets.  \n",
    "\n",
    "The baseline model had a <b>recall of 38-39%</b> and precision of 18% (f1-score = 25-26%).      "
   ]
  },
  {
   "cell_type": "markdown",
   "metadata": {},
   "source": [
    "## Final Model"
   ]
  },
  {
   "cell_type": "markdown",
   "metadata": {},
   "source": [
    "### Training Set"
   ]
  },
  {
   "cell_type": "code",
   "execution_count": 40,
   "metadata": {},
   "outputs": [
    {
     "name": "stdout",
     "output_type": "stream",
     "text": [
      "1 out of  10 jobs | C:  0.2  | Score:  {'f1': 0.271827, 'recall': 0.5146, 'precision': 0.1847, 'threshold': 0.5181}\n",
      "2 out of  10 jobs | C:  0.4  | Score:  {'f1': 0.271777, 'recall': 0.487, 'precision': 0.1885, 'threshold': 0.5269}\n",
      "3 out of  10 jobs | C:  0.6  | Score:  {'f1': 0.271802, 'recall': 0.4904, 'precision': 0.188, 'threshold': 0.526}\n",
      "4 out of  10 jobs | C:  0.8  | Score:  {'f1': 0.271979, 'recall': 0.4886, 'precision': 0.1884, 'threshold': 0.5267}\n",
      "5 out of  10 jobs | C:  1.0  | Score:  {'f1': 0.272021, 'recall': 0.4891, 'precision': 0.1884, 'threshold': 0.5266}\n",
      "6 out of  10 jobs | C:  1.2  | Score:  {'f1': 0.272076, 'recall': 0.485, 'precision': 0.1891, 'threshold': 0.528}\n",
      "7 out of  10 jobs | C:  1.4  | Score:  {'f1': 0.271938, 'recall': 0.4888, 'precision': 0.1884, 'threshold': 0.5267}\n",
      "8 out of  10 jobs | C:  1.6  | Score:  {'f1': 0.27183, 'recall': 0.4848, 'precision': 0.1889, 'threshold': 0.528}\n",
      "9 out of  10 jobs | C:  1.8  | Score:  {'f1': 0.271842, 'recall': 0.4863, 'precision': 0.1886, 'threshold': 0.5276}\n",
      "10 out of  10 jobs | C:  2.0  | Score:  {'f1': 0.27188, 'recall': 0.4863, 'precision': 0.1887, 'threshold': 0.5276}\n"
     ]
    }
   ],
   "source": [
    "lgrs_proba, best_final = find_best_model((run_lgr_proba,run_lgr_proba_key), C_s, X_train, X_test, y_train, y_test)"
   ]
  },
  {
   "cell_type": "code",
   "execution_count": 41,
   "metadata": {},
   "outputs": [
    {
     "data": {
      "text/plain": [
       "(LogisticRegression(C=1.2, class_weight='balanced', solver='liblinear'),\n",
       " {'f1': 0.272076, 'recall': 0.485, 'precision': 0.1891, 'threshold': 0.528})"
      ]
     },
     "execution_count": 41,
     "metadata": {},
     "output_type": "execute_result"
    }
   ],
   "source": [
    "best_final"
   ]
  },
  {
   "cell_type": "code",
   "execution_count": 46,
   "metadata": {},
   "outputs": [
    {
     "name": "stdout",
     "output_type": "stream",
     "text": [
      "\n",
      "               precision    recall  f1-score\n",
      "           1       0.19      0.48      0.27\n",
      "\n",
      "    accuracy                           0.71   \n"
     ]
    }
   ],
   "source": [
    "print_report(analyse_model( best_final[0],  best_final[1]['threshold'], X_train, y_train))"
   ]
  },
  {
   "cell_type": "code",
   "execution_count": 42,
   "metadata": {},
   "outputs": [
    {
     "data": {
      "text/plain": [
       "<sklearn.metrics._plot.precision_recall_curve.PrecisionRecallDisplay at 0x1a5c21e0b08>"
      ]
     },
     "execution_count": 42,
     "metadata": {},
     "output_type": "execute_result"
    },
    {
     "data": {
      "image/png": "[encoded data removed]",
      "text/plain": [
       "<Figure size 432x288 with 1 Axes>"
      ]
     },
     "metadata": {
      "needs_background": "light"
     },
     "output_type": "display_data"
    }
   ],
   "source": [
    "plot_pr_curve(best_final[0], X_train, y_train)"
   ]
  },
  {
   "cell_type": "markdown",
   "metadata": {},
   "source": [
    "### Test Set"
   ]
  },
  {
   "cell_type": "code",
   "execution_count": 49,
   "metadata": {},
   "outputs": [
    {
     "name": "stdout",
     "output_type": "stream",
     "text": [
      "\n",
      "               precision    recall  f1-score\n",
      "           1       0.18      0.47      0.26\n",
      "\n",
      "    accuracy                           0.70   \n"
     ]
    }
   ],
   "source": [
    "print_report(analyse_model( best_final[0],  best_final[1]['threshold'], X_test, y_test))"
   ]
  },
  {
   "cell_type": "code",
   "execution_count": 50,
   "metadata": {},
   "outputs": [
    {
     "data": {
      "text/plain": [
       "<sklearn.metrics._plot.precision_recall_curve.PrecisionRecallDisplay at 0x1a5b9a62e88>"
      ]
     },
     "execution_count": 50,
     "metadata": {},
     "output_type": "execute_result"
    },
    {
     "data": {
      "image/png": "[encoded data removed]",
      "text/plain": [
       "<Figure size 432x288 with 1 Axes>"
      ]
     },
     "metadata": {
      "needs_background": "light"
     },
     "output_type": "display_data"
    }
   ],
   "source": [
    "plot_pr_curve(best_final[0], X_test, y_test)"
   ]
  },
  {
   "cell_type": "markdown",
   "metadata": {
    "id": "p-C7Tc5W8g_e"
   },
   "source": [
    "## Model's Performance Analysis <a id='performance-analysis'/>"
   ]
  },
  {
   "cell_type": "markdown",
   "metadata": {
    "id": "B1QaouAiN5D9"
   },
   "source": [
    "### Analysis of Final Model Performance\n",
    "The final model had the following metrics:\n",
    "\n",
    "| Group    | Precision | Recall | f1-score | accuracy |\n",
    "|----------|-----------|--------|----------|----------|\n",
    "| Test     | 0.18      | 0.48   |  0.27    | 0.71     |\n",
    "| Training | 0.18      | 0.47   |  0.26    | 0.70     |\n",
    "\n",
    "The final model performance was consistent between the training and test sets.  \n",
    "\n",
    "The final model had a <b>recall of 47-48%</b> and precision of 18% (f1-score = 26-27%).  This was a 10% incremental improvement in the recall (and a 3-4% drop in accuracy).  The final model accurately predicts approximately 1 in 2 patients that will be readmitted within 30 days.  "
   ]
  },
  {
   "cell_type": "markdown",
   "metadata": {
    "id": "HISQa9FO8g_e"
   },
   "source": [
    "# Model Interpretability & Explainability <a id='model-explanation'>"
   ]
  },
  {
   "cell_type": "markdown",
   "metadata": {},
   "source": [
    "## Baseline Model\n",
    "\n",
    "### Which variables were more important and why?  How did you come to the conclusion these variables were important how how should the audience interpret this?\n",
    "The single most important continuous feature in the baseline model was number_inpatient.  This is the number of times a patient was previously admitted to inpatient care, which has a strong positive correlation to being readmitted within 30 days."
   ]
  },
  {
   "cell_type": "code",
   "execution_count": 51,
   "metadata": {},
   "outputs": [],
   "source": [
    "feat_coef = []\n",
    "feat = zip(cont_vars, best_baseline[0].coef_[0])\n",
    "[feat_coef.append([i,j]) for i,j in feat]\n",
    "feat_coef = pd.DataFrame(feat_coef, columns = ['feature','coef'])\n",
    "top_feat_baseline = feat_coef.loc[abs(feat_coef['coef'])>0].sort_values(by='coef')"
   ]
  },
  {
   "cell_type": "code",
   "execution_count": 52,
   "metadata": {},
   "outputs": [
    {
     "data": {
      "image/png": "[encoded data removed]",
      "text/plain": [
       "<Figure size 432x288 with 1 Axes>"
      ]
     },
     "metadata": {
      "needs_background": "light"
     },
     "output_type": "display_data"
    }
   ],
   "source": [
    "feat_plot = sns.barplot(data=top_feat_baseline, x='feature', y='coef', palette = \"ch:s=.25,rot=-.25\")\n",
    "plt.xticks(rotation=90)\n",
    "plt.show()"
   ]
  },
  {
   "cell_type": "markdown",
   "metadata": {},
   "source": [
    "## Final Model\n",
    "\n",
    "### Which variables were more important and why?\n",
    "\n",
    "The three most important factors were all negatively correlated with readmittance within 30 days:\n",
    "- Otolaryngology (a.k.a. Ears, Nose, and Throat)\n",
    "- Gynecology\n",
    "- Diagnoses for \"Complications in Child Birth\" (K)   \n",
    "\n",
    "Input from domain knowledge experts is needed to asses why these variables were the most important and negatively correlated with the response.  \n",
    "\n",
    "### How did you come to the conclusion these variables were important how how should the audience interpret this?\n",
    "\n",
    "Variables were assessed for importance after centering & scaling continuous variable and one-hot-encoding categorical variables such that they all range from 0 to 1.  Using this approach, all of the variables are on equivalent scales and can be assessed by their model coefficients.  These coefficients are presented in the bar plot below.     "
   ]
  },
  {
   "cell_type": "code",
   "execution_count": 53,
   "metadata": {},
   "outputs": [],
   "source": [
    "feat_coef = []\n",
    "feat = zip(X_train.columns, best_final[0].coef_[0])\n",
    "[feat_coef.append([i,j]) for i,j in feat]\n",
    "feat_coef = pd.DataFrame(feat_coef, columns = ['feature','coef'])\n",
    "top_feat_final = feat_coef.loc[abs(feat_coef['coef'])>1].sort_values(by='coef')"
   ]
  },
  {
   "cell_type": "code",
   "execution_count": 55,
   "metadata": {},
   "outputs": [
    {
     "data": {
      "image/png": "[encoded data removed]",
      "text/plain": [
       "<Figure size 432x288 with 1 Axes>"
      ]
     },
     "metadata": {
      "needs_background": "light"
     },
     "output_type": "display_data"
    }
   ],
   "source": [
    "feat_plot = sns.barplot(data=top_feat_final, x='feature', y='coef', palette = \"ch:s=.25,rot=-.25\")\n",
    "plt.xticks(rotation=90)\n",
    "plt.show()"
   ]
  },
  {
   "cell_type": "markdown",
   "metadata": {
    "id": "JbAhMB1x8g_e"
   },
   "source": [
    "# Conclusion <a id='conclusion'>"
   ]
  },
  {
   "cell_type": "markdown",
   "metadata": {
    "id": "xnsadV7M8g_e"
   },
   "source": [
    "### Final Model Proposal <a id='final-model-proposal'/>"
   ]
  },
  {
   "cell_type": "markdown",
   "metadata": {
    "id": "4XXMCBozN5D-"
   },
   "source": [
    "We are proposing a classification model that predicts readmittance to the hospital within 30 days with a 25% F1 score (47% Recall and 18% Precision).  This model maximizes the F1 score, maximizing both Recall and Precision in a balanced way such that both patients and hospitals can manage their risk effectively.    \n",
    "\n",
    "The model helps identify patients at high risk of readmission within 30 days and patients with a low risk of readmission that can be discharged.  Our model identifies top risk factors for readmittance within 30 days which the hospital staff can use as focus areas when deciding to keep or discharge a patient.  This model is not perfect and should be used as a guide rather than gospel.  Additional feature engineering and domain knowledge experts are needed to guide model improvements.        "
   ]
  },
  {
   "cell_type": "markdown",
   "metadata": {
    "id": "oX8fXYczN5D-"
   },
   "source": [
    "### Future Considerations and Model Enhancements <a id='model-enhancements'/>"
   ]
  },
  {
   "cell_type": "markdown",
   "metadata": {
    "id": "xzeTkIEWN5D-"
   },
   "source": [
    "The data were aggregated from multiple hospitals and may not be generalizable across health care systems, geography, etc. Hospitals may want to develop models with their own data or regional data to guide their staff on discharge decisions.  \n",
    "\n",
    "Need a conversation with stakeholders regarding:\n",
    "- Balance of precision vs. recall.  What is the cost of a false positive vs. a false negative?  \n",
    "- Level of detail with diagnoses columns (diag 1-3).  We generalized these diagnoses such that there were fewer levels to model.  We recommend reviewing the top factor recoded diagnoses categories to see if any warrant a deeper dive"
   ]
  },
  {
   "cell_type": "markdown",
   "metadata": {
    "id": "Thch7JfCN5D_"
   },
   "source": [
    "### Alternative Modeling Approaches <a id='alternative-modeling-approaches'>"
   ]
  },
  {
   "cell_type": "markdown",
   "metadata": {
    "id": "IUpUUjATN5D_"
   },
   "source": [
    "Other classification modeling techniques - Naive Bayes, Random Forest, Boosted Decision Trees"
   ]
  }
 ],
 "metadata": {
  "colab": {
   "name": "case_study2_template.ipynb",
   "provenance": []
  },
  "kernelspec": {
   "display_name": "Python 3",
   "language": "python",
   "name": "python3"
  },
  "language_info": {
   "codemirror_mode": {
    "name": "ipython",
    "version": 3
   },
   "file_extension": ".py",
   "mimetype": "text/x-python",
   "name": "python",
   "nbconvert_exporter": "python",
   "pygments_lexer": "ipython3",
   "version": "3.7.10"
  }
 },
 "nbformat": 4,
 "nbformat_minor": 1
}
