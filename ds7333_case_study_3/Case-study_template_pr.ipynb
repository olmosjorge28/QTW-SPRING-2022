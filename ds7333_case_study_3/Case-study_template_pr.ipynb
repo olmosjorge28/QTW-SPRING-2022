{
 "cells": [
  {
   "cell_type": "markdown",
   "metadata": {
    "id": "GoCXzNvN8g-8"
   },
   "source": [
    "# Case Study 3 - Email Spam"
   ]
  },
  {
   "cell_type": "markdown",
   "metadata": {
    "id": "YBy24RcB8g-9"
   },
   "source": [
    "__Team Members:__ Amber Clark, Andrew Leppla, Jorge Olmos, Paritosh Rai"
   ]
  },
  {
   "cell_type": "markdown",
   "metadata": {},
   "source": [
    "# Team Strategy"
   ]
  },
  {
   "cell_type": "markdown",
   "metadata": {},
   "source": [
    "Emails are read in.  Kept: From, Subject, Body.\n",
    "- Remove \\n with regex\n",
    "- Remove other non-alphabetic characters - keep the counts?\n",
    "\n",
    "Feature Extraction:\n",
    "1. Vectorization - TFIDF (removes stop words)\n",
    "If we have time:\n",
    "2. Created 'trusted' and 'spam' email address book to filter spam - IS THIS OUT OF SCOPE PER SCOPE?\n",
    "\n",
    "Model:\n",
    "Classification with Naive Bayes - Amber, Jorge\n",
    "1. Subject Only = Baseline\n",
    "2. Body (+Subject?)\n",
    "\n",
    "Clustering:\n",
    "kNN with cosine distance for NLP - Andrew, Paritosh"
   ]
  },
  {
   "cell_type": "markdown",
   "metadata": {
    "id": "O4O0up-U8g-9"
   },
   "source": [
    "# Content\n",
    "* [Business Understanding](#business-understanding)\n",
    "    - [Scope](#scope)\n",
    "    - [Introduction](#introduction)\n",
    "    - [Methods](#methods)\n",
    "    - [Results](#results)\n",
    "* [Data Evaluation](#data-evaluation)\n",
    "    - [Loading Data](#loading-data) \n",
    "    - [Data Summary](#data-summary)\n",
    "    - [Missing Values](#missing-values)\n",
    "    - [Feature Removal](#feature-removal)\n",
    "    - [Exploratory Data Analysis (EDA)](#eda)\n",
    "    - [Assumptions](#assumptions)\n",
    "* [Model Preparations](#model-preparations)\n",
    "    - [Sampling & Scaling Data](#sampling-scaling-data)\n",
    "    - [Proposed Method](#proposed-metrics)\n",
    "    - [Evaluation Metrics](#evaluation-metrics)\n",
    "    - [Feature Selection](#feature-selection)\n",
    "* [Model Building & Evaluations](#model-building)\n",
    "    - [Sampling Methodology](#sampling-methodology)\n",
    "    - [Model](#model)\n",
    "    - [Performance Analysis](#performance-analysis)\n",
    "* [Model Interpretability & Explainability](#model-explanation)\n",
    "    - [Examining Feature Importance](#examining-feature-importance)\n",
    "* [Conclusion](#conclusion)\n",
    "    - [Final Model Proposal](#final-model-proposal)\n",
    "    - [Future Considerations and Model Enhancements](#model-enhancements)\n",
    "    - [Alternative Modeling Approaches](#alternative-modeling-approaches)"
   ]
  },
  {
   "cell_type": "markdown",
   "metadata": {
    "id": "TRedT-FB8g_A"
   },
   "source": [
    "# Business Understanding & Executive Summary <a id='business-understanding'/>"
   ]
  },
  {
   "cell_type": "markdown",
   "metadata": {
    "id": "F-4BiuuQOEh4"
   },
   "source": [
    "What are we trying to solve for and why is it important?\n"
   ]
  },
  {
   "cell_type": "markdown",
   "metadata": {
    "id": "_TBIHKRt8g--"
   },
   "source": [
    "### Scope <a id='scope'/>\n",
    "\n",
    "\n",
    "### Introduction <a id='introduction'/>\n",
    "\n",
    "\n",
    "### Methods <a id='methods'/>\n",
    " \n",
    " \n",
    "### Results <a id='results'/>\n",
    " "
   ]
  },
  {
   "cell_type": "markdown",
   "metadata": {
    "id": "PVtcYu5j8g_B"
   },
   "source": [
    "# Data Evaluation <a id='data-evaluation'>\n",
    "    "
   ]
  },
  {
   "cell_type": "markdown",
   "metadata": {
    "id": "ZsIJIUSjOLcl"
   },
   "source": [
    "Summarize data being used?\n",
    "\n",
    "Are there missing values?\n",
    "\n",
    "Which variables are needed and which are not?\n",
    "\n",
    "What assumptions or conclusions are you drawing about your data?"
   ]
  },
  {
   "cell_type": "markdown",
   "metadata": {
    "id": "ox-qLqjc8g_B"
   },
   "source": []
  },
  {
   "cell_type": "code",
   "execution_count": 1,
   "metadata": {
    "id": "qcBcP8Jy8g_C",
    "outputId": "a6a85b4a-a106-48bb-bc2a-e6a5fb8ca494"
   },
   "outputs": [
    {
     "data": {
      "text/plain": [
       "\"import warnings\\nwarnings.filterwarnings('ignore')\\nfrom warnings import simplefilter \\nsimplefilter(action='ignore', category=FutureWarning)\""
      ]
     },
     "execution_count": 1,
     "metadata": {},
     "output_type": "execute_result"
    }
   ],
   "source": [
    "# standard libraries\n",
    "import pandas as pd\n",
    "import numpy as np\n",
    "import os\n",
    "from IPython.display import Image\n",
    "\n",
    "# email\n",
    "#from email.message import EmailMessage\n",
    "from email import policy\n",
    "from email.parser import BytesParser\n",
    "\n",
    "# visualization\n",
    "import seaborn as sns\n",
    "import matplotlib.pyplot as plt\n",
    "%matplotlib inline\n",
    "from tabulate import tabulate\n",
    "\n",
    "# data pre-processing\n",
    "from sklearn.model_selection import train_test_split\n",
    "\n",
    "# prediction models\n",
    "\n",
    "\n",
    "# import warnings filter\n",
    "'''import warnings\n",
    "warnings.filterwarnings('ignore')\n",
    "from warnings import simplefilter \n",
    "simplefilter(action='ignore', category=FutureWarning)'''"
   ]
  },
  {
   "cell_type": "markdown",
   "metadata": {
    "id": "4WcvKI3y8g_C"
   },
   "source": [
    "## Loading Data <a id='loading-data'>"
   ]
  },
  {
   "cell_type": "markdown",
   "metadata": {
    "id": "ZDhb7boF8g_D"
   },
   "source": []
  },
  {
   "cell_type": "code",
   "execution_count": 2,
   "metadata": {
    "id": "3dYvb9W38g_D",
    "outputId": "3a6b397c-92dc-4ce0-c599-9cf69191e676"
   },
   "outputs": [],
   "source": [
    "# Specify your local directory\n",
    "email_dir = 'C:\\\\Paritosh\\\\SMU\\\\7333 Quantifying the World\\\\Proj\\\\CS3\\\\Data'\n",
    "os.chdir(email_dir)"
   ]
  },
  {
   "cell_type": "code",
   "execution_count": 3,
   "metadata": {},
   "outputs": [
    {
     "data": {
      "text/plain": [
       "['easy_ham', 'easy_ham_2', 'hard_ham', 'spam', 'spam_2']"
      ]
     },
     "execution_count": 3,
     "metadata": {},
     "output_type": "execute_result"
    }
   ],
   "source": [
    "# Get the list of folder names\n",
    "folders = os.listdir()\n",
    "folders"
   ]
  },
  {
   "cell_type": "code",
   "execution_count": 4,
   "metadata": {},
   "outputs": [],
   "source": [
    "# Get the file names in each folder (list of lists)\n",
    "files = [ os.listdir('.\\\\' + i) for i in folders] \n",
    "\n",
    "# Create a list of dataframes for all of the folders\n",
    "emails = [ pd.DataFrame({'folder' : [], 'from' : [], 'subject' : [], 'body': []}) ]*len(folders)\n",
    "\n",
    "# Add folder path to file names\n",
    "for i in range(0,len(folders)):\n",
    "    for j in range(0, len(files[i])):\n",
    "        files[i][j] = str(folders[i] + '\\\\' + files[i][j]) \n",
    "        \n",
    "        # Parse and extract email 'subject' and 'from'\n",
    "        with open(files[i][j], 'rb') as fp:\n",
    "            msg = BytesParser(policy=policy.default).parse(fp)\n",
    "            \n",
    "            # Error checking when reading in body for some html-based emails from spam folders\n",
    "            try:\n",
    "                simplest = msg.get_body(preferencelist=('plain', 'html'))\n",
    "                try:\n",
    "                    new_row = {'folder': folders[i], 'from': msg['from'], 'subject': msg['subject'], 'body': simplest.get_content()}\n",
    "                    emails[i] = emails[i].append(new_row, ignore_index=True)\n",
    "                except:\n",
    "                    new_row = {'folder': folders[i], 'from': msg['from'], 'subject':msg['subject'], 'body':'Error(html)'}\n",
    "                    emails[i] = emails[i].append(new_row, ignore_index=True)\n",
    "            except:\n",
    "                new_row = {'folder': folders[i], 'from': msg['from'], 'subject':msg['subject'], 'body':'Error(html)'}\n",
    "                emails[i] = emails[i].append(new_row, ignore_index=True)"
   ]
  },
  {
   "cell_type": "code",
   "execution_count": 5,
   "metadata": {},
   "outputs": [
    {
     "name": "stdout",
     "output_type": "stream",
     "text": [
      "# files in folders: [5052, 1401, 500, 1001, 1398]\n",
      "# emails read in  : [5052, 1401, 500, 1001, 1398]\n",
      "\n",
      "# total emails = 9352\n"
     ]
    }
   ],
   "source": [
    "# Emails per folder\n",
    "print(\"# files in folders:\", [len(i) for i in files])\n",
    "print(\"# emails read in  :\", [i.shape[0] for i in emails])\n",
    "\n",
    "# Total emails\n",
    "print( \"\\n# total emails =\", sum([len(i) for i in files]) )"
   ]
  },
  {
   "cell_type": "code",
   "execution_count": 6,
   "metadata": {},
   "outputs": [
    {
     "data": {
      "text/plain": [
       "(9352, 6)"
      ]
     },
     "execution_count": 6,
     "metadata": {},
     "output_type": "execute_result"
    }
   ],
   "source": [
    "# Create single dataframe from all folders\n",
    "df = pd.concat( [emails[i] for i in range(0, len(emails))], axis=0)\n",
    "\n",
    "# create response column from folder names\n",
    "df['spam'] = (df['folder']=='spam|spam_2').astype(int)\n",
    "#df['spam'].astype(int)\n",
    "\n",
    "#  Keep the indices from the folders\n",
    "df = df.reset_index() \n",
    "df.columns = ['folder_idx', 'folder', 'from', 'subject', 'body', 'spam']\n",
    "\n",
    "df.shape"
   ]
  },
  {
   "cell_type": "code",
   "execution_count": 7,
   "metadata": {
    "scrolled": true
   },
   "outputs": [
    {
     "data": {
      "text/html": [
       "<div>\n",
       "<style scoped>\n",
       "    .dataframe tbody tr th:only-of-type {\n",
       "        vertical-align: middle;\n",
       "    }\n",
       "\n",
       "    .dataframe tbody tr th {\n",
       "        vertical-align: top;\n",
       "    }\n",
       "\n",
       "    .dataframe thead th {\n",
       "        text-align: right;\n",
       "    }\n",
       "</style>\n",
       "<table border=\"1\" class=\"dataframe\">\n",
       "  <thead>\n",
       "    <tr style=\"text-align: right;\">\n",
       "      <th></th>\n",
       "      <th>folder_idx</th>\n",
       "      <th>folder</th>\n",
       "      <th>from</th>\n",
       "      <th>subject</th>\n",
       "      <th>body</th>\n",
       "      <th>spam</th>\n",
       "    </tr>\n",
       "  </thead>\n",
       "  <tbody>\n",
       "    <tr>\n",
       "      <th>0</th>\n",
       "      <td>0</td>\n",
       "      <td>easy_ham</td>\n",
       "      <td>Robert Elz &lt;kre@munnari.OZ.AU&gt;</td>\n",
       "      <td>Re: New Sequences Window</td>\n",
       "      <td>Date:        Wed, 21 Aug 2002 10:54:46 -05...</td>\n",
       "      <td>0</td>\n",
       "    </tr>\n",
       "    <tr>\n",
       "      <th>1</th>\n",
       "      <td>1</td>\n",
       "      <td>easy_ham</td>\n",
       "      <td>Steve Burt &lt;Steve_Burt@cursor-system.com&gt;</td>\n",
       "      <td>[zzzzteana] RE: Alexander</td>\n",
       "      <td>Martin A posted:\\nTassos Papadopoulos, the Gre...</td>\n",
       "      <td>0</td>\n",
       "    </tr>\n",
       "    <tr>\n",
       "      <th>2</th>\n",
       "      <td>2</td>\n",
       "      <td>easy_ham</td>\n",
       "      <td>Tim Chapman &lt;timc@2ubh.com&gt;</td>\n",
       "      <td>[zzzzteana] Moscow bomber</td>\n",
       "      <td>Man Threatens Explosion In Moscow \\n\\nThursday...</td>\n",
       "      <td>0</td>\n",
       "    </tr>\n",
       "    <tr>\n",
       "      <th>3</th>\n",
       "      <td>3</td>\n",
       "      <td>easy_ham</td>\n",
       "      <td>Monty Solomon &lt;monty@roscom.com&gt;</td>\n",
       "      <td>[IRR] Klez: The Virus That  Won't Die</td>\n",
       "      <td>Klez: The Virus That Won't Die\\n \\nAlready the...</td>\n",
       "      <td>0</td>\n",
       "    </tr>\n",
       "    <tr>\n",
       "      <th>4</th>\n",
       "      <td>4</td>\n",
       "      <td>easy_ham</td>\n",
       "      <td>Stewart Smith &lt;Stewart.Smith@ee.ed.ac.uk&gt;</td>\n",
       "      <td>Re: [zzzzteana] Nothing like mama used to make</td>\n",
       "      <td>&gt;  in adding cream to spaghetti carbonara, whi...</td>\n",
       "      <td>0</td>\n",
       "    </tr>\n",
       "  </tbody>\n",
       "</table>\n",
       "</div>"
      ],
      "text/plain": [
       "   folder_idx    folder                                       from  \\\n",
       "0           0  easy_ham             Robert Elz <kre@munnari.OZ.AU>   \n",
       "1           1  easy_ham  Steve Burt <Steve_Burt@cursor-system.com>   \n",
       "2           2  easy_ham                Tim Chapman <timc@2ubh.com>   \n",
       "3           3  easy_ham           Monty Solomon <monty@roscom.com>   \n",
       "4           4  easy_ham  Stewart Smith <Stewart.Smith@ee.ed.ac.uk>   \n",
       "\n",
       "                                          subject  \\\n",
       "0                        Re: New Sequences Window   \n",
       "1                       [zzzzteana] RE: Alexander   \n",
       "2                       [zzzzteana] Moscow bomber   \n",
       "3           [IRR] Klez: The Virus That  Won't Die   \n",
       "4  Re: [zzzzteana] Nothing like mama used to make   \n",
       "\n",
       "                                                body  spam  \n",
       "0      Date:        Wed, 21 Aug 2002 10:54:46 -05...     0  \n",
       "1  Martin A posted:\\nTassos Papadopoulos, the Gre...     0  \n",
       "2  Man Threatens Explosion In Moscow \\n\\nThursday...     0  \n",
       "3  Klez: The Virus That Won't Die\\n \\nAlready the...     0  \n",
       "4  >  in adding cream to spaghetti carbonara, whi...     0  "
      ]
     },
     "execution_count": 7,
     "metadata": {},
     "output_type": "execute_result"
    }
   ],
   "source": [
    "df.head()"
   ]
  },
  {
   "cell_type": "code",
   "execution_count": 8,
   "metadata": {},
   "outputs": [],
   "source": [
    "df = df.dropna()"
   ]
  },
  {
   "cell_type": "code",
   "execution_count": 9,
   "metadata": {},
   "outputs": [
    {
     "data": {
      "text/plain": [
       "0                          Re: New Sequences Window\n",
       "1                         [zzzzteana] RE: Alexander\n",
       "2                         [zzzzteana] Moscow bomber\n",
       "3             [IRR] Klez: The Virus That  Won't Die\n",
       "4    Re: [zzzzteana] Nothing like mama used to make\n",
       "Name: subject, dtype: object"
      ]
     },
     "execution_count": 9,
     "metadata": {},
     "output_type": "execute_result"
    }
   ],
   "source": [
    "subject=df.subject\n",
    "subject.head()"
   ]
  },
  {
   "cell_type": "code",
   "execution_count": 10,
   "metadata": {},
   "outputs": [],
   "source": [
    "## Cleaning the ham text\n",
    "import re\n",
    "from nltk.corpus import stopwords\n",
    "from nltk.tokenize import RegexpTokenizer\n",
    "stop_words = set(stopwords.words('english')) ## import stopwords\n",
    "from nltk.stem import PorterStemmer ## imported the porter stemmer\n",
    "from nltk.stem import WordNetLemmatizer ## imported wordnet lemmatizer\n",
    "ps = PorterStemmer()  \n",
    "wrlm = WordNetLemmatizer()\n",
    "indx = list(subject.index.values)\n",
    "\n",
    "subject_corp = []\n",
    "for i in indx:\n",
    "    updated = re.sub('[^a-zA-Z]', ' ', str(subject[i])) ## if not A-Za_Z replace with empty space\n",
    "    updated = updated.lower()   ## change to lower case\n",
    "    updated = updated.split()    ## splts at space\n",
    "    updated = [w for w in updated if not w.lower() in stop_words] ## remove stop words\n",
    "    updated = [ps.stem(w) for w in updated]                       ## stemmed the words\n",
    "    updated = [wrlm.lemmatize(w) for w in updated]                ## keep words that have meaning\n",
    "#     print(updated)\n",
    "#     review = ' '.join(updated)\n",
    "    subject_corp.append(updated)"
   ]
  },
  {
   "cell_type": "code",
   "execution_count": 11,
   "metadata": {},
   "outputs": [
    {
     "data": {
      "text/plain": [
       "[['new', 'sequenc', 'window'],\n",
       " ['zzzzteana', 'alexand'],\n",
       " ['zzzzteana', 'moscow', 'bomber'],\n",
       " ['irr', 'klez', 'viru', 'die'],\n",
       " ['zzzzteana', 'noth', 'like', 'mama', 'use', 'make'],\n",
       " ['zzzzteana', 'noth', 'like', 'mama', 'use', 'make'],\n",
       " ['zzzzteana', 'playboy', 'want', 'go', 'bang'],\n",
       " ['zzzzteana', 'noth', 'like', 'mama', 'use', 'make'],\n",
       " ['zzzzteana', 'meaning', 'sentenc'],\n",
       " ['new', 'sequenc', 'window'],\n",
       " ['satalk', 'sa', 'cgi', 'configur', 'script'],\n",
       " ['sadev', 'interest', 'approach', 'spam', 'handl'],\n",
       " ['sadev', 'live', 'rule', 'updat', 'releas'],\n",
       " ['ilug', 'problem', 'raid', 'cobalt', 'raq'],\n",
       " ['new', 'sequenc', 'window'],\n",
       " ['case', 'spam'],\n",
       " ['iiu', 'eircom', 'adsl', 'nat', 'ing'],\n",
       " ['zzzzteana', 'australian', 'cathol', 'kiddi', 'perv', 'step', 'asid'],\n",
       " ['ilug', 'sun', 'solari'],\n",
       " ['zzzzteana', 'muppet'],\n",
       " ['zzzzteana', 'alexand'],\n",
       " ['ilug', 'sun', 'solari'],\n",
       " ['zzzzteana', 'muppet'],\n",
       " ['ilug', 'sun', 'solari'],\n",
       " ['ilug', 'sun', 'solari'],\n",
       " ['zzzzteana', 'muppet'],\n",
       " ['ilug', 'sun', 'solari'],\n",
       " ['cur', 'india', 'social'],\n",
       " ['ilug', 'newbi', 'seek', 'advic', 'suse'],\n",
       " ['lifegem'],\n",
       " ['lifegem'],\n",
       " ['zzzzteana', 'moscow', 'bomber'],\n",
       " ['ilug', 'format', 'window', 'partit', 'linux'],\n",
       " ['public', 'mail', 'list', 'sign', 'packag'],\n",
       " ['entrepreneur'],\n",
       " ['haun', 'froehlingsdorf', 'infinet', 'com'],\n",
       " ['ilug', 'sun', 'solari'],\n",
       " ['encrypt', 'approach', 'secur', 'web', 'applic'],\n",
       " ['ilug', 'sun', 'solari'],\n",
       " ['entrepreneur'],\n",
       " ['ilug', 'newbi', 'seek', 'advic', 'suse'],\n",
       " ['iiu', 'eircom', 'adsl', 'nat', 'ing'],\n",
       " ['irr', 'klez', 'viru', 'die'],\n",
       " ['entrepreneur'],\n",
       " ['case', 'spam'],\n",
       " ['entrepreneur'],\n",
       " ['ilug', 'newbi', 'seek', 'advic', 'suse'],\n",
       " ['entrepreneur'],\n",
       " ['entrepreneur'],\n",
       " ['fyi', 'gone', 'weekend'],\n",
       " ['ilug', 'eircom', 'adsl', 'modem'],\n",
       " ['internet', 'satur', 'iceland'],\n",
       " ['comput', 'recreat'],\n",
       " ['insert', 'signatur'],\n",
       " ['satalk', 'habeu'],\n",
       " ['ilug', 'look', 'file', 'directori', 'zip', 'file'],\n",
       " ['ilug', 'look', 'file', 'directori', 'zip', 'file'],\n",
       " ['ilug', 'serial', 'consol', 'quit', 'work'],\n",
       " ['ilug', 'eircom', 'adsl', 'modem'],\n",
       " ['peopl', 'know', 'web'],\n",
       " ['zzzzteana', 'fw', 'nessi', 'new', 'nessi', 'pic'],\n",
       " ['iiu', 'virus', 'bounc', 'mail'],\n",
       " ['scoop',\n",
       "  'scoop',\n",
       "  'm',\n",
       "  'word',\n",
       "  'doc',\n",
       "  'file',\n",
       "  'someth',\n",
       "  'plucker',\n",
       "  'palm',\n",
       "  'app',\n",
       "  'display'],\n",
       " ['scoop',\n",
       "  'scoop',\n",
       "  'm',\n",
       "  'word',\n",
       "  'doc',\n",
       "  'file',\n",
       "  'someth',\n",
       "  'plucker',\n",
       "  'palm',\n",
       "  'app',\n",
       "  'display'],\n",
       " ['zzzzteana', 'noth', 'like', 'mama', 'use', 'make'],\n",
       " ['use', 'perl', 'headlin'],\n",
       " ['scoop',\n",
       "  'scoop',\n",
       "  'm',\n",
       "  'word',\n",
       "  'doc',\n",
       "  'file',\n",
       "  'someth',\n",
       "  'plucker',\n",
       "  'palm',\n",
       "  'app',\n",
       "  'display'],\n",
       " ['tini', 'dn', 'swap'],\n",
       " ['tini', 'dn', 'swap'],\n",
       " ['ntk'],\n",
       " ['find', 'bug'],\n",
       " ['tini', 'dn', 'swap'],\n",
       " ['save', 'intern', 'call'],\n",
       " ['ximian',\n",
       "  'updat',\n",
       "  'hyperlink',\n",
       "  'handl',\n",
       "  'gaim',\n",
       "  'allow',\n",
       "  'arbitrari',\n",
       "  'code',\n",
       "  'execut'],\n",
       " ['alsa', 'driver', 'rebuild', 'fail', 'undeclar', 'usb', 'symbol'],\n",
       " ['zzzzteana', 'noth', 'like', 'mama', 'use', 'make'],\n",
       " ['case', 'spam'],\n",
       " ['entrepreneur'],\n",
       " ['case', 'spam'],\n",
       " ['case', 'spam'],\n",
       " ['gpl', 'limit', 'put', 'test'],\n",
       " ['case', 'spam'],\n",
       " ['vox', 'gpl', 'limit', 'put', 'test'],\n",
       " ['gov', 'get', 'tough', 'net', 'user', 'er', 'pirat'],\n",
       " ['gov', 'get', 'tough', 'net', 'user', 'er', 'pirat'],\n",
       " ['java', 'kiddi'],\n",
       " ['zzzzteana', 'playboy', 'want', 'go', 'bang'],\n",
       " ['packag', 'stuff', 'plea', 'p'],\n",
       " ['java', 'kiddi'],\n",
       " ['java', 'kiddi'],\n",
       " ['java', 'kiddi'],\n",
       " ['ilug', 'second', 'date'],\n",
       " ['java', 'kiddi'],\n",
       " ['ilug', 'ad', 'email', 'distribut', 'list'],\n",
       " ['java', 'kiddi'],\n",
       " ['ilug', 'vpn', 'implement'],\n",
       " ['ilug', 'age', 'old', 'mailer', 'question'],\n",
       " ['zzzzteana', 'noth', 'like', 'mama', 'use', 'make'],\n",
       " ['ilug', 'howto', 'soho', 'system'],\n",
       " ['ilug', 'howto', 'soho', 'system'],\n",
       " ['ilug', 'email', 'list', 'manag', 'howto'],\n",
       " ['ilug', 'serial', 'number', 'host', 'file'],\n",
       " ['ilug', 'email', 'list', 'manag', 'howto'],\n",
       " ['ilug', 'email', 'list', 'manag', 'howto'],\n",
       " ['ilug', 'serial', 'number', 'host', 'file'],\n",
       " ['ilug', 'damian', 'conway', 'belfast'],\n",
       " ['ilug', 'market', 'sig', 'good', 'start'],\n",
       " ['ilug', 'redhat'],\n",
       " ['zzzzteana', 'meaning', 'sentenc'],\n",
       " ['ilug', 'freeserv', 'uk'],\n",
       " ['bad', 'dcc', 'traffic', 'e', 'corp', 'net'],\n",
       " ['ilug', 'vpn', 'implement'],\n",
       " ['ilug', 'drop', 'replac', 'ingr', 'databas'],\n",
       " ['ilug', 'serial', 'port', 'transient', 'failur'],\n",
       " ['ilug', 'rpm', 'depend'],\n",
       " ['ilug', 'rpm', 'depend'],\n",
       " ['ilug', 'interest', 'articl', 'free', 'softwar', 'licenc'],\n",
       " ['ilug', 'retriev', 'read', 'mail', 'webmail', 'eircom', 'net', 'via', 'pop'],\n",
       " ['ilug', 'retriev', 'read', 'mail', 'webmail', 'eircom', 'net', 'via', 'pop'],\n",
       " ['new', 'sequenc', 'window'],\n",
       " ['ilug', 'adsl', 'router', 'modem', 'combo'],\n",
       " ['ilug', 'interest', 'articl', 'free', 'softwar', 'licenc'],\n",
       " ['thread', 'ish', 'ilug', 'adsl', 'router', 'modem', 'combo'],\n",
       " ['ilug', 'adsl', 'router', 'modem', 'combo'],\n",
       " ['zzzzteana', 'megalithomania', 'unpissup'],\n",
       " ['zzzzteana', 'megalithomania', 'unpissup'],\n",
       " ['zzzzteana', 'seti', 'home'],\n",
       " ['zzzzteana', 'new', 'theori', 'map', 'new', 'world'],\n",
       " ['zzzzteana', 'megalithomania', 'unpissup'],\n",
       " ['zzzzteana', 'man', 'admit', 'soham', 'kidnap', 'hoax', 'call'],\n",
       " ['satalk', 'sa', 'cgi', 'configur', 'script'],\n",
       " ['zzzzteana', 'propheci'],\n",
       " ['zzzzteana', 'tenth', 'planet'],\n",
       " ['zzzzteana', 'cafe', 'forteana', 'back', 'onlin'],\n",
       " ['zzzzteana', 'cafe', 'forteana', 'back', 'onlin'],\n",
       " ['zzzzteana', 'latest', 'iraq', 'relat', 'news'],\n",
       " ['razor', 'user', 'razor', 'error', 'find', 'new'],\n",
       " ['zzzzteana', 'latest', 'iraq', 'relat', 'news'],\n",
       " ['zzzzteana', 'cafe', 'forteana', 'back', 'onlin'],\n",
       " ['absurd', 'life'],\n",
       " ['use', 'perl', 'headlin'],\n",
       " ['sadev', 'interest', 'approach', 'spam', 'handl'],\n",
       " ['use', 'perl', 'stori'],\n",
       " ['zzzzteana', 'bigfoot', 'big', 'foot', 'display', 'peabodi'],\n",
       " ['zzzzteana', 'fortean', 'time', 'onlin'],\n",
       " ['zzzzteana', 'good', 'isp', 'mac'],\n",
       " ['zzzzteana', 'cafe', 'forteana', 'back', 'onlin'],\n",
       " ['zzzzteana', 'cafe', 'forteana', 'back', 'onlin'],\n",
       " ['xine', 'src', 'packg', 'still', 'give', 'error'],\n",
       " ['teach', 'man', 'fish'],\n",
       " ['iran', 'push', 'un', 'intervent', 'u'],\n",
       " ['man', 'kill', 'self', 'home', 'boobi', 'trap'],\n",
       " ['new', 'sequenc', 'window'],\n",
       " ['curri', 'radiat', 'burn'],\n",
       " ['copi', 'nintendo', 'zine', 'go', 'ebay'],\n",
       " ['half', 'give'],\n",
       " ['polic', 'pay', 'damag', 'journalist'],\n",
       " ['die', 'isra', 'helicopt', 'fire', 'palestinian', 'crowd'],\n",
       " ['dawn', 'raid', 'stoke', 'fire', 'resent'],\n",
       " ['new', 'solar', 'system', 'bodi', 'reveal'],\n",
       " ['man', 'lead', 'machin', 'chess', 'duel'],\n",
       " ['human', 'handshak', 'open', 'data', 'stream'],\n",
       " ['geneticist', 'tini', 'worm', 'win', 'nobel', 'prize'],\n",
       " ['sadev', 'parti', 'san', 'francisco', 'tonight'],\n",
       " ['ilug', 'packag', 'risk', 'reput', 'linux', 'distribut'],\n",
       " ['ilug', 'packag', 'risk', 'reput', 'linux', 'distribut'],\n",
       " ['webdev', 'mod', 'usertrack'],\n",
       " ['zzzzteana', 'fake', 'bank', 'websit', 'con', 'victim'],\n",
       " ['zzzzteana', 'uncl', 'mark', 'seek', 'parol'],\n",
       " ['ilug', 'cheap', 'linux', 'pc'],\n",
       " ['zzzzteana', 'bash', 'bishop'],\n",
       " ['zzzzteana', 'deliv', 'u', 'weevil'],\n",
       " ['zzzzteana', 'nobel', 'astrophysicist'],\n",
       " ['zzzzteana', 'lioness', 'adopt', 'fifth', 'antelop'],\n",
       " ['sadev', 'live', 'rule', 'updat', 'releas'],\n",
       " ['zzzzteana', 'dracula', 'theme', 'park', 'could', 'switch', 'bucharest'],\n",
       " ['zzzzteana', 'languag', 'problem'],\n",
       " ['zzzzteana', 'astro', 'bit'],\n",
       " ['ilug', 'cheap', 'linux', 'pc'],\n",
       " ['decentr', 'worth', 'worri'],\n",
       " ['zzzzteana', 'fw', 'plea', 'give', 'gener'],\n",
       " ['bush', 'cover', 'waterfront'],\n",
       " ['zzzzteana', 'pravda', 'report', 'citi', 'moon'],\n",
       " ['ilug', 'cup', 'question'],\n",
       " ['ilug', 'mini', 'itx'],\n",
       " ['ilug', 'problem', 'raid', 'cobalt', 'raq'],\n",
       " ['zzzzteana', 'put', 'stereo', 'smoke'],\n",
       " ['zzzzteana', 'materialis', 'transfigur'],\n",
       " ['zzzzteana', 'moon', 'ocean'],\n",
       " ['zzzzteana', 'bad', 'buffalo'],\n",
       " ['zzzzteana', 'moon', 'ocean'],\n",
       " ['zzzzteana', 'illusionist', 'emerg', 'hour', 'underwat'],\n",
       " ['zzzzteana', 'come', 'firestorm'],\n",
       " ['zzzzteana', 'steam'],\n",
       " ['zzzzteana', 'cambodian', 'buddhaa', 'unearth'],\n",
       " ['zzzzteana', 'height', 'weight', 'girth', 'etc'],\n",
       " ['new', 'sequenc', 'window'],\n",
       " ['zzzzteana', 'emigr', 'russia', 'stepp', 'far'],\n",
       " ['zzzzteana', 'six', 'arrest', 'attack', 'palio', 'jockey', 'defect'],\n",
       " ['zzzzteana', 'wacki', 'imam'],\n",
       " ['zzzzteana', 'white', 'hors', 'vandalis'],\n",
       " ['zzzzteana', 'crop', 'idol', 'crop', 'circl', 'competit'],\n",
       " ['zzzzteana', 'wacki', 'imam'],\n",
       " ['zzzzteana', 'august', 'big', 'cat', 'prowl'],\n",
       " ['zzzzteana', 'fwd', 'hill', 'monument', 'defac', 'promot', 'hunt'],\n",
       " ['zzzzteana', 'digest', 'number'],\n",
       " ['satalk', 'patent', 'tmda', 'like', 'system'],\n",
       " ['case', 'spam'],\n",
       " ['gov', 'get', 'tough', 'net', 'user', 'er', 'pirat'],\n",
       " ['startup', 'bubbl', 'unemploy', 'fwd'],\n",
       " ['gov', 'get', 'tough', 'net', 'user', 'er', 'pirat'],\n",
       " ['canadian'],\n",
       " ['zzzzteana', 'fwd', 'fort', 'evid', 'briton', 'u', 'th', 'centuri'],\n",
       " ['zzzzteana', 'secondhand', 'book', 'onlin'],\n",
       " ['zzzzteana', 'new', 'steve', 'earl'],\n",
       " ['zzzzteana', 'new', 'steve', 'earl'],\n",
       " ['ilug', 'got', 'crappi', 'laptop'],\n",
       " ['ilug', 'find', 'biggest', 'file'],\n",
       " ['iiu', 'eircom', 'adsl', 'nat', 'ing'],\n",
       " ['ilug', 'got', 'crappi', 'laptop'],\n",
       " ['ilug', 'doolin'],\n",
       " ['ilug', 'find', 'biggest', 'file'],\n",
       " ['ilug', 'find', 'biggest', 'file'],\n",
       " ['ilug', 'convert', 'string', 'hex', 'ascii'],\n",
       " ['ilug', 'doolin'],\n",
       " ['ilug', 'use', 'normal', 'ide', 'devic', 'dell', 'latitud', 'cpx', 'laptop'],\n",
       " ['ilug', 'use', 'normal', 'ide', 'devic', 'dell', 'latitud', 'cpx', 'laptop'],\n",
       " ['ilug', 'find', 'biggest', 'file'],\n",
       " ['ilug', 'use', 'normal', 'ide', 'devic', 'dell', 'latitud', 'cpx', 'laptop'],\n",
       " ['zzzzteana', 'australian', 'cathol', 'kiddi', 'perv', 'step', 'asid'],\n",
       " ['ilug', 'ot', 'dell', 'machin', 'give', 'hassl'],\n",
       " ['ilug', 'use', 'normal', 'ide', 'devic', 'dell', 'latitud', 'cpx', 'laptop'],\n",
       " ['fw',\n",
       "  'ilug',\n",
       "  'use',\n",
       "  'normal',\n",
       "  'ide',\n",
       "  'devic',\n",
       "  'dell',\n",
       "  'latitud',\n",
       "  'cpx',\n",
       "  'lapto',\n",
       "  'p'],\n",
       " ['ilug', 'ot', 'dell', 'machin', 'give', 'hassl'],\n",
       " ['ilug', 'ot', 'dell', 'machin', 'give', 'hassl'],\n",
       " ['ilug', 'directori', 'merg'],\n",
       " ['ilug', 'pppd', 'disconnect'],\n",
       " ['ilug', 'convert', 'string', 'hex', 'ascii'],\n",
       " ['ilug', 'find', 'biggest', 'file'],\n",
       " ['ilug', 'find', 'biggest', 'file'],\n",
       " ['ilug', 'sun', 'solari'],\n",
       " ['ilug', 'convert', 'string', 'hex', 'ascii'],\n",
       " ['ilug', 'ot', 'dell', 'machin', 'give', 'hassl'],\n",
       " ['ilug', 'newbi', 'seek', 'advic', 'suse'],\n",
       " ['alsa', 'almost', 'made', 'easi'],\n",
       " ['patch', 'enabl', 'disabl', 'log'],\n",
       " ['zzzzteana', 'compens', 'world', 'youngest', 'mother'],\n",
       " ['zzzzteana', 'pictish'],\n",
       " ['zzzzteana', 'wacki', 'imam'],\n",
       " ['zzzzteana', 'linc', 'lizard'],\n",
       " ['zzzzteana', 'hot', 'rock'],\n",
       " ['zzzzteana', 'muppet'],\n",
       " ['zzzzteana', 'lost', 'penguin', 'found', 'aliv'],\n",
       " ['home', 'dude'],\n",
       " ['zzzzteana', 'big', 'cat', 'increas'],\n",
       " ['zzzzteana', 'u', 'armi', 'test', 'portabl', 'translat'],\n",
       " ['zzzzteana', 'worryingli', 'sophist', 'bee'],\n",
       " ['zzzzteana', 'betamax', 'final', 'laid', 'rest'],\n",
       " ['ilug', 'hay', 'accura', 'isdn', 'pci'],\n",
       " ['ilug', 'modem', 'problem'],\n",
       " ['zzzzteana', 'wacki', 'imam'],\n",
       " ['zzzzteana', 'cincinnati', 'group', 'want', 'stamp', 'hotel', 'sex', 'movi'],\n",
       " ['ilug', 'sun', 'solari'],\n",
       " ['zzzzteana', 'save', 'planet', 'kill', 'peopl'],\n",
       " ['zzzzteana', 'frog', 'fall', 'cheapsid'],\n",
       " ['zzzzteana', 'free', 'web', 'host'],\n",
       " ['zzzzteana',\n",
       "  'fwd',\n",
       "  'tlcb',\n",
       "  'jimmi',\n",
       "  'carter',\n",
       "  'troubl',\n",
       "  'new',\n",
       "  'face',\n",
       "  'america'],\n",
       " ['zzzzteana', 'scissor', 'snip', 'third', 'world'],\n",
       " ['zzzzteana', 'save', 'planet', 'kill', 'peopl'],\n",
       " ['zzzzteana', 'save', 'planet', 'kill', 'peopl'],\n",
       " ['zzzzteana', 'hitler', 'style', 'applic', 'welcom', 'parti'],\n",
       " ['ilug', 'flat', 'rate', 'back', 'lad'],\n",
       " ['ilug', 'modem', 'problem'],\n",
       " ['zzzzteana', 'muppet'],\n",
       " ['ilug', 'newbi', 'linux', 'look', 'inform', 'cv'],\n",
       " ['ilug', 'newbi', 'linux', 'look', 'inform', 'cv'],\n",
       " ['ilug', 'window', 'user', 'access', 'cv'],\n",
       " ['ilug', 'pctel', 'modul'],\n",
       " ['ilug', 'pctel', 'modul'],\n",
       " ['ilug', 'semaphor', 'linux', 'rh'],\n",
       " ['use', 'base', 'imag', 'delta', 'imag', 'autom', 'recoveri', 'attack'],\n",
       " ['absurd', 'life'],\n",
       " ['absurd', 'life'],\n",
       " ['process', 'music', 'mekon'],\n",
       " ['ilug', 'sun', 'solari'],\n",
       " ['origin', 'softwar', 'engin'],\n",
       " ['disappear', 'allianc'],\n",
       " ['disappear', 'allianc'],\n",
       " ['absurd', 'life'],\n",
       " ['disappear', 'allianc'],\n",
       " ['lord', 'rington', 'arbock', 'v', 'seeleck'],\n",
       " ['nyt', 'korea', 'real', 'rage', 'virtual', 'game'],\n",
       " ['activebuddi'],\n",
       " ['ilug', 'connect', 'bp', 'rh', 'help'],\n",
       " ['ilug', 'connect', 'bp', 'rh', 'help'],\n",
       " ['ilug', 'sun', 'solari'],\n",
       " ['ilug', 'cup', 'question'],\n",
       " ['ilug', 'interest', 'articl', 'free', 'softwar', 'licenc'],\n",
       " ['ilug', 'modem', 'question'],\n",
       " ['ilug', 'mini', 'itx'],\n",
       " ['ilug', 'interest', 'articl', 'free', 'softwar', 'licenc'],\n",
       " ['redhat', 'freetyp'],\n",
       " ['kvim'],\n",
       " ['mplayer', 'work'],\n",
       " ['zoot', 'apt', 'openssh', 'new', 'dvd', 'play', 'doc'],\n",
       " ['redhat', 'freetyp'],\n",
       " ['cv', 'report'],\n",
       " ['nessu'],\n",
       " ['xine', 'cannot', 'play', 'dvd', 'liba', 'block', 'error'],\n",
       " ['ack', 'apt', 'get', 'still', 'fail', 'stump', 'rh'],\n",
       " ['rh', 'dma', 'dvd', 'drive'],\n",
       " ['rh', 'dma', 'dvd', 'drive'],\n",
       " ['zoot', 'apt', 'openssh', 'new', 'dvd', 'play', 'doc'],\n",
       " ['redhat', 'freetyp'],\n",
       " ['redhat', 'freetyp'],\n",
       " ['zoot', 'apt', 'openssh', 'new', 'dvd', 'play', 'doc'],\n",
       " ['redhat', 'freetyp'],\n",
       " ['zzzzteana', 'muppet'],\n",
       " ['apt', 'repositori', 'authent', 'time'],\n",
       " ['apt', 'repositori', 'authent', 'time'],\n",
       " ['apt', 'repositori', 'authent', 'time'],\n",
       " ['zzzzteana', 'plumstead', 'panther', 'pictur'],\n",
       " ['zzzzteana', 'billi', 'septic'],\n",
       " ['zzzzteana', 'punch', 'bag', 'fill', 'incontin', 'pad'],\n",
       " ['gov', 'get', 'tough', 'net', 'user', 'er', 'pirat'],\n",
       " ['gov', 'get', 'tough', 'net', 'user', 'er', 'pirat'],\n",
       " ['case', 'spam'],\n",
       " ['case', 'spam'],\n",
       " ['cv', 'report'],\n",
       " ['ouch', 'ouch', 'ouch', 'ouch', 'ouch', 'brain', 'hurt'],\n",
       " ['biblic', 'digress'],\n",
       " ['nytim', 'com', 'articl', 'texa', 'pacif', 'goe', 'other', 'fear', 'spend'],\n",
       " ['sourc', 'biblic', 'digress'],\n",
       " ['biblic', 'digress'],\n",
       " ['tge', 'thug', 'south', 'boston', 'reveng', 'bandit', 'princess'],\n",
       " ['sourc', 'biblic', 'digress'],\n",
       " ['comput', 'recreat'],\n",
       " ['gov', 'get', 'tough', 'net', 'user', 'er', 'pirat'],\n",
       " ['comput', 'recreat'],\n",
       " ['ilug', 'sun', 'solari'],\n",
       " ['ouch', 'ouch', 'ouch', 'ouch', 'ouch', 'brain', 'hurt'],\n",
       " ['gov', 'get', 'tough', 'net', 'user', 'er', 'pirat'],\n",
       " ['unlucki', 'get'],\n",
       " ['unlucki', 'get'],\n",
       " ['gov', 'get', 'tough', 'net', 'user', 'er', 'pirat'],\n",
       " ['gov', 'get', 'tough', 'net', 'user', 'er', 'pirat'],\n",
       " ['unlucki', 'get'],\n",
       " ['cur', 'india', 'social'],\n",
       " ['cur', 'india', 'social'],\n",
       " ['cur', 'india', 'social'],\n",
       " ['cur', 'india', 'social'],\n",
       " ['sprint', 'deliv', 'next', 'big', 'thing'],\n",
       " ['sprint', 'deliv', 'next', 'big', 'thing'],\n",
       " ['cur', 'india', 'social'],\n",
       " ['mime', 'inform', 'request', 'last', 'chang', 'feb'],\n",
       " ['case', 'spam'],\n",
       " ['underground', 'softwar', 'vulner', 'marketplac', 'hazard', 'fwd'],\n",
       " ['buffer', 'overflow'],\n",
       " ['entrepreneur'],\n",
       " ['doom'],\n",
       " ['enlighten'],\n",
       " ['encrypt', 'approach', 'secur', 'web', 'applic'],\n",
       " ['uci', 'creativ', 'write'],\n",
       " ['rambu', 'man'],\n",
       " ['cur', 'india', 'social'],\n",
       " ['entrepreneur'],\n",
       " ['unlucki', 'get'],\n",
       " ['biblic', 'digress'],\n",
       " ['gov', 'get', 'tough', 'net', 'user', 'er', 'pirat'],\n",
       " ['gov', 'get', 'tough', 'net', 'user', 'er', 'pirat'],\n",
       " ['rambu', 'man'],\n",
       " ['rambu', 'man'],\n",
       " ['cv', 'report'],\n",
       " ['gov', 'get', 'tough', 'net', 'user', 'er', 'pirat'],\n",
       " ['gecko', 'adhes', 'final', 'sus'],\n",
       " ['billion', 'billion'],\n",
       " ['mime', 'inform', 'request', 'last', 'chang', 'feb'],\n",
       " ['mime', 'inform', 'request', 'last', 'chang', 'feb'],\n",
       " ['datapow', 'announc', 'xml', 'silicon'],\n",
       " ['canadian'],\n",
       " ['canadian'],\n",
       " ['java', 'kiddi'],\n",
       " ['canadian'],\n",
       " ['sadev', 'releas', 'process', 'mass', 'check', 'statu', 'folk'],\n",
       " ['java', 'kiddi'],\n",
       " ['gov', 'get', 'tough', 'net', 'user', 'er', 'pirat'],\n",
       " ['java', 'kiddi'],\n",
       " ['java', 'kiddi'],\n",
       " ['gecko', 'adhes', 'final', 'sus'],\n",
       " ['java', 'kiddi'],\n",
       " ['anoth', 'low', 'probabl', 'event'],\n",
       " ['gecko', 'adhes', 'final', 'sus'],\n",
       " ['java', 'kiddi'],\n",
       " ['riaa', 'site', 'hack', 'overnight'],\n",
       " ['insert', 'signatur'],\n",
       " ['holiday', 'season', 'begin'],\n",
       " ['java', 'kiddi'],\n",
       " ['anoth', 'low', 'probabl', 'event'],\n",
       " ['java', 'kiddi'],\n",
       " ['holiday', 'season', 'begin'],\n",
       " ['internet', 'satur', 'iceland'],\n",
       " ['java', 'kiddi'],\n",
       " ['internet', 'satur', 'iceland'],\n",
       " ['rambu', 'man'],\n",
       " ['gasp'],\n",
       " ['insert', 'signatur'],\n",
       " ['revoc', 'grlygrl'],\n",
       " ['revoc', 'grlygrl'],\n",
       " ['java', 'kiddi'],\n",
       " ['tech', 'major', 'declin'],\n",
       " ['java', 'kiddi'],\n",
       " ['java', 'kiddi'],\n",
       " ['java', 'kiddi'],\n",
       " ['er'],\n",
       " ['java', 'kiddi'],\n",
       " ['java', 'kiddi'],\n",
       " ['ilug', 'newbi', 'seek', 'advic', 'suse'],\n",
       " ['schoolhouserock', 'dvd'],\n",
       " ['java', 'kiddi'],\n",
       " ['java', 'kiddi'],\n",
       " ['java', 'kiddi'],\n",
       " ['java', 'kiddi'],\n",
       " ['electr', 'car', 'edsel'],\n",
       " ['cv', 'report'],\n",
       " ['new', 'sequenc', 'window'],\n",
       " ['new', 'sequenc', 'window'],\n",
       " ['cv', 'report'],\n",
       " ['anolth', 'sequenc', 'relat', 'traceback'],\n",
       " ['insert', 'signatur'],\n",
       " ['default', 'show', 'plaintext', 'version', 'e', 'mail'],\n",
       " ['default', 'show', 'plaintext', 'version', 'e', 'mail'],\n",
       " ['new', 'sequenc', 'window'],\n",
       " ['anolth', 'sequenc', 'relat', 'traceback'],\n",
       " ['latest', 'php', 'upgrad'],\n",
       " ['latest', 'php', 'upgrad'],\n",
       " ['latest', 'php', 'upgrad'],\n",
       " ['hello', 'everybodi'],\n",
       " ['fw', 'go', 'get', 'make', 'alsa', 'rpm'],\n",
       " ['insert', 'signatur'],\n",
       " ['fw', 'go', 'get', 'make', 'alsa', 'rpm'],\n",
       " ['new', 'gkrellm', 'gtk', 'version'],\n",
       " ['new', 'gkrellm', 'gtk', 'version'],\n",
       " ['go', 'get', 'make', 'alsa', 'rpm'],\n",
       " ['java', 'kiddi'],\n",
       " ['make', 'mesh', 'move'],\n",
       " ['electr', 'car', 'edsel'],\n",
       " ['electr', 'car', 'edsel'],\n",
       " ['signer', 'angri', 'young', 'men', 'java', 'kiddi'],\n",
       " ['matter', 'go'],\n",
       " ['lifegem'],\n",
       " ['signer', 'angri', 'young', 'men', 'java', 'kiddi'],\n",
       " ['gasp'],\n",
       " ['signer', 'angri', 'young', 'men', 'java', 'kiddi'],\n",
       " ['infoworld', 'profil', 'max', 'levchin'],\n",
       " ['asynchron', 'gasp'],\n",
       " ['electr', 'car', 'edsel'],\n",
       " ['asynchron', 'gasp'],\n",
       " ['asynchron', 'gasp'],\n",
       " ['electr', 'car', 'edsel'],\n",
       " ['signer', 'angri', 'young', 'men', 'java', 'kiddi'],\n",
       " ['lifegem'],\n",
       " ['epa', 'stun', 'diesel', 'exhaust', 'caus', 'cancer'],\n",
       " ['kill', 'god'],\n",
       " ['kill', 'god'],\n",
       " ['cd', 'player', 'ui', 'toddler'],\n",
       " ['cd', 'player', 'ui', 'toddler'],\n",
       " ['whoa'],\n",
       " ['ouch'],\n",
       " ['gecko', 'adhes', 'final', 'sus'],\n",
       " ['java', 'kiddi'],\n",
       " ['ouch'],\n",
       " ['lifegem'],\n",
       " ['java', 'kiddi'],\n",
       " ['adam', 'dont', 'job', 'one', 'see'],\n",
       " ['cd', 'player', 'ui', 'toddler'],\n",
       " ['gecko', 'adhes', 'final', 'sus'],\n",
       " ['cd', 'player', 'ui', 'toddler'],\n",
       " ['cd', 'player', 'ui', 'toddler'],\n",
       " ['cd', 'player', 'ui', 'toddler'],\n",
       " ['cd', 'player', 'ui', 'toddler'],\n",
       " ['adam', 'dont', 'job', 'one', 'see'],\n",
       " ['java', 'kiddi'],\n",
       " ['ilug', 'format', 'window', 'partit', 'linux'],\n",
       " ['cd', 'player', 'ui', 'toddler'],\n",
       " ['ouch'],\n",
       " ['java', 'kiddi'],\n",
       " ['sell', 'wed', 'bliss', 'ouch'],\n",
       " ['sell', 'wed', 'bliss', 'ouch'],\n",
       " ['efnet', 'fork'],\n",
       " ['ouch', 'bebergflam'],\n",
       " ['sell', 'wed', 'bliss', 'ouch'],\n",
       " ['asynchron', 'gasp'],\n",
       " ['sell', 'wed', 'bliss', 'ouch'],\n",
       " ['properti', 'right', 'rd', 'world', 'de', 'soto', 'mysteri', 'capit'],\n",
       " ['sell', 'wed', 'bliss', 'ouch'],\n",
       " ['sell', 'wed', 'bliss', 'ouch'],\n",
       " ['electr', 'car', 'edsel'],\n",
       " ['sell', 'wed', 'bliss', 'ouch'],\n",
       " ['sell', 'wed', 'bliss', 'ouch'],\n",
       " ['sprint', 'deliv', 'next', 'big', 'thing'],\n",
       " ['ouch'],\n",
       " ['ouch'],\n",
       " ['sell', 'wed', 'bliss', 'ouch'],\n",
       " ['pitch', 'dark', 'bar', 'open', 'blind', 'date'],\n",
       " ['public', 'mail', 'list', 'sign', 'packag'],\n",
       " ['ouch', 'bebergflam'],\n",
       " ['sprint', 'deliv', 'next', 'big', 'thing'],\n",
       " ['sell', 'wed', 'bliss', 'ouch'],\n",
       " ['sprint', 'deliv', 'next', 'big', 'thing'],\n",
       " ['sell', 'wed', 'bliss', 'ouch'],\n",
       " ['sell', 'wed', 'bliss', 'ouch'],\n",
       " ['soe', 'ucsc', 'look', 'experienc', 'support', 'person'],\n",
       " ['sell', 'wed', 'bliss', 'ouch'],\n",
       " ['needl', 'damag', 'done'],\n",
       " ['sell', 'wed', 'bliss', 'ouch'],\n",
       " ['cv', 'report'],\n",
       " ['sell', 'wed', 'bliss', 'ouch'],\n",
       " ['googlecook'],\n",
       " ['hoag', 'object'],\n",
       " ['sell', 'wed', 'bliss', 'ouch'],\n",
       " ['sell', 'wed', 'bliss', 'ouch'],\n",
       " ['googl', 'china'],\n",
       " ['googlecook'],\n",
       " ['asynchron', 'gasp'],\n",
       " ['sell', 'wed', 'bliss', 'ouch'],\n",
       " ['googl', 'china'],\n",
       " ['entrepreneur'],\n",
       " ['sell', 'wed', 'bliss', 'ouch'],\n",
       " ['onlin', 'content', 'electron', 'publish', 'journal'],\n",
       " ['sell', 'wed', 'bliss', 'ouch'],\n",
       " ['sell', 'wed', 'bliss', 'ouch'],\n",
       " ['sell', 'wed', 'bliss', 'ouch'],\n",
       " ['sell', 'wed', 'bliss', 'ouch'],\n",
       " ['sell', 'wed', 'bliss', 'ouch'],\n",
       " ['sell', 'wed', 'bliss', 'ouch'],\n",
       " ['sell', 'wed', 'bliss', 'ouch'],\n",
       " ['sell', 'wed', 'bliss', 'ouch'],\n",
       " ['haun', 'froehlingsdorf', 'infinet', 'com'],\n",
       " ['sell', 'wed', 'bliss', 'ouch'],\n",
       " ['sell', 'wed', 'bliss', 'ouch'],\n",
       " ['sell', 'wed', 'bliss', 'ouch'],\n",
       " ['sell', 'wed', 'bliss', 'ouch'],\n",
       " ['big', 'jump'],\n",
       " ['big', 'jump'],\n",
       " ['whoa'],\n",
       " ['sell', 'wed', 'bliss', 'ouch'],\n",
       " ['sell', 'wed', 'bliss', 'ouch'],\n",
       " ['whoa'],\n",
       " ['cv', 'report'],\n",
       " ['earthview', 'whoa'],\n",
       " ['whoa'],\n",
       " ['sell', 'wed', 'bliss', 'ouch'],\n",
       " ['recommend', 'view'],\n",
       " ['earthview', 'whoa'],\n",
       " ['whoa'],\n",
       " ['earthview', 'whoa'],\n",
       " ['sell', 'wed', 'bliss', 'ouch'],\n",
       " ['earthview', 'app', 'whoa'],\n",
       " ['earthview', 'whoa'],\n",
       " ['ilug', 'sun', 'solari'],\n",
       " ['recommend', 'view'],\n",
       " ['sell', 'wed', 'bliss', 'ouch'],\n",
       " ['recommend', 'view'],\n",
       " ['sell', 'wed', 'bliss', 'ouch'],\n",
       " ['sell', 'wed', 'bliss', 'ouch'],\n",
       " ['sell', 'wed', 'bliss', 'ouch'],\n",
       " ['sell', 'wed', 'bliss', 'ouch'],\n",
       " ['sell', 'wed', 'bliss', 'ouch'],\n",
       " ['earthview', 'app', 'whoa'],\n",
       " ['sell', 'wed', 'bliss', 'ouch'],\n",
       " ['encrypt', 'approach', 'secur', 'web', 'applic'],\n",
       " ['sell', 'wed', 'bliss', 'ouch'],\n",
       " ['sell', 'wed', 'bliss', 'ouch'],\n",
       " ['sell', 'wed', 'bliss', 'ouch'],\n",
       " ['sell', 'wed', 'bliss', 'ouch'],\n",
       " ['sell', 'wed', 'bliss', 'ouch'],\n",
       " ['sell', 'wed', 'bliss', 'ouch'],\n",
       " ['sell', 'wed', 'bliss', 'ouch'],\n",
       " ['cyberia', 'final', 'cfp', 'int', 'j', 'standard', 'research'],\n",
       " ['internet', 'radio', 'exampl', 'colleg', 'station'],\n",
       " ['sell', 'wed', 'bliss', 'ouch'],\n",
       " ['cv', 'report'],\n",
       " ['internet', 'radio', 'exampl', 'colleg', 'station'],\n",
       " ['sell', 'wed', 'bliss', 'ouch'],\n",
       " ['big', 'jump'],\n",
       " ['recommend', 'view'],\n",
       " ['big', 'jump'],\n",
       " ['big', 'jump'],\n",
       " ['recommend', 'view'],\n",
       " ['recommend', 'view'],\n",
       " ['recommend', 'view'],\n",
       " ['recommend', 'view'],\n",
       " ['ilug', 'sun', 'solari'],\n",
       " ['recommend', 'view'],\n",
       " ['uae', 'ami', 'linux', 'laptop', 'import', 'detail'],\n",
       " ['big', 'jump'],\n",
       " ['recommend', 'view'],\n",
       " ['sell', 'wed', 'bliss', 'ouch'],\n",
       " ['recommend', 'view'],\n",
       " ['recommend', 'view'],\n",
       " ['tech', 'major', 'declin'],\n",
       " ['nytim', 'com', 'articl', 'friend', 'inde', 'harm', 'good'],\n",
       " ['promiscu', 'word', 'choic', 'sell', 'wed', 'bliss', 'ouch'],\n",
       " ['entrepreneur'],\n",
       " ['recommend', 'view'],\n",
       " ['microsoft', 'buy', 'xdegre', 'secur', 'access', 'compani'],\n",
       " ['microsoft', 'buy', 'xdegress', 'p', 'p', 'distribut', 'data', 'thing'],\n",
       " ['microsoft', 'buy', 'xdegress', 'p', 'p', 'distribut', 'data', 'thing'],\n",
       " ['storag', 'bit'],\n",
       " ['storag', 'bit'],\n",
       " ['snow'],\n",
       " ['microsoft', 'buy', 'xdegress', 'p', 'p', 'distribut', 'data', 'thing'],\n",
       " ['hanson', 'sept', 'messag', 'nation', 'review'],\n",
       " ['live', 'memori'],\n",
       " ['ilug', 'newbi', 'seek', 'advic', 'suse'],\n",
       " ['keillor', 'voic', 'wtc', 'site'],\n",
       " ['storag', 'bit'],\n",
       " ['hanson', 'sept', 'messag', 'nation', 'review'],\n",
       " ['salon', 'com', 'forbidden', 'thought'],\n",
       " ['thethresh'],\n",
       " ['sinc', 'subject'],\n",
       " ['bush', 'blew', 'take', 'two'],\n",
       " ['bush', 'blew', 'take', 'two'],\n",
       " ['fw', 'bush', 'blew', 'take', 'two'],\n",
       " ['someth', 'person', 'everyth'],\n",
       " ['iiu', 'eircom', 'adsl', 'nat', 'ing'],\n",
       " ['cb', 'news', 'interview', 'w', 'bush', 'reconstruct', 'peregrin'],\n",
       " ['dylsex', 'wrold', 'unti'],\n",
       " ['dylsex', 'wrold', 'unti'],\n",
       " ['dylsex', 'wrold', 'unti'],\n",
       " ['dylsex', 'wrold', 'unti'],\n",
       " ['dylsex', 'wrold', 'unti'],\n",
       " ['dylsex', 'wrold', 'unti'],\n",
       " ['dylsex', 'wrold', 'unti'],\n",
       " ['salon', 'com', 'forbidden', 'thought'],\n",
       " ['plate', 'tecton', 'updat'],\n",
       " ['case', 'spam'],\n",
       " ['dylsex', 'wrold', 'unti'],\n",
       " ['big', 'jump'],\n",
       " ['introduct'],\n",
       " ['slaughter', 'name', 'god'],\n",
       " ['slaughter', 'name', 'god'],\n",
       " ['hanson', 'sept', 'messag', 'nation', 'review'],\n",
       " ['slaughter', 'name', 'god'],\n",
       " ['storag', 'bit'],\n",
       " ['introduct'],\n",
       " ['slaughter', 'name', 'god'],\n",
       " ['entrepreneur'],\n",
       " ['slaughter', 'name', 'god'],\n",
       " ['slaughter', 'name', 'god'],\n",
       " ['nettim', 'war', 'prayer'],\n",
       " ['storag', 'bit'],\n",
       " ['introduct'],\n",
       " ['rsa', 'repost'],\n",
       " ['harvest', 'moon'],\n",
       " ['slaughter', 'name', 'god'],\n",
       " ['slaughter', 'name', 'god'],\n",
       " ['hanson', 'sept', 'messag', 'nation', 'review'],\n",
       " ['case', 'spam'],\n",
       " ['slaughter', 'name', 'god'],\n",
       " ['fw', 'wanna', 'buy', 'nuke'],\n",
       " ['hanson', 'sept', 'messag', 'nation', 'review'],\n",
       " ['slaughter', 'name', 'god'],\n",
       " ['hanson', 'sept', 'messag', 'nation', 'review'],\n",
       " ['slaughter', 'name', 'god'],\n",
       " ['big', 'jump'],\n",
       " ['slaughter', 'name', 'god'],\n",
       " ['slaughter', 'name', 'god'],\n",
       " ['slaughter', 'name', 'god'],\n",
       " ['entrepreneur'],\n",
       " ['boycot', 'yahoo'],\n",
       " ['storag', 'bit'],\n",
       " ['fwd', 'florida', 'primari', 'back', 'futur'],\n",
       " ['boycot', 'yahoo'],\n",
       " ['defend', 'unlik', 'speech', 'hanson', 'sept', 'messag', 'nation', 'review'],\n",
       " ['rsa', 'repost'],\n",
       " ['void', 'new', 'low', 'person', 'tip'],\n",
       " ['boycot', 'yahoo'],\n",
       " ['hanson', 'sept', 'messag', 'nation', 'review'],\n",
       " ['boycot', 'yahoo'],\n",
       " ['entrepreneur'],\n",
       " ['boycot', 'yahoo'],\n",
       " ['void', 'new', 'low', 'person', 'tip'],\n",
       " ['void', 'new', 'low', 'person', 'tip'],\n",
       " ['defend', 'unlik', 'speech'],\n",
       " ['void', 'new', 'low', 'person', 'tip'],\n",
       " ['void', 'new', 'low', 'person', 'tip'],\n",
       " ['boycot', 'yahoo'],\n",
       " ['void', 'new', 'low', 'person', 'tip'],\n",
       " ['void', 'new', 'low', 'person', 'tip'],\n",
       " ['aa', 'meet', 'hottest', 'place', 'meet', 'woman', 'big', 'buck'],\n",
       " ['anolth', 'sequenc', 'relat', 'traceback'],\n",
       " ['aa', 'meet', 'hottest', 'place', 'meet', 'woman', 'big', 'buck'],\n",
       " ['aa', 'meet', 'hottest', 'place', 'meet', 'woman', 'big', 'buck'],\n",
       " ['aa', 'meet', 'hottest', 'place', 'meet', 'woman', 'big', 'buck'],\n",
       " ['boycot', 'yahoo'],\n",
       " ['aa', 'meet', 'hottest', 'place', 'meet', 'woman', 'big', 'buck'],\n",
       " ['aa', 'meet', 'hottest', 'place', 'meet', 'woman', 'big', 'buck'],\n",
       " ['void', 'new', 'low', 'person', 'tip'],\n",
       " ['void', 'new', 'low', 'person', 'tip'],\n",
       " ['irr',\n",
       "  'dgc',\n",
       "  'chat',\n",
       "  'first',\n",
       "  'public',\n",
       "  'releas',\n",
       "  'neudist',\n",
       "  'distribut',\n",
       "  'transact',\n",
       "  'clear',\n",
       "  'framework'],\n",
       " ['oh', 'gawd', 'funni', 'site', 'day'],\n",
       " ['ilug', 'newbi', 'seek', 'advic', 'suse'],\n",
       " ['oh', 'gawd', 'funni', 'site', 'day'],\n",
       " ['hanson', 'sept', 'messag', 'nation', 'review'],\n",
       " ['hanson', 'sept', 'messag', 'nation', 'review'],\n",
       " ['hanson', 'sept', 'messag', 'nation', 'review'],\n",
       " ['aa', 'meet', 'hottest', 'place', 'meet', 'woman', 'big', 'buck'],\n",
       " ['void', 'new', 'low', 'person', 'tip'],\n",
       " ['hanson', 'sept', 'messag', 'nation', 'review'],\n",
       " ['hanson', 'sept', 'messag', 'nation', 'review'],\n",
       " ['webex', 'endeavor'],\n",
       " ['avast', 'matey'],\n",
       " ['entrepreneur'],\n",
       " ['avast', 'matey'],\n",
       " ['aa', 'meet', 'hottest', 'place', 'meet', 'woman', 'big', 'buck'],\n",
       " ['oh', 'gawd', 'funni', 'site', 'day'],\n",
       " ['hanson', 'sept', 'messag', 'nation', 'review'],\n",
       " ['hanson', 'sept', 'messag', 'nation', 'review'],\n",
       " ['hanson', 'sept', 'messag', 'nation', 'review'],\n",
       " ['avast', 'matey'],\n",
       " ['hanson', 'sept', 'messag', 'nation', 'review'],\n",
       " ['hanson', 'sept', 'messag', 'nation', 'review'],\n",
       " ['hanson', 'sept', 'messag', 'nation', 'review'],\n",
       " ['entrepreneur'],\n",
       " ['meta', 'forkag'],\n",
       " ['avast', 'matey'],\n",
       " ['boycot', 'yahoo'],\n",
       " ['avast', 'matey'],\n",
       " ['hanson', 'sept', 'messag', 'nation', 'review'],\n",
       " ['sun', 'donat', 'ellipt', 'curv', 'code', 'openssl', 'fwd'],\n",
       " ['meta', 'forkag'],\n",
       " ['sun'],\n",
       " ['hanson', 'sept', 'messag', 'nation', 'review'],\n",
       " ['nettim', 'war', 'prayer'],\n",
       " ['entrepreneur'],\n",
       " ['sed', 'unit', 'state', 'roman', 'empir', 'g'],\n",
       " ['aa', 'meet', 'hottest', 'place', 'meet', 'woman', 'big', 'buck'],\n",
       " ['aa', 'meet', 'hottest', 'place', 'meet', 'woman', 'big', 'buck'],\n",
       " ['fwd', 'aa', 'meet', 'hottest', 'place', 'meet', 'woman', 'big', 'buck'],\n",
       " ['aa', 'meet', 'hottest', 'place', 'meet', 'woman', 'big', 'buck'],\n",
       " ['call', 'wayn', 'baisley'],\n",
       " ['call', 'wayn', 'baisley', 'step', 'calvinist'],\n",
       " ['sed', 'unit', 'state', 'roman', 'empir', 'g'],\n",
       " ['senat', 'committe', 'pas', 'nanotech', 'bill'],\n",
       " ['sun', 'nab', 'storag', 'startup', 'buy', 'piru', 'network'],\n",
       " ['fyi', 'gone', 'weekend'],\n",
       " ['sunmsappl', 'meta', 'day'],\n",
       " ['americorpsvista'],\n",
       " ['sed', 'unit', 'state', 'roman', 'empir', 'g'],\n",
       " ['sed', 'unit', 'state', 'roman', 'empir', 'g'],\n",
       " ['oh'],\n",
       " ['oh'],\n",
       " ['sed', 'unit', 'state', 'roman', 'empir', 'g'],\n",
       " ['sed', 'unit', 'state', 'roman', 'empir', 'g'],\n",
       " ['sed', 'unit', 'state', 'roman', 'empir', 'g'],\n",
       " ['sed', 'unit', 'state', 'roman', 'empir', 'g'],\n",
       " ['alsa', 'almost', 'made', 'easi'],\n",
       " ['sed', 'unit', 'state', 'roman', 'empir', 'g'],\n",
       " ['sed', 'unit', 'state', 'roman', 'empir', 'g'],\n",
       " ['oh'],\n",
       " ['sed', 'unit', 'state', 'roman', 'empir', 'g'],\n",
       " ['oh'],\n",
       " ['sed', 'unit', 'state', 'roman', 'empir', 'g'],\n",
       " ['sed', 'unit', 'state', 'roman', 'empir', 'g'],\n",
       " ['e', 'textil', 'come', 'style'],\n",
       " ['flavor', 'cystal'],\n",
       " ['sed', 'unit', 'state', 'roman', 'empir', 'g'],\n",
       " ['ilug', 'eircom', 'adsl', 'modem'],\n",
       " ['vox', 'anarchist', 'scaveng', 'hunt', 'rais', 'c', 'polic', 'ire', 'fwd'],\n",
       " ['vox', 'found', 'father', 'religion'],\n",
       " ['oh'],\n",
       " ['flavor', 'cystal'],\n",
       " ['sed', 'unit', 'state', 'roman', 'empir', 'g'],\n",
       " ['flavor', 'cystal'],\n",
       " ['croni', 'capit', 'sed', 'unit', 'state', 'roman', 'empir', 'g'],\n",
       " ['dubyadubyadubya', 'dubyaspeak', 'com'],\n",
       " ['flavor', 'cystal'],\n",
       " ['coloni', 'script'],\n",
       " ['internet', 'satur', 'iceland'],\n",
       " ['sed', 'unit', 'state', 'roman', 'empir', 'g'],\n",
       " ['sunmsappl', 'meta', 'day'],\n",
       " ['comrad',\n",
       "  'commun',\n",
       "  'croni',\n",
       "  'capit',\n",
       "  'sed',\n",
       "  'unit',\n",
       "  'state',\n",
       "  'roman',\n",
       "  'empir',\n",
       "  'g'],\n",
       " ['goodby', 'global', 'warm'],\n",
       " ['goodby', 'global', 'warm'],\n",
       " ['comrad',\n",
       "  'commun',\n",
       "  'croni',\n",
       "  'capit',\n",
       "  'sed',\n",
       "  'unit',\n",
       "  'state',\n",
       "  'roman',\n",
       "  'empir',\n",
       "  'g'],\n",
       " ['high', 'altitud', 'rambo'],\n",
       " ['rebuild', 'ground', 'zero'],\n",
       " ['anarchist', 'scaveng', 'hunt', 'rais', 'c', 'polic', 'ire', 'fwd'],\n",
       " ['comrad',\n",
       "  'commun',\n",
       "  'croni',\n",
       "  'capit',\n",
       "  'sed',\n",
       "  'unit',\n",
       "  'state',\n",
       "  'roman',\n",
       "  'empir',\n",
       "  'g'],\n",
       " ['comput', 'recreat'],\n",
       " ['sed', 'unit', 'state', 'roman', 'empir', 'g'],\n",
       " ['void', 'new', 'low', 'person', 'tip'],\n",
       " ['sed', 'unit', 'state', 'roman', 'empir', 'g'],\n",
       " ['goodby', 'global', 'warm'],\n",
       " ['goodby', 'global', 'warm'],\n",
       " ['goodby', 'global', 'warm'],\n",
       " ['goodby', 'global', 'warm'],\n",
       " ['goodby', 'global', 'warm'],\n",
       " ['goodby', 'global', 'warm'],\n",
       " ['goodby', 'global', 'warm'],\n",
       " ['satalk', 'habeu'],\n",
       " ['goodby', 'global', 'warm'],\n",
       " ['goodby', 'global', 'warm'],\n",
       " ['goodby', 'global', 'warm'],\n",
       " ['goodby', 'global', 'warm'],\n",
       " ['subsid', 'ssl', 'access', 'googl'],\n",
       " ['goodby', 'global', 'warm'],\n",
       " ['goodby', 'global', 'warm'],\n",
       " ['goodby', 'global', 'warm'],\n",
       " ['sf', 'weekli', 'ultim', 'sf', 'date', 'lineup'],\n",
       " ['googlenew'],\n",
       " ['ilug', 'look', 'file', 'directori', 'zip', 'file'],\n",
       " ['come', 'da', 'fed'],\n",
       " ['sf', 'weekli', 'ultim', 'sf', 'date', 'lineup'],\n",
       " ['sf', 'weekli', 'ultim', 'sf', 'date', 'lineup'],\n",
       " ['like', 'virgin', 'virgin', 'birth'],\n",
       " ['comrad',\n",
       "  'commun',\n",
       "  'croni',\n",
       "  'capit',\n",
       "  'sed',\n",
       "  'unit',\n",
       "  'state',\n",
       "  'roman',\n",
       "  'empir',\n",
       "  'g'],\n",
       " ['subsid', 'ssl', 'access', 'googl'],\n",
       " ['pluck', 'luck'],\n",
       " ['goodby', 'global', 'warm'],\n",
       " ['goodby', 'global', 'warm'],\n",
       " ['goodby', 'global', 'warm'],\n",
       " ['ilug', 'look', 'file', 'directori', 'zip', 'file'],\n",
       " ['goodby', 'global', 'warm'],\n",
       " ['subsid', 'ssl', 'access', 'googl'],\n",
       " ['goodby', 'global', 'warm'],\n",
       " ['goodby', 'global', 'warm'],\n",
       " ['subsid', 'ssl', 'access', 'googl'],\n",
       " ['goodby', 'global', 'warm'],\n",
       " ['pluck', 'luck'],\n",
       " ['comrad',\n",
       "  'commun',\n",
       "  'croni',\n",
       "  'capit',\n",
       "  'sed',\n",
       "  'unit',\n",
       "  'state',\n",
       "  'roman',\n",
       "  'empir',\n",
       "  'g'],\n",
       " ['liber', 'defnit'],\n",
       " ['flavor', 'cystal'],\n",
       " ['ilug', 'serial', 'consol', 'quit', 'work'],\n",
       " ['liber', 'defnit'],\n",
       " ['liber', 'defnit'],\n",
       " ['sf', 'weekli', 'ultim', 'sf', 'date', 'lineup'],\n",
       " [],\n",
       " ['differ', 'sort', 'fox', 'news'],\n",
       " ['next', 'world', 'order'],\n",
       " ['liber', 'defnit'],\n",
       " ['scoot', 'bos', 'wife', 'order', 'hit'],\n",
       " ['liber', 'defnit'],\n",
       " ['liber', 'defnit'],\n",
       " ['ilug', 'eircom', 'adsl', 'modem'],\n",
       " ['co', 'climat', 'goodby', 'global', 'warm'],\n",
       " ['liber', 'defnit'],\n",
       " ['sf', 'weekli', 'ultim', 'sf', 'date', 'lineup'],\n",
       " ['random', 'hack', 'q', 'draw', 'cd', 'laser'],\n",
       " ['random', 'hack', 'q', 'draw', 'cd', 'laser'],\n",
       " ['liber', 'america'],\n",
       " ['sf', 'weekli', 'ultim', 'sf', 'date', 'lineup'],\n",
       " ['digit', 'radio', 'playlist', 'prohibit'],\n",
       " ['sf', 'weekli', 'ultim', 'sf', 'date', 'lineup'],\n",
       " ['great', 'power', 'shortag', 'myth'],\n",
       " ['peopl', 'know', 'web'],\n",
       " ['california', 'need', 'intellig', 'energi', 'deregul'],\n",
       " ['co', 'climat', 'goodby', 'global', 'warm'],\n",
       " ['kissing'],\n",
       " ['digit', 'radio', 'playlist', 'prohibit'],\n",
       " ['great', 'power', 'shortag', 'myth'],\n",
       " ['digit', 'radio', 'playlist', 'prohibit'],\n",
       " ['dumb', 'question', 'x', 'client', 'behind', 'firewal'],\n",
       " ['free', 'elvi', 'costello', 'cd', 'trojan', 'hors', 'drm', 'malwar'],\n",
       " ['free', 'elvi', 'costello', 'cd', 'trojan', 'hors', 'drm', 'malwar'],\n",
       " ['dumb', 'question', 'x', 'client', 'behind', 'firewal'],\n",
       " ['zzzzteana', 'fw', 'nessi', 'new', 'nessi', 'pic'],\n",
       " ['dumb', 'question', 'x', 'client', 'behind', 'firewal'],\n",
       " ['digit', 'radio', 'playlist', 'prohibit'],\n",
       " ['dumb', 'question', 'x', 'client', 'behind', 'firewal'],\n",
       " ['nativ',\n",
       "  'american',\n",
       "  'econom',\n",
       "  'sed',\n",
       "  'unit',\n",
       "  'state',\n",
       "  'roman',\n",
       "  'empir',\n",
       "  'g'],\n",
       " ['liber', 'america'],\n",
       " ['oscom', 'berkeley', 'report', 'xopu', 'bitflux', 'plone', 'xoop'],\n",
       " ['big', 'jump'],\n",
       " ['oscom', 'berkeley', 'report', 'xopu', 'bitflux', 'plone', 'xoop'],\n",
       " ['ebusi', 'webform', 'cluetrain', 'left', 'station'],\n",
       " ['ebusi', 'webform', 'cluetrain', 'left', 'station'],\n",
       " ['iiu', 'virus', 'bounc', 'mail'],\n",
       " ['ebusi', 'webform', 'cluetrain', 'left', 'station'],\n",
       " ['ebusi', 'webform', 'cluetrain', 'left', 'station'],\n",
       " ['ebusi', 'webform', 'cluetrain', 'left', 'station'],\n",
       " ['ebusi', 'webform', 'cluetrain', 'left', 'station'],\n",
       " ['content', 'manag', 'mp'],\n",
       " ['ebusi', 'webform', 'cluetrain', 'left', 'station'],\n",
       " ['content', 'manag', 'mp'],\n",
       " ['moment', 'silenc', 'first', 'amend', 'fwd'],\n",
       " ['nytim',\n",
       "  'com',\n",
       "  'articl',\n",
       "  'vast',\n",
       "  'detail',\n",
       "  'tower',\n",
       "  'collaps',\n",
       "  'may',\n",
       "  'seal'],\n",
       " ['moment', 'silenc', 'first', 'amend', 'fwd'],\n",
       " ['razor', 'user', 'call', 'method', 'log', 'sa', 'razor'],\n",
       " ['moment', 'silenc', 'first', 'amend', 'fwd'],\n",
       " ['moment', 'silenc', 'first', 'amend', 'fwd'],\n",
       " ['moment', 'silenc', 'first', 'amend', 'fwd'],\n",
       " ['moment', 'silenc', 'first', 'amend', 'fwd'],\n",
       " ['mit', 'opencoursewar'],\n",
       " ['moment', 'silenc', 'first', 'amend', 'fwd'],\n",
       " ['moment', 'silenc', 'first', 'amend', 'fwd'],\n",
       " ['moment', 'silenc', 'first', 'amend', 'fwd'],\n",
       " ['moment', 'silenc', 'first', 'amend', 'fwd'],\n",
       " ['moment', 'silenc', 'first', 'amend', 'fwd'],\n",
       " ['alsa', 'almost', 'made', 'easi'],\n",
       " ['moment', 'silenc', 'first', 'amend', 'fwd'],\n",
       " ['moment', 'silenc', 'first', 'amend', 'fwd'],\n",
       " ['moment', 'silenc', 'first', 'amend', 'fwd'],\n",
       " ['moment', 'silenc', 'first', 'amend', 'fwd'],\n",
       " ['ebusi', 'webform', 'cluetrain', 'left', 'station'],\n",
       " ['moment', 'silenc', 'first', 'amend', 'fwd'],\n",
       " ['internet', 'archiv', 'bookmobil'],\n",
       " ['moment', 'silenc', 'first', 'amend', 'fwd'],\n",
       " ['moment', 'silenc', 'first', 'amend', 'fwd'],\n",
       " ['ebusi', 'webform', 'cluetrain', 'left', 'station'],\n",
       " ['alsa', 'almost', 'made', 'easi'],\n",
       " ['moment', 'silenc', 'first', 'amend', 'angri', 'liber', 'yute'],\n",
       " ['dinosaur', 'egg', 'origin', 'good', 'evil'],\n",
       " [],\n",
       " ['internet', 'archiv', 'bookmobil'],\n",
       " ['like', 'graphic', 'novel', 'comic'],\n",
       " ['dinosaur', 'egg', 'origin', 'good', 'evil'],\n",
       " ['moment', 'silenc', 'first', 'amend', 'angri', 'liber', 'yute'],\n",
       " ['mit', 'opencoursewar'],\n",
       " ['mit', 'opencoursewar'],\n",
       " ['wrong', 'busi'],\n",
       " ['scoop',\n",
       "  'scoop',\n",
       "  'm',\n",
       "  'word',\n",
       "  'doc',\n",
       "  'file',\n",
       "  'someth',\n",
       "  'plucker',\n",
       "  'palm',\n",
       "  'app',\n",
       "  'display'],\n",
       " ['miss', 'one'],\n",
       " ['miss', 'one'],\n",
       " ['wrong', 'busi'],\n",
       " ['wifi', 'queri'],\n",
       " ['optic', 'analog', 'comput'],\n",
       " ['wifi', 'queri'],\n",
       " ['creativ', 'polit', 'speech'],\n",
       " ['activebuddi'],\n",
       " ['activebuddi'],\n",
       " ['dumb', 'question', 'x', 'client', 'behind', 'firewal'],\n",
       " ['razor', 'user', 'collis', 'hash'],\n",
       " ['polit', 'spam'],\n",
       " ['activebuddi'],\n",
       " ['activebuddi'],\n",
       " ['polit', 'spam'],\n",
       " ['activebuddi'],\n",
       " ['optic', 'analog', 'comput'],\n",
       " ['activebuddi'],\n",
       " ['wifi', 'queri'],\n",
       " ['optic', 'analog', 'comput'],\n",
       " ['activebuddi'],\n",
       " ['razor', 'user', 'collis', 'hash'],\n",
       " ['activebuddi'],\n",
       " ['optic', 'analog', 'comput'],\n",
       " ['wifi', 'queri'],\n",
       " ['wifi', 'queri'],\n",
       " ['optic', 'analog', 'comput'],\n",
       " ['appl', 'sauc'],\n",
       " ['nytim', 'com', 'articl', 'stop', 'press', 'blond', 'seem', 'surviv'],\n",
       " ['appl', 'sauc'],\n",
       " ['wifi', 'progress'],\n",
       " ['appl', 'sauc'],\n",
       " ['scoop',\n",
       "  'scoop',\n",
       "  'm',\n",
       "  'word',\n",
       "  'doc',\n",
       "  'file',\n",
       "  'someth',\n",
       "  'plucker',\n",
       "  'palm',\n",
       "  'app',\n",
       "  'display'],\n",
       " ['rd', 'annual', 'consult', 'hyperion', 'digit', 'ident', 'forum'],\n",
       " ['appl', 'sauc'],\n",
       " ['appl', 'sauc'],\n",
       " ['wrong', 'busi'],\n",
       " ['wrong', 'busi'],\n",
       " ['wrong', 'busi'],\n",
       " ['rd', 'annual', 'consult', 'hyperion', 'digit', 'ident', 'forum'],\n",
       " ['live', 'love', 'anoth', 'legaci'],\n",
       " ['live', 'love', 'anoth', 'legaci'],\n",
       " ['live', 'love', 'anoth', 'legaci'],\n",
       " ['use', 'perl', 'headlin'],\n",
       " ['activebuddi'],\n",
       " ['blatantli', 'stolen', 'friend', 'lj'],\n",
       " ['economist', 'internet', 'model', 'viral', 'spread', 'social', 'diseas'],\n",
       " ['activebuddi'],\n",
       " ['headlin', 'navel', 'gaze', 'win', 'ig', 'nobel'],\n",
       " ['matter', 'go'],\n",
       " ['documentum', 'acquir', 'e', 'room', 'meld', 'content', 'collabor'],\n",
       " ['irr', 'rd', 'annual', 'consult', 'hyperion', 'digit', 'ident', 'forum'],\n",
       " ['documentum', 'acquir', 'e', 'room', 'meld', 'content', 'collabor'],\n",
       " ['whither', 'vcard'],\n",
       " ['use', 'perl', 'stori'],\n",
       " ['headlin', 'navel', 'gaze', 'win', 'ig', 'nobel'],\n",
       " ['headlin', 'navel', 'gaze', 'win', 'ig', 'nobel'],\n",
       " ['economist', 'internet', 'model', 'viral', 'spread', 'social', 'diseas'],\n",
       " ['appl', 'sauc'],\n",
       " ['friend', 'palestinian', 'servant', 'govern'],\n",
       " ['friend', 'palestinian', 'servant', 'govern'],\n",
       " ['friend', 'palestinian', 'servant', 'govern'],\n",
       " ['friend', 'palestinian', 'servant', 'govern'],\n",
       " ['friend', 'palestinian', 'servant', 'govern'],\n",
       " ['friend', 'palestinian', 'servant', 'govern'],\n",
       " ['home', 'dude'],\n",
       " ['friend', 'palestinian', 'servant', 'govern'],\n",
       " ['friend', 'palestinian', 'servant', 'govern'],\n",
       " ['friend', 'palestinian', 'servant', 'govern'],\n",
       " ['friend', 'palestinian', 'servant', 'govern'],\n",
       " ['absurd', 'life'],\n",
       " ['absurd', 'life'],\n",
       " ['absurd', 'life'],\n",
       " ['yet', 'absurd'],\n",
       " ['erratum', 'matter', 'error'],\n",
       " ['quick', 'outlaw', 'touch'],\n",
       " ['scoop',\n",
       "  'scoop',\n",
       "  'm',\n",
       "  'word',\n",
       "  'doc',\n",
       "  'file',\n",
       "  'someth',\n",
       "  'plucker',\n",
       "  'palm',\n",
       "  'app',\n",
       "  'display'],\n",
       " ...]"
      ]
     },
     "execution_count": 11,
     "metadata": {},
     "output_type": "execute_result"
    }
   ],
   "source": [
    "subject_corp"
   ]
  },
  {
   "cell_type": "code",
   "execution_count": 12,
   "metadata": {},
   "outputs": [],
   "source": [
    "X=(df.subject)"
   ]
  },
  {
   "cell_type": "code",
   "execution_count": 13,
   "metadata": {},
   "outputs": [],
   "source": [
    "#X"
   ]
  },
  {
   "cell_type": "code",
   "execution_count": 14,
   "metadata": {},
   "outputs": [
    {
     "name": "stdout",
     "output_type": "stream",
     "text": [
      "(9340, 10000)\n"
     ]
    },
    {
     "name": "stderr",
     "output_type": "stream",
     "text": [
      "C:\\Users\\parit\\Anaconda\\lib\\site-packages\\sklearn\\utils\\deprecation.py:87: FutureWarning: Function get_feature_names is deprecated; get_feature_names is deprecated in 1.0 and will be removed in 1.2. Please use get_feature_names_out instead.\n",
      "  warnings.warn(msg, category=FutureWarning)\n"
     ]
    }
   ],
   "source": [
    "from sklearn.feature_extraction.text import TfidfVectorizer\n",
    "\n",
    "\n",
    "# tfidf vectorizer of scikit learn\n",
    "vectorizer = TfidfVectorizer(stop_words=stop_words,max_features=10000, max_df = 0.5, use_idf = True, ngram_range=(1,3))\n",
    "X = vectorizer.fit_transform(X)\n",
    "print(X.shape) # check shape of the document-term matrix\n",
    "terms = vectorizer.get_feature_names()"
   ]
  },
  {
   "cell_type": "code",
   "execution_count": 15,
   "metadata": {},
   "outputs": [],
   "source": [
    "#X\n",
    "#print(X)"
   ]
  },
  {
   "cell_type": "code",
   "execution_count": 16,
   "metadata": {},
   "outputs": [],
   "source": [
    "from sklearn.cluster import KMeans\n",
    "num_clusters = 2\n",
    "km = KMeans(n_clusters=num_clusters)\n",
    "km.fit(X)\n",
    "sub_clusters = km.labels_.tolist()"
   ]
  },
  {
   "cell_type": "code",
   "execution_count": 17,
   "metadata": {},
   "outputs": [],
   "source": [
    "df['sub_cluster'] = sub_clusters"
   ]
  },
  {
   "cell_type": "code",
   "execution_count": 18,
   "metadata": {
    "scrolled": true
   },
   "outputs": [
    {
     "data": {
      "text/html": [
       "<div>\n",
       "<style scoped>\n",
       "    .dataframe tbody tr th:only-of-type {\n",
       "        vertical-align: middle;\n",
       "    }\n",
       "\n",
       "    .dataframe tbody tr th {\n",
       "        vertical-align: top;\n",
       "    }\n",
       "\n",
       "    .dataframe thead th {\n",
       "        text-align: right;\n",
       "    }\n",
       "</style>\n",
       "<table border=\"1\" class=\"dataframe\">\n",
       "  <thead>\n",
       "    <tr style=\"text-align: right;\">\n",
       "      <th></th>\n",
       "      <th>folder_idx</th>\n",
       "      <th>folder</th>\n",
       "      <th>from</th>\n",
       "      <th>subject</th>\n",
       "      <th>body</th>\n",
       "      <th>spam</th>\n",
       "      <th>sub_cluster</th>\n",
       "    </tr>\n",
       "  </thead>\n",
       "  <tbody>\n",
       "    <tr>\n",
       "      <th>0</th>\n",
       "      <td>0</td>\n",
       "      <td>easy_ham</td>\n",
       "      <td>Robert Elz &lt;kre@munnari.OZ.AU&gt;</td>\n",
       "      <td>Re: New Sequences Window</td>\n",
       "      <td>Date:        Wed, 21 Aug 2002 10:54:46 -05...</td>\n",
       "      <td>0</td>\n",
       "      <td>0</td>\n",
       "    </tr>\n",
       "    <tr>\n",
       "      <th>1</th>\n",
       "      <td>1</td>\n",
       "      <td>easy_ham</td>\n",
       "      <td>Steve Burt &lt;Steve_Burt@cursor-system.com&gt;</td>\n",
       "      <td>[zzzzteana] RE: Alexander</td>\n",
       "      <td>Martin A posted:\\nTassos Papadopoulos, the Gre...</td>\n",
       "      <td>0</td>\n",
       "      <td>0</td>\n",
       "    </tr>\n",
       "    <tr>\n",
       "      <th>2</th>\n",
       "      <td>2</td>\n",
       "      <td>easy_ham</td>\n",
       "      <td>Tim Chapman &lt;timc@2ubh.com&gt;</td>\n",
       "      <td>[zzzzteana] Moscow bomber</td>\n",
       "      <td>Man Threatens Explosion In Moscow \\n\\nThursday...</td>\n",
       "      <td>0</td>\n",
       "      <td>0</td>\n",
       "    </tr>\n",
       "    <tr>\n",
       "      <th>3</th>\n",
       "      <td>3</td>\n",
       "      <td>easy_ham</td>\n",
       "      <td>Monty Solomon &lt;monty@roscom.com&gt;</td>\n",
       "      <td>[IRR] Klez: The Virus That  Won't Die</td>\n",
       "      <td>Klez: The Virus That Won't Die\\n \\nAlready the...</td>\n",
       "      <td>0</td>\n",
       "      <td>0</td>\n",
       "    </tr>\n",
       "    <tr>\n",
       "      <th>4</th>\n",
       "      <td>4</td>\n",
       "      <td>easy_ham</td>\n",
       "      <td>Stewart Smith &lt;Stewart.Smith@ee.ed.ac.uk&gt;</td>\n",
       "      <td>Re: [zzzzteana] Nothing like mama used to make</td>\n",
       "      <td>&gt;  in adding cream to spaghetti carbonara, whi...</td>\n",
       "      <td>0</td>\n",
       "      <td>0</td>\n",
       "    </tr>\n",
       "    <tr>\n",
       "      <th>...</th>\n",
       "      <td>...</td>\n",
       "      <td>...</td>\n",
       "      <td>...</td>\n",
       "      <td>...</td>\n",
       "      <td>...</td>\n",
       "      <td>...</td>\n",
       "      <td>...</td>\n",
       "    </tr>\n",
       "    <tr>\n",
       "      <th>9346</th>\n",
       "      <td>1392</td>\n",
       "      <td>spam_2</td>\n",
       "      <td>Professional_Career_Development_Institute@Frug...</td>\n",
       "      <td>Busy? Home Study Makes Sense!</td>\n",
       "      <td>&lt;html&gt;\\n&lt;head&gt;\\n&lt;meta http-equiv=\"content-type...</td>\n",
       "      <td>0</td>\n",
       "      <td>0</td>\n",
       "    </tr>\n",
       "    <tr>\n",
       "      <th>9347</th>\n",
       "      <td>1393</td>\n",
       "      <td>spam_2</td>\n",
       "      <td>IQ - TBA &lt;tba@insiq.us&gt;</td>\n",
       "      <td>Preferred Non-Smoker Rates for Smokers</td>\n",
       "      <td>\\t Preferred Non-Smoker\\n \\t\\n Just what the ...</td>\n",
       "      <td>0</td>\n",
       "      <td>0</td>\n",
       "    </tr>\n",
       "    <tr>\n",
       "      <th>9348</th>\n",
       "      <td>1394</td>\n",
       "      <td>spam_2</td>\n",
       "      <td>Mike &lt;raye@yahoo.lv&gt;</td>\n",
       "      <td>How to get 10,000 FREE hits per day to any web...</td>\n",
       "      <td>Dear Subscriber,\\n\\nIf I could show you a way ...</td>\n",
       "      <td>0</td>\n",
       "      <td>0</td>\n",
       "    </tr>\n",
       "    <tr>\n",
       "      <th>9349</th>\n",
       "      <td>1395</td>\n",
       "      <td>spam_2</td>\n",
       "      <td>\"Mr. Clean\" &lt;cweqx@dialix.oz.au&gt;</td>\n",
       "      <td>Cannabis Difference</td>\n",
       "      <td>****Mid-Summer Customer Appreciation SALE!****...</td>\n",
       "      <td>0</td>\n",
       "      <td>0</td>\n",
       "    </tr>\n",
       "    <tr>\n",
       "      <th>9350</th>\n",
       "      <td>1396</td>\n",
       "      <td>spam_2</td>\n",
       "      <td>\"wilsonkamela400@netscape.net\" &lt;wilsonkamela50...</td>\n",
       "      <td>[ILUG] WILSON  KAMELA</td>\n",
       "      <td>ATTN:SIR/MADAN      \\n\\n                      ...</td>\n",
       "      <td>0</td>\n",
       "      <td>0</td>\n",
       "    </tr>\n",
       "  </tbody>\n",
       "</table>\n",
       "<p>9340 rows × 7 columns</p>\n",
       "</div>"
      ],
      "text/plain": [
       "      folder_idx    folder                                               from  \\\n",
       "0              0  easy_ham                     Robert Elz <kre@munnari.OZ.AU>   \n",
       "1              1  easy_ham          Steve Burt <Steve_Burt@cursor-system.com>   \n",
       "2              2  easy_ham                        Tim Chapman <timc@2ubh.com>   \n",
       "3              3  easy_ham                   Monty Solomon <monty@roscom.com>   \n",
       "4              4  easy_ham          Stewart Smith <Stewart.Smith@ee.ed.ac.uk>   \n",
       "...          ...       ...                                                ...   \n",
       "9346        1392    spam_2  Professional_Career_Development_Institute@Frug...   \n",
       "9347        1393    spam_2                            IQ - TBA <tba@insiq.us>   \n",
       "9348        1394    spam_2                               Mike <raye@yahoo.lv>   \n",
       "9349        1395    spam_2                   \"Mr. Clean\" <cweqx@dialix.oz.au>   \n",
       "9350        1396    spam_2  \"wilsonkamela400@netscape.net\" <wilsonkamela50...   \n",
       "\n",
       "                                                subject  \\\n",
       "0                              Re: New Sequences Window   \n",
       "1                             [zzzzteana] RE: Alexander   \n",
       "2                             [zzzzteana] Moscow bomber   \n",
       "3                 [IRR] Klez: The Virus That  Won't Die   \n",
       "4        Re: [zzzzteana] Nothing like mama used to make   \n",
       "...                                                 ...   \n",
       "9346                      Busy? Home Study Makes Sense!   \n",
       "9347             Preferred Non-Smoker Rates for Smokers   \n",
       "9348  How to get 10,000 FREE hits per day to any web...   \n",
       "9349                                Cannabis Difference   \n",
       "9350                              [ILUG] WILSON  KAMELA   \n",
       "\n",
       "                                                   body  spam  sub_cluster  \n",
       "0         Date:        Wed, 21 Aug 2002 10:54:46 -05...     0            0  \n",
       "1     Martin A posted:\\nTassos Papadopoulos, the Gre...     0            0  \n",
       "2     Man Threatens Explosion In Moscow \\n\\nThursday...     0            0  \n",
       "3     Klez: The Virus That Won't Die\\n \\nAlready the...     0            0  \n",
       "4     >  in adding cream to spaghetti carbonara, whi...     0            0  \n",
       "...                                                 ...   ...          ...  \n",
       "9346  <html>\\n<head>\\n<meta http-equiv=\"content-type...     0            0  \n",
       "9347   \\t Preferred Non-Smoker\\n \\t\\n Just what the ...     0            0  \n",
       "9348  Dear Subscriber,\\n\\nIf I could show you a way ...     0            0  \n",
       "9349  ****Mid-Summer Customer Appreciation SALE!****...     0            0  \n",
       "9350  ATTN:SIR/MADAN      \\n\\n                      ...     0            0  \n",
       "\n",
       "[9340 rows x 7 columns]"
      ]
     },
     "execution_count": 18,
     "metadata": {},
     "output_type": "execute_result"
    }
   ],
   "source": [
    "df"
   ]
  },
  {
   "cell_type": "code",
   "execution_count": 19,
   "metadata": {},
   "outputs": [],
   "source": [
    "df['SPAM'] = df['folder']"
   ]
  },
  {
   "cell_type": "code",
   "execution_count": 20,
   "metadata": {},
   "outputs": [],
   "source": [
    "# creating a dict file \n",
    "SPAM_d = {'easy_ham': 0,'easy_ham_2': 0, 'hard_ham': 0, 'spam' : 1, 'spam_2':1}"
   ]
  },
  {
   "cell_type": "code",
   "execution_count": 21,
   "metadata": {
    "scrolled": true
   },
   "outputs": [
    {
     "data": {
      "text/html": [
       "<div>\n",
       "<style scoped>\n",
       "    .dataframe tbody tr th:only-of-type {\n",
       "        vertical-align: middle;\n",
       "    }\n",
       "\n",
       "    .dataframe tbody tr th {\n",
       "        vertical-align: top;\n",
       "    }\n",
       "\n",
       "    .dataframe thead th {\n",
       "        text-align: right;\n",
       "    }\n",
       "</style>\n",
       "<table border=\"1\" class=\"dataframe\">\n",
       "  <thead>\n",
       "    <tr style=\"text-align: right;\">\n",
       "      <th></th>\n",
       "      <th>folder_idx</th>\n",
       "      <th>folder</th>\n",
       "      <th>from</th>\n",
       "      <th>subject</th>\n",
       "      <th>body</th>\n",
       "      <th>spam</th>\n",
       "      <th>sub_cluster</th>\n",
       "      <th>SPAM</th>\n",
       "    </tr>\n",
       "  </thead>\n",
       "  <tbody>\n",
       "    <tr>\n",
       "      <th>0</th>\n",
       "      <td>0</td>\n",
       "      <td>easy_ham</td>\n",
       "      <td>Robert Elz &lt;kre@munnari.OZ.AU&gt;</td>\n",
       "      <td>Re: New Sequences Window</td>\n",
       "      <td>Date:        Wed, 21 Aug 2002 10:54:46 -05...</td>\n",
       "      <td>0</td>\n",
       "      <td>0</td>\n",
       "      <td>0</td>\n",
       "    </tr>\n",
       "    <tr>\n",
       "      <th>1</th>\n",
       "      <td>1</td>\n",
       "      <td>easy_ham</td>\n",
       "      <td>Steve Burt &lt;Steve_Burt@cursor-system.com&gt;</td>\n",
       "      <td>[zzzzteana] RE: Alexander</td>\n",
       "      <td>Martin A posted:\\nTassos Papadopoulos, the Gre...</td>\n",
       "      <td>0</td>\n",
       "      <td>0</td>\n",
       "      <td>0</td>\n",
       "    </tr>\n",
       "    <tr>\n",
       "      <th>2</th>\n",
       "      <td>2</td>\n",
       "      <td>easy_ham</td>\n",
       "      <td>Tim Chapman &lt;timc@2ubh.com&gt;</td>\n",
       "      <td>[zzzzteana] Moscow bomber</td>\n",
       "      <td>Man Threatens Explosion In Moscow \\n\\nThursday...</td>\n",
       "      <td>0</td>\n",
       "      <td>0</td>\n",
       "      <td>0</td>\n",
       "    </tr>\n",
       "    <tr>\n",
       "      <th>3</th>\n",
       "      <td>3</td>\n",
       "      <td>easy_ham</td>\n",
       "      <td>Monty Solomon &lt;monty@roscom.com&gt;</td>\n",
       "      <td>[IRR] Klez: The Virus That  Won't Die</td>\n",
       "      <td>Klez: The Virus That Won't Die\\n \\nAlready the...</td>\n",
       "      <td>0</td>\n",
       "      <td>0</td>\n",
       "      <td>0</td>\n",
       "    </tr>\n",
       "    <tr>\n",
       "      <th>4</th>\n",
       "      <td>4</td>\n",
       "      <td>easy_ham</td>\n",
       "      <td>Stewart Smith &lt;Stewart.Smith@ee.ed.ac.uk&gt;</td>\n",
       "      <td>Re: [zzzzteana] Nothing like mama used to make</td>\n",
       "      <td>&gt;  in adding cream to spaghetti carbonara, whi...</td>\n",
       "      <td>0</td>\n",
       "      <td>0</td>\n",
       "      <td>0</td>\n",
       "    </tr>\n",
       "  </tbody>\n",
       "</table>\n",
       "</div>"
      ],
      "text/plain": [
       "   folder_idx    folder                                       from  \\\n",
       "0           0  easy_ham             Robert Elz <kre@munnari.OZ.AU>   \n",
       "1           1  easy_ham  Steve Burt <Steve_Burt@cursor-system.com>   \n",
       "2           2  easy_ham                Tim Chapman <timc@2ubh.com>   \n",
       "3           3  easy_ham           Monty Solomon <monty@roscom.com>   \n",
       "4           4  easy_ham  Stewart Smith <Stewart.Smith@ee.ed.ac.uk>   \n",
       "\n",
       "                                          subject  \\\n",
       "0                        Re: New Sequences Window   \n",
       "1                       [zzzzteana] RE: Alexander   \n",
       "2                       [zzzzteana] Moscow bomber   \n",
       "3           [IRR] Klez: The Virus That  Won't Die   \n",
       "4  Re: [zzzzteana] Nothing like mama used to make   \n",
       "\n",
       "                                                body  spam  sub_cluster  SPAM  \n",
       "0      Date:        Wed, 21 Aug 2002 10:54:46 -05...     0            0     0  \n",
       "1  Martin A posted:\\nTassos Papadopoulos, the Gre...     0            0     0  \n",
       "2  Man Threatens Explosion In Moscow \\n\\nThursday...     0            0     0  \n",
       "3  Klez: The Virus That Won't Die\\n \\nAlready the...     0            0     0  \n",
       "4  >  in adding cream to spaghetti carbonara, whi...     0            0     0  "
      ]
     },
     "execution_count": 21,
     "metadata": {},
     "output_type": "execute_result"
    }
   ],
   "source": [
    "df.SPAM = [SPAM_d[item] for item in df.SPAM]\n",
    "df.head()"
   ]
  },
  {
   "cell_type": "code",
   "execution_count": 22,
   "metadata": {},
   "outputs": [
    {
     "data": {
      "text/plain": [
       "SPAM\n",
       "0    6943\n",
       "1    2397\n",
       "Name: SPAM, dtype: int64"
      ]
     },
     "execution_count": 22,
     "metadata": {},
     "output_type": "execute_result"
    }
   ],
   "source": [
    "df.groupby(['SPAM'])['SPAM'].count()"
   ]
  },
  {
   "cell_type": "code",
   "execution_count": 24,
   "metadata": {},
   "outputs": [
    {
     "data": {
      "text/plain": [
       "folder\n",
       "easy_ham      5051\n",
       "easy_ham_2    1395\n",
       "hard_ham       497\n",
       "spam          1000\n",
       "spam_2        1397\n",
       "Name: folder, dtype: int64"
      ]
     },
     "execution_count": 24,
     "metadata": {},
     "output_type": "execute_result"
    }
   ],
   "source": [
    "df.groupby(['folder'])['folder'].count()\n"
   ]
  },
  {
   "cell_type": "code",
   "execution_count": 25,
   "metadata": {
    "scrolled": true
   },
   "outputs": [
    {
     "data": {
      "text/plain": [
       "sub_cluster\n",
       "0    9233\n",
       "1     107\n",
       "Name: sub_cluster, dtype: int64"
      ]
     },
     "execution_count": 25,
     "metadata": {},
     "output_type": "execute_result"
    }
   ],
   "source": [
    "df.groupby(['sub_cluster'])['sub_cluster'].count()"
   ]
  },
  {
   "cell_type": "code",
   "execution_count": 26,
   "metadata": {},
   "outputs": [
    {
     "data": {
      "text/plain": [
       "0.7319057815845824"
      ]
     },
     "execution_count": 26,
     "metadata": {},
     "output_type": "execute_result"
    }
   ],
   "source": [
    "from sklearn.metrics import accuracy_score\n",
    "accuracy_score(df.SPAM, df.sub_cluster)"
   ]
  },
  {
   "cell_type": "code",
   "execution_count": 27,
   "metadata": {},
   "outputs": [
    {
     "data": {
      "text/plain": [
       "array([[6836,  107],\n",
       "       [2397,    0]], dtype=int64)"
      ]
     },
     "execution_count": 27,
     "metadata": {},
     "output_type": "execute_result"
    }
   ],
   "source": [
    "# with subject text\n",
    "import pandas as pd\n",
    "\n",
    "y_actual = pd.Series(df.SPAM, name='Actual')\n",
    "y_predicted = pd.Series(df.sub_cluster, name='Predicted')\n",
    "\n",
    "from sklearn import metrics\n",
    "metrics.confusion_matrix(df.SPAM, df.sub_cluster)"
   ]
  },
  {
   "cell_type": "code",
   "execution_count": 28,
   "metadata": {},
   "outputs": [
    {
     "name": "stdout",
     "output_type": "stream",
     "text": [
      "Predicted     0    1\n",
      "Actual              \n",
      "0          6836  107\n",
      "1          2397    0\n",
      "Accuracy\n",
      "0.7319057815845824\n",
      "Precision\n",
      "0.0\n",
      "Recall\n",
      "0.0\n"
     ]
    }
   ],
   "source": [
    "# with subject text\n",
    "import pandas as pd\n",
    "\n",
    "y_actual = pd.Series(df.SPAM, name='Actual')\n",
    "y_predicted = pd.Series(df.sub_cluster, name='Predicted')\n",
    "\n",
    "\n",
    "metrics.confusion_matrix(df.SPAM, df.sub_cluster)\n",
    "\n",
    "y_actual = pd.Series(df.SPAM, name='Actual')\n",
    "y_predicted = pd.Series(df.sub_cluster, name='Predicted')\n",
    "\n",
    "print(pd.crosstab(y_actual, y_predicted))\n",
    "#print accuracy of model\n",
    "print(\"Accuracy\")\n",
    "print(metrics.accuracy_score(y_actual, y_predicted))\n",
    "\n",
    "\n",
    "#print precision value of model\n",
    "print(\"Precision\")\n",
    "print(metrics.precision_score(y_actual, y_predicted))\n",
    "\n",
    "\n",
    "\n",
    "#print recall value of model\n",
    "print(\"Recall\")\n",
    "print(metrics.recall_score(y_actual, y_predicted))"
   ]
  },
  {
   "cell_type": "code",
   "execution_count": 29,
   "metadata": {},
   "outputs": [
    {
     "name": "stdout",
     "output_type": "stream",
     "text": [
      "              precision    recall  f1-score   support\n",
      "\n",
      "           0       0.74      0.98      0.85      6943\n",
      "           1       0.00      0.00      0.00      2397\n",
      "\n",
      "    accuracy                           0.73      9340\n",
      "   macro avg       0.37      0.49      0.42      9340\n",
      "weighted avg       0.55      0.73      0.63      9340\n",
      "\n"
     ]
    }
   ],
   "source": [
    "from sklearn.metrics import classification_report\n",
    "print(classification_report(df.SPAM,df.sub_cluster))"
   ]
  },
  {
   "cell_type": "markdown",
   "metadata": {},
   "source": [
    "# Using Body"
   ]
  },
  {
   "cell_type": "code",
   "execution_count": 30,
   "metadata": {},
   "outputs": [
    {
     "data": {
      "text/html": [
       "<div>\n",
       "<style scoped>\n",
       "    .dataframe tbody tr th:only-of-type {\n",
       "        vertical-align: middle;\n",
       "    }\n",
       "\n",
       "    .dataframe tbody tr th {\n",
       "        vertical-align: top;\n",
       "    }\n",
       "\n",
       "    .dataframe thead th {\n",
       "        text-align: right;\n",
       "    }\n",
       "</style>\n",
       "<table border=\"1\" class=\"dataframe\">\n",
       "  <thead>\n",
       "    <tr style=\"text-align: right;\">\n",
       "      <th></th>\n",
       "      <th>folder_idx</th>\n",
       "      <th>folder</th>\n",
       "      <th>from</th>\n",
       "      <th>subject</th>\n",
       "      <th>body</th>\n",
       "      <th>spam</th>\n",
       "      <th>sub_cluster</th>\n",
       "      <th>SPAM</th>\n",
       "    </tr>\n",
       "  </thead>\n",
       "  <tbody>\n",
       "    <tr>\n",
       "      <th>0</th>\n",
       "      <td>0</td>\n",
       "      <td>easy_ham</td>\n",
       "      <td>Robert Elz &lt;kre@munnari.OZ.AU&gt;</td>\n",
       "      <td>Re: New Sequences Window</td>\n",
       "      <td>Date:        Wed, 21 Aug 2002 10:54:46 -05...</td>\n",
       "      <td>0</td>\n",
       "      <td>0</td>\n",
       "      <td>0</td>\n",
       "    </tr>\n",
       "    <tr>\n",
       "      <th>1</th>\n",
       "      <td>1</td>\n",
       "      <td>easy_ham</td>\n",
       "      <td>Steve Burt &lt;Steve_Burt@cursor-system.com&gt;</td>\n",
       "      <td>[zzzzteana] RE: Alexander</td>\n",
       "      <td>Martin A posted:\\nTassos Papadopoulos, the Gre...</td>\n",
       "      <td>0</td>\n",
       "      <td>0</td>\n",
       "      <td>0</td>\n",
       "    </tr>\n",
       "    <tr>\n",
       "      <th>2</th>\n",
       "      <td>2</td>\n",
       "      <td>easy_ham</td>\n",
       "      <td>Tim Chapman &lt;timc@2ubh.com&gt;</td>\n",
       "      <td>[zzzzteana] Moscow bomber</td>\n",
       "      <td>Man Threatens Explosion In Moscow \\n\\nThursday...</td>\n",
       "      <td>0</td>\n",
       "      <td>0</td>\n",
       "      <td>0</td>\n",
       "    </tr>\n",
       "    <tr>\n",
       "      <th>3</th>\n",
       "      <td>3</td>\n",
       "      <td>easy_ham</td>\n",
       "      <td>Monty Solomon &lt;monty@roscom.com&gt;</td>\n",
       "      <td>[IRR] Klez: The Virus That  Won't Die</td>\n",
       "      <td>Klez: The Virus That Won't Die\\n \\nAlready the...</td>\n",
       "      <td>0</td>\n",
       "      <td>0</td>\n",
       "      <td>0</td>\n",
       "    </tr>\n",
       "    <tr>\n",
       "      <th>4</th>\n",
       "      <td>4</td>\n",
       "      <td>easy_ham</td>\n",
       "      <td>Stewart Smith &lt;Stewart.Smith@ee.ed.ac.uk&gt;</td>\n",
       "      <td>Re: [zzzzteana] Nothing like mama used to make</td>\n",
       "      <td>&gt;  in adding cream to spaghetti carbonara, whi...</td>\n",
       "      <td>0</td>\n",
       "      <td>0</td>\n",
       "      <td>0</td>\n",
       "    </tr>\n",
       "  </tbody>\n",
       "</table>\n",
       "</div>"
      ],
      "text/plain": [
       "   folder_idx    folder                                       from  \\\n",
       "0           0  easy_ham             Robert Elz <kre@munnari.OZ.AU>   \n",
       "1           1  easy_ham  Steve Burt <Steve_Burt@cursor-system.com>   \n",
       "2           2  easy_ham                Tim Chapman <timc@2ubh.com>   \n",
       "3           3  easy_ham           Monty Solomon <monty@roscom.com>   \n",
       "4           4  easy_ham  Stewart Smith <Stewart.Smith@ee.ed.ac.uk>   \n",
       "\n",
       "                                          subject  \\\n",
       "0                        Re: New Sequences Window   \n",
       "1                       [zzzzteana] RE: Alexander   \n",
       "2                       [zzzzteana] Moscow bomber   \n",
       "3           [IRR] Klez: The Virus That  Won't Die   \n",
       "4  Re: [zzzzteana] Nothing like mama used to make   \n",
       "\n",
       "                                                body  spam  sub_cluster  SPAM  \n",
       "0      Date:        Wed, 21 Aug 2002 10:54:46 -05...     0            0     0  \n",
       "1  Martin A posted:\\nTassos Papadopoulos, the Gre...     0            0     0  \n",
       "2  Man Threatens Explosion In Moscow \\n\\nThursday...     0            0     0  \n",
       "3  Klez: The Virus That Won't Die\\n \\nAlready the...     0            0     0  \n",
       "4  >  in adding cream to spaghetti carbonara, whi...     0            0     0  "
      ]
     },
     "execution_count": 30,
     "metadata": {},
     "output_type": "execute_result"
    }
   ],
   "source": [
    "df.head()"
   ]
  },
  {
   "cell_type": "code",
   "execution_count": 50,
   "metadata": {},
   "outputs": [
    {
     "data": {
      "text/plain": [
       "0        Date:        Wed, 21 Aug 2002 10:54:46 -05...\n",
       "1    Martin A posted:\\nTassos Papadopoulos, the Gre...\n",
       "2    Man Threatens Explosion In Moscow \\n\\nThursday...\n",
       "3    Klez: The Virus That Won't Die\\n \\nAlready the...\n",
       "4    >  in adding cream to spaghetti carbonara, whi...\n",
       "Name: body, dtype: object"
      ]
     },
     "execution_count": 50,
     "metadata": {},
     "output_type": "execute_result"
    }
   ],
   "source": [
    "body=df.body\n",
    "body.head()"
   ]
  },
  {
   "cell_type": "code",
   "execution_count": 51,
   "metadata": {},
   "outputs": [],
   "source": [
    "## Cleaning the ham text\n",
    "import re\n",
    "from nltk.corpus import stopwords\n",
    "from nltk.tokenize import RegexpTokenizer\n",
    "stop_words = set(stopwords.words('english')) ## import stopwords\n",
    "from nltk.stem import PorterStemmer ## imported the porter stemmer\n",
    "from nltk.stem import WordNetLemmatizer ## imported wordnet lemmatizer\n",
    "ps = PorterStemmer()  \n",
    "wrlm = WordNetLemmatizer()\n",
    "indx = list(subject.index.values)\n",
    "\n",
    "body_corp = []\n",
    "for i in indx:\n",
    "    updated = re.sub('[^a-zA-Z]', ' ', str(body[i])) ## if not A-Za_Z replace with empty space\n",
    "    updated = updated.lower()   ## change to lower case\n",
    "    updated = updated.split()    ## splts at space\n",
    "    updated = [w for w in updated if not w.lower() in stop_words] ## remove stop words\n",
    "    updated = [ps.stem(w) for w in updated]                       ## stemmed the words\n",
    "    updated = [wrlm.lemmatize(w) for w in updated]                ## keep words that have meaning\n",
    "#     print(updated)\n",
    "#     review = ' '.join(updated)\n",
    "    body_corp.append(updated)"
   ]
  },
  {
   "cell_type": "code",
   "execution_count": 52,
   "metadata": {},
   "outputs": [],
   "source": [
    "X_b=(df.body)"
   ]
  },
  {
   "cell_type": "code",
   "execution_count": 53,
   "metadata": {},
   "outputs": [
    {
     "name": "stdout",
     "output_type": "stream",
     "text": [
      "(9340, 10000)\n"
     ]
    },
    {
     "name": "stderr",
     "output_type": "stream",
     "text": [
      "C:\\Users\\parit\\Anaconda\\lib\\site-packages\\sklearn\\utils\\deprecation.py:87: FutureWarning: Function get_feature_names is deprecated; get_feature_names is deprecated in 1.0 and will be removed in 1.2. Please use get_feature_names_out instead.\n",
      "  warnings.warn(msg, category=FutureWarning)\n"
     ]
    }
   ],
   "source": [
    "from sklearn.feature_extraction.text import TfidfVectorizer\n",
    "\n",
    "\n",
    "# tfidf vectorizer of scikit learn\n",
    "vectorizer = TfidfVectorizer(stop_words=stop_words,max_features=10000, max_df = 0.5, use_idf = True, ngram_range=(1,3))\n",
    "X_b = vectorizer.fit_transform(X_b)\n",
    "print(X_b.shape) # check shape of the document-term matrix\n",
    "terms = vectorizer.get_feature_names()"
   ]
  },
  {
   "cell_type": "code",
   "execution_count": 54,
   "metadata": {},
   "outputs": [],
   "source": [
    "from sklearn.cluster import KMeans\n",
    "num_clusters = 2\n",
    "km = KMeans(n_clusters=num_clusters)\n",
    "km.fit(X_b)\n",
    "body_clusters = km.labels_.tolist()"
   ]
  },
  {
   "cell_type": "code",
   "execution_count": 55,
   "metadata": {},
   "outputs": [],
   "source": [
    "df['body_cluster'] = body_clusters"
   ]
  },
  {
   "cell_type": "code",
   "execution_count": 56,
   "metadata": {},
   "outputs": [
    {
     "data": {
      "text/plain": [
       "SPAM\n",
       "0    6943\n",
       "1    2397\n",
       "Name: SPAM, dtype: int64"
      ]
     },
     "execution_count": 56,
     "metadata": {},
     "output_type": "execute_result"
    }
   ],
   "source": [
    "df.groupby(['SPAM'])['SPAM'].count()"
   ]
  },
  {
   "cell_type": "code",
   "execution_count": 57,
   "metadata": {},
   "outputs": [
    {
     "data": {
      "text/plain": [
       "body_cluster\n",
       "0    8107\n",
       "1    1233\n",
       "Name: body_cluster, dtype: int64"
      ]
     },
     "execution_count": 57,
     "metadata": {},
     "output_type": "execute_result"
    }
   ],
   "source": [
    "df.groupby(['body_cluster'])['body_cluster'].count()"
   ]
  },
  {
   "cell_type": "code",
   "execution_count": 58,
   "metadata": {},
   "outputs": [],
   "source": [
    "df['body_cluster_mod'] = df['body_cluster']"
   ]
  },
  {
   "cell_type": "code",
   "execution_count": 59,
   "metadata": {},
   "outputs": [
    {
     "data": {
      "text/html": [
       "<div>\n",
       "<style scoped>\n",
       "    .dataframe tbody tr th:only-of-type {\n",
       "        vertical-align: middle;\n",
       "    }\n",
       "\n",
       "    .dataframe tbody tr th {\n",
       "        vertical-align: top;\n",
       "    }\n",
       "\n",
       "    .dataframe thead th {\n",
       "        text-align: right;\n",
       "    }\n",
       "</style>\n",
       "<table border=\"1\" class=\"dataframe\">\n",
       "  <thead>\n",
       "    <tr style=\"text-align: right;\">\n",
       "      <th></th>\n",
       "      <th>folder_idx</th>\n",
       "      <th>folder</th>\n",
       "      <th>from</th>\n",
       "      <th>subject</th>\n",
       "      <th>body</th>\n",
       "      <th>spam</th>\n",
       "      <th>sub_cluster</th>\n",
       "      <th>SPAM</th>\n",
       "      <th>body_cluster</th>\n",
       "      <th>body_cluster_mod</th>\n",
       "    </tr>\n",
       "  </thead>\n",
       "  <tbody>\n",
       "    <tr>\n",
       "      <th>0</th>\n",
       "      <td>0</td>\n",
       "      <td>easy_ham</td>\n",
       "      <td>Robert Elz &lt;kre@munnari.OZ.AU&gt;</td>\n",
       "      <td>Re: New Sequences Window</td>\n",
       "      <td>Date:        Wed, 21 Aug 2002 10:54:46 -05...</td>\n",
       "      <td>0</td>\n",
       "      <td>0</td>\n",
       "      <td>0</td>\n",
       "      <td>0</td>\n",
       "      <td>0</td>\n",
       "    </tr>\n",
       "    <tr>\n",
       "      <th>1</th>\n",
       "      <td>1</td>\n",
       "      <td>easy_ham</td>\n",
       "      <td>Steve Burt &lt;Steve_Burt@cursor-system.com&gt;</td>\n",
       "      <td>[zzzzteana] RE: Alexander</td>\n",
       "      <td>Martin A posted:\\nTassos Papadopoulos, the Gre...</td>\n",
       "      <td>0</td>\n",
       "      <td>0</td>\n",
       "      <td>0</td>\n",
       "      <td>0</td>\n",
       "      <td>0</td>\n",
       "    </tr>\n",
       "    <tr>\n",
       "      <th>2</th>\n",
       "      <td>2</td>\n",
       "      <td>easy_ham</td>\n",
       "      <td>Tim Chapman &lt;timc@2ubh.com&gt;</td>\n",
       "      <td>[zzzzteana] Moscow bomber</td>\n",
       "      <td>Man Threatens Explosion In Moscow \\n\\nThursday...</td>\n",
       "      <td>0</td>\n",
       "      <td>0</td>\n",
       "      <td>0</td>\n",
       "      <td>0</td>\n",
       "      <td>0</td>\n",
       "    </tr>\n",
       "    <tr>\n",
       "      <th>3</th>\n",
       "      <td>3</td>\n",
       "      <td>easy_ham</td>\n",
       "      <td>Monty Solomon &lt;monty@roscom.com&gt;</td>\n",
       "      <td>[IRR] Klez: The Virus That  Won't Die</td>\n",
       "      <td>Klez: The Virus That Won't Die\\n \\nAlready the...</td>\n",
       "      <td>0</td>\n",
       "      <td>0</td>\n",
       "      <td>0</td>\n",
       "      <td>0</td>\n",
       "      <td>0</td>\n",
       "    </tr>\n",
       "    <tr>\n",
       "      <th>4</th>\n",
       "      <td>4</td>\n",
       "      <td>easy_ham</td>\n",
       "      <td>Stewart Smith &lt;Stewart.Smith@ee.ed.ac.uk&gt;</td>\n",
       "      <td>Re: [zzzzteana] Nothing like mama used to make</td>\n",
       "      <td>&gt;  in adding cream to spaghetti carbonara, whi...</td>\n",
       "      <td>0</td>\n",
       "      <td>0</td>\n",
       "      <td>0</td>\n",
       "      <td>0</td>\n",
       "      <td>0</td>\n",
       "    </tr>\n",
       "  </tbody>\n",
       "</table>\n",
       "</div>"
      ],
      "text/plain": [
       "   folder_idx    folder                                       from  \\\n",
       "0           0  easy_ham             Robert Elz <kre@munnari.OZ.AU>   \n",
       "1           1  easy_ham  Steve Burt <Steve_Burt@cursor-system.com>   \n",
       "2           2  easy_ham                Tim Chapman <timc@2ubh.com>   \n",
       "3           3  easy_ham           Monty Solomon <monty@roscom.com>   \n",
       "4           4  easy_ham  Stewart Smith <Stewart.Smith@ee.ed.ac.uk>   \n",
       "\n",
       "                                          subject  \\\n",
       "0                        Re: New Sequences Window   \n",
       "1                       [zzzzteana] RE: Alexander   \n",
       "2                       [zzzzteana] Moscow bomber   \n",
       "3           [IRR] Klez: The Virus That  Won't Die   \n",
       "4  Re: [zzzzteana] Nothing like mama used to make   \n",
       "\n",
       "                                                body  spam  sub_cluster  SPAM  \\\n",
       "0      Date:        Wed, 21 Aug 2002 10:54:46 -05...     0            0     0   \n",
       "1  Martin A posted:\\nTassos Papadopoulos, the Gre...     0            0     0   \n",
       "2  Man Threatens Explosion In Moscow \\n\\nThursday...     0            0     0   \n",
       "3  Klez: The Virus That Won't Die\\n \\nAlready the...     0            0     0   \n",
       "4  >  in adding cream to spaghetti carbonara, whi...     0            0     0   \n",
       "\n",
       "   body_cluster  body_cluster_mod  \n",
       "0             0                 0  \n",
       "1             0                 0  \n",
       "2             0                 0  \n",
       "3             0                 0  \n",
       "4             0                 0  "
      ]
     },
     "execution_count": 59,
     "metadata": {},
     "output_type": "execute_result"
    }
   ],
   "source": [
    "df.head()"
   ]
  },
  {
   "cell_type": "code",
   "execution_count": 60,
   "metadata": {},
   "outputs": [],
   "source": [
    "#df['body_cluster_mod'] = np.where((df.body_cluster_mod ==1), 10, df.body_cluster_mod)\n"
   ]
  },
  {
   "cell_type": "code",
   "execution_count": 61,
   "metadata": {},
   "outputs": [],
   "source": [
    "#df['body_cluster_mod'] = np.where((df.body_cluster_mod == 0), 1, df.body_cluster_mod)"
   ]
  },
  {
   "cell_type": "code",
   "execution_count": 62,
   "metadata": {},
   "outputs": [],
   "source": [
    "#df['body_cluster_mod'] = np.where((df.body_cluster_mod == 10), 0, df.body_cluster_mod)"
   ]
  },
  {
   "cell_type": "code",
   "execution_count": null,
   "metadata": {},
   "outputs": [],
   "source": []
  },
  {
   "cell_type": "code",
   "execution_count": null,
   "metadata": {},
   "outputs": [],
   "source": []
  },
  {
   "cell_type": "code",
   "execution_count": null,
   "metadata": {},
   "outputs": [],
   "source": []
  },
  {
   "cell_type": "code",
   "execution_count": 63,
   "metadata": {},
   "outputs": [
    {
     "data": {
      "text/plain": [
       "0.823982869379015"
      ]
     },
     "execution_count": 63,
     "metadata": {},
     "output_type": "execute_result"
    }
   ],
   "source": [
    "from sklearn.metrics import accuracy_score\n",
    "accuracy_score(df.SPAM, df.body_cluster_mod)"
   ]
  },
  {
   "cell_type": "code",
   "execution_count": 64,
   "metadata": {},
   "outputs": [
    {
     "data": {
      "text/plain": [
       "array([[6703,  240],\n",
       "       [1404,  993]], dtype=int64)"
      ]
     },
     "execution_count": 64,
     "metadata": {},
     "output_type": "execute_result"
    }
   ],
   "source": [
    "# with body text\n",
    "import pandas as pd\n",
    "\n",
    "y_actual = pd.Series(df.SPAM, name='Actual')\n",
    "y_predicted = pd.Series(df.body_cluster_mod, name='Predicted')\n",
    "\n",
    "from sklearn import metrics\n",
    "metrics.confusion_matrix(df.SPAM, df.body_cluster_mod)"
   ]
  },
  {
   "cell_type": "code",
   "execution_count": 65,
   "metadata": {
    "scrolled": true
   },
   "outputs": [
    {
     "name": "stdout",
     "output_type": "stream",
     "text": [
      "Predicted     0    1\n",
      "Actual              \n",
      "0          6703  240\n",
      "1          1404  993\n",
      "Accuracy\n",
      "0.823982869379015\n",
      "Precision\n",
      "0.805352798053528\n",
      "Recall\n",
      "0.4142678347934919\n"
     ]
    }
   ],
   "source": [
    "# with body text\n",
    "import pandas as pd\n",
    "\n",
    "y_actual = pd.Series(df.SPAM, name='Actual')\n",
    "y_predicted = pd.Series(df.body_cluster_mod, name='Predicted')\n",
    "\n",
    "print(pd.crosstab(y_actual, y_predicted))\n",
    "#print accuracy of model\n",
    "print(\"Accuracy\")\n",
    "print(metrics.accuracy_score(y_actual, y_predicted))\n",
    "\n",
    "\n",
    "#print precision value of model\n",
    "print(\"Precision\")\n",
    "print(metrics.precision_score(y_actual, y_predicted))\n",
    "\n",
    "\n",
    "\n",
    "#print recall value of model\n",
    "print(\"Recall\")\n",
    "print(metrics.recall_score(y_actual, y_predicted))\n"
   ]
  },
  {
   "cell_type": "code",
   "execution_count": 66,
   "metadata": {},
   "outputs": [
    {
     "name": "stdout",
     "output_type": "stream",
     "text": [
      "              precision    recall  f1-score   support\n",
      "\n",
      "           0       0.83      0.97      0.89      6943\n",
      "           1       0.81      0.41      0.55      2397\n",
      "\n",
      "    accuracy                           0.82      9340\n",
      "   macro avg       0.82      0.69      0.72      9340\n",
      "weighted avg       0.82      0.82      0.80      9340\n",
      "\n"
     ]
    }
   ],
   "source": [
    "from sklearn.metrics import classification_report\n",
    "print(classification_report(df.SPAM,df.body_cluster_mod))"
   ]
  },
  {
   "cell_type": "markdown",
   "metadata": {
    "id": "ul_6nw48N5Dy"
   },
   "source": [
    "## Data Summary <a id='data-summary'>"
   ]
  },
  {
   "cell_type": "markdown",
   "metadata": {
    "id": "Aws5HAx98g_E"
   },
   "source": [
    "## Missing Values <a id='missing-values'>\n",
    "\n"
   ]
  },
  {
   "cell_type": "code",
   "execution_count": null,
   "metadata": {
    "id": "2BgB13po8g_F",
    "outputId": "aba28207-2ccb-4d38-b36a-adcd6d28dd45"
   },
   "outputs": [],
   "source": [
    "# Rows where body couldn't be read in = 'Error(html)'\n",
    "df.loc[df['body']=='Error(html)']\n",
    "\n",
    "# All spam emails"
   ]
  },
  {
   "cell_type": "code",
   "execution_count": null,
   "metadata": {},
   "outputs": [],
   "source": [
    "# Count of body read Errors\n",
    "df.loc[df['body']=='Error(html)'].shape[0]"
   ]
  },
  {
   "cell_type": "code",
   "execution_count": null,
   "metadata": {},
   "outputs": [],
   "source": [
    "# Look at file example with Error(html)\n",
    "with open(files[4][1], 'rb') as fp:\n",
    "    msg = BytesParser(policy=policy.default).parse(fp)\n",
    "print(msg)"
   ]
  },
  {
   "cell_type": "markdown",
   "metadata": {
    "id": "21Kdalsl8g_I"
   },
   "source": [
    "## Feature Removal <a id='feature-removal'>"
   ]
  },
  {
   "cell_type": "markdown",
   "metadata": {
    "id": "786e5_En8g_J"
   },
   "source": []
  },
  {
   "cell_type": "code",
   "execution_count": null,
   "metadata": {
    "id": "nbvlZHwG8g_J"
   },
   "outputs": [],
   "source": []
  },
  {
   "cell_type": "markdown",
   "metadata": {
    "id": "CbAmkozvN5Dz"
   },
   "source": [
    "## Exploratory Data Analysis (EDA) <a id='eda'>"
   ]
  },
  {
   "cell_type": "markdown",
   "metadata": {
    "id": "ChoPhHdx8g_M"
   },
   "source": [
    "### "
   ]
  },
  {
   "cell_type": "code",
   "execution_count": null,
   "metadata": {
    "id": "EqDlP8C_N5D0",
    "outputId": "8ec90270-f4e0-4210-c59a-64c9b6deb27c"
   },
   "outputs": [],
   "source": []
  },
  {
   "cell_type": "markdown",
   "metadata": {
    "id": "VgZRFeORN5D3"
   },
   "source": [
    "### Feature Collinearity <a id='feature-collinearity'>\n"
   ]
  },
  {
   "cell_type": "code",
   "execution_count": null,
   "metadata": {
    "id": "F8bqfy9fN5D3"
   },
   "outputs": [],
   "source": []
  },
  {
   "cell_type": "markdown",
   "metadata": {
    "id": "qXZZeARjN5D3"
   },
   "source": [
    "### Feature Outliers \n",
    " "
   ]
  },
  {
   "cell_type": "code",
   "execution_count": null,
   "metadata": {
    "id": "r4Sp5SYe8g_Z"
   },
   "outputs": [],
   "source": []
  },
  {
   "cell_type": "markdown",
   "metadata": {
    "id": "z6qUPkzRN5D4"
   },
   "source": [
    "## Assumptions <a id='assumptions'>"
   ]
  },
  {
   "cell_type": "markdown",
   "metadata": {
    "id": "SaEb4apWN5D4"
   },
   "source": []
  },
  {
   "cell_type": "markdown",
   "metadata": {
    "id": "zmuI_mep8g_b"
   },
   "source": [
    "# Model Preparations <a id='model-preparations'/>"
   ]
  },
  {
   "cell_type": "markdown",
   "metadata": {
    "id": "wxBwihRyOfZY"
   },
   "source": [
    "What methods did you use (or not) to solve the problem?\n",
    "\n",
    "Why are the methods you chose appropriate given the business objective?\n",
    "\n",
    "How did you decide your approach was useful?  If more than one method, which one was better or why are each better or not?\n",
    "\n",
    "What evaluation smetrics are most useful given the problem is a binary classification (ex. accuracy, f1-score, precision, recall AUC, etc)?\n",
    "\n"
   ]
  },
  {
   "cell_type": "markdown",
   "metadata": {
    "id": "BnCsXV_c8g_V"
   },
   "source": [
    "## Sampling & Scaling Data <a id='sampling-scaling-data' />"
   ]
  },
  {
   "cell_type": "markdown",
   "metadata": {
    "id": "cXqoLTm_8g_c"
   },
   "source": [
    "## Proposed Method <a id='proposed-metrics' />"
   ]
  },
  {
   "cell_type": "markdown",
   "metadata": {
    "id": "0lLPX93kN5D6"
   },
   "source": []
  },
  {
   "cell_type": "markdown",
   "metadata": {
    "id": "HT4eeZsX8g_c"
   },
   "source": [
    "## Evaluation Metrics <a id='evaluation-metrics' />"
   ]
  },
  {
   "cell_type": "markdown",
   "metadata": {
    "id": "hGvfqpC4N5D6"
   },
   "source": [
    " "
   ]
  },
  {
   "cell_type": "markdown",
   "metadata": {
    "id": "DeWgSmQW8g_Z"
   },
   "source": [
    "### Baseline Model"
   ]
  },
  {
   "cell_type": "markdown",
   "metadata": {
    "id": "UUpR8S0tN5D7"
   },
   "source": []
  },
  {
   "cell_type": "code",
   "execution_count": null,
   "metadata": {
    "id": "ul4ybaieN5D7"
   },
   "outputs": [],
   "source": []
  },
  {
   "cell_type": "markdown",
   "metadata": {
    "id": "rADZ1qTz8g_c"
   },
   "source": [
    "## Feature Selection <a id='feature-selection' />"
   ]
  },
  {
   "cell_type": "markdown",
   "metadata": {
    "id": "w459qqI-N5D7"
   },
   "source": [
    " "
   ]
  },
  {
   "cell_type": "code",
   "execution_count": null,
   "metadata": {
    "id": "9lfHYitKN5D7"
   },
   "outputs": [],
   "source": []
  },
  {
   "cell_type": "markdown",
   "metadata": {
    "id": "UuRjMsjg8g_d"
   },
   "source": [
    "# Model Building & Evaluations <a id='model-building'/>"
   ]
  },
  {
   "cell_type": "markdown",
   "metadata": {
    "id": "JIef6T0FPIVM"
   },
   "source": [
    "Primary task is buiding a logistic regression to predict hospital readmittances.\n",
    "\n",
    "How did you handle missing values?\n",
    "\n",
    "Specify your sampling methodology\n",
    "\n",
    "Set up your models - highlights of any important parameters\n",
    "\n",
    "Analysis of your models performance"
   ]
  },
  {
   "cell_type": "markdown",
   "metadata": {
    "id": "UU9VF8AM8g_d"
   },
   "source": [
    "## Sampling Methodology <a id='sampling-methodology'/>"
   ]
  },
  {
   "cell_type": "markdown",
   "metadata": {
    "id": "Wu8uewjVN5D8"
   },
   "source": [
    "#### Per the code above we used a 70/30 train test sample split"
   ]
  },
  {
   "cell_type": "code",
   "execution_count": null,
   "metadata": {
    "id": "hDVXhO8F8g_d",
    "scrolled": true
   },
   "outputs": [],
   "source": []
  },
  {
   "cell_type": "markdown",
   "metadata": {
    "id": "p-C7Tc5W8g_e"
   },
   "source": [
    "## Model's Performance Analysis <a id='performance-analysis'/>"
   ]
  },
  {
   "cell_type": "markdown",
   "metadata": {
    "id": "B1QaouAiN5D9"
   },
   "source": []
  },
  {
   "cell_type": "markdown",
   "metadata": {
    "id": "HISQa9FO8g_e"
   },
   "source": [
    "# Model Interpretability & Explainability <a id='model-explanation'>"
   ]
  },
  {
   "cell_type": "markdown",
   "metadata": {
    "id": "5rlSakuzPhjw"
   },
   "source": [
    "Which variables were more important and why?\n",
    "\n",
    "How did you come to the conclusion these variables were important how how should the audience interpret this?"
   ]
  },
  {
   "cell_type": "markdown",
   "metadata": {
    "id": "PSBc4ETe8g_e"
   },
   "source": [
    "## Examining Feature Importance <a id='examining-feature-importance'/>"
   ]
  },
  {
   "cell_type": "code",
   "execution_count": null,
   "metadata": {
    "id": "BpGIwvaMQD8M"
   },
   "outputs": [],
   "source": []
  },
  {
   "cell_type": "markdown",
   "metadata": {
    "id": "yb4q1PtqN5D9"
   },
   "source": []
  },
  {
   "cell_type": "code",
   "execution_count": null,
   "metadata": {
    "id": "LLbI9bVy8g_e"
   },
   "outputs": [],
   "source": []
  },
  {
   "cell_type": "markdown",
   "metadata": {
    "id": "JbAhMB1x8g_e"
   },
   "source": [
    "# Conclusion <a id='conclusion'>"
   ]
  },
  {
   "cell_type": "markdown",
   "metadata": {
    "id": "fetUVJsePwN7"
   },
   "source": [
    "What are you proposing to the audience with your models and why?\n",
    "\n",
    "How should your audience interpret your conclusion and whwere should they go moving forward on the topic?\n",
    "\n",
    "What other approaches do you recommend exploring?\n",
    "\n",
    "Bring it all home!"
   ]
  },
  {
   "cell_type": "markdown",
   "metadata": {
    "id": "xnsadV7M8g_e"
   },
   "source": [
    "### Final Model Proposal <a id='final-model-proposal'/>"
   ]
  },
  {
   "cell_type": "markdown",
   "metadata": {
    "id": "4XXMCBozN5D-"
   },
   "source": []
  },
  {
   "cell_type": "markdown",
   "metadata": {
    "id": "oX8fXYczN5D-"
   },
   "source": [
    "### Future Considerations and Model Enhancements <a id='model-enhancements'/>"
   ]
  },
  {
   "cell_type": "markdown",
   "metadata": {
    "id": "xzeTkIEWN5D-"
   },
   "source": []
  },
  {
   "cell_type": "markdown",
   "metadata": {
    "id": "Thch7JfCN5D_"
   },
   "source": [
    "### Alternative Modeling Approaches <a id='alternative-modeling-approaches'>"
   ]
  },
  {
   "cell_type": "markdown",
   "metadata": {
    "id": "IUpUUjATN5D_"
   },
   "source": []
  }
 ],
 "metadata": {
  "colab": {
   "name": "Case_Study_1.ipynb",
   "provenance": []
  },
  "kernelspec": {
   "display_name": "Python 3",
   "language": "python",
   "name": "python3"
  },
  "language_info": {
   "codemirror_mode": {
    "name": "ipython",
    "version": 3
   },
   "file_extension": ".py",
   "mimetype": "text/x-python",
   "name": "python",
   "nbconvert_exporter": "python",
   "pygments_lexer": "ipython3",
   "version": "3.7.10"
  }
 },
 "nbformat": 4,
 "nbformat_minor": 1
}
