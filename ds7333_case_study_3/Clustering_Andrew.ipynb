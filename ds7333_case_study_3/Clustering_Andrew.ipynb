{
 "cells": [
  {
   "cell_type": "markdown",
   "metadata": {
    "id": "GoCXzNvN8g-8"
   },
   "source": [
    "# Case Study 3 - Email Spam"
   ]
  },
  {
   "cell_type": "markdown",
   "metadata": {
    "id": "YBy24RcB8g-9"
   },
   "source": [
    "__Team Members:__ Amber Clark, Andrew Leppla, Jorge Olmos, Paritosh Rai"
   ]
  },
  {
   "cell_type": "markdown",
   "metadata": {},
   "source": [
    "# Team Strategy"
   ]
  },
  {
   "cell_type": "markdown",
   "metadata": {},
   "source": [
    "Emails are read in.  Kept: From, Subject, Body.\n",
    "- Remove \\n with regex\n",
    "- Remove other non-alphabetic characters - keep the counts?\n",
    "\n",
    "Feature Extraction:\n",
    "1. Vectorization - TFIDF (removes stop words)\n",
    "If we have time:\n",
    "2. Created 'trusted' and 'spam' email address book to filter spam - IS THIS OUT OF SCOPE PER SCOPE?\n",
    "\n",
    "Model:\n",
    "Classification with Naive Bayes - Amber, Jorge\n",
    "1. Subject Only = Baseline\n",
    "2. Body (+Subject?)\n",
    "\n",
    "Clustering:\n",
    "DBSCAN with cosine distance for NLP - Andrew, Paritosh"
   ]
  },
  {
   "cell_type": "markdown",
   "metadata": {
    "id": "O4O0up-U8g-9"
   },
   "source": [
    "# Content\n",
    "* [Business Understanding](#business-understanding)\n",
    "    - [Scope](#scope)\n",
    "    - [Introduction](#introduction)\n",
    "    - [Methods](#methods)\n",
    "    - [Results](#results)\n",
    "* [Data Evaluation](#data-evaluation)\n",
    "    - [Loading Data](#loading-data) \n",
    "    - [Data Summary](#data-summary)\n",
    "    - [Missing Values](#missing-values)\n",
    "    - [Feature Removal](#feature-removal)\n",
    "    - [Exploratory Data Analysis (EDA)](#eda)\n",
    "    - [Assumptions](#assumptions)\n",
    "* [Model Preparations](#model-preparations)\n",
    "    - [Sampling & Scaling Data](#sampling-scaling-data)\n",
    "    - [Proposed Method](#proposed-metrics)\n",
    "    - [Evaluation Metrics](#evaluation-metrics)\n",
    "    - [Feature Selection](#feature-selection)\n",
    "* [Model Building & Evaluations](#model-building)\n",
    "    - [Sampling Methodology](#sampling-methodology)\n",
    "    - [Model](#model)\n",
    "    - [Performance Analysis](#performance-analysis)\n",
    "* [Model Interpretability & Explainability](#model-explanation)\n",
    "    - [Examining Feature Importance](#examining-feature-importance)\n",
    "* [Conclusion](#conclusion)\n",
    "    - [Final Model Proposal](#final-model-proposal)\n",
    "    - [Future Considerations and Model Enhancements](#model-enhancements)\n",
    "    - [Alternative Modeling Approaches](#alternative-modeling-approaches)"
   ]
  },
  {
   "cell_type": "markdown",
   "metadata": {
    "id": "TRedT-FB8g_A"
   },
   "source": [
    "# Business Understanding & Executive Summary <a id='business-understanding'/>"
   ]
  },
  {
   "cell_type": "markdown",
   "metadata": {
    "id": "F-4BiuuQOEh4"
   },
   "source": [
    "What are we trying to solve for and why is it important?\n"
   ]
  },
  {
   "cell_type": "markdown",
   "metadata": {
    "id": "_TBIHKRt8g--"
   },
   "source": [
    "### Scope <a id='scope'/>\n",
    "\n",
    "\n",
    "### Introduction <a id='introduction'/>\n",
    "\n",
    "\n",
    "### Methods <a id='methods'/>\n",
    " \n",
    " \n",
    "### Results <a id='results'/>\n",
    " "
   ]
  },
  {
   "cell_type": "markdown",
   "metadata": {
    "id": "PVtcYu5j8g_B"
   },
   "source": [
    "# Data Evaluation <a id='data-evaluation'>\n",
    "    "
   ]
  },
  {
   "cell_type": "markdown",
   "metadata": {
    "id": "ZsIJIUSjOLcl"
   },
   "source": [
    "Summarize data being used?\n",
    "\n",
    "Are there missing values?\n",
    "\n",
    "Which variables are needed and which are not?\n",
    "\n",
    "What assumptions or conclusions are you drawing about your data?"
   ]
  },
  {
   "cell_type": "markdown",
   "metadata": {
    "id": "ox-qLqjc8g_B"
   },
   "source": []
  },
  {
   "cell_type": "code",
   "execution_count": 2,
   "metadata": {
    "id": "qcBcP8Jy8g_C",
    "outputId": "a6a85b4a-a106-48bb-bc2a-e6a5fb8ca494"
   },
   "outputs": [
    {
     "data": {
      "text/plain": [
       "\"import warnings\\nwarnings.filterwarnings('ignore')\\nfrom warnings import simplefilter \\nsimplefilter(action='ignore', category=FutureWarning)\""
      ]
     },
     "execution_count": 2,
     "metadata": {},
     "output_type": "execute_result"
    }
   ],
   "source": [
    "# standard libraries\n",
    "import pandas as pd\n",
    "import numpy as np\n",
    "import os\n",
    "from IPython.display import Image\n",
    "\n",
    "# email\n",
    "from email import policy\n",
    "from email.parser import BytesParser\n",
    "\n",
    "# visualization\n",
    "import seaborn as sns\n",
    "import matplotlib.pyplot as plt\n",
    "%matplotlib inline\n",
    "from tabulate import tabulate\n",
    "\n",
    "# data pre-processing\n",
    "from sklearn.model_selection import train_test_split\n",
    "from sklearn.model_selection import StratifiedShuffleSplit\n",
    "from sklearn.feature_extraction.text import TfidfVectorizer\n",
    "\n",
    "# prediction models\n",
    "from sklearn.cluster import DBSCAN\n",
    "\n",
    "# import warnings filter\n",
    "'''import warnings\n",
    "warnings.filterwarnings('ignore')\n",
    "from warnings import simplefilter \n",
    "simplefilter(action='ignore', category=FutureWarning)'''"
   ]
  },
  {
   "cell_type": "markdown",
   "metadata": {
    "id": "4WcvKI3y8g_C"
   },
   "source": [
    "## Loading Data <a id='loading-data'>"
   ]
  },
  {
   "cell_type": "markdown",
   "metadata": {
    "id": "ZDhb7boF8g_D"
   },
   "source": []
  },
  {
   "cell_type": "code",
   "execution_count": 3,
   "metadata": {
    "id": "3dYvb9W38g_D",
    "outputId": "3a6b397c-92dc-4ce0-c599-9cf69191e676"
   },
   "outputs": [],
   "source": [
    "# Specify your local directory\n",
    "email_dir = 'C:\\\\Users\\\\allep\\\\QTW_Projects\\\\SpamAssasinMessages (CS3)'\n",
    "os.chdir(email_dir)"
   ]
  },
  {
   "cell_type": "code",
   "execution_count": 4,
   "metadata": {},
   "outputs": [
    {
     "data": {
      "text/plain": [
       "['easy_ham', 'easy_ham_2', 'hard_ham', 'spam', 'spam_2']"
      ]
     },
     "execution_count": 4,
     "metadata": {},
     "output_type": "execute_result"
    }
   ],
   "source": [
    "# Get the list of folder names\n",
    "folders = os.listdir()\n",
    "folders"
   ]
  },
  {
   "cell_type": "code",
   "execution_count": 5,
   "metadata": {},
   "outputs": [],
   "source": [
    "# Get the file names in each folder (list of lists)\n",
    "files = [ os.listdir('.\\\\' + i) for i in folders] \n",
    "\n",
    "# Create a list of dataframes for all of the folders\n",
    "emails = [ pd.DataFrame({'folder' : [], 'from' : [], 'subject' : [], 'body': []}) ]*len(folders)\n",
    "\n",
    "# Add folder path to file names\n",
    "for i in range(0,len(folders)):\n",
    "    for j in range(0, len(files[i])):\n",
    "        files[i][j] = str(folders[i] + '\\\\' + files[i][j]) \n",
    "        \n",
    "        # Parse and extract email 'subject' and 'from'\n",
    "        with open(files[i][j], 'rb') as fp:\n",
    "            msg = BytesParser(policy=policy.default).parse(fp)\n",
    "            \n",
    "            # Error checking when reading in 'body' for some html-based emails from spam folders\n",
    "            try:\n",
    "                simplest = msg.get_body(preferencelist=('plain', 'html'))\n",
    "                try:\n",
    "                    new_row = {'folder': folders[i], 'from': msg['from'], 'subject': msg['subject'], 'body': simplest.get_content()}\n",
    "                    emails[i] = emails[i].append(new_row, ignore_index=True)\n",
    "                except:\n",
    "                    new_row = {'folder': folders[i], 'from': msg['from'], 'subject':msg['subject'], 'body':'Error(html)'}\n",
    "                    emails[i] = emails[i].append(new_row, ignore_index=True)\n",
    "            except:\n",
    "                new_row = {'folder': folders[i], 'from': msg['from'], 'subject':msg['subject'], 'body':'Error(html)'}\n",
    "                emails[i] = emails[i].append(new_row, ignore_index=True)"
   ]
  },
  {
   "cell_type": "code",
   "execution_count": 6,
   "metadata": {},
   "outputs": [
    {
     "name": "stdout",
     "output_type": "stream",
     "text": [
      "# files in folders: [5052, 1401, 501, 1001, 1398]\n",
      "# emails read in  : [5052, 1401, 501, 1001, 1398]\n",
      "\n",
      "# total emails = 9353\n"
     ]
    }
   ],
   "source": [
    "# Emails per folder\n",
    "print(\"# files in folders:\", [len(i) for i in files])\n",
    "print(\"# emails read in  :\", [i.shape[0] for i in emails])\n",
    "\n",
    "# Total emails\n",
    "print( \"\\n# total emails =\", sum([len(i) for i in files]) )"
   ]
  },
  {
   "cell_type": "code",
   "execution_count": 7,
   "metadata": {},
   "outputs": [
    {
     "data": {
      "text/plain": [
       "(9353, 6)"
      ]
     },
     "execution_count": 7,
     "metadata": {},
     "output_type": "execute_result"
    }
   ],
   "source": [
    "# Create single dataframe from all folders\n",
    "df = pd.concat( [emails[i] for i in range(0, len(emails))], axis=0)\n",
    "\n",
    "#  Keep the indices from the folders\n",
    "df = df.reset_index() \n",
    "\n",
    "# create response column from folder names\n",
    "spam = [(i=='spam' or i=='spam_2') for i in df['folder']]\n",
    "df = pd.concat([df, pd.Series(spam).astype(int)], axis=1)\n",
    "\n",
    "df.columns = ['folder_idx', 'folder', 'from', 'subject', 'body','spam']\n",
    "\n",
    "df.shape"
   ]
  },
  {
   "cell_type": "code",
   "execution_count": 8,
   "metadata": {},
   "outputs": [
    {
     "data": {
      "text/html": [
       "<div>\n",
       "<style scoped>\n",
       "    .dataframe tbody tr th:only-of-type {\n",
       "        vertical-align: middle;\n",
       "    }\n",
       "\n",
       "    .dataframe tbody tr th {\n",
       "        vertical-align: top;\n",
       "    }\n",
       "\n",
       "    .dataframe thead th {\n",
       "        text-align: right;\n",
       "    }\n",
       "</style>\n",
       "<table border=\"1\" class=\"dataframe\">\n",
       "  <thead>\n",
       "    <tr style=\"text-align: right;\">\n",
       "      <th></th>\n",
       "      <th>folder_idx</th>\n",
       "      <th>folder</th>\n",
       "      <th>from</th>\n",
       "      <th>subject</th>\n",
       "      <th>body</th>\n",
       "      <th>spam</th>\n",
       "    </tr>\n",
       "  </thead>\n",
       "  <tbody>\n",
       "    <tr>\n",
       "      <th>0</th>\n",
       "      <td>0</td>\n",
       "      <td>easy_ham</td>\n",
       "      <td>Robert Elz &lt;kre@munnari.OZ.AU&gt;</td>\n",
       "      <td>Re: New Sequences Window</td>\n",
       "      <td>Date:        Wed, 21 Aug 2002 10:54:46 -05...</td>\n",
       "      <td>0</td>\n",
       "    </tr>\n",
       "    <tr>\n",
       "      <th>1</th>\n",
       "      <td>1</td>\n",
       "      <td>easy_ham</td>\n",
       "      <td>Steve Burt &lt;Steve_Burt@cursor-system.com&gt;</td>\n",
       "      <td>[zzzzteana] RE: Alexander</td>\n",
       "      <td>Martin A posted:\\nTassos Papadopoulos, the Gre...</td>\n",
       "      <td>0</td>\n",
       "    </tr>\n",
       "    <tr>\n",
       "      <th>2</th>\n",
       "      <td>2</td>\n",
       "      <td>easy_ham</td>\n",
       "      <td>Tim Chapman &lt;timc@2ubh.com&gt;</td>\n",
       "      <td>[zzzzteana] Moscow bomber</td>\n",
       "      <td>Man Threatens Explosion In Moscow \\n\\nThursday...</td>\n",
       "      <td>0</td>\n",
       "    </tr>\n",
       "    <tr>\n",
       "      <th>3</th>\n",
       "      <td>3</td>\n",
       "      <td>easy_ham</td>\n",
       "      <td>Monty Solomon &lt;monty@roscom.com&gt;</td>\n",
       "      <td>[IRR] Klez: The Virus That  Won't Die</td>\n",
       "      <td>Klez: The Virus That Won't Die\\n \\nAlready the...</td>\n",
       "      <td>0</td>\n",
       "    </tr>\n",
       "    <tr>\n",
       "      <th>4</th>\n",
       "      <td>4</td>\n",
       "      <td>easy_ham</td>\n",
       "      <td>Stewart Smith &lt;Stewart.Smith@ee.ed.ac.uk&gt;</td>\n",
       "      <td>Re: [zzzzteana] Nothing like mama used to make</td>\n",
       "      <td>&gt;  in adding cream to spaghetti carbonara, whi...</td>\n",
       "      <td>0</td>\n",
       "    </tr>\n",
       "  </tbody>\n",
       "</table>\n",
       "</div>"
      ],
      "text/plain": [
       "   folder_idx    folder                                       from  \\\n",
       "0           0  easy_ham             Robert Elz <kre@munnari.OZ.AU>   \n",
       "1           1  easy_ham  Steve Burt <Steve_Burt@cursor-system.com>   \n",
       "2           2  easy_ham                Tim Chapman <timc@2ubh.com>   \n",
       "3           3  easy_ham           Monty Solomon <monty@roscom.com>   \n",
       "4           4  easy_ham  Stewart Smith <Stewart.Smith@ee.ed.ac.uk>   \n",
       "\n",
       "                                          subject  \\\n",
       "0                        Re: New Sequences Window   \n",
       "1                       [zzzzteana] RE: Alexander   \n",
       "2                       [zzzzteana] Moscow bomber   \n",
       "3           [IRR] Klez: The Virus That  Won't Die   \n",
       "4  Re: [zzzzteana] Nothing like mama used to make   \n",
       "\n",
       "                                                body  spam  \n",
       "0      Date:        Wed, 21 Aug 2002 10:54:46 -05...     0  \n",
       "1  Martin A posted:\\nTassos Papadopoulos, the Gre...     0  \n",
       "2  Man Threatens Explosion In Moscow \\n\\nThursday...     0  \n",
       "3  Klez: The Virus That Won't Die\\n \\nAlready the...     0  \n",
       "4  >  in adding cream to spaghetti carbonara, whi...     0  "
      ]
     },
     "execution_count": 8,
     "metadata": {},
     "output_type": "execute_result"
    }
   ],
   "source": [
    "df.head()"
   ]
  },
  {
   "cell_type": "markdown",
   "metadata": {
    "id": "ul_6nw48N5Dy"
   },
   "source": [
    "## Data Summary <a id='data-summary'>"
   ]
  },
  {
   "cell_type": "markdown",
   "metadata": {
    "id": "Aws5HAx98g_E"
   },
   "source": [
    "## Missing Values <a id='missing-values'>\n",
    "\n"
   ]
  },
  {
   "cell_type": "code",
   "execution_count": 9,
   "metadata": {
    "id": "2BgB13po8g_F",
    "outputId": "aba28207-2ccb-4d38-b36a-adcd6d28dd45"
   },
   "outputs": [
    {
     "data": {
      "text/html": [
       "<div>\n",
       "<style scoped>\n",
       "    .dataframe tbody tr th:only-of-type {\n",
       "        vertical-align: middle;\n",
       "    }\n",
       "\n",
       "    .dataframe tbody tr th {\n",
       "        vertical-align: top;\n",
       "    }\n",
       "\n",
       "    .dataframe thead th {\n",
       "        text-align: right;\n",
       "    }\n",
       "</style>\n",
       "<table border=\"1\" class=\"dataframe\">\n",
       "  <thead>\n",
       "    <tr style=\"text-align: right;\">\n",
       "      <th></th>\n",
       "      <th>folder_idx</th>\n",
       "      <th>folder</th>\n",
       "      <th>from</th>\n",
       "      <th>subject</th>\n",
       "      <th>body</th>\n",
       "      <th>spam</th>\n",
       "    </tr>\n",
       "  </thead>\n",
       "  <tbody>\n",
       "    <tr>\n",
       "      <th>7191</th>\n",
       "      <td>237</td>\n",
       "      <td>spam</td>\n",
       "      <td>eb@via.ecp.fr</td>\n",
       "      <td>Over $100,000 Per Year Possible On The Net!  N...</td>\n",
       "      <td>Error(html)</td>\n",
       "      <td>1</td>\n",
       "    </tr>\n",
       "    <tr>\n",
       "      <th>7303</th>\n",
       "      <td>349</td>\n",
       "      <td>spam</td>\n",
       "      <td>\"Books@Books\"@BlackRealityPublishing.com</td>\n",
       "      <td>Free Excerpt;  Baby Makers, Loser Choosers, &amp; ...</td>\n",
       "      <td>Error(html)</td>\n",
       "      <td>1</td>\n",
       "    </tr>\n",
       "    <tr>\n",
       "      <th>7379</th>\n",
       "      <td>425</td>\n",
       "      <td>spam</td>\n",
       "      <td>zzzz@netscape.net</td>\n",
       "      <td>Collect Your Money! Time:1:30:33 AM</td>\n",
       "      <td>Error(html)</td>\n",
       "      <td>1</td>\n",
       "    </tr>\n",
       "    <tr>\n",
       "      <th>7466</th>\n",
       "      <td>512</td>\n",
       "      <td>spam</td>\n",
       "      <td>Affordable Computer Supply &lt;InkjetDeals@acsmsu...</td>\n",
       "      <td>Printer Cartridges as low as $1.21 each!</td>\n",
       "      <td>Error(html)</td>\n",
       "      <td>1</td>\n",
       "    </tr>\n",
       "    <tr>\n",
       "      <th>7679</th>\n",
       "      <td>725</td>\n",
       "      <td>spam</td>\n",
       "      <td>eb@via.ecp.fr</td>\n",
       "      <td>Over $100,000 Per Year Possible On The Net!  N...</td>\n",
       "      <td>Error(html)</td>\n",
       "      <td>1</td>\n",
       "    </tr>\n",
       "    <tr>\n",
       "      <th>7782</th>\n",
       "      <td>828</td>\n",
       "      <td>spam</td>\n",
       "      <td>\"Books@Books\"@BlackRealityPublishing.com</td>\n",
       "      <td>Free Excerpt;  Baby Makers, Loser Choosers, &amp; ...</td>\n",
       "      <td>Error(html)</td>\n",
       "      <td>1</td>\n",
       "    </tr>\n",
       "    <tr>\n",
       "      <th>7852</th>\n",
       "      <td>898</td>\n",
       "      <td>spam</td>\n",
       "      <td>zzzz@netscape.net</td>\n",
       "      <td>Collect Your Money! Time:1:30:33 AM</td>\n",
       "      <td>Error(html)</td>\n",
       "      <td>1</td>\n",
       "    </tr>\n",
       "    <tr>\n",
       "      <th>7931</th>\n",
       "      <td>977</td>\n",
       "      <td>spam</td>\n",
       "      <td>Affordable Computer Supply &lt;InkjetDeals@acsmsu...</td>\n",
       "      <td>Printer Cartridges as low as $1.21 each!</td>\n",
       "      <td>Error(html)</td>\n",
       "      <td>1</td>\n",
       "    </tr>\n",
       "    <tr>\n",
       "      <th>7956</th>\n",
       "      <td>1</td>\n",
       "      <td>spam_2</td>\n",
       "      <td>lmrn@mailexcite.com</td>\n",
       "      <td>Real Protection, Stun Guns!  Free Shipping! Ti...</td>\n",
       "      <td>Error(html)</td>\n",
       "      <td>1</td>\n",
       "    </tr>\n",
       "    <tr>\n",
       "      <th>7957</th>\n",
       "      <td>2</td>\n",
       "      <td>spam_2</td>\n",
       "      <td>amknight@mailexcite.com</td>\n",
       "      <td>New Improved Fat Burners, Now With TV Fat Abso...</td>\n",
       "      <td>Error(html)</td>\n",
       "      <td>1</td>\n",
       "    </tr>\n",
       "    <tr>\n",
       "      <th>7958</th>\n",
       "      <td>3</td>\n",
       "      <td>spam_2</td>\n",
       "      <td>jordan23@mailexcite.com</td>\n",
       "      <td>New Improved Fat Burners, Now With TV Fat Abso...</td>\n",
       "      <td>Error(html)</td>\n",
       "      <td>1</td>\n",
       "    </tr>\n",
       "    <tr>\n",
       "      <th>7959</th>\n",
       "      <td>4</td>\n",
       "      <td>spam_2</td>\n",
       "      <td>yyyy@pluriproj.pt</td>\n",
       "      <td>Never Repay Cash Grants, $500 - $50,000, Secre...</td>\n",
       "      <td>Error(html)</td>\n",
       "      <td>1</td>\n",
       "    </tr>\n",
       "    <tr>\n",
       "      <th>7960</th>\n",
       "      <td>5</td>\n",
       "      <td>spam_2</td>\n",
       "      <td>3b3fke@ms10.hinet.net</td>\n",
       "      <td>�٦b��20%���H�Υd�`����??? Time:PM 05:36:34</td>\n",
       "      <td>Error(html)</td>\n",
       "      <td>1</td>\n",
       "    </tr>\n",
       "    <tr>\n",
       "      <th>8060</th>\n",
       "      <td>105</td>\n",
       "      <td>spam_2</td>\n",
       "      <td>Mary &lt;jane0l215@excite.com&gt;</td>\n",
       "      <td>Major Stock Play</td>\n",
       "      <td>Error(html)</td>\n",
       "      <td>1</td>\n",
       "    </tr>\n",
       "    <tr>\n",
       "      <th>8062</th>\n",
       "      <td>107</td>\n",
       "      <td>spam_2</td>\n",
       "      <td>Mary &lt;jane0l215@excite.com&gt;</td>\n",
       "      <td>Major Stock Play</td>\n",
       "      <td>Error(html)</td>\n",
       "      <td>1</td>\n",
       "    </tr>\n",
       "    <tr>\n",
       "      <th>8158</th>\n",
       "      <td>203</td>\n",
       "      <td>spam_2</td>\n",
       "      <td>iqsoftware@export2000.ro</td>\n",
       "      <td>[Avfs] Romanian Software Production &amp; Export</td>\n",
       "      <td>Error(html)</td>\n",
       "      <td>1</td>\n",
       "    </tr>\n",
       "    <tr>\n",
       "      <th>8247</th>\n",
       "      <td>292</td>\n",
       "      <td>spam_2</td>\n",
       "      <td>Polaroid@optinat.com</td>\n",
       "      <td>Polariod Digital Cameras Only $39.95</td>\n",
       "      <td>Error(html)</td>\n",
       "      <td>1</td>\n",
       "    </tr>\n",
       "    <tr>\n",
       "      <th>8278</th>\n",
       "      <td>323</td>\n",
       "      <td>spam_2</td>\n",
       "      <td>merchantsworld2001@juno.com</td>\n",
       "      <td>New Improved Weight Loss, Now With Bonus Fat A...</td>\n",
       "      <td>Error(html)</td>\n",
       "      <td>1</td>\n",
       "    </tr>\n",
       "    <tr>\n",
       "      <th>8306</th>\n",
       "      <td>351</td>\n",
       "      <td>spam_2</td>\n",
       "      <td>WEBMASTER@J-MEDICAL.ORG</td>\n",
       "      <td>Re: Account Information</td>\n",
       "      <td>Error(html)</td>\n",
       "      <td>1</td>\n",
       "    </tr>\n",
       "    <tr>\n",
       "      <th>8334</th>\n",
       "      <td>379</td>\n",
       "      <td>spam_2</td>\n",
       "      <td>Matthew_Morrow@optinunlimited.com</td>\n",
       "      <td>About Your Commissions...</td>\n",
       "      <td>Error(html)</td>\n",
       "      <td>1</td>\n",
       "    </tr>\n",
       "    <tr>\n",
       "      <th>8349</th>\n",
       "      <td>394</td>\n",
       "      <td>spam_2</td>\n",
       "      <td>rose_xu@email.com</td>\n",
       "      <td>ADV:Harvest lots of Target Email address quickly</td>\n",
       "      <td>Error(html)</td>\n",
       "      <td>1</td>\n",
       "    </tr>\n",
       "    <tr>\n",
       "      <th>8363</th>\n",
       "      <td>408</td>\n",
       "      <td>spam_2</td>\n",
       "      <td>Prosextra@optinunlimited.com</td>\n",
       "      <td>FREE ALL NATURAL SEXUAL STIMULANT!</td>\n",
       "      <td>Error(html)</td>\n",
       "      <td>1</td>\n",
       "    </tr>\n",
       "    <tr>\n",
       "      <th>8432</th>\n",
       "      <td>477</td>\n",
       "      <td>spam_2</td>\n",
       "      <td>WEBMASTER@theperfumebox.ie</td>\n",
       "      <td>Re: Account Information</td>\n",
       "      <td>Error(html)</td>\n",
       "      <td>1</td>\n",
       "    </tr>\n",
       "    <tr>\n",
       "      <th>8525</th>\n",
       "      <td>570</td>\n",
       "      <td>spam_2</td>\n",
       "      <td>WEBMASTER@TAIONE.ORG</td>\n",
       "      <td>Re: Your Order</td>\n",
       "      <td>Error(html)</td>\n",
       "      <td>1</td>\n",
       "    </tr>\n",
       "    <tr>\n",
       "      <th>8531</th>\n",
       "      <td>576</td>\n",
       "      <td>spam_2</td>\n",
       "      <td>targetemailextractor@btamail.net.cn</td>\n",
       "      <td>Direct Email Blaster, Email extractor, email d...</td>\n",
       "      <td>Error(html)</td>\n",
       "      <td>1</td>\n",
       "    </tr>\n",
       "    <tr>\n",
       "      <th>8532</th>\n",
       "      <td>577</td>\n",
       "      <td>spam_2</td>\n",
       "      <td>targetemailextractor@btamail.net.cn</td>\n",
       "      <td>Direct Email Blaster, Email extractor, email d...</td>\n",
       "      <td>Error(html)</td>\n",
       "      <td>1</td>\n",
       "    </tr>\n",
       "    <tr>\n",
       "      <th>8711</th>\n",
       "      <td>756</td>\n",
       "      <td>spam_2</td>\n",
       "      <td>JohnRobertson@terra.es</td>\n",
       "      <td>Get Debts Off Your Back    -      Time:5:38:50 AM</td>\n",
       "      <td>Error(html)</td>\n",
       "      <td>1</td>\n",
       "    </tr>\n",
       "    <tr>\n",
       "      <th>8775</th>\n",
       "      <td>820</td>\n",
       "      <td>spam_2</td>\n",
       "      <td>easytest8341@email.com</td>\n",
       "      <td>Your $1365 Welcome Bonus is waiting for You!!</td>\n",
       "      <td>Error(html)</td>\n",
       "      <td>1</td>\n",
       "    </tr>\n",
       "    <tr>\n",
       "      <th>8892</th>\n",
       "      <td>937</td>\n",
       "      <td>spam_2</td>\n",
       "      <td>POWERMAN10MILLION@hotmail.com</td>\n",
       "      <td>10 million fresh email addresses sent to you o...</td>\n",
       "      <td>Error(html)</td>\n",
       "      <td>1</td>\n",
       "    </tr>\n",
       "    <tr>\n",
       "      <th>8934</th>\n",
       "      <td>979</td>\n",
       "      <td>spam_2</td>\n",
       "      <td>Central_Bank6@centralbank.com</td>\n",
       "      <td>Notification for Payment Received!</td>\n",
       "      <td>Error(html)</td>\n",
       "      <td>1</td>\n",
       "    </tr>\n",
       "    <tr>\n",
       "      <th>8958</th>\n",
       "      <td>1003</td>\n",
       "      <td>spam_2</td>\n",
       "      <td>ankara@dunyagazetesi.com.tr</td>\n",
       "      <td>Kime Oy Vereceksiniz ?</td>\n",
       "      <td>Error(html)</td>\n",
       "      <td>1</td>\n",
       "    </tr>\n",
       "    <tr>\n",
       "      <th>9165</th>\n",
       "      <td>1210</td>\n",
       "      <td>spam_2</td>\n",
       "      <td>\"Com-Pro Systems, Inc.\" &lt;emarketing@comprosys....</td>\n",
       "      <td>Get Your Own Great-Looking Website</td>\n",
       "      <td>Error(html)</td>\n",
       "      <td>1</td>\n",
       "    </tr>\n",
       "    <tr>\n",
       "      <th>9171</th>\n",
       "      <td>1216</td>\n",
       "      <td>spam_2</td>\n",
       "      <td>webmaster@efi.joensuu.fi</td>\n",
       "      <td>Collect Your Money! Time:12:13:18 AM</td>\n",
       "      <td>Error(html)</td>\n",
       "      <td>1</td>\n",
       "    </tr>\n",
       "  </tbody>\n",
       "</table>\n",
       "</div>"
      ],
      "text/plain": [
       "      folder_idx  folder                                               from  \\\n",
       "7191         237    spam                                      eb@via.ecp.fr   \n",
       "7303         349    spam           \"Books@Books\"@BlackRealityPublishing.com   \n",
       "7379         425    spam                                  zzzz@netscape.net   \n",
       "7466         512    spam  Affordable Computer Supply <InkjetDeals@acsmsu...   \n",
       "7679         725    spam                                      eb@via.ecp.fr   \n",
       "7782         828    spam           \"Books@Books\"@BlackRealityPublishing.com   \n",
       "7852         898    spam                                  zzzz@netscape.net   \n",
       "7931         977    spam  Affordable Computer Supply <InkjetDeals@acsmsu...   \n",
       "7956           1  spam_2                                lmrn@mailexcite.com   \n",
       "7957           2  spam_2                            amknight@mailexcite.com   \n",
       "7958           3  spam_2                            jordan23@mailexcite.com   \n",
       "7959           4  spam_2                                  yyyy@pluriproj.pt   \n",
       "7960           5  spam_2                              3b3fke@ms10.hinet.net   \n",
       "8060         105  spam_2                        Mary <jane0l215@excite.com>   \n",
       "8062         107  spam_2                        Mary <jane0l215@excite.com>   \n",
       "8158         203  spam_2                           iqsoftware@export2000.ro   \n",
       "8247         292  spam_2                               Polaroid@optinat.com   \n",
       "8278         323  spam_2                        merchantsworld2001@juno.com   \n",
       "8306         351  spam_2                            WEBMASTER@J-MEDICAL.ORG   \n",
       "8334         379  spam_2                  Matthew_Morrow@optinunlimited.com   \n",
       "8349         394  spam_2                                  rose_xu@email.com   \n",
       "8363         408  spam_2                       Prosextra@optinunlimited.com   \n",
       "8432         477  spam_2                         WEBMASTER@theperfumebox.ie   \n",
       "8525         570  spam_2                               WEBMASTER@TAIONE.ORG   \n",
       "8531         576  spam_2                targetemailextractor@btamail.net.cn   \n",
       "8532         577  spam_2                targetemailextractor@btamail.net.cn   \n",
       "8711         756  spam_2                             JohnRobertson@terra.es   \n",
       "8775         820  spam_2                             easytest8341@email.com   \n",
       "8892         937  spam_2                      POWERMAN10MILLION@hotmail.com   \n",
       "8934         979  spam_2                      Central_Bank6@centralbank.com   \n",
       "8958        1003  spam_2                        ankara@dunyagazetesi.com.tr   \n",
       "9165        1210  spam_2  \"Com-Pro Systems, Inc.\" <emarketing@comprosys....   \n",
       "9171        1216  spam_2                           webmaster@efi.joensuu.fi   \n",
       "\n",
       "                                                subject         body  spam  \n",
       "7191  Over $100,000 Per Year Possible On The Net!  N...  Error(html)     1  \n",
       "7303  Free Excerpt;  Baby Makers, Loser Choosers, & ...  Error(html)     1  \n",
       "7379                Collect Your Money! Time:1:30:33 AM  Error(html)     1  \n",
       "7466           Printer Cartridges as low as $1.21 each!  Error(html)     1  \n",
       "7679  Over $100,000 Per Year Possible On The Net!  N...  Error(html)     1  \n",
       "7782  Free Excerpt;  Baby Makers, Loser Choosers, & ...  Error(html)     1  \n",
       "7852                Collect Your Money! Time:1:30:33 AM  Error(html)     1  \n",
       "7931           Printer Cartridges as low as $1.21 each!  Error(html)     1  \n",
       "7956  Real Protection, Stun Guns!  Free Shipping! Ti...  Error(html)     1  \n",
       "7957  New Improved Fat Burners, Now With TV Fat Abso...  Error(html)     1  \n",
       "7958  New Improved Fat Burners, Now With TV Fat Abso...  Error(html)     1  \n",
       "7959  Never Repay Cash Grants, $500 - $50,000, Secre...  Error(html)     1  \n",
       "7960          �٦b��20%���H�Υd�`����??? Time:PM 05:36:34  Error(html)     1  \n",
       "8060                                   Major Stock Play  Error(html)     1  \n",
       "8062                                   Major Stock Play  Error(html)     1  \n",
       "8158       [Avfs] Romanian Software Production & Export  Error(html)     1  \n",
       "8247               Polariod Digital Cameras Only $39.95  Error(html)     1  \n",
       "8278  New Improved Weight Loss, Now With Bonus Fat A...  Error(html)     1  \n",
       "8306                            Re: Account Information  Error(html)     1  \n",
       "8334                          About Your Commissions...  Error(html)     1  \n",
       "8349   ADV:Harvest lots of Target Email address quickly  Error(html)     1  \n",
       "8363                 FREE ALL NATURAL SEXUAL STIMULANT!  Error(html)     1  \n",
       "8432                            Re: Account Information  Error(html)     1  \n",
       "8525                                     Re: Your Order  Error(html)     1  \n",
       "8531  Direct Email Blaster, Email extractor, email d...  Error(html)     1  \n",
       "8532  Direct Email Blaster, Email extractor, email d...  Error(html)     1  \n",
       "8711  Get Debts Off Your Back    -      Time:5:38:50 AM  Error(html)     1  \n",
       "8775     Your $1365 Welcome Bonus is waiting for You!!   Error(html)     1  \n",
       "8892  10 million fresh email addresses sent to you o...  Error(html)     1  \n",
       "8934                 Notification for Payment Received!  Error(html)     1  \n",
       "8958                             Kime Oy Vereceksiniz ?  Error(html)     1  \n",
       "9165                 Get Your Own Great-Looking Website  Error(html)     1  \n",
       "9171               Collect Your Money! Time:12:13:18 AM  Error(html)     1  "
      ]
     },
     "execution_count": 9,
     "metadata": {},
     "output_type": "execute_result"
    }
   ],
   "source": [
    "# Rows where body couldn't be read in = 'Error(html)'\n",
    "df.loc[df['body']=='Error(html)']\n",
    "\n",
    "# All spam emails"
   ]
  },
  {
   "cell_type": "code",
   "execution_count": 10,
   "metadata": {},
   "outputs": [
    {
     "data": {
      "text/plain": [
       "33"
      ]
     },
     "execution_count": 10,
     "metadata": {},
     "output_type": "execute_result"
    }
   ],
   "source": [
    "# Count of body read Errors\n",
    "df.loc[df['body']=='Error(html)'].shape[0]"
   ]
  },
  {
   "cell_type": "code",
   "execution_count": 11,
   "metadata": {},
   "outputs": [
    {
     "name": "stdout",
     "output_type": "stream",
     "text": [
      "Return-Path: merchantsworld2001@juno.com\n",
      "Delivery-Date: Mon May 13 04:46:13 2002\n",
      "Received: from mandark.labs.netnoteinc.com ([213.105.180.140]) by\n",
      "    dogma.slashnull.org (8.11.6/8.11.6) with ESMTP id g4D3kCe15097 for\n",
      "    <jm@jmason.org>; Mon, 13 May 2002 04:46:12 +0100\n",
      "Received: from 203.129.205.5.205.129.203.in-addr.arpa ([203.129.205.5]) by\n",
      "    mandark.labs.netnoteinc.com (8.11.2/8.11.2) with SMTP id g4D3k2D12605 for\n",
      "    <jm@netnoteinc.com>; Mon, 13 May 2002 04:46:04 +0100\n",
      "Received: from html (unverified [207.95.174.49]) by\n",
      "    203.129.205.5.205.129.203.in-addr.arpa (EMWAC SMTPRS 0.83) with SMTP id\n",
      "    <B0000178595@203.129.205.5.205.129.203.in-addr.arpa>; Mon, 13 May 2002\n",
      "    09:04:46 +0530\n",
      "Message-Id: <B0000178595@203.129.205.5.205.129.203.in-addr.arpa>\n",
      "From: lmrn@mailexcite.com\n",
      "To: ranmoore@cybertime.net\n",
      "Subject: Real Protection, Stun Guns!  Free Shipping! Time:2:01:35 PM\n",
      "Date: Mon, 28 Jul 1980 14:01:35\n",
      "MIME-Version: 1.0\n",
      "X-Keywords: \n",
      "Content-Type: text/html; charset=\"DEFAULT\"\n",
      "\n",
      "<html>\n",
      "<body>\n",
      "<center>\n",
      "<h3>\n",
      "<font color=\"blue\">\n",
      "<b>\n",
      "The Need For Safety Is Real In 2002, You Might Only Get One Chance - Be Ready!\n",
      "<p>\n",
      "Free Shipping & Handling Within The (USA) If You Order Before May 25, 2002! \n",
      "<p>\n",
      "3 Day Super Sale, Now Until May 7, 2002!  Save Up To $30.00 On Some Items!\n",
      "\n",
      "</b>\n",
      "</font>\n",
      "</h3>\n",
      "</center>\n",
      "<p>\n",
      "IT'S GETTING TO BE SPRING AGAIN, PROTECT YOURSELF AS YOU WALK,<br>\n",
      "JOG AND EXERCISE OUTSIDE.  ALSO PROTECT YOUR LOVED ONES AS<br>\n",
      "THEY RETURN HOME FROM COLLEGE!<br>\n",
      "<p>\n",
      "*     LEGAL PROTECTION FOR COLLEGE STUDENTS!<br>\n",
      "*     GREAT UP'COMING OUTDOOR PROTECTION GIFTS!<br>\n",
      "*     THERE IS NOTHING WORTH MORE PROTECTING THAN LIFE!<br>\n",
      "*     OUR STUN DEVICES & PEPPER PRODUCTS ARE LEGAL PROTECTION!\n",
      "<p>\n",
      "<b>\n",
      "<font color=\"red\">\n",
      "JOIN THE WAR ON CRIME!\n",
      "</b>\n",
      "</font>\n",
      "<p>\n",
      "\n",
      "STUN GUNS AND BATONS \n",
      "<p>\n",
      "EFFECTIVE - SAFE - NONLETHAL\n",
      "<p>\n",
      "PROTECT YOUR LOVED ONES AND YOURSELF\n",
      "<p>\n",
      "No matter who you are, no matter what City or Town you live in,<br>\n",
      "if you live in America, you will be touched by crime.\n",
      "<p>\n",
      "You hear about it on TV.  You read about it in the newspaper.<br>\n",
      "It's no secret that crime is a major problem in the U.S. today.<br>\n",
      "Criminals are finding it easier to commit crimes all the time.\n",
      "<p>\n",
      "Weapons are readily available.  Our cities' police forces have<br>\n",
      "more work than they can handle.  Even if these criminal are<br>\n",
      "caught, they won't be spending long in our nation's overcrowded<br>\n",
      "jails.  And while lawmakers are well aware of the crime problem,<br>\n",
      "they don't seem to have any effective answers.\n",
      "<p>\n",
      "Our Email Address:  <a\n",
      "href=\"mailto:Merchants4all@aol.com\">Merchants4all@aol.com</a>\n",
      "<p>\n",
      "INTERESTED:\n",
      "<p>\n",
      "You will be protecting yourself within 7 days!  Don't Wait,<br>\n",
      "visit our web page below, and join The War On Crime!\n",
      "<p>\n",
      "*****************<br>\n",
      "<a\n",
      "href=\"http://www.geocities.com/realprotection_20022003/\">http://www.geocities.com/realprotection_20022003/</a><br>\n",
      "*****************\n",
      "<p>\n",
      "Well, there is an effective answer.  Take responsibility for<br>\n",
      "your own security.  Our site has a variety of quality personal<br>\n",
      "security products.  Visit our site, choose the personal security<br>\n",
      "products that are right for you.  Use them, and join the war on\n",
      "crime!\n",
      "<p>\n",
      "FREE PEPPER SPRAY WITH ANY STUN UNIT PURCHASE.<br>\n",
      "(A Value of $15.95)\n",
      "<p>\n",
      "We Ship Orders Within 5 To 7 Days, To Every State In The U.S.A.<br>\n",
      "by UPS, FEDEX, or U.S. POSTAL SERVICE.  Visa, MasterCard, American<br>\n",
      "Express & Debt Card Gladly Accepted.\n",
      "<p>\n",
      "Ask yourself this question, if you don't help your loved ones,\n",
      "who will?\n",
      "<p>\n",
      "INTERESTED:\n",
      "<p>\n",
      "*****************<br>\n",
      "<a\n",
      "href=\"http://www.geocities.com/realprotection_20022003/\">http://www.geocities.com/realprotection_20022003/</a><br>\n",
      "*****************\n",
      "<p>\n",
      "___The Stun Monster 625,000 Volts ($86.95)<br>\n",
      "___The Z-Force Slim Style 300,000 Volts ($64.95)<br>\n",
      "___The StunMaster 300,000 Volts Straight ($59.95)<br>\n",
      "___The StunMaster 300,000 Volts Curb ($59.95)<br>\n",
      "___The StunMaster 200,000 Volts Straight ($49.95)<br>\n",
      "___The StunMaster 200,000 Volts Curb ($49.95)<br>\n",
      "___The StunBaton 500,000 Volts ($89.95)<br>\n",
      "___The StunBaton 300,000 Volts ($79.95)<br>\n",
      "___Pen Knife (One $12.50, Two Or More $9.00)<br>\n",
      "___Wildfire Pepper Spray  (One $15.95, Two Or More $11.75)\n",
      "<p>\n",
      "___Add $5.75 For Shipping & Handling Charge.\n",
      "<p>\n",
      "\n",
      "To Order by postal mail, please send to the below address.<br>\n",
      "Make payable to Mega Safety Technology.\n",
      "<p>\n",
      "Mega Safety Technology<br>\n",
      "3215 Merrimac Ave.<br>\n",
      "Dayton, Ohio  45405<br>\n",
      "Our Email Address:  <a\n",
      "href=\"mailto:Merchants4all@aol.com\">Merchants4all@aol.com</a>\n",
      "<p>\n",
      "Order by 24 Hour Fax!!!  775-257-6657.\n",
      "<p>\n",
      "*****<br>\n",
      "<b><font color=\"red\">Important Credit Card Information! Please Read Below!</b></font>\n",
      " <br><br>\n",
      "*     Credit Card Address, City, State and Zip Code, must match\n",
      "      billing address to be processed. \n",
      "<br><br>\n",
      "\n",
      "CHECK____  MONEYORDER____  VISA____ MASTERCARD____ AmericanExpress___\n",
      "Debt Card___\n",
      "<br><br>\n",
      "Name_______________________________________________________<br>\n",
      "(As it appears on Check or Credit Card)\n",
      "<br><br>\n",
      "Address____________________________________________________<br>\n",
      "(As it appears on Check or Credit Card)\n",
      "<br><br>\n",
      "___________________________________________________<br>\n",
      "City,State,Zip(As it appears on Check or Credit Card)\n",
      "<br><br>\n",
      "___________________________________________________<br>\n",
      "Country\n",
      "<br><br>\n",
      "___________________________________________________<br>\n",
      "(Credit Card Number)\n",
      "<br><br>\n",
      "Expiration Month_____  Year_____\n",
      "<br><br>\n",
      "___________________________________________________<br>\n",
      "Authorized Signature\n",
      "<br><br>\n",
      "<b>\n",
      "*****IMPORTANT NOTE*****\n",
      "</b>\n",
      "<br><br>\n",
      "If Shipping Address Is Different From The Billing Address Above,\n",
      "Please Fill Out Information Below.\n",
      "<br><br>\n",
      "Shipping Name______________________________________________\n",
      "<br><br>\n",
      "Shipping Address___________________________________________\n",
      "<br><br>\n",
      "___________________________________________________________<br>\n",
      "Shipping City,State,Zip\n",
      "<br><br>\n",
      "___________________________________________________________<br>\n",
      "Country\n",
      "<br><br>\n",
      "___________________________________________________________<br>\n",
      "Email Address & Phone Number(Please Write Neat)\n",
      "</body>\n",
      "</html>\n",
      "\n"
     ]
    }
   ],
   "source": [
    "# Look at file example with Error(html)\n",
    "with open(files[4][1], 'rb') as fp:\n",
    "    msg = BytesParser(policy=policy.default).parse(fp)\n",
    "print(msg)"
   ]
  },
  {
   "cell_type": "markdown",
   "metadata": {},
   "source": [
    "### Subject is None type or Null for some rows.  This throws an error with vectorization.  Replace with 'No Subject' string."
   ]
  },
  {
   "cell_type": "code",
   "execution_count": 12,
   "metadata": {},
   "outputs": [
    {
     "data": {
      "text/html": [
       "<div>\n",
       "<style scoped>\n",
       "    .dataframe tbody tr th:only-of-type {\n",
       "        vertical-align: middle;\n",
       "    }\n",
       "\n",
       "    .dataframe tbody tr th {\n",
       "        vertical-align: top;\n",
       "    }\n",
       "\n",
       "    .dataframe thead th {\n",
       "        text-align: right;\n",
       "    }\n",
       "</style>\n",
       "<table border=\"1\" class=\"dataframe\">\n",
       "  <thead>\n",
       "    <tr style=\"text-align: right;\">\n",
       "      <th></th>\n",
       "      <th>folder_idx</th>\n",
       "      <th>folder</th>\n",
       "      <th>from</th>\n",
       "      <th>subject</th>\n",
       "      <th>body</th>\n",
       "      <th>spam</th>\n",
       "    </tr>\n",
       "  </thead>\n",
       "  <tbody>\n",
       "    <tr>\n",
       "      <th>9348</th>\n",
       "      <td>1393</td>\n",
       "      <td>spam_2</td>\n",
       "      <td>IQ - TBA &lt;tba@insiq.us&gt;</td>\n",
       "      <td>Preferred Non-Smoker Rates for Smokers</td>\n",
       "      <td>\\t Preferred Non-Smoker\\n \\t\\n Just what the ...</td>\n",
       "      <td>1</td>\n",
       "    </tr>\n",
       "    <tr>\n",
       "      <th>9349</th>\n",
       "      <td>1394</td>\n",
       "      <td>spam_2</td>\n",
       "      <td>Mike &lt;raye@yahoo.lv&gt;</td>\n",
       "      <td>How to get 10,000 FREE hits per day to any web...</td>\n",
       "      <td>Dear Subscriber,\\n\\nIf I could show you a way ...</td>\n",
       "      <td>1</td>\n",
       "    </tr>\n",
       "    <tr>\n",
       "      <th>9350</th>\n",
       "      <td>1395</td>\n",
       "      <td>spam_2</td>\n",
       "      <td>\"Mr. Clean\" &lt;cweqx@dialix.oz.au&gt;</td>\n",
       "      <td>Cannabis Difference</td>\n",
       "      <td>****Mid-Summer Customer Appreciation SALE!****...</td>\n",
       "      <td>1</td>\n",
       "    </tr>\n",
       "    <tr>\n",
       "      <th>9351</th>\n",
       "      <td>1396</td>\n",
       "      <td>spam_2</td>\n",
       "      <td>\"wilsonkamela400@netscape.net\" &lt;wilsonkamela50...</td>\n",
       "      <td>[ILUG] WILSON  KAMELA</td>\n",
       "      <td>ATTN:SIR/MADAN      \\n\\n                      ...</td>\n",
       "      <td>1</td>\n",
       "    </tr>\n",
       "    <tr>\n",
       "      <th>9352</th>\n",
       "      <td>1397</td>\n",
       "      <td>spam_2</td>\n",
       "      <td>None</td>\n",
       "      <td>None</td>\n",
       "      <td>mv 00001.317e78fa8ee2f54cd4890fdc09ba8176 0000...</td>\n",
       "      <td>1</td>\n",
       "    </tr>\n",
       "  </tbody>\n",
       "</table>\n",
       "</div>"
      ],
      "text/plain": [
       "      folder_idx  folder                                               from  \\\n",
       "9348        1393  spam_2                            IQ - TBA <tba@insiq.us>   \n",
       "9349        1394  spam_2                               Mike <raye@yahoo.lv>   \n",
       "9350        1395  spam_2                   \"Mr. Clean\" <cweqx@dialix.oz.au>   \n",
       "9351        1396  spam_2  \"wilsonkamela400@netscape.net\" <wilsonkamela50...   \n",
       "9352        1397  spam_2                                               None   \n",
       "\n",
       "                                                subject  \\\n",
       "9348             Preferred Non-Smoker Rates for Smokers   \n",
       "9349  How to get 10,000 FREE hits per day to any web...   \n",
       "9350                                Cannabis Difference   \n",
       "9351                              [ILUG] WILSON  KAMELA   \n",
       "9352                                               None   \n",
       "\n",
       "                                                   body  spam  \n",
       "9348   \\t Preferred Non-Smoker\\n \\t\\n Just what the ...     1  \n",
       "9349  Dear Subscriber,\\n\\nIf I could show you a way ...     1  \n",
       "9350  ****Mid-Summer Customer Appreciation SALE!****...     1  \n",
       "9351  ATTN:SIR/MADAN      \\n\\n                      ...     1  \n",
       "9352  mv 00001.317e78fa8ee2f54cd4890fdc09ba8176 0000...     1  "
      ]
     },
     "execution_count": 12,
     "metadata": {},
     "output_type": "execute_result"
    }
   ],
   "source": [
    "df.tail()"
   ]
  },
  {
   "cell_type": "code",
   "execution_count": 13,
   "metadata": {},
   "outputs": [
    {
     "data": {
      "text/plain": [
       "False    9341\n",
       "True       12\n",
       "dtype: int64"
      ]
     },
     "execution_count": 13,
     "metadata": {},
     "output_type": "execute_result"
    }
   ],
   "source": [
    "subject_none = [ x is None for x in df['subject'] ]\n",
    "pd.Series(subject_none).value_counts()"
   ]
  },
  {
   "cell_type": "code",
   "execution_count": 14,
   "metadata": {},
   "outputs": [
    {
     "data": {
      "text/html": [
       "<div>\n",
       "<style scoped>\n",
       "    .dataframe tbody tr th:only-of-type {\n",
       "        vertical-align: middle;\n",
       "    }\n",
       "\n",
       "    .dataframe tbody tr th {\n",
       "        vertical-align: top;\n",
       "    }\n",
       "\n",
       "    .dataframe thead th {\n",
       "        text-align: right;\n",
       "    }\n",
       "</style>\n",
       "<table border=\"1\" class=\"dataframe\">\n",
       "  <thead>\n",
       "    <tr style=\"text-align: right;\">\n",
       "      <th></th>\n",
       "      <th>folder_idx</th>\n",
       "      <th>folder</th>\n",
       "      <th>from</th>\n",
       "      <th>subject</th>\n",
       "      <th>body</th>\n",
       "      <th>spam</th>\n",
       "    </tr>\n",
       "  </thead>\n",
       "  <tbody>\n",
       "    <tr>\n",
       "      <th>7102</th>\n",
       "      <td>148</td>\n",
       "      <td>spam</td>\n",
       "      <td>Donald Bae &lt;donaldbae@purplehotel.com&gt;</td>\n",
       "      <td></td>\n",
       "      <td>\\n��\u0011���\u001a� Worldwide*\\nGreat Restaurants, Shop...</td>\n",
       "      <td>1</td>\n",
       "    </tr>\n",
       "    <tr>\n",
       "      <th>7500</th>\n",
       "      <td>546</td>\n",
       "      <td>spam</td>\n",
       "      <td>Mary's Store &lt;removeme@marysstore.com&gt;</td>\n",
       "      <td></td>\n",
       "      <td>&lt;TABLE border=0 cellPadding=0 cellSpacing=10 h...</td>\n",
       "      <td>1</td>\n",
       "    </tr>\n",
       "    <tr>\n",
       "      <th>8015</th>\n",
       "      <td>60</td>\n",
       "      <td>spam_2</td>\n",
       "      <td>DONT@cpprimaonline.com, PAY@cpprimaonline.com,...</td>\n",
       "      <td></td>\n",
       "      <td>\\n&lt;html&gt;\\n\\n&lt;head&gt;\\n\\n&lt;body background=\"glabkg...</td>\n",
       "      <td>1</td>\n",
       "    </tr>\n",
       "    <tr>\n",
       "      <th>8052</th>\n",
       "      <td>97</td>\n",
       "      <td>spam_2</td>\n",
       "      <td>winafreevacation@hotmail.com</td>\n",
       "      <td></td>\n",
       "      <td>\\nYou have been specially selected to qualify ...</td>\n",
       "      <td>1</td>\n",
       "    </tr>\n",
       "    <tr>\n",
       "      <th>8091</th>\n",
       "      <td>136</td>\n",
       "      <td>spam_2</td>\n",
       "      <td>jasper5645@yahoo.com</td>\n",
       "      <td></td>\n",
       "      <td>\\nDATA\\nMessage-ID: &lt;MnAtWBN0tB8txc.Hc6wd_JBTg...</td>\n",
       "      <td>1</td>\n",
       "    </tr>\n",
       "    <tr>\n",
       "      <th>8100</th>\n",
       "      <td>145</td>\n",
       "      <td>spam_2</td>\n",
       "      <td>travelincentives@aol.com</td>\n",
       "      <td></td>\n",
       "      <td>\\nYou have been specially selected to qualify ...</td>\n",
       "      <td>1</td>\n",
       "    </tr>\n",
       "    <tr>\n",
       "      <th>8163</th>\n",
       "      <td>208</td>\n",
       "      <td>spam_2</td>\n",
       "      <td>Danny Creech &lt;southerngent23@hotmail.com&gt;</td>\n",
       "      <td></td>\n",
       "      <td>\\nTo: \\nFrom: \\nSubject: Hello\\nMy name is Dan...</td>\n",
       "      <td>1</td>\n",
       "    </tr>\n",
       "    <tr>\n",
       "      <th>8248</th>\n",
       "      <td>293</td>\n",
       "      <td>spam_2</td>\n",
       "      <td>JOSEPH EDWARD &lt;jos_ed@mail.com&gt;</td>\n",
       "      <td></td>\n",
       "      <td>\\nATTN:\\n\\nI PRESUME THIS MAIL WILL NOT BE A S...</td>\n",
       "      <td>1</td>\n",
       "    </tr>\n",
       "    <tr>\n",
       "      <th>8454</th>\n",
       "      <td>499</td>\n",
       "      <td>spam_2</td>\n",
       "      <td>Margaret &lt;gyyyyy@public.ayptt.ha.cn&gt;</td>\n",
       "      <td></td>\n",
       "      <td>Dear Sirs,\\nWe know your esteemed company in b...</td>\n",
       "      <td>1</td>\n",
       "    </tr>\n",
       "    <tr>\n",
       "      <th>8455</th>\n",
       "      <td>500</td>\n",
       "      <td>spam_2</td>\n",
       "      <td>Margaret &lt;gyyyyy@public.ayptt.ha.cn&gt;</td>\n",
       "      <td></td>\n",
       "      <td>Dear Sirs,\\nWe know your esteemed company in b...</td>\n",
       "      <td>1</td>\n",
       "    </tr>\n",
       "    <tr>\n",
       "      <th>8628</th>\n",
       "      <td>673</td>\n",
       "      <td>spam_2</td>\n",
       "      <td>Katy &lt;fjxhx@au.ru&gt;</td>\n",
       "      <td></td>\n",
       "      <td>\" &lt;nsfsae@alltel.net&gt;\\nContent-Type: text/plai...</td>\n",
       "      <td>1</td>\n",
       "    </tr>\n",
       "    <tr>\n",
       "      <th>8791</th>\n",
       "      <td>836</td>\n",
       "      <td>spam_2</td>\n",
       "      <td>AB Sanni &lt;babsanni@maktoob.com&gt;</td>\n",
       "      <td></td>\n",
       "      <td>20th July, 2002\\n\\nTo:    The President\\n\\nFro...</td>\n",
       "      <td>1</td>\n",
       "    </tr>\n",
       "    <tr>\n",
       "      <th>9095</th>\n",
       "      <td>1140</td>\n",
       "      <td>spam_2</td>\n",
       "      <td>9 to 6 Postmaster &lt;info@9to6.ie&gt;</td>\n",
       "      <td></td>\n",
       "      <td>&lt;!DOCTYPE HTML PUBLIC \"-//W3C//DTD HTML 4.0 Tr...</td>\n",
       "      <td>1</td>\n",
       "    </tr>\n",
       "  </tbody>\n",
       "</table>\n",
       "</div>"
      ],
      "text/plain": [
       "      folder_idx  folder                                               from  \\\n",
       "7102         148    spam             Donald Bae <donaldbae@purplehotel.com>   \n",
       "7500         546    spam             Mary's Store <removeme@marysstore.com>   \n",
       "8015          60  spam_2  DONT@cpprimaonline.com, PAY@cpprimaonline.com,...   \n",
       "8052          97  spam_2                       winafreevacation@hotmail.com   \n",
       "8091         136  spam_2                               jasper5645@yahoo.com   \n",
       "8100         145  spam_2                           travelincentives@aol.com   \n",
       "8163         208  spam_2          Danny Creech <southerngent23@hotmail.com>   \n",
       "8248         293  spam_2                    JOSEPH EDWARD <jos_ed@mail.com>   \n",
       "8454         499  spam_2               Margaret <gyyyyy@public.ayptt.ha.cn>   \n",
       "8455         500  spam_2               Margaret <gyyyyy@public.ayptt.ha.cn>   \n",
       "8628         673  spam_2                                 Katy <fjxhx@au.ru>   \n",
       "8791         836  spam_2                    AB Sanni <babsanni@maktoob.com>   \n",
       "9095        1140  spam_2                   9 to 6 Postmaster <info@9to6.ie>   \n",
       "\n",
       "     subject                                               body  spam  \n",
       "7102          \\n��\u0011���\u001a� Worldwide*\\nGreat Restaurants, Shop...     1  \n",
       "7500          <TABLE border=0 cellPadding=0 cellSpacing=10 h...     1  \n",
       "8015          \\n<html>\\n\\n<head>\\n\\n<body background=\"glabkg...     1  \n",
       "8052          \\nYou have been specially selected to qualify ...     1  \n",
       "8091          \\nDATA\\nMessage-ID: <MnAtWBN0tB8txc.Hc6wd_JBTg...     1  \n",
       "8100          \\nYou have been specially selected to qualify ...     1  \n",
       "8163          \\nTo: \\nFrom: \\nSubject: Hello\\nMy name is Dan...     1  \n",
       "8248          \\nATTN:\\n\\nI PRESUME THIS MAIL WILL NOT BE A S...     1  \n",
       "8454          Dear Sirs,\\nWe know your esteemed company in b...     1  \n",
       "8455          Dear Sirs,\\nWe know your esteemed company in b...     1  \n",
       "8628          \" <nsfsae@alltel.net>\\nContent-Type: text/plai...     1  \n",
       "8791          20th July, 2002\\n\\nTo:    The President\\n\\nFro...     1  \n",
       "9095          <!DOCTYPE HTML PUBLIC \"-//W3C//DTD HTML 4.0 Tr...     1  "
      ]
     },
     "execution_count": 14,
     "metadata": {},
     "output_type": "execute_result"
    }
   ],
   "source": [
    "df.loc[ df['subject']=='', :]"
   ]
  },
  {
   "cell_type": "code",
   "execution_count": 15,
   "metadata": {},
   "outputs": [],
   "source": [
    "df.loc[ df['subject']=='', 'subject'] = 'No Subject'"
   ]
  },
  {
   "cell_type": "code",
   "execution_count": 16,
   "metadata": {},
   "outputs": [
    {
     "data": {
      "text/html": [
       "<div>\n",
       "<style scoped>\n",
       "    .dataframe tbody tr th:only-of-type {\n",
       "        vertical-align: middle;\n",
       "    }\n",
       "\n",
       "    .dataframe tbody tr th {\n",
       "        vertical-align: top;\n",
       "    }\n",
       "\n",
       "    .dataframe thead th {\n",
       "        text-align: right;\n",
       "    }\n",
       "</style>\n",
       "<table border=\"1\" class=\"dataframe\">\n",
       "  <thead>\n",
       "    <tr style=\"text-align: right;\">\n",
       "      <th></th>\n",
       "      <th>folder_idx</th>\n",
       "      <th>folder</th>\n",
       "      <th>from</th>\n",
       "      <th>subject</th>\n",
       "      <th>body</th>\n",
       "      <th>spam</th>\n",
       "    </tr>\n",
       "  </thead>\n",
       "  <tbody>\n",
       "  </tbody>\n",
       "</table>\n",
       "</div>"
      ],
      "text/plain": [
       "Empty DataFrame\n",
       "Columns: [folder_idx, folder, from, subject, body, spam]\n",
       "Index: []"
      ]
     },
     "execution_count": 16,
     "metadata": {},
     "output_type": "execute_result"
    }
   ],
   "source": [
    "df.loc[ df['subject']=='', :]"
   ]
  },
  {
   "cell_type": "code",
   "execution_count": 17,
   "metadata": {},
   "outputs": [
    {
     "data": {
      "text/html": [
       "<div>\n",
       "<style scoped>\n",
       "    .dataframe tbody tr th:only-of-type {\n",
       "        vertical-align: middle;\n",
       "    }\n",
       "\n",
       "    .dataframe tbody tr th {\n",
       "        vertical-align: top;\n",
       "    }\n",
       "\n",
       "    .dataframe thead th {\n",
       "        text-align: right;\n",
       "    }\n",
       "</style>\n",
       "<table border=\"1\" class=\"dataframe\">\n",
       "  <thead>\n",
       "    <tr style=\"text-align: right;\">\n",
       "      <th></th>\n",
       "      <th>folder_idx</th>\n",
       "      <th>folder</th>\n",
       "      <th>from</th>\n",
       "      <th>subject</th>\n",
       "      <th>body</th>\n",
       "      <th>spam</th>\n",
       "    </tr>\n",
       "  </thead>\n",
       "  <tbody>\n",
       "    <tr>\n",
       "      <th>5051</th>\n",
       "      <td>5051</td>\n",
       "      <td>easy_ham</td>\n",
       "      <td>None</td>\n",
       "      <td>None</td>\n",
       "      <td>mv 00001.7c53336b37003a9286aba55d2945844c 0000...</td>\n",
       "      <td>0</td>\n",
       "    </tr>\n",
       "    <tr>\n",
       "      <th>6329</th>\n",
       "      <td>1277</td>\n",
       "      <td>easy_ham_2</td>\n",
       "      <td>mail &lt;mail@dogma.slashnull.org&gt;</td>\n",
       "      <td>None</td>\n",
       "      <td>Problem with spamtrap\\n/home/yyyy/lib/spamtrap...</td>\n",
       "      <td>0</td>\n",
       "    </tr>\n",
       "    <tr>\n",
       "      <th>6330</th>\n",
       "      <td>1278</td>\n",
       "      <td>easy_ham_2</td>\n",
       "      <td>mail &lt;mail@dogma.slashnull.org&gt;</td>\n",
       "      <td>None</td>\n",
       "      <td>Problem with spamtrap\\n/home/yyyy/lib/spamtrap...</td>\n",
       "      <td>0</td>\n",
       "    </tr>\n",
       "    <tr>\n",
       "      <th>6331</th>\n",
       "      <td>1279</td>\n",
       "      <td>easy_ham_2</td>\n",
       "      <td>mail &lt;mail@dogma.slashnull.org&gt;</td>\n",
       "      <td>None</td>\n",
       "      <td>Problem with spamtrap\\n/home/yyyy/lib/spamtrap...</td>\n",
       "      <td>0</td>\n",
       "    </tr>\n",
       "    <tr>\n",
       "      <th>6383</th>\n",
       "      <td>1331</td>\n",
       "      <td>easy_ham_2</td>\n",
       "      <td>nobody@sonic.spamtraps.taint.org</td>\n",
       "      <td>None</td>\n",
       "      <td>Problem with spamtrap\\nCould not lock /home/yy...</td>\n",
       "      <td>0</td>\n",
       "    </tr>\n",
       "    <tr>\n",
       "      <th>6407</th>\n",
       "      <td>1355</td>\n",
       "      <td>easy_ham_2</td>\n",
       "      <td>nobody@sonic.spamtraps.taint.org</td>\n",
       "      <td>None</td>\n",
       "      <td>Problem with spamtrap\\nCould not lock /home/yy...</td>\n",
       "      <td>0</td>\n",
       "    </tr>\n",
       "    <tr>\n",
       "      <th>6452</th>\n",
       "      <td>1400</td>\n",
       "      <td>easy_ham_2</td>\n",
       "      <td>None</td>\n",
       "      <td>None</td>\n",
       "      <td>mv 00001.d4365609129eef855bd5da583c90552b 0000...</td>\n",
       "      <td>0</td>\n",
       "    </tr>\n",
       "    <tr>\n",
       "      <th>6644</th>\n",
       "      <td>191</td>\n",
       "      <td>hard_ham</td>\n",
       "      <td>Vincent Chin &lt;nukiez@hotmail.com&gt;</td>\n",
       "      <td>None</td>\n",
       "      <td>Ripped from\\n\\nhttp://www.hpl.hp.com/personal/...</td>\n",
       "      <td>0</td>\n",
       "    </tr>\n",
       "    <tr>\n",
       "      <th>6861</th>\n",
       "      <td>408</td>\n",
       "      <td>hard_ham</td>\n",
       "      <td>Vincent Chin &lt;nukiez@hotmail.com&gt;</td>\n",
       "      <td>None</td>\n",
       "      <td>Ripped from\\n\\nhttp://www.hpl.hp.com/personal/...</td>\n",
       "      <td>0</td>\n",
       "    </tr>\n",
       "    <tr>\n",
       "      <th>6953</th>\n",
       "      <td>500</td>\n",
       "      <td>hard_ham</td>\n",
       "      <td>None</td>\n",
       "      <td>None</td>\n",
       "      <td>mv 00001.7c7d6921e671bbe18ebb5f893cd9bb35 0000...</td>\n",
       "      <td>0</td>\n",
       "    </tr>\n",
       "    <tr>\n",
       "      <th>7954</th>\n",
       "      <td>1000</td>\n",
       "      <td>spam</td>\n",
       "      <td>None</td>\n",
       "      <td>None</td>\n",
       "      <td>mv 00001.7848dde101aa985090474a91ec93fcf0 0000...</td>\n",
       "      <td>1</td>\n",
       "    </tr>\n",
       "    <tr>\n",
       "      <th>9352</th>\n",
       "      <td>1397</td>\n",
       "      <td>spam_2</td>\n",
       "      <td>None</td>\n",
       "      <td>None</td>\n",
       "      <td>mv 00001.317e78fa8ee2f54cd4890fdc09ba8176 0000...</td>\n",
       "      <td>1</td>\n",
       "    </tr>\n",
       "  </tbody>\n",
       "</table>\n",
       "</div>"
      ],
      "text/plain": [
       "      folder_idx      folder                               from subject  \\\n",
       "5051        5051    easy_ham                               None    None   \n",
       "6329        1277  easy_ham_2    mail <mail@dogma.slashnull.org>    None   \n",
       "6330        1278  easy_ham_2    mail <mail@dogma.slashnull.org>    None   \n",
       "6331        1279  easy_ham_2    mail <mail@dogma.slashnull.org>    None   \n",
       "6383        1331  easy_ham_2   nobody@sonic.spamtraps.taint.org    None   \n",
       "6407        1355  easy_ham_2   nobody@sonic.spamtraps.taint.org    None   \n",
       "6452        1400  easy_ham_2                               None    None   \n",
       "6644         191    hard_ham  Vincent Chin <nukiez@hotmail.com>    None   \n",
       "6861         408    hard_ham  Vincent Chin <nukiez@hotmail.com>    None   \n",
       "6953         500    hard_ham                               None    None   \n",
       "7954        1000        spam                               None    None   \n",
       "9352        1397      spam_2                               None    None   \n",
       "\n",
       "                                                   body  spam  \n",
       "5051  mv 00001.7c53336b37003a9286aba55d2945844c 0000...     0  \n",
       "6329  Problem with spamtrap\\n/home/yyyy/lib/spamtrap...     0  \n",
       "6330  Problem with spamtrap\\n/home/yyyy/lib/spamtrap...     0  \n",
       "6331  Problem with spamtrap\\n/home/yyyy/lib/spamtrap...     0  \n",
       "6383  Problem with spamtrap\\nCould not lock /home/yy...     0  \n",
       "6407  Problem with spamtrap\\nCould not lock /home/yy...     0  \n",
       "6452  mv 00001.d4365609129eef855bd5da583c90552b 0000...     0  \n",
       "6644  Ripped from\\n\\nhttp://www.hpl.hp.com/personal/...     0  \n",
       "6861  Ripped from\\n\\nhttp://www.hpl.hp.com/personal/...     0  \n",
       "6953  mv 00001.7c7d6921e671bbe18ebb5f893cd9bb35 0000...     0  \n",
       "7954  mv 00001.7848dde101aa985090474a91ec93fcf0 0000...     1  \n",
       "9352  mv 00001.317e78fa8ee2f54cd4890fdc09ba8176 0000...     1  "
      ]
     },
     "execution_count": 17,
     "metadata": {},
     "output_type": "execute_result"
    }
   ],
   "source": [
    "df.loc[ df['subject'].isna(), :]"
   ]
  },
  {
   "cell_type": "code",
   "execution_count": 18,
   "metadata": {},
   "outputs": [],
   "source": [
    "df.loc[ df['subject'].isna(), 'subject'] = 'No Subject'"
   ]
  },
  {
   "cell_type": "code",
   "execution_count": 19,
   "metadata": {},
   "outputs": [
    {
     "data": {
      "text/html": [
       "<div>\n",
       "<style scoped>\n",
       "    .dataframe tbody tr th:only-of-type {\n",
       "        vertical-align: middle;\n",
       "    }\n",
       "\n",
       "    .dataframe tbody tr th {\n",
       "        vertical-align: top;\n",
       "    }\n",
       "\n",
       "    .dataframe thead th {\n",
       "        text-align: right;\n",
       "    }\n",
       "</style>\n",
       "<table border=\"1\" class=\"dataframe\">\n",
       "  <thead>\n",
       "    <tr style=\"text-align: right;\">\n",
       "      <th></th>\n",
       "      <th>folder_idx</th>\n",
       "      <th>folder</th>\n",
       "      <th>from</th>\n",
       "      <th>subject</th>\n",
       "      <th>body</th>\n",
       "      <th>spam</th>\n",
       "    </tr>\n",
       "  </thead>\n",
       "  <tbody>\n",
       "  </tbody>\n",
       "</table>\n",
       "</div>"
      ],
      "text/plain": [
       "Empty DataFrame\n",
       "Columns: [folder_idx, folder, from, subject, body, spam]\n",
       "Index: []"
      ]
     },
     "execution_count": 19,
     "metadata": {},
     "output_type": "execute_result"
    }
   ],
   "source": [
    "df.loc[ df['subject'].isna(), :]"
   ]
  },
  {
   "cell_type": "markdown",
   "metadata": {
    "id": "21Kdalsl8g_I"
   },
   "source": [
    "## Feature Removal <a id='feature-removal'>"
   ]
  },
  {
   "cell_type": "markdown",
   "metadata": {
    "id": "786e5_En8g_J"
   },
   "source": [
    "Remove new lines \\n"
   ]
  },
  {
   "cell_type": "code",
   "execution_count": 20,
   "metadata": {},
   "outputs": [
    {
     "data": {
      "text/plain": [
       "'    Date:        Wed, 21 Aug 2002 10:54:46 -0500\\n    From:        Chris Garrigues <cwg-dated-1030377287.06fa6d@DeepEddy.Com>\\n    Message-ID:  <1029945287.4797.TMDA@deepeddy.vircio.com>\\n\\n\\n  | I can\\'t reproduce this error.\\n\\nFor me it is very repeatable... (like every time, without fail).\\n\\nThis is the debug log of the pick happening ...\\n\\n18:19:03 Pick_It {exec pick +inbox -list -lbrace -lbrace -subject ftp -rbrace -rbrace} {4852-4852 -sequence mercury}\\n18:19:03 exec pick +inbox -list -lbrace -lbrace -subject ftp -rbrace -rbrace 4852-4852 -sequence mercury\\n18:19:04 Ftoc_PickMsgs {{1 hit}}\\n18:19:04 Marking 1 hits\\n18:19:04 tkerror: syntax error in expression \"int ...\\n\\nNote, if I run the pick command by hand ...\\n\\ndelta$ pick +inbox -list -lbrace -lbrace -subject ftp -rbrace -rbrace  4852-4852 -sequence mercury\\n1 hit\\n\\nThat\\'s where the \"1 hit\" comes from (obviously).  The version of nmh I\\'m\\nusing is ...\\n\\ndelta$ pick -version\\npick -- nmh-1.0.4 [compiled on fuchsia.cs.mu.OZ.AU at Sun Mar 17 14:55:56 ICT 2002]\\n\\nAnd the relevant part of my .mh_profile ...\\n\\ndelta$ mhparam pick\\n-seq sel -list\\n\\n\\nSince the pick command works, the sequence (actually, both of them, the\\none that\\'s explicit on the command line, from the search popup, and the\\none that comes from .mh_profile) do get created.\\n\\nkre\\n\\nps: this is still using the version of the code form a day ago, I haven\\'t\\nbeen able to reach the cvs repository today (local routing issue I think).\\n\\n\\n\\n_______________________________________________\\nExmh-workers mailing list\\nExmh-workers@redhat.com\\nhttps://listman.redhat.com/mailman/listinfo/exmh-workers\\n\\n'"
      ]
     },
     "execution_count": 20,
     "metadata": {},
     "output_type": "execute_result"
    }
   ],
   "source": [
    "df.loc[0, 'body']"
   ]
  },
  {
   "cell_type": "code",
   "execution_count": 21,
   "metadata": {
    "id": "nbvlZHwG8g_J"
   },
   "outputs": [],
   "source": [
    "df['body'] = [ x.replace(\"\\n\",\" \") for x in df['body'] ]\n",
    "df['body'] = [ x.replace(\"\\t\",\" \") for x in df['body'] ]\n",
    "df['body'] = [ x.replace(\"\\'\",\"\") for x in df['body'] ]"
   ]
  },
  {
   "cell_type": "code",
   "execution_count": 22,
   "metadata": {},
   "outputs": [
    {
     "data": {
      "text/plain": [
       "'    Date:        Wed, 21 Aug 2002 10:54:46 -0500     From:        Chris Garrigues <cwg-dated-1030377287.06fa6d@DeepEddy.Com>     Message-ID:  <1029945287.4797.TMDA@deepeddy.vircio.com>     | I cant reproduce this error.  For me it is very repeatable... (like every time, without fail).  This is the debug log of the pick happening ...  18:19:03 Pick_It {exec pick +inbox -list -lbrace -lbrace -subject ftp -rbrace -rbrace} {4852-4852 -sequence mercury} 18:19:03 exec pick +inbox -list -lbrace -lbrace -subject ftp -rbrace -rbrace 4852-4852 -sequence mercury 18:19:04 Ftoc_PickMsgs {{1 hit}} 18:19:04 Marking 1 hits 18:19:04 tkerror: syntax error in expression \"int ...  Note, if I run the pick command by hand ...  delta$ pick +inbox -list -lbrace -lbrace -subject ftp -rbrace -rbrace  4852-4852 -sequence mercury 1 hit  Thats where the \"1 hit\" comes from (obviously).  The version of nmh Im using is ...  delta$ pick -version pick -- nmh-1.0.4 [compiled on fuchsia.cs.mu.OZ.AU at Sun Mar 17 14:55:56 ICT 2002]  And the relevant part of my .mh_profile ...  delta$ mhparam pick -seq sel -list   Since the pick command works, the sequence (actually, both of them, the one thats explicit on the command line, from the search popup, and the one that comes from .mh_profile) do get created.  kre  ps: this is still using the version of the code form a day ago, I havent been able to reach the cvs repository today (local routing issue I think).    _______________________________________________ Exmh-workers mailing list Exmh-workers@redhat.com https://listman.redhat.com/mailman/listinfo/exmh-workers  '"
      ]
     },
     "execution_count": 22,
     "metadata": {},
     "output_type": "execute_result"
    }
   ],
   "source": [
    "df.loc[0, 'body']"
   ]
  },
  {
   "cell_type": "markdown",
   "metadata": {
    "id": "CbAmkozvN5Dz"
   },
   "source": [
    "## Exploratory Data Analysis (EDA) <a id='eda'>"
   ]
  },
  {
   "cell_type": "markdown",
   "metadata": {
    "id": "ChoPhHdx8g_M"
   },
   "source": [
    "### "
   ]
  },
  {
   "cell_type": "code",
   "execution_count": 23,
   "metadata": {
    "id": "EqDlP8C_N5D0",
    "outputId": "8ec90270-f4e0-4210-c59a-64c9b6deb27c"
   },
   "outputs": [
    {
     "data": {
      "text/plain": [
       "0    6954\n",
       "1    2399\n",
       "Name: spam, dtype: int64"
      ]
     },
     "execution_count": 23,
     "metadata": {},
     "output_type": "execute_result"
    }
   ],
   "source": [
    "df['spam'].value_counts()"
   ]
  },
  {
   "cell_type": "markdown",
   "metadata": {
    "id": "VgZRFeORN5D3"
   },
   "source": [
    "### Feature Collinearity <a id='feature-collinearity'>\n"
   ]
  },
  {
   "cell_type": "code",
   "execution_count": null,
   "metadata": {
    "id": "F8bqfy9fN5D3"
   },
   "outputs": [],
   "source": []
  },
  {
   "cell_type": "markdown",
   "metadata": {
    "id": "qXZZeARjN5D3"
   },
   "source": [
    "### Feature Outliers \n",
    " "
   ]
  },
  {
   "cell_type": "code",
   "execution_count": null,
   "metadata": {
    "id": "r4Sp5SYe8g_Z"
   },
   "outputs": [],
   "source": []
  },
  {
   "cell_type": "markdown",
   "metadata": {
    "id": "z6qUPkzRN5D4"
   },
   "source": [
    "## Assumptions <a id='assumptions'>"
   ]
  },
  {
   "cell_type": "markdown",
   "metadata": {
    "id": "SaEb4apWN5D4"
   },
   "source": []
  },
  {
   "cell_type": "markdown",
   "metadata": {
    "id": "zmuI_mep8g_b"
   },
   "source": [
    "# Model Preparations <a id='model-preparations'/>"
   ]
  },
  {
   "cell_type": "markdown",
   "metadata": {
    "id": "wxBwihRyOfZY"
   },
   "source": [
    "What methods did you use (or not) to solve the problem?\n",
    "\n",
    "Why are the methods you chose appropriate given the business objective?\n",
    "\n",
    "How did you decide your approach was useful?  If more than one method, which one was better or why are each better or not?\n",
    "\n",
    "What evaluation smetrics are most useful given the problem is a binary classification (ex. accuracy, f1-score, precision, recall AUC, etc)?\n",
    "\n"
   ]
  },
  {
   "cell_type": "markdown",
   "metadata": {
    "id": "BnCsXV_c8g_V"
   },
   "source": [
    "## Sampling & Scaling Data <a id='sampling-scaling-data' />"
   ]
  },
  {
   "cell_type": "markdown",
   "metadata": {
    "id": "cXqoLTm_8g_c"
   },
   "source": [
    "## Proposed Method <a id='proposed-metrics' />"
   ]
  },
  {
   "cell_type": "markdown",
   "metadata": {
    "id": "0lLPX93kN5D6"
   },
   "source": [
    "70/30 training/test split"
   ]
  },
  {
   "cell_type": "code",
   "execution_count": 24,
   "metadata": {},
   "outputs": [],
   "source": [
    "def split_dependant_and_independant_variables(df: pd.DataFrame, y_var: str):\n",
    "    X = df.copy()\n",
    "    y = X[y_var]\n",
    "    X = X.drop([y_var], axis=1)\n",
    "    return X, y"
   ]
  },
  {
   "cell_type": "code",
   "execution_count": 25,
   "metadata": {},
   "outputs": [],
   "source": [
    "X, y = split_dependant_and_independant_variables(df, 'spam')"
   ]
  },
  {
   "cell_type": "code",
   "execution_count": 26,
   "metadata": {},
   "outputs": [
    {
     "data": {
      "text/html": [
       "<div>\n",
       "<style scoped>\n",
       "    .dataframe tbody tr th:only-of-type {\n",
       "        vertical-align: middle;\n",
       "    }\n",
       "\n",
       "    .dataframe tbody tr th {\n",
       "        vertical-align: top;\n",
       "    }\n",
       "\n",
       "    .dataframe thead th {\n",
       "        text-align: right;\n",
       "    }\n",
       "</style>\n",
       "<table border=\"1\" class=\"dataframe\">\n",
       "  <thead>\n",
       "    <tr style=\"text-align: right;\">\n",
       "      <th></th>\n",
       "      <th>folder_idx</th>\n",
       "      <th>folder</th>\n",
       "      <th>from</th>\n",
       "      <th>subject</th>\n",
       "      <th>body</th>\n",
       "    </tr>\n",
       "  </thead>\n",
       "  <tbody>\n",
       "    <tr>\n",
       "      <th>0</th>\n",
       "      <td>0</td>\n",
       "      <td>easy_ham</td>\n",
       "      <td>Robert Elz &lt;kre@munnari.OZ.AU&gt;</td>\n",
       "      <td>Re: New Sequences Window</td>\n",
       "      <td>Date:        Wed, 21 Aug 2002 10:54:46 -05...</td>\n",
       "    </tr>\n",
       "    <tr>\n",
       "      <th>1</th>\n",
       "      <td>1</td>\n",
       "      <td>easy_ham</td>\n",
       "      <td>Steve Burt &lt;Steve_Burt@cursor-system.com&gt;</td>\n",
       "      <td>[zzzzteana] RE: Alexander</td>\n",
       "      <td>Martin A posted: Tassos Papadopoulos, the Gree...</td>\n",
       "    </tr>\n",
       "    <tr>\n",
       "      <th>2</th>\n",
       "      <td>2</td>\n",
       "      <td>easy_ham</td>\n",
       "      <td>Tim Chapman &lt;timc@2ubh.com&gt;</td>\n",
       "      <td>[zzzzteana] Moscow bomber</td>\n",
       "      <td>Man Threatens Explosion In Moscow   Thursday A...</td>\n",
       "    </tr>\n",
       "    <tr>\n",
       "      <th>3</th>\n",
       "      <td>3</td>\n",
       "      <td>easy_ham</td>\n",
       "      <td>Monty Solomon &lt;monty@roscom.com&gt;</td>\n",
       "      <td>[IRR] Klez: The Virus That  Won't Die</td>\n",
       "      <td>Klez: The Virus That Wont Die   Already the mo...</td>\n",
       "    </tr>\n",
       "    <tr>\n",
       "      <th>4</th>\n",
       "      <td>4</td>\n",
       "      <td>easy_ham</td>\n",
       "      <td>Stewart Smith &lt;Stewart.Smith@ee.ed.ac.uk&gt;</td>\n",
       "      <td>Re: [zzzzteana] Nothing like mama used to make</td>\n",
       "      <td>&gt;  in adding cream to spaghetti carbonara, whi...</td>\n",
       "    </tr>\n",
       "  </tbody>\n",
       "</table>\n",
       "</div>"
      ],
      "text/plain": [
       "   folder_idx    folder                                       from  \\\n",
       "0           0  easy_ham             Robert Elz <kre@munnari.OZ.AU>   \n",
       "1           1  easy_ham  Steve Burt <Steve_Burt@cursor-system.com>   \n",
       "2           2  easy_ham                Tim Chapman <timc@2ubh.com>   \n",
       "3           3  easy_ham           Monty Solomon <monty@roscom.com>   \n",
       "4           4  easy_ham  Stewart Smith <Stewart.Smith@ee.ed.ac.uk>   \n",
       "\n",
       "                                          subject  \\\n",
       "0                        Re: New Sequences Window   \n",
       "1                       [zzzzteana] RE: Alexander   \n",
       "2                       [zzzzteana] Moscow bomber   \n",
       "3           [IRR] Klez: The Virus That  Won't Die   \n",
       "4  Re: [zzzzteana] Nothing like mama used to make   \n",
       "\n",
       "                                                body  \n",
       "0      Date:        Wed, 21 Aug 2002 10:54:46 -05...  \n",
       "1  Martin A posted: Tassos Papadopoulos, the Gree...  \n",
       "2  Man Threatens Explosion In Moscow   Thursday A...  \n",
       "3  Klez: The Virus That Wont Die   Already the mo...  \n",
       "4  >  in adding cream to spaghetti carbonara, whi...  "
      ]
     },
     "execution_count": 26,
     "metadata": {},
     "output_type": "execute_result"
    }
   ],
   "source": [
    "X.head()"
   ]
  },
  {
   "cell_type": "code",
   "execution_count": 27,
   "metadata": {},
   "outputs": [],
   "source": [
    "X = X.drop('folder_idx', axis=1)"
   ]
  },
  {
   "cell_type": "code",
   "execution_count": 28,
   "metadata": {},
   "outputs": [
    {
     "data": {
      "text/plain": [
       "RangeIndex(start=0, stop=9353, step=1)"
      ]
     },
     "execution_count": 28,
     "metadata": {},
     "output_type": "execute_result"
    }
   ],
   "source": [
    "X.index"
   ]
  },
  {
   "cell_type": "code",
   "execution_count": 29,
   "metadata": {},
   "outputs": [
    {
     "data": {
      "text/plain": [
       "RangeIndex(start=0, stop=9353, step=1)"
      ]
     },
     "execution_count": 29,
     "metadata": {},
     "output_type": "execute_result"
    }
   ],
   "source": [
    "y.index"
   ]
  },
  {
   "cell_type": "code",
   "execution_count": 101,
   "metadata": {},
   "outputs": [],
   "source": [
    "def shuffle_split(X, y, test_size, random_state):\n",
    "    stratified_shuffle_split = StratifiedShuffleSplit(n_splits=1, test_size=test_size, random_state=random_state)\n",
    "    for train_index, test_index in stratified_shuffle_split.split(X, y):\n",
    "        X_train, X_test = X.iloc[train_index], X.iloc[test_index]\n",
    "        y_train, y_test = y[train_index], y[test_index]\n",
    "    return X_train, X_test, y_train, y_test\n",
    "\n",
    "def vectorize_data(X_train, X_test):\n",
    "    tfidf = TfidfVectorizer(stop_words='english', strip_accents='unicode') # 'unicode' \n",
    "    tfidf.fit(X_train)\n",
    "    X_train_vect = tfidf.transform(X_train)\n",
    "    X_test_vect = tfidf.transform(X_test)\n",
    "    return X_train_vect, X_test_vect"
   ]
  },
  {
   "cell_type": "code",
   "execution_count": 102,
   "metadata": {},
   "outputs": [],
   "source": [
    "X_train, X_test, y_train, y_test = shuffle_split(X['subject'], y, test_size=0.3, random_state=12343)\n",
    "X_train_vect, X_test_vect = vectorize_data(X_train, X_test)"
   ]
  },
  {
   "cell_type": "markdown",
   "metadata": {},
   "source": [
    "## Clustering\n",
    "Use DBSCAN with cosine distance for NLP applications.  Look for descriptors for the clusters, like business vs. personal emails, IT emails, etc."
   ]
  },
  {
   "cell_type": "code",
   "execution_count": 103,
   "metadata": {},
   "outputs": [
    {
     "data": {
      "text/html": [
       "<div>\n",
       "<style scoped>\n",
       "    .dataframe tbody tr th:only-of-type {\n",
       "        vertical-align: middle;\n",
       "    }\n",
       "\n",
       "    .dataframe tbody tr th {\n",
       "        vertical-align: top;\n",
       "    }\n",
       "\n",
       "    .dataframe thead th {\n",
       "        text-align: right;\n",
       "    }\n",
       "</style>\n",
       "<table border=\"1\" class=\"dataframe\">\n",
       "  <thead>\n",
       "    <tr style=\"text-align: right;\">\n",
       "      <th></th>\n",
       "      <th>epsilon</th>\n",
       "      <th># clusters</th>\n",
       "    </tr>\n",
       "  </thead>\n",
       "  <tbody>\n",
       "    <tr>\n",
       "      <th>0</th>\n",
       "      <td>0.90</td>\n",
       "      <td>2</td>\n",
       "    </tr>\n",
       "    <tr>\n",
       "      <th>1</th>\n",
       "      <td>0.85</td>\n",
       "      <td>4</td>\n",
       "    </tr>\n",
       "    <tr>\n",
       "      <th>2</th>\n",
       "      <td>0.80</td>\n",
       "      <td>6</td>\n",
       "    </tr>\n",
       "    <tr>\n",
       "      <th>3</th>\n",
       "      <td>0.75</td>\n",
       "      <td>6</td>\n",
       "    </tr>\n",
       "    <tr>\n",
       "      <th>4</th>\n",
       "      <td>0.70</td>\n",
       "      <td>7</td>\n",
       "    </tr>\n",
       "  </tbody>\n",
       "</table>\n",
       "</div>"
      ],
      "text/plain": [
       "   epsilon  # clusters\n",
       "0     0.90           2\n",
       "1     0.85           4\n",
       "2     0.80           6\n",
       "3     0.75           6\n",
       "4     0.70           7"
      ]
     },
     "execution_count": 103,
     "metadata": {},
     "output_type": "execute_result"
    }
   ],
   "source": [
    "dbscan = DBSCAN(metric='cosine', min_samples=100)\n",
    "eps_clusters = []\n",
    "dbscan.eps = 0.9 \n",
    "\n",
    "for i in range(0,5):\n",
    "    clustering = dbscan.fit_predict(X_train_vect)\n",
    "    num_clusters = len( pd.Series( clustering ).unique() )\n",
    "    eps_clusters.append([dbscan.eps, num_clusters])\n",
    "    dbscan.eps = dbscan.eps - 0.05\n",
    "\n",
    "pd.DataFrame(eps_clusters, columns = ['epsilon', '# clusters'])"
   ]
  },
  {
   "cell_type": "code",
   "execution_count": 129,
   "metadata": {},
   "outputs": [
    {
     "data": {
      "text/plain": [
       "-1    4319\n",
       " 0    1865\n",
       " 4     135\n",
       " 1     105\n",
       " 2     100\n",
       " 3      23\n",
       "dtype: int64"
      ]
     },
     "execution_count": 129,
     "metadata": {},
     "output_type": "execute_result"
    }
   ],
   "source": [
    "dbscan.eps = 0.8\n",
    "clusters = dbscan.fit_predict(X_train_vect)\n",
    "pd.Series( clusters ).value_counts()"
   ]
  },
  {
   "cell_type": "code",
   "execution_count": 130,
   "metadata": {},
   "outputs": [],
   "source": [
    "clusters = pd.Series(clusters)\n",
    "clusters.index = X_train.index\n",
    "subject_clusters = pd.concat([clusters, X_train], axis=1)\n",
    "subject_clusters.columns = ['cluster','subject']"
   ]
  },
  {
   "cell_type": "code",
   "execution_count": 140,
   "metadata": {},
   "outputs": [
    {
     "name": "stdout",
     "output_type": "stream",
     "text": [
      "      cluster                                            subject\n",
      "1371        0                     Re: problems with apt/synaptic\n",
      "2075        0                                P2P slogans for EFF\n",
      "44          0                              Re: The case for spam\n",
      "8520        0  Secretly Record all internet activity on any c...\n",
      "1968        0                  [use Perl] Stories for 2002-09-17\n",
      "6760        0         What's facing FBI's new CIO? (Tech Update)\n",
      "5214        0                    Re: [ILUG] Fwd: Linux Beer Hike\n",
      "327         0                              Re: The case for spam\n",
      "5269        0                  Re: [ILUG] stupid pics of the day\n",
      "4383        0                [use Perl] Headlines for 2002-09-10\n",
      "      cluster                                            subject\n",
      "574         1      Re[3]: Selling Wedded Bliss (was Re: Ouch...)\n",
      "492         1         Re: Selling Wedded Bliss (was Re: Ouch...)\n",
      "5780        1  Re: \"Ouch. Ouch. Ouch. Ouch. Ouch....\"(was Re:...\n",
      "512         1         Re: Selling Wedded Bliss (was Re: Ouch...)\n",
      "5871        1                                 Re: My brain hurts\n",
      "3045        1         RE: Selling Wedded Bliss (was Re: Ouch...)\n",
      "3010        1      Re[2]: Selling Wedded Bliss (was Re: Ouch...)\n",
      "3026        1         Re: Selling Wedded Bliss (was Re: Ouch...)\n",
      "527         1  RE: Re[2]: Selling Wedded Bliss (was Re: Ouch...)\n",
      "546         1         Re: Selling Wedded Bliss (was Re: Ouch...)\n",
      "      cluster                                            subject\n",
      "7849        2                       zzzz, do we have your money?\n",
      "7992        2  Making Serious Money Has Never Been This Easy!...\n",
      "9105        2                     Free Cell phone with any Plan!\n",
      "7401        2                       zzzz, do we have your money?\n",
      "8119        2                                     free satellite\n",
      "7602        2                       Re: Here is your Free Access\n",
      "1527        2  Re: [ILUG] Interesting article on free softwar...\n",
      "8814        2               Buy 1 get 2 FREE: Global Opportunity\n",
      "7798        2        One of a kind Money maker! Try it for free!\n",
      "7865        2  This one will make you money  9/20/02 11:34:52 PM\n",
      "      cluster                        subject\n",
      "2987        3  Re: CD player UI for toddlers\n",
      "2995        3  Re: CD player UI for toddlers\n",
      "479         3  Re: CD player UI for toddlers\n",
      "9017        3        Copy DVD Movies to CD-R\n",
      "2991        3  Re: CD player UI for toddlers\n",
      "478         3  Re: CD player UI for toddlers\n",
      "2992        3  Re: CD player UI for toddlers\n",
      "476         3  Re: CD player UI for toddlers\n",
      "2978        3      CD player UI for toddlers\n",
      "8037        3       Cd Rom 2000 How To Books\n",
      "      cluster                                            subject\n",
      "1846        4  Re: [zzzzteana] The Cafe Forteana is back onli...\n",
      "2730        4  [zzzzteana] University boom creates era of sex...\n",
      "247         4                             [zzzzteana] RE:Pictish\n",
      "1758        4  Re: [zzzzteana] The Cafe Forteana is back onli...\n",
      "2528        4                 RE: [zzzzteana] Digest Number 2453\n",
      "2363        4                        Re: [zzzzteana] Bad Buffalo\n",
      "8           4                   [zzzzteana] Meaningful sentences\n",
      "2330        4  [zzzzteana] \"Put this in your stereo and smoke...\n",
      "6445        4                [zzzzteana] Search for missing lynx\n",
      "188         4                    Re: [zzzzteana] Moon over ocean\n"
     ]
    }
   ],
   "source": [
    "for i in range( 0, max(clusters.unique())+1 ):\n",
    "    print( subject_clusters.loc[subject_clusters['cluster']==i].head(10) )\n",
    "\n",
    "# Cluster 0 = IT & Tech\n",
    "# Cluster 1 = Pain (ouch, hurts)\n",
    "# Cluster 2 = Money & Free\n",
    "# Cluster 3 = CDs\n",
    "# cluster 4 = [zzzzteana]"
   ]
  },
  {
   "cell_type": "markdown",
   "metadata": {
    "id": "HT4eeZsX8g_c"
   },
   "source": [
    "## Evaluation Metrics <a id='evaluation-metrics' />"
   ]
  },
  {
   "cell_type": "markdown",
   "metadata": {
    "id": "hGvfqpC4N5D6"
   },
   "source": [
    " "
   ]
  },
  {
   "cell_type": "markdown",
   "metadata": {
    "id": "DeWgSmQW8g_Z"
   },
   "source": [
    "### Baseline Model"
   ]
  },
  {
   "cell_type": "markdown",
   "metadata": {
    "id": "UUpR8S0tN5D7"
   },
   "source": [
    "Try to predict spam/ham by only using the email subjects"
   ]
  },
  {
   "cell_type": "code",
   "execution_count": null,
   "metadata": {
    "id": "ul4ybaieN5D7"
   },
   "outputs": [],
   "source": []
  },
  {
   "cell_type": "markdown",
   "metadata": {
    "id": "rADZ1qTz8g_c"
   },
   "source": [
    "## Feature Selection <a id='feature-selection' />"
   ]
  },
  {
   "cell_type": "markdown",
   "metadata": {
    "id": "w459qqI-N5D7"
   },
   "source": [
    " "
   ]
  },
  {
   "cell_type": "markdown",
   "metadata": {
    "id": "UuRjMsjg8g_d"
   },
   "source": [
    "# Model Building & Evaluations <a id='model-building'/>"
   ]
  },
  {
   "cell_type": "markdown",
   "metadata": {
    "id": "JIef6T0FPIVM"
   },
   "source": [
    "Primary task is buiding a logistic regression to predict hospital readmittances.\n",
    "\n",
    "How did you handle missing values?\n",
    "\n",
    "Specify your sampling methodology\n",
    "\n",
    "Set up your models - highlights of any important parameters\n",
    "\n",
    "Analysis of your models performance"
   ]
  },
  {
   "cell_type": "markdown",
   "metadata": {
    "id": "UU9VF8AM8g_d"
   },
   "source": [
    "## Sampling Methodology <a id='sampling-methodology'/>"
   ]
  },
  {
   "cell_type": "markdown",
   "metadata": {
    "id": "Wu8uewjVN5D8"
   },
   "source": [
    "#### Per the code above we used a 70/30 train test sample split"
   ]
  },
  {
   "cell_type": "markdown",
   "metadata": {
    "id": "p-C7Tc5W8g_e"
   },
   "source": [
    "## Model's Performance Analysis <a id='performance-analysis'/>"
   ]
  },
  {
   "cell_type": "markdown",
   "metadata": {
    "id": "B1QaouAiN5D9"
   },
   "source": []
  },
  {
   "cell_type": "markdown",
   "metadata": {
    "id": "HISQa9FO8g_e"
   },
   "source": [
    "# Model Interpretability & Explainability <a id='model-explanation'>"
   ]
  },
  {
   "cell_type": "markdown",
   "metadata": {
    "id": "5rlSakuzPhjw"
   },
   "source": [
    "Which variables were more important and why?\n",
    "\n",
    "How did you come to the conclusion these variables were important how how should the audience interpret this?"
   ]
  },
  {
   "cell_type": "markdown",
   "metadata": {
    "id": "PSBc4ETe8g_e"
   },
   "source": [
    "## Examining Feature Importance <a id='examining-feature-importance'/>"
   ]
  },
  {
   "cell_type": "code",
   "execution_count": null,
   "metadata": {
    "id": "BpGIwvaMQD8M"
   },
   "outputs": [],
   "source": []
  },
  {
   "cell_type": "markdown",
   "metadata": {
    "id": "yb4q1PtqN5D9"
   },
   "source": []
  },
  {
   "cell_type": "code",
   "execution_count": null,
   "metadata": {
    "id": "LLbI9bVy8g_e"
   },
   "outputs": [],
   "source": []
  },
  {
   "cell_type": "markdown",
   "metadata": {
    "id": "JbAhMB1x8g_e"
   },
   "source": [
    "# Conclusion <a id='conclusion'>"
   ]
  },
  {
   "cell_type": "markdown",
   "metadata": {
    "id": "fetUVJsePwN7"
   },
   "source": [
    "What are you proposing to the audience with your models and why?\n",
    "\n",
    "How should your audience interpret your conclusion and whwere should they go moving forward on the topic?\n",
    "\n",
    "What other approaches do you recommend exploring?\n",
    "\n",
    "Bring it all home!"
   ]
  },
  {
   "cell_type": "markdown",
   "metadata": {
    "id": "xnsadV7M8g_e"
   },
   "source": [
    "### Final Model Proposal <a id='final-model-proposal'/>"
   ]
  },
  {
   "cell_type": "markdown",
   "metadata": {
    "id": "4XXMCBozN5D-"
   },
   "source": []
  },
  {
   "cell_type": "markdown",
   "metadata": {
    "id": "oX8fXYczN5D-"
   },
   "source": [
    "### Future Considerations and Model Enhancements <a id='model-enhancements'/>"
   ]
  },
  {
   "cell_type": "markdown",
   "metadata": {
    "id": "xzeTkIEWN5D-"
   },
   "source": []
  },
  {
   "cell_type": "markdown",
   "metadata": {
    "id": "Thch7JfCN5D_"
   },
   "source": [
    "### Alternative Modeling Approaches <a id='alternative-modeling-approaches'>"
   ]
  },
  {
   "cell_type": "markdown",
   "metadata": {
    "id": "IUpUUjATN5D_"
   },
   "source": []
  }
 ],
 "metadata": {
  "colab": {
   "name": "Case_Study_1.ipynb",
   "provenance": []
  },
  "kernelspec": {
   "display_name": "Python 3",
   "language": "python",
   "name": "python3"
  },
  "language_info": {
   "codemirror_mode": {
    "name": "ipython",
    "version": 3
   },
   "file_extension": ".py",
   "mimetype": "text/x-python",
   "name": "python",
   "nbconvert_exporter": "python",
   "pygments_lexer": "ipython3",
   "version": "3.7.10"
  }
 },
 "nbformat": 4,
 "nbformat_minor": 1
}
