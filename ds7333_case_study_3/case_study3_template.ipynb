{
 "cells": [
  {
   "cell_type": "markdown",
   "metadata": {
    "id": "GoCXzNvN8g-8"
   },
   "source": [
    "# Case Study 3 - Email Spam"
   ]
  },
  {
   "cell_type": "markdown",
   "metadata": {
    "id": "YBy24RcB8g-9"
   },
   "source": [
    "__Team Members:__ Amber Clark, Andrew Leppla, Jorge Olmos, Paritosh Rai"
   ]
  },
  {
   "cell_type": "markdown",
   "metadata": {},
   "source": [
    "# Team Strategy"
   ]
  },
  {
   "cell_type": "markdown",
   "metadata": {},
   "source": [
    "Emails are read in.  Kept: From, Subject, Body.\n",
    "- Remove \\n with regex\n",
    "- Remove other non-alphabetic characters - keep the counts?\n",
    "\n",
    "Feature Extraction:\n",
    "1. Vectorization - TFIDF (removes stop words)\n",
    "If we have time:\n",
    "2. Created 'trusted' and 'spam' email address book to filter spam - IS THIS OUT OF SCOPE PER SCOPE?\n",
    "\n",
    "Model:\n",
    "Classification with Naive Bayes - Amber, Jorge\n",
    "1. Subject Only = Baseline\n",
    "2. Body (+Subject?)\n",
    "\n",
    "Clustering:\n",
    "DBSCAN with cosine distance for NLP - Andrew, Paritosh"
   ]
  },
  {
   "cell_type": "markdown",
   "metadata": {
    "id": "O4O0up-U8g-9"
   },
   "source": [
    "# Content\n",
    "* [Business Understanding](#business-understanding)\n",
    "    - [Scope](#scope)\n",
    "    - [Introduction](#introduction)\n",
    "    - [Methods](#methods)\n",
    "    - [Results](#results)\n",
    "* [Data Evaluation](#data-evaluation)\n",
    "    - [Loading Data](#loading-data) \n",
    "    - [Data Summary](#data-summary)\n",
    "    - [Missing Values](#missing-values)\n",
    "    - [Feature Removal](#feature-removal)\n",
    "    - [Exploratory Data Analysis (EDA)](#eda)\n",
    "    - [Assumptions](#assumptions)\n",
    "* [Model Preparations](#model-preparations)\n",
    "    - [Sampling & Scaling Data](#sampling-scaling-data)\n",
    "    - [Proposed Method](#proposed-metrics)\n",
    "    - [Evaluation Metrics](#evaluation-metrics)\n",
    "    - [Feature Selection](#feature-selection)\n",
    "* [Model Building & Evaluations](#model-building)\n",
    "    - [Sampling Methodology](#sampling-methodology)\n",
    "    - [Model](#model)\n",
    "    - [Performance Analysis](#performance-analysis)\n",
    "* [Model Interpretability & Explainability](#model-explanation)\n",
    "    - [Examining Feature Importance](#examining-feature-importance)\n",
    "* [Conclusion](#conclusion)\n",
    "    - [Final Model Proposal](#final-model-proposal)\n",
    "    - [Future Considerations and Model Enhancements](#model-enhancements)\n",
    "    - [Alternative Modeling Approaches](#alternative-modeling-approaches)"
   ]
  },
  {
   "cell_type": "markdown",
   "metadata": {
    "id": "TRedT-FB8g_A"
   },
   "source": [
    "# Business Understanding & Executive Summary <a id='business-understanding'/>"
   ]
  },
  {
   "cell_type": "markdown",
   "metadata": {
    "id": "F-4BiuuQOEh4"
   },
   "source": [
    "What are we trying to solve for and why is it important?\n"
   ]
  },
  {
   "cell_type": "markdown",
   "metadata": {
    "id": "_TBIHKRt8g--"
   },
   "source": [
    "### Scope <a id='scope'/>\n",
    "\n",
    "\n",
    "### Introduction <a id='introduction'/>\n",
    "\n",
    "\n",
    "### Methods <a id='methods'/>\n",
    " \n",
    " \n",
    "### Results <a id='results'/>\n",
    " "
   ]
  },
  {
   "cell_type": "markdown",
   "metadata": {
    "id": "PVtcYu5j8g_B"
   },
   "source": [
    "# Data Evaluation <a id='data-evaluation'>\n",
    "    "
   ]
  },
  {
   "cell_type": "markdown",
   "metadata": {
    "id": "ZsIJIUSjOLcl"
   },
   "source": [
    "Summarize data being used?\n",
    "\n",
    "Are there missing values?\n",
    "\n",
    "Which variables are needed and which are not?\n",
    "\n",
    "What assumptions or conclusions are you drawing about your data?"
   ]
  },
  {
   "cell_type": "markdown",
   "metadata": {
    "id": "ox-qLqjc8g_B"
   },
   "source": []
  },
  {
   "cell_type": "code",
   "execution_count": 1,
   "metadata": {
    "id": "qcBcP8Jy8g_C",
    "outputId": "a6a85b4a-a106-48bb-bc2a-e6a5fb8ca494"
   },
   "outputs": [
    {
     "data": {
      "text/plain": [
       "\"import warnings\\nwarnings.filterwarnings('ignore')\\nfrom warnings import simplefilter \\nsimplefilter(action='ignore', category=FutureWarning)\""
      ]
     },
     "execution_count": 1,
     "metadata": {},
     "output_type": "execute_result"
    }
   ],
   "source": [
    "# standard libraries\n",
    "import pandas as pd\n",
    "import numpy as np\n",
    "import re\n",
    "import os\n",
    "from IPython.display import Image\n",
    "\n",
    "# email\n",
    "from email import policy\n",
    "from email.parser import BytesParser\n",
    "\n",
    "# visualization\n",
    "import seaborn as sns\n",
    "import matplotlib.pyplot as plt\n",
    "%matplotlib inline\n",
    "from tabulate import tabulate\n",
    "\n",
    "# data pre-processing\n",
    "from sklearn.model_selection import train_test_split\n",
    "from sklearn.model_selection import StratifiedShuffleSplit\n",
    "from sklearn.feature_extraction.text import TfidfVectorizer\n",
    "\n",
    "# clustering\n",
    "from sklearn.cluster import DBSCAN\n",
    "from statistics import stdev\n",
    "\n",
    "# prediction models\n",
    "from sklearn.naive_bayes import GaussianNB\n",
    "from sklearn.feature_selection import SelectPercentile, f_classif\n",
    "from sklearn.ensemble import VotingClassifier\n",
    "from sklearn.model_selection import cross_val_score\n",
    "\n",
    "# import warnings filter\n",
    "'''import warnings\n",
    "warnings.filterwarnings('ignore')\n",
    "from warnings import simplefilter \n",
    "simplefilter(action='ignore', category=FutureWarning)'''"
   ]
  },
  {
   "cell_type": "markdown",
   "metadata": {
    "id": "4WcvKI3y8g_C"
   },
   "source": [
    "## Loading Data <a id='loading-data'>"
   ]
  },
  {
   "cell_type": "markdown",
   "metadata": {
    "id": "ZDhb7boF8g_D"
   },
   "source": []
  },
  {
   "cell_type": "code",
   "execution_count": 2,
   "metadata": {},
   "outputs": [
    {
     "data": {
      "application/javascript": [
       "IPython.notebook.kernel.execute('nb_name = \"' + IPython.notebook.notebook_name + '\"')\n"
      ],
      "text/plain": [
       "<IPython.core.display.Javascript object>"
      ]
     },
     "metadata": {},
     "output_type": "display_data"
    }
   ],
   "source": [
    "%%javascript \n",
    "IPython.notebook.kernel.execute('nb_name = \"' + IPython.notebook.notebook_name + '\"')"
   ]
  },
  {
   "cell_type": "code",
   "execution_count": 3,
   "metadata": {},
   "outputs": [
    {
     "data": {
      "text/plain": [
       "'case_study3_template.ipynb'"
      ]
     },
     "execution_count": 3,
     "metadata": {},
     "output_type": "execute_result"
    }
   ],
   "source": [
    "nb_name"
   ]
  },
  {
   "cell_type": "code",
   "execution_count": 4,
   "metadata": {
    "id": "3dYvb9W38g_D",
    "outputId": "3a6b397c-92dc-4ce0-c599-9cf69191e676"
   },
   "outputs": [],
   "source": [
    "import os\n",
    "notebook_path = os.path.abspath(nb_name)"
   ]
  },
  {
   "cell_type": "code",
   "execution_count": 5,
   "metadata": {},
   "outputs": [
    {
     "data": {
      "text/plain": [
       "'/Users/jorgeolmos/Documents/qtw1/Case Study 1/ds7333_case_study_3/case_study3_template.ipynb'"
      ]
     },
     "execution_count": 5,
     "metadata": {},
     "output_type": "execute_result"
    }
   ],
   "source": [
    "notebook_path"
   ]
  },
  {
   "cell_type": "code",
   "execution_count": 6,
   "metadata": {},
   "outputs": [],
   "source": [
    "file_spam = os.path.join(os.path.dirname(notebook_path), \"SpamAssassinMessages\")"
   ]
  },
  {
   "cell_type": "code",
   "execution_count": 8,
   "metadata": {},
   "outputs": [
    {
     "data": {
      "text/plain": [
       "'/Users/jorgeolmos/Documents/qtw1/Case Study 1/ds7333_case_study_3/SpamAssassinMessages'"
      ]
     },
     "execution_count": 8,
     "metadata": {},
     "output_type": "execute_result"
    }
   ],
   "source": [
    "file_spam"
   ]
  },
  {
   "cell_type": "code",
   "execution_count": 9,
   "metadata": {},
   "outputs": [],
   "source": [
    "def get_all_files(folder):\n",
    "    file_list = []\n",
    "    if os.path.exists(folder):\n",
    "        for root, dirs, files in os.walk(folder):\n",
    "            for file in files:\n",
    "                file_list.append(os.path.join(root,file))\n",
    "    return file_list"
   ]
  },
  {
   "cell_type": "code",
   "execution_count": 10,
   "metadata": {},
   "outputs": [
    {
     "data": {
      "text/plain": [
       "['spam', 'hard_ham', 'spam_2', 'easy_ham', 'easy_ham_2']"
      ]
     },
     "execution_count": 10,
     "metadata": {},
     "output_type": "execute_result"
    }
   ],
   "source": [
    "folders = os.listdir(file_spam)\n",
    "folders"
   ]
  },
  {
   "cell_type": "code",
   "execution_count": 11,
   "metadata": {},
   "outputs": [],
   "source": [
    "# Get the file names in each folder (list of lists)\n",
    "files = [ os.listdir(file_spam+ '/'+ folder) for folder in folders] \n",
    "\n",
    "# Create a list of dataframes for all of the folders\n",
    "emails = [ pd.DataFrame({'folder' : [], 'from' : [], 'subject' : [], 'body': []}) ]*len(folders)\n",
    "\n",
    "# Add folder path to file names\n",
    "for i in range(0,len(folders)):\n",
    "    for j in range(0, len(files[i])):\n",
    "        files[i][j] = str(file_spam +'/' + folders[i] + '/' + files[i][j]) \n",
    "        \n",
    "        # Parse and extract email 'subject' and 'from'\n",
    "        with open(files[i][j], 'rb') as fp:\n",
    "            msg = BytesParser(policy=policy.default).parse(fp)\n",
    "            \n",
    "            # Error checking when reading in body for some html-based emails from spam folders\n",
    "            try:\n",
    "                simplest = msg.get_body(preferencelist=('plain', 'html'))\n",
    "                try:\n",
    "                    new_row = {'folder': folders[i], 'from': msg['from'], 'subject': msg['subject'], 'body': simplest.get_content()}\n",
    "                    emails[i] = emails[i].append(new_row, ignore_index=True)\n",
    "                except:\n",
    "                    new_row = {'folder': folders[i], 'from': msg['from'], 'subject':msg['subject'], 'body':'Error(html)'}\n",
    "                    emails[i] = emails[i].append(new_row, ignore_index=True)\n",
    "            except:\n",
    "                new_row = {'folder': folders[i], 'from': msg['from'], 'subject':msg['subject'], 'body':'Error(html)'}\n",
    "                emails[i] = emails[i].append(new_row, ignore_index=True)"
   ]
  },
  {
   "cell_type": "code",
   "execution_count": 12,
   "metadata": {},
   "outputs": [
    {
     "name": "stdout",
     "output_type": "stream",
     "text": [
      "# files in folders: [1001, 501, 1398, 5052, 1401]\n",
      "# emails read in  : [1001, 501, 1398, 5052, 1401]\n",
      "\n",
      "# total emails = 9353\n"
     ]
    }
   ],
   "source": [
    "# Emails per folder\n",
    "print(\"# files in folders:\", [len(i) for i in files])\n",
    "print(\"# emails read in  :\", [i.shape[0] for i in emails])\n",
    "\n",
    "# Total emails\n",
    "print( \"\\n# total emails =\", sum([len(i) for i in files]) )"
   ]
  },
  {
   "cell_type": "code",
   "execution_count": 13,
   "metadata": {},
   "outputs": [
    {
     "data": {
      "text/plain": [
       "(9353, 6)"
      ]
     },
     "execution_count": 13,
     "metadata": {},
     "output_type": "execute_result"
    }
   ],
   "source": [
    "# Create single dataframe from all folders\n",
    "df = pd.concat( [emails[i] for i in range(0, len(emails))], axis=0)\n",
    "\n",
    "#  Keep the indices from the folders\n",
    "df = df.reset_index() \n",
    "\n",
    "# create response column from folder names\n",
    "spam = [(i=='spam' or i=='spam_2') for i in df['folder']]\n",
    "df = pd.concat([df, pd.Series(spam).astype(int)], axis=1)\n",
    "\n",
    "df.columns = ['folder_idx', 'folder', 'from', 'subject', 'body','spam']\n",
    "\n",
    "df.shape"
   ]
  },
  {
   "cell_type": "code",
   "execution_count": 14,
   "metadata": {},
   "outputs": [
    {
     "data": {
      "text/html": [
       "<div>\n",
       "<style scoped>\n",
       "    .dataframe tbody tr th:only-of-type {\n",
       "        vertical-align: middle;\n",
       "    }\n",
       "\n",
       "    .dataframe tbody tr th {\n",
       "        vertical-align: top;\n",
       "    }\n",
       "\n",
       "    .dataframe thead th {\n",
       "        text-align: right;\n",
       "    }\n",
       "</style>\n",
       "<table border=\"1\" class=\"dataframe\">\n",
       "  <thead>\n",
       "    <tr style=\"text-align: right;\">\n",
       "      <th></th>\n",
       "      <th>folder_idx</th>\n",
       "      <th>folder</th>\n",
       "      <th>from</th>\n",
       "      <th>subject</th>\n",
       "      <th>body</th>\n",
       "      <th>spam</th>\n",
       "    </tr>\n",
       "  </thead>\n",
       "  <tbody>\n",
       "    <tr>\n",
       "      <th>0</th>\n",
       "      <td>0</td>\n",
       "      <td>spam</td>\n",
       "      <td>pamela4701@eudoramail.com</td>\n",
       "      <td>Let us find the right mortgage lender for you ...</td>\n",
       "      <td>Dear Homeowner,\\n \\nInterest Rates are at thei...</td>\n",
       "      <td>1</td>\n",
       "    </tr>\n",
       "    <tr>\n",
       "      <th>1</th>\n",
       "      <td>1</td>\n",
       "      <td>spam</td>\n",
       "      <td>CopyYourDVD &lt;atomica2020@hotmail.com&gt;</td>\n",
       "      <td>Friend, Copy ANY DVD or Playstation Game with ...</td>\n",
       "      <td>Friend,Now you can copy DVD's and Games\\nhttp:...</td>\n",
       "      <td>1</td>\n",
       "    </tr>\n",
       "    <tr>\n",
       "      <th>2</th>\n",
       "      <td>2</td>\n",
       "      <td>spam</td>\n",
       "      <td>IQ - Safe Harbor &lt;sh@insiq.us&gt;</td>\n",
       "      <td>5% Guaranteed for Eight Years</td>\n",
       "      <td>Pocket the newest 8 year annuity!\\t Pocket th...</td>\n",
       "      <td>1</td>\n",
       "    </tr>\n",
       "    <tr>\n",
       "      <th>3</th>\n",
       "      <td>3</td>\n",
       "      <td>spam</td>\n",
       "      <td>Customer Service &lt;greatoffers@sendgreatoffers....</td>\n",
       "      <td>Congratulations! You Get a Free Handheld Organ...</td>\n",
       "      <td>&lt;html&gt;&lt;head&gt;\\n&lt;title&gt;Congratulations! You Get ...</td>\n",
       "      <td>1</td>\n",
       "    </tr>\n",
       "    <tr>\n",
       "      <th>4</th>\n",
       "      <td>4</td>\n",
       "      <td>spam</td>\n",
       "      <td>don &lt;apf@wu-wien.ac.at&gt;</td>\n",
       "      <td>PROTECT YOUR INFORMATION AND YOUR COMPUTER</td>\n",
       "      <td>ATTENTION: This is a MUST for ALL Computer Use...</td>\n",
       "      <td>1</td>\n",
       "    </tr>\n",
       "  </tbody>\n",
       "</table>\n",
       "</div>"
      ],
      "text/plain": [
       "   folder_idx folder                                               from  \\\n",
       "0           0   spam                          pamela4701@eudoramail.com   \n",
       "1           1   spam              CopyYourDVD <atomica2020@hotmail.com>   \n",
       "2           2   spam                     IQ - Safe Harbor <sh@insiq.us>   \n",
       "3           3   spam  Customer Service <greatoffers@sendgreatoffers....   \n",
       "4           4   spam                            don <apf@wu-wien.ac.at>   \n",
       "\n",
       "                                             subject  \\\n",
       "0  Let us find the right mortgage lender for you ...   \n",
       "1  Friend, Copy ANY DVD or Playstation Game with ...   \n",
       "2                      5% Guaranteed for Eight Years   \n",
       "3  Congratulations! You Get a Free Handheld Organ...   \n",
       "4         PROTECT YOUR INFORMATION AND YOUR COMPUTER   \n",
       "\n",
       "                                                body  spam  \n",
       "0  Dear Homeowner,\\n \\nInterest Rates are at thei...     1  \n",
       "1  Friend,Now you can copy DVD's and Games\\nhttp:...     1  \n",
       "2   Pocket the newest 8 year annuity!\\t Pocket th...     1  \n",
       "3  <html><head>\\n<title>Congratulations! You Get ...     1  \n",
       "4  ATTENTION: This is a MUST for ALL Computer Use...     1  "
      ]
     },
     "execution_count": 14,
     "metadata": {},
     "output_type": "execute_result"
    }
   ],
   "source": [
    "df.head()"
   ]
  },
  {
   "cell_type": "code",
   "execution_count": 15,
   "metadata": {},
   "outputs": [],
   "source": [
    "CLEANR = re.compile('<.*?>|&([a-z0-9]+|#[0-9]{1,6}|#x[0-9a-f]{1,6});')\n",
    "def cleanhtml(raw_html):\n",
    "    cleantext = re.sub(CLEANR, '', raw_html)\n",
    "    return cleantext"
   ]
  },
  {
   "cell_type": "code",
   "execution_count": 16,
   "metadata": {},
   "outputs": [],
   "source": [
    "def cleanAndSplit(raw_text): \n",
    "    temp = []\n",
    "    for word in raw_text.split():\n",
    "        temp.append(re.sub(r\"[^a-zA-Z0-9]\",\"\",word).lower())\n",
    "    return temp"
   ]
  },
  {
   "cell_type": "code",
   "execution_count": 17,
   "metadata": {},
   "outputs": [],
   "source": [
    "def cleanBody(raw_content):\n",
    "    if(pd.isna(raw_content)):\n",
    "        return []\n",
    "    clean_from_html = cleanhtml(raw_content)\n",
    "    out = cleanAndSplit(clean_from_html)\n",
    "    return out"
   ]
  },
  {
   "cell_type": "code",
   "execution_count": 18,
   "metadata": {},
   "outputs": [],
   "source": [
    "def combine(content):\n",
    "    joined = np.concatenate((*content[['clean_body']], *content[['clean_subject']]))\n",
    "    return joined"
   ]
  },
  {
   "cell_type": "code",
   "execution_count": 19,
   "metadata": {},
   "outputs": [],
   "source": [
    "df['clean_body'] = df['body'].apply(cleanBody)"
   ]
  },
  {
   "cell_type": "code",
   "execution_count": 20,
   "metadata": {},
   "outputs": [],
   "source": [
    "df['clean_subject'] = df['subject'].apply(cleanBody)"
   ]
  },
  {
   "cell_type": "code",
   "execution_count": 21,
   "metadata": {},
   "outputs": [],
   "source": [
    "df['joined'] = df[['clean_body','clean_subject']].agg(combine, axis=1)"
   ]
  },
  {
   "cell_type": "code",
   "execution_count": 22,
   "metadata": {},
   "outputs": [
    {
     "data": {
      "text/html": [
       "<div>\n",
       "<style scoped>\n",
       "    .dataframe tbody tr th:only-of-type {\n",
       "        vertical-align: middle;\n",
       "    }\n",
       "\n",
       "    .dataframe tbody tr th {\n",
       "        vertical-align: top;\n",
       "    }\n",
       "\n",
       "    .dataframe thead th {\n",
       "        text-align: right;\n",
       "    }\n",
       "</style>\n",
       "<table border=\"1\" class=\"dataframe\">\n",
       "  <thead>\n",
       "    <tr style=\"text-align: right;\">\n",
       "      <th></th>\n",
       "      <th>folder_idx</th>\n",
       "      <th>folder</th>\n",
       "      <th>from</th>\n",
       "      <th>subject</th>\n",
       "      <th>body</th>\n",
       "      <th>spam</th>\n",
       "      <th>clean_body</th>\n",
       "      <th>clean_subject</th>\n",
       "      <th>joined</th>\n",
       "    </tr>\n",
       "  </thead>\n",
       "  <tbody>\n",
       "    <tr>\n",
       "      <th>0</th>\n",
       "      <td>0</td>\n",
       "      <td>spam</td>\n",
       "      <td>pamela4701@eudoramail.com</td>\n",
       "      <td>Let us find the right mortgage lender for you ...</td>\n",
       "      <td>Dear Homeowner,\\n \\nInterest Rates are at thei...</td>\n",
       "      <td>1</td>\n",
       "      <td>[dear, homeowner, interest, rates, are, at, th...</td>\n",
       "      <td>[let, us, find, the, right, mortgage, lender, ...</td>\n",
       "      <td>[dear, homeowner, interest, rates, are, at, th...</td>\n",
       "    </tr>\n",
       "    <tr>\n",
       "      <th>1</th>\n",
       "      <td>1</td>\n",
       "      <td>spam</td>\n",
       "      <td>CopyYourDVD &lt;atomica2020@hotmail.com&gt;</td>\n",
       "      <td>Friend, Copy ANY DVD or Playstation Game with ...</td>\n",
       "      <td>Friend,Now you can copy DVD's and Games\\nhttp:...</td>\n",
       "      <td>1</td>\n",
       "      <td>[friendnow, you, can, copy, dvds, and, games, ...</td>\n",
       "      <td>[friend, copy, any, dvd, or, playstation, game...</td>\n",
       "      <td>[friendnow, you, can, copy, dvds, and, games, ...</td>\n",
       "    </tr>\n",
       "    <tr>\n",
       "      <th>2</th>\n",
       "      <td>2</td>\n",
       "      <td>spam</td>\n",
       "      <td>IQ - Safe Harbor &lt;sh@insiq.us&gt;</td>\n",
       "      <td>5% Guaranteed for Eight Years</td>\n",
       "      <td>Pocket the newest 8 year annuity!\\t Pocket th...</td>\n",
       "      <td>1</td>\n",
       "      <td>[pocket, the, newest, 8, year, annuity, pocket...</td>\n",
       "      <td>[5, guaranteed, for, eight, years]</td>\n",
       "      <td>[pocket, the, newest, 8, year, annuity, pocket...</td>\n",
       "    </tr>\n",
       "    <tr>\n",
       "      <th>3</th>\n",
       "      <td>3</td>\n",
       "      <td>spam</td>\n",
       "      <td>Customer Service &lt;greatoffers@sendgreatoffers....</td>\n",
       "      <td>Congratulations! You Get a Free Handheld Organ...</td>\n",
       "      <td>&lt;html&gt;&lt;head&gt;\\n&lt;title&gt;Congratulations! You Get ...</td>\n",
       "      <td>1</td>\n",
       "      <td>[congratulations, you, get, a, free, handheld,...</td>\n",
       "      <td>[congratulations, you, get, a, free, handheld,...</td>\n",
       "      <td>[congratulations, you, get, a, free, handheld,...</td>\n",
       "    </tr>\n",
       "    <tr>\n",
       "      <th>4</th>\n",
       "      <td>4</td>\n",
       "      <td>spam</td>\n",
       "      <td>don &lt;apf@wu-wien.ac.at&gt;</td>\n",
       "      <td>PROTECT YOUR INFORMATION AND YOUR COMPUTER</td>\n",
       "      <td>ATTENTION: This is a MUST for ALL Computer Use...</td>\n",
       "      <td>1</td>\n",
       "      <td>[attention, this, is, a, must, for, all, compu...</td>\n",
       "      <td>[protect, your, information, and, your, computer]</td>\n",
       "      <td>[attention, this, is, a, must, for, all, compu...</td>\n",
       "    </tr>\n",
       "  </tbody>\n",
       "</table>\n",
       "</div>"
      ],
      "text/plain": [
       "   folder_idx folder                                               from  \\\n",
       "0           0   spam                          pamela4701@eudoramail.com   \n",
       "1           1   spam              CopyYourDVD <atomica2020@hotmail.com>   \n",
       "2           2   spam                     IQ - Safe Harbor <sh@insiq.us>   \n",
       "3           3   spam  Customer Service <greatoffers@sendgreatoffers....   \n",
       "4           4   spam                            don <apf@wu-wien.ac.at>   \n",
       "\n",
       "                                             subject  \\\n",
       "0  Let us find the right mortgage lender for you ...   \n",
       "1  Friend, Copy ANY DVD or Playstation Game with ...   \n",
       "2                      5% Guaranteed for Eight Years   \n",
       "3  Congratulations! You Get a Free Handheld Organ...   \n",
       "4         PROTECT YOUR INFORMATION AND YOUR COMPUTER   \n",
       "\n",
       "                                                body  spam  \\\n",
       "0  Dear Homeowner,\\n \\nInterest Rates are at thei...     1   \n",
       "1  Friend,Now you can copy DVD's and Games\\nhttp:...     1   \n",
       "2   Pocket the newest 8 year annuity!\\t Pocket th...     1   \n",
       "3  <html><head>\\n<title>Congratulations! You Get ...     1   \n",
       "4  ATTENTION: This is a MUST for ALL Computer Use...     1   \n",
       "\n",
       "                                          clean_body  \\\n",
       "0  [dear, homeowner, interest, rates, are, at, th...   \n",
       "1  [friendnow, you, can, copy, dvds, and, games, ...   \n",
       "2  [pocket, the, newest, 8, year, annuity, pocket...   \n",
       "3  [congratulations, you, get, a, free, handheld,...   \n",
       "4  [attention, this, is, a, must, for, all, compu...   \n",
       "\n",
       "                                       clean_subject  \\\n",
       "0  [let, us, find, the, right, mortgage, lender, ...   \n",
       "1  [friend, copy, any, dvd, or, playstation, game...   \n",
       "2                 [5, guaranteed, for, eight, years]   \n",
       "3  [congratulations, you, get, a, free, handheld,...   \n",
       "4  [protect, your, information, and, your, computer]   \n",
       "\n",
       "                                              joined  \n",
       "0  [dear, homeowner, interest, rates, are, at, th...  \n",
       "1  [friendnow, you, can, copy, dvds, and, games, ...  \n",
       "2  [pocket, the, newest, 8, year, annuity, pocket...  \n",
       "3  [congratulations, you, get, a, free, handheld,...  \n",
       "4  [attention, this, is, a, must, for, all, compu...  "
      ]
     },
     "execution_count": 22,
     "metadata": {},
     "output_type": "execute_result"
    }
   ],
   "source": [
    "df.head()"
   ]
  },
  {
   "cell_type": "markdown",
   "metadata": {
    "id": "ul_6nw48N5Dy"
   },
   "source": [
    "## Data Summary <a id='data-summary'>"
   ]
  },
  {
   "cell_type": "markdown",
   "metadata": {
    "id": "Aws5HAx98g_E"
   },
   "source": [
    "## Missing Values <a id='missing-values'>\n",
    "\n"
   ]
  },
  {
   "cell_type": "code",
   "execution_count": 23,
   "metadata": {
    "id": "2BgB13po8g_F",
    "outputId": "aba28207-2ccb-4d38-b36a-adcd6d28dd45"
   },
   "outputs": [
    {
     "data": {
      "text/html": [
       "<div>\n",
       "<style scoped>\n",
       "    .dataframe tbody tr th:only-of-type {\n",
       "        vertical-align: middle;\n",
       "    }\n",
       "\n",
       "    .dataframe tbody tr th {\n",
       "        vertical-align: top;\n",
       "    }\n",
       "\n",
       "    .dataframe thead th {\n",
       "        text-align: right;\n",
       "    }\n",
       "</style>\n",
       "<table border=\"1\" class=\"dataframe\">\n",
       "  <thead>\n",
       "    <tr style=\"text-align: right;\">\n",
       "      <th></th>\n",
       "      <th>folder_idx</th>\n",
       "      <th>folder</th>\n",
       "      <th>from</th>\n",
       "      <th>subject</th>\n",
       "      <th>body</th>\n",
       "      <th>spam</th>\n",
       "      <th>clean_body</th>\n",
       "      <th>clean_subject</th>\n",
       "      <th>joined</th>\n",
       "    </tr>\n",
       "  </thead>\n",
       "  <tbody>\n",
       "    <tr>\n",
       "      <th>460</th>\n",
       "      <td>460</td>\n",
       "      <td>spam</td>\n",
       "      <td>Affordable Computer Supply &lt;InkjetDeals@acsmsu...</td>\n",
       "      <td>Printer Cartridges as low as $1.21 each!</td>\n",
       "      <td>Error(html)</td>\n",
       "      <td>1</td>\n",
       "      <td>[errorhtml]</td>\n",
       "      <td>[printer, cartridges, as, low, as, 121, each]</td>\n",
       "      <td>[errorhtml, printer, cartridges, as, low, as, ...</td>\n",
       "    </tr>\n",
       "    <tr>\n",
       "      <th>522</th>\n",
       "      <td>522</td>\n",
       "      <td>spam</td>\n",
       "      <td>zzzz@netscape.net</td>\n",
       "      <td>Collect Your Money! Time:1:30:33 AM</td>\n",
       "      <td>Error(html)</td>\n",
       "      <td>1</td>\n",
       "      <td>[errorhtml]</td>\n",
       "      <td>[collect, your, money, time13033, am]</td>\n",
       "      <td>[errorhtml, collect, your, money, time13033, am]</td>\n",
       "    </tr>\n",
       "    <tr>\n",
       "      <th>549</th>\n",
       "      <td>549</td>\n",
       "      <td>spam</td>\n",
       "      <td>eb@via.ecp.fr</td>\n",
       "      <td>Over $100,000 Per Year Possible On The Net!  N...</td>\n",
       "      <td>Error(html)</td>\n",
       "      <td>1</td>\n",
       "      <td>[errorhtml]</td>\n",
       "      <td>[over, 100000, per, year, possible, on, the, n...</td>\n",
       "      <td>[errorhtml, over, 100000, per, year, possible,...</td>\n",
       "    </tr>\n",
       "    <tr>\n",
       "      <th>793</th>\n",
       "      <td>793</td>\n",
       "      <td>spam</td>\n",
       "      <td>Affordable Computer Supply &lt;InkjetDeals@acsmsu...</td>\n",
       "      <td>Printer Cartridges as low as $1.21 each!</td>\n",
       "      <td>Error(html)</td>\n",
       "      <td>1</td>\n",
       "      <td>[errorhtml]</td>\n",
       "      <td>[printer, cartridges, as, low, as, 121, each]</td>\n",
       "      <td>[errorhtml, printer, cartridges, as, low, as, ...</td>\n",
       "    </tr>\n",
       "    <tr>\n",
       "      <th>874</th>\n",
       "      <td>874</td>\n",
       "      <td>spam</td>\n",
       "      <td>\"Books@Books\"@BlackRealityPublishing.com</td>\n",
       "      <td>Free Excerpt;  Baby Makers, Loser Choosers, &amp; ...</td>\n",
       "      <td>Error(html)</td>\n",
       "      <td>1</td>\n",
       "      <td>[errorhtml]</td>\n",
       "      <td>[free, excerpt, baby, makers, loser, choosers,...</td>\n",
       "      <td>[errorhtml, free, excerpt, baby, makers, loser...</td>\n",
       "    </tr>\n",
       "    <tr>\n",
       "      <th>905</th>\n",
       "      <td>905</td>\n",
       "      <td>spam</td>\n",
       "      <td>eb@via.ecp.fr</td>\n",
       "      <td>Over $100,000 Per Year Possible On The Net!  N...</td>\n",
       "      <td>Error(html)</td>\n",
       "      <td>1</td>\n",
       "      <td>[errorhtml]</td>\n",
       "      <td>[over, 100000, per, year, possible, on, the, n...</td>\n",
       "      <td>[errorhtml, over, 100000, per, year, possible,...</td>\n",
       "    </tr>\n",
       "    <tr>\n",
       "      <th>918</th>\n",
       "      <td>918</td>\n",
       "      <td>spam</td>\n",
       "      <td>\"Books@Books\"@BlackRealityPublishing.com</td>\n",
       "      <td>Free Excerpt;  Baby Makers, Loser Choosers, &amp; ...</td>\n",
       "      <td>Error(html)</td>\n",
       "      <td>1</td>\n",
       "      <td>[errorhtml]</td>\n",
       "      <td>[free, excerpt, baby, makers, loser, choosers,...</td>\n",
       "      <td>[errorhtml, free, excerpt, baby, makers, loser...</td>\n",
       "    </tr>\n",
       "    <tr>\n",
       "      <th>949</th>\n",
       "      <td>949</td>\n",
       "      <td>spam</td>\n",
       "      <td>zzzz@netscape.net</td>\n",
       "      <td>Collect Your Money! Time:1:30:33 AM</td>\n",
       "      <td>Error(html)</td>\n",
       "      <td>1</td>\n",
       "      <td>[errorhtml]</td>\n",
       "      <td>[collect, your, money, time13033, am]</td>\n",
       "      <td>[errorhtml, collect, your, money, time13033, am]</td>\n",
       "    </tr>\n",
       "    <tr>\n",
       "      <th>1523</th>\n",
       "      <td>21</td>\n",
       "      <td>spam_2</td>\n",
       "      <td>targetemailextractor@btamail.net.cn</td>\n",
       "      <td>Direct Email Blaster, Email extractor, email d...</td>\n",
       "      <td>Error(html)</td>\n",
       "      <td>1</td>\n",
       "      <td>[errorhtml]</td>\n",
       "      <td>[direct, email, blaster, email, extractor, ema...</td>\n",
       "      <td>[errorhtml, direct, email, blaster, email, ext...</td>\n",
       "    </tr>\n",
       "    <tr>\n",
       "      <th>1524</th>\n",
       "      <td>22</td>\n",
       "      <td>spam_2</td>\n",
       "      <td>iqsoftware@export2000.ro</td>\n",
       "      <td>[Avfs] Romanian Software Production &amp; Export</td>\n",
       "      <td>Error(html)</td>\n",
       "      <td>1</td>\n",
       "      <td>[errorhtml]</td>\n",
       "      <td>[avfs, romanian, software, production, , export]</td>\n",
       "      <td>[errorhtml, avfs, romanian, software, producti...</td>\n",
       "    </tr>\n",
       "    <tr>\n",
       "      <th>1702</th>\n",
       "      <td>200</td>\n",
       "      <td>spam_2</td>\n",
       "      <td>Mary &lt;jane0l215@excite.com&gt;</td>\n",
       "      <td>Major Stock Play</td>\n",
       "      <td>Error(html)</td>\n",
       "      <td>1</td>\n",
       "      <td>[errorhtml]</td>\n",
       "      <td>[major, stock, play]</td>\n",
       "      <td>[errorhtml, major, stock, play]</td>\n",
       "    </tr>\n",
       "    <tr>\n",
       "      <th>1773</th>\n",
       "      <td>271</td>\n",
       "      <td>spam_2</td>\n",
       "      <td>lmrn@mailexcite.com</td>\n",
       "      <td>Real Protection, Stun Guns!  Free Shipping! Ti...</td>\n",
       "      <td>Error(html)</td>\n",
       "      <td>1</td>\n",
       "      <td>[errorhtml]</td>\n",
       "      <td>[real, protection, stun, guns, free, shipping,...</td>\n",
       "      <td>[errorhtml, real, protection, stun, guns, free...</td>\n",
       "    </tr>\n",
       "    <tr>\n",
       "      <th>1780</th>\n",
       "      <td>278</td>\n",
       "      <td>spam_2</td>\n",
       "      <td>ankara@dunyagazetesi.com.tr</td>\n",
       "      <td>Kime Oy Vereceksiniz ?</td>\n",
       "      <td>Error(html)</td>\n",
       "      <td>1</td>\n",
       "      <td>[errorhtml]</td>\n",
       "      <td>[kime, oy, vereceksiniz, ]</td>\n",
       "      <td>[errorhtml, kime, oy, vereceksiniz, ]</td>\n",
       "    </tr>\n",
       "    <tr>\n",
       "      <th>1960</th>\n",
       "      <td>458</td>\n",
       "      <td>spam_2</td>\n",
       "      <td>Prosextra@optinunlimited.com</td>\n",
       "      <td>FREE ALL NATURAL SEXUAL STIMULANT!</td>\n",
       "      <td>Error(html)</td>\n",
       "      <td>1</td>\n",
       "      <td>[errorhtml]</td>\n",
       "      <td>[free, all, natural, sexual, stimulant]</td>\n",
       "      <td>[errorhtml, free, all, natural, sexual, stimul...</td>\n",
       "    </tr>\n",
       "    <tr>\n",
       "      <th>1978</th>\n",
       "      <td>476</td>\n",
       "      <td>spam_2</td>\n",
       "      <td>easytest8341@email.com</td>\n",
       "      <td>Your $1365 Welcome Bonus is waiting for You!!</td>\n",
       "      <td>Error(html)</td>\n",
       "      <td>1</td>\n",
       "      <td>[errorhtml]</td>\n",
       "      <td>[your, 1365, welcome, bonus, is, waiting, for,...</td>\n",
       "      <td>[errorhtml, your, 1365, welcome, bonus, is, wa...</td>\n",
       "    </tr>\n",
       "    <tr>\n",
       "      <th>2034</th>\n",
       "      <td>532</td>\n",
       "      <td>spam_2</td>\n",
       "      <td>targetemailextractor@btamail.net.cn</td>\n",
       "      <td>Direct Email Blaster, Email extractor, email d...</td>\n",
       "      <td>Error(html)</td>\n",
       "      <td>1</td>\n",
       "      <td>[errorhtml]</td>\n",
       "      <td>[direct, email, blaster, email, extractor, ema...</td>\n",
       "      <td>[errorhtml, direct, email, blaster, email, ext...</td>\n",
       "    </tr>\n",
       "    <tr>\n",
       "      <th>2085</th>\n",
       "      <td>583</td>\n",
       "      <td>spam_2</td>\n",
       "      <td>WEBMASTER@TAIONE.ORG</td>\n",
       "      <td>Re: Your Order</td>\n",
       "      <td>Error(html)</td>\n",
       "      <td>1</td>\n",
       "      <td>[errorhtml]</td>\n",
       "      <td>[re, your, order]</td>\n",
       "      <td>[errorhtml, re, your, order]</td>\n",
       "    </tr>\n",
       "    <tr>\n",
       "      <th>2091</th>\n",
       "      <td>589</td>\n",
       "      <td>spam_2</td>\n",
       "      <td>Polaroid@optinat.com</td>\n",
       "      <td>Polariod Digital Cameras Only $39.95</td>\n",
       "      <td>Error(html)</td>\n",
       "      <td>1</td>\n",
       "      <td>[errorhtml]</td>\n",
       "      <td>[polariod, digital, cameras, only, 3995]</td>\n",
       "      <td>[errorhtml, polariod, digital, cameras, only, ...</td>\n",
       "    </tr>\n",
       "    <tr>\n",
       "      <th>2146</th>\n",
       "      <td>644</td>\n",
       "      <td>spam_2</td>\n",
       "      <td>JohnRobertson@terra.es</td>\n",
       "      <td>Get Debts Off Your Back    -      Time:5:38:50 AM</td>\n",
       "      <td>Error(html)</td>\n",
       "      <td>1</td>\n",
       "      <td>[errorhtml]</td>\n",
       "      <td>[get, debts, off, your, back, , time53850, am]</td>\n",
       "      <td>[errorhtml, get, debts, off, your, back, , tim...</td>\n",
       "    </tr>\n",
       "    <tr>\n",
       "      <th>2404</th>\n",
       "      <td>902</td>\n",
       "      <td>spam_2</td>\n",
       "      <td>Central_Bank6@centralbank.com</td>\n",
       "      <td>Notification for Payment Received!</td>\n",
       "      <td>Error(html)</td>\n",
       "      <td>1</td>\n",
       "      <td>[errorhtml]</td>\n",
       "      <td>[notification, for, payment, received]</td>\n",
       "      <td>[errorhtml, notification, for, payment, received]</td>\n",
       "    </tr>\n",
       "    <tr>\n",
       "      <th>2408</th>\n",
       "      <td>906</td>\n",
       "      <td>spam_2</td>\n",
       "      <td>yyyy@pluriproj.pt</td>\n",
       "      <td>Never Repay Cash Grants, $500 - $50,000, Secre...</td>\n",
       "      <td>Error(html)</td>\n",
       "      <td>1</td>\n",
       "      <td>[errorhtml]</td>\n",
       "      <td>[never, repay, cash, grants, 500, , 50000, sec...</td>\n",
       "      <td>[errorhtml, never, repay, cash, grants, 500, ,...</td>\n",
       "    </tr>\n",
       "    <tr>\n",
       "      <th>2520</th>\n",
       "      <td>1018</td>\n",
       "      <td>spam_2</td>\n",
       "      <td>3b3fke@ms10.hinet.net</td>\n",
       "      <td>�٦b��20%���H�Υd�`����??? Time:PM 05:36:34</td>\n",
       "      <td>Error(html)</td>\n",
       "      <td>1</td>\n",
       "      <td>[errorhtml]</td>\n",
       "      <td>[b20hd, timepm, 053634]</td>\n",
       "      <td>[errorhtml, b20hd, timepm, 053634]</td>\n",
       "    </tr>\n",
       "    <tr>\n",
       "      <th>2543</th>\n",
       "      <td>1041</td>\n",
       "      <td>spam_2</td>\n",
       "      <td>\"Com-Pro Systems, Inc.\" &lt;emarketing@comprosys....</td>\n",
       "      <td>Get Your Own Great-Looking Website</td>\n",
       "      <td>Error(html)</td>\n",
       "      <td>1</td>\n",
       "      <td>[errorhtml]</td>\n",
       "      <td>[get, your, own, greatlooking, website]</td>\n",
       "      <td>[errorhtml, get, your, own, greatlooking, webs...</td>\n",
       "    </tr>\n",
       "    <tr>\n",
       "      <th>2558</th>\n",
       "      <td>1056</td>\n",
       "      <td>spam_2</td>\n",
       "      <td>WEBMASTER@theperfumebox.ie</td>\n",
       "      <td>Re: Account Information</td>\n",
       "      <td>Error(html)</td>\n",
       "      <td>1</td>\n",
       "      <td>[errorhtml]</td>\n",
       "      <td>[re, account, information]</td>\n",
       "      <td>[errorhtml, re, account, information]</td>\n",
       "    </tr>\n",
       "    <tr>\n",
       "      <th>2567</th>\n",
       "      <td>1065</td>\n",
       "      <td>spam_2</td>\n",
       "      <td>POWERMAN10MILLION@hotmail.com</td>\n",
       "      <td>10 million fresh email addresses sent to you o...</td>\n",
       "      <td>Error(html)</td>\n",
       "      <td>1</td>\n",
       "      <td>[errorhtml]</td>\n",
       "      <td>[10, million, fresh, email, addresses, sent, t...</td>\n",
       "      <td>[errorhtml, 10, million, fresh, email, address...</td>\n",
       "    </tr>\n",
       "    <tr>\n",
       "      <th>2587</th>\n",
       "      <td>1085</td>\n",
       "      <td>spam_2</td>\n",
       "      <td>webmaster@efi.joensuu.fi</td>\n",
       "      <td>Collect Your Money! Time:12:13:18 AM</td>\n",
       "      <td>Error(html)</td>\n",
       "      <td>1</td>\n",
       "      <td>[errorhtml]</td>\n",
       "      <td>[collect, your, money, time121318, am]</td>\n",
       "      <td>[errorhtml, collect, your, money, time121318, am]</td>\n",
       "    </tr>\n",
       "    <tr>\n",
       "      <th>2647</th>\n",
       "      <td>1145</td>\n",
       "      <td>spam_2</td>\n",
       "      <td>Mary &lt;jane0l215@excite.com&gt;</td>\n",
       "      <td>Major Stock Play</td>\n",
       "      <td>Error(html)</td>\n",
       "      <td>1</td>\n",
       "      <td>[errorhtml]</td>\n",
       "      <td>[major, stock, play]</td>\n",
       "      <td>[errorhtml, major, stock, play]</td>\n",
       "    </tr>\n",
       "    <tr>\n",
       "      <th>2688</th>\n",
       "      <td>1186</td>\n",
       "      <td>spam_2</td>\n",
       "      <td>merchantsworld2001@juno.com</td>\n",
       "      <td>New Improved Weight Loss, Now With Bonus Fat A...</td>\n",
       "      <td>Error(html)</td>\n",
       "      <td>1</td>\n",
       "      <td>[errorhtml]</td>\n",
       "      <td>[new, improved, weight, loss, now, with, bonus...</td>\n",
       "      <td>[errorhtml, new, improved, weight, loss, now, ...</td>\n",
       "    </tr>\n",
       "    <tr>\n",
       "      <th>2698</th>\n",
       "      <td>1196</td>\n",
       "      <td>spam_2</td>\n",
       "      <td>jordan23@mailexcite.com</td>\n",
       "      <td>New Improved Fat Burners, Now With TV Fat Abso...</td>\n",
       "      <td>Error(html)</td>\n",
       "      <td>1</td>\n",
       "      <td>[errorhtml]</td>\n",
       "      <td>[new, improved, fat, burners, now, with, tv, f...</td>\n",
       "      <td>[errorhtml, new, improved, fat, burners, now, ...</td>\n",
       "    </tr>\n",
       "    <tr>\n",
       "      <th>2712</th>\n",
       "      <td>1210</td>\n",
       "      <td>spam_2</td>\n",
       "      <td>WEBMASTER@J-MEDICAL.ORG</td>\n",
       "      <td>Re: Account Information</td>\n",
       "      <td>Error(html)</td>\n",
       "      <td>1</td>\n",
       "      <td>[errorhtml]</td>\n",
       "      <td>[re, account, information]</td>\n",
       "      <td>[errorhtml, re, account, information]</td>\n",
       "    </tr>\n",
       "    <tr>\n",
       "      <th>2730</th>\n",
       "      <td>1228</td>\n",
       "      <td>spam_2</td>\n",
       "      <td>Matthew_Morrow@optinunlimited.com</td>\n",
       "      <td>About Your Commissions...</td>\n",
       "      <td>Error(html)</td>\n",
       "      <td>1</td>\n",
       "      <td>[errorhtml]</td>\n",
       "      <td>[about, your, commissions]</td>\n",
       "      <td>[errorhtml, about, your, commissions]</td>\n",
       "    </tr>\n",
       "    <tr>\n",
       "      <th>2738</th>\n",
       "      <td>1236</td>\n",
       "      <td>spam_2</td>\n",
       "      <td>rose_xu@email.com</td>\n",
       "      <td>ADV:Harvest lots of Target Email address quickly</td>\n",
       "      <td>Error(html)</td>\n",
       "      <td>1</td>\n",
       "      <td>[errorhtml]</td>\n",
       "      <td>[advharvest, lots, of, target, email, address,...</td>\n",
       "      <td>[errorhtml, advharvest, lots, of, target, emai...</td>\n",
       "    </tr>\n",
       "    <tr>\n",
       "      <th>2830</th>\n",
       "      <td>1328</td>\n",
       "      <td>spam_2</td>\n",
       "      <td>amknight@mailexcite.com</td>\n",
       "      <td>New Improved Fat Burners, Now With TV Fat Abso...</td>\n",
       "      <td>Error(html)</td>\n",
       "      <td>1</td>\n",
       "      <td>[errorhtml]</td>\n",
       "      <td>[new, improved, fat, burners, now, with, tv, f...</td>\n",
       "      <td>[errorhtml, new, improved, fat, burners, now, ...</td>\n",
       "    </tr>\n",
       "  </tbody>\n",
       "</table>\n",
       "</div>"
      ],
      "text/plain": [
       "      folder_idx  folder                                               from  \\\n",
       "460          460    spam  Affordable Computer Supply <InkjetDeals@acsmsu...   \n",
       "522          522    spam                                  zzzz@netscape.net   \n",
       "549          549    spam                                      eb@via.ecp.fr   \n",
       "793          793    spam  Affordable Computer Supply <InkjetDeals@acsmsu...   \n",
       "874          874    spam           \"Books@Books\"@BlackRealityPublishing.com   \n",
       "905          905    spam                                      eb@via.ecp.fr   \n",
       "918          918    spam           \"Books@Books\"@BlackRealityPublishing.com   \n",
       "949          949    spam                                  zzzz@netscape.net   \n",
       "1523          21  spam_2                targetemailextractor@btamail.net.cn   \n",
       "1524          22  spam_2                           iqsoftware@export2000.ro   \n",
       "1702         200  spam_2                        Mary <jane0l215@excite.com>   \n",
       "1773         271  spam_2                                lmrn@mailexcite.com   \n",
       "1780         278  spam_2                        ankara@dunyagazetesi.com.tr   \n",
       "1960         458  spam_2                       Prosextra@optinunlimited.com   \n",
       "1978         476  spam_2                             easytest8341@email.com   \n",
       "2034         532  spam_2                targetemailextractor@btamail.net.cn   \n",
       "2085         583  spam_2                               WEBMASTER@TAIONE.ORG   \n",
       "2091         589  spam_2                               Polaroid@optinat.com   \n",
       "2146         644  spam_2                             JohnRobertson@terra.es   \n",
       "2404         902  spam_2                      Central_Bank6@centralbank.com   \n",
       "2408         906  spam_2                                  yyyy@pluriproj.pt   \n",
       "2520        1018  spam_2                              3b3fke@ms10.hinet.net   \n",
       "2543        1041  spam_2  \"Com-Pro Systems, Inc.\" <emarketing@comprosys....   \n",
       "2558        1056  spam_2                         WEBMASTER@theperfumebox.ie   \n",
       "2567        1065  spam_2                      POWERMAN10MILLION@hotmail.com   \n",
       "2587        1085  spam_2                           webmaster@efi.joensuu.fi   \n",
       "2647        1145  spam_2                        Mary <jane0l215@excite.com>   \n",
       "2688        1186  spam_2                        merchantsworld2001@juno.com   \n",
       "2698        1196  spam_2                            jordan23@mailexcite.com   \n",
       "2712        1210  spam_2                            WEBMASTER@J-MEDICAL.ORG   \n",
       "2730        1228  spam_2                  Matthew_Morrow@optinunlimited.com   \n",
       "2738        1236  spam_2                                  rose_xu@email.com   \n",
       "2830        1328  spam_2                            amknight@mailexcite.com   \n",
       "\n",
       "                                                subject         body  spam  \\\n",
       "460            Printer Cartridges as low as $1.21 each!  Error(html)     1   \n",
       "522                 Collect Your Money! Time:1:30:33 AM  Error(html)     1   \n",
       "549   Over $100,000 Per Year Possible On The Net!  N...  Error(html)     1   \n",
       "793            Printer Cartridges as low as $1.21 each!  Error(html)     1   \n",
       "874   Free Excerpt;  Baby Makers, Loser Choosers, & ...  Error(html)     1   \n",
       "905   Over $100,000 Per Year Possible On The Net!  N...  Error(html)     1   \n",
       "918   Free Excerpt;  Baby Makers, Loser Choosers, & ...  Error(html)     1   \n",
       "949                 Collect Your Money! Time:1:30:33 AM  Error(html)     1   \n",
       "1523  Direct Email Blaster, Email extractor, email d...  Error(html)     1   \n",
       "1524       [Avfs] Romanian Software Production & Export  Error(html)     1   \n",
       "1702                                   Major Stock Play  Error(html)     1   \n",
       "1773  Real Protection, Stun Guns!  Free Shipping! Ti...  Error(html)     1   \n",
       "1780                             Kime Oy Vereceksiniz ?  Error(html)     1   \n",
       "1960                 FREE ALL NATURAL SEXUAL STIMULANT!  Error(html)     1   \n",
       "1978     Your $1365 Welcome Bonus is waiting for You!!   Error(html)     1   \n",
       "2034  Direct Email Blaster, Email extractor, email d...  Error(html)     1   \n",
       "2085                                     Re: Your Order  Error(html)     1   \n",
       "2091               Polariod Digital Cameras Only $39.95  Error(html)     1   \n",
       "2146  Get Debts Off Your Back    -      Time:5:38:50 AM  Error(html)     1   \n",
       "2404                 Notification for Payment Received!  Error(html)     1   \n",
       "2408  Never Repay Cash Grants, $500 - $50,000, Secre...  Error(html)     1   \n",
       "2520          �٦b��20%���H�Υd�`����??? Time:PM 05:36:34  Error(html)     1   \n",
       "2543                 Get Your Own Great-Looking Website  Error(html)     1   \n",
       "2558                            Re: Account Information  Error(html)     1   \n",
       "2567  10 million fresh email addresses sent to you o...  Error(html)     1   \n",
       "2587               Collect Your Money! Time:12:13:18 AM  Error(html)     1   \n",
       "2647                                   Major Stock Play  Error(html)     1   \n",
       "2688  New Improved Weight Loss, Now With Bonus Fat A...  Error(html)     1   \n",
       "2698  New Improved Fat Burners, Now With TV Fat Abso...  Error(html)     1   \n",
       "2712                            Re: Account Information  Error(html)     1   \n",
       "2730                          About Your Commissions...  Error(html)     1   \n",
       "2738   ADV:Harvest lots of Target Email address quickly  Error(html)     1   \n",
       "2830  New Improved Fat Burners, Now With TV Fat Abso...  Error(html)     1   \n",
       "\n",
       "       clean_body                                      clean_subject  \\\n",
       "460   [errorhtml]      [printer, cartridges, as, low, as, 121, each]   \n",
       "522   [errorhtml]              [collect, your, money, time13033, am]   \n",
       "549   [errorhtml]  [over, 100000, per, year, possible, on, the, n...   \n",
       "793   [errorhtml]      [printer, cartridges, as, low, as, 121, each]   \n",
       "874   [errorhtml]  [free, excerpt, baby, makers, loser, choosers,...   \n",
       "905   [errorhtml]  [over, 100000, per, year, possible, on, the, n...   \n",
       "918   [errorhtml]  [free, excerpt, baby, makers, loser, choosers,...   \n",
       "949   [errorhtml]              [collect, your, money, time13033, am]   \n",
       "1523  [errorhtml]  [direct, email, blaster, email, extractor, ema...   \n",
       "1524  [errorhtml]   [avfs, romanian, software, production, , export]   \n",
       "1702  [errorhtml]                               [major, stock, play]   \n",
       "1773  [errorhtml]  [real, protection, stun, guns, free, shipping,...   \n",
       "1780  [errorhtml]                         [kime, oy, vereceksiniz, ]   \n",
       "1960  [errorhtml]            [free, all, natural, sexual, stimulant]   \n",
       "1978  [errorhtml]  [your, 1365, welcome, bonus, is, waiting, for,...   \n",
       "2034  [errorhtml]  [direct, email, blaster, email, extractor, ema...   \n",
       "2085  [errorhtml]                                  [re, your, order]   \n",
       "2091  [errorhtml]           [polariod, digital, cameras, only, 3995]   \n",
       "2146  [errorhtml]     [get, debts, off, your, back, , time53850, am]   \n",
       "2404  [errorhtml]             [notification, for, payment, received]   \n",
       "2408  [errorhtml]  [never, repay, cash, grants, 500, , 50000, sec...   \n",
       "2520  [errorhtml]                            [b20hd, timepm, 053634]   \n",
       "2543  [errorhtml]            [get, your, own, greatlooking, website]   \n",
       "2558  [errorhtml]                         [re, account, information]   \n",
       "2567  [errorhtml]  [10, million, fresh, email, addresses, sent, t...   \n",
       "2587  [errorhtml]             [collect, your, money, time121318, am]   \n",
       "2647  [errorhtml]                               [major, stock, play]   \n",
       "2688  [errorhtml]  [new, improved, weight, loss, now, with, bonus...   \n",
       "2698  [errorhtml]  [new, improved, fat, burners, now, with, tv, f...   \n",
       "2712  [errorhtml]                         [re, account, information]   \n",
       "2730  [errorhtml]                         [about, your, commissions]   \n",
       "2738  [errorhtml]  [advharvest, lots, of, target, email, address,...   \n",
       "2830  [errorhtml]  [new, improved, fat, burners, now, with, tv, f...   \n",
       "\n",
       "                                                 joined  \n",
       "460   [errorhtml, printer, cartridges, as, low, as, ...  \n",
       "522    [errorhtml, collect, your, money, time13033, am]  \n",
       "549   [errorhtml, over, 100000, per, year, possible,...  \n",
       "793   [errorhtml, printer, cartridges, as, low, as, ...  \n",
       "874   [errorhtml, free, excerpt, baby, makers, loser...  \n",
       "905   [errorhtml, over, 100000, per, year, possible,...  \n",
       "918   [errorhtml, free, excerpt, baby, makers, loser...  \n",
       "949    [errorhtml, collect, your, money, time13033, am]  \n",
       "1523  [errorhtml, direct, email, blaster, email, ext...  \n",
       "1524  [errorhtml, avfs, romanian, software, producti...  \n",
       "1702                    [errorhtml, major, stock, play]  \n",
       "1773  [errorhtml, real, protection, stun, guns, free...  \n",
       "1780              [errorhtml, kime, oy, vereceksiniz, ]  \n",
       "1960  [errorhtml, free, all, natural, sexual, stimul...  \n",
       "1978  [errorhtml, your, 1365, welcome, bonus, is, wa...  \n",
       "2034  [errorhtml, direct, email, blaster, email, ext...  \n",
       "2085                       [errorhtml, re, your, order]  \n",
       "2091  [errorhtml, polariod, digital, cameras, only, ...  \n",
       "2146  [errorhtml, get, debts, off, your, back, , tim...  \n",
       "2404  [errorhtml, notification, for, payment, received]  \n",
       "2408  [errorhtml, never, repay, cash, grants, 500, ,...  \n",
       "2520                 [errorhtml, b20hd, timepm, 053634]  \n",
       "2543  [errorhtml, get, your, own, greatlooking, webs...  \n",
       "2558              [errorhtml, re, account, information]  \n",
       "2567  [errorhtml, 10, million, fresh, email, address...  \n",
       "2587  [errorhtml, collect, your, money, time121318, am]  \n",
       "2647                    [errorhtml, major, stock, play]  \n",
       "2688  [errorhtml, new, improved, weight, loss, now, ...  \n",
       "2698  [errorhtml, new, improved, fat, burners, now, ...  \n",
       "2712              [errorhtml, re, account, information]  \n",
       "2730              [errorhtml, about, your, commissions]  \n",
       "2738  [errorhtml, advharvest, lots, of, target, emai...  \n",
       "2830  [errorhtml, new, improved, fat, burners, now, ...  "
      ]
     },
     "execution_count": 23,
     "metadata": {},
     "output_type": "execute_result"
    }
   ],
   "source": [
    "# Rows where body couldn't be read in = 'Error(html)'\n",
    "df.loc[df['body']=='Error(html)']\n",
    "\n",
    "# All spam emails"
   ]
  },
  {
   "cell_type": "code",
   "execution_count": 24,
   "metadata": {},
   "outputs": [
    {
     "data": {
      "text/plain": [
       "33"
      ]
     },
     "execution_count": 24,
     "metadata": {},
     "output_type": "execute_result"
    }
   ],
   "source": [
    "# Count of body read Errors\n",
    "df.loc[df['body']=='Error(html)'].shape[0]"
   ]
  },
  {
   "cell_type": "code",
   "execution_count": 25,
   "metadata": {},
   "outputs": [
    {
     "name": "stdout",
     "output_type": "stream",
     "text": [
      "Return-Path: <webmake-talk-admin@example.sourceforge.net>\n",
      "Delivered-To: yyyy@localhost.netnoteinc.com\n",
      "Received: from localhost (localhost [127.0.0.1])\n",
      "\tby phobos.labs.netnoteinc.com (Postfix) with ESMTP id E877243C36\n",
      "\tfor <jm@localhost>; Tue, 20 Aug 2002 06:51:13 -0400 (EDT)\n",
      "Received: from phobos [127.0.0.1]\n",
      "\tby localhost with IMAP (fetchmail-5.9.0)\n",
      "\tfor jm@localhost (single-drop); Tue, 20 Aug 2002 11:51:13 +0100 (IST)\n",
      "Received: from usw-sf-list2.sourceforge.net (usw-sf-fw2.sourceforge.net\n",
      "    [216.136.171.252]) by dogma.slashnull.org (8.11.6/8.11.6) with ESMTP id\n",
      "    g7K6a5Z27627 for <jm@jmason.org>; Tue, 20 Aug 2002 07:36:05 +0100\n",
      "Received: from usw-sf-list1-b.sourceforge.net ([10.3.1.13]\n",
      "    helo=usw-sf-list1.sourceforge.net) by usw-sf-list2.sourceforge.net with\n",
      "    esmtp (Exim 3.31-VA-mm2 #1 (Debian)) id 17h2cW-00059K-00; Mon,\n",
      "    19 Aug 2002 23:36:04 -0700\n",
      "Received: from docserver.cac.washington.edu ([140.142.32.13]) by\n",
      "    usw-sf-list1.sourceforge.net with esmtp (Cipher TLSv1:DES-CBC3-SHA:168)\n",
      "    (Exim 3.31-VA-mm2 #1 (Debian)) id 17h2cK-0006Px-00 for\n",
      "    <webmake-talk@lists.sourceforge.net>; Mon, 19 Aug 2002 23:35:52 -0700\n",
      "Received: (from daemon@localhost) by docserver.cac.washington.edu\n",
      "    (8.12.1+UW01.12/8.12.1+UW02.06) id g7K6KgNN014582 for webmake-talk\n",
      "    <webmake-talk@lists.sourceforge.net>; Mon, 19 Aug 2002 23:20:42 -0700\n",
      "Message-Id: <200208200620.g7K6KgNN014582@docserver.cac.washington.edu>\n",
      "To: webmake-talk <webmake-talk@example.sourceforge.net>\n",
      "From: UW Email Robot <pine-robot@docserver.cac.washington.edu>\n",
      "Subject: [WM] The MIME information you requested (last changed 3154 Feb 14)\n",
      "Sender: webmake-talk-admin@example.sourceforge.net\n",
      "Errors-To: webmake-talk-admin@example.sourceforge.net\n",
      "X-Beenthere: webmake-talk@example.sourceforge.net\n",
      "X-Mailman-Version: 2.0.9-sf.net\n",
      "Precedence: bulk\n",
      "List-Help: <mailto:webmake-talk-request@example.sourceforge.net?subject=help>\n",
      "List-Post: <mailto:webmake-talk@example.sourceforge.net>\n",
      "List-Subscribe: <https://example.sourceforge.net/lists/listinfo/webmake-talk>,\n",
      "    <mailto:webmake-talk-request@lists.sourceforge.net?subject=subscribe>\n",
      "List-Id: Discussion of WebMake. <webmake-talk.example.sourceforge.net>\n",
      "List-Unsubscribe:\n",
      " <https://example.sourceforge.net/lists/listinfo/webmake-talk>,   \n",
      " <mailto:webmake-talk-request@lists.sourceforge.net?subject=unsubscribe>\n",
      "List-Archive: <http://www.geocrawler.com/redir-sf.php3?list=webmake-talk>\n",
      "X-Original-Date: Mon, 19 Aug 2002 23:20:42 -0700\n",
      "Date: Mon, 19 Aug 2002 23:20:42 -0700\n",
      "\n",
      "--------------------------------------------------------------------------\n",
      "\n",
      "What is MIME?\n",
      "\n",
      "MIME stands for \"Multipurpose Internet Mail Extensions\".  It is the\n",
      "standard for how to send multipart, multimedia, and binary data using the\n",
      "world-wide Internet email system.  Typical uses of MIME include sending\n",
      "images, audio, wordprocessing documents, programs, or even plain text\n",
      "files when it is important that the mail system does not modify any part\n",
      "of the file.  MIME also allows for labelling message parts so that a\n",
      "recipient (or mail program) may determine what to do with them. \n",
      "\n",
      "How can I read a MIME message?\n",
      "\n",
      "Since MIME is only a few years old, there are still some mailers in use\n",
      "which do not understand MIME messages.  However, there are a growing\n",
      "number of mail programs that have MIME support built-in.  (One popular\n",
      "MIME-capable mailer for Unix, VMS and PCs is Pine, developed at the\n",
      "University of Washington and available via anonymous FTP from the host\n",
      "ftp.cac.washington.edu in the file /pine/pine.tar.Z)\n",
      "\n",
      "In addition, several proprietary email systems provide MIME translation\n",
      "capability in their Internet gateway products.  However, even if you do\n",
      "not have access to a MIME-capable mailer or suitable gateway, there is\n",
      "still hope! \n",
      "\n",
      "There are a number of stand-alone programs that can interpret a MIME\n",
      "message.  One of the more versatile is called \"munpack\".  It was developed\n",
      "at Carnegie Mellon University and is available via anonymous FTP from the\n",
      "host ftp.andrew.cmu.edu in the directory pub/mpack/.  There are versions\n",
      "available for Unix, PC, Mac and Amiga systems.  For compabibility with\n",
      "older forms of transferring binary files, the munpack program can also\n",
      "decode messages in split-uuencoded format. \n",
      "\n",
      "Does MIME replace UUENCODE?\n",
      "\n",
      "Yes.  UUENCODE has been used for some time for encoding binary files so\n",
      "that they can be sent via Internet mail, but it has several technical\n",
      "limitations and interoperability problems.  MIME uses a more robust\n",
      "encoding called \"Base64\" which has been carefully designed to survive the\n",
      "message transformations made by certain email gateways. \n",
      "\n",
      "How can I learn more about MIME?\n",
      "\n",
      "The MIME Internet standard is described in RFC-1521, available via\n",
      "anonymous FTP from many different Internet hosts, including: \n",
      "                                                       \n",
      "     o  US East Coast                            \n",
      "        Address:  ds.internic.net (198.49.45.10)        \n",
      "                                                        \n",
      "     o  US West Coast                            \n",
      "        Address:  ftp.isi.edu (128.9.0.32)      \n",
      "                                                        \n",
      "     o  Pacific Rim                              \n",
      "        Address:  munnari.oz.au (128.250.1.21)  \n",
      "                                                        \n",
      "     o  Europe                                   \n",
      "        Address:  nic.nordu.net (192.36.148.17) \n",
      "\n",
      "Look for the file /rfc/rfc1521.txt\n",
      "\n",
      "Another source of information is the Internet news group \"comp.mail.mime\",\n",
      "which includes a periodic posting of a \"Frequently Asked Questions\" list.\n",
      "\n",
      "--------------------------------------------------------------------------\n",
      "\n",
      "\n",
      "-------------------------------------------------------\n",
      "This sf.net email is sponsored by: OSDN - Tired of that same old\n",
      "cell phone?  Get a new here for FREE!\n",
      "https://www.inphonic.com/r.asp?r=sourceforge1&refcode1=vs3390\n",
      "_______________________________________________\n",
      "webmake-talk mailing list\n",
      "webmake-talk@lists.sourceforge.net\n",
      "https://lists.sourceforge.net/lists/listinfo/webmake-talk\n",
      "\n",
      "\n"
     ]
    }
   ],
   "source": [
    "# Look at file example with Error(html)\n",
    "with open(files[4][1], 'rb') as fp:\n",
    "    msg = BytesParser(policy=policy.default).parse(fp)\n",
    "print(msg)"
   ]
  },
  {
   "cell_type": "code",
   "execution_count": null,
   "metadata": {},
   "outputs": [],
   "source": [
    "df.isna().sum()"
   ]
  },
  {
   "cell_type": "code",
   "execution_count": null,
   "metadata": {},
   "outputs": [],
   "source": [
    "# Replace NaN and None values with 'No Subject'\n",
    "df.loc[ df['subject'].isna(), 'subject'] = 'No Subject'\n",
    "df.loc[ df['subject']=='', 'subject'] = 'No Subject'"
   ]
  },
  {
   "cell_type": "markdown",
   "metadata": {
    "id": "21Kdalsl8g_I"
   },
   "source": [
    "## Feature Removal <a id='feature-removal'>"
   ]
  },
  {
   "cell_type": "markdown",
   "metadata": {
    "id": "786e5_En8g_J"
   },
   "source": []
  },
  {
   "cell_type": "code",
   "execution_count": null,
   "metadata": {
    "id": "nbvlZHwG8g_J"
   },
   "outputs": [],
   "source": []
  },
  {
   "cell_type": "markdown",
   "metadata": {
    "id": "CbAmkozvN5Dz"
   },
   "source": [
    "## Exploratory Data Analysis (EDA) <a id='eda'>"
   ]
  },
  {
   "cell_type": "code",
   "execution_count": 26,
   "metadata": {},
   "outputs": [
    {
     "data": {
      "text/plain": [
       "0    6954\n",
       "1    2399\n",
       "Name: spam, dtype: int64"
      ]
     },
     "execution_count": 26,
     "metadata": {},
     "output_type": "execute_result"
    }
   ],
   "source": [
    "df['spam'].value_counts()"
   ]
  },
  {
   "cell_type": "markdown",
   "metadata": {
    "id": "ChoPhHdx8g_M"
   },
   "source": [
    "### Clustering\n",
    "- Use DBSCAN with cosine distance for NLP.  \n",
    "- Try to get approx. 5 clusters to dissect and explain\n",
    "- Look for descriptors for the clusters, like business vs. personal emails, IT emails, etc."
   ]
  },
  {
   "cell_type": "code",
   "execution_count": 29,
   "metadata": {},
   "outputs": [],
   "source": [
    "def dummy_fun(doc):\n",
    "    return doc\n",
    "vectorizer = TfidfVectorizer(analyzer='word', tokenizer=dummy_fun, preprocessor=dummy_fun, token_pattern=None, stop_words='english', strip_accents='unicode', lowercase=True)"
   ]
  },
  {
   "cell_type": "code",
   "execution_count": 30,
   "metadata": {},
   "outputs": [
    {
     "name": "stderr",
     "output_type": "stream",
     "text": [
      "/opt/anaconda3/lib/python3.8/site-packages/sklearn/feature_extraction/text.py:383: UserWarning: Your stop_words may be inconsistent with your preprocessing. Tokenizing the stop words generated tokens ['b', 'c', 'd', 'e', 'f', 'g', 'h', 'k', 'l', 'm', 'n', 'o', 'p', 'r', 's', 't', 'u', 'v', 'w', 'x', 'y'] not in stop_words.\n",
      "  warnings.warn('Your stop_words may be inconsistent with '\n"
     ]
    }
   ],
   "source": [
    "features_subject = vectorizer.fit_transform(df['clean_subject'])"
   ]
  },
  {
   "cell_type": "code",
   "execution_count": 34,
   "metadata": {
    "id": "EqDlP8C_N5D0",
    "outputId": "8ec90270-f4e0-4210-c59a-64c9b6deb27c"
   },
   "outputs": [
    {
     "data": {
      "text/html": [
       "<div>\n",
       "<style scoped>\n",
       "    .dataframe tbody tr th:only-of-type {\n",
       "        vertical-align: middle;\n",
       "    }\n",
       "\n",
       "    .dataframe tbody tr th {\n",
       "        vertical-align: top;\n",
       "    }\n",
       "\n",
       "    .dataframe thead th {\n",
       "        text-align: right;\n",
       "    }\n",
       "</style>\n",
       "<table border=\"1\" class=\"dataframe\">\n",
       "  <thead>\n",
       "    <tr style=\"text-align: right;\">\n",
       "      <th></th>\n",
       "      <th>min_samples</th>\n",
       "      <th>epsilon</th>\n",
       "      <th># clusters</th>\n",
       "      <th># pure clusters</th>\n",
       "      <th># pure emails</th>\n",
       "    </tr>\n",
       "  </thead>\n",
       "  <tbody>\n",
       "    <tr>\n",
       "      <th>10</th>\n",
       "      <td>125</td>\n",
       "      <td>0.70</td>\n",
       "      <td>6</td>\n",
       "      <td>4</td>\n",
       "      <td>635</td>\n",
       "    </tr>\n",
       "    <tr>\n",
       "      <th>2</th>\n",
       "      <td>75</td>\n",
       "      <td>0.70</td>\n",
       "      <td>8</td>\n",
       "      <td>5</td>\n",
       "      <td>569</td>\n",
       "    </tr>\n",
       "    <tr>\n",
       "      <th>7</th>\n",
       "      <td>100</td>\n",
       "      <td>0.75</td>\n",
       "      <td>6</td>\n",
       "      <td>3</td>\n",
       "      <td>540</td>\n",
       "    </tr>\n",
       "    <tr>\n",
       "      <th>11</th>\n",
       "      <td>125</td>\n",
       "      <td>0.75</td>\n",
       "      <td>6</td>\n",
       "      <td>3</td>\n",
       "      <td>540</td>\n",
       "    </tr>\n",
       "    <tr>\n",
       "      <th>6</th>\n",
       "      <td>100</td>\n",
       "      <td>0.70</td>\n",
       "      <td>6</td>\n",
       "      <td>3</td>\n",
       "      <td>429</td>\n",
       "    </tr>\n",
       "    <tr>\n",
       "      <th>0</th>\n",
       "      <td>75</td>\n",
       "      <td>0.60</td>\n",
       "      <td>4</td>\n",
       "      <td>3</td>\n",
       "      <td>327</td>\n",
       "    </tr>\n",
       "    <tr>\n",
       "      <th>5</th>\n",
       "      <td>100</td>\n",
       "      <td>0.65</td>\n",
       "      <td>4</td>\n",
       "      <td>2</td>\n",
       "      <td>303</td>\n",
       "    </tr>\n",
       "    <tr>\n",
       "      <th>9</th>\n",
       "      <td>125</td>\n",
       "      <td>0.65</td>\n",
       "      <td>4</td>\n",
       "      <td>2</td>\n",
       "      <td>303</td>\n",
       "    </tr>\n",
       "    <tr>\n",
       "      <th>3</th>\n",
       "      <td>75</td>\n",
       "      <td>0.75</td>\n",
       "      <td>5</td>\n",
       "      <td>2</td>\n",
       "      <td>300</td>\n",
       "    </tr>\n",
       "    <tr>\n",
       "      <th>4</th>\n",
       "      <td>100</td>\n",
       "      <td>0.60</td>\n",
       "      <td>3</td>\n",
       "      <td>2</td>\n",
       "      <td>242</td>\n",
       "    </tr>\n",
       "    <tr>\n",
       "      <th>1</th>\n",
       "      <td>75</td>\n",
       "      <td>0.65</td>\n",
       "      <td>4</td>\n",
       "      <td>2</td>\n",
       "      <td>241</td>\n",
       "    </tr>\n",
       "    <tr>\n",
       "      <th>8</th>\n",
       "      <td>125</td>\n",
       "      <td>0.60</td>\n",
       "      <td>1</td>\n",
       "      <td>1</td>\n",
       "      <td>131</td>\n",
       "    </tr>\n",
       "  </tbody>\n",
       "</table>\n",
       "</div>"
      ],
      "text/plain": [
       "    min_samples  epsilon  # clusters  # pure clusters  # pure emails\n",
       "10          125     0.70           6                4            635\n",
       "2            75     0.70           8                5            569\n",
       "7           100     0.75           6                3            540\n",
       "11          125     0.75           6                3            540\n",
       "6           100     0.70           6                3            429\n",
       "0            75     0.60           4                3            327\n",
       "5           100     0.65           4                2            303\n",
       "9           125     0.65           4                2            303\n",
       "3            75     0.75           5                2            300\n",
       "4           100     0.60           3                2            242\n",
       "1            75     0.65           4                2            241\n",
       "8           125     0.60           1                1            131"
      ]
     },
     "execution_count": 34,
     "metadata": {},
     "output_type": "execute_result"
    }
   ],
   "source": [
    "dbscan = DBSCAN(metric='cosine', min_samples=125)\n",
    "eps_clusters = []\n",
    "\n",
    "for j in range(75,126,25):\n",
    "    dbscan.min_samples = j\n",
    "    for i in range(60,76,5):\n",
    "        dbscan.eps = i/100\n",
    "        clustering = pd.Series( dbscan.fit_predict(features_subject) )\n",
    "        \n",
    "        cluster_counts = list( clustering.value_counts().sort_index() )\n",
    "        cluster_counts.pop(0) # remove -1 cluster which is a non-cluster \n",
    "        num_clusters = len(cluster_counts)\n",
    "        \n",
    "        clustering_spam = pd.concat([clustering, df['spam']], axis=1)\n",
    "        clustering_spam.columns = ['cluster', 'spam']       \n",
    "        clustering_spam_counts = pd.DataFrame( clustering_spam.value_counts() ).reset_index()\n",
    "        cluster_purity = list( ( clustering_spam_counts[['cluster']].value_counts()==1 ).sort_index() )\n",
    "        cluster_purity.pop(0) # remove -1 cluster which is a non-cluster\n",
    "        num_pure_clusters = sum(cluster_purity)\n",
    "        num_pure_emails = sum( np.multiply(cluster_counts, cluster_purity) )\n",
    "        \n",
    "        eps_clusters.append([ dbscan.min_samples, dbscan.eps, num_clusters, num_pure_clusters, num_pure_emails])\n",
    "\n",
    "clusters_df = pd.DataFrame(eps_clusters, columns = ['min_samples','epsilon', '# clusters', '# pure clusters', '# pure emails'])\n",
    "clusters_df.sort_values(by='# pure emails', ascending=False)"
   ]
  },
  {
   "cell_type": "markdown",
   "metadata": {},
   "source": [
    "## Final Clusters - Insights\n",
    "\n",
    "min_samples=100, epsilon=0.65 had 4 pure clusters that contained only 'ham' emails.  These clusters could be used to filter or pre-process emails before Naive Bayes classification.  \n",
    "\n",
    "- Cluster 0 : News & Dates\n",
    "- Cluster 1 : Pain (ouch, hurts)\n",
    "- Cluster 2 : Spambayes \n",
    "- Cluster 3 : razorusers\n",
    "- Cluster 4 : [Spambayes] & package\n",
    "\n",
    "min_samples could be decreased to 50 or less which would give more pure emails but many more clusters to explore and manage.  "
   ]
  },
  {
   "cell_type": "code",
   "execution_count": 35,
   "metadata": {},
   "outputs": [
    {
     "name": "stdout",
     "output_type": "stream",
     "text": [
      "Head & tail of each cluster:\n"
     ]
    },
    {
     "data": {
      "text/html": [
       "<div>\n",
       "<style scoped>\n",
       "    .dataframe tbody tr th:only-of-type {\n",
       "        vertical-align: middle;\n",
       "    }\n",
       "\n",
       "    .dataframe tbody tr th {\n",
       "        vertical-align: top;\n",
       "    }\n",
       "\n",
       "    .dataframe thead th {\n",
       "        text-align: right;\n",
       "    }\n",
       "</style>\n",
       "<table border=\"1\" class=\"dataframe\">\n",
       "  <thead>\n",
       "    <tr style=\"text-align: right;\">\n",
       "      <th></th>\n",
       "      <th>cluster</th>\n",
       "      <th>clean_subject</th>\n",
       "      <th>spam</th>\n",
       "    </tr>\n",
       "  </thead>\n",
       "  <tbody>\n",
       "    <tr>\n",
       "      <th>24</th>\n",
       "      <td>0</td>\n",
       "      <td>[]</td>\n",
       "      <td>1</td>\n",
       "    </tr>\n",
       "    <tr>\n",
       "      <th>41</th>\n",
       "      <td>0</td>\n",
       "      <td>[]</td>\n",
       "      <td>1</td>\n",
       "    </tr>\n",
       "    <tr>\n",
       "      <th>53</th>\n",
       "      <td>0</td>\n",
       "      <td>[]</td>\n",
       "      <td>1</td>\n",
       "    </tr>\n",
       "    <tr>\n",
       "      <th>9265</th>\n",
       "      <td>0</td>\n",
       "      <td>[re, asteroids, anyone, ]</td>\n",
       "      <td>0</td>\n",
       "    </tr>\n",
       "    <tr>\n",
       "      <th>9270</th>\n",
       "      <td>0</td>\n",
       "      <td>[re, request, ]</td>\n",
       "      <td>0</td>\n",
       "    </tr>\n",
       "    <tr>\n",
       "      <th>9324</th>\n",
       "      <td>0</td>\n",
       "      <td>[re, asteroids, anyone, ]</td>\n",
       "      <td>0</td>\n",
       "    </tr>\n",
       "    <tr>\n",
       "      <th>2909</th>\n",
       "      <td>1</td>\n",
       "      <td>[re, ouch, bebergflame]</td>\n",
       "      <td>0</td>\n",
       "    </tr>\n",
       "    <tr>\n",
       "      <th>2973</th>\n",
       "      <td>1</td>\n",
       "      <td>[selling, wedded, bliss, was, re, ouch]</td>\n",
       "      <td>0</td>\n",
       "    </tr>\n",
       "    <tr>\n",
       "      <th>3039</th>\n",
       "      <td>1</td>\n",
       "      <td>[re, selling, wedded, bliss, was, re, ouch]</td>\n",
       "      <td>0</td>\n",
       "    </tr>\n",
       "    <tr>\n",
       "      <th>9246</th>\n",
       "      <td>1</td>\n",
       "      <td>[re, ouch, ouch, ouch, ouch, ouchwas, re, my, ...</td>\n",
       "      <td>0</td>\n",
       "    </tr>\n",
       "    <tr>\n",
       "      <th>9256</th>\n",
       "      <td>1</td>\n",
       "      <td>[my, brain, hurts]</td>\n",
       "      <td>0</td>\n",
       "    </tr>\n",
       "    <tr>\n",
       "      <th>9318</th>\n",
       "      <td>1</td>\n",
       "      <td>[ouch, ouch, ouch, ouch, ouchwas, re, my, brai...</td>\n",
       "      <td>0</td>\n",
       "    </tr>\n",
       "    <tr>\n",
       "      <th>2911</th>\n",
       "      <td>2</td>\n",
       "      <td>[spambayes, all, but, one, testing]</td>\n",
       "      <td>0</td>\n",
       "    </tr>\n",
       "    <tr>\n",
       "      <th>2948</th>\n",
       "      <td>2</td>\n",
       "      <td>[spambayes, test, sets]</td>\n",
       "      <td>0</td>\n",
       "    </tr>\n",
       "    <tr>\n",
       "      <th>2980</th>\n",
       "      <td>2</td>\n",
       "      <td>[spambayes, deployment]</td>\n",
       "      <td>0</td>\n",
       "    </tr>\n",
       "    <tr>\n",
       "      <th>7865</th>\n",
       "      <td>2</td>\n",
       "      <td>[spambayes, deployment]</td>\n",
       "      <td>0</td>\n",
       "    </tr>\n",
       "    <tr>\n",
       "      <th>7916</th>\n",
       "      <td>2</td>\n",
       "      <td>[spambayes, test, sets]</td>\n",
       "      <td>0</td>\n",
       "    </tr>\n",
       "    <tr>\n",
       "      <th>7927</th>\n",
       "      <td>2</td>\n",
       "      <td>[spambayes, spambayes, package]</td>\n",
       "      <td>0</td>\n",
       "    </tr>\n",
       "    <tr>\n",
       "      <th>497</th>\n",
       "      <td>3</td>\n",
       "      <td>[spam]</td>\n",
       "      <td>1</td>\n",
       "    </tr>\n",
       "    <tr>\n",
       "      <th>1982</th>\n",
       "      <td>3</td>\n",
       "      <td>[this, is, the, final, test, of, a]</td>\n",
       "      <td>1</td>\n",
       "    </tr>\n",
       "    <tr>\n",
       "      <th>2920</th>\n",
       "      <td>3</td>\n",
       "      <td>[re, razorusers, razor, with, sendmail]</td>\n",
       "      <td>0</td>\n",
       "    </tr>\n",
       "    <tr>\n",
       "      <th>9315</th>\n",
       "      <td>3</td>\n",
       "      <td>[re, razorusers, dottk, registrations, hitting...</td>\n",
       "      <td>0</td>\n",
       "    </tr>\n",
       "    <tr>\n",
       "      <th>9344</th>\n",
       "      <td>3</td>\n",
       "      <td>[re, razorusers, re, whats, wrong, with, the, ...</td>\n",
       "      <td>0</td>\n",
       "    </tr>\n",
       "    <tr>\n",
       "      <th>9348</th>\n",
       "      <td>3</td>\n",
       "      <td>[re, razorusers, whats, wrong, with, the, razo...</td>\n",
       "      <td>0</td>\n",
       "    </tr>\n",
       "  </tbody>\n",
       "</table>\n",
       "</div>"
      ],
      "text/plain": [
       "      cluster                                      clean_subject  spam\n",
       "24          0                                                 []     1\n",
       "41          0                                                 []     1\n",
       "53          0                                                 []     1\n",
       "9265        0                          [re, asteroids, anyone, ]     0\n",
       "9270        0                                    [re, request, ]     0\n",
       "9324        0                          [re, asteroids, anyone, ]     0\n",
       "2909        1                            [re, ouch, bebergflame]     0\n",
       "2973        1            [selling, wedded, bliss, was, re, ouch]     0\n",
       "3039        1        [re, selling, wedded, bliss, was, re, ouch]     0\n",
       "9246        1  [re, ouch, ouch, ouch, ouch, ouchwas, re, my, ...     0\n",
       "9256        1                                 [my, brain, hurts]     0\n",
       "9318        1  [ouch, ouch, ouch, ouch, ouchwas, re, my, brai...     0\n",
       "2911        2                [spambayes, all, but, one, testing]     0\n",
       "2948        2                            [spambayes, test, sets]     0\n",
       "2980        2                            [spambayes, deployment]     0\n",
       "7865        2                            [spambayes, deployment]     0\n",
       "7916        2                            [spambayes, test, sets]     0\n",
       "7927        2                    [spambayes, spambayes, package]     0\n",
       "497         3                                             [spam]     1\n",
       "1982        3                [this, is, the, final, test, of, a]     1\n",
       "2920        3            [re, razorusers, razor, with, sendmail]     0\n",
       "9315        3  [re, razorusers, dottk, registrations, hitting...     0\n",
       "9344        3  [re, razorusers, re, whats, wrong, with, the, ...     0\n",
       "9348        3  [re, razorusers, whats, wrong, with, the, razo...     0"
      ]
     },
     "execution_count": 35,
     "metadata": {},
     "output_type": "execute_result"
    }
   ],
   "source": [
    "# Most clusters with the lowest spread (stdev) in cluster counts\n",
    "dbscan.min_samples = 100\n",
    "dbscan.eps = 0.65\n",
    "\n",
    "clusters = dbscan.fit_predict(features_subject)\n",
    "clusters = pd.Series(clusters)\n",
    "clusters.index = df.index\n",
    "subject_clusters = pd.concat([ clusters, df['clean_subject'], df['spam'] ], axis=1)\n",
    "subject_clusters.columns = ['cluster','clean_subject', 'spam']\n",
    "\n",
    "heads_tails = pd.DataFrame({'cluster' : [], 'clean_subject' : [], 'spam' : []}) \n",
    "for i in range( 0, max(clusters.unique())+1 ): # Exclude the -1 class which is a non-cluster\n",
    "    heads_tails = pd.concat([heads_tails, \n",
    "                             subject_clusters.loc[subject_clusters['cluster']==i].head(3),\n",
    "                             subject_clusters.loc[subject_clusters['cluster']==i].tail(3) ], axis=0)\n",
    "heads_tails[['cluster', 'spam']] = heads_tails[['cluster','spam']].astype(int)\n",
    "print('Head & tail of each cluster:')    \n",
    "heads_tails"
   ]
  },
  {
   "cell_type": "markdown",
   "metadata": {},
   "source": [
    "### 83 spam cases, all in Cluster 4.  Clusters 0-3 have no spam and can be used for filtering or pre-processing"
   ]
  },
  {
   "cell_type": "code",
   "execution_count": 36,
   "metadata": {},
   "outputs": [
    {
     "data": {
      "text/plain": [
       "0    538\n",
       "1     82\n",
       "Name: spam, dtype: int64"
      ]
     },
     "execution_count": 36,
     "metadata": {},
     "output_type": "execute_result"
    }
   ],
   "source": [
    "subject_clusters.loc[subject_clusters['cluster']!=-1,'spam'].value_counts()"
   ]
  },
  {
   "cell_type": "code",
   "execution_count": 37,
   "metadata": {},
   "outputs": [
    {
     "data": {
      "text/plain": [
       "Series([], Name: spam, dtype: int64)"
      ]
     },
     "execution_count": 37,
     "metadata": {},
     "output_type": "execute_result"
    }
   ],
   "source": [
    "subject_clusters.loc[subject_clusters['cluster']==4,'spam'].value_counts()"
   ]
  },
  {
   "cell_type": "markdown",
   "metadata": {
    "id": "VgZRFeORN5D3"
   },
   "source": [
    "### Feature Collinearity <a id='feature-collinearity'>\n"
   ]
  },
  {
   "cell_type": "code",
   "execution_count": null,
   "metadata": {
    "id": "F8bqfy9fN5D3"
   },
   "outputs": [],
   "source": []
  },
  {
   "cell_type": "markdown",
   "metadata": {
    "id": "qXZZeARjN5D3"
   },
   "source": [
    "### Feature Outliers \n",
    " "
   ]
  },
  {
   "cell_type": "code",
   "execution_count": null,
   "metadata": {
    "id": "r4Sp5SYe8g_Z"
   },
   "outputs": [],
   "source": []
  },
  {
   "cell_type": "markdown",
   "metadata": {
    "id": "z6qUPkzRN5D4"
   },
   "source": [
    "## Assumptions <a id='assumptions'>"
   ]
  },
  {
   "cell_type": "markdown",
   "metadata": {
    "id": "SaEb4apWN5D4"
   },
   "source": []
  },
  {
   "cell_type": "markdown",
   "metadata": {
    "id": "zmuI_mep8g_b"
   },
   "source": [
    "# Model Preparations <a id='model-preparations'/>"
   ]
  },
  {
   "cell_type": "markdown",
   "metadata": {
    "id": "wxBwihRyOfZY"
   },
   "source": [
    "What methods did you use (or not) to solve the problem?\n",
    "\n",
    "Why are the methods you chose appropriate given the business objective?\n",
    "\n",
    "How did you decide your approach was useful?  If more than one method, which one was better or why are each better or not?\n",
    "\n",
    "What evaluation smetrics are most useful given the problem is a binary classification (ex. accuracy, f1-score, precision, recall AUC, etc)?\n",
    "\n"
   ]
  },
  {
   "cell_type": "markdown",
   "metadata": {
    "id": "BnCsXV_c8g_V"
   },
   "source": [
    "## Sampling & Scaling Data <a id='sampling-scaling-data' />"
   ]
  },
  {
   "cell_type": "markdown",
   "metadata": {
    "id": "cXqoLTm_8g_c"
   },
   "source": [
    "## Proposed Method <a id='proposed-metrics' />"
   ]
  },
  {
   "cell_type": "markdown",
   "metadata": {
    "id": "0lLPX93kN5D6"
   },
   "source": []
  },
  {
   "cell_type": "markdown",
   "metadata": {
    "id": "HT4eeZsX8g_c"
   },
   "source": [
    "## Evaluation Metrics <a id='evaluation-metrics' />"
   ]
  },
  {
   "cell_type": "markdown",
   "metadata": {
    "id": "hGvfqpC4N5D6"
   },
   "source": [
    " "
   ]
  },
  {
   "cell_type": "markdown",
   "metadata": {
    "id": "DeWgSmQW8g_Z"
   },
   "source": [
    "### Baseline Model"
   ]
  },
  {
   "cell_type": "markdown",
   "metadata": {
    "id": "UUpR8S0tN5D7"
   },
   "source": []
  },
  {
   "cell_type": "code",
   "execution_count": null,
   "metadata": {
    "id": "ul4ybaieN5D7"
   },
   "outputs": [],
   "source": []
  },
  {
   "cell_type": "markdown",
   "metadata": {
    "id": "rADZ1qTz8g_c"
   },
   "source": [
    "## Feature Selection <a id='feature-selection' />"
   ]
  },
  {
   "cell_type": "markdown",
   "metadata": {
    "id": "w459qqI-N5D7"
   },
   "source": [
    " "
   ]
  },
  {
   "cell_type": "code",
   "execution_count": null,
   "metadata": {
    "id": "9lfHYitKN5D7"
   },
   "outputs": [],
   "source": []
  },
  {
   "cell_type": "markdown",
   "metadata": {
    "id": "UuRjMsjg8g_d"
   },
   "source": [
    "# Model Building & Evaluations <a id='model-building'/>"
   ]
  },
  {
   "cell_type": "markdown",
   "metadata": {
    "id": "JIef6T0FPIVM"
   },
   "source": [
    "Primary task is buiding a logistic regression to predict hospital readmittances.\n",
    "\n",
    "How did you handle missing values?\n",
    "\n",
    "Specify your sampling methodology\n",
    "\n",
    "Set up your models - highlights of any important parameters\n",
    "\n",
    "Analysis of your models performance"
   ]
  },
  {
   "cell_type": "markdown",
   "metadata": {},
   "source": [
    "## Split into training and test"
   ]
  },
  {
   "cell_type": "code",
   "execution_count": 38,
   "metadata": {},
   "outputs": [],
   "source": [
    "def split_dependant_and_independant_variables(df: pd.DataFrame, y_var: str):\n",
    "    X = df.copy()\n",
    "    y = X[y_var]\n",
    "    X = X.drop([y_var], axis=1)\n",
    "    return X, y"
   ]
  },
  {
   "cell_type": "code",
   "execution_count": 39,
   "metadata": {},
   "outputs": [],
   "source": [
    "def shuffle_split(X, y, test_size, random_state):\n",
    "    stratified_shuffle_split = StratifiedShuffleSplit(n_splits=1, test_size=test_size, random_state=random_state)\n",
    "    for train_index, test_index in stratified_shuffle_split.split(X, y):\n",
    "        X_train, X_test = X.iloc[train_index], X.iloc[test_index]\n",
    "        y_train, y_test = y[train_index], y[test_index]\n",
    "    return X_train, X_test, y_train, y_test"
   ]
  },
  {
   "cell_type": "code",
   "execution_count": 40,
   "metadata": {},
   "outputs": [],
   "source": [
    "X, y = split_dependant_and_independant_variables(df, 'spam')"
   ]
  },
  {
   "cell_type": "code",
   "execution_count": 41,
   "metadata": {},
   "outputs": [],
   "source": [
    "X_train, X_test, y_train, y_test = shuffle_split(X, y, test_size=0.3, random_state=12343)"
   ]
  },
  {
   "cell_type": "markdown",
   "metadata": {},
   "source": [
    "### Base Naive Bayes"
   ]
  },
  {
   "cell_type": "markdown",
   "metadata": {},
   "source": [
    "Team drew inspriation from https://towardsdatascience.com/training-a-naive-bayes-model-to-identify-the-author-of-an-email-or-document-17dc85fa630a"
   ]
  },
  {
   "cell_type": "code",
   "execution_count": 42,
   "metadata": {},
   "outputs": [
    {
     "data": {
      "image/png": "[encoded data removed]",
      "text/plain": [
       "<Figure size 432x288 with 1 Axes>"
      ]
     },
     "metadata": {
      "needs_background": "light"
     },
     "output_type": "display_data"
    }
   ],
   "source": [
    "count_Class=pd.value_counts(df[\"spam\"], sort= True)\n",
    "count_Class.plot(kind= 'bar', color= [\"blue\", \"orange\"])\n",
    "plt.title('Bar chart')\n",
    "plt.show()"
   ]
  },
  {
   "cell_type": "code",
   "execution_count": null,
   "metadata": {},
   "outputs": [],
   "source": [
    "# def dummy_fun(doc):\n",
    "#     return doc"
   ]
  },
  {
   "cell_type": "code",
   "execution_count": null,
   "metadata": {},
   "outputs": [],
   "source": [
    "# vectorizer = TfidfVectorizer(analyzer='word', tokenizer=dummy_fun, preprocessor=dummy_fun, token_pattern=None)"
   ]
  },
  {
   "cell_type": "code",
   "execution_count": 43,
   "metadata": {},
   "outputs": [],
   "source": [
    "features_subject_train = vectorizer.fit_transform(X_train['clean_subject'])\n",
    "features_subject_test = vectorizer.transform(X_test['clean_subject'])"
   ]
  },
  {
   "cell_type": "code",
   "execution_count": 44,
   "metadata": {},
   "outputs": [
    {
     "data": {
      "text/plain": [
       "<6547x5866 sparse matrix of type '<class 'numpy.float64'>'\n",
       "\twith 26624 stored elements in Compressed Sparse Row format>"
      ]
     },
     "execution_count": 44,
     "metadata": {},
     "output_type": "execute_result"
    }
   ],
   "source": [
    "features_subject_train"
   ]
  },
  {
   "cell_type": "code",
   "execution_count": 45,
   "metadata": {},
   "outputs": [],
   "source": [
    "features_body_train = vectorizer.fit_transform(X_train['clean_body'])\n",
    "features_body_test = vectorizer.transform(X_test['clean_body'])"
   ]
  },
  {
   "cell_type": "code",
   "execution_count": 46,
   "metadata": {
    "scrolled": true
   },
   "outputs": [
    {
     "data": {
      "text/plain": [
       "<6547x77396 sparse matrix of type '<class 'numpy.float64'>'\n",
       "\twith 694569 stored elements in Compressed Sparse Row format>"
      ]
     },
     "execution_count": 46,
     "metadata": {},
     "output_type": "execute_result"
    }
   ],
   "source": [
    "features_body_train"
   ]
  },
  {
   "cell_type": "code",
   "execution_count": 47,
   "metadata": {},
   "outputs": [],
   "source": [
    "from scipy import sparse\n",
    "features_joined_train = sparse.hstack((features_subject_train, features_body_train), format='csr') \n",
    "features_joined_test = sparse.hstack((features_subject_test, features_body_test), format='csr') "
   ]
  },
  {
   "cell_type": "code",
   "execution_count": 48,
   "metadata": {},
   "outputs": [
    {
     "data": {
      "text/plain": [
       "<6547x83262 sparse matrix of type '<class 'numpy.float64'>'\n",
       "\twith 721193 stored elements in Compressed Sparse Row format>"
      ]
     },
     "execution_count": 48,
     "metadata": {},
     "output_type": "execute_result"
    }
   ],
   "source": [
    "features_joined_train"
   ]
  },
  {
   "cell_type": "markdown",
   "metadata": {},
   "source": [
    "## Feature Selection\n",
    "Only need 1% (or less) of the features to predict spam without overfitting.  This runs really fast."
   ]
  },
  {
   "cell_type": "code",
   "execution_count": 49,
   "metadata": {},
   "outputs": [],
   "source": [
    "selector = SelectPercentile(f_classif, percentile=1)"
   ]
  },
  {
   "cell_type": "code",
   "execution_count": 50,
   "metadata": {},
   "outputs": [],
   "source": [
    "selector.fit(features_subject_train, y_train)\n",
    "features_subject_train_sel = selector.transform(features_subject_train).toarray()\n",
    "features_subject_test_sel = selector.transform(features_subject_test).toarray()"
   ]
  },
  {
   "cell_type": "code",
   "execution_count": 51,
   "metadata": {},
   "outputs": [
    {
     "data": {
      "text/plain": [
       "(6547, 59)"
      ]
     },
     "execution_count": 51,
     "metadata": {},
     "output_type": "execute_result"
    }
   ],
   "source": [
    "features_subject_train_sel.shape"
   ]
  },
  {
   "cell_type": "code",
   "execution_count": 52,
   "metadata": {},
   "outputs": [],
   "source": [
    "selector.fit(features_body_train, y_train)\n",
    "features_body_train_sel = selector.transform(features_body_train).toarray()\n",
    "features_body_test_sel = selector.transform(features_body_test).toarray()"
   ]
  },
  {
   "cell_type": "code",
   "execution_count": 53,
   "metadata": {},
   "outputs": [
    {
     "data": {
      "text/plain": [
       "(6547, 773)"
      ]
     },
     "execution_count": 53,
     "metadata": {},
     "output_type": "execute_result"
    }
   ],
   "source": [
    "features_body_train_sel.shape"
   ]
  },
  {
   "cell_type": "code",
   "execution_count": 54,
   "metadata": {},
   "outputs": [],
   "source": [
    "selector.fit(features_joined_train, y_train)\n",
    "features_joined_train_sel = selector.transform(features_joined_train).toarray()\n",
    "features_joined_test_sel = selector.transform(features_joined_test).toarray()"
   ]
  },
  {
   "cell_type": "code",
   "execution_count": 55,
   "metadata": {},
   "outputs": [
    {
     "data": {
      "text/plain": [
       "(6547, 832)"
      ]
     },
     "execution_count": 55,
     "metadata": {},
     "output_type": "execute_result"
    }
   ],
   "source": [
    "features_joined_train_sel.shape"
   ]
  },
  {
   "cell_type": "markdown",
   "metadata": {},
   "source": [
    "## Modeling"
   ]
  },
  {
   "cell_type": "code",
   "execution_count": 56,
   "metadata": {},
   "outputs": [
    {
     "data": {
      "text/plain": [
       "0    0.743505\n",
       "1    0.256495\n",
       "Name: spam, dtype: float64"
      ]
     },
     "execution_count": 56,
     "metadata": {},
     "output_type": "execute_result"
    }
   ],
   "source": [
    "# Baseline accuracy of 74% with class imbalance\n",
    "df['spam'].value_counts(normalize=True)"
   ]
  },
  {
   "cell_type": "code",
   "execution_count": 111,
   "metadata": {},
   "outputs": [],
   "source": [
    "def measure_time(func):\n",
    "    start = time.process_time()\n",
    "    func()\n",
    "    print(\"Time Processing: \", time.process_time() - start)\n"
   ]
  },
  {
   "cell_type": "code",
   "execution_count": 113,
   "metadata": {},
   "outputs": [
    {
     "name": "stdout",
     "output_type": "stream",
     "text": [
      "Train Subject Accuracy: 0.972811974950359\n",
      "Test Subject Accuracy: 0.9219529579472558\n",
      "Time Processing:  2.9823480000000018\n"
     ]
    }
   ],
   "source": [
    "# All subject features - overfits training set by 5.5%\n",
    "features_subject_train1 = features_subject_train.toarray()\n",
    "features_subject_test1 = features_subject_test.toarray()\n",
    "def run_model1(): \n",
    "    model1a = GaussianNB()\n",
    "    model1a.fit(features_subject_train1, y_train)\n",
    "    score_train = model1a.score(features_subject_train1, y_train)\n",
    "    score_test = model1a.score(features_subject_test1, y_test)\n",
    "    print(\"Train Subject Accuracy:\", score_train)\n",
    "    print(\"Test Subject Accuracy:\", score_test)\n",
    "measure_time(run_model1)"
   ]
  },
  {
   "cell_type": "code",
   "execution_count": 115,
   "metadata": {},
   "outputs": [
    {
     "name": "stdout",
     "output_type": "stream",
     "text": [
      "Train Subject Accuracy: 0.8318313731480067\n",
      "Test Subject Accuracy: 0.8207412687099074\n",
      "Time Processing:  0.018951000000001272\n"
     ]
    }
   ],
   "source": [
    "# 1% of subject features - no overfitting\n",
    "def run_model2():\n",
    "    model1b = GaussianNB()\n",
    "    model1b.fit(features_subject_train_sel, y_train)\n",
    "    score_train = model1b.score(features_subject_train_sel, y_train)\n",
    "    score_test = model1b.score(features_subject_test_sel, y_test)\n",
    "    print(\"Train Subject Accuracy:\", score_train)\n",
    "    print(\"Test Subject Accuracy:\", score_test)\n",
    "measure_time(run_model2)"
   ]
  },
  {
   "cell_type": "code",
   "execution_count": 116,
   "metadata": {
    "scrolled": false
   },
   "outputs": [
    {
     "name": "stdout",
     "output_type": "stream",
     "text": [
      "Train Body Accuracy: 0.9221017259813655\n",
      "Test Body Accuracy: 0.9180327868852459\n",
      "Time Processing:  0.03447699999999543\n"
     ]
    }
   ],
   "source": [
    "# 1% of body features\n",
    "def run_model3():\n",
    "    model2 = GaussianNB()\n",
    "    model2.fit(features_body_train_sel, y_train)\n",
    "    score_train = model2.score(features_body_train_sel, y_train)\n",
    "    score_test = model2.score(features_body_test_sel, y_test)\n",
    "    print(\"Train Body Accuracy:\", score_train)\n",
    "    print(\"Test Body Accuracy:\", score_test)\n",
    "measure_time(run_model3)"
   ]
  },
  {
   "cell_type": "code",
   "execution_count": 97,
   "metadata": {},
   "outputs": [
    {
     "name": "stdout",
     "output_type": "stream",
     "text": [
      "Train Body Score: 0.972811974950359\n",
      "Test Body Score: 0.9219529579472558\n"
     ]
    }
   ],
   "source": [
    "# overfits training set by just 1% accuracy\n"
   ]
  },
  {
   "cell_type": "code",
   "execution_count": 117,
   "metadata": {},
   "outputs": [
    {
     "name": "stdout",
     "output_type": "stream",
     "text": [
      "Train Body Score: 0.9221017259813655\n",
      "Test Body Score: 0.9180327868852459\n",
      "Time Processing:  0.02206100000000788\n"
     ]
    }
   ],
   "source": [
    "# 0.1% of body features\n",
    "selector = SelectPercentile(f_classif, percentile=0.1)\n",
    "selector.fit(features_body_train, y_train)\n",
    "features_body_train_sel = selector.transform(features_body_train).toarray()\n",
    "features_body_test_sel = selector.transform(features_body_test).toarray()\n",
    "def run_model4():\n",
    "    model2b = GaussianNB()\n",
    "    model2b.fit(features_body_train_sel, y_train)\n",
    "    score_train = model2b.score(features_body_train_sel, y_train)\n",
    "    score_test = model2b.score(features_body_test_sel, y_test)\n",
    "    print(\"Train Body Score:\", score_train)\n",
    "    print(\"Test Body Score:\", score_test)\n",
    "measure_time(run_model4)"
   ]
  },
  {
   "cell_type": "code",
   "execution_count": 118,
   "metadata": {},
   "outputs": [
    {
     "name": "stdout",
     "output_type": "stream",
     "text": [
      "Train join Score: 0.9239346265465098\n",
      "Test join Score: 0.9201710620099787\n",
      "Time Processing:  0.03881199999999296\n"
     ]
    }
   ],
   "source": [
    "# 1st percentile of subject + body features\n",
    "# overfits training set by just 1%\n",
    "def run_model5():\n",
    "    model3 = GaussianNB()\n",
    "    model3.fit(features_joined_train_sel, y_train)\n",
    "    score_train = model3.score(features_joined_train_sel, y_train)\n",
    "    score_test = model3.score(features_joined_test_sel, y_test)\n",
    "    print(\"Train join Score:\", score_train)\n",
    "    print(\"Test join Score:\", score_test)\n",
    "measure_time(run_model5)"
   ]
  },
  {
   "cell_type": "code",
   "execution_count": 63,
   "metadata": {},
   "outputs": [
    {
     "name": "stdout",
     "output_type": "stream",
     "text": [
      "Train Body Score: 0.9575378035741561\n",
      "Test Body Score: 0.9465431218816821\n"
     ]
    }
   ],
   "source": []
  },
  {
   "cell_type": "code",
   "execution_count": 119,
   "metadata": {},
   "outputs": [
    {
     "name": "stdout",
     "output_type": "stream",
     "text": [
      "Train Body Score: 0.9239346265465098\n",
      "Test Body Score: 0.9201710620099787\n",
      "Time Processing:  0.028835999999998307\n"
     ]
    }
   ],
   "source": [
    "# 0.1% of subject + body features, similar to body only, not worth the complexity\n",
    "selector = SelectPercentile(f_classif, percentile=0.1)\n",
    "selector.fit(features_joined_train, y_train)\n",
    "features_joined_train_sel = selector.transform(features_joined_train).toarray()\n",
    "features_joined_test_sel = selector.transform(features_joined_test).toarray()\n",
    "def run_model6():\n",
    "    model2b = GaussianNB()\n",
    "    model2b.fit(features_joined_train_sel, y_train)\n",
    "    score_train = model2b.score(features_joined_train_sel, y_train)\n",
    "    score_test = model2b.score(features_joined_test_sel, y_test)\n",
    "    print(\"Train Body Score:\", score_train)\n",
    "    print(\"Test Body Score:\", score_test)\n",
    "measure_time(run_model6)"
   ]
  },
  {
   "cell_type": "code",
   "execution_count": null,
   "metadata": {},
   "outputs": [],
   "source": []
  },
  {
   "cell_type": "code",
   "execution_count": null,
   "metadata": {},
   "outputs": [],
   "source": []
  },
  {
   "cell_type": "markdown",
   "metadata": {
    "id": "UU9VF8AM8g_d"
   },
   "source": [
    "## Sampling Methodology <a id='sampling-methodology'/>"
   ]
  },
  {
   "cell_type": "markdown",
   "metadata": {
    "id": "Wu8uewjVN5D8"
   },
   "source": [
    "#### Per the code above we used a 70/30 train test sample split"
   ]
  },
  {
   "cell_type": "code",
   "execution_count": null,
   "metadata": {
    "id": "hDVXhO8F8g_d",
    "scrolled": true
   },
   "outputs": [],
   "source": []
  },
  {
   "cell_type": "markdown",
   "metadata": {
    "id": "p-C7Tc5W8g_e"
   },
   "source": [
    "## Model's Performance Analysis <a id='performance-analysis'/>"
   ]
  },
  {
   "cell_type": "markdown",
   "metadata": {
    "id": "B1QaouAiN5D9"
   },
   "source": []
  },
  {
   "cell_type": "markdown",
   "metadata": {
    "id": "HISQa9FO8g_e"
   },
   "source": [
    "# Model Interpretability & Explainability <a id='model-explanation'>"
   ]
  },
  {
   "cell_type": "markdown",
   "metadata": {
    "id": "5rlSakuzPhjw"
   },
   "source": [
    "Which variables were more important and why?\n",
    "\n",
    "How did you come to the conclusion these variables were important how how should the audience interpret this?"
   ]
  },
  {
   "cell_type": "markdown",
   "metadata": {
    "id": "PSBc4ETe8g_e"
   },
   "source": [
    "## Examining Feature Importance <a id='examining-feature-importance'/>"
   ]
  },
  {
   "cell_type": "code",
   "execution_count": null,
   "metadata": {
    "id": "BpGIwvaMQD8M"
   },
   "outputs": [],
   "source": []
  },
  {
   "cell_type": "markdown",
   "metadata": {
    "id": "yb4q1PtqN5D9"
   },
   "source": []
  },
  {
   "cell_type": "code",
   "execution_count": null,
   "metadata": {
    "id": "LLbI9bVy8g_e"
   },
   "outputs": [],
   "source": []
  },
  {
   "cell_type": "markdown",
   "metadata": {
    "id": "JbAhMB1x8g_e"
   },
   "source": [
    "# Conclusion <a id='conclusion'>"
   ]
  },
  {
   "cell_type": "markdown",
   "metadata": {
    "id": "fetUVJsePwN7"
   },
   "source": [
    "What are you proposing to the audience with your models and why?\n",
    "\n",
    "How should your audience interpret your conclusion and whwere should they go moving forward on the topic?\n",
    "\n",
    "What other approaches do you recommend exploring?\n",
    "\n",
    "Bring it all home!"
   ]
  },
  {
   "cell_type": "markdown",
   "metadata": {
    "id": "xnsadV7M8g_e"
   },
   "source": [
    "### Final Model Proposal <a id='final-model-proposal'/>"
   ]
  },
  {
   "cell_type": "markdown",
   "metadata": {
    "id": "4XXMCBozN5D-"
   },
   "source": []
  },
  {
   "cell_type": "markdown",
   "metadata": {
    "id": "oX8fXYczN5D-"
   },
   "source": [
    "### Future Considerations and Model Enhancements <a id='model-enhancements'/>"
   ]
  },
  {
   "cell_type": "markdown",
   "metadata": {
    "id": "xzeTkIEWN5D-"
   },
   "source": []
  },
  {
   "cell_type": "markdown",
   "metadata": {
    "id": "Thch7JfCN5D_"
   },
   "source": [
    "### Alternative Modeling Approaches <a id='alternative-modeling-approaches'>"
   ]
  },
  {
   "cell_type": "markdown",
   "metadata": {
    "id": "IUpUUjATN5D_"
   },
   "source": []
  }
 ],
 "metadata": {
  "colab": {
   "name": "Case_Study_1.ipynb",
   "provenance": []
  },
  "kernelspec": {
   "display_name": "Python 3",
   "language": "python",
   "name": "python3"
  },
  "language_info": {
   "codemirror_mode": {
    "name": "ipython",
    "version": 3
   },
   "file_extension": ".py",
   "mimetype": "text/x-python",
   "name": "python",
   "nbconvert_exporter": "python",
   "pygments_lexer": "ipython3",
   "version": "3.8.5"
  }
 },
 "nbformat": 4,
 "nbformat_minor": 1
}
