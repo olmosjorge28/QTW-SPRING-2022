{
 "cells": [
  {
   "cell_type": "markdown",
   "metadata": {
    "id": "GoCXzNvN8g-8"
   },
   "source": [
    "# Case Study 3 - Email Spam"
   ]
  },
  {
   "cell_type": "markdown",
   "metadata": {
    "id": "YBy24RcB8g-9"
   },
   "source": [
    "__Team Members:__ Amber Clark, Andrew Leppla, Jorge Olmos, Paritosh Rai"
   ]
  },
  {
   "cell_type": "markdown",
   "metadata": {},
   "source": [
    "# Team Strategy"
   ]
  },
  {
   "cell_type": "markdown",
   "metadata": {},
   "source": [
    "Emails are read in.  Kept: From, Subject, Body.\n",
    "- Remove \\n with regex\n",
    "- Remove other non-alphabetic characters - keep the counts?\n",
    "\n",
    "Feature Extraction:\n",
    "1. Vectorization - TFIDF (removes stop words)\n",
    "If we have time:\n",
    "2. Created 'trusted' and 'spam' email address book to filter spam - IS THIS OUT OF SCOPE PER SCOPE?\n",
    "\n",
    "Model:\n",
    "Classification with Naive Bayes - Amber, Jorge\n",
    "1. Subject Only = Baseline\n",
    "2. Body (+Subject?)\n",
    "\n",
    "Clustering:\n",
    "DBSCAN with cosine distance for NLP - Andrew, Paritosh"
   ]
  },
  {
   "cell_type": "markdown",
   "metadata": {
    "id": "O4O0up-U8g-9"
   },
   "source": [
    "# Content\n",
    "* [Business Understanding](#business-understanding)\n",
    "    - [Scope](#scope)\n",
    "    - [Introduction](#introduction)\n",
    "    - [Methods](#methods)\n",
    "    - [Results](#results)\n",
    "* [Data Evaluation](#data-evaluation)\n",
    "    - [Loading Data](#loading-data) \n",
    "    - [Data Summary](#data-summary)\n",
    "    - [Missing Values](#missing-values)\n",
    "    - [Feature Removal](#feature-removal)\n",
    "    - [Exploratory Data Analysis (EDA)](#eda)\n",
    "    - [Assumptions](#assumptions)\n",
    "* [Model Preparations](#model-preparations)\n",
    "    - [Sampling & Scaling Data](#sampling-scaling-data)\n",
    "    - [Proposed Method](#proposed-metrics)\n",
    "    - [Evaluation Metrics](#evaluation-metrics)\n",
    "    - [Feature Selection](#feature-selection)\n",
    "* [Model Building & Evaluations](#model-building)\n",
    "    - [Sampling Methodology](#sampling-methodology)\n",
    "    - [Model](#model)\n",
    "    - [Performance Analysis](#performance-analysis)\n",
    "* [Model Interpretability & Explainability](#model-explanation)\n",
    "    - [Examining Feature Importance](#examining-feature-importance)\n",
    "* [Conclusion](#conclusion)\n",
    "    - [Final Model Proposal](#final-model-proposal)\n",
    "    - [Future Considerations and Model Enhancements](#model-enhancements)\n",
    "    - [Alternative Modeling Approaches](#alternative-modeling-approaches)"
   ]
  },
  {
   "cell_type": "markdown",
   "metadata": {
    "id": "TRedT-FB8g_A"
   },
   "source": [
    "# Business Understanding & Executive Summary <a id='business-understanding'/>"
   ]
  },
  {
   "cell_type": "markdown",
   "metadata": {
    "id": "F-4BiuuQOEh4"
   },
   "source": [
    "What are we trying to solve for and why is it important?\n"
   ]
  },
  {
   "cell_type": "markdown",
   "metadata": {
    "id": "_TBIHKRt8g--"
   },
   "source": [
    "### Scope <a id='scope'/>\n",
    "\n",
    "\n",
    "### Introduction <a id='introduction'/>\n",
    "\n",
    "\n",
    "### Methods <a id='methods'/>\n",
    " \n",
    " \n",
    "### Results <a id='results'/>\n",
    " "
   ]
  },
  {
   "cell_type": "markdown",
   "metadata": {
    "id": "PVtcYu5j8g_B"
   },
   "source": [
    "# Data Evaluation <a id='data-evaluation'>\n",
    "    "
   ]
  },
  {
   "cell_type": "markdown",
   "metadata": {
    "id": "ZsIJIUSjOLcl"
   },
   "source": [
    "Summarize data being used?\n",
    "\n",
    "Are there missing values?\n",
    "\n",
    "Which variables are needed and which are not?\n",
    "\n",
    "What assumptions or conclusions are you drawing about your data?"
   ]
  },
  {
   "cell_type": "markdown",
   "metadata": {
    "id": "ox-qLqjc8g_B"
   },
   "source": []
  },
  {
   "cell_type": "code",
   "execution_count": 1,
   "metadata": {
    "id": "qcBcP8Jy8g_C",
    "outputId": "a6a85b4a-a106-48bb-bc2a-e6a5fb8ca494"
   },
   "outputs": [
    {
     "data": {
      "text/plain": [
       "\"import warnings\\nwarnings.filterwarnings('ignore')\\nfrom warnings import simplefilter \\nsimplefilter(action='ignore', category=FutureWarning)\""
      ]
     },
     "execution_count": 1,
     "metadata": {},
     "output_type": "execute_result"
    }
   ],
   "source": [
    "# standard libraries\n",
    "import pandas as pd\n",
    "import numpy as np\n",
    "import re\n",
    "import os\n",
    "from IPython.display import Image\n",
    "\n",
    "# email\n",
    "from email import policy\n",
    "from email.parser import BytesParser\n",
    "\n",
    "# visualization\n",
    "import seaborn as sns\n",
    "import matplotlib.pyplot as plt\n",
    "%matplotlib inline\n",
    "from tabulate import tabulate\n",
    "\n",
    "# data pre-processing\n",
    "from sklearn.model_selection import train_test_split\n",
    "from sklearn.model_selection import StratifiedShuffleSplit\n",
    "from sklearn.feature_extraction.text import TfidfVectorizer\n",
    "\n",
    "# clustering\n",
    "from sklearn.cluster import DBSCAN\n",
    "from statistics import stdev\n",
    "\n",
    "# prediction models\n",
    "from sklearn.naive_bayes import GaussianNB\n",
    "from sklearn.feature_selection import SelectPercentile, f_classif\n",
    "from sklearn.ensemble import VotingClassifier\n",
    "from sklearn.model_selection import cross_val_score\n",
    "\n",
    "# import warnings filter\n",
    "'''import warnings\n",
    "warnings.filterwarnings('ignore')\n",
    "from warnings import simplefilter \n",
    "simplefilter(action='ignore', category=FutureWarning)'''"
   ]
  },
  {
   "cell_type": "markdown",
   "metadata": {
    "id": "4WcvKI3y8g_C"
   },
   "source": [
    "## Loading Data <a id='loading-data'>"
   ]
  },
  {
   "cell_type": "markdown",
   "metadata": {
    "id": "ZDhb7boF8g_D"
   },
   "source": []
  },
  {
   "cell_type": "code",
   "execution_count": 1,
   "metadata": {},
   "outputs": [
    {
     "data": {
      "application/javascript": [
       "IPython.notebook.kernel.execute('nb_name = \"' + IPython.notebook.notebook_name + '\"')\n"
      ],
      "text/plain": [
       "<IPython.core.display.Javascript object>"
      ]
     },
     "metadata": {},
     "output_type": "display_data"
    }
   ],
   "source": [
    "%%javascript \n",
    "IPython.notebook.kernel.execute('nb_name = \"' + IPython.notebook.notebook_name + '\"')"
   ]
  },
  {
   "cell_type": "code",
   "execution_count": 2,
   "metadata": {},
   "outputs": [
    {
     "data": {
      "text/plain": [
       "'case_study3_template.ipynb'"
      ]
     },
     "execution_count": 2,
     "metadata": {},
     "output_type": "execute_result"
    }
   ],
   "source": [
    "nb_name"
   ]
  },
  {
   "cell_type": "code",
   "execution_count": 7,
   "metadata": {
    "id": "3dYvb9W38g_D",
    "outputId": "3a6b397c-92dc-4ce0-c599-9cf69191e676"
   },
   "outputs": [],
   "source": [
    "import os\n",
    "notebook_path = os.path.abspath(nb_name)"
   ]
  },
  {
   "cell_type": "code",
   "execution_count": 8,
   "metadata": {},
   "outputs": [
    {
     "data": {
      "text/plain": [
       "'C:\\\\Users\\\\allep\\\\QTW_Projects\\\\QTW-SPRING-2022\\\\ds7333_case_study_3\\\\case_study3_template.ipynb'"
      ]
     },
     "execution_count": 8,
     "metadata": {},
     "output_type": "execute_result"
    }
   ],
   "source": [
    "notebook_path"
   ]
  },
  {
   "cell_type": "code",
   "execution_count": 9,
   "metadata": {},
   "outputs": [],
   "source": [
    "file_spam = os.path.join(os.path.dirname(notebook_path), \"SpamAssassinMessages\")"
   ]
  },
  {
   "cell_type": "code",
   "execution_count": 10,
   "metadata": {},
   "outputs": [
    {
     "data": {
      "text/plain": [
       "'C:\\\\Users\\\\allep\\\\QTW_Projects\\\\QTW-SPRING-2022\\\\ds7333_case_study_3\\\\SpamAssassinMessages'"
      ]
     },
     "execution_count": 10,
     "metadata": {},
     "output_type": "execute_result"
    }
   ],
   "source": [
    "file_spam"
   ]
  },
  {
   "cell_type": "code",
   "execution_count": 11,
   "metadata": {},
   "outputs": [],
   "source": [
    "def get_all_files(folder):\n",
    "    file_list = []\n",
    "    if os.path.exists(folder):\n",
    "        for root, dirs, files in os.walk(folder):\n",
    "            for file in files:\n",
    "                file_list.append(os.path.join(root,file))\n",
    "    return file_list"
   ]
  },
  {
   "cell_type": "code",
   "execution_count": 12,
   "metadata": {},
   "outputs": [
    {
     "data": {
      "text/plain": [
       "['easy_ham', 'easy_ham_2', 'hard_ham', 'spam', 'spam_2']"
      ]
     },
     "execution_count": 12,
     "metadata": {},
     "output_type": "execute_result"
    }
   ],
   "source": [
    "folders = os.listdir(file_spam)\n",
    "folders"
   ]
  },
  {
   "cell_type": "code",
   "execution_count": 13,
   "metadata": {},
   "outputs": [],
   "source": [
    "# Get the file names in each folder (list of lists)\n",
    "files = [ os.listdir(file_spam+ '/'+ folder) for folder in folders] \n",
    "\n",
    "# Create a list of dataframes for all of the folders\n",
    "emails = [ pd.DataFrame({'folder' : [], 'from' : [], 'subject' : [], 'body': []}) ]*len(folders)\n",
    "\n",
    "# Add folder path to file names\n",
    "for i in range(0,len(folders)):\n",
    "    for j in range(0, len(files[i])):\n",
    "        files[i][j] = str(file_spam +'/' + folders[i] + '/' + files[i][j]) \n",
    "        \n",
    "        # Parse and extract email 'subject' and 'from'\n",
    "        with open(files[i][j], 'rb') as fp:\n",
    "            msg = BytesParser(policy=policy.default).parse(fp)\n",
    "            \n",
    "            # Error checking when reading in body for some html-based emails from spam folders\n",
    "            try:\n",
    "                simplest = msg.get_body(preferencelist=('plain', 'html'))\n",
    "                try:\n",
    "                    new_row = {'folder': folders[i], 'from': msg['from'], 'subject': msg['subject'], 'body': simplest.get_content()}\n",
    "                    emails[i] = emails[i].append(new_row, ignore_index=True)\n",
    "                except:\n",
    "                    new_row = {'folder': folders[i], 'from': msg['from'], 'subject':msg['subject'], 'body':'Error(html)'}\n",
    "                    emails[i] = emails[i].append(new_row, ignore_index=True)\n",
    "            except:\n",
    "                new_row = {'folder': folders[i], 'from': msg['from'], 'subject':msg['subject'], 'body':'Error(html)'}\n",
    "                emails[i] = emails[i].append(new_row, ignore_index=True)"
   ]
  },
  {
   "cell_type": "code",
   "execution_count": 14,
   "metadata": {},
   "outputs": [
    {
     "name": "stdout",
     "output_type": "stream",
     "text": [
      "# files in folders: [5052, 1401, 501, 1001, 1398]\n",
      "# emails read in  : [5052, 1401, 501, 1001, 1398]\n",
      "\n",
      "# total emails = 9353\n"
     ]
    }
   ],
   "source": [
    "# Emails per folder\n",
    "print(\"# files in folders:\", [len(i) for i in files])\n",
    "print(\"# emails read in  :\", [i.shape[0] for i in emails])\n",
    "\n",
    "# Total emails\n",
    "print( \"\\n# total emails =\", sum([len(i) for i in files]) )"
   ]
  },
  {
   "cell_type": "code",
   "execution_count": 15,
   "metadata": {},
   "outputs": [
    {
     "data": {
      "text/plain": [
       "(9353, 6)"
      ]
     },
     "execution_count": 15,
     "metadata": {},
     "output_type": "execute_result"
    }
   ],
   "source": [
    "# Create single dataframe from all folders\n",
    "df = pd.concat( [emails[i] for i in range(0, len(emails))], axis=0)\n",
    "\n",
    "#  Keep the indices from the folders\n",
    "df = df.reset_index() \n",
    "\n",
    "# create response column from folder names\n",
    "spam = [(i=='spam' or i=='spam_2') for i in df['folder']]\n",
    "df = pd.concat([df, pd.Series(spam).astype(int)], axis=1)\n",
    "\n",
    "df.columns = ['folder_idx', 'folder', 'from', 'subject', 'body','spam']\n",
    "\n",
    "df.shape"
   ]
  },
  {
   "cell_type": "code",
   "execution_count": 16,
   "metadata": {},
   "outputs": [
    {
     "data": {
      "text/html": [
       "<div>\n",
       "<style scoped>\n",
       "    .dataframe tbody tr th:only-of-type {\n",
       "        vertical-align: middle;\n",
       "    }\n",
       "\n",
       "    .dataframe tbody tr th {\n",
       "        vertical-align: top;\n",
       "    }\n",
       "\n",
       "    .dataframe thead th {\n",
       "        text-align: right;\n",
       "    }\n",
       "</style>\n",
       "<table border=\"1\" class=\"dataframe\">\n",
       "  <thead>\n",
       "    <tr style=\"text-align: right;\">\n",
       "      <th></th>\n",
       "      <th>folder_idx</th>\n",
       "      <th>folder</th>\n",
       "      <th>from</th>\n",
       "      <th>subject</th>\n",
       "      <th>body</th>\n",
       "      <th>spam</th>\n",
       "    </tr>\n",
       "  </thead>\n",
       "  <tbody>\n",
       "    <tr>\n",
       "      <th>0</th>\n",
       "      <td>0</td>\n",
       "      <td>easy_ham</td>\n",
       "      <td>Robert Elz &lt;kre@munnari.OZ.AU&gt;</td>\n",
       "      <td>Re: New Sequences Window</td>\n",
       "      <td>Date:        Wed, 21 Aug 2002 10:54:46 -05...</td>\n",
       "      <td>0</td>\n",
       "    </tr>\n",
       "    <tr>\n",
       "      <th>1</th>\n",
       "      <td>1</td>\n",
       "      <td>easy_ham</td>\n",
       "      <td>Steve Burt &lt;Steve_Burt@cursor-system.com&gt;</td>\n",
       "      <td>[zzzzteana] RE: Alexander</td>\n",
       "      <td>Martin A posted:\\nTassos Papadopoulos, the Gre...</td>\n",
       "      <td>0</td>\n",
       "    </tr>\n",
       "    <tr>\n",
       "      <th>2</th>\n",
       "      <td>2</td>\n",
       "      <td>easy_ham</td>\n",
       "      <td>Tim Chapman &lt;timc@2ubh.com&gt;</td>\n",
       "      <td>[zzzzteana] Moscow bomber</td>\n",
       "      <td>Man Threatens Explosion In Moscow \\n\\nThursday...</td>\n",
       "      <td>0</td>\n",
       "    </tr>\n",
       "    <tr>\n",
       "      <th>3</th>\n",
       "      <td>3</td>\n",
       "      <td>easy_ham</td>\n",
       "      <td>Monty Solomon &lt;monty@roscom.com&gt;</td>\n",
       "      <td>[IRR] Klez: The Virus That  Won't Die</td>\n",
       "      <td>Klez: The Virus That Won't Die\\n \\nAlready the...</td>\n",
       "      <td>0</td>\n",
       "    </tr>\n",
       "    <tr>\n",
       "      <th>4</th>\n",
       "      <td>4</td>\n",
       "      <td>easy_ham</td>\n",
       "      <td>Stewart Smith &lt;Stewart.Smith@ee.ed.ac.uk&gt;</td>\n",
       "      <td>Re: [zzzzteana] Nothing like mama used to make</td>\n",
       "      <td>&gt;  in adding cream to spaghetti carbonara, whi...</td>\n",
       "      <td>0</td>\n",
       "    </tr>\n",
       "  </tbody>\n",
       "</table>\n",
       "</div>"
      ],
      "text/plain": [
       "   folder_idx    folder                                       from  \\\n",
       "0           0  easy_ham             Robert Elz <kre@munnari.OZ.AU>   \n",
       "1           1  easy_ham  Steve Burt <Steve_Burt@cursor-system.com>   \n",
       "2           2  easy_ham                Tim Chapman <timc@2ubh.com>   \n",
       "3           3  easy_ham           Monty Solomon <monty@roscom.com>   \n",
       "4           4  easy_ham  Stewart Smith <Stewart.Smith@ee.ed.ac.uk>   \n",
       "\n",
       "                                          subject  \\\n",
       "0                        Re: New Sequences Window   \n",
       "1                       [zzzzteana] RE: Alexander   \n",
       "2                       [zzzzteana] Moscow bomber   \n",
       "3           [IRR] Klez: The Virus That  Won't Die   \n",
       "4  Re: [zzzzteana] Nothing like mama used to make   \n",
       "\n",
       "                                                body  spam  \n",
       "0      Date:        Wed, 21 Aug 2002 10:54:46 -05...     0  \n",
       "1  Martin A posted:\\nTassos Papadopoulos, the Gre...     0  \n",
       "2  Man Threatens Explosion In Moscow \\n\\nThursday...     0  \n",
       "3  Klez: The Virus That Won't Die\\n \\nAlready the...     0  \n",
       "4  >  in adding cream to spaghetti carbonara, whi...     0  "
      ]
     },
     "execution_count": 16,
     "metadata": {},
     "output_type": "execute_result"
    }
   ],
   "source": [
    "df.head()"
   ]
  },
  {
   "cell_type": "code",
   "execution_count": 18,
   "metadata": {},
   "outputs": [],
   "source": [
    "CLEANR = re.compile('<.*?>|&([a-z0-9]+|#[0-9]{1,6}|#x[0-9a-f]{1,6});')\n",
    "def cleanhtml(raw_html):\n",
    "    cleantext = re.sub(CLEANR, '', raw_html)\n",
    "    return cleantext"
   ]
  },
  {
   "cell_type": "code",
   "execution_count": 19,
   "metadata": {},
   "outputs": [],
   "source": [
    "def cleanAndSplit(raw_text): \n",
    "    temp = []\n",
    "    for word in raw_text.split():\n",
    "        temp.append(re.sub(r\"[^a-zA-Z0-9]\",\"\",word).lower())\n",
    "    return temp"
   ]
  },
  {
   "cell_type": "code",
   "execution_count": 20,
   "metadata": {},
   "outputs": [],
   "source": [
    "def cleanBody(raw_content):\n",
    "    if(pd.isna(raw_content)):\n",
    "        return []\n",
    "    clean_from_html = cleanhtml(raw_content)\n",
    "    out = cleanAndSplit(clean_from_html)\n",
    "    return out"
   ]
  },
  {
   "cell_type": "code",
   "execution_count": 21,
   "metadata": {},
   "outputs": [],
   "source": [
    "def combine(content):\n",
    "    #joined = [*content[], *content]\n",
    "    #print(content[['clean_body']])\n",
    "    #print(content[['clean_subject']])\n",
    "    #joined = content[['clean_body']], content[['clean_subject']]\n",
    "    joined = np.concatenate((*content[['clean_body']], *content[['clean_subject']]))\n",
    "    #print(joined)\n",
    "    return joined"
   ]
  },
  {
   "cell_type": "code",
   "execution_count": 22,
   "metadata": {},
   "outputs": [],
   "source": [
    "df['clean_body'] = df['body'].apply(cleanBody)"
   ]
  },
  {
   "cell_type": "code",
   "execution_count": 23,
   "metadata": {},
   "outputs": [],
   "source": [
    "df['clean_subject'] = df['subject'].apply(cleanBody)"
   ]
  },
  {
   "cell_type": "code",
   "execution_count": 24,
   "metadata": {},
   "outputs": [],
   "source": [
    "df['joined'] = df[['clean_body','clean_subject']].agg(combine, axis=1)"
   ]
  },
  {
   "cell_type": "code",
   "execution_count": 25,
   "metadata": {},
   "outputs": [
    {
     "data": {
      "text/html": [
       "<div>\n",
       "<style scoped>\n",
       "    .dataframe tbody tr th:only-of-type {\n",
       "        vertical-align: middle;\n",
       "    }\n",
       "\n",
       "    .dataframe tbody tr th {\n",
       "        vertical-align: top;\n",
       "    }\n",
       "\n",
       "    .dataframe thead th {\n",
       "        text-align: right;\n",
       "    }\n",
       "</style>\n",
       "<table border=\"1\" class=\"dataframe\">\n",
       "  <thead>\n",
       "    <tr style=\"text-align: right;\">\n",
       "      <th></th>\n",
       "      <th>folder_idx</th>\n",
       "      <th>folder</th>\n",
       "      <th>from</th>\n",
       "      <th>subject</th>\n",
       "      <th>body</th>\n",
       "      <th>spam</th>\n",
       "      <th>clean_body</th>\n",
       "      <th>clean_subject</th>\n",
       "      <th>joined</th>\n",
       "    </tr>\n",
       "  </thead>\n",
       "  <tbody>\n",
       "    <tr>\n",
       "      <th>0</th>\n",
       "      <td>0</td>\n",
       "      <td>easy_ham</td>\n",
       "      <td>Robert Elz &lt;kre@munnari.OZ.AU&gt;</td>\n",
       "      <td>Re: New Sequences Window</td>\n",
       "      <td>Date:        Wed, 21 Aug 2002 10:54:46 -05...</td>\n",
       "      <td>0</td>\n",
       "      <td>[date, wed, 21, aug, 2002, 105446, 0500, from,...</td>\n",
       "      <td>[re, new, sequences, window]</td>\n",
       "      <td>[date, wed, 21, aug, 2002, 105446, 0500, from,...</td>\n",
       "    </tr>\n",
       "    <tr>\n",
       "      <th>1</th>\n",
       "      <td>1</td>\n",
       "      <td>easy_ham</td>\n",
       "      <td>Steve Burt &lt;Steve_Burt@cursor-system.com&gt;</td>\n",
       "      <td>[zzzzteana] RE: Alexander</td>\n",
       "      <td>Martin A posted:\\nTassos Papadopoulos, the Gre...</td>\n",
       "      <td>0</td>\n",
       "      <td>[martin, a, posted, tassos, papadopoulos, the,...</td>\n",
       "      <td>[zzzzteana, re, alexander]</td>\n",
       "      <td>[martin, a, posted, tassos, papadopoulos, the,...</td>\n",
       "    </tr>\n",
       "    <tr>\n",
       "      <th>2</th>\n",
       "      <td>2</td>\n",
       "      <td>easy_ham</td>\n",
       "      <td>Tim Chapman &lt;timc@2ubh.com&gt;</td>\n",
       "      <td>[zzzzteana] Moscow bomber</td>\n",
       "      <td>Man Threatens Explosion In Moscow \\n\\nThursday...</td>\n",
       "      <td>0</td>\n",
       "      <td>[man, threatens, explosion, in, moscow, thursd...</td>\n",
       "      <td>[zzzzteana, moscow, bomber]</td>\n",
       "      <td>[man, threatens, explosion, in, moscow, thursd...</td>\n",
       "    </tr>\n",
       "    <tr>\n",
       "      <th>3</th>\n",
       "      <td>3</td>\n",
       "      <td>easy_ham</td>\n",
       "      <td>Monty Solomon &lt;monty@roscom.com&gt;</td>\n",
       "      <td>[IRR] Klez: The Virus That  Won't Die</td>\n",
       "      <td>Klez: The Virus That Won't Die\\n \\nAlready the...</td>\n",
       "      <td>0</td>\n",
       "      <td>[klez, the, virus, that, wont, die, already, t...</td>\n",
       "      <td>[irr, klez, the, virus, that, wont, die]</td>\n",
       "      <td>[klez, the, virus, that, wont, die, already, t...</td>\n",
       "    </tr>\n",
       "    <tr>\n",
       "      <th>4</th>\n",
       "      <td>4</td>\n",
       "      <td>easy_ham</td>\n",
       "      <td>Stewart Smith &lt;Stewart.Smith@ee.ed.ac.uk&gt;</td>\n",
       "      <td>Re: [zzzzteana] Nothing like mama used to make</td>\n",
       "      <td>&gt;  in adding cream to spaghetti carbonara, whi...</td>\n",
       "      <td>0</td>\n",
       "      <td>[, in, adding, cream, to, spaghetti, carbonara...</td>\n",
       "      <td>[re, zzzzteana, nothing, like, mama, used, to,...</td>\n",
       "      <td>[, in, adding, cream, to, spaghetti, carbonara...</td>\n",
       "    </tr>\n",
       "  </tbody>\n",
       "</table>\n",
       "</div>"
      ],
      "text/plain": [
       "   folder_idx    folder                                       from  \\\n",
       "0           0  easy_ham             Robert Elz <kre@munnari.OZ.AU>   \n",
       "1           1  easy_ham  Steve Burt <Steve_Burt@cursor-system.com>   \n",
       "2           2  easy_ham                Tim Chapman <timc@2ubh.com>   \n",
       "3           3  easy_ham           Monty Solomon <monty@roscom.com>   \n",
       "4           4  easy_ham  Stewart Smith <Stewart.Smith@ee.ed.ac.uk>   \n",
       "\n",
       "                                          subject  \\\n",
       "0                        Re: New Sequences Window   \n",
       "1                       [zzzzteana] RE: Alexander   \n",
       "2                       [zzzzteana] Moscow bomber   \n",
       "3           [IRR] Klez: The Virus That  Won't Die   \n",
       "4  Re: [zzzzteana] Nothing like mama used to make   \n",
       "\n",
       "                                                body  spam  \\\n",
       "0      Date:        Wed, 21 Aug 2002 10:54:46 -05...     0   \n",
       "1  Martin A posted:\\nTassos Papadopoulos, the Gre...     0   \n",
       "2  Man Threatens Explosion In Moscow \\n\\nThursday...     0   \n",
       "3  Klez: The Virus That Won't Die\\n \\nAlready the...     0   \n",
       "4  >  in adding cream to spaghetti carbonara, whi...     0   \n",
       "\n",
       "                                          clean_body  \\\n",
       "0  [date, wed, 21, aug, 2002, 105446, 0500, from,...   \n",
       "1  [martin, a, posted, tassos, papadopoulos, the,...   \n",
       "2  [man, threatens, explosion, in, moscow, thursd...   \n",
       "3  [klez, the, virus, that, wont, die, already, t...   \n",
       "4  [, in, adding, cream, to, spaghetti, carbonara...   \n",
       "\n",
       "                                       clean_subject  \\\n",
       "0                       [re, new, sequences, window]   \n",
       "1                         [zzzzteana, re, alexander]   \n",
       "2                        [zzzzteana, moscow, bomber]   \n",
       "3           [irr, klez, the, virus, that, wont, die]   \n",
       "4  [re, zzzzteana, nothing, like, mama, used, to,...   \n",
       "\n",
       "                                              joined  \n",
       "0  [date, wed, 21, aug, 2002, 105446, 0500, from,...  \n",
       "1  [martin, a, posted, tassos, papadopoulos, the,...  \n",
       "2  [man, threatens, explosion, in, moscow, thursd...  \n",
       "3  [klez, the, virus, that, wont, die, already, t...  \n",
       "4  [, in, adding, cream, to, spaghetti, carbonara...  "
      ]
     },
     "execution_count": 25,
     "metadata": {},
     "output_type": "execute_result"
    }
   ],
   "source": [
    "df.head()"
   ]
  },
  {
   "cell_type": "markdown",
   "metadata": {
    "id": "ul_6nw48N5Dy"
   },
   "source": [
    "## Data Summary <a id='data-summary'>"
   ]
  },
  {
   "cell_type": "markdown",
   "metadata": {
    "id": "Aws5HAx98g_E"
   },
   "source": [
    "## Missing Values <a id='missing-values'>\n",
    "\n"
   ]
  },
  {
   "cell_type": "code",
   "execution_count": 26,
   "metadata": {
    "id": "2BgB13po8g_F",
    "outputId": "aba28207-2ccb-4d38-b36a-adcd6d28dd45"
   },
   "outputs": [
    {
     "data": {
      "text/html": [
       "<div>\n",
       "<style scoped>\n",
       "    .dataframe tbody tr th:only-of-type {\n",
       "        vertical-align: middle;\n",
       "    }\n",
       "\n",
       "    .dataframe tbody tr th {\n",
       "        vertical-align: top;\n",
       "    }\n",
       "\n",
       "    .dataframe thead th {\n",
       "        text-align: right;\n",
       "    }\n",
       "</style>\n",
       "<table border=\"1\" class=\"dataframe\">\n",
       "  <thead>\n",
       "    <tr style=\"text-align: right;\">\n",
       "      <th></th>\n",
       "      <th>folder_idx</th>\n",
       "      <th>folder</th>\n",
       "      <th>from</th>\n",
       "      <th>subject</th>\n",
       "      <th>body</th>\n",
       "      <th>spam</th>\n",
       "      <th>clean_body</th>\n",
       "      <th>clean_subject</th>\n",
       "      <th>joined</th>\n",
       "    </tr>\n",
       "  </thead>\n",
       "  <tbody>\n",
       "    <tr>\n",
       "      <th>7191</th>\n",
       "      <td>237</td>\n",
       "      <td>spam</td>\n",
       "      <td>eb@via.ecp.fr</td>\n",
       "      <td>Over $100,000 Per Year Possible On The Net!  N...</td>\n",
       "      <td>Error(html)</td>\n",
       "      <td>1</td>\n",
       "      <td>[errorhtml]</td>\n",
       "      <td>[over, 100000, per, year, possible, on, the, n...</td>\n",
       "      <td>[errorhtml, over, 100000, per, year, possible,...</td>\n",
       "    </tr>\n",
       "    <tr>\n",
       "      <th>7303</th>\n",
       "      <td>349</td>\n",
       "      <td>spam</td>\n",
       "      <td>\"Books@Books\"@BlackRealityPublishing.com</td>\n",
       "      <td>Free Excerpt;  Baby Makers, Loser Choosers, &amp; ...</td>\n",
       "      <td>Error(html)</td>\n",
       "      <td>1</td>\n",
       "      <td>[errorhtml]</td>\n",
       "      <td>[free, excerpt, baby, makers, loser, choosers,...</td>\n",
       "      <td>[errorhtml, free, excerpt, baby, makers, loser...</td>\n",
       "    </tr>\n",
       "    <tr>\n",
       "      <th>7379</th>\n",
       "      <td>425</td>\n",
       "      <td>spam</td>\n",
       "      <td>zzzz@netscape.net</td>\n",
       "      <td>Collect Your Money! Time:1:30:33 AM</td>\n",
       "      <td>Error(html)</td>\n",
       "      <td>1</td>\n",
       "      <td>[errorhtml]</td>\n",
       "      <td>[collect, your, money, time13033, am]</td>\n",
       "      <td>[errorhtml, collect, your, money, time13033, am]</td>\n",
       "    </tr>\n",
       "    <tr>\n",
       "      <th>7466</th>\n",
       "      <td>512</td>\n",
       "      <td>spam</td>\n",
       "      <td>Affordable Computer Supply &lt;InkjetDeals@acsmsu...</td>\n",
       "      <td>Printer Cartridges as low as $1.21 each!</td>\n",
       "      <td>Error(html)</td>\n",
       "      <td>1</td>\n",
       "      <td>[errorhtml]</td>\n",
       "      <td>[printer, cartridges, as, low, as, 121, each]</td>\n",
       "      <td>[errorhtml, printer, cartridges, as, low, as, ...</td>\n",
       "    </tr>\n",
       "    <tr>\n",
       "      <th>7679</th>\n",
       "      <td>725</td>\n",
       "      <td>spam</td>\n",
       "      <td>eb@via.ecp.fr</td>\n",
       "      <td>Over $100,000 Per Year Possible On The Net!  N...</td>\n",
       "      <td>Error(html)</td>\n",
       "      <td>1</td>\n",
       "      <td>[errorhtml]</td>\n",
       "      <td>[over, 100000, per, year, possible, on, the, n...</td>\n",
       "      <td>[errorhtml, over, 100000, per, year, possible,...</td>\n",
       "    </tr>\n",
       "    <tr>\n",
       "      <th>7782</th>\n",
       "      <td>828</td>\n",
       "      <td>spam</td>\n",
       "      <td>\"Books@Books\"@BlackRealityPublishing.com</td>\n",
       "      <td>Free Excerpt;  Baby Makers, Loser Choosers, &amp; ...</td>\n",
       "      <td>Error(html)</td>\n",
       "      <td>1</td>\n",
       "      <td>[errorhtml]</td>\n",
       "      <td>[free, excerpt, baby, makers, loser, choosers,...</td>\n",
       "      <td>[errorhtml, free, excerpt, baby, makers, loser...</td>\n",
       "    </tr>\n",
       "    <tr>\n",
       "      <th>7852</th>\n",
       "      <td>898</td>\n",
       "      <td>spam</td>\n",
       "      <td>zzzz@netscape.net</td>\n",
       "      <td>Collect Your Money! Time:1:30:33 AM</td>\n",
       "      <td>Error(html)</td>\n",
       "      <td>1</td>\n",
       "      <td>[errorhtml]</td>\n",
       "      <td>[collect, your, money, time13033, am]</td>\n",
       "      <td>[errorhtml, collect, your, money, time13033, am]</td>\n",
       "    </tr>\n",
       "    <tr>\n",
       "      <th>7931</th>\n",
       "      <td>977</td>\n",
       "      <td>spam</td>\n",
       "      <td>Affordable Computer Supply &lt;InkjetDeals@acsmsu...</td>\n",
       "      <td>Printer Cartridges as low as $1.21 each!</td>\n",
       "      <td>Error(html)</td>\n",
       "      <td>1</td>\n",
       "      <td>[errorhtml]</td>\n",
       "      <td>[printer, cartridges, as, low, as, 121, each]</td>\n",
       "      <td>[errorhtml, printer, cartridges, as, low, as, ...</td>\n",
       "    </tr>\n",
       "    <tr>\n",
       "      <th>7956</th>\n",
       "      <td>1</td>\n",
       "      <td>spam_2</td>\n",
       "      <td>lmrn@mailexcite.com</td>\n",
       "      <td>Real Protection, Stun Guns!  Free Shipping! Ti...</td>\n",
       "      <td>Error(html)</td>\n",
       "      <td>1</td>\n",
       "      <td>[errorhtml]</td>\n",
       "      <td>[real, protection, stun, guns, free, shipping,...</td>\n",
       "      <td>[errorhtml, real, protection, stun, guns, free...</td>\n",
       "    </tr>\n",
       "    <tr>\n",
       "      <th>7957</th>\n",
       "      <td>2</td>\n",
       "      <td>spam_2</td>\n",
       "      <td>amknight@mailexcite.com</td>\n",
       "      <td>New Improved Fat Burners, Now With TV Fat Abso...</td>\n",
       "      <td>Error(html)</td>\n",
       "      <td>1</td>\n",
       "      <td>[errorhtml]</td>\n",
       "      <td>[new, improved, fat, burners, now, with, tv, f...</td>\n",
       "      <td>[errorhtml, new, improved, fat, burners, now, ...</td>\n",
       "    </tr>\n",
       "    <tr>\n",
       "      <th>7958</th>\n",
       "      <td>3</td>\n",
       "      <td>spam_2</td>\n",
       "      <td>jordan23@mailexcite.com</td>\n",
       "      <td>New Improved Fat Burners, Now With TV Fat Abso...</td>\n",
       "      <td>Error(html)</td>\n",
       "      <td>1</td>\n",
       "      <td>[errorhtml]</td>\n",
       "      <td>[new, improved, fat, burners, now, with, tv, f...</td>\n",
       "      <td>[errorhtml, new, improved, fat, burners, now, ...</td>\n",
       "    </tr>\n",
       "    <tr>\n",
       "      <th>7959</th>\n",
       "      <td>4</td>\n",
       "      <td>spam_2</td>\n",
       "      <td>yyyy@pluriproj.pt</td>\n",
       "      <td>Never Repay Cash Grants, $500 - $50,000, Secre...</td>\n",
       "      <td>Error(html)</td>\n",
       "      <td>1</td>\n",
       "      <td>[errorhtml]</td>\n",
       "      <td>[never, repay, cash, grants, 500, , 50000, sec...</td>\n",
       "      <td>[errorhtml, never, repay, cash, grants, 500, ,...</td>\n",
       "    </tr>\n",
       "    <tr>\n",
       "      <th>7960</th>\n",
       "      <td>5</td>\n",
       "      <td>spam_2</td>\n",
       "      <td>3b3fke@ms10.hinet.net</td>\n",
       "      <td>�٦b��20%���H�Υd�`����??? Time:PM 05:36:34</td>\n",
       "      <td>Error(html)</td>\n",
       "      <td>1</td>\n",
       "      <td>[errorhtml]</td>\n",
       "      <td>[b20hd, timepm, 053634]</td>\n",
       "      <td>[errorhtml, b20hd, timepm, 053634]</td>\n",
       "    </tr>\n",
       "    <tr>\n",
       "      <th>8060</th>\n",
       "      <td>105</td>\n",
       "      <td>spam_2</td>\n",
       "      <td>Mary &lt;jane0l215@excite.com&gt;</td>\n",
       "      <td>Major Stock Play</td>\n",
       "      <td>Error(html)</td>\n",
       "      <td>1</td>\n",
       "      <td>[errorhtml]</td>\n",
       "      <td>[major, stock, play]</td>\n",
       "      <td>[errorhtml, major, stock, play]</td>\n",
       "    </tr>\n",
       "    <tr>\n",
       "      <th>8062</th>\n",
       "      <td>107</td>\n",
       "      <td>spam_2</td>\n",
       "      <td>Mary &lt;jane0l215@excite.com&gt;</td>\n",
       "      <td>Major Stock Play</td>\n",
       "      <td>Error(html)</td>\n",
       "      <td>1</td>\n",
       "      <td>[errorhtml]</td>\n",
       "      <td>[major, stock, play]</td>\n",
       "      <td>[errorhtml, major, stock, play]</td>\n",
       "    </tr>\n",
       "    <tr>\n",
       "      <th>8158</th>\n",
       "      <td>203</td>\n",
       "      <td>spam_2</td>\n",
       "      <td>iqsoftware@export2000.ro</td>\n",
       "      <td>[Avfs] Romanian Software Production &amp; Export</td>\n",
       "      <td>Error(html)</td>\n",
       "      <td>1</td>\n",
       "      <td>[errorhtml]</td>\n",
       "      <td>[avfs, romanian, software, production, , export]</td>\n",
       "      <td>[errorhtml, avfs, romanian, software, producti...</td>\n",
       "    </tr>\n",
       "    <tr>\n",
       "      <th>8247</th>\n",
       "      <td>292</td>\n",
       "      <td>spam_2</td>\n",
       "      <td>Polaroid@optinat.com</td>\n",
       "      <td>Polariod Digital Cameras Only $39.95</td>\n",
       "      <td>Error(html)</td>\n",
       "      <td>1</td>\n",
       "      <td>[errorhtml]</td>\n",
       "      <td>[polariod, digital, cameras, only, 3995]</td>\n",
       "      <td>[errorhtml, polariod, digital, cameras, only, ...</td>\n",
       "    </tr>\n",
       "    <tr>\n",
       "      <th>8278</th>\n",
       "      <td>323</td>\n",
       "      <td>spam_2</td>\n",
       "      <td>merchantsworld2001@juno.com</td>\n",
       "      <td>New Improved Weight Loss, Now With Bonus Fat A...</td>\n",
       "      <td>Error(html)</td>\n",
       "      <td>1</td>\n",
       "      <td>[errorhtml]</td>\n",
       "      <td>[new, improved, weight, loss, now, with, bonus...</td>\n",
       "      <td>[errorhtml, new, improved, weight, loss, now, ...</td>\n",
       "    </tr>\n",
       "    <tr>\n",
       "      <th>8306</th>\n",
       "      <td>351</td>\n",
       "      <td>spam_2</td>\n",
       "      <td>WEBMASTER@J-MEDICAL.ORG</td>\n",
       "      <td>Re: Account Information</td>\n",
       "      <td>Error(html)</td>\n",
       "      <td>1</td>\n",
       "      <td>[errorhtml]</td>\n",
       "      <td>[re, account, information]</td>\n",
       "      <td>[errorhtml, re, account, information]</td>\n",
       "    </tr>\n",
       "    <tr>\n",
       "      <th>8334</th>\n",
       "      <td>379</td>\n",
       "      <td>spam_2</td>\n",
       "      <td>Matthew_Morrow@optinunlimited.com</td>\n",
       "      <td>About Your Commissions...</td>\n",
       "      <td>Error(html)</td>\n",
       "      <td>1</td>\n",
       "      <td>[errorhtml]</td>\n",
       "      <td>[about, your, commissions]</td>\n",
       "      <td>[errorhtml, about, your, commissions]</td>\n",
       "    </tr>\n",
       "    <tr>\n",
       "      <th>8349</th>\n",
       "      <td>394</td>\n",
       "      <td>spam_2</td>\n",
       "      <td>rose_xu@email.com</td>\n",
       "      <td>ADV:Harvest lots of Target Email address quickly</td>\n",
       "      <td>Error(html)</td>\n",
       "      <td>1</td>\n",
       "      <td>[errorhtml]</td>\n",
       "      <td>[advharvest, lots, of, target, email, address,...</td>\n",
       "      <td>[errorhtml, advharvest, lots, of, target, emai...</td>\n",
       "    </tr>\n",
       "    <tr>\n",
       "      <th>8363</th>\n",
       "      <td>408</td>\n",
       "      <td>spam_2</td>\n",
       "      <td>Prosextra@optinunlimited.com</td>\n",
       "      <td>FREE ALL NATURAL SEXUAL STIMULANT!</td>\n",
       "      <td>Error(html)</td>\n",
       "      <td>1</td>\n",
       "      <td>[errorhtml]</td>\n",
       "      <td>[free, all, natural, sexual, stimulant]</td>\n",
       "      <td>[errorhtml, free, all, natural, sexual, stimul...</td>\n",
       "    </tr>\n",
       "    <tr>\n",
       "      <th>8432</th>\n",
       "      <td>477</td>\n",
       "      <td>spam_2</td>\n",
       "      <td>WEBMASTER@theperfumebox.ie</td>\n",
       "      <td>Re: Account Information</td>\n",
       "      <td>Error(html)</td>\n",
       "      <td>1</td>\n",
       "      <td>[errorhtml]</td>\n",
       "      <td>[re, account, information]</td>\n",
       "      <td>[errorhtml, re, account, information]</td>\n",
       "    </tr>\n",
       "    <tr>\n",
       "      <th>8525</th>\n",
       "      <td>570</td>\n",
       "      <td>spam_2</td>\n",
       "      <td>WEBMASTER@TAIONE.ORG</td>\n",
       "      <td>Re: Your Order</td>\n",
       "      <td>Error(html)</td>\n",
       "      <td>1</td>\n",
       "      <td>[errorhtml]</td>\n",
       "      <td>[re, your, order]</td>\n",
       "      <td>[errorhtml, re, your, order]</td>\n",
       "    </tr>\n",
       "    <tr>\n",
       "      <th>8531</th>\n",
       "      <td>576</td>\n",
       "      <td>spam_2</td>\n",
       "      <td>targetemailextractor@btamail.net.cn</td>\n",
       "      <td>Direct Email Blaster, Email extractor, email d...</td>\n",
       "      <td>Error(html)</td>\n",
       "      <td>1</td>\n",
       "      <td>[errorhtml]</td>\n",
       "      <td>[direct, email, blaster, email, extractor, ema...</td>\n",
       "      <td>[errorhtml, direct, email, blaster, email, ext...</td>\n",
       "    </tr>\n",
       "    <tr>\n",
       "      <th>8532</th>\n",
       "      <td>577</td>\n",
       "      <td>spam_2</td>\n",
       "      <td>targetemailextractor@btamail.net.cn</td>\n",
       "      <td>Direct Email Blaster, Email extractor, email d...</td>\n",
       "      <td>Error(html)</td>\n",
       "      <td>1</td>\n",
       "      <td>[errorhtml]</td>\n",
       "      <td>[direct, email, blaster, email, extractor, ema...</td>\n",
       "      <td>[errorhtml, direct, email, blaster, email, ext...</td>\n",
       "    </tr>\n",
       "    <tr>\n",
       "      <th>8711</th>\n",
       "      <td>756</td>\n",
       "      <td>spam_2</td>\n",
       "      <td>JohnRobertson@terra.es</td>\n",
       "      <td>Get Debts Off Your Back    -      Time:5:38:50 AM</td>\n",
       "      <td>Error(html)</td>\n",
       "      <td>1</td>\n",
       "      <td>[errorhtml]</td>\n",
       "      <td>[get, debts, off, your, back, , time53850, am]</td>\n",
       "      <td>[errorhtml, get, debts, off, your, back, , tim...</td>\n",
       "    </tr>\n",
       "    <tr>\n",
       "      <th>8775</th>\n",
       "      <td>820</td>\n",
       "      <td>spam_2</td>\n",
       "      <td>easytest8341@email.com</td>\n",
       "      <td>Your $1365 Welcome Bonus is waiting for You!!</td>\n",
       "      <td>Error(html)</td>\n",
       "      <td>1</td>\n",
       "      <td>[errorhtml]</td>\n",
       "      <td>[your, 1365, welcome, bonus, is, waiting, for,...</td>\n",
       "      <td>[errorhtml, your, 1365, welcome, bonus, is, wa...</td>\n",
       "    </tr>\n",
       "    <tr>\n",
       "      <th>8892</th>\n",
       "      <td>937</td>\n",
       "      <td>spam_2</td>\n",
       "      <td>POWERMAN10MILLION@hotmail.com</td>\n",
       "      <td>10 million fresh email addresses sent to you o...</td>\n",
       "      <td>Error(html)</td>\n",
       "      <td>1</td>\n",
       "      <td>[errorhtml]</td>\n",
       "      <td>[10, million, fresh, email, addresses, sent, t...</td>\n",
       "      <td>[errorhtml, 10, million, fresh, email, address...</td>\n",
       "    </tr>\n",
       "    <tr>\n",
       "      <th>8934</th>\n",
       "      <td>979</td>\n",
       "      <td>spam_2</td>\n",
       "      <td>Central_Bank6@centralbank.com</td>\n",
       "      <td>Notification for Payment Received!</td>\n",
       "      <td>Error(html)</td>\n",
       "      <td>1</td>\n",
       "      <td>[errorhtml]</td>\n",
       "      <td>[notification, for, payment, received]</td>\n",
       "      <td>[errorhtml, notification, for, payment, received]</td>\n",
       "    </tr>\n",
       "    <tr>\n",
       "      <th>8958</th>\n",
       "      <td>1003</td>\n",
       "      <td>spam_2</td>\n",
       "      <td>ankara@dunyagazetesi.com.tr</td>\n",
       "      <td>Kime Oy Vereceksiniz ?</td>\n",
       "      <td>Error(html)</td>\n",
       "      <td>1</td>\n",
       "      <td>[errorhtml]</td>\n",
       "      <td>[kime, oy, vereceksiniz, ]</td>\n",
       "      <td>[errorhtml, kime, oy, vereceksiniz, ]</td>\n",
       "    </tr>\n",
       "    <tr>\n",
       "      <th>9165</th>\n",
       "      <td>1210</td>\n",
       "      <td>spam_2</td>\n",
       "      <td>\"Com-Pro Systems, Inc.\" &lt;emarketing@comprosys....</td>\n",
       "      <td>Get Your Own Great-Looking Website</td>\n",
       "      <td>Error(html)</td>\n",
       "      <td>1</td>\n",
       "      <td>[errorhtml]</td>\n",
       "      <td>[get, your, own, greatlooking, website]</td>\n",
       "      <td>[errorhtml, get, your, own, greatlooking, webs...</td>\n",
       "    </tr>\n",
       "    <tr>\n",
       "      <th>9171</th>\n",
       "      <td>1216</td>\n",
       "      <td>spam_2</td>\n",
       "      <td>webmaster@efi.joensuu.fi</td>\n",
       "      <td>Collect Your Money! Time:12:13:18 AM</td>\n",
       "      <td>Error(html)</td>\n",
       "      <td>1</td>\n",
       "      <td>[errorhtml]</td>\n",
       "      <td>[collect, your, money, time121318, am]</td>\n",
       "      <td>[errorhtml, collect, your, money, time121318, am]</td>\n",
       "    </tr>\n",
       "  </tbody>\n",
       "</table>\n",
       "</div>"
      ],
      "text/plain": [
       "      folder_idx  folder                                               from  \\\n",
       "7191         237    spam                                      eb@via.ecp.fr   \n",
       "7303         349    spam           \"Books@Books\"@BlackRealityPublishing.com   \n",
       "7379         425    spam                                  zzzz@netscape.net   \n",
       "7466         512    spam  Affordable Computer Supply <InkjetDeals@acsmsu...   \n",
       "7679         725    spam                                      eb@via.ecp.fr   \n",
       "7782         828    spam           \"Books@Books\"@BlackRealityPublishing.com   \n",
       "7852         898    spam                                  zzzz@netscape.net   \n",
       "7931         977    spam  Affordable Computer Supply <InkjetDeals@acsmsu...   \n",
       "7956           1  spam_2                                lmrn@mailexcite.com   \n",
       "7957           2  spam_2                            amknight@mailexcite.com   \n",
       "7958           3  spam_2                            jordan23@mailexcite.com   \n",
       "7959           4  spam_2                                  yyyy@pluriproj.pt   \n",
       "7960           5  spam_2                              3b3fke@ms10.hinet.net   \n",
       "8060         105  spam_2                        Mary <jane0l215@excite.com>   \n",
       "8062         107  spam_2                        Mary <jane0l215@excite.com>   \n",
       "8158         203  spam_2                           iqsoftware@export2000.ro   \n",
       "8247         292  spam_2                               Polaroid@optinat.com   \n",
       "8278         323  spam_2                        merchantsworld2001@juno.com   \n",
       "8306         351  spam_2                            WEBMASTER@J-MEDICAL.ORG   \n",
       "8334         379  spam_2                  Matthew_Morrow@optinunlimited.com   \n",
       "8349         394  spam_2                                  rose_xu@email.com   \n",
       "8363         408  spam_2                       Prosextra@optinunlimited.com   \n",
       "8432         477  spam_2                         WEBMASTER@theperfumebox.ie   \n",
       "8525         570  spam_2                               WEBMASTER@TAIONE.ORG   \n",
       "8531         576  spam_2                targetemailextractor@btamail.net.cn   \n",
       "8532         577  spam_2                targetemailextractor@btamail.net.cn   \n",
       "8711         756  spam_2                             JohnRobertson@terra.es   \n",
       "8775         820  spam_2                             easytest8341@email.com   \n",
       "8892         937  spam_2                      POWERMAN10MILLION@hotmail.com   \n",
       "8934         979  spam_2                      Central_Bank6@centralbank.com   \n",
       "8958        1003  spam_2                        ankara@dunyagazetesi.com.tr   \n",
       "9165        1210  spam_2  \"Com-Pro Systems, Inc.\" <emarketing@comprosys....   \n",
       "9171        1216  spam_2                           webmaster@efi.joensuu.fi   \n",
       "\n",
       "                                                subject         body  spam  \\\n",
       "7191  Over $100,000 Per Year Possible On The Net!  N...  Error(html)     1   \n",
       "7303  Free Excerpt;  Baby Makers, Loser Choosers, & ...  Error(html)     1   \n",
       "7379                Collect Your Money! Time:1:30:33 AM  Error(html)     1   \n",
       "7466           Printer Cartridges as low as $1.21 each!  Error(html)     1   \n",
       "7679  Over $100,000 Per Year Possible On The Net!  N...  Error(html)     1   \n",
       "7782  Free Excerpt;  Baby Makers, Loser Choosers, & ...  Error(html)     1   \n",
       "7852                Collect Your Money! Time:1:30:33 AM  Error(html)     1   \n",
       "7931           Printer Cartridges as low as $1.21 each!  Error(html)     1   \n",
       "7956  Real Protection, Stun Guns!  Free Shipping! Ti...  Error(html)     1   \n",
       "7957  New Improved Fat Burners, Now With TV Fat Abso...  Error(html)     1   \n",
       "7958  New Improved Fat Burners, Now With TV Fat Abso...  Error(html)     1   \n",
       "7959  Never Repay Cash Grants, $500 - $50,000, Secre...  Error(html)     1   \n",
       "7960          �٦b��20%���H�Υd�`����??? Time:PM 05:36:34  Error(html)     1   \n",
       "8060                                   Major Stock Play  Error(html)     1   \n",
       "8062                                   Major Stock Play  Error(html)     1   \n",
       "8158       [Avfs] Romanian Software Production & Export  Error(html)     1   \n",
       "8247               Polariod Digital Cameras Only $39.95  Error(html)     1   \n",
       "8278  New Improved Weight Loss, Now With Bonus Fat A...  Error(html)     1   \n",
       "8306                            Re: Account Information  Error(html)     1   \n",
       "8334                          About Your Commissions...  Error(html)     1   \n",
       "8349   ADV:Harvest lots of Target Email address quickly  Error(html)     1   \n",
       "8363                 FREE ALL NATURAL SEXUAL STIMULANT!  Error(html)     1   \n",
       "8432                            Re: Account Information  Error(html)     1   \n",
       "8525                                     Re: Your Order  Error(html)     1   \n",
       "8531  Direct Email Blaster, Email extractor, email d...  Error(html)     1   \n",
       "8532  Direct Email Blaster, Email extractor, email d...  Error(html)     1   \n",
       "8711  Get Debts Off Your Back    -      Time:5:38:50 AM  Error(html)     1   \n",
       "8775     Your $1365 Welcome Bonus is waiting for You!!   Error(html)     1   \n",
       "8892  10 million fresh email addresses sent to you o...  Error(html)     1   \n",
       "8934                 Notification for Payment Received!  Error(html)     1   \n",
       "8958                             Kime Oy Vereceksiniz ?  Error(html)     1   \n",
       "9165                 Get Your Own Great-Looking Website  Error(html)     1   \n",
       "9171               Collect Your Money! Time:12:13:18 AM  Error(html)     1   \n",
       "\n",
       "       clean_body                                      clean_subject  \\\n",
       "7191  [errorhtml]  [over, 100000, per, year, possible, on, the, n...   \n",
       "7303  [errorhtml]  [free, excerpt, baby, makers, loser, choosers,...   \n",
       "7379  [errorhtml]              [collect, your, money, time13033, am]   \n",
       "7466  [errorhtml]      [printer, cartridges, as, low, as, 121, each]   \n",
       "7679  [errorhtml]  [over, 100000, per, year, possible, on, the, n...   \n",
       "7782  [errorhtml]  [free, excerpt, baby, makers, loser, choosers,...   \n",
       "7852  [errorhtml]              [collect, your, money, time13033, am]   \n",
       "7931  [errorhtml]      [printer, cartridges, as, low, as, 121, each]   \n",
       "7956  [errorhtml]  [real, protection, stun, guns, free, shipping,...   \n",
       "7957  [errorhtml]  [new, improved, fat, burners, now, with, tv, f...   \n",
       "7958  [errorhtml]  [new, improved, fat, burners, now, with, tv, f...   \n",
       "7959  [errorhtml]  [never, repay, cash, grants, 500, , 50000, sec...   \n",
       "7960  [errorhtml]                            [b20hd, timepm, 053634]   \n",
       "8060  [errorhtml]                               [major, stock, play]   \n",
       "8062  [errorhtml]                               [major, stock, play]   \n",
       "8158  [errorhtml]   [avfs, romanian, software, production, , export]   \n",
       "8247  [errorhtml]           [polariod, digital, cameras, only, 3995]   \n",
       "8278  [errorhtml]  [new, improved, weight, loss, now, with, bonus...   \n",
       "8306  [errorhtml]                         [re, account, information]   \n",
       "8334  [errorhtml]                         [about, your, commissions]   \n",
       "8349  [errorhtml]  [advharvest, lots, of, target, email, address,...   \n",
       "8363  [errorhtml]            [free, all, natural, sexual, stimulant]   \n",
       "8432  [errorhtml]                         [re, account, information]   \n",
       "8525  [errorhtml]                                  [re, your, order]   \n",
       "8531  [errorhtml]  [direct, email, blaster, email, extractor, ema...   \n",
       "8532  [errorhtml]  [direct, email, blaster, email, extractor, ema...   \n",
       "8711  [errorhtml]     [get, debts, off, your, back, , time53850, am]   \n",
       "8775  [errorhtml]  [your, 1365, welcome, bonus, is, waiting, for,...   \n",
       "8892  [errorhtml]  [10, million, fresh, email, addresses, sent, t...   \n",
       "8934  [errorhtml]             [notification, for, payment, received]   \n",
       "8958  [errorhtml]                         [kime, oy, vereceksiniz, ]   \n",
       "9165  [errorhtml]            [get, your, own, greatlooking, website]   \n",
       "9171  [errorhtml]             [collect, your, money, time121318, am]   \n",
       "\n",
       "                                                 joined  \n",
       "7191  [errorhtml, over, 100000, per, year, possible,...  \n",
       "7303  [errorhtml, free, excerpt, baby, makers, loser...  \n",
       "7379   [errorhtml, collect, your, money, time13033, am]  \n",
       "7466  [errorhtml, printer, cartridges, as, low, as, ...  \n",
       "7679  [errorhtml, over, 100000, per, year, possible,...  \n",
       "7782  [errorhtml, free, excerpt, baby, makers, loser...  \n",
       "7852   [errorhtml, collect, your, money, time13033, am]  \n",
       "7931  [errorhtml, printer, cartridges, as, low, as, ...  \n",
       "7956  [errorhtml, real, protection, stun, guns, free...  \n",
       "7957  [errorhtml, new, improved, fat, burners, now, ...  \n",
       "7958  [errorhtml, new, improved, fat, burners, now, ...  \n",
       "7959  [errorhtml, never, repay, cash, grants, 500, ,...  \n",
       "7960                 [errorhtml, b20hd, timepm, 053634]  \n",
       "8060                    [errorhtml, major, stock, play]  \n",
       "8062                    [errorhtml, major, stock, play]  \n",
       "8158  [errorhtml, avfs, romanian, software, producti...  \n",
       "8247  [errorhtml, polariod, digital, cameras, only, ...  \n",
       "8278  [errorhtml, new, improved, weight, loss, now, ...  \n",
       "8306              [errorhtml, re, account, information]  \n",
       "8334              [errorhtml, about, your, commissions]  \n",
       "8349  [errorhtml, advharvest, lots, of, target, emai...  \n",
       "8363  [errorhtml, free, all, natural, sexual, stimul...  \n",
       "8432              [errorhtml, re, account, information]  \n",
       "8525                       [errorhtml, re, your, order]  \n",
       "8531  [errorhtml, direct, email, blaster, email, ext...  \n",
       "8532  [errorhtml, direct, email, blaster, email, ext...  \n",
       "8711  [errorhtml, get, debts, off, your, back, , tim...  \n",
       "8775  [errorhtml, your, 1365, welcome, bonus, is, wa...  \n",
       "8892  [errorhtml, 10, million, fresh, email, address...  \n",
       "8934  [errorhtml, notification, for, payment, received]  \n",
       "8958              [errorhtml, kime, oy, vereceksiniz, ]  \n",
       "9165  [errorhtml, get, your, own, greatlooking, webs...  \n",
       "9171  [errorhtml, collect, your, money, time121318, am]  "
      ]
     },
     "execution_count": 26,
     "metadata": {},
     "output_type": "execute_result"
    }
   ],
   "source": [
    "# Rows where body couldn't be read in = 'Error(html)'\n",
    "df.loc[df['body']=='Error(html)']\n",
    "\n",
    "# All spam emails"
   ]
  },
  {
   "cell_type": "code",
   "execution_count": 27,
   "metadata": {},
   "outputs": [
    {
     "data": {
      "text/plain": [
       "33"
      ]
     },
     "execution_count": 27,
     "metadata": {},
     "output_type": "execute_result"
    }
   ],
   "source": [
    "# Count of body read Errors\n",
    "df.loc[df['body']=='Error(html)'].shape[0]"
   ]
  },
  {
   "cell_type": "code",
   "execution_count": 28,
   "metadata": {},
   "outputs": [
    {
     "name": "stdout",
     "output_type": "stream",
     "text": [
      "Return-Path: merchantsworld2001@juno.com\n",
      "Delivery-Date: Mon May 13 04:46:13 2002\n",
      "Received: from mandark.labs.netnoteinc.com ([213.105.180.140]) by\n",
      "    dogma.slashnull.org (8.11.6/8.11.6) with ESMTP id g4D3kCe15097 for\n",
      "    <jm@jmason.org>; Mon, 13 May 2002 04:46:12 +0100\n",
      "Received: from 203.129.205.5.205.129.203.in-addr.arpa ([203.129.205.5]) by\n",
      "    mandark.labs.netnoteinc.com (8.11.2/8.11.2) with SMTP id g4D3k2D12605 for\n",
      "    <jm@netnoteinc.com>; Mon, 13 May 2002 04:46:04 +0100\n",
      "Received: from html (unverified [207.95.174.49]) by\n",
      "    203.129.205.5.205.129.203.in-addr.arpa (EMWAC SMTPRS 0.83) with SMTP id\n",
      "    <B0000178595@203.129.205.5.205.129.203.in-addr.arpa>; Mon, 13 May 2002\n",
      "    09:04:46 +0530\n",
      "Message-Id: <B0000178595@203.129.205.5.205.129.203.in-addr.arpa>\n",
      "From: lmrn@mailexcite.com\n",
      "To: ranmoore@cybertime.net\n",
      "Subject: Real Protection, Stun Guns!  Free Shipping! Time:2:01:35 PM\n",
      "Date: Mon, 28 Jul 1980 14:01:35\n",
      "MIME-Version: 1.0\n",
      "X-Keywords: \n",
      "Content-Type: text/html; charset=\"DEFAULT\"\n",
      "\n",
      "<html>\n",
      "<body>\n",
      "<center>\n",
      "<h3>\n",
      "<font color=\"blue\">\n",
      "<b>\n",
      "The Need For Safety Is Real In 2002, You Might Only Get One Chance - Be Ready!\n",
      "<p>\n",
      "Free Shipping & Handling Within The (USA) If You Order Before May 25, 2002! \n",
      "<p>\n",
      "3 Day Super Sale, Now Until May 7, 2002!  Save Up To $30.00 On Some Items!\n",
      "\n",
      "</b>\n",
      "</font>\n",
      "</h3>\n",
      "</center>\n",
      "<p>\n",
      "IT'S GETTING TO BE SPRING AGAIN, PROTECT YOURSELF AS YOU WALK,<br>\n",
      "JOG AND EXERCISE OUTSIDE.  ALSO PROTECT YOUR LOVED ONES AS<br>\n",
      "THEY RETURN HOME FROM COLLEGE!<br>\n",
      "<p>\n",
      "*     LEGAL PROTECTION FOR COLLEGE STUDENTS!<br>\n",
      "*     GREAT UP'COMING OUTDOOR PROTECTION GIFTS!<br>\n",
      "*     THERE IS NOTHING WORTH MORE PROTECTING THAN LIFE!<br>\n",
      "*     OUR STUN DEVICES & PEPPER PRODUCTS ARE LEGAL PROTECTION!\n",
      "<p>\n",
      "<b>\n",
      "<font color=\"red\">\n",
      "JOIN THE WAR ON CRIME!\n",
      "</b>\n",
      "</font>\n",
      "<p>\n",
      "\n",
      "STUN GUNS AND BATONS \n",
      "<p>\n",
      "EFFECTIVE - SAFE - NONLETHAL\n",
      "<p>\n",
      "PROTECT YOUR LOVED ONES AND YOURSELF\n",
      "<p>\n",
      "No matter who you are, no matter what City or Town you live in,<br>\n",
      "if you live in America, you will be touched by crime.\n",
      "<p>\n",
      "You hear about it on TV.  You read about it in the newspaper.<br>\n",
      "It's no secret that crime is a major problem in the U.S. today.<br>\n",
      "Criminals are finding it easier to commit crimes all the time.\n",
      "<p>\n",
      "Weapons are readily available.  Our cities' police forces have<br>\n",
      "more work than they can handle.  Even if these criminal are<br>\n",
      "caught, they won't be spending long in our nation's overcrowded<br>\n",
      "jails.  And while lawmakers are well aware of the crime problem,<br>\n",
      "they don't seem to have any effective answers.\n",
      "<p>\n",
      "Our Email Address:  <a\n",
      "href=\"mailto:Merchants4all@aol.com\">Merchants4all@aol.com</a>\n",
      "<p>\n",
      "INTERESTED:\n",
      "<p>\n",
      "You will be protecting yourself within 7 days!  Don't Wait,<br>\n",
      "visit our web page below, and join The War On Crime!\n",
      "<p>\n",
      "*****************<br>\n",
      "<a\n",
      "href=\"http://www.geocities.com/realprotection_20022003/\">http://www.geocities.com/realprotection_20022003/</a><br>\n",
      "*****************\n",
      "<p>\n",
      "Well, there is an effective answer.  Take responsibility for<br>\n",
      "your own security.  Our site has a variety of quality personal<br>\n",
      "security products.  Visit our site, choose the personal security<br>\n",
      "products that are right for you.  Use them, and join the war on\n",
      "crime!\n",
      "<p>\n",
      "FREE PEPPER SPRAY WITH ANY STUN UNIT PURCHASE.<br>\n",
      "(A Value of $15.95)\n",
      "<p>\n",
      "We Ship Orders Within 5 To 7 Days, To Every State In The U.S.A.<br>\n",
      "by UPS, FEDEX, or U.S. POSTAL SERVICE.  Visa, MasterCard, American<br>\n",
      "Express & Debt Card Gladly Accepted.\n",
      "<p>\n",
      "Ask yourself this question, if you don't help your loved ones,\n",
      "who will?\n",
      "<p>\n",
      "INTERESTED:\n",
      "<p>\n",
      "*****************<br>\n",
      "<a\n",
      "href=\"http://www.geocities.com/realprotection_20022003/\">http://www.geocities.com/realprotection_20022003/</a><br>\n",
      "*****************\n",
      "<p>\n",
      "___The Stun Monster 625,000 Volts ($86.95)<br>\n",
      "___The Z-Force Slim Style 300,000 Volts ($64.95)<br>\n",
      "___The StunMaster 300,000 Volts Straight ($59.95)<br>\n",
      "___The StunMaster 300,000 Volts Curb ($59.95)<br>\n",
      "___The StunMaster 200,000 Volts Straight ($49.95)<br>\n",
      "___The StunMaster 200,000 Volts Curb ($49.95)<br>\n",
      "___The StunBaton 500,000 Volts ($89.95)<br>\n",
      "___The StunBaton 300,000 Volts ($79.95)<br>\n",
      "___Pen Knife (One $12.50, Two Or More $9.00)<br>\n",
      "___Wildfire Pepper Spray  (One $15.95, Two Or More $11.75)\n",
      "<p>\n",
      "___Add $5.75 For Shipping & Handling Charge.\n",
      "<p>\n",
      "\n",
      "To Order by postal mail, please send to the below address.<br>\n",
      "Make payable to Mega Safety Technology.\n",
      "<p>\n",
      "Mega Safety Technology<br>\n",
      "3215 Merrimac Ave.<br>\n",
      "Dayton, Ohio  45405<br>\n",
      "Our Email Address:  <a\n",
      "href=\"mailto:Merchants4all@aol.com\">Merchants4all@aol.com</a>\n",
      "<p>\n",
      "Order by 24 Hour Fax!!!  775-257-6657.\n",
      "<p>\n",
      "*****<br>\n",
      "<b><font color=\"red\">Important Credit Card Information! Please Read Below!</b></font>\n",
      " <br><br>\n",
      "*     Credit Card Address, City, State and Zip Code, must match\n",
      "      billing address to be processed. \n",
      "<br><br>\n",
      "\n",
      "CHECK____  MONEYORDER____  VISA____ MASTERCARD____ AmericanExpress___\n",
      "Debt Card___\n",
      "<br><br>\n",
      "Name_______________________________________________________<br>\n",
      "(As it appears on Check or Credit Card)\n",
      "<br><br>\n",
      "Address____________________________________________________<br>\n",
      "(As it appears on Check or Credit Card)\n",
      "<br><br>\n",
      "___________________________________________________<br>\n",
      "City,State,Zip(As it appears on Check or Credit Card)\n",
      "<br><br>\n",
      "___________________________________________________<br>\n",
      "Country\n",
      "<br><br>\n",
      "___________________________________________________<br>\n",
      "(Credit Card Number)\n",
      "<br><br>\n",
      "Expiration Month_____  Year_____\n",
      "<br><br>\n",
      "___________________________________________________<br>\n",
      "Authorized Signature\n",
      "<br><br>\n",
      "<b>\n",
      "*****IMPORTANT NOTE*****\n",
      "</b>\n",
      "<br><br>\n",
      "If Shipping Address Is Different From The Billing Address Above,\n",
      "Please Fill Out Information Below.\n",
      "<br><br>\n",
      "Shipping Name______________________________________________\n",
      "<br><br>\n",
      "Shipping Address___________________________________________\n",
      "<br><br>\n",
      "___________________________________________________________<br>\n",
      "Shipping City,State,Zip\n",
      "<br><br>\n",
      "___________________________________________________________<br>\n",
      "Country\n",
      "<br><br>\n",
      "___________________________________________________________<br>\n",
      "Email Address & Phone Number(Please Write Neat)\n",
      "</body>\n",
      "</html>\n",
      "\n"
     ]
    }
   ],
   "source": [
    "# Look at file example with Error(html)\n",
    "with open(files[4][1], 'rb') as fp:\n",
    "    msg = BytesParser(policy=policy.default).parse(fp)\n",
    "print(msg)"
   ]
  },
  {
   "cell_type": "code",
   "execution_count": 29,
   "metadata": {},
   "outputs": [
    {
     "data": {
      "text/plain": [
       "folder_idx        0\n",
       "folder            0\n",
       "from              5\n",
       "subject          12\n",
       "body              0\n",
       "spam              0\n",
       "clean_body        0\n",
       "clean_subject     0\n",
       "joined            0\n",
       "dtype: int64"
      ]
     },
     "execution_count": 29,
     "metadata": {},
     "output_type": "execute_result"
    }
   ],
   "source": [
    "df.isna().sum()"
   ]
  },
  {
   "cell_type": "code",
   "execution_count": 30,
   "metadata": {},
   "outputs": [],
   "source": [
    "# Replace NaN and None values with 'No Subject'\n",
    "df.loc[ df['subject'].isna(), 'subject'] = 'No Subject'\n",
    "df.loc[ df['subject']=='', 'subject'] = 'No Subject'"
   ]
  },
  {
   "cell_type": "markdown",
   "metadata": {
    "id": "21Kdalsl8g_I"
   },
   "source": [
    "## Feature Removal <a id='feature-removal'>"
   ]
  },
  {
   "cell_type": "markdown",
   "metadata": {
    "id": "786e5_En8g_J"
   },
   "source": []
  },
  {
   "cell_type": "code",
   "execution_count": null,
   "metadata": {
    "id": "nbvlZHwG8g_J"
   },
   "outputs": [],
   "source": []
  },
  {
   "cell_type": "markdown",
   "metadata": {
    "id": "CbAmkozvN5Dz"
   },
   "source": [
    "## Exploratory Data Analysis (EDA) <a id='eda'>"
   ]
  },
  {
   "cell_type": "code",
   "execution_count": 153,
   "metadata": {},
   "outputs": [
    {
     "data": {
      "text/plain": [
       "0    6954\n",
       "1    2399\n",
       "Name: spam, dtype: int64"
      ]
     },
     "execution_count": 153,
     "metadata": {},
     "output_type": "execute_result"
    }
   ],
   "source": [
    "df['spam'].value_counts()"
   ]
  },
  {
   "cell_type": "markdown",
   "metadata": {
    "id": "ChoPhHdx8g_M"
   },
   "source": [
    "### Clustering\n",
    "- Use DBSCAN with cosine distance for NLP.  \n",
    "- Try to keep the clusters balanced and get approx. 5 clusters to dissect and explain\n",
    "- Look for descriptors for the clusters, like business vs. personal emails, IT emails, etc."
   ]
  },
  {
   "cell_type": "code",
   "execution_count": 31,
   "metadata": {},
   "outputs": [],
   "source": [
    "tfidf = TfidfVectorizer(stop_words='english', strip_accents='unicode', lowercase=True)\n",
    "\n",
    "features_subject = tfidf.fit_transform(df['subject'])"
   ]
  },
  {
   "cell_type": "code",
   "execution_count": 32,
   "metadata": {
    "id": "EqDlP8C_N5D0",
    "outputId": "8ec90270-f4e0-4210-c59a-64c9b6deb27c"
   },
   "outputs": [
    {
     "data": {
      "text/html": [
       "<div>\n",
       "<style scoped>\n",
       "    .dataframe tbody tr th:only-of-type {\n",
       "        vertical-align: middle;\n",
       "    }\n",
       "\n",
       "    .dataframe tbody tr th {\n",
       "        vertical-align: top;\n",
       "    }\n",
       "\n",
       "    .dataframe thead th {\n",
       "        text-align: right;\n",
       "    }\n",
       "</style>\n",
       "<table border=\"1\" class=\"dataframe\">\n",
       "  <thead>\n",
       "    <tr style=\"text-align: right;\">\n",
       "      <th></th>\n",
       "      <th>min_samples</th>\n",
       "      <th>epsilon</th>\n",
       "      <th>cluster counts</th>\n",
       "      <th># clusters</th>\n",
       "      <th>count stdev</th>\n",
       "    </tr>\n",
       "  </thead>\n",
       "  <tbody>\n",
       "    <tr>\n",
       "      <th>7</th>\n",
       "      <td>100</td>\n",
       "      <td>0.80</td>\n",
       "      <td>[4332, 173]</td>\n",
       "      <td>2</td>\n",
       "      <td>2940.857103</td>\n",
       "    </tr>\n",
       "    <tr>\n",
       "      <th>3</th>\n",
       "      <td>50</td>\n",
       "      <td>0.80</td>\n",
       "      <td>[6637, 53, 38]</td>\n",
       "      <td>3</td>\n",
       "      <td>3805.611690</td>\n",
       "    </tr>\n",
       "    <tr>\n",
       "      <th>4</th>\n",
       "      <td>100</td>\n",
       "      <td>0.65</td>\n",
       "      <td>[161, 135, 145, 349, 159]</td>\n",
       "      <td>5</td>\n",
       "      <td>89.628121</td>\n",
       "    </tr>\n",
       "    <tr>\n",
       "      <th>5</th>\n",
       "      <td>100</td>\n",
       "      <td>0.70</td>\n",
       "      <td>[197, 1008, 147, 194, 154]</td>\n",
       "      <td>5</td>\n",
       "      <td>374.110278</td>\n",
       "    </tr>\n",
       "    <tr>\n",
       "      <th>6</th>\n",
       "      <td>100</td>\n",
       "      <td>0.75</td>\n",
       "      <td>[1894, 147, 182, 144, 151]</td>\n",
       "      <td>5</td>\n",
       "      <td>777.406136</td>\n",
       "    </tr>\n",
       "    <tr>\n",
       "      <th>2</th>\n",
       "      <td>50</td>\n",
       "      <td>0.75</td>\n",
       "      <td>[4474, 78, 147, 53, 56]</td>\n",
       "      <td>5</td>\n",
       "      <td>1963.857250</td>\n",
       "    </tr>\n",
       "    <tr>\n",
       "      <th>1</th>\n",
       "      <td>50</td>\n",
       "      <td>0.70</td>\n",
       "      <td>[73, 2030, 220, 70, 147, 51, 50, 142, 145, 37,...</td>\n",
       "      <td>14</td>\n",
       "      <td>519.767324</td>\n",
       "    </tr>\n",
       "    <tr>\n",
       "      <th>0</th>\n",
       "      <td>50</td>\n",
       "      <td>0.65</td>\n",
       "      <td>[73, 182, 70, 54, 1096, 135, 51, 50, 50, 88, 3...</td>\n",
       "      <td>16</td>\n",
       "      <td>259.302365</td>\n",
       "    </tr>\n",
       "  </tbody>\n",
       "</table>\n",
       "</div>"
      ],
      "text/plain": [
       "   min_samples  epsilon                                     cluster counts  \\\n",
       "7          100     0.80                                        [4332, 173]   \n",
       "3           50     0.80                                     [6637, 53, 38]   \n",
       "4          100     0.65                          [161, 135, 145, 349, 159]   \n",
       "5          100     0.70                         [197, 1008, 147, 194, 154]   \n",
       "6          100     0.75                         [1894, 147, 182, 144, 151]   \n",
       "2           50     0.75                            [4474, 78, 147, 53, 56]   \n",
       "1           50     0.70  [73, 2030, 220, 70, 147, 51, 50, 142, 145, 37,...   \n",
       "0           50     0.65  [73, 182, 70, 54, 1096, 135, 51, 50, 50, 88, 3...   \n",
       "\n",
       "   # clusters  count stdev  \n",
       "7           2  2940.857103  \n",
       "3           3  3805.611690  \n",
       "4           5    89.628121  \n",
       "5           5   374.110278  \n",
       "6           5   777.406136  \n",
       "2           5  1963.857250  \n",
       "1          14   519.767324  \n",
       "0          16   259.302365  "
      ]
     },
     "execution_count": 32,
     "metadata": {},
     "output_type": "execute_result"
    }
   ],
   "source": [
    "dbscan = DBSCAN(metric='cosine', min_samples=125)\n",
    "eps_clusters = []\n",
    "\n",
    "for j in range(50,101,50):\n",
    "    dbscan.min_samples = j\n",
    "    for i in range(65,81,5):\n",
    "        dbscan.eps = i/100\n",
    "        clustering = dbscan.fit_predict(features_subject)\n",
    "        cluster_counts = list( pd.Series( clustering ).value_counts().sort_index() )\n",
    "        cluster_counts.pop(0) # remove -1 cluster which is a non-cluster \n",
    "        num_clusters = len(cluster_counts)\n",
    "        eps_clusters.append([ dbscan.min_samples, dbscan.eps, cluster_counts, num_clusters, stdev(cluster_counts) ])\n",
    "\n",
    "clusters_df = pd.DataFrame(eps_clusters, columns = ['min_samples','epsilon', 'cluster counts', '# clusters','count stdev'])\n",
    "clusters_df.sort_values(by=['# clusters', 'count stdev'])"
   ]
  },
  {
   "cell_type": "markdown",
   "metadata": {},
   "source": [
    "## Final Clusters - Insights\n",
    "\n",
    "5 clusters with stdev=90 (min_samples=100, epsilon=0.65) was by far the most balanced set of clusters with 100-150 emails in each cluster.\n",
    "\n",
    "- Cluster 0 : News & Dates\n",
    "- Cluster 1 : Ouch\n",
    "- Cluster 2 : apt = Advanced Performance Technology? \n",
    "- Cluster 3 : IT\n",
    "- Cluster 4 : [Spambayes] & package"
   ]
  },
  {
   "cell_type": "code",
   "execution_count": 33,
   "metadata": {},
   "outputs": [
    {
     "name": "stdout",
     "output_type": "stream",
     "text": [
      "Head & tail of each cluster:\n"
     ]
    },
    {
     "data": {
      "text/html": [
       "<div>\n",
       "<style scoped>\n",
       "    .dataframe tbody tr th:only-of-type {\n",
       "        vertical-align: middle;\n",
       "    }\n",
       "\n",
       "    .dataframe tbody tr th {\n",
       "        vertical-align: top;\n",
       "    }\n",
       "\n",
       "    .dataframe thead th {\n",
       "        text-align: right;\n",
       "    }\n",
       "</style>\n",
       "<table border=\"1\" class=\"dataframe\">\n",
       "  <thead>\n",
       "    <tr style=\"text-align: right;\">\n",
       "      <th></th>\n",
       "      <th>cluster</th>\n",
       "      <th>subject</th>\n",
       "      <th>spam</th>\n",
       "    </tr>\n",
       "  </thead>\n",
       "  <tbody>\n",
       "    <tr>\n",
       "      <th>65</th>\n",
       "      <td>0</td>\n",
       "      <td>[use Perl] Headlines for 2002-08-30</td>\n",
       "      <td>0</td>\n",
       "    </tr>\n",
       "    <tr>\n",
       "      <th>69</th>\n",
       "      <td>0</td>\n",
       "      <td>NTK Now, 2002-08-30</td>\n",
       "      <td>0</td>\n",
       "    </tr>\n",
       "    <tr>\n",
       "      <th>140</th>\n",
       "      <td>0</td>\n",
       "      <td>[use Perl] Headlines for 2002-10-08</td>\n",
       "      <td>0</td>\n",
       "    </tr>\n",
       "    <tr>\n",
       "      <th>7432</th>\n",
       "      <td>0</td>\n",
       "      <td>Are you ready for 10/5/2002?</td>\n",
       "      <td>1</td>\n",
       "    </tr>\n",
       "    <tr>\n",
       "      <th>7900</th>\n",
       "      <td>0</td>\n",
       "      <td>Are you ready for 10/5/2002?</td>\n",
       "      <td>1</td>\n",
       "    </tr>\n",
       "    <tr>\n",
       "      <th>8864</th>\n",
       "      <td>0</td>\n",
       "      <td>VTGE   7/22/2002 10:24:24 PM</td>\n",
       "      <td>1</td>\n",
       "    </tr>\n",
       "    <tr>\n",
       "      <th>329</th>\n",
       "      <td>1</td>\n",
       "      <td>Re: \"Ouch. Ouch. Ouch. Ouch. Ouch....\"(was Re:...</td>\n",
       "      <td>0</td>\n",
       "    </tr>\n",
       "    <tr>\n",
       "      <th>340</th>\n",
       "      <td>1</td>\n",
       "      <td>Re: \"Ouch. Ouch. Ouch. Ouch. Ouch....\"(was Re:...</td>\n",
       "      <td>0</td>\n",
       "    </tr>\n",
       "    <tr>\n",
       "      <th>467</th>\n",
       "      <td>1</td>\n",
       "      <td>Ouch...</td>\n",
       "      <td>0</td>\n",
       "    </tr>\n",
       "    <tr>\n",
       "      <th>5873</th>\n",
       "      <td>1</td>\n",
       "      <td>\"Ouch. Ouch. Ouch. Ouch. Ouch....\"(was Re: My ...</td>\n",
       "      <td>0</td>\n",
       "    </tr>\n",
       "    <tr>\n",
       "      <th>5879</th>\n",
       "      <td>1</td>\n",
       "      <td>Re: \"Ouch. Ouch. Ouch. Ouch. Ouch....\"(was Re:...</td>\n",
       "      <td>0</td>\n",
       "    </tr>\n",
       "    <tr>\n",
       "      <th>5899</th>\n",
       "      <td>1</td>\n",
       "      <td>Re: \"Ouch. Ouch. Ouch. Ouch. Ouch....\"(was Re:...</td>\n",
       "      <td>0</td>\n",
       "    </tr>\n",
       "    <tr>\n",
       "      <th>318</th>\n",
       "      <td>2</td>\n",
       "      <td>Re: Apt repository authentication: it's time</td>\n",
       "      <td>0</td>\n",
       "    </tr>\n",
       "    <tr>\n",
       "      <th>319</th>\n",
       "      <td>2</td>\n",
       "      <td>Re: Apt repository authentication: it's time</td>\n",
       "      <td>0</td>\n",
       "    </tr>\n",
       "    <tr>\n",
       "      <th>320</th>\n",
       "      <td>2</td>\n",
       "      <td>Re: Apt repository authentication: it's time</td>\n",
       "      <td>0</td>\n",
       "    </tr>\n",
       "    <tr>\n",
       "      <th>6287</th>\n",
       "      <td>2</td>\n",
       "      <td>Re: apt.freshrpms.net</td>\n",
       "      <td>0</td>\n",
       "    </tr>\n",
       "    <tr>\n",
       "      <th>6707</th>\n",
       "      <td>2</td>\n",
       "      <td>Apt repository authentication: it's time</td>\n",
       "      <td>0</td>\n",
       "    </tr>\n",
       "    <tr>\n",
       "      <th>6834</th>\n",
       "      <td>2</td>\n",
       "      <td>Apt repository authentication: it's time</td>\n",
       "      <td>0</td>\n",
       "    </tr>\n",
       "    <tr>\n",
       "      <th>70</th>\n",
       "      <td>3</td>\n",
       "      <td>find the bug</td>\n",
       "      <td>0</td>\n",
       "    </tr>\n",
       "    <tr>\n",
       "      <th>136</th>\n",
       "      <td>3</td>\n",
       "      <td>[Razor-users] Razor2 error: can't find \"new\"</td>\n",
       "      <td>0</td>\n",
       "    </tr>\n",
       "    <tr>\n",
       "      <th>889</th>\n",
       "      <td>3</td>\n",
       "      <td>[Razor-users] Re: Can't call method \"log\" with...</td>\n",
       "      <td>0</td>\n",
       "    </tr>\n",
       "    <tr>\n",
       "      <th>6882</th>\n",
       "      <td>3</td>\n",
       "      <td>BUG REVIEW</td>\n",
       "      <td>0</td>\n",
       "    </tr>\n",
       "    <tr>\n",
       "      <th>8287</th>\n",
       "      <td>3</td>\n",
       "      <td>#1 SEXUAL PERFORMANCE FORMULA              O</td>\n",
       "      <td>1</td>\n",
       "    </tr>\n",
       "    <tr>\n",
       "      <th>8401</th>\n",
       "      <td>3</td>\n",
       "      <td>Banner Life Upgraded to A++</td>\n",
       "      <td>1</td>\n",
       "    </tr>\n",
       "    <tr>\n",
       "      <th>87</th>\n",
       "      <td>4</td>\n",
       "      <td>package my stuff please :P</td>\n",
       "      <td>0</td>\n",
       "    </tr>\n",
       "    <tr>\n",
       "      <th>1219</th>\n",
       "      <td>4</td>\n",
       "      <td>package my stuff please :P</td>\n",
       "      <td>0</td>\n",
       "    </tr>\n",
       "    <tr>\n",
       "      <th>1556</th>\n",
       "      <td>4</td>\n",
       "      <td>[Spambayes] All but one testing</td>\n",
       "      <td>0</td>\n",
       "    </tr>\n",
       "    <tr>\n",
       "      <th>4336</th>\n",
       "      <td>4</td>\n",
       "      <td>[Spambayes] spambayes package?</td>\n",
       "      <td>0</td>\n",
       "    </tr>\n",
       "    <tr>\n",
       "      <th>4337</th>\n",
       "      <td>4</td>\n",
       "      <td>[Spambayes] spambayes package?</td>\n",
       "      <td>0</td>\n",
       "    </tr>\n",
       "    <tr>\n",
       "      <th>4341</th>\n",
       "      <td>4</td>\n",
       "      <td>[Spambayes] spambayes package?</td>\n",
       "      <td>0</td>\n",
       "    </tr>\n",
       "  </tbody>\n",
       "</table>\n",
       "</div>"
      ],
      "text/plain": [
       "      cluster                                            subject  spam\n",
       "65          0                [use Perl] Headlines for 2002-08-30     0\n",
       "69          0                                NTK Now, 2002-08-30     0\n",
       "140         0                [use Perl] Headlines for 2002-10-08     0\n",
       "7432        0                       Are you ready for 10/5/2002?     1\n",
       "7900        0                       Are you ready for 10/5/2002?     1\n",
       "8864        0                       VTGE   7/22/2002 10:24:24 PM     1\n",
       "329         1  Re: \"Ouch. Ouch. Ouch. Ouch. Ouch....\"(was Re:...     0\n",
       "340         1  Re: \"Ouch. Ouch. Ouch. Ouch. Ouch....\"(was Re:...     0\n",
       "467         1                                            Ouch...     0\n",
       "5873        1  \"Ouch. Ouch. Ouch. Ouch. Ouch....\"(was Re: My ...     0\n",
       "5879        1  Re: \"Ouch. Ouch. Ouch. Ouch. Ouch....\"(was Re:...     0\n",
       "5899        1  Re: \"Ouch. Ouch. Ouch. Ouch. Ouch....\"(was Re:...     0\n",
       "318         2       Re: Apt repository authentication: it's time     0\n",
       "319         2       Re: Apt repository authentication: it's time     0\n",
       "320         2       Re: Apt repository authentication: it's time     0\n",
       "6287        2                              Re: apt.freshrpms.net     0\n",
       "6707        2           Apt repository authentication: it's time     0\n",
       "6834        2           Apt repository authentication: it's time     0\n",
       "70          3                                       find the bug     0\n",
       "136         3       [Razor-users] Razor2 error: can't find \"new\"     0\n",
       "889         3  [Razor-users] Re: Can't call method \"log\" with...     0\n",
       "6882        3                                         BUG REVIEW     0\n",
       "8287        3       #1 SEXUAL PERFORMANCE FORMULA              O     1\n",
       "8401        3                        Banner Life Upgraded to A++     1\n",
       "87          4                         package my stuff please :P     0\n",
       "1219        4                         package my stuff please :P     0\n",
       "1556        4                    [Spambayes] All but one testing     0\n",
       "4336        4                     [Spambayes] spambayes package?     0\n",
       "4337        4                     [Spambayes] spambayes package?     0\n",
       "4341        4                     [Spambayes] spambayes package?     0"
      ]
     },
     "execution_count": 33,
     "metadata": {},
     "output_type": "execute_result"
    }
   ],
   "source": [
    "# Most clusters with the lowest spread (stdev) in cluster counts\n",
    "dbscan.min_samples = 100\n",
    "dbscan.eps = 0.65\n",
    "\n",
    "clusters = dbscan.fit_predict(features_subject)\n",
    "clusters = pd.Series(clusters)\n",
    "clusters.index = df.index\n",
    "subject_clusters = pd.concat([ clusters, df['subject'], df['spam'] ], axis=1)\n",
    "subject_clusters.columns = ['cluster','subject', 'spam']\n",
    "\n",
    "heads_tails = pd.DataFrame({'cluster' : [], 'subject' : [], 'spam' : []}) \n",
    "for i in range( 0, max(clusters.unique())+1 ): # Exclude the -1 class which is a non-cluster\n",
    "    heads_tails = pd.concat([heads_tails, \n",
    "                             subject_clusters.loc[subject_clusters['cluster']==i].head(3),\n",
    "                             subject_clusters.loc[subject_clusters['cluster']==i].tail(3) ], axis=0)\n",
    "heads_tails[['cluster', 'spam']] = heads_tails[['cluster','spam']].astype(int)\n",
    "print('Head & tail of each cluster:')    \n",
    "heads_tails"
   ]
  },
  {
   "cell_type": "markdown",
   "metadata": {},
   "source": [
    "### Only 5 spam cases total in the clusters, specifically in clusters 0 and 3 per the table above.  \n",
    "These spam emails appear to be mis-clustered"
   ]
  },
  {
   "cell_type": "code",
   "execution_count": 34,
   "metadata": {},
   "outputs": [
    {
     "data": {
      "text/plain": [
       "0    944\n",
       "1      5\n",
       "Name: spam, dtype: int64"
      ]
     },
     "execution_count": 34,
     "metadata": {},
     "output_type": "execute_result"
    }
   ],
   "source": [
    "subject_clusters.loc[subject_clusters['cluster']!=-1,'spam'].value_counts()"
   ]
  },
  {
   "cell_type": "markdown",
   "metadata": {
    "id": "VgZRFeORN5D3"
   },
   "source": [
    "### Feature Collinearity <a id='feature-collinearity'>\n"
   ]
  },
  {
   "cell_type": "code",
   "execution_count": null,
   "metadata": {
    "id": "F8bqfy9fN5D3"
   },
   "outputs": [],
   "source": []
  },
  {
   "cell_type": "markdown",
   "metadata": {
    "id": "qXZZeARjN5D3"
   },
   "source": [
    "### Feature Outliers \n",
    " "
   ]
  },
  {
   "cell_type": "code",
   "execution_count": null,
   "metadata": {
    "id": "r4Sp5SYe8g_Z"
   },
   "outputs": [],
   "source": []
  },
  {
   "cell_type": "markdown",
   "metadata": {
    "id": "z6qUPkzRN5D4"
   },
   "source": [
    "## Assumptions <a id='assumptions'>"
   ]
  },
  {
   "cell_type": "markdown",
   "metadata": {
    "id": "SaEb4apWN5D4"
   },
   "source": []
  },
  {
   "cell_type": "markdown",
   "metadata": {
    "id": "zmuI_mep8g_b"
   },
   "source": [
    "# Model Preparations <a id='model-preparations'/>"
   ]
  },
  {
   "cell_type": "markdown",
   "metadata": {
    "id": "wxBwihRyOfZY"
   },
   "source": [
    "What methods did you use (or not) to solve the problem?\n",
    "\n",
    "Why are the methods you chose appropriate given the business objective?\n",
    "\n",
    "How did you decide your approach was useful?  If more than one method, which one was better or why are each better or not?\n",
    "\n",
    "What evaluation smetrics are most useful given the problem is a binary classification (ex. accuracy, f1-score, precision, recall AUC, etc)?\n",
    "\n"
   ]
  },
  {
   "cell_type": "markdown",
   "metadata": {
    "id": "BnCsXV_c8g_V"
   },
   "source": [
    "## Sampling & Scaling Data <a id='sampling-scaling-data' />"
   ]
  },
  {
   "cell_type": "markdown",
   "metadata": {
    "id": "cXqoLTm_8g_c"
   },
   "source": [
    "## Proposed Method <a id='proposed-metrics' />"
   ]
  },
  {
   "cell_type": "markdown",
   "metadata": {
    "id": "0lLPX93kN5D6"
   },
   "source": []
  },
  {
   "cell_type": "markdown",
   "metadata": {
    "id": "HT4eeZsX8g_c"
   },
   "source": [
    "## Evaluation Metrics <a id='evaluation-metrics' />"
   ]
  },
  {
   "cell_type": "markdown",
   "metadata": {
    "id": "hGvfqpC4N5D6"
   },
   "source": [
    " "
   ]
  },
  {
   "cell_type": "markdown",
   "metadata": {
    "id": "DeWgSmQW8g_Z"
   },
   "source": [
    "### Baseline Model"
   ]
  },
  {
   "cell_type": "markdown",
   "metadata": {
    "id": "UUpR8S0tN5D7"
   },
   "source": []
  },
  {
   "cell_type": "code",
   "execution_count": null,
   "metadata": {
    "id": "ul4ybaieN5D7"
   },
   "outputs": [],
   "source": []
  },
  {
   "cell_type": "markdown",
   "metadata": {
    "id": "rADZ1qTz8g_c"
   },
   "source": [
    "## Feature Selection <a id='feature-selection' />"
   ]
  },
  {
   "cell_type": "markdown",
   "metadata": {
    "id": "w459qqI-N5D7"
   },
   "source": [
    " "
   ]
  },
  {
   "cell_type": "code",
   "execution_count": null,
   "metadata": {
    "id": "9lfHYitKN5D7"
   },
   "outputs": [],
   "source": []
  },
  {
   "cell_type": "markdown",
   "metadata": {
    "id": "UuRjMsjg8g_d"
   },
   "source": [
    "# Model Building & Evaluations <a id='model-building'/>"
   ]
  },
  {
   "cell_type": "markdown",
   "metadata": {
    "id": "JIef6T0FPIVM"
   },
   "source": [
    "Primary task is buiding a logistic regression to predict hospital readmittances.\n",
    "\n",
    "How did you handle missing values?\n",
    "\n",
    "Specify your sampling methodology\n",
    "\n",
    "Set up your models - highlights of any important parameters\n",
    "\n",
    "Analysis of your models performance"
   ]
  },
  {
   "cell_type": "markdown",
   "metadata": {},
   "source": [
    "## Split into training and test"
   ]
  },
  {
   "cell_type": "code",
   "execution_count": 35,
   "metadata": {},
   "outputs": [],
   "source": [
    "def split_dependant_and_independant_variables(df: pd.DataFrame, y_var: str):\n",
    "    X = df.copy()\n",
    "    y = X[y_var]\n",
    "    X = X.drop([y_var], axis=1)\n",
    "    return X, y"
   ]
  },
  {
   "cell_type": "code",
   "execution_count": 36,
   "metadata": {},
   "outputs": [],
   "source": [
    "def shuffle_split(X, y, test_size, random_state):\n",
    "    stratified_shuffle_split = StratifiedShuffleSplit(n_splits=1, test_size=test_size, random_state=random_state)\n",
    "    for train_index, test_index in stratified_shuffle_split.split(X, y):\n",
    "        X_train, X_test = X.iloc[train_index], X.iloc[test_index]\n",
    "        y_train, y_test = y[train_index], y[test_index]\n",
    "    return X_train, X_test, y_train, y_test"
   ]
  },
  {
   "cell_type": "code",
   "execution_count": 37,
   "metadata": {},
   "outputs": [],
   "source": [
    "X, y = split_dependant_and_independant_variables(df, 'spam')"
   ]
  },
  {
   "cell_type": "code",
   "execution_count": 38,
   "metadata": {},
   "outputs": [],
   "source": [
    "X_train, X_test, y_train, y_test = shuffle_split(X, y, test_size=0.3, random_state=12343)"
   ]
  },
  {
   "cell_type": "markdown",
   "metadata": {},
   "source": [
    "### Base Naive Bayes"
   ]
  },
  {
   "cell_type": "markdown",
   "metadata": {},
   "source": [
    "Team drew inspriation from https://towardsdatascience.com/training-a-naive-bayes-model-to-identify-the-author-of-an-email-or-document-17dc85fa630a"
   ]
  },
  {
   "cell_type": "code",
   "execution_count": 39,
   "metadata": {},
   "outputs": [
    {
     "data": {
      "image/png": "[encoded data removed]",
      "text/plain": [
       "<Figure size 432x288 with 1 Axes>"
      ]
     },
     "metadata": {
      "needs_background": "light"
     },
     "output_type": "display_data"
    }
   ],
   "source": [
    "count_Class=pd.value_counts(df[\"spam\"], sort= True)\n",
    "count_Class.plot(kind= 'bar', color= [\"blue\", \"orange\"])\n",
    "plt.title('Bar chart')\n",
    "plt.show()"
   ]
  },
  {
   "cell_type": "code",
   "execution_count": 40,
   "metadata": {},
   "outputs": [],
   "source": [
    "def dummy_fun(doc):\n",
    "    return doc"
   ]
  },
  {
   "cell_type": "code",
   "execution_count": 41,
   "metadata": {},
   "outputs": [],
   "source": [
    "vectorizer = TfidfVectorizer(analyzer='word', tokenizer=dummy_fun, preprocessor=dummy_fun, token_pattern=None)"
   ]
  },
  {
   "cell_type": "code",
   "execution_count": 42,
   "metadata": {},
   "outputs": [],
   "source": [
    "features_subject_train = vectorizer.fit_transform(X_train['clean_subject'])\n",
    "features_subject_test = vectorizer.transform(X_test['clean_subject'])"
   ]
  },
  {
   "cell_type": "code",
   "execution_count": 43,
   "metadata": {},
   "outputs": [
    {
     "data": {
      "text/plain": [
       "<6547x6105 sparse matrix of type '<class 'numpy.float64'>'\n",
       "\twith 37731 stored elements in Compressed Sparse Row format>"
      ]
     },
     "execution_count": 43,
     "metadata": {},
     "output_type": "execute_result"
    }
   ],
   "source": [
    "features_subject_train"
   ]
  },
  {
   "cell_type": "code",
   "execution_count": 44,
   "metadata": {},
   "outputs": [],
   "source": [
    "features_body_train = vectorizer.fit_transform(X_train['clean_body'])\n",
    "features_body_test = vectorizer.transform(X_test['clean_body'])"
   ]
  },
  {
   "cell_type": "code",
   "execution_count": 45,
   "metadata": {
    "scrolled": true
   },
   "outputs": [
    {
     "data": {
      "text/plain": [
       "<6547x84850 sparse matrix of type '<class 'numpy.float64'>'\n",
       "\twith 974741 stored elements in Compressed Sparse Row format>"
      ]
     },
     "execution_count": 45,
     "metadata": {},
     "output_type": "execute_result"
    }
   ],
   "source": [
    "features_body_train"
   ]
  },
  {
   "cell_type": "code",
   "execution_count": 46,
   "metadata": {},
   "outputs": [],
   "source": [
    "from scipy import sparse\n",
    "features_joined_train = sparse.hstack((features_subject_train, features_body_train), format='csr') \n",
    "features_joined_test = sparse.hstack((features_subject_test, features_body_test), format='csr') "
   ]
  },
  {
   "cell_type": "code",
   "execution_count": 47,
   "metadata": {},
   "outputs": [
    {
     "data": {
      "text/plain": [
       "<6547x90955 sparse matrix of type '<class 'numpy.float64'>'\n",
       "\twith 1012472 stored elements in Compressed Sparse Row format>"
      ]
     },
     "execution_count": 47,
     "metadata": {},
     "output_type": "execute_result"
    }
   ],
   "source": [
    "features_joined_train"
   ]
  },
  {
   "cell_type": "markdown",
   "metadata": {},
   "source": [
    "## Feature Selection\n",
    "Only need 1% (or less) of the features to predict spam without overfitting"
   ]
  },
  {
   "cell_type": "code",
   "execution_count": 162,
   "metadata": {},
   "outputs": [],
   "source": [
    "selector = SelectPercentile(f_classif, percentile=1)"
   ]
  },
  {
   "cell_type": "code",
   "execution_count": 163,
   "metadata": {},
   "outputs": [],
   "source": [
    "selector.fit(features_subject_train, y_train)\n",
    "features_subject_train_sel = selector.transform(features_subject_train).toarray()\n",
    "features_subject_test_sel = selector.transform(features_subject_test).toarray()"
   ]
  },
  {
   "cell_type": "code",
   "execution_count": 164,
   "metadata": {},
   "outputs": [
    {
     "data": {
      "text/plain": [
       "(6547, 62)"
      ]
     },
     "execution_count": 164,
     "metadata": {},
     "output_type": "execute_result"
    }
   ],
   "source": [
    "features_subject_train_sel.shape"
   ]
  },
  {
   "cell_type": "code",
   "execution_count": 165,
   "metadata": {},
   "outputs": [],
   "source": [
    "selector.fit(features_body_train, y_train)\n",
    "features_body_train_sel = selector.transform(features_body_train).toarray()\n",
    "features_body_test_sel = selector.transform(features_body_test).toarray()"
   ]
  },
  {
   "cell_type": "code",
   "execution_count": 166,
   "metadata": {},
   "outputs": [
    {
     "data": {
      "text/plain": [
       "(6547, 848)"
      ]
     },
     "execution_count": 166,
     "metadata": {},
     "output_type": "execute_result"
    }
   ],
   "source": [
    "features_body_train_sel.shape"
   ]
  },
  {
   "cell_type": "code",
   "execution_count": 167,
   "metadata": {},
   "outputs": [],
   "source": [
    "selector.fit(features_joined_train, y_train)\n",
    "features_joined_train_sel = selector.transform(features_joined_train).toarray()\n",
    "features_joined_test_sel = selector.transform(features_joined_test).toarray()"
   ]
  },
  {
   "cell_type": "code",
   "execution_count": 168,
   "metadata": {},
   "outputs": [
    {
     "data": {
      "text/plain": [
       "(6547, 910)"
      ]
     },
     "execution_count": 168,
     "metadata": {},
     "output_type": "execute_result"
    }
   ],
   "source": [
    "features_joined_train_sel.shape"
   ]
  },
  {
   "cell_type": "markdown",
   "metadata": {},
   "source": [
    "## Modeling"
   ]
  },
  {
   "cell_type": "code",
   "execution_count": 152,
   "metadata": {},
   "outputs": [
    {
     "data": {
      "text/plain": [
       "0    0.743505\n",
       "1    0.256495\n",
       "Name: spam, dtype: float64"
      ]
     },
     "execution_count": 152,
     "metadata": {},
     "output_type": "execute_result"
    }
   ],
   "source": [
    "# Baseline accuracy of 74% with class imbalance\n",
    "df['spam'].value_counts(normalize=True)"
   ]
  },
  {
   "cell_type": "code",
   "execution_count": 58,
   "metadata": {},
   "outputs": [
    {
     "name": "stdout",
     "output_type": "stream",
     "text": [
      "Train Subject Accuracy: 0.9761722926531236\n",
      "Test Subject Accuracy: 0.9237348538845331\n"
     ]
    }
   ],
   "source": [
    "# All subject features - overfits training set by 5.5%\n",
    "model1a = GaussianNB()\n",
    "features_subject_train1 = features_subject_train.toarray()\n",
    "features_subject_test1 = features_subject_test.toarray()\n",
    "model1a.fit(features_subject_train1, y_train)\n",
    "score_train = model1a.score(features_subject_train1, y_train)\n",
    "score_test = model1a.score(features_subject_test1, y_test)\n",
    "print(\"Train Subject Accuracy:\", score_train)\n",
    "print(\"Test Subject Accuracy:\", score_test)"
   ]
  },
  {
   "cell_type": "code",
   "execution_count": 169,
   "metadata": {},
   "outputs": [
    {
     "name": "stdout",
     "output_type": "stream",
     "text": [
      "Train Subject Accuracy: 0.8312204062929586\n",
      "Test Subject Accuracy: 0.8296507483962936\n"
     ]
    }
   ],
   "source": [
    "# 1% of subject features - no overfitting\n",
    "model1b = GaussianNB()\n",
    "model1b.fit(features_subject_train_sel, y_train)\n",
    "score_train = model1b.score(features_subject_train_sel, y_train)\n",
    "score_test = model1b.score(features_subject_test_sel, y_test)\n",
    "print(\"Train Subject Accuracy:\", score_train)\n",
    "print(\"Test Subject Accuracy:\", score_test)"
   ]
  },
  {
   "cell_type": "code",
   "execution_count": 170,
   "metadata": {
    "scrolled": false
   },
   "outputs": [],
   "source": [
    "# 1% of body features\n",
    "model2 = GaussianNB()\n",
    "model2.fit(features_body_train_sel, y_train)\n",
    "score_train = model2.score(features_body_train_sel, y_train)\n",
    "score_test = model2.score(features_body_test_sel, y_test)"
   ]
  },
  {
   "cell_type": "code",
   "execution_count": 171,
   "metadata": {},
   "outputs": [
    {
     "name": "stdout",
     "output_type": "stream",
     "text": [
      "Train Body Score: 0.9596761875668245\n",
      "Test Body Score: 0.9490377761938703\n"
     ]
    }
   ],
   "source": [
    "# overfits training set by just 1% accuracy\n",
    "print(\"Train Body Score:\", score_train)\n",
    "print(\"Test Body Score:\", score_test)"
   ]
  },
  {
   "cell_type": "code",
   "execution_count": 183,
   "metadata": {},
   "outputs": [
    {
     "name": "stdout",
     "output_type": "stream",
     "text": [
      "Train Body Score: 0.9225599511226515\n",
      "Test Body Score: 0.9215965787598004\n"
     ]
    }
   ],
   "source": [
    "# 0.1% of body features\n",
    "selector = SelectPercentile(f_classif, percentile=0.1)\n",
    "selector.fit(features_body_train, y_train)\n",
    "features_body_train_sel = selector.transform(features_body_train).toarray()\n",
    "features_body_test_sel = selector.transform(features_body_test).toarray()\n",
    "model2b = GaussianNB()\n",
    "model2b.fit(features_body_train_sel, y_train)\n",
    "score_train = model2b.score(features_body_train_sel, y_train)\n",
    "score_test = model2b.score(features_body_test_sel, y_test)\n",
    "print(\"Train Body Score:\", score_train)\n",
    "print(\"Test Body Score:\", score_test)"
   ]
  },
  {
   "cell_type": "code",
   "execution_count": 172,
   "metadata": {},
   "outputs": [],
   "source": [
    "# 1st percentile of subject + body features\n",
    "model3 = GaussianNB()\n",
    "model3.fit(features_joined_train_sel, y_train)\n",
    "score_train = model3.score(features_joined_train_sel, y_train)\n",
    "score_test = model3.score(features_joined_test_sel, y_test)"
   ]
  },
  {
   "cell_type": "code",
   "execution_count": 173,
   "metadata": {},
   "outputs": [
    {
     "name": "stdout",
     "output_type": "stream",
     "text": [
      "Train Body Score: 0.9601344127081106\n",
      "Test Body Score: 0.9493941553813258\n"
     ]
    }
   ],
   "source": [
    "# overfits training set by just 1%\n",
    "print(\"Train Body Score:\", score_train)\n",
    "print(\"Test Body Score:\", score_test)"
   ]
  },
  {
   "cell_type": "code",
   "execution_count": 184,
   "metadata": {},
   "outputs": [
    {
     "name": "stdout",
     "output_type": "stream",
     "text": [
      "Train Body Score: 0.9230181762639377\n",
      "Test Body Score: 0.9215965787598004\n"
     ]
    }
   ],
   "source": [
    "# 0.1% of subject + body features, similar to body only, not worth the complexity\n",
    "selector = SelectPercentile(f_classif, percentile=0.1)\n",
    "selector.fit(features_joined_train, y_train)\n",
    "features_joined_train_sel = selector.transform(features_joined_train).toarray()\n",
    "features_joined_test_sel = selector.transform(features_joined_test).toarray()\n",
    "model2b = GaussianNB()\n",
    "model2b.fit(features_joined_train_sel, y_train)\n",
    "score_train = model2b.score(features_joined_train_sel, y_train)\n",
    "score_test = model2b.score(features_joined_test_sel, y_test)\n",
    "print(\"Train Body Score:\", score_train)\n",
    "print(\"Test Body Score:\", score_test)"
   ]
  },
  {
   "cell_type": "code",
   "execution_count": null,
   "metadata": {},
   "outputs": [],
   "source": []
  },
  {
   "cell_type": "code",
   "execution_count": null,
   "metadata": {},
   "outputs": [],
   "source": []
  },
  {
   "cell_type": "markdown",
   "metadata": {
    "id": "UU9VF8AM8g_d"
   },
   "source": [
    "## Sampling Methodology <a id='sampling-methodology'/>"
   ]
  },
  {
   "cell_type": "markdown",
   "metadata": {
    "id": "Wu8uewjVN5D8"
   },
   "source": [
    "#### Per the code above we used a 70/30 train test sample split"
   ]
  },
  {
   "cell_type": "code",
   "execution_count": null,
   "metadata": {
    "id": "hDVXhO8F8g_d",
    "scrolled": true
   },
   "outputs": [],
   "source": []
  },
  {
   "cell_type": "markdown",
   "metadata": {
    "id": "p-C7Tc5W8g_e"
   },
   "source": [
    "## Model's Performance Analysis <a id='performance-analysis'/>"
   ]
  },
  {
   "cell_type": "markdown",
   "metadata": {
    "id": "B1QaouAiN5D9"
   },
   "source": []
  },
  {
   "cell_type": "markdown",
   "metadata": {
    "id": "HISQa9FO8g_e"
   },
   "source": [
    "# Model Interpretability & Explainability <a id='model-explanation'>"
   ]
  },
  {
   "cell_type": "markdown",
   "metadata": {
    "id": "5rlSakuzPhjw"
   },
   "source": [
    "Which variables were more important and why?\n",
    "\n",
    "How did you come to the conclusion these variables were important how how should the audience interpret this?"
   ]
  },
  {
   "cell_type": "markdown",
   "metadata": {
    "id": "PSBc4ETe8g_e"
   },
   "source": [
    "## Examining Feature Importance <a id='examining-feature-importance'/>"
   ]
  },
  {
   "cell_type": "code",
   "execution_count": null,
   "metadata": {
    "id": "BpGIwvaMQD8M"
   },
   "outputs": [],
   "source": []
  },
  {
   "cell_type": "markdown",
   "metadata": {
    "id": "yb4q1PtqN5D9"
   },
   "source": []
  },
  {
   "cell_type": "code",
   "execution_count": null,
   "metadata": {
    "id": "LLbI9bVy8g_e"
   },
   "outputs": [],
   "source": []
  },
  {
   "cell_type": "markdown",
   "metadata": {
    "id": "JbAhMB1x8g_e"
   },
   "source": [
    "# Conclusion <a id='conclusion'>"
   ]
  },
  {
   "cell_type": "markdown",
   "metadata": {
    "id": "fetUVJsePwN7"
   },
   "source": [
    "What are you proposing to the audience with your models and why?\n",
    "\n",
    "How should your audience interpret your conclusion and whwere should they go moving forward on the topic?\n",
    "\n",
    "What other approaches do you recommend exploring?\n",
    "\n",
    "Bring it all home!"
   ]
  },
  {
   "cell_type": "markdown",
   "metadata": {
    "id": "xnsadV7M8g_e"
   },
   "source": [
    "### Final Model Proposal <a id='final-model-proposal'/>"
   ]
  },
  {
   "cell_type": "markdown",
   "metadata": {
    "id": "4XXMCBozN5D-"
   },
   "source": []
  },
  {
   "cell_type": "markdown",
   "metadata": {
    "id": "oX8fXYczN5D-"
   },
   "source": [
    "### Future Considerations and Model Enhancements <a id='model-enhancements'/>"
   ]
  },
  {
   "cell_type": "markdown",
   "metadata": {
    "id": "xzeTkIEWN5D-"
   },
   "source": []
  },
  {
   "cell_type": "markdown",
   "metadata": {
    "id": "Thch7JfCN5D_"
   },
   "source": [
    "### Alternative Modeling Approaches <a id='alternative-modeling-approaches'>"
   ]
  },
  {
   "cell_type": "markdown",
   "metadata": {
    "id": "IUpUUjATN5D_"
   },
   "source": []
  }
 ],
 "metadata": {
  "colab": {
   "name": "Case_Study_1.ipynb",
   "provenance": []
  },
  "kernelspec": {
   "display_name": "Python 3",
   "language": "python",
   "name": "python3"
  },
  "language_info": {
   "codemirror_mode": {
    "name": "ipython",
    "version": 3
   },
   "file_extension": ".py",
   "mimetype": "text/x-python",
   "name": "python",
   "nbconvert_exporter": "python",
   "pygments_lexer": "ipython3",
   "version": "3.7.10"
  }
 },
 "nbformat": 4,
 "nbformat_minor": 1
}
