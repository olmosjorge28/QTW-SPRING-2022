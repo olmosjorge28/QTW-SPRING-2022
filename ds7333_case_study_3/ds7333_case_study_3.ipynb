{
 "cells": [
  {
   "cell_type": "markdown",
   "metadata": {
    "id": "GoCXzNvN8g-8"
   },
   "source": [
    "# Case Study 3 - Email Spam"
   ]
  },
  {
   "cell_type": "markdown",
   "metadata": {
    "id": "YBy24RcB8g-9"
   },
   "source": [
    "__Team Members:__ Amber Clark, Andrew Leppla, Jorge Olmos, Paritosh Rai"
   ]
  },
  {
   "cell_type": "markdown",
   "metadata": {
    "id": "O4O0up-U8g-9"
   },
   "source": [
    "# Content\n",
    "* [Business Understanding](#business-understanding)\n",
    "  - [Introduction](#introduction)\n",
    "  - [Methods](#methods)\n",
    "  - [Results](#results)\n",
    "* [Data Engineering](#data-evaluation)\n",
    "  - [Data Summary](#data-summary)\n",
    "  - [Loading Data](#loading-data) \n",
    "  - [Missing Values](#missing-values)\n",
    "  - [Exploratory Data Analysis (EDA)](#eda)\n",
    "  - [Assumptions](#assumptions)\n",
    "* [Model Preparations](#model-preparations)\n",
    "* [Model Building & Evaluations](#model-building)\n",
    "* [Conclusion](#conclusion)\n",
    "  - [Final Model Proposal](#final-model-proposal)\n",
    "  - [Future Considerations and Model Enhancements](#model-enhancements)\n"
   ]
  },
  {
   "cell_type": "markdown",
   "metadata": {
    "id": "TRedT-FB8g_A"
   },
   "source": [
    "# Business Understanding & Executive Summary <a id='business-understanding'/>"
   ]
  },
  {
   "cell_type": "markdown",
   "metadata": {
    "id": "F-4BiuuQOEh4"
   },
   "source": [
    "### Objective <a id='scope'/>\n",
    "This case study involves a text analysis of several thousand emails to create a model that identifies spam. "
   ]
  },
  {
   "cell_type": "markdown",
   "metadata": {},
   "source": [
    "### Introduction <a id='introduction'/>"
   ]
  },
  {
   "cell_type": "markdown",
   "metadata": {},
   "source": [
    "Spam is a term for unsolicited email (and now other forms of messaging) that has plagued inboxes for virtually as long as email has existed. The spam originated from a song in Monty Python's Flying Circus with the lyric, \"Spam spam spam spam, spam spam spam spam, lovely spam, wonderful spam.\" In this scene, a group of Vikings in a cafe are singing about the ubiquity of the canned meat product after World War II. [1]. The term fits well to describe the potentially overwhelming pervasive presence of these unwanted and often malicious emails.\n",
    "\n",
    "According to spamlaws.com [2], 14.5 billion messages globally per day, i.e., approximately 45% of all emails (or more according to certain research firms) are considered spam. The United States is the number one generator of spam emails. The types of spam range from relatively harmless but annoying advertising (36%), some attempt to gather sensitive personal information, to malware that can install critically harmful programs capable of crashing networks or stealing data. Email filters designed to block or delete spam are essential and constantly tested by those trying to penetrate the inboxes of business and personal accounts over the globe. Even with these security measures in place, some research firms estimate that the annual losses due to productivity interruption and technical expenses to deal with spam amount to over $20 billion [2].\n",
    "\n",
    "The case study analysis examines thousands of sample emails that have been identified as either everyday correspondence(ham) or spam and attempts to build a model that can classify the emails correctly using the email sample provided."
   ]
  },
  {
   "cell_type": "markdown",
   "metadata": {},
   "source": [
    "### Methods <a id='methods'/>"
   ]
  },
  {
   "cell_type": "markdown",
   "metadata": {},
   "source": [
    "#### Data Wrangling\n",
    "Data was provided in five (5) folders containing email text – spam, spam_2, easy_ham, easy_ham2, and hard_ham – to extract the information and construct the dataset that can be leveraged to identify the spam emails. Extracted features included: folder name (folder), mail originator (from), email subject (subject), and main message (body). \n",
    "\n",
    "To make the data more manageable and processable, data cleaning was carried out to remove html and xml tags, unwanted characters, and null/empty values (NaN) from the subject and main text. Data was split in training and test sets in a 70/30 ratio, respectively. Care was taken to manage the imbalance ratio of spam and ham in training and test sets. \n",
    "\n",
    "#### NLP and Naive Bayes\n",
    "Data was processed using TFIDF (Term Frequency Inverse Data Frequency) to quantify and determine the uncommon words across the spam and ham emails in the training set for email body and subject. \n",
    "\n",
    "<img src=\"https://raw.githubusercontent.com/olmosjorge28/QTW-SPRING-2022/main/ds7333_case_study_3/eda_top20_subject_body.png\" width=650 height=650 />  \n",
    "\n",
    "Gaussian Naive Bayes (GaussianNB) was used to build the model from the TFIDF features. Predicted outcomes of the train and test data set were compared with the actual outcomes.\n",
    "\n",
    "The team decided to use NLP (Natural Language Processing) to read and identify the text in the email subject and body. Team performed cleanup efforts on unstructured text data and removed unwanted characters and symbols to create a structured alphanumeric data frame. \n",
    "\n",
    "The Naïve Bayes algorithm was used to classify the data. This classification technique works well when features predicting the target classification are assumed to be independent of each other, and it is a proven method for effectively classifying spam.  \n",
    "#### DBSCAN\n",
    "Density-Based Spatial Clustering of Applications with Noise (DBSCAN) algorithm was used to find associations and structures in the data that are challenging to find manually but are relevant and valuable to find patterns and predict trends. DBSCAN groups the data points close to each other based on the density and distance measured. It also identifies the outliers in low-density regions. In the case of email, it was able to identify closely related words and separate the noise or irrelevant words. This algorithm effectively manages outliers by detecting them and considering them as non-clusters (not able to cluster them). DBSCAN allows for easy execution of various distance measures. Cosine distance (1 - cosine similarity) measures the relationship of the angle between vectors, i.e., two overlapping vectors will have minimum values. Cosine distance works excellent with text. \n",
    "\n",
    "#### Metrics\n",
    "The metrics used to evaluate model performance were accuracy, F1, and time to process. Time to process the emails was also considered an essential factor since spam should be predicted in real time. So, the team had to find the right balance between the three legs of stool (accuracy, F1, and time to process).  \n",
    "\n",
    "By maximizing the F1 score, the model balances both recall and precision for the positive class to ensure right balance is achieved to minimize the ham being identified as Spam and Spam as ham as both can create challenge.   \n",
    "\n",
    "##### Accuracy\n",
    "\n",
    "Accuracy refers to the level of agreement between the actual measurement and the predicted value.\n",
    "\n",
    "##### F1\n",
    "\n",
    "F1 values depend on Precision and Recall. Precision and recall are useful metrics when the classes are imbalanced like in this dataset. These metrics are defined as follows:\n",
    "\n",
    "Recall = TP/(TP+FN)\n",
    "Precision = TP/(TP+FP)\n",
    "\n",
    "Where:\n",
    "\n",
    "- True Positive (TP) is \"email is correctly predicted to be spam\". These predictions will correctly identify spam mail.\n",
    "- False Negative (FN) is \"email is incorrectly predicting ham to be spam\". These predictions would predict ham as spam.\n",
    "- False Positive (FP) is \"email is incorrectly predicting ham to be spam\". These predictions would identify ham as spam.\n",
    "\n",
    "Both Recall and Precision focus the modeling on True Positives, but Recall is penalized by False Negatives whereas Precision is penalized by False Positives. \n",
    "\n",
    "To balance both precision and recall, the team used the F1 score. The F1 score combines precision and recall into a single metric by taking their harmonic mean:\n",
    "\n",
    "F1 = 2 * Recall * Precision / (Recall + Precision)\n",
    "\n",
    "In the absence of stakeholder guidance, the team chose this balanced approach to misclassification.  \n",
    "\n",
    "##### Processing Time\n",
    "The time to process the email is calculated for each model. The team tuned the number of features in the Naïve Bayes model to optimize the processing time and prevent over fitting.\n",
    "\n",
    "#### Modeling Objective\n",
    "\n",
    "The team's objective was to maximize __accuracy__ and __F1__ while minimizing the __processing time__ to make predictions in real time."
   ]
  },
  {
   "cell_type": "markdown",
   "metadata": {},
   "source": [
    "### Results <a id='results'/>"
   ]
  },
  {
   "cell_type": "markdown",
   "metadata": {},
   "source": [
    "#### Clustering\n",
    "\n",
    "Using DBSCAN clustering on the email subjects, 4 clusters were identified that contained only ham emails (__635__ emails total ~7%).  These subjects were related to news and dates, pain (e.g. ouch, hurts), and specific email or website domains like [zzzzteana] and [Spambayes] (a bit of a misnomer).  These \"ham clusters\" could be used to pass similar emails through quickly as ham without further modeling."
   ]
  },
  {
   "cell_type": "markdown",
   "metadata": {},
   "source": [
    "#### Predicting Spam with Naive Bayes"
   ]
  },
  {
   "cell_type": "markdown",
   "metadata": {},
   "source": [
    "The team's goal was to maximize accuracy while minimizing the number of features and processing time to make predictions in real time.  The best model used __5%__ of the features from the email subject+body with __4,521__ features, accuracy of __97%__, F1-score of __93%__, and *processing time of __1__ second (__20-25X__ faster than all subject+body features).\n",
    "\n",
    "*processing time depends on the machine"
   ]
  },
  {
   "cell_type": "markdown",
   "metadata": {},
   "source": [
    "|Type         |   Percentile |   # of Features |   Train Accuracy |   Test Accuracy |   f1-score |   Processing Time|\n",
    "|------------ | ------------ | --------------- | ---------------- | --------------- | ---------- | -----------------|\n",
    "|subject      |          100 |            5891 |             0.96 |            0.92 |       0.81 |            1.8125|\n",
    "|body         |          100 |           84542 |             0.94 |            0.92 |       0.82 |           27.7031|\n",
    "|subject+body |          100 |           90433 |             0.98 |            0.95 |       0.9  |           26.7969|\n",
    "|subject      |            5 |             295 |             0.87 |            0.85 |       0.6  |            0.2344|\n",
    "|body         |            5 |            4227 |             0.97 |            0.96 |       0.92 |            1.4219|\n",
    "|__subject+body__ |            __5__ |            __4521__ |             __0.97__ |            __0.97__ |       __0.93__ |            __1__|\n",
    "|body         |            1 |             846 |             0.94 |            0.93 |       0.85 |            0.25|\n",
    "|subject+body |            1 |             905 |             0.95 |            0.94 |       0.87 |            0.2656|"
   ]
  },
  {
   "cell_type": "markdown",
   "metadata": {},
   "source": [
    "The top word features that predicted spam from the final model were: \n",
    "- a blank subject line \"\" \n",
    "- \"free\" in the subject line\n",
    "- \"click\", \"email\", \"free\" in the email body\n",
    "\n",
    "The top word features that predicted ham from the final model were: \n",
    "- \"ilug\", \"spambayes\" in the subject line\n",
    "- \"date, \"url\" in email body"
   ]
  },
  {
   "cell_type": "markdown",
   "metadata": {
    "id": "PVtcYu5j8g_B"
   },
   "source": [
    "# Data Engineering <a id='data-evaluation'>\n",
    "    "
   ]
  },
  {
   "cell_type": "markdown",
   "metadata": {},
   "source": [
    "## Data Summary"
   ]
  },
  {
   "cell_type": "markdown",
   "metadata": {},
   "source": [
    "Data was provided in five (5) folders containing email text – spam, spam_2, easy_ham, easy_ham2, and hard_ham – to extract the information to construct the dataset that can be leveraged to identify the spam emails. Empty email data frame was created with folder name (folder), mail originator (from), email subject (subject), and main message (body). Email from the five (5) folders listed above was extracted and parsed under the respective column into the email data frame."
   ]
  },
  {
   "cell_type": "code",
   "execution_count": 1,
   "metadata": {
    "id": "qcBcP8Jy8g_C",
    "outputId": "a6a85b4a-a106-48bb-bc2a-e6a5fb8ca494"
   },
   "outputs": [],
   "source": [
    "# standard libraries\n",
    "import pandas as pd\n",
    "import numpy as np\n",
    "import re\n",
    "import os\n",
    "from IPython.display import Image\n",
    "import sklearn\n",
    "import time\n",
    "# email\n",
    "from email import policy\n",
    "from email.parser import BytesParser\n",
    "\n",
    "# visualization\n",
    "import seaborn as sns\n",
    "import matplotlib.pyplot as plt\n",
    "%matplotlib inline\n",
    "from tabulate import tabulate\n",
    "from collections import defaultdict\n",
    "from collections import  Counter\n",
    "\n",
    "# data pre-processing\n",
    "from sklearn.model_selection import train_test_split\n",
    "from sklearn.model_selection import StratifiedShuffleSplit\n",
    "from sklearn.feature_extraction.text import TfidfVectorizer\n",
    "\n",
    "# clustering\n",
    "from sklearn.cluster import DBSCAN\n",
    "from statistics import stdev\n",
    "\n",
    "# prediction models\n",
    "from sklearn.naive_bayes import GaussianNB\n",
    "from sklearn.naive_bayes import MultinomialNB\n",
    "from sklearn.feature_selection import SelectPercentile, f_classif\n",
    "from sklearn.ensemble import VotingClassifier\n",
    "from sklearn.model_selection import cross_val_score\n",
    "\n",
    "from sklearn.metrics import f1_score\n",
    "from sklearn.metrics import confusion_matrix\n",
    "from sklearn.metrics import accuracy_score\n",
    "\n",
    "# import warnings filter\n",
    "import warnings\n",
    "warnings.filterwarnings('ignore')\n",
    "from warnings import simplefilter \n",
    "simplefilter(action='ignore', category=FutureWarning)"
   ]
  },
  {
   "cell_type": "markdown",
   "metadata": {
    "id": "4WcvKI3y8g_C"
   },
   "source": [
    "### Loading Data and Cleanup <a id='loading-data'>"
   ]
  },
  {
   "cell_type": "markdown",
   "metadata": {
    "id": "ZDhb7boF8g_D"
   },
   "source": [
    "As part of data cleanup, team removed HTML tags, stop words, and non-alphanumeric characters."
   ]
  },
  {
   "cell_type": "code",
   "execution_count": 2,
   "metadata": {
    "id": "3dYvb9W38g_D",
    "outputId": "3a6b397c-92dc-4ce0-c599-9cf69191e676"
   },
   "outputs": [],
   "source": [
    "import os\n",
    "notebook_path = os.path.abspath('ds7333_case_study_3')"
   ]
  },
  {
   "cell_type": "code",
   "execution_count": 3,
   "metadata": {},
   "outputs": [],
   "source": [
    "file_spam = os.path.join(os.path.dirname(notebook_path), \"SpamAssassinMessages\")"
   ]
  },
  {
   "cell_type": "code",
   "execution_count": 4,
   "metadata": {},
   "outputs": [],
   "source": [
    "def get_all_files(folder):\n",
    "    file_list = []\n",
    "    if os.path.exists(folder):\n",
    "        for root, dirs, files in os.walk(folder):\n",
    "            for file in files:\n",
    "                file_list.append(os.path.join(root,file))\n",
    "    return file_list"
   ]
  },
  {
   "cell_type": "code",
   "execution_count": 5,
   "metadata": {},
   "outputs": [],
   "source": [
    "folders = os.listdir(file_spam)\n",
    "# Get the file names in each folder (list of lists)\n",
    "files = [ os.listdir(file_spam+ '/'+ folder) for folder in folders] \n",
    "\n",
    "# Create a list of dataframes for all of the folders\n",
    "emails = [ pd.DataFrame({'folder' : [], 'from' : [], 'subject' : [], 'body': []}) ]*len(folders)\n",
    "\n",
    "# Add folder path to file names\n",
    "for i in range(0,len(folders)):\n",
    "    for j in range(0, len(files[i])):\n",
    "        files[i][j] = str(file_spam +'/' + folders[i] + '/' + files[i][j]) \n",
    "        \n",
    "        # Parse and extract email 'subject' and 'from'\n",
    "        with open(files[i][j], 'rb') as fp:\n",
    "            msg = BytesParser(policy=policy.default).parse(fp)\n",
    "            \n",
    "            # Error checking when reading in body for some html-based emails from spam folders\n",
    "            try:\n",
    "                simplest = msg.get_body(preferencelist=('plain', 'html'))\n",
    "                try:\n",
    "                    new_row = {'folder': folders[i], 'from': msg['from'], 'subject': msg['subject'], 'body': simplest.get_content()}\n",
    "                    emails[i] = emails[i].append(new_row, ignore_index=True)\n",
    "                except:\n",
    "                    new_row = {'folder': folders[i], 'from': msg['from'], 'subject':msg['subject'], 'body':'Error(html)'}\n",
    "                    emails[i] = emails[i].append(new_row, ignore_index=True)\n",
    "            except:\n",
    "                new_row = {'folder': folders[i], 'from': msg['from'], 'subject':msg['subject'], 'body':'Error(html)'}\n",
    "                emails[i] = emails[i].append(new_row, ignore_index=True)"
   ]
  },
  {
   "cell_type": "code",
   "execution_count": 6,
   "metadata": {},
   "outputs": [
    {
     "name": "stdout",
     "output_type": "stream",
     "text": [
      "# files in folders: [1001, 501, 1398, 5052, 1401]\n",
      "# emails read in  : [1001, 501, 1398, 5052, 1401]\n",
      "\n",
      "# total emails = 9353\n"
     ]
    }
   ],
   "source": [
    "# Emails per folder\n",
    "print(\"# files in folders:\", [len(i) for i in files])\n",
    "print(\"# emails read in  :\", [i.shape[0] for i in emails])\n",
    "\n",
    "# Total emails\n",
    "print( \"\\n# total emails =\", sum([len(i) for i in files]) )"
   ]
  },
  {
   "cell_type": "code",
   "execution_count": 7,
   "metadata": {},
   "outputs": [
    {
     "data": {
      "text/plain": [
       "(9353, 6)"
      ]
     },
     "execution_count": 7,
     "metadata": {},
     "output_type": "execute_result"
    }
   ],
   "source": [
    "# Create single dataframe from all folders\n",
    "df = pd.concat( [emails[i] for i in range(0, len(emails))], axis=0)\n",
    "\n",
    "#  Keep the indices from the folders\n",
    "df = df.reset_index() \n",
    "\n",
    "# create response column from folder names\n",
    "spam = [(i=='spam' or i=='spam_2') for i in df['folder']]\n",
    "df = pd.concat([df, pd.Series(spam).astype(int)], axis=1)\n",
    "\n",
    "df.columns = ['folder_idx', 'folder', 'from', 'subject', 'body','spam']\n",
    "\n",
    "df.shape"
   ]
  },
  {
   "cell_type": "code",
   "execution_count": 8,
   "metadata": {},
   "outputs": [],
   "source": [
    "html_regex = re.compile('<.*?>|&([a-z0-9]+|#[0-9]{1,6}|#x[0-9a-f]{1,6});')\n",
    "def cleanhtml(raw_html):\n",
    "    cleantext = re.sub(html_regex, '', raw_html)\n",
    "    return cleantext"
   ]
  },
  {
   "cell_type": "code",
   "execution_count": 9,
   "metadata": {},
   "outputs": [],
   "source": [
    "def cleanAndSplit(raw_text): \n",
    "    temp = []\n",
    "    for word in raw_text.split():\n",
    "        temp.append(re.sub(r\"[^a-zA-Z0-9]\",\"\",word).lower())\n",
    "    return temp"
   ]
  },
  {
   "cell_type": "code",
   "execution_count": 10,
   "metadata": {},
   "outputs": [],
   "source": [
    "def cleanBody(raw_content):\n",
    "    if(pd.isna(raw_content)):\n",
    "        return []\n",
    "    clean_from_html = cleanhtml(raw_content)\n",
    "    out = cleanAndSplit(clean_from_html)\n",
    "    return out"
   ]
  },
  {
   "cell_type": "code",
   "execution_count": 11,
   "metadata": {},
   "outputs": [],
   "source": [
    "def combine(content):\n",
    "    joined = np.concatenate((*content[['clean_body']], *content[['clean_subject']]))\n",
    "    return joined"
   ]
  },
  {
   "cell_type": "code",
   "execution_count": 12,
   "metadata": {},
   "outputs": [],
   "source": [
    "df['clean_body'] = df['body'].apply(cleanBody)\n",
    "df['clean_subject'] = df['subject'].apply(cleanBody)\n",
    "df['joined'] = df[['clean_body','clean_subject']].agg(combine, axis=1)"
   ]
  },
  {
   "cell_type": "code",
   "execution_count": 13,
   "metadata": {},
   "outputs": [
    {
     "data": {
      "text/html": [
       "<div>\n",
       "<style scoped>\n",
       "    .dataframe tbody tr th:only-of-type {\n",
       "        vertical-align: middle;\n",
       "    }\n",
       "\n",
       "    .dataframe tbody tr th {\n",
       "        vertical-align: top;\n",
       "    }\n",
       "\n",
       "    .dataframe thead th {\n",
       "        text-align: right;\n",
       "    }\n",
       "</style>\n",
       "<table border=\"1\" class=\"dataframe\">\n",
       "  <thead>\n",
       "    <tr style=\"text-align: right;\">\n",
       "      <th></th>\n",
       "      <th>folder_idx</th>\n",
       "      <th>folder</th>\n",
       "      <th>from</th>\n",
       "      <th>subject</th>\n",
       "      <th>body</th>\n",
       "      <th>spam</th>\n",
       "      <th>clean_body</th>\n",
       "      <th>clean_subject</th>\n",
       "      <th>joined</th>\n",
       "    </tr>\n",
       "  </thead>\n",
       "  <tbody>\n",
       "    <tr>\n",
       "      <th>0</th>\n",
       "      <td>0</td>\n",
       "      <td>spam</td>\n",
       "      <td>pamela4701@eudoramail.com</td>\n",
       "      <td>Let us find the right mortgage lender for you ...</td>\n",
       "      <td>Dear Homeowner,\\n \\nInterest Rates are at thei...</td>\n",
       "      <td>1</td>\n",
       "      <td>[dear, homeowner, interest, rates, are, at, th...</td>\n",
       "      <td>[let, us, find, the, right, mortgage, lender, ...</td>\n",
       "      <td>[dear, homeowner, interest, rates, are, at, th...</td>\n",
       "    </tr>\n",
       "    <tr>\n",
       "      <th>1</th>\n",
       "      <td>1</td>\n",
       "      <td>spam</td>\n",
       "      <td>CopyYourDVD &lt;atomica2020@hotmail.com&gt;</td>\n",
       "      <td>Friend, Copy ANY DVD or Playstation Game with ...</td>\n",
       "      <td>Friend,Now you can copy DVD's and Games\\nhttp:...</td>\n",
       "      <td>1</td>\n",
       "      <td>[friendnow, you, can, copy, dvds, and, games, ...</td>\n",
       "      <td>[friend, copy, any, dvd, or, playstation, game...</td>\n",
       "      <td>[friendnow, you, can, copy, dvds, and, games, ...</td>\n",
       "    </tr>\n",
       "    <tr>\n",
       "      <th>2</th>\n",
       "      <td>2</td>\n",
       "      <td>spam</td>\n",
       "      <td>IQ - Safe Harbor &lt;sh@insiq.us&gt;</td>\n",
       "      <td>5% Guaranteed for Eight Years</td>\n",
       "      <td>Pocket the newest 8 year annuity!\\t Pocket th...</td>\n",
       "      <td>1</td>\n",
       "      <td>[pocket, the, newest, 8, year, annuity, pocket...</td>\n",
       "      <td>[5, guaranteed, for, eight, years]</td>\n",
       "      <td>[pocket, the, newest, 8, year, annuity, pocket...</td>\n",
       "    </tr>\n",
       "    <tr>\n",
       "      <th>3</th>\n",
       "      <td>3</td>\n",
       "      <td>spam</td>\n",
       "      <td>Customer Service &lt;greatoffers@sendgreatoffers....</td>\n",
       "      <td>Congratulations! You Get a Free Handheld Organ...</td>\n",
       "      <td>&lt;html&gt;&lt;head&gt;\\n&lt;title&gt;Congratulations! You Get ...</td>\n",
       "      <td>1</td>\n",
       "      <td>[congratulations, you, get, a, free, handheld,...</td>\n",
       "      <td>[congratulations, you, get, a, free, handheld,...</td>\n",
       "      <td>[congratulations, you, get, a, free, handheld,...</td>\n",
       "    </tr>\n",
       "    <tr>\n",
       "      <th>4</th>\n",
       "      <td>4</td>\n",
       "      <td>spam</td>\n",
       "      <td>don &lt;apf@wu-wien.ac.at&gt;</td>\n",
       "      <td>PROTECT YOUR INFORMATION AND YOUR COMPUTER</td>\n",
       "      <td>ATTENTION: This is a MUST for ALL Computer Use...</td>\n",
       "      <td>1</td>\n",
       "      <td>[attention, this, is, a, must, for, all, compu...</td>\n",
       "      <td>[protect, your, information, and, your, computer]</td>\n",
       "      <td>[attention, this, is, a, must, for, all, compu...</td>\n",
       "    </tr>\n",
       "  </tbody>\n",
       "</table>\n",
       "</div>"
      ],
      "text/plain": [
       "   folder_idx folder                                               from  \\\n",
       "0           0   spam                          pamela4701@eudoramail.com   \n",
       "1           1   spam              CopyYourDVD <atomica2020@hotmail.com>   \n",
       "2           2   spam                     IQ - Safe Harbor <sh@insiq.us>   \n",
       "3           3   spam  Customer Service <greatoffers@sendgreatoffers....   \n",
       "4           4   spam                            don <apf@wu-wien.ac.at>   \n",
       "\n",
       "                                             subject  \\\n",
       "0  Let us find the right mortgage lender for you ...   \n",
       "1  Friend, Copy ANY DVD or Playstation Game with ...   \n",
       "2                      5% Guaranteed for Eight Years   \n",
       "3  Congratulations! You Get a Free Handheld Organ...   \n",
       "4         PROTECT YOUR INFORMATION AND YOUR COMPUTER   \n",
       "\n",
       "                                                body  spam  \\\n",
       "0  Dear Homeowner,\\n \\nInterest Rates are at thei...     1   \n",
       "1  Friend,Now you can copy DVD's and Games\\nhttp:...     1   \n",
       "2   Pocket the newest 8 year annuity!\\t Pocket th...     1   \n",
       "3  <html><head>\\n<title>Congratulations! You Get ...     1   \n",
       "4  ATTENTION: This is a MUST for ALL Computer Use...     1   \n",
       "\n",
       "                                          clean_body  \\\n",
       "0  [dear, homeowner, interest, rates, are, at, th...   \n",
       "1  [friendnow, you, can, copy, dvds, and, games, ...   \n",
       "2  [pocket, the, newest, 8, year, annuity, pocket...   \n",
       "3  [congratulations, you, get, a, free, handheld,...   \n",
       "4  [attention, this, is, a, must, for, all, compu...   \n",
       "\n",
       "                                       clean_subject  \\\n",
       "0  [let, us, find, the, right, mortgage, lender, ...   \n",
       "1  [friend, copy, any, dvd, or, playstation, game...   \n",
       "2                 [5, guaranteed, for, eight, years]   \n",
       "3  [congratulations, you, get, a, free, handheld,...   \n",
       "4  [protect, your, information, and, your, computer]   \n",
       "\n",
       "                                              joined  \n",
       "0  [dear, homeowner, interest, rates, are, at, th...  \n",
       "1  [friendnow, you, can, copy, dvds, and, games, ...  \n",
       "2  [pocket, the, newest, 8, year, annuity, pocket...  \n",
       "3  [congratulations, you, get, a, free, handheld,...  \n",
       "4  [attention, this, is, a, must, for, all, compu...  "
      ]
     },
     "execution_count": 13,
     "metadata": {},
     "output_type": "execute_result"
    }
   ],
   "source": [
    "df.head()"
   ]
  },
  {
   "cell_type": "markdown",
   "metadata": {
    "id": "Aws5HAx98g_E"
   },
   "source": [
    "## Missing Values <a id='missing-values'>"
   ]
  },
  {
   "cell_type": "markdown",
   "metadata": {},
   "source": [
    "There were 12 emails with missing subjects.  In addition, 33 of approximately 9,000 emails (less than .5%) that the team was not able to read in for modeling and analysis.  These 33 emails were a small subset of the html emails.  Missing values were replaced with \"No Subject\" for subject and \"Error(html)\" for body.  A missing subject is important to identify spam emails, and these complicated html emails were also all spam.    "
   ]
  },
  {
   "cell_type": "code",
   "execution_count": 14,
   "metadata": {
    "id": "2BgB13po8g_F",
    "outputId": "aba28207-2ccb-4d38-b36a-adcd6d28dd45"
   },
   "outputs": [
    {
     "data": {
      "text/html": [
       "<div>\n",
       "<style scoped>\n",
       "    .dataframe tbody tr th:only-of-type {\n",
       "        vertical-align: middle;\n",
       "    }\n",
       "\n",
       "    .dataframe tbody tr th {\n",
       "        vertical-align: top;\n",
       "    }\n",
       "\n",
       "    .dataframe thead th {\n",
       "        text-align: right;\n",
       "    }\n",
       "</style>\n",
       "<table border=\"1\" class=\"dataframe\">\n",
       "  <thead>\n",
       "    <tr style=\"text-align: right;\">\n",
       "      <th></th>\n",
       "      <th>folder_idx</th>\n",
       "      <th>folder</th>\n",
       "      <th>from</th>\n",
       "      <th>subject</th>\n",
       "      <th>body</th>\n",
       "      <th>spam</th>\n",
       "      <th>clean_body</th>\n",
       "      <th>clean_subject</th>\n",
       "      <th>joined</th>\n",
       "    </tr>\n",
       "  </thead>\n",
       "  <tbody>\n",
       "    <tr>\n",
       "      <th>460</th>\n",
       "      <td>460</td>\n",
       "      <td>spam</td>\n",
       "      <td>Affordable Computer Supply &lt;InkjetDeals@acsmsu...</td>\n",
       "      <td>Printer Cartridges as low as $1.21 each!</td>\n",
       "      <td>Error(html)</td>\n",
       "      <td>1</td>\n",
       "      <td>[errorhtml]</td>\n",
       "      <td>[printer, cartridges, as, low, as, 121, each]</td>\n",
       "      <td>[errorhtml, printer, cartridges, as, low, as, ...</td>\n",
       "    </tr>\n",
       "    <tr>\n",
       "      <th>522</th>\n",
       "      <td>522</td>\n",
       "      <td>spam</td>\n",
       "      <td>zzzz@netscape.net</td>\n",
       "      <td>Collect Your Money! Time:1:30:33 AM</td>\n",
       "      <td>Error(html)</td>\n",
       "      <td>1</td>\n",
       "      <td>[errorhtml]</td>\n",
       "      <td>[collect, your, money, time13033, am]</td>\n",
       "      <td>[errorhtml, collect, your, money, time13033, am]</td>\n",
       "    </tr>\n",
       "    <tr>\n",
       "      <th>549</th>\n",
       "      <td>549</td>\n",
       "      <td>spam</td>\n",
       "      <td>eb@via.ecp.fr</td>\n",
       "      <td>Over $100,000 Per Year Possible On The Net!  N...</td>\n",
       "      <td>Error(html)</td>\n",
       "      <td>1</td>\n",
       "      <td>[errorhtml]</td>\n",
       "      <td>[over, 100000, per, year, possible, on, the, n...</td>\n",
       "      <td>[errorhtml, over, 100000, per, year, possible,...</td>\n",
       "    </tr>\n",
       "    <tr>\n",
       "      <th>793</th>\n",
       "      <td>793</td>\n",
       "      <td>spam</td>\n",
       "      <td>Affordable Computer Supply &lt;InkjetDeals@acsmsu...</td>\n",
       "      <td>Printer Cartridges as low as $1.21 each!</td>\n",
       "      <td>Error(html)</td>\n",
       "      <td>1</td>\n",
       "      <td>[errorhtml]</td>\n",
       "      <td>[printer, cartridges, as, low, as, 121, each]</td>\n",
       "      <td>[errorhtml, printer, cartridges, as, low, as, ...</td>\n",
       "    </tr>\n",
       "    <tr>\n",
       "      <th>874</th>\n",
       "      <td>874</td>\n",
       "      <td>spam</td>\n",
       "      <td>\"Books@Books\"@BlackRealityPublishing.com</td>\n",
       "      <td>Free Excerpt;  Baby Makers, Loser Choosers, &amp; ...</td>\n",
       "      <td>Error(html)</td>\n",
       "      <td>1</td>\n",
       "      <td>[errorhtml]</td>\n",
       "      <td>[free, excerpt, baby, makers, loser, choosers,...</td>\n",
       "      <td>[errorhtml, free, excerpt, baby, makers, loser...</td>\n",
       "    </tr>\n",
       "    <tr>\n",
       "      <th>905</th>\n",
       "      <td>905</td>\n",
       "      <td>spam</td>\n",
       "      <td>eb@via.ecp.fr</td>\n",
       "      <td>Over $100,000 Per Year Possible On The Net!  N...</td>\n",
       "      <td>Error(html)</td>\n",
       "      <td>1</td>\n",
       "      <td>[errorhtml]</td>\n",
       "      <td>[over, 100000, per, year, possible, on, the, n...</td>\n",
       "      <td>[errorhtml, over, 100000, per, year, possible,...</td>\n",
       "    </tr>\n",
       "    <tr>\n",
       "      <th>918</th>\n",
       "      <td>918</td>\n",
       "      <td>spam</td>\n",
       "      <td>\"Books@Books\"@BlackRealityPublishing.com</td>\n",
       "      <td>Free Excerpt;  Baby Makers, Loser Choosers, &amp; ...</td>\n",
       "      <td>Error(html)</td>\n",
       "      <td>1</td>\n",
       "      <td>[errorhtml]</td>\n",
       "      <td>[free, excerpt, baby, makers, loser, choosers,...</td>\n",
       "      <td>[errorhtml, free, excerpt, baby, makers, loser...</td>\n",
       "    </tr>\n",
       "    <tr>\n",
       "      <th>949</th>\n",
       "      <td>949</td>\n",
       "      <td>spam</td>\n",
       "      <td>zzzz@netscape.net</td>\n",
       "      <td>Collect Your Money! Time:1:30:33 AM</td>\n",
       "      <td>Error(html)</td>\n",
       "      <td>1</td>\n",
       "      <td>[errorhtml]</td>\n",
       "      <td>[collect, your, money, time13033, am]</td>\n",
       "      <td>[errorhtml, collect, your, money, time13033, am]</td>\n",
       "    </tr>\n",
       "    <tr>\n",
       "      <th>1523</th>\n",
       "      <td>21</td>\n",
       "      <td>spam_2</td>\n",
       "      <td>targetemailextractor@btamail.net.cn</td>\n",
       "      <td>Direct Email Blaster, Email extractor, email d...</td>\n",
       "      <td>Error(html)</td>\n",
       "      <td>1</td>\n",
       "      <td>[errorhtml]</td>\n",
       "      <td>[direct, email, blaster, email, extractor, ema...</td>\n",
       "      <td>[errorhtml, direct, email, blaster, email, ext...</td>\n",
       "    </tr>\n",
       "    <tr>\n",
       "      <th>1524</th>\n",
       "      <td>22</td>\n",
       "      <td>spam_2</td>\n",
       "      <td>iqsoftware@export2000.ro</td>\n",
       "      <td>[Avfs] Romanian Software Production &amp; Export</td>\n",
       "      <td>Error(html)</td>\n",
       "      <td>1</td>\n",
       "      <td>[errorhtml]</td>\n",
       "      <td>[avfs, romanian, software, production, , export]</td>\n",
       "      <td>[errorhtml, avfs, romanian, software, producti...</td>\n",
       "    </tr>\n",
       "    <tr>\n",
       "      <th>1702</th>\n",
       "      <td>200</td>\n",
       "      <td>spam_2</td>\n",
       "      <td>Mary &lt;jane0l215@excite.com&gt;</td>\n",
       "      <td>Major Stock Play</td>\n",
       "      <td>Error(html)</td>\n",
       "      <td>1</td>\n",
       "      <td>[errorhtml]</td>\n",
       "      <td>[major, stock, play]</td>\n",
       "      <td>[errorhtml, major, stock, play]</td>\n",
       "    </tr>\n",
       "    <tr>\n",
       "      <th>1773</th>\n",
       "      <td>271</td>\n",
       "      <td>spam_2</td>\n",
       "      <td>lmrn@mailexcite.com</td>\n",
       "      <td>Real Protection, Stun Guns!  Free Shipping! Ti...</td>\n",
       "      <td>Error(html)</td>\n",
       "      <td>1</td>\n",
       "      <td>[errorhtml]</td>\n",
       "      <td>[real, protection, stun, guns, free, shipping,...</td>\n",
       "      <td>[errorhtml, real, protection, stun, guns, free...</td>\n",
       "    </tr>\n",
       "    <tr>\n",
       "      <th>1780</th>\n",
       "      <td>278</td>\n",
       "      <td>spam_2</td>\n",
       "      <td>ankara@dunyagazetesi.com.tr</td>\n",
       "      <td>Kime Oy Vereceksiniz ?</td>\n",
       "      <td>Error(html)</td>\n",
       "      <td>1</td>\n",
       "      <td>[errorhtml]</td>\n",
       "      <td>[kime, oy, vereceksiniz, ]</td>\n",
       "      <td>[errorhtml, kime, oy, vereceksiniz, ]</td>\n",
       "    </tr>\n",
       "    <tr>\n",
       "      <th>1960</th>\n",
       "      <td>458</td>\n",
       "      <td>spam_2</td>\n",
       "      <td>Prosextra@optinunlimited.com</td>\n",
       "      <td>FREE ALL NATURAL SEXUAL STIMULANT!</td>\n",
       "      <td>Error(html)</td>\n",
       "      <td>1</td>\n",
       "      <td>[errorhtml]</td>\n",
       "      <td>[free, all, natural, sexual, stimulant]</td>\n",
       "      <td>[errorhtml, free, all, natural, sexual, stimul...</td>\n",
       "    </tr>\n",
       "    <tr>\n",
       "      <th>1978</th>\n",
       "      <td>476</td>\n",
       "      <td>spam_2</td>\n",
       "      <td>easytest8341@email.com</td>\n",
       "      <td>Your $1365 Welcome Bonus is waiting for You!!</td>\n",
       "      <td>Error(html)</td>\n",
       "      <td>1</td>\n",
       "      <td>[errorhtml]</td>\n",
       "      <td>[your, 1365, welcome, bonus, is, waiting, for,...</td>\n",
       "      <td>[errorhtml, your, 1365, welcome, bonus, is, wa...</td>\n",
       "    </tr>\n",
       "    <tr>\n",
       "      <th>2034</th>\n",
       "      <td>532</td>\n",
       "      <td>spam_2</td>\n",
       "      <td>targetemailextractor@btamail.net.cn</td>\n",
       "      <td>Direct Email Blaster, Email extractor, email d...</td>\n",
       "      <td>Error(html)</td>\n",
       "      <td>1</td>\n",
       "      <td>[errorhtml]</td>\n",
       "      <td>[direct, email, blaster, email, extractor, ema...</td>\n",
       "      <td>[errorhtml, direct, email, blaster, email, ext...</td>\n",
       "    </tr>\n",
       "    <tr>\n",
       "      <th>2085</th>\n",
       "      <td>583</td>\n",
       "      <td>spam_2</td>\n",
       "      <td>WEBMASTER@TAIONE.ORG</td>\n",
       "      <td>Re: Your Order</td>\n",
       "      <td>Error(html)</td>\n",
       "      <td>1</td>\n",
       "      <td>[errorhtml]</td>\n",
       "      <td>[re, your, order]</td>\n",
       "      <td>[errorhtml, re, your, order]</td>\n",
       "    </tr>\n",
       "    <tr>\n",
       "      <th>2091</th>\n",
       "      <td>589</td>\n",
       "      <td>spam_2</td>\n",
       "      <td>Polaroid@optinat.com</td>\n",
       "      <td>Polariod Digital Cameras Only $39.95</td>\n",
       "      <td>Error(html)</td>\n",
       "      <td>1</td>\n",
       "      <td>[errorhtml]</td>\n",
       "      <td>[polariod, digital, cameras, only, 3995]</td>\n",
       "      <td>[errorhtml, polariod, digital, cameras, only, ...</td>\n",
       "    </tr>\n",
       "    <tr>\n",
       "      <th>2146</th>\n",
       "      <td>644</td>\n",
       "      <td>spam_2</td>\n",
       "      <td>JohnRobertson@terra.es</td>\n",
       "      <td>Get Debts Off Your Back    -      Time:5:38:50 AM</td>\n",
       "      <td>Error(html)</td>\n",
       "      <td>1</td>\n",
       "      <td>[errorhtml]</td>\n",
       "      <td>[get, debts, off, your, back, , time53850, am]</td>\n",
       "      <td>[errorhtml, get, debts, off, your, back, , tim...</td>\n",
       "    </tr>\n",
       "    <tr>\n",
       "      <th>2404</th>\n",
       "      <td>902</td>\n",
       "      <td>spam_2</td>\n",
       "      <td>Central_Bank6@centralbank.com</td>\n",
       "      <td>Notification for Payment Received!</td>\n",
       "      <td>Error(html)</td>\n",
       "      <td>1</td>\n",
       "      <td>[errorhtml]</td>\n",
       "      <td>[notification, for, payment, received]</td>\n",
       "      <td>[errorhtml, notification, for, payment, received]</td>\n",
       "    </tr>\n",
       "    <tr>\n",
       "      <th>2408</th>\n",
       "      <td>906</td>\n",
       "      <td>spam_2</td>\n",
       "      <td>yyyy@pluriproj.pt</td>\n",
       "      <td>Never Repay Cash Grants, $500 - $50,000, Secre...</td>\n",
       "      <td>Error(html)</td>\n",
       "      <td>1</td>\n",
       "      <td>[errorhtml]</td>\n",
       "      <td>[never, repay, cash, grants, 500, , 50000, sec...</td>\n",
       "      <td>[errorhtml, never, repay, cash, grants, 500, ,...</td>\n",
       "    </tr>\n",
       "    <tr>\n",
       "      <th>2520</th>\n",
       "      <td>1018</td>\n",
       "      <td>spam_2</td>\n",
       "      <td>3b3fke@ms10.hinet.net</td>\n",
       "      <td>�٦b��20%���H�Υd�`����??? Time:PM 05:36:34</td>\n",
       "      <td>Error(html)</td>\n",
       "      <td>1</td>\n",
       "      <td>[errorhtml]</td>\n",
       "      <td>[b20hd, timepm, 053634]</td>\n",
       "      <td>[errorhtml, b20hd, timepm, 053634]</td>\n",
       "    </tr>\n",
       "    <tr>\n",
       "      <th>2543</th>\n",
       "      <td>1041</td>\n",
       "      <td>spam_2</td>\n",
       "      <td>\"Com-Pro Systems, Inc.\" &lt;emarketing@comprosys....</td>\n",
       "      <td>Get Your Own Great-Looking Website</td>\n",
       "      <td>Error(html)</td>\n",
       "      <td>1</td>\n",
       "      <td>[errorhtml]</td>\n",
       "      <td>[get, your, own, greatlooking, website]</td>\n",
       "      <td>[errorhtml, get, your, own, greatlooking, webs...</td>\n",
       "    </tr>\n",
       "    <tr>\n",
       "      <th>2558</th>\n",
       "      <td>1056</td>\n",
       "      <td>spam_2</td>\n",
       "      <td>WEBMASTER@theperfumebox.ie</td>\n",
       "      <td>Re: Account Information</td>\n",
       "      <td>Error(html)</td>\n",
       "      <td>1</td>\n",
       "      <td>[errorhtml]</td>\n",
       "      <td>[re, account, information]</td>\n",
       "      <td>[errorhtml, re, account, information]</td>\n",
       "    </tr>\n",
       "    <tr>\n",
       "      <th>2567</th>\n",
       "      <td>1065</td>\n",
       "      <td>spam_2</td>\n",
       "      <td>POWERMAN10MILLION@hotmail.com</td>\n",
       "      <td>10 million fresh email addresses sent to you o...</td>\n",
       "      <td>Error(html)</td>\n",
       "      <td>1</td>\n",
       "      <td>[errorhtml]</td>\n",
       "      <td>[10, million, fresh, email, addresses, sent, t...</td>\n",
       "      <td>[errorhtml, 10, million, fresh, email, address...</td>\n",
       "    </tr>\n",
       "    <tr>\n",
       "      <th>2587</th>\n",
       "      <td>1085</td>\n",
       "      <td>spam_2</td>\n",
       "      <td>webmaster@efi.joensuu.fi</td>\n",
       "      <td>Collect Your Money! Time:12:13:18 AM</td>\n",
       "      <td>Error(html)</td>\n",
       "      <td>1</td>\n",
       "      <td>[errorhtml]</td>\n",
       "      <td>[collect, your, money, time121318, am]</td>\n",
       "      <td>[errorhtml, collect, your, money, time121318, am]</td>\n",
       "    </tr>\n",
       "    <tr>\n",
       "      <th>2647</th>\n",
       "      <td>1145</td>\n",
       "      <td>spam_2</td>\n",
       "      <td>Mary &lt;jane0l215@excite.com&gt;</td>\n",
       "      <td>Major Stock Play</td>\n",
       "      <td>Error(html)</td>\n",
       "      <td>1</td>\n",
       "      <td>[errorhtml]</td>\n",
       "      <td>[major, stock, play]</td>\n",
       "      <td>[errorhtml, major, stock, play]</td>\n",
       "    </tr>\n",
       "    <tr>\n",
       "      <th>2688</th>\n",
       "      <td>1186</td>\n",
       "      <td>spam_2</td>\n",
       "      <td>merchantsworld2001@juno.com</td>\n",
       "      <td>New Improved Weight Loss, Now With Bonus Fat A...</td>\n",
       "      <td>Error(html)</td>\n",
       "      <td>1</td>\n",
       "      <td>[errorhtml]</td>\n",
       "      <td>[new, improved, weight, loss, now, with, bonus...</td>\n",
       "      <td>[errorhtml, new, improved, weight, loss, now, ...</td>\n",
       "    </tr>\n",
       "    <tr>\n",
       "      <th>2698</th>\n",
       "      <td>1196</td>\n",
       "      <td>spam_2</td>\n",
       "      <td>jordan23@mailexcite.com</td>\n",
       "      <td>New Improved Fat Burners, Now With TV Fat Abso...</td>\n",
       "      <td>Error(html)</td>\n",
       "      <td>1</td>\n",
       "      <td>[errorhtml]</td>\n",
       "      <td>[new, improved, fat, burners, now, with, tv, f...</td>\n",
       "      <td>[errorhtml, new, improved, fat, burners, now, ...</td>\n",
       "    </tr>\n",
       "    <tr>\n",
       "      <th>2712</th>\n",
       "      <td>1210</td>\n",
       "      <td>spam_2</td>\n",
       "      <td>WEBMASTER@J-MEDICAL.ORG</td>\n",
       "      <td>Re: Account Information</td>\n",
       "      <td>Error(html)</td>\n",
       "      <td>1</td>\n",
       "      <td>[errorhtml]</td>\n",
       "      <td>[re, account, information]</td>\n",
       "      <td>[errorhtml, re, account, information]</td>\n",
       "    </tr>\n",
       "    <tr>\n",
       "      <th>2730</th>\n",
       "      <td>1228</td>\n",
       "      <td>spam_2</td>\n",
       "      <td>Matthew_Morrow@optinunlimited.com</td>\n",
       "      <td>About Your Commissions...</td>\n",
       "      <td>Error(html)</td>\n",
       "      <td>1</td>\n",
       "      <td>[errorhtml]</td>\n",
       "      <td>[about, your, commissions]</td>\n",
       "      <td>[errorhtml, about, your, commissions]</td>\n",
       "    </tr>\n",
       "    <tr>\n",
       "      <th>2738</th>\n",
       "      <td>1236</td>\n",
       "      <td>spam_2</td>\n",
       "      <td>rose_xu@email.com</td>\n",
       "      <td>ADV:Harvest lots of Target Email address quickly</td>\n",
       "      <td>Error(html)</td>\n",
       "      <td>1</td>\n",
       "      <td>[errorhtml]</td>\n",
       "      <td>[advharvest, lots, of, target, email, address,...</td>\n",
       "      <td>[errorhtml, advharvest, lots, of, target, emai...</td>\n",
       "    </tr>\n",
       "    <tr>\n",
       "      <th>2830</th>\n",
       "      <td>1328</td>\n",
       "      <td>spam_2</td>\n",
       "      <td>amknight@mailexcite.com</td>\n",
       "      <td>New Improved Fat Burners, Now With TV Fat Abso...</td>\n",
       "      <td>Error(html)</td>\n",
       "      <td>1</td>\n",
       "      <td>[errorhtml]</td>\n",
       "      <td>[new, improved, fat, burners, now, with, tv, f...</td>\n",
       "      <td>[errorhtml, new, improved, fat, burners, now, ...</td>\n",
       "    </tr>\n",
       "  </tbody>\n",
       "</table>\n",
       "</div>"
      ],
      "text/plain": [
       "      folder_idx  folder                                               from  \\\n",
       "460          460    spam  Affordable Computer Supply <InkjetDeals@acsmsu...   \n",
       "522          522    spam                                  zzzz@netscape.net   \n",
       "549          549    spam                                      eb@via.ecp.fr   \n",
       "793          793    spam  Affordable Computer Supply <InkjetDeals@acsmsu...   \n",
       "874          874    spam           \"Books@Books\"@BlackRealityPublishing.com   \n",
       "905          905    spam                                      eb@via.ecp.fr   \n",
       "918          918    spam           \"Books@Books\"@BlackRealityPublishing.com   \n",
       "949          949    spam                                  zzzz@netscape.net   \n",
       "1523          21  spam_2                targetemailextractor@btamail.net.cn   \n",
       "1524          22  spam_2                           iqsoftware@export2000.ro   \n",
       "1702         200  spam_2                        Mary <jane0l215@excite.com>   \n",
       "1773         271  spam_2                                lmrn@mailexcite.com   \n",
       "1780         278  spam_2                        ankara@dunyagazetesi.com.tr   \n",
       "1960         458  spam_2                       Prosextra@optinunlimited.com   \n",
       "1978         476  spam_2                             easytest8341@email.com   \n",
       "2034         532  spam_2                targetemailextractor@btamail.net.cn   \n",
       "2085         583  spam_2                               WEBMASTER@TAIONE.ORG   \n",
       "2091         589  spam_2                               Polaroid@optinat.com   \n",
       "2146         644  spam_2                             JohnRobertson@terra.es   \n",
       "2404         902  spam_2                      Central_Bank6@centralbank.com   \n",
       "2408         906  spam_2                                  yyyy@pluriproj.pt   \n",
       "2520        1018  spam_2                              3b3fke@ms10.hinet.net   \n",
       "2543        1041  spam_2  \"Com-Pro Systems, Inc.\" <emarketing@comprosys....   \n",
       "2558        1056  spam_2                         WEBMASTER@theperfumebox.ie   \n",
       "2567        1065  spam_2                      POWERMAN10MILLION@hotmail.com   \n",
       "2587        1085  spam_2                           webmaster@efi.joensuu.fi   \n",
       "2647        1145  spam_2                        Mary <jane0l215@excite.com>   \n",
       "2688        1186  spam_2                        merchantsworld2001@juno.com   \n",
       "2698        1196  spam_2                            jordan23@mailexcite.com   \n",
       "2712        1210  spam_2                            WEBMASTER@J-MEDICAL.ORG   \n",
       "2730        1228  spam_2                  Matthew_Morrow@optinunlimited.com   \n",
       "2738        1236  spam_2                                  rose_xu@email.com   \n",
       "2830        1328  spam_2                            amknight@mailexcite.com   \n",
       "\n",
       "                                                subject         body  spam  \\\n",
       "460            Printer Cartridges as low as $1.21 each!  Error(html)     1   \n",
       "522                 Collect Your Money! Time:1:30:33 AM  Error(html)     1   \n",
       "549   Over $100,000 Per Year Possible On The Net!  N...  Error(html)     1   \n",
       "793            Printer Cartridges as low as $1.21 each!  Error(html)     1   \n",
       "874   Free Excerpt;  Baby Makers, Loser Choosers, & ...  Error(html)     1   \n",
       "905   Over $100,000 Per Year Possible On The Net!  N...  Error(html)     1   \n",
       "918   Free Excerpt;  Baby Makers, Loser Choosers, & ...  Error(html)     1   \n",
       "949                 Collect Your Money! Time:1:30:33 AM  Error(html)     1   \n",
       "1523  Direct Email Blaster, Email extractor, email d...  Error(html)     1   \n",
       "1524       [Avfs] Romanian Software Production & Export  Error(html)     1   \n",
       "1702                                   Major Stock Play  Error(html)     1   \n",
       "1773  Real Protection, Stun Guns!  Free Shipping! Ti...  Error(html)     1   \n",
       "1780                             Kime Oy Vereceksiniz ?  Error(html)     1   \n",
       "1960                 FREE ALL NATURAL SEXUAL STIMULANT!  Error(html)     1   \n",
       "1978     Your $1365 Welcome Bonus is waiting for You!!   Error(html)     1   \n",
       "2034  Direct Email Blaster, Email extractor, email d...  Error(html)     1   \n",
       "2085                                     Re: Your Order  Error(html)     1   \n",
       "2091               Polariod Digital Cameras Only $39.95  Error(html)     1   \n",
       "2146  Get Debts Off Your Back    -      Time:5:38:50 AM  Error(html)     1   \n",
       "2404                 Notification for Payment Received!  Error(html)     1   \n",
       "2408  Never Repay Cash Grants, $500 - $50,000, Secre...  Error(html)     1   \n",
       "2520          �٦b��20%���H�Υd�`����??? Time:PM 05:36:34  Error(html)     1   \n",
       "2543                 Get Your Own Great-Looking Website  Error(html)     1   \n",
       "2558                            Re: Account Information  Error(html)     1   \n",
       "2567  10 million fresh email addresses sent to you o...  Error(html)     1   \n",
       "2587               Collect Your Money! Time:12:13:18 AM  Error(html)     1   \n",
       "2647                                   Major Stock Play  Error(html)     1   \n",
       "2688  New Improved Weight Loss, Now With Bonus Fat A...  Error(html)     1   \n",
       "2698  New Improved Fat Burners, Now With TV Fat Abso...  Error(html)     1   \n",
       "2712                            Re: Account Information  Error(html)     1   \n",
       "2730                          About Your Commissions...  Error(html)     1   \n",
       "2738   ADV:Harvest lots of Target Email address quickly  Error(html)     1   \n",
       "2830  New Improved Fat Burners, Now With TV Fat Abso...  Error(html)     1   \n",
       "\n",
       "       clean_body                                      clean_subject  \\\n",
       "460   [errorhtml]      [printer, cartridges, as, low, as, 121, each]   \n",
       "522   [errorhtml]              [collect, your, money, time13033, am]   \n",
       "549   [errorhtml]  [over, 100000, per, year, possible, on, the, n...   \n",
       "793   [errorhtml]      [printer, cartridges, as, low, as, 121, each]   \n",
       "874   [errorhtml]  [free, excerpt, baby, makers, loser, choosers,...   \n",
       "905   [errorhtml]  [over, 100000, per, year, possible, on, the, n...   \n",
       "918   [errorhtml]  [free, excerpt, baby, makers, loser, choosers,...   \n",
       "949   [errorhtml]              [collect, your, money, time13033, am]   \n",
       "1523  [errorhtml]  [direct, email, blaster, email, extractor, ema...   \n",
       "1524  [errorhtml]   [avfs, romanian, software, production, , export]   \n",
       "1702  [errorhtml]                               [major, stock, play]   \n",
       "1773  [errorhtml]  [real, protection, stun, guns, free, shipping,...   \n",
       "1780  [errorhtml]                         [kime, oy, vereceksiniz, ]   \n",
       "1960  [errorhtml]            [free, all, natural, sexual, stimulant]   \n",
       "1978  [errorhtml]  [your, 1365, welcome, bonus, is, waiting, for,...   \n",
       "2034  [errorhtml]  [direct, email, blaster, email, extractor, ema...   \n",
       "2085  [errorhtml]                                  [re, your, order]   \n",
       "2091  [errorhtml]           [polariod, digital, cameras, only, 3995]   \n",
       "2146  [errorhtml]     [get, debts, off, your, back, , time53850, am]   \n",
       "2404  [errorhtml]             [notification, for, payment, received]   \n",
       "2408  [errorhtml]  [never, repay, cash, grants, 500, , 50000, sec...   \n",
       "2520  [errorhtml]                            [b20hd, timepm, 053634]   \n",
       "2543  [errorhtml]            [get, your, own, greatlooking, website]   \n",
       "2558  [errorhtml]                         [re, account, information]   \n",
       "2567  [errorhtml]  [10, million, fresh, email, addresses, sent, t...   \n",
       "2587  [errorhtml]             [collect, your, money, time121318, am]   \n",
       "2647  [errorhtml]                               [major, stock, play]   \n",
       "2688  [errorhtml]  [new, improved, weight, loss, now, with, bonus...   \n",
       "2698  [errorhtml]  [new, improved, fat, burners, now, with, tv, f...   \n",
       "2712  [errorhtml]                         [re, account, information]   \n",
       "2730  [errorhtml]                         [about, your, commissions]   \n",
       "2738  [errorhtml]  [advharvest, lots, of, target, email, address,...   \n",
       "2830  [errorhtml]  [new, improved, fat, burners, now, with, tv, f...   \n",
       "\n",
       "                                                 joined  \n",
       "460   [errorhtml, printer, cartridges, as, low, as, ...  \n",
       "522    [errorhtml, collect, your, money, time13033, am]  \n",
       "549   [errorhtml, over, 100000, per, year, possible,...  \n",
       "793   [errorhtml, printer, cartridges, as, low, as, ...  \n",
       "874   [errorhtml, free, excerpt, baby, makers, loser...  \n",
       "905   [errorhtml, over, 100000, per, year, possible,...  \n",
       "918   [errorhtml, free, excerpt, baby, makers, loser...  \n",
       "949    [errorhtml, collect, your, money, time13033, am]  \n",
       "1523  [errorhtml, direct, email, blaster, email, ext...  \n",
       "1524  [errorhtml, avfs, romanian, software, producti...  \n",
       "1702                    [errorhtml, major, stock, play]  \n",
       "1773  [errorhtml, real, protection, stun, guns, free...  \n",
       "1780              [errorhtml, kime, oy, vereceksiniz, ]  \n",
       "1960  [errorhtml, free, all, natural, sexual, stimul...  \n",
       "1978  [errorhtml, your, 1365, welcome, bonus, is, wa...  \n",
       "2034  [errorhtml, direct, email, blaster, email, ext...  \n",
       "2085                       [errorhtml, re, your, order]  \n",
       "2091  [errorhtml, polariod, digital, cameras, only, ...  \n",
       "2146  [errorhtml, get, debts, off, your, back, , tim...  \n",
       "2404  [errorhtml, notification, for, payment, received]  \n",
       "2408  [errorhtml, never, repay, cash, grants, 500, ,...  \n",
       "2520                 [errorhtml, b20hd, timepm, 053634]  \n",
       "2543  [errorhtml, get, your, own, greatlooking, webs...  \n",
       "2558              [errorhtml, re, account, information]  \n",
       "2567  [errorhtml, 10, million, fresh, email, address...  \n",
       "2587  [errorhtml, collect, your, money, time121318, am]  \n",
       "2647                    [errorhtml, major, stock, play]  \n",
       "2688  [errorhtml, new, improved, weight, loss, now, ...  \n",
       "2698  [errorhtml, new, improved, fat, burners, now, ...  \n",
       "2712              [errorhtml, re, account, information]  \n",
       "2730              [errorhtml, about, your, commissions]  \n",
       "2738  [errorhtml, advharvest, lots, of, target, emai...  \n",
       "2830  [errorhtml, new, improved, fat, burners, now, ...  "
      ]
     },
     "execution_count": 14,
     "metadata": {},
     "output_type": "execute_result"
    }
   ],
   "source": [
    "# Rows where body couldn't be read in = 'Error(html)'\n",
    "df.loc[df['body']=='Error(html)']\n",
    "\n",
    "# All spam emails"
   ]
  },
  {
   "cell_type": "code",
   "execution_count": 15,
   "metadata": {},
   "outputs": [
    {
     "data": {
      "text/plain": [
       "33"
      ]
     },
     "execution_count": 15,
     "metadata": {},
     "output_type": "execute_result"
    }
   ],
   "source": [
    "# Count of body read Errors\n",
    "df.loc[df['body']=='Error(html)'].shape[0]"
   ]
  },
  {
   "cell_type": "code",
   "execution_count": 16,
   "metadata": {},
   "outputs": [
    {
     "data": {
      "text/plain": [
       "folder_idx        0\n",
       "folder            0\n",
       "from              5\n",
       "subject          12\n",
       "body              0\n",
       "spam              0\n",
       "clean_body        0\n",
       "clean_subject     0\n",
       "joined            0\n",
       "dtype: int64"
      ]
     },
     "execution_count": 16,
     "metadata": {},
     "output_type": "execute_result"
    }
   ],
   "source": [
    "df.isna().sum()"
   ]
  },
  {
   "cell_type": "code",
   "execution_count": 17,
   "metadata": {},
   "outputs": [],
   "source": [
    "# Replace NaN and None values with 'No Subject'\n",
    "df.loc[ df['subject'].isna(), 'subject'] = 'No Subject'\n",
    "df.loc[ df['subject']=='', 'subject'] = 'No Subject'"
   ]
  },
  {
   "cell_type": "markdown",
   "metadata": {
    "id": "CbAmkozvN5Dz"
   },
   "source": [
    "## Exploratory Data Analysis (EDA) <a id='eda'>"
   ]
  },
  {
   "cell_type": "code",
   "execution_count": 18,
   "metadata": {},
   "outputs": [
    {
     "data": {
      "image/png": "[encoded data removed]",
      "text/plain": [
       "<Figure size 432x288 with 1 Axes>"
      ]
     },
     "metadata": {
      "needs_background": "light"
     },
     "output_type": "display_data"
    }
   ],
   "source": [
    "count_Class=pd.value_counts(df[\"spam\"], sort= True)\n",
    "count_Class.plot(kind= 'bar', color= [\"blue\", \"orange\"])\n",
    "plt.title('Counts of Ham(0) vs. Spam(1)')\n",
    "plt.show()"
   ]
  },
  {
   "cell_type": "code",
   "execution_count": 19,
   "metadata": {},
   "outputs": [],
   "source": [
    "def dummy_fun(doc):\n",
    "    return doc\n",
    "\n",
    "vectorizer = TfidfVectorizer(analyzer='word', tokenizer=dummy_fun, preprocessor=dummy_fun, token_pattern=None, stop_words='english');"
   ]
  },
  {
   "cell_type": "code",
   "execution_count": 20,
   "metadata": {},
   "outputs": [],
   "source": [
    "def sorted_vector_features(features):\n",
    "    vectors = pd.DataFrame( features.toarray(), columns = vectorizer.get_feature_names() )\n",
    "    vector_words = pd.Series(vectors.columns)\n",
    "    vector_means = pd.Series( [np.mean(vectors[i]) for i in vectors.columns] )\n",
    "    vector_df = pd.concat([vector_words, vector_means], axis=1)\n",
    "    vector_df.columns = ['word','mean tdidf']\n",
    "    vector_sorted = vector_df.sort_values(by='mean tdidf', ascending=False)\n",
    "    return vector_sorted"
   ]
  },
  {
   "cell_type": "code",
   "execution_count": 21,
   "metadata": {},
   "outputs": [],
   "source": [
    "features_subject = vectorizer.fit_transform(df['clean_subject'])\n",
    "subject_vector_sorted = sorted_vector_features(features_subject)"
   ]
  },
  {
   "cell_type": "code",
   "execution_count": 22,
   "metadata": {},
   "outputs": [],
   "source": [
    "features_body = vectorizer.fit_transform(df['clean_body'])\n",
    "body_vector_sorted = sorted_vector_features(features_body)"
   ]
  },
  {
   "cell_type": "code",
   "execution_count": 23,
   "metadata": {},
   "outputs": [
    {
     "data": {
      "image/png": "[encoded data removed]",
      "text/plain": [
       "<Figure size 720x360 with 2 Axes>"
      ]
     },
     "metadata": {
      "needs_background": "light"
     },
     "output_type": "display_data"
    }
   ],
   "source": [
    "plt.figure(1, figsize=(10, 5))\n",
    "\n",
    "plt.suptitle('Top 20 uncommmon word occurences each for:')\n",
    "\n",
    "plt.subplot(121)\n",
    "sns.barplot(data = subject_vector_sorted.head(20), x='mean tdidf',y='word', color='blue')\n",
    "plt.title('Email Subject')\n",
    "\n",
    "plt.subplot(122)\n",
    "sns.barplot(data = body_vector_sorted.iloc[1:21], x='mean tdidf',y='word', color='blue')\n",
    "plt.title('Email Body')\n",
    "\n",
    "plt.tight_layout()\n",
    "plt.show()"
   ]
  },
  {
   "cell_type": "markdown",
   "metadata": {
    "id": "ChoPhHdx8g_M"
   },
   "source": [
    "### Clustering\n",
    "- Use DBSCAN with cosine distance for NLP.  \n",
    "- Try to get approx. 5 clusters to dissect and explain\n",
    "- Look for descriptors for the clusters, like business vs. personal emails, IT emails, etc."
   ]
  },
  {
   "cell_type": "code",
   "execution_count": 24,
   "metadata": {
    "id": "EqDlP8C_N5D0",
    "outputId": "8ec90270-f4e0-4210-c59a-64c9b6deb27c",
    "scrolled": true
   },
   "outputs": [],
   "source": [
    "dbscan = DBSCAN(metric='cosine')\n",
    "eps_clusters = []\n",
    "\n",
    "for j in range(75,126,25):\n",
    "    dbscan.min_samples = j\n",
    "    for i in range(60,76,5):\n",
    "        dbscan.eps = i/100\n",
    "        clustering = pd.Series( dbscan.fit_predict(features_subject) )\n",
    "        \n",
    "        cluster_counts = list( clustering.value_counts().sort_index() )\n",
    "        cluster_counts.pop(0) # remove -1 cluster which is a non-cluster \n",
    "        num_clusters = len(cluster_counts)\n",
    "        \n",
    "        clustering_spam = pd.concat([clustering, df['spam']], axis=1)\n",
    "        clustering_spam.columns = ['cluster', 'spam']       \n",
    "        clustering_spam_counts = pd.DataFrame( clustering_spam.value_counts() ).reset_index()\n",
    "        cluster_purity = list( ( clustering_spam_counts[['cluster']].value_counts()==1 ).sort_index() )\n",
    "        cluster_purity.pop(0) # remove -1 cluster which is a non-cluster\n",
    "        num_pure_clusters = sum(cluster_purity)\n",
    "        num_pure_emails = sum( np.multiply(cluster_counts, cluster_purity) )\n",
    "        \n",
    "        eps_clusters.append([ dbscan.min_samples, dbscan.eps, num_clusters, num_pure_clusters, num_pure_emails])\n",
    "\n",
    "clusters_df = pd.DataFrame(eps_clusters, columns = ['min_samples','epsilon', '# clusters', '# pure clusters', '# pure emails'])\n",
    "clusters_df.sort_values(by='# pure emails', ascending=False);"
   ]
  },
  {
   "cell_type": "markdown",
   "metadata": {},
   "source": [
    "|min_samples | epsilon   |  # clusters     | # pure clusters | # pure emails|\n",
    "|----------|-------------|-----------------|-----------------|--------------|  \n",
    "|  __125__     |__0.70__         |  __6__              |  __4__            |__635__|\n",
    "|   75     |0.70         |  8              |  5            |569|\n",
    "|  125     |0.75         |  6              |  3            |540|\n",
    "|  100     |0.75         |  6              |  3            |540|\n",
    "|  100     |0.70         |  6              |  3            |429|\n",
    "|   75     |0.60         |  4              |  3            |327|\n",
    "|   75     |0.75         |  5              |  2            |303|\n",
    "|  100     |0.65         |  4              |  2            |303|\n",
    "|  125     |0.65         |  4              |  2            |300|\n",
    "|  100     |0.60         |  3              |  2            |242|\n",
    "|   75     |0.65         |  4              |  2            |241|\n",
    "|  125     |0.60         |  1              |  1            |131|"
   ]
  },
  {
   "cell_type": "markdown",
   "metadata": {},
   "source": [
    "## Final Clusters - Insights\n",
    "\n",
    "min_samples=125, epsilon=0.70 had 4 pure clusters that contained only 'ham' emails.  These clusters could be used to filter or pre-process emails before Naive Bayes classification.  \n",
    "\n",
    "- Cluster 0 : Unknown\n",
    "- Cluster 1 : News & Dates\n",
    "- Cluster 2 : Pain (ouch, hurts)\n",
    "- Cluster 3 : [Spambayes] & package\n",
    "- Cluster 4 : [Razor-users]\n",
    "- Cluster 5 : [zzzzteana]\n",
    "\n",
    "min_samples could be decreased to 50 or less which would give more pure emails but many more clusters to explore and manage.  "
   ]
  },
  {
   "cell_type": "code",
   "execution_count": 25,
   "metadata": {},
   "outputs": [
    {
     "name": "stdout",
     "output_type": "stream",
     "text": [
      "Head & tail of each cluster:\n"
     ]
    },
    {
     "data": {
      "text/html": [
       "<div>\n",
       "<style scoped>\n",
       "    .dataframe tbody tr th:only-of-type {\n",
       "        vertical-align: middle;\n",
       "    }\n",
       "\n",
       "    .dataframe tbody tr th {\n",
       "        vertical-align: top;\n",
       "    }\n",
       "\n",
       "    .dataframe thead th {\n",
       "        text-align: right;\n",
       "    }\n",
       "</style>\n",
       "<table border=\"1\" class=\"dataframe\">\n",
       "  <thead>\n",
       "    <tr style=\"text-align: right;\">\n",
       "      <th></th>\n",
       "      <th>cluster</th>\n",
       "      <th>subject</th>\n",
       "      <th>spam</th>\n",
       "    </tr>\n",
       "  </thead>\n",
       "  <tbody>\n",
       "    <tr>\n",
       "      <th>20</th>\n",
       "      <td>0</td>\n",
       "      <td>(_) Increase Your Sales!!!!</td>\n",
       "      <td>1</td>\n",
       "    </tr>\n",
       "    <tr>\n",
       "      <th>24</th>\n",
       "      <td>0</td>\n",
       "      <td>未承諾広告※灼熱！出会いの広場</td>\n",
       "      <td>1</td>\n",
       "    </tr>\n",
       "    <tr>\n",
       "      <th>41</th>\n",
       "      <td>0</td>\n",
       "      <td>しじみともものコラボレーション</td>\n",
       "      <td>1</td>\n",
       "    </tr>\n",
       "    <tr>\n",
       "      <th>9265</th>\n",
       "      <td>0</td>\n",
       "      <td>Re: Asteroids anyone ?</td>\n",
       "      <td>0</td>\n",
       "    </tr>\n",
       "    <tr>\n",
       "      <th>9270</th>\n",
       "      <td>0</td>\n",
       "      <td>Re: request ?</td>\n",
       "      <td>0</td>\n",
       "    </tr>\n",
       "    <tr>\n",
       "      <th>9324</th>\n",
       "      <td>0</td>\n",
       "      <td>Re: Asteroids anyone ?</td>\n",
       "      <td>0</td>\n",
       "    </tr>\n",
       "    <tr>\n",
       "      <th>1188</th>\n",
       "      <td>1</td>\n",
       "      <td>[use Perl] Stories for 2002-08-18</td>\n",
       "      <td>0</td>\n",
       "    </tr>\n",
       "    <tr>\n",
       "      <th>1488</th>\n",
       "      <td>1</td>\n",
       "      <td>[use Perl] Stories for 2002-08-18</td>\n",
       "      <td>0</td>\n",
       "    </tr>\n",
       "    <tr>\n",
       "      <th>2970</th>\n",
       "      <td>1</td>\n",
       "      <td>[use Perl] Stories for 2002-10-07</td>\n",
       "      <td>0</td>\n",
       "    </tr>\n",
       "    <tr>\n",
       "      <th>9103</th>\n",
       "      <td>1</td>\n",
       "      <td>[use Perl] Stories for 2002-07-20</td>\n",
       "      <td>0</td>\n",
       "    </tr>\n",
       "    <tr>\n",
       "      <th>9107</th>\n",
       "      <td>1</td>\n",
       "      <td>[use Perl] Headlines for 2002-07-20</td>\n",
       "      <td>0</td>\n",
       "    </tr>\n",
       "    <tr>\n",
       "      <th>9334</th>\n",
       "      <td>1</td>\n",
       "      <td>[use Perl] Headlines for 2002-07-23</td>\n",
       "      <td>0</td>\n",
       "    </tr>\n",
       "    <tr>\n",
       "      <th>2909</th>\n",
       "      <td>2</td>\n",
       "      <td>Re: Ouch... [Bebergflame]</td>\n",
       "      <td>0</td>\n",
       "    </tr>\n",
       "    <tr>\n",
       "      <th>2973</th>\n",
       "      <td>2</td>\n",
       "      <td>Selling Wedded Bliss (was Re: Ouch...)</td>\n",
       "      <td>0</td>\n",
       "    </tr>\n",
       "    <tr>\n",
       "      <th>3039</th>\n",
       "      <td>2</td>\n",
       "      <td>RE: Selling Wedded Bliss (was Re: Ouch...)</td>\n",
       "      <td>0</td>\n",
       "    </tr>\n",
       "    <tr>\n",
       "      <th>9246</th>\n",
       "      <td>2</td>\n",
       "      <td>Re: \"Ouch. Ouch. Ouch. Ouch. Ouch....\"(was Re:...</td>\n",
       "      <td>0</td>\n",
       "    </tr>\n",
       "    <tr>\n",
       "      <th>9256</th>\n",
       "      <td>2</td>\n",
       "      <td>My brain hurts</td>\n",
       "      <td>0</td>\n",
       "    </tr>\n",
       "    <tr>\n",
       "      <th>9318</th>\n",
       "      <td>2</td>\n",
       "      <td>\"Ouch. Ouch. Ouch. Ouch. Ouch....\"(was Re: My ...</td>\n",
       "      <td>0</td>\n",
       "    </tr>\n",
       "    <tr>\n",
       "      <th>2911</th>\n",
       "      <td>3</td>\n",
       "      <td>[Spambayes] all but one testing</td>\n",
       "      <td>0</td>\n",
       "    </tr>\n",
       "    <tr>\n",
       "      <th>2948</th>\n",
       "      <td>3</td>\n",
       "      <td>[Spambayes] test sets?</td>\n",
       "      <td>0</td>\n",
       "    </tr>\n",
       "    <tr>\n",
       "      <th>2980</th>\n",
       "      <td>3</td>\n",
       "      <td>[Spambayes] Deployment</td>\n",
       "      <td>0</td>\n",
       "    </tr>\n",
       "    <tr>\n",
       "      <th>7916</th>\n",
       "      <td>3</td>\n",
       "      <td>[Spambayes] test sets?</td>\n",
       "      <td>0</td>\n",
       "    </tr>\n",
       "    <tr>\n",
       "      <th>7927</th>\n",
       "      <td>3</td>\n",
       "      <td>[Spambayes] spambayes package?</td>\n",
       "      <td>0</td>\n",
       "    </tr>\n",
       "    <tr>\n",
       "      <th>8052</th>\n",
       "      <td>3</td>\n",
       "      <td>Find all files that aren't in package.</td>\n",
       "      <td>0</td>\n",
       "    </tr>\n",
       "    <tr>\n",
       "      <th>497</th>\n",
       "      <td>4</td>\n",
       "      <td>*****SPAM*****</td>\n",
       "      <td>1</td>\n",
       "    </tr>\n",
       "    <tr>\n",
       "      <th>1982</th>\n",
       "      <td>4</td>\n",
       "      <td>This is the final test of a</td>\n",
       "      <td>1</td>\n",
       "    </tr>\n",
       "    <tr>\n",
       "      <th>2415</th>\n",
       "      <td>4</td>\n",
       "      <td>New... Find out ANYTHING about ANYONE from you...</td>\n",
       "      <td>1</td>\n",
       "    </tr>\n",
       "    <tr>\n",
       "      <th>9315</th>\n",
       "      <td>4</td>\n",
       "      <td>Re: [Razor-users] dot-tk registrations hitting...</td>\n",
       "      <td>0</td>\n",
       "    </tr>\n",
       "    <tr>\n",
       "      <th>9344</th>\n",
       "      <td>4</td>\n",
       "      <td>Re: [Razor-users] Re: What's wrong with the Ra...</td>\n",
       "      <td>0</td>\n",
       "    </tr>\n",
       "    <tr>\n",
       "      <th>9348</th>\n",
       "      <td>4</td>\n",
       "      <td>RE: [Razor-users] What's wrong with the Razor ...</td>\n",
       "      <td>0</td>\n",
       "    </tr>\n",
       "    <tr>\n",
       "      <th>1296</th>\n",
       "      <td>5</td>\n",
       "      <td>[zzzzteana] Fwd: Explorator 5.15</td>\n",
       "      <td>0</td>\n",
       "    </tr>\n",
       "    <tr>\n",
       "      <th>2931</th>\n",
       "      <td>5</td>\n",
       "      <td>[zzzzteana] Re: Megalithomania UnPissup</td>\n",
       "      <td>0</td>\n",
       "    </tr>\n",
       "    <tr>\n",
       "      <th>2932</th>\n",
       "      <td>5</td>\n",
       "      <td>[zzzzteana] Bashing the bishop</td>\n",
       "      <td>0</td>\n",
       "    </tr>\n",
       "    <tr>\n",
       "      <th>8638</th>\n",
       "      <td>5</td>\n",
       "      <td>[zzzzteana] Re: More Japanese stuff</td>\n",
       "      <td>0</td>\n",
       "    </tr>\n",
       "    <tr>\n",
       "      <th>8689</th>\n",
       "      <td>5</td>\n",
       "      <td>[zzzzteana] Search for missing lynx</td>\n",
       "      <td>0</td>\n",
       "    </tr>\n",
       "    <tr>\n",
       "      <th>9003</th>\n",
       "      <td>5</td>\n",
       "      <td>[zzzzteana] Animal attraction for sale</td>\n",
       "      <td>0</td>\n",
       "    </tr>\n",
       "  </tbody>\n",
       "</table>\n",
       "</div>"
      ],
      "text/plain": [
       "      cluster                                            subject  spam\n",
       "20          0                        (_) Increase Your Sales!!!!     1\n",
       "24          0                                    未承諾広告※灼熱！出会いの広場     1\n",
       "41          0                                    しじみともものコラボレーション     1\n",
       "9265        0                             Re: Asteroids anyone ?     0\n",
       "9270        0                                      Re: request ?     0\n",
       "9324        0                             Re: Asteroids anyone ?     0\n",
       "1188        1                  [use Perl] Stories for 2002-08-18     0\n",
       "1488        1                  [use Perl] Stories for 2002-08-18     0\n",
       "2970        1                  [use Perl] Stories for 2002-10-07     0\n",
       "9103        1                  [use Perl] Stories for 2002-07-20     0\n",
       "9107        1                [use Perl] Headlines for 2002-07-20     0\n",
       "9334        1                [use Perl] Headlines for 2002-07-23     0\n",
       "2909        2                          Re: Ouch... [Bebergflame]     0\n",
       "2973        2             Selling Wedded Bliss (was Re: Ouch...)     0\n",
       "3039        2         RE: Selling Wedded Bliss (was Re: Ouch...)     0\n",
       "9246        2  Re: \"Ouch. Ouch. Ouch. Ouch. Ouch....\"(was Re:...     0\n",
       "9256        2                                     My brain hurts     0\n",
       "9318        2  \"Ouch. Ouch. Ouch. Ouch. Ouch....\"(was Re: My ...     0\n",
       "2911        3                    [Spambayes] all but one testing     0\n",
       "2948        3                             [Spambayes] test sets?     0\n",
       "2980        3                             [Spambayes] Deployment     0\n",
       "7916        3                             [Spambayes] test sets?     0\n",
       "7927        3                     [Spambayes] spambayes package?     0\n",
       "8052        3             Find all files that aren't in package.     0\n",
       "497         4                                     *****SPAM*****     1\n",
       "1982        4                        This is the final test of a     1\n",
       "2415        4  New... Find out ANYTHING about ANYONE from you...     1\n",
       "9315        4  Re: [Razor-users] dot-tk registrations hitting...     0\n",
       "9344        4  Re: [Razor-users] Re: What's wrong with the Ra...     0\n",
       "9348        4  RE: [Razor-users] What's wrong with the Razor ...     0\n",
       "1296        5                   [zzzzteana] Fwd: Explorator 5.15     0\n",
       "2931        5            [zzzzteana] Re: Megalithomania UnPissup     0\n",
       "2932        5                     [zzzzteana] Bashing the bishop     0\n",
       "8638        5                [zzzzteana] Re: More Japanese stuff     0\n",
       "8689        5                [zzzzteana] Search for missing lynx     0\n",
       "9003        5             [zzzzteana] Animal attraction for sale     0"
      ]
     },
     "execution_count": 25,
     "metadata": {},
     "output_type": "execute_result"
    }
   ],
   "source": [
    "# Most clusters with the lowest spread (stdev) in cluster counts\n",
    "dbscan.min_samples = 125\n",
    "dbscan.eps = 0.70\n",
    "\n",
    "clusters = dbscan.fit_predict(features_subject)\n",
    "clusters = pd.Series(clusters)\n",
    "clusters.index = df.index\n",
    "subject_clusters = pd.concat([ clusters, df['subject'], df['spam'] ], axis=1)\n",
    "subject_clusters.columns = ['cluster','subject', 'spam']\n",
    "\n",
    "heads_tails = pd.DataFrame({'cluster' : [], 'subject' : [], 'spam' : []}) \n",
    "for i in range( 0, max(clusters.unique())+1 ): # Exclude the -1 class which is a non-cluster\n",
    "    heads_tails = pd.concat([heads_tails, \n",
    "                             subject_clusters.loc[subject_clusters['cluster']==i].head(3),\n",
    "                             subject_clusters.loc[subject_clusters['cluster']==i].tail(3) ], axis=0)\n",
    "heads_tails[['cluster', 'spam']] = heads_tails[['cluster','spam']].astype(int)\n",
    "print('Head & tail of each cluster:')    \n",
    "heads_tails"
   ]
  },
  {
   "cell_type": "markdown",
   "metadata": {},
   "source": [
    "### 111 spam cases, most in Cluster 0.  Clusters 1,2,3, and 5 have no spam and can be used for filtering or pre-processing"
   ]
  },
  {
   "cell_type": "code",
   "execution_count": 26,
   "metadata": {},
   "outputs": [
    {
     "data": {
      "text/plain": [
       "0    956\n",
       "1    111\n",
       "Name: spam, dtype: int64"
      ]
     },
     "execution_count": 26,
     "metadata": {},
     "output_type": "execute_result"
    }
   ],
   "source": [
    "subject_clusters.loc[subject_clusters['cluster']!=-1,'spam'].value_counts()"
   ]
  },
  {
   "cell_type": "code",
   "execution_count": 27,
   "metadata": {
    "scrolled": true
   },
   "outputs": [
    {
     "data": {
      "text/plain": [
       "0    127\n",
       "1    108\n",
       "Name: spam, dtype: int64"
      ]
     },
     "execution_count": 27,
     "metadata": {},
     "output_type": "execute_result"
    }
   ],
   "source": [
    "subject_clusters.loc[subject_clusters['cluster']==0,'spam'].value_counts()"
   ]
  },
  {
   "cell_type": "code",
   "execution_count": 28,
   "metadata": {},
   "outputs": [
    {
     "data": {
      "text/plain": [
       "0    194\n",
       "1      3\n",
       "Name: spam, dtype: int64"
      ]
     },
     "execution_count": 28,
     "metadata": {},
     "output_type": "execute_result"
    }
   ],
   "source": [
    "subject_clusters.loc[subject_clusters['cluster']==4,'spam'].value_counts()"
   ]
  },
  {
   "cell_type": "markdown",
   "metadata": {
    "id": "z6qUPkzRN5D4"
   },
   "source": [
    "## Assumptions <a id='assumptions'>"
   ]
  },
  {
   "cell_type": "markdown",
   "metadata": {
    "id": "SaEb4apWN5D4"
   },
   "source": [
    "Team made the assumption that emails are representative of future emails.  Team also made the assumption that the emails were properly categorized into folders as ham or spam.  For the spam detection to be effective, the model will need to be run and/or updated on a regular basis to ensure new trends in spam are captured.\n",
    "\n",
    "Naive Bayes is built with the assumption that all prediction variables(features) are independent."
   ]
  },
  {
   "cell_type": "markdown",
   "metadata": {
    "id": "zmuI_mep8g_b"
   },
   "source": [
    "# Model Preparations <a id='model-preparations'/>"
   ]
  },
  {
   "cell_type": "markdown",
   "metadata": {},
   "source": [
    "### Methods "
   ]
  },
  {
   "cell_type": "markdown",
   "metadata": {},
   "source": [
    "For this classification problem, team found NLP useful for modeling because it is used for natural language processing.  (A natural language is one that develops naturally such as English, ASL, or Spanish.  An example of an artificial language is Klingon.)  Naïve Bayes was useful for classification because it looks at each classification individually.  It is the most popular method for spam detection because it gives a low result of false positive.  The dataset started with 6,086 features.  NLP only needed a fraction of the features in order to detect whether a message was spam or ham.  DBSCAN was useful for finding connections in the  data such as related words and noise.\n",
    "\n",
    "#### NLP and Naïve Bayes\n",
    "Data was processed using TFIDF (Term Frequency Inverse Data Frequency) to quantify and determine the rare words across the spam and ham emails in the training set for email body and subject. Gaussian Naive Bayes (GaussianNB) was used to build the model. Predicted outcomes of the train and test data set were compared with the actual outcome.\n",
    "\n",
    "The team decided to use NLP (Natural Language Processing) to read and identify the text in the email subject and body. Team performed cleanup efforts on unstructured text data and removed unwanted characters and symbols to create a structured alphanumeric data frame. \n",
    "\n",
    "The Naïve Bayes algorithm was used to classify the data. This classification technique works well when features predicting the target classification are independent of each other, and it is a proven method for effectively classifying spam.  \n",
    "\n",
    "#### DBSCAN\n",
    "Density-Based Spatial Clustering of Applications with Noise (DBSCAN) algorithm is used to find associations and structures in data that are challenging to find manually but are relevant and valuable to find patterns and predict trends. DBSCAN groups the data points close to each other based on the density and distance measured. It also identifies the outliers in low-density regions. In the case of email, it will be able to identify closely related words and separate the noise or irreverent words. This algorithm effectively manages outliers by detecting them and considering them as a separate (not able to cluster them) cluster(s). DBSCAN allows for easy execution of distance measures. Cosine distance measures the distance between vectors by calculating cosine angle vectors, i.e., two overlapping vectors will have minimum values. Cosine distance works excellent with text. \n",
    "\n",
    "#### Metrics\n",
    "The metrics used to evaluate model performance were accuracy, time to process, and F1. Time to process the emails was also considered to be an essential factor. So, the team had to find the right balance between the three legs of stool (accuracy, time to process, and F1).\n",
    "\n",
    "Accuracy refers to the level of agreement between the actual measurement and the predicted value."
   ]
  },
  {
   "cell_type": "markdown",
   "metadata": {
    "id": "UuRjMsjg8g_d"
   },
   "source": [
    "# Model Building & Evaluations <a id='model-building'/>"
   ]
  },
  {
   "cell_type": "markdown",
   "metadata": {},
   "source": [
    "Clustering with DBSCAN approach is discussed in the EDA section above."
   ]
  },
  {
   "cell_type": "markdown",
   "metadata": {},
   "source": [
    "## Split into Training and Test"
   ]
  },
  {
   "cell_type": "markdown",
   "metadata": {},
   "source": [
    "Data was split into training and test sets with a 70/30 ratio, respectively. Care was taken to manage the imbalance of spam and ham in the training and test sets. Specifically, StratifiedShuffleSplit was used to ensure class balance."
   ]
  },
  {
   "cell_type": "code",
   "execution_count": 29,
   "metadata": {},
   "outputs": [],
   "source": [
    "def split_dependant_and_independant_variables(df: pd.DataFrame, y_var: str):\n",
    "    X = df.copy()\n",
    "    y = X[y_var]\n",
    "    X = X.drop([y_var], axis=1)\n",
    "    return X, y"
   ]
  },
  {
   "cell_type": "code",
   "execution_count": 30,
   "metadata": {},
   "outputs": [],
   "source": [
    "def shuffle_split(X, y, test_size, random_state):\n",
    "    stratified_shuffle_split = StratifiedShuffleSplit(n_splits=1, test_size=test_size, random_state=random_state)\n",
    "    for train_index, test_index in stratified_shuffle_split.split(X, y):\n",
    "        X_train, X_test = X.iloc[train_index], X.iloc[test_index]\n",
    "        y_train, y_test = y[train_index], y[test_index]\n",
    "    return X_train, X_test, y_train, y_test"
   ]
  },
  {
   "cell_type": "code",
   "execution_count": 31,
   "metadata": {},
   "outputs": [],
   "source": [
    "X, y = split_dependant_and_independant_variables(df, 'spam')"
   ]
  },
  {
   "cell_type": "code",
   "execution_count": 32,
   "metadata": {},
   "outputs": [],
   "source": [
    "X_train, X_test, y_train, y_test = shuffle_split(X, y, test_size=0.3, random_state=12343)"
   ]
  },
  {
   "cell_type": "code",
   "execution_count": 33,
   "metadata": {},
   "outputs": [],
   "source": [
    "vectorizer_subj = TfidfVectorizer(analyzer='word', tokenizer=dummy_fun, preprocessor=dummy_fun, token_pattern=None, stop_words='english')\n",
    "features_subject_train = vectorizer_subj.fit_transform(X_train['clean_subject'])\n",
    "features_subject_test = vectorizer_subj.transform(X_test['clean_subject'])"
   ]
  },
  {
   "cell_type": "code",
   "execution_count": 34,
   "metadata": {},
   "outputs": [],
   "source": [
    "vectorizer_body = TfidfVectorizer(analyzer='word', tokenizer=dummy_fun, preprocessor=dummy_fun, token_pattern=None, stop_words='english')\n",
    "features_body_train = vectorizer_body.fit_transform(X_train['clean_body'])\n",
    "features_body_test = vectorizer_body.transform(X_test['clean_body'])"
   ]
  },
  {
   "cell_type": "code",
   "execution_count": 35,
   "metadata": {},
   "outputs": [],
   "source": [
    "from scipy import sparse\n",
    "features_joined_train = sparse.hstack((features_subject_train, features_body_train), format='csr') \n",
    "features_joined_test = sparse.hstack((features_subject_test, features_body_test), format='csr') "
   ]
  },
  {
   "cell_type": "markdown",
   "metadata": {},
   "source": [
    "## Feature Selection\n",
    "Using all the extracted features resulting in overfitting the training set, longer processing time and degredation in F1 value.  To mitigate these issues, the team reduced the number of features in the model utilzing Select Percentile from Sklearn feature selection. Multiple iterations were done to reduce the features from 100% to 50% to 5% to 1%.  A subset of these iterations was included in this report.  The team found only 5% of the features was best for predicting spam without overfitting."
   ]
  },
  {
   "cell_type": "code",
   "execution_count": 36,
   "metadata": {},
   "outputs": [
    {
     "data": {
      "text/plain": [
       "SelectPercentile(percentile=100)"
      ]
     },
     "execution_count": 36,
     "metadata": {},
     "output_type": "execute_result"
    }
   ],
   "source": [
    "selector_100_subj = SelectPercentile(f_classif, percentile=100)\n",
    "selector_100_subj.fit(features_subject_train, y_train)\n",
    "\n",
    "selector_100_body = SelectPercentile(f_classif, percentile=100)\n",
    "selector_100_body.fit(features_body_train, y_train)"
   ]
  },
  {
   "cell_type": "code",
   "execution_count": 37,
   "metadata": {},
   "outputs": [],
   "source": [
    "percentile = 5"
   ]
  },
  {
   "cell_type": "code",
   "execution_count": 38,
   "metadata": {},
   "outputs": [],
   "source": [
    "selector_5_subj = SelectPercentile(f_classif, percentile=percentile)\n",
    "selector_5_subj.fit(features_subject_train, y_train)\n",
    "features_subject_train_sel = selector_5_subj.transform(features_subject_train).toarray()\n",
    "features_subject_test_sel = selector_5_subj.transform(features_subject_test).toarray()"
   ]
  },
  {
   "cell_type": "code",
   "execution_count": 39,
   "metadata": {},
   "outputs": [],
   "source": [
    "def selected_features(vectorizer, selector):\n",
    "    words = np.array( vectorizer.get_feature_names() )\n",
    "    selected = selector.get_support()\n",
    "    p_values = selector.pvalues_\n",
    "    selected_words = np.vstack([words, selected, p_values])\n",
    "    selected_words = pd.DataFrame(selected_words).T\n",
    "    selected_words.columns = ['word', 'selected?', 'p_value']\n",
    "    selected_words['p_value'] = selected_words['p_value'].astype(float)\n",
    "    selected_words = selected_words.loc[selected_words['selected?']=='True'].sort_values(by='p_value')\n",
    "    return selected_words.drop('selected?', axis=1)"
   ]
  },
  {
   "cell_type": "code",
   "execution_count": 40,
   "metadata": {},
   "outputs": [],
   "source": [
    "subj_5pct = selected_features(vectorizer_subj, selector_5_subj)"
   ]
  },
  {
   "cell_type": "code",
   "execution_count": 41,
   "metadata": {},
   "outputs": [],
   "source": [
    "selector_5_body = SelectPercentile(f_classif, percentile=percentile)\n",
    "selector_5_body.fit(features_body_train, y_train)\n",
    "features_body_train_sel = selector_5_body.transform(features_body_train).toarray()\n",
    "features_body_test_sel = selector_5_body.transform(features_body_test).toarray()"
   ]
  },
  {
   "cell_type": "code",
   "execution_count": 42,
   "metadata": {},
   "outputs": [],
   "source": [
    "body_5pct = selected_features(vectorizer_body, selector_5_body)"
   ]
  },
  {
   "cell_type": "code",
   "execution_count": 43,
   "metadata": {},
   "outputs": [],
   "source": [
    "selector_5_joined = SelectPercentile(f_classif, percentile=percentile)\n",
    "selector_5_joined.fit(features_joined_train, y_train)\n",
    "features_joined_train_sel = selector_5_joined.transform(features_joined_train).toarray()\n",
    "features_joined_test_sel = selector_5_joined.transform(features_joined_test).toarray()"
   ]
  },
  {
   "cell_type": "code",
   "execution_count": 44,
   "metadata": {},
   "outputs": [],
   "source": [
    "def selected_joined_features(vectorizer1, vectorizer2, selector):\n",
    "    words1 = [str('subj_'+i) for i in vectorizer1.get_feature_names()]\n",
    "    words2 = [str('body_'+i) for i in vectorizer2.get_feature_names()]\n",
    "    words = np.hstack([words1, words2])\n",
    "    selected = selector.get_support()\n",
    "    p_values = selector.pvalues_\n",
    "    selected_words = np.vstack([words, selected, p_values])\n",
    "    selected_words = pd.DataFrame(selected_words).T\n",
    "    selected_words.columns = ['word', 'selected?', 'p_value']\n",
    "    selected_words = selected_words.loc[selected_words['selected?']=='True']\n",
    "    selected_words['p_value'] = selected_words['p_value'].astype(float)\n",
    "    selected_words_sort = selected_words.sort_values(by='p_value')\n",
    "    return selected_words_sort.drop('selected?', axis=1), selected_words['word']"
   ]
  },
  {
   "cell_type": "code",
   "execution_count": 45,
   "metadata": {},
   "outputs": [],
   "source": [
    "joined_5pct = selected_joined_features(vectorizer_subj, vectorizer_body, selector_5_joined)"
   ]
  },
  {
   "cell_type": "markdown",
   "metadata": {},
   "source": [
    "## Modeling"
   ]
  },
  {
   "cell_type": "markdown",
   "metadata": {},
   "source": [
    "Model Performance is discussed in the conclusion."
   ]
  },
  {
   "cell_type": "markdown",
   "metadata": {},
   "source": [
    "### Baseline Accuracy\n",
    "If the model simply predicted everything as ham, it would be 74% accurate.  "
   ]
  },
  {
   "cell_type": "code",
   "execution_count": 46,
   "metadata": {
    "scrolled": true
   },
   "outputs": [
    {
     "data": {
      "text/plain": [
       "0    0.743505\n",
       "1    0.256495\n",
       "Name: spam, dtype: float64"
      ]
     },
     "execution_count": 46,
     "metadata": {},
     "output_type": "execute_result"
    }
   ],
   "source": [
    "# Baseline accuracy of 74% with class imbalance\n",
    "df['spam'].value_counts(normalize=True)"
   ]
  },
  {
   "cell_type": "code",
   "execution_count": 47,
   "metadata": {},
   "outputs": [],
   "source": [
    "def score_feature_importance(model, vectorizer, selector, indicator):\n",
    "    try:\n",
    "        words = np.array( vectorizer.get_feature_names() )\n",
    "        selected = selector.get_support()\n",
    "        selected_words = np.vstack([words,  selected])\n",
    "        selected_words = pd.DataFrame(selected_words).T\n",
    "        selected_words.columns = ['word', 'selected?']\n",
    "        selected_words = selected_words.loc[selected_words['selected?']=='True']['word']\n",
    "    except: # body+subj models\n",
    "        selected_words = joined_5pct[1]\n",
    "    return sorted(list(zip(selected_words, model.feature_log_prob_[indicator] )), key=lambda t: t[1], reverse=True)\n",
    "\n",
    "def measure_time(func, name, percentile, features, vectorizer, selector):\n",
    "    start = time.process_time()\n",
    "    train_pred, test_pred, model = func()\n",
    "    processing_time = time.process_time() - start\n",
    "    return [name, percentile, features, round(accuracy_score(y_train, train_pred),2), round(accuracy_score(y_test, test_pred), 2), round(f1_score(y_test, test_pred),2), round(processing_time, 4)], score_feature_importance(model, vectorizer, selector, 0), score_feature_importance(model, vectorizer, selector, 1)"
   ]
  },
  {
   "cell_type": "markdown",
   "metadata": {},
   "source": [
    "## Naïve Bayes\n",
    "The Naïve Bayes algorithm was used to classify the data. This classification technique works well when features predicting the target classification are independent of each other, and it is a proven method for effectively classifying spam.  "
   ]
  },
  {
   "cell_type": "markdown",
   "metadata": {},
   "source": [
    "### Modeling with All Body Features - Baseline Model #1"
   ]
  },
  {
   "cell_type": "code",
   "execution_count": 48,
   "metadata": {},
   "outputs": [],
   "source": [
    "features_body_train_all = features_body_train.toarray()\n",
    "features_body_test_all = features_body_test.toarray()\n",
    "def run_model0(): \n",
    "    model0 = MultinomialNB()\n",
    "    model0.fit(features_body_train_all, y_train)\n",
    "    train_pred = model0.predict(features_body_train_all)\n",
    "    test_pred = model0.predict(features_body_test_all)\n",
    "    return train_pred, test_pred, model0"
   ]
  },
  {
   "cell_type": "markdown",
   "metadata": {},
   "source": [
    "### Modeling with All Subject Features - Baseline Model #2"
   ]
  },
  {
   "cell_type": "code",
   "execution_count": 49,
   "metadata": {},
   "outputs": [],
   "source": [
    "features_subject_train_all = features_subject_train.toarray()\n",
    "features_subject_test_all = features_subject_test.toarray()\n",
    "def run_model1(): \n",
    "    model1a = MultinomialNB()\n",
    "    model1a.fit(features_subject_train_all, y_train)\n",
    "    train_pred = model1a.predict(features_subject_train_all)\n",
    "    test_pred = model1a.predict(features_subject_test_all)\n",
    "    return train_pred, test_pred, model1a"
   ]
  },
  {
   "cell_type": "markdown",
   "metadata": {},
   "source": [
    "### Modeling with 5% of Subject Features"
   ]
  },
  {
   "cell_type": "code",
   "execution_count": 50,
   "metadata": {
    "scrolled": false
   },
   "outputs": [],
   "source": [
    "def run_model2():\n",
    "    model1b = MultinomialNB()\n",
    "    model1b.fit(features_subject_train_sel, y_train)\n",
    "    train_pred = model1b.predict(features_subject_train_sel)\n",
    "    test_pred = model1b.predict(features_subject_test_sel)\n",
    "    return train_pred, test_pred, model1b"
   ]
  },
  {
   "cell_type": "markdown",
   "metadata": {},
   "source": [
    "### Modeling with 5% of Body Features"
   ]
  },
  {
   "cell_type": "code",
   "execution_count": 51,
   "metadata": {},
   "outputs": [],
   "source": [
    "def run_model3():\n",
    "    model2 = MultinomialNB()\n",
    "    model2.fit(features_body_train_sel, y_train)\n",
    "    train_pred = model2.predict(features_body_train_sel)\n",
    "    test_pred = model2.predict(features_body_test_sel)\n",
    "    return train_pred, test_pred, model2"
   ]
  },
  {
   "cell_type": "markdown",
   "metadata": {},
   "source": [
    "### Modeling with 1% of Body Features"
   ]
  },
  {
   "cell_type": "code",
   "execution_count": 52,
   "metadata": {},
   "outputs": [],
   "source": [
    "selector_1_body = SelectPercentile(f_classif, percentile=1)\n",
    "selector_1_body.fit(features_body_train, y_train)\n",
    "features_body_train_sel_1 = selector_1_body.transform(features_body_train).toarray()\n",
    "features_body_test_sel_1 = selector_1_body.transform(features_body_test).toarray()\n",
    "def run_model4():\n",
    "    model2b = MultinomialNB()\n",
    "    model2b.fit(features_body_train_sel_1, y_train)\n",
    "    train_pred = model2b.predict(features_body_train_sel_1)\n",
    "    test_pred = model2b.predict(features_body_test_sel_1)\n",
    "    return train_pred, test_pred, model2b"
   ]
  },
  {
   "cell_type": "markdown",
   "metadata": {},
   "source": [
    "### Modeling with 5% of Subject + Body Features"
   ]
  },
  {
   "cell_type": "code",
   "execution_count": 53,
   "metadata": {},
   "outputs": [],
   "source": [
    "def run_model5():\n",
    "    model3 = MultinomialNB()\n",
    "    model3.fit(features_joined_train_sel, y_train)\n",
    "    train_pred = model3.predict(features_joined_train_sel)\n",
    "    test_pred = model3.predict(features_joined_test_sel)\n",
    "    return train_pred, test_pred, model3"
   ]
  },
  {
   "cell_type": "markdown",
   "metadata": {},
   "source": [
    "### Modeling with 1% of Subject + Body Features"
   ]
  },
  {
   "cell_type": "code",
   "execution_count": 54,
   "metadata": {},
   "outputs": [],
   "source": [
    "selector_1_joined = SelectPercentile(f_classif, percentile=1)\n",
    "selector_1_joined.fit(features_joined_train, y_train)\n",
    "features_joined_train_sel_1 = selector_1_joined.transform(features_joined_train).toarray()\n",
    "features_joined_test_sel_1 = selector_1_joined.transform(features_joined_test).toarray()\n",
    "def run_model6():\n",
    "    model2b = MultinomialNB()\n",
    "    model2b.fit(features_joined_train_sel_1, y_train)\n",
    "    train_pred = model2b.predict(features_joined_train_sel_1)\n",
    "    test_pred = model2b.predict(features_joined_test_sel_1)\n",
    "    return train_pred, test_pred, model2b "
   ]
  },
  {
   "cell_type": "code",
   "execution_count": 55,
   "metadata": {},
   "outputs": [],
   "source": [
    "selector_100_joined = SelectPercentile(f_classif, percentile=100)\n",
    "selector_100_joined.fit(features_joined_train, y_train)\n",
    "features_joined_train_all = selector_100_joined.transform(features_joined_train).toarray()\n",
    "features_joined_test_all = selector_100_joined.transform(features_joined_test).toarray()\n",
    "def run_model7():\n",
    "    model2c = MultinomialNB()\n",
    "    model2c.fit(features_joined_train_all, y_train)\n",
    "    train_pred = model2c.predict(features_joined_train_all)\n",
    "    test_pred = model2c.predict(features_joined_test_all)\n",
    "    return train_pred, test_pred, model2c "
   ]
  },
  {
   "cell_type": "code",
   "execution_count": 56,
   "metadata": {},
   "outputs": [],
   "source": [
    "result0, neg_priority0, pos_priority0 = measure_time(run_model0, 'body',100, features_body_train_all.shape[1], vectorizer_body, selector_100_body)\n",
    "result1, neg_priority1, pos_priority1 = measure_time(run_model1, 'subject', 100, features_subject_train_all.shape[1], vectorizer_subj, selector_100_subj)\n",
    "result2, neg_priority2, pos_priority2 = measure_time(run_model2, 'subject', percentile, features_subject_train_sel.shape[1], vectorizer_subj, selector_5_subj)\n",
    "result3, neg_priority3, pos_priority3 = measure_time(run_model3, 'body', percentile, features_body_train_sel.shape[1], vectorizer_body, selector_5_body)\n",
    "result4, neg_priority4, pos_priority4 = measure_time(run_model4, 'body', 1, features_body_train_sel_1.shape[1], vectorizer_body, selector_1_body)\n",
    "result5, neg_priority5, pos_priority5 = measure_time(run_model5, 'subject+body', percentile, features_joined_train_sel.shape[1], vectorizer, selector_5_joined)\n",
    "result6, neg_priority6, pos_priority6 = measure_time(run_model6, 'subject+body', 1, features_joined_test_sel_1.shape[1], vectorizer, selector_1_joined)\n",
    "result7, neg_priority7, pos_priority7 = measure_time(run_model7, 'subject+body', 100, features_joined_test_all.shape[1], vectorizer, selector_100_joined)\n",
    "\n",
    "result = [result0, result1, result2, result3, result4, result7, result5, result6]"
   ]
  },
  {
   "cell_type": "code",
   "execution_count": 57,
   "metadata": {},
   "outputs": [],
   "source": [
    "result = [result1, result0, result7, result2, result3, result5, result4, result6]\n",
    "tabulate(result, headers=['Type', 'Percentile', '# of Features', 'Train Accuracy', 'Test Accuracy', 'f1-score', 'Processing Time' ]);"
   ]
  },
  {
   "cell_type": "markdown",
   "metadata": {
    "scrolled": true
   },
   "source": [
    "|Type         |   Percentile |   # of Features |   Train Accuracy |   Test Accuracy |   f1-score |   Processing Time|\n",
    "|------------ | ------------ | --------------- | ---------------- | --------------- | ---------- | -----------------|\n",
    "|subject      |          100 |            5891 |             0.96 |            0.92 |       0.81 |            1.8125|\n",
    "|body         |          100 |           84542 |             0.94 |            0.92 |       0.82 |           27.7031|\n",
    "|subject+body |          100 |           90433 |             0.98 |            0.95 |       0.9  |           26.7969|\n",
    "|subject      |            5 |             295 |             0.87 |            0.85 |       0.6  |            0.2344|\n",
    "|body         |            5 |            4227 |             0.97 |            0.96 |       0.92 |            1.4219|\n",
    "|__subject+body__ |            __5__ |            __4521__ |             __0.97__ |            __0.97__ |       __0.93__ |            __1__|\n",
    "|body         |            1 |             846 |             0.94 |            0.93 |       0.85 |            0.25|\n",
    "|subject+body |            1 |             905 |             0.95 |            0.94 |       0.87 |            0.2656|"
   ]
  },
  {
   "cell_type": "code",
   "execution_count": 58,
   "metadata": {},
   "outputs": [
    {
     "name": "stdout",
     "output_type": "stream",
     "text": [
      "Top uncommon words to predict spam from Email Subject features:\n"
     ]
    },
    {
     "data": {
      "text/html": [
       "<div>\n",
       "<style scoped>\n",
       "    .dataframe tbody tr th:only-of-type {\n",
       "        vertical-align: middle;\n",
       "    }\n",
       "\n",
       "    .dataframe tbody tr th {\n",
       "        vertical-align: top;\n",
       "    }\n",
       "\n",
       "    .dataframe thead th {\n",
       "        text-align: right;\n",
       "    }\n",
       "</style>\n",
       "<table border=\"1\" class=\"dataframe\">\n",
       "  <thead>\n",
       "    <tr style=\"text-align: right;\">\n",
       "      <th></th>\n",
       "      <th>word</th>\n",
       "      <th>log_prob</th>\n",
       "    </tr>\n",
       "  </thead>\n",
       "  <tbody>\n",
       "    <tr>\n",
       "      <th>0</th>\n",
       "      <td></td>\n",
       "      <td>-2.938310</td>\n",
       "    </tr>\n",
       "    <tr>\n",
       "      <th>1</th>\n",
       "      <td>free</td>\n",
       "      <td>-3.756981</td>\n",
       "    </tr>\n",
       "    <tr>\n",
       "      <th>2</th>\n",
       "      <td>adv</td>\n",
       "      <td>-4.237006</td>\n",
       "    </tr>\n",
       "    <tr>\n",
       "      <th>3</th>\n",
       "      <td>mortgage</td>\n",
       "      <td>-4.294055</td>\n",
       "    </tr>\n",
       "    <tr>\n",
       "      <th>4</th>\n",
       "      <td>business</td>\n",
       "      <td>-4.336182</td>\n",
       "    </tr>\n",
       "  </tbody>\n",
       "</table>\n",
       "</div>"
      ],
      "text/plain": [
       "       word  log_prob\n",
       "0           -2.938310\n",
       "1      free -3.756981\n",
       "2       adv -4.237006\n",
       "3  mortgage -4.294055\n",
       "4  business -4.336182"
      ]
     },
     "execution_count": 58,
     "metadata": {},
     "output_type": "execute_result"
    }
   ],
   "source": [
    "print(\"Top uncommon words to predict spam from Email Subject features:\")\n",
    "pd.DataFrame( pos_priority2[0:5], columns=['word','log_prob'] )"
   ]
  },
  {
   "cell_type": "code",
   "execution_count": 59,
   "metadata": {
    "scrolled": false
   },
   "outputs": [
    {
     "name": "stdout",
     "output_type": "stream",
     "text": [
      "Top uncommon words to predict spam from Email Body features:\n"
     ]
    },
    {
     "data": {
      "text/html": [
       "<div>\n",
       "<style scoped>\n",
       "    .dataframe tbody tr th:only-of-type {\n",
       "        vertical-align: middle;\n",
       "    }\n",
       "\n",
       "    .dataframe tbody tr th {\n",
       "        vertical-align: top;\n",
       "    }\n",
       "\n",
       "    .dataframe thead th {\n",
       "        text-align: right;\n",
       "    }\n",
       "</style>\n",
       "<table border=\"1\" class=\"dataframe\">\n",
       "  <thead>\n",
       "    <tr style=\"text-align: right;\">\n",
       "      <th></th>\n",
       "      <th>word</th>\n",
       "      <th>log_prob</th>\n",
       "    </tr>\n",
       "  </thead>\n",
       "  <tbody>\n",
       "    <tr>\n",
       "      <th>0</th>\n",
       "      <td>click</td>\n",
       "      <td>-5.014717</td>\n",
       "    </tr>\n",
       "    <tr>\n",
       "      <th>1</th>\n",
       "      <td>email</td>\n",
       "      <td>-5.117773</td>\n",
       "    </tr>\n",
       "    <tr>\n",
       "      <th>2</th>\n",
       "      <td>free</td>\n",
       "      <td>-5.217903</td>\n",
       "    </tr>\n",
       "    <tr>\n",
       "      <th>3</th>\n",
       "      <td>receive</td>\n",
       "      <td>-5.726903</td>\n",
       "    </tr>\n",
       "    <tr>\n",
       "      <th>4</th>\n",
       "      <td>money</td>\n",
       "      <td>-5.811169</td>\n",
       "    </tr>\n",
       "  </tbody>\n",
       "</table>\n",
       "</div>"
      ],
      "text/plain": [
       "      word  log_prob\n",
       "0    click -5.014717\n",
       "1    email -5.117773\n",
       "2     free -5.217903\n",
       "3  receive -5.726903\n",
       "4    money -5.811169"
      ]
     },
     "execution_count": 59,
     "metadata": {},
     "output_type": "execute_result"
    }
   ],
   "source": [
    "print(\"Top uncommon words to predict spam from Email Body features:\")\n",
    "pd.DataFrame( pos_priority3[1:6], columns=['word','log_prob'] )"
   ]
  },
  {
   "cell_type": "code",
   "execution_count": 60,
   "metadata": {},
   "outputs": [
    {
     "name": "stdout",
     "output_type": "stream",
     "text": [
      "Top uncommon words to predict spam from 5% Email Subject & Body features:\n"
     ]
    },
    {
     "data": {
      "text/html": [
       "<div>\n",
       "<style scoped>\n",
       "    .dataframe tbody tr th:only-of-type {\n",
       "        vertical-align: middle;\n",
       "    }\n",
       "\n",
       "    .dataframe tbody tr th {\n",
       "        vertical-align: top;\n",
       "    }\n",
       "\n",
       "    .dataframe thead th {\n",
       "        text-align: right;\n",
       "    }\n",
       "</style>\n",
       "<table border=\"1\" class=\"dataframe\">\n",
       "  <thead>\n",
       "    <tr style=\"text-align: right;\">\n",
       "      <th></th>\n",
       "      <th>word</th>\n",
       "      <th>log_prob</th>\n",
       "    </tr>\n",
       "  </thead>\n",
       "  <tbody>\n",
       "    <tr>\n",
       "      <th>0</th>\n",
       "      <td>subj_</td>\n",
       "      <td>-5.004686</td>\n",
       "    </tr>\n",
       "    <tr>\n",
       "      <th>1</th>\n",
       "      <td>body_click</td>\n",
       "      <td>-5.161457</td>\n",
       "    </tr>\n",
       "    <tr>\n",
       "      <th>2</th>\n",
       "      <td>body_email</td>\n",
       "      <td>-5.264513</td>\n",
       "    </tr>\n",
       "    <tr>\n",
       "      <th>3</th>\n",
       "      <td>body_free</td>\n",
       "      <td>-5.364643</td>\n",
       "    </tr>\n",
       "    <tr>\n",
       "      <th>4</th>\n",
       "      <td>subj_free</td>\n",
       "      <td>-5.823358</td>\n",
       "    </tr>\n",
       "  </tbody>\n",
       "</table>\n",
       "</div>"
      ],
      "text/plain": [
       "         word  log_prob\n",
       "0       subj_ -5.004686\n",
       "1  body_click -5.161457\n",
       "2  body_email -5.264513\n",
       "3   body_free -5.364643\n",
       "4   subj_free -5.823358"
      ]
     },
     "execution_count": 60,
     "metadata": {},
     "output_type": "execute_result"
    }
   ],
   "source": [
    "print(\"Top uncommon words to predict spam from 5% Email Subject & Body features:\")\n",
    "pd.DataFrame( pos_priority5[1:6], columns=['word','log_prob'] )"
   ]
  },
  {
   "cell_type": "code",
   "execution_count": 61,
   "metadata": {},
   "outputs": [
    {
     "name": "stdout",
     "output_type": "stream",
     "text": [
      "Top uncommon words to predict ham from 5% of Email Subject & Body features:\n"
     ]
    },
    {
     "data": {
      "text/html": [
       "<div>\n",
       "<style scoped>\n",
       "    .dataframe tbody tr th:only-of-type {\n",
       "        vertical-align: middle;\n",
       "    }\n",
       "\n",
       "    .dataframe tbody tr th {\n",
       "        vertical-align: top;\n",
       "    }\n",
       "\n",
       "    .dataframe thead th {\n",
       "        text-align: right;\n",
       "    }\n",
       "</style>\n",
       "<table border=\"1\" class=\"dataframe\">\n",
       "  <thead>\n",
       "    <tr style=\"text-align: right;\">\n",
       "      <th></th>\n",
       "      <th>word</th>\n",
       "      <th>log_prob</th>\n",
       "    </tr>\n",
       "  </thead>\n",
       "  <tbody>\n",
       "    <tr>\n",
       "      <th>0</th>\n",
       "      <td>subj_ilug</td>\n",
       "      <td>-5.040681</td>\n",
       "    </tr>\n",
       "    <tr>\n",
       "      <th>1</th>\n",
       "      <td>body_date</td>\n",
       "      <td>-5.343308</td>\n",
       "    </tr>\n",
       "    <tr>\n",
       "      <th>2</th>\n",
       "      <td>subj_spambayes</td>\n",
       "      <td>-5.353240</td>\n",
       "    </tr>\n",
       "    <tr>\n",
       "      <th>3</th>\n",
       "      <td>body_url</td>\n",
       "      <td>-5.369036</td>\n",
       "    </tr>\n",
       "  </tbody>\n",
       "</table>\n",
       "</div>"
      ],
      "text/plain": [
       "             word  log_prob\n",
       "0       subj_ilug -5.040681\n",
       "1       body_date -5.343308\n",
       "2  subj_spambayes -5.353240\n",
       "3        body_url -5.369036"
      ]
     },
     "execution_count": 61,
     "metadata": {},
     "output_type": "execute_result"
    }
   ],
   "source": [
    "print(\"Top uncommon words to predict ham from 5% of Email Subject & Body features:\")\n",
    "pd.DataFrame( neg_priority5[1:5], columns=['word','log_prob'] )"
   ]
  },
  {
   "cell_type": "markdown",
   "metadata": {
    "id": "JbAhMB1x8g_e"
   },
   "source": [
    "# Conclusion <a id='conclusion'>"
   ]
  },
  {
   "cell_type": "markdown",
   "metadata": {},
   "source": [
    "For this classification problem, team found NLP useful for modeling because it is used for natural language processing. (A natural language is one that develops naturally such as English, ASL, or Spanish. An example of an artificial language is Klingon.) \n",
    "\n",
    "Naïve Bayes was useful for classification because treats each feature as independent. It is the most popular method for spam detection because it gives a low result of false positive. The dataset started with 6,086 features. NLP only needed a fraction of the features in order to detect whether a message was spam or ham. DBSCAN was useful for finding connections in the data such as related words and noise."
   ]
  },
  {
   "cell_type": "markdown",
   "metadata": {
    "id": "xnsadV7M8g_e"
   },
   "source": [
    "### Final Model Proposal <a id='final-model-proposal'/>"
   ]
  },
  {
   "cell_type": "markdown",
   "metadata": {},
   "source": [
    "The team's objective was to maximize accuracy while minimizing the number of features and processing time to make predictions in real time.  The best model used __5%__ of the features from the email subject+body with __4,521__ features, accuracy of __97%__, F1-score of __93%__, and processing time of __1__ second (__20-25X__ faster than all subject+body features)."
   ]
  },
  {
   "cell_type": "markdown",
   "metadata": {
    "id": "4XXMCBozN5D-"
   },
   "source": [
    "|Type         |   Percentile |   # of Features |   Train Accuracy |   Test Accuracy |   f1-score |   Processing Time|\n",
    "|------------ | ------------ | --------------- | ---------------- | --------------- | ---------- | -----------------|\n",
    "|subject      |          100 |            5891 |             0.96 |            0.92 |       0.81 |            1.8125|\n",
    "|body         |          100 |           84542 |             0.94 |            0.92 |       0.82 |           27.7031|\n",
    "|subject+body |          100 |           90433 |             0.98 |            0.95 |       0.9  |           26.7969|\n",
    "|subject      |            5 |             295 |             0.87 |            0.85 |       0.6  |            0.2344|\n",
    "|body         |            5 |            4227 |             0.97 |            0.96 |       0.92 |            1.4219|\n",
    "|__subject+body__ |            __5__ |            __4521__ |             __0.97__ |            __0.97__ |       __0.93__ |            __1__|\n",
    "|body         |            1 |             846 |             0.94 |            0.93 |       0.85 |            0.25|\n",
    "|subject+body |            1 |             905 |             0.95 |            0.94 |       0.87 |            0.2656|"
   ]
  },
  {
   "cell_type": "markdown",
   "metadata": {
    "id": "oX8fXYczN5D-"
   },
   "source": [
    "### Future Considerations and Model Enhancements <a id='model-enhancements'/>"
   ]
  },
  {
   "cell_type": "markdown",
   "metadata": {
    "id": "xzeTkIEWN5D-"
   },
   "source": [
    "In order for the spam detection to be effective, the model will need to be run and/or updated on a regular basis to ensure new trends in spam are captured.  \n",
    "\n",
    "The team recommends future evaluation that leverages output of DBSCAN clusters of the subject lines to bypass some of the Naïve Bayes modeling to optimize the outcome further. These DBSCAN clusters could be used as rules to identify ham emails without modeling and pass them through to the inbox without modeling.  The clusters would need to be updated with some regularity to keep up with new spam trends."
   ]
  },
  {
   "cell_type": "markdown",
   "metadata": {},
   "source": [
    "# References <a id='references'>"
   ]
  },
  {
   "cell_type": "markdown",
   "metadata": {},
   "source": [
    "[1].  What is Spam? | Webopedia\n",
    "\n",
    "[2] Spam Statistics and Facts (spamlaws.com)\n",
    "\n",
    "[3] Team drew inspriation from https://towardsdatascience.com/training-a-naive-bayes-model-to-identify-the-author-of-an-email-or-document-17dc85fa630a"
   ]
  }
 ],
 "metadata": {
  "colab": {
   "name": "Case_Study_1.ipynb",
   "provenance": []
  },
  "kernelspec": {
   "display_name": "Python 3",
   "language": "python",
   "name": "python3"
  },
  "language_info": {
   "codemirror_mode": {
    "name": "ipython",
    "version": 3
   },
   "file_extension": ".py",
   "mimetype": "text/x-python",
   "name": "python",
   "nbconvert_exporter": "python",
   "pygments_lexer": "ipython3",
   "version": "3.7.9"
  }
 },
 "nbformat": 4,
 "nbformat_minor": 1
}
