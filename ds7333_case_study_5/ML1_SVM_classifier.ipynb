{
 "cells": [
  {
   "cell_type": "markdown",
   "metadata": {},
   "source": [
    "### Week 8: SVM Classifier\n",
    "\n",
    "Instructor: Nedelina Teneva <br>\n",
    "Email: nteneva@smu.edu <br>\n",
    "\n",
    "\n",
    "Citations: <br> \n",
    "   - Chapter 3: Python Machine Learning 3rd Edition by [Sebastian Raschka](https://sebastianraschka.com), Packt Publishing Ltd. 2019\n",
    "   - https://jakevdp.github.io/PythonDataScienceHandbook/05.07-support-vector-machines.html\n",
    "   - https://pythonmachinelearning.pro/using-neural-networks-for-regression-radial-basis-function-networks/"
   ]
  },
  {
   "cell_type": "markdown",
   "metadata": {},
   "source": [
    "### Objectives: \n",
    "   - support vector machines for classification.\n",
    "   - regularization.\n",
    "   - breakout room exercise."
   ]
  },
  {
   "cell_type": "markdown",
   "metadata": {},
   "source": [
    "### Support Vector Machines (SVM):\n",
    " - to make classification predictions, SVM rely on few support vectors (suport vectors = observations in the data).\n",
    " - as a result, they take up very little memory (!).\n",
    " - their relyability on support vectors (observations near the margins) makes them very suitable for high-dimensional data (even when there are more features than observations).\n",
    " - finally, SVM is able to adapt to many types of data (linearly separable or not) due to the integration of kernel methods.\n",
    " \n",
    "##### The not so good news:\n",
    " - the results can change significantly depending on the choice of the regularization parameter C (use cross-validation to choose it).\n",
    " - no direct probability interpretation (but easily added using the probability parameter in cross-validation).\n",
    " - and a final tought: be aware that the bigger the data the more expensive cross-validation is."
   ]
  },
  {
   "cell_type": "markdown",
   "metadata": {},
   "source": [
    "### Linear SVM\n",
    " - This model performs well on linearly separable classes. Linear logistic regression and linear SVM often yield very similar results. \n",
    " - Logistic regression tries to maximize the conditional likelihood of the training data; so this means that it pays equal attention to outliers.\n",
    " - SVM avoids this problem, because it cares mostly about the points that are closest to the decission boundary (support vectors)."
   ]
  },
  {
   "cell_type": "markdown",
   "metadata": {},
   "source": [
    "### Nonlinear SVM (kernel SVM)\n",
    "- SVM can be easily **kernalized** to solve nonlinear classification problems. \n",
    "- The idea is to create nonlinear combinations of the original features, and then project them onto a higher-dimensional space via a mapping function."
   ]
  },
  {
   "cell_type": "markdown",
   "metadata": {},
   "source": [
    "### Step 1: Import packages"
   ]
  },
  {
   "cell_type": "code",
   "execution_count": 22,
   "metadata": {},
   "outputs": [],
   "source": [
    "# standard libraries\n",
    "import pandas as pd\n",
    "import numpy as np\n",
    "import os\n",
    "\n",
    "# data visualization\n",
    "import matplotlib.pyplot as plt\n",
    "%matplotlib inline\n",
    "from IPython.display import Image\n",
    "\n",
    "# data preprocessing\n",
    "from sklearn import datasets\n",
    "from sklearn.preprocessing import StandardScaler\n",
    "from sklearn import preprocessing\n",
    "\n",
    "# prediction models\n",
    "from sklearn.svm import SVC"
   ]
  },
  {
   "cell_type": "markdown",
   "metadata": {},
   "source": [
    "### Step 2: Define working directories"
   ]
  },
  {
   "cell_type": "code",
   "execution_count": null,
   "metadata": {},
   "outputs": [],
   "source": []
  },
  {
   "cell_type": "markdown",
   "metadata": {},
   "source": [
    "### Step 3: Define classes"
   ]
  },
  {
   "cell_type": "code",
   "execution_count": null,
   "metadata": {},
   "outputs": [],
   "source": []
  },
  {
   "cell_type": "markdown",
   "metadata": {},
   "source": [
    "### Step 4: Define functions"
   ]
  },
  {
   "cell_type": "code",
   "execution_count": 9,
   "metadata": {},
   "outputs": [],
   "source": [
    "def wine_data():\n",
    "    \"\"\"Read the wine dataset from 'https://archive.ics.uci.edu/ml/machine-learning-databases/wine/wine.data'\n",
    "    # param: None\n",
    "    # return df and X,y np.arrays for training and test (cleaning included)\n",
    "    \"\"\"\n",
    "    # read data\n",
    "    df = pd.read_csv('https://archive.ics.uci.edu/'\n",
    "                          'ml/machine-learning-databases/wine/wine.data',\n",
    "                          header=None)\n",
    "\n",
    "    df.columns = ['class_label', 'alcohol', 'malic_acid', 'ash',\n",
    "                  'alcalinity_of_ash', 'magnesium', 'total_pphenols',\n",
    "                  'flavanoids', 'nonflavanoid_phenols', 'proanthocyanins',\n",
    "                  'color_intensity', 'hue', 'OD280/OD315_of_diluted_wines',\n",
    "                  'proline']\n",
    "\n",
    "    print('Shape of df wine:', df.shape)\n",
    "\n",
    "    # recode class labels (from 0 to 2)\n",
    "    class_mapping = {label: idx for idx, label in enumerate(np.unique(df.class_label))}\n",
    "    class_mapping\n",
    "    df['class_label'] = df.class_label.map(class_mapping)\n",
    "\n",
    "\n",
    "    # select only labels 0 and 1\n",
    "    df = df[df.class_label !=2]\n",
    "\n",
    "    # select only 2 features\n",
    "    labels = ['class_label']\n",
    "    features = ['alcohol', 'ash']\n",
    "    df = df[labels+features]\n",
    "    print('Class labels:', df['class_label'].unique())\n",
    "    print('Features:', df.columns[1:])\n",
    "\n",
    "    # create X and y arrays\n",
    "    X = np.array(df.iloc[:, 1:])\n",
    "    y = np.array(df.iloc[:, 0])\n",
    "    \n",
    "    # standardize features\n",
    "    df['alcohol'] = preprocessing.scale(df['alcohol'])\n",
    "    df['ash'] = preprocessing.scale(df['ash'])\n",
    "    X = preprocessing.scale(X)\n",
    "    \n",
    "    return df, X, y"
   ]
  },
  {
   "cell_type": "code",
   "execution_count": 11,
   "metadata": {},
   "outputs": [],
   "source": [
    "def plot_svc_decision_boundary(model, ax=None, plot_support=True):\n",
    "    \"\"\"Plot the decision function for a 2D SVC\"\"\"\n",
    "    if ax is None:\n",
    "        ax = plt.gca()\n",
    "    xlim = ax.get_xlim()\n",
    "    ylim = ax.get_ylim()\n",
    "    \n",
    "    # create grid to evaluate model\n",
    "    x = np.linspace(xlim[0], xlim[1], 30)\n",
    "    y = np.linspace(ylim[0], ylim[1], 30)\n",
    "    Y, X = np.meshgrid(y, x)\n",
    "    xy = np.vstack([X.ravel(), Y.ravel()]).T\n",
    "    P = model.decision_function(xy).reshape(X.shape)\n",
    "    \n",
    "    # plot decision boundary and margins\n",
    "    ax.contour(X, Y, P, colors='k',\n",
    "               levels=[-1, 0, 1], alpha=0.5,\n",
    "               linestyles=['--', '-', '--'])\n",
    "    \n",
    "    # plot support vectors\n",
    "    if plot_support:\n",
    "        ax.scatter(model.support_vectors_[:, 0],\n",
    "                   model.support_vectors_[:, 1],\n",
    "                   s=100, linewidth=1, facecolors='none', edgecolor='black');\n",
    "    ax.set_xlim(xlim)\n",
    "    ax.set_ylim(ylim)"
   ]
  },
  {
   "cell_type": "markdown",
   "metadata": {},
   "source": [
    "---\n",
    "### Step 5: Linear SVM example\n",
    "---"
   ]
  },
  {
   "cell_type": "markdown",
   "metadata": {},
   "source": [
    "#### Step 5.1 Read Iris data"
   ]
  },
  {
   "cell_type": "code",
   "execution_count": 12,
   "metadata": {},
   "outputs": [
    {
     "name": "stdout",
     "output_type": "stream",
     "text": [
      "URL: https://archive.ics.uci.edu//ml//machine-learning-databases//iris//iris.data\n",
      "Shape if Iris: (150, 5)\n"
     ]
    },
    {
     "data": {
      "text/html": [
       "<div>\n",
       "<style scoped>\n",
       "    .dataframe tbody tr th:only-of-type {\n",
       "        vertical-align: middle;\n",
       "    }\n",
       "\n",
       "    .dataframe tbody tr th {\n",
       "        vertical-align: top;\n",
       "    }\n",
       "\n",
       "    .dataframe thead th {\n",
       "        text-align: right;\n",
       "    }\n",
       "</style>\n",
       "<table border=\"1\" class=\"dataframe\">\n",
       "  <thead>\n",
       "    <tr style=\"text-align: right;\">\n",
       "      <th></th>\n",
       "      <th>0</th>\n",
       "      <th>1</th>\n",
       "      <th>2</th>\n",
       "      <th>3</th>\n",
       "      <th>4</th>\n",
       "    </tr>\n",
       "  </thead>\n",
       "  <tbody>\n",
       "    <tr>\n",
       "      <th>0</th>\n",
       "      <td>5.1</td>\n",
       "      <td>3.5</td>\n",
       "      <td>1.4</td>\n",
       "      <td>0.2</td>\n",
       "      <td>Iris-setosa</td>\n",
       "    </tr>\n",
       "    <tr>\n",
       "      <th>1</th>\n",
       "      <td>4.9</td>\n",
       "      <td>3.0</td>\n",
       "      <td>1.4</td>\n",
       "      <td>0.2</td>\n",
       "      <td>Iris-setosa</td>\n",
       "    </tr>\n",
       "    <tr>\n",
       "      <th>2</th>\n",
       "      <td>4.7</td>\n",
       "      <td>3.2</td>\n",
       "      <td>1.3</td>\n",
       "      <td>0.2</td>\n",
       "      <td>Iris-setosa</td>\n",
       "    </tr>\n",
       "    <tr>\n",
       "      <th>3</th>\n",
       "      <td>4.6</td>\n",
       "      <td>3.1</td>\n",
       "      <td>1.5</td>\n",
       "      <td>0.2</td>\n",
       "      <td>Iris-setosa</td>\n",
       "    </tr>\n",
       "    <tr>\n",
       "      <th>4</th>\n",
       "      <td>5.0</td>\n",
       "      <td>3.6</td>\n",
       "      <td>1.4</td>\n",
       "      <td>0.2</td>\n",
       "      <td>Iris-setosa</td>\n",
       "    </tr>\n",
       "  </tbody>\n",
       "</table>\n",
       "</div>"
      ],
      "text/plain": [
       "     0    1    2    3            4\n",
       "0  5.1  3.5  1.4  0.2  Iris-setosa\n",
       "1  4.9  3.0  1.4  0.2  Iris-setosa\n",
       "2  4.7  3.2  1.3  0.2  Iris-setosa\n",
       "3  4.6  3.1  1.5  0.2  Iris-setosa\n",
       "4  5.0  3.6  1.4  0.2  Iris-setosa"
      ]
     },
     "execution_count": 12,
     "metadata": {},
     "output_type": "execute_result"
    }
   ],
   "source": [
    "s = os.path.join('https://archive.ics.uci.edu', 'ml',\n",
    "                 'machine-learning-databases', 'iris','iris.data').replace('\\\\', '//')\n",
    "print('URL:', s)\n",
    "\n",
    "df = pd.read_csv(s,\n",
    "                 header=None,\n",
    "                 encoding='utf-8')\n",
    "print('Shape if Iris:', df.shape)\n",
    "df.head()"
   ]
  },
  {
   "cell_type": "code",
   "execution_count": 13,
   "metadata": {},
   "outputs": [
    {
     "data": {
      "text/plain": [
       "array(['Iris-setosa', 'Iris-versicolor', 'Iris-virginica'], dtype=object)"
      ]
     },
     "execution_count": 13,
     "metadata": {},
     "output_type": "execute_result"
    }
   ],
   "source": [
    "# print type of flowers\n",
    "df[4].unique()"
   ]
  },
  {
   "cell_type": "markdown",
   "metadata": {},
   "source": [
    "#### Step 5.2 Data preprocessing"
   ]
  },
  {
   "cell_type": "markdown",
   "metadata": {},
   "source": [
    "We will consider only two flower classes (Setosa and Versicolor) for practical reasons.\n",
    "\n",
    "We will also restrict the analysis to only two feature variables, sepal length and petal length (easier to visualize the decission boundary in a 2D space)."
   ]
  },
  {
   "cell_type": "code",
   "execution_count": 14,
   "metadata": {},
   "outputs": [
    {
     "data": {
      "text/plain": [
       "array([[5.1, 1.4],\n",
       "       [4.9, 1.4],\n",
       "       [4.7, 1.3],\n",
       "       [4.6, 1.5],\n",
       "       [5. , 1.4]])"
      ]
     },
     "execution_count": 14,
     "metadata": {},
     "output_type": "execute_result"
    }
   ],
   "source": [
    "# select setosa and versicolor\n",
    "y = df.iloc[0:100, 4].values\n",
    "y = np.where(y == 'Iris-setosa', -1, 1)\n",
    "\n",
    "# extract sepal length and petal length\n",
    "X = df.iloc[0:100, [0, 2]].values\n",
    "\n",
    "# plot head of X\n",
    "X[:5]"
   ]
  },
  {
   "cell_type": "markdown",
   "metadata": {},
   "source": [
    "Let's also standardize the variables for optimal performance."
   ]
  },
  {
   "cell_type": "code",
   "execution_count": 19,
   "metadata": {},
   "outputs": [
    {
     "data": {
      "text/plain": [
       "array([[-0.5810659 , -1.01435952],\n",
       "       [-0.89430898, -1.01435952],\n",
       "       [-1.20755205, -1.08374115],\n",
       "       [-1.36417359, -0.94497788],\n",
       "       [-0.73768744, -1.01435952]])"
      ]
     },
     "execution_count": 19,
     "metadata": {},
     "output_type": "execute_result"
    }
   ],
   "source": [
    "sc = StandardScaler()\n",
    "# estimate the sample mean and standard deviation for each feature in X_train\n",
    "sc.fit(X)\n",
    "# use the two parameters to standardize both X_train and X_test\n",
    "X_std = sc.transform(X)\n",
    "\n",
    "# we don't standardize y but let's rename it to be consistent with notation\n",
    "y_std = y\n",
    "\n",
    "# plot head of X_std\n",
    "X_std[:5]"
   ]
  },
  {
   "cell_type": "markdown",
   "metadata": {},
   "source": [
    "Finally, let's visualize the data to understand what we are trying to predict (classify)"
   ]
  },
  {
   "cell_type": "code",
   "execution_count": 25,
   "metadata": {},
   "outputs": [
    {
     "data": {
      "text/plain": [
       "<matplotlib.legend.Legend at 0x21cb9812408>"
      ]
     },
     "execution_count": 25,
     "metadata": {},
     "output_type": "execute_result"
    },
    {
     "data": {
      "image/png": "[encoded data removed]",
      "text/plain": [
       "<Figure size 432x288 with 1 Axes>"
      ]
     },
     "metadata": {
      "needs_background": "light"
     },
     "output_type": "display_data"
    }
   ],
   "source": [
    "xfit = np.linspace(-2, 2.5)\n",
    "\n",
    "# plot X data for setosa\n",
    "plt.scatter(X_std[:50, 0], X_std[:50, 1],\n",
    "            color='red', marker='o', label='setosa')\n",
    "\n",
    "# plot X data for versicolor\n",
    "plt.scatter(X_std[50:100, 0], X_std[50:100, 1],\n",
    "            color='blue', marker='x', label='versicolor')\n",
    "\n",
    "plt.xlabel('sepal length [cm]')\n",
    "plt.ylabel('petal length [cm]')\n",
    "plt.legend(loc='upper left')"
   ]
  },
  {
   "cell_type": "markdown",
   "metadata": {},
   "source": [
    "The linear SVM classifier would attempt to draw a straight line separating the two sets of data to create a model for classification.\n",
    "\n",
    "But there is a problem: there is more than one possible dividing line (decision boundary) that can perfectly discriminate between the two classes!"
   ]
  },
  {
   "cell_type": "code",
   "execution_count": 24,
   "metadata": {},
   "outputs": [
    {
     "data": {
      "text/plain": [
       "<matplotlib.legend.Legend at 0x21cb97a8a08>"
      ]
     },
     "execution_count": 24,
     "metadata": {},
     "output_type": "execute_result"
    },
    {
     "data": {
      "image/png": "[encoded data removed]",
      "text/plain": [
       "<Figure size 432x288 with 1 Axes>"
      ]
     },
     "metadata": {
      "needs_background": "light"
     },
     "output_type": "display_data"
    }
   ],
   "source": [
    "xfit = np.linspace(-2, 2.5)\n",
    "\n",
    "# plot X data for setosa\n",
    "plt.scatter(X_std[:50, 0], X_std[:50, 1],\n",
    "            color='red', marker='o', label='setosa')\n",
    "\n",
    "# plot X data for versicolor\n",
    "plt.scatter(X_std[50:100, 0], X_std[50:100, 1],\n",
    "            color='blue', marker='x', label='versicolor')\n",
    "\n",
    "# plot decision boundaries (class separating lines)\n",
    "#for m, b in [(0.2, -0.2)]:\n",
    "for m, b in [(0.2, -0.2), (0.25, -0.25)]:\n",
    "#for m, b in [(0.2, -0.2), (0.25, -0.25), (0.28, -0.28)]:\n",
    "    plt.plot(xfit, m * xfit + b, '-k')\n",
    "\n",
    "plt.xlabel('sepal length [cm]')\n",
    "plt.ylabel('petal length [cm]')\n",
    "plt.legend(loc='upper left')"
   ]
  },
  {
   "cell_type": "markdown",
   "metadata": {},
   "source": [
    "So how do we choose the optimal line?"
   ]
  },
  {
   "cell_type": "markdown",
   "metadata": {},
   "source": [
    "Linear SVM intuition: rather than simply drawing a zero-width line between the two classes, we can draw around each line a margin of some width, up to the nearest point (observation). \n",
    "\n",
    "The line that maximizes this margin is the one we will choose as the optimal model. Thus, SVM are an example of a maximum margin estimator."
   ]
  },
  {
   "cell_type": "code",
   "execution_count": 26,
   "metadata": {},
   "outputs": [
    {
     "data": {
      "text/plain": [
       "<matplotlib.legend.Legend at 0x21cb98a06c8>"
      ]
     },
     "execution_count": 26,
     "metadata": {},
     "output_type": "execute_result"
    },
    {
     "data": {
      "image/png": "[encoded data removed]",
      "text/plain": [
       "<Figure size 432x288 with 1 Axes>"
      ]
     },
     "metadata": {
      "needs_background": "light"
     },
     "output_type": "display_data"
    }
   ],
   "source": [
    "xfit = np.linspace(-2, 2.5)\n",
    "\n",
    "# plot X data for setosa\n",
    "plt.scatter(X_std[:50, 0], X_std[:50, 1],\n",
    "            color='red', marker='o', label='setosa')\n",
    "\n",
    "# plot X data for versicolor\n",
    "plt.scatter(X_std[50:100, 0], X_std[50:100, 1],\n",
    "            color='blue', marker='x', label='versicolor')\n",
    "\n",
    "# plot decision boundaries with margins\n",
    "for m, b, d in [(0.2, -0.2, 0.25), (0.25, -0.25, 0.55)]:\n",
    "    yfit = m * xfit + b\n",
    "    plt.plot(xfit, yfit, '-k')\n",
    "    plt.fill_between(xfit, yfit - d, yfit + d, edgecolor='none',\n",
    "                     color='#AAAAAA', alpha=0.4)\n",
    "\n",
    "plt.xlabel('sepal length [cm]')\n",
    "plt.ylabel('petal length [cm]')\n",
    "plt.legend(loc='upper left')"
   ]
  },
  {
   "cell_type": "markdown",
   "metadata": {},
   "source": [
    "\n",
    "How does it compare with the perceptron model? Well, in the perceptron model, the objective function is to minimize the classification error. \n",
    "\n",
    "In SVM we want to choose the weights, **w**, to maximize the margin (this is the cost function):\n",
    "\n",
    "$\\mathbf{\\frac{w^T(x\\_pos - x\\_neg)}{||w||}} = \\frac{2}{\\mathbf{||w||}}$, \n",
    "\n",
    "where $x\\_pos$ are the points to the right of the decision boundary and $x\\_neg$ are the points to the left.\n"
   ]
  },
  {
   "cell_type": "markdown",
   "metadata": {},
   "source": [
    "#### Step 5.3 Prediction for linear SVM"
   ]
  },
  {
   "cell_type": "code",
   "execution_count": 27,
   "metadata": {},
   "outputs": [
    {
     "data": {
      "text/plain": [
       "SVC(C=1, kernel='linear')"
      ]
     },
     "execution_count": 27,
     "metadata": {},
     "output_type": "execute_result"
    }
   ],
   "source": [
    "svm_iris = SVC(kernel='linear', C=1) # C sets regularization\n",
    "svm_iris.fit(X_std, y_std)"
   ]
  },
  {
   "cell_type": "markdown",
   "metadata": {},
   "source": [
    "Let's visualize the optimal decission boundary and it's associated margin width."
   ]
  },
  {
   "cell_type": "code",
   "execution_count": 28,
   "metadata": {},
   "outputs": [
    {
     "data": {
      "image/png": "[encoded data removed]",
      "text/plain": [
       "<Figure size 432x288 with 1 Axes>"
      ]
     },
     "metadata": {
      "needs_background": "light"
     },
     "output_type": "display_data"
    }
   ],
   "source": [
    "# plot X data for setosa\n",
    "plt.scatter(X_std[:50, 0], X_std[:50, 1],\n",
    "            color='red', marker='o', label='setosa')\n",
    "\n",
    "# plot X data for versicolor\n",
    "plt.scatter(X_std[50:100, 0], X_std[50:100, 1],\n",
    "            color='blue', marker='x', label='versicolor')\n",
    "# add labels\n",
    "plt.xlabel('sepal length [cm]')\n",
    "plt.ylabel('petal length [cm]')\n",
    "plt.legend(loc='upper left')\n",
    "\n",
    "# plot decision boudary\n",
    "plot_svc_decision_boundary(svm_iris)"
   ]
  },
  {
   "cell_type": "markdown",
   "metadata": {},
   "source": [
    "\n",
    "The continous grey line is the dividing line that maximizes the margin between the two sets of points. \n",
    "\n",
    "Notice that a few of the training points just touch the margin (points highlighted with black circles). These points are the important piece of the SVM solution, and are known as the support vectors. SVM relies mostly on these support vectors to make predictions!\n",
    "\n",
    "In Scikit-Learn, the identity of these points are stored in the support_vectors_ attribute of the classifier."
   ]
  },
  {
   "cell_type": "code",
   "execution_count": 29,
   "metadata": {},
   "outputs": [
    {
     "data": {
      "text/plain": [
       "array([[ 0.35866332, -0.80621461],\n",
       "       [-1.05093052, -0.66745134],\n",
       "       [-0.5810659 , -0.66745134],\n",
       "       [-0.89430898,  0.30389157],\n",
       "       [-0.73768744,  0.30389157],\n",
       "       [-0.5810659 ,  0.09574666]])"
      ]
     },
     "execution_count": 29,
     "metadata": {},
     "output_type": "execute_result"
    }
   ],
   "source": [
    "svm_iris.support_vectors_"
   ]
  },
  {
   "cell_type": "markdown",
   "metadata": {},
   "source": [
    "A key to the SVM's success is that for the fit, only the position of the support vectors matter; any points further from the margin which are on the correct side do not modify the fit! \n",
    "\n",
    "The reason? these points do not contribute to the loss function used to fit the model, so their position and number do not matter as long as they do not cross the margin.\n",
    "\n",
    "We can see this, for example, if we plot the model learned from X and the model learned from X where standardized petal length < 1cm (remove the top points):"
   ]
  },
  {
   "cell_type": "code",
   "execution_count": 30,
   "metadata": {},
   "outputs": [
    {
     "data": {
      "text/plain": [
       "(75, 2)"
      ]
     },
     "execution_count": 30,
     "metadata": {},
     "output_type": "execute_result"
    }
   ],
   "source": [
    "# from X array keep only if standardized petal length (index 1 in X_std or index 2 in concatenated (y, X_std)) < 1\n",
    "temp = pd.concat((pd.DataFrame(y),pd.DataFrame(X_std)),axis=1)\n",
    "temp = temp[temp.iloc[:,2]<1]\n",
    "X_std2 = np.array(temp.iloc[:,[1,2]])\n",
    "y_std2 = np.array(temp.iloc[:,0])\n",
    "\n",
    "X_std2.shape"
   ]
  },
  {
   "cell_type": "code",
   "execution_count": 31,
   "metadata": {},
   "outputs": [
    {
     "data": {
      "text/plain": [
       "SVC(C=1, kernel='linear')"
      ]
     },
     "execution_count": 31,
     "metadata": {},
     "output_type": "execute_result"
    }
   ],
   "source": [
    "svm_iris2 = SVC(kernel='linear', C=1) # C sets regularization\n",
    "svm_iris2.fit(X_std2, y_std2)"
   ]
  },
  {
   "cell_type": "code",
   "execution_count": 32,
   "metadata": {},
   "outputs": [
    {
     "data": {
      "image/png": "[encoded data removed]",
      "text/plain": [
       "<Figure size 864x288 with 2 Axes>"
      ]
     },
     "metadata": {
      "needs_background": "light"
     },
     "output_type": "display_data"
    }
   ],
   "source": [
    "## create subplots\n",
    "models = ['svm_iris', 'svm_iris2']\n",
    "\n",
    "plt.figure(figsize=(12, 4)) \n",
    "\n",
    "for i in range(len(models)):\n",
    "    # create sublots that are all on the same row\n",
    "    ax = plt.subplot(1, len(models), i+1)\n",
    "    \n",
    "    # plot X data for setosa\n",
    "    if i == 0:\n",
    "        plt.scatter(X_std[:50, 0], X_std[:50, 1],\n",
    "            color='red', marker='o', label='setosa')\n",
    "    else:\n",
    "        plt.scatter(X_std2[:50, 0], X_std2[:50, 1],\n",
    "            color='red', marker='o', label='setosa')\n",
    "        \n",
    "    # plot X data for versicolor\n",
    "    if i == 0:\n",
    "        plt.scatter(X_std[50:, 0], X_std[50:, 1],\n",
    "            color='blue', marker='x', label='versicolor')\n",
    "    else:\n",
    "        plt.scatter(X_std2[50:, 0], X_std2[50:, 1],\n",
    "            color='blue', marker='x', label='setosa')\n",
    "        \n",
    "    # plot decision boundary\n",
    "    if i == 0:\n",
    "        plot_svc_decision_boundary(svm_iris)\n",
    "    else:\n",
    "        plot_svc_decision_boundary(svm_iris2)\n",
    "\n",
    "    # set y limit\n",
    "    plt.ylim(-1.5, 1.5)\n",
    "    \n",
    "    plt.title('Model: '+ str(models[i]), size=14)"
   ]
  },
  {
   "cell_type": "markdown",
   "metadata": {},
   "source": [
    "In the left panel, we see the model and the support vectors for our initial svm model. In the right panel, we droped the points where standardized petal length < 1cm (remove the top points), but the model has not changed. \n",
    "\n",
    "The support vectors from the left panel are still the support vectors from the right panel! This insensitivity to distant points is one of the strengths of the SVM model!"
   ]
  },
  {
   "cell_type": "markdown",
   "metadata": {},
   "source": [
    "---\n",
    "### Step 6: Nonlinear (kernel) SVM example\n",
    "---"
   ]
  },
  {
   "cell_type": "markdown",
   "metadata": {},
   "source": [
    "The power of SVM becomes more obvious when we combine it with kernels. These kernels are very useful when dealing with nonlinearly separable data.\n",
    "\n",
    "To give you an understanding of what a kernel is, think about the Linear Regression classifier. This classifier is used to fit linearly separable data, but if we project the data into a higher dimensional space (e.g., by adding polynomials and Gaussian basis functions), we can actually fit a nonlinear relationsip with this linear classifier."
   ]
  },
  {
   "cell_type": "markdown",
   "metadata": {},
   "source": [
    "#### Step 6.1 Read wine data"
   ]
  },
  {
   "cell_type": "markdown",
   "metadata": {},
   "source": [
    "Now we will turn our attention to the wine dataset.\n",
    "\n",
    "Let's focus only on two class labels (cultivar 0 and 1) and two features ('alcohol' and 'ash').\n",
    "\n",
    "To save time and space , I defined the wine_data() function to import the data, keep only classes and features of interest, and standardizes the features."
   ]
  },
  {
   "cell_type": "code",
   "execution_count": 33,
   "metadata": {},
   "outputs": [
    {
     "name": "stdout",
     "output_type": "stream",
     "text": [
      "Shape of df wine: (178, 14)\n",
      "Class labels: [0 1]\n",
      "Features: Index(['alcohol', 'ash'], dtype='object')\n"
     ]
    },
    {
     "data": {
      "text/html": [
       "<div>\n",
       "<style scoped>\n",
       "    .dataframe tbody tr th:only-of-type {\n",
       "        vertical-align: middle;\n",
       "    }\n",
       "\n",
       "    .dataframe tbody tr th {\n",
       "        vertical-align: top;\n",
       "    }\n",
       "\n",
       "    .dataframe thead th {\n",
       "        text-align: right;\n",
       "    }\n",
       "</style>\n",
       "<table border=\"1\" class=\"dataframe\">\n",
       "  <thead>\n",
       "    <tr style=\"text-align: right;\">\n",
       "      <th></th>\n",
       "      <th>class_label</th>\n",
       "      <th>alcohol</th>\n",
       "      <th>ash</th>\n",
       "    </tr>\n",
       "  </thead>\n",
       "  <tbody>\n",
       "    <tr>\n",
       "      <th>0</th>\n",
       "      <td>0</td>\n",
       "      <td>1.452455</td>\n",
       "      <td>0.302478</td>\n",
       "    </tr>\n",
       "    <tr>\n",
       "      <th>1</th>\n",
       "      <td>0</td>\n",
       "      <td>0.289066</td>\n",
       "      <td>-0.677197</td>\n",
       "    </tr>\n",
       "    <tr>\n",
       "      <th>2</th>\n",
       "      <td>0</td>\n",
       "      <td>0.243886</td>\n",
       "      <td>1.113242</td>\n",
       "    </tr>\n",
       "    <tr>\n",
       "      <th>3</th>\n",
       "      <td>0</td>\n",
       "      <td>1.610586</td>\n",
       "      <td>0.538951</td>\n",
       "    </tr>\n",
       "    <tr>\n",
       "      <th>4</th>\n",
       "      <td>0</td>\n",
       "      <td>0.334246</td>\n",
       "      <td>1.788880</td>\n",
       "    </tr>\n",
       "  </tbody>\n",
       "</table>\n",
       "</div>"
      ],
      "text/plain": [
       "   class_label   alcohol       ash\n",
       "0            0  1.452455  0.302478\n",
       "1            0  0.289066 -0.677197\n",
       "2            0  0.243886  1.113242\n",
       "3            0  1.610586  0.538951\n",
       "4            0  0.334246  1.788880"
      ]
     },
     "execution_count": 33,
     "metadata": {},
     "output_type": "execute_result"
    }
   ],
   "source": [
    "df, X_std, y_std = wine_data()\n",
    "df.head()"
   ]
  },
  {
   "cell_type": "markdown",
   "metadata": {},
   "source": [
    "#### Step 6.2 Data vizualization\n",
    "\n",
    "to understand what we are trying to predict (classify)"
   ]
  },
  {
   "cell_type": "code",
   "execution_count": 34,
   "metadata": {},
   "outputs": [
    {
     "data": {
      "image/png": "[encoded data removed]",
      "text/plain": [
       "<Figure size 432x288 with 1 Axes>"
      ]
     },
     "metadata": {
      "needs_background": "light"
     },
     "output_type": "display_data"
    }
   ],
   "source": [
    "plt.scatter(df.loc[df.class_label==0, 'alcohol'], df.loc[df.class_label==0, 'ash'], label='cultivar0')\n",
    "plt.scatter(df.loc[df.class_label==1, 'alcohol'], df.loc[df.class_label==1, 'ash'], label='cultivar1')\n",
    "plt.xlabel('alcohol');\n",
    "plt.ylabel('ash');\n",
    "plt.legend(loc='upper left');"
   ]
  },
  {
   "cell_type": "markdown",
   "metadata": {},
   "source": [
    "#### Step 6.3 Prediction for linear SVM"
   ]
  },
  {
   "cell_type": "code",
   "execution_count": 35,
   "metadata": {},
   "outputs": [
    {
     "data": {
      "text/plain": [
       "SVC(kernel='linear')"
      ]
     },
     "execution_count": 35,
     "metadata": {},
     "output_type": "execute_result"
    }
   ],
   "source": [
    "svm_wine = SVC(kernel='linear', C=1.0)\n",
    "svm_wine.fit(X_std, y_std)"
   ]
  },
  {
   "cell_type": "markdown",
   "metadata": {},
   "source": [
    "Let's visualize the optimal decission boundary and it's associated margin width."
   ]
  },
  {
   "cell_type": "code",
   "execution_count": 36,
   "metadata": {},
   "outputs": [
    {
     "data": {
      "image/png": "[encoded data removed]",
      "text/plain": [
       "<Figure size 432x288 with 1 Axes>"
      ]
     },
     "metadata": {
      "needs_background": "light"
     },
     "output_type": "display_data"
    }
   ],
   "source": [
    "plt.scatter(df.loc[df.class_label==0, 'alcohol'], df.loc[df.class_label==0, 'ash'], label='cultivar0')\n",
    "plt.scatter(df.loc[df.class_label==1, 'alcohol'], df.loc[df.class_label==1, 'ash'], label='cultivar1')\n",
    "plt.xlabel('alcohol');\n",
    "plt.ylabel('ash');\n",
    "plt.legend(loc='upper left');\n",
    "\n",
    "plot_svc_decision_boundary(svm_wine, plot_support=True);"
   ]
  },
  {
   "cell_type": "markdown",
   "metadata": {},
   "source": [
    "It is clear that no linear discrimination will be able to separate this data. \n",
    "\n",
    "How we can go around it? \n",
    "\n",
    "Let's think about how we might project the data into a higher dimensional space (i.e., add more features) such that a linear separator would be sufficient. \n",
    "\n",
    "For example, one simple projection we could use would be to compute a radial basis function (RBF, also known as Gaussian kernel) **centered on the middle clump**."
   ]
  },
  {
   "cell_type": "code",
   "execution_count": 45,
   "metadata": {},
   "outputs": [
    {
     "name": "stdout",
     "output_type": "stream",
     "text": [
      "2.3100834081857688e-91\n",
      "0.9977023411644994\n",
      "(130,)\n"
     ]
    }
   ],
   "source": [
    "def rbf(X, gamma):\n",
    "    \"\"\" Code up Gaussian RBF\n",
    "    # param X: np.array containing features of interest\n",
    "    # param gamma: float, a free parameter, a cut-off for the Gaussian sphere (in scikit-learn gamma = 1 / (n_features * X.var()))\n",
    "    # param s: float, standard deviations of the clusters.\n",
    "    \"\"\"\n",
    "    return np.exp(-gamma* (np.subtract(X[:,0], X[:,1])**2))\n",
    "\n",
    "rbf = rbf(X_std, 10) # hint: try changing the value of gamma and see what happens with the separating plane!\n",
    "print(rbf.min())\n",
    "print(rbf.max())\n",
    "print (rbf.shape)\n"
   ]
  },
  {
   "cell_type": "markdown",
   "metadata": {},
   "source": [
    "We can visualize this extra data dimension using a three-dimensional plot"
   ]
  },
  {
   "cell_type": "code",
   "execution_count": 38,
   "metadata": {},
   "outputs": [
    {
     "data": {
      "image/png": "[encoded data removed]",
      "text/plain": [
       "<Figure size 432x288 with 1 Axes>"
      ]
     },
     "metadata": {
      "needs_background": "light"
     },
     "output_type": "display_data"
    }
   ],
   "source": [
    "from mpl_toolkits import mplot3d\n",
    "from ipywidgets import interact, fixed\n",
    "\n",
    "\n",
    "ax = plt.subplot(projection='3d')\n",
    "ax.scatter3D(X_std[:, 0], X_std[:, 1], rbf, c=y_std, s=50, cmap='autumn')\n",
    "ax.view_init(elev=10, azim=30)\n",
    "ax.set_xlabel('x')\n",
    "ax.set_ylabel('y')\n",
    "ax.set_zlabel('r');"
   ]
  },
  {
   "cell_type": "markdown",
   "metadata": {},
   "source": [
    "We can see that with this additional dimension, the data did not really become linearly separable. Linearly separable == we can draw a clearly separating plane at, say, r=0.01.\n",
    "\n",
    "After projection, we would like our data to look like in the figure below."
   ]
  },
  {
   "cell_type": "code",
   "execution_count": 48,
   "metadata": {},
   "outputs": [
    {
     "data": {
      "image/png": "[encoded data removed]",
      "text/plain": [
       "<IPython.core.display.Image object>"
      ]
     },
     "execution_count": 48,
     "metadata": {
      "image/png": {
       "width": 350
      }
     },
     "output_type": "execute_result"
    }
   ],
   "source": [
    "Image(filename='ideal_rbf.png', width=350)"
   ]
  },
  {
   "cell_type": "markdown",
   "metadata": {},
   "source": [
    "So we can conclude that we did not carefully tune our projection.\n",
    "\n",
    "We should have searched for the value of gamma that centers our RBF in the right location in order to see such a clea, linearly separable data.\n",
    "\n",
    "But randomly choosing the best RBF funtion is time consumption, so we would like to find this automatically. The kernalized SVM in scikit-learn does this automatically for us by changing our linear kernel to an RBF, using the kernel model hyperparameter!"
   ]
  },
  {
   "cell_type": "markdown",
   "metadata": {},
   "source": [
    "#### Step 6.4 Prediction for nonlinear (kernel) SVM"
   ]
  },
  {
   "cell_type": "code",
   "execution_count": 49,
   "metadata": {},
   "outputs": [
    {
     "data": {
      "text/plain": [
       "SVC(gamma=0.1)"
      ]
     },
     "execution_count": 49,
     "metadata": {},
     "output_type": "execute_result"
    }
   ],
   "source": [
    "svm_wine = SVC(kernel='rbf', gamma=0.1, C=1.0)\n",
    "svm_wine.fit(X_std, y_std)"
   ]
  },
  {
   "cell_type": "markdown",
   "metadata": {},
   "source": [
    "Let's look at the plots now"
   ]
  },
  {
   "cell_type": "code",
   "execution_count": 54,
   "metadata": {},
   "outputs": [
    {
     "data": {
      "image/png": "[encoded data removed]",
      "image/svg+xml": [
       "<?xml version=\"1.0\" encoding=\"utf-8\" standalone=\"no\"?>\n",
       "<!DOCTYPE svg PUBLIC \"-//W3C//DTD SVG 1.1//EN\"\n",
       "  \"http://www.w3.org/Graphics/SVG/1.1/DTD/svg11.dtd\">\n",
       "<!-- Created with matplotlib (https://matplotlib.org/) -->\n",
       "<svg height=\"262.19625pt\" version=\"1.1\" viewBox=\"0 0 384.620312 262.19625\" width=\"384.620312pt\" xmlns=\"http://www.w3.org/2000/svg\" xmlns:xlink=\"http://www.w3.org/1999/xlink\">\n",
       " <metadata>\n",
       "  <rdf:RDF xmlns:cc=\"http://creativecommons.org/ns#\" xmlns:dc=\"http://purl.org/dc/elements/1.1/\" xmlns:rdf=\"http://www.w3.org/1999/02/22-rdf-syntax-ns#\">\n",
       "   <cc:Work>\n",
       "    <dc:type rdf:resource=\"http://purl.org/dc/dcmitype/StillImage\"/>\n",
       "    <dc:date>2021-09-23T13:48:17.760694</dc:date>\n",
       "    <dc:format>image/svg+xml</dc:format>\n",
       "    <dc:creator>\n",
       "     <cc:Agent>\n",
       "      <dc:title>Matplotlib v3.3.2, https://matplotlib.org/</dc:title>\n",
       "     </cc:Agent>\n",
       "    </dc:creator>\n",
       "   </cc:Work>\n",
       "  </rdf:RDF>\n",
       " </metadata>\n",
       " <defs>\n",
       "  <style type=\"text/css\">*{stroke-linecap:butt;stroke-linejoin:round;}</style>\n",
       " </defs>\n",
       " <g id=\"figure_1\">\n",
       "  <g id=\"patch_1\">\n",
       "   <path d=\"M 0 262.19625 \n",
       "L 384.620312 262.19625 \n",
       "L 384.620312 0 \n",
       "L 0 0 \n",
       "z\n",
       "\" style=\"fill:none;\"/>\n",
       "  </g>\n",
       "  <g id=\"axes_1\">\n",
       "   <g id=\"patch_2\">\n",
       "    <path d=\"M 42.620313 224.64 \n",
       "L 377.420313 224.64 \n",
       "L 377.420313 7.2 \n",
       "L 42.620313 7.2 \n",
       "z\n",
       "\" style=\"fill:#ffffff;\"/>\n",
       "   </g>\n",
       "   <g id=\"PathCollection_1\">\n",
       "    <defs>\n",
       "     <path d=\"M 0 3 \n",
       "C 0.795609 3 1.55874 2.683901 2.12132 2.12132 \n",
       "C 2.683901 1.55874 3 0.795609 3 0 \n",
       "C 3 -0.795609 2.683901 -1.55874 2.12132 -2.12132 \n",
       "C 1.55874 -2.683901 0.795609 -3 0 -3 \n",
       "C -0.795609 -3 -1.55874 -2.683901 -2.12132 -2.12132 \n",
       "C -2.683901 -1.55874 -3 -0.795609 -3 0 \n",
       "C -3 0.795609 -2.683901 1.55874 -2.12132 2.12132 \n",
       "C -1.55874 2.683901 -0.795609 3 0 3 \n",
       "z\n",
       "\" id=\"m220bda7ad9\" style=\"stroke:#1f77b4;\"/>\n",
       "    </defs>\n",
       "    <g clip-path=\"url(#pd245012c19)\">\n",
       "     <use style=\"fill:#1f77b4;stroke:#1f77b4;\" x=\"314.144714\" xlink:href=\"#m220bda7ad9\" y=\"101.649509\"/>\n",
       "     <use style=\"fill:#1f77b4;stroke:#1f77b4;\" x=\"231.64615\" xlink:href=\"#m220bda7ad9\" y=\"132.304638\"/>\n",
       "     <use style=\"fill:#1f77b4;stroke:#1f77b4;\" x=\"228.442322\" xlink:href=\"#m220bda7ad9\" y=\"76.279747\"/>\n",
       "     <use style=\"fill:#1f77b4;stroke:#1f77b4;\" x=\"325.358112\" xlink:href=\"#m220bda7ad9\" y=\"94.249995\"/>\n",
       "     <use style=\"fill:#1f77b4;stroke:#1f77b4;\" x=\"234.849978\" xlink:href=\"#m220bda7ad9\" y=\"55.138279\"/>\n",
       "     <use style=\"fill:#1f77b4;stroke:#1f77b4;\" x=\"311.741844\" xlink:href=\"#m220bda7ad9\" y=\"99.535362\"/>\n",
       "     <use style=\"fill:#1f77b4;stroke:#1f77b4;\" x=\"326.960025\" xlink:href=\"#m220bda7ad9\" y=\"99.535362\"/>\n",
       "     <use style=\"fill:#1f77b4;stroke:#1f77b4;\" x=\"300.528446\" xlink:href=\"#m220bda7ad9\" y=\"82.622188\"/>\n",
       "     <use style=\"fill:#1f77b4;stroke:#1f77b4;\" x=\"362.202131\" xlink:href=\"#m220bda7ad9\" y=\"129.133418\"/>\n",
       "     <use style=\"fill:#1f77b4;stroke:#1f77b4;\" x=\"284.509308\" xlink:href=\"#m220bda7ad9\" y=\"118.562684\"/>\n",
       "     <use style=\"fill:#1f77b4;stroke:#1f77b4;\" x=\"303.732274\" xlink:href=\"#m220bda7ad9\" y=\"115.391463\"/>\n",
       "     <use style=\"fill:#1f77b4;stroke:#1f77b4;\" x=\"305.334188\" xlink:href=\"#m220bda7ad9\" y=\"113.277316\"/>\n",
       "     <use style=\"fill:#1f77b4;stroke:#1f77b4;\" x=\"275.698781\" xlink:href=\"#m220bda7ad9\" y=\"103.763656\"/>\n",
       "     <use style=\"fill:#1f77b4;stroke:#1f77b4;\" x=\"355.794475\" xlink:href=\"#m220bda7ad9\" y=\"105.877803\"/>\n",
       "     <use style=\"fill:#1f77b4;stroke:#1f77b4;\" x=\"326.159068\" xlink:href=\"#m220bda7ad9\" y=\"106.934876\"/>\n",
       "     <use style=\"fill:#1f77b4;stroke:#1f77b4;\" x=\"266.087298\" xlink:href=\"#m220bda7ad9\" y=\"73.108527\"/>\n",
       "     <use style=\"fill:#1f77b4;stroke:#1f77b4;\" x=\"319.751413\" xlink:href=\"#m220bda7ad9\" y=\"70.99438\"/>\n",
       "     <use style=\"fill:#1f77b4;stroke:#1f77b4;\" x=\"282.106437\" xlink:href=\"#m220bda7ad9\" y=\"81.565114\"/>\n",
       "     <use style=\"fill:#1f77b4;stroke:#1f77b4;\" x=\"310.940887\" xlink:href=\"#m220bda7ad9\" y=\"96.364142\"/>\n",
       "     <use style=\"fill:#1f77b4;stroke:#1f77b4;\" x=\"266.888255\" xlink:href=\"#m220bda7ad9\" y=\"87.907555\"/>\n",
       "     <use style=\"fill:#1f77b4;stroke:#1f77b4;\" x=\"300.528446\" xlink:href=\"#m220bda7ad9\" y=\"117.50561\"/>\n",
       "     <use style=\"fill:#1f77b4;stroke:#1f77b4;\" x=\"210.020313\" xlink:href=\"#m220bda7ad9\" y=\"78.393894\"/>\n",
       "     <use style=\"fill:#1f77b4;stroke:#1f77b4;\" x=\"272.494954\" xlink:href=\"#m220bda7ad9\" y=\"109.049023\"/>\n",
       "     <use style=\"fill:#1f77b4;stroke:#1f77b4;\" x=\"203.612657\" xlink:href=\"#m220bda7ad9\" y=\"92.135848\"/>\n",
       "     <use style=\"fill:#1f77b4;stroke:#1f77b4;\" x=\"255.674858\" xlink:href=\"#m220bda7ad9\" y=\"82.622188\"/>\n",
       "     <use style=\"fill:#1f77b4;stroke:#1f77b4;\" x=\"219.631796\" xlink:href=\"#m220bda7ad9\" y=\"18.14071\"/>\n",
       "     <use style=\"fill:#1f77b4;stroke:#1f77b4;\" x=\"246.864332\" xlink:href=\"#m220bda7ad9\" y=\"81.565114\"/>\n",
       "     <use style=\"fill:#1f77b4;stroke:#1f77b4;\" x=\"239.655719\" xlink:href=\"#m220bda7ad9\" y=\"132.304638\"/>\n",
       "     <use style=\"fill:#1f77b4;stroke:#1f77b4;\" x=\"285.310265\" xlink:href=\"#m220bda7ad9\" y=\"62.537793\"/>\n",
       "     <use style=\"fill:#1f77b4;stroke:#1f77b4;\" x=\"297.324619\" xlink:href=\"#m220bda7ad9\" y=\"124.905124\"/>\n",
       "     <use style=\"fill:#1f77b4;stroke:#1f77b4;\" x=\"274.096868\" xlink:href=\"#m220bda7ad9\" y=\"73.108527\"/>\n",
       "     <use style=\"fill:#1f77b4;stroke:#1f77b4;\" x=\"262.082513\" xlink:href=\"#m220bda7ad9\" y=\"109.049023\"/>\n",
       "     <use style=\"fill:#1f77b4;stroke:#1f77b4;\" x=\"270.092083\" xlink:href=\"#m220bda7ad9\" y=\"109.049023\"/>\n",
       "     <use style=\"fill:#1f77b4;stroke:#1f77b4;\" x=\"276.499738\" xlink:href=\"#m220bda7ad9\" y=\"73.108527\"/>\n",
       "     <use style=\"fill:#1f77b4;stroke:#1f77b4;\" x=\"256.475815\" xlink:href=\"#m220bda7ad9\" y=\"78.393894\"/>\n",
       "     <use style=\"fill:#1f77b4;stroke:#1f77b4;\" x=\"254.072944\" xlink:href=\"#m220bda7ad9\" y=\"103.763656\"/>\n",
       "     <use style=\"fill:#1f77b4;stroke:#1f77b4;\" x=\"238.053805\" xlink:href=\"#m220bda7ad9\" y=\"58.309499\"/>\n",
       "     <use style=\"fill:#1f77b4;stroke:#1f77b4;\" x=\"219.631796\" xlink:href=\"#m220bda7ad9\" y=\"88.964628\"/>\n",
       "     <use style=\"fill:#1f77b4;stroke:#1f77b4;\" x=\"221.23371\" xlink:href=\"#m220bda7ad9\" y=\"136.532931\"/>\n",
       "     <use style=\"fill:#1f77b4;stroke:#1f77b4;\" x=\"313.343757\" xlink:href=\"#m220bda7ad9\" y=\"93.192922\"/>\n",
       "     <use style=\"fill:#1f77b4;stroke:#1f77b4;\" x=\"260.4806\" xlink:href=\"#m220bda7ad9\" y=\"114.33439\"/>\n",
       "     <use style=\"fill:#1f77b4;stroke:#1f77b4;\" x=\"248.466246\" xlink:href=\"#m220bda7ad9\" y=\"134.418785\"/>\n",
       "     <use style=\"fill:#1f77b4;stroke:#1f77b4;\" x=\"286.111222\" xlink:href=\"#m220bda7ad9\" y=\"84.736334\"/>\n",
       "     <use style=\"fill:#1f77b4;stroke:#1f77b4;\" x=\"234.849978\" xlink:href=\"#m220bda7ad9\" y=\"116.448537\"/>\n",
       "     <use style=\"fill:#1f77b4;stroke:#1f77b4;\" x=\"219.631796\" xlink:href=\"#m220bda7ad9\" y=\"136.532931\"/>\n",
       "     <use style=\"fill:#1f77b4;stroke:#1f77b4;\" x=\"312.542801\" xlink:href=\"#m220bda7ad9\" y=\"100.592436\"/>\n",
       "     <use style=\"fill:#1f77b4;stroke:#1f77b4;\" x=\"326.159068\" xlink:href=\"#m220bda7ad9\" y=\"117.50561\"/>\n",
       "     <use style=\"fill:#1f77b4;stroke:#1f77b4;\" x=\"287.713135\" xlink:href=\"#m220bda7ad9\" y=\"134.418785\"/>\n",
       "     <use style=\"fill:#1f77b4;stroke:#1f77b4;\" x=\"303.732274\" xlink:href=\"#m220bda7ad9\" y=\"104.820729\"/>\n",
       "     <use style=\"fill:#1f77b4;stroke:#1f77b4;\" x=\"290.916963\" xlink:href=\"#m220bda7ad9\" y=\"118.562684\"/>\n",
       "     <use style=\"fill:#1f77b4;stroke:#1f77b4;\" x=\"219.631796\" xlink:href=\"#m220bda7ad9\" y=\"142.875372\"/>\n",
       "     <use style=\"fill:#1f77b4;stroke:#1f77b4;\" x=\"282.106437\" xlink:href=\"#m220bda7ad9\" y=\"83.679261\"/>\n",
       "     <use style=\"fill:#1f77b4;stroke:#1f77b4;\" x=\"281.30548\" xlink:href=\"#m220bda7ad9\" y=\"102.706582\"/>\n",
       "     <use style=\"fill:#1f77b4;stroke:#1f77b4;\" x=\"277.300695\" xlink:href=\"#m220bda7ad9\" y=\"75.222674\"/>\n",
       "     <use style=\"fill:#1f77b4;stroke:#1f77b4;\" x=\"274.897824\" xlink:href=\"#m220bda7ad9\" y=\"120.67683\"/>\n",
       "     <use style=\"fill:#1f77b4;stroke:#1f77b4;\" x=\"260.4806\" xlink:href=\"#m220bda7ad9\" y=\"98.478289\"/>\n",
       "     <use style=\"fill:#1f77b4;stroke:#1f77b4;\" x=\"313.343757\" xlink:href=\"#m220bda7ad9\" y=\"115.391463\"/>\n",
       "     <use style=\"fill:#1f77b4;stroke:#1f77b4;\" x=\"238.854762\" xlink:href=\"#m220bda7ad9\" y=\"75.222674\"/>\n",
       "     <use style=\"fill:#1f77b4;stroke:#1f77b4;\" x=\"273.295911\" xlink:href=\"#m220bda7ad9\" y=\"94.249995\"/>\n",
       "    </g>\n",
       "   </g>\n",
       "   <g id=\"PathCollection_2\">\n",
       "    <defs>\n",
       "     <path d=\"M 0 3 \n",
       "C 0.795609 3 1.55874 2.683901 2.12132 2.12132 \n",
       "C 2.683901 1.55874 3 0.795609 3 0 \n",
       "C 3 -0.795609 2.683901 -1.55874 2.12132 -2.12132 \n",
       "C 1.55874 -2.683901 0.795609 -3 0 -3 \n",
       "C -0.795609 -3 -1.55874 -2.683901 -2.12132 -2.12132 \n",
       "C -2.683901 -1.55874 -3 -0.795609 -3 0 \n",
       "C -3 0.795609 -2.683901 1.55874 -2.12132 2.12132 \n",
       "C -1.55874 2.683901 -0.795609 3 0 3 \n",
       "z\n",
       "\" id=\"m604613aa14\" style=\"stroke:#ff7f0e;\"/>\n",
       "    </defs>\n",
       "    <g clip-path=\"url(#pd245012c19)\">\n",
       "     <use style=\"fill:#ff7f0e;stroke:#ff7f0e;\" x=\"165.166724\" xlink:href=\"#m604613aa14\" y=\"214.756364\"/>\n",
       "     <use style=\"fill:#ff7f0e;stroke:#ff7f0e;\" x=\"161.962896\" xlink:href=\"#m604613aa14\" y=\"117.50561\"/>\n",
       "     <use style=\"fill:#ff7f0e;stroke:#ff7f0e;\" x=\"186.792561\" xlink:href=\"#m604613aa14\" y=\"144.989519\"/>\n",
       "     <use style=\"fill:#ff7f0e;stroke:#ff7f0e;\" x=\"269.291126\" xlink:href=\"#m604613aa14\" y=\"155.560253\"/>\n",
       "     <use style=\"fill:#ff7f0e;stroke:#ff7f0e;\" x=\"165.166724\" xlink:href=\"#m604613aa14\" y=\"130.190491\"/>\n",
       "     <use style=\"fill:#ff7f0e;stroke:#ff7f0e;\" x=\"149.147585\" xlink:href=\"#m604613aa14\" y=\"91.078775\"/>\n",
       "     <use style=\"fill:#ff7f0e;stroke:#ff7f0e;\" x=\"165.166724\" xlink:href=\"#m604613aa14\" y=\"87.907555\"/>\n",
       "     <use style=\"fill:#ff7f0e;stroke:#ff7f0e;\" x=\"224.437537\" xlink:href=\"#m604613aa14\" y=\"178.815868\"/>\n",
       "     <use style=\"fill:#ff7f0e;stroke:#ff7f0e;\" x=\"165.166724\" xlink:href=\"#m604613aa14\" y=\"155.560253\"/>\n",
       "     <use style=\"fill:#ff7f0e;stroke:#ff7f0e;\" x=\"242.859547\" xlink:href=\"#m604613aa14\" y=\"109.049023\"/>\n",
       "     <use style=\"fill:#ff7f0e;stroke:#ff7f0e;\" x=\"152.351413\" xlink:href=\"#m604613aa14\" y=\"173.530501\"/>\n",
       "     <use style=\"fill:#ff7f0e;stroke:#ff7f0e;\" x=\"158.759068\" xlink:href=\"#m604613aa14\" y=\"124.905124\"/>\n",
       "     <use style=\"fill:#ff7f0e;stroke:#ff7f0e;\" x=\"284.509308\" xlink:href=\"#m604613aa14\" y=\"76.279747\"/>\n",
       "     <use style=\"fill:#ff7f0e;stroke:#ff7f0e;\" x=\"254.873901\" xlink:href=\"#m604613aa14\" y=\"121.733904\"/>\n",
       "     <use style=\"fill:#ff7f0e;stroke:#ff7f0e;\" x=\"214.826054\" xlink:href=\"#m604613aa14\" y=\"83.679261\"/>\n",
       "     <use style=\"fill:#ff7f0e;stroke:#ff7f0e;\" x=\"132.32749\" xlink:href=\"#m604613aa14\" y=\"115.391463\"/>\n",
       "     <use style=\"fill:#ff7f0e;stroke:#ff7f0e;\" x=\"108.298781\" xlink:href=\"#m604613aa14\" y=\"155.560253\"/>\n",
       "     <use style=\"fill:#ff7f0e;stroke:#ff7f0e;\" x=\"218.029882\" xlink:href=\"#m604613aa14\" y=\"177.758794\"/>\n",
       "     <use style=\"fill:#ff7f0e;stroke:#ff7f0e;\" x=\"122.716006\" xlink:href=\"#m604613aa14\" y=\"122.790977\"/>\n",
       "     <use style=\"fill:#ff7f0e;stroke:#ff7f0e;\" x=\"161.962896\" xlink:href=\"#m604613aa14\" y=\"152.389033\"/>\n",
       "     <use style=\"fill:#ff7f0e;stroke:#ff7f0e;\" x=\"191.598303\" xlink:href=\"#m604613aa14\" y=\"104.820729\"/>\n",
       "     <use style=\"fill:#ff7f0e;stroke:#ff7f0e;\" x=\"135.531317\" xlink:href=\"#m604613aa14\" y=\"147.103666\"/>\n",
       "     <use style=\"fill:#ff7f0e;stroke:#ff7f0e;\" x=\"193.200217\" xlink:href=\"#m604613aa14\" y=\"125.962197\"/>\n",
       "     <use style=\"fill:#ff7f0e;stroke:#ff7f0e;\" x=\"141.938973\" xlink:href=\"#m604613aa14\" y=\"93.192922\"/>\n",
       "     <use style=\"fill:#ff7f0e;stroke:#ff7f0e;\" x=\"219.631796\" xlink:href=\"#m604613aa14\" y=\"113.277316\"/>\n",
       "     <use style=\"fill:#ff7f0e;stroke:#ff7f0e;\" x=\"122.716006\" xlink:href=\"#m604613aa14\" y=\"85.793408\"/>\n",
       "     <use style=\"fill:#ff7f0e;stroke:#ff7f0e;\" x=\"189.195432\" xlink:href=\"#m604613aa14\" y=\"121.733904\"/>\n",
       "     <use style=\"fill:#ff7f0e;stroke:#ff7f0e;\" x=\"148.346628\" xlink:href=\"#m604613aa14\" y=\"114.33439\"/>\n",
       "     <use style=\"fill:#ff7f0e;stroke:#ff7f0e;\" x=\"107.497824\" xlink:href=\"#m604613aa14\" y=\"81.565114\"/>\n",
       "     <use style=\"fill:#ff7f0e;stroke:#ff7f0e;\" x=\"106.696868\" xlink:href=\"#m604613aa14\" y=\"98.478289\"/>\n",
       "     <use style=\"fill:#ff7f0e;stroke:#ff7f0e;\" x=\"141.938973\" xlink:href=\"#m604613aa14\" y=\"115.391463\"/>\n",
       "     <use style=\"fill:#ff7f0e;stroke:#ff7f0e;\" x=\"141.938973\" xlink:href=\"#m604613aa14\" y=\"113.277316\"/>\n",
       "     <use style=\"fill:#ff7f0e;stroke:#ff7f0e;\" x=\"135.531317\" xlink:href=\"#m604613aa14\" y=\"102.706582\"/>\n",
       "     <use style=\"fill:#ff7f0e;stroke:#ff7f0e;\" x=\"190.797346\" xlink:href=\"#m604613aa14\" y=\"119.619757\"/>\n",
       "     <use style=\"fill:#ff7f0e;stroke:#ff7f0e;\" x=\"158.759068\" xlink:href=\"#m604613aa14\" y=\"123.848051\"/>\n",
       "     <use style=\"fill:#ff7f0e;stroke:#ff7f0e;\" x=\"105.094954\" xlink:href=\"#m604613aa14\" y=\"117.50561\"/>\n",
       "     <use style=\"fill:#ff7f0e;stroke:#ff7f0e;\" x=\"173.176293\" xlink:href=\"#m604613aa14\" y=\"125.962197\"/>\n",
       "     <use style=\"fill:#ff7f0e;stroke:#ff7f0e;\" x=\"120.313135\" xlink:href=\"#m604613aa14\" y=\"68.880233\"/>\n",
       "     <use style=\"fill:#ff7f0e;stroke:#ff7f0e;\" x=\"158.759068\" xlink:href=\"#m604613aa14\" y=\"149.217812\"/>\n",
       "     <use style=\"fill:#ff7f0e;stroke:#ff7f0e;\" x=\"165.166724\" xlink:href=\"#m604613aa14\" y=\"136.532931\"/>\n",
       "     <use style=\"fill:#ff7f0e;stroke:#ff7f0e;\" x=\"158.759068\" xlink:href=\"#m604613aa14\" y=\"124.905124\"/>\n",
       "     <use style=\"fill:#ff7f0e;stroke:#ff7f0e;\" x=\"141.938973\" xlink:href=\"#m604613aa14\" y=\"178.815868\"/>\n",
       "     <use style=\"fill:#ff7f0e;stroke:#ff7f0e;\" x=\"183.588734\" xlink:href=\"#m604613aa14\" y=\"157.6744\"/>\n",
       "     <use style=\"fill:#ff7f0e;stroke:#ff7f0e;\" x=\"162.763853\" xlink:href=\"#m604613aa14\" y=\"98.478289\"/>\n",
       "     <use style=\"fill:#ff7f0e;stroke:#ff7f0e;\" x=\"121.114092\" xlink:href=\"#m604613aa14\" y=\"159.788546\"/>\n",
       "     <use style=\"fill:#ff7f0e;stroke:#ff7f0e;\" x=\"176.380121\" xlink:href=\"#m604613aa14\" y=\"149.217812\"/>\n",
       "     <use style=\"fill:#ff7f0e;stroke:#ff7f0e;\" x=\"169.171509\" xlink:href=\"#m604613aa14\" y=\"118.562684\"/>\n",
       "     <use style=\"fill:#ff7f0e;stroke:#ff7f0e;\" x=\"155.555241\" xlink:href=\"#m604613aa14\" y=\"134.418785\"/>\n",
       "     <use style=\"fill:#ff7f0e;stroke:#ff7f0e;\" x=\"193.200217\" xlink:href=\"#m604613aa14\" y=\"117.50561\"/>\n",
       "     <use style=\"fill:#ff7f0e;stroke:#ff7f0e;\" x=\"153.15237\" xlink:href=\"#m604613aa14\" y=\"153.446106\"/>\n",
       "     <use style=\"fill:#ff7f0e;stroke:#ff7f0e;\" x=\"104.293997\" xlink:href=\"#m604613aa14\" y=\"73.108527\"/>\n",
       "     <use style=\"fill:#ff7f0e;stroke:#ff7f0e;\" x=\"92.279643\" xlink:href=\"#m604613aa14\" y=\"166.130987\"/>\n",
       "     <use style=\"fill:#ff7f0e;stroke:#ff7f0e;\" x=\"177.181078\" xlink:href=\"#m604613aa14\" y=\"129.133418\"/>\n",
       "     <use style=\"fill:#ff7f0e;stroke:#ff7f0e;\" x=\"116.308351\" xlink:href=\"#m604613aa14\" y=\"49.852912\"/>\n",
       "     <use style=\"fill:#ff7f0e;stroke:#ff7f0e;\" x=\"88.274858\" xlink:href=\"#m604613aa14\" y=\"94.249995\"/>\n",
       "     <use style=\"fill:#ff7f0e;stroke:#ff7f0e;\" x=\"141.938973\" xlink:href=\"#m604613aa14\" y=\"94.249995\"/>\n",
       "     <use style=\"fill:#ff7f0e;stroke:#ff7f0e;\" x=\"57.838494\" xlink:href=\"#m604613aa14\" y=\"125.962197\"/>\n",
       "     <use style=\"fill:#ff7f0e;stroke:#ff7f0e;\" x=\"121.114092\" xlink:href=\"#m604613aa14\" y=\"148.160739\"/>\n",
       "     <use style=\"fill:#ff7f0e;stroke:#ff7f0e;\" x=\"169.171509\" xlink:href=\"#m604613aa14\" y=\"127.019271\"/>\n",
       "     <use style=\"fill:#ff7f0e;stroke:#ff7f0e;\" x=\"197.205001\" xlink:href=\"#m604613aa14\" y=\"149.217812\"/>\n",
       "     <use style=\"fill:#ff7f0e;stroke:#ff7f0e;\" x=\"135.531317\" xlink:href=\"#m604613aa14\" y=\"147.103666\"/>\n",
       "     <use style=\"fill:#ff7f0e;stroke:#ff7f0e;\" x=\"91.478686\" xlink:href=\"#m604613aa14\" y=\"102.706582\"/>\n",
       "     <use style=\"fill:#ff7f0e;stroke:#ff7f0e;\" x=\"100.289212\" xlink:href=\"#m604613aa14\" y=\"17.083636\"/>\n",
       "     <use style=\"fill:#ff7f0e;stroke:#ff7f0e;\" x=\"169.171509\" xlink:href=\"#m604613aa14\" y=\"69.937307\"/>\n",
       "     <use style=\"fill:#ff7f0e;stroke:#ff7f0e;\" x=\"219.631796\" xlink:href=\"#m604613aa14\" y=\"133.361711\"/>\n",
       "     <use style=\"fill:#ff7f0e;stroke:#ff7f0e;\" x=\"125.118877\" xlink:href=\"#m604613aa14\" y=\"105.877803\"/>\n",
       "     <use style=\"fill:#ff7f0e;stroke:#ff7f0e;\" x=\"141.138016\" xlink:href=\"#m604613aa14\" y=\"129.133418\"/>\n",
       "     <use style=\"fill:#ff7f0e;stroke:#ff7f0e;\" x=\"169.972466\" xlink:href=\"#m604613aa14\" y=\"116.448537\"/>\n",
       "     <use style=\"fill:#ff7f0e;stroke:#ff7f0e;\" x=\"118.711222\" xlink:href=\"#m604613aa14\" y=\"64.65194\"/>\n",
       "     <use style=\"fill:#ff7f0e;stroke:#ff7f0e;\" x=\"165.166724\" xlink:href=\"#m604613aa14\" y=\"115.391463\"/>\n",
       "     <use style=\"fill:#ff7f0e;stroke:#ff7f0e;\" x=\"138.735145\" xlink:href=\"#m604613aa14\" y=\"106.934876\"/>\n",
       "    </g>\n",
       "   </g>\n",
       "   <g id=\"PathCollection_3\">\n",
       "    <defs>\n",
       "     <path d=\"M 0 5 \n",
       "C 1.326016 5 2.597899 4.473168 3.535534 3.535534 \n",
       "C 4.473168 2.597899 5 1.326016 5 -0 \n",
       "C 5 -1.326016 4.473168 -2.597899 3.535534 -3.535534 \n",
       "C 2.597899 -4.473168 1.326016 -5 0 -5 \n",
       "C -1.326016 -5 -2.597899 -4.473168 -3.535534 -3.535534 \n",
       "C -4.473168 -2.597899 -5 -1.326016 -5 0 \n",
       "C -5 1.326016 -4.473168 2.597899 -3.535534 3.535534 \n",
       "C -2.597899 4.473168 -1.326016 5 0 5 \n",
       "z\n",
       "\" id=\"C0_0_f8a4f2b374\"/>\n",
       "    </defs>\n",
       "    <g clip-path=\"url(#pd245012c19)\">\n",
       "     <use style=\"fill:none;stroke:#000000;\" x=\"231.64615\" xlink:href=\"#C0_0_f8a4f2b374\" y=\"132.304638\"/>\n",
       "    </g>\n",
       "    <g clip-path=\"url(#pd245012c19)\">\n",
       "     <use style=\"fill:none;stroke:#000000;\" x=\"228.442322\" xlink:href=\"#C0_0_f8a4f2b374\" y=\"76.279747\"/>\n",
       "    </g>\n",
       "    <g clip-path=\"url(#pd245012c19)\">\n",
       "     <use style=\"fill:none;stroke:#000000;\" x=\"234.849978\" xlink:href=\"#C0_0_f8a4f2b374\" y=\"55.138279\"/>\n",
       "    </g>\n",
       "    <g clip-path=\"url(#pd245012c19)\">\n",
       "     <use style=\"fill:none;stroke:#000000;\" x=\"210.020313\" xlink:href=\"#C0_0_f8a4f2b374\" y=\"78.393894\"/>\n",
       "    </g>\n",
       "    <g clip-path=\"url(#pd245012c19)\">\n",
       "     <use style=\"fill:none;stroke:#000000;\" x=\"203.612657\" xlink:href=\"#C0_0_f8a4f2b374\" y=\"92.135848\"/>\n",
       "    </g>\n",
       "    <g clip-path=\"url(#pd245012c19)\">\n",
       "     <use style=\"fill:none;stroke:#000000;\" x=\"219.631796\" xlink:href=\"#C0_0_f8a4f2b374\" y=\"18.14071\"/>\n",
       "    </g>\n",
       "    <g clip-path=\"url(#pd245012c19)\">\n",
       "     <use style=\"fill:none;stroke:#000000;\" x=\"239.655719\" xlink:href=\"#C0_0_f8a4f2b374\" y=\"132.304638\"/>\n",
       "    </g>\n",
       "    <g clip-path=\"url(#pd245012c19)\">\n",
       "     <use style=\"fill:none;stroke:#000000;\" x=\"262.082513\" xlink:href=\"#C0_0_f8a4f2b374\" y=\"109.049023\"/>\n",
       "    </g>\n",
       "    <g clip-path=\"url(#pd245012c19)\">\n",
       "     <use style=\"fill:none;stroke:#000000;\" x=\"254.072944\" xlink:href=\"#C0_0_f8a4f2b374\" y=\"103.763656\"/>\n",
       "    </g>\n",
       "    <g clip-path=\"url(#pd245012c19)\">\n",
       "     <use style=\"fill:none;stroke:#000000;\" x=\"219.631796\" xlink:href=\"#C0_0_f8a4f2b374\" y=\"88.964628\"/>\n",
       "    </g>\n",
       "    <g clip-path=\"url(#pd245012c19)\">\n",
       "     <use style=\"fill:none;stroke:#000000;\" x=\"221.23371\" xlink:href=\"#C0_0_f8a4f2b374\" y=\"136.532931\"/>\n",
       "    </g>\n",
       "    <g clip-path=\"url(#pd245012c19)\">\n",
       "     <use style=\"fill:none;stroke:#000000;\" x=\"260.4806\" xlink:href=\"#C0_0_f8a4f2b374\" y=\"114.33439\"/>\n",
       "    </g>\n",
       "    <g clip-path=\"url(#pd245012c19)\">\n",
       "     <use style=\"fill:none;stroke:#000000;\" x=\"248.466246\" xlink:href=\"#C0_0_f8a4f2b374\" y=\"134.418785\"/>\n",
       "    </g>\n",
       "    <g clip-path=\"url(#pd245012c19)\">\n",
       "     <use style=\"fill:none;stroke:#000000;\" x=\"234.849978\" xlink:href=\"#C0_0_f8a4f2b374\" y=\"116.448537\"/>\n",
       "    </g>\n",
       "    <g clip-path=\"url(#pd245012c19)\">\n",
       "     <use style=\"fill:none;stroke:#000000;\" x=\"219.631796\" xlink:href=\"#C0_0_f8a4f2b374\" y=\"136.532931\"/>\n",
       "    </g>\n",
       "    <g clip-path=\"url(#pd245012c19)\">\n",
       "     <use style=\"fill:none;stroke:#000000;\" x=\"287.713135\" xlink:href=\"#C0_0_f8a4f2b374\" y=\"134.418785\"/>\n",
       "    </g>\n",
       "    <g clip-path=\"url(#pd245012c19)\">\n",
       "     <use style=\"fill:none;stroke:#000000;\" x=\"219.631796\" xlink:href=\"#C0_0_f8a4f2b374\" y=\"142.875372\"/>\n",
       "    </g>\n",
       "    <g clip-path=\"url(#pd245012c19)\">\n",
       "     <use style=\"fill:none;stroke:#000000;\" x=\"274.897824\" xlink:href=\"#C0_0_f8a4f2b374\" y=\"120.67683\"/>\n",
       "    </g>\n",
       "    <g clip-path=\"url(#pd245012c19)\">\n",
       "     <use style=\"fill:none;stroke:#000000;\" x=\"238.854762\" xlink:href=\"#C0_0_f8a4f2b374\" y=\"75.222674\"/>\n",
       "    </g>\n",
       "    <g clip-path=\"url(#pd245012c19)\">\n",
       "     <use style=\"fill:none;stroke:#000000;\" x=\"269.291126\" xlink:href=\"#C0_0_f8a4f2b374\" y=\"155.560253\"/>\n",
       "    </g>\n",
       "    <g clip-path=\"url(#pd245012c19)\">\n",
       "     <use style=\"fill:none;stroke:#000000;\" x=\"165.166724\" xlink:href=\"#C0_0_f8a4f2b374\" y=\"87.907555\"/>\n",
       "    </g>\n",
       "    <g clip-path=\"url(#pd245012c19)\">\n",
       "     <use style=\"fill:none;stroke:#000000;\" x=\"224.437537\" xlink:href=\"#C0_0_f8a4f2b374\" y=\"178.815868\"/>\n",
       "    </g>\n",
       "    <g clip-path=\"url(#pd245012c19)\">\n",
       "     <use style=\"fill:none;stroke:#000000;\" x=\"242.859547\" xlink:href=\"#C0_0_f8a4f2b374\" y=\"109.049023\"/>\n",
       "    </g>\n",
       "    <g clip-path=\"url(#pd245012c19)\">\n",
       "     <use style=\"fill:none;stroke:#000000;\" x=\"284.509308\" xlink:href=\"#C0_0_f8a4f2b374\" y=\"76.279747\"/>\n",
       "    </g>\n",
       "    <g clip-path=\"url(#pd245012c19)\">\n",
       "     <use style=\"fill:none;stroke:#000000;\" x=\"254.873901\" xlink:href=\"#C0_0_f8a4f2b374\" y=\"121.733904\"/>\n",
       "    </g>\n",
       "    <g clip-path=\"url(#pd245012c19)\">\n",
       "     <use style=\"fill:none;stroke:#000000;\" x=\"214.826054\" xlink:href=\"#C0_0_f8a4f2b374\" y=\"83.679261\"/>\n",
       "    </g>\n",
       "    <g clip-path=\"url(#pd245012c19)\">\n",
       "     <use style=\"fill:none;stroke:#000000;\" x=\"218.029882\" xlink:href=\"#C0_0_f8a4f2b374\" y=\"177.758794\"/>\n",
       "    </g>\n",
       "    <g clip-path=\"url(#pd245012c19)\">\n",
       "     <use style=\"fill:none;stroke:#000000;\" x=\"191.598303\" xlink:href=\"#C0_0_f8a4f2b374\" y=\"104.820729\"/>\n",
       "    </g>\n",
       "    <g clip-path=\"url(#pd245012c19)\">\n",
       "     <use style=\"fill:none;stroke:#000000;\" x=\"193.200217\" xlink:href=\"#C0_0_f8a4f2b374\" y=\"125.962197\"/>\n",
       "    </g>\n",
       "    <g clip-path=\"url(#pd245012c19)\">\n",
       "     <use style=\"fill:none;stroke:#000000;\" x=\"219.631796\" xlink:href=\"#C0_0_f8a4f2b374\" y=\"113.277316\"/>\n",
       "    </g>\n",
       "    <g clip-path=\"url(#pd245012c19)\">\n",
       "     <use style=\"fill:none;stroke:#000000;\" x=\"189.195432\" xlink:href=\"#C0_0_f8a4f2b374\" y=\"121.733904\"/>\n",
       "    </g>\n",
       "    <g clip-path=\"url(#pd245012c19)\">\n",
       "     <use style=\"fill:none;stroke:#000000;\" x=\"190.797346\" xlink:href=\"#C0_0_f8a4f2b374\" y=\"119.619757\"/>\n",
       "    </g>\n",
       "    <g clip-path=\"url(#pd245012c19)\">\n",
       "     <use style=\"fill:none;stroke:#000000;\" x=\"162.763853\" xlink:href=\"#C0_0_f8a4f2b374\" y=\"98.478289\"/>\n",
       "    </g>\n",
       "    <g clip-path=\"url(#pd245012c19)\">\n",
       "     <use style=\"fill:none;stroke:#000000;\" x=\"193.200217\" xlink:href=\"#C0_0_f8a4f2b374\" y=\"117.50561\"/>\n",
       "    </g>\n",
       "    <g clip-path=\"url(#pd245012c19)\">\n",
       "     <use style=\"fill:none;stroke:#000000;\" x=\"116.308351\" xlink:href=\"#C0_0_f8a4f2b374\" y=\"49.852912\"/>\n",
       "    </g>\n",
       "    <g clip-path=\"url(#pd245012c19)\">\n",
       "     <use style=\"fill:none;stroke:#000000;\" x=\"197.205001\" xlink:href=\"#C0_0_f8a4f2b374\" y=\"149.217812\"/>\n",
       "    </g>\n",
       "    <g clip-path=\"url(#pd245012c19)\">\n",
       "     <use style=\"fill:none;stroke:#000000;\" x=\"100.289212\" xlink:href=\"#C0_0_f8a4f2b374\" y=\"17.083636\"/>\n",
       "    </g>\n",
       "    <g clip-path=\"url(#pd245012c19)\">\n",
       "     <use style=\"fill:none;stroke:#000000;\" x=\"169.171509\" xlink:href=\"#C0_0_f8a4f2b374\" y=\"69.937307\"/>\n",
       "    </g>\n",
       "    <g clip-path=\"url(#pd245012c19)\">\n",
       "     <use style=\"fill:none;stroke:#000000;\" x=\"219.631796\" xlink:href=\"#C0_0_f8a4f2b374\" y=\"133.361711\"/>\n",
       "    </g>\n",
       "    <g clip-path=\"url(#pd245012c19)\">\n",
       "     <use style=\"fill:none;stroke:#000000;\" x=\"169.972466\" xlink:href=\"#C0_0_f8a4f2b374\" y=\"116.448537\"/>\n",
       "    </g>\n",
       "   </g>\n",
       "   <g id=\"matplotlib.axis_1\">\n",
       "    <g id=\"xtick_1\">\n",
       "     <g id=\"line2d_1\">\n",
       "      <defs>\n",
       "       <path d=\"M 0 0 \n",
       "L 0 3.5 \n",
       "\" id=\"m14c0db7862\" style=\"stroke:#000000;stroke-width:0.8;\"/>\n",
       "      </defs>\n",
       "      <g>\n",
       "       <use style=\"stroke:#000000;stroke-width:0.8;\" x=\"69.323246\" xlink:href=\"#m14c0db7862\" y=\"224.64\"/>\n",
       "      </g>\n",
       "     </g>\n",
       "     <g id=\"text_1\">\n",
       "      <!-- −2 -->\n",
       "      <g transform=\"translate(61.952153 239.238437)scale(0.1 -0.1)\">\n",
       "       <defs>\n",
       "        <path d=\"M 10.59375 35.5 \n",
       "L 73.1875 35.5 \n",
       "L 73.1875 27.203125 \n",
       "L 10.59375 27.203125 \n",
       "z\n",
       "\" id=\"DejaVuSans-8722\"/>\n",
       "        <path d=\"M 19.1875 8.296875 \n",
       "L 53.609375 8.296875 \n",
       "L 53.609375 0 \n",
       "L 7.328125 0 \n",
       "L 7.328125 8.296875 \n",
       "Q 12.9375 14.109375 22.625 23.890625 \n",
       "Q 32.328125 33.6875 34.8125 36.53125 \n",
       "Q 39.546875 41.84375 41.421875 45.53125 \n",
       "Q 43.3125 49.21875 43.3125 52.78125 \n",
       "Q 43.3125 58.59375 39.234375 62.25 \n",
       "Q 35.15625 65.921875 28.609375 65.921875 \n",
       "Q 23.96875 65.921875 18.8125 64.3125 \n",
       "Q 13.671875 62.703125 7.8125 59.421875 \n",
       "L 7.8125 69.390625 \n",
       "Q 13.765625 71.78125 18.9375 73 \n",
       "Q 24.125 74.21875 28.421875 74.21875 \n",
       "Q 39.75 74.21875 46.484375 68.546875 \n",
       "Q 53.21875 62.890625 53.21875 53.421875 \n",
       "Q 53.21875 48.921875 51.53125 44.890625 \n",
       "Q 49.859375 40.875 45.40625 35.40625 \n",
       "Q 44.1875 33.984375 37.640625 27.21875 \n",
       "Q 31.109375 20.453125 19.1875 8.296875 \n",
       "z\n",
       "\" id=\"DejaVuSans-50\"/>\n",
       "       </defs>\n",
       "       <use xlink:href=\"#DejaVuSans-8722\"/>\n",
       "       <use x=\"83.789062\" xlink:href=\"#DejaVuSans-50\"/>\n",
       "      </g>\n",
       "     </g>\n",
       "    </g>\n",
       "    <g id=\"xtick_2\">\n",
       "     <g id=\"line2d_2\">\n",
       "      <g>\n",
       "       <use style=\"stroke:#000000;stroke-width:0.8;\" x=\"140.23553\" xlink:href=\"#m14c0db7862\" y=\"224.64\"/>\n",
       "      </g>\n",
       "     </g>\n",
       "     <g id=\"text_2\">\n",
       "      <!-- −1 -->\n",
       "      <g transform=\"translate(132.864436 239.238437)scale(0.1 -0.1)\">\n",
       "       <defs>\n",
       "        <path d=\"M 12.40625 8.296875 \n",
       "L 28.515625 8.296875 \n",
       "L 28.515625 63.921875 \n",
       "L 10.984375 60.40625 \n",
       "L 10.984375 69.390625 \n",
       "L 28.421875 72.90625 \n",
       "L 38.28125 72.90625 \n",
       "L 38.28125 8.296875 \n",
       "L 54.390625 8.296875 \n",
       "L 54.390625 0 \n",
       "L 12.40625 0 \n",
       "z\n",
       "\" id=\"DejaVuSans-49\"/>\n",
       "       </defs>\n",
       "       <use xlink:href=\"#DejaVuSans-8722\"/>\n",
       "       <use x=\"83.789062\" xlink:href=\"#DejaVuSans-49\"/>\n",
       "      </g>\n",
       "     </g>\n",
       "    </g>\n",
       "    <g id=\"xtick_3\">\n",
       "     <g id=\"line2d_3\">\n",
       "      <g>\n",
       "       <use style=\"stroke:#000000;stroke-width:0.8;\" x=\"211.147813\" xlink:href=\"#m14c0db7862\" y=\"224.64\"/>\n",
       "      </g>\n",
       "     </g>\n",
       "     <g id=\"text_3\">\n",
       "      <!-- 0 -->\n",
       "      <g transform=\"translate(207.966563 239.238437)scale(0.1 -0.1)\">\n",
       "       <defs>\n",
       "        <path d=\"M 31.78125 66.40625 \n",
       "Q 24.171875 66.40625 20.328125 58.90625 \n",
       "Q 16.5 51.421875 16.5 36.375 \n",
       "Q 16.5 21.390625 20.328125 13.890625 \n",
       "Q 24.171875 6.390625 31.78125 6.390625 \n",
       "Q 39.453125 6.390625 43.28125 13.890625 \n",
       "Q 47.125 21.390625 47.125 36.375 \n",
       "Q 47.125 51.421875 43.28125 58.90625 \n",
       "Q 39.453125 66.40625 31.78125 66.40625 \n",
       "z\n",
       "M 31.78125 74.21875 \n",
       "Q 44.046875 74.21875 50.515625 64.515625 \n",
       "Q 56.984375 54.828125 56.984375 36.375 \n",
       "Q 56.984375 17.96875 50.515625 8.265625 \n",
       "Q 44.046875 -1.421875 31.78125 -1.421875 \n",
       "Q 19.53125 -1.421875 13.0625 8.265625 \n",
       "Q 6.59375 17.96875 6.59375 36.375 \n",
       "Q 6.59375 54.828125 13.0625 64.515625 \n",
       "Q 19.53125 74.21875 31.78125 74.21875 \n",
       "z\n",
       "\" id=\"DejaVuSans-48\"/>\n",
       "       </defs>\n",
       "       <use xlink:href=\"#DejaVuSans-48\"/>\n",
       "      </g>\n",
       "     </g>\n",
       "    </g>\n",
       "    <g id=\"xtick_4\">\n",
       "     <g id=\"line2d_4\">\n",
       "      <g>\n",
       "       <use style=\"stroke:#000000;stroke-width:0.8;\" x=\"282.060097\" xlink:href=\"#m14c0db7862\" y=\"224.64\"/>\n",
       "      </g>\n",
       "     </g>\n",
       "     <g id=\"text_4\">\n",
       "      <!-- 1 -->\n",
       "      <g transform=\"translate(278.878847 239.238437)scale(0.1 -0.1)\">\n",
       "       <use xlink:href=\"#DejaVuSans-49\"/>\n",
       "      </g>\n",
       "     </g>\n",
       "    </g>\n",
       "    <g id=\"xtick_5\">\n",
       "     <g id=\"line2d_5\">\n",
       "      <g>\n",
       "       <use style=\"stroke:#000000;stroke-width:0.8;\" x=\"352.97238\" xlink:href=\"#m14c0db7862\" y=\"224.64\"/>\n",
       "      </g>\n",
       "     </g>\n",
       "     <g id=\"text_5\">\n",
       "      <!-- 2 -->\n",
       "      <g transform=\"translate(349.79113 239.238437)scale(0.1 -0.1)\">\n",
       "       <use xlink:href=\"#DejaVuSans-50\"/>\n",
       "      </g>\n",
       "     </g>\n",
       "    </g>\n",
       "    <g id=\"text_6\">\n",
       "     <!-- alcohol -->\n",
       "     <g transform=\"translate(192.141406 252.916562)scale(0.1 -0.1)\">\n",
       "      <defs>\n",
       "       <path d=\"M 34.28125 27.484375 \n",
       "Q 23.390625 27.484375 19.1875 25 \n",
       "Q 14.984375 22.515625 14.984375 16.5 \n",
       "Q 14.984375 11.71875 18.140625 8.90625 \n",
       "Q 21.296875 6.109375 26.703125 6.109375 \n",
       "Q 34.1875 6.109375 38.703125 11.40625 \n",
       "Q 43.21875 16.703125 43.21875 25.484375 \n",
       "L 43.21875 27.484375 \n",
       "z\n",
       "M 52.203125 31.203125 \n",
       "L 52.203125 0 \n",
       "L 43.21875 0 \n",
       "L 43.21875 8.296875 \n",
       "Q 40.140625 3.328125 35.546875 0.953125 \n",
       "Q 30.953125 -1.421875 24.3125 -1.421875 \n",
       "Q 15.921875 -1.421875 10.953125 3.296875 \n",
       "Q 6 8.015625 6 15.921875 \n",
       "Q 6 25.140625 12.171875 29.828125 \n",
       "Q 18.359375 34.515625 30.609375 34.515625 \n",
       "L 43.21875 34.515625 \n",
       "L 43.21875 35.40625 \n",
       "Q 43.21875 41.609375 39.140625 45 \n",
       "Q 35.0625 48.390625 27.6875 48.390625 \n",
       "Q 23 48.390625 18.546875 47.265625 \n",
       "Q 14.109375 46.140625 10.015625 43.890625 \n",
       "L 10.015625 52.203125 \n",
       "Q 14.9375 54.109375 19.578125 55.046875 \n",
       "Q 24.21875 56 28.609375 56 \n",
       "Q 40.484375 56 46.34375 49.84375 \n",
       "Q 52.203125 43.703125 52.203125 31.203125 \n",
       "z\n",
       "\" id=\"DejaVuSans-97\"/>\n",
       "       <path d=\"M 9.421875 75.984375 \n",
       "L 18.40625 75.984375 \n",
       "L 18.40625 0 \n",
       "L 9.421875 0 \n",
       "z\n",
       "\" id=\"DejaVuSans-108\"/>\n",
       "       <path d=\"M 48.78125 52.59375 \n",
       "L 48.78125 44.1875 \n",
       "Q 44.96875 46.296875 41.140625 47.34375 \n",
       "Q 37.3125 48.390625 33.40625 48.390625 \n",
       "Q 24.65625 48.390625 19.8125 42.84375 \n",
       "Q 14.984375 37.3125 14.984375 27.296875 \n",
       "Q 14.984375 17.28125 19.8125 11.734375 \n",
       "Q 24.65625 6.203125 33.40625 6.203125 \n",
       "Q 37.3125 6.203125 41.140625 7.25 \n",
       "Q 44.96875 8.296875 48.78125 10.40625 \n",
       "L 48.78125 2.09375 \n",
       "Q 45.015625 0.34375 40.984375 -0.53125 \n",
       "Q 36.96875 -1.421875 32.421875 -1.421875 \n",
       "Q 20.0625 -1.421875 12.78125 6.34375 \n",
       "Q 5.515625 14.109375 5.515625 27.296875 \n",
       "Q 5.515625 40.671875 12.859375 48.328125 \n",
       "Q 20.21875 56 33.015625 56 \n",
       "Q 37.15625 56 41.109375 55.140625 \n",
       "Q 45.0625 54.296875 48.78125 52.59375 \n",
       "z\n",
       "\" id=\"DejaVuSans-99\"/>\n",
       "       <path d=\"M 30.609375 48.390625 \n",
       "Q 23.390625 48.390625 19.1875 42.75 \n",
       "Q 14.984375 37.109375 14.984375 27.296875 \n",
       "Q 14.984375 17.484375 19.15625 11.84375 \n",
       "Q 23.34375 6.203125 30.609375 6.203125 \n",
       "Q 37.796875 6.203125 41.984375 11.859375 \n",
       "Q 46.1875 17.53125 46.1875 27.296875 \n",
       "Q 46.1875 37.015625 41.984375 42.703125 \n",
       "Q 37.796875 48.390625 30.609375 48.390625 \n",
       "z\n",
       "M 30.609375 56 \n",
       "Q 42.328125 56 49.015625 48.375 \n",
       "Q 55.71875 40.765625 55.71875 27.296875 \n",
       "Q 55.71875 13.875 49.015625 6.21875 \n",
       "Q 42.328125 -1.421875 30.609375 -1.421875 \n",
       "Q 18.84375 -1.421875 12.171875 6.21875 \n",
       "Q 5.515625 13.875 5.515625 27.296875 \n",
       "Q 5.515625 40.765625 12.171875 48.375 \n",
       "Q 18.84375 56 30.609375 56 \n",
       "z\n",
       "\" id=\"DejaVuSans-111\"/>\n",
       "       <path d=\"M 54.890625 33.015625 \n",
       "L 54.890625 0 \n",
       "L 45.90625 0 \n",
       "L 45.90625 32.71875 \n",
       "Q 45.90625 40.484375 42.875 44.328125 \n",
       "Q 39.84375 48.1875 33.796875 48.1875 \n",
       "Q 26.515625 48.1875 22.3125 43.546875 \n",
       "Q 18.109375 38.921875 18.109375 30.90625 \n",
       "L 18.109375 0 \n",
       "L 9.078125 0 \n",
       "L 9.078125 75.984375 \n",
       "L 18.109375 75.984375 \n",
       "L 18.109375 46.1875 \n",
       "Q 21.34375 51.125 25.703125 53.5625 \n",
       "Q 30.078125 56 35.796875 56 \n",
       "Q 45.21875 56 50.046875 50.171875 \n",
       "Q 54.890625 44.34375 54.890625 33.015625 \n",
       "z\n",
       "\" id=\"DejaVuSans-104\"/>\n",
       "      </defs>\n",
       "      <use xlink:href=\"#DejaVuSans-97\"/>\n",
       "      <use x=\"61.279297\" xlink:href=\"#DejaVuSans-108\"/>\n",
       "      <use x=\"89.0625\" xlink:href=\"#DejaVuSans-99\"/>\n",
       "      <use x=\"144.042969\" xlink:href=\"#DejaVuSans-111\"/>\n",
       "      <use x=\"205.224609\" xlink:href=\"#DejaVuSans-104\"/>\n",
       "      <use x=\"268.603516\" xlink:href=\"#DejaVuSans-111\"/>\n",
       "      <use x=\"329.785156\" xlink:href=\"#DejaVuSans-108\"/>\n",
       "     </g>\n",
       "    </g>\n",
       "   </g>\n",
       "   <g id=\"matplotlib.axis_2\">\n",
       "    <g id=\"ytick_1\">\n",
       "     <g id=\"line2d_6\">\n",
       "      <defs>\n",
       "       <path d=\"M 0 0 \n",
       "L -3.5 0 \n",
       "\" id=\"m3a9a338e2f\" style=\"stroke:#000000;stroke-width:0.8;\"/>\n",
       "      </defs>\n",
       "      <g>\n",
       "       <use style=\"stroke:#000000;stroke-width:0.8;\" x=\"42.620313\" xlink:href=\"#m3a9a338e2f\" y=\"204.987825\"/>\n",
       "      </g>\n",
       "     </g>\n",
       "     <g id=\"text_7\">\n",
       "      <!-- −3 -->\n",
       "      <g transform=\"translate(20.878125 208.787044)scale(0.1 -0.1)\">\n",
       "       <defs>\n",
       "        <path d=\"M 40.578125 39.3125 \n",
       "Q 47.65625 37.796875 51.625 33 \n",
       "Q 55.609375 28.21875 55.609375 21.1875 \n",
       "Q 55.609375 10.40625 48.1875 4.484375 \n",
       "Q 40.765625 -1.421875 27.09375 -1.421875 \n",
       "Q 22.515625 -1.421875 17.65625 -0.515625 \n",
       "Q 12.796875 0.390625 7.625 2.203125 \n",
       "L 7.625 11.71875 \n",
       "Q 11.71875 9.328125 16.59375 8.109375 \n",
       "Q 21.484375 6.890625 26.8125 6.890625 \n",
       "Q 36.078125 6.890625 40.9375 10.546875 \n",
       "Q 45.796875 14.203125 45.796875 21.1875 \n",
       "Q 45.796875 27.640625 41.28125 31.265625 \n",
       "Q 36.765625 34.90625 28.71875 34.90625 \n",
       "L 20.21875 34.90625 \n",
       "L 20.21875 43.015625 \n",
       "L 29.109375 43.015625 \n",
       "Q 36.375 43.015625 40.234375 45.921875 \n",
       "Q 44.09375 48.828125 44.09375 54.296875 \n",
       "Q 44.09375 59.90625 40.109375 62.90625 \n",
       "Q 36.140625 65.921875 28.71875 65.921875 \n",
       "Q 24.65625 65.921875 20.015625 65.03125 \n",
       "Q 15.375 64.15625 9.8125 62.3125 \n",
       "L 9.8125 71.09375 \n",
       "Q 15.4375 72.65625 20.34375 73.4375 \n",
       "Q 25.25 74.21875 29.59375 74.21875 \n",
       "Q 40.828125 74.21875 47.359375 69.109375 \n",
       "Q 53.90625 64.015625 53.90625 55.328125 \n",
       "Q 53.90625 49.265625 50.4375 45.09375 \n",
       "Q 46.96875 40.921875 40.578125 39.3125 \n",
       "z\n",
       "\" id=\"DejaVuSans-51\"/>\n",
       "       </defs>\n",
       "       <use xlink:href=\"#DejaVuSans-8722\"/>\n",
       "       <use x=\"83.789062\" xlink:href=\"#DejaVuSans-51\"/>\n",
       "      </g>\n",
       "     </g>\n",
       "    </g>\n",
       "    <g id=\"ytick_2\">\n",
       "     <g id=\"line2d_7\">\n",
       "      <g>\n",
       "       <use style=\"stroke:#000000;stroke-width:0.8;\" x=\"42.620313\" xlink:href=\"#m3a9a338e2f\" y=\"173.696677\"/>\n",
       "      </g>\n",
       "     </g>\n",
       "     <g id=\"text_8\">\n",
       "      <!-- −2 -->\n",
       "      <g transform=\"translate(20.878125 177.495896)scale(0.1 -0.1)\">\n",
       "       <use xlink:href=\"#DejaVuSans-8722\"/>\n",
       "       <use x=\"83.789062\" xlink:href=\"#DejaVuSans-50\"/>\n",
       "      </g>\n",
       "     </g>\n",
       "    </g>\n",
       "    <g id=\"ytick_3\">\n",
       "     <g id=\"line2d_8\">\n",
       "      <g>\n",
       "       <use style=\"stroke:#000000;stroke-width:0.8;\" x=\"42.620313\" xlink:href=\"#m3a9a338e2f\" y=\"142.40553\"/>\n",
       "      </g>\n",
       "     </g>\n",
       "     <g id=\"text_9\">\n",
       "      <!-- −1 -->\n",
       "      <g transform=\"translate(20.878125 146.204748)scale(0.1 -0.1)\">\n",
       "       <use xlink:href=\"#DejaVuSans-8722\"/>\n",
       "       <use x=\"83.789062\" xlink:href=\"#DejaVuSans-49\"/>\n",
       "      </g>\n",
       "     </g>\n",
       "    </g>\n",
       "    <g id=\"ytick_4\">\n",
       "     <g id=\"line2d_9\">\n",
       "      <g>\n",
       "       <use style=\"stroke:#000000;stroke-width:0.8;\" x=\"42.620313\" xlink:href=\"#m3a9a338e2f\" y=\"111.114382\"/>\n",
       "      </g>\n",
       "     </g>\n",
       "     <g id=\"text_10\">\n",
       "      <!-- 0 -->\n",
       "      <g transform=\"translate(29.257813 114.9136)scale(0.1 -0.1)\">\n",
       "       <use xlink:href=\"#DejaVuSans-48\"/>\n",
       "      </g>\n",
       "     </g>\n",
       "    </g>\n",
       "    <g id=\"ytick_5\">\n",
       "     <g id=\"line2d_10\">\n",
       "      <g>\n",
       "       <use style=\"stroke:#000000;stroke-width:0.8;\" x=\"42.620313\" xlink:href=\"#m3a9a338e2f\" y=\"79.823234\"/>\n",
       "      </g>\n",
       "     </g>\n",
       "     <g id=\"text_11\">\n",
       "      <!-- 1 -->\n",
       "      <g transform=\"translate(29.257813 83.622453)scale(0.1 -0.1)\">\n",
       "       <use xlink:href=\"#DejaVuSans-49\"/>\n",
       "      </g>\n",
       "     </g>\n",
       "    </g>\n",
       "    <g id=\"ytick_6\">\n",
       "     <g id=\"line2d_11\">\n",
       "      <g>\n",
       "       <use style=\"stroke:#000000;stroke-width:0.8;\" x=\"42.620313\" xlink:href=\"#m3a9a338e2f\" y=\"48.532086\"/>\n",
       "      </g>\n",
       "     </g>\n",
       "     <g id=\"text_12\">\n",
       "      <!-- 2 -->\n",
       "      <g transform=\"translate(29.257813 52.331305)scale(0.1 -0.1)\">\n",
       "       <use xlink:href=\"#DejaVuSans-50\"/>\n",
       "      </g>\n",
       "     </g>\n",
       "    </g>\n",
       "    <g id=\"ytick_7\">\n",
       "     <g id=\"line2d_12\">\n",
       "      <g>\n",
       "       <use style=\"stroke:#000000;stroke-width:0.8;\" x=\"42.620313\" xlink:href=\"#m3a9a338e2f\" y=\"17.240938\"/>\n",
       "      </g>\n",
       "     </g>\n",
       "     <g id=\"text_13\">\n",
       "      <!-- 3 -->\n",
       "      <g transform=\"translate(29.257813 21.040157)scale(0.1 -0.1)\">\n",
       "       <use xlink:href=\"#DejaVuSans-51\"/>\n",
       "      </g>\n",
       "     </g>\n",
       "    </g>\n",
       "    <g id=\"text_14\">\n",
       "     <!-- ash -->\n",
       "     <g transform=\"translate(14.798438 124.7575)rotate(-90)scale(0.1 -0.1)\">\n",
       "      <defs>\n",
       "       <path d=\"M 44.28125 53.078125 \n",
       "L 44.28125 44.578125 \n",
       "Q 40.484375 46.53125 36.375 47.5 \n",
       "Q 32.28125 48.484375 27.875 48.484375 \n",
       "Q 21.1875 48.484375 17.84375 46.4375 \n",
       "Q 14.5 44.390625 14.5 40.28125 \n",
       "Q 14.5 37.15625 16.890625 35.375 \n",
       "Q 19.28125 33.59375 26.515625 31.984375 \n",
       "L 29.59375 31.296875 \n",
       "Q 39.15625 29.25 43.1875 25.515625 \n",
       "Q 47.21875 21.78125 47.21875 15.09375 \n",
       "Q 47.21875 7.46875 41.1875 3.015625 \n",
       "Q 35.15625 -1.421875 24.609375 -1.421875 \n",
       "Q 20.21875 -1.421875 15.453125 -0.5625 \n",
       "Q 10.6875 0.296875 5.421875 2 \n",
       "L 5.421875 11.28125 \n",
       "Q 10.40625 8.6875 15.234375 7.390625 \n",
       "Q 20.0625 6.109375 24.8125 6.109375 \n",
       "Q 31.15625 6.109375 34.5625 8.28125 \n",
       "Q 37.984375 10.453125 37.984375 14.40625 \n",
       "Q 37.984375 18.0625 35.515625 20.015625 \n",
       "Q 33.0625 21.96875 24.703125 23.78125 \n",
       "L 21.578125 24.515625 \n",
       "Q 13.234375 26.265625 9.515625 29.90625 \n",
       "Q 5.8125 33.546875 5.8125 39.890625 \n",
       "Q 5.8125 47.609375 11.28125 51.796875 \n",
       "Q 16.75 56 26.8125 56 \n",
       "Q 31.78125 56 36.171875 55.265625 \n",
       "Q 40.578125 54.546875 44.28125 53.078125 \n",
       "z\n",
       "\" id=\"DejaVuSans-115\"/>\n",
       "      </defs>\n",
       "      <use xlink:href=\"#DejaVuSans-97\"/>\n",
       "      <use x=\"61.279297\" xlink:href=\"#DejaVuSans-115\"/>\n",
       "      <use x=\"113.378906\" xlink:href=\"#DejaVuSans-104\"/>\n",
       "     </g>\n",
       "    </g>\n",
       "   </g>\n",
       "   <g id=\"LineCollection_1\">\n",
       "    <path clip-path=\"url(#pd245012c19)\" d=\"M 264.596932 7.2 \n",
       "L 261.972037 8.477095 \n",
       "L 252.357791 14.697931 \n",
       "L 250.427209 16.261573 \n",
       "L 244.615701 22.195862 \n",
       "L 239.442933 29.693793 \n",
       "L 238.882381 30.905511 \n",
       "L 236.445203 37.191724 \n",
       "L 234.966598 44.689655 \n",
       "L 234.740951 52.187586 \n",
       "L 235.596836 59.685517 \n",
       "L 237.401876 67.183448 \n",
       "L 238.882381 71.28309 \n",
       "L 240.141101 74.681379 \n",
       "L 243.804488 82.17931 \n",
       "L 248.232811 89.677241 \n",
       "L 250.427209 92.820875 \n",
       "L 253.636116 97.175172 \n",
       "L 259.977126 104.673103 \n",
       "L 261.972037 106.763985 \n",
       "L 267.557155 112.171034 \n",
       "L 273.516864 117.368024 \n",
       "L 276.434443 119.668966 \n",
       "L 285.061692 125.874474 \n",
       "L 287.092494 127.166897 \n",
       "L 296.606519 132.776095 \n",
       "L 300.310558 134.664828 \n",
       "L 308.151347 138.435824 \n",
       "L 317.323815 142.162759 \n",
       "L 319.696175 143.090023 \n",
       "L 331.241002 146.800297 \n",
       "L 342.410658 149.66069 \n",
       "L 342.78583 149.755329 \n",
       "L 354.330657 151.932165 \n",
       "L 365.875485 153.426414 \n",
       "L 377.420313 154.253364 \n",
       "\" style=\"fill:none;stroke:#000000;stroke-dasharray:5.55,2.4;stroke-dashoffset:0;stroke-opacity:0.5;stroke-width:1.5;\"/>\n",
       "   </g>\n",
       "   <g id=\"LineCollection_2\">\n",
       "    <path clip-path=\"url(#pd245012c19)\" d=\"M 167.308891 7.2 \n",
       "L 167.556578 14.697931 \n",
       "L 168.506419 22.195862 \n",
       "L 169.613416 27.348932 \n",
       "L 170.078997 29.693793 \n",
       "L 172.192166 37.191724 \n",
       "L 174.796545 44.689655 \n",
       "L 177.846757 52.187586 \n",
       "L 181.158244 59.346704 \n",
       "L 181.307522 59.685517 \n",
       "L 185.11736 67.183448 \n",
       "L 189.274731 74.681379 \n",
       "L 192.703071 80.362925 \n",
       "L 193.775524 82.17931 \n",
       "L 198.605474 89.677241 \n",
       "L 203.781131 97.175172 \n",
       "L 204.247899 97.807378 \n",
       "L 209.353049 104.673103 \n",
       "L 215.318981 112.171034 \n",
       "L 215.792726 112.734879 \n",
       "L 221.803388 119.668966 \n",
       "L 227.337554 125.652298 \n",
       "L 228.809342 127.166897 \n",
       "L 236.486964 134.664828 \n",
       "L 238.882381 136.897622 \n",
       "L 244.961062 142.162759 \n",
       "L 250.427209 146.694282 \n",
       "L 254.346189 149.66069 \n",
       "L 261.972037 155.25677 \n",
       "L 264.859379 157.158621 \n",
       "L 273.516864 162.776179 \n",
       "L 276.79842 164.656552 \n",
       "L 285.061692 169.408039 \n",
       "L 290.553065 172.154483 \n",
       "L 296.606519 175.255569 \n",
       "L 306.610456 179.652414 \n",
       "L 308.151347 180.361621 \n",
       "L 319.696175 184.941948 \n",
       "L 326.305127 187.150345 \n",
       "L 331.241002 188.926622 \n",
       "L 342.78583 192.418717 \n",
       "L 351.685445 194.648276 \n",
       "L 354.330657 195.383005 \n",
       "L 365.875485 198.018801 \n",
       "L 377.420313 200.13802 \n",
       "\" style=\"fill:none;stroke:#000000;stroke-opacity:0.5;stroke-width:1.5;\"/>\n",
       "   </g>\n",
       "   <g id=\"LineCollection_3\">\n",
       "    <path clip-path=\"url(#pd245012c19)\" d=\"M 66.95056 7.2 \n",
       "L 77.254795 14.059392 \n",
       "L 78.03568 14.697931 \n",
       "L 87.555698 22.195862 \n",
       "L 88.799623 23.140864 \n",
       "L 96.025866 29.693793 \n",
       "L 100.34445 33.502511 \n",
       "L 103.927125 37.191724 \n",
       "L 111.404046 44.689655 \n",
       "L 111.889278 45.158321 \n",
       "L 118.273422 52.187586 \n",
       "L 123.434106 57.76677 \n",
       "L 125.021117 59.685517 \n",
       "L 131.395495 67.183448 \n",
       "L 134.978933 71.327206 \n",
       "L 137.632246 74.681379 \n",
       "L 143.664548 82.17931 \n",
       "L 146.523761 85.689367 \n",
       "L 149.564972 89.677241 \n",
       "L 155.352096 97.175172 \n",
       "L 158.068588 100.665863 \n",
       "L 161.059023 104.673103 \n",
       "L 166.711787 112.171034 \n",
       "L 169.613416 115.992113 \n",
       "L 172.358041 119.668966 \n",
       "L 178.00125 127.166897 \n",
       "L 181.158244 131.328658 \n",
       "L 183.709576 134.664828 \n",
       "L 189.463878 142.162759 \n",
       "L 192.703071 146.365081 \n",
       "L 195.329465 149.66069 \n",
       "L 201.274234 157.158621 \n",
       "L 204.247899 160.952132 \n",
       "L 207.324527 164.656552 \n",
       "L 213.433738 172.154483 \n",
       "L 215.792726 175.189925 \n",
       "L 219.552129 179.652414 \n",
       "L 225.589476 187.150345 \n",
       "L 227.337554 189.573822 \n",
       "L 231.387083 194.648276 \n",
       "L 236.747224 202.146207 \n",
       "L 238.882381 205.82465 \n",
       "L 241.377605 209.644138 \n",
       "L 244.873199 217.142069 \n",
       "L 246.751667 224.64 \n",
       "\" style=\"fill:none;stroke:#000000;stroke-dasharray:5.55,2.4;stroke-dashoffset:0;stroke-opacity:0.5;stroke-width:1.5;\"/>\n",
       "   </g>\n",
       "   <g id=\"patch_3\">\n",
       "    <path d=\"M 42.620313 224.64 \n",
       "L 42.620313 7.2 \n",
       "\" style=\"fill:none;stroke:#000000;stroke-linecap:square;stroke-linejoin:miter;stroke-width:0.8;\"/>\n",
       "   </g>\n",
       "   <g id=\"patch_4\">\n",
       "    <path d=\"M 377.420313 224.64 \n",
       "L 377.420313 7.2 \n",
       "\" style=\"fill:none;stroke:#000000;stroke-linecap:square;stroke-linejoin:miter;stroke-width:0.8;\"/>\n",
       "   </g>\n",
       "   <g id=\"patch_5\">\n",
       "    <path d=\"M 42.620313 224.64 \n",
       "L 377.420313 224.64 \n",
       "\" style=\"fill:none;stroke:#000000;stroke-linecap:square;stroke-linejoin:miter;stroke-width:0.8;\"/>\n",
       "   </g>\n",
       "   <g id=\"patch_6\">\n",
       "    <path d=\"M 42.620313 7.2 \n",
       "L 377.420313 7.2 \n",
       "\" style=\"fill:none;stroke:#000000;stroke-linecap:square;stroke-linejoin:miter;stroke-width:0.8;\"/>\n",
       "   </g>\n",
       "   <g id=\"legend_1\">\n",
       "    <g id=\"patch_7\">\n",
       "     <path d=\"M 49.620313 44.55625 \n",
       "L 125.453125 44.55625 \n",
       "Q 127.453125 44.55625 127.453125 42.55625 \n",
       "L 127.453125 14.2 \n",
       "Q 127.453125 12.2 125.453125 12.2 \n",
       "L 49.620313 12.2 \n",
       "Q 47.620313 12.2 47.620313 14.2 \n",
       "L 47.620313 42.55625 \n",
       "Q 47.620313 44.55625 49.620313 44.55625 \n",
       "z\n",
       "\" style=\"fill:#ffffff;opacity:0.8;stroke:#cccccc;stroke-linejoin:miter;\"/>\n",
       "    </g>\n",
       "    <g id=\"PathCollection_4\">\n",
       "     <g>\n",
       "      <use style=\"fill:#1f77b4;stroke:#1f77b4;\" x=\"61.620313\" xlink:href=\"#m220bda7ad9\" y=\"21.173437\"/>\n",
       "     </g>\n",
       "    </g>\n",
       "    <g id=\"text_15\">\n",
       "     <!-- cultivar0 -->\n",
       "     <g transform=\"translate(79.620313 23.798437)scale(0.1 -0.1)\">\n",
       "      <defs>\n",
       "       <path d=\"M 8.5 21.578125 \n",
       "L 8.5 54.6875 \n",
       "L 17.484375 54.6875 \n",
       "L 17.484375 21.921875 \n",
       "Q 17.484375 14.15625 20.5 10.265625 \n",
       "Q 23.53125 6.390625 29.59375 6.390625 \n",
       "Q 36.859375 6.390625 41.078125 11.03125 \n",
       "Q 45.3125 15.671875 45.3125 23.6875 \n",
       "L 45.3125 54.6875 \n",
       "L 54.296875 54.6875 \n",
       "L 54.296875 0 \n",
       "L 45.3125 0 \n",
       "L 45.3125 8.40625 \n",
       "Q 42.046875 3.421875 37.71875 1 \n",
       "Q 33.40625 -1.421875 27.6875 -1.421875 \n",
       "Q 18.265625 -1.421875 13.375 4.4375 \n",
       "Q 8.5 10.296875 8.5 21.578125 \n",
       "z\n",
       "M 31.109375 56 \n",
       "z\n",
       "\" id=\"DejaVuSans-117\"/>\n",
       "       <path d=\"M 18.3125 70.21875 \n",
       "L 18.3125 54.6875 \n",
       "L 36.8125 54.6875 \n",
       "L 36.8125 47.703125 \n",
       "L 18.3125 47.703125 \n",
       "L 18.3125 18.015625 \n",
       "Q 18.3125 11.328125 20.140625 9.421875 \n",
       "Q 21.96875 7.515625 27.59375 7.515625 \n",
       "L 36.8125 7.515625 \n",
       "L 36.8125 0 \n",
       "L 27.59375 0 \n",
       "Q 17.1875 0 13.234375 3.875 \n",
       "Q 9.28125 7.765625 9.28125 18.015625 \n",
       "L 9.28125 47.703125 \n",
       "L 2.6875 47.703125 \n",
       "L 2.6875 54.6875 \n",
       "L 9.28125 54.6875 \n",
       "L 9.28125 70.21875 \n",
       "z\n",
       "\" id=\"DejaVuSans-116\"/>\n",
       "       <path d=\"M 9.421875 54.6875 \n",
       "L 18.40625 54.6875 \n",
       "L 18.40625 0 \n",
       "L 9.421875 0 \n",
       "z\n",
       "M 9.421875 75.984375 \n",
       "L 18.40625 75.984375 \n",
       "L 18.40625 64.59375 \n",
       "L 9.421875 64.59375 \n",
       "z\n",
       "\" id=\"DejaVuSans-105\"/>\n",
       "       <path d=\"M 2.984375 54.6875 \n",
       "L 12.5 54.6875 \n",
       "L 29.59375 8.796875 \n",
       "L 46.6875 54.6875 \n",
       "L 56.203125 54.6875 \n",
       "L 35.6875 0 \n",
       "L 23.484375 0 \n",
       "z\n",
       "\" id=\"DejaVuSans-118\"/>\n",
       "       <path d=\"M 41.109375 46.296875 \n",
       "Q 39.59375 47.171875 37.8125 47.578125 \n",
       "Q 36.03125 48 33.890625 48 \n",
       "Q 26.265625 48 22.1875 43.046875 \n",
       "Q 18.109375 38.09375 18.109375 28.8125 \n",
       "L 18.109375 0 \n",
       "L 9.078125 0 \n",
       "L 9.078125 54.6875 \n",
       "L 18.109375 54.6875 \n",
       "L 18.109375 46.1875 \n",
       "Q 20.953125 51.171875 25.484375 53.578125 \n",
       "Q 30.03125 56 36.53125 56 \n",
       "Q 37.453125 56 38.578125 55.875 \n",
       "Q 39.703125 55.765625 41.0625 55.515625 \n",
       "z\n",
       "\" id=\"DejaVuSans-114\"/>\n",
       "      </defs>\n",
       "      <use xlink:href=\"#DejaVuSans-99\"/>\n",
       "      <use x=\"54.980469\" xlink:href=\"#DejaVuSans-117\"/>\n",
       "      <use x=\"118.359375\" xlink:href=\"#DejaVuSans-108\"/>\n",
       "      <use x=\"146.142578\" xlink:href=\"#DejaVuSans-116\"/>\n",
       "      <use x=\"185.351562\" xlink:href=\"#DejaVuSans-105\"/>\n",
       "      <use x=\"213.134766\" xlink:href=\"#DejaVuSans-118\"/>\n",
       "      <use x=\"272.314453\" xlink:href=\"#DejaVuSans-97\"/>\n",
       "      <use x=\"333.59375\" xlink:href=\"#DejaVuSans-114\"/>\n",
       "      <use x=\"374.707031\" xlink:href=\"#DejaVuSans-48\"/>\n",
       "     </g>\n",
       "    </g>\n",
       "    <g id=\"PathCollection_5\">\n",
       "     <g>\n",
       "      <use style=\"fill:#ff7f0e;stroke:#ff7f0e;\" x=\"61.620313\" xlink:href=\"#m604613aa14\" y=\"35.851562\"/>\n",
       "     </g>\n",
       "    </g>\n",
       "    <g id=\"text_16\">\n",
       "     <!-- cultivar1 -->\n",
       "     <g transform=\"translate(79.620313 38.476562)scale(0.1 -0.1)\">\n",
       "      <use xlink:href=\"#DejaVuSans-99\"/>\n",
       "      <use x=\"54.980469\" xlink:href=\"#DejaVuSans-117\"/>\n",
       "      <use x=\"118.359375\" xlink:href=\"#DejaVuSans-108\"/>\n",
       "      <use x=\"146.142578\" xlink:href=\"#DejaVuSans-116\"/>\n",
       "      <use x=\"185.351562\" xlink:href=\"#DejaVuSans-105\"/>\n",
       "      <use x=\"213.134766\" xlink:href=\"#DejaVuSans-118\"/>\n",
       "      <use x=\"272.314453\" xlink:href=\"#DejaVuSans-97\"/>\n",
       "      <use x=\"333.59375\" xlink:href=\"#DejaVuSans-114\"/>\n",
       "      <use x=\"374.707031\" xlink:href=\"#DejaVuSans-49\"/>\n",
       "     </g>\n",
       "    </g>\n",
       "   </g>\n",
       "  </g>\n",
       " </g>\n",
       " <defs>\n",
       "  <clipPath id=\"pd245012c19\">\n",
       "   <rect height=\"217.44\" width=\"334.8\" x=\"42.620313\" y=\"7.2\"/>\n",
       "  </clipPath>\n",
       " </defs>\n",
       "</svg>\n"
      ],
      "text/plain": [
       "<Figure size 432x288 with 1 Axes>"
      ]
     },
     "metadata": {
      "needs_background": "light"
     },
     "output_type": "display_data"
    }
   ],
   "source": [
    "plt.scatter(df.loc[df.class_label==0, 'alcohol'], df.loc[df.class_label==0, 'ash'], label='cultivar0')\n",
    "plt.scatter(df.loc[df.class_label==1, 'alcohol'], df.loc[df.class_label==1, 'ash'], label='cultivar1')\n",
    "plt.xlabel('alcohol');\n",
    "plt.ylabel('ash');\n",
    "plt.legend(loc='upper left');\n",
    "\n",
    "plot_svc_decision_boundary(svm_wine, plot_support=True);"
   ]
  },
  {
   "cell_type": "markdown",
   "metadata": {},
   "source": [
    "Using this kernelized support vector machine, we learn a suitable nonlinear decision boundary.\n",
    "\n",
    "\n",
    "Question: What are the support vectors used to classify examples? (show them on the graph)"
   ]
  },
  {
   "cell_type": "code",
   "execution_count": 55,
   "metadata": {},
   "outputs": [
    {
     "data": {
      "text/plain": [
       "array([[ 0.28906609, -0.67719651],\n",
       "       [ 0.24388594,  1.11324246],\n",
       "       [ 0.33424624,  1.78887981],\n",
       "       [-0.01589994,  1.04567873],\n",
       "       [-0.10626024,  0.60651445],\n",
       "       [ 0.11964052,  2.97124517],\n",
       "       [ 0.40201647, -0.67719651],\n",
       "       [ 0.71827753,  0.06600457],\n",
       "       [ 0.60532715,  0.23491391],\n",
       "       [ 0.11964052,  0.70786005],\n",
       "       [ 0.14223059, -0.81232398],\n",
       "       [ 0.69568746, -0.10290477],\n",
       "       [ 0.52626189, -0.74476025],\n",
       "       [ 0.33424624, -0.1704685 ],\n",
       "       [ 0.11964052, -0.81232398],\n",
       "       [ 1.07971875, -0.74476025],\n",
       "       [ 0.11964052, -1.01501519],\n",
       "       [ 0.89899814, -0.30559597],\n",
       "       [ 0.39072143,  1.14702433],\n",
       "       [ 0.81993288, -1.42039759],\n",
       "       [-0.64842207,  0.74164192],\n",
       "       [ 0.18741075, -2.16359868],\n",
       "       [ 0.44719662,  0.06600457],\n",
       "       [ 1.0345386 ,  1.11324246],\n",
       "       [ 0.61662219, -0.33937784],\n",
       "       [ 0.05187029,  0.87676939],\n",
       "       [ 0.09705044, -2.12981681],\n",
       "       [-0.27568581,  0.20113204],\n",
       "       [-0.25309574, -0.47450531],\n",
       "       [ 0.11964052, -0.0691229 ],\n",
       "       [-0.30957093, -0.33937784],\n",
       "       [-0.28698085, -0.2718141 ],\n",
       "       [-0.68230718,  0.40382325],\n",
       "       [-0.25309574, -0.20425037],\n",
       "       [-1.33741939,  1.95778915],\n",
       "       [-0.19662055, -1.21770639],\n",
       "       [-1.56332015,  3.00502704],\n",
       "       [-0.59194688,  1.31593367],\n",
       "       [ 0.11964052, -0.71097838],\n",
       "       [-0.58065184, -0.1704685 ]])"
      ]
     },
     "execution_count": 55,
     "metadata": {},
     "output_type": "execute_result"
    }
   ],
   "source": [
    "svm_wine.support_vectors_"
   ]
  },
  {
   "cell_type": "markdown",
   "metadata": {},
   "source": [
    "#### Step 6.4.1 The role of the gamma parameter"
   ]
  },
  {
   "cell_type": "markdown",
   "metadata": {},
   "source": [
    "This parameter can be understood as the cut-off point for the Gaussian sphere. \n",
    "\n",
    "If we increase the value of gamma we increase the power of training examples (look at the RBF formula above to see the connection), which leads to a tighter and bumpier decision boundary. \n",
    "\n",
    "If we fit the training data very well (high gamma value) then we would likely end up with a high generalization error on unseen (test) data."
   ]
  },
  {
   "cell_type": "code",
   "execution_count": 85,
   "metadata": {},
   "outputs": [
    {
     "data": {
      "text/plain": [
       "SVC(C=5, gamma=0.5)"
      ]
     },
     "execution_count": 85,
     "metadata": {},
     "output_type": "execute_result"
    }
   ],
   "source": [
    "svm_wine = SVC(kernel='rbf', gamma=0.5, C=5) # change gamma from 0.1 to 5\n",
    "svm_wine.fit(X_std, y_std)"
   ]
  },
  {
   "cell_type": "code",
   "execution_count": 86,
   "metadata": {},
   "outputs": [
    {
     "data": {
      "image/png": "[encoded data removed]",
      "text/plain": [
       "<Figure size 432x288 with 1 Axes>"
      ]
     },
     "metadata": {
      "needs_background": "light"
     },
     "output_type": "display_data"
    }
   ],
   "source": [
    "plt.scatter(df.loc[df.class_label==0, 'alcohol'], df.loc[df.class_label==0, 'ash'], label='cultivar0')\n",
    "plt.scatter(df.loc[df.class_label==1, 'alcohol'], df.loc[df.class_label==1, 'ash'], label='cultivar1')\n",
    "plt.xlabel('alcohol');\n",
    "plt.ylabel('ash');\n",
    "plt.legend(loc='upper left');\n",
    "\n",
    "plot_svc_decision_boundary(svm_wine, plot_support=True);"
   ]
  },
  {
   "cell_type": "markdown",
   "metadata": {},
   "source": [
    "#### Step 6.4.2 The role of the regularization (C) parameter"
   ]
  },
  {
   "cell_type": "markdown",
   "metadata": {},
   "source": [
    "A familiar concept? Bias vs. Variance tradeoff"
   ]
  },
  {
   "cell_type": "markdown",
   "metadata": {},
   "source": [
    "If a model suffers from overfitting, we also say that the model has high variance (the model is too complex, fits very well the training data).\n",
    "\n",
    "If a model suffers from underfitting, we also say that the model has high bias (the model is not complex enough to capture the patern in the training data)."
   ]
  },
  {
   "cell_type": "markdown",
   "metadata": {},
   "source": [
    "Decreasing the value of C, increases the bias and lowers the variance. So when we decrease the value of C we increase the width of the margin."
   ]
  },
  {
   "cell_type": "code",
   "execution_count": 87,
   "metadata": {},
   "outputs": [
    {
     "data": {
      "image/png": "[encoded data removed]",
      "text/plain": [
       "<Figure size 864x288 with 2 Axes>"
      ]
     },
     "metadata": {
      "needs_background": "light"
     },
     "output_type": "display_data"
    }
   ],
   "source": [
    "C = [20.0, 0.1]\n",
    "\n",
    "plt.figure(figsize=(12, 4)) \n",
    "\n",
    "for i, c in enumerate(C):\n",
    "    # create sublots that are all on the same row\n",
    "    ax = plt.subplot(1, len(models), i+1)\n",
    "\n",
    "    svm_wine = SVC(kernel='linear', C=c)\n",
    "    svm_wine.fit(X_std, y_std)\n",
    "\n",
    "\n",
    "    plt.scatter(df.loc[df.class_label==0, 'alcohol'], df.loc[df.class_label==0, 'ash'], label='cultivar0')\n",
    "    plt.scatter(df.loc[df.class_label==1, 'alcohol'], df.loc[df.class_label==1, 'ash'], label='cultivar1')\n",
    "    plt.xlabel('alcohol');\n",
    "    plt.ylabel('ash');\n",
    "    plt.legend(loc='upper left');\n",
    "\n",
    "    plot_svc_decision_boundary(svm_wine, plot_support=True)\n",
    "\n",
    "    if i == 0:\n",
    "        plt.title('C = {0:.1f}'.format(c) + str(', i.e. large value of C'), size=14)\n",
    "    else:\n",
    "        plt.title('C = {0:.1f}'.format(c) + str(', i.e. small value of C'), size=14)"
   ]
  },
  {
   "cell_type": "markdown",
   "metadata": {},
   "source": [
    "### Additional exercises"
   ]
  },
  {
   "cell_type": "markdown",
   "metadata": {},
   "source": [
    "Using the wine dataset, execute the following tasks:\n",
    "\n",
    "   - [1] split the data into train and test examples:\n",
    "       - use train_test_split() method from scikit-learn's preprocessing module; set test_size parameter to 0.30;\n",
    "       - report number of observations in the train and test data;\n",
    "       \n",
    "       ``Add answer here:`` train = 91, test = 39\n",
    "       <br>\n",
    "       \n",
    "   - [2] fit a linear SVM on training data and predict on test data:\n",
    "       - set C hyperparameter to 1.0;\n",
    "       - report classification error for training and test data;\n",
    "       \n",
    "       ``Add answer here:`` 92.3% accuracy\n",
    "       <br>\n",
    "       \n",
    "   - [3] fit a kernel SVM on training data and predict on test data:\n",
    "       - set gamma and C hyperparameters to 0.20 and 10.0, respectively;\n",
    "       - report classification error for training and test data;\n",
    "       \n",
    "       ``Add answer here:`` 92.3% accuracy\n",
    "       <br>\n",
    "       \n",
    "   - [4] fit a kernel SVM on training data and predict on test data:\n",
    "       - set gamma and C hyperparameters to 0.20 and 1.0, respectively;\n",
    "       - report classification error for training and test data;\n",
    "       \n",
    "       ``Add answer here:`` 94.9% accuracy\n",
    "       <br>"
   ]
  },
  {
   "cell_type": "code",
   "execution_count": 88,
   "metadata": {},
   "outputs": [
    {
     "name": "stdout",
     "output_type": "stream",
     "text": [
      "91 91 39 39\n"
     ]
    }
   ],
   "source": [
    "# [1]\n",
    "from sklearn.model_selection import train_test_split\n",
    "\n",
    "X_train, X_test, y_train, y_test = train_test_split(X_std, y_std, test_size = 0.3) \n",
    "\n",
    "print(len(X_train),len(y_train),len(X_test),len(y_test))"
   ]
  },
  {
   "cell_type": "code",
   "execution_count": 90,
   "metadata": {},
   "outputs": [
    {
     "name": "stdout",
     "output_type": "stream",
     "text": [
      "accuracy: 0.9230769230769231\n",
      "[[19  2]\n",
      " [ 1 17]]\n"
     ]
    }
   ],
   "source": [
    "# [2]\n",
    "from sklearn import metrics as mt\n",
    "\n",
    "svm_wine_2 = SVC(kernel='linear', C=1.0)\n",
    "svm_wine_2.fit(X_train, y_train)\n",
    "\n",
    "y_hat_2 = svm_wine_2.predict(X_test) # get test set predictions\n",
    "\n",
    "acc_2 = mt.accuracy_score(y_test,y_hat_2)\n",
    "conf_2 = mt.confusion_matrix(y_test,y_hat_2)\n",
    "print('accuracy:', acc_2 )\n",
    "print(conf_2)"
   ]
  },
  {
   "cell_type": "code",
   "execution_count": 91,
   "metadata": {},
   "outputs": [
    {
     "name": "stdout",
     "output_type": "stream",
     "text": [
      "accuracy: 0.9230769230769231\n",
      "[[20  1]\n",
      " [ 2 16]]\n"
     ]
    }
   ],
   "source": [
    "# [3]\n",
    "\n",
    "svm_wine_3 = SVC(kernel='rbf', gamma=0.2, C=10.0)\n",
    "svm_wine_3.fit(X_train, y_train)\n",
    "\n",
    "y_hat_3 = svm_wine_3.predict(X_test) # get test set predictions\n",
    "\n",
    "acc_3 = mt.accuracy_score(y_test,y_hat_3)\n",
    "conf_3 = mt.confusion_matrix(y_test,y_hat_3)\n",
    "print('accuracy:', acc_3 )\n",
    "print(conf_3)"
   ]
  },
  {
   "cell_type": "code",
   "execution_count": 96,
   "metadata": {},
   "outputs": [
    {
     "name": "stdout",
     "output_type": "stream",
     "text": [
      "accuracy: 0.9487179487179487\n",
      "[[19  2]\n",
      " [ 0 18]]\n"
     ]
    }
   ],
   "source": [
    "# [4]\n",
    "\n",
    "svm_wine_4 = SVC(kernel='rbf', gamma=0.2, C=1.0)\n",
    "svm_wine_4.fit(X_train, y_train)\n",
    "\n",
    "y_hat_4 = svm_wine_4.predict(X_test) # get test set predictions\n",
    "\n",
    "acc_4 = mt.accuracy_score(y_test,y_hat_4)\n",
    "conf_4 = mt.confusion_matrix(y_test,y_hat_4)\n",
    "print('accuracy:', acc_4 )\n",
    "print(conf_4)"
   ]
  }
 ],
 "metadata": {
  "interpreter": {
   "hash": "ac790038bef2eac1a9d9ccab13fd5e8972b5c1c9ef161fffafb9eb23a97c981f"
  },
  "kernelspec": {
   "display_name": "Python 3",
   "language": "python",
   "name": "python3"
  },
  "language_info": {
   "codemirror_mode": {
    "name": "ipython",
    "version": 3
   },
   "file_extension": ".py",
   "mimetype": "text/x-python",
   "name": "python",
   "nbconvert_exporter": "python",
   "pygments_lexer": "ipython3",
   "version": "3.8.5"
  }
 },
 "nbformat": 4,
 "nbformat_minor": 4
}
