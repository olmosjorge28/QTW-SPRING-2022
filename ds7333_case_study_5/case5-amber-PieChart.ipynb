{
 "cells": [
  {
   "cell_type": "code",
   "execution_count": 1,
   "id": "4b1a68cd",
   "metadata": {},
   "outputs": [],
   "source": [
    "# standard libraries\n",
    "import pandas as pd\n",
    "import numpy as np\n",
    "import re\n",
    "import os\n",
    "from IPython.display import Image\n",
    "import sklearn\n",
    "import time\n",
    "import matplotlib.pyplot as plt\n",
    "import csv\n",
    "\n",
    "from sklearn.ensemble import RandomForestClassifier\n",
    "from sklearn import preprocessing\n",
    "from sklearn.metrics import accuracy_score\n",
    "from sklearn.model_selection import StratifiedShuffleSplit\n",
    "from sklearn.model_selection import train_test_split\n",
    "\n",
    "from sklearn import svm\n",
    "from sklearn.svm import SVC\n",
    "from sklearn.metrics import classification_report, confusion_matrix"
   ]
  },
  {
   "cell_type": "code",
   "execution_count": 2,
   "id": "723f1b31",
   "metadata": {},
   "outputs": [],
   "source": [
    "# csv file name\n",
    "filename = \"log2.csv\""
   ]
  },
  {
   "cell_type": "code",
   "execution_count": 3,
   "id": "479c55fa",
   "metadata": {},
   "outputs": [
    {
     "name": "stdout",
     "output_type": "stream",
     "text": [
      "Total no. of rows: 65533\n",
      "Field names are:Source Port, Destination Port, NAT Source Port, NAT Destination Port, Action, Bytes, Bytes Sent, Bytes Received, Packets, Elapsed Time (sec), pkts_sent, pkts_received\n"
     ]
    }
   ],
   "source": [
    "\n",
    "# initializing the titles and rows list\n",
    "fields = []\n",
    "rows = []\n",
    "\n",
    "# reading csv file\n",
    "with open(filename, 'r') as csvfile:\n",
    "\t# creating a csv reader object\n",
    "\tcsvreader = csv.reader(csvfile)\n",
    "\t\n",
    "\t# extracting field names through first row\n",
    "\tfields = next(csvreader)\n",
    "\n",
    "\t# extracting each data row one by one\n",
    "\tfor row in csvreader:\n",
    "\t\trows.append(row)\n",
    "\n",
    "\t# get total number of rows\n",
    "\tprint(\"Total no. of rows: %d\"%(csvreader.line_num))\n",
    "\n",
    "# printing the field names\n",
    "print('Field names are:' + ', '.join(field for field in fields))\n",
    "\n",
    "\n"
   ]
  },
  {
   "cell_type": "code",
   "execution_count": 4,
   "id": "08dd65f0",
   "metadata": {},
   "outputs": [],
   "source": [
    "# convert data set into dataframe\n",
    "df = pd.read_csv(r\"log2.csv\")"
   ]
  },
  {
   "cell_type": "code",
   "execution_count": 5,
   "id": "f8817aad",
   "metadata": {},
   "outputs": [],
   "source": [
    "# assign dependent and independent variables\n",
    "X = df[['Source Port', 'Destination Port', 'NAT Source Port', 'NAT Destination Port', 'Bytes', 'Bytes Sent', 'Bytes Received', 'Packets', 'Elapsed Time (sec)', 'pkts_sent', 'pkts_received']]"
   ]
  },
  {
   "cell_type": "code",
   "execution_count": 6,
   "id": "22470b86",
   "metadata": {},
   "outputs": [],
   "source": [
    "y = df['Action']"
   ]
  },
  {
   "cell_type": "code",
   "execution_count": 7,
   "id": "994f9ac4",
   "metadata": {},
   "outputs": [],
   "source": [
    "features = ['X','y']"
   ]
  },
  {
   "cell_type": "code",
   "execution_count": 8,
   "id": "63b58194",
   "metadata": {},
   "outputs": [],
   "source": [
    "# data pre-processing\n",
    "X = preprocessing.StandardScaler().fit(X).transform(X)"
   ]
  },
  {
   "cell_type": "code",
   "execution_count": 26,
   "id": "7a1ee15a",
   "metadata": {},
   "outputs": [],
   "source": [
    "X_train, X_test, y_train, y_test = train_test_split(X, y, test_size = 0.20)\n"
   ]
  },
  {
   "cell_type": "code",
   "execution_count": 27,
   "id": "cb530963",
   "metadata": {},
   "outputs": [
    {
     "data": {
      "text/plain": [
       "SVC(degree=2, kernel='poly')"
      ]
     },
     "execution_count": 27,
     "metadata": {},
     "output_type": "execute_result"
    }
   ],
   "source": [
    "model = svm.SVC(kernel='poly', degree=2)\n",
    "model.fit(X_train, y_train)"
   ]
  },
  {
   "cell_type": "code",
   "execution_count": 28,
   "id": "0208406e",
   "metadata": {},
   "outputs": [
    {
     "ename": "NameError",
     "evalue": "name 'svclassifier' is not defined",
     "output_type": "error",
     "traceback": [
      "\u001b[0;31m---------------------------------------------------------------------------\u001b[0m",
      "\u001b[0;31mNameError\u001b[0m                                 Traceback (most recent call last)",
      "\u001b[0;32m<ipython-input-28-a5a62e7485a7>\u001b[0m in \u001b[0;36m<module>\u001b[0;34m\u001b[0m\n\u001b[0;32m----> 1\u001b[0;31m \u001b[0my_pred\u001b[0m \u001b[0;34m=\u001b[0m \u001b[0msvclassifier\u001b[0m\u001b[0;34m.\u001b[0m\u001b[0mpredict\u001b[0m\u001b[0;34m(\u001b[0m\u001b[0mX_test\u001b[0m\u001b[0;34m)\u001b[0m\u001b[0;34m\u001b[0m\u001b[0;34m\u001b[0m\u001b[0m\n\u001b[0m",
      "\u001b[0;31mNameError\u001b[0m: name 'svclassifier' is not defined"
     ]
    }
   ],
   "source": [
    "y_pred = svclassifier.predict(X_test)"
   ]
  },
  {
   "cell_type": "code",
   "execution_count": null,
   "id": "6cda2e6e",
   "metadata": {},
   "outputs": [],
   "source": [
    "print(confusion_matrix(y_test, y_pred))\n",
    "print(classification_report(y_test, y_pred))"
   ]
  },
  {
   "cell_type": "code",
   "execution_count": null,
   "id": "079fc8ad",
   "metadata": {},
   "outputs": [],
   "source": []
  },
  {
   "cell_type": "code",
   "execution_count": null,
   "id": "49d35e1c",
   "metadata": {},
   "outputs": [],
   "source": []
  },
  {
   "cell_type": "code",
   "execution_count": null,
   "id": "db46992d",
   "metadata": {},
   "outputs": [],
   "source": []
  },
  {
   "cell_type": "code",
   "execution_count": null,
   "id": "f08d0c13",
   "metadata": {},
   "outputs": [],
   "source": [
    "from sklearn.metrics import accuracy_score\n",
    "predictions_poly = model.predict(X_test)\n",
    "accuracy_poly = accuracy_score(y_test, predictions_poly)\n",
    "print(\"2nd degree polynomial Kernel\\nAccuracy (normalized): \" + str(accuracy_poly))"
   ]
  },
  {
   "cell_type": "code",
   "execution_count": null,
   "id": "fccae24a",
   "metadata": {},
   "outputs": [],
   "source": [
    "svclassifier = SVC(kernel='linear')\n",
    "svclassifier.fit(X_train, y_train)"
   ]
  },
  {
   "cell_type": "code",
   "execution_count": null,
   "id": "0161b127",
   "metadata": {},
   "outputs": [],
   "source": [
    "Poly_y_pred = svclassifier.predict(X_test)"
   ]
  },
  {
   "cell_type": "code",
   "execution_count": null,
   "id": "85be5d99",
   "metadata": {},
   "outputs": [],
   "source": [
    "print(confusion_matrix(y_test,y_pred))\n",
    "print(classification_report(y_test,y_pred))"
   ]
  },
  {
   "cell_type": "code",
   "execution_count": null,
   "id": "8737f513",
   "metadata": {},
   "outputs": [],
   "source": []
  },
  {
   "cell_type": "code",
   "execution_count": null,
   "id": "beec2591",
   "metadata": {},
   "outputs": [],
   "source": []
  },
  {
   "cell_type": "code",
   "execution_count": null,
   "id": "51d212b6",
   "metadata": {},
   "outputs": [],
   "source": []
  },
  {
   "cell_type": "code",
   "execution_count": null,
   "id": "c3887bec",
   "metadata": {},
   "outputs": [],
   "source": []
  },
  {
   "cell_type": "code",
   "execution_count": null,
   "id": "b485dd6a",
   "metadata": {},
   "outputs": [],
   "source": []
  },
  {
   "cell_type": "code",
   "execution_count": null,
   "id": "531d7139",
   "metadata": {},
   "outputs": [],
   "source": []
  },
  {
   "cell_type": "code",
   "execution_count": null,
   "id": "7e331d92",
   "metadata": {},
   "outputs": [],
   "source": []
  },
  {
   "cell_type": "code",
   "execution_count": null,
   "id": "953e19d4",
   "metadata": {},
   "outputs": [],
   "source": []
  },
  {
   "cell_type": "code",
   "execution_count": null,
   "id": "7987b01d",
   "metadata": {},
   "outputs": [],
   "source": [
    "Gaussian"
   ]
  },
  {
   "cell_type": "code",
   "execution_count": null,
   "id": "299d1e66",
   "metadata": {},
   "outputs": [],
   "source": [
    "svclassifier = SVC(kernel='rbf')\n",
    "svclassifier.fit(X_train, y_train)"
   ]
  },
  {
   "cell_type": "code",
   "execution_count": null,
   "id": "2dbef180",
   "metadata": {},
   "outputs": [],
   "source": [
    "Gy_pred = svclassifier.predict(X_test)"
   ]
  },
  {
   "cell_type": "code",
   "execution_count": null,
   "id": "f4067160",
   "metadata": {},
   "outputs": [],
   "source": [
    "print(confusion_matrix(y_test, Gy_pred))\n",
    "print(classification_report(y_test, y_pred))"
   ]
  },
  {
   "cell_type": "code",
   "execution_count": null,
   "id": "d2b742f4",
   "metadata": {},
   "outputs": [],
   "source": []
  },
  {
   "cell_type": "code",
   "execution_count": null,
   "id": "169332e3",
   "metadata": {},
   "outputs": [],
   "source": []
  },
  {
   "cell_type": "code",
   "execution_count": null,
   "id": "ee760c94",
   "metadata": {},
   "outputs": [],
   "source": []
  },
  {
   "cell_type": "code",
   "execution_count": 9,
   "id": "b4754c56",
   "metadata": {},
   "outputs": [
    {
     "data": {
      "text/html": [
       "        <script type=\"text/javascript\">\n",
       "        window.PlotlyConfig = {MathJaxConfig: 'local'};\n",
       "        if (window.MathJax) {MathJax.Hub.Config({SVG: {font: \"STIX-Web\"}});}\n",
       "        if (typeof require !== 'undefined') {\n",
       "        require.undef(\"plotly\");\n",
       "        requirejs.config({\n",
       "            paths: {\n",
       "                'plotly': ['https://cdn.plot.ly/plotly-2.2.0.min']\n",
       "            }\n",
       "        });\n",
       "        require(['plotly'], function(Plotly) {\n",
       "            window._Plotly = Plotly;\n",
       "        });\n",
       "        }\n",
       "        </script>\n",
       "        "
      ]
     },
     "metadata": {},
     "output_type": "display_data"
    }
   ],
   "source": [
    "import plotly.offline as py\n",
    "py.init_notebook_mode(connected=True)\n",
    "import plotly.graph_objs as go\n",
    "import plotly.tools as tls\n"
   ]
  },
  {
   "cell_type": "code",
   "execution_count": 10,
   "id": "0a8e7f9a",
   "metadata": {},
   "outputs": [
    {
     "data": {
      "application/vnd.plotly.v1+json": {
       "config": {
        "linkText": "Export to plot.ly",
        "plotlyServerURL": "https://plot.ly",
        "showLink": false
       },
       "data": [
        {
         "labels": [
          "allow",
          "deny",
          "drop",
          "reset-both"
         ],
         "type": "pie",
         "values": [
          57.43758774339254,
          22.869743026307756,
          19.610266739913325,
          0.08240249038637612
         ]
        }
       ],
       "layout": {
        "template": {
         "data": {
          "bar": [
           {
            "error_x": {
             "color": "#2a3f5f"
            },
            "error_y": {
             "color": "#2a3f5f"
            },
            "marker": {
             "line": {
              "color": "#E5ECF6",
              "width": 0.5
             },
             "pattern": {
              "fillmode": "overlay",
              "size": 10,
              "solidity": 0.2
             }
            },
            "type": "bar"
           }
          ],
          "barpolar": [
           {
            "marker": {
             "line": {
              "color": "#E5ECF6",
              "width": 0.5
             },
             "pattern": {
              "fillmode": "overlay",
              "size": 10,
              "solidity": 0.2
             }
            },
            "type": "barpolar"
           }
          ],
          "carpet": [
           {
            "aaxis": {
             "endlinecolor": "#2a3f5f",
             "gridcolor": "white",
             "linecolor": "white",
             "minorgridcolor": "white",
             "startlinecolor": "#2a3f5f"
            },
            "baxis": {
             "endlinecolor": "#2a3f5f",
             "gridcolor": "white",
             "linecolor": "white",
             "minorgridcolor": "white",
             "startlinecolor": "#2a3f5f"
            },
            "type": "carpet"
           }
          ],
          "choropleth": [
           {
            "colorbar": {
             "outlinewidth": 0,
             "ticks": ""
            },
            "type": "choropleth"
           }
          ],
          "contour": [
           {
            "colorbar": {
             "outlinewidth": 0,
             "ticks": ""
            },
            "colorscale": [
             [
              0,
              "#0d0887"
             ],
             [
              0.1111111111111111,
              "#46039f"
             ],
             [
              0.2222222222222222,
              "#7201a8"
             ],
             [
              0.3333333333333333,
              "#9c179e"
             ],
             [
              0.4444444444444444,
              "#bd3786"
             ],
             [
              0.5555555555555556,
              "#d8576b"
             ],
             [
              0.6666666666666666,
              "#ed7953"
             ],
             [
              0.7777777777777778,
              "#fb9f3a"
             ],
             [
              0.8888888888888888,
              "#fdca26"
             ],
             [
              1,
              "#f0f921"
             ]
            ],
            "type": "contour"
           }
          ],
          "contourcarpet": [
           {
            "colorbar": {
             "outlinewidth": 0,
             "ticks": ""
            },
            "type": "contourcarpet"
           }
          ],
          "heatmap": [
           {
            "colorbar": {
             "outlinewidth": 0,
             "ticks": ""
            },
            "colorscale": [
             [
              0,
              "#0d0887"
             ],
             [
              0.1111111111111111,
              "#46039f"
             ],
             [
              0.2222222222222222,
              "#7201a8"
             ],
             [
              0.3333333333333333,
              "#9c179e"
             ],
             [
              0.4444444444444444,
              "#bd3786"
             ],
             [
              0.5555555555555556,
              "#d8576b"
             ],
             [
              0.6666666666666666,
              "#ed7953"
             ],
             [
              0.7777777777777778,
              "#fb9f3a"
             ],
             [
              0.8888888888888888,
              "#fdca26"
             ],
             [
              1,
              "#f0f921"
             ]
            ],
            "type": "heatmap"
           }
          ],
          "heatmapgl": [
           {
            "colorbar": {
             "outlinewidth": 0,
             "ticks": ""
            },
            "colorscale": [
             [
              0,
              "#0d0887"
             ],
             [
              0.1111111111111111,
              "#46039f"
             ],
             [
              0.2222222222222222,
              "#7201a8"
             ],
             [
              0.3333333333333333,
              "#9c179e"
             ],
             [
              0.4444444444444444,
              "#bd3786"
             ],
             [
              0.5555555555555556,
              "#d8576b"
             ],
             [
              0.6666666666666666,
              "#ed7953"
             ],
             [
              0.7777777777777778,
              "#fb9f3a"
             ],
             [
              0.8888888888888888,
              "#fdca26"
             ],
             [
              1,
              "#f0f921"
             ]
            ],
            "type": "heatmapgl"
           }
          ],
          "histogram": [
           {
            "marker": {
             "pattern": {
              "fillmode": "overlay",
              "size": 10,
              "solidity": 0.2
             }
            },
            "type": "histogram"
           }
          ],
          "histogram2d": [
           {
            "colorbar": {
             "outlinewidth": 0,
             "ticks": ""
            },
            "colorscale": [
             [
              0,
              "#0d0887"
             ],
             [
              0.1111111111111111,
              "#46039f"
             ],
             [
              0.2222222222222222,
              "#7201a8"
             ],
             [
              0.3333333333333333,
              "#9c179e"
             ],
             [
              0.4444444444444444,
              "#bd3786"
             ],
             [
              0.5555555555555556,
              "#d8576b"
             ],
             [
              0.6666666666666666,
              "#ed7953"
             ],
             [
              0.7777777777777778,
              "#fb9f3a"
             ],
             [
              0.8888888888888888,
              "#fdca26"
             ],
             [
              1,
              "#f0f921"
             ]
            ],
            "type": "histogram2d"
           }
          ],
          "histogram2dcontour": [
           {
            "colorbar": {
             "outlinewidth": 0,
             "ticks": ""
            },
            "colorscale": [
             [
              0,
              "#0d0887"
             ],
             [
              0.1111111111111111,
              "#46039f"
             ],
             [
              0.2222222222222222,
              "#7201a8"
             ],
             [
              0.3333333333333333,
              "#9c179e"
             ],
             [
              0.4444444444444444,
              "#bd3786"
             ],
             [
              0.5555555555555556,
              "#d8576b"
             ],
             [
              0.6666666666666666,
              "#ed7953"
             ],
             [
              0.7777777777777778,
              "#fb9f3a"
             ],
             [
              0.8888888888888888,
              "#fdca26"
             ],
             [
              1,
              "#f0f921"
             ]
            ],
            "type": "histogram2dcontour"
           }
          ],
          "mesh3d": [
           {
            "colorbar": {
             "outlinewidth": 0,
             "ticks": ""
            },
            "type": "mesh3d"
           }
          ],
          "parcoords": [
           {
            "line": {
             "colorbar": {
              "outlinewidth": 0,
              "ticks": ""
             }
            },
            "type": "parcoords"
           }
          ],
          "pie": [
           {
            "automargin": true,
            "type": "pie"
           }
          ],
          "scatter": [
           {
            "marker": {
             "colorbar": {
              "outlinewidth": 0,
              "ticks": ""
             }
            },
            "type": "scatter"
           }
          ],
          "scatter3d": [
           {
            "line": {
             "colorbar": {
              "outlinewidth": 0,
              "ticks": ""
             }
            },
            "marker": {
             "colorbar": {
              "outlinewidth": 0,
              "ticks": ""
             }
            },
            "type": "scatter3d"
           }
          ],
          "scattercarpet": [
           {
            "marker": {
             "colorbar": {
              "outlinewidth": 0,
              "ticks": ""
             }
            },
            "type": "scattercarpet"
           }
          ],
          "scattergeo": [
           {
            "marker": {
             "colorbar": {
              "outlinewidth": 0,
              "ticks": ""
             }
            },
            "type": "scattergeo"
           }
          ],
          "scattergl": [
           {
            "marker": {
             "colorbar": {
              "outlinewidth": 0,
              "ticks": ""
             }
            },
            "type": "scattergl"
           }
          ],
          "scattermapbox": [
           {
            "marker": {
             "colorbar": {
              "outlinewidth": 0,
              "ticks": ""
             }
            },
            "type": "scattermapbox"
           }
          ],
          "scatterpolar": [
           {
            "marker": {
             "colorbar": {
              "outlinewidth": 0,
              "ticks": ""
             }
            },
            "type": "scatterpolar"
           }
          ],
          "scatterpolargl": [
           {
            "marker": {
             "colorbar": {
              "outlinewidth": 0,
              "ticks": ""
             }
            },
            "type": "scatterpolargl"
           }
          ],
          "scatterternary": [
           {
            "marker": {
             "colorbar": {
              "outlinewidth": 0,
              "ticks": ""
             }
            },
            "type": "scatterternary"
           }
          ],
          "surface": [
           {
            "colorbar": {
             "outlinewidth": 0,
             "ticks": ""
            },
            "colorscale": [
             [
              0,
              "#0d0887"
             ],
             [
              0.1111111111111111,
              "#46039f"
             ],
             [
              0.2222222222222222,
              "#7201a8"
             ],
             [
              0.3333333333333333,
              "#9c179e"
             ],
             [
              0.4444444444444444,
              "#bd3786"
             ],
             [
              0.5555555555555556,
              "#d8576b"
             ],
             [
              0.6666666666666666,
              "#ed7953"
             ],
             [
              0.7777777777777778,
              "#fb9f3a"
             ],
             [
              0.8888888888888888,
              "#fdca26"
             ],
             [
              1,
              "#f0f921"
             ]
            ],
            "type": "surface"
           }
          ],
          "table": [
           {
            "cells": {
             "fill": {
              "color": "#EBF0F8"
             },
             "line": {
              "color": "white"
             }
            },
            "header": {
             "fill": {
              "color": "#C8D4E3"
             },
             "line": {
              "color": "white"
             }
            },
            "type": "table"
           }
          ]
         },
         "layout": {
          "annotationdefaults": {
           "arrowcolor": "#2a3f5f",
           "arrowhead": 0,
           "arrowwidth": 1
          },
          "autotypenumbers": "strict",
          "coloraxis": {
           "colorbar": {
            "outlinewidth": 0,
            "ticks": ""
           }
          },
          "colorscale": {
           "diverging": [
            [
             0,
             "#8e0152"
            ],
            [
             0.1,
             "#c51b7d"
            ],
            [
             0.2,
             "#de77ae"
            ],
            [
             0.3,
             "#f1b6da"
            ],
            [
             0.4,
             "#fde0ef"
            ],
            [
             0.5,
             "#f7f7f7"
            ],
            [
             0.6,
             "#e6f5d0"
            ],
            [
             0.7,
             "#b8e186"
            ],
            [
             0.8,
             "#7fbc41"
            ],
            [
             0.9,
             "#4d9221"
            ],
            [
             1,
             "#276419"
            ]
           ],
           "sequential": [
            [
             0,
             "#0d0887"
            ],
            [
             0.1111111111111111,
             "#46039f"
            ],
            [
             0.2222222222222222,
             "#7201a8"
            ],
            [
             0.3333333333333333,
             "#9c179e"
            ],
            [
             0.4444444444444444,
             "#bd3786"
            ],
            [
             0.5555555555555556,
             "#d8576b"
            ],
            [
             0.6666666666666666,
             "#ed7953"
            ],
            [
             0.7777777777777778,
             "#fb9f3a"
            ],
            [
             0.8888888888888888,
             "#fdca26"
            ],
            [
             1,
             "#f0f921"
            ]
           ],
           "sequentialminus": [
            [
             0,
             "#0d0887"
            ],
            [
             0.1111111111111111,
             "#46039f"
            ],
            [
             0.2222222222222222,
             "#7201a8"
            ],
            [
             0.3333333333333333,
             "#9c179e"
            ],
            [
             0.4444444444444444,
             "#bd3786"
            ],
            [
             0.5555555555555556,
             "#d8576b"
            ],
            [
             0.6666666666666666,
             "#ed7953"
            ],
            [
             0.7777777777777778,
             "#fb9f3a"
            ],
            [
             0.8888888888888888,
             "#fdca26"
            ],
            [
             1,
             "#f0f921"
            ]
           ]
          },
          "colorway": [
           "#636efa",
           "#EF553B",
           "#00cc96",
           "#ab63fa",
           "#FFA15A",
           "#19d3f3",
           "#FF6692",
           "#B6E880",
           "#FF97FF",
           "#FECB52"
          ],
          "font": {
           "color": "#2a3f5f"
          },
          "geo": {
           "bgcolor": "white",
           "lakecolor": "white",
           "landcolor": "#E5ECF6",
           "showlakes": true,
           "showland": true,
           "subunitcolor": "white"
          },
          "hoverlabel": {
           "align": "left"
          },
          "hovermode": "closest",
          "mapbox": {
           "style": "light"
          },
          "paper_bgcolor": "white",
          "plot_bgcolor": "#E5ECF6",
          "polar": {
           "angularaxis": {
            "gridcolor": "white",
            "linecolor": "white",
            "ticks": ""
           },
           "bgcolor": "#E5ECF6",
           "radialaxis": {
            "gridcolor": "white",
            "linecolor": "white",
            "ticks": ""
           }
          },
          "scene": {
           "xaxis": {
            "backgroundcolor": "#E5ECF6",
            "gridcolor": "white",
            "gridwidth": 2,
            "linecolor": "white",
            "showbackground": true,
            "ticks": "",
            "zerolinecolor": "white"
           },
           "yaxis": {
            "backgroundcolor": "#E5ECF6",
            "gridcolor": "white",
            "gridwidth": 2,
            "linecolor": "white",
            "showbackground": true,
            "ticks": "",
            "zerolinecolor": "white"
           },
           "zaxis": {
            "backgroundcolor": "#E5ECF6",
            "gridcolor": "white",
            "gridwidth": 2,
            "linecolor": "white",
            "showbackground": true,
            "ticks": "",
            "zerolinecolor": "white"
           }
          },
          "shapedefaults": {
           "line": {
            "color": "#2a3f5f"
           }
          },
          "ternary": {
           "aaxis": {
            "gridcolor": "white",
            "linecolor": "white",
            "ticks": ""
           },
           "baxis": {
            "gridcolor": "white",
            "linecolor": "white",
            "ticks": ""
           },
           "bgcolor": "#E5ECF6",
           "caxis": {
            "gridcolor": "white",
            "linecolor": "white",
            "ticks": ""
           }
          },
          "title": {
           "x": 0.05
          },
          "xaxis": {
           "automargin": true,
           "gridcolor": "white",
           "linecolor": "white",
           "ticks": "",
           "title": {
            "standoff": 15
           },
           "zerolinecolor": "white",
           "zerolinewidth": 2
          },
          "yaxis": {
           "automargin": true,
           "gridcolor": "white",
           "linecolor": "white",
           "ticks": "",
           "title": {
            "standoff": 15
           },
           "zerolinecolor": "white",
           "zerolinewidth": 2
          }
         }
        },
        "title": {
         "text": "Action"
        }
       }
      },
      "text/html": [
       "<div>                            <div id=\"4f774bf6-4274-4c7d-ae27-542573b43b89\" class=\"plotly-graph-div\" style=\"height:525px; width:100%;\"></div>            <script type=\"text/javascript\">                require([\"plotly\"], function(Plotly) {                    window.PLOTLYENV=window.PLOTLYENV || {};                                    if (document.getElementById(\"4f774bf6-4274-4c7d-ae27-542573b43b89\")) {                    Plotly.newPlot(                        \"4f774bf6-4274-4c7d-ae27-542573b43b89\",                        [{\"labels\":[\"allow\",\"deny\",\"drop\",\"reset-both\"],\"type\":\"pie\",\"values\":[57.43758774339254,22.869743026307756,19.610266739913325,0.08240249038637612]}],                        {\"template\":{\"data\":{\"bar\":[{\"error_x\":{\"color\":\"#2a3f5f\"},\"error_y\":{\"color\":\"#2a3f5f\"},\"marker\":{\"line\":{\"color\":\"#E5ECF6\",\"width\":0.5},\"pattern\":{\"fillmode\":\"overlay\",\"size\":10,\"solidity\":0.2}},\"type\":\"bar\"}],\"barpolar\":[{\"marker\":{\"line\":{\"color\":\"#E5ECF6\",\"width\":0.5},\"pattern\":{\"fillmode\":\"overlay\",\"size\":10,\"solidity\":0.2}},\"type\":\"barpolar\"}],\"carpet\":[{\"aaxis\":{\"endlinecolor\":\"#2a3f5f\",\"gridcolor\":\"white\",\"linecolor\":\"white\",\"minorgridcolor\":\"white\",\"startlinecolor\":\"#2a3f5f\"},\"baxis\":{\"endlinecolor\":\"#2a3f5f\",\"gridcolor\":\"white\",\"linecolor\":\"white\",\"minorgridcolor\":\"white\",\"startlinecolor\":\"#2a3f5f\"},\"type\":\"carpet\"}],\"choropleth\":[{\"colorbar\":{\"outlinewidth\":0,\"ticks\":\"\"},\"type\":\"choropleth\"}],\"contour\":[{\"colorbar\":{\"outlinewidth\":0,\"ticks\":\"\"},\"colorscale\":[[0.0,\"#0d0887\"],[0.1111111111111111,\"#46039f\"],[0.2222222222222222,\"#7201a8\"],[0.3333333333333333,\"#9c179e\"],[0.4444444444444444,\"#bd3786\"],[0.5555555555555556,\"#d8576b\"],[0.6666666666666666,\"#ed7953\"],[0.7777777777777778,\"#fb9f3a\"],[0.8888888888888888,\"#fdca26\"],[1.0,\"#f0f921\"]],\"type\":\"contour\"}],\"contourcarpet\":[{\"colorbar\":{\"outlinewidth\":0,\"ticks\":\"\"},\"type\":\"contourcarpet\"}],\"heatmap\":[{\"colorbar\":{\"outlinewidth\":0,\"ticks\":\"\"},\"colorscale\":[[0.0,\"#0d0887\"],[0.1111111111111111,\"#46039f\"],[0.2222222222222222,\"#7201a8\"],[0.3333333333333333,\"#9c179e\"],[0.4444444444444444,\"#bd3786\"],[0.5555555555555556,\"#d8576b\"],[0.6666666666666666,\"#ed7953\"],[0.7777777777777778,\"#fb9f3a\"],[0.8888888888888888,\"#fdca26\"],[1.0,\"#f0f921\"]],\"type\":\"heatmap\"}],\"heatmapgl\":[{\"colorbar\":{\"outlinewidth\":0,\"ticks\":\"\"},\"colorscale\":[[0.0,\"#0d0887\"],[0.1111111111111111,\"#46039f\"],[0.2222222222222222,\"#7201a8\"],[0.3333333333333333,\"#9c179e\"],[0.4444444444444444,\"#bd3786\"],[0.5555555555555556,\"#d8576b\"],[0.6666666666666666,\"#ed7953\"],[0.7777777777777778,\"#fb9f3a\"],[0.8888888888888888,\"#fdca26\"],[1.0,\"#f0f921\"]],\"type\":\"heatmapgl\"}],\"histogram\":[{\"marker\":{\"pattern\":{\"fillmode\":\"overlay\",\"size\":10,\"solidity\":0.2}},\"type\":\"histogram\"}],\"histogram2d\":[{\"colorbar\":{\"outlinewidth\":0,\"ticks\":\"\"},\"colorscale\":[[0.0,\"#0d0887\"],[0.1111111111111111,\"#46039f\"],[0.2222222222222222,\"#7201a8\"],[0.3333333333333333,\"#9c179e\"],[0.4444444444444444,\"#bd3786\"],[0.5555555555555556,\"#d8576b\"],[0.6666666666666666,\"#ed7953\"],[0.7777777777777778,\"#fb9f3a\"],[0.8888888888888888,\"#fdca26\"],[1.0,\"#f0f921\"]],\"type\":\"histogram2d\"}],\"histogram2dcontour\":[{\"colorbar\":{\"outlinewidth\":0,\"ticks\":\"\"},\"colorscale\":[[0.0,\"#0d0887\"],[0.1111111111111111,\"#46039f\"],[0.2222222222222222,\"#7201a8\"],[0.3333333333333333,\"#9c179e\"],[0.4444444444444444,\"#bd3786\"],[0.5555555555555556,\"#d8576b\"],[0.6666666666666666,\"#ed7953\"],[0.7777777777777778,\"#fb9f3a\"],[0.8888888888888888,\"#fdca26\"],[1.0,\"#f0f921\"]],\"type\":\"histogram2dcontour\"}],\"mesh3d\":[{\"colorbar\":{\"outlinewidth\":0,\"ticks\":\"\"},\"type\":\"mesh3d\"}],\"parcoords\":[{\"line\":{\"colorbar\":{\"outlinewidth\":0,\"ticks\":\"\"}},\"type\":\"parcoords\"}],\"pie\":[{\"automargin\":true,\"type\":\"pie\"}],\"scatter\":[{\"marker\":{\"colorbar\":{\"outlinewidth\":0,\"ticks\":\"\"}},\"type\":\"scatter\"}],\"scatter3d\":[{\"line\":{\"colorbar\":{\"outlinewidth\":0,\"ticks\":\"\"}},\"marker\":{\"colorbar\":{\"outlinewidth\":0,\"ticks\":\"\"}},\"type\":\"scatter3d\"}],\"scattercarpet\":[{\"marker\":{\"colorbar\":{\"outlinewidth\":0,\"ticks\":\"\"}},\"type\":\"scattercarpet\"}],\"scattergeo\":[{\"marker\":{\"colorbar\":{\"outlinewidth\":0,\"ticks\":\"\"}},\"type\":\"scattergeo\"}],\"scattergl\":[{\"marker\":{\"colorbar\":{\"outlinewidth\":0,\"ticks\":\"\"}},\"type\":\"scattergl\"}],\"scattermapbox\":[{\"marker\":{\"colorbar\":{\"outlinewidth\":0,\"ticks\":\"\"}},\"type\":\"scattermapbox\"}],\"scatterpolar\":[{\"marker\":{\"colorbar\":{\"outlinewidth\":0,\"ticks\":\"\"}},\"type\":\"scatterpolar\"}],\"scatterpolargl\":[{\"marker\":{\"colorbar\":{\"outlinewidth\":0,\"ticks\":\"\"}},\"type\":\"scatterpolargl\"}],\"scatterternary\":[{\"marker\":{\"colorbar\":{\"outlinewidth\":0,\"ticks\":\"\"}},\"type\":\"scatterternary\"}],\"surface\":[{\"colorbar\":{\"outlinewidth\":0,\"ticks\":\"\"},\"colorscale\":[[0.0,\"#0d0887\"],[0.1111111111111111,\"#46039f\"],[0.2222222222222222,\"#7201a8\"],[0.3333333333333333,\"#9c179e\"],[0.4444444444444444,\"#bd3786\"],[0.5555555555555556,\"#d8576b\"],[0.6666666666666666,\"#ed7953\"],[0.7777777777777778,\"#fb9f3a\"],[0.8888888888888888,\"#fdca26\"],[1.0,\"#f0f921\"]],\"type\":\"surface\"}],\"table\":[{\"cells\":{\"fill\":{\"color\":\"#EBF0F8\"},\"line\":{\"color\":\"white\"}},\"header\":{\"fill\":{\"color\":\"#C8D4E3\"},\"line\":{\"color\":\"white\"}},\"type\":\"table\"}]},\"layout\":{\"annotationdefaults\":{\"arrowcolor\":\"#2a3f5f\",\"arrowhead\":0,\"arrowwidth\":1},\"autotypenumbers\":\"strict\",\"coloraxis\":{\"colorbar\":{\"outlinewidth\":0,\"ticks\":\"\"}},\"colorscale\":{\"diverging\":[[0,\"#8e0152\"],[0.1,\"#c51b7d\"],[0.2,\"#de77ae\"],[0.3,\"#f1b6da\"],[0.4,\"#fde0ef\"],[0.5,\"#f7f7f7\"],[0.6,\"#e6f5d0\"],[0.7,\"#b8e186\"],[0.8,\"#7fbc41\"],[0.9,\"#4d9221\"],[1,\"#276419\"]],\"sequential\":[[0.0,\"#0d0887\"],[0.1111111111111111,\"#46039f\"],[0.2222222222222222,\"#7201a8\"],[0.3333333333333333,\"#9c179e\"],[0.4444444444444444,\"#bd3786\"],[0.5555555555555556,\"#d8576b\"],[0.6666666666666666,\"#ed7953\"],[0.7777777777777778,\"#fb9f3a\"],[0.8888888888888888,\"#fdca26\"],[1.0,\"#f0f921\"]],\"sequentialminus\":[[0.0,\"#0d0887\"],[0.1111111111111111,\"#46039f\"],[0.2222222222222222,\"#7201a8\"],[0.3333333333333333,\"#9c179e\"],[0.4444444444444444,\"#bd3786\"],[0.5555555555555556,\"#d8576b\"],[0.6666666666666666,\"#ed7953\"],[0.7777777777777778,\"#fb9f3a\"],[0.8888888888888888,\"#fdca26\"],[1.0,\"#f0f921\"]]},\"colorway\":[\"#636efa\",\"#EF553B\",\"#00cc96\",\"#ab63fa\",\"#FFA15A\",\"#19d3f3\",\"#FF6692\",\"#B6E880\",\"#FF97FF\",\"#FECB52\"],\"font\":{\"color\":\"#2a3f5f\"},\"geo\":{\"bgcolor\":\"white\",\"lakecolor\":\"white\",\"landcolor\":\"#E5ECF6\",\"showlakes\":true,\"showland\":true,\"subunitcolor\":\"white\"},\"hoverlabel\":{\"align\":\"left\"},\"hovermode\":\"closest\",\"mapbox\":{\"style\":\"light\"},\"paper_bgcolor\":\"white\",\"plot_bgcolor\":\"#E5ECF6\",\"polar\":{\"angularaxis\":{\"gridcolor\":\"white\",\"linecolor\":\"white\",\"ticks\":\"\"},\"bgcolor\":\"#E5ECF6\",\"radialaxis\":{\"gridcolor\":\"white\",\"linecolor\":\"white\",\"ticks\":\"\"}},\"scene\":{\"xaxis\":{\"backgroundcolor\":\"#E5ECF6\",\"gridcolor\":\"white\",\"gridwidth\":2,\"linecolor\":\"white\",\"showbackground\":true,\"ticks\":\"\",\"zerolinecolor\":\"white\"},\"yaxis\":{\"backgroundcolor\":\"#E5ECF6\",\"gridcolor\":\"white\",\"gridwidth\":2,\"linecolor\":\"white\",\"showbackground\":true,\"ticks\":\"\",\"zerolinecolor\":\"white\"},\"zaxis\":{\"backgroundcolor\":\"#E5ECF6\",\"gridcolor\":\"white\",\"gridwidth\":2,\"linecolor\":\"white\",\"showbackground\":true,\"ticks\":\"\",\"zerolinecolor\":\"white\"}},\"shapedefaults\":{\"line\":{\"color\":\"#2a3f5f\"}},\"ternary\":{\"aaxis\":{\"gridcolor\":\"white\",\"linecolor\":\"white\",\"ticks\":\"\"},\"baxis\":{\"gridcolor\":\"white\",\"linecolor\":\"white\",\"ticks\":\"\"},\"bgcolor\":\"#E5ECF6\",\"caxis\":{\"gridcolor\":\"white\",\"linecolor\":\"white\",\"ticks\":\"\"}},\"title\":{\"x\":0.05},\"xaxis\":{\"automargin\":true,\"gridcolor\":\"white\",\"linecolor\":\"white\",\"ticks\":\"\",\"title\":{\"standoff\":15},\"zerolinecolor\":\"white\",\"zerolinewidth\":2},\"yaxis\":{\"automargin\":true,\"gridcolor\":\"white\",\"linecolor\":\"white\",\"ticks\":\"\",\"title\":{\"standoff\":15},\"zerolinecolor\":\"white\",\"zerolinewidth\":2}}},\"title\":{\"text\":\"Action\"}},                        {\"responsive\": true}                    ).then(function(){\n",
       "                            \n",
       "var gd = document.getElementById('4f774bf6-4274-4c7d-ae27-542573b43b89');\n",
       "var x = new MutationObserver(function (mutations, observer) {{\n",
       "        var display = window.getComputedStyle(gd).display;\n",
       "        if (!display || display === 'none') {{\n",
       "            console.log([gd, 'removed!']);\n",
       "            Plotly.purge(gd);\n",
       "            observer.disconnect();\n",
       "        }}\n",
       "}});\n",
       "\n",
       "// Listen for the removal of the full notebook cells\n",
       "var notebookContainer = gd.closest('#notebook-container');\n",
       "if (notebookContainer) {{\n",
       "    x.observe(notebookContainer, {childList: true});\n",
       "}}\n",
       "\n",
       "// Listen for the clearing of the current output cell\n",
       "var outputEl = gd.closest('.output');\n",
       "if (outputEl) {{\n",
       "    x.observe(outputEl, {childList: true});\n",
       "}}\n",
       "\n",
       "                        })                };                });            </script>        </div>"
      ]
     },
     "metadata": {},
     "output_type": "display_data"
    }
   ],
   "source": [
    "area=df['Action'].value_counts()\n",
    "labels=(np.array(area.index))\n",
    "value=(np.array((area/area.sum())*100))\n",
    "trace=go.Pie(labels=labels,values=value)\n",
    "layout=go.Layout(title='Action')\n",
    "data=[trace]\n",
    "fig=go.Figure(data=data,layout=layout)\n",
    "py.iplot(fig,filename='Action')"
   ]
  },
  {
   "cell_type": "code",
   "execution_count": 11,
   "id": "b7bc9802",
   "metadata": {},
   "outputs": [
    {
     "data": {
      "application/vnd.plotly.v1+json": {
       "config": {
        "linkText": "Export to plot.ly",
        "plotlyServerURL": "https://plot.ly",
        "showLink": false
       },
       "data": [
        {
         "labels": [
          0,
          30,
          31,
          29,
          15,
          5,
          16,
          8,
          1200,
          32,
          26,
          25,
          120,
          33,
          17,
          4,
          7,
          18,
          28,
          20,
          135,
          27,
          121,
          19,
          6,
          1199,
          21,
          46,
          34,
          35,
          45,
          75,
          80,
          47,
          41,
          255,
          14,
          136,
          38,
          48,
          37,
          42,
          23,
          40,
          24,
          22,
          122,
          36,
          81,
          76,
          53,
          39,
          49,
          50,
          60,
          54,
          125,
          44,
          12,
          141,
          43,
          82,
          56,
          186,
          361,
          90,
          360,
          61,
          52,
          95,
          51,
          142,
          256,
          134,
          55,
          58,
          57,
          131,
          59,
          130,
          150,
          119,
          11,
          77,
          126,
          144,
          143,
          83,
          9,
          86,
          123,
          151,
          10,
          137,
          87,
          124,
          316,
          140,
          315,
          78,
          195,
          89,
          129,
          127,
          138,
          128,
          139,
          91,
          1,
          84,
          170,
          72,
          271,
          115,
          62,
          133,
          66,
          149,
          85,
          1201,
          200,
          88,
          96,
          104,
          63,
          194,
          64,
          185,
          94,
          92,
          193,
          3600,
          71,
          79,
          175,
          105,
          147,
          132,
          171,
          93,
          65,
          97,
          270,
          109,
          3609,
          275,
          70,
          362,
          108,
          148,
          181,
          74,
          196,
          100,
          145,
          118,
          69,
          152,
          180,
          110,
          187,
          330,
          68,
          98,
          153,
          201,
          116,
          159,
          67,
          323,
          203,
          161,
          155,
          102,
          192,
          172,
          158,
          156,
          165,
          113,
          176,
          224,
          146,
          103,
          114,
          154,
          99,
          111,
          177,
          318,
          162,
          167,
          3601,
          73,
          160,
          106,
          210,
          13,
          163,
          257,
          190,
          117,
          217,
          173,
          179,
          174,
          107,
          169,
          191,
          188,
          199,
          300,
          166,
          331,
          616,
          394,
          216,
          396,
          101,
          319,
          322,
          112,
          272,
          317,
          240,
          202,
          363,
          276,
          225,
          364,
          206,
          164,
          1209,
          182,
          214,
          320,
          183,
          515,
          262,
          198,
          241,
          215,
          247,
          208,
          326,
          274,
          157,
          345,
          218,
          280,
          383,
          184,
          212,
          197,
          400,
          221,
          234,
          392,
          204,
          332,
          248,
          321,
          982,
          333,
          243,
          205,
          278,
          263,
          305,
          259,
          244,
          3632,
          3610,
          350,
          304,
          395,
          258,
          265,
          403,
          418,
          231,
          588,
          178,
          324,
          329,
          303,
          239,
          287,
          283,
          236,
          189,
          299,
          251,
          246,
          213,
          309,
          358,
          325,
          273,
          1203,
          219,
          211,
          242,
          306,
          229,
          3631,
          343,
          2,
          979,
          279,
          3616,
          207,
          405,
          223,
          398,
          335,
          285,
          393,
          230,
          310,
          420,
          237,
          269,
          342,
          374,
          516,
          290,
          313,
          391,
          615,
          359,
          500,
          291,
          235,
          3002,
          168,
          347,
          376,
          232,
          220,
          227,
          612,
          296,
          337,
          386,
          252,
          334,
          983,
          3615,
          409,
          281,
          404,
          222,
          413,
          238,
          339,
          462,
          473,
          3602,
          341,
          348,
          209,
          282,
          373,
          314,
          338,
          375,
          346,
          370,
          508,
          254,
          415,
          407,
          629,
          367,
          476,
          336,
          579,
          387,
          416,
          384,
          640,
          423,
          293,
          357,
          421,
          397,
          301,
          1316,
          486,
          621,
          268,
          294,
          460,
          553,
          498,
          904,
          978,
          585,
          371,
          297,
          355,
          233,
          4073,
          627,
          402,
          1128,
          2615,
          450,
          401,
          2396,
          353,
          385,
          417,
          929,
          618,
          522,
          561,
          426,
          3005,
          753,
          1537,
          444,
          412,
          226,
          648,
          284,
          250,
          506,
          918,
          1208,
          984,
          600,
          438,
          261,
          312,
          517,
          3961,
          549,
          422,
          1143,
          1157,
          439,
          503,
          1624,
          981,
          442,
          601,
          308,
          611,
          436,
          477,
          995,
          3608,
          569,
          249,
          292,
          327,
          295,
          245,
          277,
          469,
          381,
          631,
          543,
          302,
          495,
          686,
          735,
          544,
          365,
          414,
          459,
          559,
          286,
          1216,
          622,
          587,
          623,
          1600,
          811,
          352,
          589,
          446,
          351,
          399,
          556,
          734,
          480,
          1647,
          1323,
          448,
          267,
          368,
          638,
          288,
          576,
          4443,
          452,
          704,
          608,
          4411,
          512,
          2424,
          5724,
          356,
          1598,
          1117,
          505,
          1118,
          1187,
          1283,
          5441,
          1411,
          1571,
          2149,
          1881,
          1657,
          3640,
          798,
          1465,
          1401,
          1273,
          228,
          5115,
          1017,
          2904,
          665,
          7261,
          548,
          1732,
          4379,
          3638,
          453,
          831,
          895,
          581,
          901,
          9115,
          6101,
          1119,
          1751,
          1559,
          708,
          1239,
          3454,
          5173,
          1061,
          9851,
          3742,
          5045,
          1695,
          919,
          389,
          671,
          607,
          344,
          996,
          1220,
          2433,
          1412,
          3685,
          1764,
          1720,
          2308,
          1496,
          1336,
          1176,
          952,
          792,
          632,
          4602,
          504,
          447,
          440,
          408,
          739,
          762,
          643,
          1531,
          3745,
          3037,
          4156,
          1696,
          732,
          572,
          1601,
          3744,
          4220,
          6269,
          354,
          3617,
          5442,
          514,
          610,
          706,
          738,
          1122,
          4126,
          3587,
          1595,
          3293,
          3325,
          1372,
          289,
          829,
          797,
          637,
          541,
          5215,
          5922,
          1341,
          349,
          1469,
          1501,
          1629,
          253,
          449,
          1565,
          3136,
          1121,
          1409,
          1980,
          1724,
          3676,
          3619,
          1371,
          606,
          1211,
          2338,
          382,
          6557,
          451,
          483,
          547,
          4153,
          1626,
          1562,
          5528,
          1274,
          1210,
          3163,
          1082,
          954,
          7038,
          730,
          2495,
          410,
          574,
          378,
          6392,
          736,
          2298,
          539,
          1179,
          1019,
          5113,
          5346,
          987,
          4981,
          6872,
          4793,
          667,
          507,
          832,
          475,
          379,
          2426,
          1794,
          928,
          3971,
          3,
          2242,
          2335,
          3747,
          685,
          727,
          1616,
          650,
          3051,
          3115,
          1130,
          1162,
          3243,
          1610,
          1802,
          4017,
          7827,
          3729,
          3665,
          3633,
          458,
          8169,
          1232,
          4265,
          3153,
          1072,
          3089,
          1008,
          944,
          2961,
          624,
          560,
          464,
          2384,
          369,
          2378,
          2033,
          681,
          2355,
          713,
          809,
          841,
          3656,
          1801,
          3944,
          1929,
          4232,
          266,
          298,
          3696,
          625,
          2411,
          1457,
          5491,
          1329,
          3376,
          3312,
          2475,
          1169,
          3088,
          977,
          945,
          721,
          432,
          2410,
          434,
          3661,
          1614,
          3629,
          1582,
          3599,
          1550,
          1454,
          1262,
          1166,
          1102,
          846,
          750,
          4588,
          430,
          1806,
          1740,
          6062,
          2188,
          461,
          525,
          10824,
          1773,
          3724,
          1485,
          1261,
          1197,
          813,
          1710,
          1902,
          2321,
          3342,
          427,
          491,
          555,
          619,
          4146,
          5193,
          1099,
          1775,
          5805,
          5581,
          3438,
          1327,
          1195,
          1580,
          751,
          2766,
          591,
          4653,
          463,
          3786,
          428,
          492,
          524,
          620,
          652,
          1004,
          649,
          466,
          567,
          917,
          1126,
          1190,
          1286,
          1638,
          1766,
          1798,
          4020,
          1781,
          3828,
          3764,
          3604,
          5271,
          757,
          2983,
          2804,
          693,
          2054,
          597,
          501,
          437,
          4133,
          6308,
          2310,
          2342,
          4485,
          455,
          966,
          902,
          6660,
          614,
          471,
          1253,
          1285,
          3620,
          1573,
          3652,
          4309,
          2311,
          390,
          454,
          1526,
          1142,
          854,
          870,
          822,
          694,
          662,
          630,
          598,
          717,
          566,
          534,
          470,
          406,
          4772,
          806,
          487,
          3957,
          626,
          307,
          3826,
          3666,
          1587,
          1555,
          2889,
          1267,
          1075,
          1043,
          723,
          467,
          1320,
          1544,
          6090,
          488,
          6122,
          425,
          2162,
          521,
          3827,
          1682,
          3603,
          1490,
          3411,
          1298,
          2899,
          658,
          520,
          264,
          5974,
          2901,
          3669,
          3637,
          3605,
          1300,
          3221,
          1172,
          1140,
          1108,
          1044,
          980,
          916,
          884,
          788,
          5925,
          8912,
          660,
          532,
          2758,
          468,
          775,
          2421,
          340,
          807,
          9283,
          1095,
          1191,
          3838
         ],
         "type": "pie",
         "values": [
          43.13159982909113,
          15.751083440151376,
          5.0784349630714765,
          3.265580174571202,
          2.7757431483855215,
          2.061588231703595,
          1.522920100103766,
          1.2848684612097907,
          0.933894891045596,
          0.7690899102728438,
          0.6851614478422755,
          0.6195446499420131,
          0.6195446499420131,
          0.5752914606604407,
          0.5646096563510956,
          0.5646096563510956,
          0.5539278520417505,
          0.4211682841970335,
          0.3845449551364219,
          0.38301898309222976,
          0.3723371787828847,
          0.37081120673869256,
          0.3540255142525789,
          0.30824635292681435,
          0.2990905206616615,
          0.29756454861746934,
          0.28688274430812427,
          0.27925288408716353,
          0.26857107977781847,
          0.2578892754684734,
          0.2456814991149362,
          0.23499969480559116,
          0.233473722761399,
          0.2212659464078618,
          0.20753219801013245,
          0.20142830983336385,
          0.1876945614356345,
          0.18311664530305805,
          0.18311664530305805,
          0.17396081303790514,
          0.1693828969053287,
          0.16633095281694438,
          0.16633095281694438,
          0.16175303668436794,
          0.1571751205517915,
          0.1571751205517915,
          0.1510712323750229,
          0.1449673441982543,
          0.14038942806567783,
          0.13733748397729353,
          0.13733748397729353,
          0.1327595678447171,
          0.13123359580052493,
          0.12512970762375633,
          0.12512970762375633,
          0.12055179149117988,
          0.12055179149117988,
          0.11902581944698773,
          0.10834401513764268,
          0.10681804309345053,
          0.10529207104925838,
          0.10376609900506623,
          0.10224012696087408,
          0.10071415491668192,
          0.09918818287248977,
          0.09918818287248977,
          0.09766221082829762,
          0.09766221082829762,
          0.09613623878410547,
          0.09613623878410547,
          0.09613623878410547,
          0.09613623878410547,
          0.09613623878410547,
          0.09461026673991332,
          0.09308429469572117,
          0.09308429469572117,
          0.09155832265152902,
          0.08698040651895257,
          0.08698040651895257,
          0.08698040651895257,
          0.08392846243056827,
          0.08087651834218397,
          0.07935054629799182,
          0.07935054629799182,
          0.07935054629799182,
          0.07782457425379967,
          0.07782457425379967,
          0.07629860220960752,
          0.07629860220960752,
          0.07629860220960752,
          0.07477263016541537,
          0.07477263016541537,
          0.07324665812122322,
          0.07324665812122322,
          0.07324665812122322,
          0.07324665812122322,
          0.07324665812122322,
          0.07172068607703107,
          0.07172068607703107,
          0.07019471403283892,
          0.06866874198864677,
          0.06866874198864677,
          0.06714276994445462,
          0.06561679790026247,
          0.06561679790026247,
          0.06561679790026247,
          0.06409082585607032,
          0.06256485381187817,
          0.06256485381187817,
          0.059512909723493865,
          0.059512909723493865,
          0.057986937679301714,
          0.057986937679301714,
          0.056460965635109564,
          0.056460965635109564,
          0.054934993590917414,
          0.054934993590917414,
          0.054934993590917414,
          0.05340902154672526,
          0.05340902154672526,
          0.05340902154672526,
          0.05188304950253311,
          0.05188304950253311,
          0.05035707745834096,
          0.05035707745834096,
          0.04883110541414881,
          0.04730513336995666,
          0.04730513336995666,
          0.04730513336995666,
          0.04730513336995666,
          0.04577916132576451,
          0.04577916132576451,
          0.04577916132576451,
          0.04425318928157236,
          0.04425318928157236,
          0.04425318928157236,
          0.04425318928157236,
          0.04272721723738021,
          0.04272721723738021,
          0.04272721723738021,
          0.04120124519318806,
          0.04120124519318806,
          0.04120124519318806,
          0.03967527314899591,
          0.03967527314899591,
          0.03967527314899591,
          0.03967527314899591,
          0.03814930110480376,
          0.03814930110480376,
          0.03814930110480376,
          0.03662332906061161,
          0.03662332906061161,
          0.03662332906061161,
          0.03662332906061161,
          0.03662332906061161,
          0.03509735701641946,
          0.03509735701641946,
          0.03509735701641946,
          0.03357138497222731,
          0.03357138497222731,
          0.03357138497222731,
          0.03204541292803516,
          0.03204541292803516,
          0.03204541292803516,
          0.03204541292803516,
          0.03204541292803516,
          0.03204541292803516,
          0.03204541292803516,
          0.030519440883843008,
          0.030519440883843008,
          0.030519440883843008,
          0.028993468839650857,
          0.028993468839650857,
          0.027467496795458707,
          0.025941524751266556,
          0.025941524751266556,
          0.025941524751266556,
          0.025941524751266556,
          0.025941524751266556,
          0.024415552707074406,
          0.024415552707074406,
          0.024415552707074406,
          0.024415552707074406,
          0.024415552707074406,
          0.024415552707074406,
          0.024415552707074406,
          0.024415552707074406,
          0.024415552707074406,
          0.022889580662882256,
          0.022889580662882256,
          0.022889580662882256,
          0.022889580662882256,
          0.022889580662882256,
          0.022889580662882256,
          0.022889580662882256,
          0.022889580662882256,
          0.022889580662882256,
          0.021363608618690105,
          0.021363608618690105,
          0.021363608618690105,
          0.021363608618690105,
          0.021363608618690105,
          0.019837636574497955,
          0.019837636574497955,
          0.019837636574497955,
          0.019837636574497955,
          0.018311664530305805,
          0.018311664530305805,
          0.018311664530305805,
          0.018311664530305805,
          0.018311664530305805,
          0.018311664530305805,
          0.018311664530305805,
          0.016785692486113654,
          0.016785692486113654,
          0.016785692486113654,
          0.016785692486113654,
          0.016785692486113654,
          0.016785692486113654,
          0.016785692486113654,
          0.016785692486113654,
          0.016785692486113654,
          0.015259720441921504,
          0.015259720441921504,
          0.015259720441921504,
          0.015259720441921504,
          0.015259720441921504,
          0.015259720441921504,
          0.015259720441921504,
          0.015259720441921504,
          0.015259720441921504,
          0.013733748397729353,
          0.013733748397729353,
          0.013733748397729353,
          0.013733748397729353,
          0.013733748397729353,
          0.013733748397729353,
          0.013733748397729353,
          0.013733748397729353,
          0.013733748397729353,
          0.013733748397729353,
          0.013733748397729353,
          0.013733748397729353,
          0.013733748397729353,
          0.012207776353537203,
          0.012207776353537203,
          0.012207776353537203,
          0.012207776353537203,
          0.012207776353537203,
          0.012207776353537203,
          0.012207776353537203,
          0.012207776353537203,
          0.012207776353537203,
          0.012207776353537203,
          0.010681804309345053,
          0.010681804309345053,
          0.010681804309345053,
          0.010681804309345053,
          0.010681804309345053,
          0.010681804309345053,
          0.010681804309345053,
          0.010681804309345053,
          0.010681804309345053,
          0.010681804309345053,
          0.010681804309345053,
          0.010681804309345053,
          0.010681804309345053,
          0.009155832265152902,
          0.009155832265152902,
          0.009155832265152902,
          0.009155832265152902,
          0.009155832265152902,
          0.009155832265152902,
          0.009155832265152902,
          0.009155832265152902,
          0.009155832265152902,
          0.009155832265152902,
          0.009155832265152902,
          0.009155832265152902,
          0.009155832265152902,
          0.009155832265152902,
          0.009155832265152902,
          0.009155832265152902,
          0.009155832265152902,
          0.009155832265152902,
          0.007629860220960752,
          0.007629860220960752,
          0.007629860220960752,
          0.007629860220960752,
          0.007629860220960752,
          0.007629860220960752,
          0.007629860220960752,
          0.007629860220960752,
          0.007629860220960752,
          0.007629860220960752,
          0.007629860220960752,
          0.007629860220960752,
          0.007629860220960752,
          0.007629860220960752,
          0.007629860220960752,
          0.007629860220960752,
          0.007629860220960752,
          0.007629860220960752,
          0.007629860220960752,
          0.007629860220960752,
          0.0061038881767686015,
          0.0061038881767686015,
          0.0061038881767686015,
          0.0061038881767686015,
          0.0061038881767686015,
          0.0061038881767686015,
          0.0061038881767686015,
          0.0061038881767686015,
          0.0061038881767686015,
          0.0061038881767686015,
          0.0061038881767686015,
          0.0061038881767686015,
          0.0061038881767686015,
          0.0061038881767686015,
          0.0061038881767686015,
          0.0061038881767686015,
          0.0061038881767686015,
          0.0061038881767686015,
          0.0061038881767686015,
          0.0061038881767686015,
          0.0061038881767686015,
          0.0061038881767686015,
          0.0061038881767686015,
          0.0061038881767686015,
          0.0061038881767686015,
          0.0061038881767686015,
          0.0061038881767686015,
          0.0061038881767686015,
          0.0061038881767686015,
          0.0061038881767686015,
          0.0061038881767686015,
          0.0061038881767686015,
          0.0061038881767686015,
          0.0061038881767686015,
          0.0061038881767686015,
          0.0061038881767686015,
          0.0061038881767686015,
          0.0061038881767686015,
          0.0061038881767686015,
          0.0061038881767686015,
          0.0061038881767686015,
          0.004577916132576451,
          0.004577916132576451,
          0.004577916132576451,
          0.004577916132576451,
          0.004577916132576451,
          0.004577916132576451,
          0.004577916132576451,
          0.004577916132576451,
          0.004577916132576451,
          0.004577916132576451,
          0.004577916132576451,
          0.004577916132576451,
          0.004577916132576451,
          0.004577916132576451,
          0.004577916132576451,
          0.004577916132576451,
          0.004577916132576451,
          0.004577916132576451,
          0.004577916132576451,
          0.004577916132576451,
          0.004577916132576451,
          0.004577916132576451,
          0.004577916132576451,
          0.004577916132576451,
          0.004577916132576451,
          0.004577916132576451,
          0.004577916132576451,
          0.004577916132576451,
          0.004577916132576451,
          0.004577916132576451,
          0.004577916132576451,
          0.004577916132576451,
          0.004577916132576451,
          0.004577916132576451,
          0.004577916132576451,
          0.004577916132576451,
          0.004577916132576451,
          0.004577916132576451,
          0.004577916132576451,
          0.004577916132576451,
          0.004577916132576451,
          0.004577916132576451,
          0.004577916132576451,
          0.004577916132576451,
          0.004577916132576451,
          0.004577916132576451,
          0.004577916132576451,
          0.004577916132576451,
          0.0030519440883843008,
          0.0030519440883843008,
          0.0030519440883843008,
          0.0030519440883843008,
          0.0030519440883843008,
          0.0030519440883843008,
          0.0030519440883843008,
          0.0030519440883843008,
          0.0030519440883843008,
          0.0030519440883843008,
          0.0030519440883843008,
          0.0030519440883843008,
          0.0030519440883843008,
          0.0030519440883843008,
          0.0030519440883843008,
          0.0030519440883843008,
          0.0030519440883843008,
          0.0030519440883843008,
          0.0030519440883843008,
          0.0030519440883843008,
          0.0030519440883843008,
          0.0030519440883843008,
          0.0030519440883843008,
          0.0030519440883843008,
          0.0030519440883843008,
          0.0030519440883843008,
          0.0030519440883843008,
          0.0030519440883843008,
          0.0030519440883843008,
          0.0030519440883843008,
          0.0030519440883843008,
          0.0030519440883843008,
          0.0030519440883843008,
          0.0030519440883843008,
          0.0030519440883843008,
          0.0030519440883843008,
          0.0030519440883843008,
          0.0030519440883843008,
          0.0030519440883843008,
          0.0030519440883843008,
          0.0030519440883843008,
          0.0030519440883843008,
          0.0030519440883843008,
          0.0030519440883843008,
          0.0030519440883843008,
          0.0030519440883843008,
          0.0030519440883843008,
          0.0030519440883843008,
          0.0030519440883843008,
          0.0030519440883843008,
          0.0030519440883843008,
          0.0030519440883843008,
          0.0030519440883843008,
          0.0030519440883843008,
          0.0030519440883843008,
          0.0030519440883843008,
          0.0030519440883843008,
          0.0030519440883843008,
          0.0030519440883843008,
          0.0030519440883843008,
          0.0030519440883843008,
          0.0030519440883843008,
          0.0030519440883843008,
          0.0030519440883843008,
          0.0030519440883843008,
          0.0030519440883843008,
          0.0030519440883843008,
          0.0030519440883843008,
          0.0030519440883843008,
          0.0030519440883843008,
          0.0030519440883843008,
          0.0030519440883843008,
          0.0030519440883843008,
          0.0030519440883843008,
          0.0030519440883843008,
          0.0030519440883843008,
          0.0030519440883843008,
          0.0030519440883843008,
          0.0030519440883843008,
          0.0030519440883843008,
          0.0030519440883843008,
          0.0030519440883843008,
          0.0030519440883843008,
          0.0030519440883843008,
          0.0030519440883843008,
          0.0030519440883843008,
          0.0030519440883843008,
          0.0030519440883843008,
          0.0030519440883843008,
          0.0030519440883843008,
          0.0030519440883843008,
          0.0030519440883843008,
          0.0030519440883843008,
          0.0030519440883843008,
          0.0030519440883843008,
          0.0030519440883843008,
          0.0030519440883843008,
          0.0030519440883843008,
          0.0030519440883843008,
          0.0030519440883843008,
          0.0030519440883843008,
          0.0030519440883843008,
          0.0015259720441921504,
          0.0015259720441921504,
          0.0015259720441921504,
          0.0015259720441921504,
          0.0015259720441921504,
          0.0015259720441921504,
          0.0015259720441921504,
          0.0015259720441921504,
          0.0015259720441921504,
          0.0015259720441921504,
          0.0015259720441921504,
          0.0015259720441921504,
          0.0015259720441921504,
          0.0015259720441921504,
          0.0015259720441921504,
          0.0015259720441921504,
          0.0015259720441921504,
          0.0015259720441921504,
          0.0015259720441921504,
          0.0015259720441921504,
          0.0015259720441921504,
          0.0015259720441921504,
          0.0015259720441921504,
          0.0015259720441921504,
          0.0015259720441921504,
          0.0015259720441921504,
          0.0015259720441921504,
          0.0015259720441921504,
          0.0015259720441921504,
          0.0015259720441921504,
          0.0015259720441921504,
          0.0015259720441921504,
          0.0015259720441921504,
          0.0015259720441921504,
          0.0015259720441921504,
          0.0015259720441921504,
          0.0015259720441921504,
          0.0015259720441921504,
          0.0015259720441921504,
          0.0015259720441921504,
          0.0015259720441921504,
          0.0015259720441921504,
          0.0015259720441921504,
          0.0015259720441921504,
          0.0015259720441921504,
          0.0015259720441921504,
          0.0015259720441921504,
          0.0015259720441921504,
          0.0015259720441921504,
          0.0015259720441921504,
          0.0015259720441921504,
          0.0015259720441921504,
          0.0015259720441921504,
          0.0015259720441921504,
          0.0015259720441921504,
          0.0015259720441921504,
          0.0015259720441921504,
          0.0015259720441921504,
          0.0015259720441921504,
          0.0015259720441921504,
          0.0015259720441921504,
          0.0015259720441921504,
          0.0015259720441921504,
          0.0015259720441921504,
          0.0015259720441921504,
          0.0015259720441921504,
          0.0015259720441921504,
          0.0015259720441921504,
          0.0015259720441921504,
          0.0015259720441921504,
          0.0015259720441921504,
          0.0015259720441921504,
          0.0015259720441921504,
          0.0015259720441921504,
          0.0015259720441921504,
          0.0015259720441921504,
          0.0015259720441921504,
          0.0015259720441921504,
          0.0015259720441921504,
          0.0015259720441921504,
          0.0015259720441921504,
          0.0015259720441921504,
          0.0015259720441921504,
          0.0015259720441921504,
          0.0015259720441921504,
          0.0015259720441921504,
          0.0015259720441921504,
          0.0015259720441921504,
          0.0015259720441921504,
          0.0015259720441921504,
          0.0015259720441921504,
          0.0015259720441921504,
          0.0015259720441921504,
          0.0015259720441921504,
          0.0015259720441921504,
          0.0015259720441921504,
          0.0015259720441921504,
          0.0015259720441921504,
          0.0015259720441921504,
          0.0015259720441921504,
          0.0015259720441921504,
          0.0015259720441921504,
          0.0015259720441921504,
          0.0015259720441921504,
          0.0015259720441921504,
          0.0015259720441921504,
          0.0015259720441921504,
          0.0015259720441921504,
          0.0015259720441921504,
          0.0015259720441921504,
          0.0015259720441921504,
          0.0015259720441921504,
          0.0015259720441921504,
          0.0015259720441921504,
          0.0015259720441921504,
          0.0015259720441921504,
          0.0015259720441921504,
          0.0015259720441921504,
          0.0015259720441921504,
          0.0015259720441921504,
          0.0015259720441921504,
          0.0015259720441921504,
          0.0015259720441921504,
          0.0015259720441921504,
          0.0015259720441921504,
          0.0015259720441921504,
          0.0015259720441921504,
          0.0015259720441921504,
          0.0015259720441921504,
          0.0015259720441921504,
          0.0015259720441921504,
          0.0015259720441921504,
          0.0015259720441921504,
          0.0015259720441921504,
          0.0015259720441921504,
          0.0015259720441921504,
          0.0015259720441921504,
          0.0015259720441921504,
          0.0015259720441921504,
          0.0015259720441921504,
          0.0015259720441921504,
          0.0015259720441921504,
          0.0015259720441921504,
          0.0015259720441921504,
          0.0015259720441921504,
          0.0015259720441921504,
          0.0015259720441921504,
          0.0015259720441921504,
          0.0015259720441921504,
          0.0015259720441921504,
          0.0015259720441921504,
          0.0015259720441921504,
          0.0015259720441921504,
          0.0015259720441921504,
          0.0015259720441921504,
          0.0015259720441921504,
          0.0015259720441921504,
          0.0015259720441921504,
          0.0015259720441921504,
          0.0015259720441921504,
          0.0015259720441921504,
          0.0015259720441921504,
          0.0015259720441921504,
          0.0015259720441921504,
          0.0015259720441921504,
          0.0015259720441921504,
          0.0015259720441921504,
          0.0015259720441921504,
          0.0015259720441921504,
          0.0015259720441921504,
          0.0015259720441921504,
          0.0015259720441921504,
          0.0015259720441921504,
          0.0015259720441921504,
          0.0015259720441921504,
          0.0015259720441921504,
          0.0015259720441921504,
          0.0015259720441921504,
          0.0015259720441921504,
          0.0015259720441921504,
          0.0015259720441921504,
          0.0015259720441921504,
          0.0015259720441921504,
          0.0015259720441921504,
          0.0015259720441921504,
          0.0015259720441921504,
          0.0015259720441921504,
          0.0015259720441921504,
          0.0015259720441921504,
          0.0015259720441921504,
          0.0015259720441921504,
          0.0015259720441921504,
          0.0015259720441921504,
          0.0015259720441921504,
          0.0015259720441921504,
          0.0015259720441921504,
          0.0015259720441921504,
          0.0015259720441921504,
          0.0015259720441921504,
          0.0015259720441921504,
          0.0015259720441921504,
          0.0015259720441921504,
          0.0015259720441921504,
          0.0015259720441921504,
          0.0015259720441921504,
          0.0015259720441921504,
          0.0015259720441921504,
          0.0015259720441921504,
          0.0015259720441921504,
          0.0015259720441921504,
          0.0015259720441921504,
          0.0015259720441921504,
          0.0015259720441921504,
          0.0015259720441921504,
          0.0015259720441921504,
          0.0015259720441921504,
          0.0015259720441921504,
          0.0015259720441921504,
          0.0015259720441921504,
          0.0015259720441921504,
          0.0015259720441921504,
          0.0015259720441921504,
          0.0015259720441921504,
          0.0015259720441921504,
          0.0015259720441921504,
          0.0015259720441921504,
          0.0015259720441921504,
          0.0015259720441921504,
          0.0015259720441921504,
          0.0015259720441921504,
          0.0015259720441921504,
          0.0015259720441921504,
          0.0015259720441921504,
          0.0015259720441921504,
          0.0015259720441921504,
          0.0015259720441921504,
          0.0015259720441921504,
          0.0015259720441921504,
          0.0015259720441921504,
          0.0015259720441921504,
          0.0015259720441921504,
          0.0015259720441921504,
          0.0015259720441921504,
          0.0015259720441921504,
          0.0015259720441921504,
          0.0015259720441921504,
          0.0015259720441921504,
          0.0015259720441921504,
          0.0015259720441921504,
          0.0015259720441921504,
          0.0015259720441921504,
          0.0015259720441921504,
          0.0015259720441921504,
          0.0015259720441921504,
          0.0015259720441921504,
          0.0015259720441921504,
          0.0015259720441921504,
          0.0015259720441921504,
          0.0015259720441921504,
          0.0015259720441921504,
          0.0015259720441921504,
          0.0015259720441921504,
          0.0015259720441921504,
          0.0015259720441921504,
          0.0015259720441921504,
          0.0015259720441921504,
          0.0015259720441921504,
          0.0015259720441921504,
          0.0015259720441921504,
          0.0015259720441921504,
          0.0015259720441921504,
          0.0015259720441921504,
          0.0015259720441921504,
          0.0015259720441921504,
          0.0015259720441921504,
          0.0015259720441921504,
          0.0015259720441921504,
          0.0015259720441921504,
          0.0015259720441921504,
          0.0015259720441921504,
          0.0015259720441921504,
          0.0015259720441921504,
          0.0015259720441921504,
          0.0015259720441921504,
          0.0015259720441921504,
          0.0015259720441921504,
          0.0015259720441921504,
          0.0015259720441921504,
          0.0015259720441921504,
          0.0015259720441921504,
          0.0015259720441921504,
          0.0015259720441921504,
          0.0015259720441921504,
          0.0015259720441921504,
          0.0015259720441921504,
          0.0015259720441921504,
          0.0015259720441921504,
          0.0015259720441921504,
          0.0015259720441921504,
          0.0015259720441921504,
          0.0015259720441921504,
          0.0015259720441921504,
          0.0015259720441921504,
          0.0015259720441921504,
          0.0015259720441921504,
          0.0015259720441921504,
          0.0015259720441921504,
          0.0015259720441921504,
          0.0015259720441921504,
          0.0015259720441921504,
          0.0015259720441921504,
          0.0015259720441921504,
          0.0015259720441921504,
          0.0015259720441921504,
          0.0015259720441921504,
          0.0015259720441921504,
          0.0015259720441921504,
          0.0015259720441921504,
          0.0015259720441921504,
          0.0015259720441921504,
          0.0015259720441921504,
          0.0015259720441921504,
          0.0015259720441921504,
          0.0015259720441921504,
          0.0015259720441921504,
          0.0015259720441921504,
          0.0015259720441921504,
          0.0015259720441921504,
          0.0015259720441921504,
          0.0015259720441921504,
          0.0015259720441921504,
          0.0015259720441921504,
          0.0015259720441921504,
          0.0015259720441921504,
          0.0015259720441921504,
          0.0015259720441921504,
          0.0015259720441921504,
          0.0015259720441921504,
          0.0015259720441921504,
          0.0015259720441921504,
          0.0015259720441921504,
          0.0015259720441921504,
          0.0015259720441921504,
          0.0015259720441921504,
          0.0015259720441921504,
          0.0015259720441921504,
          0.0015259720441921504,
          0.0015259720441921504,
          0.0015259720441921504,
          0.0015259720441921504,
          0.0015259720441921504,
          0.0015259720441921504,
          0.0015259720441921504,
          0.0015259720441921504,
          0.0015259720441921504,
          0.0015259720441921504,
          0.0015259720441921504,
          0.0015259720441921504,
          0.0015259720441921504,
          0.0015259720441921504,
          0.0015259720441921504,
          0.0015259720441921504,
          0.0015259720441921504,
          0.0015259720441921504,
          0.0015259720441921504,
          0.0015259720441921504,
          0.0015259720441921504,
          0.0015259720441921504,
          0.0015259720441921504,
          0.0015259720441921504,
          0.0015259720441921504,
          0.0015259720441921504,
          0.0015259720441921504,
          0.0015259720441921504,
          0.0015259720441921504,
          0.0015259720441921504,
          0.0015259720441921504,
          0.0015259720441921504,
          0.0015259720441921504,
          0.0015259720441921504,
          0.0015259720441921504,
          0.0015259720441921504,
          0.0015259720441921504,
          0.0015259720441921504,
          0.0015259720441921504,
          0.0015259720441921504,
          0.0015259720441921504,
          0.0015259720441921504,
          0.0015259720441921504,
          0.0015259720441921504,
          0.0015259720441921504,
          0.0015259720441921504,
          0.0015259720441921504,
          0.0015259720441921504,
          0.0015259720441921504,
          0.0015259720441921504,
          0.0015259720441921504,
          0.0015259720441921504,
          0.0015259720441921504,
          0.0015259720441921504,
          0.0015259720441921504,
          0.0015259720441921504,
          0.0015259720441921504,
          0.0015259720441921504,
          0.0015259720441921504,
          0.0015259720441921504,
          0.0015259720441921504,
          0.0015259720441921504,
          0.0015259720441921504,
          0.0015259720441921504,
          0.0015259720441921504,
          0.0015259720441921504,
          0.0015259720441921504,
          0.0015259720441921504,
          0.0015259720441921504,
          0.0015259720441921504,
          0.0015259720441921504,
          0.0015259720441921504,
          0.0015259720441921504
         ]
        }
       ],
       "layout": {
        "template": {
         "data": {
          "bar": [
           {
            "error_x": {
             "color": "#2a3f5f"
            },
            "error_y": {
             "color": "#2a3f5f"
            },
            "marker": {
             "line": {
              "color": "#E5ECF6",
              "width": 0.5
             },
             "pattern": {
              "fillmode": "overlay",
              "size": 10,
              "solidity": 0.2
             }
            },
            "type": "bar"
           }
          ],
          "barpolar": [
           {
            "marker": {
             "line": {
              "color": "#E5ECF6",
              "width": 0.5
             },
             "pattern": {
              "fillmode": "overlay",
              "size": 10,
              "solidity": 0.2
             }
            },
            "type": "barpolar"
           }
          ],
          "carpet": [
           {
            "aaxis": {
             "endlinecolor": "#2a3f5f",
             "gridcolor": "white",
             "linecolor": "white",
             "minorgridcolor": "white",
             "startlinecolor": "#2a3f5f"
            },
            "baxis": {
             "endlinecolor": "#2a3f5f",
             "gridcolor": "white",
             "linecolor": "white",
             "minorgridcolor": "white",
             "startlinecolor": "#2a3f5f"
            },
            "type": "carpet"
           }
          ],
          "choropleth": [
           {
            "colorbar": {
             "outlinewidth": 0,
             "ticks": ""
            },
            "type": "choropleth"
           }
          ],
          "contour": [
           {
            "colorbar": {
             "outlinewidth": 0,
             "ticks": ""
            },
            "colorscale": [
             [
              0,
              "#0d0887"
             ],
             [
              0.1111111111111111,
              "#46039f"
             ],
             [
              0.2222222222222222,
              "#7201a8"
             ],
             [
              0.3333333333333333,
              "#9c179e"
             ],
             [
              0.4444444444444444,
              "#bd3786"
             ],
             [
              0.5555555555555556,
              "#d8576b"
             ],
             [
              0.6666666666666666,
              "#ed7953"
             ],
             [
              0.7777777777777778,
              "#fb9f3a"
             ],
             [
              0.8888888888888888,
              "#fdca26"
             ],
             [
              1,
              "#f0f921"
             ]
            ],
            "type": "contour"
           }
          ],
          "contourcarpet": [
           {
            "colorbar": {
             "outlinewidth": 0,
             "ticks": ""
            },
            "type": "contourcarpet"
           }
          ],
          "heatmap": [
           {
            "colorbar": {
             "outlinewidth": 0,
             "ticks": ""
            },
            "colorscale": [
             [
              0,
              "#0d0887"
             ],
             [
              0.1111111111111111,
              "#46039f"
             ],
             [
              0.2222222222222222,
              "#7201a8"
             ],
             [
              0.3333333333333333,
              "#9c179e"
             ],
             [
              0.4444444444444444,
              "#bd3786"
             ],
             [
              0.5555555555555556,
              "#d8576b"
             ],
             [
              0.6666666666666666,
              "#ed7953"
             ],
             [
              0.7777777777777778,
              "#fb9f3a"
             ],
             [
              0.8888888888888888,
              "#fdca26"
             ],
             [
              1,
              "#f0f921"
             ]
            ],
            "type": "heatmap"
           }
          ],
          "heatmapgl": [
           {
            "colorbar": {
             "outlinewidth": 0,
             "ticks": ""
            },
            "colorscale": [
             [
              0,
              "#0d0887"
             ],
             [
              0.1111111111111111,
              "#46039f"
             ],
             [
              0.2222222222222222,
              "#7201a8"
             ],
             [
              0.3333333333333333,
              "#9c179e"
             ],
             [
              0.4444444444444444,
              "#bd3786"
             ],
             [
              0.5555555555555556,
              "#d8576b"
             ],
             [
              0.6666666666666666,
              "#ed7953"
             ],
             [
              0.7777777777777778,
              "#fb9f3a"
             ],
             [
              0.8888888888888888,
              "#fdca26"
             ],
             [
              1,
              "#f0f921"
             ]
            ],
            "type": "heatmapgl"
           }
          ],
          "histogram": [
           {
            "marker": {
             "pattern": {
              "fillmode": "overlay",
              "size": 10,
              "solidity": 0.2
             }
            },
            "type": "histogram"
           }
          ],
          "histogram2d": [
           {
            "colorbar": {
             "outlinewidth": 0,
             "ticks": ""
            },
            "colorscale": [
             [
              0,
              "#0d0887"
             ],
             [
              0.1111111111111111,
              "#46039f"
             ],
             [
              0.2222222222222222,
              "#7201a8"
             ],
             [
              0.3333333333333333,
              "#9c179e"
             ],
             [
              0.4444444444444444,
              "#bd3786"
             ],
             [
              0.5555555555555556,
              "#d8576b"
             ],
             [
              0.6666666666666666,
              "#ed7953"
             ],
             [
              0.7777777777777778,
              "#fb9f3a"
             ],
             [
              0.8888888888888888,
              "#fdca26"
             ],
             [
              1,
              "#f0f921"
             ]
            ],
            "type": "histogram2d"
           }
          ],
          "histogram2dcontour": [
           {
            "colorbar": {
             "outlinewidth": 0,
             "ticks": ""
            },
            "colorscale": [
             [
              0,
              "#0d0887"
             ],
             [
              0.1111111111111111,
              "#46039f"
             ],
             [
              0.2222222222222222,
              "#7201a8"
             ],
             [
              0.3333333333333333,
              "#9c179e"
             ],
             [
              0.4444444444444444,
              "#bd3786"
             ],
             [
              0.5555555555555556,
              "#d8576b"
             ],
             [
              0.6666666666666666,
              "#ed7953"
             ],
             [
              0.7777777777777778,
              "#fb9f3a"
             ],
             [
              0.8888888888888888,
              "#fdca26"
             ],
             [
              1,
              "#f0f921"
             ]
            ],
            "type": "histogram2dcontour"
           }
          ],
          "mesh3d": [
           {
            "colorbar": {
             "outlinewidth": 0,
             "ticks": ""
            },
            "type": "mesh3d"
           }
          ],
          "parcoords": [
           {
            "line": {
             "colorbar": {
              "outlinewidth": 0,
              "ticks": ""
             }
            },
            "type": "parcoords"
           }
          ],
          "pie": [
           {
            "automargin": true,
            "type": "pie"
           }
          ],
          "scatter": [
           {
            "marker": {
             "colorbar": {
              "outlinewidth": 0,
              "ticks": ""
             }
            },
            "type": "scatter"
           }
          ],
          "scatter3d": [
           {
            "line": {
             "colorbar": {
              "outlinewidth": 0,
              "ticks": ""
             }
            },
            "marker": {
             "colorbar": {
              "outlinewidth": 0,
              "ticks": ""
             }
            },
            "type": "scatter3d"
           }
          ],
          "scattercarpet": [
           {
            "marker": {
             "colorbar": {
              "outlinewidth": 0,
              "ticks": ""
             }
            },
            "type": "scattercarpet"
           }
          ],
          "scattergeo": [
           {
            "marker": {
             "colorbar": {
              "outlinewidth": 0,
              "ticks": ""
             }
            },
            "type": "scattergeo"
           }
          ],
          "scattergl": [
           {
            "marker": {
             "colorbar": {
              "outlinewidth": 0,
              "ticks": ""
             }
            },
            "type": "scattergl"
           }
          ],
          "scattermapbox": [
           {
            "marker": {
             "colorbar": {
              "outlinewidth": 0,
              "ticks": ""
             }
            },
            "type": "scattermapbox"
           }
          ],
          "scatterpolar": [
           {
            "marker": {
             "colorbar": {
              "outlinewidth": 0,
              "ticks": ""
             }
            },
            "type": "scatterpolar"
           }
          ],
          "scatterpolargl": [
           {
            "marker": {
             "colorbar": {
              "outlinewidth": 0,
              "ticks": ""
             }
            },
            "type": "scatterpolargl"
           }
          ],
          "scatterternary": [
           {
            "marker": {
             "colorbar": {
              "outlinewidth": 0,
              "ticks": ""
             }
            },
            "type": "scatterternary"
           }
          ],
          "surface": [
           {
            "colorbar": {
             "outlinewidth": 0,
             "ticks": ""
            },
            "colorscale": [
             [
              0,
              "#0d0887"
             ],
             [
              0.1111111111111111,
              "#46039f"
             ],
             [
              0.2222222222222222,
              "#7201a8"
             ],
             [
              0.3333333333333333,
              "#9c179e"
             ],
             [
              0.4444444444444444,
              "#bd3786"
             ],
             [
              0.5555555555555556,
              "#d8576b"
             ],
             [
              0.6666666666666666,
              "#ed7953"
             ],
             [
              0.7777777777777778,
              "#fb9f3a"
             ],
             [
              0.8888888888888888,
              "#fdca26"
             ],
             [
              1,
              "#f0f921"
             ]
            ],
            "type": "surface"
           }
          ],
          "table": [
           {
            "cells": {
             "fill": {
              "color": "#EBF0F8"
             },
             "line": {
              "color": "white"
             }
            },
            "header": {
             "fill": {
              "color": "#C8D4E3"
             },
             "line": {
              "color": "white"
             }
            },
            "type": "table"
           }
          ]
         },
         "layout": {
          "annotationdefaults": {
           "arrowcolor": "#2a3f5f",
           "arrowhead": 0,
           "arrowwidth": 1
          },
          "autotypenumbers": "strict",
          "coloraxis": {
           "colorbar": {
            "outlinewidth": 0,
            "ticks": ""
           }
          },
          "colorscale": {
           "diverging": [
            [
             0,
             "#8e0152"
            ],
            [
             0.1,
             "#c51b7d"
            ],
            [
             0.2,
             "#de77ae"
            ],
            [
             0.3,
             "#f1b6da"
            ],
            [
             0.4,
             "#fde0ef"
            ],
            [
             0.5,
             "#f7f7f7"
            ],
            [
             0.6,
             "#e6f5d0"
            ],
            [
             0.7,
             "#b8e186"
            ],
            [
             0.8,
             "#7fbc41"
            ],
            [
             0.9,
             "#4d9221"
            ],
            [
             1,
             "#276419"
            ]
           ],
           "sequential": [
            [
             0,
             "#0d0887"
            ],
            [
             0.1111111111111111,
             "#46039f"
            ],
            [
             0.2222222222222222,
             "#7201a8"
            ],
            [
             0.3333333333333333,
             "#9c179e"
            ],
            [
             0.4444444444444444,
             "#bd3786"
            ],
            [
             0.5555555555555556,
             "#d8576b"
            ],
            [
             0.6666666666666666,
             "#ed7953"
            ],
            [
             0.7777777777777778,
             "#fb9f3a"
            ],
            [
             0.8888888888888888,
             "#fdca26"
            ],
            [
             1,
             "#f0f921"
            ]
           ],
           "sequentialminus": [
            [
             0,
             "#0d0887"
            ],
            [
             0.1111111111111111,
             "#46039f"
            ],
            [
             0.2222222222222222,
             "#7201a8"
            ],
            [
             0.3333333333333333,
             "#9c179e"
            ],
            [
             0.4444444444444444,
             "#bd3786"
            ],
            [
             0.5555555555555556,
             "#d8576b"
            ],
            [
             0.6666666666666666,
             "#ed7953"
            ],
            [
             0.7777777777777778,
             "#fb9f3a"
            ],
            [
             0.8888888888888888,
             "#fdca26"
            ],
            [
             1,
             "#f0f921"
            ]
           ]
          },
          "colorway": [
           "#636efa",
           "#EF553B",
           "#00cc96",
           "#ab63fa",
           "#FFA15A",
           "#19d3f3",
           "#FF6692",
           "#B6E880",
           "#FF97FF",
           "#FECB52"
          ],
          "font": {
           "color": "#2a3f5f"
          },
          "geo": {
           "bgcolor": "white",
           "lakecolor": "white",
           "landcolor": "#E5ECF6",
           "showlakes": true,
           "showland": true,
           "subunitcolor": "white"
          },
          "hoverlabel": {
           "align": "left"
          },
          "hovermode": "closest",
          "mapbox": {
           "style": "light"
          },
          "paper_bgcolor": "white",
          "plot_bgcolor": "#E5ECF6",
          "polar": {
           "angularaxis": {
            "gridcolor": "white",
            "linecolor": "white",
            "ticks": ""
           },
           "bgcolor": "#E5ECF6",
           "radialaxis": {
            "gridcolor": "white",
            "linecolor": "white",
            "ticks": ""
           }
          },
          "scene": {
           "xaxis": {
            "backgroundcolor": "#E5ECF6",
            "gridcolor": "white",
            "gridwidth": 2,
            "linecolor": "white",
            "showbackground": true,
            "ticks": "",
            "zerolinecolor": "white"
           },
           "yaxis": {
            "backgroundcolor": "#E5ECF6",
            "gridcolor": "white",
            "gridwidth": 2,
            "linecolor": "white",
            "showbackground": true,
            "ticks": "",
            "zerolinecolor": "white"
           },
           "zaxis": {
            "backgroundcolor": "#E5ECF6",
            "gridcolor": "white",
            "gridwidth": 2,
            "linecolor": "white",
            "showbackground": true,
            "ticks": "",
            "zerolinecolor": "white"
           }
          },
          "shapedefaults": {
           "line": {
            "color": "#2a3f5f"
           }
          },
          "ternary": {
           "aaxis": {
            "gridcolor": "white",
            "linecolor": "white",
            "ticks": ""
           },
           "baxis": {
            "gridcolor": "white",
            "linecolor": "white",
            "ticks": ""
           },
           "bgcolor": "#E5ECF6",
           "caxis": {
            "gridcolor": "white",
            "linecolor": "white",
            "ticks": ""
           }
          },
          "title": {
           "x": 0.05
          },
          "xaxis": {
           "automargin": true,
           "gridcolor": "white",
           "linecolor": "white",
           "ticks": "",
           "title": {
            "standoff": 15
           },
           "zerolinecolor": "white",
           "zerolinewidth": 2
          },
          "yaxis": {
           "automargin": true,
           "gridcolor": "white",
           "linecolor": "white",
           "ticks": "",
           "title": {
            "standoff": 15
           },
           "zerolinecolor": "white",
           "zerolinewidth": 2
          }
         }
        },
        "title": {
         "text": "Elapsed Time (sec)"
        }
       }
      },
      "text/html": [
       "<div>                            <div id=\"24b5eabb-4317-4864-8bb8-717fbeeb959a\" class=\"plotly-graph-div\" style=\"height:525px; width:100%;\"></div>            <script type=\"text/javascript\">                require([\"plotly\"], function(Plotly) {                    window.PLOTLYENV=window.PLOTLYENV || {};                                    if (document.getElementById(\"24b5eabb-4317-4864-8bb8-717fbeeb959a\")) {                    Plotly.newPlot(                        \"24b5eabb-4317-4864-8bb8-717fbeeb959a\",                        [{\"labels\":[0,30,31,29,15,5,16,8,1200,32,26,25,120,33,17,4,7,18,28,20,135,27,121,19,6,1199,21,46,34,35,45,75,80,47,41,255,14,136,38,48,37,42,23,40,24,22,122,36,81,76,53,39,49,50,60,54,125,44,12,141,43,82,56,186,361,90,360,61,52,95,51,142,256,134,55,58,57,131,59,130,150,119,11,77,126,144,143,83,9,86,123,151,10,137,87,124,316,140,315,78,195,89,129,127,138,128,139,91,1,84,170,72,271,115,62,133,66,149,85,1201,200,88,96,104,63,194,64,185,94,92,193,3600,71,79,175,105,147,132,171,93,65,97,270,109,3609,275,70,362,108,148,181,74,196,100,145,118,69,152,180,110,187,330,68,98,153,201,116,159,67,323,203,161,155,102,192,172,158,156,165,113,176,224,146,103,114,154,99,111,177,318,162,167,3601,73,160,106,210,13,163,257,190,117,217,173,179,174,107,169,191,188,199,300,166,331,616,394,216,396,101,319,322,112,272,317,240,202,363,276,225,364,206,164,1209,182,214,320,183,515,262,198,241,215,247,208,326,274,157,345,218,280,383,184,212,197,400,221,234,392,204,332,248,321,982,333,243,205,278,263,305,259,244,3632,3610,350,304,395,258,265,403,418,231,588,178,324,329,303,239,287,283,236,189,299,251,246,213,309,358,325,273,1203,219,211,242,306,229,3631,343,2,979,279,3616,207,405,223,398,335,285,393,230,310,420,237,269,342,374,516,290,313,391,615,359,500,291,235,3002,168,347,376,232,220,227,612,296,337,386,252,334,983,3615,409,281,404,222,413,238,339,462,473,3602,341,348,209,282,373,314,338,375,346,370,508,254,415,407,629,367,476,336,579,387,416,384,640,423,293,357,421,397,301,1316,486,621,268,294,460,553,498,904,978,585,371,297,355,233,4073,627,402,1128,2615,450,401,2396,353,385,417,929,618,522,561,426,3005,753,1537,444,412,226,648,284,250,506,918,1208,984,600,438,261,312,517,3961,549,422,1143,1157,439,503,1624,981,442,601,308,611,436,477,995,3608,569,249,292,327,295,245,277,469,381,631,543,302,495,686,735,544,365,414,459,559,286,1216,622,587,623,1600,811,352,589,446,351,399,556,734,480,1647,1323,448,267,368,638,288,576,4443,452,704,608,4411,512,2424,5724,356,1598,1117,505,1118,1187,1283,5441,1411,1571,2149,1881,1657,3640,798,1465,1401,1273,228,5115,1017,2904,665,7261,548,1732,4379,3638,453,831,895,581,901,9115,6101,1119,1751,1559,708,1239,3454,5173,1061,9851,3742,5045,1695,919,389,671,607,344,996,1220,2433,1412,3685,1764,1720,2308,1496,1336,1176,952,792,632,4602,504,447,440,408,739,762,643,1531,3745,3037,4156,1696,732,572,1601,3744,4220,6269,354,3617,5442,514,610,706,738,1122,4126,3587,1595,3293,3325,1372,289,829,797,637,541,5215,5922,1341,349,1469,1501,1629,253,449,1565,3136,1121,1409,1980,1724,3676,3619,1371,606,1211,2338,382,6557,451,483,547,4153,1626,1562,5528,1274,1210,3163,1082,954,7038,730,2495,410,574,378,6392,736,2298,539,1179,1019,5113,5346,987,4981,6872,4793,667,507,832,475,379,2426,1794,928,3971,3,2242,2335,3747,685,727,1616,650,3051,3115,1130,1162,3243,1610,1802,4017,7827,3729,3665,3633,458,8169,1232,4265,3153,1072,3089,1008,944,2961,624,560,464,2384,369,2378,2033,681,2355,713,809,841,3656,1801,3944,1929,4232,266,298,3696,625,2411,1457,5491,1329,3376,3312,2475,1169,3088,977,945,721,432,2410,434,3661,1614,3629,1582,3599,1550,1454,1262,1166,1102,846,750,4588,430,1806,1740,6062,2188,461,525,10824,1773,3724,1485,1261,1197,813,1710,1902,2321,3342,427,491,555,619,4146,5193,1099,1775,5805,5581,3438,1327,1195,1580,751,2766,591,4653,463,3786,428,492,524,620,652,1004,649,466,567,917,1126,1190,1286,1638,1766,1798,4020,1781,3828,3764,3604,5271,757,2983,2804,693,2054,597,501,437,4133,6308,2310,2342,4485,455,966,902,6660,614,471,1253,1285,3620,1573,3652,4309,2311,390,454,1526,1142,854,870,822,694,662,630,598,717,566,534,470,406,4772,806,487,3957,626,307,3826,3666,1587,1555,2889,1267,1075,1043,723,467,1320,1544,6090,488,6122,425,2162,521,3827,1682,3603,1490,3411,1298,2899,658,520,264,5974,2901,3669,3637,3605,1300,3221,1172,1140,1108,1044,980,916,884,788,5925,8912,660,532,2758,468,775,2421,340,807,9283,1095,1191,3838],\"type\":\"pie\",\"values\":[43.13159982909113,15.751083440151376,5.0784349630714765,3.265580174571202,2.7757431483855215,2.061588231703595,1.522920100103766,1.2848684612097907,0.933894891045596,0.7690899102728438,0.6851614478422755,0.6195446499420131,0.6195446499420131,0.5752914606604407,0.5646096563510956,0.5646096563510956,0.5539278520417505,0.4211682841970335,0.3845449551364219,0.38301898309222976,0.3723371787828847,0.37081120673869256,0.3540255142525789,0.30824635292681435,0.2990905206616615,0.29756454861746934,0.28688274430812427,0.27925288408716353,0.26857107977781847,0.2578892754684734,0.2456814991149362,0.23499969480559116,0.233473722761399,0.2212659464078618,0.20753219801013245,0.20142830983336385,0.1876945614356345,0.18311664530305805,0.18311664530305805,0.17396081303790514,0.1693828969053287,0.16633095281694438,0.16633095281694438,0.16175303668436794,0.1571751205517915,0.1571751205517915,0.1510712323750229,0.1449673441982543,0.14038942806567783,0.13733748397729353,0.13733748397729353,0.1327595678447171,0.13123359580052493,0.12512970762375633,0.12512970762375633,0.12055179149117988,0.12055179149117988,0.11902581944698773,0.10834401513764268,0.10681804309345053,0.10529207104925838,0.10376609900506623,0.10224012696087408,0.10071415491668192,0.09918818287248977,0.09918818287248977,0.09766221082829762,0.09766221082829762,0.09613623878410547,0.09613623878410547,0.09613623878410547,0.09613623878410547,0.09613623878410547,0.09461026673991332,0.09308429469572117,0.09308429469572117,0.09155832265152902,0.08698040651895257,0.08698040651895257,0.08698040651895257,0.08392846243056827,0.08087651834218397,0.07935054629799182,0.07935054629799182,0.07935054629799182,0.07782457425379967,0.07782457425379967,0.07629860220960752,0.07629860220960752,0.07629860220960752,0.07477263016541537,0.07477263016541537,0.07324665812122322,0.07324665812122322,0.07324665812122322,0.07324665812122322,0.07324665812122322,0.07172068607703107,0.07172068607703107,0.07019471403283892,0.06866874198864677,0.06866874198864677,0.06714276994445462,0.06561679790026247,0.06561679790026247,0.06561679790026247,0.06409082585607032,0.06256485381187817,0.06256485381187817,0.059512909723493865,0.059512909723493865,0.057986937679301714,0.057986937679301714,0.056460965635109564,0.056460965635109564,0.054934993590917414,0.054934993590917414,0.054934993590917414,0.05340902154672526,0.05340902154672526,0.05340902154672526,0.05188304950253311,0.05188304950253311,0.05035707745834096,0.05035707745834096,0.04883110541414881,0.04730513336995666,0.04730513336995666,0.04730513336995666,0.04730513336995666,0.04577916132576451,0.04577916132576451,0.04577916132576451,0.04425318928157236,0.04425318928157236,0.04425318928157236,0.04425318928157236,0.04272721723738021,0.04272721723738021,0.04272721723738021,0.04120124519318806,0.04120124519318806,0.04120124519318806,0.03967527314899591,0.03967527314899591,0.03967527314899591,0.03967527314899591,0.03814930110480376,0.03814930110480376,0.03814930110480376,0.03662332906061161,0.03662332906061161,0.03662332906061161,0.03662332906061161,0.03662332906061161,0.03509735701641946,0.03509735701641946,0.03509735701641946,0.03357138497222731,0.03357138497222731,0.03357138497222731,0.03204541292803516,0.03204541292803516,0.03204541292803516,0.03204541292803516,0.03204541292803516,0.03204541292803516,0.03204541292803516,0.030519440883843008,0.030519440883843008,0.030519440883843008,0.028993468839650857,0.028993468839650857,0.027467496795458707,0.025941524751266556,0.025941524751266556,0.025941524751266556,0.025941524751266556,0.025941524751266556,0.024415552707074406,0.024415552707074406,0.024415552707074406,0.024415552707074406,0.024415552707074406,0.024415552707074406,0.024415552707074406,0.024415552707074406,0.024415552707074406,0.022889580662882256,0.022889580662882256,0.022889580662882256,0.022889580662882256,0.022889580662882256,0.022889580662882256,0.022889580662882256,0.022889580662882256,0.022889580662882256,0.021363608618690105,0.021363608618690105,0.021363608618690105,0.021363608618690105,0.021363608618690105,0.019837636574497955,0.019837636574497955,0.019837636574497955,0.019837636574497955,0.018311664530305805,0.018311664530305805,0.018311664530305805,0.018311664530305805,0.018311664530305805,0.018311664530305805,0.018311664530305805,0.016785692486113654,0.016785692486113654,0.016785692486113654,0.016785692486113654,0.016785692486113654,0.016785692486113654,0.016785692486113654,0.016785692486113654,0.016785692486113654,0.015259720441921504,0.015259720441921504,0.015259720441921504,0.015259720441921504,0.015259720441921504,0.015259720441921504,0.015259720441921504,0.015259720441921504,0.015259720441921504,0.013733748397729353,0.013733748397729353,0.013733748397729353,0.013733748397729353,0.013733748397729353,0.013733748397729353,0.013733748397729353,0.013733748397729353,0.013733748397729353,0.013733748397729353,0.013733748397729353,0.013733748397729353,0.013733748397729353,0.012207776353537203,0.012207776353537203,0.012207776353537203,0.012207776353537203,0.012207776353537203,0.012207776353537203,0.012207776353537203,0.012207776353537203,0.012207776353537203,0.012207776353537203,0.010681804309345053,0.010681804309345053,0.010681804309345053,0.010681804309345053,0.010681804309345053,0.010681804309345053,0.010681804309345053,0.010681804309345053,0.010681804309345053,0.010681804309345053,0.010681804309345053,0.010681804309345053,0.010681804309345053,0.009155832265152902,0.009155832265152902,0.009155832265152902,0.009155832265152902,0.009155832265152902,0.009155832265152902,0.009155832265152902,0.009155832265152902,0.009155832265152902,0.009155832265152902,0.009155832265152902,0.009155832265152902,0.009155832265152902,0.009155832265152902,0.009155832265152902,0.009155832265152902,0.009155832265152902,0.009155832265152902,0.007629860220960752,0.007629860220960752,0.007629860220960752,0.007629860220960752,0.007629860220960752,0.007629860220960752,0.007629860220960752,0.007629860220960752,0.007629860220960752,0.007629860220960752,0.007629860220960752,0.007629860220960752,0.007629860220960752,0.007629860220960752,0.007629860220960752,0.007629860220960752,0.007629860220960752,0.007629860220960752,0.007629860220960752,0.007629860220960752,0.0061038881767686015,0.0061038881767686015,0.0061038881767686015,0.0061038881767686015,0.0061038881767686015,0.0061038881767686015,0.0061038881767686015,0.0061038881767686015,0.0061038881767686015,0.0061038881767686015,0.0061038881767686015,0.0061038881767686015,0.0061038881767686015,0.0061038881767686015,0.0061038881767686015,0.0061038881767686015,0.0061038881767686015,0.0061038881767686015,0.0061038881767686015,0.0061038881767686015,0.0061038881767686015,0.0061038881767686015,0.0061038881767686015,0.0061038881767686015,0.0061038881767686015,0.0061038881767686015,0.0061038881767686015,0.0061038881767686015,0.0061038881767686015,0.0061038881767686015,0.0061038881767686015,0.0061038881767686015,0.0061038881767686015,0.0061038881767686015,0.0061038881767686015,0.0061038881767686015,0.0061038881767686015,0.0061038881767686015,0.0061038881767686015,0.0061038881767686015,0.0061038881767686015,0.004577916132576451,0.004577916132576451,0.004577916132576451,0.004577916132576451,0.004577916132576451,0.004577916132576451,0.004577916132576451,0.004577916132576451,0.004577916132576451,0.004577916132576451,0.004577916132576451,0.004577916132576451,0.004577916132576451,0.004577916132576451,0.004577916132576451,0.004577916132576451,0.004577916132576451,0.004577916132576451,0.004577916132576451,0.004577916132576451,0.004577916132576451,0.004577916132576451,0.004577916132576451,0.004577916132576451,0.004577916132576451,0.004577916132576451,0.004577916132576451,0.004577916132576451,0.004577916132576451,0.004577916132576451,0.004577916132576451,0.004577916132576451,0.004577916132576451,0.004577916132576451,0.004577916132576451,0.004577916132576451,0.004577916132576451,0.004577916132576451,0.004577916132576451,0.004577916132576451,0.004577916132576451,0.004577916132576451,0.004577916132576451,0.004577916132576451,0.004577916132576451,0.004577916132576451,0.004577916132576451,0.004577916132576451,0.0030519440883843008,0.0030519440883843008,0.0030519440883843008,0.0030519440883843008,0.0030519440883843008,0.0030519440883843008,0.0030519440883843008,0.0030519440883843008,0.0030519440883843008,0.0030519440883843008,0.0030519440883843008,0.0030519440883843008,0.0030519440883843008,0.0030519440883843008,0.0030519440883843008,0.0030519440883843008,0.0030519440883843008,0.0030519440883843008,0.0030519440883843008,0.0030519440883843008,0.0030519440883843008,0.0030519440883843008,0.0030519440883843008,0.0030519440883843008,0.0030519440883843008,0.0030519440883843008,0.0030519440883843008,0.0030519440883843008,0.0030519440883843008,0.0030519440883843008,0.0030519440883843008,0.0030519440883843008,0.0030519440883843008,0.0030519440883843008,0.0030519440883843008,0.0030519440883843008,0.0030519440883843008,0.0030519440883843008,0.0030519440883843008,0.0030519440883843008,0.0030519440883843008,0.0030519440883843008,0.0030519440883843008,0.0030519440883843008,0.0030519440883843008,0.0030519440883843008,0.0030519440883843008,0.0030519440883843008,0.0030519440883843008,0.0030519440883843008,0.0030519440883843008,0.0030519440883843008,0.0030519440883843008,0.0030519440883843008,0.0030519440883843008,0.0030519440883843008,0.0030519440883843008,0.0030519440883843008,0.0030519440883843008,0.0030519440883843008,0.0030519440883843008,0.0030519440883843008,0.0030519440883843008,0.0030519440883843008,0.0030519440883843008,0.0030519440883843008,0.0030519440883843008,0.0030519440883843008,0.0030519440883843008,0.0030519440883843008,0.0030519440883843008,0.0030519440883843008,0.0030519440883843008,0.0030519440883843008,0.0030519440883843008,0.0030519440883843008,0.0030519440883843008,0.0030519440883843008,0.0030519440883843008,0.0030519440883843008,0.0030519440883843008,0.0030519440883843008,0.0030519440883843008,0.0030519440883843008,0.0030519440883843008,0.0030519440883843008,0.0030519440883843008,0.0030519440883843008,0.0030519440883843008,0.0030519440883843008,0.0030519440883843008,0.0030519440883843008,0.0030519440883843008,0.0030519440883843008,0.0030519440883843008,0.0030519440883843008,0.0030519440883843008,0.0030519440883843008,0.0030519440883843008,0.0030519440883843008,0.0030519440883843008,0.0030519440883843008,0.0015259720441921504,0.0015259720441921504,0.0015259720441921504,0.0015259720441921504,0.0015259720441921504,0.0015259720441921504,0.0015259720441921504,0.0015259720441921504,0.0015259720441921504,0.0015259720441921504,0.0015259720441921504,0.0015259720441921504,0.0015259720441921504,0.0015259720441921504,0.0015259720441921504,0.0015259720441921504,0.0015259720441921504,0.0015259720441921504,0.0015259720441921504,0.0015259720441921504,0.0015259720441921504,0.0015259720441921504,0.0015259720441921504,0.0015259720441921504,0.0015259720441921504,0.0015259720441921504,0.0015259720441921504,0.0015259720441921504,0.0015259720441921504,0.0015259720441921504,0.0015259720441921504,0.0015259720441921504,0.0015259720441921504,0.0015259720441921504,0.0015259720441921504,0.0015259720441921504,0.0015259720441921504,0.0015259720441921504,0.0015259720441921504,0.0015259720441921504,0.0015259720441921504,0.0015259720441921504,0.0015259720441921504,0.0015259720441921504,0.0015259720441921504,0.0015259720441921504,0.0015259720441921504,0.0015259720441921504,0.0015259720441921504,0.0015259720441921504,0.0015259720441921504,0.0015259720441921504,0.0015259720441921504,0.0015259720441921504,0.0015259720441921504,0.0015259720441921504,0.0015259720441921504,0.0015259720441921504,0.0015259720441921504,0.0015259720441921504,0.0015259720441921504,0.0015259720441921504,0.0015259720441921504,0.0015259720441921504,0.0015259720441921504,0.0015259720441921504,0.0015259720441921504,0.0015259720441921504,0.0015259720441921504,0.0015259720441921504,0.0015259720441921504,0.0015259720441921504,0.0015259720441921504,0.0015259720441921504,0.0015259720441921504,0.0015259720441921504,0.0015259720441921504,0.0015259720441921504,0.0015259720441921504,0.0015259720441921504,0.0015259720441921504,0.0015259720441921504,0.0015259720441921504,0.0015259720441921504,0.0015259720441921504,0.0015259720441921504,0.0015259720441921504,0.0015259720441921504,0.0015259720441921504,0.0015259720441921504,0.0015259720441921504,0.0015259720441921504,0.0015259720441921504,0.0015259720441921504,0.0015259720441921504,0.0015259720441921504,0.0015259720441921504,0.0015259720441921504,0.0015259720441921504,0.0015259720441921504,0.0015259720441921504,0.0015259720441921504,0.0015259720441921504,0.0015259720441921504,0.0015259720441921504,0.0015259720441921504,0.0015259720441921504,0.0015259720441921504,0.0015259720441921504,0.0015259720441921504,0.0015259720441921504,0.0015259720441921504,0.0015259720441921504,0.0015259720441921504,0.0015259720441921504,0.0015259720441921504,0.0015259720441921504,0.0015259720441921504,0.0015259720441921504,0.0015259720441921504,0.0015259720441921504,0.0015259720441921504,0.0015259720441921504,0.0015259720441921504,0.0015259720441921504,0.0015259720441921504,0.0015259720441921504,0.0015259720441921504,0.0015259720441921504,0.0015259720441921504,0.0015259720441921504,0.0015259720441921504,0.0015259720441921504,0.0015259720441921504,0.0015259720441921504,0.0015259720441921504,0.0015259720441921504,0.0015259720441921504,0.0015259720441921504,0.0015259720441921504,0.0015259720441921504,0.0015259720441921504,0.0015259720441921504,0.0015259720441921504,0.0015259720441921504,0.0015259720441921504,0.0015259720441921504,0.0015259720441921504,0.0015259720441921504,0.0015259720441921504,0.0015259720441921504,0.0015259720441921504,0.0015259720441921504,0.0015259720441921504,0.0015259720441921504,0.0015259720441921504,0.0015259720441921504,0.0015259720441921504,0.0015259720441921504,0.0015259720441921504,0.0015259720441921504,0.0015259720441921504,0.0015259720441921504,0.0015259720441921504,0.0015259720441921504,0.0015259720441921504,0.0015259720441921504,0.0015259720441921504,0.0015259720441921504,0.0015259720441921504,0.0015259720441921504,0.0015259720441921504,0.0015259720441921504,0.0015259720441921504,0.0015259720441921504,0.0015259720441921504,0.0015259720441921504,0.0015259720441921504,0.0015259720441921504,0.0015259720441921504,0.0015259720441921504,0.0015259720441921504,0.0015259720441921504,0.0015259720441921504,0.0015259720441921504,0.0015259720441921504,0.0015259720441921504,0.0015259720441921504,0.0015259720441921504,0.0015259720441921504,0.0015259720441921504,0.0015259720441921504,0.0015259720441921504,0.0015259720441921504,0.0015259720441921504,0.0015259720441921504,0.0015259720441921504,0.0015259720441921504,0.0015259720441921504,0.0015259720441921504,0.0015259720441921504,0.0015259720441921504,0.0015259720441921504,0.0015259720441921504,0.0015259720441921504,0.0015259720441921504,0.0015259720441921504,0.0015259720441921504,0.0015259720441921504,0.0015259720441921504,0.0015259720441921504,0.0015259720441921504,0.0015259720441921504,0.0015259720441921504,0.0015259720441921504,0.0015259720441921504,0.0015259720441921504,0.0015259720441921504,0.0015259720441921504,0.0015259720441921504,0.0015259720441921504,0.0015259720441921504,0.0015259720441921504,0.0015259720441921504,0.0015259720441921504,0.0015259720441921504,0.0015259720441921504,0.0015259720441921504,0.0015259720441921504,0.0015259720441921504,0.0015259720441921504,0.0015259720441921504,0.0015259720441921504,0.0015259720441921504,0.0015259720441921504,0.0015259720441921504,0.0015259720441921504,0.0015259720441921504,0.0015259720441921504,0.0015259720441921504,0.0015259720441921504,0.0015259720441921504,0.0015259720441921504,0.0015259720441921504,0.0015259720441921504,0.0015259720441921504,0.0015259720441921504,0.0015259720441921504,0.0015259720441921504,0.0015259720441921504,0.0015259720441921504,0.0015259720441921504,0.0015259720441921504,0.0015259720441921504,0.0015259720441921504,0.0015259720441921504,0.0015259720441921504,0.0015259720441921504,0.0015259720441921504,0.0015259720441921504,0.0015259720441921504,0.0015259720441921504,0.0015259720441921504,0.0015259720441921504,0.0015259720441921504,0.0015259720441921504,0.0015259720441921504,0.0015259720441921504,0.0015259720441921504,0.0015259720441921504,0.0015259720441921504,0.0015259720441921504,0.0015259720441921504,0.0015259720441921504,0.0015259720441921504,0.0015259720441921504,0.0015259720441921504,0.0015259720441921504,0.0015259720441921504,0.0015259720441921504,0.0015259720441921504,0.0015259720441921504,0.0015259720441921504,0.0015259720441921504,0.0015259720441921504,0.0015259720441921504,0.0015259720441921504,0.0015259720441921504,0.0015259720441921504,0.0015259720441921504,0.0015259720441921504,0.0015259720441921504,0.0015259720441921504,0.0015259720441921504,0.0015259720441921504,0.0015259720441921504,0.0015259720441921504,0.0015259720441921504,0.0015259720441921504,0.0015259720441921504,0.0015259720441921504,0.0015259720441921504,0.0015259720441921504,0.0015259720441921504,0.0015259720441921504,0.0015259720441921504,0.0015259720441921504,0.0015259720441921504,0.0015259720441921504,0.0015259720441921504,0.0015259720441921504,0.0015259720441921504,0.0015259720441921504,0.0015259720441921504,0.0015259720441921504,0.0015259720441921504,0.0015259720441921504,0.0015259720441921504,0.0015259720441921504,0.0015259720441921504,0.0015259720441921504,0.0015259720441921504,0.0015259720441921504,0.0015259720441921504,0.0015259720441921504,0.0015259720441921504,0.0015259720441921504,0.0015259720441921504,0.0015259720441921504,0.0015259720441921504,0.0015259720441921504,0.0015259720441921504,0.0015259720441921504,0.0015259720441921504,0.0015259720441921504,0.0015259720441921504,0.0015259720441921504,0.0015259720441921504,0.0015259720441921504,0.0015259720441921504,0.0015259720441921504,0.0015259720441921504,0.0015259720441921504,0.0015259720441921504,0.0015259720441921504,0.0015259720441921504,0.0015259720441921504,0.0015259720441921504,0.0015259720441921504,0.0015259720441921504,0.0015259720441921504,0.0015259720441921504,0.0015259720441921504,0.0015259720441921504,0.0015259720441921504,0.0015259720441921504,0.0015259720441921504,0.0015259720441921504,0.0015259720441921504,0.0015259720441921504,0.0015259720441921504,0.0015259720441921504,0.0015259720441921504,0.0015259720441921504,0.0015259720441921504,0.0015259720441921504,0.0015259720441921504,0.0015259720441921504,0.0015259720441921504,0.0015259720441921504,0.0015259720441921504,0.0015259720441921504,0.0015259720441921504,0.0015259720441921504,0.0015259720441921504,0.0015259720441921504,0.0015259720441921504,0.0015259720441921504,0.0015259720441921504,0.0015259720441921504,0.0015259720441921504,0.0015259720441921504,0.0015259720441921504,0.0015259720441921504,0.0015259720441921504,0.0015259720441921504,0.0015259720441921504,0.0015259720441921504,0.0015259720441921504,0.0015259720441921504,0.0015259720441921504,0.0015259720441921504,0.0015259720441921504,0.0015259720441921504,0.0015259720441921504,0.0015259720441921504,0.0015259720441921504,0.0015259720441921504,0.0015259720441921504,0.0015259720441921504,0.0015259720441921504,0.0015259720441921504,0.0015259720441921504,0.0015259720441921504,0.0015259720441921504,0.0015259720441921504,0.0015259720441921504,0.0015259720441921504,0.0015259720441921504,0.0015259720441921504,0.0015259720441921504,0.0015259720441921504,0.0015259720441921504,0.0015259720441921504,0.0015259720441921504,0.0015259720441921504,0.0015259720441921504,0.0015259720441921504,0.0015259720441921504]}],                        {\"template\":{\"data\":{\"bar\":[{\"error_x\":{\"color\":\"#2a3f5f\"},\"error_y\":{\"color\":\"#2a3f5f\"},\"marker\":{\"line\":{\"color\":\"#E5ECF6\",\"width\":0.5},\"pattern\":{\"fillmode\":\"overlay\",\"size\":10,\"solidity\":0.2}},\"type\":\"bar\"}],\"barpolar\":[{\"marker\":{\"line\":{\"color\":\"#E5ECF6\",\"width\":0.5},\"pattern\":{\"fillmode\":\"overlay\",\"size\":10,\"solidity\":0.2}},\"type\":\"barpolar\"}],\"carpet\":[{\"aaxis\":{\"endlinecolor\":\"#2a3f5f\",\"gridcolor\":\"white\",\"linecolor\":\"white\",\"minorgridcolor\":\"white\",\"startlinecolor\":\"#2a3f5f\"},\"baxis\":{\"endlinecolor\":\"#2a3f5f\",\"gridcolor\":\"white\",\"linecolor\":\"white\",\"minorgridcolor\":\"white\",\"startlinecolor\":\"#2a3f5f\"},\"type\":\"carpet\"}],\"choropleth\":[{\"colorbar\":{\"outlinewidth\":0,\"ticks\":\"\"},\"type\":\"choropleth\"}],\"contour\":[{\"colorbar\":{\"outlinewidth\":0,\"ticks\":\"\"},\"colorscale\":[[0.0,\"#0d0887\"],[0.1111111111111111,\"#46039f\"],[0.2222222222222222,\"#7201a8\"],[0.3333333333333333,\"#9c179e\"],[0.4444444444444444,\"#bd3786\"],[0.5555555555555556,\"#d8576b\"],[0.6666666666666666,\"#ed7953\"],[0.7777777777777778,\"#fb9f3a\"],[0.8888888888888888,\"#fdca26\"],[1.0,\"#f0f921\"]],\"type\":\"contour\"}],\"contourcarpet\":[{\"colorbar\":{\"outlinewidth\":0,\"ticks\":\"\"},\"type\":\"contourcarpet\"}],\"heatmap\":[{\"colorbar\":{\"outlinewidth\":0,\"ticks\":\"\"},\"colorscale\":[[0.0,\"#0d0887\"],[0.1111111111111111,\"#46039f\"],[0.2222222222222222,\"#7201a8\"],[0.3333333333333333,\"#9c179e\"],[0.4444444444444444,\"#bd3786\"],[0.5555555555555556,\"#d8576b\"],[0.6666666666666666,\"#ed7953\"],[0.7777777777777778,\"#fb9f3a\"],[0.8888888888888888,\"#fdca26\"],[1.0,\"#f0f921\"]],\"type\":\"heatmap\"}],\"heatmapgl\":[{\"colorbar\":{\"outlinewidth\":0,\"ticks\":\"\"},\"colorscale\":[[0.0,\"#0d0887\"],[0.1111111111111111,\"#46039f\"],[0.2222222222222222,\"#7201a8\"],[0.3333333333333333,\"#9c179e\"],[0.4444444444444444,\"#bd3786\"],[0.5555555555555556,\"#d8576b\"],[0.6666666666666666,\"#ed7953\"],[0.7777777777777778,\"#fb9f3a\"],[0.8888888888888888,\"#fdca26\"],[1.0,\"#f0f921\"]],\"type\":\"heatmapgl\"}],\"histogram\":[{\"marker\":{\"pattern\":{\"fillmode\":\"overlay\",\"size\":10,\"solidity\":0.2}},\"type\":\"histogram\"}],\"histogram2d\":[{\"colorbar\":{\"outlinewidth\":0,\"ticks\":\"\"},\"colorscale\":[[0.0,\"#0d0887\"],[0.1111111111111111,\"#46039f\"],[0.2222222222222222,\"#7201a8\"],[0.3333333333333333,\"#9c179e\"],[0.4444444444444444,\"#bd3786\"],[0.5555555555555556,\"#d8576b\"],[0.6666666666666666,\"#ed7953\"],[0.7777777777777778,\"#fb9f3a\"],[0.8888888888888888,\"#fdca26\"],[1.0,\"#f0f921\"]],\"type\":\"histogram2d\"}],\"histogram2dcontour\":[{\"colorbar\":{\"outlinewidth\":0,\"ticks\":\"\"},\"colorscale\":[[0.0,\"#0d0887\"],[0.1111111111111111,\"#46039f\"],[0.2222222222222222,\"#7201a8\"],[0.3333333333333333,\"#9c179e\"],[0.4444444444444444,\"#bd3786\"],[0.5555555555555556,\"#d8576b\"],[0.6666666666666666,\"#ed7953\"],[0.7777777777777778,\"#fb9f3a\"],[0.8888888888888888,\"#fdca26\"],[1.0,\"#f0f921\"]],\"type\":\"histogram2dcontour\"}],\"mesh3d\":[{\"colorbar\":{\"outlinewidth\":0,\"ticks\":\"\"},\"type\":\"mesh3d\"}],\"parcoords\":[{\"line\":{\"colorbar\":{\"outlinewidth\":0,\"ticks\":\"\"}},\"type\":\"parcoords\"}],\"pie\":[{\"automargin\":true,\"type\":\"pie\"}],\"scatter\":[{\"marker\":{\"colorbar\":{\"outlinewidth\":0,\"ticks\":\"\"}},\"type\":\"scatter\"}],\"scatter3d\":[{\"line\":{\"colorbar\":{\"outlinewidth\":0,\"ticks\":\"\"}},\"marker\":{\"colorbar\":{\"outlinewidth\":0,\"ticks\":\"\"}},\"type\":\"scatter3d\"}],\"scattercarpet\":[{\"marker\":{\"colorbar\":{\"outlinewidth\":0,\"ticks\":\"\"}},\"type\":\"scattercarpet\"}],\"scattergeo\":[{\"marker\":{\"colorbar\":{\"outlinewidth\":0,\"ticks\":\"\"}},\"type\":\"scattergeo\"}],\"scattergl\":[{\"marker\":{\"colorbar\":{\"outlinewidth\":0,\"ticks\":\"\"}},\"type\":\"scattergl\"}],\"scattermapbox\":[{\"marker\":{\"colorbar\":{\"outlinewidth\":0,\"ticks\":\"\"}},\"type\":\"scattermapbox\"}],\"scatterpolar\":[{\"marker\":{\"colorbar\":{\"outlinewidth\":0,\"ticks\":\"\"}},\"type\":\"scatterpolar\"}],\"scatterpolargl\":[{\"marker\":{\"colorbar\":{\"outlinewidth\":0,\"ticks\":\"\"}},\"type\":\"scatterpolargl\"}],\"scatterternary\":[{\"marker\":{\"colorbar\":{\"outlinewidth\":0,\"ticks\":\"\"}},\"type\":\"scatterternary\"}],\"surface\":[{\"colorbar\":{\"outlinewidth\":0,\"ticks\":\"\"},\"colorscale\":[[0.0,\"#0d0887\"],[0.1111111111111111,\"#46039f\"],[0.2222222222222222,\"#7201a8\"],[0.3333333333333333,\"#9c179e\"],[0.4444444444444444,\"#bd3786\"],[0.5555555555555556,\"#d8576b\"],[0.6666666666666666,\"#ed7953\"],[0.7777777777777778,\"#fb9f3a\"],[0.8888888888888888,\"#fdca26\"],[1.0,\"#f0f921\"]],\"type\":\"surface\"}],\"table\":[{\"cells\":{\"fill\":{\"color\":\"#EBF0F8\"},\"line\":{\"color\":\"white\"}},\"header\":{\"fill\":{\"color\":\"#C8D4E3\"},\"line\":{\"color\":\"white\"}},\"type\":\"table\"}]},\"layout\":{\"annotationdefaults\":{\"arrowcolor\":\"#2a3f5f\",\"arrowhead\":0,\"arrowwidth\":1},\"autotypenumbers\":\"strict\",\"coloraxis\":{\"colorbar\":{\"outlinewidth\":0,\"ticks\":\"\"}},\"colorscale\":{\"diverging\":[[0,\"#8e0152\"],[0.1,\"#c51b7d\"],[0.2,\"#de77ae\"],[0.3,\"#f1b6da\"],[0.4,\"#fde0ef\"],[0.5,\"#f7f7f7\"],[0.6,\"#e6f5d0\"],[0.7,\"#b8e186\"],[0.8,\"#7fbc41\"],[0.9,\"#4d9221\"],[1,\"#276419\"]],\"sequential\":[[0.0,\"#0d0887\"],[0.1111111111111111,\"#46039f\"],[0.2222222222222222,\"#7201a8\"],[0.3333333333333333,\"#9c179e\"],[0.4444444444444444,\"#bd3786\"],[0.5555555555555556,\"#d8576b\"],[0.6666666666666666,\"#ed7953\"],[0.7777777777777778,\"#fb9f3a\"],[0.8888888888888888,\"#fdca26\"],[1.0,\"#f0f921\"]],\"sequentialminus\":[[0.0,\"#0d0887\"],[0.1111111111111111,\"#46039f\"],[0.2222222222222222,\"#7201a8\"],[0.3333333333333333,\"#9c179e\"],[0.4444444444444444,\"#bd3786\"],[0.5555555555555556,\"#d8576b\"],[0.6666666666666666,\"#ed7953\"],[0.7777777777777778,\"#fb9f3a\"],[0.8888888888888888,\"#fdca26\"],[1.0,\"#f0f921\"]]},\"colorway\":[\"#636efa\",\"#EF553B\",\"#00cc96\",\"#ab63fa\",\"#FFA15A\",\"#19d3f3\",\"#FF6692\",\"#B6E880\",\"#FF97FF\",\"#FECB52\"],\"font\":{\"color\":\"#2a3f5f\"},\"geo\":{\"bgcolor\":\"white\",\"lakecolor\":\"white\",\"landcolor\":\"#E5ECF6\",\"showlakes\":true,\"showland\":true,\"subunitcolor\":\"white\"},\"hoverlabel\":{\"align\":\"left\"},\"hovermode\":\"closest\",\"mapbox\":{\"style\":\"light\"},\"paper_bgcolor\":\"white\",\"plot_bgcolor\":\"#E5ECF6\",\"polar\":{\"angularaxis\":{\"gridcolor\":\"white\",\"linecolor\":\"white\",\"ticks\":\"\"},\"bgcolor\":\"#E5ECF6\",\"radialaxis\":{\"gridcolor\":\"white\",\"linecolor\":\"white\",\"ticks\":\"\"}},\"scene\":{\"xaxis\":{\"backgroundcolor\":\"#E5ECF6\",\"gridcolor\":\"white\",\"gridwidth\":2,\"linecolor\":\"white\",\"showbackground\":true,\"ticks\":\"\",\"zerolinecolor\":\"white\"},\"yaxis\":{\"backgroundcolor\":\"#E5ECF6\",\"gridcolor\":\"white\",\"gridwidth\":2,\"linecolor\":\"white\",\"showbackground\":true,\"ticks\":\"\",\"zerolinecolor\":\"white\"},\"zaxis\":{\"backgroundcolor\":\"#E5ECF6\",\"gridcolor\":\"white\",\"gridwidth\":2,\"linecolor\":\"white\",\"showbackground\":true,\"ticks\":\"\",\"zerolinecolor\":\"white\"}},\"shapedefaults\":{\"line\":{\"color\":\"#2a3f5f\"}},\"ternary\":{\"aaxis\":{\"gridcolor\":\"white\",\"linecolor\":\"white\",\"ticks\":\"\"},\"baxis\":{\"gridcolor\":\"white\",\"linecolor\":\"white\",\"ticks\":\"\"},\"bgcolor\":\"#E5ECF6\",\"caxis\":{\"gridcolor\":\"white\",\"linecolor\":\"white\",\"ticks\":\"\"}},\"title\":{\"x\":0.05},\"xaxis\":{\"automargin\":true,\"gridcolor\":\"white\",\"linecolor\":\"white\",\"ticks\":\"\",\"title\":{\"standoff\":15},\"zerolinecolor\":\"white\",\"zerolinewidth\":2},\"yaxis\":{\"automargin\":true,\"gridcolor\":\"white\",\"linecolor\":\"white\",\"ticks\":\"\",\"title\":{\"standoff\":15},\"zerolinecolor\":\"white\",\"zerolinewidth\":2}}},\"title\":{\"text\":\"Elapsed Time (sec)\"}},                        {\"responsive\": true}                    ).then(function(){\n",
       "                            \n",
       "var gd = document.getElementById('24b5eabb-4317-4864-8bb8-717fbeeb959a');\n",
       "var x = new MutationObserver(function (mutations, observer) {{\n",
       "        var display = window.getComputedStyle(gd).display;\n",
       "        if (!display || display === 'none') {{\n",
       "            console.log([gd, 'removed!']);\n",
       "            Plotly.purge(gd);\n",
       "            observer.disconnect();\n",
       "        }}\n",
       "}});\n",
       "\n",
       "// Listen for the removal of the full notebook cells\n",
       "var notebookContainer = gd.closest('#notebook-container');\n",
       "if (notebookContainer) {{\n",
       "    x.observe(notebookContainer, {childList: true});\n",
       "}}\n",
       "\n",
       "// Listen for the clearing of the current output cell\n",
       "var outputEl = gd.closest('.output');\n",
       "if (outputEl) {{\n",
       "    x.observe(outputEl, {childList: true});\n",
       "}}\n",
       "\n",
       "                        })                };                });            </script>        </div>"
      ]
     },
     "metadata": {},
     "output_type": "display_data"
    }
   ],
   "source": [
    "area=df['Elapsed Time (sec)'].value_counts()\n",
    "labels=(np.array(area.index))\n",
    "value=(np.array((area/area.sum())*100))\n",
    "trace=go.Pie(labels=labels,values=value)\n",
    "layout=go.Layout(title='Elapsed Time (sec)')\n",
    "data=[trace]\n",
    "fig=go.Figure(data=data,layout=layout)\n",
    "py.iplot(fig,filename='Elapsed Time (sec)')"
   ]
  },
  {
   "cell_type": "code",
   "execution_count": null,
   "id": "2c7f692b",
   "metadata": {},
   "outputs": [],
   "source": []
  },
  {
   "cell_type": "code",
   "execution_count": 15,
   "id": "046dbd16",
   "metadata": {},
   "outputs": [
    {
     "data": {
      "text/plain": [
       "58638    840\n",
       "27005    513\n",
       "443      273\n",
       "57470    222\n",
       "49418    210\n",
       "        ... \n",
       "19302      1\n",
       "58227      1\n",
       "47992      1\n",
       "39804      1\n",
       "6141       1\n",
       "Name: Source Port, Length: 22724, dtype: int64"
      ]
     },
     "execution_count": 15,
     "metadata": {},
     "output_type": "execute_result"
    }
   ],
   "source": [
    "df['Source Port'].value_counts()"
   ]
  },
  {
   "cell_type": "code",
   "execution_count": 16,
   "id": "f2372851",
   "metadata": {},
   "outputs": [],
   "source": [
    "bins = [1023,49151,65535]"
   ]
  },
  {
   "cell_type": "code",
   "execution_count": 17,
   "id": "dd8e2c31",
   "metadata": {},
   "outputs": [
    {
     "data": {
      "text/plain": [
       "(1022.999, 49151.0]    15586\n",
       "(49151.0, 65535.0]     49361\n",
       "Name: Source Port, dtype: int64"
      ]
     },
     "execution_count": 17,
     "metadata": {},
     "output_type": "execute_result"
    }
   ],
   "source": [
    "df['Source Port'].value_counts(bins=bins, sort=False) "
   ]
  },
  {
   "cell_type": "markdown",
   "id": "0d7440b4",
   "metadata": {},
   "source": [
    "From 0 to 1023 – well known ports assigned to common protocols and services.\n",
    "From 1024 to 49151 – registered ports assigned by ICANN to a specific service.\n",
    "From 49152 to 65 535 – dynamic (private, high) ports range from 49,152 to 65,535."
   ]
  },
  {
   "cell_type": "code",
   "execution_count": null,
   "id": "0f348190",
   "metadata": {},
   "outputs": [],
   "source": []
  },
  {
   "cell_type": "code",
   "execution_count": null,
   "id": "4af017f4",
   "metadata": {},
   "outputs": [],
   "source": []
  },
  {
   "cell_type": "code",
   "execution_count": null,
   "id": "27ec1e00",
   "metadata": {},
   "outputs": [],
   "source": []
  }
 ],
 "metadata": {
  "kernelspec": {
   "display_name": "Python 3",
   "language": "python",
   "name": "python3"
  },
  "language_info": {
   "codemirror_mode": {
    "name": "ipython",
    "version": 3
   },
   "file_extension": ".py",
   "mimetype": "text/x-python",
   "name": "python",
   "nbconvert_exporter": "python",
   "pygments_lexer": "ipython3",
   "version": "3.8.2"
  }
 },
 "nbformat": 4,
 "nbformat_minor": 5
}
