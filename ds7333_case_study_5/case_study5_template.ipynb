{
 "cells": [
  {
   "cell_type": "markdown",
   "metadata": {
    "id": "GoCXzNvN8g-8"
   },
   "source": [
    "# Case Study 5 - SGD & SVM"
   ]
  },
  {
   "cell_type": "markdown",
   "metadata": {
    "id": "YBy24RcB8g-9"
   },
   "source": [
    "__Team Members:__ Amber Clark, Andrew Leppla, Jorge Olmos, Paritosh Rai"
   ]
  },
  {
   "cell_type": "markdown",
   "metadata": {
    "id": "O4O0up-U8g-9"
   },
   "source": [
    "# Content\n",
    "* [Business Understanding](#business-understanding)\n",
    "    - [Scope](#scope)\n",
    "    - [Introduction](#introduction)\n",
    "    - [Methods](#methods)\n",
    "    - [Results](#results)\n",
    "* [Data Evaluation](#data-evaluation)\n",
    "    - [Loading Data](#loading-data) \n",
    "    - [Data Summary](#data-summary)\n",
    "    - [Missing Values](#missing-values)\n",
    "    - [Feature Removal](#feature-removal)\n",
    "    - [Exploratory Data Analysis (EDA)](#eda)\n",
    "    - [Assumptions](#assumptions)\n",
    "* [Model Preparations](#model-preparations)\n",
    "    - [Sampling & Scaling Data](#sampling-scaling-data)\n",
    "    - [Proposed Method](#proposed-metrics)\n",
    "    - [Evaluation Metrics](#evaluation-metrics)\n",
    "    - [Feature Selection](#feature-selection)\n",
    "* [Model Building & Evaluations](#model-building)\n",
    "    - [Sampling Methodology](#sampling-methodology)\n",
    "    - [Model](#model)\n",
    "    - [Performance Analysis](#performance-analysis)\n",
    "* [Model Interpretability & Explainability](#model-explanation)\n",
    "    - [Examining Feature Importance](#examining-feature-importance)\n",
    "* [Conclusion](#conclusion)\n",
    "    - [Final Model Proposal](#final-model-proposal)\n",
    "    - [Future Considerations, Model Enhancements and Alternative Modeling Approaches](#model-enhancements)"
   ]
  },
  {
   "cell_type": "markdown",
   "metadata": {
    "id": "TRedT-FB8g_A"
   },
   "source": [
    "# Business Understanding & Executive Summary <a id='business-understanding'/>"
   ]
  },
  {
   "cell_type": "markdown",
   "metadata": {
    "id": "F-4BiuuQOEh4"
   },
   "source": [
    "## Objective:\n",
    "The goal of this case study is to build a Firewall classification model to automatically allow or deny access requests in real time with a high level of accuracy. \n",
    "\n",
    "## Introduction:\n",
    "This case study is about the management of firewall traffic. Cyber security consists of all the technologies and practices that keep computer systems and electronic data safe. A firewall is one of the most critical components in supporting big corporations to protect their data. The challenge offered to the team was to build a classification model that can automatically allow or deny the access request based on the features of the incoming request. A firewall is a hardware or software filter that authorizes access based on a certain set of pre-established rules. These rules are based on multiple aspects of packet data like their source, destination, content, protocol, and other data characteristics. When the network is significantly large, and policies are complicated, manual cross-check may be insufficient, inefficient, and ineffective in detecting anomalies. An automated model based on machine learning and high-performance computing methods is leveraged to detect anomalies to strengthen the firewall. To achieve this, firewall logs are analyzed, and the extracted features are fed to a set of machine learning classification algorithms.\n",
    "\n",
    "Cybercrimes are increasing every day, which makes it critical that organizations build a robust system to ensure CPI (Customer Personal Information) and other confidential information is kept secure. Firewalls are one of the most critical tools to safeguard the network. Firewalls are like fencing to keep trespassers away and not allow unauthorized access to the system.\n",
    "\n",
    "\n",
    "<img src=\"https://raw.githubusercontent.com/olmosjorge28/QTW-SPRING-2022/main/ds7333_case_study_5/Firewall.png\" width=500 height=500 />   \n",
    "\n",
    "The efficiency and effectiveness of the firewall are judged by its accuracy and speed to identify malware and other suspicious activities. The firewall implementation can be done by hardware, software, and cloud. It carries out its function by filtering information at the application layer (proxy server) or permitting (or blocking) based on state, port, or protocol. Next-Generation Firewalls conduct deep packet inspection (beyond port/ protocol inspection). The most advanced firewalls are Unified Threat Management (UTM), which integrate multiple methodologies like stateful inspection, deep packet inspection, and Antivirus. The firewalls can provide advanced threat detection and mitigation by correlating ports, protocols, and/or suspicious behaviors. [1]\n",
    "\n",
    "\n",
    "\n",
    "## Model:\n",
    "The team used SVM (Support Vector Machine) and SGD (Stochastic Gradient Descent) classification algorithms to categorize the requests into Allowed or Denied."
   ]
  },
  {
   "cell_type": "markdown",
   "metadata": {
    "id": "_TBIHKRt8g--"
   },
   "source": [
    "### !!! Update Picture !!!\n",
    "\n",
    "<img src=\"https://raw.githubusercontent.com/olmosjorge28/QTW-SPRING-2022/main/ds7333_case_study_5/final_model_coef.png\" />"
   ]
  },
  {
   "cell_type": "markdown",
   "metadata": {
    "id": "PVtcYu5j8g_B"
   },
   "source": [
    "# Data Evaluation <a id='data-evaluation'>\n",
    "    "
   ]
  },
  {
   "cell_type": "markdown",
   "metadata": {
    "id": "ZsIJIUSjOLcl"
   },
   "source": [
    "Summarize data being used?\n",
    "\n",
    "Are there missing values?\n",
    "\n",
    "Which variables are needed and which are not?\n",
    "\n",
    "What assumptions or conclusions are you drawing about your data?"
   ]
  },
  {
   "cell_type": "markdown",
   "metadata": {},
   "source": [
    "## Dataset:\n",
    "The provided dataset contains 65,532 rows and 12 columns. It includes the ports, bytes, and packet information along with elapsed time. The dataset will need no imputation as there are __no missing values__. The ‘Action’ response column identifies the requests that were Allowed or Denied. ‘Action’ with a designation, \"deny\", \"drop\", or \"reset-both\" was categorized as Denied and assigned a value of \"0\" (27,892 requests) and Allowed requests were assigned as \"1\" (37,640 requests). The Dataset is relatively balanced per the barchart below. However, the team decided to use stratified splitting for training and test in an abundance of caution. Also, the dataset will be scaled to bring the values into acceptable ranges for faster, more efficient modeling.\n",
    "\n",
    "<img src=\"https://raw.githubusercontent.com/olmosjorge28/QTW-SPRING-2022/main/ds7333_case_study_5/Action Count.png\" width=250 height=250 />\n",
    "\n",
    "All of the data (other than the target) are numeric, but not necessarily treated as continuous variables. As discussed in the introduction, ports represent a sort of address and are technically categorical features. However, many models can handle these port variables as continuous features which is discussed further below.\n",
    "\n",
    "The Port features were explored for any relationships to the response variable.  Both NAT Source and Destination Ports had clear separation of the class variable at Ports = 0 vs. Ports  > 0. \n",
    "\n",
    "<img src=\"https://raw.githubusercontent.com/olmosjorge28/QTW-SPRING-2022/main/ds7333_case_study_5/EDA_All_Ports.png\" width=600 height=600 />\n",
    "\n",
    "<img src=\"https://raw.githubusercontent.com/olmosjorge28/QTW-SPRING-2022/main/ds7333_case_study_5/EDA_Ports_0.png\" width=600 height=600 />\n",
    "\n",
    "The other numeric features were also examined with histograms.  This was done to explore the scale and distribution of the features, as well as any relationships to the response variable.  Note: features are plotted on a log scale to better visualize the highly skewed data.  Elapsed Time (sec) showed the biggest separation of the target variable with Elapsed Time (sec) = 0 vs. Elapsed Time (sec) > 0.\n",
    "\n",
    "<img src=\"https://raw.githubusercontent.com/olmosjorge28/QTW-SPRING-2022/main/ds7333_case_study_5/EDA_Num_Vars.png\" width=600 height=600 />"
   ]
  },
  {
   "cell_type": "markdown",
   "metadata": {
    "id": "ox-qLqjc8g_B"
   },
   "source": []
  },
  {
   "cell_type": "code",
   "execution_count": 1,
   "metadata": {
    "id": "qcBcP8Jy8g_C",
    "outputId": "a6a85b4a-a106-48bb-bc2a-e6a5fb8ca494"
   },
   "outputs": [],
   "source": [
    "# standard libraries\n",
    "import pandas as pd\n",
    "import numpy as np\n",
    "#import re\n",
    "import os\n",
    "from IPython.display import Image\n",
    "from abc import ABC, abstractmethod\n",
    "import time\n",
    "#import sklearn\n",
    "#import time\n",
    "\n",
    "# visualization\n",
    "import seaborn as sns\n",
    "import matplotlib.pyplot as plt\n",
    "%matplotlib inline\n",
    "from tabulate import tabulate\n",
    "from IPython.display import clear_output\n",
    "import xgboost\n",
    "\n",
    "# data pre-processing\n",
    "from scipy.io import arff\n",
    "#from sklearn.model_selection import train_test_split\n",
    "from sklearn.experimental import enable_iterative_imputer\n",
    "from sklearn.impute import SimpleImputer, KNNImputer, IterativeImputer\n",
    "from sklearn.impute._base import _BaseImputer\n",
    "from sklearn.model_selection import StratifiedShuffleSplit\n",
    "from sklearn.model_selection._split import BaseShuffleSplit\n",
    "from sklearn.datasets import load_digits\n",
    "from sklearn.preprocessing import MinMaxScaler, StandardScaler\n",
    "\n",
    "# prediction models\n",
    "from sklearn.svm import SVC\n",
    "from sklearn.linear_model import SGDClassifier\n",
    "from sklearn.svm._base import BaseSVC \n",
    "from sklearn.model_selection import cross_val_score\n",
    "from sklearn.metrics import f1_score\n",
    "from sklearn.metrics import confusion_matrix\n",
    "from sklearn.metrics import accuracy_score\n",
    "from sklearn.metrics import precision_score\n",
    "from sklearn.metrics import recall_score\n",
    "from sklearn.metrics import fbeta_score\n",
    "\n",
    "# import warnings filter\n",
    "import warnings\n",
    "warnings.filterwarnings('ignore')\n",
    "from warnings import simplefilter \n",
    "simplefilter(action='ignore', category=FutureWarning)"
   ]
  },
  {
   "cell_type": "markdown",
   "metadata": {
    "id": "4WcvKI3y8g_C"
   },
   "source": [
    "## Loading Data <a id='loading-data'>"
   ]
  },
  {
   "cell_type": "code",
   "execution_count": 2,
   "metadata": {
    "id": "ZDhb7boF8g_D"
   },
   "outputs": [],
   "source": [
    "from os import listdir\n",
    "from os.path import isfile, join\n",
    "\n",
    "class FilePathManager:\n",
    "    def __init__(self, local_dir: str):\n",
    "        self.local_dir = local_dir\n",
    "    \n",
    "    def retrieve_full_path(self):\n",
    "        return os.getcwd()+'/'+self.local_dir"
   ]
  },
  {
   "cell_type": "code",
   "execution_count": 3,
   "metadata": {},
   "outputs": [],
   "source": [
    "class Loader:\n",
    "    df = pd.DataFrame()\n",
    "    \n",
    "    @abstractmethod\n",
    "    def load_data(self, file_name):\n",
    "        pass\n",
    "    \n",
    "    @abstractmethod\n",
    "    def get_df(self):\n",
    "        pass\n",
    "    \n",
    "    def size(self):\n",
    "        return len(self.df)\n",
    "        "
   ]
  },
  {
   "cell_type": "code",
   "execution_count": 4,
   "metadata": {},
   "outputs": [],
   "source": [
    "from typing import Callable\n",
    " \n",
    "class CSVLoader(Loader):\n",
    "    def __init__(self, file_path_manager: FilePathManager):\n",
    "        self.file_path_manager = file_path_manager\n",
    "        \n",
    "    def load_data(self, _prepare_data: Callable[[pd.DataFrame], pd.DataFrame] = None):\n",
    "        self.df = pd.read_csv(self.file_path_manager.retrieve_full_path())\n",
    "        if _prepare_data:\n",
    "            self.df = _prepare_data(self.df)\n",
    "    \n",
    "    def get_df(self):\n",
    "        return self.df;\n",
    "    \n",
    "    def size(self):\n",
    "        return len(self.df)  "
   ]
  },
  {
   "cell_type": "code",
   "execution_count": 5,
   "metadata": {},
   "outputs": [],
   "source": [
    "def clean_data(df):\n",
    "    data = df.copy()\n",
    "    data.loc[ df['Action']!='allow', 'Action']='not allow'\n",
    "    depandent = data['Action']\n",
    "    depandent = (depandent=='allow').astype(int)\n",
    "    data['Action']= depandent\n",
    "    return data"
   ]
  },
  {
   "cell_type": "code",
   "execution_count": 6,
   "metadata": {},
   "outputs": [],
   "source": [
    "loader = CSVLoader(FilePathManager('log2.csv'))\n",
    "loader.load_data(clean_data)"
   ]
  },
  {
   "cell_type": "markdown",
   "metadata": {
    "id": "ul_6nw48N5Dy"
   },
   "source": [
    "## Data Summary <a id='data-summary'>"
   ]
  },
  {
   "cell_type": "markdown",
   "metadata": {
    "id": "Aws5HAx98g_E"
   },
   "source": [
    "## Missing Values <a id='missing-values'>\n",
    "\n",
    "No missing values were identified in the dataset!"
   ]
  },
  {
   "cell_type": "code",
   "execution_count": 58,
   "metadata": {},
   "outputs": [
    {
     "name": "stdout",
     "output_type": "stream",
     "text": [
      "<class 'pandas.core.frame.DataFrame'>\n",
      "RangeIndex: 65532 entries, 0 to 65531\n",
      "Data columns (total 12 columns):\n",
      " #   Column                Non-Null Count  Dtype\n",
      "---  ------                --------------  -----\n",
      " 0   Source Port           65532 non-null  int64\n",
      " 1   Destination Port      65532 non-null  int64\n",
      " 2   NAT Source Port       65532 non-null  int64\n",
      " 3   NAT Destination Port  65532 non-null  int64\n",
      " 4   Action                65532 non-null  int64\n",
      " 5   Bytes                 65532 non-null  int64\n",
      " 6   Bytes Sent            65532 non-null  int64\n",
      " 7   Bytes Received        65532 non-null  int64\n",
      " 8   Packets               65532 non-null  int64\n",
      " 9   Elapsed Time (sec)    65532 non-null  int64\n",
      " 10  pkts_sent             65532 non-null  int64\n",
      " 11  pkts_received         65532 non-null  int64\n",
      "dtypes: int64(12)\n",
      "memory usage: 6.0 MB\n"
     ]
    }
   ],
   "source": [
    "loader.get_df().info(verbose=True, null_counts=True)"
   ]
  },
  {
   "cell_type": "markdown",
   "metadata": {
    "id": "21Kdalsl8g_I"
   },
   "source": [
    "## Feature Removal <a id='feature-removal'>"
   ]
  },
  {
   "cell_type": "markdown",
   "metadata": {
    "id": "786e5_En8g_J"
   },
   "source": [
    "The team explored different regularization methods for feature set optimization, for the best SVM model uses L2 regularization which prevents overfitting but does not help with feature reduction. The best SGD Model uses L1 regulartion and drops 6 features (Bytes, Bytes Sent, Bytes Received, Packets, pkts_sent, and pkts_received)."
   ]
  },
  {
   "cell_type": "markdown",
   "metadata": {
    "id": "CbAmkozvN5Dz"
   },
   "source": [
    "## Exploratory Data Analysis (EDA) <a id='eda'>"
   ]
  },
  {
   "cell_type": "code",
   "execution_count": null,
   "metadata": {},
   "outputs": [],
   "source": [
    "df = loader.get_df()"
   ]
  },
  {
   "cell_type": "code",
   "execution_count": 59,
   "metadata": {},
   "outputs": [
    {
     "data": {
      "image/png": "[encoded data removed]",
      "text/plain": [
       "<Figure size 432x288 with 1 Axes>"
      ]
     },
     "metadata": {
      "needs_background": "light"
     },
     "output_type": "display_data"
    }
   ],
   "source": [
    "count_Class=pd.value_counts(df['Action'], sort= True)\n",
    "count_Class.plot(kind= 'bar', color= [\"blue\", \"orange\"])\n",
    "plt.show()"
   ]
  },
  {
   "cell_type": "code",
   "execution_count": 52,
   "metadata": {},
   "outputs": [
    {
     "data": {
      "image/png": "[encoded data removed]",
      "text/plain": [
       "<Figure size 864x360 with 4 Axes>"
      ]
     },
     "metadata": {
      "needs_background": "light"
     },
     "output_type": "display_data"
    }
   ],
   "source": [
    "rows = 2\n",
    "cols = 2\n",
    "port_vars = ['Source Port', 'Destination Port', 'NAT Source Port', 'NAT Destination Port']\n",
    "cont_vars = list( set(df.columns) - set(port_vars) - set(['Action']) )\n",
    "fig, axes = plt.subplots(rows, cols, figsize=(12, 5))\n",
    "for i,j in zip( port_vars, range(len(port_vars)) ):\n",
    "    sns.histplot(ax=axes[int(j/cols),j%cols], data = df, x=df[i], hue = 'Action', \n",
    "                 bins=25, log_scale=[False,False], multiple='dodge')\n",
    "    axes[int(j/cols),j%cols].set_xlabel(i)\n",
    "    #axes[int(j/cols),j%cols].set_ylabel('Count (log scale)')\n",
    "    #axes[int(j/cols),j%cols].set_ylim([0, 35000])\n",
    "\n",
    "plt.suptitle('All Ports')  \n",
    "fig.tight_layout() \n",
    "plt.show()"
   ]
  },
  {
   "cell_type": "code",
   "execution_count": 50,
   "metadata": {},
   "outputs": [
    {
     "data": {
      "image/png": "[encoded data removed]",
      "text/plain": [
       "<Figure size 864x360 with 4 Axes>"
      ]
     },
     "metadata": {
      "needs_background": "light"
     },
     "output_type": "display_data"
    }
   ],
   "source": [
    "rows = 1\n",
    "cols = 4\n",
    "fig, axes = plt.subplots(rows, cols, figsize=(12, 5))\n",
    "\n",
    "for i,j in zip( port_vars, range(len(port_vars)) ):\n",
    "    sns.histplot(ax=axes[j%cols], data = df, x=df[df[i]==0][i], hue = 'Action', \n",
    "                 log_scale=[False,False], multiple='stack')\n",
    "    axes[j%cols].set_xlabel(i)\n",
    "    axes[j%cols].set_xlim([0, 2])\n",
    "    axes[j%cols].set_ylim([0, 30000])\n",
    "    #axes[j%cols].set_ylabel('Count (log scale)')\n",
    "    \n",
    "plt.suptitle('Ports = 0')    \n",
    "fig.tight_layout() \n",
    "plt.show()"
   ]
  },
  {
   "cell_type": "code",
   "execution_count": 53,
   "metadata": {},
   "outputs": [
    {
     "data": {
      "image/png": "[encoded data removed]",
      "text/plain": [
       "<Figure size 864x432 with 8 Axes>"
      ]
     },
     "metadata": {
      "needs_background": "light"
     },
     "output_type": "display_data"
    }
   ],
   "source": [
    "rows = 2\n",
    "cols = 4\n",
    "fig, axes = plt.subplots(rows, cols, figsize=(12, 6))\n",
    "\n",
    "for i,j in zip(cont_vars,range(len(cont_vars))):\n",
    "    sns.histplot(ax=axes[int(j/cols),j%cols], data = df, x=np.log(df[i]+1), hue = 'Action', bins=25)\n",
    "    axes[int(j/cols),j%cols].set_xlabel('Log('+i+'+1)')\n",
    "    axes[int(j/cols),j%cols].set_ylabel('Count')\n",
    "    \n",
    "fig.tight_layout() \n",
    "plt.show()"
   ]
  },
  {
   "cell_type": "markdown",
   "metadata": {
    "id": "z6qUPkzRN5D4"
   },
   "source": [
    "## Assumptions <a id='assumptions'>"
   ]
  },
  {
   "cell_type": "markdown",
   "metadata": {
    "id": "SaEb4apWN5D4"
   },
   "source": [
    "## Todo: finalize assumptions"
   ]
  },
  {
   "cell_type": "markdown",
   "metadata": {
    "id": "zmuI_mep8g_b"
   },
   "source": [
    "# Model Preparations <a id='model-preparations'/>"
   ]
  },
  {
   "cell_type": "markdown",
   "metadata": {},
   "source": [
    "SVM creates decision boundaries with a margin of separation for classification.  Points on one side of the boundary are classified as Allowed, and points on the other side of the boundary are classified as Denied.  Only the points near the decision boundaries and misclassifications are used to determine where the boundaries are ultimately placed.  In this way, SVM is well suited to handle this “gray area” of classification where the two classes are more similar.  These boundaries can be linear or nonlinear (i.e. linear, poly, rbf, sigmoid).  Also, SVM is resistant to the effect of outliers as long as the outliers are on the correct side of the boundary.\n",
    "\n",
    "The Stochastic Gradient Descent (SGD) classifier is a simple and efficient approach to fitting classifiers and regressors such as (linear) Support Vector Machines and Logistic Regression. These are very efficient and easy to implement. SGD should take a much shorter time to complete by minimizing the loss “stochastically”:\n",
    "\n",
    "Due to the large number of rows in the dataset, SGD implementation will leverage a “partial fit” training approach to loop through the dataset in smaller batches to improve the training efficiency (both time and memory). SGD is a method that can reduce memory when working with datasets of vast sizes that overwhelm available computing resources. \n",
    "\n",
    "SGD works similarly to linear regression and logistic regression for classification.  It requires regularization to prevent overfitting as well as hyperparameter tuning to optimize the algorithm for the best performance.\n",
    "\n",
    "Training and test sets were created using a stratified splitting method to maintain the ratio of accepted versus denied requests. 30% of the data was withheld for the test set, and the relevant continuous features were normalized using StandardScaler.\n",
    "\n",
    "The “port” categorical variables were considered for one hot encoding as dummy variables. The team attempted this and discovered that data would grow exponentially from 12 columns to over 27,000. The team dropped the encoded dummy variable proposal as it took a very long time to process the using SVM and SGD. The processing time is one of the critical measures along with the accuracy. Also, the team found that SVM and SGD algorithms are able to handle these categorical variables as continuous variables and still achieve consistent classification with a high accuracy. \n",
    "\n",
    "A range of models were explored using SVM and SGD Classifiers to tune the model hyperparameters. Primarily focused on maximizing __accuracy__ while maintaining an acceptable __compute time__ were the team's evaluation __metrics__ to identify the best model."
   ]
  },
  {
   "cell_type": "markdown",
   "metadata": {
    "id": "BnCsXV_c8g_V"
   },
   "source": [
    "## Sampling & Scaling Data <a id='sampling-scaling-data' />"
   ]
  },
  {
   "cell_type": "markdown",
   "metadata": {
    "id": "cXqoLTm_8g_c"
   },
   "source": [
    "## Proposed Method <a id='proposed-metrics' />"
   ]
  },
  {
   "cell_type": "code",
   "execution_count": 7,
   "metadata": {},
   "outputs": [],
   "source": [
    "class BaseImputer:\n",
    "    @abstractmethod\n",
    "    def fit(self, X, y=None):\n",
    "        pass\n",
    "    \n",
    "    @abstractmethod\n",
    "    def transform(self, X):\n",
    "        pass\n",
    "\n",
    "class BaseModel:\n",
    "    @abstractmethod\n",
    "    def fit(self, X, y, sample_weight=None):\n",
    "        pass\n",
    "    \n",
    "    @abstractmethod\n",
    "    def predict(self, X):\n",
    "        pass"
   ]
  },
  {
   "cell_type": "code",
   "execution_count": 8,
   "metadata": {},
   "outputs": [],
   "source": [
    "class Modeling:\n",
    "    _X_train_fitted = None\n",
    "    _X_test_fitted = None\n",
    "    _y_train = None\n",
    "    _y_test = None\n",
    "    _y_preds = None\n",
    "    \n",
    "    def __init__(self, data: pd.DataFrame, \n",
    "                 target_name: str, \n",
    "                 shuffle_splitter: BaseShuffleSplit, \n",
    "                 imputer: BaseImputer, \n",
    "                 model: BaseModel, scaler = None):\n",
    "        self._data = data\n",
    "        self._target_name = target_name\n",
    "        self._shuffle_splitter = shuffle_splitter\n",
    "        self._imputer = imputer\n",
    "        self._model = model\n",
    "        self._X, self._y = self._split_data()\n",
    "        self._scaler = scaler\n",
    "        \n",
    "    @property\n",
    "    def X(self):\n",
    "        return self._X\n",
    "    \n",
    "    @property\n",
    "    def y(self):\n",
    "        return self._y\n",
    "\n",
    "    @property\n",
    "    def model(self):\n",
    "        return self._model\n",
    "    \n",
    "    @model.setter\n",
    "    def model(self, model):\n",
    "        self._model = model\n",
    "     \n",
    "    @property\n",
    "    def X_train(self):\n",
    "        return self._X_train_fitted\n",
    "    \n",
    "    @property\n",
    "    def X_test(self):\n",
    "        return self._X_test_fitted\n",
    "    \n",
    "    @property\n",
    "    def y_train(self):\n",
    "        return self._y_train\n",
    "    \n",
    "    @property\n",
    "    def y_test(self):\n",
    "        return self._y_test\n",
    "    \n",
    "    @property\n",
    "    def y_preds(self):\n",
    "        return self._y_preds\n",
    "    \n",
    "    def _split_data(self):\n",
    "        X = self._data.copy()\n",
    "        return X.drop([self._target_name], axis=1) , X[self._target_name]\n",
    "    \n",
    "    def _shuffle_split(self):\n",
    "        X = self.X\n",
    "        y = self.y\n",
    "        for train_index, test_index in self._shuffle_splitter.split(X,y):\n",
    "            X_train, X_test = X.iloc[train_index], X.iloc[test_index]\n",
    "            y_train, y_test = y[train_index], y[test_index]\n",
    "        return X_train, X_test, y_train, y_test\n",
    "    \n",
    "    def _fit_imputer(self, train):\n",
    "        if self._imputer is not None:\n",
    "            self._imputer.fit(train)\n",
    "    \n",
    "    def _fit_scaler(self, train):\n",
    "        if self._scaler is not None:\n",
    "            self._scaler.fit(train)\n",
    "    \n",
    "    def _impute_data(self, X: pd.DataFrame):\n",
    "        if self._imputer is not None:\n",
    "            return pd.DataFrame(self._imputer.transform(X), columns = self.X.columns, index = X.index)\n",
    "        return X\n",
    "    \n",
    "    def _scale_data(self, X: pd.DataFrame):\n",
    "        if self._scaler is not None:\n",
    "            X = pd.DataFrame(self._scaler.transform(X), columns = self._X.columns)\n",
    "        return X\n",
    "    \n",
    "    def prepare(self):\n",
    "        X_train, X_test, y_train, y_test = self._shuffle_split()   \n",
    "        self._fit_imputer(X_train)\n",
    "        X_train = self._impute_data(X_train)\n",
    "        X_test = self._impute_data(X_test)\n",
    "        self._fit_scaler(X_train)\n",
    "        self._X_train_fitted = self._scale_data(X_train)\n",
    "        self._X_test_fitted = self._scale_data(X_test)\n",
    "        self._y_train = y_train\n",
    "        self._y_test = y_test\n",
    "        \n",
    "    def prepare_and_train(self):\n",
    "        self.prepare()\n",
    "        return self.train()\n",
    "        \n",
    "    def train(self):\n",
    "        self._model.fit(self.X_train, self.y_train)\n",
    "        self._y_preds = self._model.predict(self.X_train)\n",
    "        \n",
    "        return self.metrics(self.y_train, self.y_preds)\n",
    "        \n",
    "    def test(self):\n",
    "        return self.metrics(self.y_test, self._model.predict(self.X_test))\n",
    "       \n",
    "    @abstractmethod\n",
    "    def metrics(self, y_true = None, y_pred = None):\n",
    "        pass"
   ]
  },
  {
   "cell_type": "code",
   "execution_count": 9,
   "metadata": {},
   "outputs": [],
   "source": [
    "class ClassificationModeling(Modeling):\n",
    "    def __init__(self, \n",
    "                 data: pd.DataFrame, \n",
    "                 target_name: str, \n",
    "                 shuffle_splitter: BaseShuffleSplit, \n",
    "                 imputer: BaseImputer, \n",
    "                 model: BaseModel, \n",
    "                 scaler = None, \n",
    "                 beta: int = 1, \n",
    "                 classification: str = 'binary'):\n",
    "        super().__init__(data, target_name, shuffle_splitter, imputer, model, scaler)\n",
    "        self.beta = beta\n",
    "        self.classification = classification\n",
    "        \n",
    "    @abstractmethod\n",
    "    def metrics(self, y_true = None, y_pred = None):\n",
    "        pass"
   ]
  },
  {
   "cell_type": "code",
   "execution_count": 10,
   "metadata": {},
   "outputs": [],
   "source": [
    "from typing import Type, TypeVar\n",
    "\n",
    "class SVMClassificationModeling(ClassificationModeling):\n",
    "    TSVC = TypeVar(\"TSVC\", bound=BaseSVC)\n",
    "    all_models = [];\n",
    "    \n",
    "    def __init__(self, \n",
    "             data: pd.DataFrame, \n",
    "             target_name: str, \n",
    "             shuffle_splitter: BaseShuffleSplit, \n",
    "             imputer: BaseImputer, \n",
    "             model: BaseModel, \n",
    "             scaler = None, \n",
    "             beta: int = 1, \n",
    "             classification: str = 'binary'):\n",
    "         super().__init__(data, target_name, shuffle_splitter, imputer, model, scaler, beta, classification)\n",
    "        \n",
    "            \n",
    "    def parameter_tuning(self, params, class_to_instantiate: Type[TSVC]):\n",
    "        list_of_models = []\n",
    "        combination = []\n",
    "        params_base = {}\n",
    "        output = []\n",
    "        for key, value in params.items():\n",
    "            if isinstance(value, list):\n",
    "                combination.append((key,value))\n",
    "            else:\n",
    "                params_base[key]=value\n",
    "              \n",
    "        result = SVMClassificationModeling.get_combinations(combination)\n",
    "\n",
    "        for r in result:\n",
    "            list_of_models.append(class_to_instantiate(**{**params_base, **r}))\n",
    "            \n",
    "        for a_model in list_of_models:\n",
    "            self.model = a_model\n",
    "            startTrain = time.time()\n",
    "            train_metrics = self.train()\n",
    "            endTrain = time.time()\n",
    "            test_metrics = self.test()\n",
    "            endTest = time.time()\n",
    "            train_time = endTrain - startTrain\n",
    "            test_time = endTest - endTrain\n",
    "            output.append({'model': a_model, 'train_metrics': {**train_metrics,**{'elapsed_time':train_time}}, 'test_metrics': {**test_metrics,**{'elapsed_time':test_time}}})\n",
    "        self.all_models = output\n",
    "        return output\n",
    "        \n",
    "    def find_best_model(self):\n",
    "        max_accuracy = self.all_models[0]['test_metrics']['accuracy']\n",
    "        location = 0\n",
    "        for indx, output_metrics in enumerate(self.all_models):\n",
    "            if max_accuracy < output_metrics['test_metrics']['accuracy']:\n",
    "                max_accuracy = output_metrics['test_metrics']['accuracy']\n",
    "                location = indx\n",
    "            elif max_accuracy == output_metrics['test_metrics']['accuracy']:\n",
    "                if output_metrics['test_metrics']['elapsed_time'] < self.all_models[location]['test_metrics']['elapsed_time']:\n",
    "                    location = indx\n",
    "                \n",
    "        return self.all_models[location]\n",
    "    \n",
    "    @staticmethod\n",
    "    def get_combinations(tuples):\n",
    "        length = len(tuples)\n",
    "        if length > 1:\n",
    "            total_params = []\n",
    "            tuple_copy = tuples.copy()\n",
    "            a_tuple = tuple_copy.pop(0)\n",
    "            params_list = SVMClassificationModeling.get_combinations(tuple_copy)\n",
    "            for value in a_tuple[1]:\n",
    "                for a_params in params_list:\n",
    "                    temp = { a_tuple[0]: value}\n",
    "                    total_params.append({**temp, **a_params})\n",
    "            return total_params\n",
    "        else:\n",
    "            params_list = []\n",
    "            a_tuple =  tuples[0]\n",
    "            for value in a_tuple[1]:\n",
    "                temp = {}\n",
    "                temp[a_tuple[0]] = value\n",
    "                params_list.append(temp)\n",
    "            return params_list\n",
    "            \n",
    "    \n",
    "    def metrics(self, y_true = None, y_pred = None):\n",
    "        if y_true is None and y_pred is None:\n",
    "            y_true = self.y_train\n",
    "            y_pred = self.y_preds       \n",
    "        return {'matrix': confusion_matrix(y_true, y_pred), \n",
    "                'accuracy': round(accuracy_score(y_true, y_pred), 5), \n",
    "                'precision': precision_score(y_true, y_pred, average=self.classification), \n",
    "                'recall': recall_score(y_true, y_pred, average=self.classification),\n",
    "                'f1': f1_score(y_true, y_pred)}"
   ]
  },
  {
   "cell_type": "markdown",
   "metadata": {
    "id": "HT4eeZsX8g_c"
   },
   "source": [
    "## Evaluation Metrics <a id='evaluation-metrics' />"
   ]
  },
  {
   "cell_type": "markdown",
   "metadata": {
    "id": "hGvfqpC4N5D6"
   },
   "source": [
    " "
   ]
  },
  {
   "cell_type": "markdown",
   "metadata": {
    "id": "DeWgSmQW8g_Z"
   },
   "source": [
    "### Baseline Model"
   ]
  },
  {
   "cell_type": "markdown",
   "metadata": {
    "id": "UUpR8S0tN5D7"
   },
   "source": [
    "If the model allowed all requests through it would be 57.4% accurate but useless for security.  "
   ]
  },
  {
   "cell_type": "code",
   "execution_count": 11,
   "metadata": {
    "id": "ul4ybaieN5D7",
    "scrolled": true
   },
   "outputs": [
    {
     "data": {
      "text/plain": [
       "1    0.574376\n",
       "0    0.425624\n",
       "Name: Action, dtype: float64"
      ]
     },
     "execution_count": 11,
     "metadata": {},
     "output_type": "execute_result"
    }
   ],
   "source": [
    "loader.get_df()['Action'].value_counts(normalize=True)"
   ]
  },
  {
   "cell_type": "code",
   "execution_count": 54,
   "metadata": {},
   "outputs": [
    {
     "data": {
      "image/png": "[encoded data removed]",
      "text/plain": [
       "<Figure size 432x288 with 1 Axes>"
      ]
     },
     "metadata": {
      "needs_background": "light"
     },
     "output_type": "display_data"
    }
   ],
   "source": [
    "count_Class=pd.value_counts(df['Action'], sort= True)\n",
    "count_Class.plot(kind= 'bar', color= [\"blue\", \"orange\"])\n",
    "plt.show()"
   ]
  },
  {
   "cell_type": "markdown",
   "metadata": {
    "id": "rADZ1qTz8g_c"
   },
   "source": [
    "## Feature Selection <a id='feature-selection' />\n",
    "Regularization was used for feature selection with SGD.  For SGD, L1, L2, and Elastic Net regularization were used to find the best model. \n",
    "\n",
    "L1 regularization was used for the best model with SGD after dropping 6 featuresm and 5 features remained (Source Port, Destination Port, NAT Source Port, NAT Destination Port, and Elapsed Time).\n",
    "\n",
    "For SVM, sklearn only uses L2 regularization which prevents overfitting but does not help with feature reduction, all features were used for the model."
   ]
  },
  {
   "cell_type": "markdown",
   "metadata": {
    "id": "UuRjMsjg8g_d"
   },
   "source": [
    "# Model Building & Evaluations <a id='model-building'/>"
   ]
  },
  {
   "cell_type": "markdown",
   "metadata": {
    "id": "JIef6T0FPIVM"
   },
   "source": [
    "In this case, your primary task is to use SVM and SGD to build a model to determine whether or not to accept or deny access to internet requests coming across a network and will involve the following steps:\n",
    "\n",
    "- Specify your sampling methodology\n",
    "- Setup your models - highlighting any important parameters\n",
    "- Analyze your model's performance - referencing your chosen evaluation metric (including supplemental visuals and analysis where appropriate)"
   ]
  },
  {
   "cell_type": "markdown",
   "metadata": {
    "id": "UU9VF8AM8g_d"
   },
   "source": [
    "## Sampling Methodology <a id='sampling-methodology'/>"
   ]
  },
  {
   "cell_type": "markdown",
   "metadata": {},
   "source": [
    "### Split into training and test\n",
    "The data were split into training and test sets using a 70/30 stratified split to ensure class balance in the training and test sets.  This was done in an abundance of caution (the classes were split 55:45 between Allow and Deny, respectively)"
   ]
  },
  {
   "cell_type": "markdown",
   "metadata": {},
   "source": [
    "## Modeling"
   ]
  },
  {
   "cell_type": "markdown",
   "metadata": {},
   "source": [
    "### SVM"
   ]
  },
  {
   "cell_type": "code",
   "execution_count": 12,
   "metadata": {
    "id": "hDVXhO8F8g_d",
    "scrolled": true
   },
   "outputs": [],
   "source": [
    "svc_classifier = SVMClassificationModeling(loader.get_df(),'Action',\n",
    "                           StratifiedShuffleSplit(n_splits=1, test_size=0.3, random_state=12343),\n",
    "                           None, # no imputation\n",
    "                           SVC,\n",
    "                           StandardScaler(), beta=2)"
   ]
  },
  {
   "cell_type": "code",
   "execution_count": 13,
   "metadata": {},
   "outputs": [],
   "source": [
    "svc_classifier.prepare()"
   ]
  },
  {
   "cell_type": "code",
   "execution_count": 14,
   "metadata": {},
   "outputs": [],
   "source": [
    "svc_results = svc_classifier.parameter_tuning({\n",
    "'C': [0.005, 0.01, 0.05, 0.1, 0.2, 0.5, 1, 2, 10, 100],\n",
    "'kernel': ['linear','rbf']\n",
    "}, SVC)"
   ]
  },
  {
   "cell_type": "code",
   "execution_count": 15,
   "metadata": {},
   "outputs": [
    {
     "data": {
      "text/plain": [
       "{'model': SVC(C=100),\n",
       " 'train_metrics': {'matrix': array([[19507,    17],\n",
       "         [   75, 26273]]),\n",
       "  'accuracy': 0.99799,\n",
       "  'precision': 0.999353366298973,\n",
       "  'recall': 0.9971534841354183,\n",
       "  'f1': 0.9982522132299859,\n",
       "  'elapsed_time': 2.666105031967163},\n",
       " 'test_metrics': {'matrix': array([[ 8361,     7],\n",
       "         [   28, 11264]]),\n",
       "  'accuracy': 0.99822,\n",
       "  'precision': 0.9993789370952001,\n",
       "  'recall': 0.9975203684024088,\n",
       "  'f1': 0.9984487878384967,\n",
       "  'elapsed_time': 0.25653791427612305}}"
      ]
     },
     "execution_count": 15,
     "metadata": {},
     "output_type": "execute_result"
    }
   ],
   "source": [
    "svc_classifier.find_best_model()"
   ]
  },
  {
   "cell_type": "code",
   "execution_count": 16,
   "metadata": {},
   "outputs": [
    {
     "data": {
      "text/html": [
       "<div>\n",
       "<style scoped>\n",
       "    .dataframe tbody tr th:only-of-type {\n",
       "        vertical-align: middle;\n",
       "    }\n",
       "\n",
       "    .dataframe tbody tr th {\n",
       "        vertical-align: top;\n",
       "    }\n",
       "\n",
       "    .dataframe thead th {\n",
       "        text-align: right;\n",
       "    }\n",
       "</style>\n",
       "<table border=\"1\" class=\"dataframe\">\n",
       "  <thead>\n",
       "    <tr style=\"text-align: right;\">\n",
       "      <th></th>\n",
       "      <th>C</th>\n",
       "      <th>Test Accuracy</th>\n",
       "      <th>Train Accuracy</th>\n",
       "      <th>kernel</th>\n",
       "    </tr>\n",
       "  </thead>\n",
       "  <tbody>\n",
       "    <tr>\n",
       "      <th>0</th>\n",
       "      <td>0.005</td>\n",
       "      <td>0.97091</td>\n",
       "      <td>0.97090</td>\n",
       "      <td>linear</td>\n",
       "    </tr>\n",
       "    <tr>\n",
       "      <th>1</th>\n",
       "      <td>0.005</td>\n",
       "      <td>0.93810</td>\n",
       "      <td>0.94005</td>\n",
       "      <td>rbf</td>\n",
       "    </tr>\n",
       "    <tr>\n",
       "      <th>2</th>\n",
       "      <td>0.010</td>\n",
       "      <td>0.97823</td>\n",
       "      <td>0.97794</td>\n",
       "      <td>linear</td>\n",
       "    </tr>\n",
       "    <tr>\n",
       "      <th>3</th>\n",
       "      <td>0.010</td>\n",
       "      <td>0.95290</td>\n",
       "      <td>0.95389</td>\n",
       "      <td>rbf</td>\n",
       "    </tr>\n",
       "    <tr>\n",
       "      <th>4</th>\n",
       "      <td>0.050</td>\n",
       "      <td>0.99130</td>\n",
       "      <td>0.99050</td>\n",
       "      <td>linear</td>\n",
       "    </tr>\n",
       "    <tr>\n",
       "      <th>5</th>\n",
       "      <td>0.050</td>\n",
       "      <td>0.97543</td>\n",
       "      <td>0.97574</td>\n",
       "      <td>rbf</td>\n",
       "    </tr>\n",
       "    <tr>\n",
       "      <th>6</th>\n",
       "      <td>0.100</td>\n",
       "      <td>0.99308</td>\n",
       "      <td>0.99287</td>\n",
       "      <td>linear</td>\n",
       "    </tr>\n",
       "    <tr>\n",
       "      <th>7</th>\n",
       "      <td>0.100</td>\n",
       "      <td>0.98138</td>\n",
       "      <td>0.98151</td>\n",
       "      <td>rbf</td>\n",
       "    </tr>\n",
       "    <tr>\n",
       "      <th>8</th>\n",
       "      <td>0.200</td>\n",
       "      <td>0.99791</td>\n",
       "      <td>0.99771</td>\n",
       "      <td>linear</td>\n",
       "    </tr>\n",
       "    <tr>\n",
       "      <th>9</th>\n",
       "      <td>0.200</td>\n",
       "      <td>0.98667</td>\n",
       "      <td>0.98644</td>\n",
       "      <td>rbf</td>\n",
       "    </tr>\n",
       "    <tr>\n",
       "      <th>10</th>\n",
       "      <td>0.500</td>\n",
       "      <td>0.99791</td>\n",
       "      <td>0.99771</td>\n",
       "      <td>linear</td>\n",
       "    </tr>\n",
       "    <tr>\n",
       "      <th>11</th>\n",
       "      <td>0.500</td>\n",
       "      <td>0.99181</td>\n",
       "      <td>0.99165</td>\n",
       "      <td>rbf</td>\n",
       "    </tr>\n",
       "    <tr>\n",
       "      <th>12</th>\n",
       "      <td>1.000</td>\n",
       "      <td>0.99791</td>\n",
       "      <td>0.99760</td>\n",
       "      <td>linear</td>\n",
       "    </tr>\n",
       "    <tr>\n",
       "      <th>13</th>\n",
       "      <td>1.000</td>\n",
       "      <td>0.99746</td>\n",
       "      <td>0.99721</td>\n",
       "      <td>rbf</td>\n",
       "    </tr>\n",
       "    <tr>\n",
       "      <th>14</th>\n",
       "      <td>2.000</td>\n",
       "      <td>0.99791</td>\n",
       "      <td>0.99765</td>\n",
       "      <td>linear</td>\n",
       "    </tr>\n",
       "    <tr>\n",
       "      <th>15</th>\n",
       "      <td>2.000</td>\n",
       "      <td>0.99797</td>\n",
       "      <td>0.99756</td>\n",
       "      <td>rbf</td>\n",
       "    </tr>\n",
       "    <tr>\n",
       "      <th>16</th>\n",
       "      <td>10.000</td>\n",
       "      <td>0.99791</td>\n",
       "      <td>0.99747</td>\n",
       "      <td>linear</td>\n",
       "    </tr>\n",
       "    <tr>\n",
       "      <th>17</th>\n",
       "      <td>10.000</td>\n",
       "      <td>0.99812</td>\n",
       "      <td>0.99789</td>\n",
       "      <td>rbf</td>\n",
       "    </tr>\n",
       "    <tr>\n",
       "      <th>18</th>\n",
       "      <td>100.000</td>\n",
       "      <td>0.99807</td>\n",
       "      <td>0.99762</td>\n",
       "      <td>linear</td>\n",
       "    </tr>\n",
       "    <tr>\n",
       "      <th>19</th>\n",
       "      <td>100.000</td>\n",
       "      <td>0.99822</td>\n",
       "      <td>0.99799</td>\n",
       "      <td>rbf</td>\n",
       "    </tr>\n",
       "  </tbody>\n",
       "</table>\n",
       "</div>"
      ],
      "text/plain": [
       "          C  Test Accuracy  Train Accuracy  kernel\n",
       "0     0.005        0.97091         0.97090  linear\n",
       "1     0.005        0.93810         0.94005     rbf\n",
       "2     0.010        0.97823         0.97794  linear\n",
       "3     0.010        0.95290         0.95389     rbf\n",
       "4     0.050        0.99130         0.99050  linear\n",
       "5     0.050        0.97543         0.97574     rbf\n",
       "6     0.100        0.99308         0.99287  linear\n",
       "7     0.100        0.98138         0.98151     rbf\n",
       "8     0.200        0.99791         0.99771  linear\n",
       "9     0.200        0.98667         0.98644     rbf\n",
       "10    0.500        0.99791         0.99771  linear\n",
       "11    0.500        0.99181         0.99165     rbf\n",
       "12    1.000        0.99791         0.99760  linear\n",
       "13    1.000        0.99746         0.99721     rbf\n",
       "14    2.000        0.99791         0.99765  linear\n",
       "15    2.000        0.99797         0.99756     rbf\n",
       "16   10.000        0.99791         0.99747  linear\n",
       "17   10.000        0.99812         0.99789     rbf\n",
       "18  100.000        0.99807         0.99762  linear\n",
       "19  100.000        0.99822         0.99799     rbf"
      ]
     },
     "execution_count": 16,
     "metadata": {},
     "output_type": "execute_result"
    }
   ],
   "source": [
    "##extract C and Accuracies\n",
    "svc_tuning = pd.DataFrame()\n",
    "for result in svc_results:\n",
    "    svc_tuning = svc_tuning.append({'kernel': result['model'].get_params()['kernel'],\n",
    "                                    'C': result['model'].get_params()['C'],\n",
    "                                   'Train Accuracy': result['train_metrics']['accuracy'],\n",
    "                                   'Test Accuracy': result['test_metrics']['accuracy']},\n",
    "                                   ignore_index=True)\n",
    "svc_tuning"
   ]
  },
  {
   "cell_type": "code",
   "execution_count": 17,
   "metadata": {},
   "outputs": [
    {
     "data": {
      "image/png": "[encoded data removed]",
      "text/plain": [
       "<Figure size 432x288 with 1 Axes>"
      ]
     },
     "metadata": {
      "needs_background": "light"
     },
     "output_type": "display_data"
    }
   ],
   "source": [
    "sns.lineplot(data = svc_tuning[svc_tuning['kernel']=='linear'], x='C', y='Train Accuracy', color='blue')\n",
    "sns.lineplot(data = svc_tuning[svc_tuning['kernel']=='linear'], x='C', y='Test Accuracy', color='red')\n",
    "plt.title('Linear SVM Tuning')\n",
    "plt.legend(['Train','Test'], loc='center right')\n",
    "#plt.axvline(100, color='black', ls='--') \n",
    "plt.xscale('log')\n",
    "plt.show()"
   ]
  },
  {
   "cell_type": "code",
   "execution_count": 18,
   "metadata": {},
   "outputs": [
    {
     "data": {
      "image/png": "[encoded data removed]",
      "text/plain": [
       "<Figure size 432x288 with 1 Axes>"
      ]
     },
     "metadata": {
      "needs_background": "light"
     },
     "output_type": "display_data"
    }
   ],
   "source": [
    "sns.lineplot(data = svc_tuning[svc_tuning['kernel']=='rbf'], x='C', y='Train Accuracy', color='blue')\n",
    "sns.lineplot(data = svc_tuning[svc_tuning['kernel']=='rbf'], x='C', y='Test Accuracy', color='red')\n",
    "plt.title('Gaussian (RBF) SVM Tuning')\n",
    "plt.legend(['Train','Test'], loc='center')\n",
    "plt.axvline(100, color='black', ls='--') \n",
    "plt.xscale('log')\n",
    "plt.show()"
   ]
  },
  {
   "cell_type": "markdown",
   "metadata": {},
   "source": [
    "### SGD"
   ]
  },
  {
   "cell_type": "code",
   "execution_count": 19,
   "metadata": {},
   "outputs": [],
   "source": [
    "sgd_classifier = SVMClassificationModeling(loader.get_df(),'Action',\n",
    "                           StratifiedShuffleSplit(n_splits=1, test_size=0.3, random_state=12343),\n",
    "                           None, # no imputation\n",
    "                           SGDClassifier,\n",
    "                           StandardScaler(), beta=2)"
   ]
  },
  {
   "cell_type": "code",
   "execution_count": 20,
   "metadata": {},
   "outputs": [],
   "source": [
    "sgd_classifier.prepare()"
   ]
  },
  {
   "cell_type": "code",
   "execution_count": 37,
   "metadata": {},
   "outputs": [],
   "source": [
    "sgd_results = sgd_classifier.parameter_tuning({\n",
    "    \"max_iter\":1000,\n",
    "    \"loss\" : [\"hinge\", \"log\", \"squared_hinge\", \"modified_huber\", \"perceptron\"],\n",
    "    \"alpha\" : [0.0001, 0.001, 0.01, 0.1],\n",
    "    \"penalty\" : [\"l2\", \"l1\", \"elasticnet\"],\n",
    "    \"random_state\" : 0,\n",
    "}, SGDClassifier)"
   ]
  },
  {
   "cell_type": "code",
   "execution_count": 38,
   "metadata": {},
   "outputs": [
    {
     "data": {
      "text/plain": [
       "[{'model': SGDClassifier(random_state=0),\n",
       "  'train_metrics': {'matrix': array([[19507,    17],\n",
       "          [   90, 26258]]),\n",
       "   'accuracy': 0.99767,\n",
       "   'precision': 0.9993529971455757,\n",
       "   'recall': 0.9965841809625019,\n",
       "   'f1': 0.9979666685669765,\n",
       "   'elapsed_time': 0.18634700775146484},\n",
       "  'test_metrics': {'matrix': array([[ 8361,     7],\n",
       "          [   37, 11255]]),\n",
       "   'accuracy': 0.99776,\n",
       "   'precision': 0.9993784407742852,\n",
       "   'recall': 0.9967233439603259,\n",
       "   'f1': 0.9980491265407466,\n",
       "   'elapsed_time': 0.05939912796020508}},\n",
       " {'model': SGDClassifier(penalty='l1', random_state=0),\n",
       "  'train_metrics': {'matrix': array([[19507,    17],\n",
       "          [   66, 26282]]),\n",
       "   'accuracy': 0.99819,\n",
       "   'precision': 0.9993535875888817,\n",
       "   'recall': 0.997495066039168,\n",
       "   'f1': 0.9984234619256557,\n",
       "   'elapsed_time': 0.1868288516998291},\n",
       "  'test_metrics': {'matrix': array([[ 8361,     7],\n",
       "          [   25, 11267]]),\n",
       "   'accuracy': 0.99837,\n",
       "   'precision': 0.9993791023594111,\n",
       "   'recall': 0.9977860432164364,\n",
       "   'f1': 0.9985819374279891,\n",
       "   'elapsed_time': 0.051094770431518555}},\n",
       " {'model': SGDClassifier(penalty='elasticnet', random_state=0),\n",
       "  'train_metrics': {'matrix': array([[19507,    17],\n",
       "          [   92, 26256]]),\n",
       "   'accuracy': 0.99762,\n",
       "   'precision': 0.9993529478932744,\n",
       "   'recall': 0.9965082738727797,\n",
       "   'f1': 0.9979285836453128,\n",
       "   'elapsed_time': 0.18729591369628906},\n",
       "  'test_metrics': {'matrix': array([[ 8361,     7],\n",
       "          [   35, 11257]]),\n",
       "   'accuracy': 0.99786,\n",
       "   'precision': 0.9993785511363636,\n",
       "   'recall': 0.996900460503011,\n",
       "   'f1': 0.9981379677247738,\n",
       "   'elapsed_time': 0.05545186996459961}},\n",
       " {'model': SGDClassifier(alpha=0.001, random_state=0),\n",
       "  'train_metrics': {'matrix': array([[19507,    17],\n",
       "          [  693, 25655]]),\n",
       "   'accuracy': 0.98452,\n",
       "   'precision': 0.9993377999376752,\n",
       "   'recall': 0.9736981934112646,\n",
       "   'f1': 0.9863514033064206,\n",
       "   'elapsed_time': 0.16401410102844238},\n",
       "  'test_metrics': {'matrix': array([[ 8361,     7],\n",
       "          [  297, 10995]]),\n",
       "   'accuracy': 0.98454,\n",
       "   'precision': 0.9993637520450828,\n",
       "   'recall': 0.9736981934112646,\n",
       "   'f1': 0.9863640441374362,\n",
       "   'elapsed_time': 0.04826188087463379}},\n",
       " {'model': SGDClassifier(alpha=0.001, penalty='l1', random_state=0),\n",
       "  'train_metrics': {'matrix': array([[19507,    17],\n",
       "          [   72, 26276]]),\n",
       "   'accuracy': 0.99806,\n",
       "   'precision': 0.9993534400791085,\n",
       "   'recall': 0.9972673447700016,\n",
       "   'f1': 0.9983093026348284,\n",
       "   'elapsed_time': 0.2006080150604248},\n",
       "  'test_metrics': {'matrix': array([[ 8361,     7],\n",
       "          [   28, 11264]]),\n",
       "   'accuracy': 0.99822,\n",
       "   'precision': 0.9993789370952001,\n",
       "   'recall': 0.9975203684024088,\n",
       "   'f1': 0.9984487878384967,\n",
       "   'elapsed_time': 0.06779789924621582}},\n",
       " {'model': SGDClassifier(alpha=0.001, penalty='elasticnet', random_state=0),\n",
       "  'train_metrics': {'matrix': array([[19507,    17],\n",
       "          [  656, 25692]]),\n",
       "   'accuracy': 0.98533,\n",
       "   'precision': 0.9993387529658875,\n",
       "   'recall': 0.975102474571125,\n",
       "   'f1': 0.987071863534203,\n",
       "   'elapsed_time': 0.26242685317993164},\n",
       "  'test_metrics': {'matrix': array([[ 8361,     7],\n",
       "          [  278, 11014]]),\n",
       "   'accuracy': 0.9855,\n",
       "   'precision': 0.99936484892478,\n",
       "   'recall': 0.9753808005667729,\n",
       "   'f1': 0.9872271769820283,\n",
       "   'elapsed_time': 0.05382132530212402}},\n",
       " {'model': SGDClassifier(alpha=0.01, random_state=0),\n",
       "  'train_metrics': {'matrix': array([[19507,    17],\n",
       "          [ 1901, 24447]]),\n",
       "   'accuracy': 0.95819,\n",
       "   'precision': 0.9993051013734467,\n",
       "   'recall': 0.9278503112190679,\n",
       "   'f1': 0.9622530110997403,\n",
       "   'elapsed_time': 0.19655299186706543},\n",
       "  'test_metrics': {'matrix': array([[ 8361,     7],\n",
       "          [  829, 10463]]),\n",
       "   'accuracy': 0.95748,\n",
       "   'precision': 0.9993314231136581,\n",
       "   'recall': 0.9265851930570316,\n",
       "   'f1': 0.9615844131973165,\n",
       "   'elapsed_time': 0.0684506893157959}},\n",
       " {'model': SGDClassifier(alpha=0.01, penalty='l1', random_state=0),\n",
       "  'train_metrics': {'matrix': array([[19507,    17],\n",
       "          [ 1302, 25046]]),\n",
       "   'accuracy': 0.97125,\n",
       "   'precision': 0.9993217092925827,\n",
       "   'recall': 0.9505844845908608,\n",
       "   'f1': 0.9743440119818716,\n",
       "   'elapsed_time': 0.23599720001220703},\n",
       "  'test_metrics': {'matrix': array([[ 8361,     7],\n",
       "          [  560, 10732]]),\n",
       "   'accuracy': 0.97116,\n",
       "   'precision': 0.9993481702206909,\n",
       "   'recall': 0.9504073680481757,\n",
       "   'f1': 0.9742635377422724,\n",
       "   'elapsed_time': 0.06949090957641602}},\n",
       " {'model': SGDClassifier(alpha=0.01, penalty='elasticnet', random_state=0),\n",
       "  'train_metrics': {'matrix': array([[19507,    17],\n",
       "          [ 1851, 24497]]),\n",
       "   'accuracy': 0.95928,\n",
       "   'precision': 0.9993065187239945,\n",
       "   'recall': 0.9297479884621224,\n",
       "   'f1': 0.9632731705398921,\n",
       "   'elapsed_time': 0.21430492401123047},\n",
       "  'test_metrics': {'matrix': array([[ 8361,     7],\n",
       "          [  813, 10479]]),\n",
       "   'accuracy': 0.95829,\n",
       "   'precision': 0.9993324432576769,\n",
       "   'recall': 0.9280021253985122,\n",
       "   'f1': 0.9623473229865002,\n",
       "   'elapsed_time': 0.05336189270019531}},\n",
       " {'model': SGDClassifier(alpha=0.1, random_state=0),\n",
       "  'train_metrics': {'matrix': array([[19510,    14],\n",
       "          [ 4652, 21696]]),\n",
       "   'accuracy': 0.89828,\n",
       "   'precision': 0.999355135882082,\n",
       "   'recall': 0.8234401093062091,\n",
       "   'f1': 0.9029089849764866,\n",
       "   'elapsed_time': 0.17702412605285645},\n",
       "  'test_metrics': {'matrix': array([[8363,    5],\n",
       "          [2041, 9251]]),\n",
       "   'accuracy': 0.89593,\n",
       "   'precision': 0.9994598098530683,\n",
       "   'recall': 0.8192525681898689,\n",
       "   'f1': 0.9004282655246253,\n",
       "   'elapsed_time': 0.056610107421875}},\n",
       " {'model': SGDClassifier(alpha=0.1, penalty='l1', random_state=0),\n",
       "  'train_metrics': {'matrix': array([[19510,    14],\n",
       "          [ 4417, 21931]]),\n",
       "   'accuracy': 0.90341,\n",
       "   'precision': 0.9993620414673047,\n",
       "   'recall': 0.8323591923485654,\n",
       "   'f1': 0.9082475721119002,\n",
       "   'elapsed_time': 0.1983640193939209},\n",
       "  'test_metrics': {'matrix': array([[8362,    6],\n",
       "          [1960, 9332]]),\n",
       "   'accuracy': 0.9,\n",
       "   'precision': 0.9993574641250803,\n",
       "   'recall': 0.8264257881686149,\n",
       "   'f1': 0.9047018904507997,\n",
       "   'elapsed_time': 0.06210684776306152}},\n",
       " {'model': SGDClassifier(alpha=0.1, penalty='elasticnet', random_state=0),\n",
       "  'train_metrics': {'matrix': array([[19510,    14],\n",
       "          [ 4696, 21652]]),\n",
       "   'accuracy': 0.89732,\n",
       "   'precision': 0.9993538262715775,\n",
       "   'recall': 0.8217701533323213,\n",
       "   'f1': 0.9019036114466613,\n",
       "   'elapsed_time': 0.26586294174194336},\n",
       "  'test_metrics': {'matrix': array([[8363,    5],\n",
       "          [2061, 9231]]),\n",
       "   'accuracy': 0.89491,\n",
       "   'precision': 0.9994586401039411,\n",
       "   'recall': 0.8174814027630181,\n",
       "   'f1': 0.89935697583788,\n",
       "   'elapsed_time': 0.06159377098083496}},\n",
       " {'model': SGDClassifier(loss='log', random_state=0),\n",
       "  'train_metrics': {'matrix': array([[19507,    17],\n",
       "          [  540, 25808]]),\n",
       "   'accuracy': 0.98786,\n",
       "   'precision': 0.9993417231364956,\n",
       "   'recall': 0.9795050857750114,\n",
       "   'f1': 0.9893239798363137,\n",
       "   'elapsed_time': 0.2224597930908203},\n",
       "  'test_metrics': {'matrix': array([[ 8361,     7],\n",
       "          [  230, 11062]]),\n",
       "   'accuracy': 0.98795,\n",
       "   'precision': 0.9993676032161893,\n",
       "   'recall': 0.979631597591215,\n",
       "   'f1': 0.9894011895711282,\n",
       "   'elapsed_time': 0.07798504829406738}},\n",
       " {'model': SGDClassifier(loss='log', penalty='l1', random_state=0),\n",
       "  'train_metrics': {'matrix': array([[19507,    17],\n",
       "          [  101, 26247]]),\n",
       "   'accuracy': 0.99743,\n",
       "   'precision': 0.9993527261650929,\n",
       "   'recall': 0.99616669196903,\n",
       "   'f1': 0.9977571656656277,\n",
       "   'elapsed_time': 0.2426748275756836},\n",
       "  'test_metrics': {'matrix': array([[ 8361,     7],\n",
       "          [   40, 11252]]),\n",
       "   'accuracy': 0.99761,\n",
       "   'precision': 0.9993782751576517,\n",
       "   'recall': 0.9964576691462983,\n",
       "   'f1': 0.9979158352179504,\n",
       "   'elapsed_time': 0.049497127532958984}},\n",
       " {'model': SGDClassifier(loss='log', penalty='elasticnet', random_state=0),\n",
       "  'train_metrics': {'matrix': array([[19507,    17],\n",
       "          [  502, 25846]]),\n",
       "   'accuracy': 0.98869,\n",
       "   'precision': 0.9993426903298148,\n",
       "   'recall': 0.9809473204797328,\n",
       "   'f1': 0.9900595659918409,\n",
       "   'elapsed_time': 0.2622981071472168},\n",
       "  'test_metrics': {'matrix': array([[ 8361,     7],\n",
       "          [  215, 11077]]),\n",
       "   'accuracy': 0.98871,\n",
       "   'precision': 0.9993684590400578,\n",
       "   'recall': 0.9809599716613532,\n",
       "   'f1': 0.9900786557025384,\n",
       "   'elapsed_time': 0.05330801010131836}},\n",
       " {'model': SGDClassifier(alpha=0.001, loss='log', random_state=0),\n",
       "  'train_metrics': {'matrix': array([[19507,    17],\n",
       "          [ 1163, 25185]]),\n",
       "   'accuracy': 0.97428,\n",
       "   'precision': 0.9993254503610824,\n",
       "   'recall': 0.9558600273265523,\n",
       "   'f1': 0.977109602327837,\n",
       "   'elapsed_time': 0.25977110862731934},\n",
       "  'test_metrics': {'matrix': array([[ 8361,     7],\n",
       "          [  507, 10785]]),\n",
       "   'accuracy': 0.97386,\n",
       "   'precision': 0.999351371386212,\n",
       "   'recall': 0.9551009564293305,\n",
       "   'f1': 0.9767252309364244,\n",
       "   'elapsed_time': 0.0632169246673584}},\n",
       " {'model': SGDClassifier(alpha=0.001, loss='log', penalty='l1', random_state=0),\n",
       "  'train_metrics': {'matrix': array([[19507,    17],\n",
       "          [  661, 25687]]),\n",
       "   'accuracy': 0.98522,\n",
       "   'precision': 0.9993386243386243,\n",
       "   'recall': 0.9749127068468195,\n",
       "   'f1': 0.9869745638976408,\n",
       "   'elapsed_time': 0.237105131149292},\n",
       "  'test_metrics': {'matrix': array([[ 8361,     7],\n",
       "          [  289, 11003]]),\n",
       "   'accuracy': 0.98494,\n",
       "   'precision': 0.9993642143505904,\n",
       "   'recall': 0.974406659582005,\n",
       "   'f1': 0.986727647744597,\n",
       "   'elapsed_time': 0.06274700164794922}},\n",
       " {'model': SGDClassifier(alpha=0.001, loss='log', penalty='elasticnet', random_state=0),\n",
       "  'train_metrics': {'matrix': array([[19507,    17],\n",
       "          [ 1136, 25212]]),\n",
       "   'accuracy': 0.97486,\n",
       "   'precision': 0.9993261722620793,\n",
       "   'recall': 0.9568847730378017,\n",
       "   'f1': 0.9776450743548482,\n",
       "   'elapsed_time': 0.28513169288635254},\n",
       "  'test_metrics': {'matrix': array([[ 8361,     7],\n",
       "          [  495, 10797]]),\n",
       "   'accuracy': 0.97447,\n",
       "   'precision': 0.9993520918178452,\n",
       "   'recall': 0.956163655685441,\n",
       "   'f1': 0.9772809558291093,\n",
       "   'elapsed_time': 0.07755303382873535}},\n",
       " {'model': SGDClassifier(alpha=0.01, loss='log', random_state=0),\n",
       "  'train_metrics': {'matrix': array([[19507,    17],\n",
       "          [ 2051, 24297]]),\n",
       "   'accuracy': 0.95492,\n",
       "   'precision': 0.9993008143456444,\n",
       "   'recall': 0.9221572794899043,\n",
       "   'f1': 0.9591804508309976,\n",
       "   'elapsed_time': 0.2525520324707031},\n",
       "  'test_metrics': {'matrix': array([[ 8361,     7],\n",
       "          [  902, 10390]]),\n",
       "   'accuracy': 0.95376,\n",
       "   'precision': 0.9993267288640955,\n",
       "   'recall': 0.9201204392490259,\n",
       "   'f1': 0.9580893540504404,\n",
       "   'elapsed_time': 0.07402586936950684}},\n",
       " {'model': SGDClassifier(alpha=0.01, loss='log', penalty='l1', random_state=0),\n",
       "  'train_metrics': {'matrix': array([[19507,    17],\n",
       "          [ 1908, 24440]]),\n",
       "   'accuracy': 0.95804,\n",
       "   'precision': 0.9993049024819071,\n",
       "   'recall': 0.9275846364050402,\n",
       "   'f1': 0.962110028540498,\n",
       "   'elapsed_time': 0.32030701637268066},\n",
       "  'test_metrics': {'matrix': array([[ 8361,     7],\n",
       "          [  827, 10465]]),\n",
       "   'accuracy': 0.95758,\n",
       "   'precision': 0.9993315508021391,\n",
       "   'recall': 0.9267623095997166,\n",
       "   'f1': 0.9616798382650248,\n",
       "   'elapsed_time': 0.08498501777648926}},\n",
       " {'model': SGDClassifier(alpha=0.01, loss='log', penalty='elasticnet', random_state=0),\n",
       "  'train_metrics': {'matrix': array([[19507,    17],\n",
       "          [ 2054, 24294]]),\n",
       "   'accuracy': 0.95485,\n",
       "   'precision': 0.9993007280654848,\n",
       "   'recall': 0.922043418855321,\n",
       "   'f1': 0.9591188140310706,\n",
       "   'elapsed_time': 0.26442503929138184},\n",
       "  'test_metrics': {'matrix': array([[ 8361,     7],\n",
       "          [  902, 10390]]),\n",
       "   'accuracy': 0.95376,\n",
       "   'precision': 0.9993267288640955,\n",
       "   'recall': 0.9201204392490259,\n",
       "   'f1': 0.9580893540504404,\n",
       "   'elapsed_time': 0.05781698226928711}},\n",
       " {'model': SGDClassifier(alpha=0.1, loss='log', random_state=0),\n",
       "  'train_metrics': {'matrix': array([[19509,    15],\n",
       "          [ 2276, 24072]]),\n",
       "   'accuracy': 0.95006,\n",
       "   'precision': 0.9993772574417735,\n",
       "   'recall': 0.9136177318961591,\n",
       "   'f1': 0.9545751957965697,\n",
       "   'elapsed_time': 0.2496650218963623},\n",
       "  'test_metrics': {'matrix': array([[ 8361,     7],\n",
       "          [  993, 10299]]),\n",
       "   'accuracy': 0.94914,\n",
       "   'precision': 0.999320784009315,\n",
       "   'recall': 0.9120616365568545,\n",
       "   'f1': 0.9536994166126493,\n",
       "   'elapsed_time': 0.07950210571289062}},\n",
       " {'model': SGDClassifier(alpha=0.1, loss='log', penalty='l1', random_state=0),\n",
       "  'train_metrics': {'matrix': array([[19510,    14],\n",
       "          [ 4147, 22201]]),\n",
       "   'accuracy': 0.90929,\n",
       "   'precision': 0.9993697951834346,\n",
       "   'recall': 0.8426066494610597,\n",
       "   'f1': 0.9143174845046641,\n",
       "   'elapsed_time': 0.2652919292449951},\n",
       "  'test_metrics': {'matrix': array([[8361,    7],\n",
       "          [1840, 9452]]),\n",
       "   'accuracy': 0.90605,\n",
       "   'precision': 0.999259964055397,\n",
       "   'recall': 0.8370527807297201,\n",
       "   'f1': 0.9109922413377668,\n",
       "   'elapsed_time': 0.06899213790893555}},\n",
       " {'model': SGDClassifier(alpha=0.1, loss='log', penalty='elasticnet', random_state=0),\n",
       "  'train_metrics': {'matrix': array([[19509,    15],\n",
       "          [ 2438, 23910]]),\n",
       "   'accuracy': 0.94653,\n",
       "   'precision': 0.9993730407523511,\n",
       "   'recall': 0.9074692576286625,\n",
       "   'f1': 0.9512064129851013,\n",
       "   'elapsed_time': 0.29489898681640625},\n",
       "  'test_metrics': {'matrix': array([[ 8361,     7],\n",
       "          [ 1081, 10211]]),\n",
       "   'accuracy': 0.94466,\n",
       "   'precision': 0.9993149344294382,\n",
       "   'recall': 0.9042685086787106,\n",
       "   'f1': 0.9494188749418876,\n",
       "   'elapsed_time': 0.08012080192565918}},\n",
       " {'model': SGDClassifier(loss='squared_hinge', random_state=0),\n",
       "  'train_metrics': {'matrix': array([[15433,  4091],\n",
       "          [   62, 26286]]),\n",
       "   'accuracy': 0.90947,\n",
       "   'precision': 0.8653257398689799,\n",
       "   'recall': 0.9976468802186124,\n",
       "   'f1': 0.9267871308946672,\n",
       "   'elapsed_time': 4.576371908187866},\n",
       "  'test_metrics': {'matrix': array([[ 6591,  1777],\n",
       "          [   22, 11270]]),\n",
       "   'accuracy': 0.90849,\n",
       "   'precision': 0.8638001073043612,\n",
       "   'recall': 0.998051718030464,\n",
       "   'f1': 0.9260857060684499,\n",
       "   'elapsed_time': 0.05605626106262207}},\n",
       " {'model': SGDClassifier(loss='squared_hinge', penalty='l1', random_state=0),\n",
       "  'train_metrics': {'matrix': array([[19288,   236],\n",
       "          [   78, 26270]]),\n",
       "   'accuracy': 0.99315,\n",
       "   'precision': 0.9910963555421414,\n",
       "   'recall': 0.997039623500835,\n",
       "   'f1': 0.9940591062171265,\n",
       "   'elapsed_time': 5.887042045593262},\n",
       "  'test_metrics': {'matrix': array([[ 8253,   115],\n",
       "          [   23, 11269]]),\n",
       "   'accuracy': 0.99298,\n",
       "   'precision': 0.9898981026001406,\n",
       "   'recall': 0.9979631597591215,\n",
       "   'f1': 0.9939142705944611,\n",
       "   'elapsed_time': 0.05327320098876953}},\n",
       " {'model': SGDClassifier(loss='squared_hinge', penalty='elasticnet', random_state=0),\n",
       "  'train_metrics': {'matrix': array([[15624,  3900],\n",
       "          [   62, 26286]]),\n",
       "   'accuracy': 0.91363,\n",
       "   'precision': 0.8708010335917312,\n",
       "   'recall': 0.9976468802186124,\n",
       "   'f1': 0.9299182792655747,\n",
       "   'elapsed_time': 6.822295904159546},\n",
       "  'test_metrics': {'matrix': array([[ 6648,  1720],\n",
       "          [   22, 11270]]),\n",
       "   'accuracy': 0.91139,\n",
       "   'precision': 0.867590454195535,\n",
       "   'recall': 0.998051718030464,\n",
       "   'f1': 0.9282596161765917,\n",
       "   'elapsed_time': 0.05734586715698242}},\n",
       " {'model': SGDClassifier(alpha=0.001, loss='squared_hinge', random_state=0),\n",
       "  'train_metrics': {'matrix': array([[11557,  7967],\n",
       "          [   61, 26287]]),\n",
       "   'accuracy': 0.82499,\n",
       "   'precision': 0.7674140246394582,\n",
       "   'recall': 0.9976848337634735,\n",
       "   'f1': 0.8675291244513382,\n",
       "   'elapsed_time': 5.157511949539185},\n",
       "  'test_metrics': {'matrix': array([[ 4916,  3452],\n",
       "          [   22, 11270]]),\n",
       "   'accuracy': 0.8233,\n",
       "   'precision': 0.7655209889960604,\n",
       "   'recall': 0.998051718030464,\n",
       "   'f1': 0.8664565234104712,\n",
       "   'elapsed_time': 0.07622313499450684}},\n",
       " {'model': SGDClassifier(alpha=0.001, loss='squared_hinge', penalty='l1', random_state=0),\n",
       "  'train_metrics': {'matrix': array([[19322,   202],\n",
       "          [   41, 26307]]),\n",
       "   'accuracy': 0.9947,\n",
       "   'precision': 0.9923799464332869,\n",
       "   'recall': 0.9984439046606953,\n",
       "   'f1': 0.9954026902775414,\n",
       "   'elapsed_time': 5.7412269115448},\n",
       "  'test_metrics': {'matrix': array([[ 8280,    88],\n",
       "          [   19, 11273]]),\n",
       "   'accuracy': 0.99456,\n",
       "   'precision': 0.9922542029750903,\n",
       "   'recall': 0.9983173928444917,\n",
       "   'f1': 0.9952765638105329,\n",
       "   'elapsed_time': 0.05124402046203613}},\n",
       " {'model': SGDClassifier(alpha=0.001, loss='squared_hinge', penalty='elasticnet',\n",
       "                random_state=0),\n",
       "  'train_metrics': {'matrix': array([[12942,  6582],\n",
       "          [   61, 26287]]),\n",
       "   'accuracy': 0.85518,\n",
       "   'precision': 0.7997505248106118,\n",
       "   'recall': 0.9976848337634735,\n",
       "   'f1': 0.8878193761926474,\n",
       "   'elapsed_time': 7.185649156570435},\n",
       "  'test_metrics': {'matrix': array([[ 5568,  2800],\n",
       "          [   22, 11270]]),\n",
       "   'accuracy': 0.85646,\n",
       "   'precision': 0.8009950248756219,\n",
       "   'recall': 0.998051718030464,\n",
       "   'f1': 0.8887311726204558,\n",
       "   'elapsed_time': 0.04509782791137695}},\n",
       " {'model': SGDClassifier(alpha=0.01, loss='squared_hinge', random_state=0),\n",
       "  'train_metrics': {'matrix': array([[19507,    17],\n",
       "          [  243, 26105]]),\n",
       "   'accuracy': 0.99433,\n",
       "   'precision': 0.999349207564505,\n",
       "   'recall': 0.9907772885987551,\n",
       "   'f1': 0.9950447874976177,\n",
       "   'elapsed_time': 3.1757969856262207},\n",
       "  'test_metrics': {'matrix': array([[ 8361,     7],\n",
       "          [  107, 11185]]),\n",
       "   'accuracy': 0.9942,\n",
       "   'precision': 0.999374553252323,\n",
       "   'recall': 0.9905242649663478,\n",
       "   'f1': 0.9949297278064402,\n",
       "   'elapsed_time': 0.04929614067077637}},\n",
       " {'model': SGDClassifier(alpha=0.01, loss='squared_hinge', penalty='l1', random_state=0),\n",
       "  'train_metrics': {'matrix': array([[19507,    17],\n",
       "          [  150, 26198]]),\n",
       "   'accuracy': 0.99636,\n",
       "   'precision': 0.9993515163074576,\n",
       "   'recall': 0.9943069682708365,\n",
       "   'f1': 0.9968228601868234,\n",
       "   'elapsed_time': 5.530286073684692},\n",
       "  'test_metrics': {'matrix': array([[ 8360,     8],\n",
       "          [   59, 11233]]),\n",
       "   'accuracy': 0.99659,\n",
       "   'precision': 0.9992883195445245,\n",
       "   'recall': 0.9947750619907899,\n",
       "   'f1': 0.9970265832334798,\n",
       "   'elapsed_time': 0.058316707611083984}},\n",
       " {'model': SGDClassifier(alpha=0.01, loss='squared_hinge', penalty='elasticnet',\n",
       "                random_state=0),\n",
       "  'train_metrics': {'matrix': array([[    0, 19524],\n",
       "          [    0, 26348]]),\n",
       "   'accuracy': 0.57438,\n",
       "   'precision': 0.5743808859434949,\n",
       "   'recall': 1.0,\n",
       "   'f1': 0.7296593741345887,\n",
       "   'elapsed_time': 7.04510498046875},\n",
       "  'test_metrics': {'matrix': array([[    0,  8368],\n",
       "          [    0, 11292]]),\n",
       "   'accuracy': 0.57436,\n",
       "   'precision': 0.5743641912512716,\n",
       "   'recall': 1.0,\n",
       "   'f1': 0.7296459033341949,\n",
       "   'elapsed_time': 0.06378388404846191}},\n",
       " {'model': SGDClassifier(alpha=0.1, loss='squared_hinge', random_state=0),\n",
       "  'train_metrics': {'matrix': array([[19507,    17],\n",
       "          [ 2461, 23887]]),\n",
       "   'accuracy': 0.94598,\n",
       "   'precision': 0.9992888219544847,\n",
       "   'recall': 0.9065963260968575,\n",
       "   'f1': 0.9506885298097589,\n",
       "   'elapsed_time': 0.237091064453125},\n",
       "  'test_metrics': {'matrix': array([[ 8361,     7],\n",
       "          [ 1071, 10221]]),\n",
       "   'accuracy': 0.94517,\n",
       "   'precision': 0.9993156042236997,\n",
       "   'recall': 0.905154091392136,\n",
       "   'f1': 0.949907063197026,\n",
       "   'elapsed_time': 0.052643775939941406}},\n",
       " {'model': SGDClassifier(alpha=0.1, loss='squared_hinge', penalty='l1', random_state=0),\n",
       "  'train_metrics': {'matrix': array([[19507,    17],\n",
       "          [  741, 25607]]),\n",
       "   'accuracy': 0.98348,\n",
       "   'precision': 0.9993365594754917,\n",
       "   'recall': 0.9718764232579323,\n",
       "   'f1': 0.9854152235819289,\n",
       "   'elapsed_time': 0.2546858787536621},\n",
       "  'test_metrics': {'matrix': array([[ 8361,     7],\n",
       "          [  333, 10959]]),\n",
       "   'accuracy': 0.98271,\n",
       "   'precision': 0.9993616633229984,\n",
       "   'recall': 0.970510095642933,\n",
       "   'f1': 0.9847245934046186,\n",
       "   'elapsed_time': 0.049017906188964844}},\n",
       " {'model': SGDClassifier(alpha=0.1, loss='squared_hinge', penalty='elasticnet',\n",
       "                random_state=0),\n",
       "  'train_metrics': {'matrix': array([[19507,    17],\n",
       "          [ 2549, 23799]]),\n",
       "   'accuracy': 0.94406,\n",
       "   'precision': 0.9992861941551898,\n",
       "   'recall': 0.9032564141490815,\n",
       "   'f1': 0.9488477792839486,\n",
       "   'elapsed_time': 0.1803886890411377},\n",
       "  'test_metrics': {'matrix': array([[ 8361,     7],\n",
       "          [ 1119, 10173]]),\n",
       "   'accuracy': 0.94273,\n",
       "   'precision': 0.9993123772102162,\n",
       "   'recall': 0.9009032943676939,\n",
       "   'f1': 0.947559612518629,\n",
       "   'elapsed_time': 0.04894518852233887}},\n",
       " {'model': SGDClassifier(loss='modified_huber', random_state=0),\n",
       "  'train_metrics': {'matrix': array([[19507,    17],\n",
       "          [  116, 26232]]),\n",
       "   'accuracy': 0.9971,\n",
       "   'precision': 0.9993523562802392,\n",
       "   'recall': 0.9955973887961136,\n",
       "   'f1': 0.9974713386695059,\n",
       "   'elapsed_time': 0.17337703704833984},\n",
       "  'test_metrics': {'matrix': array([[ 8361,     7],\n",
       "          [   41, 11251]]),\n",
       "   'accuracy': 0.99756,\n",
       "   'precision': 0.9993782199324924,\n",
       "   'recall': 0.9963691108749557,\n",
       "   'f1': 0.9978713968957871,\n",
       "   'elapsed_time': 0.05404973030090332}},\n",
       " {'model': SGDClassifier(loss='modified_huber', penalty='l1', random_state=0),\n",
       "  'train_metrics': {'matrix': array([[19511,    13],\n",
       "          [   78, 26270]]),\n",
       "   'accuracy': 0.99802,\n",
       "   'precision': 0.9995053837081003,\n",
       "   'recall': 0.997039623500835,\n",
       "   'f1': 0.9982709809807908,\n",
       "   'elapsed_time': 0.3511009216308594},\n",
       "  'test_metrics': {'matrix': array([[ 8362,     6],\n",
       "          [   26, 11266]]),\n",
       "   'accuracy': 0.99837,\n",
       "   'precision': 0.9994677075940384,\n",
       "   'recall': 0.9976974849450939,\n",
       "   'f1': 0.998581811735508,\n",
       "   'elapsed_time': 0.04519391059875488}},\n",
       " {'model': SGDClassifier(loss='modified_huber', penalty='elasticnet', random_state=0),\n",
       "  'train_metrics': {'matrix': array([[19507,    17],\n",
       "          [  116, 26232]]),\n",
       "   'accuracy': 0.9971,\n",
       "   'precision': 0.9993523562802392,\n",
       "   'recall': 0.9955973887961136,\n",
       "   'f1': 0.9974713386695059,\n",
       "   'elapsed_time': 0.19697093963623047},\n",
       "  'test_metrics': {'matrix': array([[ 8361,     7],\n",
       "          [   42, 11250]]),\n",
       "   'accuracy': 0.99751,\n",
       "   'precision': 0.9993781646975215,\n",
       "   'recall': 0.9962805526036131,\n",
       "   'f1': 0.9978269546321344,\n",
       "   'elapsed_time': 0.04785728454589844}},\n",
       " {'model': SGDClassifier(alpha=0.001, loss='modified_huber', random_state=0),\n",
       "  'train_metrics': {'matrix': array([[19507,    17],\n",
       "          [  509, 25839]]),\n",
       "   'accuracy': 0.98853,\n",
       "   'precision': 0.9993425123762376,\n",
       "   'recall': 0.9806816456657051,\n",
       "   'f1': 0.9899241437437744,\n",
       "   'elapsed_time': 0.1577601432800293},\n",
       "  'test_metrics': {'matrix': array([[ 8361,     7],\n",
       "          [  213, 11079]]),\n",
       "   'accuracy': 0.98881,\n",
       "   'precision': 0.9993685729749233,\n",
       "   'recall': 0.9811370882040382,\n",
       "   'f1': 0.9901689158995441,\n",
       "   'elapsed_time': 0.04631996154785156}},\n",
       " {'model': SGDClassifier(alpha=0.001, loss='modified_huber', penalty='l1', random_state=0),\n",
       "  'train_metrics': {'matrix': array([[19507,    17],\n",
       "          [   66, 26282]]),\n",
       "   'accuracy': 0.99819,\n",
       "   'precision': 0.9993535875888817,\n",
       "   'recall': 0.997495066039168,\n",
       "   'f1': 0.9984234619256557,\n",
       "   'elapsed_time': 0.17595291137695312},\n",
       "  'test_metrics': {'matrix': array([[ 8361,     7],\n",
       "          [   25, 11267]]),\n",
       "   'accuracy': 0.99837,\n",
       "   'precision': 0.9993791023594111,\n",
       "   'recall': 0.9977860432164364,\n",
       "   'f1': 0.9985819374279891,\n",
       "   'elapsed_time': 0.04767608642578125}},\n",
       " {'model': SGDClassifier(alpha=0.001, loss='modified_huber', penalty='elasticnet',\n",
       "                random_state=0),\n",
       "  'train_metrics': {'matrix': array([[19507,    17],\n",
       "          [  477, 25871]]),\n",
       "   'accuracy': 0.98923,\n",
       "   'precision': 0.9993433250927071,\n",
       "   'recall': 0.98189615910126,\n",
       "   'f1': 0.9905429205911631,\n",
       "   'elapsed_time': 0.17351102828979492},\n",
       "  'test_metrics': {'matrix': array([[ 8361,     7],\n",
       "          [  196, 11096]]),\n",
       "   'accuracy': 0.98967,\n",
       "   'precision': 0.9993695397640278,\n",
       "   'recall': 0.9826425788168615,\n",
       "   'f1': 0.9909354766688993,\n",
       "   'elapsed_time': 0.047035932540893555}},\n",
       " {'model': SGDClassifier(alpha=0.01, loss='modified_huber', random_state=0),\n",
       "  'train_metrics': {'matrix': array([[19507,    17],\n",
       "          [ 1275, 25073]]),\n",
       "   'accuracy': 0.97183,\n",
       "   'precision': 0.9993224392188123,\n",
       "   'recall': 0.9516092303021102,\n",
       "   'f1': 0.9748823826742874,\n",
       "   'elapsed_time': 0.1563282012939453},\n",
       "  'test_metrics': {'matrix': array([[ 8361,     7],\n",
       "          [  547, 10745]]),\n",
       "   'accuracy': 0.97182,\n",
       "   'precision': 0.9993489583333334,\n",
       "   'recall': 0.9515586255756288,\n",
       "   'f1': 0.9748684449283253,\n",
       "   'elapsed_time': 0.050045013427734375}},\n",
       " {'model': SGDClassifier(alpha=0.01, loss='modified_huber', penalty='l1', random_state=0),\n",
       "  'train_metrics': {'matrix': array([[19507,    17],\n",
       "          [  488, 25860]]),\n",
       "   'accuracy': 0.98899,\n",
       "   'precision': 0.9993430459481393,\n",
       "   'recall': 0.9814786701077881,\n",
       "   'f1': 0.9903303015797031,\n",
       "   'elapsed_time': 0.20919013023376465},\n",
       "  'test_metrics': {'matrix': array([[ 8361,     7],\n",
       "          [  216, 11076]]),\n",
       "   'accuracy': 0.98866,\n",
       "   'precision': 0.9993684020572047,\n",
       "   'recall': 0.9808714133900106,\n",
       "   'f1': 0.9900335195530726,\n",
       "   'elapsed_time': 0.04625105857849121}},\n",
       " {'model': SGDClassifier(alpha=0.01, loss='modified_huber', penalty='elasticnet',\n",
       "                random_state=0),\n",
       "  'train_metrics': {'matrix': array([[19507,    17],\n",
       "          [ 1251, 25097]]),\n",
       "   'accuracy': 0.97236,\n",
       "   'precision': 0.9993230867245361,\n",
       "   'recall': 0.9525201153787763,\n",
       "   'f1': 0.9753604601453498,\n",
       "   'elapsed_time': 0.17663216590881348},\n",
       "  'test_metrics': {'matrix': array([[ 8361,     7],\n",
       "          [  535, 10757]]),\n",
       "   'accuracy': 0.97243,\n",
       "   'precision': 0.9993496841322929,\n",
       "   'recall': 0.9526213248317393,\n",
       "   'f1': 0.9754261878853827,\n",
       "   'elapsed_time': 0.052076101303100586}},\n",
       " {'model': SGDClassifier(alpha=0.1, loss='modified_huber', random_state=0),\n",
       "  'train_metrics': {'matrix': array([[19507,    17],\n",
       "          [ 2456, 23892]]),\n",
       "   'accuracy': 0.94609,\n",
       "   'precision': 0.9992889706804969,\n",
       "   'recall': 0.9067860938211629,\n",
       "   'f1': 0.9507929243687446,\n",
       "   'elapsed_time': 0.16538119316101074},\n",
       "  'test_metrics': {'matrix': array([[ 8361,     7],\n",
       "          [ 1068, 10224]]),\n",
       "   'accuracy': 0.94532,\n",
       "   'precision': 0.9993158049066563,\n",
       "   'recall': 0.9054197662061636,\n",
       "   'f1': 0.9500534312131208,\n",
       "   'elapsed_time': 0.047132015228271484}},\n",
       " {'model': SGDClassifier(alpha=0.1, loss='modified_huber', penalty='l1', random_state=0),\n",
       "  'train_metrics': {'matrix': array([[19509,    15],\n",
       "          [ 3011, 23337]]),\n",
       "   'accuracy': 0.93403,\n",
       "   'precision': 0.9993576567317575,\n",
       "   'recall': 0.885721876423258,\n",
       "   'f1': 0.9391146881287726,\n",
       "   'elapsed_time': 0.18016314506530762},\n",
       "  'test_metrics': {'matrix': array([[8361,    7],\n",
       "          [1335, 9957]]),\n",
       "   'accuracy': 0.93174,\n",
       "   'precision': 0.9992974708952228,\n",
       "   'recall': 0.8817747077577046,\n",
       "   'f1': 0.9368648852088822,\n",
       "   'elapsed_time': 0.0464019775390625}},\n",
       " {'model': SGDClassifier(alpha=0.1, loss='modified_huber', penalty='elasticnet',\n",
       "                random_state=0),\n",
       "  'train_metrics': {'matrix': array([[19507,    17],\n",
       "          [ 2549, 23799]]),\n",
       "   'accuracy': 0.94406,\n",
       "   'precision': 0.9992861941551898,\n",
       "   'recall': 0.9032564141490815,\n",
       "   'f1': 0.9488477792839486,\n",
       "   'elapsed_time': 0.18298125267028809},\n",
       "  'test_metrics': {'matrix': array([[ 8361,     7],\n",
       "          [ 1117, 10175]]),\n",
       "   'accuracy': 0.94283,\n",
       "   'precision': 0.9993125122765665,\n",
       "   'recall': 0.901080410910379,\n",
       "   'f1': 0.9476576324857967,\n",
       "   'elapsed_time': 0.04477071762084961}},\n",
       " {'model': SGDClassifier(loss='perceptron', random_state=0),\n",
       "  'train_metrics': {'matrix': array([[19507,    17],\n",
       "          [   74, 26274]]),\n",
       "   'accuracy': 0.99802,\n",
       "   'precision': 0.9993533908942224,\n",
       "   'recall': 0.9971914376802793,\n",
       "   'f1': 0.9982712437546306,\n",
       "   'elapsed_time': 0.14923405647277832},\n",
       "  'test_metrics': {'matrix': array([[ 8361,     7],\n",
       "          [   33, 11259]]),\n",
       "   'accuracy': 0.99797,\n",
       "   'precision': 0.9993786614592579,\n",
       "   'recall': 0.9970775770456961,\n",
       "   'f1': 0.9982267931554215,\n",
       "   'elapsed_time': 0.04783797264099121}},\n",
       " {'model': SGDClassifier(loss='perceptron', penalty='l1', random_state=0),\n",
       "  'train_metrics': {'matrix': array([[19507,    17],\n",
       "          [   63, 26285]]),\n",
       "   'accuracy': 0.99826,\n",
       "   'precision': 0.9993536613185309,\n",
       "   'recall': 0.9976089266737513,\n",
       "   'f1': 0.9984805318138651,\n",
       "   'elapsed_time': 0.16680383682250977},\n",
       "  'test_metrics': {'matrix': array([[ 8361,     7],\n",
       "          [   23, 11269]]),\n",
       "   'accuracy': 0.99847,\n",
       "   'precision': 0.9993792124866974,\n",
       "   'recall': 0.9979631597591215,\n",
       "   'f1': 0.9986706841545552,\n",
       "   'elapsed_time': 0.04652595520019531}},\n",
       " {'model': SGDClassifier(loss='perceptron', penalty='elasticnet', random_state=0),\n",
       "  'train_metrics': {'matrix': array([[19508,    16],\n",
       "          [  210, 26138]]),\n",
       "   'accuracy': 0.99507,\n",
       "   'precision': 0.9993882388927124,\n",
       "   'recall': 0.9920297555791711,\n",
       "   'f1': 0.9956954020799207,\n",
       "   'elapsed_time': 0.17391395568847656},\n",
       "  'test_metrics': {'matrix': array([[ 8362,     6],\n",
       "          [   77, 11215]]),\n",
       "   'accuracy': 0.99578,\n",
       "   'precision': 0.9994652882987256,\n",
       "   'recall': 0.9931810131066242,\n",
       "   'f1': 0.9963132412383957,\n",
       "   'elapsed_time': 0.04419708251953125}},\n",
       " {'model': SGDClassifier(alpha=0.001, loss='perceptron', random_state=0),\n",
       "  'train_metrics': {'matrix': array([[19507,    17],\n",
       "          [  104, 26244]]),\n",
       "   'accuracy': 0.99736,\n",
       "   'precision': 0.999352652221926,\n",
       "   'recall': 0.9960528313344467,\n",
       "   'f1': 0.9977000133057082,\n",
       "   'elapsed_time': 0.15144610404968262},\n",
       "  'test_metrics': {'matrix': array([[ 8361,     7],\n",
       "          [   42, 11250]]),\n",
       "   'accuracy': 0.99751,\n",
       "   'precision': 0.9993781646975215,\n",
       "   'recall': 0.9962805526036131,\n",
       "   'f1': 0.9978269546321344,\n",
       "   'elapsed_time': 0.0508120059967041}},\n",
       " {'model': SGDClassifier(alpha=0.001, loss='perceptron', penalty='l1', random_state=0),\n",
       "  'train_metrics': {'matrix': array([[19156,   368],\n",
       "          [    1, 26347]]),\n",
       "   'accuracy': 0.99196,\n",
       "   'precision': 0.986224967246865,\n",
       "   'recall': 0.9999620464551389,\n",
       "   'f1': 0.9930460019222433,\n",
       "   'elapsed_time': 0.16245102882385254},\n",
       "  'test_metrics': {'matrix': array([[ 8229,   139],\n",
       "          [    0, 11292]]),\n",
       "   'accuracy': 0.99293,\n",
       "   'precision': 0.9878400839821538,\n",
       "   'recall': 1.0,\n",
       "   'f1': 0.9938828499757955,\n",
       "   'elapsed_time': 0.04372906684875488}},\n",
       " {'model': SGDClassifier(alpha=0.001, loss='perceptron', penalty='elasticnet',\n",
       "                random_state=0),\n",
       "  'train_metrics': {'matrix': array([[19507,    17],\n",
       "          [  159, 26189]]),\n",
       "   'accuracy': 0.99616,\n",
       "   'precision': 0.9993512935968862,\n",
       "   'recall': 0.9939653863670866,\n",
       "   'f1': 0.9966510636678464,\n",
       "   'elapsed_time': 0.15572905540466309},\n",
       "  'test_metrics': {'matrix': array([[ 8361,     7],\n",
       "          [   61, 11231]]),\n",
       "   'accuracy': 0.99654,\n",
       "   'precision': 0.9993771133653675,\n",
       "   'recall': 0.9945979454481049,\n",
       "   'f1': 0.9969818020417222,\n",
       "   'elapsed_time': 0.04545187950134277}},\n",
       " {'model': SGDClassifier(alpha=0.01, loss='perceptron', random_state=0),\n",
       "  'train_metrics': {'matrix': array([[19507,    17],\n",
       "          [   79, 26269]]),\n",
       "   'accuracy': 0.99791,\n",
       "   'precision': 0.9993532678992619,\n",
       "   'recall': 0.9970016699559738,\n",
       "   'f1': 0.9981760839001406,\n",
       "   'elapsed_time': 0.14792108535766602},\n",
       "  'test_metrics': {'matrix': array([[ 8361,     7],\n",
       "          [   35, 11257]]),\n",
       "   'accuracy': 0.99786,\n",
       "   'precision': 0.9993785511363636,\n",
       "   'recall': 0.996900460503011,\n",
       "   'f1': 0.9981379677247738,\n",
       "   'elapsed_time': 0.044622182846069336}},\n",
       " {'model': SGDClassifier(alpha=0.01, loss='perceptron', penalty='l1', random_state=0),\n",
       "  'train_metrics': {'matrix': array([[19507,    17],\n",
       "          [ 1320, 25028]]),\n",
       "   'accuracy': 0.97085,\n",
       "   'precision': 0.9993212218007587,\n",
       "   'recall': 0.9499013207833612,\n",
       "   'f1': 0.9739847839199891,\n",
       "   'elapsed_time': 0.15446090698242188},\n",
       "  'test_metrics': {'matrix': array([[ 8361,     7],\n",
       "          [  581, 10711]]),\n",
       "   'accuracy': 0.97009,\n",
       "   'precision': 0.9993468930770666,\n",
       "   'recall': 0.9485476443499823,\n",
       "   'f1': 0.973284870513403,\n",
       "   'elapsed_time': 0.046347856521606445}},\n",
       " {'model': SGDClassifier(alpha=0.01, loss='perceptron', penalty='elasticnet',\n",
       "                random_state=0),\n",
       "  'train_metrics': {'matrix': array([[19507,    17],\n",
       "          [  109, 26239]]),\n",
       "   'accuracy': 0.99725,\n",
       "   'precision': 0.9993525289457648,\n",
       "   'recall': 0.9958630636101412,\n",
       "   'f1': 0.9976047448863203,\n",
       "   'elapsed_time': 0.15481305122375488},\n",
       "  'test_metrics': {'matrix': array([[ 8361,     7],\n",
       "          [   51, 11241]]),\n",
       "   'accuracy': 0.99705,\n",
       "   'precision': 0.999377667140825,\n",
       "   'recall': 0.9954835281615303,\n",
       "   'f1': 0.9974267968056787,\n",
       "   'elapsed_time': 0.05425405502319336}},\n",
       " {'model': SGDClassifier(alpha=0.1, loss='perceptron', random_state=0),\n",
       "  'train_metrics': {'matrix': array([[19508,    16],\n",
       "          [  248, 26100]]),\n",
       "   'accuracy': 0.99424,\n",
       "   'precision': 0.9993873487517231,\n",
       "   'recall': 0.9905875208744497,\n",
       "   'f1': 0.9949679780420859,\n",
       "   'elapsed_time': 0.15648698806762695},\n",
       "  'test_metrics': {'matrix': array([[ 8361,     7],\n",
       "          [   97, 11195]]),\n",
       "   'accuracy': 0.99471,\n",
       "   'precision': 0.9993751115872166,\n",
       "   'recall': 0.9914098476797732,\n",
       "   'f1': 0.9953765448564061,\n",
       "   'elapsed_time': 0.047807931900024414}},\n",
       " {'model': SGDClassifier(alpha=0.1, loss='perceptron', penalty='l1', random_state=0),\n",
       "  'train_metrics': {'matrix': array([[19512,    12],\n",
       "          [ 7623, 18725]]),\n",
       "   'accuracy': 0.83356,\n",
       "   'precision': 0.9993595559587981,\n",
       "   'recall': 0.7106801275239107,\n",
       "   'f1': 0.8306532106021959,\n",
       "   'elapsed_time': 0.1694049835205078},\n",
       "  'test_metrics': {'matrix': array([[8364,    4],\n",
       "          [3242, 8050]]),\n",
       "   'accuracy': 0.83489,\n",
       "   'precision': 0.9995033523714925,\n",
       "   'recall': 0.7128940843074744,\n",
       "   'f1': 0.8322133774423653,\n",
       "   'elapsed_time': 0.05507683753967285}},\n",
       " {'model': SGDClassifier(alpha=0.1, loss='perceptron', penalty='elasticnet',\n",
       "                random_state=0),\n",
       "  'train_metrics': {'matrix': array([[19507,    17],\n",
       "          [ 3136, 23212]]),\n",
       "   'accuracy': 0.93127,\n",
       "   'precision': 0.9992681561840803,\n",
       "   'recall': 0.8809776833156217,\n",
       "   'f1': 0.9364019605865623,\n",
       "   'elapsed_time': 0.15668106079101562},\n",
       "  'test_metrics': {'matrix': array([[8361,    7],\n",
       "          [1402, 9890]]),\n",
       "   'accuracy': 0.92833,\n",
       "   'precision': 0.9992927149641305,\n",
       "   'recall': 0.8758413035777541,\n",
       "   'f1': 0.9335032328094767,\n",
       "   'elapsed_time': 0.04680609703063965}}]"
      ]
     },
     "execution_count": 38,
     "metadata": {},
     "output_type": "execute_result"
    }
   ],
   "source": [
    "sgd_results"
   ]
  },
  {
   "cell_type": "code",
   "execution_count": 39,
   "metadata": {},
   "outputs": [],
   "source": [
    "final_model = sgd_classifier.find_best_model()"
   ]
  },
  {
   "cell_type": "code",
   "execution_count": 40,
   "metadata": {},
   "outputs": [
    {
     "data": {
      "text/plain": [
       "{'model': SGDClassifier(loss='perceptron', penalty='l1', random_state=0),\n",
       " 'train_metrics': {'matrix': array([[19507,    17],\n",
       "         [   63, 26285]]),\n",
       "  'accuracy': 0.99826,\n",
       "  'precision': 0.9993536613185309,\n",
       "  'recall': 0.9976089266737513,\n",
       "  'f1': 0.9984805318138651,\n",
       "  'elapsed_time': 0.16680383682250977},\n",
       " 'test_metrics': {'matrix': array([[ 8361,     7],\n",
       "         [   23, 11269]]),\n",
       "  'accuracy': 0.99847,\n",
       "  'precision': 0.9993792124866974,\n",
       "  'recall': 0.9979631597591215,\n",
       "  'f1': 0.9986706841545552,\n",
       "  'elapsed_time': 0.04652595520019531}}"
      ]
     },
     "execution_count": 40,
     "metadata": {},
     "output_type": "execute_result"
    }
   ],
   "source": [
    "final_model"
   ]
  },
  {
   "cell_type": "markdown",
   "metadata": {
    "id": "p-C7Tc5W8g_e"
   },
   "source": [
    "## Model's Performance Analysis <a id='performance-analysis'/>"
   ]
  },
  {
   "cell_type": "markdown",
   "metadata": {
    "id": "B1QaouAiN5D9"
   },
   "source": [
    "The SVM Classifier resulted in 99.82% accuracy. However, it did run for 7.1 seconds to train the model and less than 1.3 seconds to make the predictions with accuracy of 99.82%.\n",
    "\n",
    "The final SGD Classifier resulted in 99.85% accuracy with 0.21 sec. to train the model using partial fit approach and less than 0.05 seconds to make the predictions with accuracy of 99.85%.\n",
    "\n",
    "SGD Train - Confusion Matrix:\n",
    "\n",
    "|                   | Predicted Denied | Predicted Allowed |\n",
    "|-------------------|---------------|----------------|\n",
    "| Actual Denied  | 19,507       | 17             |\n",
    "| Actual Allowed | 63            | 26,285        |\n",
    "\n",
    "SGD Test - Confusion Matrix:\n",
    "\n",
    "|                   | Predicted Denied | Predicted Allowed |\n",
    "|-------------------|---------------|----------------|\n",
    "| Actual Denied  | 8,361         | 7              |\n",
    "| Actual Allowed | 23            | 11,269         |\n",
    "\n",
    "\n",
    "The final SGD Classifier coefficients are given in the graph below.  The L1 regularization eliminated all but 4 variables, with NAT Destination Port and Elapsed Time (sec) having the largest coefficients by far."
   ]
  },
  {
   "cell_type": "markdown",
   "metadata": {
    "id": "HISQa9FO8g_e"
   },
   "source": [
    "## Model Interpretability & Explainability <a id='model-explanation'>"
   ]
  },
  {
   "cell_type": "markdown",
   "metadata": {
    "id": "5rlSakuzPhjw"
   },
   "source": [
    "Which variables were more important and why?\n",
    "\n",
    "How did you come to the conclusion these variables were important how how should the audience interpret this?"
   ]
  },
  {
   "cell_type": "markdown",
   "metadata": {
    "id": "xnsadV7M8g_e"
   },
   "source": [
    "### Final Model Proposal <a id='final-model-proposal'/>"
   ]
  },
  {
   "cell_type": "markdown",
   "metadata": {
    "id": "BpGIwvaMQD8M"
   },
   "source": [
    "For the final model we decided to use __SGDClassifier__ that uses perceptron for loss, which is the linear loss for the perceptron algorithm. This model gave us the highest test accuracy (__99.85%__), while maintaining the training and test time low, __0.2s__ and __0.05s__ respectively. "
   ]
  },
  {
   "cell_type": "markdown",
   "metadata": {
    "id": "PSBc4ETe8g_e"
   },
   "source": [
    "### Examining Feature Importance <a id='examining-feature-importance'/>\n",
    "Below are the coefficient values and a graph that maps each coefficient to its features, sorted in descending order. These coefficients represent the relative and not absolute importance. The top 3 features are elapsed time, NAT Destination port, and NAT Source Port, in that order."
   ]
  },
  {
   "cell_type": "code",
   "execution_count": 41,
   "metadata": {
    "scrolled": true
   },
   "outputs": [
    {
     "data": {
      "text/plain": [
       "array([[-1.08041419e-02, -1.70620975e-01,  4.99109556e-01,\n",
       "         2.91573354e+01,  0.00000000e+00,  0.00000000e+00,\n",
       "         0.00000000e+00,  0.00000000e+00,  3.03957719e+01,\n",
       "         0.00000000e+00,  0.00000000e+00]])"
      ]
     },
     "execution_count": 41,
     "metadata": {},
     "output_type": "execute_result"
    }
   ],
   "source": [
    "final_model['model'].coef_"
   ]
  },
  {
   "cell_type": "code",
   "execution_count": 43,
   "metadata": {},
   "outputs": [
    {
     "data": {
      "text/plain": [
       "Index(['Source Port', 'Destination Port', 'NAT Source Port',\n",
       "       'NAT Destination Port', 'Bytes', 'Bytes Sent', 'Bytes Received',\n",
       "       'Packets', 'Elapsed Time (sec)', 'pkts_sent', 'pkts_received'],\n",
       "      dtype='object')"
      ]
     },
     "execution_count": 43,
     "metadata": {},
     "output_type": "execute_result"
    }
   ],
   "source": [
    "sgd_classifier.X.columns"
   ]
  },
  {
   "cell_type": "code",
   "execution_count": 42,
   "metadata": {},
   "outputs": [
    {
     "data": {
      "image/png": "[encoded data removed]",
      "text/plain": [
       "<Figure size 432x288 with 1 Axes>"
      ]
     },
     "metadata": {
      "needs_background": "light"
     },
     "output_type": "display_data"
    }
   ],
   "source": [
    "weights = pd.DataFrame(final_model['model'].coef_[0], sgd_classifier.X.columns, columns=['coef']).sort_values('coef', ascending=False)\n",
    "weights.plot(kind='bar')\n",
    "plt.title('Final Model - SGD Coefficients')\n",
    "plt.show()"
   ]
  },
  {
   "cell_type": "markdown",
   "metadata": {
    "id": "JbAhMB1x8g_e"
   },
   "source": [
    "# Conclusion <a id='conclusion'>"
   ]
  },
  {
   "cell_type": "markdown",
   "metadata": {},
   "source": [
    "The team selected for the final model an __SGDClassifier__ that uses perceptron for loss, which is the linear loss for the perceptron algorithm. This model gave us the highest test accuracy (__99.85%__), while maintaining the training and test time low, __0.2s__ and __0.05s__ respectively. \n",
    "\n",
    "The accuracy obtained from the model could be considered very high at __>99.8%__ for both the training and test sets.  However, depending on how often the firewall has to deal with these requests, that may not be good enough for real-world application. If these requests were coming in at over 1000 per day, that would mean that 1-2 would be incorrectly classified, leading to an important blocked request or an unfortunate malicious attack getting through the firewall.  The model could be further tuned such that more bad requests are blocked, but this would result in blocking more legitimate requests.\n",
    "\n",
    "Methods used in this case study could be effective with High-Performance Computing (HPC) with multi-core processors to produce more comprehensive and accurate models. Also, more diligence can be done to reduce stochastic gradient descent to obtain minimum loss. The larger volume of data will also help enhance the learning leading to better performance of firewalls. \n",
    "\n",
    "The quick convergence of these models in training could indicate that only a few important features and values contribute to the classification. Exploring the data showed that there were a few consistent variable values that always lead to a denied request, so if these are identified quickly in training, the rest of the data likely contributes minimal benefit to classification.\n",
    "\n",
    "The team believes the model's performance is acceptable considering the requirements and time, however there's still room for improvement by further tuning the model, leveraging high performance computing and exploring other classification algorithms."
   ]
  },
  {
   "cell_type": "markdown",
   "metadata": {
    "id": "oX8fXYczN5D-"
   },
   "source": [
    "### Future Considerations, Model Enhancements and Alternative Modeling Approaches <a id='model-enhancements'/>"
   ]
  },
  {
   "cell_type": "markdown",
   "metadata": {
    "id": "4XXMCBozN5D-"
   },
   "source": [
    "Reviewing other classification algorithms, including Naive Bayes, kNN, Decision Table, and HyperPipes may enhance the model. Based on the article by Erden Ucar & Erkan Ozhan, “ The Analysis of Firewall Policy Through Machine Learning and Data Mining,” published on May 17, 2017[3], KNN has shown some outstanding results.  However, this would likely be a slow and inefficient model to predict in real time.   \n",
    "\n",
    "It is equally vital for the companies to update firewall policies regularly and continuously review the firewall logs, and retrain models accordingly on a regular cadance. \n"
   ]
  },
  {
   "cell_type": "markdown",
   "metadata": {},
   "source": [
    "## References"
   ]
  },
  {
   "cell_type": "markdown",
   "metadata": {},
   "source": [
    "[1] What Is Firewall: Types, How Does It Work & Advantages | Simplilearn\n",
    "\n",
    "[2] Difference between IP address and Port Number. https://www.geeksforgeeks.org/difference-between-ip-address-and-port-number/\n",
    "\n",
    "[3] The Analysis of Firewall Policy Through Machine Learning and Data Mining | SpringerLink (smu.edu)"
   ]
  }
 ],
 "metadata": {
  "colab": {
   "name": "Case_Study_1.ipynb",
   "provenance": []
  },
  "kernelspec": {
   "display_name": "Python 3",
   "language": "python",
   "name": "python3"
  },
  "language_info": {
   "codemirror_mode": {
    "name": "ipython",
    "version": 3
   },
   "file_extension": ".py",
   "mimetype": "text/x-python",
   "name": "python",
   "nbconvert_exporter": "python",
   "pygments_lexer": "ipython3",
   "version": "3.8.5"
  }
 },
 "nbformat": 4,
 "nbformat_minor": 1
}
