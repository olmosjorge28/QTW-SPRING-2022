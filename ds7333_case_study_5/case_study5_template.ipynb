{
 "cells": [
  {
   "cell_type": "markdown",
   "metadata": {
    "id": "GoCXzNvN8g-8"
   },
   "source": [
    "# Case Study 5 - SGD & SVM"
   ]
  },
  {
   "cell_type": "markdown",
   "metadata": {
    "id": "YBy24RcB8g-9"
   },
   "source": [
    "__Team Members:__ Amber Clark, Andrew Leppla, Jorge Olmos, Paritosh Rai"
   ]
  },
  {
   "cell_type": "markdown",
   "metadata": {
    "id": "O4O0up-U8g-9"
   },
   "source": [
    "# Content\n",
    "* [Business Understanding](#business-understanding)\n",
    "    - [Scope](#scope)\n",
    "    - [Introduction](#introduction)\n",
    "    - [Methods](#methods)\n",
    "    - [Results](#results)\n",
    "* [Data Evaluation](#data-evaluation)\n",
    "    - [Loading Data](#loading-data) \n",
    "    - [Data Summary](#data-summary)\n",
    "    - [Missing Values](#missing-values)\n",
    "    - [Feature Removal](#feature-removal)\n",
    "    - [Exploratory Data Analysis (EDA)](#eda)\n",
    "    - [Assumptions](#assumptions)\n",
    "* [Model Preparations](#model-preparations)\n",
    "    - [Sampling & Scaling Data](#sampling-scaling-data)\n",
    "    - [Proposed Method](#proposed-metrics)\n",
    "    - [Evaluation Metrics](#evaluation-metrics)\n",
    "    - [Feature Selection](#feature-selection)\n",
    "* [Model Building & Evaluations](#model-building)\n",
    "    - [Sampling Methodology](#sampling-methodology)\n",
    "    - [Model](#model)\n",
    "    - [Performance Analysis](#performance-analysis)\n",
    "* [Model Interpretability & Explainability](#model-explanation)\n",
    "    - [Examining Feature Importance](#examining-feature-importance)\n",
    "* [Conclusion](#conclusion)\n",
    "    - [Final Model Proposal](#final-model-proposal)\n",
    "    - [Future Considerations and Model Enhancements](#model-enhancements)\n",
    "    - [Alternative Modeling Approaches](#alternative-modeling-approaches)"
   ]
  },
  {
   "cell_type": "markdown",
   "metadata": {
    "id": "TRedT-FB8g_A"
   },
   "source": [
    "# Business Understanding & Executive Summary <a id='business-understanding'/>"
   ]
  },
  {
   "cell_type": "markdown",
   "metadata": {
    "id": "F-4BiuuQOEh4"
   },
   "source": [
    "## Objective:\n",
    "The goal of this case study is to build a Firewall classification model to automatically allow or deny access requests in real time with a high level of accuracy. \n",
    "\n",
    "## Introduction:\n",
    "This case study is about the management of firewall traffic. Cyber security consists of all the technologies and practices that keep computer systems and electronic data safe. A firewall is one of the most critical components in supporting big corporations to protect their data. The challenge offered to the team was to build a classification model that can automatically allow or deny the access request based on the features of the incoming request. A firewall is a hardware or software filter that authorizes access based on a certain set of pre-established rules. These rules are based on multiple aspects of packet data like their source, destination, content, protocol, and other data characteristics. When the network is significantly large, and policies are complicated, manual cross-check may be insufficient, inefficient, and ineffective in detecting anomalies. An automated model based on machine learning and high-performance computing methods is leveraged to detect anomalies to strengthen the firewall. To achieve this, firewall logs are analyzed, and the extracted features are fed to a set of machine learning classification algorithms.\n",
    "\n",
    "Cybercrimes are increasing every day, which makes it critical that organizations build a robust system to ensure CPI (Customer Personal Information) and other confidential information is kept secure. Firewalls are one of the most critical tools to safeguard the network. Firewalls are like fencing to keep trespassers away and not allow unauthorized access to the system.\n",
    "\n",
    "\n",
    "<img src=\"https://raw.githubusercontent.com/olmosjorge28/QTW-SPRING-2022/main/ds7333_case_study_5/Firewall.png\" />   \n",
    "\n",
    "The efficiency and effectiveness of the firewall are judged by its accuracy and speed to identify malware and other suspicious activities. The firewall implementation can be done by hardware, software, and cloud. It carries out its function by filtering information at the application layer (proxy server) or permitting (or blocking) based on state, port, or protocol. Next-Generation Firewalls conduct deep packet inspection (beyond port/ protocol inspection). The most advanced firewalls are Unified Threat Management (UTM), which integrate multiple methodologies like stateful inspection, deep packet inspection, and Antivirus. The firewalls can provide advanced threat detection and mitigation by correlating ports, protocols, and/or suspicious behaviors. [1]\n",
    "\n",
    "\n",
    "\n",
    "## Model:\n",
    "The team used SVM (Support Vector Machine) and SGD (Stochastic Gradient Descent) classification algorithms to categorize the requests into Allowed or Denied."
   ]
  },
  {
   "cell_type": "markdown",
   "metadata": {
    "id": "_TBIHKRt8g--"
   },
   "source": []
  },
  {
   "cell_type": "markdown",
   "metadata": {
    "id": "PVtcYu5j8g_B"
   },
   "source": [
    "# Data Evaluation <a id='data-evaluation'>\n",
    "    "
   ]
  },
  {
   "cell_type": "markdown",
   "metadata": {
    "id": "ZsIJIUSjOLcl"
   },
   "source": [
    "Summarize data being used?\n",
    "\n",
    "Are there missing values?\n",
    "\n",
    "Which variables are needed and which are not?\n",
    "\n",
    "What assumptions or conclusions are you drawing about your data?"
   ]
  },
  {
   "cell_type": "markdown",
   "metadata": {},
   "source": [
    "## Dataset:\n",
    "The provided dataset contains 65,532 rows and 12 columns. It includes the ports, bytes, and packet information along with elapsed time. The dataset will need no imputation as there are no missing values. The ‘Action’ response column identifies the requests that were Allowed or Denied. ‘Action’ with a designation, \"deny\", \"drop\", or \"reset-both\" was categorized as Denied and assigned a value of \"0\" (27,892 requests) and Allowed requests were assigned as \"1\" (37,640 requests). The Dataset is relatively balanced per the barchart below. However, the team decided to use stratified splitting for training and test in an abundance of caution. Also, the dataset will be scaled to bring the values into acceptable ranges for faster, more efficient modeling.\n",
    "\n",
    "<img src=\"https://raw.githubusercontent.com/olmosjorge28/QTW-SPRING-2022/main/ds7333_case_study_5/Action Count.png\" />\n",
    "\n",
    "All of the data (other than the target) are numeric, but not necessarily treated as continuous variables. As discussed in the introduction, ports represent a sort of address and are technically categorical features. However, many models can handle these port variables as continuous features which is discussed further below.\n",
    "\n",
    "The Port features were explored for any relationships to the response variable.  Both NAT Source and Destination Ports had clear separation of the class variable at Ports = 0 vs. Ports  > 0. \n",
    "\n",
    "<img src=\"https://raw.githubusercontent.com/olmosjorge28/QTW-SPRING-2022/main/ds7333_case_study_5/EDA_All_Ports.png\" />\n",
    "\n",
    "<img src=\"https://raw.githubusercontent.com/olmosjorge28/QTW-SPRING-2022/main/ds7333_case_study_5/EDA_Ports_0.png\" />\n",
    "\n",
    "The other numeric features were also examined with histograms.  This was done to explore the scale and distribution of the features, as well as any relationships to the response variable.  Note: features are plotted on a log scale to better visualize the highly skewed data.  Elapsed Time (sec) showed the biggest separation of the target variable with Elapsed Time (sec) = 0 vs. Elapsed Time (sec) > 0.\n",
    "\n",
    "<img src=\"https://raw.githubusercontent.com/olmosjorge28/QTW-SPRING-2022/main/ds7333_case_study_5/EDA_Num_Vars.png\" />"
   ]
  },
  {
   "cell_type": "markdown",
   "metadata": {
    "id": "ox-qLqjc8g_B"
   },
   "source": []
  },
  {
   "cell_type": "code",
   "execution_count": 1,
   "metadata": {
    "id": "qcBcP8Jy8g_C",
    "outputId": "a6a85b4a-a106-48bb-bc2a-e6a5fb8ca494"
   },
   "outputs": [
    {
     "data": {
      "text/plain": [
       "\"import warnings\\nwarnings.filterwarnings('ignore')\\nfrom warnings import simplefilter \\nsimplefilter(action='ignore', category=FutureWarning)\""
      ]
     },
     "execution_count": 1,
     "metadata": {},
     "output_type": "execute_result"
    }
   ],
   "source": [
    "# standard libraries\n",
    "import pandas as pd\n",
    "import numpy as np\n",
    "import re\n",
    "import os\n",
    "from IPython.display import Image\n",
    "import sklearn\n",
    "import time\n",
    "# email\n",
    "from email import policy\n",
    "from email.parser import BytesParser\n",
    "\n",
    "# visualization\n",
    "import seaborn as sns\n",
    "import matplotlib.pyplot as plt\n",
    "%matplotlib inline\n",
    "from tabulate import tabulate\n",
    "\n",
    "# data pre-processing\n",
    "from sklearn.model_selection import train_test_split\n",
    "from sklearn.model_selection import StratifiedShuffleSplit\n",
    "from sklearn.feature_extraction.text import TfidfVectorizer\n",
    "\n",
    "# clustering\n",
    "from sklearn.cluster import DBSCAN\n",
    "from statistics import stdev\n",
    "\n",
    "# prediction models\n",
    "from sklearn.naive_bayes import GaussianNB\n",
    "from sklearn.naive_bayes import MultinomialNB\n",
    "from sklearn.feature_selection import SelectPercentile, f_classif\n",
    "from sklearn.ensemble import VotingClassifier\n",
    "from sklearn.model_selection import cross_val_score\n",
    "\n",
    "from sklearn.metrics import f1_score\n",
    "from sklearn.metrics import confusion_matrix\n",
    "from sklearn.metrics import accuracy_score\n",
    "\n",
    "# import warnings filter\n",
    "'''import warnings\n",
    "warnings.filterwarnings('ignore')\n",
    "from warnings import simplefilter \n",
    "simplefilter(action='ignore', category=FutureWarning)'''"
   ]
  },
  {
   "cell_type": "markdown",
   "metadata": {
    "id": "4WcvKI3y8g_C"
   },
   "source": [
    "## Loading Data <a id='loading-data'>"
   ]
  },
  {
   "cell_type": "markdown",
   "metadata": {
    "id": "ZDhb7boF8g_D"
   },
   "source": []
  },
  {
   "cell_type": "markdown",
   "metadata": {
    "id": "ul_6nw48N5Dy"
   },
   "source": [
    "## Data Summary <a id='data-summary'>"
   ]
  },
  {
   "cell_type": "markdown",
   "metadata": {
    "id": "Aws5HAx98g_E"
   },
   "source": [
    "## Missing Values <a id='missing-values'>\n",
    "\n"
   ]
  },
  {
   "cell_type": "markdown",
   "metadata": {
    "id": "21Kdalsl8g_I"
   },
   "source": [
    "## Feature Removal <a id='feature-removal'>"
   ]
  },
  {
   "cell_type": "markdown",
   "metadata": {
    "id": "786e5_En8g_J"
   },
   "source": []
  },
  {
   "cell_type": "code",
   "execution_count": null,
   "metadata": {
    "id": "nbvlZHwG8g_J"
   },
   "outputs": [],
   "source": []
  },
  {
   "cell_type": "markdown",
   "metadata": {
    "id": "CbAmkozvN5Dz"
   },
   "source": [
    "## Exploratory Data Analysis (EDA) <a id='eda'>"
   ]
  },
  {
   "cell_type": "markdown",
   "metadata": {
    "id": "z6qUPkzRN5D4"
   },
   "source": [
    "## Assumptions <a id='assumptions'>"
   ]
  },
  {
   "cell_type": "markdown",
   "metadata": {
    "id": "SaEb4apWN5D4"
   },
   "source": []
  },
  {
   "cell_type": "markdown",
   "metadata": {
    "id": "zmuI_mep8g_b"
   },
   "source": [
    "# Model Preparations <a id='model-preparations'/>"
   ]
  },
  {
   "cell_type": "markdown",
   "metadata": {
    "id": "wxBwihRyOfZY"
   },
   "source": [
    "What methods did you use (or not) to solve the problem?\n",
    "\n",
    "Why are the methods you chose appropriate given the business objective?\n",
    "\n",
    "How did you decide your approach was useful?  If more than one method, which one was better or why are each better or not?\n",
    "\n",
    "What evaluation smetrics are most useful given the problem is a binary classification (ex. accuracy, f1-score, precision, recall AUC, etc)?\n",
    "\n"
   ]
  },
  {
   "cell_type": "markdown",
   "metadata": {},
   "source": [
    "SVM creates decision boundaries with a margin of separation for classification.  Points on one side of the boundary are classified as Allowed, and points on the other side of the boundary are classified as Denied.  Only the points near the decision boundaries and misclassifications are used to determine where the boundaries are ultimately placed.  In this way, SVM is well suited to handle this “gray area” of classification where the two classes are more similar.  These boundaries can be linear or nonlinear (i.e. linear, poly, rbf, sigmoid).  Also, SVM is resistant to the effect of outliers as long as the outliers are on the correct side of the boundary.\n",
    "\n",
    "The Stochastic Gradient Descent (SGD) classifier is a simple and efficient approach to fitting classifiers and regressors such as (linear) Support Vector Machines and Logistic Regression. These are very efficient and easy to implement. SGD should take a much shorter time to complete by minimizing the loss “stochastically”:\n",
    "\n",
    "Due to the large number of rows in the dataset, SGD implementation will leverage a “partial fit” training approach to loop through the dataset in smaller batches to improve the training efficiency (both time and memory). SGD is a method that can reduce memory when working with datasets of vast sizes that overwhelm available computing resources. \n",
    "\n",
    "SGD works similarly to linear regression and logistic regression for classification.  It requires regularization to prevent overfitting as well as hyperparameter tuning to optimize the algorithm for the best performance.\n",
    "\n",
    "Training and test sets were created using a stratified splitting method to maintain the ratio of accepted versus denied requests. 30% of the data was withheld for the test set, and the relevant continuous features were normalized using StandardScaler.\n",
    "\n",
    "The “port” categorical variables were considered for one hot encoding as dummy variables. The team attempted this and discovered that data would grow exponentially from 12 columns to over 27,000. The team dropped the encoded dummy variable proposal as it took a very long time to process the using SVM and SGD. The processing time is one of the critical measures along with the accuracy. Also, the team found that SVM and SGD algorithms are able to handle these categorical variables as continuous variables and still achieve consistent classification with a high accuracy.   \n",
    "A range of models were explored using SVM and SGD Classifiers to tune the model hyperparameters.  Maximum accuracy and minimum compute time were the criteria used to identify the best model.\n"
   ]
  },
  {
   "cell_type": "markdown",
   "metadata": {
    "id": "BnCsXV_c8g_V"
   },
   "source": [
    "## Sampling & Scaling Data <a id='sampling-scaling-data' />"
   ]
  },
  {
   "cell_type": "markdown",
   "metadata": {
    "id": "cXqoLTm_8g_c"
   },
   "source": [
    "## Proposed Method <a id='proposed-metrics' />"
   ]
  },
  {
   "cell_type": "markdown",
   "metadata": {
    "id": "0lLPX93kN5D6"
   },
   "source": []
  },
  {
   "cell_type": "markdown",
   "metadata": {
    "id": "HT4eeZsX8g_c"
   },
   "source": [
    "## Evaluation Metrics <a id='evaluation-metrics' />"
   ]
  },
  {
   "cell_type": "markdown",
   "metadata": {
    "id": "hGvfqpC4N5D6"
   },
   "source": [
    " "
   ]
  },
  {
   "cell_type": "markdown",
   "metadata": {
    "id": "DeWgSmQW8g_Z"
   },
   "source": [
    "### Baseline Model"
   ]
  },
  {
   "cell_type": "markdown",
   "metadata": {
    "id": "UUpR8S0tN5D7"
   },
   "source": []
  },
  {
   "cell_type": "code",
   "execution_count": null,
   "metadata": {
    "id": "ul4ybaieN5D7"
   },
   "outputs": [],
   "source": []
  },
  {
   "cell_type": "markdown",
   "metadata": {
    "id": "rADZ1qTz8g_c"
   },
   "source": [
    "## Feature Selection <a id='feature-selection' />"
   ]
  },
  {
   "cell_type": "markdown",
   "metadata": {
    "id": "w459qqI-N5D7"
   },
   "source": [
    " "
   ]
  },
  {
   "cell_type": "code",
   "execution_count": null,
   "metadata": {
    "id": "9lfHYitKN5D7"
   },
   "outputs": [],
   "source": []
  },
  {
   "cell_type": "markdown",
   "metadata": {
    "id": "UuRjMsjg8g_d"
   },
   "source": [
    "# Model Building & Evaluations <a id='model-building'/>"
   ]
  },
  {
   "cell_type": "markdown",
   "metadata": {
    "id": "JIef6T0FPIVM"
   },
   "source": [
    "In this case, your primary task is to use SVM and SGD to build a model to determine whether or not to accept or deny access to internet requests coming across a network and will involve the following steps:\n",
    "\n",
    "- Specify your sampling methodology\n",
    "- Setup your models - highlighting any important parameters\n",
    "- Analyze your model's performance - referencing your chosen evaluation metric (including supplemental visuals and analysis where appropriate)"
   ]
  },
  {
   "cell_type": "markdown",
   "metadata": {},
   "source": [
    "## Split into training and test"
   ]
  },
  {
   "cell_type": "markdown",
   "metadata": {},
   "source": [
    "## Modeling"
   ]
  },
  {
   "cell_type": "markdown",
   "metadata": {
    "id": "UU9VF8AM8g_d"
   },
   "source": [
    "## Sampling Methodology <a id='sampling-methodology'/>"
   ]
  },
  {
   "cell_type": "code",
   "execution_count": null,
   "metadata": {
    "id": "hDVXhO8F8g_d",
    "scrolled": true
   },
   "outputs": [],
   "source": []
  },
  {
   "cell_type": "markdown",
   "metadata": {
    "id": "p-C7Tc5W8g_e"
   },
   "source": [
    "## Model's Performance Analysis <a id='performance-analysis'/>"
   ]
  },
  {
   "cell_type": "markdown",
   "metadata": {
    "id": "B1QaouAiN5D9"
   },
   "source": [
    "The SVM Classifier resulted in 99.98% accuracy. However, it did run for XXX sec. to train the model and less than XX  second to make the predictions with accuracy of 99.98%\n",
    "\n",
    "The final SGDClassifier resulted in 99.898% accuracy with XXX sec. to train the model using partial fit approach and less than XX  second to make the predictions with accuracy of 99.898%.\n",
    "\n",
    "# Final SGD Classifier!!!!!!!!!!!!!!!!!!!!!!!!!!!!!!!!!\n",
    "\n",
    "<img src=\"https://raw.githubusercontent.com/olmosjorge28/QTW-SPRING-2022/main/ds7333_case_study_5/XXXX.png\" />\n",
    "\n",
    "\n",
    "# TODO Check data in tables!!!!!!!!!!!!!!!!!!!!!!!!!!!!!!!!!\n",
    "\n",
    "SGD Train - Confusion Matrix:\n",
    "\n",
    "|                   | Actual Denied | Actual Allowed |\n",
    "|-------------------|---------------|----------------|\n",
    "| Predicted Denied  | 19, 507       | 17             |\n",
    "| Predicted Allowed | 30            | 26, 318        |\n",
    "\n",
    "SGD Test - Confusion Matrix:\n",
    "\n",
    "|                   | Actual Denied | Actual Allowed |\n",
    "|-------------------|---------------|----------------|\n",
    "| Predicted Denied  | 8,361         | 7              |\n",
    "| Predicted Allowed | 13            | 11,279         |\n",
    "\n",
    "\n",
    "# TODO Check data in tables!!!!!!!!!!!!!!!!!!!!!!!!!!!!!!!!!\n",
    "\n",
    "The final SGD Classifier coefficients are given in the graph below.  The L1 regularization eliminated all but 4 variables, with NAT Destination Port and Elapsed Time (sec) having the largest coefficients by far."
   ]
  },
  {
   "cell_type": "markdown",
   "metadata": {
    "id": "HISQa9FO8g_e"
   },
   "source": [
    "# Model Interpretability & Explainability <a id='model-explanation'>"
   ]
  },
  {
   "cell_type": "markdown",
   "metadata": {
    "id": "5rlSakuzPhjw"
   },
   "source": [
    "Which variables were more important and why?\n",
    "\n",
    "How did you come to the conclusion these variables were important how how should the audience interpret this?"
   ]
  },
  {
   "cell_type": "markdown",
   "metadata": {
    "id": "PSBc4ETe8g_e"
   },
   "source": [
    "## Examining Feature Importance <a id='examining-feature-importance'/>"
   ]
  },
  {
   "cell_type": "code",
   "execution_count": null,
   "metadata": {
    "id": "BpGIwvaMQD8M"
   },
   "outputs": [],
   "source": []
  },
  {
   "cell_type": "markdown",
   "metadata": {
    "id": "yb4q1PtqN5D9"
   },
   "source": []
  },
  {
   "cell_type": "code",
   "execution_count": null,
   "metadata": {
    "id": "LLbI9bVy8g_e"
   },
   "outputs": [],
   "source": []
  },
  {
   "cell_type": "markdown",
   "metadata": {
    "id": "JbAhMB1x8g_e"
   },
   "source": [
    "# Conclusion <a id='conclusion'>"
   ]
  },
  {
   "cell_type": "markdown",
   "metadata": {
    "id": "fetUVJsePwN7"
   },
   "source": [
    "What are you proposing to the audience with your models and why?\n",
    "\n",
    "How should your audience interpret your conclusion and whwere should they go moving forward on the topic?\n",
    "\n",
    "What other approaches do you recommend exploring?\n",
    "\n",
    "Bring it all home!"
   ]
  },
  {
   "cell_type": "markdown",
   "metadata": {},
   "source": [
    "The accuracy obtained from the model could be considered very high at 99.9% for both the training and test sets.  However, depending on how often the firewall has to deal with these requests, that may not be good enough for real-world application. If these requests were coming in at over 1000 per day, that would mean that 1-2 would be incorrectly classified, leading to an important blocked request or an unfortunate malicious attack getting through the firewall.  The model could be further tuned such that more bad requests are blocked, but this would result in blocking more legitimate requests.\n",
    "\n",
    "Methods used in this case study could be effective with High-Performance Computing (HPC) with multi-core processors to produce more comprehensive and accurate models. Also, more diligence can be done to reduce stochastic gradient descent to obtain minimum loss. The larger volume of data will also help enhance the learning leading to better performance of firewalls. \n",
    "\n",
    "The quick convergence of these models in training could indicate that only a few important features and values contribute to the classification. Exploring the data showed that there were a few consistent variable values that always lead to a denied request, so if these are identified quickly in training, the rest of the data likely contributes minimal benefit to classification.\n",
    "\n",
    "Reviewing other classification algorithms, including Naive Bayes, kNN, Decision Table, and HyperPipes may enhance the model. Based on the article by Erden Ucar & Erkan Ozhan, “ The Analysis of Firewall Policy Through Machine Learning and Data Mining,” published on May 17, 2017, KNN has shown some outstanding results.  However, this would likely be a slow and inefficient model to predict in real time.   \n",
    "\n",
    "It is equally vital for the companies to update firewall policies regularly and continuously review the firewall logs.\n"
   ]
  },
  {
   "cell_type": "markdown",
   "metadata": {
    "id": "xnsadV7M8g_e"
   },
   "source": [
    "### Final Model Proposal <a id='final-model-proposal'/>"
   ]
  },
  {
   "cell_type": "markdown",
   "metadata": {
    "id": "4XXMCBozN5D-"
   },
   "source": []
  },
  {
   "cell_type": "markdown",
   "metadata": {
    "id": "oX8fXYczN5D-"
   },
   "source": [
    "### Future Considerations and Model Enhancements <a id='model-enhancements'/>"
   ]
  },
  {
   "cell_type": "markdown",
   "metadata": {
    "id": "xzeTkIEWN5D-"
   },
   "source": []
  },
  {
   "cell_type": "markdown",
   "metadata": {
    "id": "Thch7JfCN5D_"
   },
   "source": [
    "### Alternative Modeling Approaches <a id='alternative-modeling-approaches'>"
   ]
  },
  {
   "cell_type": "markdown",
   "metadata": {
    "id": "IUpUUjATN5D_"
   },
   "source": []
  },
  {
   "cell_type": "markdown",
   "metadata": {},
   "source": [
    "## References"
   ]
  },
  {
   "cell_type": "code",
   "execution_count": null,
   "metadata": {},
   "outputs": [],
   "source": [
    "[1] What Is Firewall: Types, How Does It Work & Advantages | Simplilearn\n",
    "[2] Difference between IP address and Port Number. https://www.geeksforgeeks.org/difference-between-ip-address-and-port-number/\n",
    "[3] The Analysis of Firewall Policy Through Machine Learning and Data Mining | SpringerLink (smu.edu)"
   ]
  }
 ],
 "metadata": {
  "colab": {
   "name": "Case_Study_1.ipynb",
   "provenance": []
  },
  "kernelspec": {
   "display_name": "Python 3",
   "language": "python",
   "name": "python3"
  },
  "language_info": {
   "codemirror_mode": {
    "name": "ipython",
    "version": 3
   },
   "file_extension": ".py",
   "mimetype": "text/x-python",
   "name": "python",
   "nbconvert_exporter": "python",
   "pygments_lexer": "ipython3",
   "version": "3.8.2"
  }
 },
 "nbformat": 4,
 "nbformat_minor": 1
}
