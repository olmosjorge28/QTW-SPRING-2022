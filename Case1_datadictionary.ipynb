{
  "nbformat": 4,
  "nbformat_minor": 0,
  "metadata": {
    "colab": {
      "name": "Case1-datadictionary.ipynb",
      "provenance": []
    },
    "kernelspec": {
      "name": "python3",
      "display_name": "Python 3"
    },
    "language_info": {
      "name": "python"
    }
  },
  "cells": [
    {
      "cell_type": "code",
      "source": [
        "# standard libraries\n",
        "import pandas as pd\n",
        "import numpy as np\n",
        "import time\n",
        "import re #regex"
      ],
      "metadata": {
        "id": "7pJxXWCNS6Yo"
      },
      "execution_count": 3,
      "outputs": []
    },
    {
      "cell_type": "code",
      "execution_count": 1,
      "metadata": {
        "colab": {
          "base_uri": "https://localhost:8080/"
        },
        "id": "_onhL8_5SmUu",
        "outputId": "42e9f661-e9cf-4a55-e154-8f29985ec8f5"
      },
      "outputs": [
        {
          "output_type": "stream",
          "name": "stdout",
          "text": [
            "Mounted at /content/gdrive\n"
          ]
        }
      ],
      "source": [
        "from google.colab import drive\n",
        "\n",
        "drive.mount('/content/gdrive')"
      ]
    },
    {
      "cell_type": "code",
      "source": [
        "datadictionary = pd.read_csv('gdrive/My Drive/datadictionary.csv') "
      ],
      "metadata": {
        "id": "J9eBrCFaSqWl"
      },
      "execution_count": 4,
      "outputs": []
    },
    {
      "cell_type": "code",
      "source": [
        "from tabulate import tabulate\n",
        "print(tabulate(datadictionary, headers='firstrow', tablefmt='fancy_grid'))"
      ],
      "metadata": {
        "colab": {
          "base_uri": "https://localhost:8080/"
        },
        "id": "2bmBJVMVSqMC",
        "outputId": "f3a1b5c8-9af3-49e7-a7e2-f299d3eaa7b4"
      },
      "execution_count": 5,
      "outputs": [
        {
          "output_type": "stream",
          "name": "stdout",
          "text": [
            "╒═════╤═════════════════════════════════╤══════════════════════════════════════════════════════╕\n",
            "│   0 │ mean_atomic_mass                │ nean of atomic mass                                  │\n",
            "╞═════╪═════════════════════════════════╪══════════════════════════════════════════════════════╡\n",
            "│   1 │ wtd_mean_atomic_mass            │ weighted mean of atomic mass                         │\n",
            "├─────┼─────────────────────────────────┼──────────────────────────────────────────────────────┤\n",
            "│   2 │ gmean_atomic_mass               │ eeometric mean of atomic mass                        │\n",
            "├─────┼─────────────────────────────────┼──────────────────────────────────────────────────────┤\n",
            "│   3 │ wtd_gmean_atomic_mass           │ weighted geometic mean of atomic mass                │\n",
            "├─────┼─────────────────────────────────┼──────────────────────────────────────────────────────┤\n",
            "│   4 │ entropy_atomic_mass             │ entropy of atomic mass                               │\n",
            "├─────┼─────────────────────────────────┼──────────────────────────────────────────────────────┤\n",
            "│   5 │ wtd_entropy_atomic_mass         │ weighted entropy of atomic mass                      │\n",
            "├─────┼─────────────────────────────────┼──────────────────────────────────────────────────────┤\n",
            "│   6 │ range_atomic_mass               │ range of atomic mass                                 │\n",
            "├─────┼─────────────────────────────────┼──────────────────────────────────────────────────────┤\n",
            "│   7 │ wtd_range_atomic_mass           │ weighted range of atomic mass                        │\n",
            "├─────┼─────────────────────────────────┼──────────────────────────────────────────────────────┤\n",
            "│   8 │ std_atomic_mass                 │ standard deviation of atomic mass                    │\n",
            "├─────┼─────────────────────────────────┼──────────────────────────────────────────────────────┤\n",
            "│   9 │ wtd_std_atomic_mass             │ weighted standard deviation of atomic mass           │\n",
            "├─────┼─────────────────────────────────┼──────────────────────────────────────────────────────┤\n",
            "│  10 │ mean_fie                        │ mean fie                                             │\n",
            "├─────┼─────────────────────────────────┼──────────────────────────────────────────────────────┤\n",
            "│  11 │ wtd_mean_fie                    │ weighted mean fie                                    │\n",
            "├─────┼─────────────────────────────────┼──────────────────────────────────────────────────────┤\n",
            "│  12 │ gmean_fie                       │ geometric mean fie                                   │\n",
            "├─────┼─────────────────────────────────┼──────────────────────────────────────────────────────┤\n",
            "│  13 │ wtd_gmean_fie                   │ weighted geometric mean fie                          │\n",
            "├─────┼─────────────────────────────────┼──────────────────────────────────────────────────────┤\n",
            "│  14 │ entropy_fie                     │ entropy fie                                          │\n",
            "├─────┼─────────────────────────────────┼──────────────────────────────────────────────────────┤\n",
            "│  15 │ wtd_entropy_fie                 │ wegithed entropy fie                                 │\n",
            "├─────┼─────────────────────────────────┼──────────────────────────────────────────────────────┤\n",
            "│  16 │ range_fie                       │ range of fie                                         │\n",
            "├─────┼─────────────────────────────────┼──────────────────────────────────────────────────────┤\n",
            "│  17 │ wtd_range_fie                   │ weighted range of fie                                │\n",
            "├─────┼─────────────────────────────────┼──────────────────────────────────────────────────────┤\n",
            "│  18 │ std_fie                         │ standard deviation of fie                            │\n",
            "├─────┼─────────────────────────────────┼──────────────────────────────────────────────────────┤\n",
            "│  19 │ wtd_std_fie                     │ weighted standard deviation of fie                   │\n",
            "├─────┼─────────────────────────────────┼──────────────────────────────────────────────────────┤\n",
            "│  20 │ mean_atomic_radius              │ atomic mean of radius                                │\n",
            "├─────┼─────────────────────────────────┼──────────────────────────────────────────────────────┤\n",
            "│  21 │ wtd_mean_atomic_radius          │ weighted atomic mean of radius                       │\n",
            "├─────┼─────────────────────────────────┼──────────────────────────────────────────────────────┤\n",
            "│  22 │ gmean_atomic_radius             │ geometric atomic of radius                           │\n",
            "├─────┼─────────────────────────────────┼──────────────────────────────────────────────────────┤\n",
            "│  23 │ wtd_gmean_atomic_radius         │ weighted geometric mean of radius                    │\n",
            "├─────┼─────────────────────────────────┼──────────────────────────────────────────────────────┤\n",
            "│  24 │ entropy_atomic_radius           │ entrophy of atomic of radius                         │\n",
            "├─────┼─────────────────────────────────┼──────────────────────────────────────────────────────┤\n",
            "│  25 │ wtd_entropy_atomic_radius       │ weighted entrophy of atomic of Radius                │\n",
            "├─────┼─────────────────────────────────┼──────────────────────────────────────────────────────┤\n",
            "│  26 │ range_atomic_radius             │ range of atomic mass of radius                       │\n",
            "├─────┼─────────────────────────────────┼──────────────────────────────────────────────────────┤\n",
            "│  27 │ wtd_range_atomic_radius         │ weighted range of atomic mass of radius              │\n",
            "├─────┼─────────────────────────────────┼──────────────────────────────────────────────────────┤\n",
            "│  28 │ std_atomic_radius               │ standard deviation of atomic mass of radius          │\n",
            "├─────┼─────────────────────────────────┼──────────────────────────────────────────────────────┤\n",
            "│  29 │ wtd_std_atomic_radius           │ weighted standard deviation of atomic mass of radius │\n",
            "├─────┼─────────────────────────────────┼──────────────────────────────────────────────────────┤\n",
            "│  30 │ mean_Density                    │ mean of density                                      │\n",
            "├─────┼─────────────────────────────────┼──────────────────────────────────────────────────────┤\n",
            "│  31 │ wtd_mean_Density                │ weighted mean of density                             │\n",
            "├─────┼─────────────────────────────────┼──────────────────────────────────────────────────────┤\n",
            "│  32 │ gmean_Density                   │ geometic mean of density                             │\n",
            "├─────┼─────────────────────────────────┼──────────────────────────────────────────────────────┤\n",
            "│  33 │ wtd_gmean_Density               │ weighted geometic mean of density                    │\n",
            "├─────┼─────────────────────────────────┼──────────────────────────────────────────────────────┤\n",
            "│  34 │ entropy_Density                 │ entropy of density                                   │\n",
            "├─────┼─────────────────────────────────┼──────────────────────────────────────────────────────┤\n",
            "│  35 │ wtd_entropy_Density             │ weighted entropy of denisty                          │\n",
            "├─────┼─────────────────────────────────┼──────────────────────────────────────────────────────┤\n",
            "│  36 │ range_Density                   │ range of density                                     │\n",
            "├─────┼─────────────────────────────────┼──────────────────────────────────────────────────────┤\n",
            "│  37 │ wtd_range_Density               │ weighted range of density                            │\n",
            "├─────┼─────────────────────────────────┼──────────────────────────────────────────────────────┤\n",
            "│  38 │ std_Density                     │ standard deviation of density                        │\n",
            "├─────┼─────────────────────────────────┼──────────────────────────────────────────────────────┤\n",
            "│  39 │ wtd_std_Density                 │ weighted standard deviation of density               │\n",
            "├─────┼─────────────────────────────────┼──────────────────────────────────────────────────────┤\n",
            "│  40 │ mean_ElectronAffinity           │ mean of electron affinity                            │\n",
            "├─────┼─────────────────────────────────┼──────────────────────────────────────────────────────┤\n",
            "│  41 │ wtd_mean_ElectronAffinity       │ weighted mean of electronic effinity                 │\n",
            "├─────┼─────────────────────────────────┼──────────────────────────────────────────────────────┤\n",
            "│  42 │ gmean_ElectronAffinity          │ geometic mean of electron affinity                   │\n",
            "├─────┼─────────────────────────────────┼──────────────────────────────────────────────────────┤\n",
            "│  43 │ wtd_gmean_ElectronAffinity      │ weighted geometic mean of electrong affinity         │\n",
            "├─────┼─────────────────────────────────┼──────────────────────────────────────────────────────┤\n",
            "│  44 │ entropy_ElectronAffinity        │ entropy of electrong affinity                        │\n",
            "├─────┼─────────────────────────────────┼──────────────────────────────────────────────────────┤\n",
            "│  45 │ wtd_entropy_ElectronAffinity    │ weighted entropy of electrong affinity               │\n",
            "├─────┼─────────────────────────────────┼──────────────────────────────────────────────────────┤\n",
            "│  46 │ range_ElectronAffinity          │ range of electrong affinity                          │\n",
            "├─────┼─────────────────────────────────┼──────────────────────────────────────────────────────┤\n",
            "│  47 │ wtd_range_ElectronAffinity      │ weighted range of electrong affinity                 │\n",
            "├─────┼─────────────────────────────────┼──────────────────────────────────────────────────────┤\n",
            "│  48 │ std_ElectronAffinity            │ standard deviation of electrong affinity             │\n",
            "├─────┼─────────────────────────────────┼──────────────────────────────────────────────────────┤\n",
            "│  49 │ wtd_std_ElectronAffinity        │ weighted standard deviation of electrong affinity    │\n",
            "├─────┼─────────────────────────────────┼──────────────────────────────────────────────────────┤\n",
            "│  50 │ mean_FusionHeat                 │ mean of fusion heat                                  │\n",
            "├─────┼─────────────────────────────────┼──────────────────────────────────────────────────────┤\n",
            "│  51 │ wtd_mean_FusionHeat             │ weighted mean of fusion heat                         │\n",
            "├─────┼─────────────────────────────────┼──────────────────────────────────────────────────────┤\n",
            "│  52 │ gmean_FusionHeat                │ geometic mean of fusion heat                         │\n",
            "├─────┼─────────────────────────────────┼──────────────────────────────────────────────────────┤\n",
            "│  53 │ wtd_gmean_FusionHeat            │ weighted geometric mean of fusion heat               │\n",
            "├─────┼─────────────────────────────────┼──────────────────────────────────────────────────────┤\n",
            "│  54 │ entropy_FusionHeat              │ entropy of fusion heat                               │\n",
            "├─────┼─────────────────────────────────┼──────────────────────────────────────────────────────┤\n",
            "│  55 │ wtd_entropy_FusionHeat          │ weighted entropy of fusion heat                      │\n",
            "├─────┼─────────────────────────────────┼──────────────────────────────────────────────────────┤\n",
            "│  56 │ range_FusionHeat                │ Range of fusion heat                                 │\n",
            "├─────┼─────────────────────────────────┼──────────────────────────────────────────────────────┤\n",
            "│  57 │ wtd_range_FusionHeat            │ weighted range fusion heat                           │\n",
            "├─────┼─────────────────────────────────┼──────────────────────────────────────────────────────┤\n",
            "│  58 │ std_FusionHeat                  │ standard deviation of fusion heat                    │\n",
            "├─────┼─────────────────────────────────┼──────────────────────────────────────────────────────┤\n",
            "│  59 │ wtd_std_FusionHeat              │ weighted standard deviation of fusion heat           │\n",
            "├─────┼─────────────────────────────────┼──────────────────────────────────────────────────────┤\n",
            "│  60 │ mean_ThermalConductivity        │ mean of thermal conductivity                         │\n",
            "├─────┼─────────────────────────────────┼──────────────────────────────────────────────────────┤\n",
            "│  61 │ wtd_mean_ThermalConductivity    │ weighted mean of thermal conductivity                │\n",
            "├─────┼─────────────────────────────────┼──────────────────────────────────────────────────────┤\n",
            "│  62 │ gmean_ThermalConductivity       │ geometric mean of thermal conductivity               │\n",
            "├─────┼─────────────────────────────────┼──────────────────────────────────────────────────────┤\n",
            "│  63 │ wtd_gmean_ThermalConductivity   │ weighted geometric mean of thermal conductivity      │\n",
            "├─────┼─────────────────────────────────┼──────────────────────────────────────────────────────┤\n",
            "│  64 │ entropy_ThermalConductivity     │ entrophy of thermal conductivity                     │\n",
            "├─────┼─────────────────────────────────┼──────────────────────────────────────────────────────┤\n",
            "│  65 │ wtd_entropy_ThermalConductivity │ weighted entropy of thermal conductivity             │\n",
            "├─────┼─────────────────────────────────┼──────────────────────────────────────────────────────┤\n",
            "│  66 │ range_ThermalConductivity       │ range of thermal conductivity                        │\n",
            "├─────┼─────────────────────────────────┼──────────────────────────────────────────────────────┤\n",
            "│  67 │ wtd_range_ThermalConductivity   │ weighted range of thermal conductivity               │\n",
            "├─────┼─────────────────────────────────┼──────────────────────────────────────────────────────┤\n",
            "│  68 │ std_ThermalConductivity         │ standard deviation of thermal conductivity           │\n",
            "├─────┼─────────────────────────────────┼──────────────────────────────────────────────────────┤\n",
            "│  69 │ wtd_std_ThermalConductivity     │ weighted standard deviation of thermal conductivity  │\n",
            "├─────┼─────────────────────────────────┼──────────────────────────────────────────────────────┤\n",
            "│  70 │ mean_Valence                    │ mean of valence                                      │\n",
            "├─────┼─────────────────────────────────┼──────────────────────────────────────────────────────┤\n",
            "│  71 │ wtd_mean_Valence                │ weighted mean of valence                             │\n",
            "├─────┼─────────────────────────────────┼──────────────────────────────────────────────────────┤\n",
            "│  72 │ gmean_Valence                   │ geometric mean of valence                            │\n",
            "├─────┼─────────────────────────────────┼──────────────────────────────────────────────────────┤\n",
            "│  73 │ wtd_gmean_Valence               │ weighted geometric mean of valence                   │\n",
            "├─────┼─────────────────────────────────┼──────────────────────────────────────────────────────┤\n",
            "│  74 │ entropy_Valence                 │ entropy of valence                                   │\n",
            "├─────┼─────────────────────────────────┼──────────────────────────────────────────────────────┤\n",
            "│  75 │ wtd_entropy_Valence             │ weighted entrophy of valence                         │\n",
            "├─────┼─────────────────────────────────┼──────────────────────────────────────────────────────┤\n",
            "│  76 │ range_Valence                   │ range of valence                                     │\n",
            "├─────┼─────────────────────────────────┼──────────────────────────────────────────────────────┤\n",
            "│  77 │ wtd_range_Valence               │ weighted range of valence                            │\n",
            "├─────┼─────────────────────────────────┼──────────────────────────────────────────────────────┤\n",
            "│  78 │ std_Valence                     │ standard deviation of valence                        │\n",
            "├─────┼─────────────────────────────────┼──────────────────────────────────────────────────────┤\n",
            "│  79 │ wtd_std_Valence                 │ weighted standard deviation of valence               │\n",
            "├─────┼─────────────────────────────────┼──────────────────────────────────────────────────────┤\n",
            "│  80 │ critical_temp                   │ critical temperature                                 │\n",
            "╘═════╧═════════════════════════════════╧══════════════════════════════════════════════════════╛\n"
          ]
        }
      ]
    }
  ]
}