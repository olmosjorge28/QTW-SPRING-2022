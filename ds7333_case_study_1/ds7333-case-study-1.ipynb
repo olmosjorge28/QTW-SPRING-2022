{
 "cells": [
  {
   "cell_type": "markdown",
   "metadata": {
    "id": "GoCXzNvN8g-8"
   },
   "source": [
    "# Case Study 1 - Predicting Superconductors "
   ]
  },
  {
   "cell_type": "markdown",
   "metadata": {
    "id": "YBy24RcB8g-9"
   },
   "source": [
    "__Team Members:__ Amber Clark, Andrew Leppla, Jorge Olmos, Paritosh Rai"
   ]
  },
  {
   "cell_type": "markdown",
   "metadata": {
    "id": "O4O0up-U8g-9"
   },
   "source": [
    "# Content\n",
    "* [Business Understanding](#business-understanding)\n",
    "    - [Scope](#scope)\n",
    "    - [Introduction](#introduction)\n",
    "    - [Methods](#methods)\n",
    "    - [Results](#results)\n",
    "* [Data Evaluation](#data-evaluation)\n",
    "    - [Loading Data](#loading-data) \n",
    "    - [Data Summary](#data-summary)\n",
    "    - [Missing Values](#missing-values)\n",
    "    - [Feature Removal](#feature-removal)\n",
    "    - [Exploratory Data Analysis (EDA)](#eda)\n",
    "    - [Assumptions](#assumptions)\n",
    "* [Model Preparations](#model-preparations)\n",
    "    - [Sampling & Scaling Data](#sampling-scaling-data)\n",
    "    - [Proposed Method](#proposed-metrics)\n",
    "    - [Evaluation Metrics](#evaluation-metrics)\n",
    "    - [Feature Selection](#feature-selection)\n",
    "* [Model Building & Evaluations](#model-building)\n",
    "    - [Sampling Methodology](#sampling-methodology)\n",
    "    - [Model](#model)\n",
    "    - [Performance Analysis](#performance-analysis)\n",
    "* [Model Interpretability & Explainability](#model-explanation)\n",
    "    - [Examining Feature Importance](#examining-feature-importance)\n",
    "* [Conclusion](#conclusion)\n",
    "    - [Final Model Proposal](#final-model-proposal)\n",
    "    - [Future Considerations and Model Enhancements](#model-enhancements)\n",
    "    - [Alternative Modeling Approaches](#alternative-modeling-approaches)"
   ]
  },
  {
   "cell_type": "markdown",
   "metadata": {
    "id": "TRedT-FB8g_A"
   },
   "source": [
    "# Business Understanding & Executive Summary <a id='business-understanding'/>"
   ]
  },
  {
   "cell_type": "markdown",
   "metadata": {
    "id": "_TBIHKRt8g--"
   },
   "source": [
    "### Scope <a id='scope'/>\n",
    "The objective of the case study is to identify what elements and material characteristics predict superconductor critical temperatures. This is done by regressing the critical temperature of many superconductors with varying elemental composition and quantitative material characteristics.\n",
    "\n",
    "### Introduction <a id='introduction'/>\n",
    "A superconductor is a material that will exhibit extremely low to no electrical resistance at a sufficiently low enough temperature, resulting in infinite conductivity. This still little-understood phenomenon at which a material reaches the physical state of superconductivity occurs suddenly at a temperature known as the critical temperature. In 1911 the Dutch physicist Heike Kamerlingh Onnes discovered Mercury (Hg) as the first superconductor at a critical temperature of 4 degrees Kelvin (or -424 degrees Fahrenheit). Since then, researchers have discovered and developed many superconducting compounds, including metal alloys and ceramics, intending to find materials with higher critical temperatures (or ideally, those as close to room temperature as possible), as the requirement of extreme cooling is both expensive and challenging to achieve.\n",
    "The dataset contains 21,263 observations of materials. The information for these observations includes the ratios of 77 different elements and 81 quantitative material characteristics of the compounds. The goal is to predict the Critical Temperature and find which combination of these variables can positively or negatively correlate most with increased critical temperature to identify valuable new superconductors' traits.\n",
    "\n",
    "### Methods <a id='methods'/>\n",
    "Dataset provided two files containing measurements of material characteristics and another with the elemental compositions. The two files were combined for use in this analysis along with the target response variable, critical temperature. There were no missing values in the data provided for this analysis. The team also identified a few outliers' (82 rows) in the clean-up process. The team worked on a model that will help determine which individual features contribute most to increases in critical temperature. Therefore, linear regression is best for this case as the response variable is continuous. The team split the data as a training set to build the model and a test set to validate the model's outcome. \n",
    "After combining the two data files, the data set contained 158 features to start. This dataset was very complex to interpret and drive any kind of correlation and may result in over-fitting the model. After initial exploration of the dataset, the team built a linear model with all 158 features as a baseline. Followed by the linear model using a LASSO algorithm to select the most pertinent variables, and then Ridge regression to fit the model using the smaller set of variables chosen to reduce the chances of overfitting without further reducing the number of variables . The primary objective was to reduce the number of explanatory variables, to build a meaningful model and ensure the accuracy and explain ability of a dependable variable by the independent variable is not compromised.\n",
    " The prime criteria to evaluate the model was to minimize the error (mean square error) and increase the explanation of the relationship between independent and dependent variables (R<sup>2</sup>). The team also made a few manual adjustments to optimize (trade-off) the model's accuracy and enhance the model interpretation. The team investigated the correlations, checked the multi-collinearity, and kept the most relevant features. \n",
    " \n",
    "### Results <a id='results'/>\n",
    "The coefficients representing the feature importance in the final linear model and the summary table with vital statistics are shown in the figures below.\n",
    "\n",
    "<img src=\"summary_table.png\" width=250 height=250 />\n",
    "\n",
    "The team started building the model with the notion of predicting the critical temperature based on given element composition and material characteristics. Thermal Conductivity, Atomic Mass, and Atomic Radius had the highest __positive__ influence on critical temperature of superconductors to achieve superconductivity. Also, the presence of Barium (Ba), Calcium (Ca) and Bismuth (Bi) helps increase the critical temperature.  Variables related to Valence, Density, Electron Affinity, and Fusion Heat had the highest __negative__ influence on critical temperatures. Additionally the presence of Silicon (Si), Arsenic (As), Praseodymium (Pr) decrease the critical temperature.\n",
    "\n",
    "We observed an interesting result that only nine (9) material characteristics and thirteen (13) elements, out of 158 total, were needed to predict critical temperature. This model could potentially provide the scientific community with some insight to narrow their research to a few key factors and elements."
   ]
  },
  {
   "cell_type": "markdown",
   "metadata": {
    "id": "PVtcYu5j8g_B"
   },
   "source": [
    "# Data Evaluation <a id='data-evaluation'>\n",
    "    "
   ]
  },
  {
   "cell_type": "markdown",
   "metadata": {
    "id": "ox-qLqjc8g_B"
   },
   "source": [
    "The data comes from a Japanese database, Materials Data Repository.  It is a database repository or materials research and publications.  The data we are working with has been used in a variety of analysis and publications available online conducting similar analysis to what we have done in our assignment."
   ]
  },
  {
   "cell_type": "code",
   "execution_count": 1,
   "metadata": {
    "id": "qcBcP8Jy8g_C"
   },
   "outputs": [],
   "source": [
    "# standard libraries\n",
    "import pandas as pd\n",
    "import numpy as np\n",
    "from IPython.display import Image\n",
    "\n",
    "# visualization\n",
    "import seaborn as sns\n",
    "import matplotlib.pyplot as plt\n",
    "%matplotlib inline\n",
    "from tabulate import tabulate\n",
    "\n",
    "# data pre-processing\n",
    "from sklearn.preprocessing import StandardScaler\n",
    "from sklearn.model_selection import train_test_split\n",
    "\n",
    "# prediction models\n",
    "from sklearn.model_selection import cross_validate\n",
    "from sklearn.linear_model import LinearRegression\n",
    "from sklearn.linear_model import Ridge\n",
    "from sklearn.linear_model import Lasso\n",
    "from sklearn.metrics import r2_score\n",
    "from sklearn.metrics import mean_squared_error as mse\n",
    "from kneed import KneeLocator\n",
    "from scipy import stats\n",
    "\n",
    "# import warnings filter\n",
    "import warnings\n",
    "warnings.filterwarnings('ignore')\n",
    "from warnings import simplefilter \n",
    "simplefilter(action='ignore', category=FutureWarning)"
   ]
  },
  {
   "cell_type": "markdown",
   "metadata": {
    "id": "4WcvKI3y8g_C"
   },
   "source": [
    "## Loading Data <a id='loading-data'>"
   ]
  },
  {
   "cell_type": "markdown",
   "metadata": {
    "id": "ZDhb7boF8g_D"
   },
   "source": [
    "After loading data we noticed that all but three of the characteristics (number of elements, range of atomic mass of radius, range of valence) are floats."
   ]
  },
  {
   "cell_type": "code",
   "execution_count": 2,
   "metadata": {
    "id": "3dYvb9W38g_D"
   },
   "outputs": [],
   "source": [
    "materials = pd.read_csv('superconduct/unique_m.csv') \n",
    "characteristics = pd.read_csv('superconduct/train.csv')"
   ]
  },
  {
   "cell_type": "markdown",
   "metadata": {},
   "source": [
    "## Data Summary <a id='data-summary'>"
   ]
  },
  {
   "cell_type": "code",
   "execution_count": 3,
   "metadata": {
    "id": "FjHxbt_H8g_E",
    "outputId": "97b5781a-8ad5-4eeb-d204-3a8ca11e78aa"
   },
   "outputs": [
    {
     "name": "stdout",
     "output_type": "stream",
     "text": [
      "╒════╤═════════════════════════════════╤══════════════════════════════════════════════════════╤═════════╕\n",
      "│    │ Variable                        │ Description                                          │ Type    │\n",
      "╞════╪═════════════════════════════════╪══════════════════════════════════════════════════════╪═════════╡\n",
      "│  0 │ number_of_elements              │ number of elements                                   │ Integer │\n",
      "├────┼─────────────────────────────────┼──────────────────────────────────────────────────────┼─────────┤\n",
      "│  1 │ mean_atomic_mass                │ mean of atomic mass                                  │ Float   │\n",
      "├────┼─────────────────────────────────┼──────────────────────────────────────────────────────┼─────────┤\n",
      "│  2 │ wtd_mean_atomic_mass            │ weighted mean of atomic mass                         │ Float   │\n",
      "├────┼─────────────────────────────────┼──────────────────────────────────────────────────────┼─────────┤\n",
      "│  3 │ gmean_atomic_mass               │ geometric mean of atomic mass                        │ Float   │\n",
      "├────┼─────────────────────────────────┼──────────────────────────────────────────────────────┼─────────┤\n",
      "│  4 │ wtd_gmean_atomic_mass           │ weighted geometic mean of atomic mass                │ Float   │\n",
      "├────┼─────────────────────────────────┼──────────────────────────────────────────────────────┼─────────┤\n",
      "│  5 │ entropy_atomic_mass             │ entropy of atomic mass                               │ Float   │\n",
      "├────┼─────────────────────────────────┼──────────────────────────────────────────────────────┼─────────┤\n",
      "│  6 │ wtd_entropy_atomic_mass         │ weighted entropy of atomic mass                      │ Float   │\n",
      "├────┼─────────────────────────────────┼──────────────────────────────────────────────────────┼─────────┤\n",
      "│  7 │ range_atomic_mass               │ range of atomic mass                                 │ Float   │\n",
      "├────┼─────────────────────────────────┼──────────────────────────────────────────────────────┼─────────┤\n",
      "│  8 │ wtd_range_atomic_mass           │ weighted range of atomic mass                        │ Float   │\n",
      "├────┼─────────────────────────────────┼──────────────────────────────────────────────────────┼─────────┤\n",
      "│  9 │ std_atomic_mass                 │ standard deviation of atomic mass                    │ Float   │\n",
      "├────┼─────────────────────────────────┼──────────────────────────────────────────────────────┼─────────┤\n",
      "│ 10 │ wtd_std_atomic_mass             │ weighted standard deviation of atomic mass           │ Float   │\n",
      "├────┼─────────────────────────────────┼──────────────────────────────────────────────────────┼─────────┤\n",
      "│ 11 │ mean_fie                        │ mean phi                                             │ Float   │\n",
      "├────┼─────────────────────────────────┼──────────────────────────────────────────────────────┼─────────┤\n",
      "│ 12 │ wtd_mean_fie                    │ weighted mean phi                                    │ Float   │\n",
      "├────┼─────────────────────────────────┼──────────────────────────────────────────────────────┼─────────┤\n",
      "│ 13 │ gmean_fie                       │ geometric mean phi                                   │ Float   │\n",
      "├────┼─────────────────────────────────┼──────────────────────────────────────────────────────┼─────────┤\n",
      "│ 14 │ wtd_gmean_fie                   │ weighted geometric mean phi                          │ Float   │\n",
      "├────┼─────────────────────────────────┼──────────────────────────────────────────────────────┼─────────┤\n",
      "│ 15 │ entropy_fie                     │ entropy phi                                          │ Float   │\n",
      "├────┼─────────────────────────────────┼──────────────────────────────────────────────────────┼─────────┤\n",
      "│ 16 │ wtd_entropy_fie                 │ wegithed entropy phi                                 │ Float   │\n",
      "├────┼─────────────────────────────────┼──────────────────────────────────────────────────────┼─────────┤\n",
      "│ 17 │ range_fie                       │ range of phi                                         │ Float   │\n",
      "├────┼─────────────────────────────────┼──────────────────────────────────────────────────────┼─────────┤\n",
      "│ 18 │ wtd_range_fie                   │ weighted range of phi                                │ Float   │\n",
      "├────┼─────────────────────────────────┼──────────────────────────────────────────────────────┼─────────┤\n",
      "│ 19 │ std_fie                         │ standard deviation of phi                            │ Float   │\n",
      "├────┼─────────────────────────────────┼──────────────────────────────────────────────────────┼─────────┤\n",
      "│ 20 │ wtd_std_fie                     │ weighted standard deviation of phi                   │ Float   │\n",
      "├────┼─────────────────────────────────┼──────────────────────────────────────────────────────┼─────────┤\n",
      "│ 21 │ mean_atomic_radius              │ atomic mean of radius                                │ Float   │\n",
      "├────┼─────────────────────────────────┼──────────────────────────────────────────────────────┼─────────┤\n",
      "│ 22 │ wtd_mean_atomic_radius          │ weighted atomic mean of radius                       │ Float   │\n",
      "├────┼─────────────────────────────────┼──────────────────────────────────────────────────────┼─────────┤\n",
      "│ 23 │ gmean_atomic_radius             │ geometric atomic of radius                           │ Float   │\n",
      "├────┼─────────────────────────────────┼──────────────────────────────────────────────────────┼─────────┤\n",
      "│ 24 │ wtd_gmean_atomic_radius         │ weighted geometric mean of radius                    │ Float   │\n",
      "├────┼─────────────────────────────────┼──────────────────────────────────────────────────────┼─────────┤\n",
      "│ 25 │ entropy_atomic_radius           │ entrophy of atomic of radius                         │ Float   │\n",
      "├────┼─────────────────────────────────┼──────────────────────────────────────────────────────┼─────────┤\n",
      "│ 26 │ wtd_entropy_atomic_radius       │ weighted entrophy of atomic of Radius                │ Float   │\n",
      "├────┼─────────────────────────────────┼──────────────────────────────────────────────────────┼─────────┤\n",
      "│ 27 │ range_atomic_radius             │ range of atomic mass of radius                       │ Integer │\n",
      "├────┼─────────────────────────────────┼──────────────────────────────────────────────────────┼─────────┤\n",
      "│ 28 │ wtd_range_atomic_radius         │ weighted range of atomic mass of radius              │ Float   │\n",
      "├────┼─────────────────────────────────┼──────────────────────────────────────────────────────┼─────────┤\n",
      "│ 29 │ std_atomic_radius               │ standard deviation of atomic mass of radius          │ Float   │\n",
      "├────┼─────────────────────────────────┼──────────────────────────────────────────────────────┼─────────┤\n",
      "│ 30 │ wtd_std_atomic_radius           │ weighted standard deviation of atomic mass of radius │ Float   │\n",
      "├────┼─────────────────────────────────┼──────────────────────────────────────────────────────┼─────────┤\n",
      "│ 31 │ mean_Density                    │ mean of density                                      │ Float   │\n",
      "├────┼─────────────────────────────────┼──────────────────────────────────────────────────────┼─────────┤\n",
      "│ 32 │ wtd_mean_Density                │ weighted mean of density                             │ Float   │\n",
      "├────┼─────────────────────────────────┼──────────────────────────────────────────────────────┼─────────┤\n",
      "│ 33 │ gmean_Density                   │ geometic mean of density                             │ Float   │\n",
      "├────┼─────────────────────────────────┼──────────────────────────────────────────────────────┼─────────┤\n",
      "│ 34 │ wtd_gmean_Density               │ weighted geometic mean of density                    │ Float   │\n",
      "├────┼─────────────────────────────────┼──────────────────────────────────────────────────────┼─────────┤\n",
      "│ 35 │ entropy_Density                 │ entropy of density                                   │ Float   │\n",
      "├────┼─────────────────────────────────┼──────────────────────────────────────────────────────┼─────────┤\n",
      "│ 36 │ wtd_entropy_Density             │ weighted entropy of denisty                          │ Float   │\n",
      "├────┼─────────────────────────────────┼──────────────────────────────────────────────────────┼─────────┤\n",
      "│ 37 │ range_Density                   │ range of density                                     │ Float   │\n",
      "├────┼─────────────────────────────────┼──────────────────────────────────────────────────────┼─────────┤\n",
      "│ 38 │ wtd_range_Density               │ weighted range of density                            │ Float   │\n",
      "├────┼─────────────────────────────────┼──────────────────────────────────────────────────────┼─────────┤\n",
      "│ 39 │ std_Density                     │ standard deviation of density                        │ Float   │\n",
      "├────┼─────────────────────────────────┼──────────────────────────────────────────────────────┼─────────┤\n",
      "│ 40 │ wtd_std_Density                 │ weighted standard deviation of density               │ Float   │\n",
      "├────┼─────────────────────────────────┼──────────────────────────────────────────────────────┼─────────┤\n",
      "│ 41 │ mean_ElectronAffinity           │ mean of electron affinity                            │ Float   │\n",
      "├────┼─────────────────────────────────┼──────────────────────────────────────────────────────┼─────────┤\n",
      "│ 42 │ wtd_mean_ElectronAffinity       │ weighted mean of electronic effinity                 │ Float   │\n",
      "├────┼─────────────────────────────────┼──────────────────────────────────────────────────────┼─────────┤\n",
      "│ 43 │ gmean_ElectronAffinity          │ geometic mean of electron affinity                   │ Float   │\n",
      "├────┼─────────────────────────────────┼──────────────────────────────────────────────────────┼─────────┤\n",
      "│ 44 │ wtd_gmean_ElectronAffinity      │ weighted geometic mean of electrong affinity         │ Float   │\n",
      "├────┼─────────────────────────────────┼──────────────────────────────────────────────────────┼─────────┤\n",
      "│ 45 │ entropy_ElectronAffinity        │ entropy of electrong affinity                        │ Float   │\n",
      "├────┼─────────────────────────────────┼──────────────────────────────────────────────────────┼─────────┤\n",
      "│ 46 │ wtd_entropy_ElectronAffinity    │ weighted entropy of electrong affinity               │ Float   │\n",
      "├────┼─────────────────────────────────┼──────────────────────────────────────────────────────┼─────────┤\n",
      "│ 47 │ range_ElectronAffinity          │ range of electrong affinity                          │ Float   │\n",
      "├────┼─────────────────────────────────┼──────────────────────────────────────────────────────┼─────────┤\n",
      "│ 48 │ wtd_range_ElectronAffinity      │ weighted range of electrong affinity                 │ Float   │\n",
      "├────┼─────────────────────────────────┼──────────────────────────────────────────────────────┼─────────┤\n",
      "│ 49 │ std_ElectronAffinity            │ standard deviation of electrong affinity             │ Float   │\n",
      "├────┼─────────────────────────────────┼──────────────────────────────────────────────────────┼─────────┤\n",
      "│ 50 │ wtd_std_ElectronAffinity        │ weighted standard deviation of electrong affinity    │ Float   │\n",
      "├────┼─────────────────────────────────┼──────────────────────────────────────────────────────┼─────────┤\n",
      "│ 51 │ mean_FusionHeat                 │ mean of fusion heat                                  │ Float   │\n",
      "├────┼─────────────────────────────────┼──────────────────────────────────────────────────────┼─────────┤\n",
      "│ 52 │ wtd_mean_FusionHeat             │ weighted mean of fusion heat                         │ Float   │\n",
      "├────┼─────────────────────────────────┼──────────────────────────────────────────────────────┼─────────┤\n",
      "│ 53 │ gmean_FusionHeat                │ geometic mean of fusion heat                         │ Float   │\n",
      "├────┼─────────────────────────────────┼──────────────────────────────────────────────────────┼─────────┤\n",
      "│ 54 │ wtd_gmean_FusionHeat            │ weighted geometric mean of fusion heat               │ Float   │\n",
      "├────┼─────────────────────────────────┼──────────────────────────────────────────────────────┼─────────┤\n",
      "│ 55 │ entropy_FusionHeat              │ entropy of fusion heat                               │ Float   │\n",
      "├────┼─────────────────────────────────┼──────────────────────────────────────────────────────┼─────────┤\n",
      "│ 56 │ wtd_entropy_FusionHeat          │ weighted entropy of fusion heat                      │ Float   │\n",
      "├────┼─────────────────────────────────┼──────────────────────────────────────────────────────┼─────────┤\n",
      "│ 57 │ range_FusionHeat                │ Range of fusion heat                                 │ Float   │\n",
      "├────┼─────────────────────────────────┼──────────────────────────────────────────────────────┼─────────┤\n",
      "│ 58 │ wtd_range_FusionHeat            │ weighted range fusion heat                           │ Float   │\n",
      "├────┼─────────────────────────────────┼──────────────────────────────────────────────────────┼─────────┤\n",
      "│ 59 │ std_FusionHeat                  │ standard deviation of fusion heat                    │ Float   │\n",
      "├────┼─────────────────────────────────┼──────────────────────────────────────────────────────┼─────────┤\n",
      "│ 60 │ wtd_std_FusionHeat              │ weighted standard deviation of fusion heat           │ Float   │\n",
      "├────┼─────────────────────────────────┼──────────────────────────────────────────────────────┼─────────┤\n",
      "│ 61 │ mean_ThermalConductivity        │ mean of thermal conductivity                         │ Float   │\n",
      "├────┼─────────────────────────────────┼──────────────────────────────────────────────────────┼─────────┤\n",
      "│ 62 │ wtd_mean_ThermalConductivity    │ weighted mean of thermal conductivity                │ Float   │\n",
      "├────┼─────────────────────────────────┼──────────────────────────────────────────────────────┼─────────┤\n",
      "│ 63 │ gmean_ThermalConductivity       │ geometric mean of thermal conductivity               │ Float   │\n",
      "├────┼─────────────────────────────────┼──────────────────────────────────────────────────────┼─────────┤\n",
      "│ 64 │ wtd_gmean_ThermalConductivity   │ weighted geometric mean of thermal conductivity      │ Float   │\n",
      "├────┼─────────────────────────────────┼──────────────────────────────────────────────────────┼─────────┤\n",
      "│ 65 │ entropy_ThermalConductivity     │ entrophy of thermal conductivity                     │ Float   │\n",
      "├────┼─────────────────────────────────┼──────────────────────────────────────────────────────┼─────────┤\n",
      "│ 66 │ wtd_entropy_ThermalConductivity │ weighted entropy of thermal conductivity             │ Float   │\n",
      "├────┼─────────────────────────────────┼──────────────────────────────────────────────────────┼─────────┤\n",
      "│ 67 │ range_ThermalConductivity       │ range of thermal conductivity                        │ Float   │\n",
      "├────┼─────────────────────────────────┼──────────────────────────────────────────────────────┼─────────┤\n",
      "│ 68 │ wtd_range_ThermalConductivity   │ weighted range of thermal conductivity               │ Float   │\n",
      "├────┼─────────────────────────────────┼──────────────────────────────────────────────────────┼─────────┤\n",
      "│ 69 │ std_ThermalConductivity         │ standard deviation of thermal conductivity           │ Float   │\n",
      "├────┼─────────────────────────────────┼──────────────────────────────────────────────────────┼─────────┤\n",
      "│ 70 │ wtd_std_ThermalConductivity     │ weighted standard deviation of thermal conductivity  │ Float   │\n",
      "├────┼─────────────────────────────────┼──────────────────────────────────────────────────────┼─────────┤\n",
      "│ 71 │ mean_Valence                    │ mean of valence                                      │ Float   │\n",
      "├────┼─────────────────────────────────┼──────────────────────────────────────────────────────┼─────────┤\n",
      "│ 72 │ wtd_mean_Valence                │ weighted mean of valence                             │ Float   │\n",
      "├────┼─────────────────────────────────┼──────────────────────────────────────────────────────┼─────────┤\n",
      "│ 73 │ gmean_Valence                   │ geometric mean of valence                            │ Float   │\n",
      "├────┼─────────────────────────────────┼──────────────────────────────────────────────────────┼─────────┤\n",
      "│ 74 │ wtd_gmean_Valence               │ weighted geometric mean of valence                   │ Float   │\n",
      "├────┼─────────────────────────────────┼──────────────────────────────────────────────────────┼─────────┤\n",
      "│ 75 │ entropy_Valence                 │ entropy of valence                                   │ Float   │\n",
      "├────┼─────────────────────────────────┼──────────────────────────────────────────────────────┼─────────┤\n",
      "│ 76 │ wtd_entropy_Valence             │ weighted entrophy of valence                         │ Float   │\n",
      "├────┼─────────────────────────────────┼──────────────────────────────────────────────────────┼─────────┤\n",
      "│ 77 │ range_Valence                   │ range of valence                                     │ Integer │\n",
      "├────┼─────────────────────────────────┼──────────────────────────────────────────────────────┼─────────┤\n",
      "│ 78 │ wtd_range_Valence               │ weighted range of valence                            │ Float   │\n",
      "├────┼─────────────────────────────────┼──────────────────────────────────────────────────────┼─────────┤\n",
      "│ 79 │ std_Valence                     │ standard deviation of valence                        │ Float   │\n",
      "├────┼─────────────────────────────────┼──────────────────────────────────────────────────────┼─────────┤\n",
      "│ 80 │ wtd_std_Valence                 │ weighted standard deviation of valence               │ Float   │\n",
      "├────┼─────────────────────────────────┼──────────────────────────────────────────────────────┼─────────┤\n",
      "│ 81 │ critical_temp                   │ critical temperature                                 │ Float   │\n",
      "╘════╧═════════════════════════════════╧══════════════════════════════════════════════════════╧═════════╛\n"
     ]
    }
   ],
   "source": [
    "datadictionary = pd.read_csv('datadictionary.csv') \n",
    "col_names = [\"Variable\", \"Description\", \"Type\"]\n",
    "print(tabulate(datadictionary, headers=col_names, tablefmt='fancy_grid'))"
   ]
  },
  {
   "cell_type": "markdown",
   "metadata": {
    "id": "Aws5HAx98g_E"
   },
   "source": [
    "## Missing Values <a id='missing-values'>\n",
    "\n",
    "We looked at both the materials datasets and the train dataset and there appears to be no any missing values."
   ]
  },
  {
   "cell_type": "code",
   "execution_count": 4,
   "metadata": {
    "id": "2BgB13po8g_F",
    "outputId": "aba28207-2ccb-4d38-b36a-adcd6d28dd45"
   },
   "outputs": [
    {
     "data": {
      "text/plain": [
       "False"
      ]
     },
     "execution_count": 4,
     "metadata": {},
     "output_type": "execute_result"
    }
   ],
   "source": [
    "materials.isnull().values.any()"
   ]
  },
  {
   "cell_type": "code",
   "execution_count": 5,
   "metadata": {
    "id": "dZodlkIj8g_G",
    "outputId": "e4228e6c-6724-4073-c19a-9d665e6b233a"
   },
   "outputs": [
    {
     "data": {
      "text/plain": [
       "False"
      ]
     },
     "execution_count": 5,
     "metadata": {},
     "output_type": "execute_result"
    }
   ],
   "source": [
    "characteristics.isnull().values.any()"
   ]
  },
  {
   "cell_type": "markdown",
   "metadata": {
    "id": "21Kdalsl8g_I"
   },
   "source": [
    "## Feature Removal <a id='feature-removal'>"
   ]
  },
  {
   "cell_type": "markdown",
   "metadata": {
    "id": "786e5_En8g_J"
   },
   "source": [
    "We removed 9 elements (He', 'Ne', 'Ar', 'Kr', 'Xe', 'Pm', 'Po', 'At', 'Rn') that were not present in any of the materials we examined, therefore they will not contribute to the model. We speculate that the reason for these elements not showing up in any of the materials is that they're noble gases and don't have the propensity to react with any other elements. We additionally removed three characterics ('wtd_gmean_ThermalConductivity', 'wtd_std_ThermalConductivity','range_fie') from our features that were indentified from the multicollinearity analysis and instead kept the features that had higher correlations with the critical temperature."
   ]
  },
  {
   "cell_type": "code",
   "execution_count": 6,
   "metadata": {
    "id": "nbvlZHwG8g_J",
    "outputId": "7d4129ab-bef6-4cdc-f7c5-ead4f1586f5f"
   },
   "outputs": [
    {
     "name": "stdout",
     "output_type": "stream",
     "text": [
      "Material Drops ['He', 'Ne', 'Ar', 'Kr', 'Xe', 'Pm', 'Po', 'At', 'Rn']\n"
     ]
    }
   ],
   "source": [
    "describe =  materials.describe()\n",
    "cols = describe.columns\n",
    "material_drops = [c for c in cols if describe[c]['max'] == 0.0]\n",
    "print(\"Material Drops\", material_drops)"
   ]
  },
  {
   "cell_type": "code",
   "execution_count": 7,
   "metadata": {
    "id": "yVir1QZ68g_J"
   },
   "outputs": [],
   "source": [
    "materials = materials.drop(material_drops, axis = 1)"
   ]
  },
  {
   "cell_type": "markdown",
   "metadata": {
    "id": "2XbhroCB8g_K"
   },
   "source": [
    "#### Clean up files before combining, critical temp (duplicated in characteristics) and material (unneeded) from materials"
   ]
  },
  {
   "cell_type": "code",
   "execution_count": 8,
   "metadata": {
    "id": "jVlerbCn8g_K"
   },
   "outputs": [],
   "source": [
    "materials = materials.drop(['critical_temp', 'material'], axis = 1)"
   ]
  },
  {
   "cell_type": "markdown",
   "metadata": {
    "id": "nuD-TksI8g_K"
   },
   "source": [
    "#### Combining Datasets"
   ]
  },
  {
   "cell_type": "code",
   "execution_count": 9,
   "metadata": {
    "id": "UhFGRpPs8g_L"
   },
   "outputs": [],
   "source": [
    "df = pd.concat([materials, characteristics ], axis=1)"
   ]
  },
  {
   "cell_type": "markdown",
   "metadata": {},
   "source": [
    "## Exploratory Data Analysis (EDA) <a id='eda'>"
   ]
  },
  {
   "cell_type": "markdown",
   "metadata": {
    "id": "ChoPhHdx8g_M"
   },
   "source": [
    "### Examining Distribution of Target Variable: Critical Temperature\n",
    "\n",
    "Even though it is skewed, our sample size is large enough for the Central Limit Theorem to apply.  We noticed the data is bimodal, which could indicate that there are different relationships for high temperature superconductors and regular superconductors (does not represent 1 population), making data interpretation more dificult."
   ]
  },
  {
   "cell_type": "markdown",
   "metadata": {
    "id": "oIUJ1iGx8g_N"
   },
   "source": [
    "#### Distribution of Critical Temperature "
   ]
  },
  {
   "cell_type": "code",
   "execution_count": 10,
   "metadata": {
    "id": "dffNQE0U8g_O",
    "outputId": "2b60bd40-fbf2-41e0-81d2-af28792a5846"
   },
   "outputs": [
    {
     "data": {
      "image/png": "[encoded data removed]",
      "text/plain": [
       "<Figure size 432x288 with 1 Axes>"
      ]
     },
     "metadata": {
      "needs_background": "light"
     },
     "output_type": "display_data"
    }
   ],
   "source": [
    "sns.distplot(df['critical_temp']);"
   ]
  },
  {
   "cell_type": "markdown",
   "metadata": {
    "id": "ydLiJQw38g_R"
   },
   "source": [
    "#### Distribution of Log of Critical Temperature"
   ]
  },
  {
   "cell_type": "code",
   "execution_count": 11,
   "metadata": {
    "id": "HW8CvJoa8g_R",
    "outputId": "d0d80af9-6442-444b-b467-e8abec7227d7"
   },
   "outputs": [
    {
     "data": {
      "image/png": "[encoded data removed]",
      "text/plain": [
       "<Figure size 432x288 with 1 Axes>"
      ]
     },
     "metadata": {
      "needs_background": "light"
     },
     "output_type": "display_data"
    }
   ],
   "source": [
    "sns.distplot(np.log(df['critical_temp']));"
   ]
  },
  {
   "cell_type": "markdown",
   "metadata": {},
   "source": [
    "#### Distribution of Final Model Residuals\n",
    "The distribution of the model residuals is approximately normal and does not violate any key model assumptions."
   ]
  },
  {
   "cell_type": "code",
   "execution_count": 12,
   "metadata": {
    "id": "ATM7DPxx8g_T",
    "outputId": "dc158a0f-b286-473b-ba0b-29f8e7019809"
   },
   "outputs": [
    {
     "data": {
      "image/png": "[encoded data removed]",
      "text/plain": [
       "<IPython.core.display.Image object>"
      ]
     },
     "execution_count": 12,
     "metadata": {},
     "output_type": "execute_result"
    }
   ],
   "source": [
    "Image(filename='resid_hist.png') "
   ]
  },
  {
   "cell_type": "markdown",
   "metadata": {
    "id": "VQTytVRC8g_Z"
   },
   "source": [
    "### Feature Correlations with Critical Temp\n",
    "The team explored correlations of individual material characteristics with Critical Temp.  The feature \"wtd_std_ThermalConductivity\" had the highest correlation with r = 0.72.  "
   ]
  },
  {
   "cell_type": "code",
   "execution_count": 13,
   "metadata": {
    "id": "8cZ5lJFE8g_Z",
    "outputId": "ef4bbc96-3972-44b6-8327-f13cc8ac93a2",
    "scrolled": true
   },
   "outputs": [
    {
     "name": "stdout",
     "output_type": "stream",
     "text": [
      "wtd_mean_Valence              -0.632401\n",
      "wtd_gmean_Valence             -0.615653\n",
      "mean_Valence                  -0.600085\n",
      "gmean_Valence                 -0.573068\n",
      "gmean_Density                 -0.541684\n",
      "                                 ...   \n",
      "wtd_entropy_atomic_mass        0.626930\n",
      "std_ThermalConductivity        0.653632\n",
      "range_atomic_radius            0.653759\n",
      "range_ThermalConductivity      0.687654\n",
      "wtd_std_ThermalConductivity    0.721271\n",
      "Name: critical_temp, Length: 80, dtype: float64\n"
     ]
    }
   ],
   "source": [
    "print(characteristics[characteristics.columns[1:]].corr()['critical_temp'][:-1].sort_values())"
   ]
  },
  {
   "cell_type": "markdown",
   "metadata": {},
   "source": [
    "### Feature Collinearity - Material Characteristics <a id='feature-collinearity'>\n",
    "The team examined the collinearity between material characterstics and decided to manually remove the following three after LASSO feature selection."
   ]
  },
  {
   "cell_type": "code",
   "execution_count": 14,
   "metadata": {},
   "outputs": [
    {
     "data": {
      "image/png": "[encoded data removed]",
      "text/plain": [
       "<Figure size 432x288 with 1 Axes>"
      ]
     },
     "metadata": {
      "needs_background": "light"
     },
     "output_type": "display_data"
    }
   ],
   "source": [
    "sns.regplot(y='wtd_mean_ThermalConductivity', x='wtd_std_ThermalConductivity', data=characteristics);"
   ]
  },
  {
   "cell_type": "code",
   "execution_count": 15,
   "metadata": {},
   "outputs": [
    {
     "data": {
      "image/png": "[encoded data removed]",
      "text/plain": [
       "<Figure size 432x288 with 1 Axes>"
      ]
     },
     "metadata": {
      "needs_background": "light"
     },
     "output_type": "display_data"
    }
   ],
   "source": [
    "sns.regplot(y='wtd_mean_ThermalConductivity', x='wtd_gmean_ThermalConductivity', data=characteristics);"
   ]
  },
  {
   "cell_type": "code",
   "execution_count": 16,
   "metadata": {},
   "outputs": [
    {
     "data": {
      "image/png": "[encoded data removed]",
      "text/plain": [
       "<Figure size 432x288 with 1 Axes>"
      ]
     },
     "metadata": {
      "needs_background": "light"
     },
     "output_type": "display_data"
    }
   ],
   "source": [
    "sns.regplot(x='range_atomic_radius', y='range_fie', data=characteristics);"
   ]
  },
  {
   "cell_type": "markdown",
   "metadata": {},
   "source": [
    "### Feature Outliers - Material Characteristics\n",
    "Material characteristics were also assessed for any outliers.  About 9% of the data were >4 stdev from the mean.  However, this would be an excessive amount of data to eliminate from the dataset, so they were not eliminated.   "
   ]
  },
  {
   "cell_type": "code",
   "execution_count": 17,
   "metadata": {
    "id": "r4Sp5SYe8g_Z",
    "outputId": "49f70195-8f8c-4278-bf62-d1fc733bf8da"
   },
   "outputs": [
    {
     "data": {
      "text/plain": [
       "0.08752292715044918"
      ]
     },
     "execution_count": 17,
     "metadata": {},
     "output_type": "execute_result"
    }
   ],
   "source": [
    "outliers = pd.DataFrame()\n",
    "for col in characteristics.columns:\n",
    "    col_zscore = col + \"_zscore\"\n",
    "    outliers[col_zscore] = (characteristics[col] - characteristics[col].mean())/characteristics[col].std(ddof=0)\n",
    "\n",
    "z_scores = stats.zscore(characteristics)\n",
    "abs_z_scores = np.abs(z_scores)\n",
    "filtered_entries = (abs_z_scores < 4).all(axis=1)\n",
    "new_df = characteristics[filtered_entries]\n",
    "\n",
    "1 - new_df.shape[0]/outliers.shape[0]"
   ]
  },
  {
   "cell_type": "markdown",
   "metadata": {},
   "source": [
    "### Elemental Outliers\n",
    "Outliers of elemental variables were identified based on visual inspection of boxplots. Outliers were at least twice as far from the next highest point."
   ]
  },
  {
   "cell_type": "code",
   "execution_count": 18,
   "metadata": {},
   "outputs": [
    {
     "data": {
      "image/png": "[encoded data removed]",
      "text/plain": [
       "<Figure size 1224x360 with 5 Axes>"
      ]
     },
     "metadata": {
      "needs_background": "light"
     },
     "output_type": "display_data"
    }
   ],
   "source": [
    "fig, axes = plt.subplots(1, 5, figsize=(17, 5))\n",
    "fig.suptitle('Elements with Outliers')\n",
    "outlier_elem = ['B', 'Pr', 'Cd', 'Fe', 'Tc']\n",
    "for i,j in zip(outlier_elem, range(5)):\n",
    "    sns.boxplot(ax = axes[j], x = materials[i]); "
   ]
  },
  {
   "cell_type": "code",
   "execution_count": 19,
   "metadata": {},
   "outputs": [
    {
     "name": "stdout",
     "output_type": "stream",
     "text": [
      "(21257, 159)\n"
     ]
    }
   ],
   "source": [
    "df = df[ df['B'] < df['B'].max() ]\n",
    "df = df[ df['Pr'] < df['Pr'].max() ]\n",
    "df = df[ df['Cd'] < df['Cd'].max() ]\n",
    "df = df[ df['Fe'] < df['Fe'].max() ]\n",
    "df = df[ df['Tc'] < df['Tc'].max() ]\n",
    "df = df[ df.index != 5918] # outlier in log transform models\n",
    "print(df.shape)"
   ]
  },
  {
   "cell_type": "markdown",
   "metadata": {
    "id": "2Jugqcsr8g_U"
   },
   "source": [
    "### Feature Skewness\n",
    "Several material characteristic features were highly right-skewed with skewness > 1.0.  This is likely because the features are non-negative.  The team will proceed with caution and check the model residuals as needed.       "
   ]
  },
  {
   "cell_type": "code",
   "execution_count": 20,
   "metadata": {
    "id": "EByi2xhi8g_V",
    "outputId": "9b9b2606-630d-4c79-e314-b6d95a96097b",
    "scrolled": false
   },
   "outputs": [
    {
     "name": "stdout",
     "output_type": "stream",
     "text": [
      "1.5039066527525764 wtd_mean_atomic_mass\n",
      "1.474815716460679 gmean_atomic_mass\n",
      "1.6982799470264731 wtd_gmean_atomic_mass\n",
      "2.4638078639298486 wtd_range_atomic_mass\n",
      "1.009764280457501 mean_fie\n",
      "1.1919286264562294 gmean_fie\n",
      "1.643162460903729 wtd_range_atomic_radius\n",
      "2.103343841114579 mean_Density\n",
      "2.1377633652220895 wtd_mean_Density\n",
      "1.6591282559918128 gmean_Density\n",
      "1.6509298548729716 wtd_gmean_Density\n",
      "3.322725556824231 wtd_range_Density\n",
      "1.098437437881419 mean_ElectronAffinity\n",
      "1.3497357705423987 gmean_ElectronAffinity\n",
      "2.5227818804703905 mean_FusionHeat\n",
      "2.7638258028710343 wtd_mean_FusionHeat\n",
      "2.665477197882816 gmean_FusionHeat\n",
      "2.4875423104652383 wtd_gmean_FusionHeat\n",
      "2.7485818063583047 range_FusionHeat\n",
      "4.233613879127433 wtd_range_FusionHeat\n",
      "2.822554806107452 std_FusionHeat\n",
      "2.850133800691453 wtd_std_FusionHeat\n",
      "1.379703282816514 wtd_mean_ThermalConductivity\n",
      "2.3399514687914174 gmean_ThermalConductivity\n",
      "2.588304794394417 wtd_gmean_ThermalConductivity\n",
      "1.4159181865406276 wtd_range_ThermalConductivity\n",
      "1.0036311156826092 mean_Valence\n",
      "1.1684528392700264 gmean_Valence\n",
      "1.0168000426678279 wtd_gmean_Valence\n",
      "1.547605067282474 wtd_range_Valence\n"
     ]
    }
   ],
   "source": [
    "df_skew = characteristics.skew()\n",
    "for col in characteristics.columns:\n",
    "    if abs(df_skew.loc[col]) > 1:\n",
    "        print(df_skew.loc[col],col)"
   ]
  },
  {
   "cell_type": "markdown",
   "metadata": {},
   "source": [
    "## Assumptions <a id='assumptions'>"
   ]
  },
  {
   "cell_type": "markdown",
   "metadata": {},
   "source": [
    "#### Target Variable Interpretation"
   ]
  },
  {
   "cell_type": "markdown",
   "metadata": {},
   "source": [
    "According to our research, the Kelvin temperature scale is used for temperature instead of Fahrenheit or Celsius in semiconductor research and manufacturing.  Scientists and engineers use the Kelvin scale because it is a temperature scale where the value zero reflects the complete absence of thermal energy.  The Kelvin scale does not have negative temperatures since 0 degrees kelvin is the lowest temperature.  Because negative temperatures do not exist on the Kelvin scale, in our modeling, we replaced negative predicted values with 0."
   ]
  },
  {
   "cell_type": "markdown",
   "metadata": {
    "id": "zmuI_mep8g_b"
   },
   "source": [
    "# Model Preparations <a id='model-preparations'/>"
   ]
  },
  {
   "cell_type": "markdown",
   "metadata": {
    "id": "BnCsXV_c8g_V"
   },
   "source": [
    "## Sampling & Scaling Data <a id='sampling-scaling-data' />"
   ]
  },
  {
   "cell_type": "code",
   "execution_count": 21,
   "metadata": {
    "id": "frqtIwFq8g_W"
   },
   "outputs": [],
   "source": [
    "# Define y and X\n",
    "y = np.array( df['critical_temp'] )\n",
    "df = df.drop(['critical_temp'], axis =1)\n",
    "X = df\n",
    "\n",
    "# Split the data\n",
    "X_train, X_test, y_train, y_test = train_test_split(X, y, test_size = 0.3, random_state = 1234321) \n",
    "\n",
    "# Center and Scale X\n",
    "scl = StandardScaler()\n",
    "scl.fit(X_train)\n",
    "X_train_scaled = scl.transform(X_train) # apply to training\n",
    "X_test_scaled = scl.transform(X_test) # apply to the test set (without snooping)\n",
    "\n",
    "# Keep the feature names\n",
    "X_train_scaled = pd.DataFrame(X_train_scaled, columns = X.columns, index = X_train.index)\n",
    "X_test_scaled = pd.DataFrame(X_test_scaled, columns = X.columns, index = X_test.index)"
   ]
  },
  {
   "cell_type": "markdown",
   "metadata": {
    "id": "cXqoLTm_8g_c"
   },
   "source": [
    "## Proposed Method <a id='proposed-metrics' />"
   ]
  },
  {
   "cell_type": "markdown",
   "metadata": {},
   "source": [
    "After combining the two data files, the data set contained 158 features to start. This dataset was very complex to interpret and drive any kind of correlation, which may result in over-fitting the model. After initial exploration of the dataset, the team built a linear model with all 158 features as a baseline. Followed by the linear model using a LASSO algorithm to select the most pertinent variables, and then Ridge regression to fit the model using the smaller set of variables chosen to reduce the chances of overfitting without further reducing the number of variables. \n",
    "\n",
    "The primary objective was to reduce the number of explanatory variables, to build a meaningful model and ensure the accuracy and explain ability of a dependable variable by the independent variable is not compromised.  The LASSO algorithm is appropriate because it produces simpler and more interpretable models with a reduced set of the predictors. "
   ]
  },
  {
   "cell_type": "markdown",
   "metadata": {
    "id": "HT4eeZsX8g_c"
   },
   "source": [
    "## Evaluation Metrics <a id='evaluation-metrics' />"
   ]
  },
  {
   "cell_type": "markdown",
   "metadata": {},
   "source": [
    "The prime criteria to evaluate the model was to minimize the error (mean square error) and increase the explanation of the relationship between independent and dependent variables (R<sup>2</sup>). The team also made a few manual adjustments to optimize (trade-off) the model's accuracy and enhance the model interpretation. The team investigated the correlations, checked the multicollinearity, and kept the most relevant features. "
   ]
  },
  {
   "cell_type": "markdown",
   "metadata": {
    "id": "DeWgSmQW8g_Z"
   },
   "source": [
    "### Baseline Model - Linear Model with All Features  "
   ]
  },
  {
   "cell_type": "markdown",
   "metadata": {},
   "source": [
    "The team chose a \"naive\" full linear model with all 158 features as the baseline starting point for model comparison because it requires little to no pre-processing and can be run quickly and easily."
   ]
  },
  {
   "cell_type": "code",
   "execution_count": 22,
   "metadata": {},
   "outputs": [
    {
     "name": "stdout",
     "output_type": "stream",
     "text": [
      "LinReg CV 5 Folds RMSE = [16.75, 16.84, 17.16, 16.99, 16.51]\n",
      "LinReg CV Avg. RMSE = 16.85\n",
      "\n",
      "LinReg CV 5 Folds R-sq = [0.763, 0.758, 0.744, 0.759, 0.773]\n",
      "LinReg CV Avg. R-sq = 0.759\n",
      "\n",
      "LinReg Training RMSE = 16.58\n",
      "LinReg Training R-Sq = 0.767\n",
      "\n",
      "LinReg Test RMSE = 16.26\n",
      "LinReg Test R-Sq = 0.771\n"
     ]
    }
   ],
   "source": [
    "LR = LinearRegression()\n",
    "\n",
    "# Cross validation on training set\n",
    "\n",
    "LR_CV = cross_validate(LR, X_train_scaled, y_train, cv = 5, scoring=['neg_root_mean_squared_error','r2'])\n",
    "LR_CV_RMSE = [round(-i,2) for i in LR_CV['test_neg_root_mean_squared_error']]\n",
    "print( \"LinReg CV 5 Folds RMSE =\", LR_CV_RMSE )\n",
    "print( \"LinReg CV Avg. RMSE =\", round(np.mean(LR_CV_RMSE),2) )\n",
    "LR_CV_Rsq = [round(i,3) for i in LR_CV['test_r2']]\n",
    "print( \"\\nLinReg CV 5 Folds R-sq =\", LR_CV_Rsq )\n",
    "print( \"LinReg CV Avg. R-sq =\", round(np.mean(LR_CV_Rsq),3) )\n",
    "\n",
    "# Training & Test Set\n",
    "\n",
    "LR.fit(X_train_scaled, y_train)\n",
    "y_hat_train = LR.predict(X_train_scaled)\n",
    "RMSE = round(mse(y_train, y_hat_train, squared=False), 2)\n",
    "print( \"\\nLinReg Training RMSE =\", round(RMSE,2) )\n",
    "Rsq = r2_score(y_train, y_hat_train)\n",
    "print( \"LinReg Training R-Sq =\", round(Rsq,3) )\n",
    "\n",
    "y_hat_test = LR.predict(X_test_scaled)\n",
    "RMSE = round(mse(y_test, y_hat_test, squared=False), 2)\n",
    "print( \"\\nLinReg Test RMSE =\", round(RMSE,2) )\n",
    "Rsq = r2_score(y_test, y_hat_test)\n",
    "print( \"LinReg Test R-Sq =\", round(Rsq,3) )"
   ]
  },
  {
   "cell_type": "markdown",
   "metadata": {
    "id": "rADZ1qTz8g_c"
   },
   "source": [
    "## Feature Selection with LASSO <a id='feature-selection' />"
   ]
  },
  {
   "cell_type": "markdown",
   "metadata": {},
   "source": [
    "In order reduce the number of parameters we wanted to find the point at which rmse and R<sup>2</sup> begins to flatten after  each additional paramater is added. This is the point of dimishing returns, also known as the \"knee point\". Depending on the target metric, the optimal penalty (alpha) is estimated. Targeting R<sup>2</sup> the estimated point of dimishing returns is alpha=0.9. Targeting RMSE the estimated point of dimishing returns is alpha=0.85.  The team chose the larger alpha=0.9 to have fewer features in the model.    "
   ]
  },
  {
   "cell_type": "markdown",
   "metadata": {},
   "source": [
    "### Identifying Knee Points "
   ]
  },
  {
   "cell_type": "code",
   "execution_count": 23,
   "metadata": {},
   "outputs": [],
   "source": [
    "Lasso_df = []\n",
    "L1 = Lasso()\n",
    "\n",
    "for i in np.linspace(0, 5, 101):\n",
    "    L1.alpha = i\n",
    "  \n",
    "    # Cross validation on training set\n",
    "    L1_CV = cross_validate(L1, X_train_scaled, y_train, cv = 5, scoring=['neg_root_mean_squared_error','r2'])\n",
    "    L1_CV_RMSE = round(np.mean(-L1_CV['test_neg_root_mean_squared_error']), 3)\n",
    "    L1_CV_Rsq = round(np.mean(L1_CV['test_r2']), 4)\n",
    "    \n",
    "    L1.fit(X_train_scaled, y_train)\n",
    "    num_terms = len(L1.coef_[L1.coef_!=0])\n",
    "    \n",
    "    Lasso_df.append([ L1.alpha, num_terms, L1_CV_RMSE, L1_CV_Rsq ])\n",
    "    \n",
    "Lasso_df = pd.DataFrame(Lasso_df, columns = ['Lasso alpha', '# Terms', 'CV RMSE', 'CV R-squared'])"
   ]
  },
  {
   "cell_type": "markdown",
   "metadata": {},
   "source": [
    "#### RMSE Knee Point and # Features"
   ]
  },
  {
   "cell_type": "code",
   "execution_count": 24,
   "metadata": {},
   "outputs": [
    {
     "name": "stdout",
     "output_type": "stream",
     "text": [
      "CV RMSE 19.168\n",
      "# Features 21\n"
     ]
    }
   ],
   "source": [
    "kn1 = KneeLocator(Lasso_df['CV RMSE'], Lasso_df['# Terms'], curve='convex', direction='decreasing', S=2)\n",
    "# S=2 chooses the second knee that is visually more prominent\n",
    "\n",
    "print('CV RMSE', kn1.knee)\n",
    "kn1_terms = Lasso_df[Lasso_df['CV RMSE']==kn1.knee]['# Terms'].item()\n",
    "print('# Features', kn1_terms)"
   ]
  },
  {
   "cell_type": "code",
   "execution_count": 25,
   "metadata": {},
   "outputs": [
    {
     "data": {
      "text/plain": [
       "<matplotlib.collections.LineCollection at 0x11e68cdc0>"
      ]
     },
     "execution_count": 25,
     "metadata": {},
     "output_type": "execute_result"
    },
    {
     "data": {
      "image/png": "[encoded data removed]",
      "text/plain": [
       "<Figure size 432x288 with 1 Axes>"
      ]
     },
     "metadata": {
      "needs_background": "light"
     },
     "output_type": "display_data"
    }
   ],
   "source": [
    "plt.xlabel('RMSE')\n",
    "plt.ylabel('# of parameters')\n",
    "plt.plot(Lasso_df['CV RMSE'], Lasso_df['# Terms'], 'bx-')\n",
    "plt.vlines(kn1.knee, plt.ylim()[0], plt.ylim()[1], linestyles='dashed')"
   ]
  },
  {
   "cell_type": "markdown",
   "metadata": {},
   "source": [
    "#### R<sup>2</sup> Knee Point and # Features"
   ]
  },
  {
   "cell_type": "code",
   "execution_count": 26,
   "metadata": {},
   "outputs": [
    {
     "name": "stdout",
     "output_type": "stream",
     "text": [
      "CV R-squared 0.6942\n",
      "# Features 25\n"
     ]
    }
   ],
   "source": [
    "kn2 = KneeLocator(Lasso_df['CV R-squared'],  Lasso_df['# Terms'], curve='convex', direction='increasing')\n",
    "print('CV R-squared', kn2.knee)\n",
    "kn2_terms = Lasso_df[Lasso_df['CV R-squared']==kn2.knee]['# Terms'].item()\n",
    "print('# Features', kn2_terms)"
   ]
  },
  {
   "cell_type": "code",
   "execution_count": 27,
   "metadata": {},
   "outputs": [
    {
     "data": {
      "text/plain": [
       "<matplotlib.collections.LineCollection at 0x12148d700>"
      ]
     },
     "execution_count": 27,
     "metadata": {},
     "output_type": "execute_result"
    },
    {
     "data": {
      "image/png": "[encoded data removed]",
      "text/plain": [
       "<Figure size 432x288 with 1 Axes>"
      ]
     },
     "metadata": {
      "needs_background": "light"
     },
     "output_type": "display_data"
    }
   ],
   "source": [
    "import matplotlib.pyplot as plt\n",
    "plt.xlabel('r-squared')\n",
    "plt.ylabel('# of parameters')\n",
    "plt.plot(Lasso_df['CV R-squared'], Lasso_df['# Terms'], 'bx-')\n",
    "plt.vlines(kn2.knee, plt.ylim()[0], plt.ylim()[1], linestyles='dashed')"
   ]
  },
  {
   "cell_type": "markdown",
   "metadata": {},
   "source": [
    "#### RMSE Knee Point and Alpha"
   ]
  },
  {
   "cell_type": "code",
   "execution_count": 28,
   "metadata": {},
   "outputs": [
    {
     "name": "stdout",
     "output_type": "stream",
     "text": [
      "Lasso alpha 0.9\n",
      "RMSE 18.984\n"
     ]
    }
   ],
   "source": [
    "kn3 = KneeLocator(Lasso_df['Lasso alpha'],Lasso_df['CV RMSE'], curve='concave', direction='increasing')\n",
    "print('Lasso alpha', kn3.knee)\n",
    "kn3_rmse = Lasso_df[Lasso_df['Lasso alpha']==kn3.knee]['CV RMSE'].item()\n",
    "print('RMSE', kn3_rmse)"
   ]
  },
  {
   "cell_type": "code",
   "execution_count": 29,
   "metadata": {},
   "outputs": [
    {
     "data": {
      "text/plain": [
       "<matplotlib.collections.LineCollection at 0x1213bdcd0>"
      ]
     },
     "execution_count": 29,
     "metadata": {},
     "output_type": "execute_result"
    },
    {
     "data": {
      "image/png": "[encoded data removed]",
      "text/plain": [
       "<Figure size 432x288 with 1 Axes>"
      ]
     },
     "metadata": {
      "needs_background": "light"
     },
     "output_type": "display_data"
    }
   ],
   "source": [
    "import matplotlib.pyplot as plt\n",
    "plt.xlabel('alpha')\n",
    "plt.ylabel('RMSE')\n",
    "plt.plot(Lasso_df['Lasso alpha'],Lasso_df['CV RMSE'], 'bx-')\n",
    "plt.vlines(kn3.knee, plt.ylim()[0], plt.ylim()[1], linestyles='dashed')"
   ]
  },
  {
   "cell_type": "markdown",
   "metadata": {},
   "source": [
    "#### R-squared Knee point and Alpha\n"
   ]
  },
  {
   "cell_type": "code",
   "execution_count": 30,
   "metadata": {},
   "outputs": [
    {
     "name": "stdout",
     "output_type": "stream",
     "text": [
      "Lasso alpha 0.85\n",
      "CV R-squared 0.6942\n"
     ]
    }
   ],
   "source": [
    "kn4 = KneeLocator(Lasso_df['Lasso alpha'],Lasso_df['CV R-squared'], curve='convex', direction='decreasing')\n",
    "print('Lasso alpha', round(kn4.knee,3))\n",
    "kn3_rsq = Lasso_df[Lasso_df['Lasso alpha']==kn3.knee]['CV R-squared'].item()\n",
    "print('CV R-squared', kn3_rsq)"
   ]
  },
  {
   "cell_type": "code",
   "execution_count": 31,
   "metadata": {},
   "outputs": [
    {
     "data": {
      "text/plain": [
       "<matplotlib.collections.LineCollection at 0x121605f40>"
      ]
     },
     "execution_count": 31,
     "metadata": {},
     "output_type": "execute_result"
    },
    {
     "data": {
      "image/png": "[encoded data removed]",
      "text/plain": [
       "<Figure size 432x288 with 1 Axes>"
      ]
     },
     "metadata": {
      "needs_background": "light"
     },
     "output_type": "display_data"
    }
   ],
   "source": [
    "import matplotlib.pyplot as plt\n",
    "plt.xlabel('alpha')\n",
    "plt.ylabel('RMSE')\n",
    "plt.plot(Lasso_df['Lasso alpha'],Lasso_df['CV R-squared'], 'bx-')\n",
    "plt.vlines(kn4.knee, plt.ylim()[0], plt.ylim()[1], linestyles='dashed')"
   ]
  },
  {
   "cell_type": "markdown",
   "metadata": {},
   "source": [
    "### Feature Selection with Tuned Alpha"
   ]
  },
  {
   "cell_type": "code",
   "execution_count": 32,
   "metadata": {
    "id": "lQriWSyO8g_c",
    "outputId": "92ea5060-c3ab-4db0-ab1a-002170ba9ca7",
    "scrolled": false
   },
   "outputs": [
    {
     "name": "stdout",
     "output_type": "stream",
     "text": [
      "Lasso Training RMSE = 18.87\n",
      "Lasso Training R-Sq = 0.698\n",
      "\n",
      "Lasso Test RMSE = 18.44\n",
      "Lasso Test R-Sq = 0.706\n"
     ]
    }
   ],
   "source": [
    "L1 = Lasso(alpha = .9)\n",
    "L1.fit(X_train_scaled, y_train)\n",
    "\n",
    "y_hat_train = L1.predict(X_train_scaled)\n",
    "RMSE = round(mse(y_train, y_hat_train, squared=False), 2)\n",
    "print( \"Lasso Training RMSE =\", round(RMSE,2) )\n",
    "Rsq = r2_score(y_train, y_hat_train)\n",
    "print( \"Lasso Training R-Sq =\", round(Rsq,3) )\n",
    "\n",
    "y_hat_test = L1.predict(X_test_scaled)\n",
    "RMSE = round(mse(y_test, y_hat_test, squared=False), 2)\n",
    "print( \"\\nLasso Test RMSE =\", round(RMSE,2) )\n",
    "Rsq = r2_score(y_test, y_hat_test)\n",
    "print( \"Lasso Test R-Sq =\", round(Rsq,3) )\n",
    "\n",
    "model_coef = pd.DataFrame(zip(X.columns, L1.coef_), columns=['Factor','Coef'])\n",
    "model_factors = model_coef[model_coef['Coef']!=0]"
   ]
  },
  {
   "cell_type": "code",
   "execution_count": 33,
   "metadata": {},
   "outputs": [
    {
     "name": "stdout",
     "output_type": "stream",
     "text": [
      "\n",
      "Kept Factors( 25 of 158 ):\n"
     ]
    },
    {
     "data": {
      "text/html": [
       "<div>\n",
       "<style scoped>\n",
       "    .dataframe tbody tr th:only-of-type {\n",
       "        vertical-align: middle;\n",
       "    }\n",
       "\n",
       "    .dataframe tbody tr th {\n",
       "        vertical-align: top;\n",
       "    }\n",
       "\n",
       "    .dataframe thead th {\n",
       "        text-align: right;\n",
       "    }\n",
       "</style>\n",
       "<table border=\"1\" class=\"dataframe\">\n",
       "  <thead>\n",
       "    <tr style=\"text-align: right;\">\n",
       "      <th></th>\n",
       "      <th>Factor</th>\n",
       "      <th>Coef</th>\n",
       "    </tr>\n",
       "  </thead>\n",
       "  <tbody>\n",
       "    <tr>\n",
       "      <th>157</th>\n",
       "      <td>wtd_std_Valence</td>\n",
       "      <td>-3.551243</td>\n",
       "    </tr>\n",
       "    <tr>\n",
       "      <th>121</th>\n",
       "      <td>wtd_gmean_ElectronAffinity</td>\n",
       "      <td>-3.256133</td>\n",
       "    </tr>\n",
       "    <tr>\n",
       "      <th>11</th>\n",
       "      <td>Si</td>\n",
       "      <td>-2.542338</td>\n",
       "    </tr>\n",
       "    <tr>\n",
       "      <th>110</th>\n",
       "      <td>gmean_Density</td>\n",
       "      <td>-1.791377</td>\n",
       "    </tr>\n",
       "    <tr>\n",
       "      <th>53</th>\n",
       "      <td>Pr</td>\n",
       "      <td>-1.664248</td>\n",
       "    </tr>\n",
       "    <tr>\n",
       "      <th>141</th>\n",
       "      <td>wtd_gmean_ThermalConductivity</td>\n",
       "      <td>-1.336341</td>\n",
       "    </tr>\n",
       "    <tr>\n",
       "      <th>29</th>\n",
       "      <td>As</td>\n",
       "      <td>-0.801547</td>\n",
       "    </tr>\n",
       "    <tr>\n",
       "      <th>137</th>\n",
       "      <td>wtd_std_FusionHeat</td>\n",
       "      <td>-0.710089</td>\n",
       "    </tr>\n",
       "    <tr>\n",
       "      <th>52</th>\n",
       "      <td>Ce</td>\n",
       "      <td>-0.656177</td>\n",
       "    </tr>\n",
       "    <tr>\n",
       "      <th>54</th>\n",
       "      <td>Nd</td>\n",
       "      <td>-0.464878</td>\n",
       "    </tr>\n",
       "    <tr>\n",
       "      <th>42</th>\n",
       "      <td>Ag</td>\n",
       "      <td>-0.196928</td>\n",
       "    </tr>\n",
       "    <tr>\n",
       "      <th>28</th>\n",
       "      <td>Ge</td>\n",
       "      <td>-0.056967</td>\n",
       "    </tr>\n",
       "    <tr>\n",
       "      <th>88</th>\n",
       "      <td>mean_fie</td>\n",
       "      <td>0.117643</td>\n",
       "    </tr>\n",
       "    <tr>\n",
       "      <th>84</th>\n",
       "      <td>range_atomic_mass</td>\n",
       "      <td>0.938046</td>\n",
       "    </tr>\n",
       "    <tr>\n",
       "      <th>33</th>\n",
       "      <td>Sr</td>\n",
       "      <td>0.981232</td>\n",
       "    </tr>\n",
       "    <tr>\n",
       "      <th>74</th>\n",
       "      <td>Tl</td>\n",
       "      <td>1.076945</td>\n",
       "    </tr>\n",
       "    <tr>\n",
       "      <th>94</th>\n",
       "      <td>range_fie</td>\n",
       "      <td>1.159787</td>\n",
       "    </tr>\n",
       "    <tr>\n",
       "      <th>73</th>\n",
       "      <td>Hg</td>\n",
       "      <td>1.404259</td>\n",
       "    </tr>\n",
       "    <tr>\n",
       "      <th>104</th>\n",
       "      <td>range_atomic_radius</td>\n",
       "      <td>2.450541</td>\n",
       "    </tr>\n",
       "    <tr>\n",
       "      <th>139</th>\n",
       "      <td>wtd_mean_ThermalConductivity</td>\n",
       "      <td>2.902493</td>\n",
       "    </tr>\n",
       "    <tr>\n",
       "      <th>76</th>\n",
       "      <td>Bi</td>\n",
       "      <td>2.955065</td>\n",
       "    </tr>\n",
       "    <tr>\n",
       "      <th>16</th>\n",
       "      <td>Ca</td>\n",
       "      <td>3.541879</td>\n",
       "    </tr>\n",
       "    <tr>\n",
       "      <th>83</th>\n",
       "      <td>wtd_entropy_atomic_mass</td>\n",
       "      <td>4.181680</td>\n",
       "    </tr>\n",
       "    <tr>\n",
       "      <th>147</th>\n",
       "      <td>wtd_std_ThermalConductivity</td>\n",
       "      <td>7.852303</td>\n",
       "    </tr>\n",
       "    <tr>\n",
       "      <th>50</th>\n",
       "      <td>Ba</td>\n",
       "      <td>8.390068</td>\n",
       "    </tr>\n",
       "  </tbody>\n",
       "</table>\n",
       "</div>"
      ],
      "text/plain": [
       "                            Factor      Coef\n",
       "157                wtd_std_Valence -3.551243\n",
       "121     wtd_gmean_ElectronAffinity -3.256133\n",
       "11                              Si -2.542338\n",
       "110                  gmean_Density -1.791377\n",
       "53                              Pr -1.664248\n",
       "141  wtd_gmean_ThermalConductivity -1.336341\n",
       "29                              As -0.801547\n",
       "137             wtd_std_FusionHeat -0.710089\n",
       "52                              Ce -0.656177\n",
       "54                              Nd -0.464878\n",
       "42                              Ag -0.196928\n",
       "28                              Ge -0.056967\n",
       "88                        mean_fie  0.117643\n",
       "84               range_atomic_mass  0.938046\n",
       "33                              Sr  0.981232\n",
       "74                              Tl  1.076945\n",
       "94                       range_fie  1.159787\n",
       "73                              Hg  1.404259\n",
       "104            range_atomic_radius  2.450541\n",
       "139   wtd_mean_ThermalConductivity  2.902493\n",
       "76                              Bi  2.955065\n",
       "16                              Ca  3.541879\n",
       "83         wtd_entropy_atomic_mass  4.181680\n",
       "147    wtd_std_ThermalConductivity  7.852303\n",
       "50                              Ba  8.390068"
      ]
     },
     "execution_count": 33,
     "metadata": {},
     "output_type": "execute_result"
    }
   ],
   "source": [
    "print(\"\\nKept Factors(\", model_factors.shape[0], \"of\", X.shape[1],\"):\")\n",
    "model_coef[model_coef['Coef']!=0].sort_values(by='Coef')"
   ]
  },
  {
   "cell_type": "markdown",
   "metadata": {},
   "source": [
    "#### Replace Negative Predictions\n",
    "Cannot have negative degrees Kelvin as mentioned previously in the Assumptions section.  Set any negative predictions to 0 and reassess performance.  Training and test metrics are very similar, indicating the model performs consistently before vs. after replacing negative predictions. <b>Moving forward, all negative temperature predictions will be replaced with 0.</b>"
   ]
  },
  {
   "cell_type": "code",
   "execution_count": 34,
   "metadata": {
    "id": "u6Fi9XQ_8g_c",
    "outputId": "da792d98-3cc3-4ff3-9836-0045b8116613"
   },
   "outputs": [
    {
     "name": "stdout",
     "output_type": "stream",
     "text": [
      "\n",
      "LinReg Training RMSE = 18.77\n",
      "LinReg Training R-Sq = 0.702\n",
      "\n",
      "LinReg Test RMSE = 18.36\n",
      "LinReg Test R-Sq = 0.709\n"
     ]
    }
   ],
   "source": [
    "y_hat_train[y_hat_train<0]=0\n",
    "RMSE = round(mse(y_train, y_hat_train, squared=False), 2)\n",
    "print( \"\\nLinReg Training RMSE =\", round(RMSE,2) )\n",
    "Rsq = r2_score(y_train, y_hat_train)\n",
    "print( \"LinReg Training R-Sq =\", round(Rsq,3) )\n",
    "\n",
    "y_hat_test[y_hat_test<0]=0\n",
    "RMSE = round(mse(y_test, y_hat_test, squared=False), 2)\n",
    "print( \"\\nLinReg Test RMSE =\", round(RMSE,2) )\n",
    "Rsq = r2_score(y_test, y_hat_test)\n",
    "print( \"LinReg Test R-Sq =\", round(Rsq,3) )"
   ]
  },
  {
   "cell_type": "markdown",
   "metadata": {
    "id": "q4TdncF18g_d"
   },
   "source": [
    "### Removing Remaining Collinearity\n",
    "Refer to [Feature Collinearity - Material Characteristics](#feature-collinearity)"
   ]
  },
  {
   "cell_type": "code",
   "execution_count": 35,
   "metadata": {
    "id": "YoRARr9A8g_d"
   },
   "outputs": [],
   "source": [
    "model_factors= model_factors[model_factors['Factor'] != 'wtd_gmean_ThermalConductivity']\n",
    "model_factors= model_factors[model_factors['Factor'] != 'wtd_std_ThermalConductivity']\n",
    "model_factors= model_factors[model_factors['Factor'] != 'range_fie']"
   ]
  },
  {
   "cell_type": "markdown",
   "metadata": {
    "id": "UuRjMsjg8g_d"
   },
   "source": [
    "# Model Building & Evaluations <a id='model-building'/>"
   ]
  },
  {
   "cell_type": "markdown",
   "metadata": {
    "id": "UU9VF8AM8g_d"
   },
   "source": [
    "## Sampling Methodology <a id='sampling-methodology'/>"
   ]
  },
  {
   "cell_type": "markdown",
   "metadata": {},
   "source": [
    "Per the code above we used a 70/30 train test sample split with 5 fold internal cross validation for training, to tune alpha for feature selection in our final model"
   ]
  },
  {
   "cell_type": "markdown",
   "metadata": {
    "id": "BZ_WF5zG8g_d"
   },
   "source": [
    "\n",
    "## Ridge Model Built from Lasso Model Selection <a id='model'/>"
   ]
  },
  {
   "cell_type": "markdown",
   "metadata": {},
   "source": [
    "Describe model\n",
    "specifying the regularization type chosen and including the parameters utilized by the model"
   ]
  },
  {
   "cell_type": "code",
   "execution_count": 36,
   "metadata": {
    "id": "hDVXhO8F8g_d",
    "outputId": "0a8a6688-a723-4359-d64e-1d5c75322881",
    "scrolled": true
   },
   "outputs": [
    {
     "name": "stdout",
     "output_type": "stream",
     "text": [
      "Ridge Training RMSE = 18.55\n",
      "Ridge Training R-Sq = 0.709\n",
      "\n",
      "Ridge Test RMSE = 18.09\n",
      "Ridge Test R-Sq = 0.717\n"
     ]
    }
   ],
   "source": [
    "L2 = Ridge(alpha = .9)\n",
    "model_terms = list(model_factors['Factor'])\n",
    "L2.fit(X_train_scaled[model_terms], y_train)\n",
    "\n",
    "y_hat_train = L2.predict(X_train_scaled[model_terms])\n",
    "y_hat_train[y_hat_train<0]=0 # Replace\n",
    "RMSE = round(mse(y_train, y_hat_train, squared=False), 2)\n",
    "print( \"Ridge Training RMSE =\", round(RMSE,2) )\n",
    "Rsq = r2_score(y_train, y_hat_train)\n",
    "print( \"Ridge Training R-Sq =\", round(Rsq,3) )\n",
    "\n",
    "y_hat_test = L2.predict(X_test_scaled[model_terms])\n",
    "y_hat_test[y_hat_test<0]=0\n",
    "RMSE = round(mse(y_test, y_hat_test, squared=False), 2)\n",
    "print( \"\\nRidge Test RMSE =\", round(RMSE,2) )\n",
    "Rsq = r2_score(y_test, y_hat_test)\n",
    "print( \"Ridge Test R-Sq =\", round(Rsq,3) )\n",
    "\n",
    "model_coef1 = pd.DataFrame(zip(X[model_terms].columns, L2.coef_), columns=['Factor','Coef'])\n",
    "model_factors1 = model_coef1[model_coef1['Coef']!=0]"
   ]
  },
  {
   "cell_type": "code",
   "execution_count": 37,
   "metadata": {
    "id": "nGFRw4eH8g_e",
    "outputId": "9c7ce6a3-a855-4998-a4ca-1814b7d4991a"
   },
   "outputs": [
    {
     "name": "stdout",
     "output_type": "stream",
     "text": [
      "\n",
      "Kept Factors( 22 of 158 ):\n"
     ]
    },
    {
     "data": {
      "text/html": [
       "<div>\n",
       "<style scoped>\n",
       "    .dataframe tbody tr th:only-of-type {\n",
       "        vertical-align: middle;\n",
       "    }\n",
       "\n",
       "    .dataframe tbody tr th {\n",
       "        vertical-align: top;\n",
       "    }\n",
       "\n",
       "    .dataframe thead th {\n",
       "        text-align: right;\n",
       "    }\n",
       "</style>\n",
       "<table border=\"1\" class=\"dataframe\">\n",
       "  <thead>\n",
       "    <tr style=\"text-align: right;\">\n",
       "      <th></th>\n",
       "      <th>Factor</th>\n",
       "      <th>Coef</th>\n",
       "    </tr>\n",
       "  </thead>\n",
       "  <tbody>\n",
       "    <tr>\n",
       "      <th>21</th>\n",
       "      <td>wtd_std_Valence</td>\n",
       "      <td>-5.503262</td>\n",
       "    </tr>\n",
       "    <tr>\n",
       "      <th>0</th>\n",
       "      <td>Si</td>\n",
       "      <td>-4.148167</td>\n",
       "    </tr>\n",
       "    <tr>\n",
       "      <th>17</th>\n",
       "      <td>gmean_Density</td>\n",
       "      <td>-3.782411</td>\n",
       "    </tr>\n",
       "    <tr>\n",
       "      <th>18</th>\n",
       "      <td>wtd_gmean_ElectronAffinity</td>\n",
       "      <td>-3.090151</td>\n",
       "    </tr>\n",
       "    <tr>\n",
       "      <th>19</th>\n",
       "      <td>wtd_std_FusionHeat</td>\n",
       "      <td>-3.012947</td>\n",
       "    </tr>\n",
       "    <tr>\n",
       "      <th>3</th>\n",
       "      <td>As</td>\n",
       "      <td>-2.541149</td>\n",
       "    </tr>\n",
       "    <tr>\n",
       "      <th>8</th>\n",
       "      <td>Pr</td>\n",
       "      <td>-2.285263</td>\n",
       "    </tr>\n",
       "    <tr>\n",
       "      <th>7</th>\n",
       "      <td>Ce</td>\n",
       "      <td>-1.265167</td>\n",
       "    </tr>\n",
       "    <tr>\n",
       "      <th>2</th>\n",
       "      <td>Ge</td>\n",
       "      <td>-1.206696</td>\n",
       "    </tr>\n",
       "    <tr>\n",
       "      <th>9</th>\n",
       "      <td>Nd</td>\n",
       "      <td>-1.143237</td>\n",
       "    </tr>\n",
       "    <tr>\n",
       "      <th>5</th>\n",
       "      <td>Ag</td>\n",
       "      <td>-0.888208</td>\n",
       "    </tr>\n",
       "    <tr>\n",
       "      <th>14</th>\n",
       "      <td>range_atomic_mass</td>\n",
       "      <td>1.148657</td>\n",
       "    </tr>\n",
       "    <tr>\n",
       "      <th>11</th>\n",
       "      <td>Tl</td>\n",
       "      <td>1.354964</td>\n",
       "    </tr>\n",
       "    <tr>\n",
       "      <th>10</th>\n",
       "      <td>Hg</td>\n",
       "      <td>1.385003</td>\n",
       "    </tr>\n",
       "    <tr>\n",
       "      <th>15</th>\n",
       "      <td>mean_fie</td>\n",
       "      <td>1.487692</td>\n",
       "    </tr>\n",
       "    <tr>\n",
       "      <th>4</th>\n",
       "      <td>Sr</td>\n",
       "      <td>1.985897</td>\n",
       "    </tr>\n",
       "    <tr>\n",
       "      <th>12</th>\n",
       "      <td>Bi</td>\n",
       "      <td>3.758398</td>\n",
       "    </tr>\n",
       "    <tr>\n",
       "      <th>1</th>\n",
       "      <td>Ca</td>\n",
       "      <td>4.371822</td>\n",
       "    </tr>\n",
       "    <tr>\n",
       "      <th>16</th>\n",
       "      <td>range_atomic_radius</td>\n",
       "      <td>4.672135</td>\n",
       "    </tr>\n",
       "    <tr>\n",
       "      <th>20</th>\n",
       "      <td>wtd_mean_ThermalConductivity</td>\n",
       "      <td>5.230839</td>\n",
       "    </tr>\n",
       "    <tr>\n",
       "      <th>13</th>\n",
       "      <td>wtd_entropy_atomic_mass</td>\n",
       "      <td>6.835941</td>\n",
       "    </tr>\n",
       "    <tr>\n",
       "      <th>6</th>\n",
       "      <td>Ba</td>\n",
       "      <td>10.076936</td>\n",
       "    </tr>\n",
       "  </tbody>\n",
       "</table>\n",
       "</div>"
      ],
      "text/plain": [
       "                          Factor       Coef\n",
       "21               wtd_std_Valence  -5.503262\n",
       "0                             Si  -4.148167\n",
       "17                 gmean_Density  -3.782411\n",
       "18    wtd_gmean_ElectronAffinity  -3.090151\n",
       "19            wtd_std_FusionHeat  -3.012947\n",
       "3                             As  -2.541149\n",
       "8                             Pr  -2.285263\n",
       "7                             Ce  -1.265167\n",
       "2                             Ge  -1.206696\n",
       "9                             Nd  -1.143237\n",
       "5                             Ag  -0.888208\n",
       "14             range_atomic_mass   1.148657\n",
       "11                            Tl   1.354964\n",
       "10                            Hg   1.385003\n",
       "15                      mean_fie   1.487692\n",
       "4                             Sr   1.985897\n",
       "12                            Bi   3.758398\n",
       "1                             Ca   4.371822\n",
       "16           range_atomic_radius   4.672135\n",
       "20  wtd_mean_ThermalConductivity   5.230839\n",
       "13       wtd_entropy_atomic_mass   6.835941\n",
       "6                             Ba  10.076936"
      ]
     },
     "execution_count": 37,
     "metadata": {},
     "output_type": "execute_result"
    }
   ],
   "source": [
    "print(\"\\nKept Factors(\", model_factors1.shape[0], \"of\", X.shape[1],\"):\")\n",
    "model_coef1[model_coef1['Coef']!=0].sort_values(by=['Coef'])"
   ]
  },
  {
   "cell_type": "markdown",
   "metadata": {
    "id": "p-C7Tc5W8g_e"
   },
   "source": [
    "## Model's Performance Analysis <a id='performance-analysis'/>"
   ]
  },
  {
   "cell_type": "markdown",
   "metadata": {},
   "source": [
    "__72%__ of the variation can be explained by the features (R<sup>2</sup>). The model error (RMSE) was __18 degrees K__. The team observed a few outliers in the training set, however no outliers were identified in the test set. Team was not able to attribute these outliers to specific variables. \n",
    "\n",
    "At the beginning of the study the team built a baseline model with all __158 features__ using simple linear regression, this maximized performance, but minimized model interpretability and increased the complexity. Following are the outcomes of the baseline model: \n",
    "\n",
    "__LinReg Test RMSE = 16.26 <br>__\n",
    "__LinReg Test R-Sq = 0.771 <br>__\n",
    "\n",
    "\n",
    "After using LASSO feature selection and manual elimination of collinear features the final ridge model utilized only __22 features__ (9 material characteristics and 13 elements) which is and __86% reduction of features__, while only increasing the __RMSE by 1.8 degrees Kelvin__ and reducing the __R<sup>2</sup> by 6.5%__. Following are the outcomes for the final Ridge model:\n",
    "\n",
    "\n",
    "\n",
    "__Ridge Test RMSE = 18.09 <br>__\n",
    "__Ridge Test R-Sq = 0.717 <br>__"
   ]
  },
  {
   "cell_type": "markdown",
   "metadata": {},
   "source": [
    "#### Actual vs. Predicted "
   ]
  },
  {
   "cell_type": "code",
   "execution_count": 38,
   "metadata": {},
   "outputs": [
    {
     "data": {
      "image/png": "[encoded data removed]",
      "text/plain": [
       "<Figure size 432x288 with 1 Axes>"
      ]
     },
     "metadata": {
      "needs_background": "light"
     },
     "output_type": "display_data"
    }
   ],
   "source": [
    "sns.scatterplot(x = y_train, y = y_hat_train)\n",
    "sns.scatterplot(x = y_test, y = y_hat_test).set(title='Critical Temp - Pred vs. Actual')\n",
    "\n",
    "plt.legend(['Training', 'Test'])\n",
    "plt.xlabel('Actual Critical Temperature')\n",
    "plt.ylabel('Predicted Critical Temperature')\n",
    "plt.show()"
   ]
  },
  {
   "cell_type": "markdown",
   "metadata": {
    "id": "HISQa9FO8g_e"
   },
   "source": [
    "# Model Interpretability & Explainability <a id='model-explanation'>"
   ]
  },
  {
   "cell_type": "markdown",
   "metadata": {
    "id": "PSBc4ETe8g_e"
   },
   "source": [
    "## Examining Feature Importance <a id='examining-feature-importance'/>"
   ]
  },
  {
   "cell_type": "markdown",
   "metadata": {},
   "source": [
    "Given that our inputs were scaled, we derived the importance of each variable based on the magnitude of the feature coefficients in the model. Features with positive coefficients drive the critical temperature upwards, while features with negative coefficients drive the critical temperature downwards.\n",
    "\n",
    "Variables related to Atomic Mass, Thermal Conductivity and Atomic Radius have a high positive influence on critical temperature (show positive correlation) of superconductors to achieve superconductivity. Also, the presence of Barium (Ba), Calcium (Ca) and Bismuth (Bi) helps increase the critical temperature. All these variables have the highest scaled coefficients in our model. \n",
    "\n",
    "Variables related to Valence, Density, Electron Affinity, and Fusion Heat have a high negative influence on critical temperatures. Additionally the presence of Silicon (Si), Arsenic (As), Praseodymium (Pr) decrease the critical temperature."
   ]
  },
  {
   "cell_type": "code",
   "execution_count": 39,
   "metadata": {
    "id": "LLbI9bVy8g_e",
    "outputId": "765d4a45-d002-4e5d-db2c-a036833c27cb"
   },
   "outputs": [
    {
     "data": {
      "text/html": [
       "<div>\n",
       "<style scoped>\n",
       "    .dataframe tbody tr th:only-of-type {\n",
       "        vertical-align: middle;\n",
       "    }\n",
       "\n",
       "    .dataframe tbody tr th {\n",
       "        vertical-align: top;\n",
       "    }\n",
       "\n",
       "    .dataframe thead th {\n",
       "        text-align: right;\n",
       "    }\n",
       "</style>\n",
       "<table border=\"1\" class=\"dataframe\">\n",
       "  <thead>\n",
       "    <tr style=\"text-align: right;\">\n",
       "      <th></th>\n",
       "      <th>Factor</th>\n",
       "      <th>Coef</th>\n",
       "    </tr>\n",
       "  </thead>\n",
       "  <tbody>\n",
       "    <tr>\n",
       "      <th>21</th>\n",
       "      <td>wtd_std_Valence</td>\n",
       "      <td>-5.503262</td>\n",
       "    </tr>\n",
       "    <tr>\n",
       "      <th>0</th>\n",
       "      <td>Si</td>\n",
       "      <td>-4.148167</td>\n",
       "    </tr>\n",
       "    <tr>\n",
       "      <th>17</th>\n",
       "      <td>gmean_Density</td>\n",
       "      <td>-3.782411</td>\n",
       "    </tr>\n",
       "    <tr>\n",
       "      <th>18</th>\n",
       "      <td>wtd_gmean_ElectronAffinity</td>\n",
       "      <td>-3.090151</td>\n",
       "    </tr>\n",
       "    <tr>\n",
       "      <th>19</th>\n",
       "      <td>wtd_std_FusionHeat</td>\n",
       "      <td>-3.012947</td>\n",
       "    </tr>\n",
       "    <tr>\n",
       "      <th>3</th>\n",
       "      <td>As</td>\n",
       "      <td>-2.541149</td>\n",
       "    </tr>\n",
       "    <tr>\n",
       "      <th>8</th>\n",
       "      <td>Pr</td>\n",
       "      <td>-2.285263</td>\n",
       "    </tr>\n",
       "    <tr>\n",
       "      <th>7</th>\n",
       "      <td>Ce</td>\n",
       "      <td>-1.265167</td>\n",
       "    </tr>\n",
       "    <tr>\n",
       "      <th>2</th>\n",
       "      <td>Ge</td>\n",
       "      <td>-1.206696</td>\n",
       "    </tr>\n",
       "    <tr>\n",
       "      <th>9</th>\n",
       "      <td>Nd</td>\n",
       "      <td>-1.143237</td>\n",
       "    </tr>\n",
       "    <tr>\n",
       "      <th>5</th>\n",
       "      <td>Ag</td>\n",
       "      <td>-0.888208</td>\n",
       "    </tr>\n",
       "    <tr>\n",
       "      <th>14</th>\n",
       "      <td>range_atomic_mass</td>\n",
       "      <td>1.148657</td>\n",
       "    </tr>\n",
       "    <tr>\n",
       "      <th>11</th>\n",
       "      <td>Tl</td>\n",
       "      <td>1.354964</td>\n",
       "    </tr>\n",
       "    <tr>\n",
       "      <th>10</th>\n",
       "      <td>Hg</td>\n",
       "      <td>1.385003</td>\n",
       "    </tr>\n",
       "    <tr>\n",
       "      <th>15</th>\n",
       "      <td>mean_fie</td>\n",
       "      <td>1.487692</td>\n",
       "    </tr>\n",
       "    <tr>\n",
       "      <th>4</th>\n",
       "      <td>Sr</td>\n",
       "      <td>1.985897</td>\n",
       "    </tr>\n",
       "    <tr>\n",
       "      <th>12</th>\n",
       "      <td>Bi</td>\n",
       "      <td>3.758398</td>\n",
       "    </tr>\n",
       "    <tr>\n",
       "      <th>1</th>\n",
       "      <td>Ca</td>\n",
       "      <td>4.371822</td>\n",
       "    </tr>\n",
       "    <tr>\n",
       "      <th>16</th>\n",
       "      <td>range_atomic_radius</td>\n",
       "      <td>4.672135</td>\n",
       "    </tr>\n",
       "    <tr>\n",
       "      <th>20</th>\n",
       "      <td>wtd_mean_ThermalConductivity</td>\n",
       "      <td>5.230839</td>\n",
       "    </tr>\n",
       "    <tr>\n",
       "      <th>13</th>\n",
       "      <td>wtd_entropy_atomic_mass</td>\n",
       "      <td>6.835941</td>\n",
       "    </tr>\n",
       "    <tr>\n",
       "      <th>6</th>\n",
       "      <td>Ba</td>\n",
       "      <td>10.076936</td>\n",
       "    </tr>\n",
       "  </tbody>\n",
       "</table>\n",
       "</div>"
      ],
      "text/plain": [
       "                          Factor       Coef\n",
       "21               wtd_std_Valence  -5.503262\n",
       "0                             Si  -4.148167\n",
       "17                 gmean_Density  -3.782411\n",
       "18    wtd_gmean_ElectronAffinity  -3.090151\n",
       "19            wtd_std_FusionHeat  -3.012947\n",
       "3                             As  -2.541149\n",
       "8                             Pr  -2.285263\n",
       "7                             Ce  -1.265167\n",
       "2                             Ge  -1.206696\n",
       "9                             Nd  -1.143237\n",
       "5                             Ag  -0.888208\n",
       "14             range_atomic_mass   1.148657\n",
       "11                            Tl   1.354964\n",
       "10                            Hg   1.385003\n",
       "15                      mean_fie   1.487692\n",
       "4                             Sr   1.985897\n",
       "12                            Bi   3.758398\n",
       "1                             Ca   4.371822\n",
       "16           range_atomic_radius   4.672135\n",
       "20  wtd_mean_ThermalConductivity   5.230839\n",
       "13       wtd_entropy_atomic_mass   6.835941\n",
       "6                             Ba  10.076936"
      ]
     },
     "execution_count": 39,
     "metadata": {},
     "output_type": "execute_result"
    }
   ],
   "source": [
    "model_coef1.sort_values(by=['Coef'])"
   ]
  },
  {
   "cell_type": "markdown",
   "metadata": {
    "id": "JbAhMB1x8g_e"
   },
   "source": [
    "# Conclusion <a id='conclusion'>"
   ]
  },
  {
   "cell_type": "markdown",
   "metadata": {
    "id": "xnsadV7M8g_e"
   },
   "source": [
    "### Final Model Proposal <a id='final-model-proposal'/>"
   ]
  },
  {
   "cell_type": "markdown",
   "metadata": {},
   "source": [
    "We're proposing a linear regression model (with LASSO and Ridge algorithms) to reduce the number of features and prevent overfitting, that predicts the critical temperatures using 9 material characteristics and 13 elements out of the 158 total features (81 materical characteristics and 77 elements) provided. Our model achieved and R<sup>2</sup> of 0.72 and an RMSE of 18 degrees K. One of our primary goals was to achieve high model interpretability and reduce the model complexity while at the same time minimizing impact on model performance. "
   ]
  },
  {
   "cell_type": "markdown",
   "metadata": {},
   "source": [
    "### Future Considerations and Model Enhancements <a id='model-enhancements'/>"
   ]
  },
  {
   "cell_type": "markdown",
   "metadata": {},
   "source": [
    "Attempt to build two separate models for low and high temperature superconductors. We noticed that our observations might come from two separate populations since distribution appears to be bimodal. This in turn could reduce the RMSE of each model."
   ]
  },
  {
   "cell_type": "markdown",
   "metadata": {},
   "source": [
    "### Alternative Modeling Approaches <a id='alternative-modeling-approaches'>"
   ]
  },
  {
   "cell_type": "markdown",
   "metadata": {},
   "source": [
    "The team also recommends exploring nonlinear modeling (e.g. boosted trees, random forest) to better handle skewness and outliers in the data. "
   ]
  }
 ],
 "metadata": {
  "colab": {
   "name": "Case_Study_1.ipynb",
   "provenance": []
  },
  "kernelspec": {
   "display_name": "Python 3",
   "language": "python",
   "name": "python3"
  },
  "language_info": {
   "codemirror_mode": {
    "name": "ipython",
    "version": 3
   },
   "file_extension": ".py",
   "mimetype": "text/x-python",
   "name": "python",
   "nbconvert_exporter": "python",
   "pygments_lexer": "ipython3",
   "version": "3.8.5"
  }
 },
 "nbformat": 4,
 "nbformat_minor": 1
}
